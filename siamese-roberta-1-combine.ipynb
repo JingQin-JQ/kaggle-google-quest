{
 "cells": [
  {
   "cell_type": "markdown",
   "metadata": {},
   "source": [
    "## Importing libraries"
   ]
  },
  {
   "cell_type": "code",
   "execution_count": 1,
   "metadata": {
    "_kg_hide-input": true
   },
   "outputs": [],
   "source": [
    "import numpy as np\n",
    "import pandas as pd\n",
    "import matplotlib.pyplot as plt\n",
    "import seaborn as sns\n",
    "import time\n",
    "import datetime\n",
    "import re\n",
    "import gc\n",
    "import copy\n",
    "\n",
    "from scipy.stats import spearmanr\n",
    "from sklearn.model_selection import GroupKFold\n",
    "from sklearn.preprocessing import OneHotEncoder, MinMaxScaler\n",
    "\n",
    "import torch\n",
    "import torch.nn as nn\n",
    "import torch.optim as optim\n",
    "import torch.nn.functional as F\n",
    "from torch.utils.data import DataLoader\n",
    "\n",
    "from tqdm import tqdm_notebook as tqdm\n",
    "from transformers import RobertaTokenizer\n",
    "import transformers\n",
    "\n",
    "from radam import RAdam\n",
    "from text_data import TextDataset5 as TextDataset\n",
    "from roberta import CustomRoberta\n",
    "from create_features import get_categorical_features\n",
    "from losses_metrics import spearmanr_torch, spearmanr_np, optimize_rounding_params, get_cvs, spearmanr\n",
    "from inference import infer\n",
    "from common import *\n",
    "from utils.helpers import init_logger, init_seed\n",
    "from utils.torch import to_cpu\n",
    "\n",
    "%matplotlib inline\n",
    "pd.set_option('max_colwidth',400)"
   ]
  },
  {
   "cell_type": "markdown",
   "metadata": {},
   "source": [
    "## Loading and preparing data"
   ]
  },
  {
   "cell_type": "code",
   "execution_count": 2,
   "metadata": {
    "_cell_guid": "b1076dfc-b9ad-4769-8c92-a6c4dae69d19",
    "_uuid": "8f2839f25d086af736a60e9eeb907d3b93b6e0e5"
   },
   "outputs": [],
   "source": [
    "pd.set_option('max_rows', 500)\n",
    "pd.set_option('max_columns', 500)\n",
    "path = 'data/'\n",
    "sample_submission = pd.read_csv(f'{path}sample_submission.csv')\n",
    "test = pd.read_csv(f'{path}test.csv').fillna(' ')\n",
    "train = pd.read_csv(f'{path}train.csv').fillna(' ')"
   ]
  },
  {
   "cell_type": "code",
   "execution_count": 3,
   "metadata": {},
   "outputs": [
    {
     "name": "stderr",
     "output_type": "stream",
     "text": [
      "/home/robin/anaconda3/envs/GoogleQuest/lib/python3.7/site-packages/ipykernel_launcher.py:9: TqdmDeprecationWarning: This function will be removed in tqdm==5.0.0\n",
      "Please use `tqdm.notebook.tqdm` instead of `tqdm.tqdm_notebook`\n",
      "  if __name__ == '__main__':\n"
     ]
    },
    {
     "data": {
      "application/vnd.jupyter.widget-view+json": {
       "model_id": "af670bbf9fe44c578d9d789b949c895d",
       "version_major": 2,
       "version_minor": 0
      },
      "text/plain": [
       "HBox(children=(IntProgress(value=0, max=6079), HTML(value='')))"
      ]
     },
     "metadata": {},
     "output_type": "display_data"
    },
    {
     "name": "stdout",
     "output_type": "stream",
     "text": [
      "\n"
     ]
    },
    {
     "data": {
      "application/vnd.jupyter.widget-view+json": {
       "model_id": "d1013fc1c30a476b9fb093b92df73797",
       "version_major": 2,
       "version_minor": 0
      },
      "text/plain": [
       "HBox(children=(IntProgress(value=0, max=6079), HTML(value='')))"
      ]
     },
     "metadata": {},
     "output_type": "display_data"
    },
    {
     "name": "stdout",
     "output_type": "stream",
     "text": [
      "\n"
     ]
    },
    {
     "data": {
      "application/vnd.jupyter.widget-view+json": {
       "model_id": "dc30704347254175baec42b35754f118",
       "version_major": 2,
       "version_minor": 0
      },
      "text/plain": [
       "HBox(children=(IntProgress(value=0, max=476), HTML(value='')))"
      ]
     },
     "metadata": {},
     "output_type": "display_data"
    },
    {
     "name": "stdout",
     "output_type": "stream",
     "text": [
      "\n"
     ]
    },
    {
     "data": {
      "application/vnd.jupyter.widget-view+json": {
       "model_id": "d9c7651448e64637b55b0863320fc40f",
       "version_major": 2,
       "version_minor": 0
      },
      "text/plain": [
       "HBox(children=(IntProgress(value=0, max=476), HTML(value='')))"
      ]
     },
     "metadata": {},
     "output_type": "display_data"
    },
    {
     "name": "stdout",
     "output_type": "stream",
     "text": [
      "\n",
      "CPU times: user 14.5 s, sys: 127 ms, total: 14.6 s\n",
      "Wall time: 15.8 s\n"
     ]
    }
   ],
   "source": [
    "%%time\n",
    "tokenizer = RobertaTokenizer.from_pretrained('roberta-base')\n",
    "seg_ids_train, ids_train = {}, {}\n",
    "seg_ids_test, ids_test = {}, {}\n",
    "max_seq_len = 512\n",
    "for mode, df in [('train', train), ('test', test)]:\n",
    "    for text, cols in [('question', ['question_title', 'question_body']), \n",
    "                       ('answer', ['question_title', 'answer'])]:\n",
    "        ids, seg_ids = [], []\n",
    "        for x1, x2 in tqdm(df[cols].values):\n",
    "            encoded_inputs = tokenizer.encode_plus(\n",
    "                x1, x2, add_special_tokens=True, max_length=max_seq_len, pad_to_max_length=True, \n",
    "                return_token_type_ids=True\n",
    "            )\n",
    "            ids.append(encoded_inputs['input_ids'])\n",
    "            seg_ids.append(encoded_inputs['token_type_ids'])\n",
    "        if mode == 'train': \n",
    "            ids_train[text] = np.array(ids)\n",
    "            seg_ids_train[text] = np.array(seg_ids)\n",
    "        else: \n",
    "            ids_test[text] = np.array(ids)\n",
    "            seg_ids_test[text] = np.array(seg_ids)"
   ]
  },
  {
   "cell_type": "code",
   "execution_count": 4,
   "metadata": {
    "code_folding": []
   },
   "outputs": [],
   "source": [
    "train_category, test_category, category_dict, category_dict_reverse = \\\n",
    "    get_categorical_features(train, test, 'category')"
   ]
  },
  {
   "cell_type": "code",
   "execution_count": 5,
   "metadata": {},
   "outputs": [
    {
     "name": "stderr",
     "output_type": "stream",
     "text": [
      "/home/robin/anaconda3/envs/GoogleQuest/lib/python3.7/site-packages/sklearn/preprocessing/_encoders.py:415: FutureWarning: The handling of integer data will change in version 0.22. Currently, the categories are determined based on the range [0, max(values)], while in the future they will be determined based on the unique values.\n",
      "If you want the future behaviour and silence this warning, you can specify \"categories='auto'\".\n",
      "In case you used a LabelEncoder before this OneHotEncoder to convert the categories to integers, then you can now use the OneHotEncoder directly.\n",
      "  warnings.warn(msg, FutureWarning)\n"
     ]
    }
   ],
   "source": [
    "cat_features_train = train_category.reshape(-1, 1)\n",
    "cat_features_test = test_category.reshape(-1, 1)\n",
    "ohe = OneHotEncoder()\n",
    "ohe.fit(cat_features_train)\n",
    "cat_features_train = ohe.transform(cat_features_train).toarray()\n",
    "cat_features_test = ohe.transform(cat_features_test).toarray()"
   ]
  },
  {
   "cell_type": "code",
   "execution_count": 6,
   "metadata": {},
   "outputs": [],
   "source": [
    "for col in TARGETS:\n",
    "    train[col] = train[col].rank(method=\"average\")\n",
    "train[TARGETS] = MinMaxScaler().fit_transform(train[TARGETS])\n",
    "y = train[TARGETS].values.astype(np.float32)\n",
    "ix = np.where(train.groupby(\"question_body\")[\"host\"].transform(\"count\") == 1)[0]"
   ]
  },
  {
   "cell_type": "code",
   "execution_count": 7,
   "metadata": {},
   "outputs": [],
   "source": [
    "num_workers = 10\n",
    "bs = 2"
   ]
  },
  {
   "cell_type": "markdown",
   "metadata": {},
   "source": [
    "## Training model"
   ]
  },
  {
   "cell_type": "code",
   "execution_count": 8,
   "metadata": {},
   "outputs": [],
   "source": [
    "device = 'cuda'\n",
    "pretrained_model = 'siamese_roberta_1'\n",
    "head_model_name = 'siamese_roberta_1_head'\n",
    "model_name = 'siamese_roberta_1_comb'\n",
    "checkpoint_dir = 'checkpoints/'\n",
    "early_stopping = None\n",
    "n_folds = 10"
   ]
  },
  {
   "cell_type": "code",
   "execution_count": 9,
   "metadata": {},
   "outputs": [],
   "source": [
    "def load_model(checkpoint_file, model):\n",
    "    checkpoint = torch.load(checkpoint_file)\n",
    "    model.load_state_dict(checkpoint['model_state_dict'])\n",
    "    \n",
    "def get_pretrained_model(fold_id):\n",
    "    checkpoint_file = f'{checkpoint_dir}{pretrained_model}_fold_{fold_id+1}_best.pth'\n",
    "    model = CustomRoberta(256, cat_features_train.shape[1])\n",
    "    load_model(checkpoint_file, model)\n",
    "    return model\n",
    "\n",
    "def load_head(model, fold_id):\n",
    "    checkpoint_file = f'{checkpoint_dir}{head_model_name}_fold_{fold_id+1}_best.pth'\n",
    "    load_model(checkpoint_file, model.head)\n",
    "\n",
    "def save_model(model):\n",
    "    checkpoint_file = f'{checkpoint_dir}{model_name}_fold_{fold_id+1}_best.pth'\n",
    "    torch.save({'model_state_dict': model.state_dict()}, checkpoint_file)\n",
    "    \n",
    "def load_saved_model(model):\n",
    "    checkpoint_file = f'{checkpoint_dir}{model_name}_fold_{fold_id+1}_best.pth'\n",
    "    load_model(checkpoint_file, model)"
   ]
  },
  {
   "cell_type": "code",
   "execution_count": 10,
   "metadata": {
    "scrolled": true
   },
   "outputs": [
    {
     "name": "stdout",
     "output_type": "stream",
     "text": [
      "Fold 1 started at Thu Jan 30 21:13:13 2020\n"
     ]
    },
    {
     "data": {
      "application/vnd.jupyter.widget-view+json": {
       "model_id": "2dd1d2fe125d417a910193b7cdd7ecec",
       "version_major": 2,
       "version_minor": 0
      },
      "text/plain": [
       "HBox(children=(IntProgress(value=0, max=304), HTML(value='')))"
      ]
     },
     "metadata": {},
     "output_type": "display_data"
    },
    {
     "name": "stdout",
     "output_type": "stream",
     "text": [
      "\n",
      "Averaged Val. score: 0.42727623694694766\n",
      "Fold 2 started at Thu Jan 30 21:13:42 2020\n"
     ]
    },
    {
     "name": "stderr",
     "output_type": "stream",
     "text": [
      "/home/robin/anaconda3/envs/GoogleQuest/lib/python3.7/site-packages/numpy/lib/function_base.py:2534: RuntimeWarning: invalid value encountered in true_divide\n",
      "  c /= stddev[:, None]\n",
      "/home/robin/anaconda3/envs/GoogleQuest/lib/python3.7/site-packages/numpy/lib/function_base.py:2535: RuntimeWarning: invalid value encountered in true_divide\n",
      "  c /= stddev[None, :]\n",
      "/home/robin/anaconda3/envs/GoogleQuest/lib/python3.7/site-packages/scipy/stats/_distn_infrastructure.py:901: RuntimeWarning: invalid value encountered in greater\n",
      "  return (a < x) & (x < b)\n",
      "/home/robin/anaconda3/envs/GoogleQuest/lib/python3.7/site-packages/scipy/stats/_distn_infrastructure.py:901: RuntimeWarning: invalid value encountered in less\n",
      "  return (a < x) & (x < b)\n",
      "/home/robin/anaconda3/envs/GoogleQuest/lib/python3.7/site-packages/scipy/stats/_distn_infrastructure.py:1892: RuntimeWarning: invalid value encountered in less_equal\n",
      "  cond2 = cond0 & (x <= _a)\n"
     ]
    },
    {
     "data": {
      "application/vnd.jupyter.widget-view+json": {
       "model_id": "487796f016b843e586d26191bca28e16",
       "version_major": 2,
       "version_minor": 0
      },
      "text/plain": [
       "HBox(children=(IntProgress(value=0, max=304), HTML(value='')))"
      ]
     },
     "metadata": {},
     "output_type": "display_data"
    },
    {
     "name": "stdout",
     "output_type": "stream",
     "text": [
      "\n",
      "Averaged Val. score: 0.42746514560606697\n",
      "Fold 3 started at Thu Jan 30 21:14:08 2020\n"
     ]
    },
    {
     "data": {
      "application/vnd.jupyter.widget-view+json": {
       "model_id": "fb384327e7764c1495530201e282f9d0",
       "version_major": 2,
       "version_minor": 0
      },
      "text/plain": [
       "HBox(children=(IntProgress(value=0, max=304), HTML(value='')))"
      ]
     },
     "metadata": {},
     "output_type": "display_data"
    },
    {
     "name": "stdout",
     "output_type": "stream",
     "text": [
      "\n",
      "Averaged Val. score: 0.41163948078045565\n",
      "Fold 4 started at Thu Jan 30 21:14:33 2020\n"
     ]
    },
    {
     "data": {
      "application/vnd.jupyter.widget-view+json": {
       "model_id": "a802835940a44777be9d1f86949a008e",
       "version_major": 2,
       "version_minor": 0
      },
      "text/plain": [
       "HBox(children=(IntProgress(value=0, max=304), HTML(value='')))"
      ]
     },
     "metadata": {},
     "output_type": "display_data"
    },
    {
     "name": "stdout",
     "output_type": "stream",
     "text": [
      "\n",
      "Averaged Val. score: 0.39742324229031717\n",
      "Fold 5 started at Thu Jan 30 21:14:59 2020\n"
     ]
    },
    {
     "data": {
      "application/vnd.jupyter.widget-view+json": {
       "model_id": "7cd818ca1e444462ad3a6801d816290b",
       "version_major": 2,
       "version_minor": 0
      },
      "text/plain": [
       "HBox(children=(IntProgress(value=0, max=304), HTML(value='')))"
      ]
     },
     "metadata": {},
     "output_type": "display_data"
    },
    {
     "name": "stdout",
     "output_type": "stream",
     "text": [
      "\n",
      "Averaged Val. score: 0.4110392803525844\n",
      "Fold 6 started at Thu Jan 30 21:15:24 2020\n"
     ]
    },
    {
     "data": {
      "application/vnd.jupyter.widget-view+json": {
       "model_id": "305a47969e9e45a2b8a7fa3d7deb5add",
       "version_major": 2,
       "version_minor": 0
      },
      "text/plain": [
       "HBox(children=(IntProgress(value=0, max=304), HTML(value='')))"
      ]
     },
     "metadata": {},
     "output_type": "display_data"
    },
    {
     "name": "stdout",
     "output_type": "stream",
     "text": [
      "\n",
      "Averaged Val. score: 0.40412393844583305\n",
      "Fold 7 started at Thu Jan 30 21:15:49 2020\n"
     ]
    },
    {
     "data": {
      "application/vnd.jupyter.widget-view+json": {
       "model_id": "12799550d26948bd84be79dc5ae37bac",
       "version_major": 2,
       "version_minor": 0
      },
      "text/plain": [
       "HBox(children=(IntProgress(value=0, max=304), HTML(value='')))"
      ]
     },
     "metadata": {},
     "output_type": "display_data"
    },
    {
     "name": "stdout",
     "output_type": "stream",
     "text": [
      "\n",
      "Averaged Val. score: 0.41927201531044417\n",
      "Fold 8 started at Thu Jan 30 21:16:15 2020\n"
     ]
    },
    {
     "data": {
      "application/vnd.jupyter.widget-view+json": {
       "model_id": "8abb1c2b12794442a0bfa9ef37babe75",
       "version_major": 2,
       "version_minor": 0
      },
      "text/plain": [
       "HBox(children=(IntProgress(value=0, max=304), HTML(value='')))"
      ]
     },
     "metadata": {},
     "output_type": "display_data"
    },
    {
     "name": "stdout",
     "output_type": "stream",
     "text": [
      "\n",
      "Averaged Val. score: 0.4256440835192075\n",
      "Fold 9 started at Thu Jan 30 21:16:41 2020\n"
     ]
    },
    {
     "data": {
      "application/vnd.jupyter.widget-view+json": {
       "model_id": "0699e842cfb74ef2a08f6f72812afc9c",
       "version_major": 2,
       "version_minor": 0
      },
      "text/plain": [
       "HBox(children=(IntProgress(value=0, max=304), HTML(value='')))"
      ]
     },
     "metadata": {},
     "output_type": "display_data"
    },
    {
     "name": "stdout",
     "output_type": "stream",
     "text": [
      "\n",
      "Averaged Val. score: 0.41422497989107465\n",
      "Fold 10 started at Thu Jan 30 21:17:06 2020\n"
     ]
    },
    {
     "data": {
      "application/vnd.jupyter.widget-view+json": {
       "model_id": "5bb64cb4eaa4418e8f65d124af277248",
       "version_major": 2,
       "version_minor": 0
      },
      "text/plain": [
       "HBox(children=(IntProgress(value=0, max=304), HTML(value='')))"
      ]
     },
     "metadata": {},
     "output_type": "display_data"
    },
    {
     "name": "stdout",
     "output_type": "stream",
     "text": [
      "\n",
      "Averaged Val. score: 0.419771975026055\n",
      "OOF score: 0.41624915501915255\n"
     ]
    }
   ],
   "source": [
    "init_seed()\n",
    "folds = GroupKFold(n_splits=n_folds).split(X=train['question_body'], groups=train['question_body'])\n",
    "oofs = np.zeros((len(train), N_TARGETS))\n",
    "\n",
    "for fold_id, (train_index, valid_index) in enumerate(folds):\n",
    "    print(f'Fold {fold_id + 1} started at {time.ctime()}')\n",
    "    train_loader = DataLoader(\n",
    "        TextDataset(cat_features_train, ids_train['question'], ids_train['answer'],\n",
    "                    seg_ids_train['question'], seg_ids_train['answer'], train_index, targets=y), \n",
    "        batch_size=bs, shuffle=True, num_workers=num_workers, drop_last=False\n",
    "    )\n",
    "    valid_loader = DataLoader(\n",
    "        TextDataset(cat_features_train, ids_train['question'], ids_train['answer'],\n",
    "                    seg_ids_train['question'], seg_ids_train['answer'], valid_index, targets=y), \n",
    "        batch_size=bs, shuffle=False, num_workers=num_workers, drop_last=False\n",
    "    )\n",
    "    \n",
    "    model = get_pretrained_model(fold_id)\n",
    "    load_head(model, fold_id)\n",
    "    model.half()\n",
    "    save_model(model)\n",
    "    load_saved_model(model)\n",
    "    model.float()\n",
    "    \n",
    "    oofs[valid_index] = infer(model, valid_loader, None, device)\n",
    "    print(f'Averaged Val. score: {spearmanr_np(oofs[valid_index], y[valid_index])}')\n",
    "    \n",
    "    del model, train_loader, valid_loader\n",
    "    gc.collect()\n",
    "    \n",
    "print(f'OOF score: {spearmanr_np(oofs, y)}')"
   ]
  },
  {
   "cell_type": "code",
   "execution_count": 11,
   "metadata": {
    "scrolled": true
   },
   "outputs": [
    {
     "name": "stdout",
     "output_type": "stream",
     "text": [
      "2 4 0.48861926095192987\n",
      "5 4 0.46417589097952994\n",
      "9 32 0.1500413103223938\n",
      "11 4 0.7521815315583723\n",
      "12 4 0.5525372763492811\n",
      "13 4 0.3019142897107814\n",
      "14 4 0.6525019604159012\n",
      "15 4 0.5902125171450449\n",
      "16 16 0.7840347752112136\n",
      "19 64 0.1700857058996728\n"
     ]
    }
   ],
   "source": [
    "opt_ds, opt_indices = optimize_rounding_params(oofs, y)"
   ]
  },
  {
   "cell_type": "code",
   "execution_count": 12,
   "metadata": {},
   "outputs": [
    {
     "data": {
      "text/plain": [
       "(array([ 4,  4, 32,  4,  4,  4,  4,  4, 16, 64]),\n",
       " array([ 2,  5,  9, 11, 12, 13, 14, 15, 16, 19]))"
      ]
     },
     "execution_count": 12,
     "metadata": {},
     "output_type": "execute_result"
    }
   ],
   "source": [
    "np.array(opt_ds), np.array(opt_indices)"
   ]
  },
  {
   "cell_type": "code",
   "execution_count": 13,
   "metadata": {
    "scrolled": false
   },
   "outputs": [],
   "source": [
    "oofs_alt = oofs.copy()\n",
    "train[\"eng\"] = train[\"url\"].apply(lambda x: x.startswith(\"http://english.\") or x.startswith(\"http://ell.\"))\n",
    "oofs_alt[np.where((~train[\"eng\"]).values)[0], 19] = 0"
   ]
  },
  {
   "cell_type": "code",
   "execution_count": 14,
   "metadata": {
    "scrolled": false
   },
   "outputs": [
    {
     "data": {
      "text/html": [
       "<div>\n",
       "<style scoped>\n",
       "    .dataframe tbody tr th:only-of-type {\n",
       "        vertical-align: middle;\n",
       "    }\n",
       "\n",
       "    .dataframe tbody tr th {\n",
       "        vertical-align: top;\n",
       "    }\n",
       "\n",
       "    .dataframe thead th {\n",
       "        text-align: right;\n",
       "    }\n",
       "</style>\n",
       "<table border=\"1\" class=\"dataframe\">\n",
       "  <thead>\n",
       "    <tr style=\"text-align: right;\">\n",
       "      <th></th>\n",
       "      <th>SpearmanR</th>\n",
       "    </tr>\n",
       "  </thead>\n",
       "  <tbody>\n",
       "    <tr>\n",
       "      <th>CV</th>\n",
       "      <td>0.416249</td>\n",
       "    </tr>\n",
       "    <tr>\n",
       "      <th>CV unique rows</th>\n",
       "      <td>0.382360</td>\n",
       "    </tr>\n",
       "    <tr>\n",
       "      <th>CV ignoring hard targets</th>\n",
       "      <td>0.440614</td>\n",
       "    </tr>\n",
       "    <tr>\n",
       "      <th>CV unique rows ignoring hard targets</th>\n",
       "      <td>0.404309</td>\n",
       "    </tr>\n",
       "    <tr>\n",
       "      <th>CV w rounding</th>\n",
       "      <td>0.449898</td>\n",
       "    </tr>\n",
       "    <tr>\n",
       "      <th>CV unique rows w rounding</th>\n",
       "      <td>0.428115</td>\n",
       "    </tr>\n",
       "    <tr>\n",
       "      <th>CV ignoring hard targets w rounding</th>\n",
       "      <td>0.470601</td>\n",
       "    </tr>\n",
       "    <tr>\n",
       "      <th>CV unique rows ignoring hard targets w rounding</th>\n",
       "      <td>0.443194</td>\n",
       "    </tr>\n",
       "  </tbody>\n",
       "</table>\n",
       "</div>"
      ],
      "text/plain": [
       "                                                 SpearmanR\n",
       "CV                                                0.416249\n",
       "CV unique rows                                    0.382360\n",
       "CV ignoring hard targets                          0.440614\n",
       "CV unique rows ignoring hard targets              0.404309\n",
       "CV w rounding                                     0.449898\n",
       "CV unique rows w rounding                         0.428115\n",
       "CV ignoring hard targets w rounding               0.470601\n",
       "CV unique rows ignoring hard targets w rounding   0.443194"
      ]
     },
     "execution_count": 14,
     "metadata": {},
     "output_type": "execute_result"
    }
   ],
   "source": [
    "get_cvs(oofs, y, ix)"
   ]
  },
  {
   "cell_type": "code",
   "execution_count": 15,
   "metadata": {
    "scrolled": false
   },
   "outputs": [
    {
     "data": {
      "text/html": [
       "<div>\n",
       "<style scoped>\n",
       "    .dataframe tbody tr th:only-of-type {\n",
       "        vertical-align: middle;\n",
       "    }\n",
       "\n",
       "    .dataframe tbody tr th {\n",
       "        vertical-align: top;\n",
       "    }\n",
       "\n",
       "    .dataframe thead th {\n",
       "        text-align: right;\n",
       "    }\n",
       "</style>\n",
       "<table border=\"1\" class=\"dataframe\">\n",
       "  <thead>\n",
       "    <tr style=\"text-align: right;\">\n",
       "      <th></th>\n",
       "      <th>SpearmanR</th>\n",
       "    </tr>\n",
       "  </thead>\n",
       "  <tbody>\n",
       "    <tr>\n",
       "      <th>CV</th>\n",
       "      <td>0.420268</td>\n",
       "    </tr>\n",
       "    <tr>\n",
       "      <th>CV unique rows</th>\n",
       "      <td>0.386439</td>\n",
       "    </tr>\n",
       "    <tr>\n",
       "      <th>CV ignoring hard targets</th>\n",
       "      <td>0.440614</td>\n",
       "    </tr>\n",
       "    <tr>\n",
       "      <th>CV unique rows ignoring hard targets</th>\n",
       "      <td>0.404309</td>\n",
       "    </tr>\n",
       "    <tr>\n",
       "      <th>CV w rounding</th>\n",
       "      <td>0.450423</td>\n",
       "    </tr>\n",
       "    <tr>\n",
       "      <th>CV unique rows w rounding</th>\n",
       "      <td>0.428115</td>\n",
       "    </tr>\n",
       "    <tr>\n",
       "      <th>CV ignoring hard targets w rounding</th>\n",
       "      <td>0.470601</td>\n",
       "    </tr>\n",
       "    <tr>\n",
       "      <th>CV unique rows ignoring hard targets w rounding</th>\n",
       "      <td>0.443194</td>\n",
       "    </tr>\n",
       "  </tbody>\n",
       "</table>\n",
       "</div>"
      ],
      "text/plain": [
       "                                                 SpearmanR\n",
       "CV                                                0.420268\n",
       "CV unique rows                                    0.386439\n",
       "CV ignoring hard targets                          0.440614\n",
       "CV unique rows ignoring hard targets              0.404309\n",
       "CV w rounding                                     0.450423\n",
       "CV unique rows w rounding                         0.428115\n",
       "CV ignoring hard targets w rounding               0.470601\n",
       "CV unique rows ignoring hard targets w rounding   0.443194"
      ]
     },
     "execution_count": 15,
     "metadata": {},
     "output_type": "execute_result"
    }
   ],
   "source": [
    "get_cvs(oofs_alt, y, ix)"
   ]
  },
  {
   "cell_type": "code",
   "execution_count": 16,
   "metadata": {},
   "outputs": [],
   "source": [
    "pd.DataFrame(oofs, columns=TARGETS).to_csv(f'oofs/{model_name}_oofs.csv')"
   ]
  },
  {
   "cell_type": "code",
   "execution_count": 17,
   "metadata": {},
   "outputs": [
    {
     "data": {
      "text/html": [
       "<div>\n",
       "<style scoped>\n",
       "    .dataframe tbody tr th:only-of-type {\n",
       "        vertical-align: middle;\n",
       "    }\n",
       "\n",
       "    .dataframe tbody tr th {\n",
       "        vertical-align: top;\n",
       "    }\n",
       "\n",
       "    .dataframe thead th {\n",
       "        text-align: right;\n",
       "    }\n",
       "</style>\n",
       "<table border=\"1\" class=\"dataframe\">\n",
       "  <thead>\n",
       "    <tr style=\"text-align: right;\">\n",
       "      <th></th>\n",
       "      <th>question_asker_intent_understanding</th>\n",
       "      <th>question_body_critical</th>\n",
       "      <th>question_conversational</th>\n",
       "      <th>question_expect_short_answer</th>\n",
       "      <th>question_fact_seeking</th>\n",
       "      <th>question_has_commonly_accepted_answer</th>\n",
       "      <th>question_interestingness_others</th>\n",
       "      <th>question_interestingness_self</th>\n",
       "      <th>question_multi_intent</th>\n",
       "      <th>question_not_really_a_question</th>\n",
       "      <th>question_opinion_seeking</th>\n",
       "      <th>question_type_choice</th>\n",
       "      <th>question_type_compare</th>\n",
       "      <th>question_type_consequence</th>\n",
       "      <th>question_type_definition</th>\n",
       "      <th>question_type_entity</th>\n",
       "      <th>question_type_instructions</th>\n",
       "      <th>question_type_procedure</th>\n",
       "      <th>question_type_reason_explanation</th>\n",
       "      <th>question_type_spelling</th>\n",
       "      <th>question_well_written</th>\n",
       "      <th>answer_helpful</th>\n",
       "      <th>answer_level_of_information</th>\n",
       "      <th>answer_plausible</th>\n",
       "      <th>answer_relevance</th>\n",
       "      <th>answer_satisfaction</th>\n",
       "      <th>answer_type_instructions</th>\n",
       "      <th>answer_type_procedure</th>\n",
       "      <th>answer_type_reason_explanation</th>\n",
       "      <th>answer_well_written</th>\n",
       "    </tr>\n",
       "  </thead>\n",
       "  <tbody>\n",
       "    <tr>\n",
       "      <th>0</th>\n",
       "      <td>0.777974</td>\n",
       "      <td>0.484360</td>\n",
       "      <td>0.240398</td>\n",
       "      <td>0.681041</td>\n",
       "      <td>0.518560</td>\n",
       "      <td>0.374573</td>\n",
       "      <td>0.594761</td>\n",
       "      <td>0.438321</td>\n",
       "      <td>0.082976</td>\n",
       "      <td>0.002353</td>\n",
       "      <td>0.705912</td>\n",
       "      <td>0.027755</td>\n",
       "      <td>0.476340</td>\n",
       "      <td>0.033060</td>\n",
       "      <td>0.006758</td>\n",
       "      <td>0.201815</td>\n",
       "      <td>0.175507</td>\n",
       "      <td>0.052841</td>\n",
       "      <td>0.481828</td>\n",
       "      <td>0.000463</td>\n",
       "      <td>0.740156</td>\n",
       "      <td>0.905947</td>\n",
       "      <td>0.567747</td>\n",
       "      <td>0.963406</td>\n",
       "      <td>0.947634</td>\n",
       "      <td>0.771467</td>\n",
       "      <td>0.081616</td>\n",
       "      <td>0.049915</td>\n",
       "      <td>0.887219</td>\n",
       "      <td>0.785724</td>\n",
       "    </tr>\n",
       "    <tr>\n",
       "      <th>1</th>\n",
       "      <td>0.845370</td>\n",
       "      <td>0.745933</td>\n",
       "      <td>0.065866</td>\n",
       "      <td>0.493047</td>\n",
       "      <td>0.935149</td>\n",
       "      <td>0.567677</td>\n",
       "      <td>0.599782</td>\n",
       "      <td>0.775685</td>\n",
       "      <td>0.485839</td>\n",
       "      <td>0.001895</td>\n",
       "      <td>0.278523</td>\n",
       "      <td>0.077415</td>\n",
       "      <td>0.711813</td>\n",
       "      <td>0.003557</td>\n",
       "      <td>0.896352</td>\n",
       "      <td>0.035892</td>\n",
       "      <td>0.038155</td>\n",
       "      <td>0.041913</td>\n",
       "      <td>0.326998</td>\n",
       "      <td>0.003395</td>\n",
       "      <td>0.806426</td>\n",
       "      <td>0.385705</td>\n",
       "      <td>0.248967</td>\n",
       "      <td>0.643146</td>\n",
       "      <td>0.735740</td>\n",
       "      <td>0.216503</td>\n",
       "      <td>0.023291</td>\n",
       "      <td>0.018612</td>\n",
       "      <td>0.274919</td>\n",
       "      <td>0.804851</td>\n",
       "    </tr>\n",
       "    <tr>\n",
       "      <th>2</th>\n",
       "      <td>0.623141</td>\n",
       "      <td>0.358031</td>\n",
       "      <td>0.009601</td>\n",
       "      <td>0.681374</td>\n",
       "      <td>0.783829</td>\n",
       "      <td>0.822609</td>\n",
       "      <td>0.431702</td>\n",
       "      <td>0.272097</td>\n",
       "      <td>0.102522</td>\n",
       "      <td>0.001496</td>\n",
       "      <td>0.413032</td>\n",
       "      <td>0.108730</td>\n",
       "      <td>0.006283</td>\n",
       "      <td>0.001780</td>\n",
       "      <td>0.001226</td>\n",
       "      <td>0.185515</td>\n",
       "      <td>0.769241</td>\n",
       "      <td>0.309805</td>\n",
       "      <td>0.144095</td>\n",
       "      <td>0.000115</td>\n",
       "      <td>0.647409</td>\n",
       "      <td>0.871032</td>\n",
       "      <td>0.608521</td>\n",
       "      <td>0.925201</td>\n",
       "      <td>0.921045</td>\n",
       "      <td>0.715022</td>\n",
       "      <td>0.790183</td>\n",
       "      <td>0.298306</td>\n",
       "      <td>0.405475</td>\n",
       "      <td>0.765908</td>\n",
       "    </tr>\n",
       "    <tr>\n",
       "      <th>3</th>\n",
       "      <td>0.807074</td>\n",
       "      <td>0.725105</td>\n",
       "      <td>0.046032</td>\n",
       "      <td>0.846357</td>\n",
       "      <td>0.921229</td>\n",
       "      <td>0.921998</td>\n",
       "      <td>0.552402</td>\n",
       "      <td>0.605815</td>\n",
       "      <td>0.291463</td>\n",
       "      <td>0.000878</td>\n",
       "      <td>0.100738</td>\n",
       "      <td>0.859223</td>\n",
       "      <td>0.025388</td>\n",
       "      <td>0.006344</td>\n",
       "      <td>0.189556</td>\n",
       "      <td>0.100932</td>\n",
       "      <td>0.010909</td>\n",
       "      <td>0.069311</td>\n",
       "      <td>0.511250</td>\n",
       "      <td>0.003422</td>\n",
       "      <td>0.737523</td>\n",
       "      <td>0.695744</td>\n",
       "      <td>0.674560</td>\n",
       "      <td>0.747761</td>\n",
       "      <td>0.780147</td>\n",
       "      <td>0.629347</td>\n",
       "      <td>0.013693</td>\n",
       "      <td>0.062907</td>\n",
       "      <td>0.822126</td>\n",
       "      <td>0.591326</td>\n",
       "    </tr>\n",
       "    <tr>\n",
       "      <th>4</th>\n",
       "      <td>0.760952</td>\n",
       "      <td>0.827847</td>\n",
       "      <td>0.002844</td>\n",
       "      <td>0.669299</td>\n",
       "      <td>0.826881</td>\n",
       "      <td>0.918446</td>\n",
       "      <td>0.460661</td>\n",
       "      <td>0.343000</td>\n",
       "      <td>0.135251</td>\n",
       "      <td>0.000239</td>\n",
       "      <td>0.297391</td>\n",
       "      <td>0.428426</td>\n",
       "      <td>0.001251</td>\n",
       "      <td>0.000234</td>\n",
       "      <td>0.000522</td>\n",
       "      <td>0.001974</td>\n",
       "      <td>0.877524</td>\n",
       "      <td>0.360534</td>\n",
       "      <td>0.078821</td>\n",
       "      <td>0.000009</td>\n",
       "      <td>0.824382</td>\n",
       "      <td>0.619205</td>\n",
       "      <td>0.327729</td>\n",
       "      <td>0.728168</td>\n",
       "      <td>0.777560</td>\n",
       "      <td>0.432131</td>\n",
       "      <td>0.862532</td>\n",
       "      <td>0.208225</td>\n",
       "      <td>0.024270</td>\n",
       "      <td>0.537507</td>\n",
       "    </tr>\n",
       "    <tr>\n",
       "      <th>...</th>\n",
       "      <td>...</td>\n",
       "      <td>...</td>\n",
       "      <td>...</td>\n",
       "      <td>...</td>\n",
       "      <td>...</td>\n",
       "      <td>...</td>\n",
       "      <td>...</td>\n",
       "      <td>...</td>\n",
       "      <td>...</td>\n",
       "      <td>...</td>\n",
       "      <td>...</td>\n",
       "      <td>...</td>\n",
       "      <td>...</td>\n",
       "      <td>...</td>\n",
       "      <td>...</td>\n",
       "      <td>...</td>\n",
       "      <td>...</td>\n",
       "      <td>...</td>\n",
       "      <td>...</td>\n",
       "      <td>...</td>\n",
       "      <td>...</td>\n",
       "      <td>...</td>\n",
       "      <td>...</td>\n",
       "      <td>...</td>\n",
       "      <td>...</td>\n",
       "      <td>...</td>\n",
       "      <td>...</td>\n",
       "      <td>...</td>\n",
       "      <td>...</td>\n",
       "      <td>...</td>\n",
       "    </tr>\n",
       "    <tr>\n",
       "      <th>6074</th>\n",
       "      <td>0.777897</td>\n",
       "      <td>0.421507</td>\n",
       "      <td>0.165968</td>\n",
       "      <td>0.815484</td>\n",
       "      <td>0.685143</td>\n",
       "      <td>0.622973</td>\n",
       "      <td>0.566400</td>\n",
       "      <td>0.520077</td>\n",
       "      <td>0.509233</td>\n",
       "      <td>0.005347</td>\n",
       "      <td>0.546017</td>\n",
       "      <td>0.910987</td>\n",
       "      <td>0.058984</td>\n",
       "      <td>0.217807</td>\n",
       "      <td>0.025261</td>\n",
       "      <td>0.102700</td>\n",
       "      <td>0.055534</td>\n",
       "      <td>0.086268</td>\n",
       "      <td>0.526974</td>\n",
       "      <td>0.001981</td>\n",
       "      <td>0.685447</td>\n",
       "      <td>0.864647</td>\n",
       "      <td>0.655473</td>\n",
       "      <td>0.924182</td>\n",
       "      <td>0.916950</td>\n",
       "      <td>0.660363</td>\n",
       "      <td>0.128052</td>\n",
       "      <td>0.128861</td>\n",
       "      <td>0.838251</td>\n",
       "      <td>0.728975</td>\n",
       "    </tr>\n",
       "    <tr>\n",
       "      <th>6075</th>\n",
       "      <td>0.830059</td>\n",
       "      <td>0.391183</td>\n",
       "      <td>0.150129</td>\n",
       "      <td>0.476173</td>\n",
       "      <td>0.530770</td>\n",
       "      <td>0.386121</td>\n",
       "      <td>0.664886</td>\n",
       "      <td>0.641285</td>\n",
       "      <td>0.128623</td>\n",
       "      <td>0.010439</td>\n",
       "      <td>0.703025</td>\n",
       "      <td>0.104632</td>\n",
       "      <td>0.030758</td>\n",
       "      <td>0.011109</td>\n",
       "      <td>0.002528</td>\n",
       "      <td>0.040627</td>\n",
       "      <td>0.780514</td>\n",
       "      <td>0.419659</td>\n",
       "      <td>0.172635</td>\n",
       "      <td>0.000591</td>\n",
       "      <td>0.688221</td>\n",
       "      <td>0.862318</td>\n",
       "      <td>0.550921</td>\n",
       "      <td>0.898008</td>\n",
       "      <td>0.927709</td>\n",
       "      <td>0.657475</td>\n",
       "      <td>0.861323</td>\n",
       "      <td>0.372565</td>\n",
       "      <td>0.258826</td>\n",
       "      <td>0.854278</td>\n",
       "    </tr>\n",
       "    <tr>\n",
       "      <th>6076</th>\n",
       "      <td>0.615802</td>\n",
       "      <td>0.361840</td>\n",
       "      <td>0.006370</td>\n",
       "      <td>0.640198</td>\n",
       "      <td>0.731074</td>\n",
       "      <td>0.879188</td>\n",
       "      <td>0.393193</td>\n",
       "      <td>0.306873</td>\n",
       "      <td>0.193233</td>\n",
       "      <td>0.004323</td>\n",
       "      <td>0.394119</td>\n",
       "      <td>0.545434</td>\n",
       "      <td>0.003344</td>\n",
       "      <td>0.002194</td>\n",
       "      <td>0.001105</td>\n",
       "      <td>0.008865</td>\n",
       "      <td>0.817831</td>\n",
       "      <td>0.396921</td>\n",
       "      <td>0.205223</td>\n",
       "      <td>0.000196</td>\n",
       "      <td>0.528439</td>\n",
       "      <td>0.554066</td>\n",
       "      <td>0.349802</td>\n",
       "      <td>0.746895</td>\n",
       "      <td>0.743837</td>\n",
       "      <td>0.351667</td>\n",
       "      <td>0.684416</td>\n",
       "      <td>0.247324</td>\n",
       "      <td>0.457776</td>\n",
       "      <td>0.399003</td>\n",
       "    </tr>\n",
       "    <tr>\n",
       "      <th>6077</th>\n",
       "      <td>0.839394</td>\n",
       "      <td>0.622297</td>\n",
       "      <td>0.647123</td>\n",
       "      <td>0.567139</td>\n",
       "      <td>0.368852</td>\n",
       "      <td>0.272035</td>\n",
       "      <td>0.572984</td>\n",
       "      <td>0.751451</td>\n",
       "      <td>0.435044</td>\n",
       "      <td>0.001907</td>\n",
       "      <td>0.858615</td>\n",
       "      <td>0.811561</td>\n",
       "      <td>0.098343</td>\n",
       "      <td>0.030089</td>\n",
       "      <td>0.014534</td>\n",
       "      <td>0.014804</td>\n",
       "      <td>0.009049</td>\n",
       "      <td>0.066323</td>\n",
       "      <td>0.708007</td>\n",
       "      <td>0.000258</td>\n",
       "      <td>0.841923</td>\n",
       "      <td>0.788481</td>\n",
       "      <td>0.670714</td>\n",
       "      <td>0.871641</td>\n",
       "      <td>0.879763</td>\n",
       "      <td>0.644309</td>\n",
       "      <td>0.006526</td>\n",
       "      <td>0.056322</td>\n",
       "      <td>0.881578</td>\n",
       "      <td>0.766185</td>\n",
       "    </tr>\n",
       "    <tr>\n",
       "      <th>6078</th>\n",
       "      <td>0.742290</td>\n",
       "      <td>0.513853</td>\n",
       "      <td>0.096119</td>\n",
       "      <td>0.205033</td>\n",
       "      <td>0.892354</td>\n",
       "      <td>0.589298</td>\n",
       "      <td>0.553771</td>\n",
       "      <td>0.509074</td>\n",
       "      <td>0.883451</td>\n",
       "      <td>0.000156</td>\n",
       "      <td>0.358767</td>\n",
       "      <td>0.154643</td>\n",
       "      <td>0.795864</td>\n",
       "      <td>0.023389</td>\n",
       "      <td>0.027454</td>\n",
       "      <td>0.062051</td>\n",
       "      <td>0.027023</td>\n",
       "      <td>0.032144</td>\n",
       "      <td>0.905251</td>\n",
       "      <td>0.000171</td>\n",
       "      <td>0.668768</td>\n",
       "      <td>0.722492</td>\n",
       "      <td>0.523878</td>\n",
       "      <td>0.838102</td>\n",
       "      <td>0.839192</td>\n",
       "      <td>0.486444</td>\n",
       "      <td>0.029089</td>\n",
       "      <td>0.022693</td>\n",
       "      <td>0.932018</td>\n",
       "      <td>0.785439</td>\n",
       "    </tr>\n",
       "  </tbody>\n",
       "</table>\n",
       "<p>6079 rows × 30 columns</p>\n",
       "</div>"
      ],
      "text/plain": [
       "      question_asker_intent_understanding  question_body_critical  \\\n",
       "0                                0.777974                0.484360   \n",
       "1                                0.845370                0.745933   \n",
       "2                                0.623141                0.358031   \n",
       "3                                0.807074                0.725105   \n",
       "4                                0.760952                0.827847   \n",
       "...                                   ...                     ...   \n",
       "6074                             0.777897                0.421507   \n",
       "6075                             0.830059                0.391183   \n",
       "6076                             0.615802                0.361840   \n",
       "6077                             0.839394                0.622297   \n",
       "6078                             0.742290                0.513853   \n",
       "\n",
       "      question_conversational  question_expect_short_answer  \\\n",
       "0                    0.240398                      0.681041   \n",
       "1                    0.065866                      0.493047   \n",
       "2                    0.009601                      0.681374   \n",
       "3                    0.046032                      0.846357   \n",
       "4                    0.002844                      0.669299   \n",
       "...                       ...                           ...   \n",
       "6074                 0.165968                      0.815484   \n",
       "6075                 0.150129                      0.476173   \n",
       "6076                 0.006370                      0.640198   \n",
       "6077                 0.647123                      0.567139   \n",
       "6078                 0.096119                      0.205033   \n",
       "\n",
       "      question_fact_seeking  question_has_commonly_accepted_answer  \\\n",
       "0                  0.518560                               0.374573   \n",
       "1                  0.935149                               0.567677   \n",
       "2                  0.783829                               0.822609   \n",
       "3                  0.921229                               0.921998   \n",
       "4                  0.826881                               0.918446   \n",
       "...                     ...                                    ...   \n",
       "6074               0.685143                               0.622973   \n",
       "6075               0.530770                               0.386121   \n",
       "6076               0.731074                               0.879188   \n",
       "6077               0.368852                               0.272035   \n",
       "6078               0.892354                               0.589298   \n",
       "\n",
       "      question_interestingness_others  question_interestingness_self  \\\n",
       "0                            0.594761                       0.438321   \n",
       "1                            0.599782                       0.775685   \n",
       "2                            0.431702                       0.272097   \n",
       "3                            0.552402                       0.605815   \n",
       "4                            0.460661                       0.343000   \n",
       "...                               ...                            ...   \n",
       "6074                         0.566400                       0.520077   \n",
       "6075                         0.664886                       0.641285   \n",
       "6076                         0.393193                       0.306873   \n",
       "6077                         0.572984                       0.751451   \n",
       "6078                         0.553771                       0.509074   \n",
       "\n",
       "      question_multi_intent  question_not_really_a_question  \\\n",
       "0                  0.082976                        0.002353   \n",
       "1                  0.485839                        0.001895   \n",
       "2                  0.102522                        0.001496   \n",
       "3                  0.291463                        0.000878   \n",
       "4                  0.135251                        0.000239   \n",
       "...                     ...                             ...   \n",
       "6074               0.509233                        0.005347   \n",
       "6075               0.128623                        0.010439   \n",
       "6076               0.193233                        0.004323   \n",
       "6077               0.435044                        0.001907   \n",
       "6078               0.883451                        0.000156   \n",
       "\n",
       "      question_opinion_seeking  question_type_choice  question_type_compare  \\\n",
       "0                     0.705912              0.027755               0.476340   \n",
       "1                     0.278523              0.077415               0.711813   \n",
       "2                     0.413032              0.108730               0.006283   \n",
       "3                     0.100738              0.859223               0.025388   \n",
       "4                     0.297391              0.428426               0.001251   \n",
       "...                        ...                   ...                    ...   \n",
       "6074                  0.546017              0.910987               0.058984   \n",
       "6075                  0.703025              0.104632               0.030758   \n",
       "6076                  0.394119              0.545434               0.003344   \n",
       "6077                  0.858615              0.811561               0.098343   \n",
       "6078                  0.358767              0.154643               0.795864   \n",
       "\n",
       "      question_type_consequence  question_type_definition  \\\n",
       "0                      0.033060                  0.006758   \n",
       "1                      0.003557                  0.896352   \n",
       "2                      0.001780                  0.001226   \n",
       "3                      0.006344                  0.189556   \n",
       "4                      0.000234                  0.000522   \n",
       "...                         ...                       ...   \n",
       "6074                   0.217807                  0.025261   \n",
       "6075                   0.011109                  0.002528   \n",
       "6076                   0.002194                  0.001105   \n",
       "6077                   0.030089                  0.014534   \n",
       "6078                   0.023389                  0.027454   \n",
       "\n",
       "      question_type_entity  question_type_instructions  \\\n",
       "0                 0.201815                    0.175507   \n",
       "1                 0.035892                    0.038155   \n",
       "2                 0.185515                    0.769241   \n",
       "3                 0.100932                    0.010909   \n",
       "4                 0.001974                    0.877524   \n",
       "...                    ...                         ...   \n",
       "6074              0.102700                    0.055534   \n",
       "6075              0.040627                    0.780514   \n",
       "6076              0.008865                    0.817831   \n",
       "6077              0.014804                    0.009049   \n",
       "6078              0.062051                    0.027023   \n",
       "\n",
       "      question_type_procedure  question_type_reason_explanation  \\\n",
       "0                    0.052841                          0.481828   \n",
       "1                    0.041913                          0.326998   \n",
       "2                    0.309805                          0.144095   \n",
       "3                    0.069311                          0.511250   \n",
       "4                    0.360534                          0.078821   \n",
       "...                       ...                               ...   \n",
       "6074                 0.086268                          0.526974   \n",
       "6075                 0.419659                          0.172635   \n",
       "6076                 0.396921                          0.205223   \n",
       "6077                 0.066323                          0.708007   \n",
       "6078                 0.032144                          0.905251   \n",
       "\n",
       "      question_type_spelling  question_well_written  answer_helpful  \\\n",
       "0                   0.000463               0.740156        0.905947   \n",
       "1                   0.003395               0.806426        0.385705   \n",
       "2                   0.000115               0.647409        0.871032   \n",
       "3                   0.003422               0.737523        0.695744   \n",
       "4                   0.000009               0.824382        0.619205   \n",
       "...                      ...                    ...             ...   \n",
       "6074                0.001981               0.685447        0.864647   \n",
       "6075                0.000591               0.688221        0.862318   \n",
       "6076                0.000196               0.528439        0.554066   \n",
       "6077                0.000258               0.841923        0.788481   \n",
       "6078                0.000171               0.668768        0.722492   \n",
       "\n",
       "      answer_level_of_information  answer_plausible  answer_relevance  \\\n",
       "0                        0.567747          0.963406          0.947634   \n",
       "1                        0.248967          0.643146          0.735740   \n",
       "2                        0.608521          0.925201          0.921045   \n",
       "3                        0.674560          0.747761          0.780147   \n",
       "4                        0.327729          0.728168          0.777560   \n",
       "...                           ...               ...               ...   \n",
       "6074                     0.655473          0.924182          0.916950   \n",
       "6075                     0.550921          0.898008          0.927709   \n",
       "6076                     0.349802          0.746895          0.743837   \n",
       "6077                     0.670714          0.871641          0.879763   \n",
       "6078                     0.523878          0.838102          0.839192   \n",
       "\n",
       "      answer_satisfaction  answer_type_instructions  answer_type_procedure  \\\n",
       "0                0.771467                  0.081616               0.049915   \n",
       "1                0.216503                  0.023291               0.018612   \n",
       "2                0.715022                  0.790183               0.298306   \n",
       "3                0.629347                  0.013693               0.062907   \n",
       "4                0.432131                  0.862532               0.208225   \n",
       "...                   ...                       ...                    ...   \n",
       "6074             0.660363                  0.128052               0.128861   \n",
       "6075             0.657475                  0.861323               0.372565   \n",
       "6076             0.351667                  0.684416               0.247324   \n",
       "6077             0.644309                  0.006526               0.056322   \n",
       "6078             0.486444                  0.029089               0.022693   \n",
       "\n",
       "      answer_type_reason_explanation  answer_well_written  \n",
       "0                           0.887219             0.785724  \n",
       "1                           0.274919             0.804851  \n",
       "2                           0.405475             0.765908  \n",
       "3                           0.822126             0.591326  \n",
       "4                           0.024270             0.537507  \n",
       "...                              ...                  ...  \n",
       "6074                        0.838251             0.728975  \n",
       "6075                        0.258826             0.854278  \n",
       "6076                        0.457776             0.399003  \n",
       "6077                        0.881578             0.766185  \n",
       "6078                        0.932018             0.785439  \n",
       "\n",
       "[6079 rows x 30 columns]"
      ]
     },
     "execution_count": 17,
     "metadata": {},
     "output_type": "execute_result"
    }
   ],
   "source": [
    "pd.DataFrame(oofs, columns=TARGETS)"
   ]
  },
  {
   "cell_type": "code",
   "execution_count": 18,
   "metadata": {},
   "outputs": [
    {
     "data": {
      "text/plain": [
       "question_asker_intent_understanding      0.383542\n",
       "question_body_critical                   0.615302\n",
       "question_conversational                  0.414113\n",
       "question_expect_short_answer             0.308905\n",
       "question_fact_seeking                    0.368708\n",
       "question_has_commonly_accepted_answer    0.432340\n",
       "question_interestingness_others          0.353087\n",
       "question_interestingness_self            0.502939\n",
       "question_multi_intent                    0.575073\n",
       "question_not_really_a_question           0.085037\n",
       "question_opinion_seeking                 0.486048\n",
       "question_type_choice                     0.740473\n",
       "question_type_compare                    0.366482\n",
       "question_type_consequence                0.187835\n",
       "question_type_definition                 0.364952\n",
       "question_type_entity                     0.458403\n",
       "question_type_instructions               0.781934\n",
       "question_type_procedure                  0.378486\n",
       "question_type_reason_explanation         0.674336\n",
       "question_type_spelling                   0.065256\n",
       "question_well_written                    0.510997\n",
       "answer_helpful                           0.260989\n",
       "answer_level_of_information              0.465041\n",
       "answer_plausible                         0.164464\n",
       "answer_relevance                         0.181123\n",
       "answer_satisfaction                      0.364022\n",
       "answer_type_instructions                 0.765421\n",
       "answer_type_procedure                    0.322582\n",
       "answer_type_reason_explanation           0.688127\n",
       "answer_well_written                      0.221457\n",
       "dtype: float64"
      ]
     },
     "execution_count": 18,
     "metadata": {},
     "output_type": "execute_result"
    }
   ],
   "source": [
    "rs = pd.Series({col: spearmanr(oofs[:,i], y[:,i])[0] for i, col in enumerate(TARGETS)})\n",
    "rs"
   ]
  },
  {
   "cell_type": "code",
   "execution_count": 19,
   "metadata": {},
   "outputs": [
    {
     "data": {
      "text/html": [
       "<div>\n",
       "<style scoped>\n",
       "    .dataframe tbody tr th:only-of-type {\n",
       "        vertical-align: middle;\n",
       "    }\n",
       "\n",
       "    .dataframe tbody tr th {\n",
       "        vertical-align: top;\n",
       "    }\n",
       "\n",
       "    .dataframe thead th {\n",
       "        text-align: right;\n",
       "    }\n",
       "</style>\n",
       "<table border=\"1\" class=\"dataframe\">\n",
       "  <thead>\n",
       "    <tr style=\"text-align: right;\">\n",
       "      <th></th>\n",
       "      <th>SpearmanCorr</th>\n",
       "      <th>NUnique</th>\n",
       "    </tr>\n",
       "  </thead>\n",
       "  <tbody>\n",
       "    <tr>\n",
       "      <th>question_type_spelling</th>\n",
       "      <td>0.065256</td>\n",
       "      <td>3.0</td>\n",
       "    </tr>\n",
       "    <tr>\n",
       "      <th>question_not_really_a_question</th>\n",
       "      <td>0.085037</td>\n",
       "      <td>5.0</td>\n",
       "    </tr>\n",
       "    <tr>\n",
       "      <th>answer_plausible</th>\n",
       "      <td>0.164464</td>\n",
       "      <td>9.0</td>\n",
       "    </tr>\n",
       "    <tr>\n",
       "      <th>answer_relevance</th>\n",
       "      <td>0.181123</td>\n",
       "      <td>9.0</td>\n",
       "    </tr>\n",
       "    <tr>\n",
       "      <th>question_type_consequence</th>\n",
       "      <td>0.187835</td>\n",
       "      <td>5.0</td>\n",
       "    </tr>\n",
       "    <tr>\n",
       "      <th>answer_well_written</th>\n",
       "      <td>0.221457</td>\n",
       "      <td>9.0</td>\n",
       "    </tr>\n",
       "    <tr>\n",
       "      <th>answer_helpful</th>\n",
       "      <td>0.260989</td>\n",
       "      <td>9.0</td>\n",
       "    </tr>\n",
       "    <tr>\n",
       "      <th>question_expect_short_answer</th>\n",
       "      <td>0.308905</td>\n",
       "      <td>5.0</td>\n",
       "    </tr>\n",
       "    <tr>\n",
       "      <th>answer_type_procedure</th>\n",
       "      <td>0.322582</td>\n",
       "      <td>5.0</td>\n",
       "    </tr>\n",
       "    <tr>\n",
       "      <th>question_interestingness_others</th>\n",
       "      <td>0.353087</td>\n",
       "      <td>9.0</td>\n",
       "    </tr>\n",
       "    <tr>\n",
       "      <th>answer_satisfaction</th>\n",
       "      <td>0.364022</td>\n",
       "      <td>17.0</td>\n",
       "    </tr>\n",
       "    <tr>\n",
       "      <th>question_type_definition</th>\n",
       "      <td>0.364952</td>\n",
       "      <td>5.0</td>\n",
       "    </tr>\n",
       "    <tr>\n",
       "      <th>question_type_compare</th>\n",
       "      <td>0.366482</td>\n",
       "      <td>5.0</td>\n",
       "    </tr>\n",
       "    <tr>\n",
       "      <th>question_fact_seeking</th>\n",
       "      <td>0.368708</td>\n",
       "      <td>5.0</td>\n",
       "    </tr>\n",
       "    <tr>\n",
       "      <th>question_type_procedure</th>\n",
       "      <td>0.378486</td>\n",
       "      <td>5.0</td>\n",
       "    </tr>\n",
       "    <tr>\n",
       "      <th>question_asker_intent_understanding</th>\n",
       "      <td>0.383542</td>\n",
       "      <td>9.0</td>\n",
       "    </tr>\n",
       "    <tr>\n",
       "      <th>question_conversational</th>\n",
       "      <td>0.414113</td>\n",
       "      <td>5.0</td>\n",
       "    </tr>\n",
       "    <tr>\n",
       "      <th>question_has_commonly_accepted_answer</th>\n",
       "      <td>0.432340</td>\n",
       "      <td>5.0</td>\n",
       "    </tr>\n",
       "    <tr>\n",
       "      <th>question_type_entity</th>\n",
       "      <td>0.458403</td>\n",
       "      <td>5.0</td>\n",
       "    </tr>\n",
       "    <tr>\n",
       "      <th>answer_level_of_information</th>\n",
       "      <td>0.465041</td>\n",
       "      <td>9.0</td>\n",
       "    </tr>\n",
       "    <tr>\n",
       "      <th>question_opinion_seeking</th>\n",
       "      <td>0.486048</td>\n",
       "      <td>5.0</td>\n",
       "    </tr>\n",
       "    <tr>\n",
       "      <th>question_interestingness_self</th>\n",
       "      <td>0.502939</td>\n",
       "      <td>9.0</td>\n",
       "    </tr>\n",
       "    <tr>\n",
       "      <th>question_well_written</th>\n",
       "      <td>0.510997</td>\n",
       "      <td>9.0</td>\n",
       "    </tr>\n",
       "    <tr>\n",
       "      <th>question_multi_intent</th>\n",
       "      <td>0.575073</td>\n",
       "      <td>5.0</td>\n",
       "    </tr>\n",
       "    <tr>\n",
       "      <th>question_body_critical</th>\n",
       "      <td>0.615302</td>\n",
       "      <td>9.0</td>\n",
       "    </tr>\n",
       "    <tr>\n",
       "      <th>question_type_reason_explanation</th>\n",
       "      <td>0.674336</td>\n",
       "      <td>5.0</td>\n",
       "    </tr>\n",
       "    <tr>\n",
       "      <th>answer_type_reason_explanation</th>\n",
       "      <td>0.688127</td>\n",
       "      <td>5.0</td>\n",
       "    </tr>\n",
       "    <tr>\n",
       "      <th>question_type_choice</th>\n",
       "      <td>0.740473</td>\n",
       "      <td>5.0</td>\n",
       "    </tr>\n",
       "    <tr>\n",
       "      <th>answer_type_instructions</th>\n",
       "      <td>0.765421</td>\n",
       "      <td>5.0</td>\n",
       "    </tr>\n",
       "    <tr>\n",
       "      <th>question_type_instructions</th>\n",
       "      <td>0.781934</td>\n",
       "      <td>5.0</td>\n",
       "    </tr>\n",
       "  </tbody>\n",
       "</table>\n",
       "</div>"
      ],
      "text/plain": [
       "                                       SpearmanCorr  NUnique\n",
       "question_type_spelling                     0.065256      3.0\n",
       "question_not_really_a_question             0.085037      5.0\n",
       "answer_plausible                           0.164464      9.0\n",
       "answer_relevance                           0.181123      9.0\n",
       "question_type_consequence                  0.187835      5.0\n",
       "answer_well_written                        0.221457      9.0\n",
       "answer_helpful                             0.260989      9.0\n",
       "question_expect_short_answer               0.308905      5.0\n",
       "answer_type_procedure                      0.322582      5.0\n",
       "question_interestingness_others            0.353087      9.0\n",
       "answer_satisfaction                        0.364022     17.0\n",
       "question_type_definition                   0.364952      5.0\n",
       "question_type_compare                      0.366482      5.0\n",
       "question_fact_seeking                      0.368708      5.0\n",
       "question_type_procedure                    0.378486      5.0\n",
       "question_asker_intent_understanding        0.383542      9.0\n",
       "question_conversational                    0.414113      5.0\n",
       "question_has_commonly_accepted_answer      0.432340      5.0\n",
       "question_type_entity                       0.458403      5.0\n",
       "answer_level_of_information                0.465041      9.0\n",
       "question_opinion_seeking                   0.486048      5.0\n",
       "question_interestingness_self              0.502939      9.0\n",
       "question_well_written                      0.510997      9.0\n",
       "question_multi_intent                      0.575073      5.0\n",
       "question_body_critical                     0.615302      9.0\n",
       "question_type_reason_explanation           0.674336      5.0\n",
       "answer_type_reason_explanation             0.688127      5.0\n",
       "question_type_choice                       0.740473      5.0\n",
       "answer_type_instructions                   0.765421      5.0\n",
       "question_type_instructions                 0.781934      5.0"
      ]
     },
     "execution_count": 19,
     "metadata": {},
     "output_type": "execute_result"
    }
   ],
   "source": [
    "rs_df = pd.DataFrame(np.vstack([rs.values.flatten(), train[TARGETS].nunique()]).T, \n",
    "                     columns=['SpearmanCorr', 'NUnique'], index=rs.index)\n",
    "rs_df.sort_values('SpearmanCorr', ascending=True)"
   ]
  },
  {
   "cell_type": "code",
   "execution_count": 20,
   "metadata": {},
   "outputs": [
    {
     "data": {
      "text/plain": [
       "Index(['question_type_spelling', 'question_not_really_a_question',\n",
       "       'answer_plausible', 'answer_relevance', 'question_type_consequence'],\n",
       "      dtype='object')"
      ]
     },
     "execution_count": 20,
     "metadata": {},
     "output_type": "execute_result"
    }
   ],
   "source": [
    "sorted_targets = rs_df.sort_values('SpearmanCorr', ascending=True).index\n",
    "worst_five_targets = sorted_targets[:5]\n",
    "worst_five_targets"
   ]
  },
  {
   "cell_type": "code",
   "execution_count": 21,
   "metadata": {
    "scrolled": true
   },
   "outputs": [
    {
     "data": {
      "image/png": "[encoded data removed]",
      "text/plain": [
       "<Figure size 432x288 with 1 Axes>"
      ]
     },
     "metadata": {
      "needs_background": "light"
     },
     "output_type": "display_data"
    },
    {
     "data": {
      "image/png": "[encoded data removed]",
      "text/plain": [
       "<Figure size 432x288 with 1 Axes>"
      ]
     },
     "metadata": {
      "needs_background": "light"
     },
     "output_type": "display_data"
    },
    {
     "data": {
      "image/png": "[encoded data removed]",
      "text/plain": [
       "<Figure size 432x288 with 1 Axes>"
      ]
     },
     "metadata": {
      "needs_background": "light"
     },
     "output_type": "display_data"
    },
    {
     "data": {
      "image/png": "[encoded data removed]",
      "text/plain": [
       "<Figure size 432x288 with 1 Axes>"
      ]
     },
     "metadata": {
      "needs_background": "light"
     },
     "output_type": "display_data"
    },
    {
     "data": {
      "image/png": "[encoded data removed]",
      "text/plain": [
       "<Figure size 432x288 with 1 Axes>"
      ]
     },
     "metadata": {
      "needs_background": "light"
     },
     "output_type": "display_data"
    }
   ],
   "source": [
    "for col in worst_five_targets:\n",
    "    plt.figure()\n",
    "    train[col].hist()\n",
    "    plt.title(f'{col} {np.round(rs[col],3)}')"
   ]
  },
  {
   "cell_type": "code",
   "execution_count": 22,
   "metadata": {},
   "outputs": [
    {
     "name": "stderr",
     "output_type": "stream",
     "text": [
      "/home/robin/anaconda3/envs/GoogleQuest/lib/python3.7/site-packages/ipykernel_launcher.py:2: RuntimeWarning: More than 20 figures have been opened. Figures created through the pyplot interface (`matplotlib.pyplot.figure`) are retained until explicitly closed and may consume too much memory. (To control this warning, see the rcParam `figure.max_open_warning`).\n",
      "  \n"
     ]
    },
    {
     "data": {
      "image/png": "[encoded data removed]",
      "text/plain": [
       "<Figure size 432x288 with 1 Axes>"
      ]
     },
     "metadata": {
      "needs_background": "light"
     },
     "output_type": "display_data"
    },
    {
     "data": {
      "image/png": "[encoded data removed]",
      "text/plain": [
       "<Figure size 432x288 with 1 Axes>"
      ]
     },
     "metadata": {
      "needs_background": "light"
     },
     "output_type": "display_data"
    },
    {
     "data": {
      "image/png": "[encoded data removed]",
      "text/plain": [
       "<Figure size 432x288 with 1 Axes>"
      ]
     },
     "metadata": {
      "needs_background": "light"
     },
     "output_type": "display_data"
    },
    {
     "data": {
      "image/png": "[encoded data removed]",
      "text/plain": [
       "<Figure size 432x288 with 1 Axes>"
      ]
     },
     "metadata": {
      "needs_background": "light"
     },
     "output_type": "display_data"
    },
    {
     "data": {
      "image/png": "[encoded data removed]",
      "text/plain": [
       "<Figure size 432x288 with 1 Axes>"
      ]
     },
     "metadata": {
      "needs_background": "light"
     },
     "output_type": "display_data"
    },
    {
     "data": {
      "image/png": "[encoded data removed]",
      "text/plain": [
       "<Figure size 432x288 with 1 Axes>"
      ]
     },
     "metadata": {
      "needs_background": "light"
     },
     "output_type": "display_data"
    },
    {
     "data": {
      "image/png": "[encoded data removed]",
      "text/plain": [
       "<Figure size 432x288 with 1 Axes>"
      ]
     },
     "metadata": {
      "needs_background": "light"
     },
     "output_type": "display_data"
    },
    {
     "data": {
      "image/png": "[encoded data removed]",
      "text/plain": [
       "<Figure size 432x288 with 1 Axes>"
      ]
     },
     "metadata": {
      "needs_background": "light"
     },
     "output_type": "display_data"
    },
    {
     "data": {
      "image/png": "[encoded data removed]",
      "text/plain": [
       "<Figure size 432x288 with 1 Axes>"
      ]
     },
     "metadata": {
      "needs_background": "light"
     },
     "output_type": "display_data"
    },
    {
     "data": {
      "image/png": "[encoded data removed]",
      "text/plain": [
       "<Figure size 432x288 with 1 Axes>"
      ]
     },
     "metadata": {
      "needs_background": "light"
     },
     "output_type": "display_data"
    },
    {
     "data": {
      "image/png": "[encoded data removed]",
      "text/plain": [
       "<Figure size 432x288 with 1 Axes>"
      ]
     },
     "metadata": {
      "needs_background": "light"
     },
     "output_type": "display_data"
    },
    {
     "data": {
      "image/png": "[encoded data removed]",
      "text/plain": [
       "<Figure size 432x288 with 1 Axes>"
      ]
     },
     "metadata": {
      "needs_background": "light"
     },
     "output_type": "display_data"
    },
    {
     "data": {
      "image/png": "[encoded data removed]",
      "text/plain": [
       "<Figure size 432x288 with 1 Axes>"
      ]
     },
     "metadata": {
      "needs_background": "light"
     },
     "output_type": "display_data"
    },
    {
     "data": {
      "image/png": "[encoded data removed]",
      "text/plain": [
       "<Figure size 432x288 with 1 Axes>"
      ]
     },
     "metadata": {
      "needs_background": "light"
     },
     "output_type": "display_data"
    },
    {
     "data": {
      "image/png": "[encoded data removed]",
      "text/plain": [
       "<Figure size 432x288 with 1 Axes>"
      ]
     },
     "metadata": {
      "needs_background": "light"
     },
     "output_type": "display_data"
    },
    {
     "data": {
      "image/png": "[encoded data removed]",
      "text/plain": [
       "<Figure size 432x288 with 1 Axes>"
      ]
     },
     "metadata": {
      "needs_background": "light"
     },
     "output_type": "display_data"
    },
    {
     "data": {
      "image/png": "[encoded data removed]",
      "text/plain": [
       "<Figure size 432x288 with 1 Axes>"
      ]
     },
     "metadata": {
      "needs_background": "light"
     },
     "output_type": "display_data"
    },
    {
     "data": {
      "image/png": "[encoded data removed]",
      "text/plain": [
       "<Figure size 432x288 with 1 Axes>"
      ]
     },
     "metadata": {
      "needs_background": "light"
     },
     "output_type": "display_data"
    },
    {
     "data": {
      "image/png": "[encoded data removed]",
      "text/plain": [
       "<Figure size 432x288 with 1 Axes>"
      ]
     },
     "metadata": {
      "needs_background": "light"
     },
     "output_type": "display_data"
    },
    {
     "data": {
      "image/png": "[encoded data removed]",
      "text/plain": [
       "<Figure size 432x288 with 1 Axes>"
      ]
     },
     "metadata": {
      "needs_background": "light"
     },
     "output_type": "display_data"
    },
    {
     "data": {
      "image/png": "[encoded data removed]",
      "text/plain": [
       "<Figure size 432x288 with 1 Axes>"
      ]
     },
     "metadata": {
      "needs_background": "light"
     },
     "output_type": "display_data"
    },
    {
     "data": {
      "image/png": "[encoded data removed]",
      "text/plain": [
       "<Figure size 432x288 with 1 Axes>"
      ]
     },
     "metadata": {
      "needs_background": "light"
     },
     "output_type": "display_data"
    },
    {
     "data": {
      "image/png": "[encoded data removed]",
      "text/plain": [
       "<Figure size 432x288 with 1 Axes>"
      ]
     },
     "metadata": {
      "needs_background": "light"
     },
     "output_type": "display_data"
    },
    {
     "data": {
      "image/png": "[encoded data removed]",
      "text/plain": [
       "<Figure size 432x288 with 1 Axes>"
      ]
     },
     "metadata": {
      "needs_background": "light"
     },
     "output_type": "display_data"
    },
    {
     "data": {
      "image/png": "[encoded data removed]",
      "text/plain": [
       "<Figure size 432x288 with 1 Axes>"
      ]
     },
     "metadata": {
      "needs_background": "light"
     },
     "output_type": "display_data"
    }
   ],
   "source": [
    "for col in [target for target in sorted_targets if target not in worst_five_targets]:\n",
    "    plt.figure()\n",
    "    train[col].hist()\n",
    "    plt.title(f'{col} {np.round(rs[col],3)}')"
   ]
  },
  {
   "cell_type": "code",
   "execution_count": null,
   "metadata": {},
   "outputs": [],
   "source": []
  },
  {
   "cell_type": "code",
   "execution_count": null,
   "metadata": {},
   "outputs": [],
   "source": []
  }
 ],
 "metadata": {
  "kernelspec": {
   "display_name": "Python 3",
   "language": "python",
   "name": "python3"
  },
  "language_info": {
   "codemirror_mode": {
    "name": "ipython",
    "version": 3
   },
   "file_extension": ".py",
   "mimetype": "text/x-python",
   "name": "python",
   "nbconvert_exporter": "python",
   "pygments_lexer": "ipython3",
   "version": "3.7.5"
  }
 },
 "nbformat": 4,
 "nbformat_minor": 1
}
