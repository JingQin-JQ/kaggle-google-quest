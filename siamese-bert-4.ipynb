{
 "cells": [
  {
   "cell_type": "markdown",
   "metadata": {},
   "source": [
    "## Importing libraries"
   ]
  },
  {
   "cell_type": "code",
   "execution_count": 1,
   "metadata": {
    "_kg_hide-input": true
   },
   "outputs": [],
   "source": [
    "import numpy as np\n",
    "import pandas as pd\n",
    "import matplotlib.pyplot as plt\n",
    "import seaborn as sns\n",
    "import time\n",
    "import datetime\n",
    "import re\n",
    "import gc\n",
    "import copy\n",
    "\n",
    "from sklearn.model_selection import KFold, GroupKFold\n",
    "from sklearn.preprocessing import OneHotEncoder, MinMaxScaler\n",
    "\n",
    "import torch\n",
    "import torch.nn as nn\n",
    "import torch.optim as optim\n",
    "import torch.nn.functional as F\n",
    "from torch.utils.data import DataLoader\n",
    "\n",
    "from tqdm import tqdm_notebook as tqdm\n",
    "from transformers import DistilBertTokenizer, BertTokenizer\n",
    "import transformers\n",
    "\n",
    "from radam import RAdam\n",
    "from text_data import TextDataset5\n",
    "from bert import CustomBert3\n",
    "from multilabel_cross_fold import MultilabelStratifiedKFold\n",
    "from learning import Learner\n",
    "from lr_finder import LRFinder\n",
    "from one_cycle import OneCycleLR\n",
    "from text_cleaning import clean_data\n",
    "from create_features import get_categorical_features\n",
    "from losses_metrics import spearmanr_torch, spearmanr_np\n",
    "from inference import infer\n",
    "from eda import eda\n",
    "from common import *\n",
    "from utils.helpers import init_logger, init_seed\n",
    "\n",
    "%matplotlib inline\n",
    "pd.set_option('max_colwidth',400)"
   ]
  },
  {
   "cell_type": "markdown",
   "metadata": {},
   "source": [
    "## Loading and preparing data"
   ]
  },
  {
   "cell_type": "code",
   "execution_count": 2,
   "metadata": {
    "_cell_guid": "b1076dfc-b9ad-4769-8c92-a6c4dae69d19",
    "_uuid": "8f2839f25d086af736a60e9eeb907d3b93b6e0e5"
   },
   "outputs": [],
   "source": [
    "pd.set_option('max_rows', 500)\n",
    "pd.set_option('max_columns', 500)\n",
    "path = 'data/'\n",
    "sample_submission = pd.read_csv(f'{path}sample_submission.csv')\n",
    "test = pd.read_csv(f'{path}test.csv').fillna(' ')\n",
    "train = pd.read_csv(f'{path}train.csv').fillna(' ')"
   ]
  },
  {
   "cell_type": "code",
   "execution_count": 3,
   "metadata": {},
   "outputs": [
    {
     "name": "stderr",
     "output_type": "stream",
     "text": [
      "/home/robin/anaconda3/envs/GoogleQuest/lib/python3.7/site-packages/ipykernel_launcher.py:10: TqdmDeprecationWarning: This function will be removed in tqdm==5.0.0\n",
      "Please use `tqdm.notebook.tqdm` instead of `tqdm.tqdm_notebook`\n",
      "  # Remove the CWD from sys.path while we load stuff.\n"
     ]
    },
    {
     "data": {
      "application/vnd.jupyter.widget-view+json": {
       "model_id": "cbd9d95b5eae41dbadd297c5a9e525fe",
       "version_major": 2,
       "version_minor": 0
      },
      "text/plain": [
       "HBox(children=(IntProgress(value=0, max=6079), HTML(value='')))"
      ]
     },
     "metadata": {},
     "output_type": "display_data"
    },
    {
     "name": "stdout",
     "output_type": "stream",
     "text": [
      "\n"
     ]
    },
    {
     "data": {
      "application/vnd.jupyter.widget-view+json": {
       "model_id": "19c97082e349463c887b4fe9832acbd8",
       "version_major": 2,
       "version_minor": 0
      },
      "text/plain": [
       "HBox(children=(IntProgress(value=0, max=6079), HTML(value='')))"
      ]
     },
     "metadata": {},
     "output_type": "display_data"
    },
    {
     "name": "stdout",
     "output_type": "stream",
     "text": [
      "\n"
     ]
    },
    {
     "data": {
      "application/vnd.jupyter.widget-view+json": {
       "model_id": "7e63694c69364d669bb7465dbdb0d497",
       "version_major": 2,
       "version_minor": 0
      },
      "text/plain": [
       "HBox(children=(IntProgress(value=0, max=476), HTML(value='')))"
      ]
     },
     "metadata": {},
     "output_type": "display_data"
    },
    {
     "name": "stdout",
     "output_type": "stream",
     "text": [
      "\n"
     ]
    },
    {
     "data": {
      "application/vnd.jupyter.widget-view+json": {
       "model_id": "4508df839a6043259ee83a8bd381e51d",
       "version_major": 2,
       "version_minor": 0
      },
      "text/plain": [
       "HBox(children=(IntProgress(value=0, max=476), HTML(value='')))"
      ]
     },
     "metadata": {},
     "output_type": "display_data"
    },
    {
     "name": "stdout",
     "output_type": "stream",
     "text": [
      "\n",
      "CPU times: user 31.8 s, sys: 262 ms, total: 32.1 s\n",
      "Wall time: 32.2 s\n"
     ]
    }
   ],
   "source": [
    "%%time\n",
    "# tokenizer = DistilBertTokenizer.from_pretrained('distilbert-base-uncased')\n",
    "tokenizer = BertTokenizer.from_pretrained('bert-base-uncased')\n",
    "seg_ids_train, ids_train = {}, {}\n",
    "seg_ids_test, ids_test = {}, {}\n",
    "max_seq_len = 512\n",
    "for mode, df in [('train', train), ('test', test)]:\n",
    "    for text, cols in [('question', ['question_title', 'question_body']), \n",
    "                       ('answer', ['question_title', 'answer'])]:\n",
    "        ids, seg_ids = [], []\n",
    "        for x1, x2 in tqdm(df[cols].values):\n",
    "            encoded_inputs = tokenizer.encode_plus(\n",
    "                x1, x2, add_special_tokens=True, max_length=max_seq_len, pad_to_max_length=True, \n",
    "                return_token_type_ids=True\n",
    "            )\n",
    "            ids.append(encoded_inputs['input_ids'])\n",
    "            seg_ids.append(encoded_inputs['token_type_ids'])\n",
    "        if mode == 'train': \n",
    "            ids_train[text] = np.array(ids)\n",
    "            seg_ids_train[text] = np.array(seg_ids)\n",
    "        else: \n",
    "            ids_test[text] = np.array(ids)\n",
    "            seg_ids_test[text] = np.array(seg_ids)"
   ]
  },
  {
   "cell_type": "code",
   "execution_count": 4,
   "metadata": {
    "code_folding": []
   },
   "outputs": [],
   "source": [
    "train_host, test_host, host_dict, host_dict_reverse = get_categorical_features(train, test, 'host')\n",
    "train_category, test_category, category_dict, category_dict_reverse = \\\n",
    "    get_categorical_features(train, test, 'category')"
   ]
  },
  {
   "cell_type": "code",
   "execution_count": 5,
   "metadata": {},
   "outputs": [
    {
     "name": "stderr",
     "output_type": "stream",
     "text": [
      "/home/robin/anaconda3/envs/GoogleQuest/lib/python3.7/site-packages/sklearn/preprocessing/_encoders.py:415: FutureWarning: The handling of integer data will change in version 0.22. Currently, the categories are determined based on the range [0, max(values)], while in the future they will be determined based on the unique values.\n",
      "If you want the future behaviour and silence this warning, you can specify \"categories='auto'\".\n",
      "In case you used a LabelEncoder before this OneHotEncoder to convert the categories to integers, then you can now use the OneHotEncoder directly.\n",
      "  warnings.warn(msg, FutureWarning)\n"
     ]
    }
   ],
   "source": [
    "cat_features_train = np.hstack([train_host.reshape(-1, 1), train_category.reshape(-1, 1)])\n",
    "cat_features_test = np.hstack([test_host.reshape(-1, 1), test_category.reshape(-1, 1)])\n",
    "ohe = OneHotEncoder()\n",
    "ohe.fit(cat_features_train)\n",
    "cat_features_train = ohe.transform(cat_features_train).toarray()\n",
    "cat_features_test = ohe.transform(cat_features_test).toarray()"
   ]
  },
  {
   "cell_type": "code",
   "execution_count": 6,
   "metadata": {},
   "outputs": [],
   "source": [
    "for col in TARGETS:\n",
    "    train[col] = train[col].rank(method=\"average\")\n",
    "train[TARGETS] = MinMaxScaler().fit_transform(train[TARGETS])\n",
    "y = train[TARGETS].values.astype(np.float32)"
   ]
  },
  {
   "cell_type": "code",
   "execution_count": 7,
   "metadata": {},
   "outputs": [],
   "source": [
    "num_workers = 10\n",
    "bs = 2\n",
    "TextDataset = TextDataset5"
   ]
  },
  {
   "cell_type": "code",
   "execution_count": 8,
   "metadata": {},
   "outputs": [],
   "source": [
    "bs_test = 2\n",
    "test_loader = DataLoader(\n",
    "    TextDataset(cat_features_test, ids_test['question'], ids_test['answer'], \n",
    "                seg_ids_test['question'], seg_ids_test['answer'], test.index),\n",
    "    batch_size=bs_test, shuffle=False, num_workers=num_workers, drop_last=False\n",
    ")"
   ]
  },
  {
   "cell_type": "markdown",
   "metadata": {},
   "source": [
    "## Training model"
   ]
  },
  {
   "cell_type": "code",
   "execution_count": 9,
   "metadata": {},
   "outputs": [],
   "source": [
    "lr = 0.001\n",
    "loss_fn = nn.BCEWithLogitsLoss()\n",
    "device = 'cuda'\n",
    "n_epochs = 4\n",
    "grad_accum = 4\n",
    "weight_decay = 0.01\n",
    "model_name = 'siamese_bert_4'\n",
    "checkpoint_dir = 'checkpoints/'\n",
    "early_stopping = None\n",
    "n_folds = 10\n",
    "p_aug = 0.0"
   ]
  },
  {
   "cell_type": "code",
   "execution_count": 10,
   "metadata": {},
   "outputs": [],
   "source": [
    "def get_optimizer_param_groups(model, lr, weight_decay):\n",
    "    no_decay = ['bias', 'LayerNorm.weight']\n",
    "    optimizer_grouped_parameters = [\n",
    "        {'params': [p for n, p in model.named_parameters() if not any(nd in n for nd in no_decay)], \n",
    "         'weight_decay': weight_decay, 'lr': lr},\n",
    "        {'params': [p for n, p in model.named_parameters() if any(nd in n for nd in no_decay)], \n",
    "         'weight_decay': 0.0, 'lr': lr}\n",
    "    ]\n",
    "    return optimizer_grouped_parameters\n",
    "\n",
    "\n",
    "def get_optimizer(model, lr, weight_decay):\n",
    "    return transformers.AdamW(\n",
    "        get_optimizer_param_groups(model.head, lr, weight_decay)\n",
    "        + get_optimizer_param_groups(model.bert, lr / 100, weight_decay)\n",
    "    )"
   ]
  },
  {
   "cell_type": "code",
   "execution_count": 11,
   "metadata": {
    "scrolled": true
   },
   "outputs": [
    {
     "name": "stdout",
     "output_type": "stream",
     "text": [
      "Fold 1 started at Sat Jan 11 17:54:50 2020\n"
     ]
    },
    {
     "data": {
      "application/vnd.jupyter.widget-view+json": {
       "model_id": "0385315dbfcc4b48a2bf5feb1a88a983",
       "version_major": 2,
       "version_minor": 0
      },
      "text/plain": [
       "HBox(children=(IntProgress(value=0, max=400), HTML(value='')))"
      ]
     },
     "metadata": {},
     "output_type": "display_data"
    },
    {
     "name": "stderr",
     "output_type": "stream",
     "text": [
      "/home/robin/anaconda3/envs/GoogleQuest/lib/python3.7/site-packages/torch/optim/lr_scheduler.py:100: UserWarning: Detected call of `lr_scheduler.step()` before `optimizer.step()`. In PyTorch 1.1.0 and later, you should call them in the opposite order: `optimizer.step()` before `lr_scheduler.step()`.  Failure to do this will result in PyTorch skipping the first value of the learning rate schedule.See more details at https://pytorch.org/docs/stable/optim.html#how-to-adjust-learning-rate\n",
      "  \"https://pytorch.org/docs/stable/optim.html#how-to-adjust-learning-rate\", UserWarning)\n"
     ]
    },
    {
     "data": {
      "image/png": "[encoded data removed]",
      "text/plain": [
       "<Figure size 432x288 with 1 Axes>"
      ]
     },
     "metadata": {
      "needs_background": "light"
     },
     "output_type": "display_data"
    },
    {
     "name": "stdout",
     "output_type": "stream",
     "text": [
      "epoch 0: \t Start training...\n"
     ]
    },
    {
     "data": {
      "application/vnd.jupyter.widget-view+json": {
       "model_id": "6d87b7a5dd054086b8844fa2ac9b5eb9",
       "version_major": 2,
       "version_minor": 0
      },
      "text/plain": [
       "HBox(children=(IntProgress(value=0, max=2736), HTML(value='')))"
      ]
     },
     "metadata": {},
     "output_type": "display_data"
    },
    {
     "name": "stdout",
     "output_type": "stream",
     "text": [
      "\n",
      "epoch 0/3 \t train : loss 0.50398 - spearmanr 0.25419\n",
      "epoch 0: \t Start validation...\n"
     ]
    },
    {
     "data": {
      "application/vnd.jupyter.widget-view+json": {
       "model_id": "510d5c9990364d9c91d15fc6afa0fe4e",
       "version_major": 2,
       "version_minor": 0
      },
      "text/plain": [
       "HBox(children=(IntProgress(value=0, max=304), HTML(value='')))"
      ]
     },
     "metadata": {},
     "output_type": "display_data"
    },
    {
     "name": "stdout",
     "output_type": "stream",
     "text": [
      "\n",
      "epoch 0/3 \t valid : loss 0.467 - spearmanr 0.39666\n"
     ]
    },
    {
     "name": "stderr",
     "output_type": "stream",
     "text": [
      "/home/robin/anaconda3/envs/GoogleQuest/lib/python3.7/site-packages/numpy/lib/function_base.py:2534: RuntimeWarning: invalid value encountered in true_divide\n",
      "  c /= stddev[:, None]\n",
      "/home/robin/anaconda3/envs/GoogleQuest/lib/python3.7/site-packages/numpy/lib/function_base.py:2535: RuntimeWarning: invalid value encountered in true_divide\n",
      "  c /= stddev[None, :]\n",
      "/home/robin/anaconda3/envs/GoogleQuest/lib/python3.7/site-packages/scipy/stats/_distn_infrastructure.py:901: RuntimeWarning: invalid value encountered in greater\n",
      "  return (a < x) & (x < b)\n",
      "/home/robin/anaconda3/envs/GoogleQuest/lib/python3.7/site-packages/scipy/stats/_distn_infrastructure.py:901: RuntimeWarning: invalid value encountered in less\n",
      "  return (a < x) & (x < b)\n",
      "/home/robin/anaconda3/envs/GoogleQuest/lib/python3.7/site-packages/scipy/stats/_distn_infrastructure.py:1892: RuntimeWarning: invalid value encountered in less_equal\n",
      "  cond2 = cond0 & (x <= _a)\n"
     ]
    },
    {
     "name": "stdout",
     "output_type": "stream",
     "text": [
      "best model: epoch 0 - 0.39666\n",
      "epoch 1: \t Start training...\n"
     ]
    },
    {
     "data": {
      "application/vnd.jupyter.widget-view+json": {
       "model_id": "baeb25315e804242bd5f0becd05b559d",
       "version_major": 2,
       "version_minor": 0
      },
      "text/plain": [
       "HBox(children=(IntProgress(value=0, max=2736), HTML(value='')))"
      ]
     },
     "metadata": {},
     "output_type": "display_data"
    },
    {
     "name": "stdout",
     "output_type": "stream",
     "text": [
      "\n",
      "epoch 1/3 \t train : loss 0.45282 - spearmanr 0.40473\n",
      "epoch 1: \t Start validation...\n"
     ]
    },
    {
     "data": {
      "application/vnd.jupyter.widget-view+json": {
       "model_id": "1a93a988480f42ffacb24b1816ae852d",
       "version_major": 2,
       "version_minor": 0
      },
      "text/plain": [
       "HBox(children=(IntProgress(value=0, max=304), HTML(value='')))"
      ]
     },
     "metadata": {},
     "output_type": "display_data"
    },
    {
     "name": "stdout",
     "output_type": "stream",
     "text": [
      "\n",
      "epoch 1/3 \t valid : loss 0.45206 - spearmanr 0.41632\n",
      "best model: epoch 1 - 0.41632\n",
      "epoch 2: \t Start training...\n"
     ]
    },
    {
     "data": {
      "application/vnd.jupyter.widget-view+json": {
       "model_id": "9aae1300e4834041b0b3df30c5150105",
       "version_major": 2,
       "version_minor": 0
      },
      "text/plain": [
       "HBox(children=(IntProgress(value=0, max=2736), HTML(value='')))"
      ]
     },
     "metadata": {},
     "output_type": "display_data"
    },
    {
     "name": "stdout",
     "output_type": "stream",
     "text": [
      "\n",
      "epoch 2/3 \t train : loss 0.42764 - spearmanr 0.47401\n",
      "epoch 2: \t Start validation...\n"
     ]
    },
    {
     "data": {
      "application/vnd.jupyter.widget-view+json": {
       "model_id": "7fc8b83b83534ab9b14bb39c3976e63e",
       "version_major": 2,
       "version_minor": 0
      },
      "text/plain": [
       "HBox(children=(IntProgress(value=0, max=304), HTML(value='')))"
      ]
     },
     "metadata": {},
     "output_type": "display_data"
    },
    {
     "name": "stdout",
     "output_type": "stream",
     "text": [
      "\n",
      "epoch 2/3 \t valid : loss 0.45096 - spearmanr 0.4202\n",
      "best model: epoch 2 - 0.4202\n",
      "TRAINING END: Best score achieved on epoch 2 - 0.42020\n",
      "Starting inference for model: checkpoints/siamese_bert_4_fold_1_best.pth\n"
     ]
    },
    {
     "data": {
      "application/vnd.jupyter.widget-view+json": {
       "model_id": "a5ffdcc455da47319e7fba0be92327d7",
       "version_major": 2,
       "version_minor": 0
      },
      "text/plain": [
       "HBox(children=(IntProgress(value=0, max=304), HTML(value='')))"
      ]
     },
     "metadata": {},
     "output_type": "display_data"
    },
    {
     "name": "stdout",
     "output_type": "stream",
     "text": [
      "\n",
      "Starting inference for model: checkpoints/siamese_bert_4_fold_1_best.pth\n"
     ]
    },
    {
     "data": {
      "application/vnd.jupyter.widget-view+json": {
       "model_id": "560c0932fe0245938329b6000dc0ecab",
       "version_major": 2,
       "version_minor": 0
      },
      "text/plain": [
       "HBox(children=(IntProgress(value=0, max=238), HTML(value='')))"
      ]
     },
     "metadata": {},
     "output_type": "display_data"
    },
    {
     "name": "stdout",
     "output_type": "stream",
     "text": [
      "\n",
      "Fold 2 started at Sat Jan 11 18:25:34 2020\n",
      "epoch 0: \t Start training...\n"
     ]
    },
    {
     "data": {
      "application/vnd.jupyter.widget-view+json": {
       "model_id": "da9c3dce3da24ee082373e33ea9d686e",
       "version_major": 2,
       "version_minor": 0
      },
      "text/plain": [
       "HBox(children=(IntProgress(value=0, max=2736), HTML(value='')))"
      ]
     },
     "metadata": {},
     "output_type": "display_data"
    },
    {
     "name": "stdout",
     "output_type": "stream",
     "text": [
      "\n",
      "epoch 0/3 \t train : loss 0.50323 - spearmanr 0.25415\n",
      "epoch 0: \t Start validation...\n"
     ]
    },
    {
     "data": {
      "application/vnd.jupyter.widget-view+json": {
       "model_id": "f1941feceb814a0b91085e50d92f8dcf",
       "version_major": 2,
       "version_minor": 0
      },
      "text/plain": [
       "HBox(children=(IntProgress(value=0, max=304), HTML(value='')))"
      ]
     },
     "metadata": {},
     "output_type": "display_data"
    },
    {
     "name": "stdout",
     "output_type": "stream",
     "text": [
      "\n",
      "epoch 0/3 \t valid : loss 0.46642 - spearmanr 0.39282\n",
      "best model: epoch 0 - 0.39282\n",
      "epoch 1: \t Start training...\n"
     ]
    },
    {
     "data": {
      "application/vnd.jupyter.widget-view+json": {
       "model_id": "336346f6c56f4bbd9fbb96518c2edd79",
       "version_major": 2,
       "version_minor": 0
      },
      "text/plain": [
       "HBox(children=(IntProgress(value=0, max=2736), HTML(value='')))"
      ]
     },
     "metadata": {},
     "output_type": "display_data"
    },
    {
     "name": "stdout",
     "output_type": "stream",
     "text": [
      "\n",
      "epoch 1/3 \t train : loss 0.45229 - spearmanr 0.40654\n",
      "epoch 1: \t Start validation...\n"
     ]
    },
    {
     "data": {
      "application/vnd.jupyter.widget-view+json": {
       "model_id": "79aba7f9aafa4b68a08f9a69fb555732",
       "version_major": 2,
       "version_minor": 0
      },
      "text/plain": [
       "HBox(children=(IntProgress(value=0, max=304), HTML(value='')))"
      ]
     },
     "metadata": {},
     "output_type": "display_data"
    },
    {
     "name": "stdout",
     "output_type": "stream",
     "text": [
      "\n",
      "epoch 1/3 \t valid : loss 0.45335 - spearmanr 0.42264\n",
      "best model: epoch 1 - 0.42264\n",
      "epoch 2: \t Start training...\n"
     ]
    },
    {
     "data": {
      "application/vnd.jupyter.widget-view+json": {
       "model_id": "2b3c349430df42a8b7c1a20333412398",
       "version_major": 2,
       "version_minor": 0
      },
      "text/plain": [
       "HBox(children=(IntProgress(value=0, max=2736), HTML(value='')))"
      ]
     },
     "metadata": {},
     "output_type": "display_data"
    },
    {
     "name": "stdout",
     "output_type": "stream",
     "text": [
      "\n",
      "epoch 2/3 \t train : loss 0.42668 - spearmanr 0.47564\n",
      "epoch 2: \t Start validation...\n"
     ]
    },
    {
     "data": {
      "application/vnd.jupyter.widget-view+json": {
       "model_id": "dfd8ae3cd84240e3b3b77a967b3ea1c0",
       "version_major": 2,
       "version_minor": 0
      },
      "text/plain": [
       "HBox(children=(IntProgress(value=0, max=304), HTML(value='')))"
      ]
     },
     "metadata": {},
     "output_type": "display_data"
    },
    {
     "name": "stdout",
     "output_type": "stream",
     "text": [
      "\n",
      "epoch 2/3 \t valid : loss 0.45432 - spearmanr 0.42229\n",
      "model not improved for 1 epochs\n",
      "TRAINING END: Best score achieved on epoch 1 - 0.42264\n",
      "Starting inference for model: checkpoints/siamese_bert_4_fold_2_best.pth\n"
     ]
    },
    {
     "data": {
      "application/vnd.jupyter.widget-view+json": {
       "model_id": "f7fa2afe96b34099b27f5a990af2409b",
       "version_major": 2,
       "version_minor": 0
      },
      "text/plain": [
       "HBox(children=(IntProgress(value=0, max=304), HTML(value='')))"
      ]
     },
     "metadata": {},
     "output_type": "display_data"
    },
    {
     "name": "stdout",
     "output_type": "stream",
     "text": [
      "\n",
      "Starting inference for model: checkpoints/siamese_bert_4_fold_2_best.pth\n"
     ]
    },
    {
     "data": {
      "application/vnd.jupyter.widget-view+json": {
       "model_id": "a344b9a874ac44d79c7475e664ae1999",
       "version_major": 2,
       "version_minor": 0
      },
      "text/plain": [
       "HBox(children=(IntProgress(value=0, max=238), HTML(value='')))"
      ]
     },
     "metadata": {},
     "output_type": "display_data"
    },
    {
     "name": "stdout",
     "output_type": "stream",
     "text": [
      "\n",
      "Fold 3 started at Sat Jan 11 18:55:20 2020\n",
      "epoch 0: \t Start training...\n"
     ]
    },
    {
     "data": {
      "application/vnd.jupyter.widget-view+json": {
       "model_id": "c09419c01a12410b9961e1def9041095",
       "version_major": 2,
       "version_minor": 0
      },
      "text/plain": [
       "HBox(children=(IntProgress(value=0, max=2736), HTML(value='')))"
      ]
     },
     "metadata": {},
     "output_type": "display_data"
    },
    {
     "name": "stdout",
     "output_type": "stream",
     "text": [
      "\n",
      "epoch 0/3 \t train : loss 0.50312 - spearmanr 0.25814\n",
      "epoch 0: \t Start validation...\n"
     ]
    },
    {
     "data": {
      "application/vnd.jupyter.widget-view+json": {
       "model_id": "d76e22ab05fd464e968f65c741b5017d",
       "version_major": 2,
       "version_minor": 0
      },
      "text/plain": [
       "HBox(children=(IntProgress(value=0, max=304), HTML(value='')))"
      ]
     },
     "metadata": {},
     "output_type": "display_data"
    },
    {
     "name": "stdout",
     "output_type": "stream",
     "text": [
      "\n",
      "epoch 0/3 \t valid : loss 0.46812 - spearmanr 0.36651\n",
      "best model: epoch 0 - 0.36651\n",
      "epoch 1: \t Start training...\n"
     ]
    },
    {
     "data": {
      "application/vnd.jupyter.widget-view+json": {
       "model_id": "c3f21081bdc84945a0fe146d86ddd08a",
       "version_major": 2,
       "version_minor": 0
      },
      "text/plain": [
       "HBox(children=(IntProgress(value=0, max=2736), HTML(value='')))"
      ]
     },
     "metadata": {},
     "output_type": "display_data"
    },
    {
     "name": "stdout",
     "output_type": "stream",
     "text": [
      "\n",
      "epoch 1/3 \t train : loss 0.45226 - spearmanr 0.40652\n",
      "epoch 1: \t Start validation...\n"
     ]
    },
    {
     "data": {
      "application/vnd.jupyter.widget-view+json": {
       "model_id": "1327b246bd76455c9ce5ede1be339829",
       "version_major": 2,
       "version_minor": 0
      },
      "text/plain": [
       "HBox(children=(IntProgress(value=0, max=304), HTML(value='')))"
      ]
     },
     "metadata": {},
     "output_type": "display_data"
    },
    {
     "name": "stdout",
     "output_type": "stream",
     "text": [
      "\n",
      "epoch 1/3 \t valid : loss 0.46118 - spearmanr 0.39528\n",
      "best model: epoch 1 - 0.39528\n",
      "epoch 2: \t Start training...\n"
     ]
    },
    {
     "data": {
      "application/vnd.jupyter.widget-view+json": {
       "model_id": "8d63666b546b401eb41db41bb2b24dd3",
       "version_major": 2,
       "version_minor": 0
      },
      "text/plain": [
       "HBox(children=(IntProgress(value=0, max=2736), HTML(value='')))"
      ]
     },
     "metadata": {},
     "output_type": "display_data"
    },
    {
     "name": "stdout",
     "output_type": "stream",
     "text": [
      "\n",
      "epoch 2/3 \t train : loss 0.42649 - spearmanr 0.47683\n",
      "epoch 2: \t Start validation...\n"
     ]
    },
    {
     "data": {
      "application/vnd.jupyter.widget-view+json": {
       "model_id": "08e82f5e128340fe90fdad49b833e4d0",
       "version_major": 2,
       "version_minor": 0
      },
      "text/plain": [
       "HBox(children=(IntProgress(value=0, max=304), HTML(value='')))"
      ]
     },
     "metadata": {},
     "output_type": "display_data"
    },
    {
     "name": "stdout",
     "output_type": "stream",
     "text": [
      "\n",
      "epoch 2/3 \t valid : loss 0.45962 - spearmanr 0.39984\n",
      "best model: epoch 2 - 0.39984\n",
      "TRAINING END: Best score achieved on epoch 2 - 0.39984\n",
      "Starting inference for model: checkpoints/siamese_bert_4_fold_3_best.pth\n"
     ]
    },
    {
     "data": {
      "application/vnd.jupyter.widget-view+json": {
       "model_id": "c52e79d188da43e38f484dbf7d578ae4",
       "version_major": 2,
       "version_minor": 0
      },
      "text/plain": [
       "HBox(children=(IntProgress(value=0, max=304), HTML(value='')))"
      ]
     },
     "metadata": {},
     "output_type": "display_data"
    },
    {
     "name": "stdout",
     "output_type": "stream",
     "text": [
      "\n",
      "Starting inference for model: checkpoints/siamese_bert_4_fold_3_best.pth\n"
     ]
    },
    {
     "data": {
      "application/vnd.jupyter.widget-view+json": {
       "model_id": "9b42fcf4de3045089833465d0fd925d4",
       "version_major": 2,
       "version_minor": 0
      },
      "text/plain": [
       "HBox(children=(IntProgress(value=0, max=238), HTML(value='')))"
      ]
     },
     "metadata": {},
     "output_type": "display_data"
    },
    {
     "name": "stdout",
     "output_type": "stream",
     "text": [
      "\n",
      "Fold 4 started at Sat Jan 11 19:25:00 2020\n",
      "epoch 0: \t Start training...\n"
     ]
    },
    {
     "data": {
      "application/vnd.jupyter.widget-view+json": {
       "model_id": "84a39953f71b40a887f2ace8795f09a3",
       "version_major": 2,
       "version_minor": 0
      },
      "text/plain": [
       "HBox(children=(IntProgress(value=0, max=2736), HTML(value='')))"
      ]
     },
     "metadata": {},
     "output_type": "display_data"
    },
    {
     "name": "stdout",
     "output_type": "stream",
     "text": [
      "\n",
      "epoch 0/3 \t train : loss 0.50356 - spearmanr 0.25943\n",
      "epoch 0: \t Start validation...\n"
     ]
    },
    {
     "data": {
      "application/vnd.jupyter.widget-view+json": {
       "model_id": "25861920b1a4479595de4c02d991377f",
       "version_major": 2,
       "version_minor": 0
      },
      "text/plain": [
       "HBox(children=(IntProgress(value=0, max=304), HTML(value='')))"
      ]
     },
     "metadata": {},
     "output_type": "display_data"
    },
    {
     "name": "stdout",
     "output_type": "stream",
     "text": [
      "\n",
      "epoch 0/3 \t valid : loss 0.46792 - spearmanr 0.3641\n",
      "best model: epoch 0 - 0.3641\n",
      "epoch 1: \t Start training...\n"
     ]
    },
    {
     "data": {
      "application/vnd.jupyter.widget-view+json": {
       "model_id": "6d6f8480cc1c49d2bd14e82f4f62d633",
       "version_major": 2,
       "version_minor": 0
      },
      "text/plain": [
       "HBox(children=(IntProgress(value=0, max=2736), HTML(value='')))"
      ]
     },
     "metadata": {},
     "output_type": "display_data"
    },
    {
     "name": "stdout",
     "output_type": "stream",
     "text": [
      "\n",
      "epoch 1/3 \t train : loss 0.45284 - spearmanr 0.40619\n",
      "epoch 1: \t Start validation...\n"
     ]
    },
    {
     "data": {
      "application/vnd.jupyter.widget-view+json": {
       "model_id": "a774158176194657a3aac28da14c92d9",
       "version_major": 2,
       "version_minor": 0
      },
      "text/plain": [
       "HBox(children=(IntProgress(value=0, max=304), HTML(value='')))"
      ]
     },
     "metadata": {},
     "output_type": "display_data"
    },
    {
     "name": "stdout",
     "output_type": "stream",
     "text": [
      "\n",
      "epoch 1/3 \t valid : loss 0.45548 - spearmanr 0.39875\n",
      "best model: epoch 1 - 0.39875\n",
      "epoch 2: \t Start training...\n"
     ]
    },
    {
     "data": {
      "application/vnd.jupyter.widget-view+json": {
       "model_id": "ac350f7ac58642a699425a7b9375adbf",
       "version_major": 2,
       "version_minor": 0
      },
      "text/plain": [
       "HBox(children=(IntProgress(value=0, max=2736), HTML(value='')))"
      ]
     },
     "metadata": {},
     "output_type": "display_data"
    },
    {
     "name": "stdout",
     "output_type": "stream",
     "text": [
      "\n",
      "epoch 2/3 \t train : loss 0.42661 - spearmanr 0.47756\n",
      "epoch 2: \t Start validation...\n"
     ]
    },
    {
     "data": {
      "application/vnd.jupyter.widget-view+json": {
       "model_id": "58f6492d48694ff7a9306e7c030896b6",
       "version_major": 2,
       "version_minor": 0
      },
      "text/plain": [
       "HBox(children=(IntProgress(value=0, max=304), HTML(value='')))"
      ]
     },
     "metadata": {},
     "output_type": "display_data"
    },
    {
     "name": "stdout",
     "output_type": "stream",
     "text": [
      "\n",
      "epoch 2/3 \t valid : loss 0.45371 - spearmanr 0.40119\n",
      "best model: epoch 2 - 0.40119\n",
      "TRAINING END: Best score achieved on epoch 2 - 0.40119\n",
      "Starting inference for model: checkpoints/siamese_bert_4_fold_4_best.pth\n"
     ]
    },
    {
     "data": {
      "application/vnd.jupyter.widget-view+json": {
       "model_id": "a97d2c5f879e43c8a84377dbdf302576",
       "version_major": 2,
       "version_minor": 0
      },
      "text/plain": [
       "HBox(children=(IntProgress(value=0, max=304), HTML(value='')))"
      ]
     },
     "metadata": {},
     "output_type": "display_data"
    },
    {
     "name": "stdout",
     "output_type": "stream",
     "text": [
      "\n",
      "Starting inference for model: checkpoints/siamese_bert_4_fold_4_best.pth\n"
     ]
    },
    {
     "data": {
      "application/vnd.jupyter.widget-view+json": {
       "model_id": "4497f148179048f682d1f2be8b421791",
       "version_major": 2,
       "version_minor": 0
      },
      "text/plain": [
       "HBox(children=(IntProgress(value=0, max=238), HTML(value='')))"
      ]
     },
     "metadata": {},
     "output_type": "display_data"
    },
    {
     "name": "stdout",
     "output_type": "stream",
     "text": [
      "\n",
      "Fold 5 started at Sat Jan 11 19:54:44 2020\n",
      "epoch 0: \t Start training...\n"
     ]
    },
    {
     "data": {
      "application/vnd.jupyter.widget-view+json": {
       "model_id": "b8073db86311449f9d4a47bbfe09dadd",
       "version_major": 2,
       "version_minor": 0
      },
      "text/plain": [
       "HBox(children=(IntProgress(value=0, max=2736), HTML(value='')))"
      ]
     },
     "metadata": {},
     "output_type": "display_data"
    },
    {
     "name": "stdout",
     "output_type": "stream",
     "text": [
      "\n",
      "epoch 0/3 \t train : loss 0.50405 - spearmanr 0.25569\n",
      "epoch 0: \t Start validation...\n"
     ]
    },
    {
     "data": {
      "application/vnd.jupyter.widget-view+json": {
       "model_id": "add0069695dc48c0ac218132908eb687",
       "version_major": 2,
       "version_minor": 0
      },
      "text/plain": [
       "HBox(children=(IntProgress(value=0, max=304), HTML(value='')))"
      ]
     },
     "metadata": {},
     "output_type": "display_data"
    },
    {
     "name": "stdout",
     "output_type": "stream",
     "text": [
      "\n",
      "epoch 0/3 \t valid : loss 0.4675 - spearmanr 0.37001\n",
      "best model: epoch 0 - 0.37001\n",
      "epoch 1: \t Start training...\n"
     ]
    },
    {
     "data": {
      "application/vnd.jupyter.widget-view+json": {
       "model_id": "030095fb289145d699beb1744035511d",
       "version_major": 2,
       "version_minor": 0
      },
      "text/plain": [
       "HBox(children=(IntProgress(value=0, max=2736), HTML(value='')))"
      ]
     },
     "metadata": {},
     "output_type": "display_data"
    },
    {
     "name": "stdout",
     "output_type": "stream",
     "text": [
      "\n",
      "epoch 1/3 \t train : loss 0.45259 - spearmanr 0.40927\n",
      "epoch 1: \t Start validation...\n"
     ]
    },
    {
     "data": {
      "application/vnd.jupyter.widget-view+json": {
       "model_id": "5ebe2777fd5a42bab84961753c277339",
       "version_major": 2,
       "version_minor": 0
      },
      "text/plain": [
       "HBox(children=(IntProgress(value=0, max=304), HTML(value='')))"
      ]
     },
     "metadata": {},
     "output_type": "display_data"
    },
    {
     "name": "stdout",
     "output_type": "stream",
     "text": [
      "\n",
      "epoch 1/3 \t valid : loss 0.45333 - spearmanr 0.39606\n",
      "best model: epoch 1 - 0.39606\n",
      "epoch 2: \t Start training...\n"
     ]
    },
    {
     "data": {
      "application/vnd.jupyter.widget-view+json": {
       "model_id": "904a0fd2cf2f4b5aa53cc38f88ed8a9c",
       "version_major": 2,
       "version_minor": 0
      },
      "text/plain": [
       "HBox(children=(IntProgress(value=0, max=2736), HTML(value='')))"
      ]
     },
     "metadata": {},
     "output_type": "display_data"
    },
    {
     "name": "stdout",
     "output_type": "stream",
     "text": [
      "\n",
      "epoch 2/3 \t train : loss 0.42627 - spearmanr 0.47896\n",
      "epoch 2: \t Start validation...\n"
     ]
    },
    {
     "data": {
      "application/vnd.jupyter.widget-view+json": {
       "model_id": "46cb07dc625246548b42cb9a07beb95c",
       "version_major": 2,
       "version_minor": 0
      },
      "text/plain": [
       "HBox(children=(IntProgress(value=0, max=304), HTML(value='')))"
      ]
     },
     "metadata": {},
     "output_type": "display_data"
    },
    {
     "name": "stdout",
     "output_type": "stream",
     "text": [
      "\n",
      "epoch 2/3 \t valid : loss 0.45297 - spearmanr 0.4006\n",
      "best model: epoch 2 - 0.4006\n",
      "TRAINING END: Best score achieved on epoch 2 - 0.40060\n",
      "Starting inference for model: checkpoints/siamese_bert_4_fold_5_best.pth\n"
     ]
    },
    {
     "data": {
      "application/vnd.jupyter.widget-view+json": {
       "model_id": "96f9541693844b6e9c7f0ddb3ac6ef53",
       "version_major": 2,
       "version_minor": 0
      },
      "text/plain": [
       "HBox(children=(IntProgress(value=0, max=304), HTML(value='')))"
      ]
     },
     "metadata": {},
     "output_type": "display_data"
    },
    {
     "name": "stdout",
     "output_type": "stream",
     "text": [
      "\n",
      "Starting inference for model: checkpoints/siamese_bert_4_fold_5_best.pth\n"
     ]
    },
    {
     "data": {
      "application/vnd.jupyter.widget-view+json": {
       "model_id": "9ecbe2a2355640008f5fed15bccf9267",
       "version_major": 2,
       "version_minor": 0
      },
      "text/plain": [
       "HBox(children=(IntProgress(value=0, max=238), HTML(value='')))"
      ]
     },
     "metadata": {},
     "output_type": "display_data"
    },
    {
     "name": "stdout",
     "output_type": "stream",
     "text": [
      "\n",
      "Fold 6 started at Sat Jan 11 20:24:24 2020\n",
      "epoch 0: \t Start training...\n"
     ]
    },
    {
     "data": {
      "application/vnd.jupyter.widget-view+json": {
       "model_id": "0b390dd68d34481e9da05ad0eab281a7",
       "version_major": 2,
       "version_minor": 0
      },
      "text/plain": [
       "HBox(children=(IntProgress(value=0, max=2736), HTML(value='')))"
      ]
     },
     "metadata": {},
     "output_type": "display_data"
    },
    {
     "name": "stdout",
     "output_type": "stream",
     "text": [
      "\n",
      "epoch 0/3 \t train : loss 0.50285 - spearmanr 0.26142\n",
      "epoch 0: \t Start validation...\n"
     ]
    },
    {
     "data": {
      "application/vnd.jupyter.widget-view+json": {
       "model_id": "24b1592c9ece4ba681759c7346b2a4be",
       "version_major": 2,
       "version_minor": 0
      },
      "text/plain": [
       "HBox(children=(IntProgress(value=0, max=304), HTML(value='')))"
      ]
     },
     "metadata": {},
     "output_type": "display_data"
    },
    {
     "name": "stdout",
     "output_type": "stream",
     "text": [
      "\n",
      "epoch 0/3 \t valid : loss 0.4663 - spearmanr 0.36776\n",
      "best model: epoch 0 - 0.36776\n",
      "epoch 1: \t Start training...\n"
     ]
    },
    {
     "data": {
      "application/vnd.jupyter.widget-view+json": {
       "model_id": "00b286be41b54394b53047bf36b3b3b7",
       "version_major": 2,
       "version_minor": 0
      },
      "text/plain": [
       "HBox(children=(IntProgress(value=0, max=2736), HTML(value='')))"
      ]
     },
     "metadata": {},
     "output_type": "display_data"
    },
    {
     "name": "stdout",
     "output_type": "stream",
     "text": [
      "\n",
      "epoch 1/3 \t train : loss 0.45274 - spearmanr 0.40904\n",
      "epoch 1: \t Start validation...\n"
     ]
    },
    {
     "data": {
      "application/vnd.jupyter.widget-view+json": {
       "model_id": "386583b9845e43c593cdb931bd1c8873",
       "version_major": 2,
       "version_minor": 0
      },
      "text/plain": [
       "HBox(children=(IntProgress(value=0, max=304), HTML(value='')))"
      ]
     },
     "metadata": {},
     "output_type": "display_data"
    },
    {
     "name": "stdout",
     "output_type": "stream",
     "text": [
      "\n",
      "epoch 1/3 \t valid : loss 0.4501 - spearmanr 0.39878\n",
      "best model: epoch 1 - 0.39878\n",
      "epoch 2: \t Start training...\n"
     ]
    },
    {
     "data": {
      "application/vnd.jupyter.widget-view+json": {
       "model_id": "83f77a73ea5f47ea8b8d256e4a5c64b2",
       "version_major": 2,
       "version_minor": 0
      },
      "text/plain": [
       "HBox(children=(IntProgress(value=0, max=2736), HTML(value='')))"
      ]
     },
     "metadata": {},
     "output_type": "display_data"
    },
    {
     "name": "stdout",
     "output_type": "stream",
     "text": [
      "\n",
      "epoch 2/3 \t train : loss 0.42669 - spearmanr 0.47832\n",
      "epoch 2: \t Start validation...\n"
     ]
    },
    {
     "data": {
      "application/vnd.jupyter.widget-view+json": {
       "model_id": "4fa923c96142425c8b75cab9acce4ac7",
       "version_major": 2,
       "version_minor": 0
      },
      "text/plain": [
       "HBox(children=(IntProgress(value=0, max=304), HTML(value='')))"
      ]
     },
     "metadata": {},
     "output_type": "display_data"
    },
    {
     "name": "stdout",
     "output_type": "stream",
     "text": [
      "\n",
      "epoch 2/3 \t valid : loss 0.44902 - spearmanr 0.39981\n",
      "best model: epoch 2 - 0.39981\n",
      "TRAINING END: Best score achieved on epoch 2 - 0.39981\n",
      "Starting inference for model: checkpoints/siamese_bert_4_fold_6_best.pth\n"
     ]
    },
    {
     "data": {
      "application/vnd.jupyter.widget-view+json": {
       "model_id": "0a0b079d2534446eb976cb2901f77cc3",
       "version_major": 2,
       "version_minor": 0
      },
      "text/plain": [
       "HBox(children=(IntProgress(value=0, max=304), HTML(value='')))"
      ]
     },
     "metadata": {},
     "output_type": "display_data"
    },
    {
     "name": "stdout",
     "output_type": "stream",
     "text": [
      "\n",
      "Starting inference for model: checkpoints/siamese_bert_4_fold_6_best.pth\n"
     ]
    },
    {
     "data": {
      "application/vnd.jupyter.widget-view+json": {
       "model_id": "af180ccaacce490faa03c21603ca3824",
       "version_major": 2,
       "version_minor": 0
      },
      "text/plain": [
       "HBox(children=(IntProgress(value=0, max=238), HTML(value='')))"
      ]
     },
     "metadata": {},
     "output_type": "display_data"
    },
    {
     "name": "stdout",
     "output_type": "stream",
     "text": [
      "\n",
      "Fold 7 started at Sat Jan 11 20:54:12 2020\n",
      "epoch 0: \t Start training...\n"
     ]
    },
    {
     "data": {
      "application/vnd.jupyter.widget-view+json": {
       "model_id": "acd6e6b7d5df4ced856b9869486f41b0",
       "version_major": 2,
       "version_minor": 0
      },
      "text/plain": [
       "HBox(children=(IntProgress(value=0, max=2736), HTML(value='')))"
      ]
     },
     "metadata": {},
     "output_type": "display_data"
    },
    {
     "name": "stdout",
     "output_type": "stream",
     "text": [
      "\n",
      "epoch 0/3 \t train : loss 0.50335 - spearmanr 0.25657\n",
      "epoch 0: \t Start validation...\n"
     ]
    },
    {
     "data": {
      "application/vnd.jupyter.widget-view+json": {
       "model_id": "a6fc4623691943acb915336c4c51a930",
       "version_major": 2,
       "version_minor": 0
      },
      "text/plain": [
       "HBox(children=(IntProgress(value=0, max=304), HTML(value='')))"
      ]
     },
     "metadata": {},
     "output_type": "display_data"
    },
    {
     "name": "stdout",
     "output_type": "stream",
     "text": [
      "\n",
      "epoch 0/3 \t valid : loss 0.47198 - spearmanr 0.37476\n",
      "best model: epoch 0 - 0.37476\n",
      "epoch 1: \t Start training...\n"
     ]
    },
    {
     "data": {
      "application/vnd.jupyter.widget-view+json": {
       "model_id": "45d66e19218741529c65ab94c63566f5",
       "version_major": 2,
       "version_minor": 0
      },
      "text/plain": [
       "HBox(children=(IntProgress(value=0, max=2736), HTML(value='')))"
      ]
     },
     "metadata": {},
     "output_type": "display_data"
    },
    {
     "name": "stdout",
     "output_type": "stream",
     "text": [
      "\n",
      "epoch 1/3 \t train : loss 0.45205 - spearmanr 0.40794\n",
      "epoch 1: \t Start validation...\n"
     ]
    },
    {
     "data": {
      "application/vnd.jupyter.widget-view+json": {
       "model_id": "9029ee8d624f4fb6808bab36642e05c9",
       "version_major": 2,
       "version_minor": 0
      },
      "text/plain": [
       "HBox(children=(IntProgress(value=0, max=304), HTML(value='')))"
      ]
     },
     "metadata": {},
     "output_type": "display_data"
    },
    {
     "name": "stdout",
     "output_type": "stream",
     "text": [
      "\n",
      "epoch 1/3 \t valid : loss 0.45646 - spearmanr 0.41023\n",
      "best model: epoch 1 - 0.41023\n",
      "epoch 2: \t Start training...\n"
     ]
    },
    {
     "data": {
      "application/vnd.jupyter.widget-view+json": {
       "model_id": "a7c0aac01d8c466c999e3ce3179008c0",
       "version_major": 2,
       "version_minor": 0
      },
      "text/plain": [
       "HBox(children=(IntProgress(value=0, max=2736), HTML(value='')))"
      ]
     },
     "metadata": {},
     "output_type": "display_data"
    },
    {
     "name": "stdout",
     "output_type": "stream",
     "text": [
      "\n",
      "epoch 2/3 \t train : loss 0.42627 - spearmanr 0.47632\n",
      "epoch 2: \t Start validation...\n"
     ]
    },
    {
     "data": {
      "application/vnd.jupyter.widget-view+json": {
       "model_id": "e9ddc5bc75914f4f9d72410fe1312fd5",
       "version_major": 2,
       "version_minor": 0
      },
      "text/plain": [
       "HBox(children=(IntProgress(value=0, max=304), HTML(value='')))"
      ]
     },
     "metadata": {},
     "output_type": "display_data"
    },
    {
     "name": "stdout",
     "output_type": "stream",
     "text": [
      "\n",
      "epoch 2/3 \t valid : loss 0.45609 - spearmanr 0.42133\n",
      "best model: epoch 2 - 0.42133\n",
      "TRAINING END: Best score achieved on epoch 2 - 0.42133\n",
      "Starting inference for model: checkpoints/siamese_bert_4_fold_7_best.pth\n"
     ]
    },
    {
     "data": {
      "application/vnd.jupyter.widget-view+json": {
       "model_id": "908f07929eba44cf87dc98fd66d89e3f",
       "version_major": 2,
       "version_minor": 0
      },
      "text/plain": [
       "HBox(children=(IntProgress(value=0, max=304), HTML(value='')))"
      ]
     },
     "metadata": {},
     "output_type": "display_data"
    },
    {
     "name": "stdout",
     "output_type": "stream",
     "text": [
      "\n",
      "Starting inference for model: checkpoints/siamese_bert_4_fold_7_best.pth\n"
     ]
    },
    {
     "data": {
      "application/vnd.jupyter.widget-view+json": {
       "model_id": "9f70f746cb5e45cfb8cdde388977660a",
       "version_major": 2,
       "version_minor": 0
      },
      "text/plain": [
       "HBox(children=(IntProgress(value=0, max=238), HTML(value='')))"
      ]
     },
     "metadata": {},
     "output_type": "display_data"
    },
    {
     "name": "stdout",
     "output_type": "stream",
     "text": [
      "\n",
      "Fold 8 started at Sat Jan 11 21:23:27 2020\n",
      "epoch 0: \t Start training...\n"
     ]
    },
    {
     "data": {
      "application/vnd.jupyter.widget-view+json": {
       "model_id": "389eda4231f1409caebfd1d5c589f864",
       "version_major": 2,
       "version_minor": 0
      },
      "text/plain": [
       "HBox(children=(IntProgress(value=0, max=2736), HTML(value='')))"
      ]
     },
     "metadata": {},
     "output_type": "display_data"
    },
    {
     "name": "stdout",
     "output_type": "stream",
     "text": [
      "\n",
      "epoch 0/3 \t train : loss 0.50308 - spearmanr 0.25335\n",
      "epoch 0: \t Start validation...\n"
     ]
    },
    {
     "data": {
      "application/vnd.jupyter.widget-view+json": {
       "model_id": "1109d6a981134d0ab54618962fb8ab1f",
       "version_major": 2,
       "version_minor": 0
      },
      "text/plain": [
       "HBox(children=(IntProgress(value=0, max=304), HTML(value='')))"
      ]
     },
     "metadata": {},
     "output_type": "display_data"
    },
    {
     "name": "stdout",
     "output_type": "stream",
     "text": [
      "\n",
      "epoch 0/3 \t valid : loss 0.4796 - spearmanr 0.38061\n",
      "best model: epoch 0 - 0.38061\n",
      "epoch 1: \t Start training...\n"
     ]
    },
    {
     "data": {
      "application/vnd.jupyter.widget-view+json": {
       "model_id": "0dbc389f4af74628b44958a6108e3ffc",
       "version_major": 2,
       "version_minor": 0
      },
      "text/plain": [
       "HBox(children=(IntProgress(value=0, max=2736), HTML(value='')))"
      ]
     },
     "metadata": {},
     "output_type": "display_data"
    },
    {
     "name": "stdout",
     "output_type": "stream",
     "text": [
      "\n",
      "epoch 1/3 \t train : loss 0.45149 - spearmanr 0.40686\n",
      "epoch 1: \t Start validation...\n"
     ]
    },
    {
     "data": {
      "application/vnd.jupyter.widget-view+json": {
       "model_id": "bf7e9f5236194446ad3579cc4d57decf",
       "version_major": 2,
       "version_minor": 0
      },
      "text/plain": [
       "HBox(children=(IntProgress(value=0, max=304), HTML(value='')))"
      ]
     },
     "metadata": {},
     "output_type": "display_data"
    },
    {
     "name": "stdout",
     "output_type": "stream",
     "text": [
      "\n",
      "epoch 1/3 \t valid : loss 0.46339 - spearmanr 0.41371\n",
      "best model: epoch 1 - 0.41371\n",
      "epoch 2: \t Start training...\n"
     ]
    },
    {
     "data": {
      "application/vnd.jupyter.widget-view+json": {
       "model_id": "18ff6668d7d14e9d8a6e8d50b25dba5e",
       "version_major": 2,
       "version_minor": 0
      },
      "text/plain": [
       "HBox(children=(IntProgress(value=0, max=2736), HTML(value='')))"
      ]
     },
     "metadata": {},
     "output_type": "display_data"
    },
    {
     "name": "stdout",
     "output_type": "stream",
     "text": [
      "\n",
      "epoch 2/3 \t train : loss 0.42685 - spearmanr 0.47391\n",
      "epoch 2: \t Start validation...\n"
     ]
    },
    {
     "data": {
      "application/vnd.jupyter.widget-view+json": {
       "model_id": "dc3743a9ecb94aaba1a1ce22ded45696",
       "version_major": 2,
       "version_minor": 0
      },
      "text/plain": [
       "HBox(children=(IntProgress(value=0, max=304), HTML(value='')))"
      ]
     },
     "metadata": {},
     "output_type": "display_data"
    },
    {
     "name": "stdout",
     "output_type": "stream",
     "text": [
      "\n",
      "epoch 2/3 \t valid : loss 0.46167 - spearmanr 0.4171\n",
      "best model: epoch 2 - 0.4171\n",
      "TRAINING END: Best score achieved on epoch 2 - 0.41710\n",
      "Starting inference for model: checkpoints/siamese_bert_4_fold_8_best.pth\n"
     ]
    },
    {
     "data": {
      "application/vnd.jupyter.widget-view+json": {
       "model_id": "5d989ce7b24840a2b5823826dc2fd83f",
       "version_major": 2,
       "version_minor": 0
      },
      "text/plain": [
       "HBox(children=(IntProgress(value=0, max=304), HTML(value='')))"
      ]
     },
     "metadata": {},
     "output_type": "display_data"
    },
    {
     "name": "stdout",
     "output_type": "stream",
     "text": [
      "\n",
      "Starting inference for model: checkpoints/siamese_bert_4_fold_8_best.pth\n"
     ]
    },
    {
     "data": {
      "application/vnd.jupyter.widget-view+json": {
       "model_id": "a28088b7bbd54fdb8fb125fdad028e93",
       "version_major": 2,
       "version_minor": 0
      },
      "text/plain": [
       "HBox(children=(IntProgress(value=0, max=238), HTML(value='')))"
      ]
     },
     "metadata": {},
     "output_type": "display_data"
    },
    {
     "name": "stdout",
     "output_type": "stream",
     "text": [
      "\n",
      "Fold 9 started at Sat Jan 11 21:53:39 2020\n",
      "epoch 0: \t Start training...\n"
     ]
    },
    {
     "data": {
      "application/vnd.jupyter.widget-view+json": {
       "model_id": "e700cf79659d45b4bffc7e765f8871d5",
       "version_major": 2,
       "version_minor": 0
      },
      "text/plain": [
       "HBox(children=(IntProgress(value=0, max=2736), HTML(value='')))"
      ]
     },
     "metadata": {},
     "output_type": "display_data"
    },
    {
     "name": "stdout",
     "output_type": "stream",
     "text": [
      "\n",
      "epoch 0/3 \t train : loss 0.50289 - spearmanr 0.25712\n",
      "epoch 0: \t Start validation...\n"
     ]
    },
    {
     "data": {
      "application/vnd.jupyter.widget-view+json": {
       "model_id": "958e8655f9e14710a272cbdc0c76d795",
       "version_major": 2,
       "version_minor": 0
      },
      "text/plain": [
       "HBox(children=(IntProgress(value=0, max=304), HTML(value='')))"
      ]
     },
     "metadata": {},
     "output_type": "display_data"
    },
    {
     "name": "stdout",
     "output_type": "stream",
     "text": [
      "\n",
      "epoch 0/3 \t valid : loss 0.47162 - spearmanr 0.37762\n",
      "best model: epoch 0 - 0.37762\n",
      "epoch 1: \t Start training...\n"
     ]
    },
    {
     "data": {
      "application/vnd.jupyter.widget-view+json": {
       "model_id": "1a302c92c6694e4abc31277706419789",
       "version_major": 2,
       "version_minor": 0
      },
      "text/plain": [
       "HBox(children=(IntProgress(value=0, max=2736), HTML(value='')))"
      ]
     },
     "metadata": {},
     "output_type": "display_data"
    },
    {
     "name": "stdout",
     "output_type": "stream",
     "text": [
      "\n",
      "epoch 1/3 \t train : loss 0.45286 - spearmanr 0.40639\n",
      "epoch 1: \t Start validation...\n"
     ]
    },
    {
     "data": {
      "application/vnd.jupyter.widget-view+json": {
       "model_id": "f373469ac3ac49d0b205fb84274c67dc",
       "version_major": 2,
       "version_minor": 0
      },
      "text/plain": [
       "HBox(children=(IntProgress(value=0, max=304), HTML(value='')))"
      ]
     },
     "metadata": {},
     "output_type": "display_data"
    },
    {
     "name": "stdout",
     "output_type": "stream",
     "text": [
      "\n",
      "epoch 1/3 \t valid : loss 0.45519 - spearmanr 0.40271\n",
      "best model: epoch 1 - 0.40271\n",
      "epoch 2: \t Start training...\n"
     ]
    },
    {
     "data": {
      "application/vnd.jupyter.widget-view+json": {
       "model_id": "81b91b36527d4cbbb559714cbe0529dd",
       "version_major": 2,
       "version_minor": 0
      },
      "text/plain": [
       "HBox(children=(IntProgress(value=0, max=2736), HTML(value='')))"
      ]
     },
     "metadata": {},
     "output_type": "display_data"
    },
    {
     "name": "stdout",
     "output_type": "stream",
     "text": [
      "\n",
      "epoch 2/3 \t train : loss 0.42605 - spearmanr 0.47816\n",
      "epoch 2: \t Start validation...\n"
     ]
    },
    {
     "data": {
      "application/vnd.jupyter.widget-view+json": {
       "model_id": "e54c76aaffa642b4b1c54744dad7c968",
       "version_major": 2,
       "version_minor": 0
      },
      "text/plain": [
       "HBox(children=(IntProgress(value=0, max=304), HTML(value='')))"
      ]
     },
     "metadata": {},
     "output_type": "display_data"
    },
    {
     "name": "stdout",
     "output_type": "stream",
     "text": [
      "\n",
      "epoch 2/3 \t valid : loss 0.45339 - spearmanr 0.41016\n",
      "best model: epoch 2 - 0.41016\n",
      "TRAINING END: Best score achieved on epoch 2 - 0.41016\n",
      "Starting inference for model: checkpoints/siamese_bert_4_fold_9_best.pth\n"
     ]
    },
    {
     "data": {
      "application/vnd.jupyter.widget-view+json": {
       "model_id": "b90186a7514b40f7ae31cdf14faf669b",
       "version_major": 2,
       "version_minor": 0
      },
      "text/plain": [
       "HBox(children=(IntProgress(value=0, max=304), HTML(value='')))"
      ]
     },
     "metadata": {},
     "output_type": "display_data"
    },
    {
     "name": "stdout",
     "output_type": "stream",
     "text": [
      "\n",
      "Starting inference for model: checkpoints/siamese_bert_4_fold_9_best.pth\n"
     ]
    },
    {
     "data": {
      "application/vnd.jupyter.widget-view+json": {
       "model_id": "cd4c1d2dfd35472fa32c53cb6c460255",
       "version_major": 2,
       "version_minor": 0
      },
      "text/plain": [
       "HBox(children=(IntProgress(value=0, max=238), HTML(value='')))"
      ]
     },
     "metadata": {},
     "output_type": "display_data"
    },
    {
     "name": "stdout",
     "output_type": "stream",
     "text": [
      "\n",
      "Fold 10 started at Sat Jan 11 22:23:36 2020\n",
      "epoch 0: \t Start training...\n"
     ]
    },
    {
     "data": {
      "application/vnd.jupyter.widget-view+json": {
       "model_id": "d0f82c0640f9454c8147c24b6f81ca05",
       "version_major": 2,
       "version_minor": 0
      },
      "text/plain": [
       "HBox(children=(IntProgress(value=0, max=2736), HTML(value='')))"
      ]
     },
     "metadata": {},
     "output_type": "display_data"
    },
    {
     "name": "stdout",
     "output_type": "stream",
     "text": [
      "\n",
      "epoch 0/3 \t train : loss 0.50469 - spearmanr 0.25207\n",
      "epoch 0: \t Start validation...\n"
     ]
    },
    {
     "data": {
      "application/vnd.jupyter.widget-view+json": {
       "model_id": "79734b8b4b79419899389c658e4e3d64",
       "version_major": 2,
       "version_minor": 0
      },
      "text/plain": [
       "HBox(children=(IntProgress(value=0, max=304), HTML(value='')))"
      ]
     },
     "metadata": {},
     "output_type": "display_data"
    },
    {
     "name": "stdout",
     "output_type": "stream",
     "text": [
      "\n",
      "epoch 0/3 \t valid : loss 0.45775 - spearmanr 0.3853\n",
      "best model: epoch 0 - 0.3853\n",
      "epoch 1: \t Start training...\n"
     ]
    },
    {
     "data": {
      "application/vnd.jupyter.widget-view+json": {
       "model_id": "c0d4a58acf2d4ef6bf1ea5a3e09a1ff7",
       "version_major": 2,
       "version_minor": 0
      },
      "text/plain": [
       "HBox(children=(IntProgress(value=0, max=2736), HTML(value='')))"
      ]
     },
     "metadata": {},
     "output_type": "display_data"
    },
    {
     "name": "stdout",
     "output_type": "stream",
     "text": [
      "\n",
      "epoch 1/3 \t train : loss 0.45293 - spearmanr 0.40579\n",
      "epoch 1: \t Start validation...\n"
     ]
    },
    {
     "data": {
      "application/vnd.jupyter.widget-view+json": {
       "model_id": "82961f93a1e344509b4fd483f1825a3c",
       "version_major": 2,
       "version_minor": 0
      },
      "text/plain": [
       "HBox(children=(IntProgress(value=0, max=304), HTML(value='')))"
      ]
     },
     "metadata": {},
     "output_type": "display_data"
    },
    {
     "name": "stdout",
     "output_type": "stream",
     "text": [
      "\n",
      "epoch 1/3 \t valid : loss 0.4468 - spearmanr 0.41289\n",
      "best model: epoch 1 - 0.41289\n",
      "epoch 2: \t Start training...\n"
     ]
    },
    {
     "data": {
      "application/vnd.jupyter.widget-view+json": {
       "model_id": "7dcbe1fc7df641ffa69af19528e54b99",
       "version_major": 2,
       "version_minor": 0
      },
      "text/plain": [
       "HBox(children=(IntProgress(value=0, max=2736), HTML(value='')))"
      ]
     },
     "metadata": {},
     "output_type": "display_data"
    },
    {
     "name": "stdout",
     "output_type": "stream",
     "text": [
      "\n",
      "epoch 2/3 \t train : loss 0.42716 - spearmanr 0.47633\n",
      "epoch 2: \t Start validation...\n"
     ]
    },
    {
     "data": {
      "application/vnd.jupyter.widget-view+json": {
       "model_id": "8a4e8e82713e40b9928e5d9c7870f673",
       "version_major": 2,
       "version_minor": 0
      },
      "text/plain": [
       "HBox(children=(IntProgress(value=0, max=304), HTML(value='')))"
      ]
     },
     "metadata": {},
     "output_type": "display_data"
    },
    {
     "name": "stdout",
     "output_type": "stream",
     "text": [
      "\n",
      "epoch 2/3 \t valid : loss 0.44507 - spearmanr 0.4207\n",
      "best model: epoch 2 - 0.4207\n",
      "TRAINING END: Best score achieved on epoch 2 - 0.42070\n",
      "Starting inference for model: checkpoints/siamese_bert_4_fold_10_best.pth\n"
     ]
    },
    {
     "data": {
      "application/vnd.jupyter.widget-view+json": {
       "model_id": "5ad13d00d28e47519a322399a1aa9720",
       "version_major": 2,
       "version_minor": 0
      },
      "text/plain": [
       "HBox(children=(IntProgress(value=0, max=304), HTML(value='')))"
      ]
     },
     "metadata": {},
     "output_type": "display_data"
    },
    {
     "name": "stdout",
     "output_type": "stream",
     "text": [
      "\n",
      "Starting inference for model: checkpoints/siamese_bert_4_fold_10_best.pth\n"
     ]
    },
    {
     "data": {
      "application/vnd.jupyter.widget-view+json": {
       "model_id": "92ba2ce4ea4f45bcbcfb1fa90d371ad3",
       "version_major": 2,
       "version_minor": 0
      },
      "text/plain": [
       "HBox(children=(IntProgress(value=0, max=238), HTML(value='')))"
      ]
     },
     "metadata": {},
     "output_type": "display_data"
    },
    {
     "name": "stdout",
     "output_type": "stream",
     "text": [
      "\n",
      "OOF score: 0.41134666402786335\n"
     ]
    }
   ],
   "source": [
    "init_seed()\n",
    "folds = GroupKFold(n_splits=n_folds).split(X=train['question_body'], groups=train['question_body'])\n",
    "oofs = np.zeros((len(train), N_TARGETS))\n",
    "preds = np.zeros((len(test), N_TARGETS))\n",
    "\n",
    "for fold_id, (train_index, valid_index) in enumerate(folds):\n",
    "    print(f'Fold {fold_id + 1} started at {time.ctime()}')\n",
    "    train_loader = DataLoader(\n",
    "        TextDataset(cat_features_train, ids_train['question'], ids_train['answer'],\n",
    "                    seg_ids_train['question'], seg_ids_train['answer'], train_index, targets=y), \n",
    "        batch_size=bs, shuffle=True, num_workers=num_workers, drop_last=False\n",
    "    )\n",
    "    valid_loader = DataLoader(\n",
    "        TextDataset(cat_features_train, ids_train['question'], ids_train['answer'],\n",
    "                    seg_ids_train['question'], seg_ids_train['answer'], valid_index, targets=y), \n",
    "        batch_size=bs, shuffle=False, num_workers=num_workers, drop_last=False\n",
    "    )\n",
    "    model = CustomBert3(256, cat_features_train.shape[1])\n",
    "    \n",
    "    if fold_id == 0:\n",
    "        # print(model)\n",
    "        model = model.to(device)\n",
    "        optimizer = get_optimizer(model, lr, weight_decay)\n",
    "        lr_finder = LRFinder(n_iter=min(grad_accum*100, len(train_loader)), start_lr=1e-5, \n",
    "                             end_lr=1, device=device, grad_accum=grad_accum, divergence_factor=5)\n",
    "        lr_finder.find_lr(model, optimizer, train_loader, loss_fn)\n",
    "        plt.show()\n",
    "    \n",
    "    optimizer = get_optimizer(model, lr, weight_decay)\n",
    "    scheduler = OneCycleLR(optimizer, n_epochs=n_epochs, n_batches=len(train_loader))\n",
    "\n",
    "    learner = Learner(\n",
    "        model, \n",
    "        optimizer, \n",
    "        train_loader, \n",
    "        valid_loader, \n",
    "        loss_fn, \n",
    "        device, \n",
    "        n_epochs, \n",
    "        f'{model_name}_fold_{fold_id + 1}', \n",
    "        checkpoint_dir, \n",
    "        scheduler=scheduler, \n",
    "        metric_fns={'spearmanr': (spearmanr_torch, 'epoch_end')}, \n",
    "        monitor_metric='spearmanr',\n",
    "        minimize_score=False, \n",
    "        logger=None,\n",
    "        grad_accum=grad_accum,\n",
    "        early_stopping=early_stopping, \n",
    "        batch_step_scheduler=True\n",
    "    )\n",
    "    if (fold_id + 1) > 0: learner.train()\n",
    "    \n",
    "    oofs[valid_index] = infer(learner.model, valid_loader, learner.best_checkpoint_file, device)\n",
    "    \n",
    "    test_preds = infer(learner.model, test_loader, learner.best_checkpoint_file, device)\n",
    "    preds += test_preds / n_folds\n",
    "    \n",
    "    del learner, model, train_loader, valid_loader\n",
    "    gc.collect()\n",
    "    \n",
    "print(f'OOF score: {spearmanr_np(oofs, y)}')\n",
    "#KFold 5: distilbert: 0.4160\n",
    "#GKFold 5: distilbert: ~0.4005, ~0.4130, distilbert eda: ~0.4000, ~0.4200 (unsure), bert siamese: 0.4040, 0.4188\n",
    "    # smoothing y dist -> ~0.005 CV improve\n",
    "#GKFold 10: distilbert: 0.4012, ~0.4195, bert siamese with smoothing (1): 0.4059, 0.4206, 0.4275, 0.4449\n",
    "    #bert siamese with token_type_ids (2): 0.4091. 0.4236. 0.4317, 0.4507\n",
    "    #bert siamese for 3 epochs (3): 0.4121. 0.4273. 0.4347, 0.4497\n",
    "#MLFold 5: bert siamese: 0.4118, 0.4355, 04373"
   ]
  },
  {
   "cell_type": "code",
   "execution_count": 12,
   "metadata": {},
   "outputs": [
    {
     "name": "stdout",
     "output_type": "stream",
     "text": [
      "['question_conversational' 'question_has_commonly_accepted_answer'\n",
      " 'question_type_compare' 'question_type_consequence'\n",
      " 'question_type_definition' 'question_type_entity']\n"
     ]
    }
   ],
   "source": [
    "def my_round(x, num, dec=2):\n",
    "    return np.round(x / num, dec) * num\n",
    "\n",
    "def round_preds(preds, thres=0.0, low_dec=1, low_num=1, high_dec=2, high_num=3):\n",
    "    low_idx = preds < thres\n",
    "    new_preds = np.zeros_like(preds)\n",
    "    new_preds[low_idx] = my_round(preds[low_idx], low_num, low_dec)\n",
    "    new_preds[~low_idx] = my_round(preds[~low_idx], high_num, high_dec)\n",
    "    return new_preds\n",
    "\n",
    "def scale(x, d):\n",
    "    if d: return (x//(1/d))/d\n",
    "    else: return x\n",
    "\n",
    "indices = [2, 5, 12, 13, 14, 15]\n",
    "ds = [10, 5, 5, 20, 5, 5]\n",
    "discrete_cols = np.array(TARGETS)[indices]\n",
    "print(discrete_cols)\n",
    "\n",
    "def ahmet_round(preds, ds=ds, indices=indices):\n",
    "    new_preds = preds.copy()\n",
    "    for idx, d in zip(indices, ds):\n",
    "        new_preds[:,idx] = scale(preds[:,idx], d)\n",
    "    return new_preds"
   ]
  },
  {
   "cell_type": "code",
   "execution_count": 24,
   "metadata": {
    "scrolled": true
   },
   "outputs": [
    {
     "name": "stdout",
     "output_type": "stream",
     "text": [
      "0 5 0.35700700436288874\n",
      "0 10 0.3823954122339911\n",
      "0 15 0.38300763742948263\n",
      "0 20 0.38581651070399847\n",
      "0 33 0.3867209281856531\n",
      "0 None 0.38681034914862233\n",
      "1 5 0.6445726711285278\n",
      "1 10 0.6561661565071671\n",
      "1 15 0.6567781112715015\n",
      "1 20 0.6576153779726767\n",
      "1 None 0.6584144934035512\n",
      "2 5 0.47389815353262715\n",
      "2 10 0.4765466955304177\n",
      "3 5 0.2859179099108261\n",
      "3 10 0.3051877934812449\n",
      "3 20 0.30639690342012915\n",
      "3 33 0.30653649943290073\n",
      "3 None 0.30796932193097387\n",
      "4 5 0.3546179004271817\n",
      "4 15 0.3586960378866014\n",
      "4 33 0.3594274737125303\n",
      "4 None 0.359450226786018\n",
      "5 5 0.45264980725883147\n",
      "6 5 0.321776258833596\n",
      "6 10 0.34932370449569955\n",
      "6 15 0.35657680199271197\n",
      "6 20 0.358411324909801\n",
      "6 33 0.35867493915991333\n",
      "6 None 0.3603378288627123\n",
      "7 5 0.4990745366180235\n",
      "7 10 0.5050195022824074\n",
      "7 15 0.5075481815435494\n",
      "8 5 0.5676599064020823\n",
      "9 15 0.022734046903943612\n",
      "9 20 0.05425472035695758\n",
      "9 33 0.09530451259889759\n",
      "10 5 0.46164812014106\n",
      "10 10 0.46806341114420236\n",
      "10 15 0.47094799380285873\n",
      "10 20 0.4714335413436492\n",
      "10 33 0.47191727869247924\n",
      "10 None 0.4719982725805721\n",
      "11 5 0.7483980930952073\n",
      "11 10 0.7494922483054569\n",
      "12 5 0.5001040356219201\n",
      "13 5 0.2071623306515361\n",
      "13 15 0.21115187169421004\n",
      "14 5 0.6194041117830641\n",
      "15 5 0.5753983485765877\n",
      "16 5 0.7797284082243506\n",
      "16 10 0.7807483297935123\n",
      "16 15 0.7810891546219045\n",
      "17 5 0.3247348633211348\n",
      "17 10 0.3485099142133508\n",
      "17 20 0.3515963135933888\n",
      "17 None 0.351637360761501\n",
      "18 5 0.6575393570426888\n",
      "18 10 0.6660372814927381\n",
      "18 15 0.6665340162510892\n",
      "18 20 0.6678275275041505\n",
      "19 15 0.19974891565704633\n",
      "19 20 0.21754888416902465\n",
      "19 33 0.30570756608921473\n",
      "20 5 0.5032621549613934\n",
      "20 10 0.5184127764903742\n",
      "20 15 0.5226940594994351\n",
      "20 20 0.5251172880381808\n",
      "20 None 0.5251338709633423\n",
      "21 5 0.23384613221579986\n",
      "21 10 0.24457804499065036\n",
      "21 15 0.2488361810999623\n",
      "22 5 0.40973043125226494\n",
      "22 10 0.4314229220119616\n",
      "22 15 0.43360941711783807\n",
      "22 20 0.4375542400604309\n",
      "22 33 0.44131812442717805\n",
      "23 5 0.13479056140984022\n",
      "23 10 0.1500241254598926\n",
      "23 15 0.15470444619431234\n",
      "24 5 0.18423920948886416\n",
      "25 5 0.3169035869557307\n",
      "25 10 0.3340108961482798\n",
      "25 20 0.3348421208941154\n",
      "25 33 0.33627835678819556\n",
      "25 None 0.3373594823118092\n",
      "26 5 0.7554531056309463\n",
      "26 10 0.7602501307178248\n",
      "26 15 0.7615060223835215\n",
      "27 5 0.26653409404004186\n",
      "27 10 0.28750794908464694\n",
      "27 15 0.29120016063007065\n",
      "27 20 0.29354979095715833\n",
      "27 None 0.2939239900771588\n",
      "28 5 0.6634153429802313\n",
      "28 10 0.6754119501402798\n",
      "28 15 0.6781109196188526\n",
      "28 20 0.6782811705875066\n",
      "28 33 0.6802283394312254\n",
      "29 5 0.20817567457840508\n",
      "29 10 0.2220777382716664\n",
      "29 15 0.2244812917894986\n",
      "29 33 0.22530095253537635\n",
      "29 None 0.22715242032501418\n"
     ]
    }
   ],
   "source": [
    "from scipy.stats import spearmanr\n",
    "opt_ds = []\n",
    "opt_indices = []\n",
    "for idx in range(N_TARGETS):\n",
    "    opt_score = 0\n",
    "    opt_d = None\n",
    "    for d in [5, 10, 15, 20, 33, None]:\n",
    "        score = spearmanr(scale(oofs[:,idx], d), y[:,idx])[0]\n",
    "        if score > opt_score:\n",
    "            opt_score = score\n",
    "            opt_d = d\n",
    "            print(idx, d, score)\n",
    "    if opt_d:\n",
    "        opt_ds.append(opt_d)\n",
    "        opt_indices.append(idx)"
   ]
  },
  {
   "cell_type": "code",
   "execution_count": 25,
   "metadata": {},
   "outputs": [
    {
     "data": {
      "text/plain": [
       "([10, 5, 15, 5, 33, 10, 5, 15, 5, 5, 15, 20, 33, 15, 33, 15, 5, 15, 33],\n",
       " [2, 5, 7, 8, 9, 11, 12, 13, 14, 15, 16, 18, 19, 21, 22, 23, 24, 26, 28])"
      ]
     },
     "execution_count": 25,
     "metadata": {},
     "output_type": "execute_result"
    }
   ],
   "source": [
    "opt_ds, opt_indices"
   ]
  },
  {
   "cell_type": "code",
   "execution_count": 26,
   "metadata": {},
   "outputs": [
    {
     "data": {
      "text/plain": [
       "0.4420301302568875"
      ]
     },
     "execution_count": 26,
     "metadata": {},
     "output_type": "execute_result"
    }
   ],
   "source": [
    "spearmanr_np(ahmet_round(oofs, opt_ds, opt_indices), y)"
   ]
  },
  {
   "cell_type": "code",
   "execution_count": 27,
   "metadata": {
    "scrolled": false
   },
   "outputs": [
    {
     "data": {
      "text/plain": [
       "0.44214165027456365"
      ]
     },
     "execution_count": 27,
     "metadata": {},
     "output_type": "execute_result"
    }
   ],
   "source": [
    "oofs_alt = oofs.copy()\n",
    "train[\"eng\"] = train[\"url\"].apply(lambda x: x.startswith(\"http://english.\") or x.startswith(\"http://ell.\"))\n",
    "oofs_alt[np.where((~train[\"eng\"]).values)[0], 19] = 0\n",
    "spearmanr_np(ahmet_round(oofs_alt, opt_ds, opt_indices), y)"
   ]
  },
  {
   "cell_type": "code",
   "execution_count": 17,
   "metadata": {
    "scrolled": false
   },
   "outputs": [
    {
     "data": {
      "text/plain": [
       "0.41134666402786335"
      ]
     },
     "execution_count": 17,
     "metadata": {},
     "output_type": "execute_result"
    }
   ],
   "source": [
    "spearmanr_np(oofs, y)"
   ]
  },
  {
   "cell_type": "code",
   "execution_count": 18,
   "metadata": {
    "scrolled": false
   },
   "outputs": [
    {
     "data": {
      "text/plain": [
       "0.42395566597281253"
      ]
     },
     "execution_count": 18,
     "metadata": {},
     "output_type": "execute_result"
    }
   ],
   "source": [
    "spearmanr_np(round_preds(oofs, high_num=3), y)"
   ]
  },
  {
   "cell_type": "code",
   "execution_count": 19,
   "metadata": {},
   "outputs": [
    {
     "data": {
      "text/plain": [
       "0.43265596023096176"
      ]
     },
     "execution_count": 19,
     "metadata": {},
     "output_type": "execute_result"
    }
   ],
   "source": [
    "spearmanr_np(ahmet_round(oofs), y)"
   ]
  },
  {
   "cell_type": "code",
   "execution_count": 20,
   "metadata": {},
   "outputs": [],
   "source": [
    "# clipping is necessary or we will get an error\n",
    "sample_submission.loc[:, 'question_asker_intent_understanding':] = np.clip(preds, 0.00001, 0.999999)\n",
    "sample_submission.to_csv('subs/submission.csv', index=False)"
   ]
  },
  {
   "cell_type": "code",
   "execution_count": 21,
   "metadata": {
    "scrolled": false
   },
   "outputs": [
    {
     "data": {
      "text/html": [
       "<div>\n",
       "<style scoped>\n",
       "    .dataframe tbody tr th:only-of-type {\n",
       "        vertical-align: middle;\n",
       "    }\n",
       "\n",
       "    .dataframe tbody tr th {\n",
       "        vertical-align: top;\n",
       "    }\n",
       "\n",
       "    .dataframe thead th {\n",
       "        text-align: right;\n",
       "    }\n",
       "</style>\n",
       "<table border=\"1\" class=\"dataframe\">\n",
       "  <thead>\n",
       "    <tr style=\"text-align: right;\">\n",
       "      <th></th>\n",
       "      <th>qa_id</th>\n",
       "      <th>question_asker_intent_understanding</th>\n",
       "      <th>question_body_critical</th>\n",
       "      <th>question_conversational</th>\n",
       "      <th>question_expect_short_answer</th>\n",
       "      <th>question_fact_seeking</th>\n",
       "      <th>question_has_commonly_accepted_answer</th>\n",
       "      <th>question_interestingness_others</th>\n",
       "      <th>question_interestingness_self</th>\n",
       "      <th>question_multi_intent</th>\n",
       "      <th>question_not_really_a_question</th>\n",
       "      <th>question_opinion_seeking</th>\n",
       "      <th>question_type_choice</th>\n",
       "      <th>question_type_compare</th>\n",
       "      <th>question_type_consequence</th>\n",
       "      <th>question_type_definition</th>\n",
       "      <th>question_type_entity</th>\n",
       "      <th>question_type_instructions</th>\n",
       "      <th>question_type_procedure</th>\n",
       "      <th>question_type_reason_explanation</th>\n",
       "      <th>question_type_spelling</th>\n",
       "      <th>question_well_written</th>\n",
       "      <th>answer_helpful</th>\n",
       "      <th>answer_level_of_information</th>\n",
       "      <th>answer_plausible</th>\n",
       "      <th>answer_relevance</th>\n",
       "      <th>answer_satisfaction</th>\n",
       "      <th>answer_type_instructions</th>\n",
       "      <th>answer_type_procedure</th>\n",
       "      <th>answer_type_reason_explanation</th>\n",
       "      <th>answer_well_written</th>\n",
       "    </tr>\n",
       "  </thead>\n",
       "  <tbody>\n",
       "    <tr>\n",
       "      <th>0</th>\n",
       "      <td>39</td>\n",
       "      <td>0.823748</td>\n",
       "      <td>0.525707</td>\n",
       "      <td>0.364201</td>\n",
       "      <td>0.528607</td>\n",
       "      <td>0.442824</td>\n",
       "      <td>0.381476</td>\n",
       "      <td>0.691007</td>\n",
       "      <td>0.689139</td>\n",
       "      <td>0.675567</td>\n",
       "      <td>0.003642</td>\n",
       "      <td>0.791079</td>\n",
       "      <td>0.790175</td>\n",
       "      <td>0.019981</td>\n",
       "      <td>0.369224</td>\n",
       "      <td>0.003569</td>\n",
       "      <td>0.014136</td>\n",
       "      <td>0.077286</td>\n",
       "      <td>0.102267</td>\n",
       "      <td>0.792351</td>\n",
       "      <td>0.000531</td>\n",
       "      <td>0.812709</td>\n",
       "      <td>0.526984</td>\n",
       "      <td>0.192195</td>\n",
       "      <td>0.771596</td>\n",
       "      <td>0.758719</td>\n",
       "      <td>0.288201</td>\n",
       "      <td>0.023215</td>\n",
       "      <td>0.025626</td>\n",
       "      <td>0.796335</td>\n",
       "      <td>0.619413</td>\n",
       "    </tr>\n",
       "    <tr>\n",
       "      <th>1</th>\n",
       "      <td>46</td>\n",
       "      <td>0.479744</td>\n",
       "      <td>0.364432</td>\n",
       "      <td>0.005078</td>\n",
       "      <td>0.729596</td>\n",
       "      <td>0.694286</td>\n",
       "      <td>0.915465</td>\n",
       "      <td>0.438741</td>\n",
       "      <td>0.342314</td>\n",
       "      <td>0.048588</td>\n",
       "      <td>0.008434</td>\n",
       "      <td>0.402613</td>\n",
       "      <td>0.348255</td>\n",
       "      <td>0.002177</td>\n",
       "      <td>0.000336</td>\n",
       "      <td>0.000704</td>\n",
       "      <td>0.009397</td>\n",
       "      <td>0.896116</td>\n",
       "      <td>0.299226</td>\n",
       "      <td>0.047432</td>\n",
       "      <td>0.000061</td>\n",
       "      <td>0.226969</td>\n",
       "      <td>0.754908</td>\n",
       "      <td>0.496169</td>\n",
       "      <td>0.864482</td>\n",
       "      <td>0.915189</td>\n",
       "      <td>0.580526</td>\n",
       "      <td>0.918709</td>\n",
       "      <td>0.219770</td>\n",
       "      <td>0.071728</td>\n",
       "      <td>0.574314</td>\n",
       "    </tr>\n",
       "    <tr>\n",
       "      <th>2</th>\n",
       "      <td>70</td>\n",
       "      <td>0.764953</td>\n",
       "      <td>0.510644</td>\n",
       "      <td>0.025578</td>\n",
       "      <td>0.693082</td>\n",
       "      <td>0.847846</td>\n",
       "      <td>0.906263</td>\n",
       "      <td>0.529276</td>\n",
       "      <td>0.459790</td>\n",
       "      <td>0.443596</td>\n",
       "      <td>0.002436</td>\n",
       "      <td>0.274391</td>\n",
       "      <td>0.800269</td>\n",
       "      <td>0.019592</td>\n",
       "      <td>0.039654</td>\n",
       "      <td>0.003018</td>\n",
       "      <td>0.005890</td>\n",
       "      <td>0.215383</td>\n",
       "      <td>0.159251</td>\n",
       "      <td>0.693666</td>\n",
       "      <td>0.000580</td>\n",
       "      <td>0.708435</td>\n",
       "      <td>0.660757</td>\n",
       "      <td>0.257965</td>\n",
       "      <td>0.834989</td>\n",
       "      <td>0.828204</td>\n",
       "      <td>0.427970</td>\n",
       "      <td>0.083808</td>\n",
       "      <td>0.063186</td>\n",
       "      <td>0.801226</td>\n",
       "      <td>0.589495</td>\n",
       "    </tr>\n",
       "    <tr>\n",
       "      <th>3</th>\n",
       "      <td>132</td>\n",
       "      <td>0.620391</td>\n",
       "      <td>0.241902</td>\n",
       "      <td>0.006230</td>\n",
       "      <td>0.611994</td>\n",
       "      <td>0.617799</td>\n",
       "      <td>0.854192</td>\n",
       "      <td>0.406978</td>\n",
       "      <td>0.243408</td>\n",
       "      <td>0.186277</td>\n",
       "      <td>0.016090</td>\n",
       "      <td>0.579621</td>\n",
       "      <td>0.040656</td>\n",
       "      <td>0.001404</td>\n",
       "      <td>0.003747</td>\n",
       "      <td>0.000529</td>\n",
       "      <td>0.003268</td>\n",
       "      <td>0.817984</td>\n",
       "      <td>0.311961</td>\n",
       "      <td>0.745380</td>\n",
       "      <td>0.000082</td>\n",
       "      <td>0.475981</td>\n",
       "      <td>0.813366</td>\n",
       "      <td>0.572967</td>\n",
       "      <td>0.897321</td>\n",
       "      <td>0.929013</td>\n",
       "      <td>0.660987</td>\n",
       "      <td>0.812313</td>\n",
       "      <td>0.282218</td>\n",
       "      <td>0.751608</td>\n",
       "      <td>0.676843</td>\n",
       "    </tr>\n",
       "    <tr>\n",
       "      <th>4</th>\n",
       "      <td>200</td>\n",
       "      <td>0.745161</td>\n",
       "      <td>0.293055</td>\n",
       "      <td>0.033765</td>\n",
       "      <td>0.778714</td>\n",
       "      <td>0.739725</td>\n",
       "      <td>0.871680</td>\n",
       "      <td>0.630421</td>\n",
       "      <td>0.643886</td>\n",
       "      <td>0.215817</td>\n",
       "      <td>0.033786</td>\n",
       "      <td>0.349731</td>\n",
       "      <td>0.450790</td>\n",
       "      <td>0.006124</td>\n",
       "      <td>0.026074</td>\n",
       "      <td>0.007585</td>\n",
       "      <td>0.032572</td>\n",
       "      <td>0.345741</td>\n",
       "      <td>0.230604</td>\n",
       "      <td>0.634127</td>\n",
       "      <td>0.003495</td>\n",
       "      <td>0.347649</td>\n",
       "      <td>0.643885</td>\n",
       "      <td>0.516535</td>\n",
       "      <td>0.819830</td>\n",
       "      <td>0.824480</td>\n",
       "      <td>0.562701</td>\n",
       "      <td>0.419016</td>\n",
       "      <td>0.285585</td>\n",
       "      <td>0.681409</td>\n",
       "      <td>0.579680</td>\n",
       "    </tr>\n",
       "  </tbody>\n",
       "</table>\n",
       "</div>"
      ],
      "text/plain": [
       "   qa_id  question_asker_intent_understanding  question_body_critical  \\\n",
       "0     39                             0.823748                0.525707   \n",
       "1     46                             0.479744                0.364432   \n",
       "2     70                             0.764953                0.510644   \n",
       "3    132                             0.620391                0.241902   \n",
       "4    200                             0.745161                0.293055   \n",
       "\n",
       "   question_conversational  question_expect_short_answer  \\\n",
       "0                 0.364201                      0.528607   \n",
       "1                 0.005078                      0.729596   \n",
       "2                 0.025578                      0.693082   \n",
       "3                 0.006230                      0.611994   \n",
       "4                 0.033765                      0.778714   \n",
       "\n",
       "   question_fact_seeking  question_has_commonly_accepted_answer  \\\n",
       "0               0.442824                               0.381476   \n",
       "1               0.694286                               0.915465   \n",
       "2               0.847846                               0.906263   \n",
       "3               0.617799                               0.854192   \n",
       "4               0.739725                               0.871680   \n",
       "\n",
       "   question_interestingness_others  question_interestingness_self  \\\n",
       "0                         0.691007                       0.689139   \n",
       "1                         0.438741                       0.342314   \n",
       "2                         0.529276                       0.459790   \n",
       "3                         0.406978                       0.243408   \n",
       "4                         0.630421                       0.643886   \n",
       "\n",
       "   question_multi_intent  question_not_really_a_question  \\\n",
       "0               0.675567                        0.003642   \n",
       "1               0.048588                        0.008434   \n",
       "2               0.443596                        0.002436   \n",
       "3               0.186277                        0.016090   \n",
       "4               0.215817                        0.033786   \n",
       "\n",
       "   question_opinion_seeking  question_type_choice  question_type_compare  \\\n",
       "0                  0.791079              0.790175               0.019981   \n",
       "1                  0.402613              0.348255               0.002177   \n",
       "2                  0.274391              0.800269               0.019592   \n",
       "3                  0.579621              0.040656               0.001404   \n",
       "4                  0.349731              0.450790               0.006124   \n",
       "\n",
       "   question_type_consequence  question_type_definition  question_type_entity  \\\n",
       "0                   0.369224                  0.003569              0.014136   \n",
       "1                   0.000336                  0.000704              0.009397   \n",
       "2                   0.039654                  0.003018              0.005890   \n",
       "3                   0.003747                  0.000529              0.003268   \n",
       "4                   0.026074                  0.007585              0.032572   \n",
       "\n",
       "   question_type_instructions  question_type_procedure  \\\n",
       "0                    0.077286                 0.102267   \n",
       "1                    0.896116                 0.299226   \n",
       "2                    0.215383                 0.159251   \n",
       "3                    0.817984                 0.311961   \n",
       "4                    0.345741                 0.230604   \n",
       "\n",
       "   question_type_reason_explanation  question_type_spelling  \\\n",
       "0                          0.792351                0.000531   \n",
       "1                          0.047432                0.000061   \n",
       "2                          0.693666                0.000580   \n",
       "3                          0.745380                0.000082   \n",
       "4                          0.634127                0.003495   \n",
       "\n",
       "   question_well_written  answer_helpful  answer_level_of_information  \\\n",
       "0               0.812709        0.526984                     0.192195   \n",
       "1               0.226969        0.754908                     0.496169   \n",
       "2               0.708435        0.660757                     0.257965   \n",
       "3               0.475981        0.813366                     0.572967   \n",
       "4               0.347649        0.643885                     0.516535   \n",
       "\n",
       "   answer_plausible  answer_relevance  answer_satisfaction  \\\n",
       "0          0.771596          0.758719             0.288201   \n",
       "1          0.864482          0.915189             0.580526   \n",
       "2          0.834989          0.828204             0.427970   \n",
       "3          0.897321          0.929013             0.660987   \n",
       "4          0.819830          0.824480             0.562701   \n",
       "\n",
       "   answer_type_instructions  answer_type_procedure  \\\n",
       "0                  0.023215               0.025626   \n",
       "1                  0.918709               0.219770   \n",
       "2                  0.083808               0.063186   \n",
       "3                  0.812313               0.282218   \n",
       "4                  0.419016               0.285585   \n",
       "\n",
       "   answer_type_reason_explanation  answer_well_written  \n",
       "0                        0.796335             0.619413  \n",
       "1                        0.071728             0.574314  \n",
       "2                        0.801226             0.589495  \n",
       "3                        0.751608             0.676843  \n",
       "4                        0.681409             0.579680  "
      ]
     },
     "execution_count": 21,
     "metadata": {},
     "output_type": "execute_result"
    }
   ],
   "source": [
    "sample_submission.head()"
   ]
  },
  {
   "cell_type": "code",
   "execution_count": 22,
   "metadata": {},
   "outputs": [],
   "source": [
    "pd.DataFrame(oofs, columns=TARGETS).to_csv(f'oofs/{model_name}_oofs.csv')"
   ]
  },
  {
   "cell_type": "code",
   "execution_count": 23,
   "metadata": {},
   "outputs": [
    {
     "data": {
      "text/html": [
       "<div>\n",
       "<style scoped>\n",
       "    .dataframe tbody tr th:only-of-type {\n",
       "        vertical-align: middle;\n",
       "    }\n",
       "\n",
       "    .dataframe tbody tr th {\n",
       "        vertical-align: top;\n",
       "    }\n",
       "\n",
       "    .dataframe thead th {\n",
       "        text-align: right;\n",
       "    }\n",
       "</style>\n",
       "<table border=\"1\" class=\"dataframe\">\n",
       "  <thead>\n",
       "    <tr style=\"text-align: right;\">\n",
       "      <th></th>\n",
       "      <th>question_asker_intent_understanding</th>\n",
       "      <th>question_body_critical</th>\n",
       "      <th>question_conversational</th>\n",
       "      <th>question_expect_short_answer</th>\n",
       "      <th>question_fact_seeking</th>\n",
       "      <th>question_has_commonly_accepted_answer</th>\n",
       "      <th>question_interestingness_others</th>\n",
       "      <th>question_interestingness_self</th>\n",
       "      <th>question_multi_intent</th>\n",
       "      <th>question_not_really_a_question</th>\n",
       "      <th>question_opinion_seeking</th>\n",
       "      <th>question_type_choice</th>\n",
       "      <th>question_type_compare</th>\n",
       "      <th>question_type_consequence</th>\n",
       "      <th>question_type_definition</th>\n",
       "      <th>question_type_entity</th>\n",
       "      <th>question_type_instructions</th>\n",
       "      <th>question_type_procedure</th>\n",
       "      <th>question_type_reason_explanation</th>\n",
       "      <th>question_type_spelling</th>\n",
       "      <th>question_well_written</th>\n",
       "      <th>answer_helpful</th>\n",
       "      <th>answer_level_of_information</th>\n",
       "      <th>answer_plausible</th>\n",
       "      <th>answer_relevance</th>\n",
       "      <th>answer_satisfaction</th>\n",
       "      <th>answer_type_instructions</th>\n",
       "      <th>answer_type_procedure</th>\n",
       "      <th>answer_type_reason_explanation</th>\n",
       "      <th>answer_well_written</th>\n",
       "    </tr>\n",
       "  </thead>\n",
       "  <tbody>\n",
       "    <tr>\n",
       "      <th>0</th>\n",
       "      <td>0.890471</td>\n",
       "      <td>0.839150</td>\n",
       "      <td>0.395971</td>\n",
       "      <td>0.588127</td>\n",
       "      <td>0.388035</td>\n",
       "      <td>0.283396</td>\n",
       "      <td>0.678444</td>\n",
       "      <td>0.578693</td>\n",
       "      <td>0.200057</td>\n",
       "      <td>0.004864</td>\n",
       "      <td>0.822161</td>\n",
       "      <td>0.224784</td>\n",
       "      <td>0.440933</td>\n",
       "      <td>0.050023</td>\n",
       "      <td>0.008110</td>\n",
       "      <td>0.103279</td>\n",
       "      <td>0.113661</td>\n",
       "      <td>0.104768</td>\n",
       "      <td>0.656585</td>\n",
       "      <td>0.001585</td>\n",
       "      <td>0.880913</td>\n",
       "      <td>0.876450</td>\n",
       "      <td>0.611623</td>\n",
       "      <td>0.954865</td>\n",
       "      <td>0.949296</td>\n",
       "      <td>0.771308</td>\n",
       "      <td>0.076222</td>\n",
       "      <td>0.120976</td>\n",
       "      <td>0.885783</td>\n",
       "      <td>0.812033</td>\n",
       "    </tr>\n",
       "    <tr>\n",
       "      <th>1</th>\n",
       "      <td>0.903135</td>\n",
       "      <td>0.839943</td>\n",
       "      <td>0.038291</td>\n",
       "      <td>0.461377</td>\n",
       "      <td>0.921459</td>\n",
       "      <td>0.655640</td>\n",
       "      <td>0.550466</td>\n",
       "      <td>0.644831</td>\n",
       "      <td>0.249557</td>\n",
       "      <td>0.001326</td>\n",
       "      <td>0.287520</td>\n",
       "      <td>0.058553</td>\n",
       "      <td>0.825668</td>\n",
       "      <td>0.002595</td>\n",
       "      <td>0.538968</td>\n",
       "      <td>0.026677</td>\n",
       "      <td>0.033943</td>\n",
       "      <td>0.068875</td>\n",
       "      <td>0.404649</td>\n",
       "      <td>0.002926</td>\n",
       "      <td>0.851058</td>\n",
       "      <td>0.340527</td>\n",
       "      <td>0.176793</td>\n",
       "      <td>0.434323</td>\n",
       "      <td>0.547598</td>\n",
       "      <td>0.193211</td>\n",
       "      <td>0.020953</td>\n",
       "      <td>0.047871</td>\n",
       "      <td>0.352884</td>\n",
       "      <td>0.792561</td>\n",
       "    </tr>\n",
       "    <tr>\n",
       "      <th>2</th>\n",
       "      <td>0.575940</td>\n",
       "      <td>0.141357</td>\n",
       "      <td>0.012420</td>\n",
       "      <td>0.693712</td>\n",
       "      <td>0.775428</td>\n",
       "      <td>0.837352</td>\n",
       "      <td>0.472852</td>\n",
       "      <td>0.293159</td>\n",
       "      <td>0.275589</td>\n",
       "      <td>0.002569</td>\n",
       "      <td>0.455631</td>\n",
       "      <td>0.421472</td>\n",
       "      <td>0.033952</td>\n",
       "      <td>0.007602</td>\n",
       "      <td>0.002223</td>\n",
       "      <td>0.458802</td>\n",
       "      <td>0.574668</td>\n",
       "      <td>0.257855</td>\n",
       "      <td>0.193832</td>\n",
       "      <td>0.000252</td>\n",
       "      <td>0.524478</td>\n",
       "      <td>0.858917</td>\n",
       "      <td>0.603279</td>\n",
       "      <td>0.912896</td>\n",
       "      <td>0.882733</td>\n",
       "      <td>0.676362</td>\n",
       "      <td>0.563445</td>\n",
       "      <td>0.316440</td>\n",
       "      <td>0.569930</td>\n",
       "      <td>0.723483</td>\n",
       "    </tr>\n",
       "    <tr>\n",
       "      <th>3</th>\n",
       "      <td>0.741074</td>\n",
       "      <td>0.732248</td>\n",
       "      <td>0.385259</td>\n",
       "      <td>0.671650</td>\n",
       "      <td>0.596179</td>\n",
       "      <td>0.652821</td>\n",
       "      <td>0.632362</td>\n",
       "      <td>0.640939</td>\n",
       "      <td>0.287837</td>\n",
       "      <td>0.001231</td>\n",
       "      <td>0.446976</td>\n",
       "      <td>0.951845</td>\n",
       "      <td>0.010873</td>\n",
       "      <td>0.070686</td>\n",
       "      <td>0.020053</td>\n",
       "      <td>0.017165</td>\n",
       "      <td>0.023480</td>\n",
       "      <td>0.146650</td>\n",
       "      <td>0.466590</td>\n",
       "      <td>0.000498</td>\n",
       "      <td>0.893086</td>\n",
       "      <td>0.782495</td>\n",
       "      <td>0.716352</td>\n",
       "      <td>0.846769</td>\n",
       "      <td>0.861283</td>\n",
       "      <td>0.681460</td>\n",
       "      <td>0.032101</td>\n",
       "      <td>0.095787</td>\n",
       "      <td>0.841635</td>\n",
       "      <td>0.638694</td>\n",
       "    </tr>\n",
       "    <tr>\n",
       "      <th>4</th>\n",
       "      <td>0.777265</td>\n",
       "      <td>0.654823</td>\n",
       "      <td>0.008426</td>\n",
       "      <td>0.695925</td>\n",
       "      <td>0.807881</td>\n",
       "      <td>0.927973</td>\n",
       "      <td>0.572749</td>\n",
       "      <td>0.441438</td>\n",
       "      <td>0.228157</td>\n",
       "      <td>0.002213</td>\n",
       "      <td>0.290687</td>\n",
       "      <td>0.505285</td>\n",
       "      <td>0.005563</td>\n",
       "      <td>0.002961</td>\n",
       "      <td>0.002811</td>\n",
       "      <td>0.007753</td>\n",
       "      <td>0.823390</td>\n",
       "      <td>0.288139</td>\n",
       "      <td>0.227969</td>\n",
       "      <td>0.000276</td>\n",
       "      <td>0.684506</td>\n",
       "      <td>0.647605</td>\n",
       "      <td>0.396414</td>\n",
       "      <td>0.746840</td>\n",
       "      <td>0.815547</td>\n",
       "      <td>0.449637</td>\n",
       "      <td>0.890193</td>\n",
       "      <td>0.211924</td>\n",
       "      <td>0.085115</td>\n",
       "      <td>0.494250</td>\n",
       "    </tr>\n",
       "    <tr>\n",
       "      <th>...</th>\n",
       "      <td>...</td>\n",
       "      <td>...</td>\n",
       "      <td>...</td>\n",
       "      <td>...</td>\n",
       "      <td>...</td>\n",
       "      <td>...</td>\n",
       "      <td>...</td>\n",
       "      <td>...</td>\n",
       "      <td>...</td>\n",
       "      <td>...</td>\n",
       "      <td>...</td>\n",
       "      <td>...</td>\n",
       "      <td>...</td>\n",
       "      <td>...</td>\n",
       "      <td>...</td>\n",
       "      <td>...</td>\n",
       "      <td>...</td>\n",
       "      <td>...</td>\n",
       "      <td>...</td>\n",
       "      <td>...</td>\n",
       "      <td>...</td>\n",
       "      <td>...</td>\n",
       "      <td>...</td>\n",
       "      <td>...</td>\n",
       "      <td>...</td>\n",
       "      <td>...</td>\n",
       "      <td>...</td>\n",
       "      <td>...</td>\n",
       "      <td>...</td>\n",
       "      <td>...</td>\n",
       "    </tr>\n",
       "    <tr>\n",
       "      <th>6074</th>\n",
       "      <td>0.832326</td>\n",
       "      <td>0.356822</td>\n",
       "      <td>0.240816</td>\n",
       "      <td>0.854964</td>\n",
       "      <td>0.651757</td>\n",
       "      <td>0.575468</td>\n",
       "      <td>0.643380</td>\n",
       "      <td>0.643234</td>\n",
       "      <td>0.392574</td>\n",
       "      <td>0.007530</td>\n",
       "      <td>0.570285</td>\n",
       "      <td>0.844362</td>\n",
       "      <td>0.231186</td>\n",
       "      <td>0.065876</td>\n",
       "      <td>0.023827</td>\n",
       "      <td>0.166797</td>\n",
       "      <td>0.040432</td>\n",
       "      <td>0.090307</td>\n",
       "      <td>0.499784</td>\n",
       "      <td>0.006104</td>\n",
       "      <td>0.606109</td>\n",
       "      <td>0.830260</td>\n",
       "      <td>0.604233</td>\n",
       "      <td>0.920816</td>\n",
       "      <td>0.905917</td>\n",
       "      <td>0.659403</td>\n",
       "      <td>0.069824</td>\n",
       "      <td>0.119840</td>\n",
       "      <td>0.810954</td>\n",
       "      <td>0.766158</td>\n",
       "    </tr>\n",
       "    <tr>\n",
       "      <th>6075</th>\n",
       "      <td>0.916005</td>\n",
       "      <td>0.532385</td>\n",
       "      <td>0.038099</td>\n",
       "      <td>0.606552</td>\n",
       "      <td>0.646153</td>\n",
       "      <td>0.537653</td>\n",
       "      <td>0.787364</td>\n",
       "      <td>0.793121</td>\n",
       "      <td>0.033956</td>\n",
       "      <td>0.004683</td>\n",
       "      <td>0.611025</td>\n",
       "      <td>0.009234</td>\n",
       "      <td>0.005316</td>\n",
       "      <td>0.003888</td>\n",
       "      <td>0.000090</td>\n",
       "      <td>0.011702</td>\n",
       "      <td>0.868524</td>\n",
       "      <td>0.398406</td>\n",
       "      <td>0.068108</td>\n",
       "      <td>0.000104</td>\n",
       "      <td>0.699732</td>\n",
       "      <td>0.881986</td>\n",
       "      <td>0.609107</td>\n",
       "      <td>0.945164</td>\n",
       "      <td>0.953934</td>\n",
       "      <td>0.710279</td>\n",
       "      <td>0.863431</td>\n",
       "      <td>0.339126</td>\n",
       "      <td>0.230170</td>\n",
       "      <td>0.869232</td>\n",
       "    </tr>\n",
       "    <tr>\n",
       "      <th>6076</th>\n",
       "      <td>0.643023</td>\n",
       "      <td>0.335473</td>\n",
       "      <td>0.005638</td>\n",
       "      <td>0.665133</td>\n",
       "      <td>0.720196</td>\n",
       "      <td>0.866782</td>\n",
       "      <td>0.428826</td>\n",
       "      <td>0.301390</td>\n",
       "      <td>0.182379</td>\n",
       "      <td>0.001907</td>\n",
       "      <td>0.487100</td>\n",
       "      <td>0.404794</td>\n",
       "      <td>0.002489</td>\n",
       "      <td>0.000801</td>\n",
       "      <td>0.000300</td>\n",
       "      <td>0.006892</td>\n",
       "      <td>0.855521</td>\n",
       "      <td>0.422472</td>\n",
       "      <td>0.119645</td>\n",
       "      <td>0.000048</td>\n",
       "      <td>0.469555</td>\n",
       "      <td>0.315707</td>\n",
       "      <td>0.201187</td>\n",
       "      <td>0.541267</td>\n",
       "      <td>0.542140</td>\n",
       "      <td>0.182580</td>\n",
       "      <td>0.587932</td>\n",
       "      <td>0.226144</td>\n",
       "      <td>0.228854</td>\n",
       "      <td>0.244928</td>\n",
       "    </tr>\n",
       "    <tr>\n",
       "      <th>6077</th>\n",
       "      <td>0.826909</td>\n",
       "      <td>0.715309</td>\n",
       "      <td>0.488554</td>\n",
       "      <td>0.190307</td>\n",
       "      <td>0.438420</td>\n",
       "      <td>0.149659</td>\n",
       "      <td>0.623862</td>\n",
       "      <td>0.723332</td>\n",
       "      <td>0.843641</td>\n",
       "      <td>0.001239</td>\n",
       "      <td>0.862738</td>\n",
       "      <td>0.547838</td>\n",
       "      <td>0.341612</td>\n",
       "      <td>0.108106</td>\n",
       "      <td>0.033865</td>\n",
       "      <td>0.054221</td>\n",
       "      <td>0.078782</td>\n",
       "      <td>0.453026</td>\n",
       "      <td>0.601660</td>\n",
       "      <td>0.001105</td>\n",
       "      <td>0.894789</td>\n",
       "      <td>0.714134</td>\n",
       "      <td>0.526708</td>\n",
       "      <td>0.866212</td>\n",
       "      <td>0.878839</td>\n",
       "      <td>0.558945</td>\n",
       "      <td>0.025486</td>\n",
       "      <td>0.213329</td>\n",
       "      <td>0.842351</td>\n",
       "      <td>0.859951</td>\n",
       "    </tr>\n",
       "    <tr>\n",
       "      <th>6078</th>\n",
       "      <td>0.692741</td>\n",
       "      <td>0.558722</td>\n",
       "      <td>0.068589</td>\n",
       "      <td>0.320693</td>\n",
       "      <td>0.878011</td>\n",
       "      <td>0.649723</td>\n",
       "      <td>0.509100</td>\n",
       "      <td>0.459154</td>\n",
       "      <td>0.803329</td>\n",
       "      <td>0.000257</td>\n",
       "      <td>0.305657</td>\n",
       "      <td>0.220832</td>\n",
       "      <td>0.592855</td>\n",
       "      <td>0.018580</td>\n",
       "      <td>0.008861</td>\n",
       "      <td>0.032898</td>\n",
       "      <td>0.012126</td>\n",
       "      <td>0.023268</td>\n",
       "      <td>0.967514</td>\n",
       "      <td>0.000119</td>\n",
       "      <td>0.592967</td>\n",
       "      <td>0.861681</td>\n",
       "      <td>0.545400</td>\n",
       "      <td>0.932314</td>\n",
       "      <td>0.899418</td>\n",
       "      <td>0.615415</td>\n",
       "      <td>0.016799</td>\n",
       "      <td>0.035299</td>\n",
       "      <td>0.976443</td>\n",
       "      <td>0.800904</td>\n",
       "    </tr>\n",
       "  </tbody>\n",
       "</table>\n",
       "<p>6079 rows × 30 columns</p>\n",
       "</div>"
      ],
      "text/plain": [
       "      question_asker_intent_understanding  question_body_critical  \\\n",
       "0                                0.890471                0.839150   \n",
       "1                                0.903135                0.839943   \n",
       "2                                0.575940                0.141357   \n",
       "3                                0.741074                0.732248   \n",
       "4                                0.777265                0.654823   \n",
       "...                                   ...                     ...   \n",
       "6074                             0.832326                0.356822   \n",
       "6075                             0.916005                0.532385   \n",
       "6076                             0.643023                0.335473   \n",
       "6077                             0.826909                0.715309   \n",
       "6078                             0.692741                0.558722   \n",
       "\n",
       "      question_conversational  question_expect_short_answer  \\\n",
       "0                    0.395971                      0.588127   \n",
       "1                    0.038291                      0.461377   \n",
       "2                    0.012420                      0.693712   \n",
       "3                    0.385259                      0.671650   \n",
       "4                    0.008426                      0.695925   \n",
       "...                       ...                           ...   \n",
       "6074                 0.240816                      0.854964   \n",
       "6075                 0.038099                      0.606552   \n",
       "6076                 0.005638                      0.665133   \n",
       "6077                 0.488554                      0.190307   \n",
       "6078                 0.068589                      0.320693   \n",
       "\n",
       "      question_fact_seeking  question_has_commonly_accepted_answer  \\\n",
       "0                  0.388035                               0.283396   \n",
       "1                  0.921459                               0.655640   \n",
       "2                  0.775428                               0.837352   \n",
       "3                  0.596179                               0.652821   \n",
       "4                  0.807881                               0.927973   \n",
       "...                     ...                                    ...   \n",
       "6074               0.651757                               0.575468   \n",
       "6075               0.646153                               0.537653   \n",
       "6076               0.720196                               0.866782   \n",
       "6077               0.438420                               0.149659   \n",
       "6078               0.878011                               0.649723   \n",
       "\n",
       "      question_interestingness_others  question_interestingness_self  \\\n",
       "0                            0.678444                       0.578693   \n",
       "1                            0.550466                       0.644831   \n",
       "2                            0.472852                       0.293159   \n",
       "3                            0.632362                       0.640939   \n",
       "4                            0.572749                       0.441438   \n",
       "...                               ...                            ...   \n",
       "6074                         0.643380                       0.643234   \n",
       "6075                         0.787364                       0.793121   \n",
       "6076                         0.428826                       0.301390   \n",
       "6077                         0.623862                       0.723332   \n",
       "6078                         0.509100                       0.459154   \n",
       "\n",
       "      question_multi_intent  question_not_really_a_question  \\\n",
       "0                  0.200057                        0.004864   \n",
       "1                  0.249557                        0.001326   \n",
       "2                  0.275589                        0.002569   \n",
       "3                  0.287837                        0.001231   \n",
       "4                  0.228157                        0.002213   \n",
       "...                     ...                             ...   \n",
       "6074               0.392574                        0.007530   \n",
       "6075               0.033956                        0.004683   \n",
       "6076               0.182379                        0.001907   \n",
       "6077               0.843641                        0.001239   \n",
       "6078               0.803329                        0.000257   \n",
       "\n",
       "      question_opinion_seeking  question_type_choice  question_type_compare  \\\n",
       "0                     0.822161              0.224784               0.440933   \n",
       "1                     0.287520              0.058553               0.825668   \n",
       "2                     0.455631              0.421472               0.033952   \n",
       "3                     0.446976              0.951845               0.010873   \n",
       "4                     0.290687              0.505285               0.005563   \n",
       "...                        ...                   ...                    ...   \n",
       "6074                  0.570285              0.844362               0.231186   \n",
       "6075                  0.611025              0.009234               0.005316   \n",
       "6076                  0.487100              0.404794               0.002489   \n",
       "6077                  0.862738              0.547838               0.341612   \n",
       "6078                  0.305657              0.220832               0.592855   \n",
       "\n",
       "      question_type_consequence  question_type_definition  \\\n",
       "0                      0.050023                  0.008110   \n",
       "1                      0.002595                  0.538968   \n",
       "2                      0.007602                  0.002223   \n",
       "3                      0.070686                  0.020053   \n",
       "4                      0.002961                  0.002811   \n",
       "...                         ...                       ...   \n",
       "6074                   0.065876                  0.023827   \n",
       "6075                   0.003888                  0.000090   \n",
       "6076                   0.000801                  0.000300   \n",
       "6077                   0.108106                  0.033865   \n",
       "6078                   0.018580                  0.008861   \n",
       "\n",
       "      question_type_entity  question_type_instructions  \\\n",
       "0                 0.103279                    0.113661   \n",
       "1                 0.026677                    0.033943   \n",
       "2                 0.458802                    0.574668   \n",
       "3                 0.017165                    0.023480   \n",
       "4                 0.007753                    0.823390   \n",
       "...                    ...                         ...   \n",
       "6074              0.166797                    0.040432   \n",
       "6075              0.011702                    0.868524   \n",
       "6076              0.006892                    0.855521   \n",
       "6077              0.054221                    0.078782   \n",
       "6078              0.032898                    0.012126   \n",
       "\n",
       "      question_type_procedure  question_type_reason_explanation  \\\n",
       "0                    0.104768                          0.656585   \n",
       "1                    0.068875                          0.404649   \n",
       "2                    0.257855                          0.193832   \n",
       "3                    0.146650                          0.466590   \n",
       "4                    0.288139                          0.227969   \n",
       "...                       ...                               ...   \n",
       "6074                 0.090307                          0.499784   \n",
       "6075                 0.398406                          0.068108   \n",
       "6076                 0.422472                          0.119645   \n",
       "6077                 0.453026                          0.601660   \n",
       "6078                 0.023268                          0.967514   \n",
       "\n",
       "      question_type_spelling  question_well_written  answer_helpful  \\\n",
       "0                   0.001585               0.880913        0.876450   \n",
       "1                   0.002926               0.851058        0.340527   \n",
       "2                   0.000252               0.524478        0.858917   \n",
       "3                   0.000498               0.893086        0.782495   \n",
       "4                   0.000276               0.684506        0.647605   \n",
       "...                      ...                    ...             ...   \n",
       "6074                0.006104               0.606109        0.830260   \n",
       "6075                0.000104               0.699732        0.881986   \n",
       "6076                0.000048               0.469555        0.315707   \n",
       "6077                0.001105               0.894789        0.714134   \n",
       "6078                0.000119               0.592967        0.861681   \n",
       "\n",
       "      answer_level_of_information  answer_plausible  answer_relevance  \\\n",
       "0                        0.611623          0.954865          0.949296   \n",
       "1                        0.176793          0.434323          0.547598   \n",
       "2                        0.603279          0.912896          0.882733   \n",
       "3                        0.716352          0.846769          0.861283   \n",
       "4                        0.396414          0.746840          0.815547   \n",
       "...                           ...               ...               ...   \n",
       "6074                     0.604233          0.920816          0.905917   \n",
       "6075                     0.609107          0.945164          0.953934   \n",
       "6076                     0.201187          0.541267          0.542140   \n",
       "6077                     0.526708          0.866212          0.878839   \n",
       "6078                     0.545400          0.932314          0.899418   \n",
       "\n",
       "      answer_satisfaction  answer_type_instructions  answer_type_procedure  \\\n",
       "0                0.771308                  0.076222               0.120976   \n",
       "1                0.193211                  0.020953               0.047871   \n",
       "2                0.676362                  0.563445               0.316440   \n",
       "3                0.681460                  0.032101               0.095787   \n",
       "4                0.449637                  0.890193               0.211924   \n",
       "...                   ...                       ...                    ...   \n",
       "6074             0.659403                  0.069824               0.119840   \n",
       "6075             0.710279                  0.863431               0.339126   \n",
       "6076             0.182580                  0.587932               0.226144   \n",
       "6077             0.558945                  0.025486               0.213329   \n",
       "6078             0.615415                  0.016799               0.035299   \n",
       "\n",
       "      answer_type_reason_explanation  answer_well_written  \n",
       "0                           0.885783             0.812033  \n",
       "1                           0.352884             0.792561  \n",
       "2                           0.569930             0.723483  \n",
       "3                           0.841635             0.638694  \n",
       "4                           0.085115             0.494250  \n",
       "...                              ...                  ...  \n",
       "6074                        0.810954             0.766158  \n",
       "6075                        0.230170             0.869232  \n",
       "6076                        0.228854             0.244928  \n",
       "6077                        0.842351             0.859951  \n",
       "6078                        0.976443             0.800904  \n",
       "\n",
       "[6079 rows x 30 columns]"
      ]
     },
     "execution_count": 23,
     "metadata": {},
     "output_type": "execute_result"
    }
   ],
   "source": [
    "pd.DataFrame(oofs, columns=TARGETS)"
   ]
  },
  {
   "cell_type": "code",
   "execution_count": 33,
   "metadata": {},
   "outputs": [
    {
     "data": {
      "text/plain": [
       "question_asker_intent_understanding      0.386810\n",
       "question_body_critical                   0.658414\n",
       "question_conversational                  0.416253\n",
       "question_expect_short_answer             0.307969\n",
       "question_fact_seeking                    0.359450\n",
       "question_has_commonly_accepted_answer    0.433838\n",
       "question_interestingness_others          0.360338\n",
       "question_interestingness_self            0.506675\n",
       "question_multi_intent                    0.564222\n",
       "question_not_really_a_question           0.090981\n",
       "question_opinion_seeking                 0.471998\n",
       "question_type_choice                     0.736373\n",
       "question_type_compare                    0.355576\n",
       "question_type_consequence                0.172941\n",
       "question_type_definition                 0.360413\n",
       "question_type_entity                     0.447331\n",
       "question_type_instructions               0.779511\n",
       "question_type_procedure                  0.351637\n",
       "question_type_reason_explanation         0.667656\n",
       "question_type_spelling                   0.064216\n",
       "question_well_written                    0.525134\n",
       "answer_helpful                           0.247907\n",
       "answer_level_of_information              0.441110\n",
       "answer_plausible                         0.153254\n",
       "answer_relevance                         0.180565\n",
       "answer_satisfaction                      0.337359\n",
       "answer_type_instructions                 0.761343\n",
       "answer_type_procedure                    0.293924\n",
       "answer_type_reason_explanation           0.680046\n",
       "answer_well_written                      0.227152\n",
       "dtype: float64"
      ]
     },
     "execution_count": 33,
     "metadata": {},
     "output_type": "execute_result"
    }
   ],
   "source": [
    "rs = pd.Series({col: spearmanr(oofs[:,i], y[:,i])[0] for i, col in enumerate(TARGETS)})\n",
    "rs"
   ]
  },
  {
   "cell_type": "code",
   "execution_count": 44,
   "metadata": {},
   "outputs": [],
   "source": [
    "pd.DataFrame.sort_values??"
   ]
  },
  {
   "cell_type": "code",
   "execution_count": 64,
   "metadata": {},
   "outputs": [
    {
     "data": {
      "text/html": [
       "<div>\n",
       "<style scoped>\n",
       "    .dataframe tbody tr th:only-of-type {\n",
       "        vertical-align: middle;\n",
       "    }\n",
       "\n",
       "    .dataframe tbody tr th {\n",
       "        vertical-align: top;\n",
       "    }\n",
       "\n",
       "    .dataframe thead th {\n",
       "        text-align: right;\n",
       "    }\n",
       "</style>\n",
       "<table border=\"1\" class=\"dataframe\">\n",
       "  <thead>\n",
       "    <tr style=\"text-align: right;\">\n",
       "      <th></th>\n",
       "      <th>SpearmanCorr</th>\n",
       "      <th>NUnique</th>\n",
       "    </tr>\n",
       "  </thead>\n",
       "  <tbody>\n",
       "    <tr>\n",
       "      <th>question_type_spelling</th>\n",
       "      <td>0.064216</td>\n",
       "      <td>3.0</td>\n",
       "    </tr>\n",
       "    <tr>\n",
       "      <th>question_not_really_a_question</th>\n",
       "      <td>0.090981</td>\n",
       "      <td>5.0</td>\n",
       "    </tr>\n",
       "    <tr>\n",
       "      <th>answer_plausible</th>\n",
       "      <td>0.153254</td>\n",
       "      <td>9.0</td>\n",
       "    </tr>\n",
       "    <tr>\n",
       "      <th>question_type_consequence</th>\n",
       "      <td>0.172941</td>\n",
       "      <td>5.0</td>\n",
       "    </tr>\n",
       "    <tr>\n",
       "      <th>answer_relevance</th>\n",
       "      <td>0.180565</td>\n",
       "      <td>9.0</td>\n",
       "    </tr>\n",
       "    <tr>\n",
       "      <th>answer_well_written</th>\n",
       "      <td>0.227152</td>\n",
       "      <td>9.0</td>\n",
       "    </tr>\n",
       "    <tr>\n",
       "      <th>answer_helpful</th>\n",
       "      <td>0.247907</td>\n",
       "      <td>9.0</td>\n",
       "    </tr>\n",
       "    <tr>\n",
       "      <th>answer_type_procedure</th>\n",
       "      <td>0.293924</td>\n",
       "      <td>5.0</td>\n",
       "    </tr>\n",
       "    <tr>\n",
       "      <th>question_expect_short_answer</th>\n",
       "      <td>0.307969</td>\n",
       "      <td>5.0</td>\n",
       "    </tr>\n",
       "    <tr>\n",
       "      <th>answer_satisfaction</th>\n",
       "      <td>0.337359</td>\n",
       "      <td>17.0</td>\n",
       "    </tr>\n",
       "    <tr>\n",
       "      <th>question_type_procedure</th>\n",
       "      <td>0.351637</td>\n",
       "      <td>5.0</td>\n",
       "    </tr>\n",
       "    <tr>\n",
       "      <th>question_type_compare</th>\n",
       "      <td>0.355576</td>\n",
       "      <td>5.0</td>\n",
       "    </tr>\n",
       "    <tr>\n",
       "      <th>question_fact_seeking</th>\n",
       "      <td>0.359450</td>\n",
       "      <td>5.0</td>\n",
       "    </tr>\n",
       "    <tr>\n",
       "      <th>question_interestingness_others</th>\n",
       "      <td>0.360338</td>\n",
       "      <td>9.0</td>\n",
       "    </tr>\n",
       "    <tr>\n",
       "      <th>question_type_definition</th>\n",
       "      <td>0.360413</td>\n",
       "      <td>5.0</td>\n",
       "    </tr>\n",
       "    <tr>\n",
       "      <th>question_asker_intent_understanding</th>\n",
       "      <td>0.386810</td>\n",
       "      <td>9.0</td>\n",
       "    </tr>\n",
       "    <tr>\n",
       "      <th>question_conversational</th>\n",
       "      <td>0.416253</td>\n",
       "      <td>5.0</td>\n",
       "    </tr>\n",
       "    <tr>\n",
       "      <th>question_has_commonly_accepted_answer</th>\n",
       "      <td>0.433838</td>\n",
       "      <td>5.0</td>\n",
       "    </tr>\n",
       "    <tr>\n",
       "      <th>answer_level_of_information</th>\n",
       "      <td>0.441110</td>\n",
       "      <td>9.0</td>\n",
       "    </tr>\n",
       "    <tr>\n",
       "      <th>question_type_entity</th>\n",
       "      <td>0.447331</td>\n",
       "      <td>5.0</td>\n",
       "    </tr>\n",
       "    <tr>\n",
       "      <th>question_opinion_seeking</th>\n",
       "      <td>0.471998</td>\n",
       "      <td>5.0</td>\n",
       "    </tr>\n",
       "    <tr>\n",
       "      <th>question_interestingness_self</th>\n",
       "      <td>0.506675</td>\n",
       "      <td>9.0</td>\n",
       "    </tr>\n",
       "    <tr>\n",
       "      <th>question_well_written</th>\n",
       "      <td>0.525134</td>\n",
       "      <td>9.0</td>\n",
       "    </tr>\n",
       "    <tr>\n",
       "      <th>question_multi_intent</th>\n",
       "      <td>0.564222</td>\n",
       "      <td>5.0</td>\n",
       "    </tr>\n",
       "    <tr>\n",
       "      <th>question_body_critical</th>\n",
       "      <td>0.658414</td>\n",
       "      <td>9.0</td>\n",
       "    </tr>\n",
       "    <tr>\n",
       "      <th>question_type_reason_explanation</th>\n",
       "      <td>0.667656</td>\n",
       "      <td>5.0</td>\n",
       "    </tr>\n",
       "    <tr>\n",
       "      <th>answer_type_reason_explanation</th>\n",
       "      <td>0.680046</td>\n",
       "      <td>5.0</td>\n",
       "    </tr>\n",
       "    <tr>\n",
       "      <th>question_type_choice</th>\n",
       "      <td>0.736373</td>\n",
       "      <td>5.0</td>\n",
       "    </tr>\n",
       "    <tr>\n",
       "      <th>answer_type_instructions</th>\n",
       "      <td>0.761343</td>\n",
       "      <td>5.0</td>\n",
       "    </tr>\n",
       "    <tr>\n",
       "      <th>question_type_instructions</th>\n",
       "      <td>0.779511</td>\n",
       "      <td>5.0</td>\n",
       "    </tr>\n",
       "  </tbody>\n",
       "</table>\n",
       "</div>"
      ],
      "text/plain": [
       "                                       SpearmanCorr  NUnique\n",
       "question_type_spelling                     0.064216      3.0\n",
       "question_not_really_a_question             0.090981      5.0\n",
       "answer_plausible                           0.153254      9.0\n",
       "question_type_consequence                  0.172941      5.0\n",
       "answer_relevance                           0.180565      9.0\n",
       "answer_well_written                        0.227152      9.0\n",
       "answer_helpful                             0.247907      9.0\n",
       "answer_type_procedure                      0.293924      5.0\n",
       "question_expect_short_answer               0.307969      5.0\n",
       "answer_satisfaction                        0.337359     17.0\n",
       "question_type_procedure                    0.351637      5.0\n",
       "question_type_compare                      0.355576      5.0\n",
       "question_fact_seeking                      0.359450      5.0\n",
       "question_interestingness_others            0.360338      9.0\n",
       "question_type_definition                   0.360413      5.0\n",
       "question_asker_intent_understanding        0.386810      9.0\n",
       "question_conversational                    0.416253      5.0\n",
       "question_has_commonly_accepted_answer      0.433838      5.0\n",
       "answer_level_of_information                0.441110      9.0\n",
       "question_type_entity                       0.447331      5.0\n",
       "question_opinion_seeking                   0.471998      5.0\n",
       "question_interestingness_self              0.506675      9.0\n",
       "question_well_written                      0.525134      9.0\n",
       "question_multi_intent                      0.564222      5.0\n",
       "question_body_critical                     0.658414      9.0\n",
       "question_type_reason_explanation           0.667656      5.0\n",
       "answer_type_reason_explanation             0.680046      5.0\n",
       "question_type_choice                       0.736373      5.0\n",
       "answer_type_instructions                   0.761343      5.0\n",
       "question_type_instructions                 0.779511      5.0"
      ]
     },
     "execution_count": 64,
     "metadata": {},
     "output_type": "execute_result"
    }
   ],
   "source": [
    "rs_df = pd.DataFrame(np.vstack([rs.values.flatten(), train[TARGETS].nunique()]).T, \n",
    "                     columns=['SpearmanCorr', 'NUnique'], index=rs.index)\n",
    "rs_df.sort_values('SpearmanCorr', ascending=True)"
   ]
  },
  {
   "cell_type": "code",
   "execution_count": 67,
   "metadata": {},
   "outputs": [
    {
     "data": {
      "text/plain": [
       "Index(['question_type_spelling', 'question_not_really_a_question',\n",
       "       'answer_plausible', 'question_type_consequence', 'answer_relevance'],\n",
       "      dtype='object')"
      ]
     },
     "execution_count": 67,
     "metadata": {},
     "output_type": "execute_result"
    }
   ],
   "source": [
    "sorted_targets = rs_df.sort_values('SpearmanCorr', ascending=True).index\n",
    "worst_five_targets = sorted_targets[:5]\n",
    "worst_five_targets"
   ]
  },
  {
   "cell_type": "code",
   "execution_count": 78,
   "metadata": {
    "scrolled": true
   },
   "outputs": [
    {
     "data": {
      "image/png": "[encoded data removed]",
      "text/plain": [
       "<Figure size 432x288 with 1 Axes>"
      ]
     },
     "metadata": {
      "needs_background": "light"
     },
     "output_type": "display_data"
    },
    {
     "data": {
      "image/png": "[encoded data removed]",
      "text/plain": [
       "<Figure size 432x288 with 1 Axes>"
      ]
     },
     "metadata": {
      "needs_background": "light"
     },
     "output_type": "display_data"
    },
    {
     "data": {
      "image/png": "[encoded data removed]",
      "text/plain": [
       "<Figure size 432x288 with 1 Axes>"
      ]
     },
     "metadata": {
      "needs_background": "light"
     },
     "output_type": "display_data"
    },
    {
     "data": {
      "image/png": "[encoded data removed]",
      "text/plain": [
       "<Figure size 432x288 with 1 Axes>"
      ]
     },
     "metadata": {
      "needs_background": "light"
     },
     "output_type": "display_data"
    },
    {
     "data": {
      "image/png": "[encoded data removed]",
      "text/plain": [
       "<Figure size 432x288 with 1 Axes>"
      ]
     },
     "metadata": {
      "needs_background": "light"
     },
     "output_type": "display_data"
    }
   ],
   "source": [
    "for col in worst_five_targets:\n",
    "    plt.figure()\n",
    "    train[col].hist()\n",
    "    plt.title(f'{col} {np.round(rs[col],3)}')"
   ]
  },
  {
   "cell_type": "code",
   "execution_count": 73,
   "metadata": {},
   "outputs": [
    {
     "name": "stderr",
     "output_type": "stream",
     "text": [
      "/home/robin/anaconda3/envs/GoogleQuest/lib/python3.7/site-packages/ipykernel_launcher.py:2: RuntimeWarning: More than 20 figures have been opened. Figures created through the pyplot interface (`matplotlib.pyplot.figure`) are retained until explicitly closed and may consume too much memory. (To control this warning, see the rcParam `figure.max_open_warning`).\n",
      "  \n"
     ]
    },
    {
     "data": {
      "image/png": "[encoded data removed]",
      "text/plain": [
       "<Figure size 432x288 with 1 Axes>"
      ]
     },
     "metadata": {
      "needs_background": "light"
     },
     "output_type": "display_data"
    },
    {
     "data": {
      "image/png": "[encoded data removed]",
      "text/plain": [
       "<Figure size 432x288 with 1 Axes>"
      ]
     },
     "metadata": {
      "needs_background": "light"
     },
     "output_type": "display_data"
    },
    {
     "data": {
      "image/png": "[encoded data removed]",
      "text/plain": [
       "<Figure size 432x288 with 1 Axes>"
      ]
     },
     "metadata": {
      "needs_background": "light"
     },
     "output_type": "display_data"
    },
    {
     "data": {
      "image/png": "[encoded data removed]",
      "text/plain": [
       "<Figure size 432x288 with 1 Axes>"
      ]
     },
     "metadata": {
      "needs_background": "light"
     },
     "output_type": "display_data"
    },
    {
     "data": {
      "image/png": "[encoded data removed]",
      "text/plain": [
       "<Figure size 432x288 with 1 Axes>"
      ]
     },
     "metadata": {
      "needs_background": "light"
     },
     "output_type": "display_data"
    },
    {
     "data": {
      "image/png": "[encoded data removed]",
      "text/plain": [
       "<Figure size 432x288 with 1 Axes>"
      ]
     },
     "metadata": {
      "needs_background": "light"
     },
     "output_type": "display_data"
    },
    {
     "data": {
      "image/png": "[encoded data removed]",
      "text/plain": [
       "<Figure size 432x288 with 1 Axes>"
      ]
     },
     "metadata": {
      "needs_background": "light"
     },
     "output_type": "display_data"
    },
    {
     "data": {
      "image/png": "[encoded data removed]",
      "text/plain": [
       "<Figure size 432x288 with 1 Axes>"
      ]
     },
     "metadata": {
      "needs_background": "light"
     },
     "output_type": "display_data"
    },
    {
     "data": {
      "image/png": "[encoded data removed]",
      "text/plain": [
       "<Figure size 432x288 with 1 Axes>"
      ]
     },
     "metadata": {
      "needs_background": "light"
     },
     "output_type": "display_data"
    },
    {
     "data": {
      "image/png": "[encoded data removed]",
      "text/plain": [
       "<Figure size 432x288 with 1 Axes>"
      ]
     },
     "metadata": {
      "needs_background": "light"
     },
     "output_type": "display_data"
    },
    {
     "data": {
      "image/png": "[encoded data removed]",
      "text/plain": [
       "<Figure size 432x288 with 1 Axes>"
      ]
     },
     "metadata": {
      "needs_background": "light"
     },
     "output_type": "display_data"
    },
    {
     "data": {
      "image/png": "[encoded data removed]",
      "text/plain": [
       "<Figure size 432x288 with 1 Axes>"
      ]
     },
     "metadata": {
      "needs_background": "light"
     },
     "output_type": "display_data"
    },
    {
     "data": {
      "image/png": "[encoded data removed]",
      "text/plain": [
       "<Figure size 432x288 with 1 Axes>"
      ]
     },
     "metadata": {
      "needs_background": "light"
     },
     "output_type": "display_data"
    },
    {
     "data": {
      "image/png": "[encoded data removed]",
      "text/plain": [
       "<Figure size 432x288 with 1 Axes>"
      ]
     },
     "metadata": {
      "needs_background": "light"
     },
     "output_type": "display_data"
    },
    {
     "data": {
      "image/png": "[encoded data removed]",
      "text/plain": [
       "<Figure size 432x288 with 1 Axes>"
      ]
     },
     "metadata": {
      "needs_background": "light"
     },
     "output_type": "display_data"
    },
    {
     "data": {
      "image/png": "[encoded data removed]",
      "text/plain": [
       "<Figure size 432x288 with 1 Axes>"
      ]
     },
     "metadata": {
      "needs_background": "light"
     },
     "output_type": "display_data"
    },
    {
     "data": {
      "image/png": "[encoded data removed]",
      "text/plain": [
       "<Figure size 432x288 with 1 Axes>"
      ]
     },
     "metadata": {
      "needs_background": "light"
     },
     "output_type": "display_data"
    },
    {
     "data": {
      "image/png": "[encoded data removed]",
      "text/plain": [
       "<Figure size 432x288 with 1 Axes>"
      ]
     },
     "metadata": {
      "needs_background": "light"
     },
     "output_type": "display_data"
    },
    {
     "data": {
      "image/png": "[encoded data removed]",
      "text/plain": [
       "<Figure size 432x288 with 1 Axes>"
      ]
     },
     "metadata": {
      "needs_background": "light"
     },
     "output_type": "display_data"
    },
    {
     "data": {
      "image/png": "[encoded data removed]",
      "text/plain": [
       "<Figure size 432x288 with 1 Axes>"
      ]
     },
     "metadata": {
      "needs_background": "light"
     },
     "output_type": "display_data"
    },
    {
     "data": {
      "image/png": "[encoded data removed]",
      "text/plain": [
       "<Figure size 432x288 with 1 Axes>"
      ]
     },
     "metadata": {
      "needs_background": "light"
     },
     "output_type": "display_data"
    },
    {
     "data": {
      "image/png": "[encoded data removed]",
      "text/plain": [
       "<Figure size 432x288 with 1 Axes>"
      ]
     },
     "metadata": {
      "needs_background": "light"
     },
     "output_type": "display_data"
    },
    {
     "data": {
      "image/png": "[encoded data removed]",
      "text/plain": [
       "<Figure size 432x288 with 1 Axes>"
      ]
     },
     "metadata": {
      "needs_background": "light"
     },
     "output_type": "display_data"
    },
    {
     "data": {
      "image/png": "[encoded data removed]",
      "text/plain": [
       "<Figure size 432x288 with 1 Axes>"
      ]
     },
     "metadata": {
      "needs_background": "light"
     },
     "output_type": "display_data"
    },
    {
     "data": {
      "image/png": "[encoded data removed]",
      "text/plain": [
       "<Figure size 432x288 with 1 Axes>"
      ]
     },
     "metadata": {
      "needs_background": "light"
     },
     "output_type": "display_data"
    }
   ],
   "source": [
    "for col in [target for target in sorted_targets if target not in worst_five_targets]:\n",
    "    plt.figure()\n",
    "    train[col].hist()\n",
    "    plt.title(f'{col} {np.round(rs[col],3)}')"
   ]
  },
  {
   "cell_type": "code",
   "execution_count": null,
   "metadata": {},
   "outputs": [],
   "source": []
  }
 ],
 "metadata": {
  "kernelspec": {
   "display_name": "Python 3",
   "language": "python",
   "name": "python3"
  },
  "language_info": {
   "codemirror_mode": {
    "name": "ipython",
    "version": 3
   },
   "file_extension": ".py",
   "mimetype": "text/x-python",
   "name": "python",
   "nbconvert_exporter": "python",
   "pygments_lexer": "ipython3",
   "version": "3.7.5"
  }
 },
 "nbformat": 4,
 "nbformat_minor": 1
}
