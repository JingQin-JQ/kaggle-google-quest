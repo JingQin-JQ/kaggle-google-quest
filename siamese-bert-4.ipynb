{
 "cells": [
  {
   "cell_type": "markdown",
   "metadata": {},
   "source": [
    "## Importing libraries"
   ]
  },
  {
   "cell_type": "code",
   "execution_count": 1,
   "metadata": {
    "_kg_hide-input": true
   },
   "outputs": [],
   "source": [
    "import numpy as np\n",
    "import pandas as pd\n",
    "import matplotlib.pyplot as plt\n",
    "import seaborn as sns\n",
    "import time\n",
    "import datetime\n",
    "import re\n",
    "import gc\n",
    "import copy\n",
    "\n",
    "from sklearn.model_selection import KFold, GroupKFold\n",
    "from sklearn.preprocessing import OneHotEncoder, MinMaxScaler\n",
    "import nltk.data\n",
    "\n",
    "import torch\n",
    "import torch.nn as nn\n",
    "import torch.optim as optim\n",
    "import torch.nn.functional as F\n",
    "from torch.utils.data import DataLoader\n",
    "\n",
    "from tqdm import tqdm_notebook as tqdm\n",
    "from transformers import DistilBertTokenizer, BertTokenizer\n",
    "import transformers\n",
    "\n",
    "from radam import RAdam\n",
    "from text_data import TextDataset5, AugTextDataset3\n",
    "from bert import CustomBert3\n",
    "from multilabel_cross_fold import MultilabelStratifiedKFold\n",
    "from learning import Learner\n",
    "from lr_finder import LRFinder\n",
    "from one_cycle import OneCycleLR\n",
    "from text_cleaning import clean_data\n",
    "from create_features import get_categorical_features\n",
    "from losses_metrics import spearmanr_torch, spearmanr_np, optimize_rounding_params, get_cvs, spearmanr\n",
    "from inference import infer\n",
    "from eda import eda\n",
    "from common import *\n",
    "from utils.helpers import init_logger, init_seed\n",
    "\n",
    "%matplotlib inline\n",
    "pd.set_option('max_colwidth',400)"
   ]
  },
  {
   "cell_type": "markdown",
   "metadata": {},
   "source": [
    "## Loading and preparing data"
   ]
  },
  {
   "cell_type": "code",
   "execution_count": 2,
   "metadata": {
    "_cell_guid": "b1076dfc-b9ad-4769-8c92-a6c4dae69d19",
    "_uuid": "8f2839f25d086af736a60e9eeb907d3b93b6e0e5"
   },
   "outputs": [],
   "source": [
    "pd.set_option('max_rows', 500)\n",
    "pd.set_option('max_columns', 500)\n",
    "path = 'data/'\n",
    "sample_submission = pd.read_csv(f'{path}sample_submission.csv')\n",
    "test = pd.read_csv(f'{path}test.csv').fillna(' ')\n",
    "train = pd.read_csv(f'{path}train.csv').fillna(' ')\n",
    "train_aug_ru = pd.read_csv(f'{path}train_aug_ru.csv', index_col=0)"
   ]
  },
  {
   "cell_type": "code",
   "execution_count": 3,
   "metadata": {},
   "outputs": [
    {
     "data": {
      "text/html": [
       "<div>\n",
       "<style scoped>\n",
       "    .dataframe tbody tr th:only-of-type {\n",
       "        vertical-align: middle;\n",
       "    }\n",
       "\n",
       "    .dataframe tbody tr th {\n",
       "        vertical-align: top;\n",
       "    }\n",
       "\n",
       "    .dataframe thead th {\n",
       "        text-align: right;\n",
       "    }\n",
       "</style>\n",
       "<table border=\"1\" class=\"dataframe\">\n",
       "  <thead>\n",
       "    <tr style=\"text-align: right;\">\n",
       "      <th></th>\n",
       "      <th>question_title</th>\n",
       "      <th>question_title_ru</th>\n",
       "    </tr>\n",
       "  </thead>\n",
       "  <tbody>\n",
       "    <tr>\n",
       "      <th>0</th>\n",
       "      <td>What am I losing when using extension tubes instead of a macro lens?</td>\n",
       "      <td>What do I lose when I use extensions instead of a macro lens?</td>\n",
       "    </tr>\n",
       "    <tr>\n",
       "      <th>1</th>\n",
       "      <td>What is the distinction between a city and a sprawl/metroplex... between downtown and a commercial district?</td>\n",
       "      <td>What is the difference between a city and a metropolis... between a center and a commercial district?</td>\n",
       "    </tr>\n",
       "    <tr>\n",
       "      <th>2</th>\n",
       "      <td>Maximum protusion length for through-hole component pins</td>\n",
       "      <td>Length of tube for through pins</td>\n",
       "    </tr>\n",
       "    <tr>\n",
       "      <th>3</th>\n",
       "      <td>Can an affidavit be used in Beit Din?</td>\n",
       "      <td>Can an affidavit be used in Bindin?</td>\n",
       "    </tr>\n",
       "    <tr>\n",
       "      <th>4</th>\n",
       "      <td>How do you make a binary image in Photoshop?</td>\n",
       "      <td>How do you create a binary lifestyle?</td>\n",
       "    </tr>\n",
       "    <tr>\n",
       "      <th>5</th>\n",
       "      <td>Column Grouping with Title in DataTables</td>\n",
       "      <td>Column with the heading in the tablets</td>\n",
       "    </tr>\n",
       "    <tr>\n",
       "      <th>6</th>\n",
       "      <td>core file size with ulimit</td>\n",
       "      <td>the size of the main file with ulimit</td>\n",
       "    </tr>\n",
       "    <tr>\n",
       "      <th>7</th>\n",
       "      <td>How do you get your Steam games to run on Ubuntu through Wine or something similar?</td>\n",
       "      <td>How do you make your Steam games run on Ubuntu through Wine or something like that?</td>\n",
       "    </tr>\n",
       "    <tr>\n",
       "      <th>8</th>\n",
       "      <td>High memory usage Windows Server 2008r2 on VMware</td>\n",
       "      <td>High Memory Windows 2008r2 on VMware</td>\n",
       "    </tr>\n",
       "    <tr>\n",
       "      <th>9</th>\n",
       "      <td>How do you grapple in Dead Rising 3?</td>\n",
       "      <td>How do you graph in Dead Rising 3?</td>\n",
       "    </tr>\n",
       "    <tr>\n",
       "      <th>10</th>\n",
       "      <td>How to compile and install programs from source</td>\n",
       "      <td>How to compile and install programs from source</td>\n",
       "    </tr>\n",
       "    <tr>\n",
       "      <th>11</th>\n",
       "      <td>sleeping SPID blocking other transactions</td>\n",
       "      <td>SPID blocks other transactions</td>\n",
       "    </tr>\n",
       "    <tr>\n",
       "      <th>12</th>\n",
       "      <td>Verify $_POST script will work correctly</td>\n",
       "      <td>Checking the $_ POST script will work correctly</td>\n",
       "    </tr>\n",
       "    <tr>\n",
       "      <th>13</th>\n",
       "      <td>what's the relation between sensor size and image quality (noise, dynamic range)?</td>\n",
       "      <td>What is the relationship between sensor size and image quality (noise, dynamic range)?</td>\n",
       "    </tr>\n",
       "    <tr>\n",
       "      <th>14</th>\n",
       "      <td>multiple keys via HKDF - whats better, one or two applications of HKDF-extract</td>\n",
       "      <td>A few keys via HKbs is better, one or two HKbs-extra apps</td>\n",
       "    </tr>\n",
       "    <tr>\n",
       "      <th>15</th>\n",
       "      <td>What filter should I use to avoid overly-whitened daylight  images?</td>\n",
       "      <td>What filter should be used to avoid excessively discolored daytime images?</td>\n",
       "    </tr>\n",
       "    <tr>\n",
       "      <th>16</th>\n",
       "      <td>Create heatmap with PSTricks or TikZ</td>\n",
       "      <td>Create a heat map with PSTricks or TTZ</td>\n",
       "    </tr>\n",
       "    <tr>\n",
       "      <th>17</th>\n",
       "      <td>Can you book hotels on a prepaid credit card worldwide?</td>\n",
       "      <td>Can I book hotels with a prepaid credit card around the world?</td>\n",
       "    </tr>\n",
       "    <tr>\n",
       "      <th>18</th>\n",
       "      <td>Fiber Channel SAN hooked up to 2 ESXi Hosts</td>\n",
       "      <td>Fiber Channel SAN joins two ESXi hosts</td>\n",
       "    </tr>\n",
       "    <tr>\n",
       "      <th>19</th>\n",
       "      <td>How do I remove a Facebook app request?</td>\n",
       "      <td>How do I delete a Facebook app request?</td>\n",
       "    </tr>\n",
       "    <tr>\n",
       "      <th>20</th>\n",
       "      <td>How often do I need to change my oil in a VW TDI?</td>\n",
       "      <td>How often do I need to change oil in a VW TDI?</td>\n",
       "    </tr>\n",
       "    <tr>\n",
       "      <th>21</th>\n",
       "      <td>Does this statement make any sense?</td>\n",
       "      <td>Does this statement make sense?</td>\n",
       "    </tr>\n",
       "    <tr>\n",
       "      <th>22</th>\n",
       "      <td>2 servers, high availability and faster response</td>\n",
       "      <td>2 servers, high availability and faster response</td>\n",
       "    </tr>\n",
       "    <tr>\n",
       "      <th>23</th>\n",
       "      <td>Why does string theory have such a huge landscape?</td>\n",
       "      <td>Why does string theory have such a huge landscape?</td>\n",
       "    </tr>\n",
       "    <tr>\n",
       "      <th>24</th>\n",
       "      <td>What are the benefits of owning a physical book?</td>\n",
       "      <td>What are the benefits of owning a physical book?</td>\n",
       "    </tr>\n",
       "    <tr>\n",
       "      <th>25</th>\n",
       "      <td>I teleported too high on my Minecraft server</td>\n",
       "      <td>I called too high on my Minecraft server</td>\n",
       "    </tr>\n",
       "    <tr>\n",
       "      <th>26</th>\n",
       "      <td>How can I write HTML and send as an email?</td>\n",
       "      <td>How can I write HTML and send it by email?</td>\n",
       "    </tr>\n",
       "    <tr>\n",
       "      <th>27</th>\n",
       "      <td>Why is the potential function defined differently in physics and calculus?</td>\n",
       "      <td>Why is a potential function defined differently in physics and calculations?</td>\n",
       "    </tr>\n",
       "    <tr>\n",
       "      <th>28</th>\n",
       "      <td>What is Cold Iron actually?</td>\n",
       "      <td>What is cold iron really?</td>\n",
       "    </tr>\n",
       "    <tr>\n",
       "      <th>29</th>\n",
       "      <td>Relationship between user story, feature, and epic?</td>\n",
       "      <td>The relationship between user history, feature film, and epic?</td>\n",
       "    </tr>\n",
       "    <tr>\n",
       "      <th>30</th>\n",
       "      <td>How do different tissue culture matrices affect background in fluorescent microscopy?</td>\n",
       "      <td>How do different tissue culture matrices affect the background in fluorescent microscopy?</td>\n",
       "    </tr>\n",
       "    <tr>\n",
       "      <th>31</th>\n",
       "      <td>Tips for finding SPAM links injected into the_content</td>\n",
       "      <td>Tips for finding spam links entered into _ content</td>\n",
       "    </tr>\n",
       "    <tr>\n",
       "      <th>32</th>\n",
       "      <td>Photo icons have generic picture only</td>\n",
       "      <td>Photographers Have Only Genes</td>\n",
       "    </tr>\n",
       "    <tr>\n",
       "      <th>33</th>\n",
       "      <td>More than 2 resistors in parallel</td>\n",
       "      <td>More than 2 resistors in parallel</td>\n",
       "    </tr>\n",
       "    <tr>\n",
       "      <th>34</th>\n",
       "      <td>C# Test Assembly</td>\n",
       "      <td>C # Test assembly</td>\n",
       "    </tr>\n",
       "    <tr>\n",
       "      <th>35</th>\n",
       "      <td>Is there a general term for a single note or a chord?</td>\n",
       "      <td>Is there a common term for a single note or chord?</td>\n",
       "    </tr>\n",
       "    <tr>\n",
       "      <th>36</th>\n",
       "      <td>How can I login to a website from terminal?</td>\n",
       "      <td>How do I log in through the terminal?</td>\n",
       "    </tr>\n",
       "    <tr>\n",
       "      <th>37</th>\n",
       "      <td>Export error with addon</td>\n",
       "      <td>The Addon Export Error</td>\n",
       "    </tr>\n",
       "    <tr>\n",
       "      <th>38</th>\n",
       "      <td>Java final variables changes at the execution time</td>\n",
       "      <td>Changing Java endpoint variables during execution</td>\n",
       "    </tr>\n",
       "    <tr>\n",
       "      <th>39</th>\n",
       "      <td>Difference between busses</td>\n",
       "      <td>Contradictions between countries</td>\n",
       "    </tr>\n",
       "    <tr>\n",
       "      <th>40</th>\n",
       "      <td>Flushing coolant after driving only with water in</td>\n",
       "      <td>Cooling liquid after driving only with water</td>\n",
       "    </tr>\n",
       "    <tr>\n",
       "      <th>41</th>\n",
       "      <td>How does critical strike chance stack?</td>\n",
       "      <td>How did the critical impact stack up?</td>\n",
       "    </tr>\n",
       "    <tr>\n",
       "      <th>42</th>\n",
       "      <td>Directory.GetFiles string gives an error</td>\n",
       "      <td>The Directory.GetFiles string yields an error</td>\n",
       "    </tr>\n",
       "    <tr>\n",
       "      <th>43</th>\n",
       "      <td>Discontinuity at the edge of Chebychev window</td>\n",
       "      <td>Continuity on the Edge of Chebychev's Window</td>\n",
       "    </tr>\n",
       "    <tr>\n",
       "      <th>44</th>\n",
       "      <td>Silverlight: Returning value from synchronous method using Rx</td>\n",
       "      <td>Silverlight: Return of Value from Synchronous Method Using Rx</td>\n",
       "    </tr>\n",
       "    <tr>\n",
       "      <th>45</th>\n",
       "      <td>How to grep words in a file?</td>\n",
       "      <td>How do I display words in a file?</td>\n",
       "    </tr>\n",
       "    <tr>\n",
       "      <th>46</th>\n",
       "      <td>Get term weight in node object for ordering with EntityFieldQuery</td>\n",
       "      <td>Obtain weight in the node object to order with EntityFredQuery</td>\n",
       "    </tr>\n",
       "    <tr>\n",
       "      <th>47</th>\n",
       "      <td>Why is my CV 145% complete?</td>\n",
       "      <td>Why is my CV 145% complete?</td>\n",
       "    </tr>\n",
       "    <tr>\n",
       "      <th>48</th>\n",
       "      <td>Symfony 2 and Twig custom error page</td>\n",
       "      <td>Symphony 2 and the User Error Page</td>\n",
       "    </tr>\n",
       "    <tr>\n",
       "      <th>49</th>\n",
       "      <td>Thunderbird 2.0: Inbox size is 4GB on disk: how do I reduce it?</td>\n",
       "      <td>Thunderbird 2.0: Incoming size is 4GB on disk: how do I reduce it?</td>\n",
       "    </tr>\n",
       "    <tr>\n",
       "      <th>50</th>\n",
       "      <td>AES using derived keys / IVs. Does it introduce a weakness?</td>\n",
       "      <td>AES with derivative keys / IVs.</td>\n",
       "    </tr>\n",
       "    <tr>\n",
       "      <th>51</th>\n",
       "      <td>Is potential energy and \"work done\" the same thing?</td>\n",
       "      <td>Is potential energy and \"work done\" the same thing?</td>\n",
       "    </tr>\n",
       "    <tr>\n",
       "      <th>52</th>\n",
       "      <td>In Android, how do I position an image on top of another to look like a badge?</td>\n",
       "      <td>In Android, how do you position an image on top of another to look like an icon?</td>\n",
       "    </tr>\n",
       "    <tr>\n",
       "      <th>53</th>\n",
       "      <td>How to use Java to read/write data to/from the header pins?</td>\n",
       "      <td>How can I use Java to read / write data to / from headers?</td>\n",
       "    </tr>\n",
       "    <tr>\n",
       "      <th>54</th>\n",
       "      <td>Is there added value in having your own presentation layout and using it consistently?</td>\n",
       "      <td>Is there added value in having your own layout of a presentation and using it consistently?</td>\n",
       "    </tr>\n",
       "    <tr>\n",
       "      <th>55</th>\n",
       "      <td>What are the disadvantages of \"puncture proof\" (or puncture resistant) tires?</td>\n",
       "      <td>What are the advantages of puncture-resistant (or puncture-resistant) tyres?</td>\n",
       "    </tr>\n",
       "    <tr>\n",
       "      <th>56</th>\n",
       "      <td>Saving TinyMCE Base64 images with dragonfly</td>\n",
       "      <td>Saving TinyMCE Base64 images with dragonfly</td>\n",
       "    </tr>\n",
       "    <tr>\n",
       "      <th>57</th>\n",
       "      <td>Setting up form table checkboxes</td>\n",
       "      <td>Setting up the form table checkboxes</td>\n",
       "    </tr>\n",
       "    <tr>\n",
       "      <th>58</th>\n",
       "      <td>What is the best way to paste code into a Trello card?</td>\n",
       "      <td>What is the best way to insert the code into the Trello card?</td>\n",
       "    </tr>\n",
       "    <tr>\n",
       "      <th>59</th>\n",
       "      <td>can I use a disk larger than 320 GB with RPi?</td>\n",
       "      <td>Can I use a drive larger than 320 GB with RPi?</td>\n",
       "    </tr>\n",
       "    <tr>\n",
       "      <th>60</th>\n",
       "      <td>What does biting off the Pitum have to do with Pregnancy?</td>\n",
       "      <td>What does biting have to do with pregnancy?</td>\n",
       "    </tr>\n",
       "    <tr>\n",
       "      <th>61</th>\n",
       "      <td>Exchange 2003 internal to external</td>\n",
       "      <td>2003 internal-external exchange</td>\n",
       "    </tr>\n",
       "    <tr>\n",
       "      <th>62</th>\n",
       "      <td>Nexus 7 is stuck in reboot loop after full discharge</td>\n",
       "      <td>Nexus 7 stuck in reboot after full immersion</td>\n",
       "    </tr>\n",
       "    <tr>\n",
       "      <th>63</th>\n",
       "      <td>How to access Event object inside javascript tag of Aspx page header content?</td>\n",
       "      <td>How can I access an object inside the javascript tag in the Aspx header?</td>\n",
       "    </tr>\n",
       "    <tr>\n",
       "      <th>64</th>\n",
       "      <td>Existing proofs of Rokhlin's theorem for PL manifolds</td>\n",
       "      <td>The contradictions of Rochlin's theory for PL teams</td>\n",
       "    </tr>\n",
       "    <tr>\n",
       "      <th>65</th>\n",
       "      <td>Can a card be un-cast, if the player realises it was a bad decision?</td>\n",
       "      <td>Can a card be played if the player realizes that it was the wrong decision?</td>\n",
       "    </tr>\n",
       "    <tr>\n",
       "      <th>66</th>\n",
       "      <td>Interaction of the Cold extraordinary ability and Grapples</td>\n",
       "      <td>The Cold War-Grape Interaction</td>\n",
       "    </tr>\n",
       "    <tr>\n",
       "      <th>67</th>\n",
       "      <td>Modern design - What's that?</td>\n",
       "      <td>Modern design - What is it?</td>\n",
       "    </tr>\n",
       "    <tr>\n",
       "      <th>68</th>\n",
       "      <td>The hobbit, how is it possible that 48 FPS is better than 24 FPS</td>\n",
       "      <td>The hobbit, how is it possible that 48 FPS is better than 24 FPS</td>\n",
       "    </tr>\n",
       "    <tr>\n",
       "      <th>69</th>\n",
       "      <td>Who are the members of an early design of Luffy's crew?</td>\n",
       "      <td>Who is in the early Luffy line-up?</td>\n",
       "    </tr>\n",
       "    <tr>\n",
       "      <th>70</th>\n",
       "      <td>Google chrome and chromium black window</td>\n",
       "      <td>Google's Chrome and Black Chrome Window</td>\n",
       "    </tr>\n",
       "    <tr>\n",
       "      <th>71</th>\n",
       "      <td>Selecting multiple icons in Finder using the keyboard?</td>\n",
       "      <td>Selecting multiple characters in Finder with a keyboard?</td>\n",
       "    </tr>\n",
       "    <tr>\n",
       "      <th>72</th>\n",
       "      <td>Trigger IP ban based on request of given file?</td>\n",
       "      <td>An IP ban trigger based on a file request?</td>\n",
       "    </tr>\n",
       "    <tr>\n",
       "      <th>73</th>\n",
       "      <td>Sorting the output of \"find\"?</td>\n",
       "      <td>The output of the \"find\"?</td>\n",
       "    </tr>\n",
       "    <tr>\n",
       "      <th>74</th>\n",
       "      <td>Diff between backups: see permissions, group and owner and sym link differences</td>\n",
       "      <td>Differences between backups: see permissions, differences between groups and owners, and sim links</td>\n",
       "    </tr>\n",
       "    <tr>\n",
       "      <th>75</th>\n",
       "      <td>Can you send data usefully over one wire, literally one wire?</td>\n",
       "      <td>Can you usefully transmit data on one wire, literally on one wire?</td>\n",
       "    </tr>\n",
       "    <tr>\n",
       "      <th>76</th>\n",
       "      <td>How to plan for the future when installing a new roof?</td>\n",
       "      <td>How to plan for the future when installing a new roof?</td>\n",
       "    </tr>\n",
       "    <tr>\n",
       "      <th>77</th>\n",
       "      <td>Right way to translate view Titles?</td>\n",
       "      <td>The right way to translate views Headlines?</td>\n",
       "    </tr>\n",
       "    <tr>\n",
       "      <th>78</th>\n",
       "      <td>Opamp Voltage Doubler Unstable (After Extended Operation)</td>\n",
       "      <td>Opamp voltage double is unstable (after extended operation)</td>\n",
       "    </tr>\n",
       "    <tr>\n",
       "      <th>79</th>\n",
       "      <td>add custom citation that differs in format than the rest</td>\n",
       "      <td>add a custom citation that differs in format from the rest</td>\n",
       "    </tr>\n",
       "    <tr>\n",
       "      <th>80</th>\n",
       "      <td>JQuery - Select exact class structure</td>\n",
       "      <td>JQuery - Choose the exact class structure</td>\n",
       "    </tr>\n",
       "    <tr>\n",
       "      <th>81</th>\n",
       "      <td>Random Forest to estimate land use in past with Landsat</td>\n",
       "      <td>Random Forest to assess past land use with Landsat</td>\n",
       "    </tr>\n",
       "    <tr>\n",
       "      <th>82</th>\n",
       "      <td>What's a better method, using Large Array vs SQL Joins?</td>\n",
       "      <td>What could be better with Large Array vs SQL Joins?</td>\n",
       "    </tr>\n",
       "    <tr>\n",
       "      <th>83</th>\n",
       "      <td>Tcolorbox: force labelling to take on specific number</td>\n",
       "      <td>Tcolourbox: force labeling to take a specific number</td>\n",
       "    </tr>\n",
       "    <tr>\n",
       "      <th>84</th>\n",
       "      <td>I want to build a portable railgun and I'm a complete rookie</td>\n",
       "      <td>I want to build a portable railgun and I'm complete rookie</td>\n",
       "    </tr>\n",
       "    <tr>\n",
       "      <th>85</th>\n",
       "      <td>Insert a Views Block into a node in Drupal 7</td>\n",
       "      <td>Lock browsing to node in Drupal 7</td>\n",
       "    </tr>\n",
       "    <tr>\n",
       "      <th>86</th>\n",
       "      <td>ArcGIS 10 Field Calculator</td>\n",
       "      <td>ArcGIS 10 Field Calculator</td>\n",
       "    </tr>\n",
       "    <tr>\n",
       "      <th>87</th>\n",
       "      <td>Does every specialization of Craft you take get the class skill bonus, or just the first?</td>\n",
       "      <td>Does every specialty you study get a bonus for excellence, or is it just the first one?</td>\n",
       "    </tr>\n",
       "    <tr>\n",
       "      <th>88</th>\n",
       "      <td>How are switches for two monitors called? Or can I use a monitor split?</td>\n",
       "      <td>What are the names of the switches for two monitors? Or can I use a split monitor?</td>\n",
       "    </tr>\n",
       "    <tr>\n",
       "      <th>89</th>\n",
       "      <td>How to fix a Macbook Pro trackpad where the mouse pointer is randomly moving?</td>\n",
       "      <td>How do I fix the Macbook Pro trackpad where the mouse pointer is inadvertently moving?</td>\n",
       "    </tr>\n",
       "    <tr>\n",
       "      <th>90</th>\n",
       "      <td>Refused visit a friend visa for Belgium</td>\n",
       "      <td>Visit to Belgium on a Friendly Visa</td>\n",
       "    </tr>\n",
       "    <tr>\n",
       "      <th>91</th>\n",
       "      <td>The Probability of Catching Criminals</td>\n",
       "      <td>The probability of catching criminals</td>\n",
       "    </tr>\n",
       "    <tr>\n",
       "      <th>92</th>\n",
       "      <td>Determining sample size for a comparative study involving two unequal groups</td>\n",
       "      <td>Determining the sample size for a comparative study involving two unequal groups</td>\n",
       "    </tr>\n",
       "    <tr>\n",
       "      <th>93</th>\n",
       "      <td>Solving the recurrence relation $T(n)=4T\\left(\\frac{\\sqrt{n}}{3}\\right)+ \\log^2n$</td>\n",
       "      <td>Resolving the relapse ratio $T (n) = 4T\\ left (\\ c {\\ sql {n}} {3}\\ right) +\\ log ^ 2n $</td>\n",
       "    </tr>\n",
       "    <tr>\n",
       "      <th>94</th>\n",
       "      <td>Detect user device and assign different jquery (desktop / mobile(ipad)) in js/ jquery?</td>\n",
       "      <td>User device and assign another jquery (desktop / mobile (ipad)) to js / jquery?</td>\n",
       "    </tr>\n",
       "    <tr>\n",
       "      <th>95</th>\n",
       "      <td>How can I reliably make myself a cup of coffee in my hotel room that doesn't suck?</td>\n",
       "      <td>How can I reliably make myself a cup of coffee in a hotel room that won't suck?</td>\n",
       "    </tr>\n",
       "    <tr>\n",
       "      <th>96</th>\n",
       "      <td>Which color scheme to choose for applications that require long work hours?</td>\n",
       "      <td>What colour scheme should I choose for applications that require a long working day?</td>\n",
       "    </tr>\n",
       "    <tr>\n",
       "      <th>97</th>\n",
       "      <td>What does “bupke” mean?</td>\n",
       "      <td>What does Fabregas mean?</td>\n",
       "    </tr>\n",
       "    <tr>\n",
       "      <th>98</th>\n",
       "      <td>Two Field Problem</td>\n",
       "      <td>Two Fields</td>\n",
       "    </tr>\n",
       "    <tr>\n",
       "      <th>99</th>\n",
       "      <td>Sum of vlookup values on multiple sheets</td>\n",
       "      <td>Sum of search values on several sheets</td>\n",
       "    </tr>\n",
       "  </tbody>\n",
       "</table>\n",
       "</div>"
      ],
      "text/plain": [
       "                                                                                                  question_title  \\\n",
       "0                                           What am I losing when using extension tubes instead of a macro lens?   \n",
       "1   What is the distinction between a city and a sprawl/metroplex... between downtown and a commercial district?   \n",
       "2                                                       Maximum protusion length for through-hole component pins   \n",
       "3                                                                          Can an affidavit be used in Beit Din?   \n",
       "4                                                                   How do you make a binary image in Photoshop?   \n",
       "5                                                                       Column Grouping with Title in DataTables   \n",
       "6                                                                                     core file size with ulimit   \n",
       "7                            How do you get your Steam games to run on Ubuntu through Wine or something similar?   \n",
       "8                                                              High memory usage Windows Server 2008r2 on VMware   \n",
       "9                                                                           How do you grapple in Dead Rising 3?   \n",
       "10                                                               How to compile and install programs from source   \n",
       "11                                                                     sleeping SPID blocking other transactions   \n",
       "12                                                                      Verify $_POST script will work correctly   \n",
       "13                             what's the relation between sensor size and image quality (noise, dynamic range)?   \n",
       "14                                multiple keys via HKDF - whats better, one or two applications of HKDF-extract   \n",
       "15                                           What filter should I use to avoid overly-whitened daylight  images?   \n",
       "16                                                                          Create heatmap with PSTricks or TikZ   \n",
       "17                                                       Can you book hotels on a prepaid credit card worldwide?   \n",
       "18                                                                   Fiber Channel SAN hooked up to 2 ESXi Hosts   \n",
       "19                                                                       How do I remove a Facebook app request?   \n",
       "20                                                             How often do I need to change my oil in a VW TDI?   \n",
       "21                                                                           Does this statement make any sense?   \n",
       "22                                                              2 servers, high availability and faster response   \n",
       "23                                                            Why does string theory have such a huge landscape?   \n",
       "24                                                              What are the benefits of owning a physical book?   \n",
       "25                                                                  I teleported too high on my Minecraft server   \n",
       "26                                                                    How can I write HTML and send as an email?   \n",
       "27                                    Why is the potential function defined differently in physics and calculus?   \n",
       "28                                                                                   What is Cold Iron actually?   \n",
       "29                                                           Relationship between user story, feature, and epic?   \n",
       "30                         How do different tissue culture matrices affect background in fluorescent microscopy?   \n",
       "31                                                         Tips for finding SPAM links injected into the_content   \n",
       "32                                                                         Photo icons have generic picture only   \n",
       "33                                                                             More than 2 resistors in parallel   \n",
       "34                                                                                              C# Test Assembly   \n",
       "35                                                         Is there a general term for a single note or a chord?   \n",
       "36                                                                   How can I login to a website from terminal?   \n",
       "37                                                                                       Export error with addon   \n",
       "38                                                            Java final variables changes at the execution time   \n",
       "39                                                                                     Difference between busses   \n",
       "40                                                             Flushing coolant after driving only with water in   \n",
       "41                                                                        How does critical strike chance stack?   \n",
       "42                                                                      Directory.GetFiles string gives an error   \n",
       "43                                                                 Discontinuity at the edge of Chebychev window   \n",
       "44                                                 Silverlight: Returning value from synchronous method using Rx   \n",
       "45                                                                                  How to grep words in a file?   \n",
       "46                                             Get term weight in node object for ordering with EntityFieldQuery   \n",
       "47                                                                                   Why is my CV 145% complete?   \n",
       "48                                                                          Symfony 2 and Twig custom error page   \n",
       "49                                               Thunderbird 2.0: Inbox size is 4GB on disk: how do I reduce it?   \n",
       "50                                                   AES using derived keys / IVs. Does it introduce a weakness?   \n",
       "51                                                           Is potential energy and \"work done\" the same thing?   \n",
       "52                                In Android, how do I position an image on top of another to look like a badge?   \n",
       "53                                                   How to use Java to read/write data to/from the header pins?   \n",
       "54                        Is there added value in having your own presentation layout and using it consistently?   \n",
       "55                                 What are the disadvantages of \"puncture proof\" (or puncture resistant) tires?   \n",
       "56                                                                   Saving TinyMCE Base64 images with dragonfly   \n",
       "57                                                                              Setting up form table checkboxes   \n",
       "58                                                        What is the best way to paste code into a Trello card?   \n",
       "59                                                                 can I use a disk larger than 320 GB with RPi?   \n",
       "60                                                     What does biting off the Pitum have to do with Pregnancy?   \n",
       "61                                                                            Exchange 2003 internal to external   \n",
       "62                                                          Nexus 7 is stuck in reboot loop after full discharge   \n",
       "63                                 How to access Event object inside javascript tag of Aspx page header content?   \n",
       "64                                                         Existing proofs of Rokhlin's theorem for PL manifolds   \n",
       "65                                          Can a card be un-cast, if the player realises it was a bad decision?   \n",
       "66                                                    Interaction of the Cold extraordinary ability and Grapples   \n",
       "67                                                                                  Modern design - What's that?   \n",
       "68                                              The hobbit, how is it possible that 48 FPS is better than 24 FPS   \n",
       "69                                                       Who are the members of an early design of Luffy's crew?   \n",
       "70                                                                       Google chrome and chromium black window   \n",
       "71                                                        Selecting multiple icons in Finder using the keyboard?   \n",
       "72                                                                Trigger IP ban based on request of given file?   \n",
       "73                                                                                 Sorting the output of \"find\"?   \n",
       "74                               Diff between backups: see permissions, group and owner and sym link differences   \n",
       "75                                                 Can you send data usefully over one wire, literally one wire?   \n",
       "76                                                        How to plan for the future when installing a new roof?   \n",
       "77                                                                           Right way to translate view Titles?   \n",
       "78                                                     Opamp Voltage Doubler Unstable (After Extended Operation)   \n",
       "79                                                      add custom citation that differs in format than the rest   \n",
       "80                                                                         JQuery - Select exact class structure   \n",
       "81                                                       Random Forest to estimate land use in past with Landsat   \n",
       "82                                                       What's a better method, using Large Array vs SQL Joins?   \n",
       "83                                                         Tcolorbox: force labelling to take on specific number   \n",
       "84                                                  I want to build a portable railgun and I'm a complete rookie   \n",
       "85                                                                  Insert a Views Block into a node in Drupal 7   \n",
       "86                                                                                    ArcGIS 10 Field Calculator   \n",
       "87                     Does every specialization of Craft you take get the class skill bonus, or just the first?   \n",
       "88                                       How are switches for two monitors called? Or can I use a monitor split?   \n",
       "89                                 How to fix a Macbook Pro trackpad where the mouse pointer is randomly moving?   \n",
       "90                                                                       Refused visit a friend visa for Belgium   \n",
       "91                                                                         The Probability of Catching Criminals   \n",
       "92                                  Determining sample size for a comparative study involving two unequal groups   \n",
       "93                             Solving the recurrence relation $T(n)=4T\\left(\\frac{\\sqrt{n}}{3}\\right)+ \\log^2n$   \n",
       "94                        Detect user device and assign different jquery (desktop / mobile(ipad)) in js/ jquery?   \n",
       "95                            How can I reliably make myself a cup of coffee in my hotel room that doesn't suck?   \n",
       "96                                   Which color scheme to choose for applications that require long work hours?   \n",
       "97                                                                                       What does “bupke” mean?   \n",
       "98                                                                                             Two Field Problem   \n",
       "99                                                                      Sum of vlookup values on multiple sheets   \n",
       "\n",
       "                                                                                        question_title_ru  \n",
       "0                                           What do I lose when I use extensions instead of a macro lens?  \n",
       "1   What is the difference between a city and a metropolis... between a center and a commercial district?  \n",
       "2                                                                         Length of tube for through pins  \n",
       "3                                                                     Can an affidavit be used in Bindin?  \n",
       "4                                                                   How do you create a binary lifestyle?  \n",
       "5                                                                  Column with the heading in the tablets  \n",
       "6                                                                   the size of the main file with ulimit  \n",
       "7                     How do you make your Steam games run on Ubuntu through Wine or something like that?  \n",
       "8                                                                    High Memory Windows 2008r2 on VMware  \n",
       "9                                                                      How do you graph in Dead Rising 3?  \n",
       "10                                                        How to compile and install programs from source  \n",
       "11                                                                         SPID blocks other transactions  \n",
       "12                                                        Checking the $_ POST script will work correctly  \n",
       "13                 What is the relationship between sensor size and image quality (noise, dynamic range)?  \n",
       "14                                              A few keys via HKbs is better, one or two HKbs-extra apps  \n",
       "15                             What filter should be used to avoid excessively discolored daytime images?  \n",
       "16                                                                 Create a heat map with PSTricks or TTZ  \n",
       "17                                         Can I book hotels with a prepaid credit card around the world?  \n",
       "18                                                                 Fiber Channel SAN joins two ESXi hosts  \n",
       "19                                                                How do I delete a Facebook app request?  \n",
       "20                                                         How often do I need to change oil in a VW TDI?  \n",
       "21                                                                        Does this statement make sense?  \n",
       "22                                                       2 servers, high availability and faster response  \n",
       "23                                                     Why does string theory have such a huge landscape?  \n",
       "24                                                       What are the benefits of owning a physical book?  \n",
       "25                                                               I called too high on my Minecraft server  \n",
       "26                                                             How can I write HTML and send it by email?  \n",
       "27                           Why is a potential function defined differently in physics and calculations?  \n",
       "28                                                                              What is cold iron really?  \n",
       "29                                         The relationship between user history, feature film, and epic?  \n",
       "30              How do different tissue culture matrices affect the background in fluorescent microscopy?  \n",
       "31                                                     Tips for finding spam links entered into _ content  \n",
       "32                                                                          Photographers Have Only Genes  \n",
       "33                                                                      More than 2 resistors in parallel  \n",
       "34                                                                                      C # Test assembly  \n",
       "35                                                     Is there a common term for a single note or chord?  \n",
       "36                                                                  How do I log in through the terminal?  \n",
       "37                                                                                 The Addon Export Error  \n",
       "38                                                      Changing Java endpoint variables during execution  \n",
       "39                                                                       Contradictions between countries  \n",
       "40                                                           Cooling liquid after driving only with water  \n",
       "41                                                                  How did the critical impact stack up?  \n",
       "42                                                          The Directory.GetFiles string yields an error  \n",
       "43                                                           Continuity on the Edge of Chebychev's Window  \n",
       "44                                          Silverlight: Return of Value from Synchronous Method Using Rx  \n",
       "45                                                                      How do I display words in a file?  \n",
       "46                                         Obtain weight in the node object to order with EntityFredQuery  \n",
       "47                                                                            Why is my CV 145% complete?  \n",
       "48                                                                     Symphony 2 and the User Error Page  \n",
       "49                                     Thunderbird 2.0: Incoming size is 4GB on disk: how do I reduce it?  \n",
       "50                                                                        AES with derivative keys / IVs.  \n",
       "51                                                    Is potential energy and \"work done\" the same thing?  \n",
       "52                       In Android, how do you position an image on top of another to look like an icon?  \n",
       "53                                             How can I use Java to read / write data to / from headers?  \n",
       "54            Is there added value in having your own layout of a presentation and using it consistently?  \n",
       "55                           What are the advantages of puncture-resistant (or puncture-resistant) tyres?  \n",
       "56                                                            Saving TinyMCE Base64 images with dragonfly  \n",
       "57                                                                   Setting up the form table checkboxes  \n",
       "58                                          What is the best way to insert the code into the Trello card?  \n",
       "59                                                         Can I use a drive larger than 320 GB with RPi?  \n",
       "60                                                            What does biting have to do with pregnancy?  \n",
       "61                                                                        2003 internal-external exchange  \n",
       "62                                                           Nexus 7 stuck in reboot after full immersion  \n",
       "63                               How can I access an object inside the javascript tag in the Aspx header?  \n",
       "64                                                    The contradictions of Rochlin's theory for PL teams  \n",
       "65                            Can a card be played if the player realizes that it was the wrong decision?  \n",
       "66                                                                         The Cold War-Grape Interaction  \n",
       "67                                                                            Modern design - What is it?  \n",
       "68                                       The hobbit, how is it possible that 48 FPS is better than 24 FPS  \n",
       "69                                                                     Who is in the early Luffy line-up?  \n",
       "70                                                                Google's Chrome and Black Chrome Window  \n",
       "71                                               Selecting multiple characters in Finder with a keyboard?  \n",
       "72                                                             An IP ban trigger based on a file request?  \n",
       "73                                                                              The output of the \"find\"?  \n",
       "74     Differences between backups: see permissions, differences between groups and owners, and sim links  \n",
       "75                                     Can you usefully transmit data on one wire, literally on one wire?  \n",
       "76                                                 How to plan for the future when installing a new roof?  \n",
       "77                                                            The right way to translate views Headlines?  \n",
       "78                                            Opamp voltage double is unstable (after extended operation)  \n",
       "79                                             add a custom citation that differs in format from the rest  \n",
       "80                                                              JQuery - Choose the exact class structure  \n",
       "81                                                     Random Forest to assess past land use with Landsat  \n",
       "82                                                    What could be better with Large Array vs SQL Joins?  \n",
       "83                                                   Tcolourbox: force labeling to take a specific number  \n",
       "84                                             I want to build a portable railgun and I'm complete rookie  \n",
       "85                                                                      Lock browsing to node in Drupal 7  \n",
       "86                                                                             ArcGIS 10 Field Calculator  \n",
       "87                Does every specialty you study get a bonus for excellence, or is it just the first one?  \n",
       "88                     What are the names of the switches for two monitors? Or can I use a split monitor?  \n",
       "89                 How do I fix the Macbook Pro trackpad where the mouse pointer is inadvertently moving?  \n",
       "90                                                                    Visit to Belgium on a Friendly Visa  \n",
       "91                                                                  The probability of catching criminals  \n",
       "92                       Determining the sample size for a comparative study involving two unequal groups  \n",
       "93               Resolving the relapse ratio $T (n) = 4T\\ left (\\ c {\\ sql {n}} {3}\\ right) +\\ log ^ 2n $  \n",
       "94                        User device and assign another jquery (desktop / mobile (ipad)) to js / jquery?  \n",
       "95                        How can I reliably make myself a cup of coffee in a hotel room that won't suck?  \n",
       "96                   What colour scheme should I choose for applications that require a long working day?  \n",
       "97                                                                               What does Fabregas mean?  \n",
       "98                                                                                             Two Fields  \n",
       "99                                                                 Sum of search values on several sheets  "
      ]
     },
     "execution_count": 3,
     "metadata": {},
     "output_type": "execute_result"
    }
   ],
   "source": [
    "train['question_title_ru'] = train_aug_ru.values\n",
    "train[['question_title', 'question_title_ru']][:100]"
   ]
  },
  {
   "cell_type": "code",
   "execution_count": 4,
   "metadata": {},
   "outputs": [],
   "source": [
    "train_aug = train.copy()\n",
    "train_aug['question_title_ru'] = train_aug_ru.values"
   ]
  },
  {
   "cell_type": "code",
   "execution_count": 5,
   "metadata": {},
   "outputs": [
    {
     "name": "stderr",
     "output_type": "stream",
     "text": [
      "/home/robin/anaconda3/envs/GoogleQuest/lib/python3.7/site-packages/ipykernel_launcher.py:11: TqdmDeprecationWarning: This function will be removed in tqdm==5.0.0\n",
      "Please use `tqdm.notebook.tqdm` instead of `tqdm.tqdm_notebook`\n",
      "  # This is added back by InteractiveShellApp.init_path()\n"
     ]
    },
    {
     "data": {
      "application/vnd.jupyter.widget-view+json": {
       "model_id": "67508392e82143078bec61cbbee8517a",
       "version_major": 2,
       "version_minor": 0
      },
      "text/plain": [
       "HBox(children=(IntProgress(value=0, max=6079), HTML(value='')))"
      ]
     },
     "metadata": {},
     "output_type": "display_data"
    },
    {
     "name": "stdout",
     "output_type": "stream",
     "text": [
      "\n"
     ]
    },
    {
     "data": {
      "application/vnd.jupyter.widget-view+json": {
       "model_id": "8d8a3c610fa44678ad6e837104568051",
       "version_major": 2,
       "version_minor": 0
      },
      "text/plain": [
       "HBox(children=(IntProgress(value=0, max=6079), HTML(value='')))"
      ]
     },
     "metadata": {},
     "output_type": "display_data"
    },
    {
     "name": "stdout",
     "output_type": "stream",
     "text": [
      "\n"
     ]
    },
    {
     "data": {
      "application/vnd.jupyter.widget-view+json": {
       "model_id": "0e235e12a396435a9e4582fcbbc78d54",
       "version_major": 2,
       "version_minor": 0
      },
      "text/plain": [
       "HBox(children=(IntProgress(value=0, max=476), HTML(value='')))"
      ]
     },
     "metadata": {},
     "output_type": "display_data"
    },
    {
     "name": "stdout",
     "output_type": "stream",
     "text": [
      "\n"
     ]
    },
    {
     "data": {
      "application/vnd.jupyter.widget-view+json": {
       "model_id": "c46006bea3c4401e96e127cf208e928a",
       "version_major": 2,
       "version_minor": 0
      },
      "text/plain": [
       "HBox(children=(IntProgress(value=0, max=476), HTML(value='')))"
      ]
     },
     "metadata": {},
     "output_type": "display_data"
    },
    {
     "name": "stdout",
     "output_type": "stream",
     "text": [
      "\n"
     ]
    },
    {
     "data": {
      "application/vnd.jupyter.widget-view+json": {
       "model_id": "b2977e72d0dd42dca24f1ca8b7f5d37b",
       "version_major": 2,
       "version_minor": 0
      },
      "text/plain": [
       "HBox(children=(IntProgress(value=0, max=6079), HTML(value='')))"
      ]
     },
     "metadata": {},
     "output_type": "display_data"
    },
    {
     "name": "stdout",
     "output_type": "stream",
     "text": [
      "\n"
     ]
    },
    {
     "data": {
      "application/vnd.jupyter.widget-view+json": {
       "model_id": "255a1e16ddb945b8b66acf6d17e1f2b8",
       "version_major": 2,
       "version_minor": 0
      },
      "text/plain": [
       "HBox(children=(IntProgress(value=0, max=6079), HTML(value='')))"
      ]
     },
     "metadata": {},
     "output_type": "display_data"
    },
    {
     "name": "stdout",
     "output_type": "stream",
     "text": [
      "\n",
      "CPU times: user 1min 2s, sys: 422 ms, total: 1min 2s\n",
      "Wall time: 1min 2s\n"
     ]
    }
   ],
   "source": [
    "%%time\n",
    "tokenizer = BertTokenizer.from_pretrained('bert-base-uncased')\n",
    "# sentence_tokenizer = nltk.data.load('tokenizers/punkt/english.pickle')\n",
    "seg_ids_train, ids_train = {}, {}\n",
    "seg_ids_test, ids_test = {}, {}\n",
    "seg_ids_aug, ids_aug = {}, {}\n",
    "max_seq_len = 512\n",
    "for mode, df in [('train', train), ('test', test), ('aug', train_aug)]:\n",
    "    for text, cols in [('question', ['question_title', 'question_body']), \n",
    "                       ('answer', ['question_title', 'answer'])]:\n",
    "        ids, seg_ids, sent_ids = [], [], []\n",
    "        for x1, x2 in tqdm(df[cols].values):\n",
    "            encoded_inputs = tokenizer.encode_plus(\n",
    "                x1, x2, add_special_tokens=True, max_length=max_seq_len, pad_to_max_length=True, \n",
    "                return_token_type_ids=True\n",
    "            )\n",
    "            ids.append(encoded_inputs['input_ids'])\n",
    "            seg_ids.append(encoded_inputs['token_type_ids'])\n",
    "        if mode == 'train': \n",
    "            ids_train[text] = np.array(ids)\n",
    "            seg_ids_train[text] = np.array(seg_ids)\n",
    "        elif mode == 'aug': \n",
    "            ids_aug[text] = np.array(ids)\n",
    "            seg_ids_aug[text] = np.array(seg_ids)\n",
    "        else: \n",
    "            ids_test[text] = np.array(ids)\n",
    "            seg_ids_test[text] = np.array(seg_ids)\n"
   ]
  },
  {
   "cell_type": "code",
   "execution_count": 6,
   "metadata": {
    "code_folding": []
   },
   "outputs": [],
   "source": [
    "train_host, test_host, host_dict, host_dict_reverse = get_categorical_features(train, test, 'host')\n",
    "train_category, test_category, category_dict, category_dict_reverse = \\\n",
    "    get_categorical_features(train, test, 'category')"
   ]
  },
  {
   "cell_type": "code",
   "execution_count": 7,
   "metadata": {},
   "outputs": [
    {
     "name": "stderr",
     "output_type": "stream",
     "text": [
      "/home/robin/anaconda3/envs/GoogleQuest/lib/python3.7/site-packages/sklearn/preprocessing/_encoders.py:415: FutureWarning: The handling of integer data will change in version 0.22. Currently, the categories are determined based on the range [0, max(values)], while in the future they will be determined based on the unique values.\n",
      "If you want the future behaviour and silence this warning, you can specify \"categories='auto'\".\n",
      "In case you used a LabelEncoder before this OneHotEncoder to convert the categories to integers, then you can now use the OneHotEncoder directly.\n",
      "  warnings.warn(msg, FutureWarning)\n"
     ]
    }
   ],
   "source": [
    "cat_features_train = train_category.reshape(-1, 1)\n",
    "cat_features_test = test_category.reshape(-1, 1)\n",
    "ohe = OneHotEncoder()\n",
    "ohe.fit(cat_features_train)\n",
    "cat_features_train = ohe.transform(cat_features_train).toarray()\n",
    "cat_features_test = ohe.transform(cat_features_test).toarray()"
   ]
  },
  {
   "cell_type": "code",
   "execution_count": 8,
   "metadata": {},
   "outputs": [],
   "source": [
    "for col in TARGETS:\n",
    "    train[col] = train[col].rank(method=\"average\")\n",
    "train[TARGETS] = MinMaxScaler().fit_transform(train[TARGETS])\n",
    "y = train[TARGETS].values.astype(np.float32)\n",
    "ix = np.where(train.groupby(\"question_body\")[\"host\"].transform(\"count\") == 1)[0]"
   ]
  },
  {
   "cell_type": "code",
   "execution_count": 9,
   "metadata": {},
   "outputs": [],
   "source": [
    "num_workers = 10\n",
    "bs = 2\n",
    "TextDataset = AugTextDataset3"
   ]
  },
  {
   "cell_type": "code",
   "execution_count": 10,
   "metadata": {},
   "outputs": [],
   "source": [
    "bs_test = 2\n",
    "test_loader = DataLoader(\n",
    "    TextDataset5(cat_features_test, ids_test['question'], ids_test['answer'], \n",
    "                seg_ids_test['question'], seg_ids_test['answer'], test.index),\n",
    "    batch_size=bs_test, shuffle=False, num_workers=num_workers, drop_last=False\n",
    ")"
   ]
  },
  {
   "cell_type": "markdown",
   "metadata": {},
   "source": [
    "## Training model"
   ]
  },
  {
   "cell_type": "code",
   "execution_count": 11,
   "metadata": {},
   "outputs": [],
   "source": [
    "lr = 0.001\n",
    "loss_fn = nn.BCEWithLogitsLoss()\n",
    "device = 'cuda'\n",
    "n_epochs = 4\n",
    "grad_accum = 4\n",
    "weight_decay = 0.01\n",
    "model_name = 'siamese_bert_4'\n",
    "checkpoint_dir = 'checkpoints/'\n",
    "early_stopping = None\n",
    "n_folds = 10"
   ]
  },
  {
   "cell_type": "code",
   "execution_count": 12,
   "metadata": {},
   "outputs": [],
   "source": [
    "def get_optimizer_param_groups(model, lr, weight_decay):\n",
    "    no_decay = ['bias', 'LayerNorm.weight']\n",
    "    optimizer_grouped_parameters = [\n",
    "        {'params': [p for n, p in model.named_parameters() if not any(nd in n for nd in no_decay)], \n",
    "         'weight_decay': weight_decay, 'lr': lr},\n",
    "        {'params': [p for n, p in model.named_parameters() if any(nd in n for nd in no_decay)], \n",
    "         'weight_decay': 0.0, 'lr': lr}\n",
    "    ]\n",
    "    return optimizer_grouped_parameters\n",
    "\n",
    "\n",
    "def get_optimizer(model, lr, weight_decay):\n",
    "    return transformers.AdamW(\n",
    "        get_optimizer_param_groups(model.head, lr, weight_decay)\n",
    "        + get_optimizer_param_groups(model.bert, lr / 100, weight_decay)\n",
    "    )"
   ]
  },
  {
   "cell_type": "code",
   "execution_count": 13,
   "metadata": {
    "scrolled": true
   },
   "outputs": [
    {
     "name": "stdout",
     "output_type": "stream",
     "text": [
      "Fold 1 started at Sat Jan 25 14:09:33 2020\n"
     ]
    },
    {
     "data": {
      "application/vnd.jupyter.widget-view+json": {
       "model_id": "ae05f6bcb81e4651ae04bde792155897",
       "version_major": 2,
       "version_minor": 0
      },
      "text/plain": [
       "HBox(children=(IntProgress(value=0, max=400), HTML(value='')))"
      ]
     },
     "metadata": {},
     "output_type": "display_data"
    },
    {
     "name": "stderr",
     "output_type": "stream",
     "text": [
      "/home/robin/anaconda3/envs/GoogleQuest/lib/python3.7/site-packages/torch/optim/lr_scheduler.py:100: UserWarning: Detected call of `lr_scheduler.step()` before `optimizer.step()`. In PyTorch 1.1.0 and later, you should call them in the opposite order: `optimizer.step()` before `lr_scheduler.step()`.  Failure to do this will result in PyTorch skipping the first value of the learning rate schedule.See more details at https://pytorch.org/docs/stable/optim.html#how-to-adjust-learning-rate\n",
      "  \"https://pytorch.org/docs/stable/optim.html#how-to-adjust-learning-rate\", UserWarning)\n"
     ]
    },
    {
     "data": {
      "image/png": "[encoded data removed]",
      "text/plain": [
       "<Figure size 432x288 with 1 Axes>"
      ]
     },
     "metadata": {
      "needs_background": "light"
     },
     "output_type": "display_data"
    },
    {
     "name": "stdout",
     "output_type": "stream",
     "text": [
      "epoch 0: \t Start training...\n"
     ]
    },
    {
     "data": {
      "application/vnd.jupyter.widget-view+json": {
       "model_id": "042051e93777464185a0cecbce1ce6ee",
       "version_major": 2,
       "version_minor": 0
      },
      "text/plain": [
       "HBox(children=(IntProgress(value=0, max=2736), HTML(value='')))"
      ]
     },
     "metadata": {},
     "output_type": "display_data"
    },
    {
     "name": "stdout",
     "output_type": "stream",
     "text": [
      "\n",
      "epoch 0/4 \t train : loss 0.50898 - spearmanr 0.24703\n",
      "epoch 0: \t Start validation...\n"
     ]
    },
    {
     "data": {
      "application/vnd.jupyter.widget-view+json": {
       "model_id": "c91ace1f404541b9b9c07e72d35594af",
       "version_major": 2,
       "version_minor": 0
      },
      "text/plain": [
       "HBox(children=(IntProgress(value=0, max=304), HTML(value='')))"
      ]
     },
     "metadata": {},
     "output_type": "display_data"
    },
    {
     "name": "stdout",
     "output_type": "stream",
     "text": [
      "\n",
      "epoch 0/4 \t valid : loss 0.47097 - spearmanr 0.38575\n"
     ]
    },
    {
     "name": "stderr",
     "output_type": "stream",
     "text": [
      "/home/robin/anaconda3/envs/GoogleQuest/lib/python3.7/site-packages/numpy/lib/function_base.py:2534: RuntimeWarning: invalid value encountered in true_divide\n",
      "  c /= stddev[:, None]\n",
      "/home/robin/anaconda3/envs/GoogleQuest/lib/python3.7/site-packages/numpy/lib/function_base.py:2535: RuntimeWarning: invalid value encountered in true_divide\n",
      "  c /= stddev[None, :]\n",
      "/home/robin/anaconda3/envs/GoogleQuest/lib/python3.7/site-packages/scipy/stats/_distn_infrastructure.py:901: RuntimeWarning: invalid value encountered in greater\n",
      "  return (a < x) & (x < b)\n",
      "/home/robin/anaconda3/envs/GoogleQuest/lib/python3.7/site-packages/scipy/stats/_distn_infrastructure.py:901: RuntimeWarning: invalid value encountered in less\n",
      "  return (a < x) & (x < b)\n",
      "/home/robin/anaconda3/envs/GoogleQuest/lib/python3.7/site-packages/scipy/stats/_distn_infrastructure.py:1892: RuntimeWarning: invalid value encountered in less_equal\n",
      "  cond2 = cond0 & (x <= _a)\n"
     ]
    },
    {
     "name": "stdout",
     "output_type": "stream",
     "text": [
      "best model: epoch 0 - 0.38575\n",
      "epoch 1: \t Start training...\n"
     ]
    },
    {
     "data": {
      "application/vnd.jupyter.widget-view+json": {
       "model_id": "4a76d30877c441f0824aeaaaa86c3fd4",
       "version_major": 2,
       "version_minor": 0
      },
      "text/plain": [
       "HBox(children=(IntProgress(value=0, max=2736), HTML(value='')))"
      ]
     },
     "metadata": {},
     "output_type": "display_data"
    },
    {
     "name": "stdout",
     "output_type": "stream",
     "text": [
      "\n",
      "epoch 1/4 \t train : loss 0.45616 - spearmanr 0.39788\n",
      "epoch 1: \t Start validation...\n"
     ]
    },
    {
     "data": {
      "application/vnd.jupyter.widget-view+json": {
       "model_id": "32900114999340f8beac84c1352de1b2",
       "version_major": 2,
       "version_minor": 0
      },
      "text/plain": [
       "HBox(children=(IntProgress(value=0, max=304), HTML(value='')))"
      ]
     },
     "metadata": {},
     "output_type": "display_data"
    },
    {
     "name": "stdout",
     "output_type": "stream",
     "text": [
      "\n",
      "epoch 1/4 \t valid : loss 0.45279 - spearmanr 0.41519\n",
      "best model: epoch 1 - 0.41519\n",
      "epoch 2: \t Start training...\n"
     ]
    },
    {
     "data": {
      "application/vnd.jupyter.widget-view+json": {
       "model_id": "113c19aa77e8477f8b32c4785489d93f",
       "version_major": 2,
       "version_minor": 0
      },
      "text/plain": [
       "HBox(children=(IntProgress(value=0, max=2736), HTML(value='')))"
      ]
     },
     "metadata": {},
     "output_type": "display_data"
    },
    {
     "name": "stdout",
     "output_type": "stream",
     "text": [
      "\n",
      "epoch 2/4 \t train : loss 0.43288 - spearmanr 0.4588\n",
      "epoch 2: \t Start validation...\n"
     ]
    },
    {
     "data": {
      "application/vnd.jupyter.widget-view+json": {
       "model_id": "78f6f3829c4c4e63be376c7797c434fa",
       "version_major": 2,
       "version_minor": 0
      },
      "text/plain": [
       "HBox(children=(IntProgress(value=0, max=304), HTML(value='')))"
      ]
     },
     "metadata": {},
     "output_type": "display_data"
    },
    {
     "name": "stdout",
     "output_type": "stream",
     "text": [
      "\n",
      "epoch 2/4 \t valid : loss 0.44961 - spearmanr 0.41814\n",
      "best model: epoch 2 - 0.41814\n",
      "epoch 3: \t Start training...\n"
     ]
    },
    {
     "data": {
      "application/vnd.jupyter.widget-view+json": {
       "model_id": "06ec6e68b1c240b4b9429c61b2e4247d",
       "version_major": 2,
       "version_minor": 0
      },
      "text/plain": [
       "HBox(children=(IntProgress(value=0, max=2736), HTML(value='')))"
      ]
     },
     "metadata": {},
     "output_type": "display_data"
    },
    {
     "name": "stdout",
     "output_type": "stream",
     "text": [
      "\n",
      "epoch 3/4 \t train : loss 0.41139 - spearmanr 0.51237\n",
      "epoch 3: \t Start validation...\n"
     ]
    },
    {
     "data": {
      "application/vnd.jupyter.widget-view+json": {
       "model_id": "e3870c141c104ffb8ab642adbca523fb",
       "version_major": 2,
       "version_minor": 0
      },
      "text/plain": [
       "HBox(children=(IntProgress(value=0, max=304), HTML(value='')))"
      ]
     },
     "metadata": {},
     "output_type": "display_data"
    },
    {
     "name": "stdout",
     "output_type": "stream",
     "text": [
      "\n",
      "epoch 3/4 \t valid : loss 0.45471 - spearmanr 0.41728\n",
      "model not improved for 1 epochs\n",
      "TRAINING END: Best score achieved on epoch 2 - 0.41814\n",
      "Starting inference for model: checkpoints/siamese_bert_4_fold_1_best.pth\n"
     ]
    },
    {
     "data": {
      "application/vnd.jupyter.widget-view+json": {
       "model_id": "e997836cb06c44e5b460d7b25f2e7a2e",
       "version_major": 2,
       "version_minor": 0
      },
      "text/plain": [
       "HBox(children=(IntProgress(value=0, max=304), HTML(value='')))"
      ]
     },
     "metadata": {},
     "output_type": "display_data"
    },
    {
     "name": "stdout",
     "output_type": "stream",
     "text": [
      "\n",
      "Averaged Val. score: 0.4181407440949466\n",
      "Starting inference for model: checkpoints/siamese_bert_4_fold_1_best.pth\n"
     ]
    },
    {
     "data": {
      "application/vnd.jupyter.widget-view+json": {
       "model_id": "9bfdd698d8294928bc497f44497c5245",
       "version_major": 2,
       "version_minor": 0
      },
      "text/plain": [
       "HBox(children=(IntProgress(value=0, max=238), HTML(value='')))"
      ]
     },
     "metadata": {},
     "output_type": "display_data"
    },
    {
     "name": "stdout",
     "output_type": "stream",
     "text": [
      "\n",
      "Fold 2 started at Sat Jan 25 14:50:30 2020\n",
      "epoch 0: \t Start training...\n"
     ]
    },
    {
     "data": {
      "application/vnd.jupyter.widget-view+json": {
       "model_id": "3ce9e4cf9218439aa7e9401c8925e69c",
       "version_major": 2,
       "version_minor": 0
      },
      "text/plain": [
       "HBox(children=(IntProgress(value=0, max=2736), HTML(value='')))"
      ]
     },
     "metadata": {},
     "output_type": "display_data"
    },
    {
     "name": "stdout",
     "output_type": "stream",
     "text": [
      "\n",
      "epoch 0/4 \t train : loss 0.51006 - spearmanr 0.24222\n",
      "epoch 0: \t Start validation...\n"
     ]
    },
    {
     "data": {
      "application/vnd.jupyter.widget-view+json": {
       "model_id": "6c07d601d1874dabb08290c105350a4d",
       "version_major": 2,
       "version_minor": 0
      },
      "text/plain": [
       "HBox(children=(IntProgress(value=0, max=304), HTML(value='')))"
      ]
     },
     "metadata": {},
     "output_type": "display_data"
    },
    {
     "name": "stdout",
     "output_type": "stream",
     "text": [
      "\n",
      "epoch 0/4 \t valid : loss 0.46894 - spearmanr 0.38366\n",
      "best model: epoch 0 - 0.38366\n",
      "epoch 1: \t Start training...\n"
     ]
    },
    {
     "data": {
      "application/vnd.jupyter.widget-view+json": {
       "model_id": "177c7c38ac8b459294716bac5f54598c",
       "version_major": 2,
       "version_minor": 0
      },
      "text/plain": [
       "HBox(children=(IntProgress(value=0, max=2736), HTML(value='')))"
      ]
     },
     "metadata": {},
     "output_type": "display_data"
    },
    {
     "name": "stdout",
     "output_type": "stream",
     "text": [
      "\n",
      "epoch 1/4 \t train : loss 0.45661 - spearmanr 0.39432\n",
      "epoch 1: \t Start validation...\n"
     ]
    },
    {
     "data": {
      "application/vnd.jupyter.widget-view+json": {
       "model_id": "a52906e3216f40a9a5cefac004d48378",
       "version_major": 2,
       "version_minor": 0
      },
      "text/plain": [
       "HBox(children=(IntProgress(value=0, max=304), HTML(value='')))"
      ]
     },
     "metadata": {},
     "output_type": "display_data"
    },
    {
     "name": "stdout",
     "output_type": "stream",
     "text": [
      "\n",
      "epoch 1/4 \t valid : loss 0.45913 - spearmanr 0.41754\n",
      "best model: epoch 1 - 0.41754\n",
      "epoch 2: \t Start training...\n"
     ]
    },
    {
     "data": {
      "application/vnd.jupyter.widget-view+json": {
       "model_id": "c713afc37fe545b5a2a6fd2883e00433",
       "version_major": 2,
       "version_minor": 0
      },
      "text/plain": [
       "HBox(children=(IntProgress(value=0, max=2736), HTML(value='')))"
      ]
     },
     "metadata": {},
     "output_type": "display_data"
    },
    {
     "name": "stdout",
     "output_type": "stream",
     "text": [
      "\n",
      "epoch 2/4 \t train : loss 0.43245 - spearmanr 0.45872\n",
      "epoch 2: \t Start validation...\n"
     ]
    },
    {
     "data": {
      "application/vnd.jupyter.widget-view+json": {
       "model_id": "b934119944b14193b7f3d85f2d34e255",
       "version_major": 2,
       "version_minor": 0
      },
      "text/plain": [
       "HBox(children=(IntProgress(value=0, max=304), HTML(value='')))"
      ]
     },
     "metadata": {},
     "output_type": "display_data"
    },
    {
     "name": "stdout",
     "output_type": "stream",
     "text": [
      "\n",
      "epoch 2/4 \t valid : loss 0.45271 - spearmanr 0.4254\n",
      "best model: epoch 2 - 0.4254\n",
      "epoch 3: \t Start training...\n"
     ]
    },
    {
     "data": {
      "application/vnd.jupyter.widget-view+json": {
       "model_id": "a24b6b5e527e45c6b9b5926323ba82c5",
       "version_major": 2,
       "version_minor": 0
      },
      "text/plain": [
       "HBox(children=(IntProgress(value=0, max=2736), HTML(value='')))"
      ]
     },
     "metadata": {},
     "output_type": "display_data"
    },
    {
     "name": "stdout",
     "output_type": "stream",
     "text": [
      "\n",
      "epoch 3/4 \t train : loss 0.41043 - spearmanr 0.51385\n",
      "epoch 3: \t Start validation...\n"
     ]
    },
    {
     "data": {
      "application/vnd.jupyter.widget-view+json": {
       "model_id": "2134a8e1d09b44d697909f496ed91c10",
       "version_major": 2,
       "version_minor": 0
      },
      "text/plain": [
       "HBox(children=(IntProgress(value=0, max=304), HTML(value='')))"
      ]
     },
     "metadata": {},
     "output_type": "display_data"
    },
    {
     "name": "stdout",
     "output_type": "stream",
     "text": [
      "\n",
      "epoch 3/4 \t valid : loss 0.45684 - spearmanr 0.42225\n",
      "model not improved for 1 epochs\n",
      "TRAINING END: Best score achieved on epoch 2 - 0.42540\n",
      "Starting inference for model: checkpoints/siamese_bert_4_fold_2_best.pth\n"
     ]
    },
    {
     "data": {
      "application/vnd.jupyter.widget-view+json": {
       "model_id": "69c91318e42e494b83e2918c5410108d",
       "version_major": 2,
       "version_minor": 0
      },
      "text/plain": [
       "HBox(children=(IntProgress(value=0, max=304), HTML(value='')))"
      ]
     },
     "metadata": {},
     "output_type": "display_data"
    },
    {
     "name": "stdout",
     "output_type": "stream",
     "text": [
      "\n",
      "Averaged Val. score: 0.4253973336588596\n",
      "Starting inference for model: checkpoints/siamese_bert_4_fold_2_best.pth\n"
     ]
    },
    {
     "data": {
      "application/vnd.jupyter.widget-view+json": {
       "model_id": "8b19ffb738604186905ed161edf0f1e3",
       "version_major": 2,
       "version_minor": 0
      },
      "text/plain": [
       "HBox(children=(IntProgress(value=0, max=238), HTML(value='')))"
      ]
     },
     "metadata": {},
     "output_type": "display_data"
    },
    {
     "name": "stdout",
     "output_type": "stream",
     "text": [
      "\n",
      "Fold 3 started at Sat Jan 25 15:30:17 2020\n",
      "epoch 0: \t Start training...\n"
     ]
    },
    {
     "data": {
      "application/vnd.jupyter.widget-view+json": {
       "model_id": "b8148501ef2e493894426d51c5d9e383",
       "version_major": 2,
       "version_minor": 0
      },
      "text/plain": [
       "HBox(children=(IntProgress(value=0, max=2736), HTML(value='')))"
      ]
     },
     "metadata": {},
     "output_type": "display_data"
    },
    {
     "name": "stdout",
     "output_type": "stream",
     "text": [
      "\n",
      "epoch 0/4 \t train : loss 0.50916 - spearmanr 0.24448\n",
      "epoch 0: \t Start validation...\n"
     ]
    },
    {
     "data": {
      "application/vnd.jupyter.widget-view+json": {
       "model_id": "91fccf540684420aac3c83b49e98a769",
       "version_major": 2,
       "version_minor": 0
      },
      "text/plain": [
       "HBox(children=(IntProgress(value=0, max=304), HTML(value='')))"
      ]
     },
     "metadata": {},
     "output_type": "display_data"
    },
    {
     "name": "stdout",
     "output_type": "stream",
     "text": [
      "\n",
      "epoch 0/4 \t valid : loss 0.47134 - spearmanr 0.37311\n",
      "best model: epoch 0 - 0.37311\n",
      "epoch 1: \t Start training...\n"
     ]
    },
    {
     "data": {
      "application/vnd.jupyter.widget-view+json": {
       "model_id": "908f73c88acf42d0b36d60849d7705be",
       "version_major": 2,
       "version_minor": 0
      },
      "text/plain": [
       "HBox(children=(IntProgress(value=0, max=2736), HTML(value='')))"
      ]
     },
     "metadata": {},
     "output_type": "display_data"
    },
    {
     "name": "stdout",
     "output_type": "stream",
     "text": [
      "\n",
      "epoch 1/4 \t train : loss 0.45587 - spearmanr 0.39776\n",
      "epoch 1: \t Start validation...\n"
     ]
    },
    {
     "data": {
      "application/vnd.jupyter.widget-view+json": {
       "model_id": "96452aee57734921817ac840eb35cff7",
       "version_major": 2,
       "version_minor": 0
      },
      "text/plain": [
       "HBox(children=(IntProgress(value=0, max=304), HTML(value='')))"
      ]
     },
     "metadata": {},
     "output_type": "display_data"
    },
    {
     "name": "stdout",
     "output_type": "stream",
     "text": [
      "\n",
      "epoch 1/4 \t valid : loss 0.46256 - spearmanr 0.39571\n",
      "best model: epoch 1 - 0.39571\n",
      "epoch 2: \t Start training...\n"
     ]
    },
    {
     "data": {
      "application/vnd.jupyter.widget-view+json": {
       "model_id": "f00266e8029c415ebce0b2c0fd389178",
       "version_major": 2,
       "version_minor": 0
      },
      "text/plain": [
       "HBox(children=(IntProgress(value=0, max=2736), HTML(value='')))"
      ]
     },
     "metadata": {},
     "output_type": "display_data"
    },
    {
     "name": "stdout",
     "output_type": "stream",
     "text": [
      "\n",
      "epoch 2/4 \t train : loss 0.43119 - spearmanr 0.46218\n",
      "epoch 2: \t Start validation...\n"
     ]
    },
    {
     "data": {
      "application/vnd.jupyter.widget-view+json": {
       "model_id": "917fa1c8b3e84670bdd29e435347be40",
       "version_major": 2,
       "version_minor": 0
      },
      "text/plain": [
       "HBox(children=(IntProgress(value=0, max=304), HTML(value='')))"
      ]
     },
     "metadata": {},
     "output_type": "display_data"
    },
    {
     "name": "stdout",
     "output_type": "stream",
     "text": [
      "\n",
      "epoch 2/4 \t valid : loss 0.46089 - spearmanr 0.3938\n",
      "model not improved for 1 epochs\n",
      "epoch 3: \t Start training...\n"
     ]
    },
    {
     "data": {
      "application/vnd.jupyter.widget-view+json": {
       "model_id": "64f53def81d24fcbbafb8bdfa6428315",
       "version_major": 2,
       "version_minor": 0
      },
      "text/plain": [
       "HBox(children=(IntProgress(value=0, max=2736), HTML(value='')))"
      ]
     },
     "metadata": {},
     "output_type": "display_data"
    },
    {
     "name": "stdout",
     "output_type": "stream",
     "text": [
      "\n",
      "epoch 3/4 \t train : loss 0.4096 - spearmanr 0.51575\n",
      "epoch 3: \t Start validation...\n"
     ]
    },
    {
     "data": {
      "application/vnd.jupyter.widget-view+json": {
       "model_id": "7705555c2a8d44c0995fa0f122134441",
       "version_major": 2,
       "version_minor": 0
      },
      "text/plain": [
       "HBox(children=(IntProgress(value=0, max=304), HTML(value='')))"
      ]
     },
     "metadata": {},
     "output_type": "display_data"
    },
    {
     "name": "stdout",
     "output_type": "stream",
     "text": [
      "\n",
      "epoch 3/4 \t valid : loss 0.46233 - spearmanr 0.3964\n",
      "best model: epoch 3 - 0.3964\n",
      "TRAINING END: Best score achieved on epoch 3 - 0.39640\n",
      "Starting inference for model: checkpoints/siamese_bert_4_fold_3_best.pth\n"
     ]
    },
    {
     "data": {
      "application/vnd.jupyter.widget-view+json": {
       "model_id": "b6d74ca5ac2f4f45ac86e1839b313af3",
       "version_major": 2,
       "version_minor": 0
      },
      "text/plain": [
       "HBox(children=(IntProgress(value=0, max=304), HTML(value='')))"
      ]
     },
     "metadata": {},
     "output_type": "display_data"
    },
    {
     "name": "stdout",
     "output_type": "stream",
     "text": [
      "\n",
      "Averaged Val. score: 0.39640340824113973\n",
      "Starting inference for model: checkpoints/siamese_bert_4_fold_3_best.pth\n"
     ]
    },
    {
     "data": {
      "application/vnd.jupyter.widget-view+json": {
       "model_id": "a34deb149b5b4c7d83bbbc126678c058",
       "version_major": 2,
       "version_minor": 0
      },
      "text/plain": [
       "HBox(children=(IntProgress(value=0, max=238), HTML(value='')))"
      ]
     },
     "metadata": {},
     "output_type": "display_data"
    },
    {
     "name": "stdout",
     "output_type": "stream",
     "text": [
      "\n",
      "Fold 4 started at Sat Jan 25 16:09:33 2020\n",
      "epoch 0: \t Start training...\n"
     ]
    },
    {
     "data": {
      "application/vnd.jupyter.widget-view+json": {
       "model_id": "f394cc8fad954a89b0ed14afd260f869",
       "version_major": 2,
       "version_minor": 0
      },
      "text/plain": [
       "HBox(children=(IntProgress(value=0, max=2736), HTML(value='')))"
      ]
     },
     "metadata": {},
     "output_type": "display_data"
    },
    {
     "name": "stdout",
     "output_type": "stream",
     "text": [
      "\n",
      "epoch 0/4 \t train : loss 0.50953 - spearmanr 0.24598\n",
      "epoch 0: \t Start validation...\n"
     ]
    },
    {
     "data": {
      "application/vnd.jupyter.widget-view+json": {
       "model_id": "46034cd6f0914ad5ba144d9fc4662b8b",
       "version_major": 2,
       "version_minor": 0
      },
      "text/plain": [
       "HBox(children=(IntProgress(value=0, max=304), HTML(value='')))"
      ]
     },
     "metadata": {},
     "output_type": "display_data"
    },
    {
     "name": "stdout",
     "output_type": "stream",
     "text": [
      "\n",
      "epoch 0/4 \t valid : loss 0.47399 - spearmanr 0.36497\n",
      "best model: epoch 0 - 0.36497\n",
      "epoch 1: \t Start training...\n"
     ]
    },
    {
     "data": {
      "application/vnd.jupyter.widget-view+json": {
       "model_id": "9894cec103164420aca4b46e1c2cd616",
       "version_major": 2,
       "version_minor": 0
      },
      "text/plain": [
       "HBox(children=(IntProgress(value=0, max=2736), HTML(value='')))"
      ]
     },
     "metadata": {},
     "output_type": "display_data"
    },
    {
     "name": "stdout",
     "output_type": "stream",
     "text": [
      "\n",
      "epoch 1/4 \t train : loss 0.45619 - spearmanr 0.39717\n",
      "epoch 1: \t Start validation...\n"
     ]
    },
    {
     "data": {
      "application/vnd.jupyter.widget-view+json": {
       "model_id": "ee885b48c918436ba30799d948d89f64",
       "version_major": 2,
       "version_minor": 0
      },
      "text/plain": [
       "HBox(children=(IntProgress(value=0, max=304), HTML(value='')))"
      ]
     },
     "metadata": {},
     "output_type": "display_data"
    },
    {
     "name": "stdout",
     "output_type": "stream",
     "text": [
      "\n",
      "epoch 1/4 \t valid : loss 0.45676 - spearmanr 0.39165\n",
      "best model: epoch 1 - 0.39165\n",
      "epoch 2: \t Start training...\n"
     ]
    },
    {
     "data": {
      "application/vnd.jupyter.widget-view+json": {
       "model_id": "89e080f029924e0c8eca68990a35ed32",
       "version_major": 2,
       "version_minor": 0
      },
      "text/plain": [
       "HBox(children=(IntProgress(value=0, max=2736), HTML(value='')))"
      ]
     },
     "metadata": {},
     "output_type": "display_data"
    },
    {
     "name": "stdout",
     "output_type": "stream",
     "text": [
      "\n",
      "epoch 2/4 \t train : loss 0.43305 - spearmanr 0.45759\n",
      "epoch 2: \t Start validation...\n"
     ]
    },
    {
     "data": {
      "application/vnd.jupyter.widget-view+json": {
       "model_id": "2b6fd1088be24eca9b861a2772acc1f1",
       "version_major": 2,
       "version_minor": 0
      },
      "text/plain": [
       "HBox(children=(IntProgress(value=0, max=304), HTML(value='')))"
      ]
     },
     "metadata": {},
     "output_type": "display_data"
    },
    {
     "name": "stdout",
     "output_type": "stream",
     "text": [
      "\n",
      "epoch 2/4 \t valid : loss 0.45295 - spearmanr 0.40239\n",
      "best model: epoch 2 - 0.40239\n",
      "epoch 3: \t Start training...\n"
     ]
    },
    {
     "data": {
      "application/vnd.jupyter.widget-view+json": {
       "model_id": "6ccdca4077e549c4b1afd2185849da2f",
       "version_major": 2,
       "version_minor": 0
      },
      "text/plain": [
       "HBox(children=(IntProgress(value=0, max=2736), HTML(value='')))"
      ]
     },
     "metadata": {},
     "output_type": "display_data"
    },
    {
     "name": "stdout",
     "output_type": "stream",
     "text": [
      "\n",
      "epoch 3/4 \t train : loss 0.41173 - spearmanr 0.51159\n",
      "epoch 3: \t Start validation...\n"
     ]
    },
    {
     "data": {
      "application/vnd.jupyter.widget-view+json": {
       "model_id": "bfef6594c6144023ac12cd6f8f6dc0a5",
       "version_major": 2,
       "version_minor": 0
      },
      "text/plain": [
       "HBox(children=(IntProgress(value=0, max=304), HTML(value='')))"
      ]
     },
     "metadata": {},
     "output_type": "display_data"
    },
    {
     "name": "stdout",
     "output_type": "stream",
     "text": [
      "\n",
      "epoch 3/4 \t valid : loss 0.45694 - spearmanr 0.40021\n",
      "model not improved for 1 epochs\n",
      "TRAINING END: Best score achieved on epoch 2 - 0.40239\n",
      "Starting inference for model: checkpoints/siamese_bert_4_fold_4_best.pth\n"
     ]
    },
    {
     "data": {
      "application/vnd.jupyter.widget-view+json": {
       "model_id": "eee81e92f617493cb017cb428c344948",
       "version_major": 2,
       "version_minor": 0
      },
      "text/plain": [
       "HBox(children=(IntProgress(value=0, max=304), HTML(value='')))"
      ]
     },
     "metadata": {},
     "output_type": "display_data"
    },
    {
     "name": "stdout",
     "output_type": "stream",
     "text": [
      "\n",
      "Averaged Val. score: 0.4023913665095854\n",
      "Starting inference for model: checkpoints/siamese_bert_4_fold_4_best.pth\n"
     ]
    },
    {
     "data": {
      "application/vnd.jupyter.widget-view+json": {
       "model_id": "97ed5c1208324e2aae6fd15f9801f8dd",
       "version_major": 2,
       "version_minor": 0
      },
      "text/plain": [
       "HBox(children=(IntProgress(value=0, max=238), HTML(value='')))"
      ]
     },
     "metadata": {},
     "output_type": "display_data"
    },
    {
     "name": "stdout",
     "output_type": "stream",
     "text": [
      "\n",
      "Fold 5 started at Sat Jan 25 16:48:53 2020\n",
      "epoch 0: \t Start training...\n"
     ]
    },
    {
     "data": {
      "application/vnd.jupyter.widget-view+json": {
       "model_id": "572e12c6709c49cc9255ce626857ac6b",
       "version_major": 2,
       "version_minor": 0
      },
      "text/plain": [
       "HBox(children=(IntProgress(value=0, max=2736), HTML(value='')))"
      ]
     },
     "metadata": {},
     "output_type": "display_data"
    },
    {
     "name": "stdout",
     "output_type": "stream",
     "text": [
      "\n",
      "epoch 0/4 \t train : loss 0.50962 - spearmanr 0.24438\n",
      "epoch 0: \t Start validation...\n"
     ]
    },
    {
     "data": {
      "application/vnd.jupyter.widget-view+json": {
       "model_id": "0ff9081884a042e0b5aabd1aede1abdb",
       "version_major": 2,
       "version_minor": 0
      },
      "text/plain": [
       "HBox(children=(IntProgress(value=0, max=304), HTML(value='')))"
      ]
     },
     "metadata": {},
     "output_type": "display_data"
    },
    {
     "name": "stdout",
     "output_type": "stream",
     "text": [
      "\n",
      "epoch 0/4 \t valid : loss 0.46653 - spearmanr 0.36828\n",
      "best model: epoch 0 - 0.36828\n",
      "epoch 1: \t Start training...\n"
     ]
    },
    {
     "data": {
      "application/vnd.jupyter.widget-view+json": {
       "model_id": "d0ff9cea5f194dd08e5fa9e3054562d3",
       "version_major": 2,
       "version_minor": 0
      },
      "text/plain": [
       "HBox(children=(IntProgress(value=0, max=2736), HTML(value='')))"
      ]
     },
     "metadata": {},
     "output_type": "display_data"
    },
    {
     "name": "stdout",
     "output_type": "stream",
     "text": [
      "\n",
      "epoch 1/4 \t train : loss 0.45692 - spearmanr 0.3961\n",
      "epoch 1: \t Start validation...\n"
     ]
    },
    {
     "data": {
      "application/vnd.jupyter.widget-view+json": {
       "model_id": "8ceeda0f9ea5494b81da33f8c8671f4a",
       "version_major": 2,
       "version_minor": 0
      },
      "text/plain": [
       "HBox(children=(IntProgress(value=0, max=304), HTML(value='')))"
      ]
     },
     "metadata": {},
     "output_type": "display_data"
    },
    {
     "name": "stdout",
     "output_type": "stream",
     "text": [
      "\n",
      "epoch 1/4 \t valid : loss 0.45451 - spearmanr 0.39868\n",
      "best model: epoch 1 - 0.39868\n",
      "epoch 2: \t Start training...\n"
     ]
    },
    {
     "data": {
      "application/vnd.jupyter.widget-view+json": {
       "model_id": "5c6f72a195e74a3eb0f7fd19f67e1931",
       "version_major": 2,
       "version_minor": 0
      },
      "text/plain": [
       "HBox(children=(IntProgress(value=0, max=2736), HTML(value='')))"
      ]
     },
     "metadata": {},
     "output_type": "display_data"
    },
    {
     "name": "stdout",
     "output_type": "stream",
     "text": [
      "\n",
      "epoch 2/4 \t train : loss 0.43204 - spearmanr 0.46283\n",
      "epoch 2: \t Start validation...\n"
     ]
    },
    {
     "data": {
      "application/vnd.jupyter.widget-view+json": {
       "model_id": "98b1bb4b7bdc49a0b5a93bf0aa1b6cd7",
       "version_major": 2,
       "version_minor": 0
      },
      "text/plain": [
       "HBox(children=(IntProgress(value=0, max=304), HTML(value='')))"
      ]
     },
     "metadata": {},
     "output_type": "display_data"
    },
    {
     "name": "stdout",
     "output_type": "stream",
     "text": [
      "\n",
      "epoch 2/4 \t valid : loss 0.45194 - spearmanr 0.40136\n",
      "best model: epoch 2 - 0.40136\n",
      "epoch 3: \t Start training...\n"
     ]
    },
    {
     "data": {
      "application/vnd.jupyter.widget-view+json": {
       "model_id": "c9fec81183a84d2abe3c5c5939432d9b",
       "version_major": 2,
       "version_minor": 0
      },
      "text/plain": [
       "HBox(children=(IntProgress(value=0, max=2736), HTML(value='')))"
      ]
     },
     "metadata": {},
     "output_type": "display_data"
    },
    {
     "name": "stdout",
     "output_type": "stream",
     "text": [
      "\n",
      "epoch 3/4 \t train : loss 0.40947 - spearmanr 0.51825\n",
      "epoch 3: \t Start validation...\n"
     ]
    },
    {
     "data": {
      "application/vnd.jupyter.widget-view+json": {
       "model_id": "9fc8a8402fd345188648d7208ade6cb3",
       "version_major": 2,
       "version_minor": 0
      },
      "text/plain": [
       "HBox(children=(IntProgress(value=0, max=304), HTML(value='')))"
      ]
     },
     "metadata": {},
     "output_type": "display_data"
    },
    {
     "name": "stdout",
     "output_type": "stream",
     "text": [
      "\n",
      "epoch 3/4 \t valid : loss 0.4538 - spearmanr 0.40353\n",
      "best model: epoch 3 - 0.40353\n",
      "TRAINING END: Best score achieved on epoch 3 - 0.40353\n",
      "Starting inference for model: checkpoints/siamese_bert_4_fold_5_best.pth\n"
     ]
    },
    {
     "data": {
      "application/vnd.jupyter.widget-view+json": {
       "model_id": "355fc610a1a84094b3c70a17c96cfee7",
       "version_major": 2,
       "version_minor": 0
      },
      "text/plain": [
       "HBox(children=(IntProgress(value=0, max=304), HTML(value='')))"
      ]
     },
     "metadata": {},
     "output_type": "display_data"
    },
    {
     "name": "stdout",
     "output_type": "stream",
     "text": [
      "\n",
      "Averaged Val. score: 0.40353426260544417\n",
      "Starting inference for model: checkpoints/siamese_bert_4_fold_5_best.pth\n"
     ]
    },
    {
     "data": {
      "application/vnd.jupyter.widget-view+json": {
       "model_id": "679b5ffd43694ecfa487564a9ace69b9",
       "version_major": 2,
       "version_minor": 0
      },
      "text/plain": [
       "HBox(children=(IntProgress(value=0, max=238), HTML(value='')))"
      ]
     },
     "metadata": {},
     "output_type": "display_data"
    },
    {
     "name": "stdout",
     "output_type": "stream",
     "text": [
      "\n",
      "Fold 6 started at Sat Jan 25 17:28:46 2020\n",
      "epoch 0: \t Start training...\n"
     ]
    },
    {
     "data": {
      "application/vnd.jupyter.widget-view+json": {
       "model_id": "2e0dcf7e6453457e936e09a0454f1ce0",
       "version_major": 2,
       "version_minor": 0
      },
      "text/plain": [
       "HBox(children=(IntProgress(value=0, max=2736), HTML(value='')))"
      ]
     },
     "metadata": {},
     "output_type": "display_data"
    },
    {
     "name": "stdout",
     "output_type": "stream",
     "text": [
      "\n",
      "epoch 0/4 \t train : loss 0.50849 - spearmanr 0.25103\n",
      "epoch 0: \t Start validation...\n"
     ]
    },
    {
     "data": {
      "application/vnd.jupyter.widget-view+json": {
       "model_id": "83c4a1681e8a4b13aba10d40c4a3cee6",
       "version_major": 2,
       "version_minor": 0
      },
      "text/plain": [
       "HBox(children=(IntProgress(value=0, max=304), HTML(value='')))"
      ]
     },
     "metadata": {},
     "output_type": "display_data"
    },
    {
     "name": "stdout",
     "output_type": "stream",
     "text": [
      "\n",
      "epoch 0/4 \t valid : loss 0.46625 - spearmanr 0.36616\n",
      "best model: epoch 0 - 0.36616\n",
      "epoch 1: \t Start training...\n"
     ]
    },
    {
     "data": {
      "application/vnd.jupyter.widget-view+json": {
       "model_id": "6fb3dd9f8eb44ccb9e674648f35b7f9b",
       "version_major": 2,
       "version_minor": 0
      },
      "text/plain": [
       "HBox(children=(IntProgress(value=0, max=2736), HTML(value='')))"
      ]
     },
     "metadata": {},
     "output_type": "display_data"
    },
    {
     "name": "stdout",
     "output_type": "stream",
     "text": [
      "\n",
      "epoch 1/4 \t train : loss 0.45691 - spearmanr 0.3966\n",
      "epoch 1: \t Start validation...\n"
     ]
    },
    {
     "data": {
      "application/vnd.jupyter.widget-view+json": {
       "model_id": "9b0e7c790c764e0b925b751e93a25ca2",
       "version_major": 2,
       "version_minor": 0
      },
      "text/plain": [
       "HBox(children=(IntProgress(value=0, max=304), HTML(value='')))"
      ]
     },
     "metadata": {},
     "output_type": "display_data"
    },
    {
     "name": "stdout",
     "output_type": "stream",
     "text": [
      "\n",
      "epoch 1/4 \t valid : loss 0.45402 - spearmanr 0.3863\n",
      "best model: epoch 1 - 0.3863\n",
      "epoch 2: \t Start training...\n"
     ]
    },
    {
     "data": {
      "application/vnd.jupyter.widget-view+json": {
       "model_id": "025047d6d2894e869d417c50e98e56f9",
       "version_major": 2,
       "version_minor": 0
      },
      "text/plain": [
       "HBox(children=(IntProgress(value=0, max=2736), HTML(value='')))"
      ]
     },
     "metadata": {},
     "output_type": "display_data"
    },
    {
     "name": "stdout",
     "output_type": "stream",
     "text": [
      "\n",
      "epoch 2/4 \t train : loss 0.43237 - spearmanr 0.46287\n",
      "epoch 2: \t Start validation...\n"
     ]
    },
    {
     "data": {
      "application/vnd.jupyter.widget-view+json": {
       "model_id": "36596ded64fc4514b48e7d7cbece9de4",
       "version_major": 2,
       "version_minor": 0
      },
      "text/plain": [
       "HBox(children=(IntProgress(value=0, max=304), HTML(value='')))"
      ]
     },
     "metadata": {},
     "output_type": "display_data"
    },
    {
     "name": "stdout",
     "output_type": "stream",
     "text": [
      "\n",
      "epoch 2/4 \t valid : loss 0.45144 - spearmanr 0.39407\n",
      "best model: epoch 2 - 0.39407\n",
      "epoch 3: \t Start training...\n"
     ]
    },
    {
     "data": {
      "application/vnd.jupyter.widget-view+json": {
       "model_id": "fc15c293fb144d398d6c299ec3448683",
       "version_major": 2,
       "version_minor": 0
      },
      "text/plain": [
       "HBox(children=(IntProgress(value=0, max=2736), HTML(value='')))"
      ]
     },
     "metadata": {},
     "output_type": "display_data"
    },
    {
     "name": "stdout",
     "output_type": "stream",
     "text": [
      "\n",
      "epoch 3/4 \t train : loss 0.41098 - spearmanr 0.51462\n",
      "epoch 3: \t Start validation...\n"
     ]
    },
    {
     "data": {
      "application/vnd.jupyter.widget-view+json": {
       "model_id": "81dd4a6b34f34b4daa3f77fc9550e84b",
       "version_major": 2,
       "version_minor": 0
      },
      "text/plain": [
       "HBox(children=(IntProgress(value=0, max=304), HTML(value='')))"
      ]
     },
     "metadata": {},
     "output_type": "display_data"
    },
    {
     "name": "stdout",
     "output_type": "stream",
     "text": [
      "\n",
      "epoch 3/4 \t valid : loss 0.45406 - spearmanr 0.39336\n",
      "model not improved for 1 epochs\n",
      "TRAINING END: Best score achieved on epoch 2 - 0.39407\n",
      "Starting inference for model: checkpoints/siamese_bert_4_fold_6_best.pth\n"
     ]
    },
    {
     "data": {
      "application/vnd.jupyter.widget-view+json": {
       "model_id": "f62c8cbb0b3444bfa2f2bb2ebf5815f7",
       "version_major": 2,
       "version_minor": 0
      },
      "text/plain": [
       "HBox(children=(IntProgress(value=0, max=304), HTML(value='')))"
      ]
     },
     "metadata": {},
     "output_type": "display_data"
    },
    {
     "name": "stdout",
     "output_type": "stream",
     "text": [
      "\n",
      "Averaged Val. score: 0.3940722170838646\n",
      "Starting inference for model: checkpoints/siamese_bert_4_fold_6_best.pth\n"
     ]
    },
    {
     "data": {
      "application/vnd.jupyter.widget-view+json": {
       "model_id": "c53b6f0c58834c2a8e25eca48ba91672",
       "version_major": 2,
       "version_minor": 0
      },
      "text/plain": [
       "HBox(children=(IntProgress(value=0, max=238), HTML(value='')))"
      ]
     },
     "metadata": {},
     "output_type": "display_data"
    },
    {
     "name": "stdout",
     "output_type": "stream",
     "text": [
      "\n",
      "Fold 7 started at Sat Jan 25 18:07:49 2020\n",
      "epoch 0: \t Start training...\n"
     ]
    },
    {
     "data": {
      "application/vnd.jupyter.widget-view+json": {
       "model_id": "b0518f8b9c8245d28f0f17ed315ab505",
       "version_major": 2,
       "version_minor": 0
      },
      "text/plain": [
       "HBox(children=(IntProgress(value=0, max=2736), HTML(value='')))"
      ]
     },
     "metadata": {},
     "output_type": "display_data"
    },
    {
     "name": "stdout",
     "output_type": "stream",
     "text": [
      "\n",
      "epoch 0/4 \t train : loss 0.50868 - spearmanr 0.24364\n",
      "epoch 0: \t Start validation...\n"
     ]
    },
    {
     "data": {
      "application/vnd.jupyter.widget-view+json": {
       "model_id": "8026377690d94af089697fd9d851d7bb",
       "version_major": 2,
       "version_minor": 0
      },
      "text/plain": [
       "HBox(children=(IntProgress(value=0, max=304), HTML(value='')))"
      ]
     },
     "metadata": {},
     "output_type": "display_data"
    },
    {
     "name": "stdout",
     "output_type": "stream",
     "text": [
      "\n",
      "epoch 0/4 \t valid : loss 0.475 - spearmanr 0.36746\n",
      "best model: epoch 0 - 0.36746\n",
      "epoch 1: \t Start training...\n"
     ]
    },
    {
     "data": {
      "application/vnd.jupyter.widget-view+json": {
       "model_id": "f85cf8e994e84800a21a19fa17de5588",
       "version_major": 2,
       "version_minor": 0
      },
      "text/plain": [
       "HBox(children=(IntProgress(value=0, max=2736), HTML(value='')))"
      ]
     },
     "metadata": {},
     "output_type": "display_data"
    },
    {
     "name": "stdout",
     "output_type": "stream",
     "text": [
      "\n",
      "epoch 1/4 \t train : loss 0.45589 - spearmanr 0.3967\n",
      "epoch 1: \t Start validation...\n"
     ]
    },
    {
     "data": {
      "application/vnd.jupyter.widget-view+json": {
       "model_id": "1aaa0287c23c47bd81697d4727151413",
       "version_major": 2,
       "version_minor": 0
      },
      "text/plain": [
       "HBox(children=(IntProgress(value=0, max=304), HTML(value='')))"
      ]
     },
     "metadata": {},
     "output_type": "display_data"
    },
    {
     "name": "stdout",
     "output_type": "stream",
     "text": [
      "\n",
      "epoch 1/4 \t valid : loss 0.46594 - spearmanr 0.40105\n",
      "best model: epoch 1 - 0.40105\n",
      "epoch 2: \t Start training...\n"
     ]
    },
    {
     "data": {
      "application/vnd.jupyter.widget-view+json": {
       "model_id": "b440b2d555714ea4b77176b9d56e3fab",
       "version_major": 2,
       "version_minor": 0
      },
      "text/plain": [
       "HBox(children=(IntProgress(value=0, max=2736), HTML(value='')))"
      ]
     },
     "metadata": {},
     "output_type": "display_data"
    },
    {
     "name": "stdout",
     "output_type": "stream",
     "text": [
      "\n",
      "epoch 2/4 \t train : loss 0.43203 - spearmanr 0.45945\n",
      "epoch 2: \t Start validation...\n"
     ]
    },
    {
     "data": {
      "application/vnd.jupyter.widget-view+json": {
       "model_id": "9d98af77284e4ca5afc820a912daa2fe",
       "version_major": 2,
       "version_minor": 0
      },
      "text/plain": [
       "HBox(children=(IntProgress(value=0, max=304), HTML(value='')))"
      ]
     },
     "metadata": {},
     "output_type": "display_data"
    },
    {
     "name": "stdout",
     "output_type": "stream",
     "text": [
      "\n",
      "epoch 2/4 \t valid : loss 0.4575 - spearmanr 0.41041\n",
      "best model: epoch 2 - 0.41041\n",
      "epoch 3: \t Start training...\n"
     ]
    },
    {
     "data": {
      "application/vnd.jupyter.widget-view+json": {
       "model_id": "0497ae32105e42078ddaa1ee009ed8cf",
       "version_major": 2,
       "version_minor": 0
      },
      "text/plain": [
       "HBox(children=(IntProgress(value=0, max=2736), HTML(value='')))"
      ]
     },
     "metadata": {},
     "output_type": "display_data"
    },
    {
     "name": "stdout",
     "output_type": "stream",
     "text": [
      "\n",
      "epoch 3/4 \t train : loss 0.41054 - spearmanr 0.51329\n",
      "epoch 3: \t Start validation...\n"
     ]
    },
    {
     "data": {
      "application/vnd.jupyter.widget-view+json": {
       "model_id": "00c709c1ff2548ef9a6e0728a88a310d",
       "version_major": 2,
       "version_minor": 0
      },
      "text/plain": [
       "HBox(children=(IntProgress(value=0, max=304), HTML(value='')))"
      ]
     },
     "metadata": {},
     "output_type": "display_data"
    },
    {
     "name": "stdout",
     "output_type": "stream",
     "text": [
      "\n",
      "epoch 3/4 \t valid : loss 0.45999 - spearmanr 0.41171\n",
      "best model: epoch 3 - 0.41171\n",
      "TRAINING END: Best score achieved on epoch 3 - 0.41171\n",
      "Starting inference for model: checkpoints/siamese_bert_4_fold_7_best.pth\n"
     ]
    },
    {
     "data": {
      "application/vnd.jupyter.widget-view+json": {
       "model_id": "94fc3ac2c9724a808b5b5df09a5aacca",
       "version_major": 2,
       "version_minor": 0
      },
      "text/plain": [
       "HBox(children=(IntProgress(value=0, max=304), HTML(value='')))"
      ]
     },
     "metadata": {},
     "output_type": "display_data"
    },
    {
     "name": "stdout",
     "output_type": "stream",
     "text": [
      "\n",
      "Averaged Val. score: 0.4117096622443584\n",
      "Starting inference for model: checkpoints/siamese_bert_4_fold_7_best.pth\n"
     ]
    },
    {
     "data": {
      "application/vnd.jupyter.widget-view+json": {
       "model_id": "8a0503c52f7b47d29640dc1ecfd9e0f1",
       "version_major": 2,
       "version_minor": 0
      },
      "text/plain": [
       "HBox(children=(IntProgress(value=0, max=238), HTML(value='')))"
      ]
     },
     "metadata": {},
     "output_type": "display_data"
    },
    {
     "name": "stdout",
     "output_type": "stream",
     "text": [
      "\n",
      "Fold 8 started at Sat Jan 25 18:46:41 2020\n",
      "epoch 0: \t Start training...\n"
     ]
    },
    {
     "data": {
      "application/vnd.jupyter.widget-view+json": {
       "model_id": "15becddb41574512994f886e70aacd82",
       "version_major": 2,
       "version_minor": 0
      },
      "text/plain": [
       "HBox(children=(IntProgress(value=0, max=2736), HTML(value='')))"
      ]
     },
     "metadata": {},
     "output_type": "display_data"
    },
    {
     "name": "stdout",
     "output_type": "stream",
     "text": [
      "\n",
      "epoch 0/4 \t train : loss 0.50853 - spearmanr 0.24493\n",
      "epoch 0: \t Start validation...\n"
     ]
    },
    {
     "data": {
      "application/vnd.jupyter.widget-view+json": {
       "model_id": "6b909151e8d548dcb65d9fdd83625a1c",
       "version_major": 2,
       "version_minor": 0
      },
      "text/plain": [
       "HBox(children=(IntProgress(value=0, max=304), HTML(value='')))"
      ]
     },
     "metadata": {},
     "output_type": "display_data"
    },
    {
     "name": "stdout",
     "output_type": "stream",
     "text": [
      "\n",
      "epoch 0/4 \t valid : loss 0.47281 - spearmanr 0.3851\n",
      "best model: epoch 0 - 0.3851\n",
      "epoch 1: \t Start training...\n"
     ]
    },
    {
     "data": {
      "application/vnd.jupyter.widget-view+json": {
       "model_id": "14cf1c6673a941c8af65bd358ed6ebd2",
       "version_major": 2,
       "version_minor": 0
      },
      "text/plain": [
       "HBox(children=(IntProgress(value=0, max=2736), HTML(value='')))"
      ]
     },
     "metadata": {},
     "output_type": "display_data"
    },
    {
     "name": "stdout",
     "output_type": "stream",
     "text": [
      "\n",
      "epoch 1/4 \t train : loss 0.45495 - spearmanr 0.39809\n",
      "epoch 1: \t Start validation...\n"
     ]
    },
    {
     "data": {
      "application/vnd.jupyter.widget-view+json": {
       "model_id": "137fa985474e4ae9b4a8326757487862",
       "version_major": 2,
       "version_minor": 0
      },
      "text/plain": [
       "HBox(children=(IntProgress(value=0, max=304), HTML(value='')))"
      ]
     },
     "metadata": {},
     "output_type": "display_data"
    },
    {
     "name": "stdout",
     "output_type": "stream",
     "text": [
      "\n",
      "epoch 1/4 \t valid : loss 0.46353 - spearmanr 0.40651\n",
      "best model: epoch 1 - 0.40651\n",
      "epoch 2: \t Start training...\n"
     ]
    },
    {
     "data": {
      "application/vnd.jupyter.widget-view+json": {
       "model_id": "6dcf6b097df6463c93633cc9f109957d",
       "version_major": 2,
       "version_minor": 0
      },
      "text/plain": [
       "HBox(children=(IntProgress(value=0, max=2736), HTML(value='')))"
      ]
     },
     "metadata": {},
     "output_type": "display_data"
    },
    {
     "name": "stdout",
     "output_type": "stream",
     "text": [
      "\n",
      "epoch 2/4 \t train : loss 0.43169 - spearmanr 0.46019\n",
      "epoch 2: \t Start validation...\n"
     ]
    },
    {
     "data": {
      "application/vnd.jupyter.widget-view+json": {
       "model_id": "ea05c193252f4b62a39c761945364727",
       "version_major": 2,
       "version_minor": 0
      },
      "text/plain": [
       "HBox(children=(IntProgress(value=0, max=304), HTML(value='')))"
      ]
     },
     "metadata": {},
     "output_type": "display_data"
    },
    {
     "name": "stdout",
     "output_type": "stream",
     "text": [
      "\n",
      "epoch 2/4 \t valid : loss 0.46317 - spearmanr 0.41251\n",
      "best model: epoch 2 - 0.41251\n",
      "epoch 3: \t Start training...\n"
     ]
    },
    {
     "data": {
      "application/vnd.jupyter.widget-view+json": {
       "model_id": "a7ca1e6db6794c03bfdbf5547ade7853",
       "version_major": 2,
       "version_minor": 0
      },
      "text/plain": [
       "HBox(children=(IntProgress(value=0, max=2736), HTML(value='')))"
      ]
     },
     "metadata": {},
     "output_type": "display_data"
    },
    {
     "name": "stdout",
     "output_type": "stream",
     "text": [
      "\n",
      "epoch 3/4 \t train : loss 0.41027 - spearmanr 0.51277\n",
      "epoch 3: \t Start validation...\n"
     ]
    },
    {
     "data": {
      "application/vnd.jupyter.widget-view+json": {
       "model_id": "cf6d27a09e334404b94fa08192af409b",
       "version_major": 2,
       "version_minor": 0
      },
      "text/plain": [
       "HBox(children=(IntProgress(value=0, max=304), HTML(value='')))"
      ]
     },
     "metadata": {},
     "output_type": "display_data"
    },
    {
     "name": "stdout",
     "output_type": "stream",
     "text": [
      "\n",
      "epoch 3/4 \t valid : loss 0.46516 - spearmanr 0.41311\n",
      "best model: epoch 3 - 0.41311\n",
      "TRAINING END: Best score achieved on epoch 3 - 0.41311\n",
      "Starting inference for model: checkpoints/siamese_bert_4_fold_8_best.pth\n"
     ]
    },
    {
     "data": {
      "application/vnd.jupyter.widget-view+json": {
       "model_id": "12356ce8776546679d655dd18b5f2680",
       "version_major": 2,
       "version_minor": 0
      },
      "text/plain": [
       "HBox(children=(IntProgress(value=0, max=304), HTML(value='')))"
      ]
     },
     "metadata": {},
     "output_type": "display_data"
    },
    {
     "name": "stdout",
     "output_type": "stream",
     "text": [
      "\n",
      "Averaged Val. score: 0.4131077573622344\n",
      "Starting inference for model: checkpoints/siamese_bert_4_fold_8_best.pth\n"
     ]
    },
    {
     "data": {
      "application/vnd.jupyter.widget-view+json": {
       "model_id": "f113320000984ab2a19c4624b5b61163",
       "version_major": 2,
       "version_minor": 0
      },
      "text/plain": [
       "HBox(children=(IntProgress(value=0, max=238), HTML(value='')))"
      ]
     },
     "metadata": {},
     "output_type": "display_data"
    },
    {
     "name": "stdout",
     "output_type": "stream",
     "text": [
      "\n",
      "Fold 9 started at Sat Jan 25 19:25:34 2020\n",
      "epoch 0: \t Start training...\n"
     ]
    },
    {
     "data": {
      "application/vnd.jupyter.widget-view+json": {
       "model_id": "a944d1bf4baf4e2d9648dd1337ddbf27",
       "version_major": 2,
       "version_minor": 0
      },
      "text/plain": [
       "HBox(children=(IntProgress(value=0, max=2736), HTML(value='')))"
      ]
     },
     "metadata": {},
     "output_type": "display_data"
    },
    {
     "name": "stdout",
     "output_type": "stream",
     "text": [
      "\n",
      "epoch 0/4 \t train : loss 0.50794 - spearmanr 0.25066\n",
      "epoch 0: \t Start validation...\n"
     ]
    },
    {
     "data": {
      "application/vnd.jupyter.widget-view+json": {
       "model_id": "6b8e6325b4ac4389be549a292ade5816",
       "version_major": 2,
       "version_minor": 0
      },
      "text/plain": [
       "HBox(children=(IntProgress(value=0, max=304), HTML(value='')))"
      ]
     },
     "metadata": {},
     "output_type": "display_data"
    },
    {
     "name": "stdout",
     "output_type": "stream",
     "text": [
      "\n",
      "epoch 0/4 \t valid : loss 0.47025 - spearmanr 0.36454\n",
      "best model: epoch 0 - 0.36454\n",
      "epoch 1: \t Start training...\n"
     ]
    },
    {
     "data": {
      "application/vnd.jupyter.widget-view+json": {
       "model_id": "28c9c6f67da543eb86025e620629014f",
       "version_major": 2,
       "version_minor": 0
      },
      "text/plain": [
       "HBox(children=(IntProgress(value=0, max=2736), HTML(value='')))"
      ]
     },
     "metadata": {},
     "output_type": "display_data"
    },
    {
     "name": "stdout",
     "output_type": "stream",
     "text": [
      "\n",
      "epoch 1/4 \t train : loss 0.45581 - spearmanr 0.3983\n",
      "epoch 1: \t Start validation...\n"
     ]
    },
    {
     "data": {
      "application/vnd.jupyter.widget-view+json": {
       "model_id": "21494b7c948646ef99edfcedf22f646d",
       "version_major": 2,
       "version_minor": 0
      },
      "text/plain": [
       "HBox(children=(IntProgress(value=0, max=304), HTML(value='')))"
      ]
     },
     "metadata": {},
     "output_type": "display_data"
    },
    {
     "name": "stdout",
     "output_type": "stream",
     "text": [
      "\n",
      "epoch 1/4 \t valid : loss 0.45648 - spearmanr 0.39586\n",
      "best model: epoch 1 - 0.39586\n",
      "epoch 2: \t Start training...\n"
     ]
    },
    {
     "data": {
      "application/vnd.jupyter.widget-view+json": {
       "model_id": "d55b4c494e384ab3b14421eec1cbd19e",
       "version_major": 2,
       "version_minor": 0
      },
      "text/plain": [
       "HBox(children=(IntProgress(value=0, max=2736), HTML(value='')))"
      ]
     },
     "metadata": {},
     "output_type": "display_data"
    },
    {
     "name": "stdout",
     "output_type": "stream",
     "text": [
      "\n",
      "epoch 2/4 \t train : loss 0.43176 - spearmanr 0.46177\n",
      "epoch 2: \t Start validation...\n"
     ]
    },
    {
     "data": {
      "application/vnd.jupyter.widget-view+json": {
       "model_id": "c6be55fb3002497d8c483658e1ad0176",
       "version_major": 2,
       "version_minor": 0
      },
      "text/plain": [
       "HBox(children=(IntProgress(value=0, max=304), HTML(value='')))"
      ]
     },
     "metadata": {},
     "output_type": "display_data"
    },
    {
     "name": "stdout",
     "output_type": "stream",
     "text": [
      "\n",
      "epoch 2/4 \t valid : loss 0.45765 - spearmanr 0.39939\n",
      "best model: epoch 2 - 0.39939\n",
      "epoch 3: \t Start training...\n"
     ]
    },
    {
     "data": {
      "application/vnd.jupyter.widget-view+json": {
       "model_id": "f819448f14114ed890dc6c179323b29c",
       "version_major": 2,
       "version_minor": 0
      },
      "text/plain": [
       "HBox(children=(IntProgress(value=0, max=2736), HTML(value='')))"
      ]
     },
     "metadata": {},
     "output_type": "display_data"
    },
    {
     "name": "stdout",
     "output_type": "stream",
     "text": [
      "\n",
      "epoch 3/4 \t train : loss 0.40998 - spearmanr 0.51509\n",
      "epoch 3: \t Start validation...\n"
     ]
    },
    {
     "data": {
      "application/vnd.jupyter.widget-view+json": {
       "model_id": "f5f6786c11e8411083ee71fbc2e8a58a",
       "version_major": 2,
       "version_minor": 0
      },
      "text/plain": [
       "HBox(children=(IntProgress(value=0, max=304), HTML(value='')))"
      ]
     },
     "metadata": {},
     "output_type": "display_data"
    },
    {
     "name": "stdout",
     "output_type": "stream",
     "text": [
      "\n",
      "epoch 3/4 \t valid : loss 0.45824 - spearmanr 0.40206\n",
      "best model: epoch 3 - 0.40206\n",
      "TRAINING END: Best score achieved on epoch 3 - 0.40206\n",
      "Starting inference for model: checkpoints/siamese_bert_4_fold_9_best.pth\n"
     ]
    },
    {
     "data": {
      "application/vnd.jupyter.widget-view+json": {
       "model_id": "08cf2245ccee418f9639c13dd64fe625",
       "version_major": 2,
       "version_minor": 0
      },
      "text/plain": [
       "HBox(children=(IntProgress(value=0, max=304), HTML(value='')))"
      ]
     },
     "metadata": {},
     "output_type": "display_data"
    },
    {
     "name": "stdout",
     "output_type": "stream",
     "text": [
      "\n",
      "Averaged Val. score: 0.4020619378733564\n",
      "Starting inference for model: checkpoints/siamese_bert_4_fold_9_best.pth\n"
     ]
    },
    {
     "data": {
      "application/vnd.jupyter.widget-view+json": {
       "model_id": "f5b066918eec45d2a3f02c9b6953f673",
       "version_major": 2,
       "version_minor": 0
      },
      "text/plain": [
       "HBox(children=(IntProgress(value=0, max=238), HTML(value='')))"
      ]
     },
     "metadata": {},
     "output_type": "display_data"
    },
    {
     "name": "stdout",
     "output_type": "stream",
     "text": [
      "\n",
      "Fold 10 started at Sat Jan 25 20:04:26 2020\n",
      "epoch 0: \t Start training...\n"
     ]
    },
    {
     "data": {
      "application/vnd.jupyter.widget-view+json": {
       "model_id": "e085916a5346404d98afbbffaad215b7",
       "version_major": 2,
       "version_minor": 0
      },
      "text/plain": [
       "HBox(children=(IntProgress(value=0, max=2736), HTML(value='')))"
      ]
     },
     "metadata": {},
     "output_type": "display_data"
    },
    {
     "name": "stdout",
     "output_type": "stream",
     "text": [
      "\n",
      "epoch 0/4 \t train : loss 0.50968 - spearmanr 0.2474\n",
      "epoch 0: \t Start validation...\n"
     ]
    },
    {
     "data": {
      "application/vnd.jupyter.widget-view+json": {
       "model_id": "c2b52763abbb4c069021e4e64f934011",
       "version_major": 2,
       "version_minor": 0
      },
      "text/plain": [
       "HBox(children=(IntProgress(value=0, max=304), HTML(value='')))"
      ]
     },
     "metadata": {},
     "output_type": "display_data"
    },
    {
     "name": "stdout",
     "output_type": "stream",
     "text": [
      "\n",
      "epoch 0/4 \t valid : loss 0.45877 - spearmanr 0.39048\n",
      "best model: epoch 0 - 0.39048\n",
      "epoch 1: \t Start training...\n"
     ]
    },
    {
     "data": {
      "application/vnd.jupyter.widget-view+json": {
       "model_id": "7801716140fd4b74bba0f089d0cc3f1d",
       "version_major": 2,
       "version_minor": 0
      },
      "text/plain": [
       "HBox(children=(IntProgress(value=0, max=2736), HTML(value='')))"
      ]
     },
     "metadata": {},
     "output_type": "display_data"
    },
    {
     "name": "stdout",
     "output_type": "stream",
     "text": [
      "\n",
      "epoch 1/4 \t train : loss 0.45734 - spearmanr 0.39581\n",
      "epoch 1: \t Start validation...\n"
     ]
    },
    {
     "data": {
      "application/vnd.jupyter.widget-view+json": {
       "model_id": "581d2846627f4b6fa177c31c89955ba7",
       "version_major": 2,
       "version_minor": 0
      },
      "text/plain": [
       "HBox(children=(IntProgress(value=0, max=304), HTML(value='')))"
      ]
     },
     "metadata": {},
     "output_type": "display_data"
    },
    {
     "name": "stdout",
     "output_type": "stream",
     "text": [
      "\n",
      "epoch 1/4 \t valid : loss 0.44641 - spearmanr 0.41742\n",
      "best model: epoch 1 - 0.41742\n",
      "epoch 2: \t Start training...\n"
     ]
    },
    {
     "data": {
      "application/vnd.jupyter.widget-view+json": {
       "model_id": "f3671028cf2e4b49a8bf10377d2e4394",
       "version_major": 2,
       "version_minor": 0
      },
      "text/plain": [
       "HBox(children=(IntProgress(value=0, max=2736), HTML(value='')))"
      ]
     },
     "metadata": {},
     "output_type": "display_data"
    },
    {
     "name": "stdout",
     "output_type": "stream",
     "text": [
      "\n",
      "epoch 2/4 \t train : loss 0.43387 - spearmanr 0.45643\n",
      "epoch 2: \t Start validation...\n"
     ]
    },
    {
     "data": {
      "application/vnd.jupyter.widget-view+json": {
       "model_id": "d3f4e56fbaba4b18af218ce7240e2f07",
       "version_major": 2,
       "version_minor": 0
      },
      "text/plain": [
       "HBox(children=(IntProgress(value=0, max=304), HTML(value='')))"
      ]
     },
     "metadata": {},
     "output_type": "display_data"
    },
    {
     "name": "stdout",
     "output_type": "stream",
     "text": [
      "\n",
      "epoch 2/4 \t valid : loss 0.44455 - spearmanr 0.42236\n",
      "best model: epoch 2 - 0.42236\n",
      "epoch 3: \t Start training...\n"
     ]
    },
    {
     "data": {
      "application/vnd.jupyter.widget-view+json": {
       "model_id": "5c80c123d8f0459ab5606f7353c8ac32",
       "version_major": 2,
       "version_minor": 0
      },
      "text/plain": [
       "HBox(children=(IntProgress(value=0, max=2736), HTML(value='')))"
      ]
     },
     "metadata": {},
     "output_type": "display_data"
    },
    {
     "name": "stdout",
     "output_type": "stream",
     "text": [
      "\n",
      "epoch 3/4 \t train : loss 0.41138 - spearmanr 0.51279\n",
      "epoch 3: \t Start validation...\n"
     ]
    },
    {
     "data": {
      "application/vnd.jupyter.widget-view+json": {
       "model_id": "588f492b5f554f66be5e604934c26ef9",
       "version_major": 2,
       "version_minor": 0
      },
      "text/plain": [
       "HBox(children=(IntProgress(value=0, max=304), HTML(value='')))"
      ]
     },
     "metadata": {},
     "output_type": "display_data"
    },
    {
     "name": "stdout",
     "output_type": "stream",
     "text": [
      "\n",
      "epoch 3/4 \t valid : loss 0.44775 - spearmanr 0.41984\n",
      "model not improved for 1 epochs\n",
      "TRAINING END: Best score achieved on epoch 2 - 0.42236\n",
      "Starting inference for model: checkpoints/siamese_bert_4_fold_10_best.pth\n"
     ]
    },
    {
     "data": {
      "application/vnd.jupyter.widget-view+json": {
       "model_id": "7b557860e93b4230ae02b1ca25827643",
       "version_major": 2,
       "version_minor": 0
      },
      "text/plain": [
       "HBox(children=(IntProgress(value=0, max=304), HTML(value='')))"
      ]
     },
     "metadata": {},
     "output_type": "display_data"
    },
    {
     "name": "stdout",
     "output_type": "stream",
     "text": [
      "\n",
      "Averaged Val. score: 0.42235747954902625\n",
      "Starting inference for model: checkpoints/siamese_bert_4_fold_10_best.pth\n"
     ]
    },
    {
     "data": {
      "application/vnd.jupyter.widget-view+json": {
       "model_id": "b2275fe16fc94e789683a4f912d96da8",
       "version_major": 2,
       "version_minor": 0
      },
      "text/plain": [
       "HBox(children=(IntProgress(value=0, max=238), HTML(value='')))"
      ]
     },
     "metadata": {},
     "output_type": "display_data"
    },
    {
     "name": "stdout",
     "output_type": "stream",
     "text": [
      "\n",
      "OOF score: 0.4079747198745425\n"
     ]
    }
   ],
   "source": [
    "init_seed()\n",
    "folds = GroupKFold(n_splits=n_folds).split(X=train['question_body'], groups=train['question_body'])\n",
    "oofs = np.zeros((len(train), N_TARGETS))\n",
    "preds = np.zeros((len(test), N_TARGETS))\n",
    "\n",
    "for fold_id, (train_index, valid_index) in enumerate(folds):\n",
    "    print(f'Fold {fold_id + 1} started at {time.ctime()}')\n",
    "    train_loader = DataLoader(\n",
    "        TextDataset(cat_features_train, ids_train['question'], ids_train['answer'],\n",
    "                    seg_ids_train['question'], seg_ids_train['answer'], \n",
    "                    ids_aug['question'], ids_aug['answer'],\n",
    "                    seg_ids_aug['question'], seg_ids_aug['answer'], train_index, targets=y), \n",
    "        batch_size=bs, shuffle=True, num_workers=num_workers, drop_last=False\n",
    "    )\n",
    "    valid_loader = DataLoader(\n",
    "        TextDataset5(cat_features_train, ids_train['question'], ids_train['answer'],\n",
    "                    seg_ids_train['question'], seg_ids_train['answer'], valid_index, targets=y), \n",
    "        batch_size=bs, shuffle=False, num_workers=num_workers, drop_last=False\n",
    "    )\n",
    "    model = CustomBert3(256, cat_features_train.shape[1])\n",
    "    \n",
    "    if fold_id == 0:\n",
    "#         print(model)\n",
    "        model = model.to(device)\n",
    "        optimizer = get_optimizer(model, lr, weight_decay)\n",
    "        lr_finder = LRFinder(n_iter=min(grad_accum*100, len(train_loader)), start_lr=1e-5, \n",
    "                             end_lr=1, device=device, grad_accum=grad_accum, divergence_factor=5)\n",
    "        lr_finder.find_lr(model, optimizer, train_loader, loss_fn)\n",
    "        plt.show()\n",
    "    \n",
    "    optimizer = get_optimizer(model, lr, weight_decay)\n",
    "    scheduler = OneCycleLR(optimizer, n_epochs=n_epochs, n_batches=len(train_loader))\n",
    "\n",
    "    learner = Learner(\n",
    "        model, \n",
    "        optimizer, \n",
    "        train_loader, \n",
    "        valid_loader, \n",
    "        loss_fn, \n",
    "        device, \n",
    "        n_epochs, \n",
    "        f'{model_name}_fold_{fold_id + 1}', \n",
    "        checkpoint_dir, \n",
    "        scheduler=scheduler, \n",
    "        metric_fns={'spearmanr': (spearmanr_torch, 'epoch_end')}, \n",
    "        monitor_metric='spearmanr',\n",
    "        minimize_score=False, \n",
    "        logger=None,\n",
    "        grad_accum=grad_accum,\n",
    "        early_stopping=early_stopping, \n",
    "        batch_step_scheduler=True,\n",
    "        n_top_models=5\n",
    "    )\n",
    "    if (fold_id + 1) > 0: learner.train()\n",
    "        \n",
    "    oofs[valid_index] = infer(learner.model, valid_loader, learner.best_checkpoint_file, device)\n",
    "#     oofs[valid_index] += infer(learner.model, valid_loader, learner.checkpoint_file(1), device) / 1\n",
    "#     oofs[valid_index] += infer(learner.model, valid_loader, learner.checkpoint_file(2), device) / 3\n",
    "#     oofs[valid_index] += infer(learner.model, valid_loader, learner.checkpoint_file(3), device) / 3\n",
    "    print(f'Averaged Val. score: {spearmanr_np(oofs[valid_index], y[valid_index])}')\n",
    "    \n",
    "    \n",
    "    test_preds = infer(learner.model, test_loader, learner.best_checkpoint_file, device)\n",
    "    preds += test_preds / n_folds\n",
    "    \n",
    "    del learner, model, train_loader, valid_loader\n",
    "    gc.collect()\n",
    "    \n",
    "print(f'OOF score: {spearmanr_np(oofs, y)}')"
   ]
  },
  {
   "cell_type": "code",
   "execution_count": 15,
   "metadata": {
    "scrolled": true
   },
   "outputs": [
    {
     "name": "stdout",
     "output_type": "stream",
     "text": [
      "0 5 0.356320425098858\n",
      "0 10 0.3747266375906539\n",
      "0 15 0.3806335703488374\n",
      "1 5 0.6423986138456398\n",
      "1 10 0.6548906325955849\n",
      "1 15 0.6573554341696408\n",
      "1 20 0.6584421877107606\n",
      "1 33 0.6588115241920204\n",
      "1 100 0.659164139745384\n",
      "1 200 0.6592786896631052\n",
      "1 None 0.6593060196857505\n",
      "2 5 0.48265989235749107\n",
      "3 5 0.29153081574817274\n",
      "3 10 0.29908528202015744\n",
      "3 15 0.30276362444917637\n",
      "3 20 0.30306177256497124\n",
      "3 100 0.303500226776926\n",
      "4 5 0.3439610307554297\n",
      "4 10 0.35387046704951103\n",
      "4 15 0.35713805001082455\n",
      "4 33 0.35801114200105544\n",
      "4 100 0.3592633505570157\n",
      "5 5 0.45094316006762714\n",
      "6 5 0.3170637940231118\n",
      "6 10 0.3492307294443567\n",
      "6 15 0.35300121765258397\n",
      "6 20 0.356860283474372\n",
      "7 5 0.5039597606408748\n",
      "7 10 0.5080891999618242\n",
      "7 15 0.5094987670080374\n",
      "8 5 0.5778126984627823\n",
      "8 10 0.5795171512138588\n",
      "9 10 0.031175332694691648\n",
      "9 15 0.09929185364509732\n",
      "9 100 0.10520942520806215\n",
      "10 5 0.45218172109321647\n",
      "10 10 0.4655476355757757\n",
      "10 15 0.4664007613116069\n",
      "10 20 0.46808006300083893\n",
      "10 100 0.4692771270952516\n",
      "10 200 0.46929319578010936\n",
      "10 None 0.4693255775821884\n",
      "11 5 0.7491520197861161\n",
      "11 10 0.7500100616218706\n",
      "12 5 0.5132116132604084\n",
      "13 5 0.1533390201373496\n",
      "13 10 0.2421587732958316\n",
      "13 15 0.24939370169123037\n",
      "14 5 0.6194300289010656\n",
      "15 5 0.5683609077830564\n",
      "16 5 0.7758662702504876\n",
      "16 10 0.7781776718025735\n",
      "16 15 0.7786411751294255\n",
      "17 5 0.3318259810529407\n",
      "17 10 0.348590357579186\n",
      "17 15 0.3545377213140097\n",
      "17 33 0.35711015294387777\n",
      "18 5 0.652831596338436\n",
      "18 10 0.6622548237033475\n",
      "18 15 0.6628111498091165\n",
      "18 20 0.6635601341645054\n",
      "18 33 0.664403579144036\n",
      "19 5 0.34738119472141576\n",
      "19 10 0.4536909449277361\n",
      "19 15 0.5267181760607034\n",
      "20 5 0.5007104965811227\n",
      "20 10 0.5153271758403849\n",
      "20 15 0.519091889865014\n",
      "20 33 0.5199624428350493\n",
      "20 100 0.520741108654501\n",
      "21 5 0.214370471021639\n",
      "21 10 0.22528997192113534\n",
      "21 15 0.23002238088776214\n",
      "22 5 0.41418009889299395\n",
      "22 10 0.4297502061598619\n",
      "22 15 0.4306545784564378\n",
      "22 20 0.4327962199633799\n",
      "22 33 0.4348694846902885\n",
      "22 100 0.4351272090008793\n",
      "22 200 0.43518658531787385\n",
      "23 5 0.1185820328667082\n",
      "23 10 0.13376880643406883\n",
      "24 5 0.12956888094326527\n",
      "24 10 0.14055198852172537\n",
      "24 15 0.1544822295626642\n",
      "25 5 0.30721548408878785\n",
      "25 10 0.3172248882840576\n",
      "25 15 0.32270079493210874\n",
      "26 5 0.7511627753095036\n",
      "26 10 0.7567107251725697\n",
      "26 15 0.7582857652705551\n",
      "27 5 0.27185150637886235\n",
      "27 10 0.2997070580882244\n",
      "27 15 0.3021800934047492\n",
      "27 20 0.3041750791746422\n",
      "27 33 0.30487718665347535\n",
      "27 100 0.30655128904137174\n",
      "27 200 0.30686577638362245\n",
      "27 None 0.3071163103296514\n",
      "28 5 0.6590043050957266\n",
      "28 10 0.6689508382609832\n",
      "28 15 0.6722446697946101\n",
      "28 33 0.672984751281078\n",
      "28 100 0.6735746848874907\n",
      "28 200 0.6736236232866566\n",
      "29 5 0.2164556049751006\n",
      "29 10 0.22476631645747006\n",
      "29 15 0.23022847962638593\n",
      "29 33 0.2304138768580007\n",
      "29 100 0.23086825945011713\n"
     ]
    }
   ],
   "source": [
    "opt_ds, opt_indices = optimize_rounding_params(oofs, y)"
   ]
  },
  {
   "cell_type": "code",
   "execution_count": 16,
   "metadata": {},
   "outputs": [
    {
     "data": {
      "text/plain": [
       "(array([ 15,   5, 100, 100,   5,  20,  15,  10, 100,  10,   5,  15,   5,\n",
       "          5,  15,  33,  33,  15, 100,  15, 200,  10,  15,  15,  15, 200,\n",
       "        100]),\n",
       " array([ 0,  2,  3,  4,  5,  6,  7,  8,  9, 11, 12, 13, 14, 15, 16, 17, 18,\n",
       "        19, 20, 21, 22, 23, 24, 25, 26, 28, 29]))"
      ]
     },
     "execution_count": 16,
     "metadata": {},
     "output_type": "execute_result"
    }
   ],
   "source": [
    "np.array(opt_ds), np.array(opt_indices)"
   ]
  },
  {
   "cell_type": "code",
   "execution_count": 17,
   "metadata": {
    "scrolled": false
   },
   "outputs": [],
   "source": [
    "oofs_alt = oofs.copy()\n",
    "train[\"eng\"] = train[\"url\"].apply(lambda x: x.startswith(\"http://english.\") or x.startswith(\"http://ell.\"))\n",
    "oofs_alt[np.where((~train[\"eng\"]).values)[0], 19] = 0"
   ]
  },
  {
   "cell_type": "code",
   "execution_count": 18,
   "metadata": {
    "scrolled": false
   },
   "outputs": [
    {
     "data": {
      "text/html": [
       "<div>\n",
       "<style scoped>\n",
       "    .dataframe tbody tr th:only-of-type {\n",
       "        vertical-align: middle;\n",
       "    }\n",
       "\n",
       "    .dataframe tbody tr th {\n",
       "        vertical-align: top;\n",
       "    }\n",
       "\n",
       "    .dataframe thead th {\n",
       "        text-align: right;\n",
       "    }\n",
       "</style>\n",
       "<table border=\"1\" class=\"dataframe\">\n",
       "  <thead>\n",
       "    <tr style=\"text-align: right;\">\n",
       "      <th></th>\n",
       "      <th>SpearmanR</th>\n",
       "    </tr>\n",
       "  </thead>\n",
       "  <tbody>\n",
       "    <tr>\n",
       "      <th>CV</th>\n",
       "      <td>0.407975</td>\n",
       "    </tr>\n",
       "    <tr>\n",
       "      <th>CV unique rows</th>\n",
       "      <td>0.372431</td>\n",
       "    </tr>\n",
       "    <tr>\n",
       "      <th>CV ignoring hard targets</th>\n",
       "      <td>0.431877</td>\n",
       "    </tr>\n",
       "    <tr>\n",
       "      <th>CV unique rows ignoring hard targets</th>\n",
       "      <td>0.393583</td>\n",
       "    </tr>\n",
       "    <tr>\n",
       "      <th>CV w rounding</th>\n",
       "      <td>0.448360</td>\n",
       "    </tr>\n",
       "    <tr>\n",
       "      <th>CV unique rows w rounding</th>\n",
       "      <td>0.424449</td>\n",
       "    </tr>\n",
       "    <tr>\n",
       "      <th>CV ignoring hard targets w rounding</th>\n",
       "      <td>0.457817</td>\n",
       "    </tr>\n",
       "    <tr>\n",
       "      <th>CV unique rows ignoring hard targets w rounding</th>\n",
       "      <td>0.424940</td>\n",
       "    </tr>\n",
       "  </tbody>\n",
       "</table>\n",
       "</div>"
      ],
      "text/plain": [
       "                                                 SpearmanR\n",
       "CV                                                0.407975\n",
       "CV unique rows                                    0.372431\n",
       "CV ignoring hard targets                          0.431877\n",
       "CV unique rows ignoring hard targets              0.393583\n",
       "CV w rounding                                     0.448360\n",
       "CV unique rows w rounding                         0.424449\n",
       "CV ignoring hard targets w rounding               0.457817\n",
       "CV unique rows ignoring hard targets w rounding   0.424940"
      ]
     },
     "execution_count": 18,
     "metadata": {},
     "output_type": "execute_result"
    }
   ],
   "source": [
    "get_cvs(oofs, y, ix)"
   ]
  },
  {
   "cell_type": "code",
   "execution_count": 19,
   "metadata": {
    "scrolled": false
   },
   "outputs": [
    {
     "data": {
      "text/html": [
       "<div>\n",
       "<style scoped>\n",
       "    .dataframe tbody tr th:only-of-type {\n",
       "        vertical-align: middle;\n",
       "    }\n",
       "\n",
       "    .dataframe tbody tr th {\n",
       "        vertical-align: top;\n",
       "    }\n",
       "\n",
       "    .dataframe thead th {\n",
       "        text-align: right;\n",
       "    }\n",
       "</style>\n",
       "<table border=\"1\" class=\"dataframe\">\n",
       "  <thead>\n",
       "    <tr style=\"text-align: right;\">\n",
       "      <th></th>\n",
       "      <th>SpearmanR</th>\n",
       "    </tr>\n",
       "  </thead>\n",
       "  <tbody>\n",
       "    <tr>\n",
       "      <th>CV</th>\n",
       "      <td>0.412164</td>\n",
       "    </tr>\n",
       "    <tr>\n",
       "      <th>CV unique rows</th>\n",
       "      <td>0.376564</td>\n",
       "    </tr>\n",
       "    <tr>\n",
       "      <th>CV ignoring hard targets</th>\n",
       "      <td>0.431877</td>\n",
       "    </tr>\n",
       "    <tr>\n",
       "      <th>CV unique rows ignoring hard targets</th>\n",
       "      <td>0.393583</td>\n",
       "    </tr>\n",
       "    <tr>\n",
       "      <th>CV w rounding</th>\n",
       "      <td>0.448360</td>\n",
       "    </tr>\n",
       "    <tr>\n",
       "      <th>CV unique rows w rounding</th>\n",
       "      <td>0.424449</td>\n",
       "    </tr>\n",
       "    <tr>\n",
       "      <th>CV ignoring hard targets w rounding</th>\n",
       "      <td>0.457817</td>\n",
       "    </tr>\n",
       "    <tr>\n",
       "      <th>CV unique rows ignoring hard targets w rounding</th>\n",
       "      <td>0.424940</td>\n",
       "    </tr>\n",
       "  </tbody>\n",
       "</table>\n",
       "</div>"
      ],
      "text/plain": [
       "                                                 SpearmanR\n",
       "CV                                                0.412164\n",
       "CV unique rows                                    0.376564\n",
       "CV ignoring hard targets                          0.431877\n",
       "CV unique rows ignoring hard targets              0.393583\n",
       "CV w rounding                                     0.448360\n",
       "CV unique rows w rounding                         0.424449\n",
       "CV ignoring hard targets w rounding               0.457817\n",
       "CV unique rows ignoring hard targets w rounding   0.424940"
      ]
     },
     "execution_count": 19,
     "metadata": {},
     "output_type": "execute_result"
    }
   ],
   "source": [
    "get_cvs(oofs_alt, y, ix)"
   ]
  },
  {
   "cell_type": "code",
   "execution_count": 20,
   "metadata": {},
   "outputs": [],
   "source": [
    "# clipping is necessary or we will get an error\n",
    "sample_submission.loc[:, 'question_asker_intent_understanding':] = np.clip(preds, 0.00001, 0.999999)\n",
    "sample_submission.to_csv('subs/submission.csv', index=False)"
   ]
  },
  {
   "cell_type": "code",
   "execution_count": 21,
   "metadata": {
    "scrolled": false
   },
   "outputs": [
    {
     "data": {
      "text/html": [
       "<div>\n",
       "<style scoped>\n",
       "    .dataframe tbody tr th:only-of-type {\n",
       "        vertical-align: middle;\n",
       "    }\n",
       "\n",
       "    .dataframe tbody tr th {\n",
       "        vertical-align: top;\n",
       "    }\n",
       "\n",
       "    .dataframe thead th {\n",
       "        text-align: right;\n",
       "    }\n",
       "</style>\n",
       "<table border=\"1\" class=\"dataframe\">\n",
       "  <thead>\n",
       "    <tr style=\"text-align: right;\">\n",
       "      <th></th>\n",
       "      <th>qa_id</th>\n",
       "      <th>question_asker_intent_understanding</th>\n",
       "      <th>question_body_critical</th>\n",
       "      <th>question_conversational</th>\n",
       "      <th>question_expect_short_answer</th>\n",
       "      <th>question_fact_seeking</th>\n",
       "      <th>question_has_commonly_accepted_answer</th>\n",
       "      <th>question_interestingness_others</th>\n",
       "      <th>question_interestingness_self</th>\n",
       "      <th>question_multi_intent</th>\n",
       "      <th>question_not_really_a_question</th>\n",
       "      <th>question_opinion_seeking</th>\n",
       "      <th>question_type_choice</th>\n",
       "      <th>question_type_compare</th>\n",
       "      <th>question_type_consequence</th>\n",
       "      <th>question_type_definition</th>\n",
       "      <th>question_type_entity</th>\n",
       "      <th>question_type_instructions</th>\n",
       "      <th>question_type_procedure</th>\n",
       "      <th>question_type_reason_explanation</th>\n",
       "      <th>question_type_spelling</th>\n",
       "      <th>question_well_written</th>\n",
       "      <th>answer_helpful</th>\n",
       "      <th>answer_level_of_information</th>\n",
       "      <th>answer_plausible</th>\n",
       "      <th>answer_relevance</th>\n",
       "      <th>answer_satisfaction</th>\n",
       "      <th>answer_type_instructions</th>\n",
       "      <th>answer_type_procedure</th>\n",
       "      <th>answer_type_reason_explanation</th>\n",
       "      <th>answer_well_written</th>\n",
       "    </tr>\n",
       "  </thead>\n",
       "  <tbody>\n",
       "    <tr>\n",
       "      <th>0</th>\n",
       "      <td>39</td>\n",
       "      <td>0.808580</td>\n",
       "      <td>0.583599</td>\n",
       "      <td>0.362395</td>\n",
       "      <td>0.383287</td>\n",
       "      <td>0.521051</td>\n",
       "      <td>0.362045</td>\n",
       "      <td>0.694242</td>\n",
       "      <td>0.687777</td>\n",
       "      <td>0.735224</td>\n",
       "      <td>0.006074</td>\n",
       "      <td>0.724708</td>\n",
       "      <td>0.790745</td>\n",
       "      <td>0.027378</td>\n",
       "      <td>0.492768</td>\n",
       "      <td>0.006937</td>\n",
       "      <td>0.018329</td>\n",
       "      <td>0.086784</td>\n",
       "      <td>0.154914</td>\n",
       "      <td>0.748038</td>\n",
       "      <td>0.000931</td>\n",
       "      <td>0.812342</td>\n",
       "      <td>0.572711</td>\n",
       "      <td>0.195216</td>\n",
       "      <td>0.737287</td>\n",
       "      <td>0.721699</td>\n",
       "      <td>0.298146</td>\n",
       "      <td>0.023456</td>\n",
       "      <td>0.033977</td>\n",
       "      <td>0.781216</td>\n",
       "      <td>0.600721</td>\n",
       "    </tr>\n",
       "    <tr>\n",
       "      <th>1</th>\n",
       "      <td>46</td>\n",
       "      <td>0.456023</td>\n",
       "      <td>0.299642</td>\n",
       "      <td>0.009578</td>\n",
       "      <td>0.675308</td>\n",
       "      <td>0.624001</td>\n",
       "      <td>0.868014</td>\n",
       "      <td>0.441016</td>\n",
       "      <td>0.368768</td>\n",
       "      <td>0.043627</td>\n",
       "      <td>0.022454</td>\n",
       "      <td>0.476660</td>\n",
       "      <td>0.226485</td>\n",
       "      <td>0.004099</td>\n",
       "      <td>0.000563</td>\n",
       "      <td>0.000880</td>\n",
       "      <td>0.014381</td>\n",
       "      <td>0.892771</td>\n",
       "      <td>0.301052</td>\n",
       "      <td>0.079673</td>\n",
       "      <td>0.000152</td>\n",
       "      <td>0.218028</td>\n",
       "      <td>0.765895</td>\n",
       "      <td>0.482542</td>\n",
       "      <td>0.854822</td>\n",
       "      <td>0.925354</td>\n",
       "      <td>0.591476</td>\n",
       "      <td>0.945930</td>\n",
       "      <td>0.200169</td>\n",
       "      <td>0.040043</td>\n",
       "      <td>0.603362</td>\n",
       "    </tr>\n",
       "    <tr>\n",
       "      <th>2</th>\n",
       "      <td>70</td>\n",
       "      <td>0.670896</td>\n",
       "      <td>0.466455</td>\n",
       "      <td>0.034795</td>\n",
       "      <td>0.629791</td>\n",
       "      <td>0.786328</td>\n",
       "      <td>0.912482</td>\n",
       "      <td>0.493761</td>\n",
       "      <td>0.395479</td>\n",
       "      <td>0.337278</td>\n",
       "      <td>0.006299</td>\n",
       "      <td>0.321113</td>\n",
       "      <td>0.731170</td>\n",
       "      <td>0.019520</td>\n",
       "      <td>0.063054</td>\n",
       "      <td>0.001462</td>\n",
       "      <td>0.004927</td>\n",
       "      <td>0.173878</td>\n",
       "      <td>0.152493</td>\n",
       "      <td>0.747513</td>\n",
       "      <td>0.000562</td>\n",
       "      <td>0.617581</td>\n",
       "      <td>0.670664</td>\n",
       "      <td>0.307632</td>\n",
       "      <td>0.841058</td>\n",
       "      <td>0.846334</td>\n",
       "      <td>0.478393</td>\n",
       "      <td>0.052428</td>\n",
       "      <td>0.064268</td>\n",
       "      <td>0.829682</td>\n",
       "      <td>0.575158</td>\n",
       "    </tr>\n",
       "    <tr>\n",
       "      <th>3</th>\n",
       "      <td>132</td>\n",
       "      <td>0.557485</td>\n",
       "      <td>0.163158</td>\n",
       "      <td>0.004788</td>\n",
       "      <td>0.588447</td>\n",
       "      <td>0.619403</td>\n",
       "      <td>0.870643</td>\n",
       "      <td>0.403893</td>\n",
       "      <td>0.238112</td>\n",
       "      <td>0.164307</td>\n",
       "      <td>0.010489</td>\n",
       "      <td>0.624053</td>\n",
       "      <td>0.134592</td>\n",
       "      <td>0.001574</td>\n",
       "      <td>0.002882</td>\n",
       "      <td>0.000300</td>\n",
       "      <td>0.001986</td>\n",
       "      <td>0.822883</td>\n",
       "      <td>0.311915</td>\n",
       "      <td>0.633536</td>\n",
       "      <td>0.000056</td>\n",
       "      <td>0.409646</td>\n",
       "      <td>0.803665</td>\n",
       "      <td>0.589930</td>\n",
       "      <td>0.866358</td>\n",
       "      <td>0.922982</td>\n",
       "      <td>0.640631</td>\n",
       "      <td>0.850466</td>\n",
       "      <td>0.318501</td>\n",
       "      <td>0.633043</td>\n",
       "      <td>0.679896</td>\n",
       "    </tr>\n",
       "    <tr>\n",
       "      <th>4</th>\n",
       "      <td>200</td>\n",
       "      <td>0.795993</td>\n",
       "      <td>0.273361</td>\n",
       "      <td>0.045045</td>\n",
       "      <td>0.806443</td>\n",
       "      <td>0.722069</td>\n",
       "      <td>0.877982</td>\n",
       "      <td>0.677872</td>\n",
       "      <td>0.690980</td>\n",
       "      <td>0.183511</td>\n",
       "      <td>0.041364</td>\n",
       "      <td>0.338451</td>\n",
       "      <td>0.538764</td>\n",
       "      <td>0.007480</td>\n",
       "      <td>0.020691</td>\n",
       "      <td>0.010072</td>\n",
       "      <td>0.073458</td>\n",
       "      <td>0.194708</td>\n",
       "      <td>0.189179</td>\n",
       "      <td>0.573878</td>\n",
       "      <td>0.005581</td>\n",
       "      <td>0.340505</td>\n",
       "      <td>0.738455</td>\n",
       "      <td>0.547527</td>\n",
       "      <td>0.867582</td>\n",
       "      <td>0.869896</td>\n",
       "      <td>0.629623</td>\n",
       "      <td>0.246558</td>\n",
       "      <td>0.217339</td>\n",
       "      <td>0.695775</td>\n",
       "      <td>0.605274</td>\n",
       "    </tr>\n",
       "  </tbody>\n",
       "</table>\n",
       "</div>"
      ],
      "text/plain": [
       "   qa_id  question_asker_intent_understanding  question_body_critical  \\\n",
       "0     39                             0.808580                0.583599   \n",
       "1     46                             0.456023                0.299642   \n",
       "2     70                             0.670896                0.466455   \n",
       "3    132                             0.557485                0.163158   \n",
       "4    200                             0.795993                0.273361   \n",
       "\n",
       "   question_conversational  question_expect_short_answer  \\\n",
       "0                 0.362395                      0.383287   \n",
       "1                 0.009578                      0.675308   \n",
       "2                 0.034795                      0.629791   \n",
       "3                 0.004788                      0.588447   \n",
       "4                 0.045045                      0.806443   \n",
       "\n",
       "   question_fact_seeking  question_has_commonly_accepted_answer  \\\n",
       "0               0.521051                               0.362045   \n",
       "1               0.624001                               0.868014   \n",
       "2               0.786328                               0.912482   \n",
       "3               0.619403                               0.870643   \n",
       "4               0.722069                               0.877982   \n",
       "\n",
       "   question_interestingness_others  question_interestingness_self  \\\n",
       "0                         0.694242                       0.687777   \n",
       "1                         0.441016                       0.368768   \n",
       "2                         0.493761                       0.395479   \n",
       "3                         0.403893                       0.238112   \n",
       "4                         0.677872                       0.690980   \n",
       "\n",
       "   question_multi_intent  question_not_really_a_question  \\\n",
       "0               0.735224                        0.006074   \n",
       "1               0.043627                        0.022454   \n",
       "2               0.337278                        0.006299   \n",
       "3               0.164307                        0.010489   \n",
       "4               0.183511                        0.041364   \n",
       "\n",
       "   question_opinion_seeking  question_type_choice  question_type_compare  \\\n",
       "0                  0.724708              0.790745               0.027378   \n",
       "1                  0.476660              0.226485               0.004099   \n",
       "2                  0.321113              0.731170               0.019520   \n",
       "3                  0.624053              0.134592               0.001574   \n",
       "4                  0.338451              0.538764               0.007480   \n",
       "\n",
       "   question_type_consequence  question_type_definition  question_type_entity  \\\n",
       "0                   0.492768                  0.006937              0.018329   \n",
       "1                   0.000563                  0.000880              0.014381   \n",
       "2                   0.063054                  0.001462              0.004927   \n",
       "3                   0.002882                  0.000300              0.001986   \n",
       "4                   0.020691                  0.010072              0.073458   \n",
       "\n",
       "   question_type_instructions  question_type_procedure  \\\n",
       "0                    0.086784                 0.154914   \n",
       "1                    0.892771                 0.301052   \n",
       "2                    0.173878                 0.152493   \n",
       "3                    0.822883                 0.311915   \n",
       "4                    0.194708                 0.189179   \n",
       "\n",
       "   question_type_reason_explanation  question_type_spelling  \\\n",
       "0                          0.748038                0.000931   \n",
       "1                          0.079673                0.000152   \n",
       "2                          0.747513                0.000562   \n",
       "3                          0.633536                0.000056   \n",
       "4                          0.573878                0.005581   \n",
       "\n",
       "   question_well_written  answer_helpful  answer_level_of_information  \\\n",
       "0               0.812342        0.572711                     0.195216   \n",
       "1               0.218028        0.765895                     0.482542   \n",
       "2               0.617581        0.670664                     0.307632   \n",
       "3               0.409646        0.803665                     0.589930   \n",
       "4               0.340505        0.738455                     0.547527   \n",
       "\n",
       "   answer_plausible  answer_relevance  answer_satisfaction  \\\n",
       "0          0.737287          0.721699             0.298146   \n",
       "1          0.854822          0.925354             0.591476   \n",
       "2          0.841058          0.846334             0.478393   \n",
       "3          0.866358          0.922982             0.640631   \n",
       "4          0.867582          0.869896             0.629623   \n",
       "\n",
       "   answer_type_instructions  answer_type_procedure  \\\n",
       "0                  0.023456               0.033977   \n",
       "1                  0.945930               0.200169   \n",
       "2                  0.052428               0.064268   \n",
       "3                  0.850466               0.318501   \n",
       "4                  0.246558               0.217339   \n",
       "\n",
       "   answer_type_reason_explanation  answer_well_written  \n",
       "0                        0.781216             0.600721  \n",
       "1                        0.040043             0.603362  \n",
       "2                        0.829682             0.575158  \n",
       "3                        0.633043             0.679896  \n",
       "4                        0.695775             0.605274  "
      ]
     },
     "execution_count": 21,
     "metadata": {},
     "output_type": "execute_result"
    }
   ],
   "source": [
    "sample_submission.head()"
   ]
  },
  {
   "cell_type": "code",
   "execution_count": 22,
   "metadata": {},
   "outputs": [],
   "source": [
    "pd.DataFrame(oofs, columns=TARGETS).to_csv(f'oofs/{model_name}_oofs.csv')"
   ]
  },
  {
   "cell_type": "code",
   "execution_count": 23,
   "metadata": {},
   "outputs": [
    {
     "data": {
      "text/html": [
       "<div>\n",
       "<style scoped>\n",
       "    .dataframe tbody tr th:only-of-type {\n",
       "        vertical-align: middle;\n",
       "    }\n",
       "\n",
       "    .dataframe tbody tr th {\n",
       "        vertical-align: top;\n",
       "    }\n",
       "\n",
       "    .dataframe thead th {\n",
       "        text-align: right;\n",
       "    }\n",
       "</style>\n",
       "<table border=\"1\" class=\"dataframe\">\n",
       "  <thead>\n",
       "    <tr style=\"text-align: right;\">\n",
       "      <th></th>\n",
       "      <th>question_asker_intent_understanding</th>\n",
       "      <th>question_body_critical</th>\n",
       "      <th>question_conversational</th>\n",
       "      <th>question_expect_short_answer</th>\n",
       "      <th>question_fact_seeking</th>\n",
       "      <th>question_has_commonly_accepted_answer</th>\n",
       "      <th>question_interestingness_others</th>\n",
       "      <th>question_interestingness_self</th>\n",
       "      <th>question_multi_intent</th>\n",
       "      <th>question_not_really_a_question</th>\n",
       "      <th>question_opinion_seeking</th>\n",
       "      <th>question_type_choice</th>\n",
       "      <th>question_type_compare</th>\n",
       "      <th>question_type_consequence</th>\n",
       "      <th>question_type_definition</th>\n",
       "      <th>question_type_entity</th>\n",
       "      <th>question_type_instructions</th>\n",
       "      <th>question_type_procedure</th>\n",
       "      <th>question_type_reason_explanation</th>\n",
       "      <th>question_type_spelling</th>\n",
       "      <th>question_well_written</th>\n",
       "      <th>answer_helpful</th>\n",
       "      <th>answer_level_of_information</th>\n",
       "      <th>answer_plausible</th>\n",
       "      <th>answer_relevance</th>\n",
       "      <th>answer_satisfaction</th>\n",
       "      <th>answer_type_instructions</th>\n",
       "      <th>answer_type_procedure</th>\n",
       "      <th>answer_type_reason_explanation</th>\n",
       "      <th>answer_well_written</th>\n",
       "    </tr>\n",
       "  </thead>\n",
       "  <tbody>\n",
       "    <tr>\n",
       "      <th>0</th>\n",
       "      <td>0.776514</td>\n",
       "      <td>0.638684</td>\n",
       "      <td>0.205363</td>\n",
       "      <td>0.543418</td>\n",
       "      <td>0.641185</td>\n",
       "      <td>0.463274</td>\n",
       "      <td>0.557551</td>\n",
       "      <td>0.459962</td>\n",
       "      <td>0.533996</td>\n",
       "      <td>0.007765</td>\n",
       "      <td>0.639470</td>\n",
       "      <td>0.398670</td>\n",
       "      <td>0.521216</td>\n",
       "      <td>0.133321</td>\n",
       "      <td>0.032711</td>\n",
       "      <td>0.315803</td>\n",
       "      <td>0.262029</td>\n",
       "      <td>0.154368</td>\n",
       "      <td>0.588956</td>\n",
       "      <td>0.007397</td>\n",
       "      <td>0.786293</td>\n",
       "      <td>0.884046</td>\n",
       "      <td>0.550277</td>\n",
       "      <td>0.945091</td>\n",
       "      <td>0.913361</td>\n",
       "      <td>0.693225</td>\n",
       "      <td>0.077400</td>\n",
       "      <td>0.105630</td>\n",
       "      <td>0.924383</td>\n",
       "      <td>0.776230</td>\n",
       "    </tr>\n",
       "    <tr>\n",
       "      <th>1</th>\n",
       "      <td>0.817195</td>\n",
       "      <td>0.695503</td>\n",
       "      <td>0.037557</td>\n",
       "      <td>0.555438</td>\n",
       "      <td>0.891216</td>\n",
       "      <td>0.725627</td>\n",
       "      <td>0.433127</td>\n",
       "      <td>0.428433</td>\n",
       "      <td>0.289849</td>\n",
       "      <td>0.000790</td>\n",
       "      <td>0.278260</td>\n",
       "      <td>0.112336</td>\n",
       "      <td>0.808995</td>\n",
       "      <td>0.006590</td>\n",
       "      <td>0.411902</td>\n",
       "      <td>0.044204</td>\n",
       "      <td>0.069939</td>\n",
       "      <td>0.052567</td>\n",
       "      <td>0.406523</td>\n",
       "      <td>0.003490</td>\n",
       "      <td>0.720603</td>\n",
       "      <td>0.574065</td>\n",
       "      <td>0.296919</td>\n",
       "      <td>0.737331</td>\n",
       "      <td>0.798025</td>\n",
       "      <td>0.389211</td>\n",
       "      <td>0.046288</td>\n",
       "      <td>0.039220</td>\n",
       "      <td>0.549725</td>\n",
       "      <td>0.733800</td>\n",
       "    </tr>\n",
       "    <tr>\n",
       "      <th>2</th>\n",
       "      <td>0.610664</td>\n",
       "      <td>0.206144</td>\n",
       "      <td>0.007530</td>\n",
       "      <td>0.771910</td>\n",
       "      <td>0.775550</td>\n",
       "      <td>0.837816</td>\n",
       "      <td>0.536002</td>\n",
       "      <td>0.314145</td>\n",
       "      <td>0.164616</td>\n",
       "      <td>0.001968</td>\n",
       "      <td>0.400549</td>\n",
       "      <td>0.449589</td>\n",
       "      <td>0.009475</td>\n",
       "      <td>0.003485</td>\n",
       "      <td>0.001137</td>\n",
       "      <td>0.351928</td>\n",
       "      <td>0.598877</td>\n",
       "      <td>0.217655</td>\n",
       "      <td>0.157699</td>\n",
       "      <td>0.000123</td>\n",
       "      <td>0.527223</td>\n",
       "      <td>0.824869</td>\n",
       "      <td>0.552532</td>\n",
       "      <td>0.895380</td>\n",
       "      <td>0.866154</td>\n",
       "      <td>0.636514</td>\n",
       "      <td>0.600450</td>\n",
       "      <td>0.237285</td>\n",
       "      <td>0.512111</td>\n",
       "      <td>0.716821</td>\n",
       "    </tr>\n",
       "    <tr>\n",
       "      <th>3</th>\n",
       "      <td>0.739213</td>\n",
       "      <td>0.680956</td>\n",
       "      <td>0.250312</td>\n",
       "      <td>0.665741</td>\n",
       "      <td>0.749041</td>\n",
       "      <td>0.744929</td>\n",
       "      <td>0.579883</td>\n",
       "      <td>0.680845</td>\n",
       "      <td>0.213717</td>\n",
       "      <td>0.001617</td>\n",
       "      <td>0.328556</td>\n",
       "      <td>0.941099</td>\n",
       "      <td>0.012400</td>\n",
       "      <td>0.007151</td>\n",
       "      <td>0.020037</td>\n",
       "      <td>0.021251</td>\n",
       "      <td>0.028896</td>\n",
       "      <td>0.256263</td>\n",
       "      <td>0.496428</td>\n",
       "      <td>0.001198</td>\n",
       "      <td>0.866935</td>\n",
       "      <td>0.763468</td>\n",
       "      <td>0.724504</td>\n",
       "      <td>0.753024</td>\n",
       "      <td>0.872493</td>\n",
       "      <td>0.634451</td>\n",
       "      <td>0.054420</td>\n",
       "      <td>0.320898</td>\n",
       "      <td>0.853926</td>\n",
       "      <td>0.771967</td>\n",
       "    </tr>\n",
       "    <tr>\n",
       "      <th>4</th>\n",
       "      <td>0.827635</td>\n",
       "      <td>0.755168</td>\n",
       "      <td>0.004801</td>\n",
       "      <td>0.714636</td>\n",
       "      <td>0.819532</td>\n",
       "      <td>0.934122</td>\n",
       "      <td>0.501714</td>\n",
       "      <td>0.457549</td>\n",
       "      <td>0.162710</td>\n",
       "      <td>0.003723</td>\n",
       "      <td>0.241342</td>\n",
       "      <td>0.633404</td>\n",
       "      <td>0.001838</td>\n",
       "      <td>0.001803</td>\n",
       "      <td>0.002310</td>\n",
       "      <td>0.011146</td>\n",
       "      <td>0.801228</td>\n",
       "      <td>0.288482</td>\n",
       "      <td>0.144771</td>\n",
       "      <td>0.000312</td>\n",
       "      <td>0.791217</td>\n",
       "      <td>0.764510</td>\n",
       "      <td>0.435786</td>\n",
       "      <td>0.864558</td>\n",
       "      <td>0.928772</td>\n",
       "      <td>0.613620</td>\n",
       "      <td>0.908198</td>\n",
       "      <td>0.226460</td>\n",
       "      <td>0.043730</td>\n",
       "      <td>0.571053</td>\n",
       "    </tr>\n",
       "    <tr>\n",
       "      <th>...</th>\n",
       "      <td>...</td>\n",
       "      <td>...</td>\n",
       "      <td>...</td>\n",
       "      <td>...</td>\n",
       "      <td>...</td>\n",
       "      <td>...</td>\n",
       "      <td>...</td>\n",
       "      <td>...</td>\n",
       "      <td>...</td>\n",
       "      <td>...</td>\n",
       "      <td>...</td>\n",
       "      <td>...</td>\n",
       "      <td>...</td>\n",
       "      <td>...</td>\n",
       "      <td>...</td>\n",
       "      <td>...</td>\n",
       "      <td>...</td>\n",
       "      <td>...</td>\n",
       "      <td>...</td>\n",
       "      <td>...</td>\n",
       "      <td>...</td>\n",
       "      <td>...</td>\n",
       "      <td>...</td>\n",
       "      <td>...</td>\n",
       "      <td>...</td>\n",
       "      <td>...</td>\n",
       "      <td>...</td>\n",
       "      <td>...</td>\n",
       "      <td>...</td>\n",
       "      <td>...</td>\n",
       "    </tr>\n",
       "    <tr>\n",
       "      <th>6074</th>\n",
       "      <td>0.848138</td>\n",
       "      <td>0.357959</td>\n",
       "      <td>0.163183</td>\n",
       "      <td>0.848373</td>\n",
       "      <td>0.767407</td>\n",
       "      <td>0.629470</td>\n",
       "      <td>0.719903</td>\n",
       "      <td>0.686256</td>\n",
       "      <td>0.553211</td>\n",
       "      <td>0.004618</td>\n",
       "      <td>0.432696</td>\n",
       "      <td>0.925553</td>\n",
       "      <td>0.286473</td>\n",
       "      <td>0.192307</td>\n",
       "      <td>0.021524</td>\n",
       "      <td>0.255812</td>\n",
       "      <td>0.012293</td>\n",
       "      <td>0.030834</td>\n",
       "      <td>0.582706</td>\n",
       "      <td>0.004086</td>\n",
       "      <td>0.674092</td>\n",
       "      <td>0.818965</td>\n",
       "      <td>0.696870</td>\n",
       "      <td>0.916564</td>\n",
       "      <td>0.881980</td>\n",
       "      <td>0.690367</td>\n",
       "      <td>0.046346</td>\n",
       "      <td>0.061279</td>\n",
       "      <td>0.870905</td>\n",
       "      <td>0.739456</td>\n",
       "    </tr>\n",
       "    <tr>\n",
       "      <th>6075</th>\n",
       "      <td>0.920095</td>\n",
       "      <td>0.468910</td>\n",
       "      <td>0.163655</td>\n",
       "      <td>0.592925</td>\n",
       "      <td>0.386638</td>\n",
       "      <td>0.228628</td>\n",
       "      <td>0.814389</td>\n",
       "      <td>0.834916</td>\n",
       "      <td>0.029572</td>\n",
       "      <td>0.004834</td>\n",
       "      <td>0.831802</td>\n",
       "      <td>0.005917</td>\n",
       "      <td>0.004054</td>\n",
       "      <td>0.008309</td>\n",
       "      <td>0.000071</td>\n",
       "      <td>0.004362</td>\n",
       "      <td>0.805050</td>\n",
       "      <td>0.330353</td>\n",
       "      <td>0.139699</td>\n",
       "      <td>0.000086</td>\n",
       "      <td>0.852910</td>\n",
       "      <td>0.856143</td>\n",
       "      <td>0.618279</td>\n",
       "      <td>0.923892</td>\n",
       "      <td>0.945714</td>\n",
       "      <td>0.664771</td>\n",
       "      <td>0.799542</td>\n",
       "      <td>0.266642</td>\n",
       "      <td>0.351353</td>\n",
       "      <td>0.911758</td>\n",
       "    </tr>\n",
       "    <tr>\n",
       "      <th>6076</th>\n",
       "      <td>0.574735</td>\n",
       "      <td>0.254776</td>\n",
       "      <td>0.001157</td>\n",
       "      <td>0.667494</td>\n",
       "      <td>0.806260</td>\n",
       "      <td>0.929932</td>\n",
       "      <td>0.364631</td>\n",
       "      <td>0.238945</td>\n",
       "      <td>0.130772</td>\n",
       "      <td>0.000546</td>\n",
       "      <td>0.426871</td>\n",
       "      <td>0.299043</td>\n",
       "      <td>0.000213</td>\n",
       "      <td>0.000108</td>\n",
       "      <td>0.000072</td>\n",
       "      <td>0.000518</td>\n",
       "      <td>0.870004</td>\n",
       "      <td>0.273482</td>\n",
       "      <td>0.217370</td>\n",
       "      <td>0.000003</td>\n",
       "      <td>0.425913</td>\n",
       "      <td>0.627855</td>\n",
       "      <td>0.346584</td>\n",
       "      <td>0.782952</td>\n",
       "      <td>0.833932</td>\n",
       "      <td>0.405382</td>\n",
       "      <td>0.696339</td>\n",
       "      <td>0.122949</td>\n",
       "      <td>0.392619</td>\n",
       "      <td>0.370232</td>\n",
       "    </tr>\n",
       "    <tr>\n",
       "      <th>6077</th>\n",
       "      <td>0.786911</td>\n",
       "      <td>0.530934</td>\n",
       "      <td>0.754554</td>\n",
       "      <td>0.175194</td>\n",
       "      <td>0.219406</td>\n",
       "      <td>0.103133</td>\n",
       "      <td>0.634824</td>\n",
       "      <td>0.731071</td>\n",
       "      <td>0.898176</td>\n",
       "      <td>0.001403</td>\n",
       "      <td>0.934347</td>\n",
       "      <td>0.615929</td>\n",
       "      <td>0.168752</td>\n",
       "      <td>0.135714</td>\n",
       "      <td>0.003068</td>\n",
       "      <td>0.035250</td>\n",
       "      <td>0.042386</td>\n",
       "      <td>0.308300</td>\n",
       "      <td>0.802750</td>\n",
       "      <td>0.000110</td>\n",
       "      <td>0.897099</td>\n",
       "      <td>0.661655</td>\n",
       "      <td>0.387282</td>\n",
       "      <td>0.828806</td>\n",
       "      <td>0.855707</td>\n",
       "      <td>0.404984</td>\n",
       "      <td>0.016544</td>\n",
       "      <td>0.126039</td>\n",
       "      <td>0.876275</td>\n",
       "      <td>0.846839</td>\n",
       "    </tr>\n",
       "    <tr>\n",
       "      <th>6078</th>\n",
       "      <td>0.763846</td>\n",
       "      <td>0.730530</td>\n",
       "      <td>0.162519</td>\n",
       "      <td>0.182363</td>\n",
       "      <td>0.860427</td>\n",
       "      <td>0.386594</td>\n",
       "      <td>0.632128</td>\n",
       "      <td>0.446879</td>\n",
       "      <td>0.705713</td>\n",
       "      <td>0.000133</td>\n",
       "      <td>0.436180</td>\n",
       "      <td>0.068759</td>\n",
       "      <td>0.893168</td>\n",
       "      <td>0.012808</td>\n",
       "      <td>0.008218</td>\n",
       "      <td>0.040328</td>\n",
       "      <td>0.003159</td>\n",
       "      <td>0.005653</td>\n",
       "      <td>0.967311</td>\n",
       "      <td>0.000017</td>\n",
       "      <td>0.728585</td>\n",
       "      <td>0.778335</td>\n",
       "      <td>0.498265</td>\n",
       "      <td>0.838789</td>\n",
       "      <td>0.860123</td>\n",
       "      <td>0.511787</td>\n",
       "      <td>0.016150</td>\n",
       "      <td>0.018370</td>\n",
       "      <td>0.956865</td>\n",
       "      <td>0.707037</td>\n",
       "    </tr>\n",
       "  </tbody>\n",
       "</table>\n",
       "<p>6079 rows × 30 columns</p>\n",
       "</div>"
      ],
      "text/plain": [
       "      question_asker_intent_understanding  question_body_critical  \\\n",
       "0                                0.776514                0.638684   \n",
       "1                                0.817195                0.695503   \n",
       "2                                0.610664                0.206144   \n",
       "3                                0.739213                0.680956   \n",
       "4                                0.827635                0.755168   \n",
       "...                                   ...                     ...   \n",
       "6074                             0.848138                0.357959   \n",
       "6075                             0.920095                0.468910   \n",
       "6076                             0.574735                0.254776   \n",
       "6077                             0.786911                0.530934   \n",
       "6078                             0.763846                0.730530   \n",
       "\n",
       "      question_conversational  question_expect_short_answer  \\\n",
       "0                    0.205363                      0.543418   \n",
       "1                    0.037557                      0.555438   \n",
       "2                    0.007530                      0.771910   \n",
       "3                    0.250312                      0.665741   \n",
       "4                    0.004801                      0.714636   \n",
       "...                       ...                           ...   \n",
       "6074                 0.163183                      0.848373   \n",
       "6075                 0.163655                      0.592925   \n",
       "6076                 0.001157                      0.667494   \n",
       "6077                 0.754554                      0.175194   \n",
       "6078                 0.162519                      0.182363   \n",
       "\n",
       "      question_fact_seeking  question_has_commonly_accepted_answer  \\\n",
       "0                  0.641185                               0.463274   \n",
       "1                  0.891216                               0.725627   \n",
       "2                  0.775550                               0.837816   \n",
       "3                  0.749041                               0.744929   \n",
       "4                  0.819532                               0.934122   \n",
       "...                     ...                                    ...   \n",
       "6074               0.767407                               0.629470   \n",
       "6075               0.386638                               0.228628   \n",
       "6076               0.806260                               0.929932   \n",
       "6077               0.219406                               0.103133   \n",
       "6078               0.860427                               0.386594   \n",
       "\n",
       "      question_interestingness_others  question_interestingness_self  \\\n",
       "0                            0.557551                       0.459962   \n",
       "1                            0.433127                       0.428433   \n",
       "2                            0.536002                       0.314145   \n",
       "3                            0.579883                       0.680845   \n",
       "4                            0.501714                       0.457549   \n",
       "...                               ...                            ...   \n",
       "6074                         0.719903                       0.686256   \n",
       "6075                         0.814389                       0.834916   \n",
       "6076                         0.364631                       0.238945   \n",
       "6077                         0.634824                       0.731071   \n",
       "6078                         0.632128                       0.446879   \n",
       "\n",
       "      question_multi_intent  question_not_really_a_question  \\\n",
       "0                  0.533996                        0.007765   \n",
       "1                  0.289849                        0.000790   \n",
       "2                  0.164616                        0.001968   \n",
       "3                  0.213717                        0.001617   \n",
       "4                  0.162710                        0.003723   \n",
       "...                     ...                             ...   \n",
       "6074               0.553211                        0.004618   \n",
       "6075               0.029572                        0.004834   \n",
       "6076               0.130772                        0.000546   \n",
       "6077               0.898176                        0.001403   \n",
       "6078               0.705713                        0.000133   \n",
       "\n",
       "      question_opinion_seeking  question_type_choice  question_type_compare  \\\n",
       "0                     0.639470              0.398670               0.521216   \n",
       "1                     0.278260              0.112336               0.808995   \n",
       "2                     0.400549              0.449589               0.009475   \n",
       "3                     0.328556              0.941099               0.012400   \n",
       "4                     0.241342              0.633404               0.001838   \n",
       "...                        ...                   ...                    ...   \n",
       "6074                  0.432696              0.925553               0.286473   \n",
       "6075                  0.831802              0.005917               0.004054   \n",
       "6076                  0.426871              0.299043               0.000213   \n",
       "6077                  0.934347              0.615929               0.168752   \n",
       "6078                  0.436180              0.068759               0.893168   \n",
       "\n",
       "      question_type_consequence  question_type_definition  \\\n",
       "0                      0.133321                  0.032711   \n",
       "1                      0.006590                  0.411902   \n",
       "2                      0.003485                  0.001137   \n",
       "3                      0.007151                  0.020037   \n",
       "4                      0.001803                  0.002310   \n",
       "...                         ...                       ...   \n",
       "6074                   0.192307                  0.021524   \n",
       "6075                   0.008309                  0.000071   \n",
       "6076                   0.000108                  0.000072   \n",
       "6077                   0.135714                  0.003068   \n",
       "6078                   0.012808                  0.008218   \n",
       "\n",
       "      question_type_entity  question_type_instructions  \\\n",
       "0                 0.315803                    0.262029   \n",
       "1                 0.044204                    0.069939   \n",
       "2                 0.351928                    0.598877   \n",
       "3                 0.021251                    0.028896   \n",
       "4                 0.011146                    0.801228   \n",
       "...                    ...                         ...   \n",
       "6074              0.255812                    0.012293   \n",
       "6075              0.004362                    0.805050   \n",
       "6076              0.000518                    0.870004   \n",
       "6077              0.035250                    0.042386   \n",
       "6078              0.040328                    0.003159   \n",
       "\n",
       "      question_type_procedure  question_type_reason_explanation  \\\n",
       "0                    0.154368                          0.588956   \n",
       "1                    0.052567                          0.406523   \n",
       "2                    0.217655                          0.157699   \n",
       "3                    0.256263                          0.496428   \n",
       "4                    0.288482                          0.144771   \n",
       "...                       ...                               ...   \n",
       "6074                 0.030834                          0.582706   \n",
       "6075                 0.330353                          0.139699   \n",
       "6076                 0.273482                          0.217370   \n",
       "6077                 0.308300                          0.802750   \n",
       "6078                 0.005653                          0.967311   \n",
       "\n",
       "      question_type_spelling  question_well_written  answer_helpful  \\\n",
       "0                   0.007397               0.786293        0.884046   \n",
       "1                   0.003490               0.720603        0.574065   \n",
       "2                   0.000123               0.527223        0.824869   \n",
       "3                   0.001198               0.866935        0.763468   \n",
       "4                   0.000312               0.791217        0.764510   \n",
       "...                      ...                    ...             ...   \n",
       "6074                0.004086               0.674092        0.818965   \n",
       "6075                0.000086               0.852910        0.856143   \n",
       "6076                0.000003               0.425913        0.627855   \n",
       "6077                0.000110               0.897099        0.661655   \n",
       "6078                0.000017               0.728585        0.778335   \n",
       "\n",
       "      answer_level_of_information  answer_plausible  answer_relevance  \\\n",
       "0                        0.550277          0.945091          0.913361   \n",
       "1                        0.296919          0.737331          0.798025   \n",
       "2                        0.552532          0.895380          0.866154   \n",
       "3                        0.724504          0.753024          0.872493   \n",
       "4                        0.435786          0.864558          0.928772   \n",
       "...                           ...               ...               ...   \n",
       "6074                     0.696870          0.916564          0.881980   \n",
       "6075                     0.618279          0.923892          0.945714   \n",
       "6076                     0.346584          0.782952          0.833932   \n",
       "6077                     0.387282          0.828806          0.855707   \n",
       "6078                     0.498265          0.838789          0.860123   \n",
       "\n",
       "      answer_satisfaction  answer_type_instructions  answer_type_procedure  \\\n",
       "0                0.693225                  0.077400               0.105630   \n",
       "1                0.389211                  0.046288               0.039220   \n",
       "2                0.636514                  0.600450               0.237285   \n",
       "3                0.634451                  0.054420               0.320898   \n",
       "4                0.613620                  0.908198               0.226460   \n",
       "...                   ...                       ...                    ...   \n",
       "6074             0.690367                  0.046346               0.061279   \n",
       "6075             0.664771                  0.799542               0.266642   \n",
       "6076             0.405382                  0.696339               0.122949   \n",
       "6077             0.404984                  0.016544               0.126039   \n",
       "6078             0.511787                  0.016150               0.018370   \n",
       "\n",
       "      answer_type_reason_explanation  answer_well_written  \n",
       "0                           0.924383             0.776230  \n",
       "1                           0.549725             0.733800  \n",
       "2                           0.512111             0.716821  \n",
       "3                           0.853926             0.771967  \n",
       "4                           0.043730             0.571053  \n",
       "...                              ...                  ...  \n",
       "6074                        0.870905             0.739456  \n",
       "6075                        0.351353             0.911758  \n",
       "6076                        0.392619             0.370232  \n",
       "6077                        0.876275             0.846839  \n",
       "6078                        0.956865             0.707037  \n",
       "\n",
       "[6079 rows x 30 columns]"
      ]
     },
     "execution_count": 23,
     "metadata": {},
     "output_type": "execute_result"
    }
   ],
   "source": [
    "pd.DataFrame(oofs, columns=TARGETS)"
   ]
  },
  {
   "cell_type": "code",
   "execution_count": 24,
   "metadata": {},
   "outputs": [
    {
     "data": {
      "text/plain": [
       "question_asker_intent_understanding      0.380072\n",
       "question_body_critical                   0.659306\n",
       "question_conversational                  0.412824\n",
       "question_expect_short_answer             0.303294\n",
       "question_fact_seeking                    0.358721\n",
       "question_has_commonly_accepted_answer    0.433464\n",
       "question_interestingness_others          0.355923\n",
       "question_interestingness_self            0.508894\n",
       "question_multi_intent                    0.577918\n",
       "question_not_really_a_question           0.083879\n",
       "question_opinion_seeking                 0.469326\n",
       "question_type_choice                     0.737645\n",
       "question_type_compare                    0.355228\n",
       "question_type_consequence                0.176335\n",
       "question_type_definition                 0.359578\n",
       "question_type_entity                     0.444249\n",
       "question_type_instructions               0.776867\n",
       "question_type_procedure                  0.357048\n",
       "question_type_reason_explanation         0.664241\n",
       "question_type_spelling                   0.062803\n",
       "question_well_written                    0.520646\n",
       "answer_helpful                           0.228411\n",
       "answer_level_of_information              0.435092\n",
       "answer_plausible                         0.132489\n",
       "answer_relevance                         0.154258\n",
       "answer_satisfaction                      0.321970\n",
       "answer_type_instructions                 0.757448\n",
       "answer_type_procedure                    0.307116\n",
       "answer_type_reason_explanation           0.673572\n",
       "answer_well_written                      0.230623\n",
       "dtype: float64"
      ]
     },
     "execution_count": 24,
     "metadata": {},
     "output_type": "execute_result"
    }
   ],
   "source": [
    "rs = pd.Series({col: spearmanr(oofs[:,i], y[:,i])[0] for i, col in enumerate(TARGETS)})\n",
    "rs"
   ]
  },
  {
   "cell_type": "code",
   "execution_count": 25,
   "metadata": {},
   "outputs": [
    {
     "data": {
      "text/html": [
       "<div>\n",
       "<style scoped>\n",
       "    .dataframe tbody tr th:only-of-type {\n",
       "        vertical-align: middle;\n",
       "    }\n",
       "\n",
       "    .dataframe tbody tr th {\n",
       "        vertical-align: top;\n",
       "    }\n",
       "\n",
       "    .dataframe thead th {\n",
       "        text-align: right;\n",
       "    }\n",
       "</style>\n",
       "<table border=\"1\" class=\"dataframe\">\n",
       "  <thead>\n",
       "    <tr style=\"text-align: right;\">\n",
       "      <th></th>\n",
       "      <th>SpearmanCorr</th>\n",
       "      <th>NUnique</th>\n",
       "    </tr>\n",
       "  </thead>\n",
       "  <tbody>\n",
       "    <tr>\n",
       "      <th>question_type_spelling</th>\n",
       "      <td>0.062803</td>\n",
       "      <td>3.0</td>\n",
       "    </tr>\n",
       "    <tr>\n",
       "      <th>question_not_really_a_question</th>\n",
       "      <td>0.083879</td>\n",
       "      <td>5.0</td>\n",
       "    </tr>\n",
       "    <tr>\n",
       "      <th>answer_plausible</th>\n",
       "      <td>0.132489</td>\n",
       "      <td>9.0</td>\n",
       "    </tr>\n",
       "    <tr>\n",
       "      <th>answer_relevance</th>\n",
       "      <td>0.154258</td>\n",
       "      <td>9.0</td>\n",
       "    </tr>\n",
       "    <tr>\n",
       "      <th>question_type_consequence</th>\n",
       "      <td>0.176335</td>\n",
       "      <td>5.0</td>\n",
       "    </tr>\n",
       "    <tr>\n",
       "      <th>answer_helpful</th>\n",
       "      <td>0.228411</td>\n",
       "      <td>9.0</td>\n",
       "    </tr>\n",
       "    <tr>\n",
       "      <th>answer_well_written</th>\n",
       "      <td>0.230623</td>\n",
       "      <td>9.0</td>\n",
       "    </tr>\n",
       "    <tr>\n",
       "      <th>question_expect_short_answer</th>\n",
       "      <td>0.303294</td>\n",
       "      <td>5.0</td>\n",
       "    </tr>\n",
       "    <tr>\n",
       "      <th>answer_type_procedure</th>\n",
       "      <td>0.307116</td>\n",
       "      <td>5.0</td>\n",
       "    </tr>\n",
       "    <tr>\n",
       "      <th>answer_satisfaction</th>\n",
       "      <td>0.321970</td>\n",
       "      <td>17.0</td>\n",
       "    </tr>\n",
       "    <tr>\n",
       "      <th>question_type_compare</th>\n",
       "      <td>0.355228</td>\n",
       "      <td>5.0</td>\n",
       "    </tr>\n",
       "    <tr>\n",
       "      <th>question_interestingness_others</th>\n",
       "      <td>0.355923</td>\n",
       "      <td>9.0</td>\n",
       "    </tr>\n",
       "    <tr>\n",
       "      <th>question_type_procedure</th>\n",
       "      <td>0.357048</td>\n",
       "      <td>5.0</td>\n",
       "    </tr>\n",
       "    <tr>\n",
       "      <th>question_fact_seeking</th>\n",
       "      <td>0.358721</td>\n",
       "      <td>5.0</td>\n",
       "    </tr>\n",
       "    <tr>\n",
       "      <th>question_type_definition</th>\n",
       "      <td>0.359578</td>\n",
       "      <td>5.0</td>\n",
       "    </tr>\n",
       "    <tr>\n",
       "      <th>question_asker_intent_understanding</th>\n",
       "      <td>0.380072</td>\n",
       "      <td>9.0</td>\n",
       "    </tr>\n",
       "    <tr>\n",
       "      <th>question_conversational</th>\n",
       "      <td>0.412824</td>\n",
       "      <td>5.0</td>\n",
       "    </tr>\n",
       "    <tr>\n",
       "      <th>question_has_commonly_accepted_answer</th>\n",
       "      <td>0.433464</td>\n",
       "      <td>5.0</td>\n",
       "    </tr>\n",
       "    <tr>\n",
       "      <th>answer_level_of_information</th>\n",
       "      <td>0.435092</td>\n",
       "      <td>9.0</td>\n",
       "    </tr>\n",
       "    <tr>\n",
       "      <th>question_type_entity</th>\n",
       "      <td>0.444249</td>\n",
       "      <td>5.0</td>\n",
       "    </tr>\n",
       "    <tr>\n",
       "      <th>question_opinion_seeking</th>\n",
       "      <td>0.469326</td>\n",
       "      <td>5.0</td>\n",
       "    </tr>\n",
       "    <tr>\n",
       "      <th>question_interestingness_self</th>\n",
       "      <td>0.508894</td>\n",
       "      <td>9.0</td>\n",
       "    </tr>\n",
       "    <tr>\n",
       "      <th>question_well_written</th>\n",
       "      <td>0.520646</td>\n",
       "      <td>9.0</td>\n",
       "    </tr>\n",
       "    <tr>\n",
       "      <th>question_multi_intent</th>\n",
       "      <td>0.577918</td>\n",
       "      <td>5.0</td>\n",
       "    </tr>\n",
       "    <tr>\n",
       "      <th>question_body_critical</th>\n",
       "      <td>0.659306</td>\n",
       "      <td>9.0</td>\n",
       "    </tr>\n",
       "    <tr>\n",
       "      <th>question_type_reason_explanation</th>\n",
       "      <td>0.664241</td>\n",
       "      <td>5.0</td>\n",
       "    </tr>\n",
       "    <tr>\n",
       "      <th>answer_type_reason_explanation</th>\n",
       "      <td>0.673572</td>\n",
       "      <td>5.0</td>\n",
       "    </tr>\n",
       "    <tr>\n",
       "      <th>question_type_choice</th>\n",
       "      <td>0.737645</td>\n",
       "      <td>5.0</td>\n",
       "    </tr>\n",
       "    <tr>\n",
       "      <th>answer_type_instructions</th>\n",
       "      <td>0.757448</td>\n",
       "      <td>5.0</td>\n",
       "    </tr>\n",
       "    <tr>\n",
       "      <th>question_type_instructions</th>\n",
       "      <td>0.776867</td>\n",
       "      <td>5.0</td>\n",
       "    </tr>\n",
       "  </tbody>\n",
       "</table>\n",
       "</div>"
      ],
      "text/plain": [
       "                                       SpearmanCorr  NUnique\n",
       "question_type_spelling                     0.062803      3.0\n",
       "question_not_really_a_question             0.083879      5.0\n",
       "answer_plausible                           0.132489      9.0\n",
       "answer_relevance                           0.154258      9.0\n",
       "question_type_consequence                  0.176335      5.0\n",
       "answer_helpful                             0.228411      9.0\n",
       "answer_well_written                        0.230623      9.0\n",
       "question_expect_short_answer               0.303294      5.0\n",
       "answer_type_procedure                      0.307116      5.0\n",
       "answer_satisfaction                        0.321970     17.0\n",
       "question_type_compare                      0.355228      5.0\n",
       "question_interestingness_others            0.355923      9.0\n",
       "question_type_procedure                    0.357048      5.0\n",
       "question_fact_seeking                      0.358721      5.0\n",
       "question_type_definition                   0.359578      5.0\n",
       "question_asker_intent_understanding        0.380072      9.0\n",
       "question_conversational                    0.412824      5.0\n",
       "question_has_commonly_accepted_answer      0.433464      5.0\n",
       "answer_level_of_information                0.435092      9.0\n",
       "question_type_entity                       0.444249      5.0\n",
       "question_opinion_seeking                   0.469326      5.0\n",
       "question_interestingness_self              0.508894      9.0\n",
       "question_well_written                      0.520646      9.0\n",
       "question_multi_intent                      0.577918      5.0\n",
       "question_body_critical                     0.659306      9.0\n",
       "question_type_reason_explanation           0.664241      5.0\n",
       "answer_type_reason_explanation             0.673572      5.0\n",
       "question_type_choice                       0.737645      5.0\n",
       "answer_type_instructions                   0.757448      5.0\n",
       "question_type_instructions                 0.776867      5.0"
      ]
     },
     "execution_count": 25,
     "metadata": {},
     "output_type": "execute_result"
    }
   ],
   "source": [
    "rs_df = pd.DataFrame(np.vstack([rs.values.flatten(), train[TARGETS].nunique()]).T, \n",
    "                     columns=['SpearmanCorr', 'NUnique'], index=rs.index)\n",
    "rs_df.sort_values('SpearmanCorr', ascending=True)"
   ]
  },
  {
   "cell_type": "code",
   "execution_count": 26,
   "metadata": {},
   "outputs": [
    {
     "data": {
      "text/plain": [
       "Index(['question_type_spelling', 'question_not_really_a_question',\n",
       "       'answer_plausible', 'answer_relevance', 'question_type_consequence'],\n",
       "      dtype='object')"
      ]
     },
     "execution_count": 26,
     "metadata": {},
     "output_type": "execute_result"
    }
   ],
   "source": [
    "sorted_targets = rs_df.sort_values('SpearmanCorr', ascending=True).index\n",
    "worst_five_targets = sorted_targets[:5]\n",
    "worst_five_targets"
   ]
  },
  {
   "cell_type": "code",
   "execution_count": 27,
   "metadata": {
    "scrolled": true
   },
   "outputs": [
    {
     "data": {
      "image/png": "[encoded data removed]",
      "text/plain": [
       "<Figure size 432x288 with 1 Axes>"
      ]
     },
     "metadata": {
      "needs_background": "light"
     },
     "output_type": "display_data"
    },
    {
     "data": {
      "image/png": "[encoded data removed]",
      "text/plain": [
       "<Figure size 432x288 with 1 Axes>"
      ]
     },
     "metadata": {
      "needs_background": "light"
     },
     "output_type": "display_data"
    },
    {
     "data": {
      "image/png": "[encoded data removed]",
      "text/plain": [
       "<Figure size 432x288 with 1 Axes>"
      ]
     },
     "metadata": {
      "needs_background": "light"
     },
     "output_type": "display_data"
    },
    {
     "data": {
      "image/png": "[encoded data removed]",
      "text/plain": [
       "<Figure size 432x288 with 1 Axes>"
      ]
     },
     "metadata": {
      "needs_background": "light"
     },
     "output_type": "display_data"
    },
    {
     "data": {
      "image/png": "[encoded data removed]",
      "text/plain": [
       "<Figure size 432x288 with 1 Axes>"
      ]
     },
     "metadata": {
      "needs_background": "light"
     },
     "output_type": "display_data"
    }
   ],
   "source": [
    "for col in worst_five_targets:\n",
    "    plt.figure()\n",
    "    train[col].hist()\n",
    "    plt.title(f'{col} {np.round(rs[col],3)}')"
   ]
  },
  {
   "cell_type": "code",
   "execution_count": 28,
   "metadata": {},
   "outputs": [
    {
     "name": "stderr",
     "output_type": "stream",
     "text": [
      "/home/robin/anaconda3/envs/GoogleQuest/lib/python3.7/site-packages/ipykernel_launcher.py:2: RuntimeWarning: More than 20 figures have been opened. Figures created through the pyplot interface (`matplotlib.pyplot.figure`) are retained until explicitly closed and may consume too much memory. (To control this warning, see the rcParam `figure.max_open_warning`).\n",
      "  \n"
     ]
    },
    {
     "data": {
      "image/png": "[encoded data removed]",
      "text/plain": [
       "<Figure size 432x288 with 1 Axes>"
      ]
     },
     "metadata": {
      "needs_background": "light"
     },
     "output_type": "display_data"
    },
    {
     "data": {
      "image/png": "[encoded data removed]",
      "text/plain": [
       "<Figure size 432x288 with 1 Axes>"
      ]
     },
     "metadata": {
      "needs_background": "light"
     },
     "output_type": "display_data"
    },
    {
     "data": {
      "image/png": "[encoded data removed]",
      "text/plain": [
       "<Figure size 432x288 with 1 Axes>"
      ]
     },
     "metadata": {
      "needs_background": "light"
     },
     "output_type": "display_data"
    },
    {
     "data": {
      "image/png": "[encoded data removed]",
      "text/plain": [
       "<Figure size 432x288 with 1 Axes>"
      ]
     },
     "metadata": {
      "needs_background": "light"
     },
     "output_type": "display_data"
    },
    {
     "data": {
      "image/png": "[encoded data removed]",
      "text/plain": [
       "<Figure size 432x288 with 1 Axes>"
      ]
     },
     "metadata": {
      "needs_background": "light"
     },
     "output_type": "display_data"
    },
    {
     "data": {
      "image/png": "[encoded data removed]",
      "text/plain": [
       "<Figure size 432x288 with 1 Axes>"
      ]
     },
     "metadata": {
      "needs_background": "light"
     },
     "output_type": "display_data"
    },
    {
     "data": {
      "image/png": "[encoded data removed]",
      "text/plain": [
       "<Figure size 432x288 with 1 Axes>"
      ]
     },
     "metadata": {
      "needs_background": "light"
     },
     "output_type": "display_data"
    },
    {
     "data": {
      "image/png": "[encoded data removed]",
      "text/plain": [
       "<Figure size 432x288 with 1 Axes>"
      ]
     },
     "metadata": {
      "needs_background": "light"
     },
     "output_type": "display_data"
    },
    {
     "data": {
      "image/png": "[encoded data removed]",
      "text/plain": [
       "<Figure size 432x288 with 1 Axes>"
      ]
     },
     "metadata": {
      "needs_background": "light"
     },
     "output_type": "display_data"
    },
    {
     "data": {
      "image/png": "[encoded data removed]",
      "text/plain": [
       "<Figure size 432x288 with 1 Axes>"
      ]
     },
     "metadata": {
      "needs_background": "light"
     },
     "output_type": "display_data"
    },
    {
     "data": {
      "image/png": "[encoded data removed]",
      "text/plain": [
       "<Figure size 432x288 with 1 Axes>"
      ]
     },
     "metadata": {
      "needs_background": "light"
     },
     "output_type": "display_data"
    },
    {
     "data": {
      "image/png": "[encoded data removed]",
      "text/plain": [
       "<Figure size 432x288 with 1 Axes>"
      ]
     },
     "metadata": {
      "needs_background": "light"
     },
     "output_type": "display_data"
    },
    {
     "data": {
      "image/png": "[encoded data removed]",
      "text/plain": [
       "<Figure size 432x288 with 1 Axes>"
      ]
     },
     "metadata": {
      "needs_background": "light"
     },
     "output_type": "display_data"
    },
    {
     "data": {
      "image/png": "[encoded data removed]",
      "text/plain": [
       "<Figure size 432x288 with 1 Axes>"
      ]
     },
     "metadata": {
      "needs_background": "light"
     },
     "output_type": "display_data"
    },
    {
     "data": {
      "image/png": "[encoded data removed]",
      "text/plain": [
       "<Figure size 432x288 with 1 Axes>"
      ]
     },
     "metadata": {
      "needs_background": "light"
     },
     "output_type": "display_data"
    },
    {
     "data": {
      "image/png": "[encoded data removed]",
      "text/plain": [
       "<Figure size 432x288 with 1 Axes>"
      ]
     },
     "metadata": {
      "needs_background": "light"
     },
     "output_type": "display_data"
    },
    {
     "data": {
      "image/png": "[encoded data removed]",
      "text/plain": [
       "<Figure size 432x288 with 1 Axes>"
      ]
     },
     "metadata": {
      "needs_background": "light"
     },
     "output_type": "display_data"
    },
    {
     "data": {
      "image/png": "[encoded data removed]",
      "text/plain": [
       "<Figure size 432x288 with 1 Axes>"
      ]
     },
     "metadata": {
      "needs_background": "light"
     },
     "output_type": "display_data"
    },
    {
     "data": {
      "image/png": "[encoded data removed]",
      "text/plain": [
       "<Figure size 432x288 with 1 Axes>"
      ]
     },
     "metadata": {
      "needs_background": "light"
     },
     "output_type": "display_data"
    },
    {
     "data": {
      "image/png": "[encoded data removed]",
      "text/plain": [
       "<Figure size 432x288 with 1 Axes>"
      ]
     },
     "metadata": {
      "needs_background": "light"
     },
     "output_type": "display_data"
    },
    {
     "data": {
      "image/png": "[encoded data removed]",
      "text/plain": [
       "<Figure size 432x288 with 1 Axes>"
      ]
     },
     "metadata": {
      "needs_background": "light"
     },
     "output_type": "display_data"
    },
    {
     "data": {
      "image/png": "[encoded data removed]",
      "text/plain": [
       "<Figure size 432x288 with 1 Axes>"
      ]
     },
     "metadata": {
      "needs_background": "light"
     },
     "output_type": "display_data"
    },
    {
     "data": {
      "image/png": "[encoded data removed]",
      "text/plain": [
       "<Figure size 432x288 with 1 Axes>"
      ]
     },
     "metadata": {
      "needs_background": "light"
     },
     "output_type": "display_data"
    },
    {
     "data": {
      "image/png": "[encoded data removed]",
      "text/plain": [
       "<Figure size 432x288 with 1 Axes>"
      ]
     },
     "metadata": {
      "needs_background": "light"
     },
     "output_type": "display_data"
    },
    {
     "data": {
      "image/png": "[encoded data removed]",
      "text/plain": [
       "<Figure size 432x288 with 1 Axes>"
      ]
     },
     "metadata": {
      "needs_background": "light"
     },
     "output_type": "display_data"
    }
   ],
   "source": [
    "for col in [target for target in sorted_targets if target not in worst_five_targets]:\n",
    "    plt.figure()\n",
    "    train[col].hist()\n",
    "    plt.title(f'{col} {np.round(rs[col],3)}')"
   ]
  },
  {
   "cell_type": "code",
   "execution_count": null,
   "metadata": {},
   "outputs": [],
   "source": []
  }
 ],
 "metadata": {
  "kernelspec": {
   "display_name": "Python 3",
   "language": "python",
   "name": "python3"
  },
  "language_info": {
   "codemirror_mode": {
    "name": "ipython",
    "version": 3
   },
   "file_extension": ".py",
   "mimetype": "text/x-python",
   "name": "python",
   "nbconvert_exporter": "python",
   "pygments_lexer": "ipython3",
   "version": "3.7.5"
  }
 },
 "nbformat": 4,
 "nbformat_minor": 1
}
