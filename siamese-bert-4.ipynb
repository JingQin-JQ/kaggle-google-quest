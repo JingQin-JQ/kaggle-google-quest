{
 "cells": [
  {
   "cell_type": "markdown",
   "metadata": {},
   "source": [
    "## Importing libraries"
   ]
  },
  {
   "cell_type": "code",
   "execution_count": 1,
   "metadata": {
    "_kg_hide-input": true
   },
   "outputs": [],
   "source": [
    "import numpy as np\n",
    "import pandas as pd\n",
    "import matplotlib.pyplot as plt\n",
    "import seaborn as sns\n",
    "import time\n",
    "import datetime\n",
    "import re\n",
    "import gc\n",
    "import copy\n",
    "\n",
    "from sklearn.model_selection import KFold, GroupKFold\n",
    "from sklearn.preprocessing import OneHotEncoder, MinMaxScaler\n",
    "\n",
    "import torch\n",
    "import torch.nn as nn\n",
    "import torch.optim as optim\n",
    "import torch.nn.functional as F\n",
    "from torch.utils.data import DataLoader\n",
    "\n",
    "from tqdm import tqdm_notebook as tqdm\n",
    "from transformers import DistilBertTokenizer, BertTokenizer\n",
    "import transformers\n",
    "\n",
    "from radam import RAdam\n",
    "from text_data import TextDataset5\n",
    "from bert import CustomBert3\n",
    "from multilabel_cross_fold import MultilabelStratifiedKFold\n",
    "from learning import Learner\n",
    "from lr_finder import LRFinder\n",
    "from one_cycle import OneCycleLR\n",
    "from text_cleaning import clean_data\n",
    "from create_features import get_categorical_features\n",
    "from losses_metrics import spearmanr_torch, spearmanr_np\n",
    "from inference import infer\n",
    "from eda import eda\n",
    "from common import *\n",
    "from utils.helpers import init_logger, init_seed\n",
    "\n",
    "%matplotlib inline\n",
    "pd.set_option('max_colwidth',400)"
   ]
  },
  {
   "cell_type": "markdown",
   "metadata": {},
   "source": [
    "## Loading and preparing data"
   ]
  },
  {
   "cell_type": "code",
   "execution_count": 2,
   "metadata": {
    "_cell_guid": "b1076dfc-b9ad-4769-8c92-a6c4dae69d19",
    "_uuid": "8f2839f25d086af736a60e9eeb907d3b93b6e0e5"
   },
   "outputs": [],
   "source": [
    "pd.set_option('max_rows', 500)\n",
    "pd.set_option('max_columns', 500)\n",
    "path = 'data/'\n",
    "sample_submission = pd.read_csv(f'{path}sample_submission.csv')\n",
    "test = pd.read_csv(f'{path}test.csv').fillna(' ')\n",
    "train = pd.read_csv(f'{path}train.csv').fillna(' ')"
   ]
  },
  {
   "cell_type": "code",
   "execution_count": 3,
   "metadata": {},
   "outputs": [
    {
     "name": "stderr",
     "output_type": "stream",
     "text": [
      "/home/robin/anaconda3/envs/GoogleQuest/lib/python3.7/site-packages/ipykernel_launcher.py:9: TqdmDeprecationWarning: This function will be removed in tqdm==5.0.0\n",
      "Please use `tqdm.notebook.tqdm` instead of `tqdm.tqdm_notebook`\n",
      "  if __name__ == '__main__':\n"
     ]
    },
    {
     "data": {
      "application/vnd.jupyter.widget-view+json": {
       "model_id": "be3ad093faac4bc58c5f35189fc07479",
       "version_major": 2,
       "version_minor": 0
      },
      "text/plain": [
       "HBox(children=(IntProgress(value=0, max=6079), HTML(value='')))"
      ]
     },
     "metadata": {},
     "output_type": "display_data"
    },
    {
     "name": "stdout",
     "output_type": "stream",
     "text": [
      "\n"
     ]
    },
    {
     "data": {
      "application/vnd.jupyter.widget-view+json": {
       "model_id": "93b3c29b348d41afa185d93318fc57c4",
       "version_major": 2,
       "version_minor": 0
      },
      "text/plain": [
       "HBox(children=(IntProgress(value=0, max=6079), HTML(value='')))"
      ]
     },
     "metadata": {},
     "output_type": "display_data"
    },
    {
     "name": "stdout",
     "output_type": "stream",
     "text": [
      "\n"
     ]
    },
    {
     "data": {
      "application/vnd.jupyter.widget-view+json": {
       "model_id": "a013077b1a954591b92343e45fa3b3d3",
       "version_major": 2,
       "version_minor": 0
      },
      "text/plain": [
       "HBox(children=(IntProgress(value=0, max=476), HTML(value='')))"
      ]
     },
     "metadata": {},
     "output_type": "display_data"
    },
    {
     "name": "stdout",
     "output_type": "stream",
     "text": [
      "\n"
     ]
    },
    {
     "data": {
      "application/vnd.jupyter.widget-view+json": {
       "model_id": "c213373552fb4bc19fffc60ea9321974",
       "version_major": 2,
       "version_minor": 0
      },
      "text/plain": [
       "HBox(children=(IntProgress(value=0, max=476), HTML(value='')))"
      ]
     },
     "metadata": {},
     "output_type": "display_data"
    },
    {
     "name": "stdout",
     "output_type": "stream",
     "text": [
      "\n",
      "CPU times: user 32.8 s, sys: 195 ms, total: 33 s\n",
      "Wall time: 33.3 s\n"
     ]
    }
   ],
   "source": [
    "%%time\n",
    "tokenizer = BertTokenizer.from_pretrained('bert-base-uncased')\n",
    "seg_ids_train, ids_train = {}, {}\n",
    "seg_ids_test, ids_test = {}, {}\n",
    "max_seq_len = 512\n",
    "for mode, df in [('train', train), ('test', test)]:\n",
    "    for text, cols in [('question', ['question_title', 'question_body']), \n",
    "                       ('answer', ['question_title', 'answer'])]:\n",
    "        ids, seg_ids = [], []\n",
    "        for x1, x2 in tqdm(df[cols].values):\n",
    "            encoded_inputs = tokenizer.encode_plus(\n",
    "                x1, x2, add_special_tokens=True, max_length=max_seq_len, pad_to_max_length=True, \n",
    "                return_token_type_ids=True\n",
    "            )\n",
    "            ids.append(encoded_inputs['input_ids'])\n",
    "            seg_ids.append(encoded_inputs['token_type_ids'])\n",
    "        if mode == 'train': \n",
    "            ids_train[text] = np.array(ids)\n",
    "            seg_ids_train[text] = np.array(seg_ids)\n",
    "        else: \n",
    "            ids_test[text] = np.array(ids)\n",
    "            seg_ids_test[text] = np.array(seg_ids)"
   ]
  },
  {
   "cell_type": "code",
   "execution_count": 4,
   "metadata": {
    "code_folding": []
   },
   "outputs": [],
   "source": [
    "train_host, test_host, host_dict, host_dict_reverse = get_categorical_features(train, test, 'host')\n",
    "train_category, test_category, category_dict, category_dict_reverse = \\\n",
    "    get_categorical_features(train, test, 'category')"
   ]
  },
  {
   "cell_type": "code",
   "execution_count": 5,
   "metadata": {},
   "outputs": [
    {
     "name": "stderr",
     "output_type": "stream",
     "text": [
      "/home/robin/anaconda3/envs/GoogleQuest/lib/python3.7/site-packages/sklearn/preprocessing/_encoders.py:415: FutureWarning: The handling of integer data will change in version 0.22. Currently, the categories are determined based on the range [0, max(values)], while in the future they will be determined based on the unique values.\n",
      "If you want the future behaviour and silence this warning, you can specify \"categories='auto'\".\n",
      "In case you used a LabelEncoder before this OneHotEncoder to convert the categories to integers, then you can now use the OneHotEncoder directly.\n",
      "  warnings.warn(msg, FutureWarning)\n"
     ]
    }
   ],
   "source": [
    "cat_features_train = train_category.reshape(-1, 1)\n",
    "cat_features_test = test_category.reshape(-1, 1)\n",
    "ohe = OneHotEncoder()\n",
    "ohe.fit(cat_features_train)\n",
    "cat_features_train = ohe.transform(cat_features_train).toarray()\n",
    "cat_features_test = ohe.transform(cat_features_test).toarray()"
   ]
  },
  {
   "cell_type": "code",
   "execution_count": 6,
   "metadata": {},
   "outputs": [],
   "source": [
    "for col in TARGETS:\n",
    "    train[col] = train[col].rank(method=\"average\")\n",
    "train[TARGETS] = MinMaxScaler().fit_transform(train[TARGETS])\n",
    "y = train[TARGETS].values.astype(np.float32)"
   ]
  },
  {
   "cell_type": "code",
   "execution_count": 7,
   "metadata": {},
   "outputs": [],
   "source": [
    "num_workers = 10\n",
    "bs = 2\n",
    "TextDataset = TextDataset5"
   ]
  },
  {
   "cell_type": "code",
   "execution_count": 8,
   "metadata": {},
   "outputs": [],
   "source": [
    "bs_test = 2\n",
    "test_loader = DataLoader(\n",
    "    TextDataset(cat_features_test, ids_test['question'], ids_test['answer'], \n",
    "                seg_ids_test['question'], seg_ids_test['answer'], test.index),\n",
    "    batch_size=bs_test, shuffle=False, num_workers=num_workers, drop_last=False\n",
    ")"
   ]
  },
  {
   "cell_type": "markdown",
   "metadata": {},
   "source": [
    "## Training model"
   ]
  },
  {
   "cell_type": "code",
   "execution_count": 9,
   "metadata": {},
   "outputs": [],
   "source": [
    "lr = 0.001\n",
    "loss_fn = nn.BCEWithLogitsLoss()\n",
    "device = 'cuda'\n",
    "n_epochs = 4\n",
    "grad_accum = 4\n",
    "weight_decay = 0.01\n",
    "model_name = 'siamese_bert_4'\n",
    "checkpoint_dir = 'checkpoints/'\n",
    "early_stopping = None\n",
    "n_folds = 10"
   ]
  },
  {
   "cell_type": "code",
   "execution_count": 10,
   "metadata": {},
   "outputs": [],
   "source": [
    "def get_optimizer_param_groups(model, lr, weight_decay):\n",
    "    no_decay = ['bias', 'LayerNorm.weight']\n",
    "    optimizer_grouped_parameters = [\n",
    "        {'params': [p for n, p in model.named_parameters() if not any(nd in n for nd in no_decay)], \n",
    "         'weight_decay': weight_decay, 'lr': lr},\n",
    "        {'params': [p for n, p in model.named_parameters() if any(nd in n for nd in no_decay)], \n",
    "         'weight_decay': 0.0, 'lr': lr}\n",
    "    ]\n",
    "    return optimizer_grouped_parameters\n",
    "\n",
    "\n",
    "def get_optimizer(model, lr, weight_decay):\n",
    "    return transformers.AdamW(\n",
    "        get_optimizer_param_groups(model.head, lr, weight_decay)\n",
    "        + get_optimizer_param_groups(model.bert, lr / 100, weight_decay)\n",
    "    )"
   ]
  },
  {
   "cell_type": "code",
   "execution_count": 11,
   "metadata": {
    "scrolled": true
   },
   "outputs": [
    {
     "name": "stdout",
     "output_type": "stream",
     "text": [
      "Fold 1 started at Wed Jan 22 22:06:29 2020\n"
     ]
    },
    {
     "data": {
      "application/vnd.jupyter.widget-view+json": {
       "model_id": "01de3fa9091047ae95a5a979ce685bb8",
       "version_major": 2,
       "version_minor": 0
      },
      "text/plain": [
       "HBox(children=(IntProgress(value=0, max=400), HTML(value='')))"
      ]
     },
     "metadata": {},
     "output_type": "display_data"
    },
    {
     "name": "stderr",
     "output_type": "stream",
     "text": [
      "/home/robin/anaconda3/envs/GoogleQuest/lib/python3.7/site-packages/torch/optim/lr_scheduler.py:100: UserWarning: Detected call of `lr_scheduler.step()` before `optimizer.step()`. In PyTorch 1.1.0 and later, you should call them in the opposite order: `optimizer.step()` before `lr_scheduler.step()`.  Failure to do this will result in PyTorch skipping the first value of the learning rate schedule.See more details at https://pytorch.org/docs/stable/optim.html#how-to-adjust-learning-rate\n",
      "  \"https://pytorch.org/docs/stable/optim.html#how-to-adjust-learning-rate\", UserWarning)\n"
     ]
    },
    {
     "data": {
      "image/png": "[encoded data removed]",
      "text/plain": [
       "<Figure size 432x288 with 1 Axes>"
      ]
     },
     "metadata": {
      "needs_background": "light"
     },
     "output_type": "display_data"
    },
    {
     "name": "stdout",
     "output_type": "stream",
     "text": [
      "Starting inference for model: checkpoints/siamese_bert_4_fold_1_epoch_1.pth\n"
     ]
    },
    {
     "data": {
      "application/vnd.jupyter.widget-view+json": {
       "model_id": "7a3bf2ca1b0a42b0840220304fbdbfbc",
       "version_major": 2,
       "version_minor": 0
      },
      "text/plain": [
       "HBox(children=(IntProgress(value=0, max=304), HTML(value='')))"
      ]
     },
     "metadata": {},
     "output_type": "display_data"
    },
    {
     "name": "stdout",
     "output_type": "stream",
     "text": [
      "\n",
      "Starting inference for model: checkpoints/siamese_bert_4_fold_1_epoch_2.pth\n"
     ]
    },
    {
     "data": {
      "application/vnd.jupyter.widget-view+json": {
       "model_id": "c2fb9c99cccb408f915928a2b116084e",
       "version_major": 2,
       "version_minor": 0
      },
      "text/plain": [
       "HBox(children=(IntProgress(value=0, max=304), HTML(value='')))"
      ]
     },
     "metadata": {},
     "output_type": "display_data"
    },
    {
     "name": "stdout",
     "output_type": "stream",
     "text": [
      "\n",
      "Starting inference for model: checkpoints/siamese_bert_4_fold_1_epoch_3.pth\n"
     ]
    },
    {
     "data": {
      "application/vnd.jupyter.widget-view+json": {
       "model_id": "cb3268a5dfe44b1da9962d997a145374",
       "version_major": 2,
       "version_minor": 0
      },
      "text/plain": [
       "HBox(children=(IntProgress(value=0, max=304), HTML(value='')))"
      ]
     },
     "metadata": {},
     "output_type": "display_data"
    },
    {
     "name": "stdout",
     "output_type": "stream",
     "text": [
      "\n",
      "Averaged Val. score: 0.422464481233006\n",
      "Starting inference for model: checkpoints/siamese_bert_4_fold_1_best.pth\n"
     ]
    },
    {
     "name": "stderr",
     "output_type": "stream",
     "text": [
      "/home/robin/anaconda3/envs/GoogleQuest/lib/python3.7/site-packages/numpy/lib/function_base.py:2534: RuntimeWarning: invalid value encountered in true_divide\n",
      "  c /= stddev[:, None]\n",
      "/home/robin/anaconda3/envs/GoogleQuest/lib/python3.7/site-packages/numpy/lib/function_base.py:2535: RuntimeWarning: invalid value encountered in true_divide\n",
      "  c /= stddev[None, :]\n",
      "/home/robin/anaconda3/envs/GoogleQuest/lib/python3.7/site-packages/scipy/stats/_distn_infrastructure.py:901: RuntimeWarning: invalid value encountered in greater\n",
      "  return (a < x) & (x < b)\n",
      "/home/robin/anaconda3/envs/GoogleQuest/lib/python3.7/site-packages/scipy/stats/_distn_infrastructure.py:901: RuntimeWarning: invalid value encountered in less\n",
      "  return (a < x) & (x < b)\n",
      "/home/robin/anaconda3/envs/GoogleQuest/lib/python3.7/site-packages/scipy/stats/_distn_infrastructure.py:1892: RuntimeWarning: invalid value encountered in less_equal\n",
      "  cond2 = cond0 & (x <= _a)\n"
     ]
    },
    {
     "data": {
      "application/vnd.jupyter.widget-view+json": {
       "model_id": "77624161799e45419af51b6c88cdd1a8",
       "version_major": 2,
       "version_minor": 0
      },
      "text/plain": [
       "HBox(children=(IntProgress(value=0, max=238), HTML(value='')))"
      ]
     },
     "metadata": {},
     "output_type": "display_data"
    },
    {
     "name": "stdout",
     "output_type": "stream",
     "text": [
      "\n",
      "Fold 2 started at Wed Jan 22 22:09:00 2020\n",
      "Starting inference for model: checkpoints/siamese_bert_4_fold_2_epoch_1.pth\n"
     ]
    },
    {
     "data": {
      "application/vnd.jupyter.widget-view+json": {
       "model_id": "3bac5cc7817143c4a9393acc08451629",
       "version_major": 2,
       "version_minor": 0
      },
      "text/plain": [
       "HBox(children=(IntProgress(value=0, max=304), HTML(value='')))"
      ]
     },
     "metadata": {},
     "output_type": "display_data"
    },
    {
     "name": "stdout",
     "output_type": "stream",
     "text": [
      "\n",
      "Starting inference for model: checkpoints/siamese_bert_4_fold_2_epoch_2.pth\n"
     ]
    },
    {
     "data": {
      "application/vnd.jupyter.widget-view+json": {
       "model_id": "13f529553e6447a28d97f29656230784",
       "version_major": 2,
       "version_minor": 0
      },
      "text/plain": [
       "HBox(children=(IntProgress(value=0, max=304), HTML(value='')))"
      ]
     },
     "metadata": {},
     "output_type": "display_data"
    },
    {
     "name": "stdout",
     "output_type": "stream",
     "text": [
      "\n",
      "Starting inference for model: checkpoints/siamese_bert_4_fold_2_epoch_3.pth\n"
     ]
    },
    {
     "data": {
      "application/vnd.jupyter.widget-view+json": {
       "model_id": "276918368784430494fe2708ef4f14d8",
       "version_major": 2,
       "version_minor": 0
      },
      "text/plain": [
       "HBox(children=(IntProgress(value=0, max=304), HTML(value='')))"
      ]
     },
     "metadata": {},
     "output_type": "display_data"
    },
    {
     "name": "stdout",
     "output_type": "stream",
     "text": [
      "\n",
      "Averaged Val. score: 0.4190368447155895\n",
      "Starting inference for model: checkpoints/siamese_bert_4_fold_2_best.pth\n"
     ]
    },
    {
     "data": {
      "application/vnd.jupyter.widget-view+json": {
       "model_id": "5749b0facdba4631b176c1fc1912ecf4",
       "version_major": 2,
       "version_minor": 0
      },
      "text/plain": [
       "HBox(children=(IntProgress(value=0, max=238), HTML(value='')))"
      ]
     },
     "metadata": {},
     "output_type": "display_data"
    },
    {
     "name": "stdout",
     "output_type": "stream",
     "text": [
      "\n",
      "Fold 3 started at Wed Jan 22 22:10:28 2020\n",
      "Starting inference for model: checkpoints/siamese_bert_4_fold_3_epoch_1.pth\n"
     ]
    },
    {
     "data": {
      "application/vnd.jupyter.widget-view+json": {
       "model_id": "fe7ba40683594386b976f4d92cf8e1bb",
       "version_major": 2,
       "version_minor": 0
      },
      "text/plain": [
       "HBox(children=(IntProgress(value=0, max=304), HTML(value='')))"
      ]
     },
     "metadata": {},
     "output_type": "display_data"
    },
    {
     "name": "stdout",
     "output_type": "stream",
     "text": [
      "\n",
      "Starting inference for model: checkpoints/siamese_bert_4_fold_3_epoch_2.pth\n"
     ]
    },
    {
     "data": {
      "application/vnd.jupyter.widget-view+json": {
       "model_id": "dc7184b98baa45b293fa73801a752d66",
       "version_major": 2,
       "version_minor": 0
      },
      "text/plain": [
       "HBox(children=(IntProgress(value=0, max=304), HTML(value='')))"
      ]
     },
     "metadata": {},
     "output_type": "display_data"
    },
    {
     "name": "stdout",
     "output_type": "stream",
     "text": [
      "\n",
      "Starting inference for model: checkpoints/siamese_bert_4_fold_3_epoch_3.pth\n"
     ]
    },
    {
     "data": {
      "application/vnd.jupyter.widget-view+json": {
       "model_id": "1dadc30bffc8426cacbf6bdff7954e71",
       "version_major": 2,
       "version_minor": 0
      },
      "text/plain": [
       "HBox(children=(IntProgress(value=0, max=304), HTML(value='')))"
      ]
     },
     "metadata": {},
     "output_type": "display_data"
    },
    {
     "name": "stdout",
     "output_type": "stream",
     "text": [
      "\n",
      "Averaged Val. score: 0.39853469145731957\n",
      "Starting inference for model: checkpoints/siamese_bert_4_fold_3_best.pth\n"
     ]
    },
    {
     "data": {
      "application/vnd.jupyter.widget-view+json": {
       "model_id": "7f077e957a9d46dba492c8270ef1f2fc",
       "version_major": 2,
       "version_minor": 0
      },
      "text/plain": [
       "HBox(children=(IntProgress(value=0, max=238), HTML(value='')))"
      ]
     },
     "metadata": {},
     "output_type": "display_data"
    },
    {
     "name": "stdout",
     "output_type": "stream",
     "text": [
      "\n",
      "Fold 4 started at Wed Jan 22 22:11:55 2020\n",
      "Starting inference for model: checkpoints/siamese_bert_4_fold_4_epoch_1.pth\n"
     ]
    },
    {
     "data": {
      "application/vnd.jupyter.widget-view+json": {
       "model_id": "377703d78ed748498717e3686e0ce087",
       "version_major": 2,
       "version_minor": 0
      },
      "text/plain": [
       "HBox(children=(IntProgress(value=0, max=304), HTML(value='')))"
      ]
     },
     "metadata": {},
     "output_type": "display_data"
    },
    {
     "name": "stdout",
     "output_type": "stream",
     "text": [
      "\n",
      "Starting inference for model: checkpoints/siamese_bert_4_fold_4_epoch_2.pth\n"
     ]
    },
    {
     "data": {
      "application/vnd.jupyter.widget-view+json": {
       "model_id": "0f4d9e21697a42bbb99da5d654cf2062",
       "version_major": 2,
       "version_minor": 0
      },
      "text/plain": [
       "HBox(children=(IntProgress(value=0, max=304), HTML(value='')))"
      ]
     },
     "metadata": {},
     "output_type": "display_data"
    },
    {
     "name": "stdout",
     "output_type": "stream",
     "text": [
      "\n",
      "Starting inference for model: checkpoints/siamese_bert_4_fold_4_epoch_3.pth\n"
     ]
    },
    {
     "data": {
      "application/vnd.jupyter.widget-view+json": {
       "model_id": "90e18648e40940ec8ffa1e746ff29d9f",
       "version_major": 2,
       "version_minor": 0
      },
      "text/plain": [
       "HBox(children=(IntProgress(value=0, max=304), HTML(value='')))"
      ]
     },
     "metadata": {},
     "output_type": "display_data"
    },
    {
     "name": "stdout",
     "output_type": "stream",
     "text": [
      "\n",
      "Averaged Val. score: 0.4002783910711324\n",
      "Starting inference for model: checkpoints/siamese_bert_4_fold_4_best.pth\n"
     ]
    },
    {
     "data": {
      "application/vnd.jupyter.widget-view+json": {
       "model_id": "6e40ee1ad0f3492eb410ee730a7c03c3",
       "version_major": 2,
       "version_minor": 0
      },
      "text/plain": [
       "HBox(children=(IntProgress(value=0, max=238), HTML(value='')))"
      ]
     },
     "metadata": {},
     "output_type": "display_data"
    },
    {
     "name": "stdout",
     "output_type": "stream",
     "text": [
      "\n",
      "Fold 5 started at Wed Jan 22 22:13:23 2020\n",
      "Starting inference for model: checkpoints/siamese_bert_4_fold_5_epoch_1.pth\n"
     ]
    },
    {
     "data": {
      "application/vnd.jupyter.widget-view+json": {
       "model_id": "c1588505f1254c5c8e28a49667b07998",
       "version_major": 2,
       "version_minor": 0
      },
      "text/plain": [
       "HBox(children=(IntProgress(value=0, max=304), HTML(value='')))"
      ]
     },
     "metadata": {},
     "output_type": "display_data"
    },
    {
     "name": "stdout",
     "output_type": "stream",
     "text": [
      "\n",
      "Starting inference for model: checkpoints/siamese_bert_4_fold_5_epoch_2.pth\n"
     ]
    },
    {
     "data": {
      "application/vnd.jupyter.widget-view+json": {
       "model_id": "afd7fefdac184204b056df1dfae874da",
       "version_major": 2,
       "version_minor": 0
      },
      "text/plain": [
       "HBox(children=(IntProgress(value=0, max=304), HTML(value='')))"
      ]
     },
     "metadata": {},
     "output_type": "display_data"
    },
    {
     "name": "stdout",
     "output_type": "stream",
     "text": [
      "\n",
      "Starting inference for model: checkpoints/siamese_bert_4_fold_5_epoch_3.pth\n"
     ]
    },
    {
     "data": {
      "application/vnd.jupyter.widget-view+json": {
       "model_id": "0a3476fe54df4dafb895e2f16655b889",
       "version_major": 2,
       "version_minor": 0
      },
      "text/plain": [
       "HBox(children=(IntProgress(value=0, max=304), HTML(value='')))"
      ]
     },
     "metadata": {},
     "output_type": "display_data"
    },
    {
     "name": "stdout",
     "output_type": "stream",
     "text": [
      "\n",
      "Averaged Val. score: 0.4068504111334144\n",
      "Starting inference for model: checkpoints/siamese_bert_4_fold_5_best.pth\n"
     ]
    },
    {
     "data": {
      "application/vnd.jupyter.widget-view+json": {
       "model_id": "4acab0b7ba72423090467022a256ed75",
       "version_major": 2,
       "version_minor": 0
      },
      "text/plain": [
       "HBox(children=(IntProgress(value=0, max=238), HTML(value='')))"
      ]
     },
     "metadata": {},
     "output_type": "display_data"
    },
    {
     "name": "stdout",
     "output_type": "stream",
     "text": [
      "\n",
      "Fold 6 started at Wed Jan 22 22:14:51 2020\n",
      "epoch 0: \t Start training...\n"
     ]
    },
    {
     "data": {
      "application/vnd.jupyter.widget-view+json": {
       "model_id": "934cc4bdd5e547abb89ad52d85cacaac",
       "version_major": 2,
       "version_minor": 0
      },
      "text/plain": [
       "HBox(children=(IntProgress(value=0, max=2736), HTML(value='')))"
      ]
     },
     "metadata": {},
     "output_type": "display_data"
    },
    {
     "name": "stdout",
     "output_type": "stream",
     "text": [
      "\n",
      "epoch 0/4 \t train : loss 0.50917 - spearmanr 0.24773\n",
      "epoch 0: \t Start validation...\n"
     ]
    },
    {
     "data": {
      "application/vnd.jupyter.widget-view+json": {
       "model_id": "9ad182e630b448dfa7af593076b15f92",
       "version_major": 2,
       "version_minor": 0
      },
      "text/plain": [
       "HBox(children=(IntProgress(value=0, max=304), HTML(value='')))"
      ]
     },
     "metadata": {},
     "output_type": "display_data"
    },
    {
     "name": "stdout",
     "output_type": "stream",
     "text": [
      "\n",
      "epoch 0/4 \t valid : loss 0.4627 - spearmanr 0.37531\n",
      "best model: epoch 0 - 0.37531\n",
      "epoch 1: \t Start training...\n"
     ]
    },
    {
     "data": {
      "application/vnd.jupyter.widget-view+json": {
       "model_id": "1ac492323880494aa0c4ef3b025e7d34",
       "version_major": 2,
       "version_minor": 0
      },
      "text/plain": [
       "HBox(children=(IntProgress(value=0, max=2736), HTML(value='')))"
      ]
     },
     "metadata": {},
     "output_type": "display_data"
    },
    {
     "name": "stdout",
     "output_type": "stream",
     "text": [
      "\n",
      "epoch 1/4 \t train : loss 0.4568 - spearmanr 0.3968\n",
      "epoch 1: \t Start validation...\n"
     ]
    },
    {
     "data": {
      "application/vnd.jupyter.widget-view+json": {
       "model_id": "26b1397632ca47ff866ce36cfd7a8e4f",
       "version_major": 2,
       "version_minor": 0
      },
      "text/plain": [
       "HBox(children=(IntProgress(value=0, max=304), HTML(value='')))"
      ]
     },
     "metadata": {},
     "output_type": "display_data"
    },
    {
     "name": "stdout",
     "output_type": "stream",
     "text": [
      "\n",
      "epoch 1/4 \t valid : loss 0.45894 - spearmanr 0.38184\n",
      "best model: epoch 1 - 0.38184\n",
      "epoch 2: \t Start training...\n"
     ]
    },
    {
     "data": {
      "application/vnd.jupyter.widget-view+json": {
       "model_id": "4a1a8868c58a4bf1b1e6e7c125c85bb5",
       "version_major": 2,
       "version_minor": 0
      },
      "text/plain": [
       "HBox(children=(IntProgress(value=0, max=2736), HTML(value='')))"
      ]
     },
     "metadata": {},
     "output_type": "display_data"
    },
    {
     "name": "stdout",
     "output_type": "stream",
     "text": [
      "\n",
      "epoch 2/4 \t train : loss 0.43263 - spearmanr 0.4608\n",
      "epoch 2: \t Start validation...\n"
     ]
    },
    {
     "data": {
      "application/vnd.jupyter.widget-view+json": {
       "model_id": "eb2c8da059cf4f9282a5168ca2e8bdc5",
       "version_major": 2,
       "version_minor": 0
      },
      "text/plain": [
       "HBox(children=(IntProgress(value=0, max=304), HTML(value='')))"
      ]
     },
     "metadata": {},
     "output_type": "display_data"
    },
    {
     "name": "stdout",
     "output_type": "stream",
     "text": [
      "\n",
      "epoch 2/4 \t valid : loss 0.45251 - spearmanr 0.39485\n",
      "best model: epoch 2 - 0.39485\n",
      "epoch 3: \t Start training...\n"
     ]
    },
    {
     "data": {
      "application/vnd.jupyter.widget-view+json": {
       "model_id": "2ec5136a7ff849cda969c9f971a3bb10",
       "version_major": 2,
       "version_minor": 0
      },
      "text/plain": [
       "HBox(children=(IntProgress(value=0, max=2736), HTML(value='')))"
      ]
     },
     "metadata": {},
     "output_type": "display_data"
    },
    {
     "name": "stdout",
     "output_type": "stream",
     "text": [
      "\n",
      "epoch 3/4 \t train : loss 0.41118 - spearmanr 0.51384\n",
      "epoch 3: \t Start validation...\n"
     ]
    },
    {
     "data": {
      "application/vnd.jupyter.widget-view+json": {
       "model_id": "86d011394b554538acafcb177e9245e0",
       "version_major": 2,
       "version_minor": 0
      },
      "text/plain": [
       "HBox(children=(IntProgress(value=0, max=304), HTML(value='')))"
      ]
     },
     "metadata": {},
     "output_type": "display_data"
    },
    {
     "name": "stdout",
     "output_type": "stream",
     "text": [
      "\n",
      "epoch 3/4 \t valid : loss 0.4537 - spearmanr 0.39291\n",
      "model not improved for 1 epochs\n",
      "TRAINING END: Best score achieved on epoch 2 - 0.39485\n",
      "Starting inference for model: checkpoints/siamese_bert_4_fold_6_epoch_1.pth\n"
     ]
    },
    {
     "data": {
      "application/vnd.jupyter.widget-view+json": {
       "model_id": "66841d8ae06347cb84bd3c3b72b94de7",
       "version_major": 2,
       "version_minor": 0
      },
      "text/plain": [
       "HBox(children=(IntProgress(value=0, max=304), HTML(value='')))"
      ]
     },
     "metadata": {},
     "output_type": "display_data"
    },
    {
     "name": "stdout",
     "output_type": "stream",
     "text": [
      "\n",
      "Starting inference for model: checkpoints/siamese_bert_4_fold_6_epoch_2.pth\n"
     ]
    },
    {
     "data": {
      "application/vnd.jupyter.widget-view+json": {
       "model_id": "5418bf7642cd4fc28b48fb46fbb16e22",
       "version_major": 2,
       "version_minor": 0
      },
      "text/plain": [
       "HBox(children=(IntProgress(value=0, max=304), HTML(value='')))"
      ]
     },
     "metadata": {},
     "output_type": "display_data"
    },
    {
     "name": "stdout",
     "output_type": "stream",
     "text": [
      "\n",
      "Starting inference for model: checkpoints/siamese_bert_4_fold_6_epoch_3.pth\n"
     ]
    },
    {
     "data": {
      "application/vnd.jupyter.widget-view+json": {
       "model_id": "a9ea73e5b9ea468c89daddb2371ec3b3",
       "version_major": 2,
       "version_minor": 0
      },
      "text/plain": [
       "HBox(children=(IntProgress(value=0, max=304), HTML(value='')))"
      ]
     },
     "metadata": {},
     "output_type": "display_data"
    },
    {
     "name": "stdout",
     "output_type": "stream",
     "text": [
      "\n",
      "Averaged Val. score: 0.39697916386614096\n",
      "Starting inference for model: checkpoints/siamese_bert_4_fold_6_best.pth\n"
     ]
    },
    {
     "data": {
      "application/vnd.jupyter.widget-view+json": {
       "model_id": "63b4b681711d4355821002a5f19cc487",
       "version_major": 2,
       "version_minor": 0
      },
      "text/plain": [
       "HBox(children=(IntProgress(value=0, max=238), HTML(value='')))"
      ]
     },
     "metadata": {},
     "output_type": "display_data"
    },
    {
     "name": "stdout",
     "output_type": "stream",
     "text": [
      "\n",
      "Fold 7 started at Wed Jan 22 22:55:23 2020\n",
      "epoch 0: \t Start training...\n"
     ]
    },
    {
     "data": {
      "application/vnd.jupyter.widget-view+json": {
       "model_id": "053cac6783d246eeb96e6f17ac7772a7",
       "version_major": 2,
       "version_minor": 0
      },
      "text/plain": [
       "HBox(children=(IntProgress(value=0, max=2736), HTML(value='')))"
      ]
     },
     "metadata": {},
     "output_type": "display_data"
    },
    {
     "name": "stdout",
     "output_type": "stream",
     "text": [
      "\n",
      "epoch 0/4 \t train : loss 0.50799 - spearmanr 0.24952\n",
      "epoch 0: \t Start validation...\n"
     ]
    },
    {
     "data": {
      "application/vnd.jupyter.widget-view+json": {
       "model_id": "60571eb767c747fe86c832f7c7e88357",
       "version_major": 2,
       "version_minor": 0
      },
      "text/plain": [
       "HBox(children=(IntProgress(value=0, max=304), HTML(value='')))"
      ]
     },
     "metadata": {},
     "output_type": "display_data"
    },
    {
     "name": "stdout",
     "output_type": "stream",
     "text": [
      "\n",
      "epoch 0/4 \t valid : loss 0.47499 - spearmanr 0.37323\n",
      "best model: epoch 0 - 0.37323\n",
      "epoch 1: \t Start training...\n"
     ]
    },
    {
     "data": {
      "application/vnd.jupyter.widget-view+json": {
       "model_id": "ef0912f2c47e4f5999d9299609a39b7f",
       "version_major": 2,
       "version_minor": 0
      },
      "text/plain": [
       "HBox(children=(IntProgress(value=0, max=2736), HTML(value='')))"
      ]
     },
     "metadata": {},
     "output_type": "display_data"
    },
    {
     "name": "stdout",
     "output_type": "stream",
     "text": [
      "\n",
      "epoch 1/4 \t train : loss 0.45673 - spearmanr 0.39318\n",
      "epoch 1: \t Start validation...\n"
     ]
    },
    {
     "data": {
      "application/vnd.jupyter.widget-view+json": {
       "model_id": "e3a4d9bf283b4053ab69c4b120f7a62d",
       "version_major": 2,
       "version_minor": 0
      },
      "text/plain": [
       "HBox(children=(IntProgress(value=0, max=304), HTML(value='')))"
      ]
     },
     "metadata": {},
     "output_type": "display_data"
    },
    {
     "name": "stdout",
     "output_type": "stream",
     "text": [
      "\n",
      "epoch 1/4 \t valid : loss 0.45736 - spearmanr 0.41002\n",
      "best model: epoch 1 - 0.41002\n",
      "epoch 2: \t Start training...\n"
     ]
    },
    {
     "data": {
      "application/vnd.jupyter.widget-view+json": {
       "model_id": "d8abb71756314a88bac23d58e83d4cba",
       "version_major": 2,
       "version_minor": 0
      },
      "text/plain": [
       "HBox(children=(IntProgress(value=0, max=2736), HTML(value='')))"
      ]
     },
     "metadata": {},
     "output_type": "display_data"
    },
    {
     "name": "stdout",
     "output_type": "stream",
     "text": [
      "\n",
      "epoch 2/4 \t train : loss 0.4321 - spearmanr 0.45894\n",
      "epoch 2: \t Start validation...\n"
     ]
    },
    {
     "data": {
      "application/vnd.jupyter.widget-view+json": {
       "model_id": "3496ac9e92f54985a7279c6cdeeed34c",
       "version_major": 2,
       "version_minor": 0
      },
      "text/plain": [
       "HBox(children=(IntProgress(value=0, max=304), HTML(value='')))"
      ]
     },
     "metadata": {},
     "output_type": "display_data"
    },
    {
     "name": "stdout",
     "output_type": "stream",
     "text": [
      "\n",
      "epoch 2/4 \t valid : loss 0.45916 - spearmanr 0.4135\n",
      "best model: epoch 2 - 0.4135\n",
      "epoch 3: \t Start training...\n"
     ]
    },
    {
     "data": {
      "application/vnd.jupyter.widget-view+json": {
       "model_id": "ebaaa8b6ad874495b8ccf5f0f136a195",
       "version_major": 2,
       "version_minor": 0
      },
      "text/plain": [
       "HBox(children=(IntProgress(value=0, max=2736), HTML(value='')))"
      ]
     },
     "metadata": {},
     "output_type": "display_data"
    },
    {
     "name": "stdout",
     "output_type": "stream",
     "text": [
      "\n",
      "epoch 3/4 \t train : loss 0.41021 - spearmanr 0.51381\n",
      "epoch 3: \t Start validation...\n"
     ]
    },
    {
     "data": {
      "application/vnd.jupyter.widget-view+json": {
       "model_id": "63ee7ff4721e4b429d0a5eeeea79d2fc",
       "version_major": 2,
       "version_minor": 0
      },
      "text/plain": [
       "HBox(children=(IntProgress(value=0, max=304), HTML(value='')))"
      ]
     },
     "metadata": {},
     "output_type": "display_data"
    },
    {
     "name": "stdout",
     "output_type": "stream",
     "text": [
      "\n",
      "epoch 3/4 \t valid : loss 0.4598 - spearmanr 0.4141\n",
      "best model: epoch 3 - 0.4141\n",
      "TRAINING END: Best score achieved on epoch 3 - 0.41410\n",
      "Starting inference for model: checkpoints/siamese_bert_4_fold_7_epoch_1.pth\n"
     ]
    },
    {
     "data": {
      "application/vnd.jupyter.widget-view+json": {
       "model_id": "b6300d3f804048dfae157433fb06a88c",
       "version_major": 2,
       "version_minor": 0
      },
      "text/plain": [
       "HBox(children=(IntProgress(value=0, max=304), HTML(value='')))"
      ]
     },
     "metadata": {},
     "output_type": "display_data"
    },
    {
     "name": "stdout",
     "output_type": "stream",
     "text": [
      "\n",
      "Starting inference for model: checkpoints/siamese_bert_4_fold_7_epoch_2.pth\n"
     ]
    },
    {
     "data": {
      "application/vnd.jupyter.widget-view+json": {
       "model_id": "a2dd7ea2d2f54990946beec110f56305",
       "version_major": 2,
       "version_minor": 0
      },
      "text/plain": [
       "HBox(children=(IntProgress(value=0, max=304), HTML(value='')))"
      ]
     },
     "metadata": {},
     "output_type": "display_data"
    },
    {
     "name": "stdout",
     "output_type": "stream",
     "text": [
      "\n",
      "Starting inference for model: checkpoints/siamese_bert_4_fold_7_epoch_3.pth\n"
     ]
    },
    {
     "data": {
      "application/vnd.jupyter.widget-view+json": {
       "model_id": "7c186305a2bd48c6b4087bc17a60694f",
       "version_major": 2,
       "version_minor": 0
      },
      "text/plain": [
       "HBox(children=(IntProgress(value=0, max=304), HTML(value='')))"
      ]
     },
     "metadata": {},
     "output_type": "display_data"
    },
    {
     "name": "stdout",
     "output_type": "stream",
     "text": [
      "\n",
      "Averaged Val. score: 0.4172563177770672\n",
      "Starting inference for model: checkpoints/siamese_bert_4_fold_7_best.pth\n"
     ]
    },
    {
     "data": {
      "application/vnd.jupyter.widget-view+json": {
       "model_id": "79604952e2024e68962a64340578a7e6",
       "version_major": 2,
       "version_minor": 0
      },
      "text/plain": [
       "HBox(children=(IntProgress(value=0, max=238), HTML(value='')))"
      ]
     },
     "metadata": {},
     "output_type": "display_data"
    },
    {
     "name": "stdout",
     "output_type": "stream",
     "text": [
      "\n",
      "Fold 8 started at Wed Jan 22 23:35:47 2020\n",
      "epoch 0: \t Start training...\n"
     ]
    },
    {
     "data": {
      "application/vnd.jupyter.widget-view+json": {
       "model_id": "11263da955ee417590da533bf3c2210b",
       "version_major": 2,
       "version_minor": 0
      },
      "text/plain": [
       "HBox(children=(IntProgress(value=0, max=2736), HTML(value='')))"
      ]
     },
     "metadata": {},
     "output_type": "display_data"
    },
    {
     "name": "stdout",
     "output_type": "stream",
     "text": [
      "\n",
      "epoch 0/4 \t train : loss 0.50894 - spearmanr 0.24643\n",
      "epoch 0: \t Start validation...\n"
     ]
    },
    {
     "data": {
      "application/vnd.jupyter.widget-view+json": {
       "model_id": "d33383fd68d74a14a4d1d6274d475455",
       "version_major": 2,
       "version_minor": 0
      },
      "text/plain": [
       "HBox(children=(IntProgress(value=0, max=304), HTML(value='')))"
      ]
     },
     "metadata": {},
     "output_type": "display_data"
    },
    {
     "name": "stdout",
     "output_type": "stream",
     "text": [
      "\n",
      "epoch 0/4 \t valid : loss 0.47778 - spearmanr 0.37873\n",
      "best model: epoch 0 - 0.37873\n",
      "epoch 1: \t Start training...\n"
     ]
    },
    {
     "data": {
      "application/vnd.jupyter.widget-view+json": {
       "model_id": "26e579ceaa794e49a860a140ff47f326",
       "version_major": 2,
       "version_minor": 0
      },
      "text/plain": [
       "HBox(children=(IntProgress(value=0, max=2736), HTML(value='')))"
      ]
     },
     "metadata": {},
     "output_type": "display_data"
    },
    {
     "name": "stdout",
     "output_type": "stream",
     "text": [
      "\n",
      "epoch 1/4 \t train : loss 0.45576 - spearmanr 0.39472\n",
      "epoch 1: \t Start validation...\n"
     ]
    },
    {
     "data": {
      "application/vnd.jupyter.widget-view+json": {
       "model_id": "71fff25ca1dd4d5bb5d18bc09abb1c9d",
       "version_major": 2,
       "version_minor": 0
      },
      "text/plain": [
       "HBox(children=(IntProgress(value=0, max=304), HTML(value='')))"
      ]
     },
     "metadata": {},
     "output_type": "display_data"
    },
    {
     "name": "stdout",
     "output_type": "stream",
     "text": [
      "\n",
      "epoch 1/4 \t valid : loss 0.46174 - spearmanr 0.41196\n",
      "best model: epoch 1 - 0.41196\n",
      "epoch 2: \t Start training...\n"
     ]
    },
    {
     "data": {
      "application/vnd.jupyter.widget-view+json": {
       "model_id": "9a71735b713a421985f7fe975fbebd5c",
       "version_major": 2,
       "version_minor": 0
      },
      "text/plain": [
       "HBox(children=(IntProgress(value=0, max=2736), HTML(value='')))"
      ]
     },
     "metadata": {},
     "output_type": "display_data"
    },
    {
     "name": "stdout",
     "output_type": "stream",
     "text": [
      "\n",
      "epoch 2/4 \t train : loss 0.43239 - spearmanr 0.45824\n",
      "epoch 2: \t Start validation...\n"
     ]
    },
    {
     "data": {
      "application/vnd.jupyter.widget-view+json": {
       "model_id": "06700793889e42ac928490c1e4b4377a",
       "version_major": 2,
       "version_minor": 0
      },
      "text/plain": [
       "HBox(children=(IntProgress(value=0, max=304), HTML(value='')))"
      ]
     },
     "metadata": {},
     "output_type": "display_data"
    },
    {
     "name": "stdout",
     "output_type": "stream",
     "text": [
      "\n",
      "epoch 2/4 \t valid : loss 0.46075 - spearmanr 0.413\n",
      "best model: epoch 2 - 0.413\n",
      "epoch 3: \t Start training...\n"
     ]
    },
    {
     "data": {
      "application/vnd.jupyter.widget-view+json": {
       "model_id": "10dc645037c24ecbb343a05215f609fb",
       "version_major": 2,
       "version_minor": 0
      },
      "text/plain": [
       "HBox(children=(IntProgress(value=0, max=2736), HTML(value='')))"
      ]
     },
     "metadata": {},
     "output_type": "display_data"
    },
    {
     "name": "stdout",
     "output_type": "stream",
     "text": [
      "\n",
      "epoch 3/4 \t train : loss 0.41065 - spearmanr 0.51188\n",
      "epoch 3: \t Start validation...\n"
     ]
    },
    {
     "data": {
      "application/vnd.jupyter.widget-view+json": {
       "model_id": "cf86f9c496874977a38320f9c38aec33",
       "version_major": 2,
       "version_minor": 0
      },
      "text/plain": [
       "HBox(children=(IntProgress(value=0, max=304), HTML(value='')))"
      ]
     },
     "metadata": {},
     "output_type": "display_data"
    },
    {
     "name": "stdout",
     "output_type": "stream",
     "text": [
      "\n",
      "epoch 3/4 \t valid : loss 0.46739 - spearmanr 0.41221\n",
      "model not improved for 1 epochs\n",
      "TRAINING END: Best score achieved on epoch 2 - 0.41300\n",
      "Starting inference for model: checkpoints/siamese_bert_4_fold_8_epoch_1.pth\n"
     ]
    },
    {
     "data": {
      "application/vnd.jupyter.widget-view+json": {
       "model_id": "74fcbce1f04d476f96aadb778ee8eb9a",
       "version_major": 2,
       "version_minor": 0
      },
      "text/plain": [
       "HBox(children=(IntProgress(value=0, max=304), HTML(value='')))"
      ]
     },
     "metadata": {},
     "output_type": "display_data"
    },
    {
     "name": "stdout",
     "output_type": "stream",
     "text": [
      "\n",
      "Starting inference for model: checkpoints/siamese_bert_4_fold_8_epoch_2.pth\n"
     ]
    },
    {
     "data": {
      "application/vnd.jupyter.widget-view+json": {
       "model_id": "3fd5d0ec3c27455c8beb70f780da2f8d",
       "version_major": 2,
       "version_minor": 0
      },
      "text/plain": [
       "HBox(children=(IntProgress(value=0, max=304), HTML(value='')))"
      ]
     },
     "metadata": {},
     "output_type": "display_data"
    },
    {
     "name": "stdout",
     "output_type": "stream",
     "text": [
      "\n",
      "Starting inference for model: checkpoints/siamese_bert_4_fold_8_epoch_3.pth\n"
     ]
    },
    {
     "data": {
      "application/vnd.jupyter.widget-view+json": {
       "model_id": "6e50c6ad8f474e4e8c7203ccdeb36c28",
       "version_major": 2,
       "version_minor": 0
      },
      "text/plain": [
       "HBox(children=(IntProgress(value=0, max=304), HTML(value='')))"
      ]
     },
     "metadata": {},
     "output_type": "display_data"
    },
    {
     "name": "stdout",
     "output_type": "stream",
     "text": [
      "\n",
      "Averaged Val. score: 0.4167884996481433\n",
      "Starting inference for model: checkpoints/siamese_bert_4_fold_8_best.pth\n"
     ]
    },
    {
     "data": {
      "application/vnd.jupyter.widget-view+json": {
       "model_id": "8e2aa28f6bf44e06964ae465d22fedd0",
       "version_major": 2,
       "version_minor": 0
      },
      "text/plain": [
       "HBox(children=(IntProgress(value=0, max=238), HTML(value='')))"
      ]
     },
     "metadata": {},
     "output_type": "display_data"
    },
    {
     "name": "stdout",
     "output_type": "stream",
     "text": [
      "\n",
      "Fold 9 started at Thu Jan 23 00:15:17 2020\n",
      "epoch 0: \t Start training...\n"
     ]
    },
    {
     "data": {
      "application/vnd.jupyter.widget-view+json": {
       "model_id": "d8b8f31f8c28418ba969c16049638774",
       "version_major": 2,
       "version_minor": 0
      },
      "text/plain": [
       "HBox(children=(IntProgress(value=0, max=2736), HTML(value='')))"
      ]
     },
     "metadata": {},
     "output_type": "display_data"
    },
    {
     "name": "stdout",
     "output_type": "stream",
     "text": [
      "\n",
      "epoch 0/4 \t train : loss 0.50921 - spearmanr 0.24565\n",
      "epoch 0: \t Start validation...\n"
     ]
    },
    {
     "data": {
      "application/vnd.jupyter.widget-view+json": {
       "model_id": "d7180c71134242869b7d053d4d983f05",
       "version_major": 2,
       "version_minor": 0
      },
      "text/plain": [
       "HBox(children=(IntProgress(value=0, max=304), HTML(value='')))"
      ]
     },
     "metadata": {},
     "output_type": "display_data"
    },
    {
     "name": "stdout",
     "output_type": "stream",
     "text": [
      "\n",
      "epoch 0/4 \t valid : loss 0.47053 - spearmanr 0.35948\n",
      "best model: epoch 0 - 0.35948\n",
      "epoch 1: \t Start training...\n"
     ]
    },
    {
     "data": {
      "application/vnd.jupyter.widget-view+json": {
       "model_id": "b40fe13674a2495688358a8a22542489",
       "version_major": 2,
       "version_minor": 0
      },
      "text/plain": [
       "HBox(children=(IntProgress(value=0, max=2736), HTML(value='')))"
      ]
     },
     "metadata": {},
     "output_type": "display_data"
    },
    {
     "name": "stdout",
     "output_type": "stream",
     "text": [
      "\n",
      "epoch 1/4 \t train : loss 0.45612 - spearmanr 0.39666\n",
      "epoch 1: \t Start validation...\n"
     ]
    },
    {
     "data": {
      "application/vnd.jupyter.widget-view+json": {
       "model_id": "0b171c403adc4c0ebc9410dddcd544c5",
       "version_major": 2,
       "version_minor": 0
      },
      "text/plain": [
       "HBox(children=(IntProgress(value=0, max=304), HTML(value='')))"
      ]
     },
     "metadata": {},
     "output_type": "display_data"
    },
    {
     "name": "stdout",
     "output_type": "stream",
     "text": [
      "\n",
      "epoch 1/4 \t valid : loss 0.45604 - spearmanr 0.39785\n",
      "best model: epoch 1 - 0.39785\n",
      "epoch 2: \t Start training...\n"
     ]
    },
    {
     "data": {
      "application/vnd.jupyter.widget-view+json": {
       "model_id": "8981afc142ce4cde97e3774a1d813288",
       "version_major": 2,
       "version_minor": 0
      },
      "text/plain": [
       "HBox(children=(IntProgress(value=0, max=2736), HTML(value='')))"
      ]
     },
     "metadata": {},
     "output_type": "display_data"
    },
    {
     "name": "stdout",
     "output_type": "stream",
     "text": [
      "\n",
      "epoch 2/4 \t train : loss 0.43183 - spearmanr 0.46189\n",
      "epoch 2: \t Start validation...\n"
     ]
    },
    {
     "data": {
      "application/vnd.jupyter.widget-view+json": {
       "model_id": "adb44a8b779f4e46a6519bf90f1df900",
       "version_major": 2,
       "version_minor": 0
      },
      "text/plain": [
       "HBox(children=(IntProgress(value=0, max=304), HTML(value='')))"
      ]
     },
     "metadata": {},
     "output_type": "display_data"
    },
    {
     "name": "stdout",
     "output_type": "stream",
     "text": [
      "\n",
      "epoch 2/4 \t valid : loss 0.45492 - spearmanr 0.40483\n",
      "best model: epoch 2 - 0.40483\n",
      "epoch 3: \t Start training...\n"
     ]
    },
    {
     "data": {
      "application/vnd.jupyter.widget-view+json": {
       "model_id": "cfb4be4beb52411691d9846660f30d9a",
       "version_major": 2,
       "version_minor": 0
      },
      "text/plain": [
       "HBox(children=(IntProgress(value=0, max=2736), HTML(value='')))"
      ]
     },
     "metadata": {},
     "output_type": "display_data"
    },
    {
     "name": "stdout",
     "output_type": "stream",
     "text": [
      "\n",
      "epoch 3/4 \t train : loss 0.41025 - spearmanr 0.5153\n",
      "epoch 3: \t Start validation...\n"
     ]
    },
    {
     "data": {
      "application/vnd.jupyter.widget-view+json": {
       "model_id": "4146f732d44d4231b7c7522d7566b08c",
       "version_major": 2,
       "version_minor": 0
      },
      "text/plain": [
       "HBox(children=(IntProgress(value=0, max=304), HTML(value='')))"
      ]
     },
     "metadata": {},
     "output_type": "display_data"
    },
    {
     "name": "stdout",
     "output_type": "stream",
     "text": [
      "\n",
      "epoch 3/4 \t valid : loss 0.45829 - spearmanr 0.40373\n",
      "model not improved for 1 epochs\n",
      "TRAINING END: Best score achieved on epoch 2 - 0.40483\n",
      "Starting inference for model: checkpoints/siamese_bert_4_fold_9_epoch_1.pth\n"
     ]
    },
    {
     "data": {
      "application/vnd.jupyter.widget-view+json": {
       "model_id": "24621823b51343c1bf389b1bd3f6ab94",
       "version_major": 2,
       "version_minor": 0
      },
      "text/plain": [
       "HBox(children=(IntProgress(value=0, max=304), HTML(value='')))"
      ]
     },
     "metadata": {},
     "output_type": "display_data"
    },
    {
     "name": "stdout",
     "output_type": "stream",
     "text": [
      "\n",
      "Starting inference for model: checkpoints/siamese_bert_4_fold_9_epoch_2.pth\n"
     ]
    },
    {
     "data": {
      "application/vnd.jupyter.widget-view+json": {
       "model_id": "11ad14b12443494bb9614a0824091189",
       "version_major": 2,
       "version_minor": 0
      },
      "text/plain": [
       "HBox(children=(IntProgress(value=0, max=304), HTML(value='')))"
      ]
     },
     "metadata": {},
     "output_type": "display_data"
    },
    {
     "name": "stdout",
     "output_type": "stream",
     "text": [
      "\n",
      "Starting inference for model: checkpoints/siamese_bert_4_fold_9_epoch_3.pth\n"
     ]
    },
    {
     "data": {
      "application/vnd.jupyter.widget-view+json": {
       "model_id": "50cbfdda8af641aca2a7f15039287496",
       "version_major": 2,
       "version_minor": 0
      },
      "text/plain": [
       "HBox(children=(IntProgress(value=0, max=304), HTML(value='')))"
      ]
     },
     "metadata": {},
     "output_type": "display_data"
    },
    {
     "name": "stdout",
     "output_type": "stream",
     "text": [
      "\n",
      "Averaged Val. score: 0.4062959560463029\n",
      "Starting inference for model: checkpoints/siamese_bert_4_fold_9_best.pth\n"
     ]
    },
    {
     "data": {
      "application/vnd.jupyter.widget-view+json": {
       "model_id": "67d1bcd4286747b49e2c52eba97d9ace",
       "version_major": 2,
       "version_minor": 0
      },
      "text/plain": [
       "HBox(children=(IntProgress(value=0, max=238), HTML(value='')))"
      ]
     },
     "metadata": {},
     "output_type": "display_data"
    },
    {
     "name": "stdout",
     "output_type": "stream",
     "text": [
      "\n",
      "Fold 10 started at Thu Jan 23 00:54:45 2020\n",
      "epoch 0: \t Start training...\n"
     ]
    },
    {
     "data": {
      "application/vnd.jupyter.widget-view+json": {
       "model_id": "7ac63c296c9646eaaac8ee5dcee8cb9e",
       "version_major": 2,
       "version_minor": 0
      },
      "text/plain": [
       "HBox(children=(IntProgress(value=0, max=2736), HTML(value='')))"
      ]
     },
     "metadata": {},
     "output_type": "display_data"
    },
    {
     "name": "stdout",
     "output_type": "stream",
     "text": [
      "\n",
      "epoch 0/4 \t train : loss 0.50935 - spearmanr 0.24542\n",
      "epoch 0: \t Start validation...\n"
     ]
    },
    {
     "data": {
      "application/vnd.jupyter.widget-view+json": {
       "model_id": "9ba2622eef12448ba1540f7f113ad346",
       "version_major": 2,
       "version_minor": 0
      },
      "text/plain": [
       "HBox(children=(IntProgress(value=0, max=304), HTML(value='')))"
      ]
     },
     "metadata": {},
     "output_type": "display_data"
    },
    {
     "name": "stdout",
     "output_type": "stream",
     "text": [
      "\n",
      "epoch 0/4 \t valid : loss 0.4613 - spearmanr 0.38525\n",
      "best model: epoch 0 - 0.38525\n",
      "epoch 1: \t Start training...\n"
     ]
    },
    {
     "data": {
      "application/vnd.jupyter.widget-view+json": {
       "model_id": "9c7159a4e14e4e3084daeb9ffedcf4a1",
       "version_major": 2,
       "version_minor": 0
      },
      "text/plain": [
       "HBox(children=(IntProgress(value=0, max=2736), HTML(value='')))"
      ]
     },
     "metadata": {},
     "output_type": "display_data"
    },
    {
     "name": "stdout",
     "output_type": "stream",
     "text": [
      "\n",
      "epoch 1/4 \t train : loss 0.45715 - spearmanr 0.39631\n",
      "epoch 1: \t Start validation...\n"
     ]
    },
    {
     "data": {
      "application/vnd.jupyter.widget-view+json": {
       "model_id": "cf40a9c3704546d8a99ec7fdc65644ca",
       "version_major": 2,
       "version_minor": 0
      },
      "text/plain": [
       "HBox(children=(IntProgress(value=0, max=304), HTML(value='')))"
      ]
     },
     "metadata": {},
     "output_type": "display_data"
    },
    {
     "name": "stdout",
     "output_type": "stream",
     "text": [
      "\n",
      "epoch 1/4 \t valid : loss 0.44577 - spearmanr 0.42002\n",
      "best model: epoch 1 - 0.42002\n",
      "epoch 2: \t Start training...\n"
     ]
    },
    {
     "data": {
      "application/vnd.jupyter.widget-view+json": {
       "model_id": "c0bce354cf0743629921e9a7c92b4206",
       "version_major": 2,
       "version_minor": 0
      },
      "text/plain": [
       "HBox(children=(IntProgress(value=0, max=2736), HTML(value='')))"
      ]
     },
     "metadata": {},
     "output_type": "display_data"
    },
    {
     "name": "stdout",
     "output_type": "stream",
     "text": [
      "\n",
      "epoch 2/4 \t train : loss 0.43328 - spearmanr 0.45877\n",
      "epoch 2: \t Start validation...\n"
     ]
    },
    {
     "data": {
      "application/vnd.jupyter.widget-view+json": {
       "model_id": "80eebe667c5d4b43885122f59a9d9090",
       "version_major": 2,
       "version_minor": 0
      },
      "text/plain": [
       "HBox(children=(IntProgress(value=0, max=304), HTML(value='')))"
      ]
     },
     "metadata": {},
     "output_type": "display_data"
    },
    {
     "name": "stdout",
     "output_type": "stream",
     "text": [
      "\n",
      "epoch 2/4 \t valid : loss 0.44424 - spearmanr 0.42284\n",
      "best model: epoch 2 - 0.42284\n",
      "epoch 3: \t Start training...\n"
     ]
    },
    {
     "data": {
      "application/vnd.jupyter.widget-view+json": {
       "model_id": "9752c63845044a69b1cda83917cf2f97",
       "version_major": 2,
       "version_minor": 0
      },
      "text/plain": [
       "HBox(children=(IntProgress(value=0, max=2736), HTML(value='')))"
      ]
     },
     "metadata": {},
     "output_type": "display_data"
    },
    {
     "name": "stdout",
     "output_type": "stream",
     "text": [
      "\n",
      "epoch 3/4 \t train : loss 0.41079 - spearmanr 0.51465\n",
      "epoch 3: \t Start validation...\n"
     ]
    },
    {
     "data": {
      "application/vnd.jupyter.widget-view+json": {
       "model_id": "20cc737fc3cb43a381db6842c6a3be5b",
       "version_major": 2,
       "version_minor": 0
      },
      "text/plain": [
       "HBox(children=(IntProgress(value=0, max=304), HTML(value='')))"
      ]
     },
     "metadata": {},
     "output_type": "display_data"
    },
    {
     "name": "stdout",
     "output_type": "stream",
     "text": [
      "\n",
      "epoch 3/4 \t valid : loss 0.44632 - spearmanr 0.42221\n",
      "model not improved for 1 epochs\n",
      "TRAINING END: Best score achieved on epoch 2 - 0.42284\n",
      "Starting inference for model: checkpoints/siamese_bert_4_fold_10_epoch_1.pth\n"
     ]
    },
    {
     "data": {
      "application/vnd.jupyter.widget-view+json": {
       "model_id": "50884d115c9549a497754948aca448ac",
       "version_major": 2,
       "version_minor": 0
      },
      "text/plain": [
       "HBox(children=(IntProgress(value=0, max=304), HTML(value='')))"
      ]
     },
     "metadata": {},
     "output_type": "display_data"
    },
    {
     "name": "stdout",
     "output_type": "stream",
     "text": [
      "\n",
      "Starting inference for model: checkpoints/siamese_bert_4_fold_10_epoch_2.pth\n"
     ]
    },
    {
     "data": {
      "application/vnd.jupyter.widget-view+json": {
       "model_id": "b759d317901c47b584171f2334818060",
       "version_major": 2,
       "version_minor": 0
      },
      "text/plain": [
       "HBox(children=(IntProgress(value=0, max=304), HTML(value='')))"
      ]
     },
     "metadata": {},
     "output_type": "display_data"
    },
    {
     "name": "stdout",
     "output_type": "stream",
     "text": [
      "\n",
      "Starting inference for model: checkpoints/siamese_bert_4_fold_10_epoch_3.pth\n"
     ]
    },
    {
     "data": {
      "application/vnd.jupyter.widget-view+json": {
       "model_id": "0d50a50dc5994e7daa16e6f8ad8d8c49",
       "version_major": 2,
       "version_minor": 0
      },
      "text/plain": [
       "HBox(children=(IntProgress(value=0, max=304), HTML(value='')))"
      ]
     },
     "metadata": {},
     "output_type": "display_data"
    },
    {
     "name": "stdout",
     "output_type": "stream",
     "text": [
      "\n",
      "Averaged Val. score: 0.4272308295026128\n",
      "Starting inference for model: checkpoints/siamese_bert_4_fold_10_best.pth\n"
     ]
    },
    {
     "data": {
      "application/vnd.jupyter.widget-view+json": {
       "model_id": "3dca19a286e54589b6e38f76fd3e103d",
       "version_major": 2,
       "version_minor": 0
      },
      "text/plain": [
       "HBox(children=(IntProgress(value=0, max=238), HTML(value='')))"
      ]
     },
     "metadata": {},
     "output_type": "display_data"
    },
    {
     "name": "stdout",
     "output_type": "stream",
     "text": [
      "\n",
      "OOF score: 0.41091469044055295\n"
     ]
    }
   ],
   "source": [
    "init_seed()\n",
    "folds = GroupKFold(n_splits=n_folds).split(X=train['question_body'], groups=train['question_body'])\n",
    "oofs = np.zeros((len(train), N_TARGETS))\n",
    "preds = np.zeros((len(test), N_TARGETS))\n",
    "\n",
    "for fold_id, (train_index, valid_index) in enumerate(folds):\n",
    "    print(f'Fold {fold_id + 1} started at {time.ctime()}')\n",
    "    train_loader = DataLoader(\n",
    "        TextDataset(cat_features_train, ids_train['question'], ids_train['answer'],\n",
    "                    seg_ids_train['question'], seg_ids_train['answer'], train_index, targets=y), \n",
    "        batch_size=bs, shuffle=True, num_workers=num_workers, drop_last=False\n",
    "    )\n",
    "    valid_loader = DataLoader(\n",
    "        TextDataset(cat_features_train, ids_train['question'], ids_train['answer'],\n",
    "                    seg_ids_train['question'], seg_ids_train['answer'], valid_index, targets=y), \n",
    "        batch_size=bs, shuffle=False, num_workers=num_workers, drop_last=False\n",
    "    )\n",
    "    model = CustomBert3(256, cat_features_train.shape[1])\n",
    "    \n",
    "    if fold_id == 0:\n",
    "#         print(model)\n",
    "        model = model.to(device)\n",
    "        optimizer = get_optimizer(model, lr, weight_decay)\n",
    "        lr_finder = LRFinder(n_iter=min(grad_accum*100, len(train_loader)), start_lr=1e-5, \n",
    "                             end_lr=1, device=device, grad_accum=grad_accum, divergence_factor=5)\n",
    "        lr_finder.find_lr(model, optimizer, train_loader, loss_fn)\n",
    "        plt.show()\n",
    "    \n",
    "    optimizer = get_optimizer(model, lr, weight_decay)\n",
    "    scheduler = OneCycleLR(optimizer, n_epochs=n_epochs, n_batches=len(train_loader))\n",
    "\n",
    "    learner = Learner(\n",
    "        model, \n",
    "        optimizer, \n",
    "        train_loader, \n",
    "        valid_loader, \n",
    "        loss_fn, \n",
    "        device, \n",
    "        n_epochs, \n",
    "        f'{model_name}_fold_{fold_id + 1}', \n",
    "        checkpoint_dir, \n",
    "        scheduler=scheduler, \n",
    "        metric_fns={'spearmanr': (spearmanr_torch, 'epoch_end')}, \n",
    "        monitor_metric='spearmanr',\n",
    "        minimize_score=False, \n",
    "        logger=None,\n",
    "        grad_accum=grad_accum,\n",
    "        early_stopping=early_stopping, \n",
    "        batch_step_scheduler=True,\n",
    "        n_top_models=5\n",
    "    )\n",
    "    if (fold_id + 1) > 5: learner.train()\n",
    "    \n",
    "    oofs[valid_index] += infer(learner.model, valid_loader, learner.checkpoint_file(1), device) / 3\n",
    "    oofs[valid_index] += infer(learner.model, valid_loader, learner.checkpoint_file(2), device) / 3\n",
    "    oofs[valid_index] += infer(learner.model, valid_loader, learner.checkpoint_file(3), device) / 3\n",
    "    print(f'Averaged Val. score: {spearmanr_np(oofs[valid_index], y[valid_index])}')\n",
    "    \n",
    "    \n",
    "    test_preds = infer(learner.model, test_loader, learner.best_checkpoint_file, device)\n",
    "    preds += test_preds / n_folds\n",
    "    \n",
    "    del learner, model, train_loader, valid_loader\n",
    "    gc.collect()\n",
    "    \n",
    "print(f'OOF score: {spearmanr_np(oofs, y)}')\n",
    "#KFold 5: distilbert: 0.4160\n",
    "#GKFold 5: distilbert: ~0.4005, ~0.4130, distilbert eda: ~0.4000, ~0.4200 (unsure), bert siamese: 0.4040, 0.4188\n",
    "    # smoothing y dist -> ~0.005 CV improve\n",
    "#GKFold 10: distilbert: 0.4012, ~0.4195, bert siamese with smoothing (1): 0.4059, 0.4206, 0.4275, 0.4449\n",
    "    #bert siamese with token_type_ids (2): 0.4091. 0.4236. 0.4317, 0.4507\n",
    "    #bert siamese for 3 epochs (3): 0.4121. 0.4273. 0.4347, 0.4497\n",
    "#MLFold 5: bert siamese: 0.4118, 0.4355, 04373"
   ]
  },
  {
   "cell_type": "code",
   "execution_count": 12,
   "metadata": {},
   "outputs": [],
   "source": [
    "def my_round(x, num, dec=2):\n",
    "    return np.round(x / num, dec) * num\n",
    "\n",
    "def round_preds(preds, thres=0.0, low_dec=1, low_num=1, high_dec=2, high_num=3):\n",
    "    low_idx = preds < thres\n",
    "    new_preds = np.zeros_like(preds)\n",
    "    new_preds[low_idx] = my_round(preds[low_idx], low_num, low_dec)\n",
    "    new_preds[~low_idx] = my_round(preds[~low_idx], high_num, high_dec)\n",
    "    return new_preds\n",
    "\n",
    "def scale(x, d):\n",
    "    if d: return (x//(1/d))/d\n",
    "    else: return x\n",
    "\n",
    "def ahmet_round(preds, ds, indices):\n",
    "    new_preds = preds.copy()\n",
    "    for idx, d in zip(indices, ds):\n",
    "        new_preds[:,idx] = scale(preds[:,idx], d)\n",
    "    return new_preds"
   ]
  },
  {
   "cell_type": "code",
   "execution_count": 13,
   "metadata": {
    "scrolled": true
   },
   "outputs": [
    {
     "name": "stdout",
     "output_type": "stream",
     "text": [
      "0 5 0.35296961883572653\n",
      "0 10 0.37848158420557804\n",
      "0 15 0.383047497008554\n",
      "0 None 0.38367351970376884\n",
      "1 5 0.6495106231251916\n",
      "1 10 0.6636087480773116\n",
      "1 15 0.6654698865806958\n",
      "1 20 0.6658262226795929\n",
      "1 33 0.6668224693040077\n",
      "2 5 0.48890661961126564\n",
      "3 5 0.2819315941562942\n",
      "3 10 0.2946968291611203\n",
      "3 15 0.30182997282463553\n",
      "3 33 0.3030709566097796\n",
      "3 None 0.3033575486838583\n",
      "4 5 0.35573788444695287\n",
      "4 15 0.3583943954809704\n",
      "5 5 0.4486562696842933\n",
      "6 5 0.32127500617151117\n",
      "6 10 0.3494175525729574\n",
      "6 15 0.35529266864601944\n",
      "6 33 0.3571124139223401\n",
      "7 5 0.5078062177119642\n",
      "7 10 0.5122485883990013\n",
      "7 33 0.5127565260652561\n",
      "7 None 0.5127957224649092\n",
      "8 5 0.576077178668851\n",
      "8 10 0.5783384680003121\n",
      "8 20 0.5787243371441678\n",
      "9 10 0.06057425224454802\n",
      "9 15 0.08979406702855658\n",
      "9 20 0.10675210537656973\n",
      "9 33 0.1188637407192588\n",
      "10 5 0.45800365155041267\n",
      "10 10 0.4713334794906565\n",
      "10 15 0.4729412704664233\n",
      "11 5 0.7475603700993587\n",
      "11 10 0.7501264200543546\n",
      "12 5 0.5102289713743053\n",
      "13 5 0.19789534355426666\n",
      "13 10 0.22850486756383814\n",
      "13 15 0.24129112899805424\n",
      "13 20 0.2466016349166072\n",
      "14 5 0.6062700650946635\n",
      "14 10 0.6089769773397902\n",
      "15 5 0.5761623625569327\n",
      "16 5 0.7805937001214373\n",
      "16 10 0.7814319080225276\n",
      "16 15 0.7822181304799799\n",
      "17 5 0.33002451569695507\n",
      "17 10 0.3489992508311536\n",
      "17 15 0.35069747063408074\n",
      "17 20 0.35544028323061105\n",
      "18 5 0.6574868621365425\n",
      "18 10 0.6669885461764351\n",
      "18 15 0.6672231532384514\n",
      "18 20 0.6675934309241273\n",
      "18 33 0.6679756797648911\n",
      "18 None 0.6684127233367826\n",
      "19 10 0.4918386171171837\n",
      "20 5 0.5126380438949105\n",
      "20 10 0.522732884348428\n",
      "20 15 0.5277224532080803\n",
      "20 None 0.5282072910705277\n",
      "21 5 0.22330572160511455\n",
      "21 10 0.23346926929005576\n",
      "21 15 0.2348159609518294\n",
      "21 20 0.23673510838322254\n",
      "21 33 0.2375424179323316\n",
      "21 None 0.238032991593536\n",
      "22 5 0.41917904349055923\n",
      "22 10 0.4307596447593767\n",
      "22 15 0.43715984214651243\n",
      "22 20 0.43771386189123584\n",
      "22 33 0.4397394084032621\n",
      "22 None 0.44067231250815764\n",
      "23 5 0.12790114278051784\n",
      "23 10 0.13574062882864252\n",
      "23 20 0.13844298383098727\n",
      "24 5 0.1486180704019421\n",
      "24 10 0.15358798005610483\n",
      "24 15 0.15790307042540486\n",
      "24 None 0.15921531658019197\n",
      "25 5 0.31196996789141873\n",
      "25 10 0.32769155372816705\n",
      "25 20 0.33028483604142134\n",
      "26 5 0.7493780614507163\n",
      "26 10 0.7575475511737706\n",
      "26 15 0.7577111677587853\n",
      "26 20 0.7581109127643872\n",
      "26 33 0.7590081704635059\n",
      "27 5 0.2768613624166842\n",
      "27 10 0.2983422917775114\n",
      "27 15 0.3054353039763898\n",
      "27 20 0.306689659540987\n",
      "27 33 0.3070678581427019\n",
      "28 5 0.6600126285228907\n",
      "28 10 0.6713724730871957\n",
      "28 15 0.672995811241979\n",
      "28 20 0.6747751038113955\n",
      "28 33 0.6755005004971892\n",
      "28 None 0.6759169160786817\n",
      "29 5 0.21617683463087384\n",
      "29 10 0.22482380110452935\n",
      "29 15 0.22924152808155787\n",
      "29 33 0.232849405127465\n"
     ]
    }
   ],
   "source": [
    "from scipy.stats import spearmanr\n",
    "opt_ds = []\n",
    "opt_indices = []\n",
    "for idx in range(N_TARGETS):\n",
    "    opt_score = 0\n",
    "    opt_d = None\n",
    "    for d in [5, 10, 15, 20, 33, None]:\n",
    "        score = spearmanr(scale(oofs[:,idx], d), y[:,idx])[0]\n",
    "        if score > opt_score:\n",
    "            opt_score = score\n",
    "            opt_d = d\n",
    "            print(idx, d, score)\n",
    "    if opt_d:\n",
    "        opt_ds.append(opt_d)\n",
    "        opt_indices.append(idx)"
   ]
  },
  {
   "cell_type": "code",
   "execution_count": 28,
   "metadata": {},
   "outputs": [
    {
     "data": {
      "text/plain": [
       "(array([33,  5, 15,  5, 33, 20, 33, 15, 10,  5, 20, 10,  5, 15, 20, 10, 20,\n",
       "        20, 33, 33, 33]),\n",
       " array([ 1,  2,  4,  5,  6,  8,  9, 10, 11, 12, 13, 14, 15, 16, 17, 19, 23,\n",
       "        25, 26, 27, 29]))"
      ]
     },
     "execution_count": 28,
     "metadata": {},
     "output_type": "execute_result"
    }
   ],
   "source": [
    "np.array(opt_ds), np.array(opt_indices)"
   ]
  },
  {
   "cell_type": "code",
   "execution_count": 15,
   "metadata": {},
   "outputs": [
    {
     "data": {
      "text/plain": [
       "0.44966508363429947"
      ]
     },
     "execution_count": 15,
     "metadata": {},
     "output_type": "execute_result"
    }
   ],
   "source": [
    "spearmanr_np(ahmet_round(oofs, opt_ds, opt_indices), y)"
   ]
  },
  {
   "cell_type": "code",
   "execution_count": null,
   "metadata": {},
   "outputs": [],
   "source": []
  },
  {
   "cell_type": "code",
   "execution_count": 16,
   "metadata": {
    "scrolled": false
   },
   "outputs": [
    {
     "data": {
      "text/plain": [
       "0.44966508363429947"
      ]
     },
     "execution_count": 16,
     "metadata": {},
     "output_type": "execute_result"
    }
   ],
   "source": [
    "oofs_alt = oofs.copy()\n",
    "train[\"eng\"] = train[\"url\"].apply(lambda x: x.startswith(\"http://english.\") or x.startswith(\"http://ell.\"))\n",
    "oofs_alt[np.where((~train[\"eng\"]).values)[0], 19] = 0\n",
    "spearmanr_np(ahmet_round(oofs_alt, opt_ds, opt_indices), y)"
   ]
  },
  {
   "cell_type": "code",
   "execution_count": 17,
   "metadata": {
    "scrolled": false
   },
   "outputs": [
    {
     "data": {
      "text/plain": [
       "0.41091469044055295"
      ]
     },
     "execution_count": 17,
     "metadata": {},
     "output_type": "execute_result"
    }
   ],
   "source": [
    "spearmanr_np(oofs, y)"
   ]
  },
  {
   "cell_type": "code",
   "execution_count": 18,
   "metadata": {
    "scrolled": false
   },
   "outputs": [
    {
     "data": {
      "text/plain": [
       "0.4224543116568158"
      ]
     },
     "execution_count": 18,
     "metadata": {},
     "output_type": "execute_result"
    }
   ],
   "source": [
    "spearmanr_np(round_preds(oofs, high_num=3), y)"
   ]
  },
  {
   "cell_type": "code",
   "execution_count": 19,
   "metadata": {},
   "outputs": [],
   "source": [
    "# clipping is necessary or we will get an error\n",
    "sample_submission.loc[:, 'question_asker_intent_understanding':] = np.clip(preds, 0.00001, 0.999999)\n",
    "sample_submission.to_csv('subs/submission.csv', index=False)"
   ]
  },
  {
   "cell_type": "code",
   "execution_count": 20,
   "metadata": {
    "scrolled": false
   },
   "outputs": [
    {
     "data": {
      "text/html": [
       "<div>\n",
       "<style scoped>\n",
       "    .dataframe tbody tr th:only-of-type {\n",
       "        vertical-align: middle;\n",
       "    }\n",
       "\n",
       "    .dataframe tbody tr th {\n",
       "        vertical-align: top;\n",
       "    }\n",
       "\n",
       "    .dataframe thead th {\n",
       "        text-align: right;\n",
       "    }\n",
       "</style>\n",
       "<table border=\"1\" class=\"dataframe\">\n",
       "  <thead>\n",
       "    <tr style=\"text-align: right;\">\n",
       "      <th></th>\n",
       "      <th>qa_id</th>\n",
       "      <th>question_asker_intent_understanding</th>\n",
       "      <th>question_body_critical</th>\n",
       "      <th>question_conversational</th>\n",
       "      <th>question_expect_short_answer</th>\n",
       "      <th>question_fact_seeking</th>\n",
       "      <th>question_has_commonly_accepted_answer</th>\n",
       "      <th>question_interestingness_others</th>\n",
       "      <th>question_interestingness_self</th>\n",
       "      <th>question_multi_intent</th>\n",
       "      <th>question_not_really_a_question</th>\n",
       "      <th>question_opinion_seeking</th>\n",
       "      <th>question_type_choice</th>\n",
       "      <th>question_type_compare</th>\n",
       "      <th>question_type_consequence</th>\n",
       "      <th>question_type_definition</th>\n",
       "      <th>question_type_entity</th>\n",
       "      <th>question_type_instructions</th>\n",
       "      <th>question_type_procedure</th>\n",
       "      <th>question_type_reason_explanation</th>\n",
       "      <th>question_type_spelling</th>\n",
       "      <th>question_well_written</th>\n",
       "      <th>answer_helpful</th>\n",
       "      <th>answer_level_of_information</th>\n",
       "      <th>answer_plausible</th>\n",
       "      <th>answer_relevance</th>\n",
       "      <th>answer_satisfaction</th>\n",
       "      <th>answer_type_instructions</th>\n",
       "      <th>answer_type_procedure</th>\n",
       "      <th>answer_type_reason_explanation</th>\n",
       "      <th>answer_well_written</th>\n",
       "    </tr>\n",
       "  </thead>\n",
       "  <tbody>\n",
       "    <tr>\n",
       "      <th>0</th>\n",
       "      <td>39</td>\n",
       "      <td>0.820128</td>\n",
       "      <td>0.560491</td>\n",
       "      <td>0.287655</td>\n",
       "      <td>0.392382</td>\n",
       "      <td>0.556220</td>\n",
       "      <td>0.415504</td>\n",
       "      <td>0.684707</td>\n",
       "      <td>0.705357</td>\n",
       "      <td>0.737442</td>\n",
       "      <td>0.004511</td>\n",
       "      <td>0.699351</td>\n",
       "      <td>0.791062</td>\n",
       "      <td>0.023480</td>\n",
       "      <td>0.433926</td>\n",
       "      <td>0.006390</td>\n",
       "      <td>0.019275</td>\n",
       "      <td>0.097979</td>\n",
       "      <td>0.167859</td>\n",
       "      <td>0.781745</td>\n",
       "      <td>0.000574</td>\n",
       "      <td>0.809896</td>\n",
       "      <td>0.574970</td>\n",
       "      <td>0.185562</td>\n",
       "      <td>0.741421</td>\n",
       "      <td>0.721458</td>\n",
       "      <td>0.307480</td>\n",
       "      <td>0.024030</td>\n",
       "      <td>0.039609</td>\n",
       "      <td>0.790241</td>\n",
       "      <td>0.601988</td>\n",
       "    </tr>\n",
       "    <tr>\n",
       "      <th>1</th>\n",
       "      <td>46</td>\n",
       "      <td>0.457425</td>\n",
       "      <td>0.276422</td>\n",
       "      <td>0.009365</td>\n",
       "      <td>0.673220</td>\n",
       "      <td>0.632151</td>\n",
       "      <td>0.865561</td>\n",
       "      <td>0.414767</td>\n",
       "      <td>0.354307</td>\n",
       "      <td>0.045207</td>\n",
       "      <td>0.017440</td>\n",
       "      <td>0.483384</td>\n",
       "      <td>0.225443</td>\n",
       "      <td>0.003711</td>\n",
       "      <td>0.000447</td>\n",
       "      <td>0.000723</td>\n",
       "      <td>0.011980</td>\n",
       "      <td>0.895310</td>\n",
       "      <td>0.320857</td>\n",
       "      <td>0.070142</td>\n",
       "      <td>0.000105</td>\n",
       "      <td>0.222240</td>\n",
       "      <td>0.748567</td>\n",
       "      <td>0.474121</td>\n",
       "      <td>0.859028</td>\n",
       "      <td>0.923253</td>\n",
       "      <td>0.571277</td>\n",
       "      <td>0.943385</td>\n",
       "      <td>0.219972</td>\n",
       "      <td>0.038276</td>\n",
       "      <td>0.588884</td>\n",
       "    </tr>\n",
       "    <tr>\n",
       "      <th>2</th>\n",
       "      <td>70</td>\n",
       "      <td>0.681723</td>\n",
       "      <td>0.521730</td>\n",
       "      <td>0.033955</td>\n",
       "      <td>0.643189</td>\n",
       "      <td>0.816742</td>\n",
       "      <td>0.903828</td>\n",
       "      <td>0.511296</td>\n",
       "      <td>0.425606</td>\n",
       "      <td>0.303703</td>\n",
       "      <td>0.005011</td>\n",
       "      <td>0.299266</td>\n",
       "      <td>0.721327</td>\n",
       "      <td>0.025606</td>\n",
       "      <td>0.054118</td>\n",
       "      <td>0.001961</td>\n",
       "      <td>0.007164</td>\n",
       "      <td>0.155803</td>\n",
       "      <td>0.144926</td>\n",
       "      <td>0.762992</td>\n",
       "      <td>0.000767</td>\n",
       "      <td>0.637243</td>\n",
       "      <td>0.655138</td>\n",
       "      <td>0.308473</td>\n",
       "      <td>0.841519</td>\n",
       "      <td>0.839417</td>\n",
       "      <td>0.482044</td>\n",
       "      <td>0.054672</td>\n",
       "      <td>0.064818</td>\n",
       "      <td>0.840877</td>\n",
       "      <td>0.536865</td>\n",
       "    </tr>\n",
       "    <tr>\n",
       "      <th>3</th>\n",
       "      <td>132</td>\n",
       "      <td>0.574080</td>\n",
       "      <td>0.171395</td>\n",
       "      <td>0.004386</td>\n",
       "      <td>0.618407</td>\n",
       "      <td>0.633731</td>\n",
       "      <td>0.877567</td>\n",
       "      <td>0.384812</td>\n",
       "      <td>0.236057</td>\n",
       "      <td>0.152763</td>\n",
       "      <td>0.009837</td>\n",
       "      <td>0.592906</td>\n",
       "      <td>0.107932</td>\n",
       "      <td>0.001555</td>\n",
       "      <td>0.002178</td>\n",
       "      <td>0.000288</td>\n",
       "      <td>0.002205</td>\n",
       "      <td>0.825233</td>\n",
       "      <td>0.299557</td>\n",
       "      <td>0.591881</td>\n",
       "      <td>0.000047</td>\n",
       "      <td>0.418133</td>\n",
       "      <td>0.805226</td>\n",
       "      <td>0.586232</td>\n",
       "      <td>0.873680</td>\n",
       "      <td>0.921676</td>\n",
       "      <td>0.642043</td>\n",
       "      <td>0.847829</td>\n",
       "      <td>0.315526</td>\n",
       "      <td>0.624869</td>\n",
       "      <td>0.664094</td>\n",
       "    </tr>\n",
       "    <tr>\n",
       "      <th>4</th>\n",
       "      <td>200</td>\n",
       "      <td>0.788834</td>\n",
       "      <td>0.283893</td>\n",
       "      <td>0.042986</td>\n",
       "      <td>0.802276</td>\n",
       "      <td>0.723305</td>\n",
       "      <td>0.874508</td>\n",
       "      <td>0.682778</td>\n",
       "      <td>0.713387</td>\n",
       "      <td>0.187189</td>\n",
       "      <td>0.035344</td>\n",
       "      <td>0.348660</td>\n",
       "      <td>0.561454</td>\n",
       "      <td>0.008500</td>\n",
       "      <td>0.020048</td>\n",
       "      <td>0.009132</td>\n",
       "      <td>0.069557</td>\n",
       "      <td>0.182958</td>\n",
       "      <td>0.194185</td>\n",
       "      <td>0.576088</td>\n",
       "      <td>0.003612</td>\n",
       "      <td>0.351343</td>\n",
       "      <td>0.735148</td>\n",
       "      <td>0.557417</td>\n",
       "      <td>0.875243</td>\n",
       "      <td>0.871026</td>\n",
       "      <td>0.639621</td>\n",
       "      <td>0.238881</td>\n",
       "      <td>0.233030</td>\n",
       "      <td>0.699992</td>\n",
       "      <td>0.609612</td>\n",
       "    </tr>\n",
       "  </tbody>\n",
       "</table>\n",
       "</div>"
      ],
      "text/plain": [
       "   qa_id  question_asker_intent_understanding  question_body_critical  \\\n",
       "0     39                             0.820128                0.560491   \n",
       "1     46                             0.457425                0.276422   \n",
       "2     70                             0.681723                0.521730   \n",
       "3    132                             0.574080                0.171395   \n",
       "4    200                             0.788834                0.283893   \n",
       "\n",
       "   question_conversational  question_expect_short_answer  \\\n",
       "0                 0.287655                      0.392382   \n",
       "1                 0.009365                      0.673220   \n",
       "2                 0.033955                      0.643189   \n",
       "3                 0.004386                      0.618407   \n",
       "4                 0.042986                      0.802276   \n",
       "\n",
       "   question_fact_seeking  question_has_commonly_accepted_answer  \\\n",
       "0               0.556220                               0.415504   \n",
       "1               0.632151                               0.865561   \n",
       "2               0.816742                               0.903828   \n",
       "3               0.633731                               0.877567   \n",
       "4               0.723305                               0.874508   \n",
       "\n",
       "   question_interestingness_others  question_interestingness_self  \\\n",
       "0                         0.684707                       0.705357   \n",
       "1                         0.414767                       0.354307   \n",
       "2                         0.511296                       0.425606   \n",
       "3                         0.384812                       0.236057   \n",
       "4                         0.682778                       0.713387   \n",
       "\n",
       "   question_multi_intent  question_not_really_a_question  \\\n",
       "0               0.737442                        0.004511   \n",
       "1               0.045207                        0.017440   \n",
       "2               0.303703                        0.005011   \n",
       "3               0.152763                        0.009837   \n",
       "4               0.187189                        0.035344   \n",
       "\n",
       "   question_opinion_seeking  question_type_choice  question_type_compare  \\\n",
       "0                  0.699351              0.791062               0.023480   \n",
       "1                  0.483384              0.225443               0.003711   \n",
       "2                  0.299266              0.721327               0.025606   \n",
       "3                  0.592906              0.107932               0.001555   \n",
       "4                  0.348660              0.561454               0.008500   \n",
       "\n",
       "   question_type_consequence  question_type_definition  question_type_entity  \\\n",
       "0                   0.433926                  0.006390              0.019275   \n",
       "1                   0.000447                  0.000723              0.011980   \n",
       "2                   0.054118                  0.001961              0.007164   \n",
       "3                   0.002178                  0.000288              0.002205   \n",
       "4                   0.020048                  0.009132              0.069557   \n",
       "\n",
       "   question_type_instructions  question_type_procedure  \\\n",
       "0                    0.097979                 0.167859   \n",
       "1                    0.895310                 0.320857   \n",
       "2                    0.155803                 0.144926   \n",
       "3                    0.825233                 0.299557   \n",
       "4                    0.182958                 0.194185   \n",
       "\n",
       "   question_type_reason_explanation  question_type_spelling  \\\n",
       "0                          0.781745                0.000574   \n",
       "1                          0.070142                0.000105   \n",
       "2                          0.762992                0.000767   \n",
       "3                          0.591881                0.000047   \n",
       "4                          0.576088                0.003612   \n",
       "\n",
       "   question_well_written  answer_helpful  answer_level_of_information  \\\n",
       "0               0.809896        0.574970                     0.185562   \n",
       "1               0.222240        0.748567                     0.474121   \n",
       "2               0.637243        0.655138                     0.308473   \n",
       "3               0.418133        0.805226                     0.586232   \n",
       "4               0.351343        0.735148                     0.557417   \n",
       "\n",
       "   answer_plausible  answer_relevance  answer_satisfaction  \\\n",
       "0          0.741421          0.721458             0.307480   \n",
       "1          0.859028          0.923253             0.571277   \n",
       "2          0.841519          0.839417             0.482044   \n",
       "3          0.873680          0.921676             0.642043   \n",
       "4          0.875243          0.871026             0.639621   \n",
       "\n",
       "   answer_type_instructions  answer_type_procedure  \\\n",
       "0                  0.024030               0.039609   \n",
       "1                  0.943385               0.219972   \n",
       "2                  0.054672               0.064818   \n",
       "3                  0.847829               0.315526   \n",
       "4                  0.238881               0.233030   \n",
       "\n",
       "   answer_type_reason_explanation  answer_well_written  \n",
       "0                        0.790241             0.601988  \n",
       "1                        0.038276             0.588884  \n",
       "2                        0.840877             0.536865  \n",
       "3                        0.624869             0.664094  \n",
       "4                        0.699992             0.609612  "
      ]
     },
     "execution_count": 20,
     "metadata": {},
     "output_type": "execute_result"
    }
   ],
   "source": [
    "sample_submission.head()"
   ]
  },
  {
   "cell_type": "code",
   "execution_count": 21,
   "metadata": {},
   "outputs": [],
   "source": [
    "pd.DataFrame(oofs, columns=TARGETS).to_csv(f'oofs/{model_name}_oofs.csv')"
   ]
  },
  {
   "cell_type": "code",
   "execution_count": 22,
   "metadata": {},
   "outputs": [
    {
     "data": {
      "text/html": [
       "<div>\n",
       "<style scoped>\n",
       "    .dataframe tbody tr th:only-of-type {\n",
       "        vertical-align: middle;\n",
       "    }\n",
       "\n",
       "    .dataframe tbody tr th {\n",
       "        vertical-align: top;\n",
       "    }\n",
       "\n",
       "    .dataframe thead th {\n",
       "        text-align: right;\n",
       "    }\n",
       "</style>\n",
       "<table border=\"1\" class=\"dataframe\">\n",
       "  <thead>\n",
       "    <tr style=\"text-align: right;\">\n",
       "      <th></th>\n",
       "      <th>question_asker_intent_understanding</th>\n",
       "      <th>question_body_critical</th>\n",
       "      <th>question_conversational</th>\n",
       "      <th>question_expect_short_answer</th>\n",
       "      <th>question_fact_seeking</th>\n",
       "      <th>question_has_commonly_accepted_answer</th>\n",
       "      <th>question_interestingness_others</th>\n",
       "      <th>question_interestingness_self</th>\n",
       "      <th>question_multi_intent</th>\n",
       "      <th>question_not_really_a_question</th>\n",
       "      <th>question_opinion_seeking</th>\n",
       "      <th>question_type_choice</th>\n",
       "      <th>question_type_compare</th>\n",
       "      <th>question_type_consequence</th>\n",
       "      <th>question_type_definition</th>\n",
       "      <th>question_type_entity</th>\n",
       "      <th>question_type_instructions</th>\n",
       "      <th>question_type_procedure</th>\n",
       "      <th>question_type_reason_explanation</th>\n",
       "      <th>question_type_spelling</th>\n",
       "      <th>question_well_written</th>\n",
       "      <th>answer_helpful</th>\n",
       "      <th>answer_level_of_information</th>\n",
       "      <th>answer_plausible</th>\n",
       "      <th>answer_relevance</th>\n",
       "      <th>answer_satisfaction</th>\n",
       "      <th>answer_type_instructions</th>\n",
       "      <th>answer_type_procedure</th>\n",
       "      <th>answer_type_reason_explanation</th>\n",
       "      <th>answer_well_written</th>\n",
       "    </tr>\n",
       "  </thead>\n",
       "  <tbody>\n",
       "    <tr>\n",
       "      <th>0</th>\n",
       "      <td>0.819595</td>\n",
       "      <td>0.639579</td>\n",
       "      <td>0.263240</td>\n",
       "      <td>0.589421</td>\n",
       "      <td>0.530881</td>\n",
       "      <td>0.406738</td>\n",
       "      <td>0.582867</td>\n",
       "      <td>0.532059</td>\n",
       "      <td>0.404028</td>\n",
       "      <td>0.006791</td>\n",
       "      <td>0.744295</td>\n",
       "      <td>0.392241</td>\n",
       "      <td>0.455591</td>\n",
       "      <td>0.080745</td>\n",
       "      <td>0.024740</td>\n",
       "      <td>0.189891</td>\n",
       "      <td>0.206507</td>\n",
       "      <td>0.157799</td>\n",
       "      <td>0.546703</td>\n",
       "      <td>0.003048</td>\n",
       "      <td>0.759051</td>\n",
       "      <td>0.868334</td>\n",
       "      <td>0.614542</td>\n",
       "      <td>0.934817</td>\n",
       "      <td>0.895309</td>\n",
       "      <td>0.711695</td>\n",
       "      <td>0.114217</td>\n",
       "      <td>0.111051</td>\n",
       "      <td>0.875609</td>\n",
       "      <td>0.721798</td>\n",
       "    </tr>\n",
       "    <tr>\n",
       "      <th>1</th>\n",
       "      <td>0.859253</td>\n",
       "      <td>0.754978</td>\n",
       "      <td>0.076540</td>\n",
       "      <td>0.524448</td>\n",
       "      <td>0.885525</td>\n",
       "      <td>0.677164</td>\n",
       "      <td>0.504542</td>\n",
       "      <td>0.565868</td>\n",
       "      <td>0.266925</td>\n",
       "      <td>0.002876</td>\n",
       "      <td>0.329680</td>\n",
       "      <td>0.095014</td>\n",
       "      <td>0.848162</td>\n",
       "      <td>0.009183</td>\n",
       "      <td>0.526633</td>\n",
       "      <td>0.041029</td>\n",
       "      <td>0.051917</td>\n",
       "      <td>0.055095</td>\n",
       "      <td>0.415311</td>\n",
       "      <td>0.003292</td>\n",
       "      <td>0.761662</td>\n",
       "      <td>0.584908</td>\n",
       "      <td>0.276745</td>\n",
       "      <td>0.745372</td>\n",
       "      <td>0.762314</td>\n",
       "      <td>0.354596</td>\n",
       "      <td>0.022926</td>\n",
       "      <td>0.031003</td>\n",
       "      <td>0.595727</td>\n",
       "      <td>0.767881</td>\n",
       "    </tr>\n",
       "    <tr>\n",
       "      <th>2</th>\n",
       "      <td>0.654542</td>\n",
       "      <td>0.242976</td>\n",
       "      <td>0.011073</td>\n",
       "      <td>0.754831</td>\n",
       "      <td>0.797478</td>\n",
       "      <td>0.829298</td>\n",
       "      <td>0.520778</td>\n",
       "      <td>0.350256</td>\n",
       "      <td>0.184130</td>\n",
       "      <td>0.002971</td>\n",
       "      <td>0.383814</td>\n",
       "      <td>0.294947</td>\n",
       "      <td>0.011164</td>\n",
       "      <td>0.003806</td>\n",
       "      <td>0.002344</td>\n",
       "      <td>0.382166</td>\n",
       "      <td>0.616658</td>\n",
       "      <td>0.246100</td>\n",
       "      <td>0.170863</td>\n",
       "      <td>0.000333</td>\n",
       "      <td>0.542536</td>\n",
       "      <td>0.790793</td>\n",
       "      <td>0.550363</td>\n",
       "      <td>0.854095</td>\n",
       "      <td>0.825887</td>\n",
       "      <td>0.627947</td>\n",
       "      <td>0.532021</td>\n",
       "      <td>0.268538</td>\n",
       "      <td>0.489469</td>\n",
       "      <td>0.715891</td>\n",
       "    </tr>\n",
       "    <tr>\n",
       "      <th>3</th>\n",
       "      <td>0.730720</td>\n",
       "      <td>0.674145</td>\n",
       "      <td>0.378921</td>\n",
       "      <td>0.678204</td>\n",
       "      <td>0.635264</td>\n",
       "      <td>0.715704</td>\n",
       "      <td>0.637054</td>\n",
       "      <td>0.672766</td>\n",
       "      <td>0.225441</td>\n",
       "      <td>0.003030</td>\n",
       "      <td>0.363696</td>\n",
       "      <td>0.914138</td>\n",
       "      <td>0.017846</td>\n",
       "      <td>0.020822</td>\n",
       "      <td>0.027450</td>\n",
       "      <td>0.056905</td>\n",
       "      <td>0.025777</td>\n",
       "      <td>0.157680</td>\n",
       "      <td>0.527763</td>\n",
       "      <td>0.001477</td>\n",
       "      <td>0.835460</td>\n",
       "      <td>0.743442</td>\n",
       "      <td>0.764190</td>\n",
       "      <td>0.820408</td>\n",
       "      <td>0.885760</td>\n",
       "      <td>0.734944</td>\n",
       "      <td>0.073816</td>\n",
       "      <td>0.227574</td>\n",
       "      <td>0.865283</td>\n",
       "      <td>0.756288</td>\n",
       "    </tr>\n",
       "    <tr>\n",
       "      <th>4</th>\n",
       "      <td>0.794276</td>\n",
       "      <td>0.678416</td>\n",
       "      <td>0.008947</td>\n",
       "      <td>0.655890</td>\n",
       "      <td>0.797530</td>\n",
       "      <td>0.870809</td>\n",
       "      <td>0.500026</td>\n",
       "      <td>0.498349</td>\n",
       "      <td>0.245645</td>\n",
       "      <td>0.003204</td>\n",
       "      <td>0.319569</td>\n",
       "      <td>0.603362</td>\n",
       "      <td>0.003757</td>\n",
       "      <td>0.003189</td>\n",
       "      <td>0.003497</td>\n",
       "      <td>0.012273</td>\n",
       "      <td>0.824853</td>\n",
       "      <td>0.308137</td>\n",
       "      <td>0.196428</td>\n",
       "      <td>0.000673</td>\n",
       "      <td>0.829414</td>\n",
       "      <td>0.660486</td>\n",
       "      <td>0.400382</td>\n",
       "      <td>0.766230</td>\n",
       "      <td>0.825789</td>\n",
       "      <td>0.520537</td>\n",
       "      <td>0.882534</td>\n",
       "      <td>0.256316</td>\n",
       "      <td>0.049932</td>\n",
       "      <td>0.583425</td>\n",
       "    </tr>\n",
       "    <tr>\n",
       "      <th>...</th>\n",
       "      <td>...</td>\n",
       "      <td>...</td>\n",
       "      <td>...</td>\n",
       "      <td>...</td>\n",
       "      <td>...</td>\n",
       "      <td>...</td>\n",
       "      <td>...</td>\n",
       "      <td>...</td>\n",
       "      <td>...</td>\n",
       "      <td>...</td>\n",
       "      <td>...</td>\n",
       "      <td>...</td>\n",
       "      <td>...</td>\n",
       "      <td>...</td>\n",
       "      <td>...</td>\n",
       "      <td>...</td>\n",
       "      <td>...</td>\n",
       "      <td>...</td>\n",
       "      <td>...</td>\n",
       "      <td>...</td>\n",
       "      <td>...</td>\n",
       "      <td>...</td>\n",
       "      <td>...</td>\n",
       "      <td>...</td>\n",
       "      <td>...</td>\n",
       "      <td>...</td>\n",
       "      <td>...</td>\n",
       "      <td>...</td>\n",
       "      <td>...</td>\n",
       "      <td>...</td>\n",
       "    </tr>\n",
       "    <tr>\n",
       "      <th>6074</th>\n",
       "      <td>0.861869</td>\n",
       "      <td>0.387442</td>\n",
       "      <td>0.235679</td>\n",
       "      <td>0.786579</td>\n",
       "      <td>0.620402</td>\n",
       "      <td>0.602809</td>\n",
       "      <td>0.677969</td>\n",
       "      <td>0.712858</td>\n",
       "      <td>0.505186</td>\n",
       "      <td>0.006462</td>\n",
       "      <td>0.654348</td>\n",
       "      <td>0.889965</td>\n",
       "      <td>0.219393</td>\n",
       "      <td>0.156502</td>\n",
       "      <td>0.017660</td>\n",
       "      <td>0.236184</td>\n",
       "      <td>0.026001</td>\n",
       "      <td>0.056814</td>\n",
       "      <td>0.512756</td>\n",
       "      <td>0.003331</td>\n",
       "      <td>0.640428</td>\n",
       "      <td>0.832966</td>\n",
       "      <td>0.681123</td>\n",
       "      <td>0.932168</td>\n",
       "      <td>0.888246</td>\n",
       "      <td>0.695311</td>\n",
       "      <td>0.064336</td>\n",
       "      <td>0.074855</td>\n",
       "      <td>0.855547</td>\n",
       "      <td>0.740704</td>\n",
       "    </tr>\n",
       "    <tr>\n",
       "      <th>6075</th>\n",
       "      <td>0.888738</td>\n",
       "      <td>0.490649</td>\n",
       "      <td>0.161765</td>\n",
       "      <td>0.596217</td>\n",
       "      <td>0.456696</td>\n",
       "      <td>0.301286</td>\n",
       "      <td>0.779384</td>\n",
       "      <td>0.794718</td>\n",
       "      <td>0.069193</td>\n",
       "      <td>0.010865</td>\n",
       "      <td>0.824910</td>\n",
       "      <td>0.009438</td>\n",
       "      <td>0.018458</td>\n",
       "      <td>0.015245</td>\n",
       "      <td>0.001136</td>\n",
       "      <td>0.031501</td>\n",
       "      <td>0.741051</td>\n",
       "      <td>0.372981</td>\n",
       "      <td>0.266446</td>\n",
       "      <td>0.000479</td>\n",
       "      <td>0.775443</td>\n",
       "      <td>0.743500</td>\n",
       "      <td>0.585517</td>\n",
       "      <td>0.861810</td>\n",
       "      <td>0.888675</td>\n",
       "      <td>0.557573</td>\n",
       "      <td>0.719068</td>\n",
       "      <td>0.310671</td>\n",
       "      <td>0.430161</td>\n",
       "      <td>0.833887</td>\n",
       "    </tr>\n",
       "    <tr>\n",
       "      <th>6076</th>\n",
       "      <td>0.666229</td>\n",
       "      <td>0.280985</td>\n",
       "      <td>0.002845</td>\n",
       "      <td>0.700776</td>\n",
       "      <td>0.733498</td>\n",
       "      <td>0.907978</td>\n",
       "      <td>0.423702</td>\n",
       "      <td>0.281151</td>\n",
       "      <td>0.136161</td>\n",
       "      <td>0.003741</td>\n",
       "      <td>0.486556</td>\n",
       "      <td>0.428875</td>\n",
       "      <td>0.001094</td>\n",
       "      <td>0.000443</td>\n",
       "      <td>0.000526</td>\n",
       "      <td>0.001789</td>\n",
       "      <td>0.857503</td>\n",
       "      <td>0.400227</td>\n",
       "      <td>0.222501</td>\n",
       "      <td>0.000025</td>\n",
       "      <td>0.337847</td>\n",
       "      <td>0.512064</td>\n",
       "      <td>0.337467</td>\n",
       "      <td>0.779085</td>\n",
       "      <td>0.800211</td>\n",
       "      <td>0.343189</td>\n",
       "      <td>0.561734</td>\n",
       "      <td>0.183946</td>\n",
       "      <td>0.442993</td>\n",
       "      <td>0.251579</td>\n",
       "    </tr>\n",
       "    <tr>\n",
       "      <th>6077</th>\n",
       "      <td>0.789496</td>\n",
       "      <td>0.511904</td>\n",
       "      <td>0.572329</td>\n",
       "      <td>0.286649</td>\n",
       "      <td>0.320539</td>\n",
       "      <td>0.179465</td>\n",
       "      <td>0.608923</td>\n",
       "      <td>0.716057</td>\n",
       "      <td>0.787554</td>\n",
       "      <td>0.003048</td>\n",
       "      <td>0.883565</td>\n",
       "      <td>0.644290</td>\n",
       "      <td>0.144031</td>\n",
       "      <td>0.050780</td>\n",
       "      <td>0.012267</td>\n",
       "      <td>0.086192</td>\n",
       "      <td>0.054658</td>\n",
       "      <td>0.211376</td>\n",
       "      <td>0.742478</td>\n",
       "      <td>0.000960</td>\n",
       "      <td>0.839568</td>\n",
       "      <td>0.678729</td>\n",
       "      <td>0.419282</td>\n",
       "      <td>0.817473</td>\n",
       "      <td>0.810770</td>\n",
       "      <td>0.505147</td>\n",
       "      <td>0.028396</td>\n",
       "      <td>0.100121</td>\n",
       "      <td>0.828050</td>\n",
       "      <td>0.786571</td>\n",
       "    </tr>\n",
       "    <tr>\n",
       "      <th>6078</th>\n",
       "      <td>0.766917</td>\n",
       "      <td>0.735608</td>\n",
       "      <td>0.192490</td>\n",
       "      <td>0.287454</td>\n",
       "      <td>0.856008</td>\n",
       "      <td>0.373394</td>\n",
       "      <td>0.530370</td>\n",
       "      <td>0.437686</td>\n",
       "      <td>0.766334</td>\n",
       "      <td>0.000283</td>\n",
       "      <td>0.450846</td>\n",
       "      <td>0.118303</td>\n",
       "      <td>0.594958</td>\n",
       "      <td>0.009252</td>\n",
       "      <td>0.019086</td>\n",
       "      <td>0.044359</td>\n",
       "      <td>0.007247</td>\n",
       "      <td>0.012828</td>\n",
       "      <td>0.956502</td>\n",
       "      <td>0.000118</td>\n",
       "      <td>0.772970</td>\n",
       "      <td>0.822333</td>\n",
       "      <td>0.599295</td>\n",
       "      <td>0.855337</td>\n",
       "      <td>0.863696</td>\n",
       "      <td>0.609618</td>\n",
       "      <td>0.033917</td>\n",
       "      <td>0.035320</td>\n",
       "      <td>0.953813</td>\n",
       "      <td>0.787003</td>\n",
       "    </tr>\n",
       "  </tbody>\n",
       "</table>\n",
       "<p>6079 rows × 30 columns</p>\n",
       "</div>"
      ],
      "text/plain": [
       "      question_asker_intent_understanding  question_body_critical  \\\n",
       "0                                0.819595                0.639579   \n",
       "1                                0.859253                0.754978   \n",
       "2                                0.654542                0.242976   \n",
       "3                                0.730720                0.674145   \n",
       "4                                0.794276                0.678416   \n",
       "...                                   ...                     ...   \n",
       "6074                             0.861869                0.387442   \n",
       "6075                             0.888738                0.490649   \n",
       "6076                             0.666229                0.280985   \n",
       "6077                             0.789496                0.511904   \n",
       "6078                             0.766917                0.735608   \n",
       "\n",
       "      question_conversational  question_expect_short_answer  \\\n",
       "0                    0.263240                      0.589421   \n",
       "1                    0.076540                      0.524448   \n",
       "2                    0.011073                      0.754831   \n",
       "3                    0.378921                      0.678204   \n",
       "4                    0.008947                      0.655890   \n",
       "...                       ...                           ...   \n",
       "6074                 0.235679                      0.786579   \n",
       "6075                 0.161765                      0.596217   \n",
       "6076                 0.002845                      0.700776   \n",
       "6077                 0.572329                      0.286649   \n",
       "6078                 0.192490                      0.287454   \n",
       "\n",
       "      question_fact_seeking  question_has_commonly_accepted_answer  \\\n",
       "0                  0.530881                               0.406738   \n",
       "1                  0.885525                               0.677164   \n",
       "2                  0.797478                               0.829298   \n",
       "3                  0.635264                               0.715704   \n",
       "4                  0.797530                               0.870809   \n",
       "...                     ...                                    ...   \n",
       "6074               0.620402                               0.602809   \n",
       "6075               0.456696                               0.301286   \n",
       "6076               0.733498                               0.907978   \n",
       "6077               0.320539                               0.179465   \n",
       "6078               0.856008                               0.373394   \n",
       "\n",
       "      question_interestingness_others  question_interestingness_self  \\\n",
       "0                            0.582867                       0.532059   \n",
       "1                            0.504542                       0.565868   \n",
       "2                            0.520778                       0.350256   \n",
       "3                            0.637054                       0.672766   \n",
       "4                            0.500026                       0.498349   \n",
       "...                               ...                            ...   \n",
       "6074                         0.677969                       0.712858   \n",
       "6075                         0.779384                       0.794718   \n",
       "6076                         0.423702                       0.281151   \n",
       "6077                         0.608923                       0.716057   \n",
       "6078                         0.530370                       0.437686   \n",
       "\n",
       "      question_multi_intent  question_not_really_a_question  \\\n",
       "0                  0.404028                        0.006791   \n",
       "1                  0.266925                        0.002876   \n",
       "2                  0.184130                        0.002971   \n",
       "3                  0.225441                        0.003030   \n",
       "4                  0.245645                        0.003204   \n",
       "...                     ...                             ...   \n",
       "6074               0.505186                        0.006462   \n",
       "6075               0.069193                        0.010865   \n",
       "6076               0.136161                        0.003741   \n",
       "6077               0.787554                        0.003048   \n",
       "6078               0.766334                        0.000283   \n",
       "\n",
       "      question_opinion_seeking  question_type_choice  question_type_compare  \\\n",
       "0                     0.744295              0.392241               0.455591   \n",
       "1                     0.329680              0.095014               0.848162   \n",
       "2                     0.383814              0.294947               0.011164   \n",
       "3                     0.363696              0.914138               0.017846   \n",
       "4                     0.319569              0.603362               0.003757   \n",
       "...                        ...                   ...                    ...   \n",
       "6074                  0.654348              0.889965               0.219393   \n",
       "6075                  0.824910              0.009438               0.018458   \n",
       "6076                  0.486556              0.428875               0.001094   \n",
       "6077                  0.883565              0.644290               0.144031   \n",
       "6078                  0.450846              0.118303               0.594958   \n",
       "\n",
       "      question_type_consequence  question_type_definition  \\\n",
       "0                      0.080745                  0.024740   \n",
       "1                      0.009183                  0.526633   \n",
       "2                      0.003806                  0.002344   \n",
       "3                      0.020822                  0.027450   \n",
       "4                      0.003189                  0.003497   \n",
       "...                         ...                       ...   \n",
       "6074                   0.156502                  0.017660   \n",
       "6075                   0.015245                  0.001136   \n",
       "6076                   0.000443                  0.000526   \n",
       "6077                   0.050780                  0.012267   \n",
       "6078                   0.009252                  0.019086   \n",
       "\n",
       "      question_type_entity  question_type_instructions  \\\n",
       "0                 0.189891                    0.206507   \n",
       "1                 0.041029                    0.051917   \n",
       "2                 0.382166                    0.616658   \n",
       "3                 0.056905                    0.025777   \n",
       "4                 0.012273                    0.824853   \n",
       "...                    ...                         ...   \n",
       "6074              0.236184                    0.026001   \n",
       "6075              0.031501                    0.741051   \n",
       "6076              0.001789                    0.857503   \n",
       "6077              0.086192                    0.054658   \n",
       "6078              0.044359                    0.007247   \n",
       "\n",
       "      question_type_procedure  question_type_reason_explanation  \\\n",
       "0                    0.157799                          0.546703   \n",
       "1                    0.055095                          0.415311   \n",
       "2                    0.246100                          0.170863   \n",
       "3                    0.157680                          0.527763   \n",
       "4                    0.308137                          0.196428   \n",
       "...                       ...                               ...   \n",
       "6074                 0.056814                          0.512756   \n",
       "6075                 0.372981                          0.266446   \n",
       "6076                 0.400227                          0.222501   \n",
       "6077                 0.211376                          0.742478   \n",
       "6078                 0.012828                          0.956502   \n",
       "\n",
       "      question_type_spelling  question_well_written  answer_helpful  \\\n",
       "0                   0.003048               0.759051        0.868334   \n",
       "1                   0.003292               0.761662        0.584908   \n",
       "2                   0.000333               0.542536        0.790793   \n",
       "3                   0.001477               0.835460        0.743442   \n",
       "4                   0.000673               0.829414        0.660486   \n",
       "...                      ...                    ...             ...   \n",
       "6074                0.003331               0.640428        0.832966   \n",
       "6075                0.000479               0.775443        0.743500   \n",
       "6076                0.000025               0.337847        0.512064   \n",
       "6077                0.000960               0.839568        0.678729   \n",
       "6078                0.000118               0.772970        0.822333   \n",
       "\n",
       "      answer_level_of_information  answer_plausible  answer_relevance  \\\n",
       "0                        0.614542          0.934817          0.895309   \n",
       "1                        0.276745          0.745372          0.762314   \n",
       "2                        0.550363          0.854095          0.825887   \n",
       "3                        0.764190          0.820408          0.885760   \n",
       "4                        0.400382          0.766230          0.825789   \n",
       "...                           ...               ...               ...   \n",
       "6074                     0.681123          0.932168          0.888246   \n",
       "6075                     0.585517          0.861810          0.888675   \n",
       "6076                     0.337467          0.779085          0.800211   \n",
       "6077                     0.419282          0.817473          0.810770   \n",
       "6078                     0.599295          0.855337          0.863696   \n",
       "\n",
       "      answer_satisfaction  answer_type_instructions  answer_type_procedure  \\\n",
       "0                0.711695                  0.114217               0.111051   \n",
       "1                0.354596                  0.022926               0.031003   \n",
       "2                0.627947                  0.532021               0.268538   \n",
       "3                0.734944                  0.073816               0.227574   \n",
       "4                0.520537                  0.882534               0.256316   \n",
       "...                   ...                       ...                    ...   \n",
       "6074             0.695311                  0.064336               0.074855   \n",
       "6075             0.557573                  0.719068               0.310671   \n",
       "6076             0.343189                  0.561734               0.183946   \n",
       "6077             0.505147                  0.028396               0.100121   \n",
       "6078             0.609618                  0.033917               0.035320   \n",
       "\n",
       "      answer_type_reason_explanation  answer_well_written  \n",
       "0                           0.875609             0.721798  \n",
       "1                           0.595727             0.767881  \n",
       "2                           0.489469             0.715891  \n",
       "3                           0.865283             0.756288  \n",
       "4                           0.049932             0.583425  \n",
       "...                              ...                  ...  \n",
       "6074                        0.855547             0.740704  \n",
       "6075                        0.430161             0.833887  \n",
       "6076                        0.442993             0.251579  \n",
       "6077                        0.828050             0.786571  \n",
       "6078                        0.953813             0.787003  \n",
       "\n",
       "[6079 rows x 30 columns]"
      ]
     },
     "execution_count": 22,
     "metadata": {},
     "output_type": "execute_result"
    }
   ],
   "source": [
    "pd.DataFrame(oofs, columns=TARGETS)"
   ]
  },
  {
   "cell_type": "code",
   "execution_count": 23,
   "metadata": {},
   "outputs": [
    {
     "data": {
      "text/plain": [
       "question_asker_intent_understanding      0.383674\n",
       "question_body_critical                   0.666740\n",
       "question_conversational                  0.416526\n",
       "question_expect_short_answer             0.303358\n",
       "question_fact_seeking                    0.357231\n",
       "question_has_commonly_accepted_answer    0.435511\n",
       "question_interestingness_others          0.357028\n",
       "question_interestingness_self            0.512796\n",
       "question_multi_intent                    0.578380\n",
       "question_not_really_a_question           0.093471\n",
       "question_opinion_seeking                 0.471317\n",
       "question_type_choice                     0.739424\n",
       "question_type_compare                    0.353946\n",
       "question_type_consequence                0.178733\n",
       "question_type_definition                 0.362440\n",
       "question_type_entity                     0.443067\n",
       "question_type_instructions               0.779541\n",
       "question_type_procedure                  0.353955\n",
       "question_type_reason_explanation         0.668413\n",
       "question_type_spelling                   0.069009\n",
       "question_well_written                    0.528207\n",
       "answer_helpful                           0.238033\n",
       "answer_level_of_information              0.440672\n",
       "answer_plausible                         0.135642\n",
       "answer_relevance                         0.159215\n",
       "answer_satisfaction                      0.330213\n",
       "answer_type_instructions                 0.758327\n",
       "answer_type_procedure                    0.306625\n",
       "answer_type_reason_explanation           0.675917\n",
       "answer_well_written                      0.230031\n",
       "dtype: float64"
      ]
     },
     "execution_count": 23,
     "metadata": {},
     "output_type": "execute_result"
    }
   ],
   "source": [
    "rs = pd.Series({col: spearmanr(oofs[:,i], y[:,i])[0] for i, col in enumerate(TARGETS)})\n",
    "rs"
   ]
  },
  {
   "cell_type": "code",
   "execution_count": 24,
   "metadata": {},
   "outputs": [
    {
     "data": {
      "text/html": [
       "<div>\n",
       "<style scoped>\n",
       "    .dataframe tbody tr th:only-of-type {\n",
       "        vertical-align: middle;\n",
       "    }\n",
       "\n",
       "    .dataframe tbody tr th {\n",
       "        vertical-align: top;\n",
       "    }\n",
       "\n",
       "    .dataframe thead th {\n",
       "        text-align: right;\n",
       "    }\n",
       "</style>\n",
       "<table border=\"1\" class=\"dataframe\">\n",
       "  <thead>\n",
       "    <tr style=\"text-align: right;\">\n",
       "      <th></th>\n",
       "      <th>SpearmanCorr</th>\n",
       "      <th>NUnique</th>\n",
       "    </tr>\n",
       "  </thead>\n",
       "  <tbody>\n",
       "    <tr>\n",
       "      <th>question_type_spelling</th>\n",
       "      <td>0.069009</td>\n",
       "      <td>3.0</td>\n",
       "    </tr>\n",
       "    <tr>\n",
       "      <th>question_not_really_a_question</th>\n",
       "      <td>0.093471</td>\n",
       "      <td>5.0</td>\n",
       "    </tr>\n",
       "    <tr>\n",
       "      <th>answer_plausible</th>\n",
       "      <td>0.135642</td>\n",
       "      <td>9.0</td>\n",
       "    </tr>\n",
       "    <tr>\n",
       "      <th>answer_relevance</th>\n",
       "      <td>0.159215</td>\n",
       "      <td>9.0</td>\n",
       "    </tr>\n",
       "    <tr>\n",
       "      <th>question_type_consequence</th>\n",
       "      <td>0.178733</td>\n",
       "      <td>5.0</td>\n",
       "    </tr>\n",
       "    <tr>\n",
       "      <th>answer_well_written</th>\n",
       "      <td>0.230031</td>\n",
       "      <td>9.0</td>\n",
       "    </tr>\n",
       "    <tr>\n",
       "      <th>answer_helpful</th>\n",
       "      <td>0.238033</td>\n",
       "      <td>9.0</td>\n",
       "    </tr>\n",
       "    <tr>\n",
       "      <th>question_expect_short_answer</th>\n",
       "      <td>0.303358</td>\n",
       "      <td>5.0</td>\n",
       "    </tr>\n",
       "    <tr>\n",
       "      <th>answer_type_procedure</th>\n",
       "      <td>0.306625</td>\n",
       "      <td>5.0</td>\n",
       "    </tr>\n",
       "    <tr>\n",
       "      <th>answer_satisfaction</th>\n",
       "      <td>0.330213</td>\n",
       "      <td>17.0</td>\n",
       "    </tr>\n",
       "    <tr>\n",
       "      <th>question_type_compare</th>\n",
       "      <td>0.353946</td>\n",
       "      <td>5.0</td>\n",
       "    </tr>\n",
       "    <tr>\n",
       "      <th>question_type_procedure</th>\n",
       "      <td>0.353955</td>\n",
       "      <td>5.0</td>\n",
       "    </tr>\n",
       "    <tr>\n",
       "      <th>question_interestingness_others</th>\n",
       "      <td>0.357028</td>\n",
       "      <td>9.0</td>\n",
       "    </tr>\n",
       "    <tr>\n",
       "      <th>question_fact_seeking</th>\n",
       "      <td>0.357231</td>\n",
       "      <td>5.0</td>\n",
       "    </tr>\n",
       "    <tr>\n",
       "      <th>question_type_definition</th>\n",
       "      <td>0.362440</td>\n",
       "      <td>5.0</td>\n",
       "    </tr>\n",
       "    <tr>\n",
       "      <th>question_asker_intent_understanding</th>\n",
       "      <td>0.383674</td>\n",
       "      <td>9.0</td>\n",
       "    </tr>\n",
       "    <tr>\n",
       "      <th>question_conversational</th>\n",
       "      <td>0.416526</td>\n",
       "      <td>5.0</td>\n",
       "    </tr>\n",
       "    <tr>\n",
       "      <th>question_has_commonly_accepted_answer</th>\n",
       "      <td>0.435511</td>\n",
       "      <td>5.0</td>\n",
       "    </tr>\n",
       "    <tr>\n",
       "      <th>answer_level_of_information</th>\n",
       "      <td>0.440672</td>\n",
       "      <td>9.0</td>\n",
       "    </tr>\n",
       "    <tr>\n",
       "      <th>question_type_entity</th>\n",
       "      <td>0.443067</td>\n",
       "      <td>5.0</td>\n",
       "    </tr>\n",
       "    <tr>\n",
       "      <th>question_opinion_seeking</th>\n",
       "      <td>0.471317</td>\n",
       "      <td>5.0</td>\n",
       "    </tr>\n",
       "    <tr>\n",
       "      <th>question_interestingness_self</th>\n",
       "      <td>0.512796</td>\n",
       "      <td>9.0</td>\n",
       "    </tr>\n",
       "    <tr>\n",
       "      <th>question_well_written</th>\n",
       "      <td>0.528207</td>\n",
       "      <td>9.0</td>\n",
       "    </tr>\n",
       "    <tr>\n",
       "      <th>question_multi_intent</th>\n",
       "      <td>0.578380</td>\n",
       "      <td>5.0</td>\n",
       "    </tr>\n",
       "    <tr>\n",
       "      <th>question_body_critical</th>\n",
       "      <td>0.666740</td>\n",
       "      <td>9.0</td>\n",
       "    </tr>\n",
       "    <tr>\n",
       "      <th>question_type_reason_explanation</th>\n",
       "      <td>0.668413</td>\n",
       "      <td>5.0</td>\n",
       "    </tr>\n",
       "    <tr>\n",
       "      <th>answer_type_reason_explanation</th>\n",
       "      <td>0.675917</td>\n",
       "      <td>5.0</td>\n",
       "    </tr>\n",
       "    <tr>\n",
       "      <th>question_type_choice</th>\n",
       "      <td>0.739424</td>\n",
       "      <td>5.0</td>\n",
       "    </tr>\n",
       "    <tr>\n",
       "      <th>answer_type_instructions</th>\n",
       "      <td>0.758327</td>\n",
       "      <td>5.0</td>\n",
       "    </tr>\n",
       "    <tr>\n",
       "      <th>question_type_instructions</th>\n",
       "      <td>0.779541</td>\n",
       "      <td>5.0</td>\n",
       "    </tr>\n",
       "  </tbody>\n",
       "</table>\n",
       "</div>"
      ],
      "text/plain": [
       "                                       SpearmanCorr  NUnique\n",
       "question_type_spelling                     0.069009      3.0\n",
       "question_not_really_a_question             0.093471      5.0\n",
       "answer_plausible                           0.135642      9.0\n",
       "answer_relevance                           0.159215      9.0\n",
       "question_type_consequence                  0.178733      5.0\n",
       "answer_well_written                        0.230031      9.0\n",
       "answer_helpful                             0.238033      9.0\n",
       "question_expect_short_answer               0.303358      5.0\n",
       "answer_type_procedure                      0.306625      5.0\n",
       "answer_satisfaction                        0.330213     17.0\n",
       "question_type_compare                      0.353946      5.0\n",
       "question_type_procedure                    0.353955      5.0\n",
       "question_interestingness_others            0.357028      9.0\n",
       "question_fact_seeking                      0.357231      5.0\n",
       "question_type_definition                   0.362440      5.0\n",
       "question_asker_intent_understanding        0.383674      9.0\n",
       "question_conversational                    0.416526      5.0\n",
       "question_has_commonly_accepted_answer      0.435511      5.0\n",
       "answer_level_of_information                0.440672      9.0\n",
       "question_type_entity                       0.443067      5.0\n",
       "question_opinion_seeking                   0.471317      5.0\n",
       "question_interestingness_self              0.512796      9.0\n",
       "question_well_written                      0.528207      9.0\n",
       "question_multi_intent                      0.578380      5.0\n",
       "question_body_critical                     0.666740      9.0\n",
       "question_type_reason_explanation           0.668413      5.0\n",
       "answer_type_reason_explanation             0.675917      5.0\n",
       "question_type_choice                       0.739424      5.0\n",
       "answer_type_instructions                   0.758327      5.0\n",
       "question_type_instructions                 0.779541      5.0"
      ]
     },
     "execution_count": 24,
     "metadata": {},
     "output_type": "execute_result"
    }
   ],
   "source": [
    "rs_df = pd.DataFrame(np.vstack([rs.values.flatten(), train[TARGETS].nunique()]).T, \n",
    "                     columns=['SpearmanCorr', 'NUnique'], index=rs.index)\n",
    "rs_df.sort_values('SpearmanCorr', ascending=True)"
   ]
  },
  {
   "cell_type": "code",
   "execution_count": 25,
   "metadata": {},
   "outputs": [
    {
     "data": {
      "text/plain": [
       "Index(['question_type_spelling', 'question_not_really_a_question',\n",
       "       'answer_plausible', 'answer_relevance', 'question_type_consequence'],\n",
       "      dtype='object')"
      ]
     },
     "execution_count": 25,
     "metadata": {},
     "output_type": "execute_result"
    }
   ],
   "source": [
    "sorted_targets = rs_df.sort_values('SpearmanCorr', ascending=True).index\n",
    "worst_five_targets = sorted_targets[:5]\n",
    "worst_five_targets"
   ]
  },
  {
   "cell_type": "code",
   "execution_count": 26,
   "metadata": {
    "scrolled": true
   },
   "outputs": [
    {
     "data": {
      "image/png": "[encoded data removed]",
      "text/plain": [
       "<Figure size 432x288 with 1 Axes>"
      ]
     },
     "metadata": {
      "needs_background": "light"
     },
     "output_type": "display_data"
    },
    {
     "data": {
      "image/png": "[encoded data removed]",
      "text/plain": [
       "<Figure size 432x288 with 1 Axes>"
      ]
     },
     "metadata": {
      "needs_background": "light"
     },
     "output_type": "display_data"
    },
    {
     "data": {
      "image/png": "[encoded data removed]",
      "text/plain": [
       "<Figure size 432x288 with 1 Axes>"
      ]
     },
     "metadata": {
      "needs_background": "light"
     },
     "output_type": "display_data"
    },
    {
     "data": {
      "image/png": "[encoded data removed]",
      "text/plain": [
       "<Figure size 432x288 with 1 Axes>"
      ]
     },
     "metadata": {
      "needs_background": "light"
     },
     "output_type": "display_data"
    },
    {
     "data": {
      "image/png": "[encoded data removed]",
      "text/plain": [
       "<Figure size 432x288 with 1 Axes>"
      ]
     },
     "metadata": {
      "needs_background": "light"
     },
     "output_type": "display_data"
    }
   ],
   "source": [
    "for col in worst_five_targets:\n",
    "    plt.figure()\n",
    "    train[col].hist()\n",
    "    plt.title(f'{col} {np.round(rs[col],3)}')"
   ]
  },
  {
   "cell_type": "code",
   "execution_count": 27,
   "metadata": {},
   "outputs": [
    {
     "name": "stderr",
     "output_type": "stream",
     "text": [
      "/home/robin/anaconda3/envs/GoogleQuest/lib/python3.7/site-packages/ipykernel_launcher.py:2: RuntimeWarning: More than 20 figures have been opened. Figures created through the pyplot interface (`matplotlib.pyplot.figure`) are retained until explicitly closed and may consume too much memory. (To control this warning, see the rcParam `figure.max_open_warning`).\n",
      "  \n"
     ]
    },
    {
     "data": {
      "image/png": "[encoded data removed]",
      "text/plain": [
       "<Figure size 432x288 with 1 Axes>"
      ]
     },
     "metadata": {
      "needs_background": "light"
     },
     "output_type": "display_data"
    },
    {
     "data": {
      "image/png": "[encoded data removed]",
      "text/plain": [
       "<Figure size 432x288 with 1 Axes>"
      ]
     },
     "metadata": {
      "needs_background": "light"
     },
     "output_type": "display_data"
    },
    {
     "data": {
      "image/png": "[encoded data removed]",
      "text/plain": [
       "<Figure size 432x288 with 1 Axes>"
      ]
     },
     "metadata": {
      "needs_background": "light"
     },
     "output_type": "display_data"
    },
    {
     "data": {
      "image/png": "[encoded data removed]",
      "text/plain": [
       "<Figure size 432x288 with 1 Axes>"
      ]
     },
     "metadata": {
      "needs_background": "light"
     },
     "output_type": "display_data"
    },
    {
     "data": {
      "image/png": "[encoded data removed]",
      "text/plain": [
       "<Figure size 432x288 with 1 Axes>"
      ]
     },
     "metadata": {
      "needs_background": "light"
     },
     "output_type": "display_data"
    },
    {
     "data": {
      "image/png": "[encoded data removed]",
      "text/plain": [
       "<Figure size 432x288 with 1 Axes>"
      ]
     },
     "metadata": {
      "needs_background": "light"
     },
     "output_type": "display_data"
    },
    {
     "data": {
      "image/png": "[encoded data removed]",
      "text/plain": [
       "<Figure size 432x288 with 1 Axes>"
      ]
     },
     "metadata": {
      "needs_background": "light"
     },
     "output_type": "display_data"
    },
    {
     "data": {
      "image/png": "[encoded data removed]",
      "text/plain": [
       "<Figure size 432x288 with 1 Axes>"
      ]
     },
     "metadata": {
      "needs_background": "light"
     },
     "output_type": "display_data"
    },
    {
     "data": {
      "image/png": "[encoded data removed]",
      "text/plain": [
       "<Figure size 432x288 with 1 Axes>"
      ]
     },
     "metadata": {
      "needs_background": "light"
     },
     "output_type": "display_data"
    },
    {
     "data": {
      "image/png": "[encoded data removed]",
      "text/plain": [
       "<Figure size 432x288 with 1 Axes>"
      ]
     },
     "metadata": {
      "needs_background": "light"
     },
     "output_type": "display_data"
    },
    {
     "data": {
      "image/png": "[encoded data removed]",
      "text/plain": [
       "<Figure size 432x288 with 1 Axes>"
      ]
     },
     "metadata": {
      "needs_background": "light"
     },
     "output_type": "display_data"
    },
    {
     "data": {
      "image/png": "[encoded data removed]",
      "text/plain": [
       "<Figure size 432x288 with 1 Axes>"
      ]
     },
     "metadata": {
      "needs_background": "light"
     },
     "output_type": "display_data"
    },
    {
     "data": {
      "image/png": "[encoded data removed]",
      "text/plain": [
       "<Figure size 432x288 with 1 Axes>"
      ]
     },
     "metadata": {
      "needs_background": "light"
     },
     "output_type": "display_data"
    },
    {
     "data": {
      "image/png": "[encoded data removed]",
      "text/plain": [
       "<Figure size 432x288 with 1 Axes>"
      ]
     },
     "metadata": {
      "needs_background": "light"
     },
     "output_type": "display_data"
    },
    {
     "data": {
      "image/png": "[encoded data removed]",
      "text/plain": [
       "<Figure size 432x288 with 1 Axes>"
      ]
     },
     "metadata": {
      "needs_background": "light"
     },
     "output_type": "display_data"
    },
    {
     "data": {
      "image/png": "[encoded data removed]",
      "text/plain": [
       "<Figure size 432x288 with 1 Axes>"
      ]
     },
     "metadata": {
      "needs_background": "light"
     },
     "output_type": "display_data"
    },
    {
     "data": {
      "image/png": "[encoded data removed]",
      "text/plain": [
       "<Figure size 432x288 with 1 Axes>"
      ]
     },
     "metadata": {
      "needs_background": "light"
     },
     "output_type": "display_data"
    },
    {
     "data": {
      "image/png": "[encoded data removed]",
      "text/plain": [
       "<Figure size 432x288 with 1 Axes>"
      ]
     },
     "metadata": {
      "needs_background": "light"
     },
     "output_type": "display_data"
    },
    {
     "data": {
      "image/png": "[encoded data removed]",
      "text/plain": [
       "<Figure size 432x288 with 1 Axes>"
      ]
     },
     "metadata": {
      "needs_background": "light"
     },
     "output_type": "display_data"
    },
    {
     "data": {
      "image/png": "[encoded data removed]",
      "text/plain": [
       "<Figure size 432x288 with 1 Axes>"
      ]
     },
     "metadata": {
      "needs_background": "light"
     },
     "output_type": "display_data"
    },
    {
     "data": {
      "image/png": "[encoded data removed]",
      "text/plain": [
       "<Figure size 432x288 with 1 Axes>"
      ]
     },
     "metadata": {
      "needs_background": "light"
     },
     "output_type": "display_data"
    },
    {
     "data": {
      "image/png": "[encoded data removed]",
      "text/plain": [
       "<Figure size 432x288 with 1 Axes>"
      ]
     },
     "metadata": {
      "needs_background": "light"
     },
     "output_type": "display_data"
    },
    {
     "data": {
      "image/png": "[encoded data removed]",
      "text/plain": [
       "<Figure size 432x288 with 1 Axes>"
      ]
     },
     "metadata": {
      "needs_background": "light"
     },
     "output_type": "display_data"
    },
    {
     "data": {
      "image/png": "[encoded data removed]",
      "text/plain": [
       "<Figure size 432x288 with 1 Axes>"
      ]
     },
     "metadata": {
      "needs_background": "light"
     },
     "output_type": "display_data"
    },
    {
     "data": {
      "image/png": "[encoded data removed]",
      "text/plain": [
       "<Figure size 432x288 with 1 Axes>"
      ]
     },
     "metadata": {
      "needs_background": "light"
     },
     "output_type": "display_data"
    }
   ],
   "source": [
    "for col in [target for target in sorted_targets if target not in worst_five_targets]:\n",
    "    plt.figure()\n",
    "    train[col].hist()\n",
    "    plt.title(f'{col} {np.round(rs[col],3)}')"
   ]
  },
  {
   "cell_type": "code",
   "execution_count": null,
   "metadata": {},
   "outputs": [],
   "source": []
  }
 ],
 "metadata": {
  "kernelspec": {
   "display_name": "Python 3",
   "language": "python",
   "name": "python3"
  },
  "language_info": {
   "codemirror_mode": {
    "name": "ipython",
    "version": 3
   },
   "file_extension": ".py",
   "mimetype": "text/x-python",
   "name": "python",
   "nbconvert_exporter": "python",
   "pygments_lexer": "ipython3",
   "version": "3.7.5"
  }
 },
 "nbformat": 4,
 "nbformat_minor": 1
}
