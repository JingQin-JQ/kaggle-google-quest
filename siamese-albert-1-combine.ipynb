{
 "cells": [
  {
   "cell_type": "markdown",
   "metadata": {},
   "source": [
    "## Importing libraries"
   ]
  },
  {
   "cell_type": "code",
   "execution_count": 1,
   "metadata": {
    "_kg_hide-input": true
   },
   "outputs": [],
   "source": [
    "import numpy as np\n",
    "import pandas as pd\n",
    "import matplotlib.pyplot as plt\n",
    "import seaborn as sns\n",
    "import time\n",
    "import datetime\n",
    "import re\n",
    "import gc\n",
    "import copy\n",
    "\n",
    "from scipy.stats import spearmanr\n",
    "from sklearn.model_selection import GroupKFold\n",
    "from sklearn.preprocessing import OneHotEncoder, MinMaxScaler\n",
    "\n",
    "import torch\n",
    "import torch.nn as nn\n",
    "import torch.optim as optim\n",
    "import torch.nn.functional as F\n",
    "from torch.utils.data import DataLoader\n",
    "\n",
    "from tqdm import tqdm_notebook as tqdm\n",
    "from transformers import AlbertTokenizer\n",
    "import transformers\n",
    "\n",
    "from text_data import TextDataset5 as TextDataset\n",
    "from albert import CustomAlbert\n",
    "from create_features import get_categorical_features\n",
    "from losses_metrics import spearmanr_torch, spearmanr_np, optimize_rounding_params, get_cvs, spearmanr\n",
    "from inference import infer\n",
    "from common import *\n",
    "from utils.helpers import init_logger, init_seed\n",
    "from utils.torch import to_cpu\n",
    "\n",
    "%matplotlib inline\n",
    "pd.set_option('max_colwidth',400)"
   ]
  },
  {
   "cell_type": "markdown",
   "metadata": {},
   "source": [
    "## Loading and preparing data"
   ]
  },
  {
   "cell_type": "code",
   "execution_count": 2,
   "metadata": {
    "_cell_guid": "b1076dfc-b9ad-4769-8c92-a6c4dae69d19",
    "_uuid": "8f2839f25d086af736a60e9eeb907d3b93b6e0e5"
   },
   "outputs": [],
   "source": [
    "pd.set_option('max_rows', 500)\n",
    "pd.set_option('max_columns', 500)\n",
    "path = 'data/'\n",
    "sample_submission = pd.read_csv(f'{path}sample_submission.csv')\n",
    "test = pd.read_csv(f'{path}test.csv').fillna(' ')\n",
    "train = pd.read_csv(f'{path}train.csv').fillna(' ')"
   ]
  },
  {
   "cell_type": "code",
   "execution_count": 3,
   "metadata": {},
   "outputs": [
    {
     "name": "stderr",
     "output_type": "stream",
     "text": [
      "/home/robin/anaconda3/envs/GoogleQuest/lib/python3.7/site-packages/ipykernel_launcher.py:9: TqdmDeprecationWarning: This function will be removed in tqdm==5.0.0\n",
      "Please use `tqdm.notebook.tqdm` instead of `tqdm.tqdm_notebook`\n",
      "  if __name__ == '__main__':\n"
     ]
    },
    {
     "data": {
      "application/vnd.jupyter.widget-view+json": {
       "model_id": "161a75269c624422a82da4dc43fd2eaf",
       "version_major": 2,
       "version_minor": 0
      },
      "text/plain": [
       "HBox(children=(IntProgress(value=0, max=6079), HTML(value='')))"
      ]
     },
     "metadata": {},
     "output_type": "display_data"
    },
    {
     "name": "stdout",
     "output_type": "stream",
     "text": [
      "\n"
     ]
    },
    {
     "data": {
      "application/vnd.jupyter.widget-view+json": {
       "model_id": "7d8bea947c2a45e4aa6e4702b4a481fb",
       "version_major": 2,
       "version_minor": 0
      },
      "text/plain": [
       "HBox(children=(IntProgress(value=0, max=6079), HTML(value='')))"
      ]
     },
     "metadata": {},
     "output_type": "display_data"
    },
    {
     "name": "stdout",
     "output_type": "stream",
     "text": [
      "\n"
     ]
    },
    {
     "data": {
      "application/vnd.jupyter.widget-view+json": {
       "model_id": "8fc4eb734174473eab559eefcc9f41a3",
       "version_major": 2,
       "version_minor": 0
      },
      "text/plain": [
       "HBox(children=(IntProgress(value=0, max=476), HTML(value='')))"
      ]
     },
     "metadata": {},
     "output_type": "display_data"
    },
    {
     "name": "stdout",
     "output_type": "stream",
     "text": [
      "\n"
     ]
    },
    {
     "data": {
      "application/vnd.jupyter.widget-view+json": {
       "model_id": "4acda178344f424fb1d7ac3403ce1775",
       "version_major": 2,
       "version_minor": 0
      },
      "text/plain": [
       "HBox(children=(IntProgress(value=0, max=476), HTML(value='')))"
      ]
     },
     "metadata": {},
     "output_type": "display_data"
    },
    {
     "name": "stdout",
     "output_type": "stream",
     "text": [
      "\n",
      "CPU times: user 12 s, sys: 104 ms, total: 12.1 s\n",
      "Wall time: 12.4 s\n"
     ]
    }
   ],
   "source": [
    "%%time\n",
    "tokenizer = AlbertTokenizer.from_pretrained('albert-base-v2')\n",
    "seg_ids_train, ids_train = {}, {}\n",
    "seg_ids_test, ids_test = {}, {}\n",
    "max_seq_len = 512\n",
    "for mode, df in [('train', train), ('test', test)]:\n",
    "    for text, cols in [('question', ['question_title', 'question_body']), \n",
    "                       ('answer', ['question_title', 'answer'])]:\n",
    "        ids, seg_ids = [], []\n",
    "        for x1, x2 in tqdm(df[cols].values):\n",
    "            encoded_inputs = tokenizer.encode_plus(\n",
    "                x1, x2, add_special_tokens=True, max_length=max_seq_len, pad_to_max_length=True, \n",
    "                return_token_type_ids=True\n",
    "            )\n",
    "            ids.append(encoded_inputs['input_ids'])\n",
    "            seg_ids.append(encoded_inputs['token_type_ids'])\n",
    "        if mode == 'train': \n",
    "            ids_train[text] = np.array(ids)\n",
    "            seg_ids_train[text] = np.array(seg_ids)\n",
    "        else: \n",
    "            ids_test[text] = np.array(ids)\n",
    "            seg_ids_test[text] = np.array(seg_ids)"
   ]
  },
  {
   "cell_type": "code",
   "execution_count": 4,
   "metadata": {
    "code_folding": []
   },
   "outputs": [],
   "source": [
    "train_category, test_category, category_dict, category_dict_reverse = \\\n",
    "    get_categorical_features(train, test, 'category')"
   ]
  },
  {
   "cell_type": "code",
   "execution_count": 5,
   "metadata": {},
   "outputs": [
    {
     "name": "stderr",
     "output_type": "stream",
     "text": [
      "/home/robin/anaconda3/envs/GoogleQuest/lib/python3.7/site-packages/sklearn/preprocessing/_encoders.py:415: FutureWarning: The handling of integer data will change in version 0.22. Currently, the categories are determined based on the range [0, max(values)], while in the future they will be determined based on the unique values.\n",
      "If you want the future behaviour and silence this warning, you can specify \"categories='auto'\".\n",
      "In case you used a LabelEncoder before this OneHotEncoder to convert the categories to integers, then you can now use the OneHotEncoder directly.\n",
      "  warnings.warn(msg, FutureWarning)\n"
     ]
    }
   ],
   "source": [
    "cat_features_train = train_category.reshape(-1, 1)\n",
    "cat_features_test = test_category.reshape(-1, 1)\n",
    "ohe = OneHotEncoder()\n",
    "ohe.fit(cat_features_train)\n",
    "cat_features_train = ohe.transform(cat_features_train).toarray()\n",
    "cat_features_test = ohe.transform(cat_features_test).toarray()"
   ]
  },
  {
   "cell_type": "code",
   "execution_count": 6,
   "metadata": {},
   "outputs": [],
   "source": [
    "for col in TARGETS:\n",
    "    train[col] = train[col].rank(method=\"average\")\n",
    "train[TARGETS] = MinMaxScaler().fit_transform(train[TARGETS])\n",
    "y = train[TARGETS].values.astype(np.float32)\n",
    "ix = np.where(train.groupby(\"question_body\")[\"host\"].transform(\"count\") == 1)[0]"
   ]
  },
  {
   "cell_type": "code",
   "execution_count": 7,
   "metadata": {},
   "outputs": [],
   "source": [
    "num_workers = 10\n",
    "bs = 2"
   ]
  },
  {
   "cell_type": "markdown",
   "metadata": {},
   "source": [
    "## Training model"
   ]
  },
  {
   "cell_type": "code",
   "execution_count": 8,
   "metadata": {},
   "outputs": [],
   "source": [
    "device = 'cuda'\n",
    "pretrained_model = 'siamese_albert_1'\n",
    "head_model_name = 'siamese_albert_1_head'\n",
    "model_name = 'siamese_albert_1_comb'\n",
    "checkpoint_dir = 'checkpoints/'\n",
    "early_stopping = None\n",
    "n_folds = 10"
   ]
  },
  {
   "cell_type": "code",
   "execution_count": 9,
   "metadata": {},
   "outputs": [],
   "source": [
    "def load_model(checkpoint_file, model):\n",
    "    checkpoint = torch.load(checkpoint_file)\n",
    "    model.load_state_dict(checkpoint['model_state_dict'])\n",
    "    \n",
    "def get_pretrained_model(fold_id):\n",
    "    checkpoint_file = f'{checkpoint_dir}{pretrained_model}_fold_{fold_id+1}_best.pth'\n",
    "    model = CustomAlbert(256, cat_features_train.shape[1])\n",
    "    load_model(checkpoint_file, model)\n",
    "    return model\n",
    "\n",
    "def load_head(model, fold_id):\n",
    "    checkpoint_file = f'{checkpoint_dir}{head_model_name}_fold_{fold_id+1}_best.pth'\n",
    "    load_model(checkpoint_file, model.head)\n",
    "\n",
    "def save_model(model):\n",
    "    checkpoint_file = f'{checkpoint_dir}{model_name}_fold_{fold_id+1}_best.pth'\n",
    "    torch.save({'model_state_dict': model.state_dict()}, checkpoint_file)\n",
    "    \n",
    "def load_saved_model(model):\n",
    "    checkpoint_file = f'{checkpoint_dir}{model_name}_fold_{fold_id+1}_best.pth'\n",
    "    load_model(checkpoint_file, model)"
   ]
  },
  {
   "cell_type": "code",
   "execution_count": 10,
   "metadata": {
    "scrolled": true
   },
   "outputs": [
    {
     "name": "stderr",
     "output_type": "stream",
     "text": [
      "There is currently an upstream reproducibility issue with ALBERT v2 models. Please see https://github.com/google-research/google-research/issues/119 for more information.\n"
     ]
    },
    {
     "name": "stdout",
     "output_type": "stream",
     "text": [
      "Fold 1 started at Thu Feb  6 21:40:00 2020\n"
     ]
    },
    {
     "name": "stderr",
     "output_type": "stream",
     "text": [
      "There is currently an upstream reproducibility issue with ALBERT v2 models. Please see https://github.com/google-research/google-research/issues/119 for more information.\n"
     ]
    },
    {
     "data": {
      "application/vnd.jupyter.widget-view+json": {
       "model_id": "4f412c6b8f584f28b481a07aa5c7f850",
       "version_major": 2,
       "version_minor": 0
      },
      "text/plain": [
       "HBox(children=(IntProgress(value=0, max=304), HTML(value='')))"
      ]
     },
     "metadata": {},
     "output_type": "display_data"
    },
    {
     "name": "stderr",
     "output_type": "stream",
     "text": [
      "/home/robin/anaconda3/envs/GoogleQuest/lib/python3.7/site-packages/numpy/lib/function_base.py:2534: RuntimeWarning: invalid value encountered in true_divide\n",
      "  c /= stddev[:, None]\n",
      "/home/robin/anaconda3/envs/GoogleQuest/lib/python3.7/site-packages/numpy/lib/function_base.py:2535: RuntimeWarning: invalid value encountered in true_divide\n",
      "  c /= stddev[None, :]\n",
      "/home/robin/anaconda3/envs/GoogleQuest/lib/python3.7/site-packages/scipy/stats/_distn_infrastructure.py:901: RuntimeWarning: invalid value encountered in greater\n",
      "  return (a < x) & (x < b)\n",
      "/home/robin/anaconda3/envs/GoogleQuest/lib/python3.7/site-packages/scipy/stats/_distn_infrastructure.py:901: RuntimeWarning: invalid value encountered in less\n",
      "  return (a < x) & (x < b)\n",
      "/home/robin/anaconda3/envs/GoogleQuest/lib/python3.7/site-packages/scipy/stats/_distn_infrastructure.py:1892: RuntimeWarning: invalid value encountered in less_equal\n",
      "  cond2 = cond0 & (x <= _a)\n",
      "There is currently an upstream reproducibility issue with ALBERT v2 models. Please see https://github.com/google-research/google-research/issues/119 for more information.\n"
     ]
    },
    {
     "name": "stdout",
     "output_type": "stream",
     "text": [
      "\n",
      "Averaged Val. score: 0.41674470840310823\n",
      "Fold 2 started at Thu Feb  6 21:40:27 2020\n"
     ]
    },
    {
     "name": "stderr",
     "output_type": "stream",
     "text": [
      "There is currently an upstream reproducibility issue with ALBERT v2 models. Please see https://github.com/google-research/google-research/issues/119 for more information.\n"
     ]
    },
    {
     "data": {
      "application/vnd.jupyter.widget-view+json": {
       "model_id": "f6f76fde4c48404087e5bf66d509a9fe",
       "version_major": 2,
       "version_minor": 0
      },
      "text/plain": [
       "HBox(children=(IntProgress(value=0, max=304), HTML(value='')))"
      ]
     },
     "metadata": {},
     "output_type": "display_data"
    },
    {
     "name": "stderr",
     "output_type": "stream",
     "text": [
      "There is currently an upstream reproducibility issue with ALBERT v2 models. Please see https://github.com/google-research/google-research/issues/119 for more information.\n"
     ]
    },
    {
     "name": "stdout",
     "output_type": "stream",
     "text": [
      "\n",
      "Averaged Val. score: 0.4269527738895812\n",
      "Fold 3 started at Thu Feb  6 21:40:52 2020\n"
     ]
    },
    {
     "name": "stderr",
     "output_type": "stream",
     "text": [
      "There is currently an upstream reproducibility issue with ALBERT v2 models. Please see https://github.com/google-research/google-research/issues/119 for more information.\n"
     ]
    },
    {
     "data": {
      "application/vnd.jupyter.widget-view+json": {
       "model_id": "aa8da6dd91c24d19b5fe0630f6fc3c2f",
       "version_major": 2,
       "version_minor": 0
      },
      "text/plain": [
       "HBox(children=(IntProgress(value=0, max=304), HTML(value='')))"
      ]
     },
     "metadata": {},
     "output_type": "display_data"
    },
    {
     "name": "stderr",
     "output_type": "stream",
     "text": [
      "There is currently an upstream reproducibility issue with ALBERT v2 models. Please see https://github.com/google-research/google-research/issues/119 for more information.\n"
     ]
    },
    {
     "name": "stdout",
     "output_type": "stream",
     "text": [
      "\n",
      "Averaged Val. score: 0.408231991975439\n",
      "Fold 4 started at Thu Feb  6 21:41:17 2020\n"
     ]
    },
    {
     "name": "stderr",
     "output_type": "stream",
     "text": [
      "There is currently an upstream reproducibility issue with ALBERT v2 models. Please see https://github.com/google-research/google-research/issues/119 for more information.\n"
     ]
    },
    {
     "data": {
      "application/vnd.jupyter.widget-view+json": {
       "model_id": "8890d823375249aaaee65407469cf062",
       "version_major": 2,
       "version_minor": 0
      },
      "text/plain": [
       "HBox(children=(IntProgress(value=0, max=304), HTML(value='')))"
      ]
     },
     "metadata": {},
     "output_type": "display_data"
    },
    {
     "name": "stderr",
     "output_type": "stream",
     "text": [
      "There is currently an upstream reproducibility issue with ALBERT v2 models. Please see https://github.com/google-research/google-research/issues/119 for more information.\n"
     ]
    },
    {
     "name": "stdout",
     "output_type": "stream",
     "text": [
      "\n",
      "Averaged Val. score: 0.4038711577489126\n",
      "Fold 5 started at Thu Feb  6 21:41:42 2020\n"
     ]
    },
    {
     "name": "stderr",
     "output_type": "stream",
     "text": [
      "There is currently an upstream reproducibility issue with ALBERT v2 models. Please see https://github.com/google-research/google-research/issues/119 for more information.\n"
     ]
    },
    {
     "data": {
      "application/vnd.jupyter.widget-view+json": {
       "model_id": "dc422d29539b4a11a8fa1f1a3600b3d9",
       "version_major": 2,
       "version_minor": 0
      },
      "text/plain": [
       "HBox(children=(IntProgress(value=0, max=304), HTML(value='')))"
      ]
     },
     "metadata": {},
     "output_type": "display_data"
    },
    {
     "name": "stderr",
     "output_type": "stream",
     "text": [
      "There is currently an upstream reproducibility issue with ALBERT v2 models. Please see https://github.com/google-research/google-research/issues/119 for more information.\n"
     ]
    },
    {
     "name": "stdout",
     "output_type": "stream",
     "text": [
      "\n",
      "Averaged Val. score: 0.4005122318438642\n",
      "Fold 6 started at Thu Feb  6 21:42:07 2020\n"
     ]
    },
    {
     "name": "stderr",
     "output_type": "stream",
     "text": [
      "There is currently an upstream reproducibility issue with ALBERT v2 models. Please see https://github.com/google-research/google-research/issues/119 for more information.\n"
     ]
    },
    {
     "data": {
      "application/vnd.jupyter.widget-view+json": {
       "model_id": "8aedf49806ff436eb88b6e2f138c77dd",
       "version_major": 2,
       "version_minor": 0
      },
      "text/plain": [
       "HBox(children=(IntProgress(value=0, max=304), HTML(value='')))"
      ]
     },
     "metadata": {},
     "output_type": "display_data"
    },
    {
     "name": "stderr",
     "output_type": "stream",
     "text": [
      "There is currently an upstream reproducibility issue with ALBERT v2 models. Please see https://github.com/google-research/google-research/issues/119 for more information.\n"
     ]
    },
    {
     "name": "stdout",
     "output_type": "stream",
     "text": [
      "\n",
      "Averaged Val. score: 0.39638985836634394\n",
      "Fold 7 started at Thu Feb  6 21:42:32 2020\n"
     ]
    },
    {
     "name": "stderr",
     "output_type": "stream",
     "text": [
      "There is currently an upstream reproducibility issue with ALBERT v2 models. Please see https://github.com/google-research/google-research/issues/119 for more information.\n"
     ]
    },
    {
     "data": {
      "application/vnd.jupyter.widget-view+json": {
       "model_id": "5762ff7dc2614bc29c49f2ea23c99228",
       "version_major": 2,
       "version_minor": 0
      },
      "text/plain": [
       "HBox(children=(IntProgress(value=0, max=304), HTML(value='')))"
      ]
     },
     "metadata": {},
     "output_type": "display_data"
    },
    {
     "name": "stderr",
     "output_type": "stream",
     "text": [
      "There is currently an upstream reproducibility issue with ALBERT v2 models. Please see https://github.com/google-research/google-research/issues/119 for more information.\n"
     ]
    },
    {
     "name": "stdout",
     "output_type": "stream",
     "text": [
      "\n",
      "Averaged Val. score: 0.4156167387280483\n",
      "Fold 8 started at Thu Feb  6 21:42:58 2020\n"
     ]
    },
    {
     "name": "stderr",
     "output_type": "stream",
     "text": [
      "There is currently an upstream reproducibility issue with ALBERT v2 models. Please see https://github.com/google-research/google-research/issues/119 for more information.\n"
     ]
    },
    {
     "data": {
      "application/vnd.jupyter.widget-view+json": {
       "model_id": "aa58afb8f0ca4c3084795cf8e2d9afa0",
       "version_major": 2,
       "version_minor": 0
      },
      "text/plain": [
       "HBox(children=(IntProgress(value=0, max=304), HTML(value='')))"
      ]
     },
     "metadata": {},
     "output_type": "display_data"
    },
    {
     "name": "stderr",
     "output_type": "stream",
     "text": [
      "There is currently an upstream reproducibility issue with ALBERT v2 models. Please see https://github.com/google-research/google-research/issues/119 for more information.\n"
     ]
    },
    {
     "name": "stdout",
     "output_type": "stream",
     "text": [
      "\n",
      "Averaged Val. score: 0.42004157988172736\n",
      "Fold 9 started at Thu Feb  6 21:43:23 2020\n"
     ]
    },
    {
     "name": "stderr",
     "output_type": "stream",
     "text": [
      "There is currently an upstream reproducibility issue with ALBERT v2 models. Please see https://github.com/google-research/google-research/issues/119 for more information.\n"
     ]
    },
    {
     "data": {
      "application/vnd.jupyter.widget-view+json": {
       "model_id": "0ee599a96f714569b65d4f9b92e525b6",
       "version_major": 2,
       "version_minor": 0
      },
      "text/plain": [
       "HBox(children=(IntProgress(value=0, max=304), HTML(value='')))"
      ]
     },
     "metadata": {},
     "output_type": "display_data"
    },
    {
     "name": "stderr",
     "output_type": "stream",
     "text": [
      "There is currently an upstream reproducibility issue with ALBERT v2 models. Please see https://github.com/google-research/google-research/issues/119 for more information.\n"
     ]
    },
    {
     "name": "stdout",
     "output_type": "stream",
     "text": [
      "\n",
      "Averaged Val. score: 0.4136763094379314\n",
      "Fold 10 started at Thu Feb  6 21:43:48 2020\n"
     ]
    },
    {
     "name": "stderr",
     "output_type": "stream",
     "text": [
      "There is currently an upstream reproducibility issue with ALBERT v2 models. Please see https://github.com/google-research/google-research/issues/119 for more information.\n"
     ]
    },
    {
     "data": {
      "application/vnd.jupyter.widget-view+json": {
       "model_id": "eb0c4319e325473dad8875c6ac8237f2",
       "version_major": 2,
       "version_minor": 0
      },
      "text/plain": [
       "HBox(children=(IntProgress(value=0, max=304), HTML(value='')))"
      ]
     },
     "metadata": {},
     "output_type": "display_data"
    },
    {
     "name": "stdout",
     "output_type": "stream",
     "text": [
      "\n",
      "Averaged Val. score: 0.4204006695362236\n",
      "OOF score: 0.41300781155691596\n"
     ]
    }
   ],
   "source": [
    "init_seed()\n",
    "folds = GroupKFold(n_splits=n_folds).split(X=train['question_body'], groups=train['question_body'])\n",
    "oofs = np.zeros((len(train), N_TARGETS))\n",
    "\n",
    "for fold_id, (train_index, valid_index) in enumerate(folds):\n",
    "    print(f'Fold {fold_id + 1} started at {time.ctime()}')\n",
    "    train_loader = DataLoader(\n",
    "        TextDataset(cat_features_train, ids_train['question'], ids_train['answer'],\n",
    "                    seg_ids_train['question'], seg_ids_train['answer'], train_index, targets=y), \n",
    "        batch_size=bs, shuffle=True, num_workers=num_workers, drop_last=False\n",
    "    )\n",
    "    valid_loader = DataLoader(\n",
    "        TextDataset(cat_features_train, ids_train['question'], ids_train['answer'],\n",
    "                    seg_ids_train['question'], seg_ids_train['answer'], valid_index, targets=y), \n",
    "        batch_size=bs, shuffle=False, num_workers=num_workers, drop_last=False\n",
    "    )\n",
    "    \n",
    "    model = get_pretrained_model(fold_id)\n",
    "    load_head(model, fold_id)\n",
    "    save_model(model)\n",
    "    load_saved_model(model)\n",
    "    \n",
    "    oofs[valid_index] = infer(model, valid_loader, None, device)\n",
    "    print(f'Averaged Val. score: {spearmanr_np(oofs[valid_index], y[valid_index])}')\n",
    "    \n",
    "    del model, train_loader, valid_loader\n",
    "    gc.collect()\n",
    "    \n",
    "print(f'OOF score: {spearmanr_np(oofs, y)}')"
   ]
  },
  {
   "cell_type": "code",
   "execution_count": 11,
   "metadata": {
    "scrolled": true
   },
   "outputs": [
    {
     "name": "stdout",
     "output_type": "stream",
     "text": [
      "2 8 0.47231165705176625\n",
      "5 4 0.4588563696347066\n",
      "9 64 0.11902041556713282\n",
      "11 8 0.7561803680315404\n",
      "12 4 0.4934870423601095\n",
      "13 32 0.2021768461753178\n",
      "14 8 0.6078719826196841\n",
      "15 4 0.5744369621253741\n",
      "16 16 0.7828613099457135\n",
      "19 16 0.24525016795977644\n"
     ]
    }
   ],
   "source": [
    "opt_ds, opt_indices = optimize_rounding_params(oofs, y)"
   ]
  },
  {
   "cell_type": "code",
   "execution_count": 12,
   "metadata": {},
   "outputs": [
    {
     "data": {
      "text/plain": [
       "(array([ 8,  4, 64,  8,  4, 32,  8,  4, 16, 16]),\n",
       " array([ 2,  5,  9, 11, 12, 13, 14, 15, 16, 19]))"
      ]
     },
     "execution_count": 12,
     "metadata": {},
     "output_type": "execute_result"
    }
   ],
   "source": [
    "np.array(opt_ds), np.array(opt_indices)"
   ]
  },
  {
   "cell_type": "code",
   "execution_count": 13,
   "metadata": {
    "scrolled": false
   },
   "outputs": [],
   "source": [
    "oofs_alt = oofs.copy()\n",
    "train[\"eng\"] = train[\"url\"].apply(lambda x: x.startswith(\"http://english.\") or x.startswith(\"http://ell.\"))\n",
    "oofs_alt[np.where((~train[\"eng\"]).values)[0], 19] = 0"
   ]
  },
  {
   "cell_type": "code",
   "execution_count": 14,
   "metadata": {
    "scrolled": false
   },
   "outputs": [
    {
     "data": {
      "text/html": [
       "<div>\n",
       "<style scoped>\n",
       "    .dataframe tbody tr th:only-of-type {\n",
       "        vertical-align: middle;\n",
       "    }\n",
       "\n",
       "    .dataframe tbody tr th {\n",
       "        vertical-align: top;\n",
       "    }\n",
       "\n",
       "    .dataframe thead th {\n",
       "        text-align: right;\n",
       "    }\n",
       "</style>\n",
       "<table border=\"1\" class=\"dataframe\">\n",
       "  <thead>\n",
       "    <tr style=\"text-align: right;\">\n",
       "      <th></th>\n",
       "      <th>SpearmanR</th>\n",
       "    </tr>\n",
       "  </thead>\n",
       "  <tbody>\n",
       "    <tr>\n",
       "      <th>CV</th>\n",
       "      <td>0.413008</td>\n",
       "    </tr>\n",
       "    <tr>\n",
       "      <th>CV unique rows</th>\n",
       "      <td>0.378925</td>\n",
       "    </tr>\n",
       "    <tr>\n",
       "      <th>CV ignoring hard targets</th>\n",
       "      <td>0.436447</td>\n",
       "    </tr>\n",
       "    <tr>\n",
       "      <th>CV unique rows ignoring hard targets</th>\n",
       "      <td>0.399252</td>\n",
       "    </tr>\n",
       "    <tr>\n",
       "      <th>CV w rounding</th>\n",
       "      <td>0.441115</td>\n",
       "    </tr>\n",
       "    <tr>\n",
       "      <th>CV unique rows w rounding</th>\n",
       "      <td>0.419050</td>\n",
       "    </tr>\n",
       "    <tr>\n",
       "      <th>CV ignoring hard targets w rounding</th>\n",
       "      <td>0.459613</td>\n",
       "    </tr>\n",
       "    <tr>\n",
       "      <th>CV unique rows ignoring hard targets w rounding</th>\n",
       "      <td>0.427772</td>\n",
       "    </tr>\n",
       "  </tbody>\n",
       "</table>\n",
       "</div>"
      ],
      "text/plain": [
       "                                                 SpearmanR\n",
       "CV                                                0.413008\n",
       "CV unique rows                                    0.378925\n",
       "CV ignoring hard targets                          0.436447\n",
       "CV unique rows ignoring hard targets              0.399252\n",
       "CV w rounding                                     0.441115\n",
       "CV unique rows w rounding                         0.419050\n",
       "CV ignoring hard targets w rounding               0.459613\n",
       "CV unique rows ignoring hard targets w rounding   0.427772"
      ]
     },
     "execution_count": 14,
     "metadata": {},
     "output_type": "execute_result"
    }
   ],
   "source": [
    "get_cvs(oofs, y, ix)"
   ]
  },
  {
   "cell_type": "code",
   "execution_count": 15,
   "metadata": {
    "scrolled": false
   },
   "outputs": [
    {
     "data": {
      "text/html": [
       "<div>\n",
       "<style scoped>\n",
       "    .dataframe tbody tr th:only-of-type {\n",
       "        vertical-align: middle;\n",
       "    }\n",
       "\n",
       "    .dataframe tbody tr th {\n",
       "        vertical-align: top;\n",
       "    }\n",
       "\n",
       "    .dataframe thead th {\n",
       "        text-align: right;\n",
       "    }\n",
       "</style>\n",
       "<table border=\"1\" class=\"dataframe\">\n",
       "  <thead>\n",
       "    <tr style=\"text-align: right;\">\n",
       "      <th></th>\n",
       "      <th>SpearmanR</th>\n",
       "    </tr>\n",
       "  </thead>\n",
       "  <tbody>\n",
       "    <tr>\n",
       "      <th>CV</th>\n",
       "      <td>0.416960</td>\n",
       "    </tr>\n",
       "    <tr>\n",
       "      <th>CV unique rows</th>\n",
       "      <td>0.383035</td>\n",
       "    </tr>\n",
       "    <tr>\n",
       "      <th>CV ignoring hard targets</th>\n",
       "      <td>0.436447</td>\n",
       "    </tr>\n",
       "    <tr>\n",
       "      <th>CV unique rows ignoring hard targets</th>\n",
       "      <td>0.399252</td>\n",
       "    </tr>\n",
       "    <tr>\n",
       "      <th>CV w rounding</th>\n",
       "      <td>0.441115</td>\n",
       "    </tr>\n",
       "    <tr>\n",
       "      <th>CV unique rows w rounding</th>\n",
       "      <td>0.419050</td>\n",
       "    </tr>\n",
       "    <tr>\n",
       "      <th>CV ignoring hard targets w rounding</th>\n",
       "      <td>0.459613</td>\n",
       "    </tr>\n",
       "    <tr>\n",
       "      <th>CV unique rows ignoring hard targets w rounding</th>\n",
       "      <td>0.427772</td>\n",
       "    </tr>\n",
       "  </tbody>\n",
       "</table>\n",
       "</div>"
      ],
      "text/plain": [
       "                                                 SpearmanR\n",
       "CV                                                0.416960\n",
       "CV unique rows                                    0.383035\n",
       "CV ignoring hard targets                          0.436447\n",
       "CV unique rows ignoring hard targets              0.399252\n",
       "CV w rounding                                     0.441115\n",
       "CV unique rows w rounding                         0.419050\n",
       "CV ignoring hard targets w rounding               0.459613\n",
       "CV unique rows ignoring hard targets w rounding   0.427772"
      ]
     },
     "execution_count": 15,
     "metadata": {},
     "output_type": "execute_result"
    }
   ],
   "source": [
    "get_cvs(oofs_alt, y, ix)"
   ]
  },
  {
   "cell_type": "code",
   "execution_count": 16,
   "metadata": {},
   "outputs": [],
   "source": [
    "pd.DataFrame(oofs, columns=TARGETS).to_csv(f'oofs/{model_name}_oofs.csv')"
   ]
  },
  {
   "cell_type": "code",
   "execution_count": 17,
   "metadata": {},
   "outputs": [
    {
     "data": {
      "text/html": [
       "<div>\n",
       "<style scoped>\n",
       "    .dataframe tbody tr th:only-of-type {\n",
       "        vertical-align: middle;\n",
       "    }\n",
       "\n",
       "    .dataframe tbody tr th {\n",
       "        vertical-align: top;\n",
       "    }\n",
       "\n",
       "    .dataframe thead th {\n",
       "        text-align: right;\n",
       "    }\n",
       "</style>\n",
       "<table border=\"1\" class=\"dataframe\">\n",
       "  <thead>\n",
       "    <tr style=\"text-align: right;\">\n",
       "      <th></th>\n",
       "      <th>question_asker_intent_understanding</th>\n",
       "      <th>question_body_critical</th>\n",
       "      <th>question_conversational</th>\n",
       "      <th>question_expect_short_answer</th>\n",
       "      <th>question_fact_seeking</th>\n",
       "      <th>question_has_commonly_accepted_answer</th>\n",
       "      <th>question_interestingness_others</th>\n",
       "      <th>question_interestingness_self</th>\n",
       "      <th>question_multi_intent</th>\n",
       "      <th>question_not_really_a_question</th>\n",
       "      <th>question_opinion_seeking</th>\n",
       "      <th>question_type_choice</th>\n",
       "      <th>question_type_compare</th>\n",
       "      <th>question_type_consequence</th>\n",
       "      <th>question_type_definition</th>\n",
       "      <th>question_type_entity</th>\n",
       "      <th>question_type_instructions</th>\n",
       "      <th>question_type_procedure</th>\n",
       "      <th>question_type_reason_explanation</th>\n",
       "      <th>question_type_spelling</th>\n",
       "      <th>question_well_written</th>\n",
       "      <th>answer_helpful</th>\n",
       "      <th>answer_level_of_information</th>\n",
       "      <th>answer_plausible</th>\n",
       "      <th>answer_relevance</th>\n",
       "      <th>answer_satisfaction</th>\n",
       "      <th>answer_type_instructions</th>\n",
       "      <th>answer_type_procedure</th>\n",
       "      <th>answer_type_reason_explanation</th>\n",
       "      <th>answer_well_written</th>\n",
       "    </tr>\n",
       "  </thead>\n",
       "  <tbody>\n",
       "    <tr>\n",
       "      <th>0</th>\n",
       "      <td>0.826592</td>\n",
       "      <td>0.840113</td>\n",
       "      <td>0.225524</td>\n",
       "      <td>0.496306</td>\n",
       "      <td>0.557586</td>\n",
       "      <td>0.357990</td>\n",
       "      <td>0.671529</td>\n",
       "      <td>0.603076</td>\n",
       "      <td>0.152584</td>\n",
       "      <td>0.001845</td>\n",
       "      <td>0.661260</td>\n",
       "      <td>0.112065</td>\n",
       "      <td>0.163199</td>\n",
       "      <td>0.054087</td>\n",
       "      <td>0.004878</td>\n",
       "      <td>0.073453</td>\n",
       "      <td>0.127474</td>\n",
       "      <td>0.132488</td>\n",
       "      <td>0.679780</td>\n",
       "      <td>0.000189</td>\n",
       "      <td>0.887534</td>\n",
       "      <td>0.864170</td>\n",
       "      <td>0.546606</td>\n",
       "      <td>0.938327</td>\n",
       "      <td>0.913482</td>\n",
       "      <td>0.669935</td>\n",
       "      <td>0.082470</td>\n",
       "      <td>0.098609</td>\n",
       "      <td>0.859169</td>\n",
       "      <td>0.787350</td>\n",
       "    </tr>\n",
       "    <tr>\n",
       "      <th>1</th>\n",
       "      <td>0.840513</td>\n",
       "      <td>0.717097</td>\n",
       "      <td>0.114959</td>\n",
       "      <td>0.642396</td>\n",
       "      <td>0.926172</td>\n",
       "      <td>0.680830</td>\n",
       "      <td>0.553107</td>\n",
       "      <td>0.670566</td>\n",
       "      <td>0.250027</td>\n",
       "      <td>0.001595</td>\n",
       "      <td>0.281042</td>\n",
       "      <td>0.105070</td>\n",
       "      <td>0.855620</td>\n",
       "      <td>0.005960</td>\n",
       "      <td>0.702855</td>\n",
       "      <td>0.061423</td>\n",
       "      <td>0.010687</td>\n",
       "      <td>0.019594</td>\n",
       "      <td>0.354106</td>\n",
       "      <td>0.011934</td>\n",
       "      <td>0.784642</td>\n",
       "      <td>0.566572</td>\n",
       "      <td>0.316222</td>\n",
       "      <td>0.693775</td>\n",
       "      <td>0.772133</td>\n",
       "      <td>0.346388</td>\n",
       "      <td>0.007025</td>\n",
       "      <td>0.017972</td>\n",
       "      <td>0.490801</td>\n",
       "      <td>0.718345</td>\n",
       "    </tr>\n",
       "    <tr>\n",
       "      <th>2</th>\n",
       "      <td>0.514406</td>\n",
       "      <td>0.169816</td>\n",
       "      <td>0.008477</td>\n",
       "      <td>0.702178</td>\n",
       "      <td>0.749296</td>\n",
       "      <td>0.829472</td>\n",
       "      <td>0.423101</td>\n",
       "      <td>0.254015</td>\n",
       "      <td>0.127347</td>\n",
       "      <td>0.003197</td>\n",
       "      <td>0.385368</td>\n",
       "      <td>0.308368</td>\n",
       "      <td>0.015299</td>\n",
       "      <td>0.007040</td>\n",
       "      <td>0.001119</td>\n",
       "      <td>0.176181</td>\n",
       "      <td>0.686632</td>\n",
       "      <td>0.299534</td>\n",
       "      <td>0.168155</td>\n",
       "      <td>0.000071</td>\n",
       "      <td>0.411862</td>\n",
       "      <td>0.886899</td>\n",
       "      <td>0.605841</td>\n",
       "      <td>0.935627</td>\n",
       "      <td>0.928945</td>\n",
       "      <td>0.713579</td>\n",
       "      <td>0.655846</td>\n",
       "      <td>0.389298</td>\n",
       "      <td>0.509763</td>\n",
       "      <td>0.707071</td>\n",
       "    </tr>\n",
       "    <tr>\n",
       "      <th>3</th>\n",
       "      <td>0.834574</td>\n",
       "      <td>0.758913</td>\n",
       "      <td>0.083484</td>\n",
       "      <td>0.854572</td>\n",
       "      <td>0.744422</td>\n",
       "      <td>0.850374</td>\n",
       "      <td>0.562583</td>\n",
       "      <td>0.628842</td>\n",
       "      <td>0.243243</td>\n",
       "      <td>0.001029</td>\n",
       "      <td>0.311352</td>\n",
       "      <td>0.960011</td>\n",
       "      <td>0.030704</td>\n",
       "      <td>0.028688</td>\n",
       "      <td>0.030847</td>\n",
       "      <td>0.016514</td>\n",
       "      <td>0.053145</td>\n",
       "      <td>0.165123</td>\n",
       "      <td>0.399253</td>\n",
       "      <td>0.005253</td>\n",
       "      <td>0.817275</td>\n",
       "      <td>0.833804</td>\n",
       "      <td>0.750938</td>\n",
       "      <td>0.851390</td>\n",
       "      <td>0.925516</td>\n",
       "      <td>0.784078</td>\n",
       "      <td>0.131130</td>\n",
       "      <td>0.246656</td>\n",
       "      <td>0.718865</td>\n",
       "      <td>0.720414</td>\n",
       "    </tr>\n",
       "    <tr>\n",
       "      <th>4</th>\n",
       "      <td>0.798984</td>\n",
       "      <td>0.781527</td>\n",
       "      <td>0.002609</td>\n",
       "      <td>0.690579</td>\n",
       "      <td>0.821034</td>\n",
       "      <td>0.906630</td>\n",
       "      <td>0.487427</td>\n",
       "      <td>0.464812</td>\n",
       "      <td>0.400670</td>\n",
       "      <td>0.000125</td>\n",
       "      <td>0.318296</td>\n",
       "      <td>0.696765</td>\n",
       "      <td>0.001318</td>\n",
       "      <td>0.000585</td>\n",
       "      <td>0.000752</td>\n",
       "      <td>0.004915</td>\n",
       "      <td>0.886193</td>\n",
       "      <td>0.286999</td>\n",
       "      <td>0.085276</td>\n",
       "      <td>0.000009</td>\n",
       "      <td>0.796249</td>\n",
       "      <td>0.766624</td>\n",
       "      <td>0.402253</td>\n",
       "      <td>0.831917</td>\n",
       "      <td>0.926793</td>\n",
       "      <td>0.633970</td>\n",
       "      <td>0.926338</td>\n",
       "      <td>0.166645</td>\n",
       "      <td>0.014816</td>\n",
       "      <td>0.524730</td>\n",
       "    </tr>\n",
       "    <tr>\n",
       "      <th>...</th>\n",
       "      <td>...</td>\n",
       "      <td>...</td>\n",
       "      <td>...</td>\n",
       "      <td>...</td>\n",
       "      <td>...</td>\n",
       "      <td>...</td>\n",
       "      <td>...</td>\n",
       "      <td>...</td>\n",
       "      <td>...</td>\n",
       "      <td>...</td>\n",
       "      <td>...</td>\n",
       "      <td>...</td>\n",
       "      <td>...</td>\n",
       "      <td>...</td>\n",
       "      <td>...</td>\n",
       "      <td>...</td>\n",
       "      <td>...</td>\n",
       "      <td>...</td>\n",
       "      <td>...</td>\n",
       "      <td>...</td>\n",
       "      <td>...</td>\n",
       "      <td>...</td>\n",
       "      <td>...</td>\n",
       "      <td>...</td>\n",
       "      <td>...</td>\n",
       "      <td>...</td>\n",
       "      <td>...</td>\n",
       "      <td>...</td>\n",
       "      <td>...</td>\n",
       "      <td>...</td>\n",
       "    </tr>\n",
       "    <tr>\n",
       "      <th>6074</th>\n",
       "      <td>0.874027</td>\n",
       "      <td>0.492799</td>\n",
       "      <td>0.206331</td>\n",
       "      <td>0.846007</td>\n",
       "      <td>0.651091</td>\n",
       "      <td>0.656825</td>\n",
       "      <td>0.702775</td>\n",
       "      <td>0.741284</td>\n",
       "      <td>0.392512</td>\n",
       "      <td>0.003958</td>\n",
       "      <td>0.452119</td>\n",
       "      <td>0.918934</td>\n",
       "      <td>0.091871</td>\n",
       "      <td>0.122587</td>\n",
       "      <td>0.022574</td>\n",
       "      <td>0.154272</td>\n",
       "      <td>0.035813</td>\n",
       "      <td>0.097513</td>\n",
       "      <td>0.429450</td>\n",
       "      <td>0.004602</td>\n",
       "      <td>0.691760</td>\n",
       "      <td>0.925187</td>\n",
       "      <td>0.774518</td>\n",
       "      <td>0.952615</td>\n",
       "      <td>0.962254</td>\n",
       "      <td>0.808510</td>\n",
       "      <td>0.070711</td>\n",
       "      <td>0.107132</td>\n",
       "      <td>0.886020</td>\n",
       "      <td>0.763157</td>\n",
       "    </tr>\n",
       "    <tr>\n",
       "      <th>6075</th>\n",
       "      <td>0.804373</td>\n",
       "      <td>0.222431</td>\n",
       "      <td>0.106790</td>\n",
       "      <td>0.527938</td>\n",
       "      <td>0.402159</td>\n",
       "      <td>0.447493</td>\n",
       "      <td>0.651704</td>\n",
       "      <td>0.662189</td>\n",
       "      <td>0.113715</td>\n",
       "      <td>0.007719</td>\n",
       "      <td>0.798347</td>\n",
       "      <td>0.017283</td>\n",
       "      <td>0.020990</td>\n",
       "      <td>0.008347</td>\n",
       "      <td>0.000900</td>\n",
       "      <td>0.021478</td>\n",
       "      <td>0.825831</td>\n",
       "      <td>0.433262</td>\n",
       "      <td>0.175520</td>\n",
       "      <td>0.000135</td>\n",
       "      <td>0.581822</td>\n",
       "      <td>0.855279</td>\n",
       "      <td>0.627374</td>\n",
       "      <td>0.939888</td>\n",
       "      <td>0.937234</td>\n",
       "      <td>0.675699</td>\n",
       "      <td>0.799586</td>\n",
       "      <td>0.404970</td>\n",
       "      <td>0.305224</td>\n",
       "      <td>0.825752</td>\n",
       "    </tr>\n",
       "    <tr>\n",
       "      <th>6076</th>\n",
       "      <td>0.531389</td>\n",
       "      <td>0.372871</td>\n",
       "      <td>0.001410</td>\n",
       "      <td>0.721606</td>\n",
       "      <td>0.664986</td>\n",
       "      <td>0.925206</td>\n",
       "      <td>0.387333</td>\n",
       "      <td>0.233770</td>\n",
       "      <td>0.150572</td>\n",
       "      <td>0.000762</td>\n",
       "      <td>0.501888</td>\n",
       "      <td>0.673549</td>\n",
       "      <td>0.000204</td>\n",
       "      <td>0.000652</td>\n",
       "      <td>0.000140</td>\n",
       "      <td>0.000669</td>\n",
       "      <td>0.911319</td>\n",
       "      <td>0.363327</td>\n",
       "      <td>0.128508</td>\n",
       "      <td>0.000004</td>\n",
       "      <td>0.355663</td>\n",
       "      <td>0.690673</td>\n",
       "      <td>0.411553</td>\n",
       "      <td>0.895777</td>\n",
       "      <td>0.884472</td>\n",
       "      <td>0.499085</td>\n",
       "      <td>0.712098</td>\n",
       "      <td>0.191390</td>\n",
       "      <td>0.691642</td>\n",
       "      <td>0.610411</td>\n",
       "    </tr>\n",
       "    <tr>\n",
       "      <th>6077</th>\n",
       "      <td>0.754114</td>\n",
       "      <td>0.351797</td>\n",
       "      <td>0.728689</td>\n",
       "      <td>0.220312</td>\n",
       "      <td>0.214588</td>\n",
       "      <td>0.095490</td>\n",
       "      <td>0.667461</td>\n",
       "      <td>0.787521</td>\n",
       "      <td>0.899657</td>\n",
       "      <td>0.004579</td>\n",
       "      <td>0.931162</td>\n",
       "      <td>0.646979</td>\n",
       "      <td>0.250359</td>\n",
       "      <td>0.158027</td>\n",
       "      <td>0.049037</td>\n",
       "      <td>0.078453</td>\n",
       "      <td>0.050186</td>\n",
       "      <td>0.316725</td>\n",
       "      <td>0.705558</td>\n",
       "      <td>0.000863</td>\n",
       "      <td>0.694662</td>\n",
       "      <td>0.726621</td>\n",
       "      <td>0.556617</td>\n",
       "      <td>0.841901</td>\n",
       "      <td>0.843556</td>\n",
       "      <td>0.479376</td>\n",
       "      <td>0.023882</td>\n",
       "      <td>0.103076</td>\n",
       "      <td>0.803523</td>\n",
       "      <td>0.764355</td>\n",
       "    </tr>\n",
       "    <tr>\n",
       "      <th>6078</th>\n",
       "      <td>0.759242</td>\n",
       "      <td>0.477103</td>\n",
       "      <td>0.138255</td>\n",
       "      <td>0.343681</td>\n",
       "      <td>0.825261</td>\n",
       "      <td>0.556755</td>\n",
       "      <td>0.578096</td>\n",
       "      <td>0.534156</td>\n",
       "      <td>0.899279</td>\n",
       "      <td>0.000439</td>\n",
       "      <td>0.506756</td>\n",
       "      <td>0.173446</td>\n",
       "      <td>0.595346</td>\n",
       "      <td>0.032254</td>\n",
       "      <td>0.028166</td>\n",
       "      <td>0.142820</td>\n",
       "      <td>0.019304</td>\n",
       "      <td>0.012048</td>\n",
       "      <td>0.962590</td>\n",
       "      <td>0.001633</td>\n",
       "      <td>0.629711</td>\n",
       "      <td>0.629312</td>\n",
       "      <td>0.385160</td>\n",
       "      <td>0.799367</td>\n",
       "      <td>0.744375</td>\n",
       "      <td>0.380302</td>\n",
       "      <td>0.031375</td>\n",
       "      <td>0.018796</td>\n",
       "      <td>0.950128</td>\n",
       "      <td>0.598342</td>\n",
       "    </tr>\n",
       "  </tbody>\n",
       "</table>\n",
       "<p>6079 rows × 30 columns</p>\n",
       "</div>"
      ],
      "text/plain": [
       "      question_asker_intent_understanding  question_body_critical  \\\n",
       "0                                0.826592                0.840113   \n",
       "1                                0.840513                0.717097   \n",
       "2                                0.514406                0.169816   \n",
       "3                                0.834574                0.758913   \n",
       "4                                0.798984                0.781527   \n",
       "...                                   ...                     ...   \n",
       "6074                             0.874027                0.492799   \n",
       "6075                             0.804373                0.222431   \n",
       "6076                             0.531389                0.372871   \n",
       "6077                             0.754114                0.351797   \n",
       "6078                             0.759242                0.477103   \n",
       "\n",
       "      question_conversational  question_expect_short_answer  \\\n",
       "0                    0.225524                      0.496306   \n",
       "1                    0.114959                      0.642396   \n",
       "2                    0.008477                      0.702178   \n",
       "3                    0.083484                      0.854572   \n",
       "4                    0.002609                      0.690579   \n",
       "...                       ...                           ...   \n",
       "6074                 0.206331                      0.846007   \n",
       "6075                 0.106790                      0.527938   \n",
       "6076                 0.001410                      0.721606   \n",
       "6077                 0.728689                      0.220312   \n",
       "6078                 0.138255                      0.343681   \n",
       "\n",
       "      question_fact_seeking  question_has_commonly_accepted_answer  \\\n",
       "0                  0.557586                               0.357990   \n",
       "1                  0.926172                               0.680830   \n",
       "2                  0.749296                               0.829472   \n",
       "3                  0.744422                               0.850374   \n",
       "4                  0.821034                               0.906630   \n",
       "...                     ...                                    ...   \n",
       "6074               0.651091                               0.656825   \n",
       "6075               0.402159                               0.447493   \n",
       "6076               0.664986                               0.925206   \n",
       "6077               0.214588                               0.095490   \n",
       "6078               0.825261                               0.556755   \n",
       "\n",
       "      question_interestingness_others  question_interestingness_self  \\\n",
       "0                            0.671529                       0.603076   \n",
       "1                            0.553107                       0.670566   \n",
       "2                            0.423101                       0.254015   \n",
       "3                            0.562583                       0.628842   \n",
       "4                            0.487427                       0.464812   \n",
       "...                               ...                            ...   \n",
       "6074                         0.702775                       0.741284   \n",
       "6075                         0.651704                       0.662189   \n",
       "6076                         0.387333                       0.233770   \n",
       "6077                         0.667461                       0.787521   \n",
       "6078                         0.578096                       0.534156   \n",
       "\n",
       "      question_multi_intent  question_not_really_a_question  \\\n",
       "0                  0.152584                        0.001845   \n",
       "1                  0.250027                        0.001595   \n",
       "2                  0.127347                        0.003197   \n",
       "3                  0.243243                        0.001029   \n",
       "4                  0.400670                        0.000125   \n",
       "...                     ...                             ...   \n",
       "6074               0.392512                        0.003958   \n",
       "6075               0.113715                        0.007719   \n",
       "6076               0.150572                        0.000762   \n",
       "6077               0.899657                        0.004579   \n",
       "6078               0.899279                        0.000439   \n",
       "\n",
       "      question_opinion_seeking  question_type_choice  question_type_compare  \\\n",
       "0                     0.661260              0.112065               0.163199   \n",
       "1                     0.281042              0.105070               0.855620   \n",
       "2                     0.385368              0.308368               0.015299   \n",
       "3                     0.311352              0.960011               0.030704   \n",
       "4                     0.318296              0.696765               0.001318   \n",
       "...                        ...                   ...                    ...   \n",
       "6074                  0.452119              0.918934               0.091871   \n",
       "6075                  0.798347              0.017283               0.020990   \n",
       "6076                  0.501888              0.673549               0.000204   \n",
       "6077                  0.931162              0.646979               0.250359   \n",
       "6078                  0.506756              0.173446               0.595346   \n",
       "\n",
       "      question_type_consequence  question_type_definition  \\\n",
       "0                      0.054087                  0.004878   \n",
       "1                      0.005960                  0.702855   \n",
       "2                      0.007040                  0.001119   \n",
       "3                      0.028688                  0.030847   \n",
       "4                      0.000585                  0.000752   \n",
       "...                         ...                       ...   \n",
       "6074                   0.122587                  0.022574   \n",
       "6075                   0.008347                  0.000900   \n",
       "6076                   0.000652                  0.000140   \n",
       "6077                   0.158027                  0.049037   \n",
       "6078                   0.032254                  0.028166   \n",
       "\n",
       "      question_type_entity  question_type_instructions  \\\n",
       "0                 0.073453                    0.127474   \n",
       "1                 0.061423                    0.010687   \n",
       "2                 0.176181                    0.686632   \n",
       "3                 0.016514                    0.053145   \n",
       "4                 0.004915                    0.886193   \n",
       "...                    ...                         ...   \n",
       "6074              0.154272                    0.035813   \n",
       "6075              0.021478                    0.825831   \n",
       "6076              0.000669                    0.911319   \n",
       "6077              0.078453                    0.050186   \n",
       "6078              0.142820                    0.019304   \n",
       "\n",
       "      question_type_procedure  question_type_reason_explanation  \\\n",
       "0                    0.132488                          0.679780   \n",
       "1                    0.019594                          0.354106   \n",
       "2                    0.299534                          0.168155   \n",
       "3                    0.165123                          0.399253   \n",
       "4                    0.286999                          0.085276   \n",
       "...                       ...                               ...   \n",
       "6074                 0.097513                          0.429450   \n",
       "6075                 0.433262                          0.175520   \n",
       "6076                 0.363327                          0.128508   \n",
       "6077                 0.316725                          0.705558   \n",
       "6078                 0.012048                          0.962590   \n",
       "\n",
       "      question_type_spelling  question_well_written  answer_helpful  \\\n",
       "0                   0.000189               0.887534        0.864170   \n",
       "1                   0.011934               0.784642        0.566572   \n",
       "2                   0.000071               0.411862        0.886899   \n",
       "3                   0.005253               0.817275        0.833804   \n",
       "4                   0.000009               0.796249        0.766624   \n",
       "...                      ...                    ...             ...   \n",
       "6074                0.004602               0.691760        0.925187   \n",
       "6075                0.000135               0.581822        0.855279   \n",
       "6076                0.000004               0.355663        0.690673   \n",
       "6077                0.000863               0.694662        0.726621   \n",
       "6078                0.001633               0.629711        0.629312   \n",
       "\n",
       "      answer_level_of_information  answer_plausible  answer_relevance  \\\n",
       "0                        0.546606          0.938327          0.913482   \n",
       "1                        0.316222          0.693775          0.772133   \n",
       "2                        0.605841          0.935627          0.928945   \n",
       "3                        0.750938          0.851390          0.925516   \n",
       "4                        0.402253          0.831917          0.926793   \n",
       "...                           ...               ...               ...   \n",
       "6074                     0.774518          0.952615          0.962254   \n",
       "6075                     0.627374          0.939888          0.937234   \n",
       "6076                     0.411553          0.895777          0.884472   \n",
       "6077                     0.556617          0.841901          0.843556   \n",
       "6078                     0.385160          0.799367          0.744375   \n",
       "\n",
       "      answer_satisfaction  answer_type_instructions  answer_type_procedure  \\\n",
       "0                0.669935                  0.082470               0.098609   \n",
       "1                0.346388                  0.007025               0.017972   \n",
       "2                0.713579                  0.655846               0.389298   \n",
       "3                0.784078                  0.131130               0.246656   \n",
       "4                0.633970                  0.926338               0.166645   \n",
       "...                   ...                       ...                    ...   \n",
       "6074             0.808510                  0.070711               0.107132   \n",
       "6075             0.675699                  0.799586               0.404970   \n",
       "6076             0.499085                  0.712098               0.191390   \n",
       "6077             0.479376                  0.023882               0.103076   \n",
       "6078             0.380302                  0.031375               0.018796   \n",
       "\n",
       "      answer_type_reason_explanation  answer_well_written  \n",
       "0                           0.859169             0.787350  \n",
       "1                           0.490801             0.718345  \n",
       "2                           0.509763             0.707071  \n",
       "3                           0.718865             0.720414  \n",
       "4                           0.014816             0.524730  \n",
       "...                              ...                  ...  \n",
       "6074                        0.886020             0.763157  \n",
       "6075                        0.305224             0.825752  \n",
       "6076                        0.691642             0.610411  \n",
       "6077                        0.803523             0.764355  \n",
       "6078                        0.950128             0.598342  \n",
       "\n",
       "[6079 rows x 30 columns]"
      ]
     },
     "execution_count": 17,
     "metadata": {},
     "output_type": "execute_result"
    }
   ],
   "source": [
    "pd.DataFrame(oofs, columns=TARGETS)"
   ]
  },
  {
   "cell_type": "code",
   "execution_count": 18,
   "metadata": {},
   "outputs": [
    {
     "data": {
      "text/plain": [
       "question_asker_intent_understanding      0.383865\n",
       "question_body_critical                   0.658675\n",
       "question_conversational                  0.410947\n",
       "question_expect_short_answer             0.299002\n",
       "question_fact_seeking                    0.353220\n",
       "question_has_commonly_accepted_answer    0.419150\n",
       "question_interestingness_others          0.354773\n",
       "question_interestingness_self            0.502521\n",
       "question_multi_intent                    0.583816\n",
       "question_not_really_a_question           0.102141\n",
       "question_opinion_seeking                 0.468494\n",
       "question_type_choice                     0.741528\n",
       "question_type_compare                    0.360517\n",
       "question_type_consequence                0.171786\n",
       "question_type_definition                 0.363872\n",
       "question_type_entity                     0.451590\n",
       "question_type_instructions               0.780146\n",
       "question_type_procedure                  0.358359\n",
       "question_type_reason_explanation         0.668246\n",
       "question_type_spelling                   0.067568\n",
       "question_well_written                    0.499174\n",
       "answer_helpful                           0.273075\n",
       "answer_level_of_information              0.451020\n",
       "answer_plausible                         0.174786\n",
       "answer_relevance                         0.171802\n",
       "answer_satisfaction                      0.360986\n",
       "answer_type_instructions                 0.760281\n",
       "answer_type_procedure                    0.301744\n",
       "answer_type_reason_explanation           0.682271\n",
       "answer_well_written                      0.214878\n",
       "dtype: float64"
      ]
     },
     "execution_count": 18,
     "metadata": {},
     "output_type": "execute_result"
    }
   ],
   "source": [
    "rs = pd.Series({col: spearmanr(oofs[:,i], y[:,i])[0] for i, col in enumerate(TARGETS)})\n",
    "rs"
   ]
  },
  {
   "cell_type": "code",
   "execution_count": 19,
   "metadata": {},
   "outputs": [
    {
     "data": {
      "text/html": [
       "<div>\n",
       "<style scoped>\n",
       "    .dataframe tbody tr th:only-of-type {\n",
       "        vertical-align: middle;\n",
       "    }\n",
       "\n",
       "    .dataframe tbody tr th {\n",
       "        vertical-align: top;\n",
       "    }\n",
       "\n",
       "    .dataframe thead th {\n",
       "        text-align: right;\n",
       "    }\n",
       "</style>\n",
       "<table border=\"1\" class=\"dataframe\">\n",
       "  <thead>\n",
       "    <tr style=\"text-align: right;\">\n",
       "      <th></th>\n",
       "      <th>SpearmanCorr</th>\n",
       "      <th>NUnique</th>\n",
       "    </tr>\n",
       "  </thead>\n",
       "  <tbody>\n",
       "    <tr>\n",
       "      <th>question_type_spelling</th>\n",
       "      <td>0.067568</td>\n",
       "      <td>3.0</td>\n",
       "    </tr>\n",
       "    <tr>\n",
       "      <th>question_not_really_a_question</th>\n",
       "      <td>0.102141</td>\n",
       "      <td>5.0</td>\n",
       "    </tr>\n",
       "    <tr>\n",
       "      <th>question_type_consequence</th>\n",
       "      <td>0.171786</td>\n",
       "      <td>5.0</td>\n",
       "    </tr>\n",
       "    <tr>\n",
       "      <th>answer_relevance</th>\n",
       "      <td>0.171802</td>\n",
       "      <td>9.0</td>\n",
       "    </tr>\n",
       "    <tr>\n",
       "      <th>answer_plausible</th>\n",
       "      <td>0.174786</td>\n",
       "      <td>9.0</td>\n",
       "    </tr>\n",
       "    <tr>\n",
       "      <th>answer_well_written</th>\n",
       "      <td>0.214878</td>\n",
       "      <td>9.0</td>\n",
       "    </tr>\n",
       "    <tr>\n",
       "      <th>answer_helpful</th>\n",
       "      <td>0.273075</td>\n",
       "      <td>9.0</td>\n",
       "    </tr>\n",
       "    <tr>\n",
       "      <th>question_expect_short_answer</th>\n",
       "      <td>0.299002</td>\n",
       "      <td>5.0</td>\n",
       "    </tr>\n",
       "    <tr>\n",
       "      <th>answer_type_procedure</th>\n",
       "      <td>0.301744</td>\n",
       "      <td>5.0</td>\n",
       "    </tr>\n",
       "    <tr>\n",
       "      <th>question_fact_seeking</th>\n",
       "      <td>0.353220</td>\n",
       "      <td>5.0</td>\n",
       "    </tr>\n",
       "    <tr>\n",
       "      <th>question_interestingness_others</th>\n",
       "      <td>0.354773</td>\n",
       "      <td>9.0</td>\n",
       "    </tr>\n",
       "    <tr>\n",
       "      <th>question_type_procedure</th>\n",
       "      <td>0.358359</td>\n",
       "      <td>5.0</td>\n",
       "    </tr>\n",
       "    <tr>\n",
       "      <th>question_type_compare</th>\n",
       "      <td>0.360517</td>\n",
       "      <td>5.0</td>\n",
       "    </tr>\n",
       "    <tr>\n",
       "      <th>answer_satisfaction</th>\n",
       "      <td>0.360986</td>\n",
       "      <td>17.0</td>\n",
       "    </tr>\n",
       "    <tr>\n",
       "      <th>question_type_definition</th>\n",
       "      <td>0.363872</td>\n",
       "      <td>5.0</td>\n",
       "    </tr>\n",
       "    <tr>\n",
       "      <th>question_asker_intent_understanding</th>\n",
       "      <td>0.383865</td>\n",
       "      <td>9.0</td>\n",
       "    </tr>\n",
       "    <tr>\n",
       "      <th>question_conversational</th>\n",
       "      <td>0.410947</td>\n",
       "      <td>5.0</td>\n",
       "    </tr>\n",
       "    <tr>\n",
       "      <th>question_has_commonly_accepted_answer</th>\n",
       "      <td>0.419150</td>\n",
       "      <td>5.0</td>\n",
       "    </tr>\n",
       "    <tr>\n",
       "      <th>answer_level_of_information</th>\n",
       "      <td>0.451020</td>\n",
       "      <td>9.0</td>\n",
       "    </tr>\n",
       "    <tr>\n",
       "      <th>question_type_entity</th>\n",
       "      <td>0.451590</td>\n",
       "      <td>5.0</td>\n",
       "    </tr>\n",
       "    <tr>\n",
       "      <th>question_opinion_seeking</th>\n",
       "      <td>0.468494</td>\n",
       "      <td>5.0</td>\n",
       "    </tr>\n",
       "    <tr>\n",
       "      <th>question_well_written</th>\n",
       "      <td>0.499174</td>\n",
       "      <td>9.0</td>\n",
       "    </tr>\n",
       "    <tr>\n",
       "      <th>question_interestingness_self</th>\n",
       "      <td>0.502521</td>\n",
       "      <td>9.0</td>\n",
       "    </tr>\n",
       "    <tr>\n",
       "      <th>question_multi_intent</th>\n",
       "      <td>0.583816</td>\n",
       "      <td>5.0</td>\n",
       "    </tr>\n",
       "    <tr>\n",
       "      <th>question_body_critical</th>\n",
       "      <td>0.658675</td>\n",
       "      <td>9.0</td>\n",
       "    </tr>\n",
       "    <tr>\n",
       "      <th>question_type_reason_explanation</th>\n",
       "      <td>0.668246</td>\n",
       "      <td>5.0</td>\n",
       "    </tr>\n",
       "    <tr>\n",
       "      <th>answer_type_reason_explanation</th>\n",
       "      <td>0.682271</td>\n",
       "      <td>5.0</td>\n",
       "    </tr>\n",
       "    <tr>\n",
       "      <th>question_type_choice</th>\n",
       "      <td>0.741528</td>\n",
       "      <td>5.0</td>\n",
       "    </tr>\n",
       "    <tr>\n",
       "      <th>answer_type_instructions</th>\n",
       "      <td>0.760281</td>\n",
       "      <td>5.0</td>\n",
       "    </tr>\n",
       "    <tr>\n",
       "      <th>question_type_instructions</th>\n",
       "      <td>0.780146</td>\n",
       "      <td>5.0</td>\n",
       "    </tr>\n",
       "  </tbody>\n",
       "</table>\n",
       "</div>"
      ],
      "text/plain": [
       "                                       SpearmanCorr  NUnique\n",
       "question_type_spelling                     0.067568      3.0\n",
       "question_not_really_a_question             0.102141      5.0\n",
       "question_type_consequence                  0.171786      5.0\n",
       "answer_relevance                           0.171802      9.0\n",
       "answer_plausible                           0.174786      9.0\n",
       "answer_well_written                        0.214878      9.0\n",
       "answer_helpful                             0.273075      9.0\n",
       "question_expect_short_answer               0.299002      5.0\n",
       "answer_type_procedure                      0.301744      5.0\n",
       "question_fact_seeking                      0.353220      5.0\n",
       "question_interestingness_others            0.354773      9.0\n",
       "question_type_procedure                    0.358359      5.0\n",
       "question_type_compare                      0.360517      5.0\n",
       "answer_satisfaction                        0.360986     17.0\n",
       "question_type_definition                   0.363872      5.0\n",
       "question_asker_intent_understanding        0.383865      9.0\n",
       "question_conversational                    0.410947      5.0\n",
       "question_has_commonly_accepted_answer      0.419150      5.0\n",
       "answer_level_of_information                0.451020      9.0\n",
       "question_type_entity                       0.451590      5.0\n",
       "question_opinion_seeking                   0.468494      5.0\n",
       "question_well_written                      0.499174      9.0\n",
       "question_interestingness_self              0.502521      9.0\n",
       "question_multi_intent                      0.583816      5.0\n",
       "question_body_critical                     0.658675      9.0\n",
       "question_type_reason_explanation           0.668246      5.0\n",
       "answer_type_reason_explanation             0.682271      5.0\n",
       "question_type_choice                       0.741528      5.0\n",
       "answer_type_instructions                   0.760281      5.0\n",
       "question_type_instructions                 0.780146      5.0"
      ]
     },
     "execution_count": 19,
     "metadata": {},
     "output_type": "execute_result"
    }
   ],
   "source": [
    "rs_df = pd.DataFrame(np.vstack([rs.values.flatten(), train[TARGETS].nunique()]).T, \n",
    "                     columns=['SpearmanCorr', 'NUnique'], index=rs.index)\n",
    "rs_df.sort_values('SpearmanCorr', ascending=True)"
   ]
  },
  {
   "cell_type": "code",
   "execution_count": 20,
   "metadata": {},
   "outputs": [
    {
     "data": {
      "text/plain": [
       "Index(['question_type_spelling', 'question_not_really_a_question',\n",
       "       'question_type_consequence', 'answer_relevance', 'answer_plausible'],\n",
       "      dtype='object')"
      ]
     },
     "execution_count": 20,
     "metadata": {},
     "output_type": "execute_result"
    }
   ],
   "source": [
    "sorted_targets = rs_df.sort_values('SpearmanCorr', ascending=True).index\n",
    "worst_five_targets = sorted_targets[:5]\n",
    "worst_five_targets"
   ]
  },
  {
   "cell_type": "code",
   "execution_count": 21,
   "metadata": {
    "scrolled": true
   },
   "outputs": [
    {
     "data": {
      "image/png": "[encoded data removed]",
      "text/plain": [
       "<Figure size 432x288 with 1 Axes>"
      ]
     },
     "metadata": {
      "needs_background": "light"
     },
     "output_type": "display_data"
    },
    {
     "data": {
      "image/png": "[encoded data removed]",
      "text/plain": [
       "<Figure size 432x288 with 1 Axes>"
      ]
     },
     "metadata": {
      "needs_background": "light"
     },
     "output_type": "display_data"
    },
    {
     "data": {
      "image/png": "[encoded data removed]",
      "text/plain": [
       "<Figure size 432x288 with 1 Axes>"
      ]
     },
     "metadata": {
      "needs_background": "light"
     },
     "output_type": "display_data"
    },
    {
     "data": {
      "image/png": "[encoded data removed]",
      "text/plain": [
       "<Figure size 432x288 with 1 Axes>"
      ]
     },
     "metadata": {
      "needs_background": "light"
     },
     "output_type": "display_data"
    },
    {
     "data": {
      "image/png": "[encoded data removed]",
      "text/plain": [
       "<Figure size 432x288 with 1 Axes>"
      ]
     },
     "metadata": {
      "needs_background": "light"
     },
     "output_type": "display_data"
    }
   ],
   "source": [
    "for col in worst_five_targets:\n",
    "    plt.figure()\n",
    "    train[col].hist()\n",
    "    plt.title(f'{col} {np.round(rs[col],3)}')"
   ]
  },
  {
   "cell_type": "code",
   "execution_count": 22,
   "metadata": {},
   "outputs": [
    {
     "name": "stderr",
     "output_type": "stream",
     "text": [
      "/home/robin/anaconda3/envs/GoogleQuest/lib/python3.7/site-packages/ipykernel_launcher.py:2: RuntimeWarning: More than 20 figures have been opened. Figures created through the pyplot interface (`matplotlib.pyplot.figure`) are retained until explicitly closed and may consume too much memory. (To control this warning, see the rcParam `figure.max_open_warning`).\n",
      "  \n"
     ]
    },
    {
     "data": {
      "image/png": "[encoded data removed]",
      "text/plain": [
       "<Figure size 432x288 with 1 Axes>"
      ]
     },
     "metadata": {
      "needs_background": "light"
     },
     "output_type": "display_data"
    },
    {
     "data": {
      "image/png": "[encoded data removed]",
      "text/plain": [
       "<Figure size 432x288 with 1 Axes>"
      ]
     },
     "metadata": {
      "needs_background": "light"
     },
     "output_type": "display_data"
    },
    {
     "data": {
      "image/png": "[encoded data removed]",
      "text/plain": [
       "<Figure size 432x288 with 1 Axes>"
      ]
     },
     "metadata": {
      "needs_background": "light"
     },
     "output_type": "display_data"
    },
    {
     "data": {
      "image/png": "[encoded data removed]",
      "text/plain": [
       "<Figure size 432x288 with 1 Axes>"
      ]
     },
     "metadata": {
      "needs_background": "light"
     },
     "output_type": "display_data"
    },
    {
     "data": {
      "image/png": "[encoded data removed]",
      "text/plain": [
       "<Figure size 432x288 with 1 Axes>"
      ]
     },
     "metadata": {
      "needs_background": "light"
     },
     "output_type": "display_data"
    },
    {
     "data": {
      "image/png": "[encoded data removed]",
      "text/plain": [
       "<Figure size 432x288 with 1 Axes>"
      ]
     },
     "metadata": {
      "needs_background": "light"
     },
     "output_type": "display_data"
    },
    {
     "data": {
      "image/png": "[encoded data removed]",
      "text/plain": [
       "<Figure size 432x288 with 1 Axes>"
      ]
     },
     "metadata": {
      "needs_background": "light"
     },
     "output_type": "display_data"
    },
    {
     "data": {
      "image/png": "[encoded data removed]",
      "text/plain": [
       "<Figure size 432x288 with 1 Axes>"
      ]
     },
     "metadata": {
      "needs_background": "light"
     },
     "output_type": "display_data"
    },
    {
     "data": {
      "image/png": "[encoded data removed]",
      "text/plain": [
       "<Figure size 432x288 with 1 Axes>"
      ]
     },
     "metadata": {
      "needs_background": "light"
     },
     "output_type": "display_data"
    },
    {
     "data": {
      "image/png": "[encoded data removed]",
      "text/plain": [
       "<Figure size 432x288 with 1 Axes>"
      ]
     },
     "metadata": {
      "needs_background": "light"
     },
     "output_type": "display_data"
    },
    {
     "data": {
      "image/png": "[encoded data removed]",
      "text/plain": [
       "<Figure size 432x288 with 1 Axes>"
      ]
     },
     "metadata": {
      "needs_background": "light"
     },
     "output_type": "display_data"
    },
    {
     "data": {
      "image/png": "[encoded data removed]",
      "text/plain": [
       "<Figure size 432x288 with 1 Axes>"
      ]
     },
     "metadata": {
      "needs_background": "light"
     },
     "output_type": "display_data"
    },
    {
     "data": {
      "image/png": "[encoded data removed]",
      "text/plain": [
       "<Figure size 432x288 with 1 Axes>"
      ]
     },
     "metadata": {
      "needs_background": "light"
     },
     "output_type": "display_data"
    },
    {
     "data": {
      "image/png": "[encoded data removed]",
      "text/plain": [
       "<Figure size 432x288 with 1 Axes>"
      ]
     },
     "metadata": {
      "needs_background": "light"
     },
     "output_type": "display_data"
    },
    {
     "data": {
      "image/png": "[encoded data removed]",
      "text/plain": [
       "<Figure size 432x288 with 1 Axes>"
      ]
     },
     "metadata": {
      "needs_background": "light"
     },
     "output_type": "display_data"
    },
    {
     "data": {
      "image/png": "[encoded data removed]",
      "text/plain": [
       "<Figure size 432x288 with 1 Axes>"
      ]
     },
     "metadata": {
      "needs_background": "light"
     },
     "output_type": "display_data"
    },
    {
     "data": {
      "image/png": "[encoded data removed]",
      "text/plain": [
       "<Figure size 432x288 with 1 Axes>"
      ]
     },
     "metadata": {
      "needs_background": "light"
     },
     "output_type": "display_data"
    },
    {
     "data": {
      "image/png": "[encoded data removed]",
      "text/plain": [
       "<Figure size 432x288 with 1 Axes>"
      ]
     },
     "metadata": {
      "needs_background": "light"
     },
     "output_type": "display_data"
    },
    {
     "data": {
      "image/png": "[encoded data removed]",
      "text/plain": [
       "<Figure size 432x288 with 1 Axes>"
      ]
     },
     "metadata": {
      "needs_background": "light"
     },
     "output_type": "display_data"
    },
    {
     "data": {
      "image/png": "[encoded data removed]",
      "text/plain": [
       "<Figure size 432x288 with 1 Axes>"
      ]
     },
     "metadata": {
      "needs_background": "light"
     },
     "output_type": "display_data"
    },
    {
     "data": {
      "image/png": "[encoded data removed]",
      "text/plain": [
       "<Figure size 432x288 with 1 Axes>"
      ]
     },
     "metadata": {
      "needs_background": "light"
     },
     "output_type": "display_data"
    },
    {
     "data": {
      "image/png": "[encoded data removed]",
      "text/plain": [
       "<Figure size 432x288 with 1 Axes>"
      ]
     },
     "metadata": {
      "needs_background": "light"
     },
     "output_type": "display_data"
    },
    {
     "data": {
      "image/png": "[encoded data removed]",
      "text/plain": [
       "<Figure size 432x288 with 1 Axes>"
      ]
     },
     "metadata": {
      "needs_background": "light"
     },
     "output_type": "display_data"
    },
    {
     "data": {
      "image/png": "[encoded data removed]",
      "text/plain": [
       "<Figure size 432x288 with 1 Axes>"
      ]
     },
     "metadata": {
      "needs_background": "light"
     },
     "output_type": "display_data"
    },
    {
     "data": {
      "image/png": "[encoded data removed]",
      "text/plain": [
       "<Figure size 432x288 with 1 Axes>"
      ]
     },
     "metadata": {
      "needs_background": "light"
     },
     "output_type": "display_data"
    }
   ],
   "source": [
    "for col in [target for target in sorted_targets if target not in worst_five_targets]:\n",
    "    plt.figure()\n",
    "    train[col].hist()\n",
    "    plt.title(f'{col} {np.round(rs[col],3)}')"
   ]
  },
  {
   "cell_type": "code",
   "execution_count": null,
   "metadata": {},
   "outputs": [],
   "source": []
  },
  {
   "cell_type": "code",
   "execution_count": null,
   "metadata": {},
   "outputs": [],
   "source": []
  }
 ],
 "metadata": {
  "kernelspec": {
   "display_name": "Python 3",
   "language": "python",
   "name": "python3"
  },
  "language_info": {
   "codemirror_mode": {
    "name": "ipython",
    "version": 3
   },
   "file_extension": ".py",
   "mimetype": "text/x-python",
   "name": "python",
   "nbconvert_exporter": "python",
   "pygments_lexer": "ipython3",
   "version": "3.7.5"
  }
 },
 "nbformat": 4,
 "nbformat_minor": 1
}
