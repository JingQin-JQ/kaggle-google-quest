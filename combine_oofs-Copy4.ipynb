{
 "cells": [
  {
   "cell_type": "code",
   "execution_count": 1,
   "metadata": {},
   "outputs": [],
   "source": [
    "import numpy as np\n",
    "import pandas as pd\n",
    "import warnings\n",
    "import itertools\n",
    "from tqdm import tqdm_notebook\n",
    "from scipy.stats import spearmanr\n",
    "from sklearn.preprocessing import MinMaxScaler\n",
    "warnings.filterwarnings(\"ignore\")"
   ]
  },
  {
   "cell_type": "code",
   "execution_count": 2,
   "metadata": {},
   "outputs": [],
   "source": [
    "train = pd.read_csv(f'data/train.csv')\n",
    "TARGETS = train.columns[11:]\n",
    "\n",
    "for col in TARGETS:\n",
    "    train[col] = train[col].rank(method=\"average\")\n",
    "train[TARGETS] = MinMaxScaler().fit_transform(train[TARGETS])\n",
    "y = train[TARGETS].values\n",
    "ix = np.where(train.groupby(\"question_body\")[\"host\"].transform(\"count\") == 1)[0]\n",
    "\n",
    "y_use = pd.read_csv('oofs/use_oof.csv').values\n",
    "y_albert = pd.read_csv('oofs/siamese_albert_1_comb_oofs.csv', index_col=0).values\n",
    "y_bert = pd.read_csv('oofs/siamese_bert_6_oofs.csv', index_col=0).values\n",
    "y_roberta = pd.read_csv('oofs/siamese_roberta_1_comb_oofs.csv', index_col=0).values\n",
    "y_xlnet = pd.read_csv('oofs/siamese_xlnet_1_comb_oofs.csv', index_col=0).values\n",
    "# y_xlnet = pd.read_csv('oofs/siamese_xlnet_2_comb_oofs.csv', index_col=0).values\n",
    "\n",
    "preds = [y_use, y_roberta, y_bert, y_xlnet, y_albert]\n",
    "n_models = len(preds)"
   ]
  },
  {
   "cell_type": "code",
   "execution_count": 3,
   "metadata": {},
   "outputs": [],
   "source": [
    "def bce(y, y_pred):\n",
    "    return -np.mean(y*np.log(y_pred + 1e-5) + (1-y)*np.log(1-y_pred + 1e-5))\n",
    "\n",
    "\n",
    "def evaluate(y, y_pred, verbose=False, exclude=[]):\n",
    "    score = 0\n",
    "    for i in range(y.shape[1]):\n",
    "        if i not in exclude:\n",
    "            col_score = spearmanr(y[:, i], y_pred[:, i])[0]\n",
    "            if verbose:\n",
    "                print(TARGETS[i], np.round(col_score, 3))\n",
    "            score += col_score/(y.shape[1]-len(exclude))\n",
    "    return np.round(score, 4)\n",
    "\n",
    "\n",
    "ds = [4, 8, 16, 32, 64, None]\n",
    "ws = [0, 1, 2, 4]\n",
    "\n",
    "\n",
    "def scale(x, d):\n",
    "    if d:\n",
    "        return (x//(1/d))/d\n",
    "    return x\n",
    "\n",
    "dws5 = list(itertools.product(ds, ds, *(n_models*[ws])))\n",
    "\n",
    "\n",
    "def transform(preds, params, c):\n",
    "    (d_global, d_local), ws = params[:2], params[2:]\n",
    "    y_temp = 0\n",
    "    for pred, w in zip(preds, ws):\n",
    "        y_temp += w * scale(pred[:, c], d_local)\n",
    "    y_temp /= sum(ws)\n",
    "    y_temp = scale(y_temp, d_global)\n",
    "    return y_temp\n",
    "\n",
    "\n",
    "bce_weight = 0.25\n",
    "\n",
    "\n",
    "def f(c):\n",
    "    max_score = spearmanr(y[:, c], y_roberta[:, c])[0] - bce_weight * bce(y[:, c], y_roberta[:, c])\n",
    "    best_index = -1\n",
    "    for i, params in enumerate(dws5):\n",
    "        if sum(params[2:]) == 0:\n",
    "            continue\n",
    "        y_temp = transform(preds, params, c)\n",
    "        score = spearmanr(y[:, c], y_temp)[0] - bce_weight * bce(y[:, c], y_temp)\n",
    "        if score > max_score:\n",
    "            max_score = score\n",
    "            best_index = i\n",
    "            \n",
    "    return best_index"
   ]
  },
  {
   "cell_type": "code",
   "execution_count": null,
   "metadata": {},
   "outputs": [],
   "source": [
    "import multiprocessing\n",
    "\n",
    "pool = multiprocessing.Pool(15)\n",
    "out = pool.map(f, range(30))"
   ]
  },
  {
   "cell_type": "code",
   "execution_count": null,
   "metadata": {},
   "outputs": [],
   "source": [
    "y_combined = np.zeros(y.shape)\n",
    "\n",
    "for c in range(30):\n",
    "    print(c, TARGETS[c], dws5[out[c]])\n",
    "    y_combined[:, c] = transform(preds, dws5[out[c]], c)"
   ]
  },
  {
   "cell_type": "code",
   "execution_count": null,
   "metadata": {},
   "outputs": [],
   "source": [
    "evaluate(y, y_combined, True)"
   ]
  },
  {
   "cell_type": "code",
   "execution_count": null,
   "metadata": {},
   "outputs": [],
   "source": [
    "evaluate(y, y_combined, True, exclude=[9,19])"
   ]
  },
  {
   "cell_type": "code",
   "execution_count": null,
   "metadata": {
    "scrolled": false
   },
   "outputs": [],
   "source": [
    "[dws5[out[c]] for c in range(30)]"
   ]
  },
  {
   "cell_type": "code",
   "execution_count": null,
   "metadata": {},
   "outputs": [],
   "source": []
  }
 ],
 "metadata": {
  "kernelspec": {
   "display_name": "Python 3",
   "language": "python",
   "name": "python3"
  },
  "language_info": {
   "codemirror_mode": {
    "name": "ipython",
    "version": 3
   },
   "file_extension": ".py",
   "mimetype": "text/x-python",
   "name": "python",
   "nbconvert_exporter": "python",
   "pygments_lexer": "ipython3",
   "version": "3.7.5"
  }
 },
 "nbformat": 4,
 "nbformat_minor": 2
}
