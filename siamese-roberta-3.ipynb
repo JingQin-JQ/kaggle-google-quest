{
 "cells": [
  {
   "cell_type": "markdown",
   "metadata": {},
   "source": [
    "## Importing libraries"
   ]
  },
  {
   "cell_type": "code",
   "execution_count": 1,
   "metadata": {
    "_kg_hide-input": true
   },
   "outputs": [],
   "source": [
    "import numpy as np\n",
    "import pandas as pd\n",
    "import matplotlib.pyplot as plt\n",
    "import time\n",
    "import datetime\n",
    "import re\n",
    "import gc\n",
    "import copy\n",
    "\n",
    "from sklearn.model_selection import GroupKFold\n",
    "from sklearn.preprocessing import OneHotEncoder, MinMaxScaler\n",
    "import nltk.data\n",
    "\n",
    "import torch\n",
    "import torch.nn as nn\n",
    "import torch.optim as optim\n",
    "import torch.nn.functional as F\n",
    "from torch.utils.data import DataLoader\n",
    "\n",
    "from tqdm import tqdm_notebook as tqdm\n",
    "from transformers import RobertaTokenizer\n",
    "import transformers\n",
    "\n",
    "from text_data import TextDataset5 as TextDataset\n",
    "from roberta import CustomRoberta\n",
    "from learning import Learner\n",
    "from lr_finder import LRFinder\n",
    "from one_cycle import OneCycleLR\n",
    "from create_features import get_categorical_features\n",
    "from losses_metrics import spearmanr_torch, spearmanr_np, optimize_rounding_params, get_cvs, spearmanr\n",
    "from inference import infer\n",
    "from common import *\n",
    "from utils.helpers import init_logger, init_seed\n",
    "\n",
    "%matplotlib inline\n",
    "pd.set_option('max_colwidth',400)"
   ]
  },
  {
   "cell_type": "markdown",
   "metadata": {},
   "source": [
    "## Loading and preparing data"
   ]
  },
  {
   "cell_type": "code",
   "execution_count": 2,
   "metadata": {
    "_cell_guid": "b1076dfc-b9ad-4769-8c92-a6c4dae69d19",
    "_uuid": "8f2839f25d086af736a60e9eeb907d3b93b6e0e5"
   },
   "outputs": [],
   "source": [
    "pd.set_option('max_rows', 500)\n",
    "pd.set_option('max_columns', 500)\n",
    "path = 'data/'\n",
    "sample_submission = pd.read_csv(f'{path}sample_submission.csv')\n",
    "test = pd.read_csv(f'{path}test.csv')\n",
    "train = pd.read_csv(f'{path}train.csv')"
   ]
  },
  {
   "cell_type": "code",
   "execution_count": 3,
   "metadata": {},
   "outputs": [
    {
     "name": "stderr",
     "output_type": "stream",
     "text": [
      "/home/robin/anaconda3/envs/GoogleQuest/lib/python3.7/site-packages/ipykernel_launcher.py:16: TqdmDeprecationWarning: This function will be removed in tqdm==5.0.0\n",
      "Please use `tqdm.notebook.tqdm` instead of `tqdm.tqdm_notebook`\n",
      "  app.launch_new_instance()\n"
     ]
    },
    {
     "data": {
      "application/vnd.jupyter.widget-view+json": {
       "model_id": "fb4d4ed5f9e34028886e7d642f431a02",
       "version_major": 2,
       "version_minor": 0
      },
      "text/plain": [
       "HBox(children=(IntProgress(value=0, max=6079), HTML(value='')))"
      ]
     },
     "metadata": {},
     "output_type": "display_data"
    },
    {
     "name": "stdout",
     "output_type": "stream",
     "text": [
      "\n"
     ]
    },
    {
     "data": {
      "application/vnd.jupyter.widget-view+json": {
       "model_id": "2cdd02b32bcf40aabe490e1549d2bf94",
       "version_major": 2,
       "version_minor": 0
      },
      "text/plain": [
       "HBox(children=(IntProgress(value=0, max=6079), HTML(value='')))"
      ]
     },
     "metadata": {},
     "output_type": "display_data"
    },
    {
     "name": "stdout",
     "output_type": "stream",
     "text": [
      "\n"
     ]
    },
    {
     "data": {
      "application/vnd.jupyter.widget-view+json": {
       "model_id": "48a7d9d6b7174ec99bbcb5c39a121805",
       "version_major": 2,
       "version_minor": 0
      },
      "text/plain": [
       "HBox(children=(IntProgress(value=0, max=476), HTML(value='')))"
      ]
     },
     "metadata": {},
     "output_type": "display_data"
    },
    {
     "name": "stdout",
     "output_type": "stream",
     "text": [
      "\n"
     ]
    },
    {
     "data": {
      "application/vnd.jupyter.widget-view+json": {
       "model_id": "b06e96de9f9749f4bf1f9b32d27d42c1",
       "version_major": 2,
       "version_minor": 0
      },
      "text/plain": [
       "HBox(children=(IntProgress(value=0, max=476), HTML(value='')))"
      ]
     },
     "metadata": {},
     "output_type": "display_data"
    },
    {
     "name": "stdout",
     "output_type": "stream",
     "text": [
      "\n",
      "CPU times: user 15.1 s, sys: 95.5 ms, total: 15.2 s\n",
      "Wall time: 16 s\n"
     ]
    }
   ],
   "source": [
    "%%time\n",
    "tokenizer = RobertaTokenizer.from_pretrained('roberta-base')\n",
    "cls = ' ' + tokenizer.cls_token\n",
    "sep = ' ' + tokenizer.sep_token\n",
    "q_target_tokens = [f'[Q{i}]' for i in range(N_Q_TARGETS)]\n",
    "a_target_tokens = [f'[A{i}]' for i in range(N_A_TARGETS)]\n",
    "tokenizer.add_tokens(q_target_tokens + a_target_tokens)\n",
    "\n",
    "seg_ids_train, ids_train = {}, {}\n",
    "seg_ids_test, ids_test = {}, {}\n",
    "max_seq_len = 512\n",
    "for mode, df in [('train', train), ('test', test)]:\n",
    "    for text, cols, target_tokens in [('question', ['question_title', 'question_body'], q_target_tokens), \n",
    "                                      ('answer', ['question_title', 'answer'], a_target_tokens)]:\n",
    "        pre_fix = ' '.join(target_tokens)\n",
    "        ids, seg_ids, sent_ids = [], [], []\n",
    "        for x1, x2 in tqdm(df[cols].values):\n",
    "            encoded_inputs = tokenizer.encode_plus(\n",
    "                pre_fix + cls + x1 + sep, x2 + sep, add_special_tokens=False, max_length=max_seq_len, \n",
    "                pad_to_max_length=True, return_token_type_ids=True\n",
    "            )\n",
    "            ids.append(encoded_inputs['input_ids'])\n",
    "            seg_ids.append(encoded_inputs['token_type_ids'])\n",
    "        if mode == 'train': \n",
    "            ids_train[text] = np.array(ids)\n",
    "            seg_ids_train[text] = np.array(seg_ids)\n",
    "        else: \n",
    "            ids_test[text] = np.array(ids)\n",
    "            seg_ids_test[text] = np.array(seg_ids)\n"
   ]
  },
  {
   "cell_type": "code",
   "execution_count": 4,
   "metadata": {
    "code_folding": []
   },
   "outputs": [],
   "source": [
    "train_category, test_category, category_dict, category_dict_reverse = \\\n",
    "    get_categorical_features(train, test, 'category')"
   ]
  },
  {
   "cell_type": "code",
   "execution_count": 5,
   "metadata": {},
   "outputs": [
    {
     "name": "stderr",
     "output_type": "stream",
     "text": [
      "/home/robin/anaconda3/envs/GoogleQuest/lib/python3.7/site-packages/sklearn/preprocessing/_encoders.py:415: FutureWarning: The handling of integer data will change in version 0.22. Currently, the categories are determined based on the range [0, max(values)], while in the future they will be determined based on the unique values.\n",
      "If you want the future behaviour and silence this warning, you can specify \"categories='auto'\".\n",
      "In case you used a LabelEncoder before this OneHotEncoder to convert the categories to integers, then you can now use the OneHotEncoder directly.\n",
      "  warnings.warn(msg, FutureWarning)\n"
     ]
    }
   ],
   "source": [
    "cat_features_train = train_category.reshape(-1, 1)\n",
    "cat_features_test = test_category.reshape(-1, 1)\n",
    "ohe = OneHotEncoder()\n",
    "ohe.fit(cat_features_train)\n",
    "cat_features_train = ohe.transform(cat_features_train).toarray()\n",
    "cat_features_test = ohe.transform(cat_features_test).toarray()"
   ]
  },
  {
   "cell_type": "code",
   "execution_count": 6,
   "metadata": {},
   "outputs": [],
   "source": [
    "for col in TARGETS:\n",
    "    train[col] = train[col].rank(method=\"average\")\n",
    "train[TARGETS] = MinMaxScaler().fit_transform(train[TARGETS])\n",
    "y = train[TARGETS].values.astype(np.float32)\n",
    "ix = np.where(train.groupby(\"question_body\")[\"host\"].transform(\"count\") == 1)[0]"
   ]
  },
  {
   "cell_type": "code",
   "execution_count": 7,
   "metadata": {},
   "outputs": [],
   "source": [
    "num_workers = 10\n",
    "bs = 2"
   ]
  },
  {
   "cell_type": "code",
   "execution_count": 8,
   "metadata": {},
   "outputs": [],
   "source": [
    "bs_test = 2\n",
    "test_loader = DataLoader(\n",
    "    TextDataset(cat_features_test, ids_test['question'], ids_test['answer'], \n",
    "                seg_ids_test['question'], seg_ids_test['answer'], test.index),\n",
    "    batch_size=bs_test, shuffle=False, num_workers=num_workers, drop_last=False\n",
    ")"
   ]
  },
  {
   "cell_type": "markdown",
   "metadata": {},
   "source": [
    "## Training model"
   ]
  },
  {
   "cell_type": "code",
   "execution_count": 9,
   "metadata": {},
   "outputs": [],
   "source": [
    "lr = 0.001\n",
    "loss_fn = nn.BCEWithLogitsLoss()\n",
    "device = 'cuda'\n",
    "n_epochs = 2\n",
    "grad_accum = 4\n",
    "weight_decay = 0.01\n",
    "model_name = 'siamese_roberta_test'\n",
    "checkpoint_dir = 'checkpoints/'\n",
    "early_stopping = None\n",
    "n_folds = 3"
   ]
  },
  {
   "cell_type": "code",
   "execution_count": 10,
   "metadata": {},
   "outputs": [],
   "source": [
    "def get_optimizer_param_groups(model, lr, weight_decay):\n",
    "    no_decay = ['bias', 'LayerNorm.weight']\n",
    "    optimizer_grouped_parameters = [\n",
    "        {'params': [p for n, p in model.named_parameters() if not any(nd in n for nd in no_decay)], \n",
    "         'weight_decay': weight_decay, 'lr': lr},\n",
    "        {'params': [p for n, p in model.named_parameters() if any(nd in n for nd in no_decay)], \n",
    "         'weight_decay': 0.0, 'lr': lr}\n",
    "    ]\n",
    "    return optimizer_grouped_parameters\n",
    "\n",
    "def get_optimizer(model, lr, weight_decay):\n",
    "    return transformers.AdamW(\n",
    "        get_optimizer_param_groups(model.head, lr, weight_decay)\n",
    "        + get_optimizer_param_groups(model.roberta, lr / 100, weight_decay)\n",
    "    )"
   ]
  },
  {
   "cell_type": "code",
   "execution_count": 11,
   "metadata": {
    "scrolled": true
   },
   "outputs": [
    {
     "name": "stdout",
     "output_type": "stream",
     "text": [
      "Fold 1 started at Sun Feb  9 20:12:41 2020\n"
     ]
    },
    {
     "data": {
      "application/vnd.jupyter.widget-view+json": {
       "model_id": "fad54816088e46e8963280469328432d",
       "version_major": 2,
       "version_minor": 0
      },
      "text/plain": [
       "HBox(children=(IntProgress(value=0, max=400), HTML(value='')))"
      ]
     },
     "metadata": {},
     "output_type": "display_data"
    },
    {
     "name": "stderr",
     "output_type": "stream",
     "text": [
      "/home/robin/anaconda3/envs/GoogleQuest/lib/python3.7/site-packages/torch/optim/lr_scheduler.py:100: UserWarning: Detected call of `lr_scheduler.step()` before `optimizer.step()`. In PyTorch 1.1.0 and later, you should call them in the opposite order: `optimizer.step()` before `lr_scheduler.step()`.  Failure to do this will result in PyTorch skipping the first value of the learning rate schedule.See more details at https://pytorch.org/docs/stable/optim.html#how-to-adjust-learning-rate\n",
      "  \"https://pytorch.org/docs/stable/optim.html#how-to-adjust-learning-rate\", UserWarning)\n"
     ]
    },
    {
     "data": {
      "image/png": "[encoded data removed]",
      "text/plain": [
       "<Figure size 432x288 with 1 Axes>"
      ]
     },
     "metadata": {
      "needs_background": "light"
     },
     "output_type": "display_data"
    },
    {
     "name": "stdout",
     "output_type": "stream",
     "text": [
      "epoch 0: \t Start training...\n"
     ]
    },
    {
     "data": {
      "application/vnd.jupyter.widget-view+json": {
       "model_id": "9c0ed992b6454a5caeb18c155daf660a",
       "version_major": 2,
       "version_minor": 0
      },
      "text/plain": [
       "HBox(children=(IntProgress(value=0, max=2026), HTML(value='')))"
      ]
     },
     "metadata": {},
     "output_type": "display_data"
    },
    {
     "name": "stdout",
     "output_type": "stream",
     "text": [
      "\n",
      "epoch 0/2 \t train : loss 0.51475 - spearmanr 0.22081\n",
      "epoch 0: \t Start validation...\n"
     ]
    },
    {
     "data": {
      "application/vnd.jupyter.widget-view+json": {
       "model_id": "321806f5ff224ddda517e7592d1f2b98",
       "version_major": 2,
       "version_minor": 0
      },
      "text/plain": [
       "HBox(children=(IntProgress(value=0, max=1014), HTML(value='')))"
      ]
     },
     "metadata": {},
     "output_type": "display_data"
    },
    {
     "name": "stdout",
     "output_type": "stream",
     "text": [
      "\n",
      "epoch 0/2 \t valid : loss 0.47303 - spearmanr 0.36963\n",
      "best model: epoch 0 - 0.36963\n",
      "epoch 1: \t Start training...\n"
     ]
    },
    {
     "data": {
      "application/vnd.jupyter.widget-view+json": {
       "model_id": "752d67dfc75b4b77b08c1a472f3eeafe",
       "version_major": 2,
       "version_minor": 0
      },
      "text/plain": [
       "HBox(children=(IntProgress(value=0, max=2026), HTML(value='')))"
      ]
     },
     "metadata": {},
     "output_type": "display_data"
    },
    {
     "name": "stdout",
     "output_type": "stream",
     "text": [
      "\n",
      "epoch 1/2 \t train : loss 0.45424 - spearmanr 0.39484\n",
      "epoch 1: \t Start validation...\n"
     ]
    },
    {
     "data": {
      "application/vnd.jupyter.widget-view+json": {
       "model_id": "934a04a0308847e79121752e2885952e",
       "version_major": 2,
       "version_minor": 0
      },
      "text/plain": [
       "HBox(children=(IntProgress(value=0, max=1014), HTML(value='')))"
      ]
     },
     "metadata": {},
     "output_type": "display_data"
    },
    {
     "name": "stdout",
     "output_type": "stream",
     "text": [
      "\n",
      "epoch 1/2 \t valid : loss 0.45777 - spearmanr 0.40418\n",
      "best model: epoch 1 - 0.40418\n",
      "TRAINING END: Best score achieved on epoch 1 - 0.40418\n",
      "Starting inference for model: checkpoints/siamese_roberta_test_fold_1_best.pth\n"
     ]
    },
    {
     "data": {
      "application/vnd.jupyter.widget-view+json": {
       "model_id": "ab674c5bac444aefb5d101aae10e0c18",
       "version_major": 2,
       "version_minor": 0
      },
      "text/plain": [
       "HBox(children=(IntProgress(value=0, max=1014), HTML(value='')))"
      ]
     },
     "metadata": {},
     "output_type": "display_data"
    },
    {
     "name": "stdout",
     "output_type": "stream",
     "text": [
      "\n",
      "Averaged Val. score: 0.4041797820264849\n",
      "Starting inference for model: checkpoints/siamese_roberta_test_fold_1_best.pth\n"
     ]
    },
    {
     "data": {
      "application/vnd.jupyter.widget-view+json": {
       "model_id": "1040a7558c1547e896b175612d59eaa1",
       "version_major": 2,
       "version_minor": 0
      },
      "text/plain": [
       "HBox(children=(IntProgress(value=0, max=238), HTML(value='')))"
      ]
     },
     "metadata": {},
     "output_type": "display_data"
    },
    {
     "name": "stdout",
     "output_type": "stream",
     "text": [
      "\n",
      "Fold 2 started at Sun Feb  9 20:31:59 2020\n",
      "epoch 0: \t Start training...\n"
     ]
    },
    {
     "data": {
      "application/vnd.jupyter.widget-view+json": {
       "model_id": "8f5579caee4f4d729b389d0be9f3d8ca",
       "version_major": 2,
       "version_minor": 0
      },
      "text/plain": [
       "HBox(children=(IntProgress(value=0, max=2027), HTML(value='')))"
      ]
     },
     "metadata": {},
     "output_type": "display_data"
    },
    {
     "name": "stdout",
     "output_type": "stream",
     "text": [
      "\n",
      "epoch 0/2 \t train : loss 0.51398 - spearmanr 0.22738\n",
      "epoch 0: \t Start validation...\n"
     ]
    },
    {
     "data": {
      "application/vnd.jupyter.widget-view+json": {
       "model_id": "28ceec035b00486fa7cf991b5d95b434",
       "version_major": 2,
       "version_minor": 0
      },
      "text/plain": [
       "HBox(children=(IntProgress(value=0, max=1013), HTML(value='')))"
      ]
     },
     "metadata": {},
     "output_type": "display_data"
    },
    {
     "name": "stdout",
     "output_type": "stream",
     "text": [
      "\n",
      "epoch 0/2 \t valid : loss 0.46984 - spearmanr 0.3755\n",
      "best model: epoch 0 - 0.3755\n",
      "epoch 1: \t Start training...\n"
     ]
    },
    {
     "data": {
      "application/vnd.jupyter.widget-view+json": {
       "model_id": "357df2ca150e451ea9adfb81705fc71d",
       "version_major": 2,
       "version_minor": 0
      },
      "text/plain": [
       "HBox(children=(IntProgress(value=0, max=2027), HTML(value='')))"
      ]
     },
     "metadata": {},
     "output_type": "display_data"
    },
    {
     "name": "stdout",
     "output_type": "stream",
     "text": [
      "\n",
      "epoch 1/2 \t train : loss 0.45493 - spearmanr 0.39944\n",
      "epoch 1: \t Start validation...\n"
     ]
    },
    {
     "data": {
      "application/vnd.jupyter.widget-view+json": {
       "model_id": "c4aadf7b92d14f38b8166fe3f9b1a282",
       "version_major": 2,
       "version_minor": 0
      },
      "text/plain": [
       "HBox(children=(IntProgress(value=0, max=1013), HTML(value='')))"
      ]
     },
     "metadata": {},
     "output_type": "display_data"
    },
    {
     "name": "stdout",
     "output_type": "stream",
     "text": [
      "\n",
      "epoch 1/2 \t valid : loss 0.45378 - spearmanr 0.40575\n",
      "best model: epoch 1 - 0.40575\n",
      "TRAINING END: Best score achieved on epoch 1 - 0.40575\n",
      "Starting inference for model: checkpoints/siamese_roberta_test_fold_2_best.pth\n"
     ]
    },
    {
     "data": {
      "application/vnd.jupyter.widget-view+json": {
       "model_id": "2b35db72d51e4562bfbe5459b7d21384",
       "version_major": 2,
       "version_minor": 0
      },
      "text/plain": [
       "HBox(children=(IntProgress(value=0, max=1013), HTML(value='')))"
      ]
     },
     "metadata": {},
     "output_type": "display_data"
    },
    {
     "name": "stdout",
     "output_type": "stream",
     "text": [
      "\n",
      "Averaged Val. score: 0.4057495350026312\n",
      "Starting inference for model: checkpoints/siamese_roberta_test_fold_2_best.pth\n"
     ]
    },
    {
     "data": {
      "application/vnd.jupyter.widget-view+json": {
       "model_id": "c631a912f035426595ae42d7e95a6e4d",
       "version_major": 2,
       "version_minor": 0
      },
      "text/plain": [
       "HBox(children=(IntProgress(value=0, max=238), HTML(value='')))"
      ]
     },
     "metadata": {},
     "output_type": "display_data"
    },
    {
     "name": "stdout",
     "output_type": "stream",
     "text": [
      "\n",
      "Fold 3 started at Sun Feb  9 20:49:48 2020\n",
      "epoch 0: \t Start training...\n"
     ]
    },
    {
     "data": {
      "application/vnd.jupyter.widget-view+json": {
       "model_id": "435bd7fb014f4dc0b36ee49a4daf0afd",
       "version_major": 2,
       "version_minor": 0
      },
      "text/plain": [
       "HBox(children=(IntProgress(value=0, max=2027), HTML(value='')))"
      ]
     },
     "metadata": {},
     "output_type": "display_data"
    },
    {
     "name": "stdout",
     "output_type": "stream",
     "text": [
      "\n",
      "epoch 0/2 \t train : loss 0.51568 - spearmanr 0.22777\n",
      "epoch 0: \t Start validation...\n"
     ]
    },
    {
     "data": {
      "application/vnd.jupyter.widget-view+json": {
       "model_id": "7a7dc1f9665b48c4b881d0053ec1c81f",
       "version_major": 2,
       "version_minor": 0
      },
      "text/plain": [
       "HBox(children=(IntProgress(value=0, max=1013), HTML(value='')))"
      ]
     },
     "metadata": {},
     "output_type": "display_data"
    },
    {
     "name": "stdout",
     "output_type": "stream",
     "text": [
      "\n",
      "epoch 0/2 \t valid : loss 0.46824 - spearmanr 0.36768\n",
      "best model: epoch 0 - 0.36768\n",
      "epoch 1: \t Start training...\n"
     ]
    },
    {
     "data": {
      "application/vnd.jupyter.widget-view+json": {
       "model_id": "102c9fe4e80f487dabbd0e8372fd459e",
       "version_major": 2,
       "version_minor": 0
      },
      "text/plain": [
       "HBox(children=(IntProgress(value=0, max=2027), HTML(value='')))"
      ]
     },
     "metadata": {},
     "output_type": "display_data"
    },
    {
     "name": "stdout",
     "output_type": "stream",
     "text": [
      "\n",
      "epoch 1/2 \t train : loss 0.45555 - spearmanr 0.40103\n",
      "epoch 1: \t Start validation...\n"
     ]
    },
    {
     "data": {
      "application/vnd.jupyter.widget-view+json": {
       "model_id": "c895825173ba45e39e534fc63bca8ffe",
       "version_major": 2,
       "version_minor": 0
      },
      "text/plain": [
       "HBox(children=(IntProgress(value=0, max=1013), HTML(value='')))"
      ]
     },
     "metadata": {},
     "output_type": "display_data"
    },
    {
     "name": "stdout",
     "output_type": "stream",
     "text": [
      "\n",
      "epoch 1/2 \t valid : loss 0.45183 - spearmanr 0.4011\n",
      "best model: epoch 1 - 0.4011\n",
      "TRAINING END: Best score achieved on epoch 1 - 0.40110\n",
      "Starting inference for model: checkpoints/siamese_roberta_test_fold_3_best.pth\n"
     ]
    },
    {
     "data": {
      "application/vnd.jupyter.widget-view+json": {
       "model_id": "e5ea204755644238b0bde3916ae15b46",
       "version_major": 2,
       "version_minor": 0
      },
      "text/plain": [
       "HBox(children=(IntProgress(value=0, max=1013), HTML(value='')))"
      ]
     },
     "metadata": {},
     "output_type": "display_data"
    },
    {
     "name": "stdout",
     "output_type": "stream",
     "text": [
      "\n",
      "Averaged Val. score: 0.4010953049974863\n",
      "Starting inference for model: checkpoints/siamese_roberta_test_fold_3_best.pth\n"
     ]
    },
    {
     "data": {
      "application/vnd.jupyter.widget-view+json": {
       "model_id": "958a1c29e10d49bf971910c6ac122ebe",
       "version_major": 2,
       "version_minor": 0
      },
      "text/plain": [
       "HBox(children=(IntProgress(value=0, max=238), HTML(value='')))"
      ]
     },
     "metadata": {},
     "output_type": "display_data"
    },
    {
     "name": "stdout",
     "output_type": "stream",
     "text": [
      "\n",
      "OOF score: 0.4021693955300795\n"
     ]
    }
   ],
   "source": [
    "init_seed()\n",
    "folds = GroupKFold(n_splits=n_folds).split(X=train['question_body'], groups=train['question_body'])\n",
    "oofs = np.zeros((len(train), N_TARGETS))\n",
    "preds = np.zeros((len(test), N_TARGETS))\n",
    "\n",
    "for fold_id, (train_index, valid_index) in enumerate(folds):\n",
    "    print(f'Fold {fold_id + 1} started at {time.ctime()}')\n",
    "    train_loader = DataLoader(\n",
    "        TextDataset(cat_features_train, ids_train['question'], ids_train['answer'],\n",
    "                    seg_ids_train['question'], seg_ids_train['answer'], train_index, targets=y), \n",
    "        batch_size=bs, shuffle=True, num_workers=num_workers, drop_last=False\n",
    "    )\n",
    "    valid_loader = DataLoader(\n",
    "        TextDataset(cat_features_train, ids_train['question'], ids_train['answer'],\n",
    "                    seg_ids_train['question'], seg_ids_train['answer'], valid_index, targets=y), \n",
    "        batch_size=bs, shuffle=False, num_workers=num_workers, drop_last=False\n",
    "    )\n",
    "    model = CustomRoberta(256, cat_features_train.shape[1])\n",
    "    model.roberta.resize_token_embeddings(len(tokenizer))\n",
    "    \n",
    "    if fold_id == 0:\n",
    "#         print(model)\n",
    "        model = model.to(device)\n",
    "        optimizer = get_optimizer(model, lr, weight_decay)\n",
    "        lr_finder = LRFinder(n_iter=min(grad_accum*100, len(train_loader)), start_lr=1e-5, \n",
    "                             end_lr=1, device=device, grad_accum=grad_accum, divergence_factor=5)\n",
    "        lr_finder.find_lr(model, optimizer, train_loader, loss_fn)\n",
    "        plt.show()\n",
    "    \n",
    "    optimizer = get_optimizer(model, lr, weight_decay)\n",
    "    scheduler = OneCycleLR(optimizer, n_epochs=n_epochs, n_batches=len(train_loader))\n",
    "\n",
    "    learner = Learner(\n",
    "        model, \n",
    "        optimizer, \n",
    "        train_loader, \n",
    "        valid_loader, \n",
    "        loss_fn, \n",
    "        device, \n",
    "        n_epochs, \n",
    "        f'{model_name}_fold_{fold_id + 1}', \n",
    "        checkpoint_dir, \n",
    "        scheduler=scheduler, \n",
    "        metric_fns={'spearmanr': (spearmanr_torch, 'epoch_end')}, \n",
    "        monitor_metric='spearmanr',\n",
    "        minimize_score=False, \n",
    "        logger=None,\n",
    "        grad_accum=grad_accum,\n",
    "        early_stopping=early_stopping, \n",
    "        batch_step_scheduler=True\n",
    "    )\n",
    "    if (fold_id + 1) > 0: learner.train()\n",
    "        \n",
    "    oofs[valid_index] = infer(learner.model, valid_loader, learner.best_checkpoint_file, device)\n",
    "    print(f'Averaged Val. score: {spearmanr_np(oofs[valid_index], y[valid_index])}')\n",
    "    \n",
    "    test_preds = infer(learner.model, test_loader, learner.best_checkpoint_file, device)\n",
    "    preds += test_preds / n_folds\n",
    "    \n",
    "    del learner, model, train_loader, valid_loader\n",
    "    gc.collect()\n",
    "    \n",
    "print(f'OOF score: {spearmanr_np(oofs, y)}')"
   ]
  },
  {
   "cell_type": "code",
   "execution_count": 12,
   "metadata": {
    "scrolled": true
   },
   "outputs": [
    {
     "name": "stdout",
     "output_type": "stream",
     "text": [
      "2 4 0.4695237289870974\n",
      "4 8 0.3558644640873608\n",
      "5 2 0.45699756728255236\n",
      "9 64 0.09193072926867853\n",
      "11 8 0.7295749249586639\n",
      "12 4 0.5307253165577714\n",
      "13 32 0.21620512691232463\n",
      "14 4 0.6356314753939424\n",
      "15 4 0.547143679857105\n",
      "19 32 0.15026857350842404\n"
     ]
    },
    {
     "name": "stderr",
     "output_type": "stream",
     "text": [
      "/home/robin/anaconda3/envs/GoogleQuest/lib/python3.7/site-packages/numpy/lib/function_base.py:2534: RuntimeWarning: invalid value encountered in true_divide\n",
      "  c /= stddev[:, None]\n",
      "/home/robin/anaconda3/envs/GoogleQuest/lib/python3.7/site-packages/numpy/lib/function_base.py:2535: RuntimeWarning: invalid value encountered in true_divide\n",
      "  c /= stddev[None, :]\n",
      "/home/robin/anaconda3/envs/GoogleQuest/lib/python3.7/site-packages/scipy/stats/_distn_infrastructure.py:901: RuntimeWarning: invalid value encountered in greater\n",
      "  return (a < x) & (x < b)\n",
      "/home/robin/anaconda3/envs/GoogleQuest/lib/python3.7/site-packages/scipy/stats/_distn_infrastructure.py:901: RuntimeWarning: invalid value encountered in less\n",
      "  return (a < x) & (x < b)\n",
      "/home/robin/anaconda3/envs/GoogleQuest/lib/python3.7/site-packages/scipy/stats/_distn_infrastructure.py:1892: RuntimeWarning: invalid value encountered in less_equal\n",
      "  cond2 = cond0 & (x <= _a)\n"
     ]
    }
   ],
   "source": [
    "opt_ds, opt_indices = optimize_rounding_params(oofs, y)"
   ]
  },
  {
   "cell_type": "code",
   "execution_count": 13,
   "metadata": {},
   "outputs": [
    {
     "data": {
      "text/plain": [
       "(array([ 4,  8,  2, 64,  8,  4, 32,  4,  4, 32]),\n",
       " array([ 2,  4,  5,  9, 11, 12, 13, 14, 15, 19]))"
      ]
     },
     "execution_count": 13,
     "metadata": {},
     "output_type": "execute_result"
    }
   ],
   "source": [
    "np.array(opt_ds), np.array(opt_indices)"
   ]
  },
  {
   "cell_type": "code",
   "execution_count": 14,
   "metadata": {
    "scrolled": false
   },
   "outputs": [],
   "source": [
    "oofs_alt = oofs.copy()\n",
    "train[\"eng\"] = train[\"url\"].apply(lambda x: x.startswith(\"http://english.\") or x.startswith(\"http://ell.\"))\n",
    "oofs_alt[np.where((~train[\"eng\"]).values)[0], 19] = 0"
   ]
  },
  {
   "cell_type": "code",
   "execution_count": 15,
   "metadata": {
    "scrolled": false
   },
   "outputs": [
    {
     "data": {
      "text/html": [
       "<div>\n",
       "<style scoped>\n",
       "    .dataframe tbody tr th:only-of-type {\n",
       "        vertical-align: middle;\n",
       "    }\n",
       "\n",
       "    .dataframe tbody tr th {\n",
       "        vertical-align: top;\n",
       "    }\n",
       "\n",
       "    .dataframe thead th {\n",
       "        text-align: right;\n",
       "    }\n",
       "</style>\n",
       "<table border=\"1\" class=\"dataframe\">\n",
       "  <thead>\n",
       "    <tr style=\"text-align: right;\">\n",
       "      <th></th>\n",
       "      <th>SpearmanR</th>\n",
       "    </tr>\n",
       "  </thead>\n",
       "  <tbody>\n",
       "    <tr>\n",
       "      <th>CV</th>\n",
       "      <td>0.402169</td>\n",
       "    </tr>\n",
       "    <tr>\n",
       "      <th>CV unique rows</th>\n",
       "      <td>0.369588</td>\n",
       "    </tr>\n",
       "    <tr>\n",
       "      <th>CV ignoring hard targets</th>\n",
       "      <td>0.426253</td>\n",
       "    </tr>\n",
       "    <tr>\n",
       "      <th>CV unique rows ignoring hard targets</th>\n",
       "      <td>0.390721</td>\n",
       "    </tr>\n",
       "    <tr>\n",
       "      <th>CV w rounding</th>\n",
       "      <td>0.429059</td>\n",
       "    </tr>\n",
       "    <tr>\n",
       "      <th>CV unique rows w rounding</th>\n",
       "      <td>0.406353</td>\n",
       "    </tr>\n",
       "    <tr>\n",
       "      <th>CV ignoring hard targets w rounding</th>\n",
       "      <td>0.451056</td>\n",
       "    </tr>\n",
       "    <tr>\n",
       "      <th>CV unique rows ignoring hard targets w rounding</th>\n",
       "      <td>0.420441</td>\n",
       "    </tr>\n",
       "  </tbody>\n",
       "</table>\n",
       "</div>"
      ],
      "text/plain": [
       "                                                 SpearmanR\n",
       "CV                                                0.402169\n",
       "CV unique rows                                    0.369588\n",
       "CV ignoring hard targets                          0.426253\n",
       "CV unique rows ignoring hard targets              0.390721\n",
       "CV w rounding                                     0.429059\n",
       "CV unique rows w rounding                         0.406353\n",
       "CV ignoring hard targets w rounding               0.451056\n",
       "CV unique rows ignoring hard targets w rounding   0.420441"
      ]
     },
     "execution_count": 15,
     "metadata": {},
     "output_type": "execute_result"
    }
   ],
   "source": [
    "get_cvs(oofs, y, ix)"
   ]
  },
  {
   "cell_type": "code",
   "execution_count": 16,
   "metadata": {
    "scrolled": false
   },
   "outputs": [
    {
     "data": {
      "text/html": [
       "<div>\n",
       "<style scoped>\n",
       "    .dataframe tbody tr th:only-of-type {\n",
       "        vertical-align: middle;\n",
       "    }\n",
       "\n",
       "    .dataframe tbody tr th {\n",
       "        vertical-align: top;\n",
       "    }\n",
       "\n",
       "    .dataframe thead th {\n",
       "        text-align: right;\n",
       "    }\n",
       "</style>\n",
       "<table border=\"1\" class=\"dataframe\">\n",
       "  <thead>\n",
       "    <tr style=\"text-align: right;\">\n",
       "      <th></th>\n",
       "      <th>SpearmanR</th>\n",
       "    </tr>\n",
       "  </thead>\n",
       "  <tbody>\n",
       "    <tr>\n",
       "      <th>CV</th>\n",
       "      <td>0.406718</td>\n",
       "    </tr>\n",
       "    <tr>\n",
       "      <th>CV unique rows</th>\n",
       "      <td>0.374236</td>\n",
       "    </tr>\n",
       "    <tr>\n",
       "      <th>CV ignoring hard targets</th>\n",
       "      <td>0.426253</td>\n",
       "    </tr>\n",
       "    <tr>\n",
       "      <th>CV unique rows ignoring hard targets</th>\n",
       "      <td>0.390721</td>\n",
       "    </tr>\n",
       "    <tr>\n",
       "      <th>CV w rounding</th>\n",
       "      <td>0.430130</td>\n",
       "    </tr>\n",
       "    <tr>\n",
       "      <th>CV unique rows w rounding</th>\n",
       "      <td>0.407071</td>\n",
       "    </tr>\n",
       "    <tr>\n",
       "      <th>CV ignoring hard targets w rounding</th>\n",
       "      <td>0.451056</td>\n",
       "    </tr>\n",
       "    <tr>\n",
       "      <th>CV unique rows ignoring hard targets w rounding</th>\n",
       "      <td>0.420441</td>\n",
       "    </tr>\n",
       "  </tbody>\n",
       "</table>\n",
       "</div>"
      ],
      "text/plain": [
       "                                                 SpearmanR\n",
       "CV                                                0.406718\n",
       "CV unique rows                                    0.374236\n",
       "CV ignoring hard targets                          0.426253\n",
       "CV unique rows ignoring hard targets              0.390721\n",
       "CV w rounding                                     0.430130\n",
       "CV unique rows w rounding                         0.407071\n",
       "CV ignoring hard targets w rounding               0.451056\n",
       "CV unique rows ignoring hard targets w rounding   0.420441"
      ]
     },
     "execution_count": 16,
     "metadata": {},
     "output_type": "execute_result"
    }
   ],
   "source": [
    "get_cvs(oofs_alt, y, ix)"
   ]
  },
  {
   "cell_type": "code",
   "execution_count": 17,
   "metadata": {},
   "outputs": [],
   "source": [
    "# clipping is necessary or we will get an error\n",
    "sample_submission.loc[:, 'question_asker_intent_understanding':] = np.clip(preds, 0.00001, 0.999999)\n",
    "sample_submission.to_csv('subs/submission.csv', index=False)"
   ]
  },
  {
   "cell_type": "code",
   "execution_count": 18,
   "metadata": {
    "scrolled": false
   },
   "outputs": [
    {
     "data": {
      "text/html": [
       "<div>\n",
       "<style scoped>\n",
       "    .dataframe tbody tr th:only-of-type {\n",
       "        vertical-align: middle;\n",
       "    }\n",
       "\n",
       "    .dataframe tbody tr th {\n",
       "        vertical-align: top;\n",
       "    }\n",
       "\n",
       "    .dataframe thead th {\n",
       "        text-align: right;\n",
       "    }\n",
       "</style>\n",
       "<table border=\"1\" class=\"dataframe\">\n",
       "  <thead>\n",
       "    <tr style=\"text-align: right;\">\n",
       "      <th></th>\n",
       "      <th>qa_id</th>\n",
       "      <th>question_asker_intent_understanding</th>\n",
       "      <th>question_body_critical</th>\n",
       "      <th>question_conversational</th>\n",
       "      <th>question_expect_short_answer</th>\n",
       "      <th>question_fact_seeking</th>\n",
       "      <th>question_has_commonly_accepted_answer</th>\n",
       "      <th>question_interestingness_others</th>\n",
       "      <th>question_interestingness_self</th>\n",
       "      <th>question_multi_intent</th>\n",
       "      <th>question_not_really_a_question</th>\n",
       "      <th>question_opinion_seeking</th>\n",
       "      <th>question_type_choice</th>\n",
       "      <th>question_type_compare</th>\n",
       "      <th>question_type_consequence</th>\n",
       "      <th>question_type_definition</th>\n",
       "      <th>question_type_entity</th>\n",
       "      <th>question_type_instructions</th>\n",
       "      <th>question_type_procedure</th>\n",
       "      <th>question_type_reason_explanation</th>\n",
       "      <th>question_type_spelling</th>\n",
       "      <th>question_well_written</th>\n",
       "      <th>answer_helpful</th>\n",
       "      <th>answer_level_of_information</th>\n",
       "      <th>answer_plausible</th>\n",
       "      <th>answer_relevance</th>\n",
       "      <th>answer_satisfaction</th>\n",
       "      <th>answer_type_instructions</th>\n",
       "      <th>answer_type_procedure</th>\n",
       "      <th>answer_type_reason_explanation</th>\n",
       "      <th>answer_well_written</th>\n",
       "    </tr>\n",
       "  </thead>\n",
       "  <tbody>\n",
       "    <tr>\n",
       "      <th>0</th>\n",
       "      <td>39</td>\n",
       "      <td>0.803121</td>\n",
       "      <td>0.578879</td>\n",
       "      <td>0.489661</td>\n",
       "      <td>0.399938</td>\n",
       "      <td>0.409098</td>\n",
       "      <td>0.319415</td>\n",
       "      <td>0.664265</td>\n",
       "      <td>0.720194</td>\n",
       "      <td>0.674373</td>\n",
       "      <td>0.003707</td>\n",
       "      <td>0.803175</td>\n",
       "      <td>0.771694</td>\n",
       "      <td>0.051515</td>\n",
       "      <td>0.161038</td>\n",
       "      <td>0.012600</td>\n",
       "      <td>0.022557</td>\n",
       "      <td>0.081167</td>\n",
       "      <td>0.174229</td>\n",
       "      <td>0.743575</td>\n",
       "      <td>0.001648</td>\n",
       "      <td>0.821103</td>\n",
       "      <td>0.634064</td>\n",
       "      <td>0.307517</td>\n",
       "      <td>0.767966</td>\n",
       "      <td>0.769863</td>\n",
       "      <td>0.429629</td>\n",
       "      <td>0.049696</td>\n",
       "      <td>0.070265</td>\n",
       "      <td>0.757271</td>\n",
       "      <td>0.701354</td>\n",
       "    </tr>\n",
       "    <tr>\n",
       "      <th>1</th>\n",
       "      <td>46</td>\n",
       "      <td>0.495713</td>\n",
       "      <td>0.277796</td>\n",
       "      <td>0.010198</td>\n",
       "      <td>0.646514</td>\n",
       "      <td>0.659808</td>\n",
       "      <td>0.860129</td>\n",
       "      <td>0.395288</td>\n",
       "      <td>0.251435</td>\n",
       "      <td>0.143731</td>\n",
       "      <td>0.022133</td>\n",
       "      <td>0.504304</td>\n",
       "      <td>0.188044</td>\n",
       "      <td>0.004795</td>\n",
       "      <td>0.003641</td>\n",
       "      <td>0.002106</td>\n",
       "      <td>0.018333</td>\n",
       "      <td>0.844462</td>\n",
       "      <td>0.346800</td>\n",
       "      <td>0.268687</td>\n",
       "      <td>0.000593</td>\n",
       "      <td>0.343295</td>\n",
       "      <td>0.747742</td>\n",
       "      <td>0.473797</td>\n",
       "      <td>0.807941</td>\n",
       "      <td>0.871594</td>\n",
       "      <td>0.543640</td>\n",
       "      <td>0.880046</td>\n",
       "      <td>0.310966</td>\n",
       "      <td>0.191656</td>\n",
       "      <td>0.580610</td>\n",
       "    </tr>\n",
       "    <tr>\n",
       "      <th>2</th>\n",
       "      <td>70</td>\n",
       "      <td>0.754226</td>\n",
       "      <td>0.642908</td>\n",
       "      <td>0.100584</td>\n",
       "      <td>0.685799</td>\n",
       "      <td>0.790123</td>\n",
       "      <td>0.806003</td>\n",
       "      <td>0.592695</td>\n",
       "      <td>0.532348</td>\n",
       "      <td>0.349825</td>\n",
       "      <td>0.006646</td>\n",
       "      <td>0.335617</td>\n",
       "      <td>0.730656</td>\n",
       "      <td>0.064009</td>\n",
       "      <td>0.115131</td>\n",
       "      <td>0.014124</td>\n",
       "      <td>0.048073</td>\n",
       "      <td>0.138290</td>\n",
       "      <td>0.143779</td>\n",
       "      <td>0.652720</td>\n",
       "      <td>0.003761</td>\n",
       "      <td>0.749688</td>\n",
       "      <td>0.645934</td>\n",
       "      <td>0.301057</td>\n",
       "      <td>0.765259</td>\n",
       "      <td>0.720999</td>\n",
       "      <td>0.464788</td>\n",
       "      <td>0.070067</td>\n",
       "      <td>0.077995</td>\n",
       "      <td>0.719978</td>\n",
       "      <td>0.611803</td>\n",
       "    </tr>\n",
       "    <tr>\n",
       "      <th>3</th>\n",
       "      <td>132</td>\n",
       "      <td>0.558816</td>\n",
       "      <td>0.217205</td>\n",
       "      <td>0.008361</td>\n",
       "      <td>0.608067</td>\n",
       "      <td>0.675292</td>\n",
       "      <td>0.851019</td>\n",
       "      <td>0.412323</td>\n",
       "      <td>0.256816</td>\n",
       "      <td>0.172427</td>\n",
       "      <td>0.023298</td>\n",
       "      <td>0.519185</td>\n",
       "      <td>0.091883</td>\n",
       "      <td>0.003403</td>\n",
       "      <td>0.004690</td>\n",
       "      <td>0.001285</td>\n",
       "      <td>0.012266</td>\n",
       "      <td>0.793397</td>\n",
       "      <td>0.303936</td>\n",
       "      <td>0.621551</td>\n",
       "      <td>0.000363</td>\n",
       "      <td>0.386260</td>\n",
       "      <td>0.790267</td>\n",
       "      <td>0.590454</td>\n",
       "      <td>0.876938</td>\n",
       "      <td>0.914798</td>\n",
       "      <td>0.638668</td>\n",
       "      <td>0.823543</td>\n",
       "      <td>0.309252</td>\n",
       "      <td>0.624877</td>\n",
       "      <td>0.608618</td>\n",
       "    </tr>\n",
       "    <tr>\n",
       "      <th>4</th>\n",
       "      <td>200</td>\n",
       "      <td>0.743336</td>\n",
       "      <td>0.417291</td>\n",
       "      <td>0.105999</td>\n",
       "      <td>0.713339</td>\n",
       "      <td>0.738357</td>\n",
       "      <td>0.760239</td>\n",
       "      <td>0.585286</td>\n",
       "      <td>0.571216</td>\n",
       "      <td>0.429551</td>\n",
       "      <td>0.017083</td>\n",
       "      <td>0.436373</td>\n",
       "      <td>0.689848</td>\n",
       "      <td>0.060955</td>\n",
       "      <td>0.075442</td>\n",
       "      <td>0.016638</td>\n",
       "      <td>0.099316</td>\n",
       "      <td>0.272856</td>\n",
       "      <td>0.245687</td>\n",
       "      <td>0.591264</td>\n",
       "      <td>0.007469</td>\n",
       "      <td>0.581595</td>\n",
       "      <td>0.733336</td>\n",
       "      <td>0.527137</td>\n",
       "      <td>0.834218</td>\n",
       "      <td>0.818127</td>\n",
       "      <td>0.591296</td>\n",
       "      <td>0.428474</td>\n",
       "      <td>0.279284</td>\n",
       "      <td>0.663951</td>\n",
       "      <td>0.610491</td>\n",
       "    </tr>\n",
       "  </tbody>\n",
       "</table>\n",
       "</div>"
      ],
      "text/plain": [
       "   qa_id  question_asker_intent_understanding  question_body_critical  \\\n",
       "0     39                             0.803121                0.578879   \n",
       "1     46                             0.495713                0.277796   \n",
       "2     70                             0.754226                0.642908   \n",
       "3    132                             0.558816                0.217205   \n",
       "4    200                             0.743336                0.417291   \n",
       "\n",
       "   question_conversational  question_expect_short_answer  \\\n",
       "0                 0.489661                      0.399938   \n",
       "1                 0.010198                      0.646514   \n",
       "2                 0.100584                      0.685799   \n",
       "3                 0.008361                      0.608067   \n",
       "4                 0.105999                      0.713339   \n",
       "\n",
       "   question_fact_seeking  question_has_commonly_accepted_answer  \\\n",
       "0               0.409098                               0.319415   \n",
       "1               0.659808                               0.860129   \n",
       "2               0.790123                               0.806003   \n",
       "3               0.675292                               0.851019   \n",
       "4               0.738357                               0.760239   \n",
       "\n",
       "   question_interestingness_others  question_interestingness_self  \\\n",
       "0                         0.664265                       0.720194   \n",
       "1                         0.395288                       0.251435   \n",
       "2                         0.592695                       0.532348   \n",
       "3                         0.412323                       0.256816   \n",
       "4                         0.585286                       0.571216   \n",
       "\n",
       "   question_multi_intent  question_not_really_a_question  \\\n",
       "0               0.674373                        0.003707   \n",
       "1               0.143731                        0.022133   \n",
       "2               0.349825                        0.006646   \n",
       "3               0.172427                        0.023298   \n",
       "4               0.429551                        0.017083   \n",
       "\n",
       "   question_opinion_seeking  question_type_choice  question_type_compare  \\\n",
       "0                  0.803175              0.771694               0.051515   \n",
       "1                  0.504304              0.188044               0.004795   \n",
       "2                  0.335617              0.730656               0.064009   \n",
       "3                  0.519185              0.091883               0.003403   \n",
       "4                  0.436373              0.689848               0.060955   \n",
       "\n",
       "   question_type_consequence  question_type_definition  question_type_entity  \\\n",
       "0                   0.161038                  0.012600              0.022557   \n",
       "1                   0.003641                  0.002106              0.018333   \n",
       "2                   0.115131                  0.014124              0.048073   \n",
       "3                   0.004690                  0.001285              0.012266   \n",
       "4                   0.075442                  0.016638              0.099316   \n",
       "\n",
       "   question_type_instructions  question_type_procedure  \\\n",
       "0                    0.081167                 0.174229   \n",
       "1                    0.844462                 0.346800   \n",
       "2                    0.138290                 0.143779   \n",
       "3                    0.793397                 0.303936   \n",
       "4                    0.272856                 0.245687   \n",
       "\n",
       "   question_type_reason_explanation  question_type_spelling  \\\n",
       "0                          0.743575                0.001648   \n",
       "1                          0.268687                0.000593   \n",
       "2                          0.652720                0.003761   \n",
       "3                          0.621551                0.000363   \n",
       "4                          0.591264                0.007469   \n",
       "\n",
       "   question_well_written  answer_helpful  answer_level_of_information  \\\n",
       "0               0.821103        0.634064                     0.307517   \n",
       "1               0.343295        0.747742                     0.473797   \n",
       "2               0.749688        0.645934                     0.301057   \n",
       "3               0.386260        0.790267                     0.590454   \n",
       "4               0.581595        0.733336                     0.527137   \n",
       "\n",
       "   answer_plausible  answer_relevance  answer_satisfaction  \\\n",
       "0          0.767966          0.769863             0.429629   \n",
       "1          0.807941          0.871594             0.543640   \n",
       "2          0.765259          0.720999             0.464788   \n",
       "3          0.876938          0.914798             0.638668   \n",
       "4          0.834218          0.818127             0.591296   \n",
       "\n",
       "   answer_type_instructions  answer_type_procedure  \\\n",
       "0                  0.049696               0.070265   \n",
       "1                  0.880046               0.310966   \n",
       "2                  0.070067               0.077995   \n",
       "3                  0.823543               0.309252   \n",
       "4                  0.428474               0.279284   \n",
       "\n",
       "   answer_type_reason_explanation  answer_well_written  \n",
       "0                        0.757271             0.701354  \n",
       "1                        0.191656             0.580610  \n",
       "2                        0.719978             0.611803  \n",
       "3                        0.624877             0.608618  \n",
       "4                        0.663951             0.610491  "
      ]
     },
     "execution_count": 18,
     "metadata": {},
     "output_type": "execute_result"
    }
   ],
   "source": [
    "sample_submission.head()"
   ]
  },
  {
   "cell_type": "code",
   "execution_count": 19,
   "metadata": {},
   "outputs": [],
   "source": [
    "pd.DataFrame(oofs, columns=TARGETS).to_csv(f'oofs/{model_name}_oofs.csv')"
   ]
  },
  {
   "cell_type": "code",
   "execution_count": 20,
   "metadata": {},
   "outputs": [
    {
     "data": {
      "text/html": [
       "<div>\n",
       "<style scoped>\n",
       "    .dataframe tbody tr th:only-of-type {\n",
       "        vertical-align: middle;\n",
       "    }\n",
       "\n",
       "    .dataframe tbody tr th {\n",
       "        vertical-align: top;\n",
       "    }\n",
       "\n",
       "    .dataframe thead th {\n",
       "        text-align: right;\n",
       "    }\n",
       "</style>\n",
       "<table border=\"1\" class=\"dataframe\">\n",
       "  <thead>\n",
       "    <tr style=\"text-align: right;\">\n",
       "      <th></th>\n",
       "      <th>question_asker_intent_understanding</th>\n",
       "      <th>question_body_critical</th>\n",
       "      <th>question_conversational</th>\n",
       "      <th>question_expect_short_answer</th>\n",
       "      <th>question_fact_seeking</th>\n",
       "      <th>question_has_commonly_accepted_answer</th>\n",
       "      <th>question_interestingness_others</th>\n",
       "      <th>question_interestingness_self</th>\n",
       "      <th>question_multi_intent</th>\n",
       "      <th>question_not_really_a_question</th>\n",
       "      <th>question_opinion_seeking</th>\n",
       "      <th>question_type_choice</th>\n",
       "      <th>question_type_compare</th>\n",
       "      <th>question_type_consequence</th>\n",
       "      <th>question_type_definition</th>\n",
       "      <th>question_type_entity</th>\n",
       "      <th>question_type_instructions</th>\n",
       "      <th>question_type_procedure</th>\n",
       "      <th>question_type_reason_explanation</th>\n",
       "      <th>question_type_spelling</th>\n",
       "      <th>question_well_written</th>\n",
       "      <th>answer_helpful</th>\n",
       "      <th>answer_level_of_information</th>\n",
       "      <th>answer_plausible</th>\n",
       "      <th>answer_relevance</th>\n",
       "      <th>answer_satisfaction</th>\n",
       "      <th>answer_type_instructions</th>\n",
       "      <th>answer_type_procedure</th>\n",
       "      <th>answer_type_reason_explanation</th>\n",
       "      <th>answer_well_written</th>\n",
       "    </tr>\n",
       "  </thead>\n",
       "  <tbody>\n",
       "    <tr>\n",
       "      <th>0</th>\n",
       "      <td>0.775944</td>\n",
       "      <td>0.559314</td>\n",
       "      <td>0.361918</td>\n",
       "      <td>0.537536</td>\n",
       "      <td>0.501071</td>\n",
       "      <td>0.309323</td>\n",
       "      <td>0.595532</td>\n",
       "      <td>0.540656</td>\n",
       "      <td>0.340244</td>\n",
       "      <td>0.015247</td>\n",
       "      <td>0.793570</td>\n",
       "      <td>0.407521</td>\n",
       "      <td>0.391436</td>\n",
       "      <td>0.085087</td>\n",
       "      <td>0.027885</td>\n",
       "      <td>0.160238</td>\n",
       "      <td>0.187498</td>\n",
       "      <td>0.125049</td>\n",
       "      <td>0.593292</td>\n",
       "      <td>0.004279</td>\n",
       "      <td>0.725390</td>\n",
       "      <td>0.763058</td>\n",
       "      <td>0.502010</td>\n",
       "      <td>0.902161</td>\n",
       "      <td>0.831526</td>\n",
       "      <td>0.588231</td>\n",
       "      <td>0.142031</td>\n",
       "      <td>0.123412</td>\n",
       "      <td>0.809501</td>\n",
       "      <td>0.702639</td>\n",
       "    </tr>\n",
       "    <tr>\n",
       "      <th>1</th>\n",
       "      <td>0.901174</td>\n",
       "      <td>0.775461</td>\n",
       "      <td>0.112159</td>\n",
       "      <td>0.593328</td>\n",
       "      <td>0.901401</td>\n",
       "      <td>0.524309</td>\n",
       "      <td>0.597503</td>\n",
       "      <td>0.737481</td>\n",
       "      <td>0.393935</td>\n",
       "      <td>0.008381</td>\n",
       "      <td>0.260907</td>\n",
       "      <td>0.079190</td>\n",
       "      <td>0.651250</td>\n",
       "      <td>0.005363</td>\n",
       "      <td>0.805488</td>\n",
       "      <td>0.111560</td>\n",
       "      <td>0.047190</td>\n",
       "      <td>0.084828</td>\n",
       "      <td>0.260725</td>\n",
       "      <td>0.023502</td>\n",
       "      <td>0.842692</td>\n",
       "      <td>0.674150</td>\n",
       "      <td>0.388994</td>\n",
       "      <td>0.818397</td>\n",
       "      <td>0.769484</td>\n",
       "      <td>0.440604</td>\n",
       "      <td>0.022337</td>\n",
       "      <td>0.042238</td>\n",
       "      <td>0.391146</td>\n",
       "      <td>0.803872</td>\n",
       "    </tr>\n",
       "    <tr>\n",
       "      <th>2</th>\n",
       "      <td>0.677441</td>\n",
       "      <td>0.400371</td>\n",
       "      <td>0.021028</td>\n",
       "      <td>0.694911</td>\n",
       "      <td>0.821308</td>\n",
       "      <td>0.826873</td>\n",
       "      <td>0.500877</td>\n",
       "      <td>0.331381</td>\n",
       "      <td>0.326437</td>\n",
       "      <td>0.006420</td>\n",
       "      <td>0.327795</td>\n",
       "      <td>0.225577</td>\n",
       "      <td>0.030330</td>\n",
       "      <td>0.008452</td>\n",
       "      <td>0.008925</td>\n",
       "      <td>0.206840</td>\n",
       "      <td>0.619953</td>\n",
       "      <td>0.316535</td>\n",
       "      <td>0.305310</td>\n",
       "      <td>0.001806</td>\n",
       "      <td>0.592188</td>\n",
       "      <td>0.855954</td>\n",
       "      <td>0.585329</td>\n",
       "      <td>0.923645</td>\n",
       "      <td>0.893427</td>\n",
       "      <td>0.675591</td>\n",
       "      <td>0.705572</td>\n",
       "      <td>0.350998</td>\n",
       "      <td>0.479636</td>\n",
       "      <td>0.707117</td>\n",
       "    </tr>\n",
       "    <tr>\n",
       "      <th>3</th>\n",
       "      <td>0.829315</td>\n",
       "      <td>0.695406</td>\n",
       "      <td>0.148865</td>\n",
       "      <td>0.761560</td>\n",
       "      <td>0.819372</td>\n",
       "      <td>0.786958</td>\n",
       "      <td>0.632025</td>\n",
       "      <td>0.670560</td>\n",
       "      <td>0.287968</td>\n",
       "      <td>0.001311</td>\n",
       "      <td>0.285380</td>\n",
       "      <td>0.903617</td>\n",
       "      <td>0.010372</td>\n",
       "      <td>0.016965</td>\n",
       "      <td>0.050903</td>\n",
       "      <td>0.101102</td>\n",
       "      <td>0.036672</td>\n",
       "      <td>0.091600</td>\n",
       "      <td>0.422112</td>\n",
       "      <td>0.002760</td>\n",
       "      <td>0.833947</td>\n",
       "      <td>0.667121</td>\n",
       "      <td>0.624446</td>\n",
       "      <td>0.767774</td>\n",
       "      <td>0.676417</td>\n",
       "      <td>0.583941</td>\n",
       "      <td>0.035749</td>\n",
       "      <td>0.071292</td>\n",
       "      <td>0.713080</td>\n",
       "      <td>0.642325</td>\n",
       "    </tr>\n",
       "    <tr>\n",
       "      <th>4</th>\n",
       "      <td>0.800288</td>\n",
       "      <td>0.803855</td>\n",
       "      <td>0.007004</td>\n",
       "      <td>0.695890</td>\n",
       "      <td>0.835457</td>\n",
       "      <td>0.916796</td>\n",
       "      <td>0.494963</td>\n",
       "      <td>0.450717</td>\n",
       "      <td>0.291991</td>\n",
       "      <td>0.000786</td>\n",
       "      <td>0.290514</td>\n",
       "      <td>0.618988</td>\n",
       "      <td>0.003331</td>\n",
       "      <td>0.001678</td>\n",
       "      <td>0.001427</td>\n",
       "      <td>0.039735</td>\n",
       "      <td>0.830968</td>\n",
       "      <td>0.304281</td>\n",
       "      <td>0.111800</td>\n",
       "      <td>0.000143</td>\n",
       "      <td>0.855497</td>\n",
       "      <td>0.642116</td>\n",
       "      <td>0.317764</td>\n",
       "      <td>0.758581</td>\n",
       "      <td>0.774360</td>\n",
       "      <td>0.424860</td>\n",
       "      <td>0.812824</td>\n",
       "      <td>0.300467</td>\n",
       "      <td>0.060818</td>\n",
       "      <td>0.585198</td>\n",
       "    </tr>\n",
       "    <tr>\n",
       "      <th>...</th>\n",
       "      <td>...</td>\n",
       "      <td>...</td>\n",
       "      <td>...</td>\n",
       "      <td>...</td>\n",
       "      <td>...</td>\n",
       "      <td>...</td>\n",
       "      <td>...</td>\n",
       "      <td>...</td>\n",
       "      <td>...</td>\n",
       "      <td>...</td>\n",
       "      <td>...</td>\n",
       "      <td>...</td>\n",
       "      <td>...</td>\n",
       "      <td>...</td>\n",
       "      <td>...</td>\n",
       "      <td>...</td>\n",
       "      <td>...</td>\n",
       "      <td>...</td>\n",
       "      <td>...</td>\n",
       "      <td>...</td>\n",
       "      <td>...</td>\n",
       "      <td>...</td>\n",
       "      <td>...</td>\n",
       "      <td>...</td>\n",
       "      <td>...</td>\n",
       "      <td>...</td>\n",
       "      <td>...</td>\n",
       "      <td>...</td>\n",
       "      <td>...</td>\n",
       "      <td>...</td>\n",
       "    </tr>\n",
       "    <tr>\n",
       "      <th>6074</th>\n",
       "      <td>0.766669</td>\n",
       "      <td>0.547068</td>\n",
       "      <td>0.144951</td>\n",
       "      <td>0.669440</td>\n",
       "      <td>0.743098</td>\n",
       "      <td>0.596214</td>\n",
       "      <td>0.625792</td>\n",
       "      <td>0.547995</td>\n",
       "      <td>0.526492</td>\n",
       "      <td>0.003839</td>\n",
       "      <td>0.453484</td>\n",
       "      <td>0.882708</td>\n",
       "      <td>0.151005</td>\n",
       "      <td>0.077500</td>\n",
       "      <td>0.025948</td>\n",
       "      <td>0.169113</td>\n",
       "      <td>0.108982</td>\n",
       "      <td>0.138009</td>\n",
       "      <td>0.385843</td>\n",
       "      <td>0.003470</td>\n",
       "      <td>0.750193</td>\n",
       "      <td>0.853134</td>\n",
       "      <td>0.710010</td>\n",
       "      <td>0.897239</td>\n",
       "      <td>0.886803</td>\n",
       "      <td>0.675499</td>\n",
       "      <td>0.119235</td>\n",
       "      <td>0.112337</td>\n",
       "      <td>0.763302</td>\n",
       "      <td>0.772733</td>\n",
       "    </tr>\n",
       "    <tr>\n",
       "      <th>6075</th>\n",
       "      <td>0.749507</td>\n",
       "      <td>0.419552</td>\n",
       "      <td>0.160871</td>\n",
       "      <td>0.595531</td>\n",
       "      <td>0.522130</td>\n",
       "      <td>0.381654</td>\n",
       "      <td>0.668551</td>\n",
       "      <td>0.622338</td>\n",
       "      <td>0.187735</td>\n",
       "      <td>0.013911</td>\n",
       "      <td>0.752650</td>\n",
       "      <td>0.097165</td>\n",
       "      <td>0.051928</td>\n",
       "      <td>0.020150</td>\n",
       "      <td>0.005580</td>\n",
       "      <td>0.099173</td>\n",
       "      <td>0.695188</td>\n",
       "      <td>0.440227</td>\n",
       "      <td>0.221663</td>\n",
       "      <td>0.001968</td>\n",
       "      <td>0.665586</td>\n",
       "      <td>0.755776</td>\n",
       "      <td>0.616009</td>\n",
       "      <td>0.866352</td>\n",
       "      <td>0.878208</td>\n",
       "      <td>0.633515</td>\n",
       "      <td>0.697244</td>\n",
       "      <td>0.407471</td>\n",
       "      <td>0.467326</td>\n",
       "      <td>0.771181</td>\n",
       "    </tr>\n",
       "    <tr>\n",
       "      <th>6076</th>\n",
       "      <td>0.592820</td>\n",
       "      <td>0.366592</td>\n",
       "      <td>0.015716</td>\n",
       "      <td>0.665540</td>\n",
       "      <td>0.681991</td>\n",
       "      <td>0.850067</td>\n",
       "      <td>0.412520</td>\n",
       "      <td>0.316447</td>\n",
       "      <td>0.277966</td>\n",
       "      <td>0.011855</td>\n",
       "      <td>0.466357</td>\n",
       "      <td>0.569810</td>\n",
       "      <td>0.009827</td>\n",
       "      <td>0.008029</td>\n",
       "      <td>0.003234</td>\n",
       "      <td>0.014207</td>\n",
       "      <td>0.812681</td>\n",
       "      <td>0.376819</td>\n",
       "      <td>0.190531</td>\n",
       "      <td>0.001441</td>\n",
       "      <td>0.499564</td>\n",
       "      <td>0.606409</td>\n",
       "      <td>0.412201</td>\n",
       "      <td>0.765793</td>\n",
       "      <td>0.780655</td>\n",
       "      <td>0.453707</td>\n",
       "      <td>0.660160</td>\n",
       "      <td>0.261742</td>\n",
       "      <td>0.473818</td>\n",
       "      <td>0.502992</td>\n",
       "    </tr>\n",
       "    <tr>\n",
       "      <th>6077</th>\n",
       "      <td>0.808328</td>\n",
       "      <td>0.622121</td>\n",
       "      <td>0.618136</td>\n",
       "      <td>0.457222</td>\n",
       "      <td>0.279861</td>\n",
       "      <td>0.228573</td>\n",
       "      <td>0.618312</td>\n",
       "      <td>0.706360</td>\n",
       "      <td>0.502276</td>\n",
       "      <td>0.008809</td>\n",
       "      <td>0.869757</td>\n",
       "      <td>0.815475</td>\n",
       "      <td>0.224128</td>\n",
       "      <td>0.134567</td>\n",
       "      <td>0.056970</td>\n",
       "      <td>0.026670</td>\n",
       "      <td>0.033832</td>\n",
       "      <td>0.092125</td>\n",
       "      <td>0.687977</td>\n",
       "      <td>0.003820</td>\n",
       "      <td>0.787363</td>\n",
       "      <td>0.812193</td>\n",
       "      <td>0.658241</td>\n",
       "      <td>0.839368</td>\n",
       "      <td>0.854630</td>\n",
       "      <td>0.652124</td>\n",
       "      <td>0.031851</td>\n",
       "      <td>0.102977</td>\n",
       "      <td>0.861151</td>\n",
       "      <td>0.790549</td>\n",
       "    </tr>\n",
       "    <tr>\n",
       "      <th>6078</th>\n",
       "      <td>0.804467</td>\n",
       "      <td>0.759308</td>\n",
       "      <td>0.116029</td>\n",
       "      <td>0.354345</td>\n",
       "      <td>0.875270</td>\n",
       "      <td>0.591133</td>\n",
       "      <td>0.627168</td>\n",
       "      <td>0.570870</td>\n",
       "      <td>0.664481</td>\n",
       "      <td>0.001079</td>\n",
       "      <td>0.313116</td>\n",
       "      <td>0.108838</td>\n",
       "      <td>0.499266</td>\n",
       "      <td>0.019486</td>\n",
       "      <td>0.019933</td>\n",
       "      <td>0.096846</td>\n",
       "      <td>0.013265</td>\n",
       "      <td>0.037435</td>\n",
       "      <td>0.947599</td>\n",
       "      <td>0.000833</td>\n",
       "      <td>0.818053</td>\n",
       "      <td>0.746029</td>\n",
       "      <td>0.554187</td>\n",
       "      <td>0.903586</td>\n",
       "      <td>0.868902</td>\n",
       "      <td>0.625639</td>\n",
       "      <td>0.048725</td>\n",
       "      <td>0.055127</td>\n",
       "      <td>0.894383</td>\n",
       "      <td>0.719476</td>\n",
       "    </tr>\n",
       "  </tbody>\n",
       "</table>\n",
       "<p>6079 rows × 30 columns</p>\n",
       "</div>"
      ],
      "text/plain": [
       "      question_asker_intent_understanding  question_body_critical  \\\n",
       "0                                0.775944                0.559314   \n",
       "1                                0.901174                0.775461   \n",
       "2                                0.677441                0.400371   \n",
       "3                                0.829315                0.695406   \n",
       "4                                0.800288                0.803855   \n",
       "...                                   ...                     ...   \n",
       "6074                             0.766669                0.547068   \n",
       "6075                             0.749507                0.419552   \n",
       "6076                             0.592820                0.366592   \n",
       "6077                             0.808328                0.622121   \n",
       "6078                             0.804467                0.759308   \n",
       "\n",
       "      question_conversational  question_expect_short_answer  \\\n",
       "0                    0.361918                      0.537536   \n",
       "1                    0.112159                      0.593328   \n",
       "2                    0.021028                      0.694911   \n",
       "3                    0.148865                      0.761560   \n",
       "4                    0.007004                      0.695890   \n",
       "...                       ...                           ...   \n",
       "6074                 0.144951                      0.669440   \n",
       "6075                 0.160871                      0.595531   \n",
       "6076                 0.015716                      0.665540   \n",
       "6077                 0.618136                      0.457222   \n",
       "6078                 0.116029                      0.354345   \n",
       "\n",
       "      question_fact_seeking  question_has_commonly_accepted_answer  \\\n",
       "0                  0.501071                               0.309323   \n",
       "1                  0.901401                               0.524309   \n",
       "2                  0.821308                               0.826873   \n",
       "3                  0.819372                               0.786958   \n",
       "4                  0.835457                               0.916796   \n",
       "...                     ...                                    ...   \n",
       "6074               0.743098                               0.596214   \n",
       "6075               0.522130                               0.381654   \n",
       "6076               0.681991                               0.850067   \n",
       "6077               0.279861                               0.228573   \n",
       "6078               0.875270                               0.591133   \n",
       "\n",
       "      question_interestingness_others  question_interestingness_self  \\\n",
       "0                            0.595532                       0.540656   \n",
       "1                            0.597503                       0.737481   \n",
       "2                            0.500877                       0.331381   \n",
       "3                            0.632025                       0.670560   \n",
       "4                            0.494963                       0.450717   \n",
       "...                               ...                            ...   \n",
       "6074                         0.625792                       0.547995   \n",
       "6075                         0.668551                       0.622338   \n",
       "6076                         0.412520                       0.316447   \n",
       "6077                         0.618312                       0.706360   \n",
       "6078                         0.627168                       0.570870   \n",
       "\n",
       "      question_multi_intent  question_not_really_a_question  \\\n",
       "0                  0.340244                        0.015247   \n",
       "1                  0.393935                        0.008381   \n",
       "2                  0.326437                        0.006420   \n",
       "3                  0.287968                        0.001311   \n",
       "4                  0.291991                        0.000786   \n",
       "...                     ...                             ...   \n",
       "6074               0.526492                        0.003839   \n",
       "6075               0.187735                        0.013911   \n",
       "6076               0.277966                        0.011855   \n",
       "6077               0.502276                        0.008809   \n",
       "6078               0.664481                        0.001079   \n",
       "\n",
       "      question_opinion_seeking  question_type_choice  question_type_compare  \\\n",
       "0                     0.793570              0.407521               0.391436   \n",
       "1                     0.260907              0.079190               0.651250   \n",
       "2                     0.327795              0.225577               0.030330   \n",
       "3                     0.285380              0.903617               0.010372   \n",
       "4                     0.290514              0.618988               0.003331   \n",
       "...                        ...                   ...                    ...   \n",
       "6074                  0.453484              0.882708               0.151005   \n",
       "6075                  0.752650              0.097165               0.051928   \n",
       "6076                  0.466357              0.569810               0.009827   \n",
       "6077                  0.869757              0.815475               0.224128   \n",
       "6078                  0.313116              0.108838               0.499266   \n",
       "\n",
       "      question_type_consequence  question_type_definition  \\\n",
       "0                      0.085087                  0.027885   \n",
       "1                      0.005363                  0.805488   \n",
       "2                      0.008452                  0.008925   \n",
       "3                      0.016965                  0.050903   \n",
       "4                      0.001678                  0.001427   \n",
       "...                         ...                       ...   \n",
       "6074                   0.077500                  0.025948   \n",
       "6075                   0.020150                  0.005580   \n",
       "6076                   0.008029                  0.003234   \n",
       "6077                   0.134567                  0.056970   \n",
       "6078                   0.019486                  0.019933   \n",
       "\n",
       "      question_type_entity  question_type_instructions  \\\n",
       "0                 0.160238                    0.187498   \n",
       "1                 0.111560                    0.047190   \n",
       "2                 0.206840                    0.619953   \n",
       "3                 0.101102                    0.036672   \n",
       "4                 0.039735                    0.830968   \n",
       "...                    ...                         ...   \n",
       "6074              0.169113                    0.108982   \n",
       "6075              0.099173                    0.695188   \n",
       "6076              0.014207                    0.812681   \n",
       "6077              0.026670                    0.033832   \n",
       "6078              0.096846                    0.013265   \n",
       "\n",
       "      question_type_procedure  question_type_reason_explanation  \\\n",
       "0                    0.125049                          0.593292   \n",
       "1                    0.084828                          0.260725   \n",
       "2                    0.316535                          0.305310   \n",
       "3                    0.091600                          0.422112   \n",
       "4                    0.304281                          0.111800   \n",
       "...                       ...                               ...   \n",
       "6074                 0.138009                          0.385843   \n",
       "6075                 0.440227                          0.221663   \n",
       "6076                 0.376819                          0.190531   \n",
       "6077                 0.092125                          0.687977   \n",
       "6078                 0.037435                          0.947599   \n",
       "\n",
       "      question_type_spelling  question_well_written  answer_helpful  \\\n",
       "0                   0.004279               0.725390        0.763058   \n",
       "1                   0.023502               0.842692        0.674150   \n",
       "2                   0.001806               0.592188        0.855954   \n",
       "3                   0.002760               0.833947        0.667121   \n",
       "4                   0.000143               0.855497        0.642116   \n",
       "...                      ...                    ...             ...   \n",
       "6074                0.003470               0.750193        0.853134   \n",
       "6075                0.001968               0.665586        0.755776   \n",
       "6076                0.001441               0.499564        0.606409   \n",
       "6077                0.003820               0.787363        0.812193   \n",
       "6078                0.000833               0.818053        0.746029   \n",
       "\n",
       "      answer_level_of_information  answer_plausible  answer_relevance  \\\n",
       "0                        0.502010          0.902161          0.831526   \n",
       "1                        0.388994          0.818397          0.769484   \n",
       "2                        0.585329          0.923645          0.893427   \n",
       "3                        0.624446          0.767774          0.676417   \n",
       "4                        0.317764          0.758581          0.774360   \n",
       "...                           ...               ...               ...   \n",
       "6074                     0.710010          0.897239          0.886803   \n",
       "6075                     0.616009          0.866352          0.878208   \n",
       "6076                     0.412201          0.765793          0.780655   \n",
       "6077                     0.658241          0.839368          0.854630   \n",
       "6078                     0.554187          0.903586          0.868902   \n",
       "\n",
       "      answer_satisfaction  answer_type_instructions  answer_type_procedure  \\\n",
       "0                0.588231                  0.142031               0.123412   \n",
       "1                0.440604                  0.022337               0.042238   \n",
       "2                0.675591                  0.705572               0.350998   \n",
       "3                0.583941                  0.035749               0.071292   \n",
       "4                0.424860                  0.812824               0.300467   \n",
       "...                   ...                       ...                    ...   \n",
       "6074             0.675499                  0.119235               0.112337   \n",
       "6075             0.633515                  0.697244               0.407471   \n",
       "6076             0.453707                  0.660160               0.261742   \n",
       "6077             0.652124                  0.031851               0.102977   \n",
       "6078             0.625639                  0.048725               0.055127   \n",
       "\n",
       "      answer_type_reason_explanation  answer_well_written  \n",
       "0                           0.809501             0.702639  \n",
       "1                           0.391146             0.803872  \n",
       "2                           0.479636             0.707117  \n",
       "3                           0.713080             0.642325  \n",
       "4                           0.060818             0.585198  \n",
       "...                              ...                  ...  \n",
       "6074                        0.763302             0.772733  \n",
       "6075                        0.467326             0.771181  \n",
       "6076                        0.473818             0.502992  \n",
       "6077                        0.861151             0.790549  \n",
       "6078                        0.894383             0.719476  \n",
       "\n",
       "[6079 rows x 30 columns]"
      ]
     },
     "execution_count": 20,
     "metadata": {},
     "output_type": "execute_result"
    }
   ],
   "source": [
    "pd.DataFrame(oofs, columns=TARGETS)"
   ]
  },
  {
   "cell_type": "code",
   "execution_count": 21,
   "metadata": {},
   "outputs": [
    {
     "data": {
      "text/plain": [
       "question_asker_intent_understanding      0.381294\n",
       "question_body_critical                   0.584536\n",
       "question_conversational                  0.408369\n",
       "question_expect_short_answer             0.298952\n",
       "question_fact_seeking                    0.351951\n",
       "question_has_commonly_accepted_answer    0.424967\n",
       "question_interestingness_others          0.360027\n",
       "question_interestingness_self            0.501207\n",
       "question_multi_intent                    0.514576\n",
       "question_not_really_a_question           0.084058\n",
       "question_opinion_seeking                 0.468895\n",
       "question_type_choice                     0.721321\n",
       "question_type_compare                    0.359985\n",
       "question_type_consequence                0.183746\n",
       "question_type_definition                 0.364766\n",
       "question_type_entity                     0.432073\n",
       "question_type_instructions               0.777632\n",
       "question_type_procedure                  0.358746\n",
       "question_type_reason_explanation         0.669104\n",
       "question_type_spelling                   0.045935\n",
       "question_well_written                    0.503605\n",
       "answer_helpful                           0.235770\n",
       "answer_level_of_information              0.438313\n",
       "answer_plausible                         0.144270\n",
       "answer_relevance                         0.177273\n",
       "answer_satisfaction                      0.334822\n",
       "answer_type_instructions                 0.757453\n",
       "answer_type_procedure                    0.311338\n",
       "answer_type_reason_explanation           0.670989\n",
       "answer_well_written                      0.199110\n",
       "dtype: float64"
      ]
     },
     "execution_count": 21,
     "metadata": {},
     "output_type": "execute_result"
    }
   ],
   "source": [
    "rs = pd.Series({col: spearmanr(oofs[:,i], y[:,i])[0] for i, col in enumerate(TARGETS)})\n",
    "rs"
   ]
  },
  {
   "cell_type": "code",
   "execution_count": 22,
   "metadata": {},
   "outputs": [
    {
     "data": {
      "text/html": [
       "<div>\n",
       "<style scoped>\n",
       "    .dataframe tbody tr th:only-of-type {\n",
       "        vertical-align: middle;\n",
       "    }\n",
       "\n",
       "    .dataframe tbody tr th {\n",
       "        vertical-align: top;\n",
       "    }\n",
       "\n",
       "    .dataframe thead th {\n",
       "        text-align: right;\n",
       "    }\n",
       "</style>\n",
       "<table border=\"1\" class=\"dataframe\">\n",
       "  <thead>\n",
       "    <tr style=\"text-align: right;\">\n",
       "      <th></th>\n",
       "      <th>SpearmanCorr</th>\n",
       "      <th>NUnique</th>\n",
       "    </tr>\n",
       "  </thead>\n",
       "  <tbody>\n",
       "    <tr>\n",
       "      <th>question_type_spelling</th>\n",
       "      <td>0.045935</td>\n",
       "      <td>3.0</td>\n",
       "    </tr>\n",
       "    <tr>\n",
       "      <th>question_not_really_a_question</th>\n",
       "      <td>0.084058</td>\n",
       "      <td>5.0</td>\n",
       "    </tr>\n",
       "    <tr>\n",
       "      <th>answer_plausible</th>\n",
       "      <td>0.144270</td>\n",
       "      <td>9.0</td>\n",
       "    </tr>\n",
       "    <tr>\n",
       "      <th>answer_relevance</th>\n",
       "      <td>0.177273</td>\n",
       "      <td>9.0</td>\n",
       "    </tr>\n",
       "    <tr>\n",
       "      <th>question_type_consequence</th>\n",
       "      <td>0.183746</td>\n",
       "      <td>5.0</td>\n",
       "    </tr>\n",
       "    <tr>\n",
       "      <th>answer_well_written</th>\n",
       "      <td>0.199110</td>\n",
       "      <td>9.0</td>\n",
       "    </tr>\n",
       "    <tr>\n",
       "      <th>answer_helpful</th>\n",
       "      <td>0.235770</td>\n",
       "      <td>9.0</td>\n",
       "    </tr>\n",
       "    <tr>\n",
       "      <th>question_expect_short_answer</th>\n",
       "      <td>0.298952</td>\n",
       "      <td>5.0</td>\n",
       "    </tr>\n",
       "    <tr>\n",
       "      <th>answer_type_procedure</th>\n",
       "      <td>0.311338</td>\n",
       "      <td>5.0</td>\n",
       "    </tr>\n",
       "    <tr>\n",
       "      <th>answer_satisfaction</th>\n",
       "      <td>0.334822</td>\n",
       "      <td>17.0</td>\n",
       "    </tr>\n",
       "    <tr>\n",
       "      <th>question_fact_seeking</th>\n",
       "      <td>0.351951</td>\n",
       "      <td>5.0</td>\n",
       "    </tr>\n",
       "    <tr>\n",
       "      <th>question_type_procedure</th>\n",
       "      <td>0.358746</td>\n",
       "      <td>5.0</td>\n",
       "    </tr>\n",
       "    <tr>\n",
       "      <th>question_type_compare</th>\n",
       "      <td>0.359985</td>\n",
       "      <td>5.0</td>\n",
       "    </tr>\n",
       "    <tr>\n",
       "      <th>question_interestingness_others</th>\n",
       "      <td>0.360027</td>\n",
       "      <td>9.0</td>\n",
       "    </tr>\n",
       "    <tr>\n",
       "      <th>question_type_definition</th>\n",
       "      <td>0.364766</td>\n",
       "      <td>5.0</td>\n",
       "    </tr>\n",
       "    <tr>\n",
       "      <th>question_asker_intent_understanding</th>\n",
       "      <td>0.381294</td>\n",
       "      <td>9.0</td>\n",
       "    </tr>\n",
       "    <tr>\n",
       "      <th>question_conversational</th>\n",
       "      <td>0.408369</td>\n",
       "      <td>5.0</td>\n",
       "    </tr>\n",
       "    <tr>\n",
       "      <th>question_has_commonly_accepted_answer</th>\n",
       "      <td>0.424967</td>\n",
       "      <td>5.0</td>\n",
       "    </tr>\n",
       "    <tr>\n",
       "      <th>question_type_entity</th>\n",
       "      <td>0.432073</td>\n",
       "      <td>5.0</td>\n",
       "    </tr>\n",
       "    <tr>\n",
       "      <th>answer_level_of_information</th>\n",
       "      <td>0.438313</td>\n",
       "      <td>9.0</td>\n",
       "    </tr>\n",
       "    <tr>\n",
       "      <th>question_opinion_seeking</th>\n",
       "      <td>0.468895</td>\n",
       "      <td>5.0</td>\n",
       "    </tr>\n",
       "    <tr>\n",
       "      <th>question_interestingness_self</th>\n",
       "      <td>0.501207</td>\n",
       "      <td>9.0</td>\n",
       "    </tr>\n",
       "    <tr>\n",
       "      <th>question_well_written</th>\n",
       "      <td>0.503605</td>\n",
       "      <td>9.0</td>\n",
       "    </tr>\n",
       "    <tr>\n",
       "      <th>question_multi_intent</th>\n",
       "      <td>0.514576</td>\n",
       "      <td>5.0</td>\n",
       "    </tr>\n",
       "    <tr>\n",
       "      <th>question_body_critical</th>\n",
       "      <td>0.584536</td>\n",
       "      <td>9.0</td>\n",
       "    </tr>\n",
       "    <tr>\n",
       "      <th>question_type_reason_explanation</th>\n",
       "      <td>0.669104</td>\n",
       "      <td>5.0</td>\n",
       "    </tr>\n",
       "    <tr>\n",
       "      <th>answer_type_reason_explanation</th>\n",
       "      <td>0.670989</td>\n",
       "      <td>5.0</td>\n",
       "    </tr>\n",
       "    <tr>\n",
       "      <th>question_type_choice</th>\n",
       "      <td>0.721321</td>\n",
       "      <td>5.0</td>\n",
       "    </tr>\n",
       "    <tr>\n",
       "      <th>answer_type_instructions</th>\n",
       "      <td>0.757453</td>\n",
       "      <td>5.0</td>\n",
       "    </tr>\n",
       "    <tr>\n",
       "      <th>question_type_instructions</th>\n",
       "      <td>0.777632</td>\n",
       "      <td>5.0</td>\n",
       "    </tr>\n",
       "  </tbody>\n",
       "</table>\n",
       "</div>"
      ],
      "text/plain": [
       "                                       SpearmanCorr  NUnique\n",
       "question_type_spelling                     0.045935      3.0\n",
       "question_not_really_a_question             0.084058      5.0\n",
       "answer_plausible                           0.144270      9.0\n",
       "answer_relevance                           0.177273      9.0\n",
       "question_type_consequence                  0.183746      5.0\n",
       "answer_well_written                        0.199110      9.0\n",
       "answer_helpful                             0.235770      9.0\n",
       "question_expect_short_answer               0.298952      5.0\n",
       "answer_type_procedure                      0.311338      5.0\n",
       "answer_satisfaction                        0.334822     17.0\n",
       "question_fact_seeking                      0.351951      5.0\n",
       "question_type_procedure                    0.358746      5.0\n",
       "question_type_compare                      0.359985      5.0\n",
       "question_interestingness_others            0.360027      9.0\n",
       "question_type_definition                   0.364766      5.0\n",
       "question_asker_intent_understanding        0.381294      9.0\n",
       "question_conversational                    0.408369      5.0\n",
       "question_has_commonly_accepted_answer      0.424967      5.0\n",
       "question_type_entity                       0.432073      5.0\n",
       "answer_level_of_information                0.438313      9.0\n",
       "question_opinion_seeking                   0.468895      5.0\n",
       "question_interestingness_self              0.501207      9.0\n",
       "question_well_written                      0.503605      9.0\n",
       "question_multi_intent                      0.514576      5.0\n",
       "question_body_critical                     0.584536      9.0\n",
       "question_type_reason_explanation           0.669104      5.0\n",
       "answer_type_reason_explanation             0.670989      5.0\n",
       "question_type_choice                       0.721321      5.0\n",
       "answer_type_instructions                   0.757453      5.0\n",
       "question_type_instructions                 0.777632      5.0"
      ]
     },
     "execution_count": 22,
     "metadata": {},
     "output_type": "execute_result"
    }
   ],
   "source": [
    "rs_df = pd.DataFrame(np.vstack([rs.values.flatten(), train[TARGETS].nunique()]).T, \n",
    "                     columns=['SpearmanCorr', 'NUnique'], index=rs.index)\n",
    "rs_df.sort_values('SpearmanCorr', ascending=True)"
   ]
  },
  {
   "cell_type": "code",
   "execution_count": 23,
   "metadata": {},
   "outputs": [
    {
     "data": {
      "text/plain": [
       "Index(['question_type_spelling', 'question_not_really_a_question',\n",
       "       'answer_plausible', 'answer_relevance', 'question_type_consequence'],\n",
       "      dtype='object')"
      ]
     },
     "execution_count": 23,
     "metadata": {},
     "output_type": "execute_result"
    }
   ],
   "source": [
    "sorted_targets = rs_df.sort_values('SpearmanCorr', ascending=True).index\n",
    "worst_five_targets = sorted_targets[:5]\n",
    "worst_five_targets"
   ]
  },
  {
   "cell_type": "code",
   "execution_count": 24,
   "metadata": {
    "scrolled": true
   },
   "outputs": [
    {
     "data": {
      "image/png": "[encoded data removed]",
      "text/plain": [
       "<Figure size 432x288 with 1 Axes>"
      ]
     },
     "metadata": {
      "needs_background": "light"
     },
     "output_type": "display_data"
    },
    {
     "data": {
      "image/png": "[encoded data removed]",
      "text/plain": [
       "<Figure size 432x288 with 1 Axes>"
      ]
     },
     "metadata": {
      "needs_background": "light"
     },
     "output_type": "display_data"
    },
    {
     "data": {
      "image/png": "[encoded data removed]",
      "text/plain": [
       "<Figure size 432x288 with 1 Axes>"
      ]
     },
     "metadata": {
      "needs_background": "light"
     },
     "output_type": "display_data"
    },
    {
     "data": {
      "image/png": "[encoded data removed]",
      "text/plain": [
       "<Figure size 432x288 with 1 Axes>"
      ]
     },
     "metadata": {
      "needs_background": "light"
     },
     "output_type": "display_data"
    },
    {
     "data": {
      "image/png": "[encoded data removed]",
      "text/plain": [
       "<Figure size 432x288 with 1 Axes>"
      ]
     },
     "metadata": {
      "needs_background": "light"
     },
     "output_type": "display_data"
    }
   ],
   "source": [
    "for col in worst_five_targets:\n",
    "    plt.figure()\n",
    "    train[col].hist()\n",
    "    plt.title(f'{col} {np.round(rs[col],3)}')"
   ]
  },
  {
   "cell_type": "code",
   "execution_count": 25,
   "metadata": {},
   "outputs": [
    {
     "name": "stderr",
     "output_type": "stream",
     "text": [
      "/home/robin/anaconda3/envs/GoogleQuest/lib/python3.7/site-packages/ipykernel_launcher.py:2: RuntimeWarning: More than 20 figures have been opened. Figures created through the pyplot interface (`matplotlib.pyplot.figure`) are retained until explicitly closed and may consume too much memory. (To control this warning, see the rcParam `figure.max_open_warning`).\n",
      "  \n"
     ]
    },
    {
     "data": {
      "image/png": "[encoded data removed]",
      "text/plain": [
       "<Figure size 432x288 with 1 Axes>"
      ]
     },
     "metadata": {
      "needs_background": "light"
     },
     "output_type": "display_data"
    },
    {
     "data": {
      "image/png": "[encoded data removed]",
      "text/plain": [
       "<Figure size 432x288 with 1 Axes>"
      ]
     },
     "metadata": {
      "needs_background": "light"
     },
     "output_type": "display_data"
    },
    {
     "data": {
      "image/png": "[encoded data removed]",
      "text/plain": [
       "<Figure size 432x288 with 1 Axes>"
      ]
     },
     "metadata": {
      "needs_background": "light"
     },
     "output_type": "display_data"
    },
    {
     "data": {
      "image/png": "[encoded data removed]",
      "text/plain": [
       "<Figure size 432x288 with 1 Axes>"
      ]
     },
     "metadata": {
      "needs_background": "light"
     },
     "output_type": "display_data"
    },
    {
     "data": {
      "image/png": "[encoded data removed]",
      "text/plain": [
       "<Figure size 432x288 with 1 Axes>"
      ]
     },
     "metadata": {
      "needs_background": "light"
     },
     "output_type": "display_data"
    },
    {
     "data": {
      "image/png": "[encoded data removed]",
      "text/plain": [
       "<Figure size 432x288 with 1 Axes>"
      ]
     },
     "metadata": {
      "needs_background": "light"
     },
     "output_type": "display_data"
    },
    {
     "data": {
      "image/png": "[encoded data removed]",
      "text/plain": [
       "<Figure size 432x288 with 1 Axes>"
      ]
     },
     "metadata": {
      "needs_background": "light"
     },
     "output_type": "display_data"
    },
    {
     "data": {
      "image/png": "[encoded data removed]",
      "text/plain": [
       "<Figure size 432x288 with 1 Axes>"
      ]
     },
     "metadata": {
      "needs_background": "light"
     },
     "output_type": "display_data"
    },
    {
     "data": {
      "image/png": "[encoded data removed]",
      "text/plain": [
       "<Figure size 432x288 with 1 Axes>"
      ]
     },
     "metadata": {
      "needs_background": "light"
     },
     "output_type": "display_data"
    },
    {
     "data": {
      "image/png": "[encoded data removed]",
      "text/plain": [
       "<Figure size 432x288 with 1 Axes>"
      ]
     },
     "metadata": {
      "needs_background": "light"
     },
     "output_type": "display_data"
    },
    {
     "data": {
      "image/png": "[encoded data removed]",
      "text/plain": [
       "<Figure size 432x288 with 1 Axes>"
      ]
     },
     "metadata": {
      "needs_background": "light"
     },
     "output_type": "display_data"
    },
    {
     "data": {
      "image/png": "[encoded data removed]",
      "text/plain": [
       "<Figure size 432x288 with 1 Axes>"
      ]
     },
     "metadata": {
      "needs_background": "light"
     },
     "output_type": "display_data"
    },
    {
     "data": {
      "image/png": "[encoded data removed]",
      "text/plain": [
       "<Figure size 432x288 with 1 Axes>"
      ]
     },
     "metadata": {
      "needs_background": "light"
     },
     "output_type": "display_data"
    },
    {
     "data": {
      "image/png": "[encoded data removed]",
      "text/plain": [
       "<Figure size 432x288 with 1 Axes>"
      ]
     },
     "metadata": {
      "needs_background": "light"
     },
     "output_type": "display_data"
    },
    {
     "data": {
      "image/png": "[encoded data removed]",
      "text/plain": [
       "<Figure size 432x288 with 1 Axes>"
      ]
     },
     "metadata": {
      "needs_background": "light"
     },
     "output_type": "display_data"
    },
    {
     "data": {
      "image/png": "[encoded data removed]",
      "text/plain": [
       "<Figure size 432x288 with 1 Axes>"
      ]
     },
     "metadata": {
      "needs_background": "light"
     },
     "output_type": "display_data"
    },
    {
     "data": {
      "image/png": "[encoded data removed]",
      "text/plain": [
       "<Figure size 432x288 with 1 Axes>"
      ]
     },
     "metadata": {
      "needs_background": "light"
     },
     "output_type": "display_data"
    },
    {
     "data": {
      "image/png": "[encoded data removed]",
      "text/plain": [
       "<Figure size 432x288 with 1 Axes>"
      ]
     },
     "metadata": {
      "needs_background": "light"
     },
     "output_type": "display_data"
    },
    {
     "data": {
      "image/png": "[encoded data removed]",
      "text/plain": [
       "<Figure size 432x288 with 1 Axes>"
      ]
     },
     "metadata": {
      "needs_background": "light"
     },
     "output_type": "display_data"
    },
    {
     "data": {
      "image/png": "[encoded data removed]",
      "text/plain": [
       "<Figure size 432x288 with 1 Axes>"
      ]
     },
     "metadata": {
      "needs_background": "light"
     },
     "output_type": "display_data"
    },
    {
     "data": {
      "image/png": "[encoded data removed]",
      "text/plain": [
       "<Figure size 432x288 with 1 Axes>"
      ]
     },
     "metadata": {
      "needs_background": "light"
     },
     "output_type": "display_data"
    },
    {
     "data": {
      "image/png": "[encoded data removed]",
      "text/plain": [
       "<Figure size 432x288 with 1 Axes>"
      ]
     },
     "metadata": {
      "needs_background": "light"
     },
     "output_type": "display_data"
    },
    {
     "data": {
      "image/png": "[encoded data removed]",
      "text/plain": [
       "<Figure size 432x288 with 1 Axes>"
      ]
     },
     "metadata": {
      "needs_background": "light"
     },
     "output_type": "display_data"
    },
    {
     "data": {
      "image/png": "[encoded data removed]",
      "text/plain": [
       "<Figure size 432x288 with 1 Axes>"
      ]
     },
     "metadata": {
      "needs_background": "light"
     },
     "output_type": "display_data"
    },
    {
     "data": {
      "image/png": "[encoded data removed]",
      "text/plain": [
       "<Figure size 432x288 with 1 Axes>"
      ]
     },
     "metadata": {
      "needs_background": "light"
     },
     "output_type": "display_data"
    }
   ],
   "source": [
    "for col in [target for target in sorted_targets if target not in worst_five_targets]:\n",
    "    plt.figure()\n",
    "    train[col].hist()\n",
    "    plt.title(f'{col} {np.round(rs[col],3)}')"
   ]
  },
  {
   "cell_type": "code",
   "execution_count": null,
   "metadata": {},
   "outputs": [],
   "source": []
  }
 ],
 "metadata": {
  "kernelspec": {
   "display_name": "Python 3",
   "language": "python",
   "name": "python3"
  },
  "language_info": {
   "codemirror_mode": {
    "name": "ipython",
    "version": 3
   },
   "file_extension": ".py",
   "mimetype": "text/x-python",
   "name": "python",
   "nbconvert_exporter": "python",
   "pygments_lexer": "ipython3",
   "version": "3.7.5"
  }
 },
 "nbformat": 4,
 "nbformat_minor": 1
}
