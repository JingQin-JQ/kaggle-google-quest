{
 "cells": [
  {
   "cell_type": "code",
   "execution_count": 1,
   "metadata": {},
   "outputs": [],
   "source": [
    "import pandas as pd\n",
    "import numpy as np\n",
    "import matplotlib.pyplot as plt\n",
    "from losses_metrics import *\n",
    "from common import *"
   ]
  },
  {
   "cell_type": "code",
   "execution_count": 2,
   "metadata": {},
   "outputs": [],
   "source": [
    "train = pd.read_csv(f'data/train.csv')\n",
    "y = train[TARGETS].values\n",
    "ix = np.where(train.groupby(\"question_body\")[\"host\"].transform(\"count\") == 1)[0]"
   ]
  },
  {
   "cell_type": "code",
   "execution_count": 3,
   "metadata": {},
   "outputs": [],
   "source": [
    "oofs2 = pd.read_csv('oofs/siamese_bert_2_oofs.csv', index_col=0).values\n",
    "oofs3 = pd.read_csv('oofs/siamese_bert_3_oofs.csv', index_col=0).values"
   ]
  },
  {
   "cell_type": "code",
   "execution_count": 4,
   "metadata": {},
   "outputs": [],
   "source": [
    "def print_cvs(oofs, y):\n",
    "    spearmanrs = [\n",
    "        spearmanr_np(oofs, y),\n",
    "        spearmanr_np(oofs, y, ix=ix),\n",
    "        spearmanr_np(oofs, y, ignore_hard_targets=True),\n",
    "        spearmanr_np(oofs, y, ix=ix, ignore_hard_targets=True),\n",
    "        spearmanr_np(oofs, y, optimized_rounding=True),\n",
    "        spearmanr_np(oofs, y, ix=ix, optimized_rounding=True),\n",
    "        spearmanr_np(oofs, y, ignore_hard_targets=True, optimized_rounding=True),\n",
    "        spearmanr_np(oofs, y, ix=ix, ignore_hard_targets=True, optimized_rounding=True)\n",
    "    ]\n",
    "    index = [\n",
    "        'CV',\n",
    "        'CV unique rows',\n",
    "        'CV ignoring hard targets',\n",
    "        'CV unique rows ignoring hard targets',\n",
    "        'CV w rounding',\n",
    "        'CV unique rows w rounding',\n",
    "        'CV ignoring hard targets w rounding',\n",
    "        'CV unique rows ignoring hard targets w rounding'\n",
    "    ]\n",
    "    print(pd.DataFrame(spearmanrs, index=index, columns=['SpearmanR']))"
   ]
  },
  {
   "cell_type": "code",
   "execution_count": 5,
   "metadata": {
    "scrolled": true
   },
   "outputs": [
    {
     "name": "stdout",
     "output_type": "stream",
     "text": [
      "                                                 SpearmanR\n",
      "CV                                                0.407278\n",
      "CV unique rows                                    0.371782\n",
      "CV ignoring hard targets                          0.431038\n",
      "CV unique rows ignoring hard targets              0.392546\n",
      "CV w rounding                                     0.448776\n",
      "CV unique rows w rounding                         0.425617\n",
      "CV ignoring hard targets w rounding               0.457380\n",
      "CV unique rows ignoring hard targets w rounding   0.422186\n"
     ]
    }
   ],
   "source": [
    "print_cvs(oofs2, y)"
   ]
  },
  {
   "cell_type": "code",
   "execution_count": 6,
   "metadata": {},
   "outputs": [
    {
     "name": "stdout",
     "output_type": "stream",
     "text": [
      "                                                 SpearmanR\n",
      "CV                                                0.410318\n",
      "CV unique rows                                    0.374227\n",
      "CV ignoring hard targets                          0.433832\n",
      "CV unique rows ignoring hard targets              0.394997\n",
      "CV w rounding                                     0.443676\n",
      "CV unique rows w rounding                         0.417825\n",
      "CV ignoring hard targets w rounding               0.458653\n",
      "CV unique rows ignoring hard targets w rounding   0.423919\n"
     ]
    }
   ],
   "source": [
    "print_cvs(oofs3, y)"
   ]
  },
  {
   "cell_type": "code",
   "execution_count": 7,
   "metadata": {},
   "outputs": [
    {
     "name": "stderr",
     "output_type": "stream",
     "text": [
      "/anaconda2/envs/MaxPlanck/lib/python3.7/site-packages/numpy/lib/function_base.py:2534: RuntimeWarning: invalid value encountered in true_divide\n",
      "  c /= stddev[:, None]\n",
      "/anaconda2/envs/MaxPlanck/lib/python3.7/site-packages/numpy/lib/function_base.py:2535: RuntimeWarning: invalid value encountered in true_divide\n",
      "  c /= stddev[None, :]\n",
      "/anaconda2/envs/MaxPlanck/lib/python3.7/site-packages/scipy/stats/_distn_infrastructure.py:901: RuntimeWarning: invalid value encountered in greater\n",
      "  return (a < x) & (x < b)\n",
      "/anaconda2/envs/MaxPlanck/lib/python3.7/site-packages/scipy/stats/_distn_infrastructure.py:901: RuntimeWarning: invalid value encountered in less\n",
      "  return (a < x) & (x < b)\n",
      "/anaconda2/envs/MaxPlanck/lib/python3.7/site-packages/scipy/stats/_distn_infrastructure.py:1892: RuntimeWarning: invalid value encountered in less_equal\n",
      "  cond2 = cond0 & (x <= _a)\n"
     ]
    },
    {
     "name": "stdout",
     "output_type": "stream",
     "text": [
      "                                                 SpearmanR\n",
      "CV                                                0.412118\n",
      "CV unique rows                                    0.375994\n",
      "CV ignoring hard targets                          0.435919\n",
      "CV unique rows ignoring hard targets              0.396939\n",
      "CV w rounding                                     0.447414\n",
      "CV unique rows w rounding                         0.426596\n",
      "CV ignoring hard targets w rounding               0.461039\n",
      "CV unique rows ignoring hard targets w rounding   0.426630\n"
     ]
    }
   ],
   "source": [
    "print_cvs((oofs2+oofs3)/2, y)"
   ]
  },
  {
   "cell_type": "code",
   "execution_count": null,
   "metadata": {},
   "outputs": [],
   "source": []
  }
 ],
 "metadata": {
  "kernelspec": {
   "display_name": "Python 3",
   "language": "python",
   "name": "python3"
  },
  "language_info": {
   "codemirror_mode": {
    "name": "ipython",
    "version": 3
   },
   "file_extension": ".py",
   "mimetype": "text/x-python",
   "name": "python",
   "nbconvert_exporter": "python",
   "pygments_lexer": "ipython3",
   "version": "3.7.4"
  }
 },
 "nbformat": 4,
 "nbformat_minor": 2
}
