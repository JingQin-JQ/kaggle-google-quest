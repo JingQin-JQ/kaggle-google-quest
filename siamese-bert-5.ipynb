{
 "cells": [
  {
   "cell_type": "markdown",
   "metadata": {},
   "source": [
    "## Importing libraries"
   ]
  },
  {
   "cell_type": "code",
   "execution_count": 1,
   "metadata": {
    "_kg_hide-input": true
   },
   "outputs": [],
   "source": [
    "import numpy as np\n",
    "import pandas as pd\n",
    "import matplotlib.pyplot as plt\n",
    "import seaborn as sns\n",
    "import time\n",
    "import datetime\n",
    "import re\n",
    "import gc\n",
    "import copy\n",
    "\n",
    "from sklearn.model_selection import KFold, GroupKFold\n",
    "from sklearn.preprocessing import OneHotEncoder, MinMaxScaler\n",
    "\n",
    "import torch\n",
    "import torch.nn as nn\n",
    "import torch.optim as optim\n",
    "import torch.nn.functional as F\n",
    "from torch.utils.data import DataLoader\n",
    "\n",
    "from tqdm import tqdm_notebook as tqdm\n",
    "from transformers import DistilBertTokenizer, BertTokenizer\n",
    "import transformers\n",
    "\n",
    "from radam import RAdam\n",
    "from text_data import TextDataset5\n",
    "from bert import CustomBert3\n",
    "from multilabel_cross_fold import MultilabelStratifiedKFold\n",
    "from learning import Learner\n",
    "from lr_finder import LRFinder\n",
    "from one_cycle import OneCycleLR\n",
    "from text_cleaning import clean_data\n",
    "from create_features import get_categorical_features\n",
    "from losses_metrics import spearmanr_torch, spearmanr_np\n",
    "from inference import infer\n",
    "from eda import eda\n",
    "from common import *\n",
    "from utils.helpers import init_logger, init_seed\n",
    "\n",
    "%matplotlib inline\n",
    "pd.set_option('max_colwidth',400)"
   ]
  },
  {
   "cell_type": "markdown",
   "metadata": {},
   "source": [
    "## Loading and preparing data"
   ]
  },
  {
   "cell_type": "code",
   "execution_count": 2,
   "metadata": {
    "_cell_guid": "b1076dfc-b9ad-4769-8c92-a6c4dae69d19",
    "_uuid": "8f2839f25d086af736a60e9eeb907d3b93b6e0e5"
   },
   "outputs": [],
   "source": [
    "pd.set_option('max_rows', 500)\n",
    "pd.set_option('max_columns', 500)\n",
    "path = 'data/'\n",
    "sample_submission = pd.read_csv(f'{path}sample_submission.csv')\n",
    "test = pd.read_csv(f'{path}test.csv').fillna(' ')\n",
    "train = pd.read_csv(f'{path}train.csv').fillna(' ')"
   ]
  },
  {
   "cell_type": "code",
   "execution_count": 3,
   "metadata": {},
   "outputs": [
    {
     "name": "stderr",
     "output_type": "stream",
     "text": [
      "/home/robin/anaconda3/envs/GoogleQuest/lib/python3.7/site-packages/ipykernel_launcher.py:10: TqdmDeprecationWarning: This function will be removed in tqdm==5.0.0\n",
      "Please use `tqdm.notebook.tqdm` instead of `tqdm.tqdm_notebook`\n",
      "  # Remove the CWD from sys.path while we load stuff.\n"
     ]
    },
    {
     "data": {
      "application/vnd.jupyter.widget-view+json": {
       "model_id": "1ee2f4cf84f4464886c4423e32ee3d1a",
       "version_major": 2,
       "version_minor": 0
      },
      "text/plain": [
       "HBox(children=(IntProgress(value=0, max=6079), HTML(value='')))"
      ]
     },
     "metadata": {},
     "output_type": "display_data"
    },
    {
     "name": "stdout",
     "output_type": "stream",
     "text": [
      "\n"
     ]
    },
    {
     "data": {
      "application/vnd.jupyter.widget-view+json": {
       "model_id": "9ffda440df484c3b9adae3fff0a4b18c",
       "version_major": 2,
       "version_minor": 0
      },
      "text/plain": [
       "HBox(children=(IntProgress(value=0, max=6079), HTML(value='')))"
      ]
     },
     "metadata": {},
     "output_type": "display_data"
    },
    {
     "name": "stdout",
     "output_type": "stream",
     "text": [
      "\n"
     ]
    },
    {
     "data": {
      "application/vnd.jupyter.widget-view+json": {
       "model_id": "2fa67f183c274750999b361da73c080e",
       "version_major": 2,
       "version_minor": 0
      },
      "text/plain": [
       "HBox(children=(IntProgress(value=0, max=476), HTML(value='')))"
      ]
     },
     "metadata": {},
     "output_type": "display_data"
    },
    {
     "name": "stdout",
     "output_type": "stream",
     "text": [
      "\n"
     ]
    },
    {
     "data": {
      "application/vnd.jupyter.widget-view+json": {
       "model_id": "0a56cbe634e1465cbcd9b328e7d0cc84",
       "version_major": 2,
       "version_minor": 0
      },
      "text/plain": [
       "HBox(children=(IntProgress(value=0, max=476), HTML(value='')))"
      ]
     },
     "metadata": {},
     "output_type": "display_data"
    },
    {
     "name": "stdout",
     "output_type": "stream",
     "text": [
      "\n",
      "CPU times: user 32.3 s, sys: 230 ms, total: 32.6 s\n",
      "Wall time: 32.7 s\n"
     ]
    }
   ],
   "source": [
    "%%time\n",
    "# tokenizer = DistilBertTokenizer.from_pretrained('distilbert-base-uncased')\n",
    "tokenizer = BertTokenizer.from_pretrained('bert-base-uncased')\n",
    "seg_ids_train, ids_train = {}, {}\n",
    "seg_ids_test, ids_test = {}, {}\n",
    "max_seq_len = 512\n",
    "for mode, df in [('train', train), ('test', test)]:\n",
    "    for text, cols in [('question', ['question_title', 'question_body']), \n",
    "                       ('answer', ['question_title', 'answer'])]:\n",
    "        ids, seg_ids = [], []\n",
    "        for x1, x2 in tqdm(df[cols].values):\n",
    "            encoded_inputs = tokenizer.encode_plus(\n",
    "                x1, x2, add_special_tokens=True, max_length=max_seq_len, pad_to_max_length=True, \n",
    "                return_token_type_ids=True\n",
    "            )\n",
    "            ids.append(encoded_inputs['input_ids'])\n",
    "            seg_ids.append(encoded_inputs['token_type_ids'])\n",
    "        if mode == 'train': \n",
    "            ids_train[text] = np.array(ids)\n",
    "            seg_ids_train[text] = np.array(seg_ids)\n",
    "        else: \n",
    "            ids_test[text] = np.array(ids)\n",
    "            seg_ids_test[text] = np.array(seg_ids)"
   ]
  },
  {
   "cell_type": "code",
   "execution_count": 4,
   "metadata": {
    "code_folding": []
   },
   "outputs": [],
   "source": [
    "train_host, test_host, host_dict, host_dict_reverse = get_categorical_features(train, test, 'host')\n",
    "train_category, test_category, category_dict, category_dict_reverse = \\\n",
    "    get_categorical_features(train, test, 'category')"
   ]
  },
  {
   "cell_type": "code",
   "execution_count": 5,
   "metadata": {},
   "outputs": [
    {
     "name": "stderr",
     "output_type": "stream",
     "text": [
      "/home/robin/anaconda3/envs/GoogleQuest/lib/python3.7/site-packages/sklearn/preprocessing/_encoders.py:415: FutureWarning: The handling of integer data will change in version 0.22. Currently, the categories are determined based on the range [0, max(values)], while in the future they will be determined based on the unique values.\n",
      "If you want the future behaviour and silence this warning, you can specify \"categories='auto'\".\n",
      "In case you used a LabelEncoder before this OneHotEncoder to convert the categories to integers, then you can now use the OneHotEncoder directly.\n",
      "  warnings.warn(msg, FutureWarning)\n"
     ]
    }
   ],
   "source": [
    "cat_features_train = np.hstack([train_host.reshape(-1, 1), train_category.reshape(-1, 1)])\n",
    "cat_features_test = np.hstack([test_host.reshape(-1, 1), test_category.reshape(-1, 1)])\n",
    "ohe = OneHotEncoder()\n",
    "ohe.fit(cat_features_train)\n",
    "cat_features_train = ohe.transform(cat_features_train).toarray()\n",
    "cat_features_test = ohe.transform(cat_features_test).toarray()"
   ]
  },
  {
   "cell_type": "code",
   "execution_count": 6,
   "metadata": {},
   "outputs": [],
   "source": [
    "n_raters = train[TARGETS].nunique().map({9: 12, 17: 20, 5: 5, 3: 3})\n",
    "ses = (((train[TARGETS]*(1 - train[TARGETS])) / n_raters) **.5).values"
   ]
  },
  {
   "cell_type": "code",
   "execution_count": 7,
   "metadata": {},
   "outputs": [],
   "source": [
    "# for col in TARGETS:\n",
    "#     train[col] = train[col].rank(method=\"average\")\n",
    "# train[TARGETS] = MinMaxScaler().fit_transform(train[TARGETS])\n",
    "y = train[TARGETS].values.astype(np.float32)"
   ]
  },
  {
   "cell_type": "code",
   "execution_count": 8,
   "metadata": {},
   "outputs": [],
   "source": [
    "num_workers = 10\n",
    "bs = 2\n",
    "TextDataset = TextDataset5"
   ]
  },
  {
   "cell_type": "code",
   "execution_count": 9,
   "metadata": {},
   "outputs": [],
   "source": [
    "bs_test = 2\n",
    "test_loader = DataLoader(\n",
    "    TextDataset(cat_features_test, ids_test['question'], ids_test['answer'], \n",
    "                seg_ids_test['question'], seg_ids_test['answer'], test.index),\n",
    "    batch_size=bs_test, shuffle=False, num_workers=num_workers, drop_last=False\n",
    ")"
   ]
  },
  {
   "cell_type": "markdown",
   "metadata": {},
   "source": [
    "## Training model"
   ]
  },
  {
   "cell_type": "code",
   "execution_count": 10,
   "metadata": {},
   "outputs": [],
   "source": [
    "lr = 0.0005\n",
    "loss_fn = nn.BCEWithLogitsLoss()\n",
    "device = 'cuda'\n",
    "n_epochs = 4\n",
    "grad_accum = 4\n",
    "weight_decay = 0.01\n",
    "model_name = 'siamese_bert_5'\n",
    "checkpoint_dir = 'checkpoints/'\n",
    "early_stopping = None\n",
    "n_folds = 10\n",
    "p_aug = 0.0"
   ]
  },
  {
   "cell_type": "code",
   "execution_count": 11,
   "metadata": {},
   "outputs": [],
   "source": [
    "def get_optimizer_param_groups(model, lr, weight_decay):\n",
    "    no_decay = ['bias', 'LayerNorm.weight']\n",
    "    optimizer_grouped_parameters = [\n",
    "        {'params': [p for n, p in model.named_parameters() if not any(nd in n for nd in no_decay)], \n",
    "         'weight_decay': weight_decay, 'lr': lr},\n",
    "        {'params': [p for n, p in model.named_parameters() if any(nd in n for nd in no_decay)], \n",
    "         'weight_decay': 0.0, 'lr': lr}\n",
    "    ]\n",
    "    return optimizer_grouped_parameters\n",
    "\n",
    "\n",
    "def get_optimizer(model, lr, weight_decay):\n",
    "    return transformers.AdamW(\n",
    "        get_optimizer_param_groups(model.head, lr, weight_decay)\n",
    "        + get_optimizer_param_groups(model.bert, lr / 50, weight_decay)\n",
    "    )"
   ]
  },
  {
   "cell_type": "code",
   "execution_count": 12,
   "metadata": {
    "scrolled": true
   },
   "outputs": [
    {
     "name": "stdout",
     "output_type": "stream",
     "text": [
      "Fold 1 started at Wed Jan 15 07:46:33 2020\n"
     ]
    },
    {
     "data": {
      "application/vnd.jupyter.widget-view+json": {
       "model_id": "3fc7c07a61ec41ecb0a34f58f4861d7b",
       "version_major": 2,
       "version_minor": 0
      },
      "text/plain": [
       "HBox(children=(IntProgress(value=0, max=400), HTML(value='')))"
      ]
     },
     "metadata": {},
     "output_type": "display_data"
    },
    {
     "name": "stderr",
     "output_type": "stream",
     "text": [
      "/home/robin/anaconda3/envs/GoogleQuest/lib/python3.7/site-packages/torch/optim/lr_scheduler.py:100: UserWarning: Detected call of `lr_scheduler.step()` before `optimizer.step()`. In PyTorch 1.1.0 and later, you should call them in the opposite order: `optimizer.step()` before `lr_scheduler.step()`.  Failure to do this will result in PyTorch skipping the first value of the learning rate schedule.See more details at https://pytorch.org/docs/stable/optim.html#how-to-adjust-learning-rate\n",
      "  \"https://pytorch.org/docs/stable/optim.html#how-to-adjust-learning-rate\", UserWarning)\n"
     ]
    },
    {
     "data": {
      "image/png": "[encoded data removed]",
      "text/plain": [
       "<Figure size 432x288 with 1 Axes>"
      ]
     },
     "metadata": {
      "needs_background": "light"
     },
     "output_type": "display_data"
    },
    {
     "name": "stdout",
     "output_type": "stream",
     "text": [
      "epoch 0: \t Start training...\n"
     ]
    },
    {
     "data": {
      "application/vnd.jupyter.widget-view+json": {
       "model_id": "04ecf934def84daa821fea63069ae67a",
       "version_major": 2,
       "version_minor": 0
      },
      "text/plain": [
       "HBox(children=(IntProgress(value=0, max=2736), HTML(value='')))"
      ]
     },
     "metadata": {},
     "output_type": "display_data"
    },
    {
     "name": "stdout",
     "output_type": "stream",
     "text": [
      "\n",
      "epoch 0/4 \t train : loss 0.43463 - spearmanr 0.17045\n",
      "epoch 0: \t Start validation...\n"
     ]
    },
    {
     "data": {
      "application/vnd.jupyter.widget-view+json": {
       "model_id": "020674b919ff49469e0d127b89095779",
       "version_major": 2,
       "version_minor": 0
      },
      "text/plain": [
       "HBox(children=(IntProgress(value=0, max=304), HTML(value='')))"
      ]
     },
     "metadata": {},
     "output_type": "display_data"
    },
    {
     "name": "stdout",
     "output_type": "stream",
     "text": [
      "\n",
      "epoch 0/4 \t valid : loss 0.3833 - spearmanr 0.36641\n"
     ]
    },
    {
     "name": "stderr",
     "output_type": "stream",
     "text": [
      "/home/robin/anaconda3/envs/GoogleQuest/lib/python3.7/site-packages/numpy/lib/function_base.py:2534: RuntimeWarning: invalid value encountered in true_divide\n",
      "  c /= stddev[:, None]\n",
      "/home/robin/anaconda3/envs/GoogleQuest/lib/python3.7/site-packages/numpy/lib/function_base.py:2535: RuntimeWarning: invalid value encountered in true_divide\n",
      "  c /= stddev[None, :]\n",
      "/home/robin/anaconda3/envs/GoogleQuest/lib/python3.7/site-packages/scipy/stats/_distn_infrastructure.py:901: RuntimeWarning: invalid value encountered in greater\n",
      "  return (a < x) & (x < b)\n",
      "/home/robin/anaconda3/envs/GoogleQuest/lib/python3.7/site-packages/scipy/stats/_distn_infrastructure.py:901: RuntimeWarning: invalid value encountered in less\n",
      "  return (a < x) & (x < b)\n",
      "/home/robin/anaconda3/envs/GoogleQuest/lib/python3.7/site-packages/scipy/stats/_distn_infrastructure.py:1892: RuntimeWarning: invalid value encountered in less_equal\n",
      "  cond2 = cond0 & (x <= _a)\n"
     ]
    },
    {
     "name": "stdout",
     "output_type": "stream",
     "text": [
      "best model: epoch 0 - 0.36641\n",
      "epoch 1: \t Start training...\n"
     ]
    },
    {
     "data": {
      "application/vnd.jupyter.widget-view+json": {
       "model_id": "af9e16e9b8c044c2ad5d2a63685632cc",
       "version_major": 2,
       "version_minor": 0
      },
      "text/plain": [
       "HBox(children=(IntProgress(value=0, max=2736), HTML(value='')))"
      ]
     },
     "metadata": {},
     "output_type": "display_data"
    },
    {
     "name": "stdout",
     "output_type": "stream",
     "text": [
      "\n",
      "epoch 1/4 \t train : loss 0.37173 - spearmanr 0.33819\n",
      "epoch 1: \t Start validation...\n"
     ]
    },
    {
     "data": {
      "application/vnd.jupyter.widget-view+json": {
       "model_id": "0688b89085814727939891eac070c27c",
       "version_major": 2,
       "version_minor": 0
      },
      "text/plain": [
       "HBox(children=(IntProgress(value=0, max=304), HTML(value='')))"
      ]
     },
     "metadata": {},
     "output_type": "display_data"
    },
    {
     "name": "stdout",
     "output_type": "stream",
     "text": [
      "\n",
      "epoch 1/4 \t valid : loss 0.36594 - spearmanr 0.40115\n",
      "best model: epoch 1 - 0.40115\n",
      "epoch 2: \t Start training...\n"
     ]
    },
    {
     "data": {
      "application/vnd.jupyter.widget-view+json": {
       "model_id": "2d844784ed4743a894f342efc150af79",
       "version_major": 2,
       "version_minor": 0
      },
      "text/plain": [
       "HBox(children=(IntProgress(value=0, max=2736), HTML(value='')))"
      ]
     },
     "metadata": {},
     "output_type": "display_data"
    },
    {
     "name": "stdout",
     "output_type": "stream",
     "text": [
      "\n",
      "epoch 2/4 \t train : loss 0.35548 - spearmanr 0.39449\n",
      "epoch 2: \t Start validation...\n"
     ]
    },
    {
     "data": {
      "application/vnd.jupyter.widget-view+json": {
       "model_id": "54049180986a42aebc2842d366ac6a44",
       "version_major": 2,
       "version_minor": 0
      },
      "text/plain": [
       "HBox(children=(IntProgress(value=0, max=304), HTML(value='')))"
      ]
     },
     "metadata": {},
     "output_type": "display_data"
    },
    {
     "name": "stdout",
     "output_type": "stream",
     "text": [
      "\n",
      "epoch 2/4 \t valid : loss 0.36206 - spearmanr 0.41053\n",
      "best model: epoch 2 - 0.41053\n",
      "epoch 3: \t Start training...\n"
     ]
    },
    {
     "data": {
      "application/vnd.jupyter.widget-view+json": {
       "model_id": "bc6f985612004dc6a599963ef6dca03c",
       "version_major": 2,
       "version_minor": 0
      },
      "text/plain": [
       "HBox(children=(IntProgress(value=0, max=2736), HTML(value='')))"
      ]
     },
     "metadata": {},
     "output_type": "display_data"
    },
    {
     "name": "stdout",
     "output_type": "stream",
     "text": [
      "\n",
      "epoch 3/4 \t train : loss 0.34507 - spearmanr 0.4331\n",
      "epoch 3: \t Start validation...\n"
     ]
    },
    {
     "data": {
      "application/vnd.jupyter.widget-view+json": {
       "model_id": "ea3eb15ec1214a4ba03b837473084a78",
       "version_major": 2,
       "version_minor": 0
      },
      "text/plain": [
       "HBox(children=(IntProgress(value=0, max=304), HTML(value='')))"
      ]
     },
     "metadata": {},
     "output_type": "display_data"
    },
    {
     "name": "stdout",
     "output_type": "stream",
     "text": [
      "\n",
      "epoch 3/4 \t valid : loss 0.36029 - spearmanr 0.41532\n",
      "best model: epoch 3 - 0.41532\n",
      "TRAINING END: Best score achieved on epoch 3 - 0.41532\n",
      "Starting inference for model: checkpoints/siamese_bert_5_fold_1_best.pth\n"
     ]
    },
    {
     "data": {
      "application/vnd.jupyter.widget-view+json": {
       "model_id": "58c791c5b58646aaace12700c6453ec0",
       "version_major": 2,
       "version_minor": 0
      },
      "text/plain": [
       "HBox(children=(IntProgress(value=0, max=304), HTML(value='')))"
      ]
     },
     "metadata": {},
     "output_type": "display_data"
    },
    {
     "name": "stdout",
     "output_type": "stream",
     "text": [
      "\n",
      "Starting inference for model: checkpoints/siamese_bert_5_fold_1_best.pth\n"
     ]
    },
    {
     "data": {
      "application/vnd.jupyter.widget-view+json": {
       "model_id": "6af3c65b5a3647ef856ea70223e5cd72",
       "version_major": 2,
       "version_minor": 0
      },
      "text/plain": [
       "HBox(children=(IntProgress(value=0, max=238), HTML(value='')))"
      ]
     },
     "metadata": {},
     "output_type": "display_data"
    },
    {
     "name": "stdout",
     "output_type": "stream",
     "text": [
      "\n",
      "Fold 2 started at Wed Jan 15 08:26:11 2020\n",
      "epoch 0: \t Start training...\n"
     ]
    },
    {
     "data": {
      "application/vnd.jupyter.widget-view+json": {
       "model_id": "9c101303de1c4cf0a8ede664ec73efce",
       "version_major": 2,
       "version_minor": 0
      },
      "text/plain": [
       "HBox(children=(IntProgress(value=0, max=2736), HTML(value='')))"
      ]
     },
     "metadata": {},
     "output_type": "display_data"
    },
    {
     "name": "stdout",
     "output_type": "stream",
     "text": [
      "\n",
      "epoch 0/4 \t train : loss 0.4321 - spearmanr 0.17166\n",
      "epoch 0: \t Start validation...\n"
     ]
    },
    {
     "data": {
      "application/vnd.jupyter.widget-view+json": {
       "model_id": "449ea56a641543909e1e4971bdc5cf1e",
       "version_major": 2,
       "version_minor": 0
      },
      "text/plain": [
       "HBox(children=(IntProgress(value=0, max=304), HTML(value='')))"
      ]
     },
     "metadata": {},
     "output_type": "display_data"
    },
    {
     "name": "stdout",
     "output_type": "stream",
     "text": [
      "\n",
      "epoch 0/4 \t valid : loss 0.38489 - spearmanr 0.36914\n",
      "best model: epoch 0 - 0.36914\n",
      "epoch 1: \t Start training...\n"
     ]
    },
    {
     "data": {
      "application/vnd.jupyter.widget-view+json": {
       "model_id": "75dbb43d35ea48b3995bbdb28862682c",
       "version_major": 2,
       "version_minor": 0
      },
      "text/plain": [
       "HBox(children=(IntProgress(value=0, max=2736), HTML(value='')))"
      ]
     },
     "metadata": {},
     "output_type": "display_data"
    },
    {
     "name": "stdout",
     "output_type": "stream",
     "text": [
      "\n",
      "epoch 1/4 \t train : loss 0.37182 - spearmanr 0.33831\n",
      "epoch 1: \t Start validation...\n"
     ]
    },
    {
     "data": {
      "application/vnd.jupyter.widget-view+json": {
       "model_id": "3b1796d2597e428e83e7b4506a5a0151",
       "version_major": 2,
       "version_minor": 0
      },
      "text/plain": [
       "HBox(children=(IntProgress(value=0, max=304), HTML(value='')))"
      ]
     },
     "metadata": {},
     "output_type": "display_data"
    },
    {
     "name": "stdout",
     "output_type": "stream",
     "text": [
      "\n",
      "epoch 1/4 \t valid : loss 0.36974 - spearmanr 0.39956\n",
      "best model: epoch 1 - 0.39956\n",
      "epoch 2: \t Start training...\n"
     ]
    },
    {
     "data": {
      "application/vnd.jupyter.widget-view+json": {
       "model_id": "5c8c83710e8a467b88434bd6bc159350",
       "version_major": 2,
       "version_minor": 0
      },
      "text/plain": [
       "HBox(children=(IntProgress(value=0, max=2736), HTML(value='')))"
      ]
     },
     "metadata": {},
     "output_type": "display_data"
    },
    {
     "name": "stdout",
     "output_type": "stream",
     "text": [
      "\n",
      "epoch 2/4 \t train : loss 0.35569 - spearmanr 0.39443\n",
      "epoch 2: \t Start validation...\n"
     ]
    },
    {
     "data": {
      "application/vnd.jupyter.widget-view+json": {
       "model_id": "6e4771a2aad5487a9c92463727e52ba1",
       "version_major": 2,
       "version_minor": 0
      },
      "text/plain": [
       "HBox(children=(IntProgress(value=0, max=304), HTML(value='')))"
      ]
     },
     "metadata": {},
     "output_type": "display_data"
    },
    {
     "name": "stdout",
     "output_type": "stream",
     "text": [
      "\n",
      "epoch 2/4 \t valid : loss 0.36553 - spearmanr 0.41262\n",
      "best model: epoch 2 - 0.41262\n",
      "epoch 3: \t Start training...\n"
     ]
    },
    {
     "data": {
      "application/vnd.jupyter.widget-view+json": {
       "model_id": "5d3b33aea6ac4f2ca6d75ff6b55d2fc2",
       "version_major": 2,
       "version_minor": 0
      },
      "text/plain": [
       "HBox(children=(IntProgress(value=0, max=2736), HTML(value='')))"
      ]
     },
     "metadata": {},
     "output_type": "display_data"
    },
    {
     "name": "stdout",
     "output_type": "stream",
     "text": [
      "\n",
      "epoch 3/4 \t train : loss 0.34497 - spearmanr 0.4334\n",
      "epoch 3: \t Start validation...\n"
     ]
    },
    {
     "data": {
      "application/vnd.jupyter.widget-view+json": {
       "model_id": "ba6496ab69f747b3b446175642e87aab",
       "version_major": 2,
       "version_minor": 0
      },
      "text/plain": [
       "HBox(children=(IntProgress(value=0, max=304), HTML(value='')))"
      ]
     },
     "metadata": {},
     "output_type": "display_data"
    },
    {
     "name": "stdout",
     "output_type": "stream",
     "text": [
      "\n",
      "epoch 3/4 \t valid : loss 0.36515 - spearmanr 0.41629\n",
      "best model: epoch 3 - 0.41629\n",
      "TRAINING END: Best score achieved on epoch 3 - 0.41629\n",
      "Starting inference for model: checkpoints/siamese_bert_5_fold_2_best.pth\n"
     ]
    },
    {
     "data": {
      "application/vnd.jupyter.widget-view+json": {
       "model_id": "7006852ea32143a6ad60541074c2413f",
       "version_major": 2,
       "version_minor": 0
      },
      "text/plain": [
       "HBox(children=(IntProgress(value=0, max=304), HTML(value='')))"
      ]
     },
     "metadata": {},
     "output_type": "display_data"
    },
    {
     "name": "stdout",
     "output_type": "stream",
     "text": [
      "\n",
      "Starting inference for model: checkpoints/siamese_bert_5_fold_2_best.pth\n"
     ]
    },
    {
     "data": {
      "application/vnd.jupyter.widget-view+json": {
       "model_id": "25cdcfcc9f1543c2b1b09f3e049ab440",
       "version_major": 2,
       "version_minor": 0
      },
      "text/plain": [
       "HBox(children=(IntProgress(value=0, max=238), HTML(value='')))"
      ]
     },
     "metadata": {},
     "output_type": "display_data"
    },
    {
     "name": "stdout",
     "output_type": "stream",
     "text": [
      "\n",
      "Fold 3 started at Wed Jan 15 09:04:48 2020\n",
      "epoch 0: \t Start training...\n"
     ]
    },
    {
     "data": {
      "application/vnd.jupyter.widget-view+json": {
       "model_id": "04dcdca7d59e49648f5b210d4ad08706",
       "version_major": 2,
       "version_minor": 0
      },
      "text/plain": [
       "HBox(children=(IntProgress(value=0, max=2736), HTML(value='')))"
      ]
     },
     "metadata": {},
     "output_type": "display_data"
    },
    {
     "name": "stdout",
     "output_type": "stream",
     "text": [
      "\n",
      "epoch 0/4 \t train : loss 0.43279 - spearmanr 0.17259\n",
      "epoch 0: \t Start validation...\n"
     ]
    },
    {
     "data": {
      "application/vnd.jupyter.widget-view+json": {
       "model_id": "14956baf103b4fe883eb462818535757",
       "version_major": 2,
       "version_minor": 0
      },
      "text/plain": [
       "HBox(children=(IntProgress(value=0, max=304), HTML(value='')))"
      ]
     },
     "metadata": {},
     "output_type": "display_data"
    },
    {
     "name": "stdout",
     "output_type": "stream",
     "text": [
      "\n",
      "epoch 0/4 \t valid : loss 0.38323 - spearmanr 0.35202\n",
      "best model: epoch 0 - 0.35202\n",
      "epoch 1: \t Start training...\n"
     ]
    },
    {
     "data": {
      "application/vnd.jupyter.widget-view+json": {
       "model_id": "b4ea1dee541b47f69de46a920c94b135",
       "version_major": 2,
       "version_minor": 0
      },
      "text/plain": [
       "HBox(children=(IntProgress(value=0, max=2736), HTML(value='')))"
      ]
     },
     "metadata": {},
     "output_type": "display_data"
    },
    {
     "name": "stdout",
     "output_type": "stream",
     "text": [
      "\n",
      "epoch 1/4 \t train : loss 0.37037 - spearmanr 0.34348\n",
      "epoch 1: \t Start validation...\n"
     ]
    },
    {
     "data": {
      "application/vnd.jupyter.widget-view+json": {
       "model_id": "3126808c4c2143e3b1a8d6bb0d894a6f",
       "version_major": 2,
       "version_minor": 0
      },
      "text/plain": [
       "HBox(children=(IntProgress(value=0, max=304), HTML(value='')))"
      ]
     },
     "metadata": {},
     "output_type": "display_data"
    },
    {
     "name": "stdout",
     "output_type": "stream",
     "text": [
      "\n",
      "epoch 1/4 \t valid : loss 0.37394 - spearmanr 0.3901\n",
      "best model: epoch 1 - 0.3901\n",
      "epoch 2: \t Start training...\n"
     ]
    },
    {
     "data": {
      "application/vnd.jupyter.widget-view+json": {
       "model_id": "636992777ee64b9d92ba628ba2674702",
       "version_major": 2,
       "version_minor": 0
      },
      "text/plain": [
       "HBox(children=(IntProgress(value=0, max=2736), HTML(value='')))"
      ]
     },
     "metadata": {},
     "output_type": "display_data"
    },
    {
     "name": "stdout",
     "output_type": "stream",
     "text": [
      "\n",
      "epoch 2/4 \t train : loss 0.35497 - spearmanr 0.39549\n",
      "epoch 2: \t Start validation...\n"
     ]
    },
    {
     "data": {
      "application/vnd.jupyter.widget-view+json": {
       "model_id": "48fae1513b7a4ac09fa853bdc4668803",
       "version_major": 2,
       "version_minor": 0
      },
      "text/plain": [
       "HBox(children=(IntProgress(value=0, max=304), HTML(value='')))"
      ]
     },
     "metadata": {},
     "output_type": "display_data"
    },
    {
     "name": "stdout",
     "output_type": "stream",
     "text": [
      "\n",
      "epoch 2/4 \t valid : loss 0.37106 - spearmanr 0.39618\n",
      "best model: epoch 2 - 0.39618\n",
      "epoch 3: \t Start training...\n"
     ]
    },
    {
     "data": {
      "application/vnd.jupyter.widget-view+json": {
       "model_id": "64e1ea8cfcb74dbb9cb066f9ea70a3ee",
       "version_major": 2,
       "version_minor": 0
      },
      "text/plain": [
       "HBox(children=(IntProgress(value=0, max=2736), HTML(value='')))"
      ]
     },
     "metadata": {},
     "output_type": "display_data"
    },
    {
     "name": "stdout",
     "output_type": "stream",
     "text": [
      "\n",
      "epoch 3/4 \t train : loss 0.34506 - spearmanr 0.43182\n",
      "epoch 3: \t Start validation...\n"
     ]
    },
    {
     "data": {
      "application/vnd.jupyter.widget-view+json": {
       "model_id": "5991c1e5d0e74fcaaf97fd546f4c928d",
       "version_major": 2,
       "version_minor": 0
      },
      "text/plain": [
       "HBox(children=(IntProgress(value=0, max=304), HTML(value='')))"
      ]
     },
     "metadata": {},
     "output_type": "display_data"
    },
    {
     "name": "stdout",
     "output_type": "stream",
     "text": [
      "\n",
      "epoch 3/4 \t valid : loss 0.37133 - spearmanr 0.39918\n",
      "best model: epoch 3 - 0.39918\n",
      "TRAINING END: Best score achieved on epoch 3 - 0.39918\n",
      "Starting inference for model: checkpoints/siamese_bert_5_fold_3_best.pth\n"
     ]
    },
    {
     "data": {
      "application/vnd.jupyter.widget-view+json": {
       "model_id": "bb24b9ae7fc1406eae17edaa3bbc2554",
       "version_major": 2,
       "version_minor": 0
      },
      "text/plain": [
       "HBox(children=(IntProgress(value=0, max=304), HTML(value='')))"
      ]
     },
     "metadata": {},
     "output_type": "display_data"
    },
    {
     "name": "stdout",
     "output_type": "stream",
     "text": [
      "\n",
      "Starting inference for model: checkpoints/siamese_bert_5_fold_3_best.pth\n"
     ]
    },
    {
     "data": {
      "application/vnd.jupyter.widget-view+json": {
       "model_id": "24ebeead7011407587237da2fe01825d",
       "version_major": 2,
       "version_minor": 0
      },
      "text/plain": [
       "HBox(children=(IntProgress(value=0, max=238), HTML(value='')))"
      ]
     },
     "metadata": {},
     "output_type": "display_data"
    },
    {
     "name": "stdout",
     "output_type": "stream",
     "text": [
      "\n",
      "Fold 4 started at Wed Jan 15 09:43:30 2020\n",
      "epoch 0: \t Start training...\n"
     ]
    },
    {
     "data": {
      "application/vnd.jupyter.widget-view+json": {
       "model_id": "c00bfa64887d4c11b3332fa5308de65b",
       "version_major": 2,
       "version_minor": 0
      },
      "text/plain": [
       "HBox(children=(IntProgress(value=0, max=2736), HTML(value='')))"
      ]
     },
     "metadata": {},
     "output_type": "display_data"
    },
    {
     "name": "stdout",
     "output_type": "stream",
     "text": [
      "\n",
      "epoch 0/4 \t train : loss 0.43201 - spearmanr 0.17468\n",
      "epoch 0: \t Start validation...\n"
     ]
    },
    {
     "data": {
      "application/vnd.jupyter.widget-view+json": {
       "model_id": "c6e321aa6ff44d2895b0edfc893ab825",
       "version_major": 2,
       "version_minor": 0
      },
      "text/plain": [
       "HBox(children=(IntProgress(value=0, max=304), HTML(value='')))"
      ]
     },
     "metadata": {},
     "output_type": "display_data"
    },
    {
     "name": "stdout",
     "output_type": "stream",
     "text": [
      "\n",
      "epoch 0/4 \t valid : loss 0.38015 - spearmanr 0.34227\n",
      "best model: epoch 0 - 0.34227\n",
      "epoch 1: \t Start training...\n"
     ]
    },
    {
     "data": {
      "application/vnd.jupyter.widget-view+json": {
       "model_id": "47ee71b8199945ad91addfa9357de474",
       "version_major": 2,
       "version_minor": 0
      },
      "text/plain": [
       "HBox(children=(IntProgress(value=0, max=2736), HTML(value='')))"
      ]
     },
     "metadata": {},
     "output_type": "display_data"
    },
    {
     "name": "stdout",
     "output_type": "stream",
     "text": [
      "\n",
      "epoch 1/4 \t train : loss 0.37095 - spearmanr 0.34526\n",
      "epoch 1: \t Start validation...\n"
     ]
    },
    {
     "data": {
      "application/vnd.jupyter.widget-view+json": {
       "model_id": "6d07985801bb4ccda9e62bb55407477a",
       "version_major": 2,
       "version_minor": 0
      },
      "text/plain": [
       "HBox(children=(IntProgress(value=0, max=304), HTML(value='')))"
      ]
     },
     "metadata": {},
     "output_type": "display_data"
    },
    {
     "name": "stdout",
     "output_type": "stream",
     "text": [
      "\n",
      "epoch 1/4 \t valid : loss 0.36627 - spearmanr 0.38348\n",
      "best model: epoch 1 - 0.38348\n",
      "epoch 2: \t Start training...\n"
     ]
    },
    {
     "data": {
      "application/vnd.jupyter.widget-view+json": {
       "model_id": "5890e94d9d8c411886c64a3d2e8cf716",
       "version_major": 2,
       "version_minor": 0
      },
      "text/plain": [
       "HBox(children=(IntProgress(value=0, max=2736), HTML(value='')))"
      ]
     },
     "metadata": {},
     "output_type": "display_data"
    },
    {
     "name": "stdout",
     "output_type": "stream",
     "text": [
      "\n",
      "epoch 2/4 \t train : loss 0.35581 - spearmanr 0.39381\n",
      "epoch 2: \t Start validation...\n"
     ]
    },
    {
     "data": {
      "application/vnd.jupyter.widget-view+json": {
       "model_id": "2f21be38877f49b3a10194339824ff9c",
       "version_major": 2,
       "version_minor": 0
      },
      "text/plain": [
       "HBox(children=(IntProgress(value=0, max=304), HTML(value='')))"
      ]
     },
     "metadata": {},
     "output_type": "display_data"
    },
    {
     "name": "stdout",
     "output_type": "stream",
     "text": [
      "\n",
      "epoch 2/4 \t valid : loss 0.3643 - spearmanr 0.39377\n",
      "best model: epoch 2 - 0.39377\n",
      "epoch 3: \t Start training...\n"
     ]
    },
    {
     "data": {
      "application/vnd.jupyter.widget-view+json": {
       "model_id": "7a7673c36a854d0390d0eca2ccbac73c",
       "version_major": 2,
       "version_minor": 0
      },
      "text/plain": [
       "HBox(children=(IntProgress(value=0, max=2736), HTML(value='')))"
      ]
     },
     "metadata": {},
     "output_type": "display_data"
    },
    {
     "name": "stdout",
     "output_type": "stream",
     "text": [
      "\n",
      "epoch 3/4 \t train : loss 0.34431 - spearmanr 0.4342\n",
      "epoch 3: \t Start validation...\n"
     ]
    },
    {
     "data": {
      "application/vnd.jupyter.widget-view+json": {
       "model_id": "6b4f1e896e6145eca20af3ba06c7ff0f",
       "version_major": 2,
       "version_minor": 0
      },
      "text/plain": [
       "HBox(children=(IntProgress(value=0, max=304), HTML(value='')))"
      ]
     },
     "metadata": {},
     "output_type": "display_data"
    },
    {
     "name": "stdout",
     "output_type": "stream",
     "text": [
      "\n",
      "epoch 3/4 \t valid : loss 0.36435 - spearmanr 0.39363\n",
      "model not improved for 1 epochs\n",
      "TRAINING END: Best score achieved on epoch 2 - 0.39377\n",
      "Starting inference for model: checkpoints/siamese_bert_5_fold_4_best.pth\n"
     ]
    },
    {
     "data": {
      "application/vnd.jupyter.widget-view+json": {
       "model_id": "5ee44271ab80459fb689fba7a7c00273",
       "version_major": 2,
       "version_minor": 0
      },
      "text/plain": [
       "HBox(children=(IntProgress(value=0, max=304), HTML(value='')))"
      ]
     },
     "metadata": {},
     "output_type": "display_data"
    },
    {
     "name": "stdout",
     "output_type": "stream",
     "text": [
      "\n",
      "Starting inference for model: checkpoints/siamese_bert_5_fold_4_best.pth\n"
     ]
    },
    {
     "data": {
      "application/vnd.jupyter.widget-view+json": {
       "model_id": "dece3731ef5c4bf08e8548403ffce366",
       "version_major": 2,
       "version_minor": 0
      },
      "text/plain": [
       "HBox(children=(IntProgress(value=0, max=238), HTML(value='')))"
      ]
     },
     "metadata": {},
     "output_type": "display_data"
    },
    {
     "name": "stdout",
     "output_type": "stream",
     "text": [
      "\n",
      "Fold 5 started at Wed Jan 15 10:22:09 2020\n",
      "epoch 0: \t Start training...\n"
     ]
    },
    {
     "data": {
      "application/vnd.jupyter.widget-view+json": {
       "model_id": "e4533c1ff0384b15895389319af0cbc3",
       "version_major": 2,
       "version_minor": 0
      },
      "text/plain": [
       "HBox(children=(IntProgress(value=0, max=2736), HTML(value='')))"
      ]
     },
     "metadata": {},
     "output_type": "display_data"
    },
    {
     "name": "stdout",
     "output_type": "stream",
     "text": [
      "\n",
      "epoch 0/4 \t train : loss 0.43204 - spearmanr 0.17671\n",
      "epoch 0: \t Start validation...\n"
     ]
    },
    {
     "data": {
      "application/vnd.jupyter.widget-view+json": {
       "model_id": "811052a1c8224d6b8754f2c5479099d5",
       "version_major": 2,
       "version_minor": 0
      },
      "text/plain": [
       "HBox(children=(IntProgress(value=0, max=304), HTML(value='')))"
      ]
     },
     "metadata": {},
     "output_type": "display_data"
    },
    {
     "name": "stdout",
     "output_type": "stream",
     "text": [
      "\n",
      "epoch 0/4 \t valid : loss 0.37498 - spearmanr 0.36068\n",
      "best model: epoch 0 - 0.36068\n",
      "epoch 1: \t Start training...\n"
     ]
    },
    {
     "data": {
      "application/vnd.jupyter.widget-view+json": {
       "model_id": "aebf1653a7024661b9c91d89855cde79",
       "version_major": 2,
       "version_minor": 0
      },
      "text/plain": [
       "HBox(children=(IntProgress(value=0, max=2736), HTML(value='')))"
      ]
     },
     "metadata": {},
     "output_type": "display_data"
    },
    {
     "name": "stdout",
     "output_type": "stream",
     "text": [
      "\n",
      "epoch 1/4 \t train : loss 0.37163 - spearmanr 0.34177\n",
      "epoch 1: \t Start validation...\n"
     ]
    },
    {
     "data": {
      "application/vnd.jupyter.widget-view+json": {
       "model_id": "72de0387b9854732aa2c9792c087b907",
       "version_major": 2,
       "version_minor": 0
      },
      "text/plain": [
       "HBox(children=(IntProgress(value=0, max=304), HTML(value='')))"
      ]
     },
     "metadata": {},
     "output_type": "display_data"
    },
    {
     "name": "stdout",
     "output_type": "stream",
     "text": [
      "\n",
      "epoch 1/4 \t valid : loss 0.36211 - spearmanr 0.38925\n",
      "best model: epoch 1 - 0.38925\n",
      "epoch 2: \t Start training...\n"
     ]
    },
    {
     "data": {
      "application/vnd.jupyter.widget-view+json": {
       "model_id": "7c8e98dc3c82448fb224012ee5011f30",
       "version_major": 2,
       "version_minor": 0
      },
      "text/plain": [
       "HBox(children=(IntProgress(value=0, max=2736), HTML(value='')))"
      ]
     },
     "metadata": {},
     "output_type": "display_data"
    },
    {
     "name": "stdout",
     "output_type": "stream",
     "text": [
      "\n",
      "epoch 2/4 \t train : loss 0.35581 - spearmanr 0.3964\n",
      "epoch 2: \t Start validation...\n"
     ]
    },
    {
     "data": {
      "application/vnd.jupyter.widget-view+json": {
       "model_id": "aa89f644c8764fff93d010ee4976efdc",
       "version_major": 2,
       "version_minor": 0
      },
      "text/plain": [
       "HBox(children=(IntProgress(value=0, max=304), HTML(value='')))"
      ]
     },
     "metadata": {},
     "output_type": "display_data"
    },
    {
     "name": "stdout",
     "output_type": "stream",
     "text": [
      "\n",
      "epoch 2/4 \t valid : loss 0.36108 - spearmanr 0.40015\n",
      "best model: epoch 2 - 0.40015\n",
      "epoch 3: \t Start training...\n"
     ]
    },
    {
     "data": {
      "application/vnd.jupyter.widget-view+json": {
       "model_id": "db7a4b76d43f4039bdbf910224ddf2dc",
       "version_major": 2,
       "version_minor": 0
      },
      "text/plain": [
       "HBox(children=(IntProgress(value=0, max=2736), HTML(value='')))"
      ]
     },
     "metadata": {},
     "output_type": "display_data"
    },
    {
     "name": "stdout",
     "output_type": "stream",
     "text": [
      "\n",
      "epoch 3/4 \t train : loss 0.34515 - spearmanr 0.43385\n",
      "epoch 3: \t Start validation...\n"
     ]
    },
    {
     "data": {
      "application/vnd.jupyter.widget-view+json": {
       "model_id": "94f3f7ca5dd243cc8af3f94b5edc58fb",
       "version_major": 2,
       "version_minor": 0
      },
      "text/plain": [
       "HBox(children=(IntProgress(value=0, max=304), HTML(value='')))"
      ]
     },
     "metadata": {},
     "output_type": "display_data"
    },
    {
     "name": "stdout",
     "output_type": "stream",
     "text": [
      "\n",
      "epoch 3/4 \t valid : loss 0.35931 - spearmanr 0.4024\n",
      "best model: epoch 3 - 0.4024\n",
      "TRAINING END: Best score achieved on epoch 3 - 0.40240\n",
      "Starting inference for model: checkpoints/siamese_bert_5_fold_5_best.pth\n"
     ]
    },
    {
     "data": {
      "application/vnd.jupyter.widget-view+json": {
       "model_id": "29e561fdf41d403b87589327750ab2db",
       "version_major": 2,
       "version_minor": 0
      },
      "text/plain": [
       "HBox(children=(IntProgress(value=0, max=304), HTML(value='')))"
      ]
     },
     "metadata": {},
     "output_type": "display_data"
    },
    {
     "name": "stdout",
     "output_type": "stream",
     "text": [
      "\n",
      "Starting inference for model: checkpoints/siamese_bert_5_fold_5_best.pth\n"
     ]
    },
    {
     "data": {
      "application/vnd.jupyter.widget-view+json": {
       "model_id": "09c73b703f3f478f8f1a9e4b5c9921ad",
       "version_major": 2,
       "version_minor": 0
      },
      "text/plain": [
       "HBox(children=(IntProgress(value=0, max=238), HTML(value='')))"
      ]
     },
     "metadata": {},
     "output_type": "display_data"
    },
    {
     "name": "stdout",
     "output_type": "stream",
     "text": [
      "\n",
      "Fold 6 started at Wed Jan 15 11:00:51 2020\n",
      "epoch 0: \t Start training...\n"
     ]
    },
    {
     "data": {
      "application/vnd.jupyter.widget-view+json": {
       "model_id": "95a243fa0545461dbb31363a96b66f4e",
       "version_major": 2,
       "version_minor": 0
      },
      "text/plain": [
       "HBox(children=(IntProgress(value=0, max=2736), HTML(value='')))"
      ]
     },
     "metadata": {},
     "output_type": "display_data"
    },
    {
     "name": "stdout",
     "output_type": "stream",
     "text": [
      "\n",
      "epoch 0/4 \t train : loss 0.43365 - spearmanr 0.17375\n",
      "epoch 0: \t Start validation...\n"
     ]
    },
    {
     "data": {
      "application/vnd.jupyter.widget-view+json": {
       "model_id": "173c4927f4964807858c3d9d40c99af3",
       "version_major": 2,
       "version_minor": 0
      },
      "text/plain": [
       "HBox(children=(IntProgress(value=0, max=304), HTML(value='')))"
      ]
     },
     "metadata": {},
     "output_type": "display_data"
    },
    {
     "name": "stdout",
     "output_type": "stream",
     "text": [
      "\n",
      "epoch 0/4 \t valid : loss 0.38014 - spearmanr 0.34358\n",
      "best model: epoch 0 - 0.34358\n",
      "epoch 1: \t Start training...\n"
     ]
    },
    {
     "data": {
      "application/vnd.jupyter.widget-view+json": {
       "model_id": "90975a771d524042a53262f79d4df871",
       "version_major": 2,
       "version_minor": 0
      },
      "text/plain": [
       "HBox(children=(IntProgress(value=0, max=2736), HTML(value='')))"
      ]
     },
     "metadata": {},
     "output_type": "display_data"
    },
    {
     "name": "stdout",
     "output_type": "stream",
     "text": [
      "\n",
      "epoch 1/4 \t train : loss 0.37174 - spearmanr 0.34269\n",
      "epoch 1: \t Start validation...\n"
     ]
    },
    {
     "data": {
      "application/vnd.jupyter.widget-view+json": {
       "model_id": "bc32cb43562b4b439f8b9a3ea651ec0e",
       "version_major": 2,
       "version_minor": 0
      },
      "text/plain": [
       "HBox(children=(IntProgress(value=0, max=304), HTML(value='')))"
      ]
     },
     "metadata": {},
     "output_type": "display_data"
    },
    {
     "name": "stdout",
     "output_type": "stream",
     "text": [
      "\n",
      "epoch 1/4 \t valid : loss 0.36714 - spearmanr 0.37793\n",
      "best model: epoch 1 - 0.37793\n",
      "epoch 2: \t Start training...\n"
     ]
    },
    {
     "data": {
      "application/vnd.jupyter.widget-view+json": {
       "model_id": "c725fc8beebd468781f6bd828323fcd5",
       "version_major": 2,
       "version_minor": 0
      },
      "text/plain": [
       "HBox(children=(IntProgress(value=0, max=2736), HTML(value='')))"
      ]
     },
     "metadata": {},
     "output_type": "display_data"
    },
    {
     "name": "stdout",
     "output_type": "stream",
     "text": [
      "\n",
      "epoch 2/4 \t train : loss 0.35563 - spearmanr 0.39704\n",
      "epoch 2: \t Start validation...\n"
     ]
    },
    {
     "data": {
      "application/vnd.jupyter.widget-view+json": {
       "model_id": "8bd5c0a6674540d681247ddc61425b56",
       "version_major": 2,
       "version_minor": 0
      },
      "text/plain": [
       "HBox(children=(IntProgress(value=0, max=304), HTML(value='')))"
      ]
     },
     "metadata": {},
     "output_type": "display_data"
    },
    {
     "name": "stdout",
     "output_type": "stream",
     "text": [
      "\n",
      "epoch 2/4 \t valid : loss 0.36224 - spearmanr 0.39101\n",
      "best model: epoch 2 - 0.39101\n",
      "epoch 3: \t Start training...\n"
     ]
    },
    {
     "data": {
      "application/vnd.jupyter.widget-view+json": {
       "model_id": "be98a37c30cc44c2b60d9b38aa9f1075",
       "version_major": 2,
       "version_minor": 0
      },
      "text/plain": [
       "HBox(children=(IntProgress(value=0, max=2736), HTML(value='')))"
      ]
     },
     "metadata": {},
     "output_type": "display_data"
    },
    {
     "name": "stdout",
     "output_type": "stream",
     "text": [
      "\n",
      "epoch 3/4 \t train : loss 0.34538 - spearmanr 0.43422\n",
      "epoch 3: \t Start validation...\n"
     ]
    },
    {
     "data": {
      "application/vnd.jupyter.widget-view+json": {
       "model_id": "08057bd7cdd94396b478da0764b9f1cf",
       "version_major": 2,
       "version_minor": 0
      },
      "text/plain": [
       "HBox(children=(IntProgress(value=0, max=304), HTML(value='')))"
      ]
     },
     "metadata": {},
     "output_type": "display_data"
    },
    {
     "name": "stdout",
     "output_type": "stream",
     "text": [
      "\n",
      "epoch 3/4 \t valid : loss 0.36305 - spearmanr 0.39158\n",
      "best model: epoch 3 - 0.39158\n",
      "TRAINING END: Best score achieved on epoch 3 - 0.39158\n",
      "Starting inference for model: checkpoints/siamese_bert_5_fold_6_best.pth\n"
     ]
    },
    {
     "data": {
      "application/vnd.jupyter.widget-view+json": {
       "model_id": "3c6887e1122849d1b4b1d9d35ab0a0ef",
       "version_major": 2,
       "version_minor": 0
      },
      "text/plain": [
       "HBox(children=(IntProgress(value=0, max=304), HTML(value='')))"
      ]
     },
     "metadata": {},
     "output_type": "display_data"
    },
    {
     "name": "stdout",
     "output_type": "stream",
     "text": [
      "\n",
      "Starting inference for model: checkpoints/siamese_bert_5_fold_6_best.pth\n"
     ]
    },
    {
     "data": {
      "application/vnd.jupyter.widget-view+json": {
       "model_id": "542fac4a5523489fbae3fe0e5afc8353",
       "version_major": 2,
       "version_minor": 0
      },
      "text/plain": [
       "HBox(children=(IntProgress(value=0, max=238), HTML(value='')))"
      ]
     },
     "metadata": {},
     "output_type": "display_data"
    },
    {
     "name": "stdout",
     "output_type": "stream",
     "text": [
      "\n",
      "Fold 7 started at Wed Jan 15 11:39:33 2020\n",
      "epoch 0: \t Start training...\n"
     ]
    },
    {
     "data": {
      "application/vnd.jupyter.widget-view+json": {
       "model_id": "5cacbfaa669d4031b71088727df1ad3a",
       "version_major": 2,
       "version_minor": 0
      },
      "text/plain": [
       "HBox(children=(IntProgress(value=0, max=2736), HTML(value='')))"
      ]
     },
     "metadata": {},
     "output_type": "display_data"
    },
    {
     "name": "stdout",
     "output_type": "stream",
     "text": [
      "\n",
      "epoch 0/4 \t train : loss 0.4327 - spearmanr 0.17668\n",
      "epoch 0: \t Start validation...\n"
     ]
    },
    {
     "data": {
      "application/vnd.jupyter.widget-view+json": {
       "model_id": "7a7cf9c0e80941a3b131e1d5ea8bcdbe",
       "version_major": 2,
       "version_minor": 0
      },
      "text/plain": [
       "HBox(children=(IntProgress(value=0, max=304), HTML(value='')))"
      ]
     },
     "metadata": {},
     "output_type": "display_data"
    },
    {
     "name": "stdout",
     "output_type": "stream",
     "text": [
      "\n",
      "epoch 0/4 \t valid : loss 0.38939 - spearmanr 0.35357\n",
      "best model: epoch 0 - 0.35357\n",
      "epoch 1: \t Start training...\n"
     ]
    },
    {
     "data": {
      "application/vnd.jupyter.widget-view+json": {
       "model_id": "e6e4e71ddab84afc8bee06c01ddcc188",
       "version_major": 2,
       "version_minor": 0
      },
      "text/plain": [
       "HBox(children=(IntProgress(value=0, max=2736), HTML(value='')))"
      ]
     },
     "metadata": {},
     "output_type": "display_data"
    },
    {
     "name": "stdout",
     "output_type": "stream",
     "text": [
      "\n",
      "epoch 1/4 \t train : loss 0.3704 - spearmanr 0.34491\n",
      "epoch 1: \t Start validation...\n"
     ]
    },
    {
     "data": {
      "application/vnd.jupyter.widget-view+json": {
       "model_id": "0e58c4ec1c4444df831aff1ed3cae456",
       "version_major": 2,
       "version_minor": 0
      },
      "text/plain": [
       "HBox(children=(IntProgress(value=0, max=304), HTML(value='')))"
      ]
     },
     "metadata": {},
     "output_type": "display_data"
    },
    {
     "name": "stdout",
     "output_type": "stream",
     "text": [
      "\n",
      "epoch 1/4 \t valid : loss 0.37624 - spearmanr 0.39906\n",
      "best model: epoch 1 - 0.39906\n",
      "epoch 2: \t Start training...\n"
     ]
    },
    {
     "data": {
      "application/vnd.jupyter.widget-view+json": {
       "model_id": "f0a3be742f6b450a9b0a3057a7c9b824",
       "version_major": 2,
       "version_minor": 0
      },
      "text/plain": [
       "HBox(children=(IntProgress(value=0, max=2736), HTML(value='')))"
      ]
     },
     "metadata": {},
     "output_type": "display_data"
    },
    {
     "name": "stdout",
     "output_type": "stream",
     "text": [
      "\n",
      "epoch 2/4 \t train : loss 0.35523 - spearmanr 0.39216\n",
      "epoch 2: \t Start validation...\n"
     ]
    },
    {
     "data": {
      "application/vnd.jupyter.widget-view+json": {
       "model_id": "6dcec44ecb524d1d84b83e3848f8033d",
       "version_major": 2,
       "version_minor": 0
      },
      "text/plain": [
       "HBox(children=(IntProgress(value=0, max=304), HTML(value='')))"
      ]
     },
     "metadata": {},
     "output_type": "display_data"
    },
    {
     "name": "stdout",
     "output_type": "stream",
     "text": [
      "\n",
      "epoch 2/4 \t valid : loss 0.37031 - spearmanr 0.4042\n",
      "best model: epoch 2 - 0.4042\n",
      "epoch 3: \t Start training...\n"
     ]
    },
    {
     "data": {
      "application/vnd.jupyter.widget-view+json": {
       "model_id": "63aa7fe1a3bc4b259da746cee6aba50a",
       "version_major": 2,
       "version_minor": 0
      },
      "text/plain": [
       "HBox(children=(IntProgress(value=0, max=2736), HTML(value='')))"
      ]
     },
     "metadata": {},
     "output_type": "display_data"
    },
    {
     "name": "stdout",
     "output_type": "stream",
     "text": [
      "\n",
      "epoch 3/4 \t train : loss 0.34501 - spearmanr 0.43067\n",
      "epoch 3: \t Start validation...\n"
     ]
    },
    {
     "data": {
      "application/vnd.jupyter.widget-view+json": {
       "model_id": "c6da5df369fe4573b0c9287367bbec74",
       "version_major": 2,
       "version_minor": 0
      },
      "text/plain": [
       "HBox(children=(IntProgress(value=0, max=304), HTML(value='')))"
      ]
     },
     "metadata": {},
     "output_type": "display_data"
    },
    {
     "name": "stdout",
     "output_type": "stream",
     "text": [
      "\n",
      "epoch 3/4 \t valid : loss 0.36927 - spearmanr 0.41323\n",
      "best model: epoch 3 - 0.41323\n",
      "TRAINING END: Best score achieved on epoch 3 - 0.41323\n",
      "Starting inference for model: checkpoints/siamese_bert_5_fold_7_best.pth\n"
     ]
    },
    {
     "data": {
      "application/vnd.jupyter.widget-view+json": {
       "model_id": "1476a5932d254fa7899448f2d7446805",
       "version_major": 2,
       "version_minor": 0
      },
      "text/plain": [
       "HBox(children=(IntProgress(value=0, max=304), HTML(value='')))"
      ]
     },
     "metadata": {},
     "output_type": "display_data"
    },
    {
     "name": "stdout",
     "output_type": "stream",
     "text": [
      "\n",
      "Starting inference for model: checkpoints/siamese_bert_5_fold_7_best.pth\n"
     ]
    },
    {
     "data": {
      "application/vnd.jupyter.widget-view+json": {
       "model_id": "6b1cd4976d814c50a33b5a10e833a7d6",
       "version_major": 2,
       "version_minor": 0
      },
      "text/plain": [
       "HBox(children=(IntProgress(value=0, max=238), HTML(value='')))"
      ]
     },
     "metadata": {},
     "output_type": "display_data"
    },
    {
     "name": "stdout",
     "output_type": "stream",
     "text": [
      "\n",
      "Fold 8 started at Wed Jan 15 12:18:16 2020\n",
      "epoch 0: \t Start training...\n"
     ]
    },
    {
     "data": {
      "application/vnd.jupyter.widget-view+json": {
       "model_id": "431ffa1ab9364e5bafbbbf5182e5a694",
       "version_major": 2,
       "version_minor": 0
      },
      "text/plain": [
       "HBox(children=(IntProgress(value=0, max=2736), HTML(value='')))"
      ]
     },
     "metadata": {},
     "output_type": "display_data"
    },
    {
     "name": "stdout",
     "output_type": "stream",
     "text": [
      "\n",
      "epoch 0/4 \t train : loss 0.43354 - spearmanr 0.16906\n",
      "epoch 0: \t Start validation...\n"
     ]
    },
    {
     "data": {
      "application/vnd.jupyter.widget-view+json": {
       "model_id": "76daaffd8e094543ba7b1e3bc5cc4519",
       "version_major": 2,
       "version_minor": 0
      },
      "text/plain": [
       "HBox(children=(IntProgress(value=0, max=304), HTML(value='')))"
      ]
     },
     "metadata": {},
     "output_type": "display_data"
    },
    {
     "name": "stdout",
     "output_type": "stream",
     "text": [
      "\n",
      "epoch 0/4 \t valid : loss 0.38081 - spearmanr 0.36894\n",
      "best model: epoch 0 - 0.36894\n",
      "epoch 1: \t Start training...\n"
     ]
    },
    {
     "data": {
      "application/vnd.jupyter.widget-view+json": {
       "model_id": "221a6a5f8078405790abc785c143a645",
       "version_major": 2,
       "version_minor": 0
      },
      "text/plain": [
       "HBox(children=(IntProgress(value=0, max=2736), HTML(value='')))"
      ]
     },
     "metadata": {},
     "output_type": "display_data"
    },
    {
     "name": "stdout",
     "output_type": "stream",
     "text": [
      "\n",
      "epoch 1/4 \t train : loss 0.37044 - spearmanr 0.3391\n",
      "epoch 1: \t Start validation...\n"
     ]
    },
    {
     "data": {
      "application/vnd.jupyter.widget-view+json": {
       "model_id": "e1ad982c9da2470abdf696e8fe0506cc",
       "version_major": 2,
       "version_minor": 0
      },
      "text/plain": [
       "HBox(children=(IntProgress(value=0, max=304), HTML(value='')))"
      ]
     },
     "metadata": {},
     "output_type": "display_data"
    },
    {
     "name": "stdout",
     "output_type": "stream",
     "text": [
      "\n",
      "epoch 1/4 \t valid : loss 0.37018 - spearmanr 0.39773\n",
      "best model: epoch 1 - 0.39773\n",
      "epoch 2: \t Start training...\n"
     ]
    },
    {
     "data": {
      "application/vnd.jupyter.widget-view+json": {
       "model_id": "a16c474762e34bb98e6f363d4c3fb739",
       "version_major": 2,
       "version_minor": 0
      },
      "text/plain": [
       "HBox(children=(IntProgress(value=0, max=2736), HTML(value='')))"
      ]
     },
     "metadata": {},
     "output_type": "display_data"
    },
    {
     "name": "stdout",
     "output_type": "stream",
     "text": [
      "\n",
      "epoch 2/4 \t train : loss 0.35528 - spearmanr 0.39491\n",
      "epoch 2: \t Start validation...\n"
     ]
    },
    {
     "data": {
      "application/vnd.jupyter.widget-view+json": {
       "model_id": "0d5fa70af36e4e438c228cd5a2a238f1",
       "version_major": 2,
       "version_minor": 0
      },
      "text/plain": [
       "HBox(children=(IntProgress(value=0, max=304), HTML(value='')))"
      ]
     },
     "metadata": {},
     "output_type": "display_data"
    },
    {
     "name": "stdout",
     "output_type": "stream",
     "text": [
      "\n",
      "epoch 2/4 \t valid : loss 0.36611 - spearmanr 0.4107\n",
      "best model: epoch 2 - 0.4107\n",
      "epoch 3: \t Start training...\n"
     ]
    },
    {
     "data": {
      "application/vnd.jupyter.widget-view+json": {
       "model_id": "d948732061bd405d8feb91d57014b463",
       "version_major": 2,
       "version_minor": 0
      },
      "text/plain": [
       "HBox(children=(IntProgress(value=0, max=2736), HTML(value='')))"
      ]
     },
     "metadata": {},
     "output_type": "display_data"
    },
    {
     "name": "stdout",
     "output_type": "stream",
     "text": [
      "\n",
      "epoch 3/4 \t train : loss 0.34472 - spearmanr 0.43108\n",
      "epoch 3: \t Start validation...\n"
     ]
    },
    {
     "data": {
      "application/vnd.jupyter.widget-view+json": {
       "model_id": "081464e15762494388be71e43809bd27",
       "version_major": 2,
       "version_minor": 0
      },
      "text/plain": [
       "HBox(children=(IntProgress(value=0, max=304), HTML(value='')))"
      ]
     },
     "metadata": {},
     "output_type": "display_data"
    },
    {
     "name": "stdout",
     "output_type": "stream",
     "text": [
      "\n",
      "epoch 3/4 \t valid : loss 0.36664 - spearmanr 0.41269\n",
      "best model: epoch 3 - 0.41269\n",
      "TRAINING END: Best score achieved on epoch 3 - 0.41269\n",
      "Starting inference for model: checkpoints/siamese_bert_5_fold_8_best.pth\n"
     ]
    },
    {
     "data": {
      "application/vnd.jupyter.widget-view+json": {
       "model_id": "02e5ab2acf374b38aefd779c5752b830",
       "version_major": 2,
       "version_minor": 0
      },
      "text/plain": [
       "HBox(children=(IntProgress(value=0, max=304), HTML(value='')))"
      ]
     },
     "metadata": {},
     "output_type": "display_data"
    },
    {
     "name": "stdout",
     "output_type": "stream",
     "text": [
      "\n",
      "Starting inference for model: checkpoints/siamese_bert_5_fold_8_best.pth\n"
     ]
    },
    {
     "data": {
      "application/vnd.jupyter.widget-view+json": {
       "model_id": "d9b3a435013f44b59401ffa429db5a28",
       "version_major": 2,
       "version_minor": 0
      },
      "text/plain": [
       "HBox(children=(IntProgress(value=0, max=238), HTML(value='')))"
      ]
     },
     "metadata": {},
     "output_type": "display_data"
    },
    {
     "name": "stdout",
     "output_type": "stream",
     "text": [
      "\n",
      "Fold 9 started at Wed Jan 15 12:57:00 2020\n",
      "epoch 0: \t Start training...\n"
     ]
    },
    {
     "data": {
      "application/vnd.jupyter.widget-view+json": {
       "model_id": "2340d19288f242ddbc4a79b437aa7bf1",
       "version_major": 2,
       "version_minor": 0
      },
      "text/plain": [
       "HBox(children=(IntProgress(value=0, max=2736), HTML(value='')))"
      ]
     },
     "metadata": {},
     "output_type": "display_data"
    },
    {
     "name": "stdout",
     "output_type": "stream",
     "text": [
      "\n",
      "epoch 0/4 \t train : loss 0.43225 - spearmanr 0.17714\n",
      "epoch 0: \t Start validation...\n"
     ]
    },
    {
     "data": {
      "application/vnd.jupyter.widget-view+json": {
       "model_id": "484b579d9ef4456d9beb5809b571410d",
       "version_major": 2,
       "version_minor": 0
      },
      "text/plain": [
       "HBox(children=(IntProgress(value=0, max=304), HTML(value='')))"
      ]
     },
     "metadata": {},
     "output_type": "display_data"
    },
    {
     "name": "stdout",
     "output_type": "stream",
     "text": [
      "\n",
      "epoch 0/4 \t valid : loss 0.37988 - spearmanr 0.35217\n",
      "best model: epoch 0 - 0.35217\n",
      "epoch 1: \t Start training...\n"
     ]
    },
    {
     "data": {
      "application/vnd.jupyter.widget-view+json": {
       "model_id": "2814815fffab457089e60f7da1acbea2",
       "version_major": 2,
       "version_minor": 0
      },
      "text/plain": [
       "HBox(children=(IntProgress(value=0, max=2736), HTML(value='')))"
      ]
     },
     "metadata": {},
     "output_type": "display_data"
    },
    {
     "name": "stdout",
     "output_type": "stream",
     "text": [
      "\n",
      "epoch 1/4 \t train : loss 0.37172 - spearmanr 0.34161\n",
      "epoch 1: \t Start validation...\n"
     ]
    },
    {
     "data": {
      "application/vnd.jupyter.widget-view+json": {
       "model_id": "9ec934c870fd44fbb5c7ff68952f8868",
       "version_major": 2,
       "version_minor": 0
      },
      "text/plain": [
       "HBox(children=(IntProgress(value=0, max=304), HTML(value='')))"
      ]
     },
     "metadata": {},
     "output_type": "display_data"
    },
    {
     "name": "stdout",
     "output_type": "stream",
     "text": [
      "\n",
      "epoch 1/4 \t valid : loss 0.36796 - spearmanr 0.3825\n",
      "best model: epoch 1 - 0.3825\n",
      "epoch 2: \t Start training...\n"
     ]
    },
    {
     "data": {
      "application/vnd.jupyter.widget-view+json": {
       "model_id": "fe6e454c142449c3aabfe4da965e57b7",
       "version_major": 2,
       "version_minor": 0
      },
      "text/plain": [
       "HBox(children=(IntProgress(value=0, max=2736), HTML(value='')))"
      ]
     },
     "metadata": {},
     "output_type": "display_data"
    },
    {
     "name": "stdout",
     "output_type": "stream",
     "text": [
      "\n",
      "epoch 2/4 \t train : loss 0.355 - spearmanr 0.39864\n",
      "epoch 2: \t Start validation...\n"
     ]
    },
    {
     "data": {
      "application/vnd.jupyter.widget-view+json": {
       "model_id": "e97463777b5c4e0d9af7308ec96eba1a",
       "version_major": 2,
       "version_minor": 0
      },
      "text/plain": [
       "HBox(children=(IntProgress(value=0, max=304), HTML(value='')))"
      ]
     },
     "metadata": {},
     "output_type": "display_data"
    },
    {
     "name": "stdout",
     "output_type": "stream",
     "text": [
      "\n",
      "epoch 2/4 \t valid : loss 0.36521 - spearmanr 0.39388\n",
      "best model: epoch 2 - 0.39388\n",
      "epoch 3: \t Start training...\n"
     ]
    },
    {
     "data": {
      "application/vnd.jupyter.widget-view+json": {
       "model_id": "4df69351400c49418c4eddb603778c20",
       "version_major": 2,
       "version_minor": 0
      },
      "text/plain": [
       "HBox(children=(IntProgress(value=0, max=2736), HTML(value='')))"
      ]
     },
     "metadata": {},
     "output_type": "display_data"
    },
    {
     "name": "stdout",
     "output_type": "stream",
     "text": [
      "\n",
      "epoch 3/4 \t train : loss 0.3442 - spearmanr 0.43503\n",
      "epoch 3: \t Start validation...\n"
     ]
    },
    {
     "data": {
      "application/vnd.jupyter.widget-view+json": {
       "model_id": "544e2702d3c44bbe91631364355b0afa",
       "version_major": 2,
       "version_minor": 0
      },
      "text/plain": [
       "HBox(children=(IntProgress(value=0, max=304), HTML(value='')))"
      ]
     },
     "metadata": {},
     "output_type": "display_data"
    },
    {
     "name": "stdout",
     "output_type": "stream",
     "text": [
      "\n",
      "epoch 3/4 \t valid : loss 0.36461 - spearmanr 0.3993\n",
      "best model: epoch 3 - 0.3993\n",
      "TRAINING END: Best score achieved on epoch 3 - 0.39930\n",
      "Starting inference for model: checkpoints/siamese_bert_5_fold_9_best.pth\n"
     ]
    },
    {
     "data": {
      "application/vnd.jupyter.widget-view+json": {
       "model_id": "8ff69a1535f64de39122554743f254ed",
       "version_major": 2,
       "version_minor": 0
      },
      "text/plain": [
       "HBox(children=(IntProgress(value=0, max=304), HTML(value='')))"
      ]
     },
     "metadata": {},
     "output_type": "display_data"
    },
    {
     "name": "stdout",
     "output_type": "stream",
     "text": [
      "\n",
      "Starting inference for model: checkpoints/siamese_bert_5_fold_9_best.pth\n"
     ]
    },
    {
     "data": {
      "application/vnd.jupyter.widget-view+json": {
       "model_id": "b60c7e7c6cca4de4bce6ef0c40b0cc0f",
       "version_major": 2,
       "version_minor": 0
      },
      "text/plain": [
       "HBox(children=(IntProgress(value=0, max=238), HTML(value='')))"
      ]
     },
     "metadata": {},
     "output_type": "display_data"
    },
    {
     "name": "stdout",
     "output_type": "stream",
     "text": [
      "\n",
      "Fold 10 started at Wed Jan 15 13:35:42 2020\n",
      "epoch 0: \t Start training...\n"
     ]
    },
    {
     "data": {
      "application/vnd.jupyter.widget-view+json": {
       "model_id": "938587b6c18f4747994caf64c09e38a5",
       "version_major": 2,
       "version_minor": 0
      },
      "text/plain": [
       "HBox(children=(IntProgress(value=0, max=2736), HTML(value='')))"
      ]
     },
     "metadata": {},
     "output_type": "display_data"
    },
    {
     "name": "stdout",
     "output_type": "stream",
     "text": [
      "\n",
      "epoch 0/4 \t train : loss 0.43411 - spearmanr 0.17384\n",
      "epoch 0: \t Start validation...\n"
     ]
    },
    {
     "data": {
      "application/vnd.jupyter.widget-view+json": {
       "model_id": "c92a7cee0fdf405187df2fa0ab0ec576",
       "version_major": 2,
       "version_minor": 0
      },
      "text/plain": [
       "HBox(children=(IntProgress(value=0, max=304), HTML(value='')))"
      ]
     },
     "metadata": {},
     "output_type": "display_data"
    },
    {
     "name": "stdout",
     "output_type": "stream",
     "text": [
      "\n",
      "epoch 0/4 \t valid : loss 0.3787 - spearmanr 0.36427\n",
      "best model: epoch 0 - 0.36427\n",
      "epoch 1: \t Start training...\n"
     ]
    },
    {
     "data": {
      "application/vnd.jupyter.widget-view+json": {
       "model_id": "271a988e6fce4e85aae9218bebced5e5",
       "version_major": 2,
       "version_minor": 0
      },
      "text/plain": [
       "HBox(children=(IntProgress(value=0, max=2736), HTML(value='')))"
      ]
     },
     "metadata": {},
     "output_type": "display_data"
    },
    {
     "name": "stdout",
     "output_type": "stream",
     "text": [
      "\n",
      "epoch 1/4 \t train : loss 0.37248 - spearmanr 0.33845\n",
      "epoch 1: \t Start validation...\n"
     ]
    },
    {
     "data": {
      "application/vnd.jupyter.widget-view+json": {
       "model_id": "d9f05c776b6947e6907211ead6124a6d",
       "version_major": 2,
       "version_minor": 0
      },
      "text/plain": [
       "HBox(children=(IntProgress(value=0, max=304), HTML(value='')))"
      ]
     },
     "metadata": {},
     "output_type": "display_data"
    },
    {
     "name": "stdout",
     "output_type": "stream",
     "text": [
      "\n",
      "epoch 1/4 \t valid : loss 0.36265 - spearmanr 0.39912\n",
      "best model: epoch 1 - 0.39912\n",
      "epoch 2: \t Start training...\n"
     ]
    },
    {
     "data": {
      "application/vnd.jupyter.widget-view+json": {
       "model_id": "299a029bf1894a00a61a9f67bae25312",
       "version_major": 2,
       "version_minor": 0
      },
      "text/plain": [
       "HBox(children=(IntProgress(value=0, max=2736), HTML(value='')))"
      ]
     },
     "metadata": {},
     "output_type": "display_data"
    },
    {
     "name": "stdout",
     "output_type": "stream",
     "text": [
      "\n",
      "epoch 2/4 \t train : loss 0.35591 - spearmanr 0.39453\n",
      "epoch 2: \t Start validation...\n"
     ]
    },
    {
     "data": {
      "application/vnd.jupyter.widget-view+json": {
       "model_id": "9bfc48d6757f466eafccb219be80620b",
       "version_major": 2,
       "version_minor": 0
      },
      "text/plain": [
       "HBox(children=(IntProgress(value=0, max=304), HTML(value='')))"
      ]
     },
     "metadata": {},
     "output_type": "display_data"
    },
    {
     "name": "stdout",
     "output_type": "stream",
     "text": [
      "\n",
      "epoch 2/4 \t valid : loss 0.35684 - spearmanr 0.41654\n",
      "best model: epoch 2 - 0.41654\n",
      "epoch 3: \t Start training...\n"
     ]
    },
    {
     "data": {
      "application/vnd.jupyter.widget-view+json": {
       "model_id": "de44f08ef66647c4a2103cefa4f9345c",
       "version_major": 2,
       "version_minor": 0
      },
      "text/plain": [
       "HBox(children=(IntProgress(value=0, max=2736), HTML(value='')))"
      ]
     },
     "metadata": {},
     "output_type": "display_data"
    },
    {
     "name": "stdout",
     "output_type": "stream",
     "text": [
      "\n",
      "epoch 3/4 \t train : loss 0.34601 - spearmanr 0.43161\n",
      "epoch 3: \t Start validation...\n"
     ]
    },
    {
     "data": {
      "application/vnd.jupyter.widget-view+json": {
       "model_id": "9de7d3f937e344e7b2f89e1b2fecc3e1",
       "version_major": 2,
       "version_minor": 0
      },
      "text/plain": [
       "HBox(children=(IntProgress(value=0, max=304), HTML(value='')))"
      ]
     },
     "metadata": {},
     "output_type": "display_data"
    },
    {
     "name": "stdout",
     "output_type": "stream",
     "text": [
      "\n",
      "epoch 3/4 \t valid : loss 0.35692 - spearmanr 0.418\n",
      "best model: epoch 3 - 0.418\n",
      "TRAINING END: Best score achieved on epoch 3 - 0.41800\n",
      "Starting inference for model: checkpoints/siamese_bert_5_fold_10_best.pth\n"
     ]
    },
    {
     "data": {
      "application/vnd.jupyter.widget-view+json": {
       "model_id": "0372e0f1185f4c5bb636a21ae2bf5b0b",
       "version_major": 2,
       "version_minor": 0
      },
      "text/plain": [
       "HBox(children=(IntProgress(value=0, max=304), HTML(value='')))"
      ]
     },
     "metadata": {},
     "output_type": "display_data"
    },
    {
     "name": "stdout",
     "output_type": "stream",
     "text": [
      "\n",
      "Starting inference for model: checkpoints/siamese_bert_5_fold_10_best.pth\n"
     ]
    },
    {
     "data": {
      "application/vnd.jupyter.widget-view+json": {
       "model_id": "38a7969332764cf8a91b8db34e48aa99",
       "version_major": 2,
       "version_minor": 0
      },
      "text/plain": [
       "HBox(children=(IntProgress(value=0, max=238), HTML(value='')))"
      ]
     },
     "metadata": {},
     "output_type": "display_data"
    },
    {
     "name": "stdout",
     "output_type": "stream",
     "text": [
      "\n",
      "OOF score: 0.40650771634746646\n"
     ]
    }
   ],
   "source": [
    "init_seed()\n",
    "folds = GroupKFold(n_splits=n_folds).split(X=train['question_body'], groups=train['question_body'])\n",
    "oofs = np.zeros((len(train), N_TARGETS))\n",
    "preds = np.zeros((len(test), N_TARGETS))\n",
    "\n",
    "for fold_id, (train_index, valid_index) in enumerate(folds):\n",
    "    print(f'Fold {fold_id + 1} started at {time.ctime()}')\n",
    "    train_loader = DataLoader(\n",
    "        TextDataset(cat_features_train, ids_train['question'], ids_train['answer'],\n",
    "                    seg_ids_train['question'], seg_ids_train['answer'], train_index, targets=y, \n",
    "                    standard_errors=ses), \n",
    "        batch_size=bs, shuffle=True, num_workers=num_workers, drop_last=False\n",
    "    )\n",
    "    valid_loader = DataLoader(\n",
    "        TextDataset(cat_features_train, ids_train['question'], ids_train['answer'],\n",
    "                    seg_ids_train['question'], seg_ids_train['answer'], valid_index, targets=y), \n",
    "        batch_size=bs, shuffle=False, num_workers=num_workers, drop_last=False\n",
    "    )\n",
    "    model = CustomBert3(256, cat_features_train.shape[1])\n",
    "    \n",
    "    if fold_id == 0:\n",
    "        # print(model)\n",
    "        model = model.to(device)\n",
    "        optimizer = get_optimizer(model, lr, weight_decay)\n",
    "        lr_finder = LRFinder(n_iter=min(grad_accum*100, len(train_loader)), start_lr=1e-5, \n",
    "                             end_lr=1, device=device, grad_accum=grad_accum, divergence_factor=5)\n",
    "        lr_finder.find_lr(model, optimizer, train_loader, loss_fn)\n",
    "        plt.show()\n",
    "    \n",
    "    optimizer = get_optimizer(model, lr, weight_decay)\n",
    "    scheduler = OneCycleLR(optimizer, n_epochs=n_epochs, n_batches=len(train_loader))\n",
    "\n",
    "    learner = Learner(\n",
    "        model, \n",
    "        optimizer, \n",
    "        train_loader, \n",
    "        valid_loader, \n",
    "        loss_fn, \n",
    "        device, \n",
    "        n_epochs, \n",
    "        f'{model_name}_fold_{fold_id + 1}', \n",
    "        checkpoint_dir, \n",
    "        scheduler=scheduler, \n",
    "        metric_fns={'spearmanr': (spearmanr_torch, 'epoch_end')}, \n",
    "        monitor_metric='spearmanr',\n",
    "        minimize_score=False, \n",
    "        logger=None,\n",
    "        grad_accum=grad_accum,\n",
    "        early_stopping=early_stopping, \n",
    "        batch_step_scheduler=True\n",
    "    )\n",
    "    if (fold_id + 1) > 0: learner.train()\n",
    "    \n",
    "    oofs[valid_index] = infer(learner.model, valid_loader, learner.best_checkpoint_file, device)\n",
    "    \n",
    "    test_preds = infer(learner.model, test_loader, learner.best_checkpoint_file, device)\n",
    "    preds += test_preds / n_folds\n",
    "    \n",
    "    del learner, model, train_loader, valid_loader\n",
    "    gc.collect()\n",
    "    \n",
    "print(f'OOF score: {spearmanr_np(oofs, y)}')\n",
    "#KFold 5: distilbert: 0.4160\n",
    "#GKFold 5: distilbert: ~0.4005, ~0.4130, distilbert eda: ~0.4000, ~0.4200 (unsure), bert siamese: 0.4040, 0.4188\n",
    "    # smoothing y dist -> ~0.005 CV improve\n",
    "#GKFold 10: distilbert: 0.4012, ~0.4195, bert siamese with smoothing (1): 0.4059, 0.4206, 0.4275, 0.4449\n",
    "    #bert siamese with token_type_ids (2): 0.4091. 0.4236. 0.4317, 0.4507\n",
    "    #bert siamese for 3 epochs (3): 0.4121. 0.4273. 0.4347, 0.4497\n",
    "#MLFold 5: bert siamese: 0.4118, 0.4355, 04373"
   ]
  },
  {
   "cell_type": "code",
   "execution_count": 13,
   "metadata": {},
   "outputs": [],
   "source": [
    "def my_round(x, num, dec=2):\n",
    "    return np.round(x / num, dec) * num\n",
    "\n",
    "def round_preds(preds, thres=0.0, low_dec=1, low_num=1, high_dec=2, high_num=3):\n",
    "    low_idx = preds < thres\n",
    "    new_preds = np.zeros_like(preds)\n",
    "    new_preds[low_idx] = my_round(preds[low_idx], low_num, low_dec)\n",
    "    new_preds[~low_idx] = my_round(preds[~low_idx], high_num, high_dec)\n",
    "    return new_preds\n",
    "\n",
    "def scale(x, d):\n",
    "    if d: return (x//(1/d))/d\n",
    "    else: return x\n",
    "\n",
    "def ahmet_round(preds, ds, indices):\n",
    "    new_preds = preds.copy()\n",
    "    for idx, d in zip(indices, ds):\n",
    "        new_preds[:,idx] = scale(preds[:,idx], d)\n",
    "    return new_preds"
   ]
  },
  {
   "cell_type": "code",
   "execution_count": 14,
   "metadata": {
    "scrolled": true
   },
   "outputs": [
    {
     "name": "stdout",
     "output_type": "stream",
     "text": [
      "0 5 0.1456461912886479\n",
      "0 10 0.31921463463048494\n",
      "0 15 0.35635695745931467\n",
      "0 20 0.3583156820855397\n",
      "0 33 0.36992919553646525\n",
      "0 None 0.37361604547762434\n",
      "1 5 0.6193742788573492\n",
      "1 10 0.6412818097454834\n",
      "1 15 0.6452444897429284\n",
      "1 20 0.646788494461719\n",
      "1 33 0.646860597292178\n",
      "1 None 0.6480843176135553\n",
      "2 5 0.45349115081086994\n",
      "2 10 0.4839696404032099\n",
      "2 15 0.4873563339858441\n",
      "3 5 0.300767140272428\n",
      "3 10 0.3163397996835689\n",
      "3 None 0.3163989260986342\n",
      "4 5 0.32214434899037886\n",
      "4 10 0.35103807257641984\n",
      "4 15 0.35613971094179375\n",
      "4 20 0.3591993477303539\n",
      "4 33 0.360666268284159\n",
      "5 5 0.4713271314459892\n",
      "6 5 0.31355814565235346\n",
      "6 10 0.31637463029327256\n",
      "6 15 0.33418539388817026\n",
      "6 20 0.3390270653805802\n",
      "6 33 0.34589368369458123\n",
      "6 None 0.3488649837631538\n",
      "7 5 0.46406716900927386\n",
      "7 10 0.4956202023777805\n",
      "7 33 0.49863456244197896\n",
      "8 5 0.5697074232709518\n",
      "8 10 0.5782078596711795\n",
      "8 15 0.5791403776814751\n",
      "8 20 0.5797514077075662\n",
      "9 33 0.02829975374296678\n",
      "9 None 0.08713174404866303\n",
      "10 5 0.4587120143270203\n",
      "10 10 0.4704940888723505\n",
      "10 15 0.4721579039095017\n",
      "10 None 0.4721702830853856\n",
      "11 5 0.7463381984114239\n",
      "11 10 0.7552477989695504\n",
      "12 5 0.505101532914189\n",
      "12 10 0.5122469991502826\n",
      "13 10 0.0887760495333344\n",
      "13 15 0.1728379206046414\n",
      "13 20 0.20614283773368205\n",
      "13 33 0.20733272252843632\n",
      "14 5 0.5851890843693002\n",
      "14 10 0.6130712205616952\n",
      "14 15 0.629799013445402\n",
      "15 5 0.5462931956052013\n",
      "15 10 0.5696438069067155\n",
      "16 5 0.7822120090027848\n",
      "16 10 0.7844733260792703\n",
      "16 20 0.7848288900018365\n",
      "17 5 0.2834156155641698\n",
      "17 10 0.34422160384350803\n",
      "17 15 0.3524780308605383\n",
      "17 20 0.3540689088345058\n",
      "17 33 0.3582247492780855\n",
      "17 None 0.3583618510717098\n",
      "18 5 0.6675611373472161\n",
      "18 10 0.6763564777981795\n",
      "18 33 0.6769469532391651\n",
      "18 None 0.6772262145528812\n",
      "19 None 0.06373651281120925\n",
      "20 5 0.4422565368662461\n",
      "20 10 0.49532645375610357\n",
      "20 15 0.5060209174095608\n",
      "20 20 0.5099178179261843\n",
      "20 33 0.5115134861909645\n",
      "20 None 0.5142464138449553\n",
      "21 5 0.08842889758414454\n",
      "21 10 0.17691419169239284\n",
      "21 15 0.20928809090787012\n",
      "21 20 0.2120629797849836\n",
      "21 33 0.2245472373692768\n",
      "21 None 0.23187859761688118\n",
      "22 5 0.27724898687020405\n",
      "22 10 0.3687244972280986\n",
      "22 15 0.37937595757444165\n",
      "22 20 0.3935427002320975\n",
      "22 33 0.3971096239639721\n",
      "22 None 0.40267269961419305\n",
      "23 5 0.026193044806900788\n",
      "23 10 0.04097877429129591\n",
      "23 15 0.09786885893748926\n",
      "23 20 0.1180491608482906\n",
      "23 33 0.13150007057447294\n",
      "23 None 0.1450251151151356\n",
      "24 5 0.02537977632279153\n",
      "24 10 0.09304212356616344\n",
      "24 15 0.13936498310795392\n",
      "24 20 0.14048623202246835\n",
      "24 33 0.15344605676898726\n",
      "24 None 0.17353673594403068\n",
      "25 5 0.22435748080577655\n",
      "25 10 0.2774857255750636\n",
      "25 15 0.29213475614352447\n",
      "25 20 0.30418826953994094\n",
      "25 33 0.30697840277052857\n",
      "25 None 0.31452751375009014\n",
      "26 5 0.7554635841697377\n",
      "26 10 0.7615348604521297\n",
      "26 15 0.762507438184682\n",
      "26 20 0.7625371170347016\n",
      "26 33 0.7628423629037085\n",
      "27 5 0.18458605169580916\n",
      "27 10 0.277480406828241\n",
      "27 15 0.28665474850457867\n",
      "27 20 0.2914670871407743\n",
      "27 33 0.2924295845828444\n",
      "27 None 0.2954771477784873\n",
      "28 5 0.6654155453643661\n",
      "28 10 0.6756393165534497\n",
      "28 15 0.6786180247921259\n",
      "28 20 0.6788362066738068\n",
      "28 33 0.6789343040122324\n",
      "28 None 0.6794453041333696\n",
      "29 5 0.02439705250850026\n",
      "29 10 0.14998837155941144\n",
      "29 20 0.16683491128357536\n",
      "29 33 0.17844843167373936\n",
      "29 None 0.1871284163146892\n"
     ]
    }
   ],
   "source": [
    "from scipy.stats import spearmanr\n",
    "opt_ds = []\n",
    "opt_indices = []\n",
    "for idx in range(N_TARGETS):\n",
    "    opt_score = 0\n",
    "    opt_d = None\n",
    "    for d in [5, 10, 15, 20, 33, None]:\n",
    "        score = spearmanr(scale(oofs[:,idx], d), y[:,idx])[0]\n",
    "        if score > opt_score:\n",
    "            opt_score = score\n",
    "            opt_d = d\n",
    "            print(idx, d, score)\n",
    "    if opt_d:\n",
    "        opt_ds.append(opt_d)\n",
    "        opt_indices.append(idx)"
   ]
  },
  {
   "cell_type": "code",
   "execution_count": 15,
   "metadata": {},
   "outputs": [
    {
     "data": {
      "text/plain": [
       "([15, 33, 5, 33, 20, 10, 10, 33, 15, 10, 20, 33],\n",
       " [2, 4, 5, 7, 8, 11, 12, 13, 14, 15, 16, 26])"
      ]
     },
     "execution_count": 15,
     "metadata": {},
     "output_type": "execute_result"
    }
   ],
   "source": [
    "opt_ds, opt_indices"
   ]
  },
  {
   "cell_type": "code",
   "execution_count": 16,
   "metadata": {},
   "outputs": [
    {
     "data": {
      "text/plain": [
       "0.4303068706802039"
      ]
     },
     "execution_count": 16,
     "metadata": {},
     "output_type": "execute_result"
    }
   ],
   "source": [
    "spearmanr_np(ahmet_round(oofs, opt_ds, opt_indices), y)"
   ]
  },
  {
   "cell_type": "code",
   "execution_count": 17,
   "metadata": {
    "scrolled": false
   },
   "outputs": [
    {
     "data": {
      "text/plain": [
       "0.43433013410434457"
      ]
     },
     "execution_count": 17,
     "metadata": {},
     "output_type": "execute_result"
    }
   ],
   "source": [
    "oofs_alt = oofs.copy()\n",
    "train[\"eng\"] = train[\"url\"].apply(lambda x: x.startswith(\"http://english.\") or x.startswith(\"http://ell.\"))\n",
    "oofs_alt[np.where((~train[\"eng\"]).values)[0], 19] = 0\n",
    "spearmanr_np(ahmet_round(oofs_alt, opt_ds, opt_indices), y)"
   ]
  },
  {
   "cell_type": "code",
   "execution_count": 18,
   "metadata": {
    "scrolled": false
   },
   "outputs": [
    {
     "data": {
      "text/plain": [
       "0.40650771634746646"
      ]
     },
     "execution_count": 18,
     "metadata": {},
     "output_type": "execute_result"
    }
   ],
   "source": [
    "spearmanr_np(oofs, y)"
   ]
  },
  {
   "cell_type": "code",
   "execution_count": 19,
   "metadata": {
    "scrolled": false
   },
   "outputs": [
    {
     "data": {
      "text/plain": [
       "0.41846950129970667"
      ]
     },
     "execution_count": 19,
     "metadata": {},
     "output_type": "execute_result"
    }
   ],
   "source": [
    "spearmanr_np(round_preds(oofs, high_num=3), y)"
   ]
  },
  {
   "cell_type": "code",
   "execution_count": 20,
   "metadata": {},
   "outputs": [],
   "source": [
    "# clipping is necessary or we will get an error\n",
    "sample_submission.loc[:, 'question_asker_intent_understanding':] = np.clip(preds, 0.00001, 0.999999)\n",
    "sample_submission.to_csv('subs/submission.csv', index=False)"
   ]
  },
  {
   "cell_type": "code",
   "execution_count": 21,
   "metadata": {
    "scrolled": false
   },
   "outputs": [
    {
     "data": {
      "text/html": [
       "<div>\n",
       "<style scoped>\n",
       "    .dataframe tbody tr th:only-of-type {\n",
       "        vertical-align: middle;\n",
       "    }\n",
       "\n",
       "    .dataframe tbody tr th {\n",
       "        vertical-align: top;\n",
       "    }\n",
       "\n",
       "    .dataframe thead th {\n",
       "        text-align: right;\n",
       "    }\n",
       "</style>\n",
       "<table border=\"1\" class=\"dataframe\">\n",
       "  <thead>\n",
       "    <tr style=\"text-align: right;\">\n",
       "      <th></th>\n",
       "      <th>qa_id</th>\n",
       "      <th>question_asker_intent_understanding</th>\n",
       "      <th>question_body_critical</th>\n",
       "      <th>question_conversational</th>\n",
       "      <th>question_expect_short_answer</th>\n",
       "      <th>question_fact_seeking</th>\n",
       "      <th>question_has_commonly_accepted_answer</th>\n",
       "      <th>question_interestingness_others</th>\n",
       "      <th>question_interestingness_self</th>\n",
       "      <th>question_multi_intent</th>\n",
       "      <th>question_not_really_a_question</th>\n",
       "      <th>question_opinion_seeking</th>\n",
       "      <th>question_type_choice</th>\n",
       "      <th>question_type_compare</th>\n",
       "      <th>question_type_consequence</th>\n",
       "      <th>question_type_definition</th>\n",
       "      <th>question_type_entity</th>\n",
       "      <th>question_type_instructions</th>\n",
       "      <th>question_type_procedure</th>\n",
       "      <th>question_type_reason_explanation</th>\n",
       "      <th>question_type_spelling</th>\n",
       "      <th>question_well_written</th>\n",
       "      <th>answer_helpful</th>\n",
       "      <th>answer_level_of_information</th>\n",
       "      <th>answer_plausible</th>\n",
       "      <th>answer_relevance</th>\n",
       "      <th>answer_satisfaction</th>\n",
       "      <th>answer_type_instructions</th>\n",
       "      <th>answer_type_procedure</th>\n",
       "      <th>answer_type_reason_explanation</th>\n",
       "      <th>answer_well_written</th>\n",
       "    </tr>\n",
       "  </thead>\n",
       "  <tbody>\n",
       "    <tr>\n",
       "      <th>0</th>\n",
       "      <td>39</td>\n",
       "      <td>0.934762</td>\n",
       "      <td>0.656924</td>\n",
       "      <td>0.242477</td>\n",
       "      <td>0.481925</td>\n",
       "      <td>0.628274</td>\n",
       "      <td>0.510285</td>\n",
       "      <td>0.678073</td>\n",
       "      <td>0.657774</td>\n",
       "      <td>0.648280</td>\n",
       "      <td>0.001871</td>\n",
       "      <td>0.728245</td>\n",
       "      <td>0.691496</td>\n",
       "      <td>0.013274</td>\n",
       "      <td>0.174057</td>\n",
       "      <td>0.004490</td>\n",
       "      <td>0.011399</td>\n",
       "      <td>0.091556</td>\n",
       "      <td>0.110828</td>\n",
       "      <td>0.749433</td>\n",
       "      <td>0.000776</td>\n",
       "      <td>0.922527</td>\n",
       "      <td>0.857316</td>\n",
       "      <td>0.512967</td>\n",
       "      <td>0.935059</td>\n",
       "      <td>0.922437</td>\n",
       "      <td>0.749497</td>\n",
       "      <td>0.025368</td>\n",
       "      <td>0.042539</td>\n",
       "      <td>0.798099</td>\n",
       "      <td>0.884402</td>\n",
       "    </tr>\n",
       "    <tr>\n",
       "      <th>1</th>\n",
       "      <td>46</td>\n",
       "      <td>0.846585</td>\n",
       "      <td>0.477235</td>\n",
       "      <td>0.003869</td>\n",
       "      <td>0.744900</td>\n",
       "      <td>0.771112</td>\n",
       "      <td>0.912752</td>\n",
       "      <td>0.551168</td>\n",
       "      <td>0.480084</td>\n",
       "      <td>0.026770</td>\n",
       "      <td>0.005239</td>\n",
       "      <td>0.456381</td>\n",
       "      <td>0.133946</td>\n",
       "      <td>0.001852</td>\n",
       "      <td>0.000442</td>\n",
       "      <td>0.000502</td>\n",
       "      <td>0.005469</td>\n",
       "      <td>0.911224</td>\n",
       "      <td>0.208344</td>\n",
       "      <td>0.053383</td>\n",
       "      <td>0.000139</td>\n",
       "      <td>0.624007</td>\n",
       "      <td>0.954022</td>\n",
       "      <td>0.666018</td>\n",
       "      <td>0.977559</td>\n",
       "      <td>0.989437</td>\n",
       "      <td>0.897977</td>\n",
       "      <td>0.950721</td>\n",
       "      <td>0.117052</td>\n",
       "      <td>0.039979</td>\n",
       "      <td>0.900386</td>\n",
       "    </tr>\n",
       "    <tr>\n",
       "      <th>2</th>\n",
       "      <td>70</td>\n",
       "      <td>0.912942</td>\n",
       "      <td>0.657702</td>\n",
       "      <td>0.019668</td>\n",
       "      <td>0.715164</td>\n",
       "      <td>0.895934</td>\n",
       "      <td>0.944444</td>\n",
       "      <td>0.603080</td>\n",
       "      <td>0.539695</td>\n",
       "      <td>0.234792</td>\n",
       "      <td>0.001782</td>\n",
       "      <td>0.235643</td>\n",
       "      <td>0.708051</td>\n",
       "      <td>0.014479</td>\n",
       "      <td>0.062703</td>\n",
       "      <td>0.001620</td>\n",
       "      <td>0.004445</td>\n",
       "      <td>0.110414</td>\n",
       "      <td>0.080026</td>\n",
       "      <td>0.676070</td>\n",
       "      <td>0.000594</td>\n",
       "      <td>0.863120</td>\n",
       "      <td>0.914125</td>\n",
       "      <td>0.566432</td>\n",
       "      <td>0.964855</td>\n",
       "      <td>0.964544</td>\n",
       "      <td>0.835999</td>\n",
       "      <td>0.032455</td>\n",
       "      <td>0.042510</td>\n",
       "      <td>0.841056</td>\n",
       "      <td>0.890778</td>\n",
       "    </tr>\n",
       "    <tr>\n",
       "      <th>3</th>\n",
       "      <td>132</td>\n",
       "      <td>0.884823</td>\n",
       "      <td>0.427437</td>\n",
       "      <td>0.002233</td>\n",
       "      <td>0.710735</td>\n",
       "      <td>0.778419</td>\n",
       "      <td>0.926648</td>\n",
       "      <td>0.536231</td>\n",
       "      <td>0.428711</td>\n",
       "      <td>0.098376</td>\n",
       "      <td>0.003609</td>\n",
       "      <td>0.546023</td>\n",
       "      <td>0.055034</td>\n",
       "      <td>0.000916</td>\n",
       "      <td>0.001235</td>\n",
       "      <td>0.000205</td>\n",
       "      <td>0.001208</td>\n",
       "      <td>0.865661</td>\n",
       "      <td>0.186587</td>\n",
       "      <td>0.556885</td>\n",
       "      <td>0.000054</td>\n",
       "      <td>0.765429</td>\n",
       "      <td>0.957266</td>\n",
       "      <td>0.701225</td>\n",
       "      <td>0.980194</td>\n",
       "      <td>0.990051</td>\n",
       "      <td>0.906144</td>\n",
       "      <td>0.865860</td>\n",
       "      <td>0.197467</td>\n",
       "      <td>0.662596</td>\n",
       "      <td>0.923817</td>\n",
       "    </tr>\n",
       "    <tr>\n",
       "      <th>4</th>\n",
       "      <td>200</td>\n",
       "      <td>0.909865</td>\n",
       "      <td>0.453308</td>\n",
       "      <td>0.026085</td>\n",
       "      <td>0.838187</td>\n",
       "      <td>0.794998</td>\n",
       "      <td>0.890576</td>\n",
       "      <td>0.644431</td>\n",
       "      <td>0.622753</td>\n",
       "      <td>0.172040</td>\n",
       "      <td>0.011852</td>\n",
       "      <td>0.368020</td>\n",
       "      <td>0.443618</td>\n",
       "      <td>0.008239</td>\n",
       "      <td>0.022950</td>\n",
       "      <td>0.008061</td>\n",
       "      <td>0.061001</td>\n",
       "      <td>0.253475</td>\n",
       "      <td>0.118254</td>\n",
       "      <td>0.493314</td>\n",
       "      <td>0.002630</td>\n",
       "      <td>0.682372</td>\n",
       "      <td>0.912982</td>\n",
       "      <td>0.681847</td>\n",
       "      <td>0.967014</td>\n",
       "      <td>0.968402</td>\n",
       "      <td>0.857767</td>\n",
       "      <td>0.294825</td>\n",
       "      <td>0.143086</td>\n",
       "      <td>0.706961</td>\n",
       "      <td>0.903488</td>\n",
       "    </tr>\n",
       "  </tbody>\n",
       "</table>\n",
       "</div>"
      ],
      "text/plain": [
       "   qa_id  question_asker_intent_understanding  question_body_critical  \\\n",
       "0     39                             0.934762                0.656924   \n",
       "1     46                             0.846585                0.477235   \n",
       "2     70                             0.912942                0.657702   \n",
       "3    132                             0.884823                0.427437   \n",
       "4    200                             0.909865                0.453308   \n",
       "\n",
       "   question_conversational  question_expect_short_answer  \\\n",
       "0                 0.242477                      0.481925   \n",
       "1                 0.003869                      0.744900   \n",
       "2                 0.019668                      0.715164   \n",
       "3                 0.002233                      0.710735   \n",
       "4                 0.026085                      0.838187   \n",
       "\n",
       "   question_fact_seeking  question_has_commonly_accepted_answer  \\\n",
       "0               0.628274                               0.510285   \n",
       "1               0.771112                               0.912752   \n",
       "2               0.895934                               0.944444   \n",
       "3               0.778419                               0.926648   \n",
       "4               0.794998                               0.890576   \n",
       "\n",
       "   question_interestingness_others  question_interestingness_self  \\\n",
       "0                         0.678073                       0.657774   \n",
       "1                         0.551168                       0.480084   \n",
       "2                         0.603080                       0.539695   \n",
       "3                         0.536231                       0.428711   \n",
       "4                         0.644431                       0.622753   \n",
       "\n",
       "   question_multi_intent  question_not_really_a_question  \\\n",
       "0               0.648280                        0.001871   \n",
       "1               0.026770                        0.005239   \n",
       "2               0.234792                        0.001782   \n",
       "3               0.098376                        0.003609   \n",
       "4               0.172040                        0.011852   \n",
       "\n",
       "   question_opinion_seeking  question_type_choice  question_type_compare  \\\n",
       "0                  0.728245              0.691496               0.013274   \n",
       "1                  0.456381              0.133946               0.001852   \n",
       "2                  0.235643              0.708051               0.014479   \n",
       "3                  0.546023              0.055034               0.000916   \n",
       "4                  0.368020              0.443618               0.008239   \n",
       "\n",
       "   question_type_consequence  question_type_definition  question_type_entity  \\\n",
       "0                   0.174057                  0.004490              0.011399   \n",
       "1                   0.000442                  0.000502              0.005469   \n",
       "2                   0.062703                  0.001620              0.004445   \n",
       "3                   0.001235                  0.000205              0.001208   \n",
       "4                   0.022950                  0.008061              0.061001   \n",
       "\n",
       "   question_type_instructions  question_type_procedure  \\\n",
       "0                    0.091556                 0.110828   \n",
       "1                    0.911224                 0.208344   \n",
       "2                    0.110414                 0.080026   \n",
       "3                    0.865661                 0.186587   \n",
       "4                    0.253475                 0.118254   \n",
       "\n",
       "   question_type_reason_explanation  question_type_spelling  \\\n",
       "0                          0.749433                0.000776   \n",
       "1                          0.053383                0.000139   \n",
       "2                          0.676070                0.000594   \n",
       "3                          0.556885                0.000054   \n",
       "4                          0.493314                0.002630   \n",
       "\n",
       "   question_well_written  answer_helpful  answer_level_of_information  \\\n",
       "0               0.922527        0.857316                     0.512967   \n",
       "1               0.624007        0.954022                     0.666018   \n",
       "2               0.863120        0.914125                     0.566432   \n",
       "3               0.765429        0.957266                     0.701225   \n",
       "4               0.682372        0.912982                     0.681847   \n",
       "\n",
       "   answer_plausible  answer_relevance  answer_satisfaction  \\\n",
       "0          0.935059          0.922437             0.749497   \n",
       "1          0.977559          0.989437             0.897977   \n",
       "2          0.964855          0.964544             0.835999   \n",
       "3          0.980194          0.990051             0.906144   \n",
       "4          0.967014          0.968402             0.857767   \n",
       "\n",
       "   answer_type_instructions  answer_type_procedure  \\\n",
       "0                  0.025368               0.042539   \n",
       "1                  0.950721               0.117052   \n",
       "2                  0.032455               0.042510   \n",
       "3                  0.865860               0.197467   \n",
       "4                  0.294825               0.143086   \n",
       "\n",
       "   answer_type_reason_explanation  answer_well_written  \n",
       "0                        0.798099             0.884402  \n",
       "1                        0.039979             0.900386  \n",
       "2                        0.841056             0.890778  \n",
       "3                        0.662596             0.923817  \n",
       "4                        0.706961             0.903488  "
      ]
     },
     "execution_count": 21,
     "metadata": {},
     "output_type": "execute_result"
    }
   ],
   "source": [
    "sample_submission.head()"
   ]
  },
  {
   "cell_type": "code",
   "execution_count": 22,
   "metadata": {},
   "outputs": [],
   "source": [
    "pd.DataFrame(oofs, columns=TARGETS).to_csv(f'oofs/{model_name}_oofs.csv')"
   ]
  },
  {
   "cell_type": "code",
   "execution_count": 23,
   "metadata": {},
   "outputs": [
    {
     "data": {
      "text/html": [
       "<div>\n",
       "<style scoped>\n",
       "    .dataframe tbody tr th:only-of-type {\n",
       "        vertical-align: middle;\n",
       "    }\n",
       "\n",
       "    .dataframe tbody tr th {\n",
       "        vertical-align: top;\n",
       "    }\n",
       "\n",
       "    .dataframe thead th {\n",
       "        text-align: right;\n",
       "    }\n",
       "</style>\n",
       "<table border=\"1\" class=\"dataframe\">\n",
       "  <thead>\n",
       "    <tr style=\"text-align: right;\">\n",
       "      <th></th>\n",
       "      <th>question_asker_intent_understanding</th>\n",
       "      <th>question_body_critical</th>\n",
       "      <th>question_conversational</th>\n",
       "      <th>question_expect_short_answer</th>\n",
       "      <th>question_fact_seeking</th>\n",
       "      <th>question_has_commonly_accepted_answer</th>\n",
       "      <th>question_interestingness_others</th>\n",
       "      <th>question_interestingness_self</th>\n",
       "      <th>question_multi_intent</th>\n",
       "      <th>question_not_really_a_question</th>\n",
       "      <th>question_opinion_seeking</th>\n",
       "      <th>question_type_choice</th>\n",
       "      <th>question_type_compare</th>\n",
       "      <th>question_type_consequence</th>\n",
       "      <th>question_type_definition</th>\n",
       "      <th>question_type_entity</th>\n",
       "      <th>question_type_instructions</th>\n",
       "      <th>question_type_procedure</th>\n",
       "      <th>question_type_reason_explanation</th>\n",
       "      <th>question_type_spelling</th>\n",
       "      <th>question_well_written</th>\n",
       "      <th>answer_helpful</th>\n",
       "      <th>answer_level_of_information</th>\n",
       "      <th>answer_plausible</th>\n",
       "      <th>answer_relevance</th>\n",
       "      <th>answer_satisfaction</th>\n",
       "      <th>answer_type_instructions</th>\n",
       "      <th>answer_type_procedure</th>\n",
       "      <th>answer_type_reason_explanation</th>\n",
       "      <th>answer_well_written</th>\n",
       "    </tr>\n",
       "  </thead>\n",
       "  <tbody>\n",
       "    <tr>\n",
       "      <th>0</th>\n",
       "      <td>0.955431</td>\n",
       "      <td>0.746603</td>\n",
       "      <td>0.119908</td>\n",
       "      <td>0.670615</td>\n",
       "      <td>0.621180</td>\n",
       "      <td>0.415217</td>\n",
       "      <td>0.653973</td>\n",
       "      <td>0.608525</td>\n",
       "      <td>0.207263</td>\n",
       "      <td>0.002647</td>\n",
       "      <td>0.796889</td>\n",
       "      <td>0.225710</td>\n",
       "      <td>0.225685</td>\n",
       "      <td>0.033276</td>\n",
       "      <td>0.004557</td>\n",
       "      <td>0.072235</td>\n",
       "      <td>0.147587</td>\n",
       "      <td>0.060995</td>\n",
       "      <td>0.545380</td>\n",
       "      <td>0.000822</td>\n",
       "      <td>0.927356</td>\n",
       "      <td>0.952427</td>\n",
       "      <td>0.693486</td>\n",
       "      <td>0.982348</td>\n",
       "      <td>0.983064</td>\n",
       "      <td>0.900108</td>\n",
       "      <td>0.084142</td>\n",
       "      <td>0.042036</td>\n",
       "      <td>0.895877</td>\n",
       "      <td>0.943306</td>\n",
       "    </tr>\n",
       "    <tr>\n",
       "      <th>1</th>\n",
       "      <td>0.976048</td>\n",
       "      <td>0.850934</td>\n",
       "      <td>0.021541</td>\n",
       "      <td>0.660974</td>\n",
       "      <td>0.960611</td>\n",
       "      <td>0.791212</td>\n",
       "      <td>0.623503</td>\n",
       "      <td>0.670557</td>\n",
       "      <td>0.168029</td>\n",
       "      <td>0.001289</td>\n",
       "      <td>0.218992</td>\n",
       "      <td>0.039029</td>\n",
       "      <td>0.759054</td>\n",
       "      <td>0.005212</td>\n",
       "      <td>0.229206</td>\n",
       "      <td>0.021930</td>\n",
       "      <td>0.023032</td>\n",
       "      <td>0.031027</td>\n",
       "      <td>0.275297</td>\n",
       "      <td>0.002581</td>\n",
       "      <td>0.939955</td>\n",
       "      <td>0.905178</td>\n",
       "      <td>0.605821</td>\n",
       "      <td>0.938638</td>\n",
       "      <td>0.958259</td>\n",
       "      <td>0.807424</td>\n",
       "      <td>0.007072</td>\n",
       "      <td>0.017945</td>\n",
       "      <td>0.483992</td>\n",
       "      <td>0.951779</td>\n",
       "    </tr>\n",
       "    <tr>\n",
       "      <th>2</th>\n",
       "      <td>0.929943</td>\n",
       "      <td>0.456303</td>\n",
       "      <td>0.003617</td>\n",
       "      <td>0.855359</td>\n",
       "      <td>0.889143</td>\n",
       "      <td>0.905767</td>\n",
       "      <td>0.607673</td>\n",
       "      <td>0.482768</td>\n",
       "      <td>0.185663</td>\n",
       "      <td>0.001077</td>\n",
       "      <td>0.324997</td>\n",
       "      <td>0.291109</td>\n",
       "      <td>0.004420</td>\n",
       "      <td>0.002297</td>\n",
       "      <td>0.000493</td>\n",
       "      <td>0.199576</td>\n",
       "      <td>0.670903</td>\n",
       "      <td>0.106324</td>\n",
       "      <td>0.110621</td>\n",
       "      <td>0.000199</td>\n",
       "      <td>0.812488</td>\n",
       "      <td>0.949692</td>\n",
       "      <td>0.706350</td>\n",
       "      <td>0.980803</td>\n",
       "      <td>0.976962</td>\n",
       "      <td>0.899035</td>\n",
       "      <td>0.557777</td>\n",
       "      <td>0.140025</td>\n",
       "      <td>0.510901</td>\n",
       "      <td>0.937939</td>\n",
       "    </tr>\n",
       "    <tr>\n",
       "      <th>3</th>\n",
       "      <td>0.914411</td>\n",
       "      <td>0.735101</td>\n",
       "      <td>0.137467</td>\n",
       "      <td>0.815889</td>\n",
       "      <td>0.808142</td>\n",
       "      <td>0.843984</td>\n",
       "      <td>0.640217</td>\n",
       "      <td>0.666537</td>\n",
       "      <td>0.217857</td>\n",
       "      <td>0.001137</td>\n",
       "      <td>0.315923</td>\n",
       "      <td>0.894994</td>\n",
       "      <td>0.015986</td>\n",
       "      <td>0.023271</td>\n",
       "      <td>0.035722</td>\n",
       "      <td>0.023313</td>\n",
       "      <td>0.027178</td>\n",
       "      <td>0.097503</td>\n",
       "      <td>0.512486</td>\n",
       "      <td>0.002222</td>\n",
       "      <td>0.922483</td>\n",
       "      <td>0.932451</td>\n",
       "      <td>0.749418</td>\n",
       "      <td>0.946535</td>\n",
       "      <td>0.975750</td>\n",
       "      <td>0.899813</td>\n",
       "      <td>0.061159</td>\n",
       "      <td>0.173044</td>\n",
       "      <td>0.883689</td>\n",
       "      <td>0.896486</td>\n",
       "    </tr>\n",
       "    <tr>\n",
       "      <th>4</th>\n",
       "      <td>0.933750</td>\n",
       "      <td>0.737264</td>\n",
       "      <td>0.001411</td>\n",
       "      <td>0.773025</td>\n",
       "      <td>0.892032</td>\n",
       "      <td>0.942724</td>\n",
       "      <td>0.569266</td>\n",
       "      <td>0.530456</td>\n",
       "      <td>0.094754</td>\n",
       "      <td>0.000526</td>\n",
       "      <td>0.216748</td>\n",
       "      <td>0.421603</td>\n",
       "      <td>0.000760</td>\n",
       "      <td>0.000486</td>\n",
       "      <td>0.000523</td>\n",
       "      <td>0.002921</td>\n",
       "      <td>0.853047</td>\n",
       "      <td>0.191451</td>\n",
       "      <td>0.114402</td>\n",
       "      <td>0.000054</td>\n",
       "      <td>0.910902</td>\n",
       "      <td>0.926448</td>\n",
       "      <td>0.627960</td>\n",
       "      <td>0.959598</td>\n",
       "      <td>0.971130</td>\n",
       "      <td>0.878854</td>\n",
       "      <td>0.899469</td>\n",
       "      <td>0.088713</td>\n",
       "      <td>0.030540</td>\n",
       "      <td>0.898011</td>\n",
       "    </tr>\n",
       "    <tr>\n",
       "      <th>...</th>\n",
       "      <td>...</td>\n",
       "      <td>...</td>\n",
       "      <td>...</td>\n",
       "      <td>...</td>\n",
       "      <td>...</td>\n",
       "      <td>...</td>\n",
       "      <td>...</td>\n",
       "      <td>...</td>\n",
       "      <td>...</td>\n",
       "      <td>...</td>\n",
       "      <td>...</td>\n",
       "      <td>...</td>\n",
       "      <td>...</td>\n",
       "      <td>...</td>\n",
       "      <td>...</td>\n",
       "      <td>...</td>\n",
       "      <td>...</td>\n",
       "      <td>...</td>\n",
       "      <td>...</td>\n",
       "      <td>...</td>\n",
       "      <td>...</td>\n",
       "      <td>...</td>\n",
       "      <td>...</td>\n",
       "      <td>...</td>\n",
       "      <td>...</td>\n",
       "      <td>...</td>\n",
       "      <td>...</td>\n",
       "      <td>...</td>\n",
       "      <td>...</td>\n",
       "      <td>...</td>\n",
       "    </tr>\n",
       "    <tr>\n",
       "      <th>6074</th>\n",
       "      <td>0.951098</td>\n",
       "      <td>0.577344</td>\n",
       "      <td>0.053956</td>\n",
       "      <td>0.901900</td>\n",
       "      <td>0.817987</td>\n",
       "      <td>0.815541</td>\n",
       "      <td>0.663816</td>\n",
       "      <td>0.625896</td>\n",
       "      <td>0.289615</td>\n",
       "      <td>0.000842</td>\n",
       "      <td>0.499248</td>\n",
       "      <td>0.851837</td>\n",
       "      <td>0.094929</td>\n",
       "      <td>0.027870</td>\n",
       "      <td>0.007503</td>\n",
       "      <td>0.057893</td>\n",
       "      <td>0.031116</td>\n",
       "      <td>0.028277</td>\n",
       "      <td>0.416113</td>\n",
       "      <td>0.000773</td>\n",
       "      <td>0.883249</td>\n",
       "      <td>0.959742</td>\n",
       "      <td>0.734366</td>\n",
       "      <td>0.986528</td>\n",
       "      <td>0.984787</td>\n",
       "      <td>0.902279</td>\n",
       "      <td>0.064620</td>\n",
       "      <td>0.036286</td>\n",
       "      <td>0.862787</td>\n",
       "      <td>0.957050</td>\n",
       "    </tr>\n",
       "    <tr>\n",
       "      <th>6075</th>\n",
       "      <td>0.972658</td>\n",
       "      <td>0.669992</td>\n",
       "      <td>0.039512</td>\n",
       "      <td>0.735828</td>\n",
       "      <td>0.585074</td>\n",
       "      <td>0.386367</td>\n",
       "      <td>0.715607</td>\n",
       "      <td>0.720453</td>\n",
       "      <td>0.012578</td>\n",
       "      <td>0.002861</td>\n",
       "      <td>0.799670</td>\n",
       "      <td>0.007851</td>\n",
       "      <td>0.002577</td>\n",
       "      <td>0.001678</td>\n",
       "      <td>0.000284</td>\n",
       "      <td>0.004734</td>\n",
       "      <td>0.776426</td>\n",
       "      <td>0.244138</td>\n",
       "      <td>0.133406</td>\n",
       "      <td>0.000086</td>\n",
       "      <td>0.913941</td>\n",
       "      <td>0.955846</td>\n",
       "      <td>0.696555</td>\n",
       "      <td>0.981599</td>\n",
       "      <td>0.990231</td>\n",
       "      <td>0.898925</td>\n",
       "      <td>0.787280</td>\n",
       "      <td>0.198667</td>\n",
       "      <td>0.398133</td>\n",
       "      <td>0.959854</td>\n",
       "    </tr>\n",
       "    <tr>\n",
       "      <th>6076</th>\n",
       "      <td>0.869820</td>\n",
       "      <td>0.492574</td>\n",
       "      <td>0.001771</td>\n",
       "      <td>0.762136</td>\n",
       "      <td>0.829232</td>\n",
       "      <td>0.934313</td>\n",
       "      <td>0.546226</td>\n",
       "      <td>0.456499</td>\n",
       "      <td>0.133659</td>\n",
       "      <td>0.001801</td>\n",
       "      <td>0.421210</td>\n",
       "      <td>0.281535</td>\n",
       "      <td>0.001744</td>\n",
       "      <td>0.000908</td>\n",
       "      <td>0.000426</td>\n",
       "      <td>0.003191</td>\n",
       "      <td>0.902599</td>\n",
       "      <td>0.248104</td>\n",
       "      <td>0.106534</td>\n",
       "      <td>0.000064</td>\n",
       "      <td>0.746232</td>\n",
       "      <td>0.853075</td>\n",
       "      <td>0.569891</td>\n",
       "      <td>0.935452</td>\n",
       "      <td>0.921106</td>\n",
       "      <td>0.741489</td>\n",
       "      <td>0.619335</td>\n",
       "      <td>0.131416</td>\n",
       "      <td>0.404847</td>\n",
       "      <td>0.787566</td>\n",
       "    </tr>\n",
       "    <tr>\n",
       "      <th>6077</th>\n",
       "      <td>0.940866</td>\n",
       "      <td>0.671059</td>\n",
       "      <td>0.576498</td>\n",
       "      <td>0.237285</td>\n",
       "      <td>0.334350</td>\n",
       "      <td>0.136782</td>\n",
       "      <td>0.675316</td>\n",
       "      <td>0.718882</td>\n",
       "      <td>0.725713</td>\n",
       "      <td>0.000882</td>\n",
       "      <td>0.952840</td>\n",
       "      <td>0.494618</td>\n",
       "      <td>0.107772</td>\n",
       "      <td>0.081063</td>\n",
       "      <td>0.009673</td>\n",
       "      <td>0.019116</td>\n",
       "      <td>0.033481</td>\n",
       "      <td>0.167053</td>\n",
       "      <td>0.657955</td>\n",
       "      <td>0.000379</td>\n",
       "      <td>0.949273</td>\n",
       "      <td>0.914577</td>\n",
       "      <td>0.645730</td>\n",
       "      <td>0.963454</td>\n",
       "      <td>0.969833</td>\n",
       "      <td>0.848590</td>\n",
       "      <td>0.018681</td>\n",
       "      <td>0.090655</td>\n",
       "      <td>0.864826</td>\n",
       "      <td>0.954003</td>\n",
       "    </tr>\n",
       "    <tr>\n",
       "      <th>6078</th>\n",
       "      <td>0.925251</td>\n",
       "      <td>0.735520</td>\n",
       "      <td>0.081626</td>\n",
       "      <td>0.325091</td>\n",
       "      <td>0.938748</td>\n",
       "      <td>0.565200</td>\n",
       "      <td>0.648241</td>\n",
       "      <td>0.551793</td>\n",
       "      <td>0.623353</td>\n",
       "      <td>0.000306</td>\n",
       "      <td>0.383529</td>\n",
       "      <td>0.053532</td>\n",
       "      <td>0.340013</td>\n",
       "      <td>0.018003</td>\n",
       "      <td>0.010487</td>\n",
       "      <td>0.015248</td>\n",
       "      <td>0.008369</td>\n",
       "      <td>0.017481</td>\n",
       "      <td>0.960559</td>\n",
       "      <td>0.000243</td>\n",
       "      <td>0.911499</td>\n",
       "      <td>0.952684</td>\n",
       "      <td>0.665069</td>\n",
       "      <td>0.976404</td>\n",
       "      <td>0.979980</td>\n",
       "      <td>0.896296</td>\n",
       "      <td>0.019603</td>\n",
       "      <td>0.019312</td>\n",
       "      <td>0.972646</td>\n",
       "      <td>0.947426</td>\n",
       "    </tr>\n",
       "  </tbody>\n",
       "</table>\n",
       "<p>6079 rows × 30 columns</p>\n",
       "</div>"
      ],
      "text/plain": [
       "      question_asker_intent_understanding  question_body_critical  \\\n",
       "0                                0.955431                0.746603   \n",
       "1                                0.976048                0.850934   \n",
       "2                                0.929943                0.456303   \n",
       "3                                0.914411                0.735101   \n",
       "4                                0.933750                0.737264   \n",
       "...                                   ...                     ...   \n",
       "6074                             0.951098                0.577344   \n",
       "6075                             0.972658                0.669992   \n",
       "6076                             0.869820                0.492574   \n",
       "6077                             0.940866                0.671059   \n",
       "6078                             0.925251                0.735520   \n",
       "\n",
       "      question_conversational  question_expect_short_answer  \\\n",
       "0                    0.119908                      0.670615   \n",
       "1                    0.021541                      0.660974   \n",
       "2                    0.003617                      0.855359   \n",
       "3                    0.137467                      0.815889   \n",
       "4                    0.001411                      0.773025   \n",
       "...                       ...                           ...   \n",
       "6074                 0.053956                      0.901900   \n",
       "6075                 0.039512                      0.735828   \n",
       "6076                 0.001771                      0.762136   \n",
       "6077                 0.576498                      0.237285   \n",
       "6078                 0.081626                      0.325091   \n",
       "\n",
       "      question_fact_seeking  question_has_commonly_accepted_answer  \\\n",
       "0                  0.621180                               0.415217   \n",
       "1                  0.960611                               0.791212   \n",
       "2                  0.889143                               0.905767   \n",
       "3                  0.808142                               0.843984   \n",
       "4                  0.892032                               0.942724   \n",
       "...                     ...                                    ...   \n",
       "6074               0.817987                               0.815541   \n",
       "6075               0.585074                               0.386367   \n",
       "6076               0.829232                               0.934313   \n",
       "6077               0.334350                               0.136782   \n",
       "6078               0.938748                               0.565200   \n",
       "\n",
       "      question_interestingness_others  question_interestingness_self  \\\n",
       "0                            0.653973                       0.608525   \n",
       "1                            0.623503                       0.670557   \n",
       "2                            0.607673                       0.482768   \n",
       "3                            0.640217                       0.666537   \n",
       "4                            0.569266                       0.530456   \n",
       "...                               ...                            ...   \n",
       "6074                         0.663816                       0.625896   \n",
       "6075                         0.715607                       0.720453   \n",
       "6076                         0.546226                       0.456499   \n",
       "6077                         0.675316                       0.718882   \n",
       "6078                         0.648241                       0.551793   \n",
       "\n",
       "      question_multi_intent  question_not_really_a_question  \\\n",
       "0                  0.207263                        0.002647   \n",
       "1                  0.168029                        0.001289   \n",
       "2                  0.185663                        0.001077   \n",
       "3                  0.217857                        0.001137   \n",
       "4                  0.094754                        0.000526   \n",
       "...                     ...                             ...   \n",
       "6074               0.289615                        0.000842   \n",
       "6075               0.012578                        0.002861   \n",
       "6076               0.133659                        0.001801   \n",
       "6077               0.725713                        0.000882   \n",
       "6078               0.623353                        0.000306   \n",
       "\n",
       "      question_opinion_seeking  question_type_choice  question_type_compare  \\\n",
       "0                     0.796889              0.225710               0.225685   \n",
       "1                     0.218992              0.039029               0.759054   \n",
       "2                     0.324997              0.291109               0.004420   \n",
       "3                     0.315923              0.894994               0.015986   \n",
       "4                     0.216748              0.421603               0.000760   \n",
       "...                        ...                   ...                    ...   \n",
       "6074                  0.499248              0.851837               0.094929   \n",
       "6075                  0.799670              0.007851               0.002577   \n",
       "6076                  0.421210              0.281535               0.001744   \n",
       "6077                  0.952840              0.494618               0.107772   \n",
       "6078                  0.383529              0.053532               0.340013   \n",
       "\n",
       "      question_type_consequence  question_type_definition  \\\n",
       "0                      0.033276                  0.004557   \n",
       "1                      0.005212                  0.229206   \n",
       "2                      0.002297                  0.000493   \n",
       "3                      0.023271                  0.035722   \n",
       "4                      0.000486                  0.000523   \n",
       "...                         ...                       ...   \n",
       "6074                   0.027870                  0.007503   \n",
       "6075                   0.001678                  0.000284   \n",
       "6076                   0.000908                  0.000426   \n",
       "6077                   0.081063                  0.009673   \n",
       "6078                   0.018003                  0.010487   \n",
       "\n",
       "      question_type_entity  question_type_instructions  \\\n",
       "0                 0.072235                    0.147587   \n",
       "1                 0.021930                    0.023032   \n",
       "2                 0.199576                    0.670903   \n",
       "3                 0.023313                    0.027178   \n",
       "4                 0.002921                    0.853047   \n",
       "...                    ...                         ...   \n",
       "6074              0.057893                    0.031116   \n",
       "6075              0.004734                    0.776426   \n",
       "6076              0.003191                    0.902599   \n",
       "6077              0.019116                    0.033481   \n",
       "6078              0.015248                    0.008369   \n",
       "\n",
       "      question_type_procedure  question_type_reason_explanation  \\\n",
       "0                    0.060995                          0.545380   \n",
       "1                    0.031027                          0.275297   \n",
       "2                    0.106324                          0.110621   \n",
       "3                    0.097503                          0.512486   \n",
       "4                    0.191451                          0.114402   \n",
       "...                       ...                               ...   \n",
       "6074                 0.028277                          0.416113   \n",
       "6075                 0.244138                          0.133406   \n",
       "6076                 0.248104                          0.106534   \n",
       "6077                 0.167053                          0.657955   \n",
       "6078                 0.017481                          0.960559   \n",
       "\n",
       "      question_type_spelling  question_well_written  answer_helpful  \\\n",
       "0                   0.000822               0.927356        0.952427   \n",
       "1                   0.002581               0.939955        0.905178   \n",
       "2                   0.000199               0.812488        0.949692   \n",
       "3                   0.002222               0.922483        0.932451   \n",
       "4                   0.000054               0.910902        0.926448   \n",
       "...                      ...                    ...             ...   \n",
       "6074                0.000773               0.883249        0.959742   \n",
       "6075                0.000086               0.913941        0.955846   \n",
       "6076                0.000064               0.746232        0.853075   \n",
       "6077                0.000379               0.949273        0.914577   \n",
       "6078                0.000243               0.911499        0.952684   \n",
       "\n",
       "      answer_level_of_information  answer_plausible  answer_relevance  \\\n",
       "0                        0.693486          0.982348          0.983064   \n",
       "1                        0.605821          0.938638          0.958259   \n",
       "2                        0.706350          0.980803          0.976962   \n",
       "3                        0.749418          0.946535          0.975750   \n",
       "4                        0.627960          0.959598          0.971130   \n",
       "...                           ...               ...               ...   \n",
       "6074                     0.734366          0.986528          0.984787   \n",
       "6075                     0.696555          0.981599          0.990231   \n",
       "6076                     0.569891          0.935452          0.921106   \n",
       "6077                     0.645730          0.963454          0.969833   \n",
       "6078                     0.665069          0.976404          0.979980   \n",
       "\n",
       "      answer_satisfaction  answer_type_instructions  answer_type_procedure  \\\n",
       "0                0.900108                  0.084142               0.042036   \n",
       "1                0.807424                  0.007072               0.017945   \n",
       "2                0.899035                  0.557777               0.140025   \n",
       "3                0.899813                  0.061159               0.173044   \n",
       "4                0.878854                  0.899469               0.088713   \n",
       "...                   ...                       ...                    ...   \n",
       "6074             0.902279                  0.064620               0.036286   \n",
       "6075             0.898925                  0.787280               0.198667   \n",
       "6076             0.741489                  0.619335               0.131416   \n",
       "6077             0.848590                  0.018681               0.090655   \n",
       "6078             0.896296                  0.019603               0.019312   \n",
       "\n",
       "      answer_type_reason_explanation  answer_well_written  \n",
       "0                           0.895877             0.943306  \n",
       "1                           0.483992             0.951779  \n",
       "2                           0.510901             0.937939  \n",
       "3                           0.883689             0.896486  \n",
       "4                           0.030540             0.898011  \n",
       "...                              ...                  ...  \n",
       "6074                        0.862787             0.957050  \n",
       "6075                        0.398133             0.959854  \n",
       "6076                        0.404847             0.787566  \n",
       "6077                        0.864826             0.954003  \n",
       "6078                        0.972646             0.947426  \n",
       "\n",
       "[6079 rows x 30 columns]"
      ]
     },
     "execution_count": 23,
     "metadata": {},
     "output_type": "execute_result"
    }
   ],
   "source": [
    "pd.DataFrame(oofs, columns=TARGETS)"
   ]
  },
  {
   "cell_type": "code",
   "execution_count": 24,
   "metadata": {},
   "outputs": [
    {
     "data": {
      "text/plain": [
       "question_asker_intent_understanding      0.373616\n",
       "question_body_critical                   0.648084\n",
       "question_conversational                  0.417477\n",
       "question_expect_short_answer             0.316399\n",
       "question_fact_seeking                    0.360603\n",
       "question_has_commonly_accepted_answer    0.430574\n",
       "question_interestingness_others          0.348865\n",
       "question_interestingness_self            0.498013\n",
       "question_multi_intent                    0.578078\n",
       "question_not_really_a_question           0.087132\n",
       "question_opinion_seeking                 0.472170\n",
       "question_type_choice                     0.741307\n",
       "question_type_compare                    0.353147\n",
       "question_type_consequence                0.175862\n",
       "question_type_definition                 0.361585\n",
       "question_type_entity                     0.444693\n",
       "question_type_instructions               0.782392\n",
       "question_type_procedure                  0.358362\n",
       "question_type_reason_explanation         0.677226\n",
       "question_type_spelling                   0.063737\n",
       "question_well_written                    0.514246\n",
       "answer_helpful                           0.231879\n",
       "answer_level_of_information              0.402673\n",
       "answer_plausible                         0.145025\n",
       "answer_relevance                         0.173537\n",
       "answer_satisfaction                      0.314528\n",
       "answer_type_instructions                 0.761973\n",
       "answer_type_procedure                    0.295477\n",
       "answer_type_reason_explanation           0.679445\n",
       "answer_well_written                      0.187128\n",
       "dtype: float64"
      ]
     },
     "execution_count": 24,
     "metadata": {},
     "output_type": "execute_result"
    }
   ],
   "source": [
    "rs = pd.Series({col: spearmanr(oofs[:,i], y[:,i])[0] for i, col in enumerate(TARGETS)})\n",
    "rs"
   ]
  },
  {
   "cell_type": "code",
   "execution_count": 25,
   "metadata": {},
   "outputs": [
    {
     "data": {
      "text/html": [
       "<div>\n",
       "<style scoped>\n",
       "    .dataframe tbody tr th:only-of-type {\n",
       "        vertical-align: middle;\n",
       "    }\n",
       "\n",
       "    .dataframe tbody tr th {\n",
       "        vertical-align: top;\n",
       "    }\n",
       "\n",
       "    .dataframe thead th {\n",
       "        text-align: right;\n",
       "    }\n",
       "</style>\n",
       "<table border=\"1\" class=\"dataframe\">\n",
       "  <thead>\n",
       "    <tr style=\"text-align: right;\">\n",
       "      <th></th>\n",
       "      <th>SpearmanCorr</th>\n",
       "      <th>NUnique</th>\n",
       "    </tr>\n",
       "  </thead>\n",
       "  <tbody>\n",
       "    <tr>\n",
       "      <th>question_type_spelling</th>\n",
       "      <td>0.063737</td>\n",
       "      <td>3.0</td>\n",
       "    </tr>\n",
       "    <tr>\n",
       "      <th>question_not_really_a_question</th>\n",
       "      <td>0.087132</td>\n",
       "      <td>5.0</td>\n",
       "    </tr>\n",
       "    <tr>\n",
       "      <th>answer_plausible</th>\n",
       "      <td>0.145025</td>\n",
       "      <td>9.0</td>\n",
       "    </tr>\n",
       "    <tr>\n",
       "      <th>answer_relevance</th>\n",
       "      <td>0.173537</td>\n",
       "      <td>9.0</td>\n",
       "    </tr>\n",
       "    <tr>\n",
       "      <th>question_type_consequence</th>\n",
       "      <td>0.175862</td>\n",
       "      <td>5.0</td>\n",
       "    </tr>\n",
       "    <tr>\n",
       "      <th>answer_well_written</th>\n",
       "      <td>0.187128</td>\n",
       "      <td>9.0</td>\n",
       "    </tr>\n",
       "    <tr>\n",
       "      <th>answer_helpful</th>\n",
       "      <td>0.231879</td>\n",
       "      <td>9.0</td>\n",
       "    </tr>\n",
       "    <tr>\n",
       "      <th>answer_type_procedure</th>\n",
       "      <td>0.295477</td>\n",
       "      <td>5.0</td>\n",
       "    </tr>\n",
       "    <tr>\n",
       "      <th>answer_satisfaction</th>\n",
       "      <td>0.314528</td>\n",
       "      <td>17.0</td>\n",
       "    </tr>\n",
       "    <tr>\n",
       "      <th>question_expect_short_answer</th>\n",
       "      <td>0.316399</td>\n",
       "      <td>5.0</td>\n",
       "    </tr>\n",
       "    <tr>\n",
       "      <th>question_interestingness_others</th>\n",
       "      <td>0.348865</td>\n",
       "      <td>9.0</td>\n",
       "    </tr>\n",
       "    <tr>\n",
       "      <th>question_type_compare</th>\n",
       "      <td>0.353147</td>\n",
       "      <td>5.0</td>\n",
       "    </tr>\n",
       "    <tr>\n",
       "      <th>question_type_procedure</th>\n",
       "      <td>0.358362</td>\n",
       "      <td>5.0</td>\n",
       "    </tr>\n",
       "    <tr>\n",
       "      <th>question_fact_seeking</th>\n",
       "      <td>0.360603</td>\n",
       "      <td>5.0</td>\n",
       "    </tr>\n",
       "    <tr>\n",
       "      <th>question_type_definition</th>\n",
       "      <td>0.361585</td>\n",
       "      <td>5.0</td>\n",
       "    </tr>\n",
       "    <tr>\n",
       "      <th>question_asker_intent_understanding</th>\n",
       "      <td>0.373616</td>\n",
       "      <td>9.0</td>\n",
       "    </tr>\n",
       "    <tr>\n",
       "      <th>answer_level_of_information</th>\n",
       "      <td>0.402673</td>\n",
       "      <td>9.0</td>\n",
       "    </tr>\n",
       "    <tr>\n",
       "      <th>question_conversational</th>\n",
       "      <td>0.417477</td>\n",
       "      <td>5.0</td>\n",
       "    </tr>\n",
       "    <tr>\n",
       "      <th>question_has_commonly_accepted_answer</th>\n",
       "      <td>0.430574</td>\n",
       "      <td>5.0</td>\n",
       "    </tr>\n",
       "    <tr>\n",
       "      <th>question_type_entity</th>\n",
       "      <td>0.444693</td>\n",
       "      <td>5.0</td>\n",
       "    </tr>\n",
       "    <tr>\n",
       "      <th>question_opinion_seeking</th>\n",
       "      <td>0.472170</td>\n",
       "      <td>5.0</td>\n",
       "    </tr>\n",
       "    <tr>\n",
       "      <th>question_interestingness_self</th>\n",
       "      <td>0.498013</td>\n",
       "      <td>9.0</td>\n",
       "    </tr>\n",
       "    <tr>\n",
       "      <th>question_well_written</th>\n",
       "      <td>0.514246</td>\n",
       "      <td>9.0</td>\n",
       "    </tr>\n",
       "    <tr>\n",
       "      <th>question_multi_intent</th>\n",
       "      <td>0.578078</td>\n",
       "      <td>5.0</td>\n",
       "    </tr>\n",
       "    <tr>\n",
       "      <th>question_body_critical</th>\n",
       "      <td>0.648084</td>\n",
       "      <td>9.0</td>\n",
       "    </tr>\n",
       "    <tr>\n",
       "      <th>question_type_reason_explanation</th>\n",
       "      <td>0.677226</td>\n",
       "      <td>5.0</td>\n",
       "    </tr>\n",
       "    <tr>\n",
       "      <th>answer_type_reason_explanation</th>\n",
       "      <td>0.679445</td>\n",
       "      <td>5.0</td>\n",
       "    </tr>\n",
       "    <tr>\n",
       "      <th>question_type_choice</th>\n",
       "      <td>0.741307</td>\n",
       "      <td>5.0</td>\n",
       "    </tr>\n",
       "    <tr>\n",
       "      <th>answer_type_instructions</th>\n",
       "      <td>0.761973</td>\n",
       "      <td>5.0</td>\n",
       "    </tr>\n",
       "    <tr>\n",
       "      <th>question_type_instructions</th>\n",
       "      <td>0.782392</td>\n",
       "      <td>5.0</td>\n",
       "    </tr>\n",
       "  </tbody>\n",
       "</table>\n",
       "</div>"
      ],
      "text/plain": [
       "                                       SpearmanCorr  NUnique\n",
       "question_type_spelling                     0.063737      3.0\n",
       "question_not_really_a_question             0.087132      5.0\n",
       "answer_plausible                           0.145025      9.0\n",
       "answer_relevance                           0.173537      9.0\n",
       "question_type_consequence                  0.175862      5.0\n",
       "answer_well_written                        0.187128      9.0\n",
       "answer_helpful                             0.231879      9.0\n",
       "answer_type_procedure                      0.295477      5.0\n",
       "answer_satisfaction                        0.314528     17.0\n",
       "question_expect_short_answer               0.316399      5.0\n",
       "question_interestingness_others            0.348865      9.0\n",
       "question_type_compare                      0.353147      5.0\n",
       "question_type_procedure                    0.358362      5.0\n",
       "question_fact_seeking                      0.360603      5.0\n",
       "question_type_definition                   0.361585      5.0\n",
       "question_asker_intent_understanding        0.373616      9.0\n",
       "answer_level_of_information                0.402673      9.0\n",
       "question_conversational                    0.417477      5.0\n",
       "question_has_commonly_accepted_answer      0.430574      5.0\n",
       "question_type_entity                       0.444693      5.0\n",
       "question_opinion_seeking                   0.472170      5.0\n",
       "question_interestingness_self              0.498013      9.0\n",
       "question_well_written                      0.514246      9.0\n",
       "question_multi_intent                      0.578078      5.0\n",
       "question_body_critical                     0.648084      9.0\n",
       "question_type_reason_explanation           0.677226      5.0\n",
       "answer_type_reason_explanation             0.679445      5.0\n",
       "question_type_choice                       0.741307      5.0\n",
       "answer_type_instructions                   0.761973      5.0\n",
       "question_type_instructions                 0.782392      5.0"
      ]
     },
     "execution_count": 25,
     "metadata": {},
     "output_type": "execute_result"
    }
   ],
   "source": [
    "rs_df = pd.DataFrame(np.vstack([rs.values.flatten(), train[TARGETS].nunique()]).T, \n",
    "                     columns=['SpearmanCorr', 'NUnique'], index=rs.index)\n",
    "rs_df.sort_values('SpearmanCorr', ascending=True)"
   ]
  },
  {
   "cell_type": "code",
   "execution_count": 26,
   "metadata": {},
   "outputs": [
    {
     "data": {
      "text/plain": [
       "Index(['question_type_spelling', 'question_not_really_a_question',\n",
       "       'answer_plausible', 'answer_relevance', 'question_type_consequence'],\n",
       "      dtype='object')"
      ]
     },
     "execution_count": 26,
     "metadata": {},
     "output_type": "execute_result"
    }
   ],
   "source": [
    "sorted_targets = rs_df.sort_values('SpearmanCorr', ascending=True).index\n",
    "worst_five_targets = sorted_targets[:5]\n",
    "worst_five_targets"
   ]
  },
  {
   "cell_type": "code",
   "execution_count": 27,
   "metadata": {
    "scrolled": true
   },
   "outputs": [
    {
     "data": {
      "image/png": "[encoded data removed]",
      "text/plain": [
       "<Figure size 432x288 with 1 Axes>"
      ]
     },
     "metadata": {
      "needs_background": "light"
     },
     "output_type": "display_data"
    },
    {
     "data": {
      "image/png": "[encoded data removed]",
      "text/plain": [
       "<Figure size 432x288 with 1 Axes>"
      ]
     },
     "metadata": {
      "needs_background": "light"
     },
     "output_type": "display_data"
    },
    {
     "data": {
      "image/png": "[encoded data removed]",
      "text/plain": [
       "<Figure size 432x288 with 1 Axes>"
      ]
     },
     "metadata": {
      "needs_background": "light"
     },
     "output_type": "display_data"
    },
    {
     "data": {
      "image/png": "[encoded data removed]",
      "text/plain": [
       "<Figure size 432x288 with 1 Axes>"
      ]
     },
     "metadata": {
      "needs_background": "light"
     },
     "output_type": "display_data"
    },
    {
     "data": {
      "image/png": "[encoded data removed]",
      "text/plain": [
       "<Figure size 432x288 with 1 Axes>"
      ]
     },
     "metadata": {
      "needs_background": "light"
     },
     "output_type": "display_data"
    }
   ],
   "source": [
    "for col in worst_five_targets:\n",
    "    plt.figure()\n",
    "    train[col].hist()\n",
    "    plt.title(f'{col} {np.round(rs[col],3)}')"
   ]
  },
  {
   "cell_type": "code",
   "execution_count": 28,
   "metadata": {},
   "outputs": [
    {
     "name": "stderr",
     "output_type": "stream",
     "text": [
      "/home/robin/anaconda3/envs/GoogleQuest/lib/python3.7/site-packages/ipykernel_launcher.py:2: RuntimeWarning: More than 20 figures have been opened. Figures created through the pyplot interface (`matplotlib.pyplot.figure`) are retained until explicitly closed and may consume too much memory. (To control this warning, see the rcParam `figure.max_open_warning`).\n",
      "  \n"
     ]
    },
    {
     "data": {
      "image/png": "[encoded data removed]",
      "text/plain": [
       "<Figure size 432x288 with 1 Axes>"
      ]
     },
     "metadata": {
      "needs_background": "light"
     },
     "output_type": "display_data"
    },
    {
     "data": {
      "image/png": "[encoded data removed]",
      "text/plain": [
       "<Figure size 432x288 with 1 Axes>"
      ]
     },
     "metadata": {
      "needs_background": "light"
     },
     "output_type": "display_data"
    },
    {
     "data": {
      "image/png": "[encoded data removed]",
      "text/plain": [
       "<Figure size 432x288 with 1 Axes>"
      ]
     },
     "metadata": {
      "needs_background": "light"
     },
     "output_type": "display_data"
    },
    {
     "data": {
      "image/png": "[encoded data removed]",
      "text/plain": [
       "<Figure size 432x288 with 1 Axes>"
      ]
     },
     "metadata": {
      "needs_background": "light"
     },
     "output_type": "display_data"
    },
    {
     "data": {
      "image/png": "[encoded data removed]",
      "text/plain": [
       "<Figure size 432x288 with 1 Axes>"
      ]
     },
     "metadata": {
      "needs_background": "light"
     },
     "output_type": "display_data"
    },
    {
     "data": {
      "image/png": "[encoded data removed]",
      "text/plain": [
       "<Figure size 432x288 with 1 Axes>"
      ]
     },
     "metadata": {
      "needs_background": "light"
     },
     "output_type": "display_data"
    },
    {
     "data": {
      "image/png": "[encoded data removed]",
      "text/plain": [
       "<Figure size 432x288 with 1 Axes>"
      ]
     },
     "metadata": {
      "needs_background": "light"
     },
     "output_type": "display_data"
    },
    {
     "data": {
      "image/png": "[encoded data removed]",
      "text/plain": [
       "<Figure size 432x288 with 1 Axes>"
      ]
     },
     "metadata": {
      "needs_background": "light"
     },
     "output_type": "display_data"
    },
    {
     "data": {
      "image/png": "[encoded data removed]",
      "text/plain": [
       "<Figure size 432x288 with 1 Axes>"
      ]
     },
     "metadata": {
      "needs_background": "light"
     },
     "output_type": "display_data"
    },
    {
     "data": {
      "image/png": "[encoded data removed]",
      "text/plain": [
       "<Figure size 432x288 with 1 Axes>"
      ]
     },
     "metadata": {
      "needs_background": "light"
     },
     "output_type": "display_data"
    },
    {
     "data": {
      "image/png": "[encoded data removed]",
      "text/plain": [
       "<Figure size 432x288 with 1 Axes>"
      ]
     },
     "metadata": {
      "needs_background": "light"
     },
     "output_type": "display_data"
    },
    {
     "data": {
      "image/png": "[encoded data removed]",
      "text/plain": [
       "<Figure size 432x288 with 1 Axes>"
      ]
     },
     "metadata": {
      "needs_background": "light"
     },
     "output_type": "display_data"
    },
    {
     "data": {
      "image/png": "[encoded data removed]",
      "text/plain": [
       "<Figure size 432x288 with 1 Axes>"
      ]
     },
     "metadata": {
      "needs_background": "light"
     },
     "output_type": "display_data"
    },
    {
     "data": {
      "image/png": "[encoded data removed]",
      "text/plain": [
       "<Figure size 432x288 with 1 Axes>"
      ]
     },
     "metadata": {
      "needs_background": "light"
     },
     "output_type": "display_data"
    },
    {
     "data": {
      "image/png": "[encoded data removed]",
      "text/plain": [
       "<Figure size 432x288 with 1 Axes>"
      ]
     },
     "metadata": {
      "needs_background": "light"
     },
     "output_type": "display_data"
    },
    {
     "data": {
      "image/png": "[encoded data removed]",
      "text/plain": [
       "<Figure size 432x288 with 1 Axes>"
      ]
     },
     "metadata": {
      "needs_background": "light"
     },
     "output_type": "display_data"
    },
    {
     "data": {
      "image/png": "[encoded data removed]",
      "text/plain": [
       "<Figure size 432x288 with 1 Axes>"
      ]
     },
     "metadata": {
      "needs_background": "light"
     },
     "output_type": "display_data"
    },
    {
     "data": {
      "image/png": "[encoded data removed]",
      "text/plain": [
       "<Figure size 432x288 with 1 Axes>"
      ]
     },
     "metadata": {
      "needs_background": "light"
     },
     "output_type": "display_data"
    },
    {
     "data": {
      "image/png": "[encoded data removed]",
      "text/plain": [
       "<Figure size 432x288 with 1 Axes>"
      ]
     },
     "metadata": {
      "needs_background": "light"
     },
     "output_type": "display_data"
    },
    {
     "data": {
      "image/png": "[encoded data removed]",
      "text/plain": [
       "<Figure size 432x288 with 1 Axes>"
      ]
     },
     "metadata": {
      "needs_background": "light"
     },
     "output_type": "display_data"
    },
    {
     "data": {
      "image/png": "[encoded data removed]",
      "text/plain": [
       "<Figure size 432x288 with 1 Axes>"
      ]
     },
     "metadata": {
      "needs_background": "light"
     },
     "output_type": "display_data"
    },
    {
     "data": {
      "image/png": "[encoded data removed]",
      "text/plain": [
       "<Figure size 432x288 with 1 Axes>"
      ]
     },
     "metadata": {
      "needs_background": "light"
     },
     "output_type": "display_data"
    },
    {
     "data": {
      "image/png": "[encoded data removed]",
      "text/plain": [
       "<Figure size 432x288 with 1 Axes>"
      ]
     },
     "metadata": {
      "needs_background": "light"
     },
     "output_type": "display_data"
    },
    {
     "data": {
      "image/png": "[encoded data removed]",
      "text/plain": [
       "<Figure size 432x288 with 1 Axes>"
      ]
     },
     "metadata": {
      "needs_background": "light"
     },
     "output_type": "display_data"
    },
    {
     "data": {
      "image/png": "[encoded data removed]",
      "text/plain": [
       "<Figure size 432x288 with 1 Axes>"
      ]
     },
     "metadata": {
      "needs_background": "light"
     },
     "output_type": "display_data"
    }
   ],
   "source": [
    "for col in [target for target in sorted_targets if target not in worst_five_targets]:\n",
    "    plt.figure()\n",
    "    train[col].hist()\n",
    "    plt.title(f'{col} {np.round(rs[col],3)}')"
   ]
  },
  {
   "cell_type": "code",
   "execution_count": null,
   "metadata": {},
   "outputs": [],
   "source": []
  }
 ],
 "metadata": {
  "kernelspec": {
   "display_name": "Python 3",
   "language": "python",
   "name": "python3"
  },
  "language_info": {
   "codemirror_mode": {
    "name": "ipython",
    "version": 3
   },
   "file_extension": ".py",
   "mimetype": "text/x-python",
   "name": "python",
   "nbconvert_exporter": "python",
   "pygments_lexer": "ipython3",
   "version": "3.7.5"
  }
 },
 "nbformat": 4,
 "nbformat_minor": 1
}
