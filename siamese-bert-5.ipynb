{
 "cells": [
  {
   "cell_type": "markdown",
   "metadata": {},
   "source": [
    "## Importing libraries"
   ]
  },
  {
   "cell_type": "code",
   "execution_count": 1,
   "metadata": {
    "_kg_hide-input": true
   },
   "outputs": [],
   "source": [
    "import numpy as np\n",
    "import pandas as pd\n",
    "import matplotlib.pyplot as plt\n",
    "import seaborn as sns\n",
    "import time\n",
    "import datetime\n",
    "import re\n",
    "import gc\n",
    "import copy\n",
    "\n",
    "from sklearn.model_selection import KFold, GroupKFold\n",
    "from sklearn.preprocessing import OneHotEncoder, MinMaxScaler\n",
    "\n",
    "import torch\n",
    "import torch.nn as nn\n",
    "import torch.optim as optim\n",
    "import torch.nn.functional as F\n",
    "from torch.utils.data import DataLoader\n",
    "\n",
    "from tqdm import tqdm_notebook as tqdm\n",
    "from transformers import DistilBertTokenizer, BertTokenizer\n",
    "import transformers\n",
    "\n",
    "from radam import RAdam\n",
    "from text_data import TextDataset5\n",
    "from bert import CustomBert3\n",
    "from multilabel_cross_fold import MultilabelStratifiedKFold\n",
    "from learning import Learner\n",
    "from lr_finder import LRFinder\n",
    "from one_cycle import OneCycleLR\n",
    "from text_cleaning import clean_data\n",
    "from create_features import get_categorical_features\n",
    "from losses_metrics import spearmanr_torch, spearmanr_np\n",
    "from inference import infer\n",
    "from eda import eda\n",
    "from common import *\n",
    "from utils.helpers import init_logger, init_seed\n",
    "\n",
    "%matplotlib inline\n",
    "pd.set_option('max_colwidth',400)"
   ]
  },
  {
   "cell_type": "markdown",
   "metadata": {},
   "source": [
    "## Loading and preparing data"
   ]
  },
  {
   "cell_type": "code",
   "execution_count": 2,
   "metadata": {
    "_cell_guid": "b1076dfc-b9ad-4769-8c92-a6c4dae69d19",
    "_uuid": "8f2839f25d086af736a60e9eeb907d3b93b6e0e5"
   },
   "outputs": [],
   "source": [
    "pd.set_option('max_rows', 500)\n",
    "pd.set_option('max_columns', 500)\n",
    "path = 'data/'\n",
    "sample_submission = pd.read_csv(f'{path}sample_submission.csv')\n",
    "test = pd.read_csv(f'{path}test.csv').fillna(' ')\n",
    "train = pd.read_csv(f'{path}train.csv').fillna(' ')"
   ]
  },
  {
   "cell_type": "code",
   "execution_count": 3,
   "metadata": {},
   "outputs": [
    {
     "name": "stderr",
     "output_type": "stream",
     "text": [
      "/home/robin/anaconda3/envs/GoogleQuest/lib/python3.7/site-packages/ipykernel_launcher.py:10: TqdmDeprecationWarning: This function will be removed in tqdm==5.0.0\n",
      "Please use `tqdm.notebook.tqdm` instead of `tqdm.tqdm_notebook`\n",
      "  # Remove the CWD from sys.path while we load stuff.\n"
     ]
    },
    {
     "data": {
      "application/vnd.jupyter.widget-view+json": {
       "model_id": "4c2e5aab8f3b475ba492e1c289447c52",
       "version_major": 2,
       "version_minor": 0
      },
      "text/plain": [
       "HBox(children=(IntProgress(value=0, max=6079), HTML(value='')))"
      ]
     },
     "metadata": {},
     "output_type": "display_data"
    },
    {
     "name": "stdout",
     "output_type": "stream",
     "text": [
      "\n"
     ]
    },
    {
     "data": {
      "application/vnd.jupyter.widget-view+json": {
       "model_id": "6025e760dc604f17ada865d7d65428b6",
       "version_major": 2,
       "version_minor": 0
      },
      "text/plain": [
       "HBox(children=(IntProgress(value=0, max=6079), HTML(value='')))"
      ]
     },
     "metadata": {},
     "output_type": "display_data"
    },
    {
     "name": "stdout",
     "output_type": "stream",
     "text": [
      "\n"
     ]
    },
    {
     "data": {
      "application/vnd.jupyter.widget-view+json": {
       "model_id": "7e1f09ec0580440694d45381c8a53819",
       "version_major": 2,
       "version_minor": 0
      },
      "text/plain": [
       "HBox(children=(IntProgress(value=0, max=476), HTML(value='')))"
      ]
     },
     "metadata": {},
     "output_type": "display_data"
    },
    {
     "name": "stdout",
     "output_type": "stream",
     "text": [
      "\n"
     ]
    },
    {
     "data": {
      "application/vnd.jupyter.widget-view+json": {
       "model_id": "46b2dcb8175d4934aab48978f7b916d8",
       "version_major": 2,
       "version_minor": 0
      },
      "text/plain": [
       "HBox(children=(IntProgress(value=0, max=476), HTML(value='')))"
      ]
     },
     "metadata": {},
     "output_type": "display_data"
    },
    {
     "name": "stdout",
     "output_type": "stream",
     "text": [
      "\n",
      "CPU times: user 32.1 s, sys: 221 ms, total: 32.3 s\n",
      "Wall time: 32.5 s\n"
     ]
    }
   ],
   "source": [
    "%%time\n",
    "# tokenizer = DistilBertTokenizer.from_pretrained('distilbert-base-uncased')\n",
    "tokenizer = BertTokenizer.from_pretrained('bert-base-uncased')\n",
    "seg_ids_train, ids_train = {}, {}\n",
    "seg_ids_test, ids_test = {}, {}\n",
    "max_seq_len = 512\n",
    "for mode, df in [('train', train), ('test', test)]:\n",
    "    for text, cols in [('question', ['question_title', 'question_body']), \n",
    "                       ('answer', ['question_title', 'answer'])]:\n",
    "        ids, seg_ids = [], []\n",
    "        for x1, x2 in tqdm(df[cols].values):\n",
    "            encoded_inputs = tokenizer.encode_plus(\n",
    "                x1, x2, add_special_tokens=True, max_length=max_seq_len, pad_to_max_length=True, \n",
    "                return_token_type_ids=True\n",
    "            )\n",
    "            ids.append(encoded_inputs['input_ids'])\n",
    "            seg_ids.append(encoded_inputs['token_type_ids'])\n",
    "        if mode == 'train': \n",
    "            ids_train[text] = np.array(ids)\n",
    "            seg_ids_train[text] = np.array(seg_ids)\n",
    "        else: \n",
    "            ids_test[text] = np.array(ids)\n",
    "            seg_ids_test[text] = np.array(seg_ids)"
   ]
  },
  {
   "cell_type": "code",
   "execution_count": 4,
   "metadata": {
    "code_folding": []
   },
   "outputs": [],
   "source": [
    "train_host, test_host, host_dict, host_dict_reverse = get_categorical_features(train, test, 'host')\n",
    "train_category, test_category, category_dict, category_dict_reverse = \\\n",
    "    get_categorical_features(train, test, 'category')"
   ]
  },
  {
   "cell_type": "code",
   "execution_count": 5,
   "metadata": {},
   "outputs": [
    {
     "name": "stderr",
     "output_type": "stream",
     "text": [
      "/home/robin/anaconda3/envs/GoogleQuest/lib/python3.7/site-packages/sklearn/preprocessing/_encoders.py:415: FutureWarning: The handling of integer data will change in version 0.22. Currently, the categories are determined based on the range [0, max(values)], while in the future they will be determined based on the unique values.\n",
      "If you want the future behaviour and silence this warning, you can specify \"categories='auto'\".\n",
      "In case you used a LabelEncoder before this OneHotEncoder to convert the categories to integers, then you can now use the OneHotEncoder directly.\n",
      "  warnings.warn(msg, FutureWarning)\n"
     ]
    }
   ],
   "source": [
    "cat_features_train = train_category.reshape(-1, 1)\n",
    "cat_features_test = test_category.reshape(-1, 1)\n",
    "ohe = OneHotEncoder()\n",
    "ohe.fit(cat_features_train)\n",
    "cat_features_train = ohe.transform(cat_features_train).toarray()\n",
    "cat_features_test = ohe.transform(cat_features_test).toarray()"
   ]
  },
  {
   "cell_type": "code",
   "execution_count": 6,
   "metadata": {},
   "outputs": [],
   "source": [
    "for col in TARGETS:\n",
    "    train[col] = train[col].rank(method=\"average\")\n",
    "train[TARGETS] = MinMaxScaler().fit_transform(train[TARGETS])\n",
    "y = train[TARGETS].values.astype(np.float32)"
   ]
  },
  {
   "cell_type": "code",
   "execution_count": 7,
   "metadata": {},
   "outputs": [],
   "source": [
    "num_workers = 10\n",
    "bs = 2\n",
    "TextDataset = TextDataset5"
   ]
  },
  {
   "cell_type": "code",
   "execution_count": 8,
   "metadata": {},
   "outputs": [],
   "source": [
    "bs_test = 2\n",
    "test_loader = DataLoader(\n",
    "    TextDataset(cat_features_test, ids_test['question'], ids_test['answer'], \n",
    "                seg_ids_test['question'], seg_ids_test['answer'], test.index),\n",
    "    batch_size=bs_test, shuffle=False, num_workers=num_workers, drop_last=False\n",
    ")"
   ]
  },
  {
   "cell_type": "markdown",
   "metadata": {},
   "source": [
    "## Training model"
   ]
  },
  {
   "cell_type": "code",
   "execution_count": 9,
   "metadata": {},
   "outputs": [],
   "source": [
    "lr = 0.001\n",
    "loss_fn = nn.BCEWithLogitsLoss()\n",
    "device = 'cuda'\n",
    "n_epochs = 4\n",
    "grad_accum = 4\n",
    "weight_decay = 0.01\n",
    "model_name = 'siamese_bert_5'\n",
    "checkpoint_dir = 'checkpoints/'\n",
    "early_stopping = None\n",
    "n_folds = 10"
   ]
  },
  {
   "cell_type": "code",
   "execution_count": 10,
   "metadata": {},
   "outputs": [],
   "source": [
    "def get_optimizer_param_groups(model, lr, weight_decay):\n",
    "    no_decay = ['bias', 'LayerNorm.weight']\n",
    "    optimizer_grouped_parameters = [\n",
    "        {'params': [p for n, p in model.named_parameters() if not any(nd in n for nd in no_decay)], \n",
    "         'weight_decay': weight_decay, 'lr': lr},\n",
    "        {'params': [p for n, p in model.named_parameters() if any(nd in n for nd in no_decay)], \n",
    "         'weight_decay': 0.0, 'lr': lr}\n",
    "    ]\n",
    "    return optimizer_grouped_parameters\n",
    "\n",
    "\n",
    "def get_optimizer(model, lr, weight_decay):\n",
    "    return transformers.AdamW(\n",
    "        get_optimizer_param_groups(model.head, lr, weight_decay)\n",
    "        + get_optimizer_param_groups(model.bert, lr / 100, weight_decay)\n",
    "    )"
   ]
  },
  {
   "cell_type": "code",
   "execution_count": 11,
   "metadata": {
    "scrolled": true
   },
   "outputs": [
    {
     "name": "stdout",
     "output_type": "stream",
     "text": [
      "Fold 1 started at Sat Jan 18 17:53:52 2020\n"
     ]
    },
    {
     "data": {
      "application/vnd.jupyter.widget-view+json": {
       "model_id": "f44a10a8801a4d4ba55e2c1aa54659aa",
       "version_major": 2,
       "version_minor": 0
      },
      "text/plain": [
       "HBox(children=(IntProgress(value=0, max=400), HTML(value='')))"
      ]
     },
     "metadata": {},
     "output_type": "display_data"
    },
    {
     "name": "stderr",
     "output_type": "stream",
     "text": [
      "/home/robin/anaconda3/envs/GoogleQuest/lib/python3.7/site-packages/torch/optim/lr_scheduler.py:100: UserWarning: Detected call of `lr_scheduler.step()` before `optimizer.step()`. In PyTorch 1.1.0 and later, you should call them in the opposite order: `optimizer.step()` before `lr_scheduler.step()`.  Failure to do this will result in PyTorch skipping the first value of the learning rate schedule.See more details at https://pytorch.org/docs/stable/optim.html#how-to-adjust-learning-rate\n",
      "  \"https://pytorch.org/docs/stable/optim.html#how-to-adjust-learning-rate\", UserWarning)\n"
     ]
    },
    {
     "data": {
      "image/png": "[encoded data removed]",
      "text/plain": [
       "<Figure size 432x288 with 1 Axes>"
      ]
     },
     "metadata": {
      "needs_background": "light"
     },
     "output_type": "display_data"
    },
    {
     "name": "stdout",
     "output_type": "stream",
     "text": [
      "Starting inference for model: checkpoints/siamese_bert_5_fold_1_best.pth\n"
     ]
    },
    {
     "data": {
      "application/vnd.jupyter.widget-view+json": {
       "model_id": "e3402dd1d7484e2c88efbc0dfca5890f",
       "version_major": 2,
       "version_minor": 0
      },
      "text/plain": [
       "HBox(children=(IntProgress(value=0, max=304), HTML(value='')))"
      ]
     },
     "metadata": {},
     "output_type": "display_data"
    },
    {
     "name": "stdout",
     "output_type": "stream",
     "text": [
      "\n",
      "Starting inference for model: checkpoints/siamese_bert_5_fold_1_best.pth\n"
     ]
    },
    {
     "data": {
      "application/vnd.jupyter.widget-view+json": {
       "model_id": "9cf5808adc8f492da46dad350165490f",
       "version_major": 2,
       "version_minor": 0
      },
      "text/plain": [
       "HBox(children=(IntProgress(value=0, max=238), HTML(value='')))"
      ]
     },
     "metadata": {},
     "output_type": "display_data"
    },
    {
     "name": "stdout",
     "output_type": "stream",
     "text": [
      "\n",
      "Fold 2 started at Sat Jan 18 17:55:32 2020\n",
      "Starting inference for model: checkpoints/siamese_bert_5_fold_2_best.pth\n"
     ]
    },
    {
     "data": {
      "application/vnd.jupyter.widget-view+json": {
       "model_id": "540265b16eb24f83bdb82a7d811cb02e",
       "version_major": 2,
       "version_minor": 0
      },
      "text/plain": [
       "HBox(children=(IntProgress(value=0, max=304), HTML(value='')))"
      ]
     },
     "metadata": {},
     "output_type": "display_data"
    },
    {
     "name": "stdout",
     "output_type": "stream",
     "text": [
      "\n",
      "Starting inference for model: checkpoints/siamese_bert_5_fold_2_best.pth\n"
     ]
    },
    {
     "data": {
      "application/vnd.jupyter.widget-view+json": {
       "model_id": "df20ef0ea4c5436fb186e4a8cbe18e94",
       "version_major": 2,
       "version_minor": 0
      },
      "text/plain": [
       "HBox(children=(IntProgress(value=0, max=238), HTML(value='')))"
      ]
     },
     "metadata": {},
     "output_type": "display_data"
    },
    {
     "name": "stdout",
     "output_type": "stream",
     "text": [
      "\n",
      "Fold 3 started at Sat Jan 18 17:56:13 2020\n",
      "epoch 0: \t Start training...\n"
     ]
    },
    {
     "data": {
      "application/vnd.jupyter.widget-view+json": {
       "model_id": "034d7da7d5854cc6860d5317cee6f847",
       "version_major": 2,
       "version_minor": 0
      },
      "text/plain": [
       "HBox(children=(IntProgress(value=0, max=2736), HTML(value='')))"
      ]
     },
     "metadata": {},
     "output_type": "display_data"
    },
    {
     "name": "stdout",
     "output_type": "stream",
     "text": [
      "\n",
      "epoch 0/4 \t train : loss 0.50807 - spearmanr 0.25119\n",
      "epoch 0: \t Start validation...\n"
     ]
    },
    {
     "data": {
      "application/vnd.jupyter.widget-view+json": {
       "model_id": "28ca30bcc4df4740a8627d03353eeea1",
       "version_major": 2,
       "version_minor": 0
      },
      "text/plain": [
       "HBox(children=(IntProgress(value=0, max=304), HTML(value='')))"
      ]
     },
     "metadata": {},
     "output_type": "display_data"
    },
    {
     "name": "stdout",
     "output_type": "stream",
     "text": [
      "\n",
      "epoch 0/4 \t valid : loss 0.47089 - spearmanr 0.37734\n"
     ]
    },
    {
     "name": "stderr",
     "output_type": "stream",
     "text": [
      "/home/robin/anaconda3/envs/GoogleQuest/lib/python3.7/site-packages/numpy/lib/function_base.py:2534: RuntimeWarning: invalid value encountered in true_divide\n",
      "  c /= stddev[:, None]\n",
      "/home/robin/anaconda3/envs/GoogleQuest/lib/python3.7/site-packages/numpy/lib/function_base.py:2535: RuntimeWarning: invalid value encountered in true_divide\n",
      "  c /= stddev[None, :]\n",
      "/home/robin/anaconda3/envs/GoogleQuest/lib/python3.7/site-packages/scipy/stats/_distn_infrastructure.py:901: RuntimeWarning: invalid value encountered in greater\n",
      "  return (a < x) & (x < b)\n",
      "/home/robin/anaconda3/envs/GoogleQuest/lib/python3.7/site-packages/scipy/stats/_distn_infrastructure.py:901: RuntimeWarning: invalid value encountered in less\n",
      "  return (a < x) & (x < b)\n",
      "/home/robin/anaconda3/envs/GoogleQuest/lib/python3.7/site-packages/scipy/stats/_distn_infrastructure.py:1892: RuntimeWarning: invalid value encountered in less_equal\n",
      "  cond2 = cond0 & (x <= _a)\n"
     ]
    },
    {
     "name": "stdout",
     "output_type": "stream",
     "text": [
      "best model: epoch 0 - 0.37734\n",
      "epoch 1: \t Start training...\n"
     ]
    },
    {
     "data": {
      "application/vnd.jupyter.widget-view+json": {
       "model_id": "50a8d61cbd5c4098959d0ff2e7c49160",
       "version_major": 2,
       "version_minor": 0
      },
      "text/plain": [
       "HBox(children=(IntProgress(value=0, max=2736), HTML(value='')))"
      ]
     },
     "metadata": {},
     "output_type": "display_data"
    },
    {
     "name": "stdout",
     "output_type": "stream",
     "text": [
      "\n",
      "epoch 1/4 \t train : loss 0.45548 - spearmanr 0.39857\n",
      "epoch 1: \t Start validation...\n"
     ]
    },
    {
     "data": {
      "application/vnd.jupyter.widget-view+json": {
       "model_id": "9b122fca5aa34ad8a642839ebb624c5c",
       "version_major": 2,
       "version_minor": 0
      },
      "text/plain": [
       "HBox(children=(IntProgress(value=0, max=304), HTML(value='')))"
      ]
     },
     "metadata": {},
     "output_type": "display_data"
    },
    {
     "name": "stdout",
     "output_type": "stream",
     "text": [
      "\n",
      "epoch 1/4 \t valid : loss 0.46267 - spearmanr 0.39109\n",
      "best model: epoch 1 - 0.39109\n",
      "epoch 2: \t Start training...\n"
     ]
    },
    {
     "data": {
      "application/vnd.jupyter.widget-view+json": {
       "model_id": "3125ff003ed34cf3a2ee10f9f0665379",
       "version_major": 2,
       "version_minor": 0
      },
      "text/plain": [
       "HBox(children=(IntProgress(value=0, max=2736), HTML(value='')))"
      ]
     },
     "metadata": {},
     "output_type": "display_data"
    },
    {
     "name": "stdout",
     "output_type": "stream",
     "text": [
      "\n",
      "epoch 2/4 \t train : loss 0.43159 - spearmanr 0.46164\n",
      "epoch 2: \t Start validation...\n"
     ]
    },
    {
     "data": {
      "application/vnd.jupyter.widget-view+json": {
       "model_id": "757634a17ab4498ba36507dddbcdb058",
       "version_major": 2,
       "version_minor": 0
      },
      "text/plain": [
       "HBox(children=(IntProgress(value=0, max=304), HTML(value='')))"
      ]
     },
     "metadata": {},
     "output_type": "display_data"
    },
    {
     "name": "stdout",
     "output_type": "stream",
     "text": [
      "\n",
      "epoch 2/4 \t valid : loss 0.46046 - spearmanr 0.39563\n",
      "best model: epoch 2 - 0.39563\n",
      "epoch 3: \t Start training...\n"
     ]
    },
    {
     "data": {
      "application/vnd.jupyter.widget-view+json": {
       "model_id": "ae56c6d7ff50470ba7d49410b6cbe9b9",
       "version_major": 2,
       "version_minor": 0
      },
      "text/plain": [
       "HBox(children=(IntProgress(value=0, max=2736), HTML(value='')))"
      ]
     },
     "metadata": {},
     "output_type": "display_data"
    },
    {
     "name": "stdout",
     "output_type": "stream",
     "text": [
      "\n",
      "epoch 3/4 \t train : loss 0.40989 - spearmanr 0.51526\n",
      "epoch 3: \t Start validation...\n"
     ]
    },
    {
     "data": {
      "application/vnd.jupyter.widget-view+json": {
       "model_id": "dd6ee060ddef439c864c6d6570f1797b",
       "version_major": 2,
       "version_minor": 0
      },
      "text/plain": [
       "HBox(children=(IntProgress(value=0, max=304), HTML(value='')))"
      ]
     },
     "metadata": {},
     "output_type": "display_data"
    },
    {
     "name": "stdout",
     "output_type": "stream",
     "text": [
      "\n",
      "epoch 3/4 \t valid : loss 0.46295 - spearmanr 0.39421\n",
      "model not improved for 1 epochs\n",
      "TRAINING END: Best score achieved on epoch 2 - 0.39563\n",
      "Starting inference for model: checkpoints/siamese_bert_5_fold_3_best.pth\n"
     ]
    },
    {
     "data": {
      "application/vnd.jupyter.widget-view+json": {
       "model_id": "16b4adc00121493985713a06ed58ceb8",
       "version_major": 2,
       "version_minor": 0
      },
      "text/plain": [
       "HBox(children=(IntProgress(value=0, max=304), HTML(value='')))"
      ]
     },
     "metadata": {},
     "output_type": "display_data"
    },
    {
     "name": "stdout",
     "output_type": "stream",
     "text": [
      "\n",
      "Starting inference for model: checkpoints/siamese_bert_5_fold_3_best.pth\n"
     ]
    },
    {
     "data": {
      "application/vnd.jupyter.widget-view+json": {
       "model_id": "4ca8817523f84019a7771595bee6caa2",
       "version_major": 2,
       "version_minor": 0
      },
      "text/plain": [
       "HBox(children=(IntProgress(value=0, max=238), HTML(value='')))"
      ]
     },
     "metadata": {},
     "output_type": "display_data"
    },
    {
     "name": "stdout",
     "output_type": "stream",
     "text": [
      "\n",
      "Fold 4 started at Sat Jan 18 18:35:50 2020\n",
      "epoch 0: \t Start training...\n"
     ]
    },
    {
     "data": {
      "application/vnd.jupyter.widget-view+json": {
       "model_id": "0b77824de8314ca9aa6858fbbee6032e",
       "version_major": 2,
       "version_minor": 0
      },
      "text/plain": [
       "HBox(children=(IntProgress(value=0, max=2736), HTML(value='')))"
      ]
     },
     "metadata": {},
     "output_type": "display_data"
    },
    {
     "name": "stdout",
     "output_type": "stream",
     "text": [
      "\n",
      "epoch 0/4 \t train : loss 0.50854 - spearmanr 0.25173\n",
      "epoch 0: \t Start validation...\n"
     ]
    },
    {
     "data": {
      "application/vnd.jupyter.widget-view+json": {
       "model_id": "ad16ad198ee64209ba3da59672659ecc",
       "version_major": 2,
       "version_minor": 0
      },
      "text/plain": [
       "HBox(children=(IntProgress(value=0, max=304), HTML(value='')))"
      ]
     },
     "metadata": {},
     "output_type": "display_data"
    },
    {
     "name": "stdout",
     "output_type": "stream",
     "text": [
      "\n",
      "epoch 0/4 \t valid : loss 0.47796 - spearmanr 0.35149\n",
      "best model: epoch 0 - 0.35149\n",
      "epoch 1: \t Start training...\n"
     ]
    },
    {
     "data": {
      "application/vnd.jupyter.widget-view+json": {
       "model_id": "9cf8f9b10286448e9c0bb523f2ca7859",
       "version_major": 2,
       "version_minor": 0
      },
      "text/plain": [
       "HBox(children=(IntProgress(value=0, max=2736), HTML(value='')))"
      ]
     },
     "metadata": {},
     "output_type": "display_data"
    },
    {
     "name": "stdout",
     "output_type": "stream",
     "text": [
      "\n",
      "epoch 1/4 \t train : loss 0.45655 - spearmanr 0.39621\n",
      "epoch 1: \t Start validation...\n"
     ]
    },
    {
     "data": {
      "application/vnd.jupyter.widget-view+json": {
       "model_id": "32c3a4bfff594286bcc3032143a2e2e3",
       "version_major": 2,
       "version_minor": 0
      },
      "text/plain": [
       "HBox(children=(IntProgress(value=0, max=304), HTML(value='')))"
      ]
     },
     "metadata": {},
     "output_type": "display_data"
    },
    {
     "name": "stdout",
     "output_type": "stream",
     "text": [
      "\n",
      "epoch 1/4 \t valid : loss 0.45866 - spearmanr 0.39262\n",
      "best model: epoch 1 - 0.39262\n",
      "epoch 2: \t Start training...\n"
     ]
    },
    {
     "data": {
      "application/vnd.jupyter.widget-view+json": {
       "model_id": "b26455b522c04618ba6ece5247901cf4",
       "version_major": 2,
       "version_minor": 0
      },
      "text/plain": [
       "HBox(children=(IntProgress(value=0, max=2736), HTML(value='')))"
      ]
     },
     "metadata": {},
     "output_type": "display_data"
    },
    {
     "name": "stdout",
     "output_type": "stream",
     "text": [
      "\n",
      "epoch 2/4 \t train : loss 0.43277 - spearmanr 0.45929\n",
      "epoch 2: \t Start validation...\n"
     ]
    },
    {
     "data": {
      "application/vnd.jupyter.widget-view+json": {
       "model_id": "dbf3af5799ed4b9982a00005b505649f",
       "version_major": 2,
       "version_minor": 0
      },
      "text/plain": [
       "HBox(children=(IntProgress(value=0, max=304), HTML(value='')))"
      ]
     },
     "metadata": {},
     "output_type": "display_data"
    },
    {
     "name": "stdout",
     "output_type": "stream",
     "text": [
      "\n",
      "epoch 2/4 \t valid : loss 0.4557 - spearmanr 0.39829\n",
      "best model: epoch 2 - 0.39829\n",
      "epoch 3: \t Start training...\n"
     ]
    },
    {
     "data": {
      "application/vnd.jupyter.widget-view+json": {
       "model_id": "b07f278497614b4eb50e178f005156e5",
       "version_major": 2,
       "version_minor": 0
      },
      "text/plain": [
       "HBox(children=(IntProgress(value=0, max=2736), HTML(value='')))"
      ]
     },
     "metadata": {},
     "output_type": "display_data"
    },
    {
     "name": "stdout",
     "output_type": "stream",
     "text": [
      "\n",
      "epoch 3/4 \t train : loss 0.41109 - spearmanr 0.51347\n",
      "epoch 3: \t Start validation...\n"
     ]
    },
    {
     "data": {
      "application/vnd.jupyter.widget-view+json": {
       "model_id": "e4cc24a72ebf448f893714d007a3dac4",
       "version_major": 2,
       "version_minor": 0
      },
      "text/plain": [
       "HBox(children=(IntProgress(value=0, max=304), HTML(value='')))"
      ]
     },
     "metadata": {},
     "output_type": "display_data"
    },
    {
     "name": "stdout",
     "output_type": "stream",
     "text": [
      "\n",
      "epoch 3/4 \t valid : loss 0.45844 - spearmanr 0.39649\n",
      "model not improved for 1 epochs\n",
      "TRAINING END: Best score achieved on epoch 2 - 0.39829\n",
      "Starting inference for model: checkpoints/siamese_bert_5_fold_4_best.pth\n"
     ]
    },
    {
     "data": {
      "application/vnd.jupyter.widget-view+json": {
       "model_id": "2e8e30ac181f45bb860100d090a81c70",
       "version_major": 2,
       "version_minor": 0
      },
      "text/plain": [
       "HBox(children=(IntProgress(value=0, max=304), HTML(value='')))"
      ]
     },
     "metadata": {},
     "output_type": "display_data"
    },
    {
     "name": "stdout",
     "output_type": "stream",
     "text": [
      "\n",
      "Starting inference for model: checkpoints/siamese_bert_5_fold_4_best.pth\n"
     ]
    },
    {
     "data": {
      "application/vnd.jupyter.widget-view+json": {
       "model_id": "1db26e2e979a4aa58b167d9ad0a90c66",
       "version_major": 2,
       "version_minor": 0
      },
      "text/plain": [
       "HBox(children=(IntProgress(value=0, max=238), HTML(value='')))"
      ]
     },
     "metadata": {},
     "output_type": "display_data"
    },
    {
     "name": "stdout",
     "output_type": "stream",
     "text": [
      "\n",
      "Fold 5 started at Sat Jan 18 19:15:19 2020\n",
      "epoch 0: \t Start training...\n"
     ]
    },
    {
     "data": {
      "application/vnd.jupyter.widget-view+json": {
       "model_id": "41f12f5e1dbb4dc0960628e1c247d373",
       "version_major": 2,
       "version_minor": 0
      },
      "text/plain": [
       "HBox(children=(IntProgress(value=0, max=2736), HTML(value='')))"
      ]
     },
     "metadata": {},
     "output_type": "display_data"
    },
    {
     "name": "stdout",
     "output_type": "stream",
     "text": [
      "\n",
      "epoch 0/4 \t train : loss 0.50917 - spearmanr 0.2476\n",
      "epoch 0: \t Start validation...\n"
     ]
    },
    {
     "data": {
      "application/vnd.jupyter.widget-view+json": {
       "model_id": "1fb06a54d58d4b2b8eb7fe39d5278091",
       "version_major": 2,
       "version_minor": 0
      },
      "text/plain": [
       "HBox(children=(IntProgress(value=0, max=304), HTML(value='')))"
      ]
     },
     "metadata": {},
     "output_type": "display_data"
    },
    {
     "name": "stdout",
     "output_type": "stream",
     "text": [
      "\n",
      "epoch 0/4 \t valid : loss 0.46538 - spearmanr 0.37297\n",
      "best model: epoch 0 - 0.37297\n",
      "epoch 1: \t Start training...\n"
     ]
    },
    {
     "data": {
      "application/vnd.jupyter.widget-view+json": {
       "model_id": "431233496c8545f3970c21c8abb1d4ef",
       "version_major": 2,
       "version_minor": 0
      },
      "text/plain": [
       "HBox(children=(IntProgress(value=0, max=2736), HTML(value='')))"
      ]
     },
     "metadata": {},
     "output_type": "display_data"
    },
    {
     "name": "stdout",
     "output_type": "stream",
     "text": [
      "\n",
      "epoch 1/4 \t train : loss 0.45656 - spearmanr 0.39662\n",
      "epoch 1: \t Start validation...\n"
     ]
    },
    {
     "data": {
      "application/vnd.jupyter.widget-view+json": {
       "model_id": "966b8ac346e04eaca58e55840e77dfaf",
       "version_major": 2,
       "version_minor": 0
      },
      "text/plain": [
       "HBox(children=(IntProgress(value=0, max=304), HTML(value='')))"
      ]
     },
     "metadata": {},
     "output_type": "display_data"
    },
    {
     "name": "stdout",
     "output_type": "stream",
     "text": [
      "\n",
      "epoch 1/4 \t valid : loss 0.45527 - spearmanr 0.3884\n",
      "best model: epoch 1 - 0.3884\n",
      "epoch 2: \t Start training...\n"
     ]
    },
    {
     "data": {
      "application/vnd.jupyter.widget-view+json": {
       "model_id": "b82b22ef769a475c8725b1f6cf0987b7",
       "version_major": 2,
       "version_minor": 0
      },
      "text/plain": [
       "HBox(children=(IntProgress(value=0, max=2736), HTML(value='')))"
      ]
     },
     "metadata": {},
     "output_type": "display_data"
    },
    {
     "name": "stdout",
     "output_type": "stream",
     "text": [
      "\n",
      "epoch 2/4 \t train : loss 0.43333 - spearmanr 0.45796\n",
      "epoch 2: \t Start validation...\n"
     ]
    },
    {
     "data": {
      "application/vnd.jupyter.widget-view+json": {
       "model_id": "dc92ac7a4d9b4953878b6883dddaad9d",
       "version_major": 2,
       "version_minor": 0
      },
      "text/plain": [
       "HBox(children=(IntProgress(value=0, max=304), HTML(value='')))"
      ]
     },
     "metadata": {},
     "output_type": "display_data"
    },
    {
     "name": "stdout",
     "output_type": "stream",
     "text": [
      "\n",
      "epoch 2/4 \t valid : loss 0.45081 - spearmanr 0.4043\n",
      "best model: epoch 2 - 0.4043\n",
      "epoch 3: \t Start training...\n"
     ]
    },
    {
     "data": {
      "application/vnd.jupyter.widget-view+json": {
       "model_id": "25a1c46920f44d7c8598b0fd96c73fba",
       "version_major": 2,
       "version_minor": 0
      },
      "text/plain": [
       "HBox(children=(IntProgress(value=0, max=2736), HTML(value='')))"
      ]
     },
     "metadata": {},
     "output_type": "display_data"
    },
    {
     "name": "stdout",
     "output_type": "stream",
     "text": [
      "\n",
      "epoch 3/4 \t train : loss 0.41105 - spearmanr 0.51395\n",
      "epoch 3: \t Start validation...\n"
     ]
    },
    {
     "data": {
      "application/vnd.jupyter.widget-view+json": {
       "model_id": "43a6fbd1aa84448b899cfbf9070f5cf6",
       "version_major": 2,
       "version_minor": 0
      },
      "text/plain": [
       "HBox(children=(IntProgress(value=0, max=304), HTML(value='')))"
      ]
     },
     "metadata": {},
     "output_type": "display_data"
    },
    {
     "name": "stdout",
     "output_type": "stream",
     "text": [
      "\n",
      "epoch 3/4 \t valid : loss 0.45416 - spearmanr 0.40256\n",
      "model not improved for 1 epochs\n",
      "TRAINING END: Best score achieved on epoch 2 - 0.40430\n",
      "Starting inference for model: checkpoints/siamese_bert_5_fold_5_best.pth\n"
     ]
    },
    {
     "data": {
      "application/vnd.jupyter.widget-view+json": {
       "model_id": "8b3141f676504461a7db232da5a69e41",
       "version_major": 2,
       "version_minor": 0
      },
      "text/plain": [
       "HBox(children=(IntProgress(value=0, max=304), HTML(value='')))"
      ]
     },
     "metadata": {},
     "output_type": "display_data"
    },
    {
     "name": "stdout",
     "output_type": "stream",
     "text": [
      "\n",
      "Starting inference for model: checkpoints/siamese_bert_5_fold_5_best.pth\n"
     ]
    },
    {
     "data": {
      "application/vnd.jupyter.widget-view+json": {
       "model_id": "0fa588468a494e9ab68874ebb0b60ad1",
       "version_major": 2,
       "version_minor": 0
      },
      "text/plain": [
       "HBox(children=(IntProgress(value=0, max=238), HTML(value='')))"
      ]
     },
     "metadata": {},
     "output_type": "display_data"
    },
    {
     "name": "stdout",
     "output_type": "stream",
     "text": [
      "\n",
      "Fold 6 started at Sat Jan 18 19:55:04 2020\n",
      "epoch 0: \t Start training...\n"
     ]
    },
    {
     "data": {
      "application/vnd.jupyter.widget-view+json": {
       "model_id": "07e6dbb16de745f4958491ed7ba52402",
       "version_major": 2,
       "version_minor": 0
      },
      "text/plain": [
       "HBox(children=(IntProgress(value=0, max=2736), HTML(value='')))"
      ]
     },
     "metadata": {},
     "output_type": "display_data"
    },
    {
     "name": "stdout",
     "output_type": "stream",
     "text": [
      "\n",
      "epoch 0/4 \t train : loss 0.50868 - spearmanr 0.24908\n",
      "epoch 0: \t Start validation...\n"
     ]
    },
    {
     "data": {
      "application/vnd.jupyter.widget-view+json": {
       "model_id": "f3d6a512076d4e0db311ce129de613fc",
       "version_major": 2,
       "version_minor": 0
      },
      "text/plain": [
       "HBox(children=(IntProgress(value=0, max=304), HTML(value='')))"
      ]
     },
     "metadata": {},
     "output_type": "display_data"
    },
    {
     "name": "stdout",
     "output_type": "stream",
     "text": [
      "\n",
      "epoch 0/4 \t valid : loss 0.46823 - spearmanr 0.36153\n",
      "best model: epoch 0 - 0.36153\n",
      "epoch 1: \t Start training...\n"
     ]
    },
    {
     "data": {
      "application/vnd.jupyter.widget-view+json": {
       "model_id": "c1f42419d2e04659b47e5b729632a973",
       "version_major": 2,
       "version_minor": 0
      },
      "text/plain": [
       "HBox(children=(IntProgress(value=0, max=2736), HTML(value='')))"
      ]
     },
     "metadata": {},
     "output_type": "display_data"
    },
    {
     "name": "stdout",
     "output_type": "stream",
     "text": [
      "\n",
      "epoch 1/4 \t train : loss 0.45617 - spearmanr 0.39784\n",
      "epoch 1: \t Start validation...\n"
     ]
    },
    {
     "data": {
      "application/vnd.jupyter.widget-view+json": {
       "model_id": "b369da6957f1487db4b943bfd7d987e7",
       "version_major": 2,
       "version_minor": 0
      },
      "text/plain": [
       "HBox(children=(IntProgress(value=0, max=304), HTML(value='')))"
      ]
     },
     "metadata": {},
     "output_type": "display_data"
    },
    {
     "name": "stdout",
     "output_type": "stream",
     "text": [
      "\n",
      "epoch 1/4 \t valid : loss 0.45392 - spearmanr 0.39097\n",
      "best model: epoch 1 - 0.39097\n",
      "epoch 2: \t Start training...\n"
     ]
    },
    {
     "data": {
      "application/vnd.jupyter.widget-view+json": {
       "model_id": "83d8e8b159c84fcd963cc1a3eb3d1db6",
       "version_major": 2,
       "version_minor": 0
      },
      "text/plain": [
       "HBox(children=(IntProgress(value=0, max=2736), HTML(value='')))"
      ]
     },
     "metadata": {},
     "output_type": "display_data"
    },
    {
     "name": "stdout",
     "output_type": "stream",
     "text": [
      "\n",
      "epoch 2/4 \t train : loss 0.43249 - spearmanr 0.46153\n",
      "epoch 2: \t Start validation...\n"
     ]
    },
    {
     "data": {
      "application/vnd.jupyter.widget-view+json": {
       "model_id": "0dcde794823a4ab69c3e85307d7ead76",
       "version_major": 2,
       "version_minor": 0
      },
      "text/plain": [
       "HBox(children=(IntProgress(value=0, max=304), HTML(value='')))"
      ]
     },
     "metadata": {},
     "output_type": "display_data"
    },
    {
     "name": "stdout",
     "output_type": "stream",
     "text": [
      "\n",
      "epoch 2/4 \t valid : loss 0.44953 - spearmanr 0.39522\n",
      "best model: epoch 2 - 0.39522\n",
      "epoch 3: \t Start training...\n"
     ]
    },
    {
     "data": {
      "application/vnd.jupyter.widget-view+json": {
       "model_id": "3084346ef45744af8adced8efd090197",
       "version_major": 2,
       "version_minor": 0
      },
      "text/plain": [
       "HBox(children=(IntProgress(value=0, max=2736), HTML(value='')))"
      ]
     },
     "metadata": {},
     "output_type": "display_data"
    },
    {
     "name": "stdout",
     "output_type": "stream",
     "text": [
      "\n",
      "epoch 3/4 \t train : loss 0.41053 - spearmanr 0.51626\n",
      "epoch 3: \t Start validation...\n"
     ]
    },
    {
     "data": {
      "application/vnd.jupyter.widget-view+json": {
       "model_id": "64cc89777a2d428dbd46d50d982969c2",
       "version_major": 2,
       "version_minor": 0
      },
      "text/plain": [
       "HBox(children=(IntProgress(value=0, max=304), HTML(value='')))"
      ]
     },
     "metadata": {},
     "output_type": "display_data"
    },
    {
     "name": "stdout",
     "output_type": "stream",
     "text": [
      "\n",
      "epoch 3/4 \t valid : loss 0.45322 - spearmanr 0.39578\n",
      "best model: epoch 3 - 0.39578\n",
      "TRAINING END: Best score achieved on epoch 3 - 0.39578\n",
      "Starting inference for model: checkpoints/siamese_bert_5_fold_6_best.pth\n"
     ]
    },
    {
     "data": {
      "application/vnd.jupyter.widget-view+json": {
       "model_id": "e48d5362557241869d3fe2f05fe9a57d",
       "version_major": 2,
       "version_minor": 0
      },
      "text/plain": [
       "HBox(children=(IntProgress(value=0, max=304), HTML(value='')))"
      ]
     },
     "metadata": {},
     "output_type": "display_data"
    },
    {
     "name": "stdout",
     "output_type": "stream",
     "text": [
      "\n",
      "Starting inference for model: checkpoints/siamese_bert_5_fold_6_best.pth\n"
     ]
    },
    {
     "data": {
      "application/vnd.jupyter.widget-view+json": {
       "model_id": "db6c5a4aeb76475fb648018390586d50",
       "version_major": 2,
       "version_minor": 0
      },
      "text/plain": [
       "HBox(children=(IntProgress(value=0, max=238), HTML(value='')))"
      ]
     },
     "metadata": {},
     "output_type": "display_data"
    },
    {
     "name": "stdout",
     "output_type": "stream",
     "text": [
      "\n",
      "Fold 7 started at Sat Jan 18 20:34:24 2020\n",
      "epoch 0: \t Start training...\n"
     ]
    },
    {
     "data": {
      "application/vnd.jupyter.widget-view+json": {
       "model_id": "80da69cb404443849b7a0f5b67299caa",
       "version_major": 2,
       "version_minor": 0
      },
      "text/plain": [
       "HBox(children=(IntProgress(value=0, max=2736), HTML(value='')))"
      ]
     },
     "metadata": {},
     "output_type": "display_data"
    },
    {
     "name": "stdout",
     "output_type": "stream",
     "text": [
      "\n",
      "epoch 0/4 \t train : loss 0.50845 - spearmanr 0.24641\n",
      "epoch 0: \t Start validation...\n"
     ]
    },
    {
     "data": {
      "application/vnd.jupyter.widget-view+json": {
       "model_id": "76c5ff47d37b429ca638f107e5b65ad9",
       "version_major": 2,
       "version_minor": 0
      },
      "text/plain": [
       "HBox(children=(IntProgress(value=0, max=304), HTML(value='')))"
      ]
     },
     "metadata": {},
     "output_type": "display_data"
    },
    {
     "name": "stdout",
     "output_type": "stream",
     "text": [
      "\n",
      "epoch 0/4 \t valid : loss 0.47323 - spearmanr 0.37039\n",
      "best model: epoch 0 - 0.37039\n",
      "epoch 1: \t Start training...\n"
     ]
    },
    {
     "data": {
      "application/vnd.jupyter.widget-view+json": {
       "model_id": "e8d0641773c743c88cc3e254750b8796",
       "version_major": 2,
       "version_minor": 0
      },
      "text/plain": [
       "HBox(children=(IntProgress(value=0, max=2736), HTML(value='')))"
      ]
     },
     "metadata": {},
     "output_type": "display_data"
    },
    {
     "name": "stdout",
     "output_type": "stream",
     "text": [
      "\n",
      "epoch 1/4 \t train : loss 0.45592 - spearmanr 0.39579\n",
      "epoch 1: \t Start validation...\n"
     ]
    },
    {
     "data": {
      "application/vnd.jupyter.widget-view+json": {
       "model_id": "97e54d9ccc6a405886dc8d75f0d31292",
       "version_major": 2,
       "version_minor": 0
      },
      "text/plain": [
       "HBox(children=(IntProgress(value=0, max=304), HTML(value='')))"
      ]
     },
     "metadata": {},
     "output_type": "display_data"
    },
    {
     "name": "stdout",
     "output_type": "stream",
     "text": [
      "\n",
      "epoch 1/4 \t valid : loss 0.46064 - spearmanr 0.40608\n",
      "best model: epoch 1 - 0.40608\n",
      "epoch 2: \t Start training...\n"
     ]
    },
    {
     "data": {
      "application/vnd.jupyter.widget-view+json": {
       "model_id": "c3852f520be24981902b5cac5ab1d56d",
       "version_major": 2,
       "version_minor": 0
      },
      "text/plain": [
       "HBox(children=(IntProgress(value=0, max=2736), HTML(value='')))"
      ]
     },
     "metadata": {},
     "output_type": "display_data"
    },
    {
     "name": "stdout",
     "output_type": "stream",
     "text": [
      "\n",
      "epoch 2/4 \t train : loss 0.43203 - spearmanr 0.45997\n",
      "epoch 2: \t Start validation...\n"
     ]
    },
    {
     "data": {
      "application/vnd.jupyter.widget-view+json": {
       "model_id": "665403c04df446baa9a26cceaf707c34",
       "version_major": 2,
       "version_minor": 0
      },
      "text/plain": [
       "HBox(children=(IntProgress(value=0, max=304), HTML(value='')))"
      ]
     },
     "metadata": {},
     "output_type": "display_data"
    },
    {
     "name": "stdout",
     "output_type": "stream",
     "text": [
      "\n",
      "epoch 2/4 \t valid : loss 0.45635 - spearmanr 0.41331\n",
      "best model: epoch 2 - 0.41331\n",
      "epoch 3: \t Start training...\n"
     ]
    },
    {
     "data": {
      "application/vnd.jupyter.widget-view+json": {
       "model_id": "c6c911d444074a0a8817411662a9db4d",
       "version_major": 2,
       "version_minor": 0
      },
      "text/plain": [
       "HBox(children=(IntProgress(value=0, max=2736), HTML(value='')))"
      ]
     },
     "metadata": {},
     "output_type": "display_data"
    },
    {
     "name": "stdout",
     "output_type": "stream",
     "text": [
      "\n",
      "epoch 3/4 \t train : loss 0.41002 - spearmanr 0.51459\n",
      "epoch 3: \t Start validation...\n"
     ]
    },
    {
     "data": {
      "application/vnd.jupyter.widget-view+json": {
       "model_id": "00a58cdf68f34d5a89b1bc883ec8cb1e",
       "version_major": 2,
       "version_minor": 0
      },
      "text/plain": [
       "HBox(children=(IntProgress(value=0, max=304), HTML(value='')))"
      ]
     },
     "metadata": {},
     "output_type": "display_data"
    },
    {
     "name": "stdout",
     "output_type": "stream",
     "text": [
      "\n",
      "epoch 3/4 \t valid : loss 0.46186 - spearmanr 0.41107\n",
      "model not improved for 1 epochs\n",
      "TRAINING END: Best score achieved on epoch 2 - 0.41331\n",
      "Starting inference for model: checkpoints/siamese_bert_5_fold_7_best.pth\n"
     ]
    },
    {
     "data": {
      "application/vnd.jupyter.widget-view+json": {
       "model_id": "f66ac0586f134f23b3d9abdcaa961f3b",
       "version_major": 2,
       "version_minor": 0
      },
      "text/plain": [
       "HBox(children=(IntProgress(value=0, max=304), HTML(value='')))"
      ]
     },
     "metadata": {},
     "output_type": "display_data"
    },
    {
     "name": "stdout",
     "output_type": "stream",
     "text": [
      "\n",
      "Starting inference for model: checkpoints/siamese_bert_5_fold_7_best.pth\n"
     ]
    },
    {
     "data": {
      "application/vnd.jupyter.widget-view+json": {
       "model_id": "5c79da00ff8147af8f5eca327ee8245b",
       "version_major": 2,
       "version_minor": 0
      },
      "text/plain": [
       "HBox(children=(IntProgress(value=0, max=238), HTML(value='')))"
      ]
     },
     "metadata": {},
     "output_type": "display_data"
    },
    {
     "name": "stdout",
     "output_type": "stream",
     "text": [
      "\n",
      "Fold 8 started at Sat Jan 18 21:14:06 2020\n",
      "epoch 0: \t Start training...\n"
     ]
    },
    {
     "data": {
      "application/vnd.jupyter.widget-view+json": {
       "model_id": "ca43e870be3c4abb8d939972a2cf3816",
       "version_major": 2,
       "version_minor": 0
      },
      "text/plain": [
       "HBox(children=(IntProgress(value=0, max=2736), HTML(value='')))"
      ]
     },
     "metadata": {},
     "output_type": "display_data"
    },
    {
     "name": "stdout",
     "output_type": "stream",
     "text": [
      "\n",
      "epoch 0/4 \t train : loss 0.50862 - spearmanr 0.24083\n",
      "epoch 0: \t Start validation...\n"
     ]
    },
    {
     "data": {
      "application/vnd.jupyter.widget-view+json": {
       "model_id": "4d8931c3f6a14e13b01a709667d18c06",
       "version_major": 2,
       "version_minor": 0
      },
      "text/plain": [
       "HBox(children=(IntProgress(value=0, max=304), HTML(value='')))"
      ]
     },
     "metadata": {},
     "output_type": "display_data"
    },
    {
     "name": "stdout",
     "output_type": "stream",
     "text": [
      "\n",
      "epoch 0/4 \t valid : loss 0.47715 - spearmanr 0.38089\n",
      "best model: epoch 0 - 0.38089\n",
      "epoch 1: \t Start training...\n"
     ]
    },
    {
     "data": {
      "application/vnd.jupyter.widget-view+json": {
       "model_id": "b4edeb12482a435e86c5aec25d974817",
       "version_major": 2,
       "version_minor": 0
      },
      "text/plain": [
       "HBox(children=(IntProgress(value=0, max=2736), HTML(value='')))"
      ]
     },
     "metadata": {},
     "output_type": "display_data"
    },
    {
     "name": "stdout",
     "output_type": "stream",
     "text": [
      "\n",
      "epoch 1/4 \t train : loss 0.45566 - spearmanr 0.39578\n",
      "epoch 1: \t Start validation...\n"
     ]
    },
    {
     "data": {
      "application/vnd.jupyter.widget-view+json": {
       "model_id": "f9c58b9b6be54520a6164cbbd35e1f3f",
       "version_major": 2,
       "version_minor": 0
      },
      "text/plain": [
       "HBox(children=(IntProgress(value=0, max=304), HTML(value='')))"
      ]
     },
     "metadata": {},
     "output_type": "display_data"
    },
    {
     "name": "stdout",
     "output_type": "stream",
     "text": [
      "\n",
      "epoch 1/4 \t valid : loss 0.46671 - spearmanr 0.40608\n",
      "best model: epoch 1 - 0.40608\n",
      "epoch 2: \t Start training...\n"
     ]
    },
    {
     "data": {
      "application/vnd.jupyter.widget-view+json": {
       "model_id": "742e25adde7c4a84bfca8889d68d4b37",
       "version_major": 2,
       "version_minor": 0
      },
      "text/plain": [
       "HBox(children=(IntProgress(value=0, max=2736), HTML(value='')))"
      ]
     },
     "metadata": {},
     "output_type": "display_data"
    },
    {
     "name": "stdout",
     "output_type": "stream",
     "text": [
      "\n",
      "epoch 2/4 \t train : loss 0.4317 - spearmanr 0.46011\n",
      "epoch 2: \t Start validation...\n"
     ]
    },
    {
     "data": {
      "application/vnd.jupyter.widget-view+json": {
       "model_id": "d129559ba0d641909e7a1fd584678bd5",
       "version_major": 2,
       "version_minor": 0
      },
      "text/plain": [
       "HBox(children=(IntProgress(value=0, max=304), HTML(value='')))"
      ]
     },
     "metadata": {},
     "output_type": "display_data"
    },
    {
     "name": "stdout",
     "output_type": "stream",
     "text": [
      "\n",
      "epoch 2/4 \t valid : loss 0.45967 - spearmanr 0.41727\n",
      "best model: epoch 2 - 0.41727\n",
      "epoch 3: \t Start training...\n"
     ]
    },
    {
     "data": {
      "application/vnd.jupyter.widget-view+json": {
       "model_id": "b8c7cdedbf4e4648b554fbde827a3e25",
       "version_major": 2,
       "version_minor": 0
      },
      "text/plain": [
       "HBox(children=(IntProgress(value=0, max=2736), HTML(value='')))"
      ]
     },
     "metadata": {},
     "output_type": "display_data"
    },
    {
     "name": "stdout",
     "output_type": "stream",
     "text": [
      "\n",
      "epoch 3/4 \t train : loss 0.40983 - spearmanr 0.51512\n",
      "epoch 3: \t Start validation...\n"
     ]
    },
    {
     "data": {
      "application/vnd.jupyter.widget-view+json": {
       "model_id": "12b9ade58c47404eb16d69f42aa63d52",
       "version_major": 2,
       "version_minor": 0
      },
      "text/plain": [
       "HBox(children=(IntProgress(value=0, max=304), HTML(value='')))"
      ]
     },
     "metadata": {},
     "output_type": "display_data"
    },
    {
     "name": "stdout",
     "output_type": "stream",
     "text": [
      "\n",
      "epoch 3/4 \t valid : loss 0.46567 - spearmanr 0.41587\n",
      "model not improved for 1 epochs\n",
      "TRAINING END: Best score achieved on epoch 2 - 0.41727\n",
      "Starting inference for model: checkpoints/siamese_bert_5_fold_8_best.pth\n"
     ]
    },
    {
     "data": {
      "application/vnd.jupyter.widget-view+json": {
       "model_id": "c6aec71069f849d39268bfa9063e61ab",
       "version_major": 2,
       "version_minor": 0
      },
      "text/plain": [
       "HBox(children=(IntProgress(value=0, max=304), HTML(value='')))"
      ]
     },
     "metadata": {},
     "output_type": "display_data"
    },
    {
     "name": "stdout",
     "output_type": "stream",
     "text": [
      "\n",
      "Starting inference for model: checkpoints/siamese_bert_5_fold_8_best.pth\n"
     ]
    },
    {
     "data": {
      "application/vnd.jupyter.widget-view+json": {
       "model_id": "349a8ca52c544d749472ffd5a91f4353",
       "version_major": 2,
       "version_minor": 0
      },
      "text/plain": [
       "HBox(children=(IntProgress(value=0, max=238), HTML(value='')))"
      ]
     },
     "metadata": {},
     "output_type": "display_data"
    },
    {
     "name": "stdout",
     "output_type": "stream",
     "text": [
      "\n",
      "Fold 9 started at Sat Jan 18 21:53:03 2020\n",
      "epoch 0: \t Start training...\n"
     ]
    },
    {
     "data": {
      "application/vnd.jupyter.widget-view+json": {
       "model_id": "c2c405b500dd4980905677f17cd81c89",
       "version_major": 2,
       "version_minor": 0
      },
      "text/plain": [
       "HBox(children=(IntProgress(value=0, max=2736), HTML(value='')))"
      ]
     },
     "metadata": {},
     "output_type": "display_data"
    },
    {
     "name": "stdout",
     "output_type": "stream",
     "text": [
      "\n",
      "epoch 0/4 \t train : loss 0.50942 - spearmanr 0.24432\n",
      "epoch 0: \t Start validation...\n"
     ]
    },
    {
     "data": {
      "application/vnd.jupyter.widget-view+json": {
       "model_id": "3ba6a89f93be45039660712cbafc0673",
       "version_major": 2,
       "version_minor": 0
      },
      "text/plain": [
       "HBox(children=(IntProgress(value=0, max=304), HTML(value='')))"
      ]
     },
     "metadata": {},
     "output_type": "display_data"
    },
    {
     "name": "stdout",
     "output_type": "stream",
     "text": [
      "\n",
      "epoch 0/4 \t valid : loss 0.46738 - spearmanr 0.37171\n",
      "best model: epoch 0 - 0.37171\n",
      "epoch 1: \t Start training...\n"
     ]
    },
    {
     "data": {
      "application/vnd.jupyter.widget-view+json": {
       "model_id": "61471fee63844fa693a085164af986e4",
       "version_major": 2,
       "version_minor": 0
      },
      "text/plain": [
       "HBox(children=(IntProgress(value=0, max=2736), HTML(value='')))"
      ]
     },
     "metadata": {},
     "output_type": "display_data"
    },
    {
     "name": "stdout",
     "output_type": "stream",
     "text": [
      "\n",
      "epoch 1/4 \t train : loss 0.45596 - spearmanr 0.39708\n",
      "epoch 1: \t Start validation...\n"
     ]
    },
    {
     "data": {
      "application/vnd.jupyter.widget-view+json": {
       "model_id": "493bbbf06f294e59a08273641efd1aba",
       "version_major": 2,
       "version_minor": 0
      },
      "text/plain": [
       "HBox(children=(IntProgress(value=0, max=304), HTML(value='')))"
      ]
     },
     "metadata": {},
     "output_type": "display_data"
    },
    {
     "name": "stdout",
     "output_type": "stream",
     "text": [
      "\n",
      "epoch 1/4 \t valid : loss 0.45836 - spearmanr 0.3977\n",
      "best model: epoch 1 - 0.3977\n",
      "epoch 2: \t Start training...\n"
     ]
    },
    {
     "data": {
      "application/vnd.jupyter.widget-view+json": {
       "model_id": "989bd0036c184bc6aa575913cf7ac083",
       "version_major": 2,
       "version_minor": 0
      },
      "text/plain": [
       "HBox(children=(IntProgress(value=0, max=2736), HTML(value='')))"
      ]
     },
     "metadata": {},
     "output_type": "display_data"
    },
    {
     "name": "stdout",
     "output_type": "stream",
     "text": [
      "\n",
      "epoch 2/4 \t train : loss 0.43209 - spearmanr 0.46047\n",
      "epoch 2: \t Start validation...\n"
     ]
    },
    {
     "data": {
      "application/vnd.jupyter.widget-view+json": {
       "model_id": "9f6d54537e614c0fa6c2e2050e57e13e",
       "version_major": 2,
       "version_minor": 0
      },
      "text/plain": [
       "HBox(children=(IntProgress(value=0, max=304), HTML(value='')))"
      ]
     },
     "metadata": {},
     "output_type": "display_data"
    },
    {
     "name": "stdout",
     "output_type": "stream",
     "text": [
      "\n",
      "epoch 2/4 \t valid : loss 0.45826 - spearmanr 0.40407\n",
      "best model: epoch 2 - 0.40407\n",
      "epoch 3: \t Start training...\n"
     ]
    },
    {
     "data": {
      "application/vnd.jupyter.widget-view+json": {
       "model_id": "c1a007d3123e4810a5d41bb395cedac9",
       "version_major": 2,
       "version_minor": 0
      },
      "text/plain": [
       "HBox(children=(IntProgress(value=0, max=2736), HTML(value='')))"
      ]
     },
     "metadata": {},
     "output_type": "display_data"
    },
    {
     "name": "stdout",
     "output_type": "stream",
     "text": [
      "\n",
      "epoch 3/4 \t train : loss 0.41086 - spearmanr 0.51317\n",
      "epoch 3: \t Start validation...\n"
     ]
    },
    {
     "data": {
      "application/vnd.jupyter.widget-view+json": {
       "model_id": "98de151b969943f1b23b3bb4437393c7",
       "version_major": 2,
       "version_minor": 0
      },
      "text/plain": [
       "HBox(children=(IntProgress(value=0, max=304), HTML(value='')))"
      ]
     },
     "metadata": {},
     "output_type": "display_data"
    },
    {
     "name": "stdout",
     "output_type": "stream",
     "text": [
      "\n",
      "epoch 3/4 \t valid : loss 0.45707 - spearmanr 0.40515\n",
      "best model: epoch 3 - 0.40515\n",
      "TRAINING END: Best score achieved on epoch 3 - 0.40515\n",
      "Starting inference for model: checkpoints/siamese_bert_5_fold_9_best.pth\n"
     ]
    },
    {
     "data": {
      "application/vnd.jupyter.widget-view+json": {
       "model_id": "11063882ea9840d286f76e52f51e292d",
       "version_major": 2,
       "version_minor": 0
      },
      "text/plain": [
       "HBox(children=(IntProgress(value=0, max=304), HTML(value='')))"
      ]
     },
     "metadata": {},
     "output_type": "display_data"
    },
    {
     "name": "stdout",
     "output_type": "stream",
     "text": [
      "\n",
      "Starting inference for model: checkpoints/siamese_bert_5_fold_9_best.pth\n"
     ]
    },
    {
     "data": {
      "application/vnd.jupyter.widget-view+json": {
       "model_id": "0dac0ca39d84466fabfd6be928194a45",
       "version_major": 2,
       "version_minor": 0
      },
      "text/plain": [
       "HBox(children=(IntProgress(value=0, max=238), HTML(value='')))"
      ]
     },
     "metadata": {},
     "output_type": "display_data"
    },
    {
     "name": "stdout",
     "output_type": "stream",
     "text": [
      "\n",
      "Fold 10 started at Sat Jan 18 22:32:43 2020\n",
      "epoch 0: \t Start training...\n"
     ]
    },
    {
     "data": {
      "application/vnd.jupyter.widget-view+json": {
       "model_id": "4bf6afd6172f4cdf940c5534e2583cfa",
       "version_major": 2,
       "version_minor": 0
      },
      "text/plain": [
       "HBox(children=(IntProgress(value=0, max=2736), HTML(value='')))"
      ]
     },
     "metadata": {},
     "output_type": "display_data"
    },
    {
     "name": "stdout",
     "output_type": "stream",
     "text": [
      "\n",
      "epoch 0/4 \t train : loss 0.51037 - spearmanr 0.23948\n",
      "epoch 0: \t Start validation...\n"
     ]
    },
    {
     "data": {
      "application/vnd.jupyter.widget-view+json": {
       "model_id": "25cd19ce45954c2f98c5283e10ce2a7b",
       "version_major": 2,
       "version_minor": 0
      },
      "text/plain": [
       "HBox(children=(IntProgress(value=0, max=304), HTML(value='')))"
      ]
     },
     "metadata": {},
     "output_type": "display_data"
    },
    {
     "name": "stdout",
     "output_type": "stream",
     "text": [
      "\n",
      "epoch 0/4 \t valid : loss 0.46091 - spearmanr 0.38762\n",
      "best model: epoch 0 - 0.38762\n",
      "epoch 1: \t Start training...\n"
     ]
    },
    {
     "data": {
      "application/vnd.jupyter.widget-view+json": {
       "model_id": "e1bba0a52df54bbca326d10bda825a13",
       "version_major": 2,
       "version_minor": 0
      },
      "text/plain": [
       "HBox(children=(IntProgress(value=0, max=2736), HTML(value='')))"
      ]
     },
     "metadata": {},
     "output_type": "display_data"
    },
    {
     "name": "stdout",
     "output_type": "stream",
     "text": [
      "\n",
      "epoch 1/4 \t train : loss 0.45729 - spearmanr 0.3937\n",
      "epoch 1: \t Start validation...\n"
     ]
    },
    {
     "data": {
      "application/vnd.jupyter.widget-view+json": {
       "model_id": "eaefd85561c247438287284d184e93bd",
       "version_major": 2,
       "version_minor": 0
      },
      "text/plain": [
       "HBox(children=(IntProgress(value=0, max=304), HTML(value='')))"
      ]
     },
     "metadata": {},
     "output_type": "display_data"
    },
    {
     "name": "stdout",
     "output_type": "stream",
     "text": [
      "\n",
      "epoch 1/4 \t valid : loss 0.44835 - spearmanr 0.41562\n",
      "best model: epoch 1 - 0.41562\n",
      "epoch 2: \t Start training...\n"
     ]
    },
    {
     "data": {
      "application/vnd.jupyter.widget-view+json": {
       "model_id": "3c9460f946044b5885627c33083f8123",
       "version_major": 2,
       "version_minor": 0
      },
      "text/plain": [
       "HBox(children=(IntProgress(value=0, max=2736), HTML(value='')))"
      ]
     },
     "metadata": {},
     "output_type": "display_data"
    },
    {
     "name": "stdout",
     "output_type": "stream",
     "text": [
      "\n",
      "epoch 2/4 \t train : loss 0.43332 - spearmanr 0.45886\n",
      "epoch 2: \t Start validation...\n"
     ]
    },
    {
     "data": {
      "application/vnd.jupyter.widget-view+json": {
       "model_id": "c0416781e6fb402ca50cd5660ccae606",
       "version_major": 2,
       "version_minor": 0
      },
      "text/plain": [
       "HBox(children=(IntProgress(value=0, max=304), HTML(value='')))"
      ]
     },
     "metadata": {},
     "output_type": "display_data"
    },
    {
     "name": "stdout",
     "output_type": "stream",
     "text": [
      "\n",
      "epoch 2/4 \t valid : loss 0.44531 - spearmanr 0.41737\n",
      "best model: epoch 2 - 0.41737\n",
      "epoch 3: \t Start training...\n"
     ]
    },
    {
     "data": {
      "application/vnd.jupyter.widget-view+json": {
       "model_id": "f95c82323fe649c78d6ee41eb6bf7dc7",
       "version_major": 2,
       "version_minor": 0
      },
      "text/plain": [
       "HBox(children=(IntProgress(value=0, max=2736), HTML(value='')))"
      ]
     },
     "metadata": {},
     "output_type": "display_data"
    },
    {
     "name": "stdout",
     "output_type": "stream",
     "text": [
      "\n",
      "epoch 3/4 \t train : loss 0.41149 - spearmanr 0.51309\n",
      "epoch 3: \t Start validation...\n"
     ]
    },
    {
     "data": {
      "application/vnd.jupyter.widget-view+json": {
       "model_id": "3eeb2d1005cf421a9085aecb8d43e9b0",
       "version_major": 2,
       "version_minor": 0
      },
      "text/plain": [
       "HBox(children=(IntProgress(value=0, max=304), HTML(value='')))"
      ]
     },
     "metadata": {},
     "output_type": "display_data"
    },
    {
     "name": "stdout",
     "output_type": "stream",
     "text": [
      "\n",
      "epoch 3/4 \t valid : loss 0.44859 - spearmanr 0.42058\n",
      "best model: epoch 3 - 0.42058\n",
      "TRAINING END: Best score achieved on epoch 3 - 0.42058\n",
      "Starting inference for model: checkpoints/siamese_bert_5_fold_10_best.pth\n"
     ]
    },
    {
     "data": {
      "application/vnd.jupyter.widget-view+json": {
       "model_id": "9f9e58d31e644b90afcef9181d80e8f2",
       "version_major": 2,
       "version_minor": 0
      },
      "text/plain": [
       "HBox(children=(IntProgress(value=0, max=304), HTML(value='')))"
      ]
     },
     "metadata": {},
     "output_type": "display_data"
    },
    {
     "name": "stdout",
     "output_type": "stream",
     "text": [
      "\n",
      "Starting inference for model: checkpoints/siamese_bert_5_fold_10_best.pth\n"
     ]
    },
    {
     "data": {
      "application/vnd.jupyter.widget-view+json": {
       "model_id": "001d4a878b004491b07db0ed022f19f8",
       "version_major": 2,
       "version_minor": 0
      },
      "text/plain": [
       "HBox(children=(IntProgress(value=0, max=238), HTML(value='')))"
      ]
     },
     "metadata": {},
     "output_type": "display_data"
    },
    {
     "name": "stdout",
     "output_type": "stream",
     "text": [
      "\n",
      "OOF score: 0.4088161371137931\n"
     ]
    }
   ],
   "source": [
    "init_seed()\n",
    "folds = GroupKFold(n_splits=n_folds).split(X=train['question_body'], groups=train['question_body'])\n",
    "oofs = np.zeros((len(train), N_TARGETS))\n",
    "preds = np.zeros((len(test), N_TARGETS))\n",
    "\n",
    "for fold_id, (train_index, valid_index) in enumerate(folds):\n",
    "    print(f'Fold {fold_id + 1} started at {time.ctime()}')\n",
    "    train_loader = DataLoader(\n",
    "        TextDataset(cat_features_train, ids_train['question'], ids_train['answer'],\n",
    "                    seg_ids_train['question'], seg_ids_train['answer'], train_index, targets=y), \n",
    "        batch_size=bs, shuffle=True, num_workers=num_workers, drop_last=False\n",
    "    )\n",
    "    valid_loader = DataLoader(\n",
    "        TextDataset(cat_features_train, ids_train['question'], ids_train['answer'],\n",
    "                    seg_ids_train['question'], seg_ids_train['answer'], valid_index, targets=y), \n",
    "        batch_size=bs, shuffle=False, num_workers=num_workers, drop_last=False\n",
    "    )\n",
    "    model = CustomBert3(256, cat_features_train.shape[1])\n",
    "    \n",
    "    if fold_id == 0:\n",
    "        # print(model)\n",
    "        model = model.to(device)\n",
    "        optimizer = get_optimizer(model, lr, weight_decay)\n",
    "        lr_finder = LRFinder(n_iter=min(grad_accum*100, len(train_loader)), start_lr=1e-5, \n",
    "                             end_lr=1, device=device, grad_accum=grad_accum, divergence_factor=5)\n",
    "        lr_finder.find_lr(model, optimizer, train_loader, loss_fn)\n",
    "        plt.show()\n",
    "    \n",
    "    optimizer = get_optimizer(model, lr, weight_decay)\n",
    "    scheduler = OneCycleLR(optimizer, n_epochs=n_epochs, n_batches=len(train_loader))\n",
    "\n",
    "    learner = Learner(\n",
    "        model, \n",
    "        optimizer, \n",
    "        train_loader, \n",
    "        valid_loader, \n",
    "        loss_fn, \n",
    "        device, \n",
    "        n_epochs, \n",
    "        f'{model_name}_fold_{fold_id + 1}', \n",
    "        checkpoint_dir, \n",
    "        scheduler=scheduler, \n",
    "        metric_fns={'spearmanr': (spearmanr_torch, 'epoch_end')}, \n",
    "        monitor_metric='spearmanr',\n",
    "        minimize_score=False, \n",
    "        logger=None,\n",
    "        grad_accum=grad_accum,\n",
    "        early_stopping=early_stopping, \n",
    "        batch_step_scheduler=True\n",
    "    )\n",
    "    if (fold_id + 1) > 2: learner.train()\n",
    "    \n",
    "    oofs[valid_index] = infer(learner.model, valid_loader, learner.best_checkpoint_file, device)\n",
    "    \n",
    "    test_preds = infer(learner.model, test_loader, learner.best_checkpoint_file, device)\n",
    "    preds += test_preds / n_folds\n",
    "    \n",
    "    del learner, model, train_loader, valid_loader\n",
    "    gc.collect()\n",
    "    \n",
    "print(f'OOF score: {spearmanr_np(oofs, y)}')\n",
    "#KFold 5: distilbert: 0.4160\n",
    "#GKFold 5: distilbert: ~0.4005, ~0.4130, distilbert eda: ~0.4000, ~0.4200 (unsure), bert siamese: 0.4040, 0.4188\n",
    "    # smoothing y dist -> ~0.005 CV improve\n",
    "#GKFold 10: distilbert: 0.4012, ~0.4195, bert siamese with smoothing (1): 0.4059, 0.4206, 0.4275, 0.4449\n",
    "    #bert siamese with token_type_ids (2): 0.4091. 0.4236. 0.4317, 0.4507\n",
    "    #bert siamese for 3 epochs (3): 0.4121. 0.4273. 0.4347, 0.4497\n",
    "#MLFold 5: bert siamese: 0.4118, 0.4355, 04373"
   ]
  },
  {
   "cell_type": "code",
   "execution_count": 12,
   "metadata": {},
   "outputs": [],
   "source": [
    "def my_round(x, num, dec=2):\n",
    "    return np.round(x / num, dec) * num\n",
    "\n",
    "def round_preds(preds, thres=0.0, low_dec=1, low_num=1, high_dec=2, high_num=3):\n",
    "    low_idx = preds < thres\n",
    "    new_preds = np.zeros_like(preds)\n",
    "    new_preds[low_idx] = my_round(preds[low_idx], low_num, low_dec)\n",
    "    new_preds[~low_idx] = my_round(preds[~low_idx], high_num, high_dec)\n",
    "    return new_preds\n",
    "\n",
    "def scale(x, d):\n",
    "    if d: return (x//(1/d))/d\n",
    "    else: return x\n",
    "\n",
    "def ahmet_round(preds, ds, indices):\n",
    "    new_preds = preds.copy()\n",
    "    for idx, d in zip(indices, ds):\n",
    "        new_preds[:,idx] = scale(preds[:,idx], d)\n",
    "    return new_preds"
   ]
  },
  {
   "cell_type": "code",
   "execution_count": 13,
   "metadata": {
    "scrolled": true
   },
   "outputs": [
    {
     "name": "stdout",
     "output_type": "stream",
     "text": [
      "0 5 0.35390390668255967\n",
      "0 10 0.3792536379654367\n",
      "0 15 0.38011964163162354\n",
      "0 20 0.3825778937854108\n",
      "0 33 0.38336108053573265\n",
      "1 5 0.6419875133386687\n",
      "1 10 0.6579081474578099\n",
      "1 15 0.659812026163511\n",
      "1 20 0.6609572947918022\n",
      "1 33 0.6610284590404079\n",
      "1 None 0.6615625723246431\n",
      "2 5 0.4765652035459416\n",
      "2 10 0.4805194896271632\n",
      "3 5 0.28449516199164665\n",
      "3 10 0.2956807330870478\n",
      "3 15 0.29625771754688224\n",
      "3 None 0.29706386104093346\n",
      "4 5 0.35790606262495106\n",
      "5 5 0.4564986004345895\n",
      "6 5 0.3163435842275538\n",
      "6 10 0.3480345566386131\n",
      "6 15 0.35613090380767043\n",
      "7 5 0.5013597119774728\n",
      "7 10 0.5083938252637281\n",
      "7 15 0.5111647578050031\n",
      "8 5 0.5732548069560651\n",
      "8 10 0.5768973508986578\n",
      "8 15 0.5780092641898432\n",
      "8 20 0.5787223279290925\n",
      "9 5 0.05220176387455794\n",
      "9 15 0.08777954116121249\n",
      "9 20 0.08842240310874024\n",
      "9 33 0.12255419622233055\n",
      "10 5 0.4573501183645364\n",
      "10 10 0.4674484419446801\n",
      "11 5 0.7464876364521595\n",
      "12 5 0.5099105982587352\n",
      "13 5 0.20799987756480062\n",
      "13 10 0.2373157124091457\n",
      "13 15 0.26032733151095727\n",
      "14 5 0.6128743436620765\n",
      "14 10 0.6178874228223692\n",
      "15 5 0.5651060547558439\n",
      "16 5 0.7763208212701648\n",
      "16 10 0.7776883090618343\n",
      "16 15 0.7780043510906426\n",
      "17 5 0.3260332526860554\n",
      "17 10 0.3468627875605488\n",
      "17 15 0.3477993152815176\n",
      "17 20 0.3501146357708688\n",
      "17 33 0.35072324609933403\n",
      "17 None 0.35113617974802164\n",
      "18 5 0.6503849461227311\n",
      "18 10 0.6605792254784228\n",
      "18 15 0.6624131483131216\n",
      "18 20 0.6633404971846348\n",
      "18 33 0.663383720117512\n",
      "18 None 0.6639483774929091\n",
      "19 10 0.5844732687615628\n",
      "20 5 0.5120297416131011\n",
      "20 10 0.5212910856821829\n",
      "20 15 0.5268647985590091\n",
      "21 5 0.21131700298329298\n",
      "21 10 0.22502950180943185\n",
      "21 20 0.23016933045313998\n",
      "22 5 0.42149666818468007\n",
      "22 10 0.4356764186796521\n",
      "22 15 0.4399155117755217\n",
      "22 20 0.4428272044280457\n",
      "22 33 0.44304279721239526\n",
      "22 None 0.4441933442576707\n",
      "23 5 0.11770456009492664\n",
      "23 10 0.11946427609465428\n",
      "23 15 0.12391184530010745\n",
      "23 20 0.12426382061345008\n",
      "23 33 0.12620648633495118\n",
      "24 5 0.14438600823519837\n",
      "24 10 0.15744756460387707\n",
      "24 15 0.16196926406803727\n",
      "24 20 0.16488672926656459\n",
      "25 5 0.3085930035511135\n",
      "25 10 0.32155086893483004\n",
      "25 15 0.32395739623789177\n",
      "25 20 0.32478388460143837\n",
      "25 33 0.3273039446986895\n",
      "25 None 0.3284565245116147\n",
      "26 5 0.7524501082151949\n",
      "26 10 0.7569271218640774\n",
      "26 15 0.7585349140514022\n",
      "26 33 0.7586551174773823\n",
      "27 5 0.261905900467764\n",
      "27 10 0.29450960404900706\n",
      "27 20 0.29786681536775866\n",
      "27 33 0.29968318104017055\n",
      "28 5 0.662714869218219\n",
      "28 10 0.6705655867196696\n",
      "28 15 0.6720181023350548\n",
      "28 20 0.67247225340103\n",
      "28 33 0.6727824970663107\n",
      "28 None 0.6731395791148785\n",
      "29 5 0.2140904991169522\n",
      "29 10 0.2233073713181933\n",
      "29 15 0.22732924008797384\n",
      "29 None 0.2277998908304169\n"
     ]
    }
   ],
   "source": [
    "from scipy.stats import spearmanr\n",
    "opt_ds = []\n",
    "opt_indices = []\n",
    "for idx in range(N_TARGETS):\n",
    "    opt_score = 0\n",
    "    opt_d = None\n",
    "    for d in [5, 10, 15, 20, 33, None]:\n",
    "        score = spearmanr(scale(oofs[:,idx], d), y[:,idx])[0]\n",
    "        if score > opt_score:\n",
    "            opt_score = score\n",
    "            opt_d = d\n",
    "            print(idx, d, score)\n",
    "    if opt_d:\n",
    "        opt_ds.append(opt_d)\n",
    "        opt_indices.append(idx)"
   ]
  },
  {
   "cell_type": "code",
   "execution_count": 14,
   "metadata": {},
   "outputs": [
    {
     "data": {
      "text/plain": [
       "([33,\n",
       "  10,\n",
       "  5,\n",
       "  5,\n",
       "  15,\n",
       "  15,\n",
       "  20,\n",
       "  33,\n",
       "  10,\n",
       "  5,\n",
       "  5,\n",
       "  15,\n",
       "  10,\n",
       "  5,\n",
       "  15,\n",
       "  10,\n",
       "  15,\n",
       "  20,\n",
       "  33,\n",
       "  20,\n",
       "  33,\n",
       "  33],\n",
       " [0,\n",
       "  2,\n",
       "  4,\n",
       "  5,\n",
       "  6,\n",
       "  7,\n",
       "  8,\n",
       "  9,\n",
       "  10,\n",
       "  11,\n",
       "  12,\n",
       "  13,\n",
       "  14,\n",
       "  15,\n",
       "  16,\n",
       "  19,\n",
       "  20,\n",
       "  21,\n",
       "  23,\n",
       "  24,\n",
       "  26,\n",
       "  27])"
      ]
     },
     "execution_count": 14,
     "metadata": {},
     "output_type": "execute_result"
    }
   ],
   "source": [
    "opt_ds, opt_indices"
   ]
  },
  {
   "cell_type": "code",
   "execution_count": 15,
   "metadata": {},
   "outputs": [
    {
     "data": {
      "text/plain": [
       "0.45100894990119295"
      ]
     },
     "execution_count": 15,
     "metadata": {},
     "output_type": "execute_result"
    }
   ],
   "source": [
    "spearmanr_np(ahmet_round(oofs, opt_ds, opt_indices), y)"
   ]
  },
  {
   "cell_type": "code",
   "execution_count": 16,
   "metadata": {
    "scrolled": false
   },
   "outputs": [
    {
     "data": {
      "text/plain": [
       "0.45100894990119295"
      ]
     },
     "execution_count": 16,
     "metadata": {},
     "output_type": "execute_result"
    }
   ],
   "source": [
    "oofs_alt = oofs.copy()\n",
    "train[\"eng\"] = train[\"url\"].apply(lambda x: x.startswith(\"http://english.\") or x.startswith(\"http://ell.\"))\n",
    "oofs_alt[np.where((~train[\"eng\"]).values)[0], 19] = 0\n",
    "spearmanr_np(ahmet_round(oofs_alt, opt_ds, opt_indices), y)"
   ]
  },
  {
   "cell_type": "code",
   "execution_count": 17,
   "metadata": {
    "scrolled": false
   },
   "outputs": [
    {
     "data": {
      "text/plain": [
       "0.4088161371137931"
      ]
     },
     "execution_count": 17,
     "metadata": {},
     "output_type": "execute_result"
    }
   ],
   "source": [
    "spearmanr_np(oofs, y)"
   ]
  },
  {
   "cell_type": "code",
   "execution_count": 18,
   "metadata": {
    "scrolled": false
   },
   "outputs": [
    {
     "data": {
      "text/plain": [
       "0.42289208923672866"
      ]
     },
     "execution_count": 18,
     "metadata": {},
     "output_type": "execute_result"
    }
   ],
   "source": [
    "spearmanr_np(round_preds(oofs, high_num=3), y)"
   ]
  },
  {
   "cell_type": "code",
   "execution_count": 19,
   "metadata": {},
   "outputs": [],
   "source": [
    "# clipping is necessary or we will get an error\n",
    "sample_submission.loc[:, 'question_asker_intent_understanding':] = np.clip(preds, 0.00001, 0.999999)\n",
    "sample_submission.to_csv('subs/submission.csv', index=False)"
   ]
  },
  {
   "cell_type": "code",
   "execution_count": 20,
   "metadata": {
    "scrolled": false
   },
   "outputs": [
    {
     "data": {
      "text/html": [
       "<div>\n",
       "<style scoped>\n",
       "    .dataframe tbody tr th:only-of-type {\n",
       "        vertical-align: middle;\n",
       "    }\n",
       "\n",
       "    .dataframe tbody tr th {\n",
       "        vertical-align: top;\n",
       "    }\n",
       "\n",
       "    .dataframe thead th {\n",
       "        text-align: right;\n",
       "    }\n",
       "</style>\n",
       "<table border=\"1\" class=\"dataframe\">\n",
       "  <thead>\n",
       "    <tr style=\"text-align: right;\">\n",
       "      <th></th>\n",
       "      <th>qa_id</th>\n",
       "      <th>question_asker_intent_understanding</th>\n",
       "      <th>question_body_critical</th>\n",
       "      <th>question_conversational</th>\n",
       "      <th>question_expect_short_answer</th>\n",
       "      <th>question_fact_seeking</th>\n",
       "      <th>question_has_commonly_accepted_answer</th>\n",
       "      <th>question_interestingness_others</th>\n",
       "      <th>question_interestingness_self</th>\n",
       "      <th>question_multi_intent</th>\n",
       "      <th>question_not_really_a_question</th>\n",
       "      <th>question_opinion_seeking</th>\n",
       "      <th>question_type_choice</th>\n",
       "      <th>question_type_compare</th>\n",
       "      <th>question_type_consequence</th>\n",
       "      <th>question_type_definition</th>\n",
       "      <th>question_type_entity</th>\n",
       "      <th>question_type_instructions</th>\n",
       "      <th>question_type_procedure</th>\n",
       "      <th>question_type_reason_explanation</th>\n",
       "      <th>question_type_spelling</th>\n",
       "      <th>question_well_written</th>\n",
       "      <th>answer_helpful</th>\n",
       "      <th>answer_level_of_information</th>\n",
       "      <th>answer_plausible</th>\n",
       "      <th>answer_relevance</th>\n",
       "      <th>answer_satisfaction</th>\n",
       "      <th>answer_type_instructions</th>\n",
       "      <th>answer_type_procedure</th>\n",
       "      <th>answer_type_reason_explanation</th>\n",
       "      <th>answer_well_written</th>\n",
       "    </tr>\n",
       "  </thead>\n",
       "  <tbody>\n",
       "    <tr>\n",
       "      <th>0</th>\n",
       "      <td>39</td>\n",
       "      <td>0.801444</td>\n",
       "      <td>0.568796</td>\n",
       "      <td>0.353784</td>\n",
       "      <td>0.409119</td>\n",
       "      <td>0.520720</td>\n",
       "      <td>0.379034</td>\n",
       "      <td>0.686693</td>\n",
       "      <td>0.678292</td>\n",
       "      <td>0.710396</td>\n",
       "      <td>0.005259</td>\n",
       "      <td>0.722005</td>\n",
       "      <td>0.793027</td>\n",
       "      <td>0.027868</td>\n",
       "      <td>0.437008</td>\n",
       "      <td>0.004994</td>\n",
       "      <td>0.022796</td>\n",
       "      <td>0.083862</td>\n",
       "      <td>0.150961</td>\n",
       "      <td>0.784770</td>\n",
       "      <td>0.000666</td>\n",
       "      <td>0.810658</td>\n",
       "      <td>0.575462</td>\n",
       "      <td>0.189154</td>\n",
       "      <td>0.746711</td>\n",
       "      <td>0.716809</td>\n",
       "      <td>0.316579</td>\n",
       "      <td>0.023710</td>\n",
       "      <td>0.038143</td>\n",
       "      <td>0.789946</td>\n",
       "      <td>0.622538</td>\n",
       "    </tr>\n",
       "    <tr>\n",
       "      <th>1</th>\n",
       "      <td>46</td>\n",
       "      <td>0.466506</td>\n",
       "      <td>0.275613</td>\n",
       "      <td>0.008987</td>\n",
       "      <td>0.679619</td>\n",
       "      <td>0.625059</td>\n",
       "      <td>0.876766</td>\n",
       "      <td>0.408301</td>\n",
       "      <td>0.339540</td>\n",
       "      <td>0.057873</td>\n",
       "      <td>0.013514</td>\n",
       "      <td>0.496868</td>\n",
       "      <td>0.292722</td>\n",
       "      <td>0.004991</td>\n",
       "      <td>0.000640</td>\n",
       "      <td>0.000967</td>\n",
       "      <td>0.013813</td>\n",
       "      <td>0.893221</td>\n",
       "      <td>0.314281</td>\n",
       "      <td>0.079352</td>\n",
       "      <td>0.000136</td>\n",
       "      <td>0.222918</td>\n",
       "      <td>0.761887</td>\n",
       "      <td>0.477581</td>\n",
       "      <td>0.863264</td>\n",
       "      <td>0.925215</td>\n",
       "      <td>0.580293</td>\n",
       "      <td>0.943150</td>\n",
       "      <td>0.188898</td>\n",
       "      <td>0.044553</td>\n",
       "      <td>0.592382</td>\n",
       "    </tr>\n",
       "    <tr>\n",
       "      <th>2</th>\n",
       "      <td>70</td>\n",
       "      <td>0.680312</td>\n",
       "      <td>0.504717</td>\n",
       "      <td>0.038375</td>\n",
       "      <td>0.633750</td>\n",
       "      <td>0.773579</td>\n",
       "      <td>0.899232</td>\n",
       "      <td>0.496348</td>\n",
       "      <td>0.403424</td>\n",
       "      <td>0.377091</td>\n",
       "      <td>0.004445</td>\n",
       "      <td>0.328250</td>\n",
       "      <td>0.747650</td>\n",
       "      <td>0.020537</td>\n",
       "      <td>0.062352</td>\n",
       "      <td>0.001452</td>\n",
       "      <td>0.007073</td>\n",
       "      <td>0.185919</td>\n",
       "      <td>0.157105</td>\n",
       "      <td>0.761373</td>\n",
       "      <td>0.000548</td>\n",
       "      <td>0.645356</td>\n",
       "      <td>0.670685</td>\n",
       "      <td>0.299414</td>\n",
       "      <td>0.848500</td>\n",
       "      <td>0.847949</td>\n",
       "      <td>0.471269</td>\n",
       "      <td>0.069227</td>\n",
       "      <td>0.077539</td>\n",
       "      <td>0.836845</td>\n",
       "      <td>0.572936</td>\n",
       "    </tr>\n",
       "    <tr>\n",
       "      <th>3</th>\n",
       "      <td>132</td>\n",
       "      <td>0.564647</td>\n",
       "      <td>0.153768</td>\n",
       "      <td>0.003858</td>\n",
       "      <td>0.622206</td>\n",
       "      <td>0.612450</td>\n",
       "      <td>0.876705</td>\n",
       "      <td>0.373081</td>\n",
       "      <td>0.215181</td>\n",
       "      <td>0.165060</td>\n",
       "      <td>0.007787</td>\n",
       "      <td>0.606155</td>\n",
       "      <td>0.127317</td>\n",
       "      <td>0.001401</td>\n",
       "      <td>0.002612</td>\n",
       "      <td>0.000279</td>\n",
       "      <td>0.002143</td>\n",
       "      <td>0.815294</td>\n",
       "      <td>0.296700</td>\n",
       "      <td>0.639792</td>\n",
       "      <td>0.000042</td>\n",
       "      <td>0.392034</td>\n",
       "      <td>0.806670</td>\n",
       "      <td>0.600635</td>\n",
       "      <td>0.876516</td>\n",
       "      <td>0.923475</td>\n",
       "      <td>0.651412</td>\n",
       "      <td>0.848806</td>\n",
       "      <td>0.314273</td>\n",
       "      <td>0.643657</td>\n",
       "      <td>0.669560</td>\n",
       "    </tr>\n",
       "    <tr>\n",
       "      <th>4</th>\n",
       "      <td>200</td>\n",
       "      <td>0.766000</td>\n",
       "      <td>0.237483</td>\n",
       "      <td>0.044060</td>\n",
       "      <td>0.799597</td>\n",
       "      <td>0.728992</td>\n",
       "      <td>0.872480</td>\n",
       "      <td>0.678581</td>\n",
       "      <td>0.681710</td>\n",
       "      <td>0.195783</td>\n",
       "      <td>0.034752</td>\n",
       "      <td>0.338007</td>\n",
       "      <td>0.572683</td>\n",
       "      <td>0.006585</td>\n",
       "      <td>0.019755</td>\n",
       "      <td>0.009717</td>\n",
       "      <td>0.077595</td>\n",
       "      <td>0.169186</td>\n",
       "      <td>0.179256</td>\n",
       "      <td>0.600127</td>\n",
       "      <td>0.003797</td>\n",
       "      <td>0.341152</td>\n",
       "      <td>0.736716</td>\n",
       "      <td>0.541433</td>\n",
       "      <td>0.872442</td>\n",
       "      <td>0.866139</td>\n",
       "      <td>0.622739</td>\n",
       "      <td>0.220017</td>\n",
       "      <td>0.219512</td>\n",
       "      <td>0.713890</td>\n",
       "      <td>0.607125</td>\n",
       "    </tr>\n",
       "  </tbody>\n",
       "</table>\n",
       "</div>"
      ],
      "text/plain": [
       "   qa_id  question_asker_intent_understanding  question_body_critical  \\\n",
       "0     39                             0.801444                0.568796   \n",
       "1     46                             0.466506                0.275613   \n",
       "2     70                             0.680312                0.504717   \n",
       "3    132                             0.564647                0.153768   \n",
       "4    200                             0.766000                0.237483   \n",
       "\n",
       "   question_conversational  question_expect_short_answer  \\\n",
       "0                 0.353784                      0.409119   \n",
       "1                 0.008987                      0.679619   \n",
       "2                 0.038375                      0.633750   \n",
       "3                 0.003858                      0.622206   \n",
       "4                 0.044060                      0.799597   \n",
       "\n",
       "   question_fact_seeking  question_has_commonly_accepted_answer  \\\n",
       "0               0.520720                               0.379034   \n",
       "1               0.625059                               0.876766   \n",
       "2               0.773579                               0.899232   \n",
       "3               0.612450                               0.876705   \n",
       "4               0.728992                               0.872480   \n",
       "\n",
       "   question_interestingness_others  question_interestingness_self  \\\n",
       "0                         0.686693                       0.678292   \n",
       "1                         0.408301                       0.339540   \n",
       "2                         0.496348                       0.403424   \n",
       "3                         0.373081                       0.215181   \n",
       "4                         0.678581                       0.681710   \n",
       "\n",
       "   question_multi_intent  question_not_really_a_question  \\\n",
       "0               0.710396                        0.005259   \n",
       "1               0.057873                        0.013514   \n",
       "2               0.377091                        0.004445   \n",
       "3               0.165060                        0.007787   \n",
       "4               0.195783                        0.034752   \n",
       "\n",
       "   question_opinion_seeking  question_type_choice  question_type_compare  \\\n",
       "0                  0.722005              0.793027               0.027868   \n",
       "1                  0.496868              0.292722               0.004991   \n",
       "2                  0.328250              0.747650               0.020537   \n",
       "3                  0.606155              0.127317               0.001401   \n",
       "4                  0.338007              0.572683               0.006585   \n",
       "\n",
       "   question_type_consequence  question_type_definition  question_type_entity  \\\n",
       "0                   0.437008                  0.004994              0.022796   \n",
       "1                   0.000640                  0.000967              0.013813   \n",
       "2                   0.062352                  0.001452              0.007073   \n",
       "3                   0.002612                  0.000279              0.002143   \n",
       "4                   0.019755                  0.009717              0.077595   \n",
       "\n",
       "   question_type_instructions  question_type_procedure  \\\n",
       "0                    0.083862                 0.150961   \n",
       "1                    0.893221                 0.314281   \n",
       "2                    0.185919                 0.157105   \n",
       "3                    0.815294                 0.296700   \n",
       "4                    0.169186                 0.179256   \n",
       "\n",
       "   question_type_reason_explanation  question_type_spelling  \\\n",
       "0                          0.784770                0.000666   \n",
       "1                          0.079352                0.000136   \n",
       "2                          0.761373                0.000548   \n",
       "3                          0.639792                0.000042   \n",
       "4                          0.600127                0.003797   \n",
       "\n",
       "   question_well_written  answer_helpful  answer_level_of_information  \\\n",
       "0               0.810658        0.575462                     0.189154   \n",
       "1               0.222918        0.761887                     0.477581   \n",
       "2               0.645356        0.670685                     0.299414   \n",
       "3               0.392034        0.806670                     0.600635   \n",
       "4               0.341152        0.736716                     0.541433   \n",
       "\n",
       "   answer_plausible  answer_relevance  answer_satisfaction  \\\n",
       "0          0.746711          0.716809             0.316579   \n",
       "1          0.863264          0.925215             0.580293   \n",
       "2          0.848500          0.847949             0.471269   \n",
       "3          0.876516          0.923475             0.651412   \n",
       "4          0.872442          0.866139             0.622739   \n",
       "\n",
       "   answer_type_instructions  answer_type_procedure  \\\n",
       "0                  0.023710               0.038143   \n",
       "1                  0.943150               0.188898   \n",
       "2                  0.069227               0.077539   \n",
       "3                  0.848806               0.314273   \n",
       "4                  0.220017               0.219512   \n",
       "\n",
       "   answer_type_reason_explanation  answer_well_written  \n",
       "0                        0.789946             0.622538  \n",
       "1                        0.044553             0.592382  \n",
       "2                        0.836845             0.572936  \n",
       "3                        0.643657             0.669560  \n",
       "4                        0.713890             0.607125  "
      ]
     },
     "execution_count": 20,
     "metadata": {},
     "output_type": "execute_result"
    }
   ],
   "source": [
    "sample_submission.head()"
   ]
  },
  {
   "cell_type": "code",
   "execution_count": 21,
   "metadata": {},
   "outputs": [],
   "source": [
    "pd.DataFrame(oofs, columns=TARGETS).to_csv(f'oofs/{model_name}_oofs.csv')"
   ]
  },
  {
   "cell_type": "code",
   "execution_count": 22,
   "metadata": {},
   "outputs": [
    {
     "data": {
      "text/html": [
       "<div>\n",
       "<style scoped>\n",
       "    .dataframe tbody tr th:only-of-type {\n",
       "        vertical-align: middle;\n",
       "    }\n",
       "\n",
       "    .dataframe tbody tr th {\n",
       "        vertical-align: top;\n",
       "    }\n",
       "\n",
       "    .dataframe thead th {\n",
       "        text-align: right;\n",
       "    }\n",
       "</style>\n",
       "<table border=\"1\" class=\"dataframe\">\n",
       "  <thead>\n",
       "    <tr style=\"text-align: right;\">\n",
       "      <th></th>\n",
       "      <th>question_asker_intent_understanding</th>\n",
       "      <th>question_body_critical</th>\n",
       "      <th>question_conversational</th>\n",
       "      <th>question_expect_short_answer</th>\n",
       "      <th>question_fact_seeking</th>\n",
       "      <th>question_has_commonly_accepted_answer</th>\n",
       "      <th>question_interestingness_others</th>\n",
       "      <th>question_interestingness_self</th>\n",
       "      <th>question_multi_intent</th>\n",
       "      <th>question_not_really_a_question</th>\n",
       "      <th>question_opinion_seeking</th>\n",
       "      <th>question_type_choice</th>\n",
       "      <th>question_type_compare</th>\n",
       "      <th>question_type_consequence</th>\n",
       "      <th>question_type_definition</th>\n",
       "      <th>question_type_entity</th>\n",
       "      <th>question_type_instructions</th>\n",
       "      <th>question_type_procedure</th>\n",
       "      <th>question_type_reason_explanation</th>\n",
       "      <th>question_type_spelling</th>\n",
       "      <th>question_well_written</th>\n",
       "      <th>answer_helpful</th>\n",
       "      <th>answer_level_of_information</th>\n",
       "      <th>answer_plausible</th>\n",
       "      <th>answer_relevance</th>\n",
       "      <th>answer_satisfaction</th>\n",
       "      <th>answer_type_instructions</th>\n",
       "      <th>answer_type_procedure</th>\n",
       "      <th>answer_type_reason_explanation</th>\n",
       "      <th>answer_well_written</th>\n",
       "    </tr>\n",
       "  </thead>\n",
       "  <tbody>\n",
       "    <tr>\n",
       "      <th>0</th>\n",
       "      <td>0.756803</td>\n",
       "      <td>0.647452</td>\n",
       "      <td>0.207677</td>\n",
       "      <td>0.521804</td>\n",
       "      <td>0.595696</td>\n",
       "      <td>0.442918</td>\n",
       "      <td>0.555695</td>\n",
       "      <td>0.430184</td>\n",
       "      <td>0.447210</td>\n",
       "      <td>0.010075</td>\n",
       "      <td>0.683698</td>\n",
       "      <td>0.385290</td>\n",
       "      <td>0.416254</td>\n",
       "      <td>0.124373</td>\n",
       "      <td>0.019154</td>\n",
       "      <td>0.295452</td>\n",
       "      <td>0.256660</td>\n",
       "      <td>0.134663</td>\n",
       "      <td>0.572937</td>\n",
       "      <td>0.007305</td>\n",
       "      <td>0.774440</td>\n",
       "      <td>0.838753</td>\n",
       "      <td>0.522538</td>\n",
       "      <td>0.924093</td>\n",
       "      <td>0.899570</td>\n",
       "      <td>0.628806</td>\n",
       "      <td>0.106041</td>\n",
       "      <td>0.117513</td>\n",
       "      <td>0.917341</td>\n",
       "      <td>0.757024</td>\n",
       "    </tr>\n",
       "    <tr>\n",
       "      <th>1</th>\n",
       "      <td>0.830040</td>\n",
       "      <td>0.729569</td>\n",
       "      <td>0.032890</td>\n",
       "      <td>0.480669</td>\n",
       "      <td>0.887733</td>\n",
       "      <td>0.697174</td>\n",
       "      <td>0.461903</td>\n",
       "      <td>0.498222</td>\n",
       "      <td>0.258306</td>\n",
       "      <td>0.000939</td>\n",
       "      <td>0.304223</td>\n",
       "      <td>0.081085</td>\n",
       "      <td>0.817358</td>\n",
       "      <td>0.006310</td>\n",
       "      <td>0.415434</td>\n",
       "      <td>0.029296</td>\n",
       "      <td>0.053603</td>\n",
       "      <td>0.058816</td>\n",
       "      <td>0.505007</td>\n",
       "      <td>0.001855</td>\n",
       "      <td>0.767000</td>\n",
       "      <td>0.516721</td>\n",
       "      <td>0.260302</td>\n",
       "      <td>0.729891</td>\n",
       "      <td>0.773542</td>\n",
       "      <td>0.338097</td>\n",
       "      <td>0.035079</td>\n",
       "      <td>0.040554</td>\n",
       "      <td>0.566665</td>\n",
       "      <td>0.743457</td>\n",
       "    </tr>\n",
       "    <tr>\n",
       "      <th>2</th>\n",
       "      <td>0.676662</td>\n",
       "      <td>0.234801</td>\n",
       "      <td>0.008525</td>\n",
       "      <td>0.743643</td>\n",
       "      <td>0.770802</td>\n",
       "      <td>0.832912</td>\n",
       "      <td>0.545964</td>\n",
       "      <td>0.376504</td>\n",
       "      <td>0.203459</td>\n",
       "      <td>0.001286</td>\n",
       "      <td>0.356984</td>\n",
       "      <td>0.385547</td>\n",
       "      <td>0.008339</td>\n",
       "      <td>0.006528</td>\n",
       "      <td>0.000891</td>\n",
       "      <td>0.298936</td>\n",
       "      <td>0.642850</td>\n",
       "      <td>0.229957</td>\n",
       "      <td>0.169404</td>\n",
       "      <td>0.000123</td>\n",
       "      <td>0.604855</td>\n",
       "      <td>0.836713</td>\n",
       "      <td>0.563453</td>\n",
       "      <td>0.890908</td>\n",
       "      <td>0.879628</td>\n",
       "      <td>0.650704</td>\n",
       "      <td>0.580913</td>\n",
       "      <td>0.275965</td>\n",
       "      <td>0.486405</td>\n",
       "      <td>0.735796</td>\n",
       "    </tr>\n",
       "    <tr>\n",
       "      <th>3</th>\n",
       "      <td>0.798977</td>\n",
       "      <td>0.707936</td>\n",
       "      <td>0.515839</td>\n",
       "      <td>0.724779</td>\n",
       "      <td>0.578273</td>\n",
       "      <td>0.648983</td>\n",
       "      <td>0.629766</td>\n",
       "      <td>0.770502</td>\n",
       "      <td>0.201216</td>\n",
       "      <td>0.002086</td>\n",
       "      <td>0.525184</td>\n",
       "      <td>0.927381</td>\n",
       "      <td>0.016577</td>\n",
       "      <td>0.040695</td>\n",
       "      <td>0.015262</td>\n",
       "      <td>0.010875</td>\n",
       "      <td>0.020882</td>\n",
       "      <td>0.149730</td>\n",
       "      <td>0.537240</td>\n",
       "      <td>0.001150</td>\n",
       "      <td>0.849548</td>\n",
       "      <td>0.822722</td>\n",
       "      <td>0.772448</td>\n",
       "      <td>0.820169</td>\n",
       "      <td>0.927087</td>\n",
       "      <td>0.771936</td>\n",
       "      <td>0.061010</td>\n",
       "      <td>0.186797</td>\n",
       "      <td>0.823118</td>\n",
       "      <td>0.836071</td>\n",
       "    </tr>\n",
       "    <tr>\n",
       "      <th>4</th>\n",
       "      <td>0.798106</td>\n",
       "      <td>0.712929</td>\n",
       "      <td>0.004113</td>\n",
       "      <td>0.704546</td>\n",
       "      <td>0.821957</td>\n",
       "      <td>0.924550</td>\n",
       "      <td>0.466613</td>\n",
       "      <td>0.395058</td>\n",
       "      <td>0.151755</td>\n",
       "      <td>0.003699</td>\n",
       "      <td>0.258231</td>\n",
       "      <td>0.575016</td>\n",
       "      <td>0.002058</td>\n",
       "      <td>0.001366</td>\n",
       "      <td>0.001696</td>\n",
       "      <td>0.009555</td>\n",
       "      <td>0.817599</td>\n",
       "      <td>0.272922</td>\n",
       "      <td>0.178067</td>\n",
       "      <td>0.000252</td>\n",
       "      <td>0.788863</td>\n",
       "      <td>0.733227</td>\n",
       "      <td>0.415648</td>\n",
       "      <td>0.827556</td>\n",
       "      <td>0.917505</td>\n",
       "      <td>0.586342</td>\n",
       "      <td>0.918657</td>\n",
       "      <td>0.208494</td>\n",
       "      <td>0.043583</td>\n",
       "      <td>0.592698</td>\n",
       "    </tr>\n",
       "    <tr>\n",
       "      <th>...</th>\n",
       "      <td>...</td>\n",
       "      <td>...</td>\n",
       "      <td>...</td>\n",
       "      <td>...</td>\n",
       "      <td>...</td>\n",
       "      <td>...</td>\n",
       "      <td>...</td>\n",
       "      <td>...</td>\n",
       "      <td>...</td>\n",
       "      <td>...</td>\n",
       "      <td>...</td>\n",
       "      <td>...</td>\n",
       "      <td>...</td>\n",
       "      <td>...</td>\n",
       "      <td>...</td>\n",
       "      <td>...</td>\n",
       "      <td>...</td>\n",
       "      <td>...</td>\n",
       "      <td>...</td>\n",
       "      <td>...</td>\n",
       "      <td>...</td>\n",
       "      <td>...</td>\n",
       "      <td>...</td>\n",
       "      <td>...</td>\n",
       "      <td>...</td>\n",
       "      <td>...</td>\n",
       "      <td>...</td>\n",
       "      <td>...</td>\n",
       "      <td>...</td>\n",
       "      <td>...</td>\n",
       "    </tr>\n",
       "    <tr>\n",
       "      <th>6074</th>\n",
       "      <td>0.828509</td>\n",
       "      <td>0.322632</td>\n",
       "      <td>0.187694</td>\n",
       "      <td>0.801063</td>\n",
       "      <td>0.750453</td>\n",
       "      <td>0.698308</td>\n",
       "      <td>0.743413</td>\n",
       "      <td>0.707039</td>\n",
       "      <td>0.576321</td>\n",
       "      <td>0.003187</td>\n",
       "      <td>0.466166</td>\n",
       "      <td>0.914867</td>\n",
       "      <td>0.199372</td>\n",
       "      <td>0.204557</td>\n",
       "      <td>0.031265</td>\n",
       "      <td>0.196260</td>\n",
       "      <td>0.018994</td>\n",
       "      <td>0.035100</td>\n",
       "      <td>0.513956</td>\n",
       "      <td>0.005321</td>\n",
       "      <td>0.683583</td>\n",
       "      <td>0.843618</td>\n",
       "      <td>0.733821</td>\n",
       "      <td>0.925662</td>\n",
       "      <td>0.903184</td>\n",
       "      <td>0.681418</td>\n",
       "      <td>0.064458</td>\n",
       "      <td>0.083986</td>\n",
       "      <td>0.904500</td>\n",
       "      <td>0.731573</td>\n",
       "    </tr>\n",
       "    <tr>\n",
       "      <th>6075</th>\n",
       "      <td>0.900851</td>\n",
       "      <td>0.418827</td>\n",
       "      <td>0.142917</td>\n",
       "      <td>0.524543</td>\n",
       "      <td>0.452177</td>\n",
       "      <td>0.300532</td>\n",
       "      <td>0.736467</td>\n",
       "      <td>0.809246</td>\n",
       "      <td>0.047657</td>\n",
       "      <td>0.003828</td>\n",
       "      <td>0.794259</td>\n",
       "      <td>0.010808</td>\n",
       "      <td>0.006666</td>\n",
       "      <td>0.012286</td>\n",
       "      <td>0.000389</td>\n",
       "      <td>0.039134</td>\n",
       "      <td>0.835029</td>\n",
       "      <td>0.373689</td>\n",
       "      <td>0.270408</td>\n",
       "      <td>0.000138</td>\n",
       "      <td>0.776685</td>\n",
       "      <td>0.841843</td>\n",
       "      <td>0.602026</td>\n",
       "      <td>0.906738</td>\n",
       "      <td>0.931024</td>\n",
       "      <td>0.599577</td>\n",
       "      <td>0.794077</td>\n",
       "      <td>0.389267</td>\n",
       "      <td>0.459566</td>\n",
       "      <td>0.886973</td>\n",
       "    </tr>\n",
       "    <tr>\n",
       "      <th>6076</th>\n",
       "      <td>0.568834</td>\n",
       "      <td>0.246588</td>\n",
       "      <td>0.001983</td>\n",
       "      <td>0.721220</td>\n",
       "      <td>0.780077</td>\n",
       "      <td>0.906547</td>\n",
       "      <td>0.384327</td>\n",
       "      <td>0.261515</td>\n",
       "      <td>0.106659</td>\n",
       "      <td>0.001187</td>\n",
       "      <td>0.448482</td>\n",
       "      <td>0.388358</td>\n",
       "      <td>0.000549</td>\n",
       "      <td>0.000292</td>\n",
       "      <td>0.000230</td>\n",
       "      <td>0.001259</td>\n",
       "      <td>0.863032</td>\n",
       "      <td>0.380900</td>\n",
       "      <td>0.184508</td>\n",
       "      <td>0.000007</td>\n",
       "      <td>0.383677</td>\n",
       "      <td>0.439082</td>\n",
       "      <td>0.314213</td>\n",
       "      <td>0.689950</td>\n",
       "      <td>0.782566</td>\n",
       "      <td>0.295614</td>\n",
       "      <td>0.546579</td>\n",
       "      <td>0.135122</td>\n",
       "      <td>0.404908</td>\n",
       "      <td>0.210902</td>\n",
       "    </tr>\n",
       "    <tr>\n",
       "      <th>6077</th>\n",
       "      <td>0.827968</td>\n",
       "      <td>0.584841</td>\n",
       "      <td>0.700234</td>\n",
       "      <td>0.230768</td>\n",
       "      <td>0.321394</td>\n",
       "      <td>0.083438</td>\n",
       "      <td>0.532748</td>\n",
       "      <td>0.717502</td>\n",
       "      <td>0.724771</td>\n",
       "      <td>0.001513</td>\n",
       "      <td>0.920429</td>\n",
       "      <td>0.625131</td>\n",
       "      <td>0.238015</td>\n",
       "      <td>0.182415</td>\n",
       "      <td>0.004657</td>\n",
       "      <td>0.035728</td>\n",
       "      <td>0.041063</td>\n",
       "      <td>0.141243</td>\n",
       "      <td>0.828840</td>\n",
       "      <td>0.000209</td>\n",
       "      <td>0.883119</td>\n",
       "      <td>0.671964</td>\n",
       "      <td>0.439158</td>\n",
       "      <td>0.842102</td>\n",
       "      <td>0.835576</td>\n",
       "      <td>0.456877</td>\n",
       "      <td>0.032028</td>\n",
       "      <td>0.056558</td>\n",
       "      <td>0.882482</td>\n",
       "      <td>0.807943</td>\n",
       "    </tr>\n",
       "    <tr>\n",
       "      <th>6078</th>\n",
       "      <td>0.776329</td>\n",
       "      <td>0.774243</td>\n",
       "      <td>0.105874</td>\n",
       "      <td>0.203621</td>\n",
       "      <td>0.908689</td>\n",
       "      <td>0.510324</td>\n",
       "      <td>0.595734</td>\n",
       "      <td>0.507935</td>\n",
       "      <td>0.751065</td>\n",
       "      <td>0.000041</td>\n",
       "      <td>0.317663</td>\n",
       "      <td>0.075525</td>\n",
       "      <td>0.524639</td>\n",
       "      <td>0.008368</td>\n",
       "      <td>0.004472</td>\n",
       "      <td>0.029409</td>\n",
       "      <td>0.003765</td>\n",
       "      <td>0.008826</td>\n",
       "      <td>0.976127</td>\n",
       "      <td>0.000024</td>\n",
       "      <td>0.813487</td>\n",
       "      <td>0.843868</td>\n",
       "      <td>0.527941</td>\n",
       "      <td>0.902645</td>\n",
       "      <td>0.878030</td>\n",
       "      <td>0.617873</td>\n",
       "      <td>0.015958</td>\n",
       "      <td>0.021349</td>\n",
       "      <td>0.979110</td>\n",
       "      <td>0.815175</td>\n",
       "    </tr>\n",
       "  </tbody>\n",
       "</table>\n",
       "<p>6079 rows × 30 columns</p>\n",
       "</div>"
      ],
      "text/plain": [
       "      question_asker_intent_understanding  question_body_critical  \\\n",
       "0                                0.756803                0.647452   \n",
       "1                                0.830040                0.729569   \n",
       "2                                0.676662                0.234801   \n",
       "3                                0.798977                0.707936   \n",
       "4                                0.798106                0.712929   \n",
       "...                                   ...                     ...   \n",
       "6074                             0.828509                0.322632   \n",
       "6075                             0.900851                0.418827   \n",
       "6076                             0.568834                0.246588   \n",
       "6077                             0.827968                0.584841   \n",
       "6078                             0.776329                0.774243   \n",
       "\n",
       "      question_conversational  question_expect_short_answer  \\\n",
       "0                    0.207677                      0.521804   \n",
       "1                    0.032890                      0.480669   \n",
       "2                    0.008525                      0.743643   \n",
       "3                    0.515839                      0.724779   \n",
       "4                    0.004113                      0.704546   \n",
       "...                       ...                           ...   \n",
       "6074                 0.187694                      0.801063   \n",
       "6075                 0.142917                      0.524543   \n",
       "6076                 0.001983                      0.721220   \n",
       "6077                 0.700234                      0.230768   \n",
       "6078                 0.105874                      0.203621   \n",
       "\n",
       "      question_fact_seeking  question_has_commonly_accepted_answer  \\\n",
       "0                  0.595696                               0.442918   \n",
       "1                  0.887733                               0.697174   \n",
       "2                  0.770802                               0.832912   \n",
       "3                  0.578273                               0.648983   \n",
       "4                  0.821957                               0.924550   \n",
       "...                     ...                                    ...   \n",
       "6074               0.750453                               0.698308   \n",
       "6075               0.452177                               0.300532   \n",
       "6076               0.780077                               0.906547   \n",
       "6077               0.321394                               0.083438   \n",
       "6078               0.908689                               0.510324   \n",
       "\n",
       "      question_interestingness_others  question_interestingness_self  \\\n",
       "0                            0.555695                       0.430184   \n",
       "1                            0.461903                       0.498222   \n",
       "2                            0.545964                       0.376504   \n",
       "3                            0.629766                       0.770502   \n",
       "4                            0.466613                       0.395058   \n",
       "...                               ...                            ...   \n",
       "6074                         0.743413                       0.707039   \n",
       "6075                         0.736467                       0.809246   \n",
       "6076                         0.384327                       0.261515   \n",
       "6077                         0.532748                       0.717502   \n",
       "6078                         0.595734                       0.507935   \n",
       "\n",
       "      question_multi_intent  question_not_really_a_question  \\\n",
       "0                  0.447210                        0.010075   \n",
       "1                  0.258306                        0.000939   \n",
       "2                  0.203459                        0.001286   \n",
       "3                  0.201216                        0.002086   \n",
       "4                  0.151755                        0.003699   \n",
       "...                     ...                             ...   \n",
       "6074               0.576321                        0.003187   \n",
       "6075               0.047657                        0.003828   \n",
       "6076               0.106659                        0.001187   \n",
       "6077               0.724771                        0.001513   \n",
       "6078               0.751065                        0.000041   \n",
       "\n",
       "      question_opinion_seeking  question_type_choice  question_type_compare  \\\n",
       "0                     0.683698              0.385290               0.416254   \n",
       "1                     0.304223              0.081085               0.817358   \n",
       "2                     0.356984              0.385547               0.008339   \n",
       "3                     0.525184              0.927381               0.016577   \n",
       "4                     0.258231              0.575016               0.002058   \n",
       "...                        ...                   ...                    ...   \n",
       "6074                  0.466166              0.914867               0.199372   \n",
       "6075                  0.794259              0.010808               0.006666   \n",
       "6076                  0.448482              0.388358               0.000549   \n",
       "6077                  0.920429              0.625131               0.238015   \n",
       "6078                  0.317663              0.075525               0.524639   \n",
       "\n",
       "      question_type_consequence  question_type_definition  \\\n",
       "0                      0.124373                  0.019154   \n",
       "1                      0.006310                  0.415434   \n",
       "2                      0.006528                  0.000891   \n",
       "3                      0.040695                  0.015262   \n",
       "4                      0.001366                  0.001696   \n",
       "...                         ...                       ...   \n",
       "6074                   0.204557                  0.031265   \n",
       "6075                   0.012286                  0.000389   \n",
       "6076                   0.000292                  0.000230   \n",
       "6077                   0.182415                  0.004657   \n",
       "6078                   0.008368                  0.004472   \n",
       "\n",
       "      question_type_entity  question_type_instructions  \\\n",
       "0                 0.295452                    0.256660   \n",
       "1                 0.029296                    0.053603   \n",
       "2                 0.298936                    0.642850   \n",
       "3                 0.010875                    0.020882   \n",
       "4                 0.009555                    0.817599   \n",
       "...                    ...                         ...   \n",
       "6074              0.196260                    0.018994   \n",
       "6075              0.039134                    0.835029   \n",
       "6076              0.001259                    0.863032   \n",
       "6077              0.035728                    0.041063   \n",
       "6078              0.029409                    0.003765   \n",
       "\n",
       "      question_type_procedure  question_type_reason_explanation  \\\n",
       "0                    0.134663                          0.572937   \n",
       "1                    0.058816                          0.505007   \n",
       "2                    0.229957                          0.169404   \n",
       "3                    0.149730                          0.537240   \n",
       "4                    0.272922                          0.178067   \n",
       "...                       ...                               ...   \n",
       "6074                 0.035100                          0.513956   \n",
       "6075                 0.373689                          0.270408   \n",
       "6076                 0.380900                          0.184508   \n",
       "6077                 0.141243                          0.828840   \n",
       "6078                 0.008826                          0.976127   \n",
       "\n",
       "      question_type_spelling  question_well_written  answer_helpful  \\\n",
       "0                   0.007305               0.774440        0.838753   \n",
       "1                   0.001855               0.767000        0.516721   \n",
       "2                   0.000123               0.604855        0.836713   \n",
       "3                   0.001150               0.849548        0.822722   \n",
       "4                   0.000252               0.788863        0.733227   \n",
       "...                      ...                    ...             ...   \n",
       "6074                0.005321               0.683583        0.843618   \n",
       "6075                0.000138               0.776685        0.841843   \n",
       "6076                0.000007               0.383677        0.439082   \n",
       "6077                0.000209               0.883119        0.671964   \n",
       "6078                0.000024               0.813487        0.843868   \n",
       "\n",
       "      answer_level_of_information  answer_plausible  answer_relevance  \\\n",
       "0                        0.522538          0.924093          0.899570   \n",
       "1                        0.260302          0.729891          0.773542   \n",
       "2                        0.563453          0.890908          0.879628   \n",
       "3                        0.772448          0.820169          0.927087   \n",
       "4                        0.415648          0.827556          0.917505   \n",
       "...                           ...               ...               ...   \n",
       "6074                     0.733821          0.925662          0.903184   \n",
       "6075                     0.602026          0.906738          0.931024   \n",
       "6076                     0.314213          0.689950          0.782566   \n",
       "6077                     0.439158          0.842102          0.835576   \n",
       "6078                     0.527941          0.902645          0.878030   \n",
       "\n",
       "      answer_satisfaction  answer_type_instructions  answer_type_procedure  \\\n",
       "0                0.628806                  0.106041               0.117513   \n",
       "1                0.338097                  0.035079               0.040554   \n",
       "2                0.650704                  0.580913               0.275965   \n",
       "3                0.771936                  0.061010               0.186797   \n",
       "4                0.586342                  0.918657               0.208494   \n",
       "...                   ...                       ...                    ...   \n",
       "6074             0.681418                  0.064458               0.083986   \n",
       "6075             0.599577                  0.794077               0.389267   \n",
       "6076             0.295614                  0.546579               0.135122   \n",
       "6077             0.456877                  0.032028               0.056558   \n",
       "6078             0.617873                  0.015958               0.021349   \n",
       "\n",
       "      answer_type_reason_explanation  answer_well_written  \n",
       "0                           0.917341             0.757024  \n",
       "1                           0.566665             0.743457  \n",
       "2                           0.486405             0.735796  \n",
       "3                           0.823118             0.836071  \n",
       "4                           0.043583             0.592698  \n",
       "...                              ...                  ...  \n",
       "6074                        0.904500             0.731573  \n",
       "6075                        0.459566             0.886973  \n",
       "6076                        0.404908             0.210902  \n",
       "6077                        0.882482             0.807943  \n",
       "6078                        0.979110             0.815175  \n",
       "\n",
       "[6079 rows x 30 columns]"
      ]
     },
     "execution_count": 22,
     "metadata": {},
     "output_type": "execute_result"
    }
   ],
   "source": [
    "pd.DataFrame(oofs, columns=TARGETS)"
   ]
  },
  {
   "cell_type": "code",
   "execution_count": 23,
   "metadata": {},
   "outputs": [
    {
     "data": {
      "text/plain": [
       "question_asker_intent_understanding      0.383119\n",
       "question_body_critical                   0.661563\n",
       "question_conversational                  0.415371\n",
       "question_expect_short_answer             0.297064\n",
       "question_fact_seeking                    0.354874\n",
       "question_has_commonly_accepted_answer    0.437424\n",
       "question_interestingness_others          0.355352\n",
       "question_interestingness_self            0.510562\n",
       "question_multi_intent                    0.578174\n",
       "question_not_really_a_question           0.096792\n",
       "question_opinion_seeking                 0.467038\n",
       "question_type_choice                     0.735201\n",
       "question_type_compare                    0.355410\n",
       "question_type_consequence                0.179407\n",
       "question_type_definition                 0.361014\n",
       "question_type_entity                     0.442486\n",
       "question_type_instructions               0.776372\n",
       "question_type_procedure                  0.351136\n",
       "question_type_reason_explanation         0.663948\n",
       "question_type_spelling                   0.065941\n",
       "question_well_written                    0.526283\n",
       "answer_helpful                           0.229358\n",
       "answer_level_of_information              0.444193\n",
       "answer_plausible                         0.126183\n",
       "answer_relevance                         0.162813\n",
       "answer_satisfaction                      0.328457\n",
       "answer_type_instructions                 0.758392\n",
       "answer_type_procedure                    0.299618\n",
       "answer_type_reason_explanation           0.673140\n",
       "answer_well_written                      0.227800\n",
       "dtype: float64"
      ]
     },
     "execution_count": 23,
     "metadata": {},
     "output_type": "execute_result"
    }
   ],
   "source": [
    "rs = pd.Series({col: spearmanr(oofs[:,i], y[:,i])[0] for i, col in enumerate(TARGETS)})\n",
    "rs"
   ]
  },
  {
   "cell_type": "code",
   "execution_count": 24,
   "metadata": {},
   "outputs": [
    {
     "data": {
      "text/html": [
       "<div>\n",
       "<style scoped>\n",
       "    .dataframe tbody tr th:only-of-type {\n",
       "        vertical-align: middle;\n",
       "    }\n",
       "\n",
       "    .dataframe tbody tr th {\n",
       "        vertical-align: top;\n",
       "    }\n",
       "\n",
       "    .dataframe thead th {\n",
       "        text-align: right;\n",
       "    }\n",
       "</style>\n",
       "<table border=\"1\" class=\"dataframe\">\n",
       "  <thead>\n",
       "    <tr style=\"text-align: right;\">\n",
       "      <th></th>\n",
       "      <th>SpearmanCorr</th>\n",
       "      <th>NUnique</th>\n",
       "    </tr>\n",
       "  </thead>\n",
       "  <tbody>\n",
       "    <tr>\n",
       "      <th>question_type_spelling</th>\n",
       "      <td>0.065941</td>\n",
       "      <td>3.0</td>\n",
       "    </tr>\n",
       "    <tr>\n",
       "      <th>question_not_really_a_question</th>\n",
       "      <td>0.096792</td>\n",
       "      <td>5.0</td>\n",
       "    </tr>\n",
       "    <tr>\n",
       "      <th>answer_plausible</th>\n",
       "      <td>0.126183</td>\n",
       "      <td>9.0</td>\n",
       "    </tr>\n",
       "    <tr>\n",
       "      <th>answer_relevance</th>\n",
       "      <td>0.162813</td>\n",
       "      <td>9.0</td>\n",
       "    </tr>\n",
       "    <tr>\n",
       "      <th>question_type_consequence</th>\n",
       "      <td>0.179407</td>\n",
       "      <td>5.0</td>\n",
       "    </tr>\n",
       "    <tr>\n",
       "      <th>answer_well_written</th>\n",
       "      <td>0.227800</td>\n",
       "      <td>9.0</td>\n",
       "    </tr>\n",
       "    <tr>\n",
       "      <th>answer_helpful</th>\n",
       "      <td>0.229358</td>\n",
       "      <td>9.0</td>\n",
       "    </tr>\n",
       "    <tr>\n",
       "      <th>question_expect_short_answer</th>\n",
       "      <td>0.297064</td>\n",
       "      <td>5.0</td>\n",
       "    </tr>\n",
       "    <tr>\n",
       "      <th>answer_type_procedure</th>\n",
       "      <td>0.299618</td>\n",
       "      <td>5.0</td>\n",
       "    </tr>\n",
       "    <tr>\n",
       "      <th>answer_satisfaction</th>\n",
       "      <td>0.328457</td>\n",
       "      <td>17.0</td>\n",
       "    </tr>\n",
       "    <tr>\n",
       "      <th>question_type_procedure</th>\n",
       "      <td>0.351136</td>\n",
       "      <td>5.0</td>\n",
       "    </tr>\n",
       "    <tr>\n",
       "      <th>question_fact_seeking</th>\n",
       "      <td>0.354874</td>\n",
       "      <td>5.0</td>\n",
       "    </tr>\n",
       "    <tr>\n",
       "      <th>question_interestingness_others</th>\n",
       "      <td>0.355352</td>\n",
       "      <td>9.0</td>\n",
       "    </tr>\n",
       "    <tr>\n",
       "      <th>question_type_compare</th>\n",
       "      <td>0.355410</td>\n",
       "      <td>5.0</td>\n",
       "    </tr>\n",
       "    <tr>\n",
       "      <th>question_type_definition</th>\n",
       "      <td>0.361014</td>\n",
       "      <td>5.0</td>\n",
       "    </tr>\n",
       "    <tr>\n",
       "      <th>question_asker_intent_understanding</th>\n",
       "      <td>0.383119</td>\n",
       "      <td>9.0</td>\n",
       "    </tr>\n",
       "    <tr>\n",
       "      <th>question_conversational</th>\n",
       "      <td>0.415371</td>\n",
       "      <td>5.0</td>\n",
       "    </tr>\n",
       "    <tr>\n",
       "      <th>question_has_commonly_accepted_answer</th>\n",
       "      <td>0.437424</td>\n",
       "      <td>5.0</td>\n",
       "    </tr>\n",
       "    <tr>\n",
       "      <th>question_type_entity</th>\n",
       "      <td>0.442486</td>\n",
       "      <td>5.0</td>\n",
       "    </tr>\n",
       "    <tr>\n",
       "      <th>answer_level_of_information</th>\n",
       "      <td>0.444193</td>\n",
       "      <td>9.0</td>\n",
       "    </tr>\n",
       "    <tr>\n",
       "      <th>question_opinion_seeking</th>\n",
       "      <td>0.467038</td>\n",
       "      <td>5.0</td>\n",
       "    </tr>\n",
       "    <tr>\n",
       "      <th>question_interestingness_self</th>\n",
       "      <td>0.510562</td>\n",
       "      <td>9.0</td>\n",
       "    </tr>\n",
       "    <tr>\n",
       "      <th>question_well_written</th>\n",
       "      <td>0.526283</td>\n",
       "      <td>9.0</td>\n",
       "    </tr>\n",
       "    <tr>\n",
       "      <th>question_multi_intent</th>\n",
       "      <td>0.578174</td>\n",
       "      <td>5.0</td>\n",
       "    </tr>\n",
       "    <tr>\n",
       "      <th>question_body_critical</th>\n",
       "      <td>0.661563</td>\n",
       "      <td>9.0</td>\n",
       "    </tr>\n",
       "    <tr>\n",
       "      <th>question_type_reason_explanation</th>\n",
       "      <td>0.663948</td>\n",
       "      <td>5.0</td>\n",
       "    </tr>\n",
       "    <tr>\n",
       "      <th>answer_type_reason_explanation</th>\n",
       "      <td>0.673140</td>\n",
       "      <td>5.0</td>\n",
       "    </tr>\n",
       "    <tr>\n",
       "      <th>question_type_choice</th>\n",
       "      <td>0.735201</td>\n",
       "      <td>5.0</td>\n",
       "    </tr>\n",
       "    <tr>\n",
       "      <th>answer_type_instructions</th>\n",
       "      <td>0.758392</td>\n",
       "      <td>5.0</td>\n",
       "    </tr>\n",
       "    <tr>\n",
       "      <th>question_type_instructions</th>\n",
       "      <td>0.776372</td>\n",
       "      <td>5.0</td>\n",
       "    </tr>\n",
       "  </tbody>\n",
       "</table>\n",
       "</div>"
      ],
      "text/plain": [
       "                                       SpearmanCorr  NUnique\n",
       "question_type_spelling                     0.065941      3.0\n",
       "question_not_really_a_question             0.096792      5.0\n",
       "answer_plausible                           0.126183      9.0\n",
       "answer_relevance                           0.162813      9.0\n",
       "question_type_consequence                  0.179407      5.0\n",
       "answer_well_written                        0.227800      9.0\n",
       "answer_helpful                             0.229358      9.0\n",
       "question_expect_short_answer               0.297064      5.0\n",
       "answer_type_procedure                      0.299618      5.0\n",
       "answer_satisfaction                        0.328457     17.0\n",
       "question_type_procedure                    0.351136      5.0\n",
       "question_fact_seeking                      0.354874      5.0\n",
       "question_interestingness_others            0.355352      9.0\n",
       "question_type_compare                      0.355410      5.0\n",
       "question_type_definition                   0.361014      5.0\n",
       "question_asker_intent_understanding        0.383119      9.0\n",
       "question_conversational                    0.415371      5.0\n",
       "question_has_commonly_accepted_answer      0.437424      5.0\n",
       "question_type_entity                       0.442486      5.0\n",
       "answer_level_of_information                0.444193      9.0\n",
       "question_opinion_seeking                   0.467038      5.0\n",
       "question_interestingness_self              0.510562      9.0\n",
       "question_well_written                      0.526283      9.0\n",
       "question_multi_intent                      0.578174      5.0\n",
       "question_body_critical                     0.661563      9.0\n",
       "question_type_reason_explanation           0.663948      5.0\n",
       "answer_type_reason_explanation             0.673140      5.0\n",
       "question_type_choice                       0.735201      5.0\n",
       "answer_type_instructions                   0.758392      5.0\n",
       "question_type_instructions                 0.776372      5.0"
      ]
     },
     "execution_count": 24,
     "metadata": {},
     "output_type": "execute_result"
    }
   ],
   "source": [
    "rs_df = pd.DataFrame(np.vstack([rs.values.flatten(), train[TARGETS].nunique()]).T, \n",
    "                     columns=['SpearmanCorr', 'NUnique'], index=rs.index)\n",
    "rs_df.sort_values('SpearmanCorr', ascending=True)"
   ]
  },
  {
   "cell_type": "code",
   "execution_count": 25,
   "metadata": {},
   "outputs": [
    {
     "data": {
      "text/plain": [
       "Index(['question_type_spelling', 'question_not_really_a_question',\n",
       "       'answer_plausible', 'answer_relevance', 'question_type_consequence'],\n",
       "      dtype='object')"
      ]
     },
     "execution_count": 25,
     "metadata": {},
     "output_type": "execute_result"
    }
   ],
   "source": [
    "sorted_targets = rs_df.sort_values('SpearmanCorr', ascending=True).index\n",
    "worst_five_targets = sorted_targets[:5]\n",
    "worst_five_targets"
   ]
  },
  {
   "cell_type": "code",
   "execution_count": 26,
   "metadata": {
    "scrolled": true
   },
   "outputs": [
    {
     "data": {
      "image/png": "[encoded data removed]",
      "text/plain": [
       "<Figure size 432x288 with 1 Axes>"
      ]
     },
     "metadata": {
      "needs_background": "light"
     },
     "output_type": "display_data"
    },
    {
     "data": {
      "image/png": "[encoded data removed]",
      "text/plain": [
       "<Figure size 432x288 with 1 Axes>"
      ]
     },
     "metadata": {
      "needs_background": "light"
     },
     "output_type": "display_data"
    },
    {
     "data": {
      "image/png": "[encoded data removed]",
      "text/plain": [
       "<Figure size 432x288 with 1 Axes>"
      ]
     },
     "metadata": {
      "needs_background": "light"
     },
     "output_type": "display_data"
    },
    {
     "data": {
      "image/png": "[encoded data removed]",
      "text/plain": [
       "<Figure size 432x288 with 1 Axes>"
      ]
     },
     "metadata": {
      "needs_background": "light"
     },
     "output_type": "display_data"
    },
    {
     "data": {
      "image/png": "[encoded data removed]",
      "text/plain": [
       "<Figure size 432x288 with 1 Axes>"
      ]
     },
     "metadata": {
      "needs_background": "light"
     },
     "output_type": "display_data"
    }
   ],
   "source": [
    "for col in worst_five_targets:\n",
    "    plt.figure()\n",
    "    train[col].hist()\n",
    "    plt.title(f'{col} {np.round(rs[col],3)}')"
   ]
  },
  {
   "cell_type": "code",
   "execution_count": 27,
   "metadata": {},
   "outputs": [
    {
     "name": "stderr",
     "output_type": "stream",
     "text": [
      "/home/robin/anaconda3/envs/GoogleQuest/lib/python3.7/site-packages/ipykernel_launcher.py:2: RuntimeWarning: More than 20 figures have been opened. Figures created through the pyplot interface (`matplotlib.pyplot.figure`) are retained until explicitly closed and may consume too much memory. (To control this warning, see the rcParam `figure.max_open_warning`).\n",
      "  \n"
     ]
    },
    {
     "data": {
      "image/png": "[encoded data removed]",
      "text/plain": [
       "<Figure size 432x288 with 1 Axes>"
      ]
     },
     "metadata": {
      "needs_background": "light"
     },
     "output_type": "display_data"
    },
    {
     "data": {
      "image/png": "[encoded data removed]",
      "text/plain": [
       "<Figure size 432x288 with 1 Axes>"
      ]
     },
     "metadata": {
      "needs_background": "light"
     },
     "output_type": "display_data"
    },
    {
     "data": {
      "image/png": "[encoded data removed]",
      "text/plain": [
       "<Figure size 432x288 with 1 Axes>"
      ]
     },
     "metadata": {
      "needs_background": "light"
     },
     "output_type": "display_data"
    },
    {
     "data": {
      "image/png": "[encoded data removed]",
      "text/plain": [
       "<Figure size 432x288 with 1 Axes>"
      ]
     },
     "metadata": {
      "needs_background": "light"
     },
     "output_type": "display_data"
    },
    {
     "data": {
      "image/png": "[encoded data removed]",
      "text/plain": [
       "<Figure size 432x288 with 1 Axes>"
      ]
     },
     "metadata": {
      "needs_background": "light"
     },
     "output_type": "display_data"
    },
    {
     "data": {
      "image/png": "[encoded data removed]",
      "text/plain": [
       "<Figure size 432x288 with 1 Axes>"
      ]
     },
     "metadata": {
      "needs_background": "light"
     },
     "output_type": "display_data"
    },
    {
     "data": {
      "image/png": "[encoded data removed]",
      "text/plain": [
       "<Figure size 432x288 with 1 Axes>"
      ]
     },
     "metadata": {
      "needs_background": "light"
     },
     "output_type": "display_data"
    },
    {
     "data": {
      "image/png": "[encoded data removed]",
      "text/plain": [
       "<Figure size 432x288 with 1 Axes>"
      ]
     },
     "metadata": {
      "needs_background": "light"
     },
     "output_type": "display_data"
    },
    {
     "data": {
      "image/png": "[encoded data removed]",
      "text/plain": [
       "<Figure size 432x288 with 1 Axes>"
      ]
     },
     "metadata": {
      "needs_background": "light"
     },
     "output_type": "display_data"
    },
    {
     "data": {
      "image/png": "[encoded data removed]",
      "text/plain": [
       "<Figure size 432x288 with 1 Axes>"
      ]
     },
     "metadata": {
      "needs_background": "light"
     },
     "output_type": "display_data"
    },
    {
     "data": {
      "image/png": "[encoded data removed]",
      "text/plain": [
       "<Figure size 432x288 with 1 Axes>"
      ]
     },
     "metadata": {
      "needs_background": "light"
     },
     "output_type": "display_data"
    },
    {
     "data": {
      "image/png": "[encoded data removed]",
      "text/plain": [
       "<Figure size 432x288 with 1 Axes>"
      ]
     },
     "metadata": {
      "needs_background": "light"
     },
     "output_type": "display_data"
    },
    {
     "data": {
      "image/png": "[encoded data removed]",
      "text/plain": [
       "<Figure size 432x288 with 1 Axes>"
      ]
     },
     "metadata": {
      "needs_background": "light"
     },
     "output_type": "display_data"
    },
    {
     "data": {
      "image/png": "[encoded data removed]",
      "text/plain": [
       "<Figure size 432x288 with 1 Axes>"
      ]
     },
     "metadata": {
      "needs_background": "light"
     },
     "output_type": "display_data"
    },
    {
     "data": {
      "image/png": "[encoded data removed]",
      "text/plain": [
       "<Figure size 432x288 with 1 Axes>"
      ]
     },
     "metadata": {
      "needs_background": "light"
     },
     "output_type": "display_data"
    },
    {
     "data": {
      "image/png": "[encoded data removed]",
      "text/plain": [
       "<Figure size 432x288 with 1 Axes>"
      ]
     },
     "metadata": {
      "needs_background": "light"
     },
     "output_type": "display_data"
    },
    {
     "data": {
      "image/png": "[encoded data removed]",
      "text/plain": [
       "<Figure size 432x288 with 1 Axes>"
      ]
     },
     "metadata": {
      "needs_background": "light"
     },
     "output_type": "display_data"
    },
    {
     "data": {
      "image/png": "[encoded data removed]",
      "text/plain": [
       "<Figure size 432x288 with 1 Axes>"
      ]
     },
     "metadata": {
      "needs_background": "light"
     },
     "output_type": "display_data"
    },
    {
     "data": {
      "image/png": "[encoded data removed]",
      "text/plain": [
       "<Figure size 432x288 with 1 Axes>"
      ]
     },
     "metadata": {
      "needs_background": "light"
     },
     "output_type": "display_data"
    },
    {
     "data": {
      "image/png": "[encoded data removed]",
      "text/plain": [
       "<Figure size 432x288 with 1 Axes>"
      ]
     },
     "metadata": {
      "needs_background": "light"
     },
     "output_type": "display_data"
    },
    {
     "data": {
      "image/png": "[encoded data removed]",
      "text/plain": [
       "<Figure size 432x288 with 1 Axes>"
      ]
     },
     "metadata": {
      "needs_background": "light"
     },
     "output_type": "display_data"
    },
    {
     "data": {
      "image/png": "[encoded data removed]",
      "text/plain": [
       "<Figure size 432x288 with 1 Axes>"
      ]
     },
     "metadata": {
      "needs_background": "light"
     },
     "output_type": "display_data"
    },
    {
     "data": {
      "image/png": "[encoded data removed]",
      "text/plain": [
       "<Figure size 432x288 with 1 Axes>"
      ]
     },
     "metadata": {
      "needs_background": "light"
     },
     "output_type": "display_data"
    },
    {
     "data": {
      "image/png": "[encoded data removed]",
      "text/plain": [
       "<Figure size 432x288 with 1 Axes>"
      ]
     },
     "metadata": {
      "needs_background": "light"
     },
     "output_type": "display_data"
    },
    {
     "data": {
      "image/png": "[encoded data removed]",
      "text/plain": [
       "<Figure size 432x288 with 1 Axes>"
      ]
     },
     "metadata": {
      "needs_background": "light"
     },
     "output_type": "display_data"
    }
   ],
   "source": [
    "for col in [target for target in sorted_targets if target not in worst_five_targets]:\n",
    "    plt.figure()\n",
    "    train[col].hist()\n",
    "    plt.title(f'{col} {np.round(rs[col],3)}')"
   ]
  },
  {
   "cell_type": "code",
   "execution_count": null,
   "metadata": {},
   "outputs": [],
   "source": []
  }
 ],
 "metadata": {
  "kernelspec": {
   "display_name": "Python 3",
   "language": "python",
   "name": "python3"
  },
  "language_info": {
   "codemirror_mode": {
    "name": "ipython",
    "version": 3
   },
   "file_extension": ".py",
   "mimetype": "text/x-python",
   "name": "python",
   "nbconvert_exporter": "python",
   "pygments_lexer": "ipython3",
   "version": "3.7.5"
  }
 },
 "nbformat": 4,
 "nbformat_minor": 1
}
