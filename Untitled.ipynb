{
 "cells": [
  {
   "cell_type": "code",
   "execution_count": 1,
   "metadata": {},
   "outputs": [],
   "source": [
    "import numpy as np\n",
    "import pandas as pd\n",
    "import matplotlib.pyplot as plt\n",
    "import gc\n",
    "import copy\n",
    "import time\n",
    "\n",
    "from scipy.stats import rankdata\n",
    "from sklearn.model_selection import train_test_split\n",
    "from sklearn.preprocessing import OneHotEncoder, MinMaxScaler\n",
    "\n",
    "import torch\n",
    "import torch.nn as nn\n",
    "import torch.optim as optim\n",
    "import torch.nn.functional as F\n",
    "from torch.utils.data import DataLoader, Dataset\n",
    "\n",
    "from tqdm import tqdm_notebook as tqdm\n",
    "import transformers\n",
    "\n",
    "from learning import Learner\n",
    "from lr_finder import LRFinder\n",
    "from one_cycle import OneCycleLR\n",
    "from losses_metrics import spearmanr_torch, spearmanr_np\n",
    "from inference import infer\n",
    "from common import *\n",
    "from utils.helpers import init_logger, init_seed\n",
    "\n",
    "%matplotlib inline\n",
    "pd.set_option('max_rows', 500)\n",
    "pd.set_option('max_columns', 500)"
   ]
  },
  {
   "cell_type": "code",
   "execution_count": 2,
   "metadata": {},
   "outputs": [],
   "source": [
    "path = 'data/'\n",
    "train = pd.read_csv(f'{path}train.csv').fillna(' ')"
   ]
  },
  {
   "cell_type": "code",
   "execution_count": 3,
   "metadata": {},
   "outputs": [],
   "source": [
    "for col in TARGETS:\n",
    "    train[col] = train[col].rank(method=\"average\")\n",
    "train[TARGETS] = MinMaxScaler().fit_transform(train[TARGETS])\n",
    "y = train[TARGETS].values.astype(np.float32)"
   ]
  },
  {
   "cell_type": "code",
   "execution_count": 4,
   "metadata": {},
   "outputs": [],
   "source": [
    "n_raters = train[TARGETS].nunique().map({9: 12, 17: 20, 5: 5, 3: 3})\n",
    "ses = (((train[TARGETS]*(1 - train[TARGETS]) + 1e-6) / n_raters) **.5).values"
   ]
  },
  {
   "cell_type": "code",
   "execution_count": 5,
   "metadata": {
    "scrolled": true
   },
   "outputs": [
    {
     "data": {
      "text/plain": [
       "{\n",
       "  \"activation\": \"gelu\",\n",
       "  \"attention_dropout\": 0.0,\n",
       "  \"dim\": 128,\n",
       "  \"dropout\": 0.0,\n",
       "  \"finetuning_task\": null,\n",
       "  \"hidden_dim\": 512,\n",
       "  \"initializer_range\": 0.02,\n",
       "  \"is_decoder\": false,\n",
       "  \"max_position_embeddings\": 512,\n",
       "  \"n_heads\": 8,\n",
       "  \"n_layers\": 2,\n",
       "  \"num_labels\": 2,\n",
       "  \"output_attentions\": false,\n",
       "  \"output_hidden_states\": false,\n",
       "  \"output_past\": true,\n",
       "  \"pruned_heads\": {},\n",
       "  \"qa_dropout\": 0.1,\n",
       "  \"seq_classif_dropout\": 0.2,\n",
       "  \"sinusoidal_pos_embds\": false,\n",
       "  \"tie_weights_\": true,\n",
       "  \"torchscript\": false,\n",
       "  \"use_bfloat16\": false,\n",
       "  \"vocab_size\": 30522\n",
       "}"
      ]
     },
     "execution_count": 5,
     "metadata": {},
     "output_type": "execute_result"
    }
   ],
   "source": [
    "dim = 128\n",
    "config = transformers.configuration_distilbert.DistilBertConfig(\n",
    "    dim=dim, hidden_dim=int(4*dim), n_heads=8, n_layers=2, dropout=0.0, attention_dropout=0.0)\n",
    "config"
   ]
  },
  {
   "cell_type": "code",
   "execution_count": 6,
   "metadata": {},
   "outputs": [],
   "source": [
    "class TransformerRanker(nn.Module):\n",
    "    def __init__(self, dim=128, bs=8, n_heads=8, n_layers=2):\n",
    "        super().__init__()\n",
    "        self.bs = bs\n",
    "        self.proj = nn.Linear(1, dim)\n",
    "        self.config = transformers.configuration_distilbert.DistilBertConfig(\n",
    "            dim=dim, hidden_dim=int(4*dim), n_heads=n_heads, n_layers=n_layers, \n",
    "            dropout=0.0, attention_dropout=0.0)\n",
    "        self.transformer = transformers.modeling_distilbert.Transformer(self.config)\n",
    "        self.head = nn.Linear(dim, 1)\n",
    "        \n",
    "    def forward(self, x):\n",
    "        mask = torch.ones(x.size(), dtype=torch.uint8, device=x.device)\n",
    "        x = self.proj(x.unsqueeze(-1))\n",
    "        x = self.transformer(x, mask, [None] * self.config.num_hidden_layers)[0]\n",
    "        x = self.head(x).squeeze()\n",
    "        return torch.sigmoid(x) * 1.1\n",
    "\n",
    "class GRURanker(nn.Module):\n",
    "    def __init__(self):\n",
    "        super().__init__()\n",
    "        self.rnn = nn.GRU(1, 32, 6, batch_first=True, bidirectional=True)\n",
    "        self.sig = nn.Sigmoid()\n",
    "\n",
    "    def forward(self, input_):\n",
    "        input_ = input_.unsqueeze(-1)\n",
    "        x, hn = self.rnn(input_)\n",
    "        out = x.sum(dim=2)\n",
    "        return self.sig(out).squeeze()\n",
    "    \n",
    "    \n",
    "class ExactRanker(nn.Module):\n",
    "    EPS = 1e-10\n",
    "    def __init__(self):\n",
    "        super().__init__()\n",
    "\n",
    "    def comp(self, inpu):\n",
    "        in_mat1 = torch.triu(inpu.repeat(inpu.size(0), 1), diagonal=1)\n",
    "        in_mat2 = torch.triu(inpu.repeat(inpu.size(0), 1).t(), diagonal=1)\n",
    "\n",
    "        comp_first = (in_mat1 - in_mat2)\n",
    "        comp_second = (in_mat2 - in_mat1)\n",
    "\n",
    "        std1 = torch.std(comp_first).item() + self.EPS\n",
    "        std2 = torch.std(comp_second).item() + self.EPS\n",
    "\n",
    "        comp_first = torch.sigmoid(comp_first * (6.8 / std1))\n",
    "        comp_second = torch.sigmoid(comp_second * (6.8 / std2))\n",
    "\n",
    "        comp_first = torch.triu(comp_first, diagonal=1)\n",
    "        comp_second = torch.triu(comp_second, diagonal=1)\n",
    "\n",
    "        return (torch.sum(comp_first, 1) + torch.sum(comp_second, 0) + 1) / inpu.size(0)\n",
    "\n",
    "    def forward(self, input_):\n",
    "        out = [self.comp(input_[d]) for d in range(input_.size(0))]\n",
    "        out = torch.stack(out)\n",
    "        return out.view(input_.size(0), -1)\n",
    "\n",
    "\n",
    "class LSTMRanker(nn.Module):\n",
    "    def __init__(self, seq_len=8):\n",
    "        super().__init__()\n",
    "        self.lstm = nn.LSTM(1, 512, 2, batch_first=True, bidirectional=True)\n",
    "        self.conv1 = nn.Conv1d(seq_len, seq_len, 1024)\n",
    "\n",
    "    def forward(self, input_):\n",
    "        input_ = input_.reshape(input_.size(0), -1, 1)\n",
    "        out, _ = self.lstm(input_)\n",
    "        out = self.conv1(out)\n",
    "        return out.view(input_.size(0), -1)\n",
    "\n",
    "class RankDataset(Dataset):\n",
    "    def __init__(self, inputs, ses, idxs):\n",
    "        self.inputs = inputs[idxs].astype(np.float32)\n",
    "        self.ses = ses[idxs].astype(np.float32)\n",
    "\n",
    "    def __getitem__(self, idx):\n",
    "        if np.random.choice(2): \n",
    "            return self.inputs[idx]\n",
    "        else: \n",
    "            return np.clip(self.inputs[idx] + np.random.normal(scale=self.ses[idx]), 0, 1).astype(np.float32)\n",
    "\n",
    "    def __len__(self):\n",
    "        return len(self.inputs)\n",
    "    \n",
    "class SeqDataset(Dataset):\n",
    "\n",
    "    def __init__(self, seq_len, nb_sample=40000, dist=None):\n",
    "        self.seq_len = seq_len\n",
    "        self.nb_sample = nb_sample\n",
    "\n",
    "    def __getitem__(self, index):\n",
    "        rand_seq = np.random.uniform(-1, 1, self.seq_len).astype(np.float32)\n",
    "        zipp_sort_ind = zip(np.argsort(rand_seq)[::-1], range(self.seq_len))\n",
    "\n",
    "        ranks = [((y[1] + 1) / float(self.seq_len)) for y in sorted(zipp_sort_ind, key=lambda x: x[0])]\n",
    "\n",
    "        return torch.FloatTensor(rand_seq), torch.FloatTensor(ranks)\n",
    "\n",
    "    def __len__(self):\n",
    "        return self.nb_sample\n",
    "\n",
    "def collate_fn(batch):\n",
    "    bs = len(batch)\n",
    "    seqs = np.vstack(batch).T\n",
    "    ranks = np.zeros_like(seqs)\n",
    "    for i in range(N_TARGETS): ranks[i,:] = (bs + 1 - rankdata(seqs[i,:])) / bs\n",
    "    return torch.tensor(seqs), torch.tensor(ranks)\n",
    "\n",
    "def get_optimizer_param_groups(model, lr, weight_decay):\n",
    "    no_decay = ['bias', 'LayerNorm.weight']\n",
    "    optimizer_grouped_parameters = [\n",
    "        {'params': [p for n, p in model.named_parameters() if not any(nd in n for nd in no_decay)], \n",
    "         'weight_decay': weight_decay, 'lr': lr},\n",
    "        {'params': [p for n, p in model.named_parameters() if any(nd in n for nd in no_decay)], \n",
    "         'weight_decay': 0.0, 'lr': lr}\n",
    "    ]\n",
    "    return optimizer_grouped_parameters"
   ]
  },
  {
   "cell_type": "code",
   "execution_count": 7,
   "metadata": {},
   "outputs": [],
   "source": [
    "num_workers = 10\n",
    "bs = 8\n",
    "lr = 1e-4\n",
    "loss_fn = nn.L1Loss()\n",
    "device = 'cuda'\n",
    "n_epochs = 400\n",
    "grad_accum = 1\n",
    "weight_decay = 0.0\n",
    "model_name = f'ranker_transformer_bs{bs}'\n",
    "checkpoint_dir = 'checkpoints/'\n",
    "early_stopping = 100\n",
    "opt = optim.Adam"
   ]
  },
  {
   "cell_type": "code",
   "execution_count": 8,
   "metadata": {
    "code_folding": []
   },
   "outputs": [],
   "source": [
    "from utils.torch import to_device\n",
    "def infer_batch(inputs, model, device, to_numpy=True):\n",
    "    inputs = to_device(inputs, device)\n",
    "    preds = model(*inputs)\n",
    "    if to_numpy: preds = preds.cpu().detach().numpy().astype(np.float32)\n",
    "    return preds\n",
    "\n",
    "def infer(model, loader, checkpoint_file=None, device=torch.device('cuda')):\n",
    "\n",
    "    print(f'Starting inference for model: {checkpoint_file}')\n",
    "    n_obs = len(loader.dataset)\n",
    "    batch_sz = loader.batch_size\n",
    "    predictions, targets = np.zeros((n_obs, N_TARGETS)), np.zeros((n_obs, N_TARGETS))\n",
    "\n",
    "    currently_deterministic = torch.backends.cudnn.deterministic\n",
    "    torch.backends.cudnn.deterministic = True\n",
    "\n",
    "    if checkpoint_file is not None:\n",
    "        checkpoint = torch.load(checkpoint_file)\n",
    "        model.load_state_dict(checkpoint['model_state_dict'])\n",
    "    model.to(device)\n",
    "    model.eval()\n",
    "\n",
    "    with torch.no_grad():\n",
    "        for i, (inputs, targs) in enumerate(tqdm(loader)):\n",
    "            start_index = i * batch_sz\n",
    "            end_index = min(start_index + batch_sz, n_obs)\n",
    "            batch_preds = infer_batch(inputs, model, device)\n",
    "            predictions[start_index:end_index, :] = batch_preds.T\n",
    "            targets[start_index:end_index, :] = targs.T\n",
    "\n",
    "    torch.backends.cudnn.deterministic = currently_deterministic\n",
    "\n",
    "    return predictions, targets"
   ]
  },
  {
   "cell_type": "code",
   "execution_count": null,
   "metadata": {
    "scrolled": true
   },
   "outputs": [
    {
     "name": "stdout",
     "output_type": "stream",
     "text": [
      "Started at Thu Jan 16 22:16:52 2020\n",
      "Starting inference for model: None\n"
     ]
    },
    {
     "name": "stderr",
     "output_type": "stream",
     "text": [
      "/home/robin/anaconda3/envs/GoogleQuest/lib/python3.7/site-packages/ipykernel_launcher.py:25: TqdmDeprecationWarning: This function will be removed in tqdm==5.0.0\n",
      "Please use `tqdm.notebook.tqdm` instead of `tqdm.tqdm_notebook`\n"
     ]
    },
    {
     "data": {
      "application/vnd.jupyter.widget-view+json": {
       "model_id": "89399b20bf4a4764ba60ff56b8bc7a2a",
       "version_major": 2,
       "version_minor": 0
      },
      "text/plain": [
       "HBox(children=(IntProgress(value=0, max=152), HTML(value='')))"
      ]
     },
     "metadata": {},
     "output_type": "display_data"
    },
    {
     "name": "stdout",
     "output_type": "stream",
     "text": [
      "\n",
      "Baseline: 0.04912392864199845\n"
     ]
    },
    {
     "data": {
      "application/vnd.jupyter.widget-view+json": {
       "model_id": "10a7e0ef743f42bdb24abf25c7bc7d28",
       "version_major": 2,
       "version_minor": 0
      },
      "text/plain": [
       "HBox(children=(IntProgress(value=0), HTML(value='')))"
      ]
     },
     "metadata": {},
     "output_type": "display_data"
    },
    {
     "name": "stdout",
     "output_type": "stream",
     "text": [
      "\n"
     ]
    },
    {
     "data": {
      "image/png": "[encoded data removed]",
      "text/plain": [
       "<Figure size 432x288 with 1 Axes>"
      ]
     },
     "metadata": {
      "needs_background": "light"
     },
     "output_type": "display_data"
    },
    {
     "name": "stdout",
     "output_type": "stream",
     "text": [
      "epoch 0: \t Start training...\n"
     ]
    },
    {
     "data": {
      "application/vnd.jupyter.widget-view+json": {
       "model_id": "ed08c96ef41a465a818f932f8c42b08e",
       "version_major": 2,
       "version_minor": 0
      },
      "text/plain": [
       "HBox(children=(IntProgress(value=0, max=607), HTML(value='')))"
      ]
     },
     "metadata": {},
     "output_type": "display_data"
    },
    {
     "name": "stdout",
     "output_type": "stream",
     "text": [
      "\n",
      "epoch 0/400 \t train : loss 0.089385 - MAE 0.089385\n",
      "epoch 0: \t Start validation...\n"
     ]
    },
    {
     "data": {
      "application/vnd.jupyter.widget-view+json": {
       "model_id": "525b692a778c4e01b4ae17bf3946d509",
       "version_major": 2,
       "version_minor": 0
      },
      "text/plain": [
       "HBox(children=(IntProgress(value=0, max=152), HTML(value='')))"
      ]
     },
     "metadata": {},
     "output_type": "display_data"
    },
    {
     "name": "stdout",
     "output_type": "stream",
     "text": [
      "\n",
      "epoch 0/400 \t valid : loss 0.054154 - MAE 0.054154\n",
      "best model: epoch 0 - 0.054154\n",
      "epoch 1: \t Start training...\n"
     ]
    },
    {
     "data": {
      "application/vnd.jupyter.widget-view+json": {
       "model_id": "47cf6a3e746d47fb8a86221658091f94",
       "version_major": 2,
       "version_minor": 0
      },
      "text/plain": [
       "HBox(children=(IntProgress(value=0, max=607), HTML(value='')))"
      ]
     },
     "metadata": {},
     "output_type": "display_data"
    },
    {
     "name": "stdout",
     "output_type": "stream",
     "text": [
      "\n",
      "epoch 1/400 \t train : loss 0.031533 - MAE 0.031533\n",
      "epoch 1: \t Start validation...\n"
     ]
    },
    {
     "data": {
      "application/vnd.jupyter.widget-view+json": {
       "model_id": "f0eb4b9b258145dfb44257adc3d003f1",
       "version_major": 2,
       "version_minor": 0
      },
      "text/plain": [
       "HBox(children=(IntProgress(value=0, max=152), HTML(value='')))"
      ]
     },
     "metadata": {},
     "output_type": "display_data"
    },
    {
     "name": "stdout",
     "output_type": "stream",
     "text": [
      "\n",
      "epoch 1/400 \t valid : loss 0.029213 - MAE 0.029213\n",
      "best model: epoch 1 - 0.029213\n",
      "epoch 2: \t Start training...\n"
     ]
    },
    {
     "data": {
      "application/vnd.jupyter.widget-view+json": {
       "model_id": "3262aa7a799446e78c8365ebbf319ec0",
       "version_major": 2,
       "version_minor": 0
      },
      "text/plain": [
       "HBox(children=(IntProgress(value=0, max=607), HTML(value='')))"
      ]
     },
     "metadata": {},
     "output_type": "display_data"
    },
    {
     "name": "stdout",
     "output_type": "stream",
     "text": [
      "\n",
      "epoch 2/400 \t train : loss 0.061663 - MAE 0.061663\n",
      "epoch 2: \t Start validation...\n"
     ]
    },
    {
     "data": {
      "application/vnd.jupyter.widget-view+json": {
       "model_id": "524c3a29107b45808618ebce1eebdf8d",
       "version_major": 2,
       "version_minor": 0
      },
      "text/plain": [
       "HBox(children=(IntProgress(value=0, max=152), HTML(value='')))"
      ]
     },
     "metadata": {},
     "output_type": "display_data"
    },
    {
     "name": "stdout",
     "output_type": "stream",
     "text": [
      "\n",
      "epoch 2/400 \t valid : loss 0.051158 - MAE 0.051158\n",
      "model not improved for 1 epochs\n",
      "epoch 3: \t Start training...\n"
     ]
    },
    {
     "data": {
      "application/vnd.jupyter.widget-view+json": {
       "model_id": "f9cb271e5bd44ae699391228e199e706",
       "version_major": 2,
       "version_minor": 0
      },
      "text/plain": [
       "HBox(children=(IntProgress(value=0, max=607), HTML(value='')))"
      ]
     },
     "metadata": {},
     "output_type": "display_data"
    },
    {
     "name": "stdout",
     "output_type": "stream",
     "text": [
      "\n",
      "epoch 3/400 \t train : loss 0.029019 - MAE 0.029019\n",
      "epoch 3: \t Start validation...\n"
     ]
    },
    {
     "data": {
      "application/vnd.jupyter.widget-view+json": {
       "model_id": "7fa2b6f519734035af49824770dd65b9",
       "version_major": 2,
       "version_minor": 0
      },
      "text/plain": [
       "HBox(children=(IntProgress(value=0, max=152), HTML(value='')))"
      ]
     },
     "metadata": {},
     "output_type": "display_data"
    },
    {
     "name": "stdout",
     "output_type": "stream",
     "text": [
      "\n",
      "epoch 3/400 \t valid : loss 0.017118 - MAE 0.017118\n",
      "best model: epoch 3 - 0.017118\n",
      "epoch 4: \t Start training...\n"
     ]
    },
    {
     "data": {
      "application/vnd.jupyter.widget-view+json": {
       "model_id": "780f2d5483b44a5098bae1dce51be0d1",
       "version_major": 2,
       "version_minor": 0
      },
      "text/plain": [
       "HBox(children=(IntProgress(value=0, max=607), HTML(value='')))"
      ]
     },
     "metadata": {},
     "output_type": "display_data"
    },
    {
     "name": "stdout",
     "output_type": "stream",
     "text": [
      "\n",
      "epoch 4/400 \t train : loss 0.011044 - MAE 0.011044\n",
      "epoch 4: \t Start validation...\n"
     ]
    },
    {
     "data": {
      "application/vnd.jupyter.widget-view+json": {
       "model_id": "f8d62ced4c794e7b8c76a4bb4efb0b30",
       "version_major": 2,
       "version_minor": 0
      },
      "text/plain": [
       "HBox(children=(IntProgress(value=0, max=152), HTML(value='')))"
      ]
     },
     "metadata": {},
     "output_type": "display_data"
    },
    {
     "name": "stdout",
     "output_type": "stream",
     "text": [
      "\n",
      "epoch 4/400 \t valid : loss 0.0091523 - MAE 0.0091523\n",
      "best model: epoch 4 - 0.0091523\n",
      "epoch 5: \t Start training...\n"
     ]
    },
    {
     "data": {
      "application/vnd.jupyter.widget-view+json": {
       "model_id": "3f8aa26aba084f28bcd85c82694a5584",
       "version_major": 2,
       "version_minor": 0
      },
      "text/plain": [
       "HBox(children=(IntProgress(value=0, max=607), HTML(value='')))"
      ]
     },
     "metadata": {},
     "output_type": "display_data"
    },
    {
     "name": "stdout",
     "output_type": "stream",
     "text": [
      "\n",
      "epoch 5/400 \t train : loss 0.040644 - MAE 0.040644\n",
      "epoch 5: \t Start validation...\n"
     ]
    },
    {
     "data": {
      "application/vnd.jupyter.widget-view+json": {
       "model_id": "93721b67c540412c9313596270ac950b",
       "version_major": 2,
       "version_minor": 0
      },
      "text/plain": [
       "HBox(children=(IntProgress(value=0, max=152), HTML(value='')))"
      ]
     },
     "metadata": {},
     "output_type": "display_data"
    },
    {
     "name": "stdout",
     "output_type": "stream",
     "text": [
      "\n",
      "epoch 5/400 \t valid : loss 0.073879 - MAE 0.073879\n",
      "model not improved for 1 epochs\n",
      "epoch 6: \t Start training...\n"
     ]
    },
    {
     "data": {
      "application/vnd.jupyter.widget-view+json": {
       "model_id": "294c02c6155a4ba5a8763bb2e67d3fc0",
       "version_major": 2,
       "version_minor": 0
      },
      "text/plain": [
       "HBox(children=(IntProgress(value=0, max=607), HTML(value='')))"
      ]
     },
     "metadata": {},
     "output_type": "display_data"
    },
    {
     "name": "stdout",
     "output_type": "stream",
     "text": [
      "\n",
      "epoch 6/400 \t train : loss 0.057473 - MAE 0.057473\n",
      "epoch 6: \t Start validation...\n"
     ]
    },
    {
     "data": {
      "application/vnd.jupyter.widget-view+json": {
       "model_id": "221d184273da45a98769e8a1da281710",
       "version_major": 2,
       "version_minor": 0
      },
      "text/plain": [
       "HBox(children=(IntProgress(value=0, max=152), HTML(value='')))"
      ]
     },
     "metadata": {},
     "output_type": "display_data"
    },
    {
     "name": "stdout",
     "output_type": "stream",
     "text": [
      "\n",
      "epoch 6/400 \t valid : loss 0.028238 - MAE 0.028238\n",
      "model not improved for 2 epochs\n",
      "epoch 7: \t Start training...\n"
     ]
    },
    {
     "data": {
      "application/vnd.jupyter.widget-view+json": {
       "model_id": "60fc29499d314a0ca86aef8aa9cdb34f",
       "version_major": 2,
       "version_minor": 0
      },
      "text/plain": [
       "HBox(children=(IntProgress(value=0, max=607), HTML(value='')))"
      ]
     },
     "metadata": {},
     "output_type": "display_data"
    },
    {
     "name": "stdout",
     "output_type": "stream",
     "text": [
      "\n",
      "epoch 7/400 \t train : loss 0.069224 - MAE 0.069224\n",
      "epoch 7: \t Start validation...\n"
     ]
    },
    {
     "data": {
      "application/vnd.jupyter.widget-view+json": {
       "model_id": "c43e032a5b414fa48a9daa53dcd88f87",
       "version_major": 2,
       "version_minor": 0
      },
      "text/plain": [
       "HBox(children=(IntProgress(value=0, max=152), HTML(value='')))"
      ]
     },
     "metadata": {},
     "output_type": "display_data"
    },
    {
     "name": "stdout",
     "output_type": "stream",
     "text": [
      "\n",
      "epoch 7/400 \t valid : loss 0.075378 - MAE 0.075378\n",
      "model not improved for 3 epochs\n",
      "epoch 8: \t Start training...\n"
     ]
    },
    {
     "data": {
      "application/vnd.jupyter.widget-view+json": {
       "model_id": "e938f4e6fb8749deb8736f146f7eb84d",
       "version_major": 2,
       "version_minor": 0
      },
      "text/plain": [
       "HBox(children=(IntProgress(value=0, max=607), HTML(value='')))"
      ]
     },
     "metadata": {},
     "output_type": "display_data"
    },
    {
     "name": "stdout",
     "output_type": "stream",
     "text": [
      "\n",
      "epoch 8/400 \t train : loss 0.072521 - MAE 0.072521\n",
      "epoch 8: \t Start validation...\n"
     ]
    },
    {
     "data": {
      "application/vnd.jupyter.widget-view+json": {
       "model_id": "196d7677387641f9ab8a0de2f1736767",
       "version_major": 2,
       "version_minor": 0
      },
      "text/plain": [
       "HBox(children=(IntProgress(value=0, max=152), HTML(value='')))"
      ]
     },
     "metadata": {},
     "output_type": "display_data"
    },
    {
     "name": "stdout",
     "output_type": "stream",
     "text": [
      "\n",
      "epoch 8/400 \t valid : loss 0.060358 - MAE 0.060358\n",
      "model not improved for 4 epochs\n",
      "epoch 9: \t Start training...\n"
     ]
    },
    {
     "data": {
      "application/vnd.jupyter.widget-view+json": {
       "model_id": "b69bc5184cc84825a30abd2a8fd8944a",
       "version_major": 2,
       "version_minor": 0
      },
      "text/plain": [
       "HBox(children=(IntProgress(value=0, max=607), HTML(value='')))"
      ]
     },
     "metadata": {},
     "output_type": "display_data"
    },
    {
     "name": "stdout",
     "output_type": "stream",
     "text": [
      "\n",
      "epoch 9/400 \t train : loss 0.047871 - MAE 0.047871\n",
      "epoch 9: \t Start validation...\n"
     ]
    },
    {
     "data": {
      "application/vnd.jupyter.widget-view+json": {
       "model_id": "7c36b3aab0b645629497303445f97954",
       "version_major": 2,
       "version_minor": 0
      },
      "text/plain": [
       "HBox(children=(IntProgress(value=0, max=152), HTML(value='')))"
      ]
     },
     "metadata": {},
     "output_type": "display_data"
    },
    {
     "name": "stdout",
     "output_type": "stream",
     "text": [
      "\n",
      "epoch 9/400 \t valid : loss 0.061832 - MAE 0.061832\n",
      "model not improved for 5 epochs\n",
      "epoch 10: \t Start training...\n"
     ]
    },
    {
     "data": {
      "application/vnd.jupyter.widget-view+json": {
       "model_id": "1d540c2161a848c78e347414203af39b",
       "version_major": 2,
       "version_minor": 0
      },
      "text/plain": [
       "HBox(children=(IntProgress(value=0, max=607), HTML(value='')))"
      ]
     },
     "metadata": {},
     "output_type": "display_data"
    },
    {
     "name": "stdout",
     "output_type": "stream",
     "text": [
      "\n",
      "epoch 10/400 \t train : loss 0.070982 - MAE 0.070982\n",
      "epoch 10: \t Start validation...\n"
     ]
    },
    {
     "data": {
      "application/vnd.jupyter.widget-view+json": {
       "model_id": "698ef28ea5574e1ca6e5184b613f06d6",
       "version_major": 2,
       "version_minor": 0
      },
      "text/plain": [
       "HBox(children=(IntProgress(value=0, max=152), HTML(value='')))"
      ]
     },
     "metadata": {},
     "output_type": "display_data"
    },
    {
     "name": "stdout",
     "output_type": "stream",
     "text": [
      "\n",
      "epoch 10/400 \t valid : loss 0.077937 - MAE 0.077937\n",
      "model not improved for 6 epochs\n",
      "epoch 11: \t Start training...\n"
     ]
    },
    {
     "data": {
      "application/vnd.jupyter.widget-view+json": {
       "model_id": "b220c3b55c1b4328943ac96f6af4e38a",
       "version_major": 2,
       "version_minor": 0
      },
      "text/plain": [
       "HBox(children=(IntProgress(value=0, max=607), HTML(value='')))"
      ]
     },
     "metadata": {},
     "output_type": "display_data"
    },
    {
     "name": "stdout",
     "output_type": "stream",
     "text": [
      "\n",
      "epoch 11/400 \t train : loss 0.074477 - MAE 0.074477\n",
      "epoch 11: \t Start validation...\n"
     ]
    },
    {
     "data": {
      "application/vnd.jupyter.widget-view+json": {
       "model_id": "962c84f83ca44dcbbe130715b1c60ab7",
       "version_major": 2,
       "version_minor": 0
      },
      "text/plain": [
       "HBox(children=(IntProgress(value=0, max=152), HTML(value='')))"
      ]
     },
     "metadata": {},
     "output_type": "display_data"
    },
    {
     "name": "stdout",
     "output_type": "stream",
     "text": [
      "\n",
      "epoch 11/400 \t valid : loss 0.092301 - MAE 0.092301\n",
      "model not improved for 7 epochs\n",
      "epoch 12: \t Start training...\n"
     ]
    },
    {
     "data": {
      "application/vnd.jupyter.widget-view+json": {
       "model_id": "7d2032eeaab94749934323e035ef8f6e",
       "version_major": 2,
       "version_minor": 0
      },
      "text/plain": [
       "HBox(children=(IntProgress(value=0, max=607), HTML(value='')))"
      ]
     },
     "metadata": {},
     "output_type": "display_data"
    },
    {
     "name": "stdout",
     "output_type": "stream",
     "text": [
      "\n",
      "epoch 12/400 \t train : loss 0.07204 - MAE 0.07204\n",
      "epoch 12: \t Start validation...\n"
     ]
    },
    {
     "data": {
      "application/vnd.jupyter.widget-view+json": {
       "model_id": "bb08aaa8438c404a9354b3e61643bde5",
       "version_major": 2,
       "version_minor": 0
      },
      "text/plain": [
       "HBox(children=(IntProgress(value=0, max=152), HTML(value='')))"
      ]
     },
     "metadata": {},
     "output_type": "display_data"
    },
    {
     "name": "stdout",
     "output_type": "stream",
     "text": [
      "\n",
      "epoch 12/400 \t valid : loss 0.063233 - MAE 0.063233\n",
      "model not improved for 8 epochs\n",
      "epoch 13: \t Start training...\n"
     ]
    },
    {
     "data": {
      "application/vnd.jupyter.widget-view+json": {
       "model_id": "e4528489e9194068ad90cd3af53b3474",
       "version_major": 2,
       "version_minor": 0
      },
      "text/plain": [
       "HBox(children=(IntProgress(value=0, max=607), HTML(value='')))"
      ]
     },
     "metadata": {},
     "output_type": "display_data"
    },
    {
     "name": "stdout",
     "output_type": "stream",
     "text": [
      "\n",
      "epoch 13/400 \t train : loss 0.071209 - MAE 0.071209\n",
      "epoch 13: \t Start validation...\n"
     ]
    },
    {
     "data": {
      "application/vnd.jupyter.widget-view+json": {
       "model_id": "dd7c220c1f654213b4e41cda37b80177",
       "version_major": 2,
       "version_minor": 0
      },
      "text/plain": [
       "HBox(children=(IntProgress(value=0, max=152), HTML(value='')))"
      ]
     },
     "metadata": {},
     "output_type": "display_data"
    },
    {
     "name": "stdout",
     "output_type": "stream",
     "text": [
      "\n",
      "epoch 13/400 \t valid : loss 0.060534 - MAE 0.060534\n",
      "model not improved for 9 epochs\n",
      "epoch 14: \t Start training...\n"
     ]
    },
    {
     "data": {
      "application/vnd.jupyter.widget-view+json": {
       "model_id": "9148d3ab9cd74944b9351e9a04a0538b",
       "version_major": 2,
       "version_minor": 0
      },
      "text/plain": [
       "HBox(children=(IntProgress(value=0, max=607), HTML(value='')))"
      ]
     },
     "metadata": {},
     "output_type": "display_data"
    },
    {
     "name": "stdout",
     "output_type": "stream",
     "text": [
      "\n",
      "epoch 14/400 \t train : loss 0.075572 - MAE 0.075572\n",
      "epoch 14: \t Start validation...\n"
     ]
    },
    {
     "data": {
      "application/vnd.jupyter.widget-view+json": {
       "model_id": "2c2b9b0aea8748c0a1e3a049c49597da",
       "version_major": 2,
       "version_minor": 0
      },
      "text/plain": [
       "HBox(children=(IntProgress(value=0, max=152), HTML(value='')))"
      ]
     },
     "metadata": {},
     "output_type": "display_data"
    },
    {
     "name": "stdout",
     "output_type": "stream",
     "text": [
      "\n",
      "epoch 14/400 \t valid : loss 0.078482 - MAE 0.078482\n",
      "model not improved for 10 epochs\n",
      "epoch 15: \t Start training...\n"
     ]
    },
    {
     "data": {
      "application/vnd.jupyter.widget-view+json": {
       "model_id": "28d836677c774e88a0b576e4615ab8da",
       "version_major": 2,
       "version_minor": 0
      },
      "text/plain": [
       "HBox(children=(IntProgress(value=0, max=607), HTML(value='')))"
      ]
     },
     "metadata": {},
     "output_type": "display_data"
    },
    {
     "name": "stdout",
     "output_type": "stream",
     "text": [
      "\n",
      "epoch 15/400 \t train : loss 0.063811 - MAE 0.063811\n",
      "epoch 15: \t Start validation...\n"
     ]
    },
    {
     "data": {
      "application/vnd.jupyter.widget-view+json": {
       "model_id": "a388558405044baeaeca43dfb1eed94c",
       "version_major": 2,
       "version_minor": 0
      },
      "text/plain": [
       "HBox(children=(IntProgress(value=0, max=152), HTML(value='')))"
      ]
     },
     "metadata": {},
     "output_type": "display_data"
    },
    {
     "name": "stdout",
     "output_type": "stream",
     "text": [
      "\n",
      "epoch 15/400 \t valid : loss 0.035827 - MAE 0.035827\n",
      "model not improved for 11 epochs\n",
      "epoch 16: \t Start training...\n"
     ]
    },
    {
     "data": {
      "application/vnd.jupyter.widget-view+json": {
       "model_id": "56545c1e992f4b758df200bdc7a3d17e",
       "version_major": 2,
       "version_minor": 0
      },
      "text/plain": [
       "HBox(children=(IntProgress(value=0, max=607), HTML(value='')))"
      ]
     },
     "metadata": {},
     "output_type": "display_data"
    },
    {
     "name": "stdout",
     "output_type": "stream",
     "text": [
      "\n",
      "epoch 16/400 \t train : loss 0.041843 - MAE 0.041843\n",
      "epoch 16: \t Start validation...\n"
     ]
    },
    {
     "data": {
      "application/vnd.jupyter.widget-view+json": {
       "model_id": "5fb38051a3eb4b05aa613aecfc690958",
       "version_major": 2,
       "version_minor": 0
      },
      "text/plain": [
       "HBox(children=(IntProgress(value=0, max=152), HTML(value='')))"
      ]
     },
     "metadata": {},
     "output_type": "display_data"
    },
    {
     "name": "stdout",
     "output_type": "stream",
     "text": [
      "\n",
      "epoch 16/400 \t valid : loss 0.030763 - MAE 0.030763\n",
      "model not improved for 12 epochs\n",
      "epoch 17: \t Start training...\n"
     ]
    },
    {
     "data": {
      "application/vnd.jupyter.widget-view+json": {
       "model_id": "b013b564b5d54dd8836d53a163da564f",
       "version_major": 2,
       "version_minor": 0
      },
      "text/plain": [
       "HBox(children=(IntProgress(value=0, max=607), HTML(value='')))"
      ]
     },
     "metadata": {},
     "output_type": "display_data"
    },
    {
     "name": "stdout",
     "output_type": "stream",
     "text": [
      "\n",
      "epoch 17/400 \t train : loss 0.035905 - MAE 0.035905\n",
      "epoch 17: \t Start validation...\n"
     ]
    },
    {
     "data": {
      "application/vnd.jupyter.widget-view+json": {
       "model_id": "0a0005c46b2041098b85947bb8b55ba8",
       "version_major": 2,
       "version_minor": 0
      },
      "text/plain": [
       "HBox(children=(IntProgress(value=0, max=152), HTML(value='')))"
      ]
     },
     "metadata": {},
     "output_type": "display_data"
    },
    {
     "name": "stdout",
     "output_type": "stream",
     "text": [
      "\n",
      "epoch 17/400 \t valid : loss 0.033264 - MAE 0.033264\n",
      "model not improved for 13 epochs\n",
      "epoch 18: \t Start training...\n"
     ]
    },
    {
     "data": {
      "application/vnd.jupyter.widget-view+json": {
       "model_id": "9a42d990bb5745c0a127af262a05016c",
       "version_major": 2,
       "version_minor": 0
      },
      "text/plain": [
       "HBox(children=(IntProgress(value=0, max=607), HTML(value='')))"
      ]
     },
     "metadata": {},
     "output_type": "display_data"
    },
    {
     "name": "stdout",
     "output_type": "stream",
     "text": [
      "\n",
      "epoch 18/400 \t train : loss 0.022377 - MAE 0.022377\n",
      "epoch 18: \t Start validation...\n"
     ]
    },
    {
     "data": {
      "application/vnd.jupyter.widget-view+json": {
       "model_id": "ed5d1eafab6d435a8d1c99fe9e5daa5a",
       "version_major": 2,
       "version_minor": 0
      },
      "text/plain": [
       "HBox(children=(IntProgress(value=0, max=152), HTML(value='')))"
      ]
     },
     "metadata": {},
     "output_type": "display_data"
    },
    {
     "name": "stdout",
     "output_type": "stream",
     "text": [
      "\n",
      "epoch 18/400 \t valid : loss 0.022376 - MAE 0.022376\n",
      "model not improved for 14 epochs\n",
      "epoch 19: \t Start training...\n"
     ]
    },
    {
     "data": {
      "application/vnd.jupyter.widget-view+json": {
       "model_id": "1dd5c0e0866044d680c7190f78ef2524",
       "version_major": 2,
       "version_minor": 0
      },
      "text/plain": [
       "HBox(children=(IntProgress(value=0, max=607), HTML(value='')))"
      ]
     },
     "metadata": {},
     "output_type": "display_data"
    },
    {
     "name": "stdout",
     "output_type": "stream",
     "text": [
      "\n",
      "epoch 19/400 \t train : loss 0.038513 - MAE 0.038513\n",
      "epoch 19: \t Start validation...\n"
     ]
    },
    {
     "data": {
      "application/vnd.jupyter.widget-view+json": {
       "model_id": "294640dc16af4313a640ab0f3ec37b4d",
       "version_major": 2,
       "version_minor": 0
      },
      "text/plain": [
       "HBox(children=(IntProgress(value=0, max=152), HTML(value='')))"
      ]
     },
     "metadata": {},
     "output_type": "display_data"
    },
    {
     "name": "stdout",
     "output_type": "stream",
     "text": [
      "\n",
      "epoch 19/400 \t valid : loss 0.084136 - MAE 0.084136\n",
      "model not improved for 15 epochs\n",
      "epoch 20: \t Start training...\n"
     ]
    },
    {
     "data": {
      "application/vnd.jupyter.widget-view+json": {
       "model_id": "6d5ac38001194a8ebce8f721ea7107da",
       "version_major": 2,
       "version_minor": 0
      },
      "text/plain": [
       "HBox(children=(IntProgress(value=0, max=607), HTML(value='')))"
      ]
     },
     "metadata": {},
     "output_type": "display_data"
    },
    {
     "name": "stdout",
     "output_type": "stream",
     "text": [
      "\n",
      "epoch 20/400 \t train : loss 0.057868 - MAE 0.057868\n",
      "epoch 20: \t Start validation...\n"
     ]
    },
    {
     "data": {
      "application/vnd.jupyter.widget-view+json": {
       "model_id": "73f623ddcba24a84920bb6394f8b17e1",
       "version_major": 2,
       "version_minor": 0
      },
      "text/plain": [
       "HBox(children=(IntProgress(value=0, max=152), HTML(value='')))"
      ]
     },
     "metadata": {},
     "output_type": "display_data"
    },
    {
     "name": "stdout",
     "output_type": "stream",
     "text": [
      "\n",
      "epoch 20/400 \t valid : loss 0.051471 - MAE 0.051471\n",
      "model not improved for 16 epochs\n",
      "epoch 21: \t Start training...\n"
     ]
    },
    {
     "data": {
      "application/vnd.jupyter.widget-view+json": {
       "model_id": "c377af00f0f84af2b3d63f2c6e3716f1",
       "version_major": 2,
       "version_minor": 0
      },
      "text/plain": [
       "HBox(children=(IntProgress(value=0, max=607), HTML(value='')))"
      ]
     },
     "metadata": {},
     "output_type": "display_data"
    },
    {
     "name": "stdout",
     "output_type": "stream",
     "text": [
      "\n",
      "epoch 21/400 \t train : loss 0.045218 - MAE 0.045218\n",
      "epoch 21: \t Start validation...\n"
     ]
    },
    {
     "data": {
      "application/vnd.jupyter.widget-view+json": {
       "model_id": "40a7dd3c74a747349dac454d8adf0395",
       "version_major": 2,
       "version_minor": 0
      },
      "text/plain": [
       "HBox(children=(IntProgress(value=0, max=152), HTML(value='')))"
      ]
     },
     "metadata": {},
     "output_type": "display_data"
    },
    {
     "name": "stdout",
     "output_type": "stream",
     "text": [
      "\n",
      "epoch 21/400 \t valid : loss 0.035238 - MAE 0.035238\n",
      "model not improved for 17 epochs\n",
      "epoch 22: \t Start training...\n"
     ]
    },
    {
     "data": {
      "application/vnd.jupyter.widget-view+json": {
       "model_id": "53b96642c9d14db680d7f1c4f6beb226",
       "version_major": 2,
       "version_minor": 0
      },
      "text/plain": [
       "HBox(children=(IntProgress(value=0, max=607), HTML(value='')))"
      ]
     },
     "metadata": {},
     "output_type": "display_data"
    }
   ],
   "source": [
    "init_seed()\n",
    "\n",
    "train_index, valid_index = train_test_split(np.arange(len(y)), test_size=0.2)\n",
    "print(f'Started at {time.ctime()}')\n",
    "train_loader = DataLoader(\n",
    "    RankDataset(y, ses, train_index), batch_size=bs, shuffle=True, num_workers=num_workers, \n",
    "    collate_fn=collate_fn, drop_last=True)\n",
    "valid_loader = DataLoader(\n",
    "    RankDataset(y, ses, valid_index), batch_size=bs, shuffle=True, num_workers=num_workers, \n",
    "    collate_fn=collate_fn, drop_last=True)\n",
    "# train_loader = DataLoader(\n",
    "#     SeqDataset(100), batch_size=bs, shuffle=True, num_workers=num_workers, drop_last=True)\n",
    "# valid_loader = DataLoader(\n",
    "#     SeqDataset(100), batch_size=bs, shuffle=True, num_workers=num_workers, drop_last=True)\n",
    "\n",
    "base_oofs, targs = infer(ExactRanker(), valid_loader, None, device)\n",
    "print(f'Baseline: {abs(base_oofs - targs).mean()}')\n",
    "    \n",
    "model = TransformerRanker(dim=512, bs=bs, n_heads=8, n_layers=6)\n",
    "    \n",
    "if 1:\n",
    "    model = model.to(device)\n",
    "    optimizer = opt(get_optimizer_param_groups(model, lr, weight_decay))\n",
    "    lr_finder = LRFinder(n_iter=min(grad_accum*100, len(train_loader)), start_lr=1e-6, \n",
    "                         end_lr=1e-2, device=device, grad_accum=grad_accum, divergence_factor=5)\n",
    "    lr_finder.find_lr(model, optimizer, train_loader, loss_fn)\n",
    "    plt.show()\n",
    "    \n",
    "optimizer = opt(get_optimizer_param_groups(model, lr, weight_decay))\n",
    "scheduler = OneCycleLR(optimizer, n_epochs=n_epochs, n_batches=len(train_loader), warmup_frac=0.3)\n",
    "\n",
    "\n",
    "learner = Learner(\n",
    "    model, \n",
    "    optimizer, \n",
    "    train_loader, \n",
    "    valid_loader, \n",
    "    loss_fn, \n",
    "    device, \n",
    "    n_epochs, \n",
    "    f'{model_name}', \n",
    "    checkpoint_dir, \n",
    "    scheduler=optim.lr_scheduler.StepLR(optimizer, 75, 0.5), \n",
    "    grad_accum=grad_accum, \n",
    "    grad_clip=10,\n",
    "    metric_fns={'MAE': (nn.L1Loss(), 'batch_end')}, \n",
    "    monitor_metric='MAE',\n",
    "    batch_step_scheduler=False,\n",
    "    early_stopping=early_stopping\n",
    ")\n",
    "learner.train()\n",
    "    \n",
    "oofs, targs = infer(learner.model, valid_loader, learner.best_checkpoint_file, device)\n",
    "# 0.056"
   ]
  },
  {
   "cell_type": "code",
   "execution_count": null,
   "metadata": {},
   "outputs": [],
   "source": []
  },
  {
   "cell_type": "code",
   "execution_count": null,
   "metadata": {},
   "outputs": [],
   "source": []
  }
 ],
 "metadata": {
  "kernelspec": {
   "display_name": "Python 3",
   "language": "python",
   "name": "python3"
  },
  "language_info": {
   "codemirror_mode": {
    "name": "ipython",
    "version": 3
   },
   "file_extension": ".py",
   "mimetype": "text/x-python",
   "name": "python",
   "nbconvert_exporter": "python",
   "pygments_lexer": "ipython3",
   "version": "3.7.5"
  }
 },
 "nbformat": 4,
 "nbformat_minor": 2
}
