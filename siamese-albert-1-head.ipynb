{
 "cells": [
  {
   "cell_type": "markdown",
   "metadata": {},
   "source": [
    "## Importing libraries"
   ]
  },
  {
   "cell_type": "code",
   "execution_count": 1,
   "metadata": {
    "_kg_hide-input": true
   },
   "outputs": [],
   "source": [
    "import numpy as np\n",
    "import pandas as pd\n",
    "import matplotlib.pyplot as plt\n",
    "import seaborn as sns\n",
    "import time\n",
    "import datetime\n",
    "import re\n",
    "import gc\n",
    "import copy\n",
    "\n",
    "from scipy.stats import spearmanr\n",
    "from sklearn.model_selection import KFold, GroupKFold\n",
    "from sklearn.preprocessing import OneHotEncoder, MinMaxScaler\n",
    "\n",
    "import torch\n",
    "import torch.nn as nn\n",
    "import torch.optim as optim\n",
    "import torch.nn.functional as F\n",
    "from torch.utils.data import DataLoader\n",
    "\n",
    "from tqdm import tqdm_notebook as tqdm\n",
    "import transformers\n",
    "\n",
    "from text_data import BertDataset\n",
    "from albert import CustomAlbert\n",
    "from learning import Learner\n",
    "from lr_finder import LRFinder\n",
    "from create_features import get_categorical_features\n",
    "from losses_metrics import spearmanr_torch, spearmanr_np, optimize_rounding_params, get_cvs, spearmanr\n",
    "from inference import infer\n",
    "from common import *\n",
    "from utils.helpers import init_logger, init_seed\n",
    "from utils.torch import to_cpu\n",
    "\n",
    "%matplotlib inline\n",
    "pd.set_option('max_colwidth',400)"
   ]
  },
  {
   "cell_type": "markdown",
   "metadata": {},
   "source": [
    "## Loading and preparing data"
   ]
  },
  {
   "cell_type": "code",
   "execution_count": 2,
   "metadata": {
    "_cell_guid": "b1076dfc-b9ad-4769-8c92-a6c4dae69d19",
    "_uuid": "8f2839f25d086af736a60e9eeb907d3b93b6e0e5"
   },
   "outputs": [],
   "source": [
    "pd.set_option('max_rows', 500)\n",
    "pd.set_option('max_columns', 500)\n",
    "path = 'data/'\n",
    "sample_submission = pd.read_csv(f'{path}sample_submission.csv')\n",
    "test = pd.read_csv(f'{path}test.csv').fillna(' ')\n",
    "train = pd.read_csv(f'{path}train.csv').fillna(' ')"
   ]
  },
  {
   "cell_type": "code",
   "execution_count": 3,
   "metadata": {
    "code_folding": []
   },
   "outputs": [],
   "source": [
    "train_category, test_category, category_dict, category_dict_reverse = \\\n",
    "    get_categorical_features(train, test, 'category')"
   ]
  },
  {
   "cell_type": "code",
   "execution_count": 4,
   "metadata": {},
   "outputs": [
    {
     "name": "stderr",
     "output_type": "stream",
     "text": [
      "/home/robin/anaconda3/envs/GoogleQuest/lib/python3.7/site-packages/sklearn/preprocessing/_encoders.py:415: FutureWarning: The handling of integer data will change in version 0.22. Currently, the categories are determined based on the range [0, max(values)], while in the future they will be determined based on the unique values.\n",
      "If you want the future behaviour and silence this warning, you can specify \"categories='auto'\".\n",
      "In case you used a LabelEncoder before this OneHotEncoder to convert the categories to integers, then you can now use the OneHotEncoder directly.\n",
      "  warnings.warn(msg, FutureWarning)\n"
     ]
    }
   ],
   "source": [
    "cat_features_train = train_category.reshape(-1, 1)\n",
    "cat_features_test = test_category.reshape(-1, 1)\n",
    "ohe = OneHotEncoder()\n",
    "ohe.fit(cat_features_train)\n",
    "cat_features_train = ohe.transform(cat_features_train).toarray()\n",
    "cat_features_test = ohe.transform(cat_features_test).toarray()"
   ]
  },
  {
   "cell_type": "code",
   "execution_count": 5,
   "metadata": {},
   "outputs": [],
   "source": [
    "for col in TARGETS:\n",
    "    train[col] = train[col].rank(method=\"average\")\n",
    "train[TARGETS] = MinMaxScaler().fit_transform(train[TARGETS])\n",
    "y = train[TARGETS].values.astype(np.float32)\n",
    "ix = np.where(train.groupby(\"question_body\")[\"host\"].transform(\"count\") == 1)[0]"
   ]
  },
  {
   "cell_type": "code",
   "execution_count": 6,
   "metadata": {},
   "outputs": [],
   "source": [
    "num_workers = 10\n",
    "bs = 2"
   ]
  },
  {
   "cell_type": "markdown",
   "metadata": {},
   "source": [
    "## Training model"
   ]
  },
  {
   "cell_type": "code",
   "execution_count": 7,
   "metadata": {},
   "outputs": [],
   "source": [
    "lr = 1e-5\n",
    "device = 'cuda'\n",
    "n_epochs = 5\n",
    "grad_accum = 1\n",
    "weight_decay = 0.1\n",
    "model_output_dir = 'albert_1_output/'\n",
    "pretrained_model = 'siamese_albert_1'\n",
    "model_name = 'siamese_albert_1_head'\n",
    "checkpoint_dir = 'checkpoints/'\n",
    "early_stopping = None\n",
    "n_folds = 10\n",
    "loss_fn = nn.BCEWithLogitsLoss()"
   ]
  },
  {
   "cell_type": "code",
   "execution_count": 8,
   "metadata": {},
   "outputs": [],
   "source": [
    "def get_optimizer_param_groups(model, lr, weight_decay):\n",
    "    no_decay = ['bias', 'LayerNorm.weight']\n",
    "    optimizer_grouped_parameters = [\n",
    "        {'params': [p for n, p in model.named_parameters() if not any(nd in n for nd in no_decay)], \n",
    "         'weight_decay': weight_decay, 'lr': lr},\n",
    "        {'params': [p for n, p in model.named_parameters() if any(nd in n for nd in no_decay)], \n",
    "         'weight_decay': 0.0, 'lr': lr}\n",
    "    ]\n",
    "    return optimizer_grouped_parameters\n",
    "\n",
    "def get_optimizer(model, lr, weight_decay):\n",
    "    return transformers.AdamW(get_optimizer_param_groups(model, lr, weight_decay))\n",
    "\n",
    "def get_model(fold_id):\n",
    "    checkpoint_file = f'{checkpoint_dir}{pretrained_model}_fold_{fold_id+1}_best.pth'\n",
    "    model = CustomAlbert(256, cat_features_train.shape[1])\n",
    "    checkpoint = torch.load(checkpoint_file)\n",
    "    model.load_state_dict(checkpoint['model_state_dict'])\n",
    "    return model.head"
   ]
  },
  {
   "cell_type": "code",
   "execution_count": 9,
   "metadata": {
    "scrolled": true
   },
   "outputs": [
    {
     "name": "stderr",
     "output_type": "stream",
     "text": [
      "There is currently an upstream reproducibility issue with ALBERT v2 models. Please see https://github.com/google-research/google-research/issues/119 for more information.\n"
     ]
    },
    {
     "name": "stdout",
     "output_type": "stream",
     "text": [
      "Fold 1 started at Thu Feb  6 21:16:23 2020\n"
     ]
    },
    {
     "name": "stderr",
     "output_type": "stream",
     "text": [
      "There is currently an upstream reproducibility issue with ALBERT v2 models. Please see https://github.com/google-research/google-research/issues/119 for more information.\n"
     ]
    },
    {
     "data": {
      "application/vnd.jupyter.widget-view+json": {
       "model_id": "ed5f821799214a0290791382a6bf301c",
       "version_major": 2,
       "version_minor": 0
      },
      "text/plain": [
       "HBox(children=(IntProgress(value=0), HTML(value='')))"
      ]
     },
     "metadata": {},
     "output_type": "display_data"
    },
    {
     "name": "stdout",
     "output_type": "stream",
     "text": [
      "\n"
     ]
    },
    {
     "data": {
      "image/png": "[encoded data removed]",
      "text/plain": [
       "<Figure size 432x288 with 1 Axes>"
      ]
     },
     "metadata": {
      "needs_background": "light"
     },
     "output_type": "display_data"
    },
    {
     "name": "stdout",
     "output_type": "stream",
     "text": [
      "epoch -1: \t Start validation...\n"
     ]
    },
    {
     "data": {
      "application/vnd.jupyter.widget-view+json": {
       "model_id": "0abf2074f8704d60b89601459efde369",
       "version_major": 2,
       "version_minor": 0
      },
      "text/plain": [
       "HBox(children=(IntProgress(value=0, max=304), HTML(value='')))"
      ]
     },
     "metadata": {},
     "output_type": "display_data"
    },
    {
     "name": "stdout",
     "output_type": "stream",
     "text": [
      "\n",
      "epoch -1/5 \t valid : loss 0.45372 - spearmanr 0.4144\n",
      "best model: epoch -1 - 0.4144\n",
      "epoch 0: \t Start training...\n"
     ]
    },
    {
     "name": "stderr",
     "output_type": "stream",
     "text": [
      "/home/robin/anaconda3/envs/GoogleQuest/lib/python3.7/site-packages/numpy/lib/function_base.py:2534: RuntimeWarning: invalid value encountered in true_divide\n",
      "  c /= stddev[:, None]\n",
      "/home/robin/anaconda3/envs/GoogleQuest/lib/python3.7/site-packages/numpy/lib/function_base.py:2535: RuntimeWarning: invalid value encountered in true_divide\n",
      "  c /= stddev[None, :]\n",
      "/home/robin/anaconda3/envs/GoogleQuest/lib/python3.7/site-packages/scipy/stats/_distn_infrastructure.py:901: RuntimeWarning: invalid value encountered in greater\n",
      "  return (a < x) & (x < b)\n",
      "/home/robin/anaconda3/envs/GoogleQuest/lib/python3.7/site-packages/scipy/stats/_distn_infrastructure.py:901: RuntimeWarning: invalid value encountered in less\n",
      "  return (a < x) & (x < b)\n",
      "/home/robin/anaconda3/envs/GoogleQuest/lib/python3.7/site-packages/scipy/stats/_distn_infrastructure.py:1892: RuntimeWarning: invalid value encountered in less_equal\n",
      "  cond2 = cond0 & (x <= _a)\n"
     ]
    },
    {
     "data": {
      "application/vnd.jupyter.widget-view+json": {
       "model_id": "7b0e961fa595414c90445c10b87ca473",
       "version_major": 2,
       "version_minor": 0
      },
      "text/plain": [
       "HBox(children=(IntProgress(value=0, max=2736), HTML(value='')))"
      ]
     },
     "metadata": {},
     "output_type": "display_data"
    },
    {
     "name": "stdout",
     "output_type": "stream",
     "text": [
      "\n",
      "epoch 0/5 \t train : loss 0.41106 - spearmanr 0.51468\n",
      "epoch 0: \t Start validation...\n"
     ]
    },
    {
     "data": {
      "application/vnd.jupyter.widget-view+json": {
       "model_id": "8871c19c368c47fea44040a19e1b2a67",
       "version_major": 2,
       "version_minor": 0
      },
      "text/plain": [
       "HBox(children=(IntProgress(value=0, max=304), HTML(value='')))"
      ]
     },
     "metadata": {},
     "output_type": "display_data"
    },
    {
     "name": "stdout",
     "output_type": "stream",
     "text": [
      "\n",
      "epoch 0/5 \t valid : loss 0.45299 - spearmanr 0.41601\n",
      "best model: epoch 0 - 0.41601\n",
      "epoch 1: \t Start training...\n"
     ]
    },
    {
     "data": {
      "application/vnd.jupyter.widget-view+json": {
       "model_id": "f8ef2da0b18c454bb29645ff19aab36d",
       "version_major": 2,
       "version_minor": 0
      },
      "text/plain": [
       "HBox(children=(IntProgress(value=0, max=2736), HTML(value='')))"
      ]
     },
     "metadata": {},
     "output_type": "display_data"
    },
    {
     "name": "stdout",
     "output_type": "stream",
     "text": [
      "\n",
      "epoch 1/5 \t train : loss 0.40901 - spearmanr 0.51896\n",
      "epoch 1: \t Start validation...\n"
     ]
    },
    {
     "data": {
      "application/vnd.jupyter.widget-view+json": {
       "model_id": "ac19c90c689042a5840710965973dc78",
       "version_major": 2,
       "version_minor": 0
      },
      "text/plain": [
       "HBox(children=(IntProgress(value=0, max=304), HTML(value='')))"
      ]
     },
     "metadata": {},
     "output_type": "display_data"
    },
    {
     "name": "stdout",
     "output_type": "stream",
     "text": [
      "\n",
      "epoch 1/5 \t valid : loss 0.45334 - spearmanr 0.41612\n",
      "best model: epoch 1 - 0.41612\n",
      "epoch 2: \t Start training...\n"
     ]
    },
    {
     "data": {
      "application/vnd.jupyter.widget-view+json": {
       "model_id": "f3c91df34a1d4dcaa8fd1df07ddb913d",
       "version_major": 2,
       "version_minor": 0
      },
      "text/plain": [
       "HBox(children=(IntProgress(value=0, max=2736), HTML(value='')))"
      ]
     },
     "metadata": {},
     "output_type": "display_data"
    },
    {
     "name": "stdout",
     "output_type": "stream",
     "text": [
      "\n",
      "epoch 2/5 \t train : loss 0.40799 - spearmanr 0.5213\n",
      "epoch 2: \t Start validation...\n"
     ]
    },
    {
     "data": {
      "application/vnd.jupyter.widget-view+json": {
       "model_id": "bca52449d215451a8320b422d1f7d229",
       "version_major": 2,
       "version_minor": 0
      },
      "text/plain": [
       "HBox(children=(IntProgress(value=0, max=304), HTML(value='')))"
      ]
     },
     "metadata": {},
     "output_type": "display_data"
    },
    {
     "name": "stdout",
     "output_type": "stream",
     "text": [
      "\n",
      "epoch 2/5 \t valid : loss 0.45354 - spearmanr 0.41598\n",
      "model not improved for 1 epochs\n",
      "epoch 3: \t Start training...\n"
     ]
    },
    {
     "data": {
      "application/vnd.jupyter.widget-view+json": {
       "model_id": "a418de9519eb4fef9a24233d4e2ad7b4",
       "version_major": 2,
       "version_minor": 0
      },
      "text/plain": [
       "HBox(children=(IntProgress(value=0, max=2736), HTML(value='')))"
      ]
     },
     "metadata": {},
     "output_type": "display_data"
    },
    {
     "name": "stdout",
     "output_type": "stream",
     "text": [
      "\n",
      "epoch 3/5 \t train : loss 0.40716 - spearmanr 0.52275\n",
      "epoch 3: \t Start validation...\n"
     ]
    },
    {
     "data": {
      "application/vnd.jupyter.widget-view+json": {
       "model_id": "33c364a967fd408da8b92687de7be293",
       "version_major": 2,
       "version_minor": 0
      },
      "text/plain": [
       "HBox(children=(IntProgress(value=0, max=304), HTML(value='')))"
      ]
     },
     "metadata": {},
     "output_type": "display_data"
    },
    {
     "name": "stdout",
     "output_type": "stream",
     "text": [
      "\n",
      "epoch 3/5 \t valid : loss 0.45379 - spearmanr 0.41579\n",
      "model not improved for 2 epochs\n",
      "epoch 4: \t Start training...\n"
     ]
    },
    {
     "data": {
      "application/vnd.jupyter.widget-view+json": {
       "model_id": "860fd6f2553d47d6b763cc74998b6704",
       "version_major": 2,
       "version_minor": 0
      },
      "text/plain": [
       "HBox(children=(IntProgress(value=0, max=2736), HTML(value='')))"
      ]
     },
     "metadata": {},
     "output_type": "display_data"
    },
    {
     "name": "stdout",
     "output_type": "stream",
     "text": [
      "\n",
      "epoch 4/5 \t train : loss 0.40646 - spearmanr 0.52435\n",
      "epoch 4: \t Start validation...\n"
     ]
    },
    {
     "data": {
      "application/vnd.jupyter.widget-view+json": {
       "model_id": "b6312d676dec48cfb2d490be25f82924",
       "version_major": 2,
       "version_minor": 0
      },
      "text/plain": [
       "HBox(children=(IntProgress(value=0, max=304), HTML(value='')))"
      ]
     },
     "metadata": {},
     "output_type": "display_data"
    },
    {
     "name": "stdout",
     "output_type": "stream",
     "text": [
      "\n",
      "epoch 4/5 \t valid : loss 0.45402 - spearmanr 0.41543\n",
      "model not improved for 3 epochs\n",
      "TRAINING END: Best score achieved on epoch 1 - 0.41612\n",
      "Starting inference for model: checkpoints/siamese_albert_1_head_fold_1_best.pth\n"
     ]
    },
    {
     "data": {
      "application/vnd.jupyter.widget-view+json": {
       "model_id": "e271644bd0f24ee69c5388af4031d76b",
       "version_major": 2,
       "version_minor": 0
      },
      "text/plain": [
       "HBox(children=(IntProgress(value=0, max=304), HTML(value='')))"
      ]
     },
     "metadata": {},
     "output_type": "display_data"
    },
    {
     "name": "stderr",
     "output_type": "stream",
     "text": [
      "There is currently an upstream reproducibility issue with ALBERT v2 models. Please see https://github.com/google-research/google-research/issues/119 for more information.\n"
     ]
    },
    {
     "name": "stdout",
     "output_type": "stream",
     "text": [
      "\n",
      "Fold 2 started at Thu Feb  6 21:18:29 2020\n"
     ]
    },
    {
     "name": "stderr",
     "output_type": "stream",
     "text": [
      "There is currently an upstream reproducibility issue with ALBERT v2 models. Please see https://github.com/google-research/google-research/issues/119 for more information.\n"
     ]
    },
    {
     "name": "stdout",
     "output_type": "stream",
     "text": [
      "epoch -1: \t Start validation...\n"
     ]
    },
    {
     "data": {
      "application/vnd.jupyter.widget-view+json": {
       "model_id": "47eebc57ff1249ef9582484830aafe32",
       "version_major": 2,
       "version_minor": 0
      },
      "text/plain": [
       "HBox(children=(IntProgress(value=0, max=304), HTML(value='')))"
      ]
     },
     "metadata": {},
     "output_type": "display_data"
    },
    {
     "name": "stdout",
     "output_type": "stream",
     "text": [
      "\n",
      "epoch -1/5 \t valid : loss 0.45325 - spearmanr 0.42509\n",
      "best model: epoch -1 - 0.42509\n",
      "epoch 0: \t Start training...\n"
     ]
    },
    {
     "data": {
      "application/vnd.jupyter.widget-view+json": {
       "model_id": "6c694ddad7a84813a81ed452ae806d48",
       "version_major": 2,
       "version_minor": 0
      },
      "text/plain": [
       "HBox(children=(IntProgress(value=0, max=2736), HTML(value='')))"
      ]
     },
     "metadata": {},
     "output_type": "display_data"
    },
    {
     "name": "stdout",
     "output_type": "stream",
     "text": [
      "\n",
      "epoch 0/5 \t train : loss 0.40956 - spearmanr 0.51659\n",
      "epoch 0: \t Start validation...\n"
     ]
    },
    {
     "data": {
      "application/vnd.jupyter.widget-view+json": {
       "model_id": "4b1ce79452194bfb8c38f190e1389709",
       "version_major": 2,
       "version_minor": 0
      },
      "text/plain": [
       "HBox(children=(IntProgress(value=0, max=304), HTML(value='')))"
      ]
     },
     "metadata": {},
     "output_type": "display_data"
    },
    {
     "name": "stdout",
     "output_type": "stream",
     "text": [
      "\n",
      "epoch 0/5 \t valid : loss 0.45134 - spearmanr 0.42659\n",
      "best model: epoch 0 - 0.42659\n",
      "epoch 1: \t Start training...\n"
     ]
    },
    {
     "data": {
      "application/vnd.jupyter.widget-view+json": {
       "model_id": "dad2a3b125424abcacc5d5567647005a",
       "version_major": 2,
       "version_minor": 0
      },
      "text/plain": [
       "HBox(children=(IntProgress(value=0, max=2736), HTML(value='')))"
      ]
     },
     "metadata": {},
     "output_type": "display_data"
    },
    {
     "name": "stdout",
     "output_type": "stream",
     "text": [
      "\n",
      "epoch 1/5 \t train : loss 0.40707 - spearmanr 0.52121\n",
      "epoch 1: \t Start validation...\n"
     ]
    },
    {
     "data": {
      "application/vnd.jupyter.widget-view+json": {
       "model_id": "ace8421d229f43aca63240b44098fc57",
       "version_major": 2,
       "version_minor": 0
      },
      "text/plain": [
       "HBox(children=(IntProgress(value=0, max=304), HTML(value='')))"
      ]
     },
     "metadata": {},
     "output_type": "display_data"
    },
    {
     "name": "stdout",
     "output_type": "stream",
     "text": [
      "\n",
      "epoch 1/5 \t valid : loss 0.45184 - spearmanr 0.42693\n",
      "best model: epoch 1 - 0.42693\n",
      "epoch 2: \t Start training...\n"
     ]
    },
    {
     "data": {
      "application/vnd.jupyter.widget-view+json": {
       "model_id": "c878452f3421459a9bbff02d904a63fd",
       "version_major": 2,
       "version_minor": 0
      },
      "text/plain": [
       "HBox(children=(IntProgress(value=0, max=2736), HTML(value='')))"
      ]
     },
     "metadata": {},
     "output_type": "display_data"
    },
    {
     "name": "stdout",
     "output_type": "stream",
     "text": [
      "\n",
      "epoch 2/5 \t train : loss 0.40622 - spearmanr 0.52266\n",
      "epoch 2: \t Start validation...\n"
     ]
    },
    {
     "data": {
      "application/vnd.jupyter.widget-view+json": {
       "model_id": "986cfc64ba7a402ab6463f163ab4eb6b",
       "version_major": 2,
       "version_minor": 0
      },
      "text/plain": [
       "HBox(children=(IntProgress(value=0, max=304), HTML(value='')))"
      ]
     },
     "metadata": {},
     "output_type": "display_data"
    },
    {
     "name": "stdout",
     "output_type": "stream",
     "text": [
      "\n",
      "epoch 2/5 \t valid : loss 0.45209 - spearmanr 0.42669\n",
      "model not improved for 1 epochs\n",
      "epoch 3: \t Start training...\n"
     ]
    },
    {
     "data": {
      "application/vnd.jupyter.widget-view+json": {
       "model_id": "854dbf90aebe444aac69535902b1b206",
       "version_major": 2,
       "version_minor": 0
      },
      "text/plain": [
       "HBox(children=(IntProgress(value=0, max=2736), HTML(value='')))"
      ]
     },
     "metadata": {},
     "output_type": "display_data"
    },
    {
     "name": "stdout",
     "output_type": "stream",
     "text": [
      "\n",
      "epoch 3/5 \t train : loss 0.40518 - spearmanr 0.52562\n",
      "epoch 3: \t Start validation...\n"
     ]
    },
    {
     "data": {
      "application/vnd.jupyter.widget-view+json": {
       "model_id": "6bed24edaab54ff6a981ec26e6aa3d92",
       "version_major": 2,
       "version_minor": 0
      },
      "text/plain": [
       "HBox(children=(IntProgress(value=0, max=304), HTML(value='')))"
      ]
     },
     "metadata": {},
     "output_type": "display_data"
    },
    {
     "name": "stdout",
     "output_type": "stream",
     "text": [
      "\n",
      "epoch 3/5 \t valid : loss 0.45264 - spearmanr 0.42657\n",
      "model not improved for 2 epochs\n",
      "epoch 4: \t Start training...\n"
     ]
    },
    {
     "data": {
      "application/vnd.jupyter.widget-view+json": {
       "model_id": "6fbe386a1ee149b68443cdbaeb6a8812",
       "version_major": 2,
       "version_minor": 0
      },
      "text/plain": [
       "HBox(children=(IntProgress(value=0, max=2736), HTML(value='')))"
      ]
     },
     "metadata": {},
     "output_type": "display_data"
    },
    {
     "name": "stdout",
     "output_type": "stream",
     "text": [
      "\n",
      "epoch 4/5 \t train : loss 0.40445 - spearmanr 0.52717\n",
      "epoch 4: \t Start validation...\n"
     ]
    },
    {
     "data": {
      "application/vnd.jupyter.widget-view+json": {
       "model_id": "43f6a92baff7415993eb9dcdb5d569b9",
       "version_major": 2,
       "version_minor": 0
      },
      "text/plain": [
       "HBox(children=(IntProgress(value=0, max=304), HTML(value='')))"
      ]
     },
     "metadata": {},
     "output_type": "display_data"
    },
    {
     "name": "stdout",
     "output_type": "stream",
     "text": [
      "\n",
      "epoch 4/5 \t valid : loss 0.45253 - spearmanr 0.42628\n",
      "model not improved for 3 epochs\n",
      "TRAINING END: Best score achieved on epoch 1 - 0.42693\n",
      "Starting inference for model: checkpoints/siamese_albert_1_head_fold_2_best.pth\n"
     ]
    },
    {
     "data": {
      "application/vnd.jupyter.widget-view+json": {
       "model_id": "fbfa9d57498746a79d9f3a7d5614e3b3",
       "version_major": 2,
       "version_minor": 0
      },
      "text/plain": [
       "HBox(children=(IntProgress(value=0, max=304), HTML(value='')))"
      ]
     },
     "metadata": {},
     "output_type": "display_data"
    },
    {
     "name": "stderr",
     "output_type": "stream",
     "text": [
      "There is currently an upstream reproducibility issue with ALBERT v2 models. Please see https://github.com/google-research/google-research/issues/119 for more information.\n"
     ]
    },
    {
     "name": "stdout",
     "output_type": "stream",
     "text": [
      "\n",
      "Fold 3 started at Thu Feb  6 21:20:32 2020\n"
     ]
    },
    {
     "name": "stderr",
     "output_type": "stream",
     "text": [
      "There is currently an upstream reproducibility issue with ALBERT v2 models. Please see https://github.com/google-research/google-research/issues/119 for more information.\n"
     ]
    },
    {
     "name": "stdout",
     "output_type": "stream",
     "text": [
      "epoch -1: \t Start validation...\n"
     ]
    },
    {
     "data": {
      "application/vnd.jupyter.widget-view+json": {
       "model_id": "2e820b3404af4ea8ac3813a91ec53f26",
       "version_major": 2,
       "version_minor": 0
      },
      "text/plain": [
       "HBox(children=(IntProgress(value=0, max=304), HTML(value='')))"
      ]
     },
     "metadata": {},
     "output_type": "display_data"
    },
    {
     "name": "stdout",
     "output_type": "stream",
     "text": [
      "\n",
      "epoch -1/5 \t valid : loss 0.4561 - spearmanr 0.40607\n",
      "best model: epoch -1 - 0.40607\n",
      "epoch 0: \t Start training...\n"
     ]
    },
    {
     "data": {
      "application/vnd.jupyter.widget-view+json": {
       "model_id": "16e1d1591f1d46c2aad80f629d047cc0",
       "version_major": 2,
       "version_minor": 0
      },
      "text/plain": [
       "HBox(children=(IntProgress(value=0, max=2736), HTML(value='')))"
      ]
     },
     "metadata": {},
     "output_type": "display_data"
    },
    {
     "name": "stdout",
     "output_type": "stream",
     "text": [
      "\n",
      "epoch 0/5 \t train : loss 0.41105 - spearmanr 0.51504\n",
      "epoch 0: \t Start validation...\n"
     ]
    },
    {
     "data": {
      "application/vnd.jupyter.widget-view+json": {
       "model_id": "d06a84da414d4352838329f8234d676a",
       "version_major": 2,
       "version_minor": 0
      },
      "text/plain": [
       "HBox(children=(IntProgress(value=0, max=304), HTML(value='')))"
      ]
     },
     "metadata": {},
     "output_type": "display_data"
    },
    {
     "name": "stdout",
     "output_type": "stream",
     "text": [
      "\n",
      "epoch 0/5 \t valid : loss 0.45423 - spearmanr 0.40816\n",
      "best model: epoch 0 - 0.40816\n",
      "epoch 1: \t Start training...\n"
     ]
    },
    {
     "data": {
      "application/vnd.jupyter.widget-view+json": {
       "model_id": "a1bfac0b17204f0c9a91be63097fc5d3",
       "version_major": 2,
       "version_minor": 0
      },
      "text/plain": [
       "HBox(children=(IntProgress(value=0, max=2736), HTML(value='')))"
      ]
     },
     "metadata": {},
     "output_type": "display_data"
    },
    {
     "name": "stdout",
     "output_type": "stream",
     "text": [
      "\n",
      "epoch 1/5 \t train : loss 0.40864 - spearmanr 0.51899\n",
      "epoch 1: \t Start validation...\n"
     ]
    },
    {
     "data": {
      "application/vnd.jupyter.widget-view+json": {
       "model_id": "beb1d7ae79ac4b0d9c61cdb70baf65fe",
       "version_major": 2,
       "version_minor": 0
      },
      "text/plain": [
       "HBox(children=(IntProgress(value=0, max=304), HTML(value='')))"
      ]
     },
     "metadata": {},
     "output_type": "display_data"
    },
    {
     "name": "stdout",
     "output_type": "stream",
     "text": [
      "\n",
      "epoch 1/5 \t valid : loss 0.45507 - spearmanr 0.40773\n",
      "model not improved for 1 epochs\n",
      "epoch 2: \t Start training...\n"
     ]
    },
    {
     "data": {
      "application/vnd.jupyter.widget-view+json": {
       "model_id": "3d10dc71973f47a0ba79934b07e41542",
       "version_major": 2,
       "version_minor": 0
      },
      "text/plain": [
       "HBox(children=(IntProgress(value=0, max=2736), HTML(value='')))"
      ]
     },
     "metadata": {},
     "output_type": "display_data"
    },
    {
     "name": "stdout",
     "output_type": "stream",
     "text": [
      "\n",
      "epoch 2/5 \t train : loss 0.40743 - spearmanr 0.52142\n",
      "epoch 2: \t Start validation...\n"
     ]
    },
    {
     "data": {
      "application/vnd.jupyter.widget-view+json": {
       "model_id": "3193453edfe740f993ffb3d94d6629dc",
       "version_major": 2,
       "version_minor": 0
      },
      "text/plain": [
       "HBox(children=(IntProgress(value=0, max=304), HTML(value='')))"
      ]
     },
     "metadata": {},
     "output_type": "display_data"
    },
    {
     "name": "stdout",
     "output_type": "stream",
     "text": [
      "\n",
      "epoch 2/5 \t valid : loss 0.4555 - spearmanr 0.40711\n",
      "model not improved for 2 epochs\n",
      "epoch 3: \t Start training...\n"
     ]
    },
    {
     "data": {
      "application/vnd.jupyter.widget-view+json": {
       "model_id": "5222322ee1ba48b58f02630c27ce005b",
       "version_major": 2,
       "version_minor": 0
      },
      "text/plain": [
       "HBox(children=(IntProgress(value=0, max=2736), HTML(value='')))"
      ]
     },
     "metadata": {},
     "output_type": "display_data"
    },
    {
     "name": "stdout",
     "output_type": "stream",
     "text": [
      "\n",
      "epoch 3/5 \t train : loss 0.40657 - spearmanr 0.52331\n",
      "epoch 3: \t Start validation...\n"
     ]
    },
    {
     "data": {
      "application/vnd.jupyter.widget-view+json": {
       "model_id": "3f35c15607fd46928d334fbdce76941c",
       "version_major": 2,
       "version_minor": 0
      },
      "text/plain": [
       "HBox(children=(IntProgress(value=0, max=304), HTML(value='')))"
      ]
     },
     "metadata": {},
     "output_type": "display_data"
    },
    {
     "name": "stdout",
     "output_type": "stream",
     "text": [
      "\n",
      "epoch 3/5 \t valid : loss 0.45576 - spearmanr 0.40694\n",
      "model not improved for 3 epochs\n",
      "epoch 4: \t Start training...\n"
     ]
    },
    {
     "data": {
      "application/vnd.jupyter.widget-view+json": {
       "model_id": "8bec503a9d254164a7e4b2bf0bdafd0b",
       "version_major": 2,
       "version_minor": 0
      },
      "text/plain": [
       "HBox(children=(IntProgress(value=0, max=2736), HTML(value='')))"
      ]
     },
     "metadata": {},
     "output_type": "display_data"
    },
    {
     "name": "stdout",
     "output_type": "stream",
     "text": [
      "\n",
      "epoch 4/5 \t train : loss 0.40594 - spearmanr 0.52462\n",
      "epoch 4: \t Start validation...\n"
     ]
    },
    {
     "data": {
      "application/vnd.jupyter.widget-view+json": {
       "model_id": "c59f990fa5804d35a3a2e6749f97a253",
       "version_major": 2,
       "version_minor": 0
      },
      "text/plain": [
       "HBox(children=(IntProgress(value=0, max=304), HTML(value='')))"
      ]
     },
     "metadata": {},
     "output_type": "display_data"
    },
    {
     "name": "stdout",
     "output_type": "stream",
     "text": [
      "\n",
      "epoch 4/5 \t valid : loss 0.45616 - spearmanr 0.40646\n",
      "model not improved for 4 epochs\n",
      "TRAINING END: Best score achieved on epoch 0 - 0.40816\n",
      "Starting inference for model: checkpoints/siamese_albert_1_head_fold_3_best.pth\n"
     ]
    },
    {
     "data": {
      "application/vnd.jupyter.widget-view+json": {
       "model_id": "e260d2bfa1274354b62bab414f285671",
       "version_major": 2,
       "version_minor": 0
      },
      "text/plain": [
       "HBox(children=(IntProgress(value=0, max=304), HTML(value='')))"
      ]
     },
     "metadata": {},
     "output_type": "display_data"
    },
    {
     "name": "stderr",
     "output_type": "stream",
     "text": [
      "There is currently an upstream reproducibility issue with ALBERT v2 models. Please see https://github.com/google-research/google-research/issues/119 for more information.\n"
     ]
    },
    {
     "name": "stdout",
     "output_type": "stream",
     "text": [
      "\n",
      "Fold 4 started at Thu Feb  6 21:22:34 2020\n"
     ]
    },
    {
     "name": "stderr",
     "output_type": "stream",
     "text": [
      "There is currently an upstream reproducibility issue with ALBERT v2 models. Please see https://github.com/google-research/google-research/issues/119 for more information.\n"
     ]
    },
    {
     "name": "stdout",
     "output_type": "stream",
     "text": [
      "epoch -1: \t Start validation...\n"
     ]
    },
    {
     "data": {
      "application/vnd.jupyter.widget-view+json": {
       "model_id": "9ec88f910d8147deae1011ac13c0d347",
       "version_major": 2,
       "version_minor": 0
      },
      "text/plain": [
       "HBox(children=(IntProgress(value=0, max=304), HTML(value='')))"
      ]
     },
     "metadata": {},
     "output_type": "display_data"
    },
    {
     "name": "stdout",
     "output_type": "stream",
     "text": [
      "\n",
      "epoch -1/5 \t valid : loss 0.45358 - spearmanr 0.40267\n",
      "best model: epoch -1 - 0.40267\n",
      "epoch 0: \t Start training...\n"
     ]
    },
    {
     "data": {
      "application/vnd.jupyter.widget-view+json": {
       "model_id": "7ad22df8cec34cad8da6ea2f841b23b0",
       "version_major": 2,
       "version_minor": 0
      },
      "text/plain": [
       "HBox(children=(IntProgress(value=0, max=2736), HTML(value='')))"
      ]
     },
     "metadata": {},
     "output_type": "display_data"
    },
    {
     "name": "stdout",
     "output_type": "stream",
     "text": [
      "\n",
      "epoch 0/5 \t train : loss 0.40979 - spearmanr 0.51907\n",
      "epoch 0: \t Start validation...\n"
     ]
    },
    {
     "data": {
      "application/vnd.jupyter.widget-view+json": {
       "model_id": "9a5db71aad944e7f8ca85d4a7ec47dc7",
       "version_major": 2,
       "version_minor": 0
      },
      "text/plain": [
       "HBox(children=(IntProgress(value=0, max=304), HTML(value='')))"
      ]
     },
     "metadata": {},
     "output_type": "display_data"
    },
    {
     "name": "stdout",
     "output_type": "stream",
     "text": [
      "\n",
      "epoch 0/5 \t valid : loss 0.45348 - spearmanr 0.40375\n",
      "best model: epoch 0 - 0.40375\n",
      "epoch 1: \t Start training...\n"
     ]
    },
    {
     "data": {
      "application/vnd.jupyter.widget-view+json": {
       "model_id": "818930045a754ce9a26cf9600857aa31",
       "version_major": 2,
       "version_minor": 0
      },
      "text/plain": [
       "HBox(children=(IntProgress(value=0, max=2736), HTML(value='')))"
      ]
     },
     "metadata": {},
     "output_type": "display_data"
    },
    {
     "name": "stdout",
     "output_type": "stream",
     "text": [
      "\n",
      "epoch 1/5 \t train : loss 0.40737 - spearmanr 0.52312\n",
      "epoch 1: \t Start validation...\n"
     ]
    },
    {
     "data": {
      "application/vnd.jupyter.widget-view+json": {
       "model_id": "32d3a070b47746d0aea58a9caf8fcf78",
       "version_major": 2,
       "version_minor": 0
      },
      "text/plain": [
       "HBox(children=(IntProgress(value=0, max=304), HTML(value='')))"
      ]
     },
     "metadata": {},
     "output_type": "display_data"
    },
    {
     "name": "stdout",
     "output_type": "stream",
     "text": [
      "\n",
      "epoch 1/5 \t valid : loss 0.45433 - spearmanr 0.40365\n",
      "model not improved for 1 epochs\n",
      "epoch 2: \t Start training...\n"
     ]
    },
    {
     "data": {
      "application/vnd.jupyter.widget-view+json": {
       "model_id": "ce6c7e6baf684fa683b8ea28ba7005e2",
       "version_major": 2,
       "version_minor": 0
      },
      "text/plain": [
       "HBox(children=(IntProgress(value=0, max=2736), HTML(value='')))"
      ]
     },
     "metadata": {},
     "output_type": "display_data"
    },
    {
     "name": "stdout",
     "output_type": "stream",
     "text": [
      "\n",
      "epoch 2/5 \t train : loss 0.40607 - spearmanr 0.52534\n",
      "epoch 2: \t Start validation...\n"
     ]
    },
    {
     "data": {
      "application/vnd.jupyter.widget-view+json": {
       "model_id": "4f292fa7dded4c32969c7c3c5b980245",
       "version_major": 2,
       "version_minor": 0
      },
      "text/plain": [
       "HBox(children=(IntProgress(value=0, max=304), HTML(value='')))"
      ]
     },
     "metadata": {},
     "output_type": "display_data"
    },
    {
     "name": "stdout",
     "output_type": "stream",
     "text": [
      "\n",
      "epoch 2/5 \t valid : loss 0.4546 - spearmanr 0.40367\n",
      "model not improved for 2 epochs\n",
      "epoch 3: \t Start training...\n"
     ]
    },
    {
     "data": {
      "application/vnd.jupyter.widget-view+json": {
       "model_id": "406ad8b2bcd244be83d6ca28ed48a712",
       "version_major": 2,
       "version_minor": 0
      },
      "text/plain": [
       "HBox(children=(IntProgress(value=0, max=2736), HTML(value='')))"
      ]
     },
     "metadata": {},
     "output_type": "display_data"
    },
    {
     "name": "stdout",
     "output_type": "stream",
     "text": [
      "\n",
      "epoch 3/5 \t train : loss 0.40551 - spearmanr 0.52608\n",
      "epoch 3: \t Start validation...\n"
     ]
    },
    {
     "data": {
      "application/vnd.jupyter.widget-view+json": {
       "model_id": "8bbd537ae762463aa8266ece599af14d",
       "version_major": 2,
       "version_minor": 0
      },
      "text/plain": [
       "HBox(children=(IntProgress(value=0, max=304), HTML(value='')))"
      ]
     },
     "metadata": {},
     "output_type": "display_data"
    },
    {
     "name": "stdout",
     "output_type": "stream",
     "text": [
      "\n",
      "epoch 3/5 \t valid : loss 0.45493 - spearmanr 0.40361\n",
      "model not improved for 3 epochs\n",
      "epoch 4: \t Start training...\n"
     ]
    },
    {
     "data": {
      "application/vnd.jupyter.widget-view+json": {
       "model_id": "fafd7403f7e24356954d21f132f95842",
       "version_major": 2,
       "version_minor": 0
      },
      "text/plain": [
       "HBox(children=(IntProgress(value=0, max=2736), HTML(value='')))"
      ]
     },
     "metadata": {},
     "output_type": "display_data"
    },
    {
     "name": "stdout",
     "output_type": "stream",
     "text": [
      "\n",
      "epoch 4/5 \t train : loss 0.40423 - spearmanr 0.52953\n",
      "epoch 4: \t Start validation...\n"
     ]
    },
    {
     "data": {
      "application/vnd.jupyter.widget-view+json": {
       "model_id": "8cf2aa8817c74301a2ea9cc45a3bf02d",
       "version_major": 2,
       "version_minor": 0
      },
      "text/plain": [
       "HBox(children=(IntProgress(value=0, max=304), HTML(value='')))"
      ]
     },
     "metadata": {},
     "output_type": "display_data"
    },
    {
     "name": "stdout",
     "output_type": "stream",
     "text": [
      "\n",
      "epoch 4/5 \t valid : loss 0.45529 - spearmanr 0.40374\n",
      "model not improved for 4 epochs\n",
      "TRAINING END: Best score achieved on epoch 0 - 0.40375\n",
      "Starting inference for model: checkpoints/siamese_albert_1_head_fold_4_best.pth\n"
     ]
    },
    {
     "data": {
      "application/vnd.jupyter.widget-view+json": {
       "model_id": "a6b253453ae34c9daef9cd899f1fd0ea",
       "version_major": 2,
       "version_minor": 0
      },
      "text/plain": [
       "HBox(children=(IntProgress(value=0, max=304), HTML(value='')))"
      ]
     },
     "metadata": {},
     "output_type": "display_data"
    },
    {
     "name": "stderr",
     "output_type": "stream",
     "text": [
      "There is currently an upstream reproducibility issue with ALBERT v2 models. Please see https://github.com/google-research/google-research/issues/119 for more information.\n"
     ]
    },
    {
     "name": "stdout",
     "output_type": "stream",
     "text": [
      "\n",
      "Fold 5 started at Thu Feb  6 21:24:36 2020\n"
     ]
    },
    {
     "name": "stderr",
     "output_type": "stream",
     "text": [
      "There is currently an upstream reproducibility issue with ALBERT v2 models. Please see https://github.com/google-research/google-research/issues/119 for more information.\n"
     ]
    },
    {
     "name": "stdout",
     "output_type": "stream",
     "text": [
      "epoch -1: \t Start validation...\n"
     ]
    },
    {
     "data": {
      "application/vnd.jupyter.widget-view+json": {
       "model_id": "305730104fee42bc9b9459e40d587d60",
       "version_major": 2,
       "version_minor": 0
      },
      "text/plain": [
       "HBox(children=(IntProgress(value=0, max=304), HTML(value='')))"
      ]
     },
     "metadata": {},
     "output_type": "display_data"
    },
    {
     "name": "stdout",
     "output_type": "stream",
     "text": [
      "\n",
      "epoch -1/5 \t valid : loss 0.4547 - spearmanr 0.3995\n",
      "best model: epoch -1 - 0.3995\n",
      "epoch 0: \t Start training...\n"
     ]
    },
    {
     "data": {
      "application/vnd.jupyter.widget-view+json": {
       "model_id": "6599e2ded9ea417b8f7c11c18c228bc9",
       "version_major": 2,
       "version_minor": 0
      },
      "text/plain": [
       "HBox(children=(IntProgress(value=0, max=2736), HTML(value='')))"
      ]
     },
     "metadata": {},
     "output_type": "display_data"
    },
    {
     "name": "stdout",
     "output_type": "stream",
     "text": [
      "\n",
      "epoch 0/5 \t train : loss 0.40069 - spearmanr 0.53636\n",
      "epoch 0: \t Start validation...\n"
     ]
    },
    {
     "data": {
      "application/vnd.jupyter.widget-view+json": {
       "model_id": "88d9ddfa518748c8a2ef52490cb0dddd",
       "version_major": 2,
       "version_minor": 0
      },
      "text/plain": [
       "HBox(children=(IntProgress(value=0, max=304), HTML(value='')))"
      ]
     },
     "metadata": {},
     "output_type": "display_data"
    },
    {
     "name": "stdout",
     "output_type": "stream",
     "text": [
      "\n",
      "epoch 0/5 \t valid : loss 0.45561 - spearmanr 0.39949\n",
      "model not improved for 1 epochs\n",
      "epoch 1: \t Start training...\n"
     ]
    },
    {
     "data": {
      "application/vnd.jupyter.widget-view+json": {
       "model_id": "a243f675ff724ed9a328e8529ef7d04b",
       "version_major": 2,
       "version_minor": 0
      },
      "text/plain": [
       "HBox(children=(IntProgress(value=0, max=2736), HTML(value='')))"
      ]
     },
     "metadata": {},
     "output_type": "display_data"
    },
    {
     "name": "stdout",
     "output_type": "stream",
     "text": [
      "\n",
      "epoch 1/5 \t train : loss 0.40018 - spearmanr 0.53809\n",
      "epoch 1: \t Start validation...\n"
     ]
    },
    {
     "data": {
      "application/vnd.jupyter.widget-view+json": {
       "model_id": "272019efc62d443fa2b0d1dbc5090948",
       "version_major": 2,
       "version_minor": 0
      },
      "text/plain": [
       "HBox(children=(IntProgress(value=0, max=304), HTML(value='')))"
      ]
     },
     "metadata": {},
     "output_type": "display_data"
    },
    {
     "name": "stdout",
     "output_type": "stream",
     "text": [
      "\n",
      "epoch 1/5 \t valid : loss 0.45625 - spearmanr 0.39906\n",
      "model not improved for 2 epochs\n",
      "epoch 2: \t Start training...\n"
     ]
    },
    {
     "data": {
      "application/vnd.jupyter.widget-view+json": {
       "model_id": "299fd06436c6426e84ba661e2990eeea",
       "version_major": 2,
       "version_minor": 0
      },
      "text/plain": [
       "HBox(children=(IntProgress(value=0, max=2736), HTML(value='')))"
      ]
     },
     "metadata": {},
     "output_type": "display_data"
    },
    {
     "name": "stdout",
     "output_type": "stream",
     "text": [
      "\n",
      "epoch 2/5 \t train : loss 0.39952 - spearmanr 0.53941\n",
      "epoch 2: \t Start validation...\n"
     ]
    },
    {
     "data": {
      "application/vnd.jupyter.widget-view+json": {
       "model_id": "89694148036b40738977fb637aafdf7d",
       "version_major": 2,
       "version_minor": 0
      },
      "text/plain": [
       "HBox(children=(IntProgress(value=0, max=304), HTML(value='')))"
      ]
     },
     "metadata": {},
     "output_type": "display_data"
    },
    {
     "name": "stdout",
     "output_type": "stream",
     "text": [
      "\n",
      "epoch 2/5 \t valid : loss 0.45658 - spearmanr 0.39881\n",
      "model not improved for 3 epochs\n",
      "epoch 3: \t Start training...\n"
     ]
    },
    {
     "data": {
      "application/vnd.jupyter.widget-view+json": {
       "model_id": "a0e7dff7a76b408d996771e70d13c0f7",
       "version_major": 2,
       "version_minor": 0
      },
      "text/plain": [
       "HBox(children=(IntProgress(value=0, max=2736), HTML(value='')))"
      ]
     },
     "metadata": {},
     "output_type": "display_data"
    },
    {
     "name": "stdout",
     "output_type": "stream",
     "text": [
      "\n",
      "epoch 3/5 \t train : loss 0.39881 - spearmanr 0.54053\n",
      "epoch 3: \t Start validation...\n"
     ]
    },
    {
     "data": {
      "application/vnd.jupyter.widget-view+json": {
       "model_id": "606a7c1995e74f2b9a931d3097a249fb",
       "version_major": 2,
       "version_minor": 0
      },
      "text/plain": [
       "HBox(children=(IntProgress(value=0, max=304), HTML(value='')))"
      ]
     },
     "metadata": {},
     "output_type": "display_data"
    },
    {
     "name": "stdout",
     "output_type": "stream",
     "text": [
      "\n",
      "epoch 3/5 \t valid : loss 0.45655 - spearmanr 0.39849\n",
      "model not improved for 4 epochs\n",
      "epoch 4: \t Start training...\n"
     ]
    },
    {
     "data": {
      "application/vnd.jupyter.widget-view+json": {
       "model_id": "cb27e25ad31345d99d5484799591004c",
       "version_major": 2,
       "version_minor": 0
      },
      "text/plain": [
       "HBox(children=(IntProgress(value=0, max=2736), HTML(value='')))"
      ]
     },
     "metadata": {},
     "output_type": "display_data"
    },
    {
     "name": "stdout",
     "output_type": "stream",
     "text": [
      "\n",
      "epoch 4/5 \t train : loss 0.39845 - spearmanr 0.54169\n",
      "epoch 4: \t Start validation...\n"
     ]
    },
    {
     "data": {
      "application/vnd.jupyter.widget-view+json": {
       "model_id": "70e155927cef4cc0af319838eb7a38ce",
       "version_major": 2,
       "version_minor": 0
      },
      "text/plain": [
       "HBox(children=(IntProgress(value=0, max=304), HTML(value='')))"
      ]
     },
     "metadata": {},
     "output_type": "display_data"
    },
    {
     "name": "stdout",
     "output_type": "stream",
     "text": [
      "\n",
      "epoch 4/5 \t valid : loss 0.45695 - spearmanr 0.39824\n",
      "model not improved for 5 epochs\n",
      "TRAINING END: Best score achieved on epoch -1 - 0.39950\n",
      "Starting inference for model: checkpoints/siamese_albert_1_head_fold_5_best.pth\n"
     ]
    },
    {
     "data": {
      "application/vnd.jupyter.widget-view+json": {
       "model_id": "e67ebb5df4c04b13b43006e6e38de5b2",
       "version_major": 2,
       "version_minor": 0
      },
      "text/plain": [
       "HBox(children=(IntProgress(value=0, max=304), HTML(value='')))"
      ]
     },
     "metadata": {},
     "output_type": "display_data"
    },
    {
     "name": "stderr",
     "output_type": "stream",
     "text": [
      "There is currently an upstream reproducibility issue with ALBERT v2 models. Please see https://github.com/google-research/google-research/issues/119 for more information.\n"
     ]
    },
    {
     "name": "stdout",
     "output_type": "stream",
     "text": [
      "\n",
      "Fold 6 started at Thu Feb  6 21:26:38 2020\n"
     ]
    },
    {
     "name": "stderr",
     "output_type": "stream",
     "text": [
      "There is currently an upstream reproducibility issue with ALBERT v2 models. Please see https://github.com/google-research/google-research/issues/119 for more information.\n"
     ]
    },
    {
     "name": "stdout",
     "output_type": "stream",
     "text": [
      "epoch -1: \t Start validation...\n"
     ]
    },
    {
     "data": {
      "application/vnd.jupyter.widget-view+json": {
       "model_id": "a0c4edb7277b42a88f4be9682a9f1736",
       "version_major": 2,
       "version_minor": 0
      },
      "text/plain": [
       "HBox(children=(IntProgress(value=0, max=304), HTML(value='')))"
      ]
     },
     "metadata": {},
     "output_type": "display_data"
    },
    {
     "name": "stdout",
     "output_type": "stream",
     "text": [
      "\n",
      "epoch -1/5 \t valid : loss 0.45299 - spearmanr 0.39648\n",
      "best model: epoch -1 - 0.39648\n",
      "epoch 0: \t Start training...\n"
     ]
    },
    {
     "data": {
      "application/vnd.jupyter.widget-view+json": {
       "model_id": "346348c02568487485cb94f57f15c2c5",
       "version_major": 2,
       "version_minor": 0
      },
      "text/plain": [
       "HBox(children=(IntProgress(value=0, max=2736), HTML(value='')))"
      ]
     },
     "metadata": {},
     "output_type": "display_data"
    },
    {
     "name": "stdout",
     "output_type": "stream",
     "text": [
      "\n",
      "epoch 0/5 \t train : loss 0.39788 - spearmanr 0.54465\n",
      "epoch 0: \t Start validation...\n"
     ]
    },
    {
     "data": {
      "application/vnd.jupyter.widget-view+json": {
       "model_id": "000a734ca173432b8bc06e86da469cbc",
       "version_major": 2,
       "version_minor": 0
      },
      "text/plain": [
       "HBox(children=(IntProgress(value=0, max=304), HTML(value='')))"
      ]
     },
     "metadata": {},
     "output_type": "display_data"
    },
    {
     "name": "stdout",
     "output_type": "stream",
     "text": [
      "\n",
      "epoch 0/5 \t valid : loss 0.45382 - spearmanr 0.39639\n",
      "model not improved for 1 epochs\n",
      "epoch 1: \t Start training...\n"
     ]
    },
    {
     "data": {
      "application/vnd.jupyter.widget-view+json": {
       "model_id": "a39218c469814bd7b6ce1f7e1f4f4a68",
       "version_major": 2,
       "version_minor": 0
      },
      "text/plain": [
       "HBox(children=(IntProgress(value=0, max=2736), HTML(value='')))"
      ]
     },
     "metadata": {},
     "output_type": "display_data"
    },
    {
     "name": "stdout",
     "output_type": "stream",
     "text": [
      "\n",
      "epoch 1/5 \t train : loss 0.39694 - spearmanr 0.5461\n",
      "epoch 1: \t Start validation...\n"
     ]
    },
    {
     "data": {
      "application/vnd.jupyter.widget-view+json": {
       "model_id": "18c087e7d947404ea195afb0084df7b4",
       "version_major": 2,
       "version_minor": 0
      },
      "text/plain": [
       "HBox(children=(IntProgress(value=0, max=304), HTML(value='')))"
      ]
     },
     "metadata": {},
     "output_type": "display_data"
    },
    {
     "name": "stdout",
     "output_type": "stream",
     "text": [
      "\n",
      "epoch 1/5 \t valid : loss 0.45437 - spearmanr 0.39608\n",
      "model not improved for 2 epochs\n",
      "epoch 2: \t Start training...\n"
     ]
    },
    {
     "data": {
      "application/vnd.jupyter.widget-view+json": {
       "model_id": "90585ad03c74418892e2750ee353fd80",
       "version_major": 2,
       "version_minor": 0
      },
      "text/plain": [
       "HBox(children=(IntProgress(value=0, max=2736), HTML(value='')))"
      ]
     },
     "metadata": {},
     "output_type": "display_data"
    },
    {
     "name": "stdout",
     "output_type": "stream",
     "text": [
      "\n",
      "epoch 2/5 \t train : loss 0.39642 - spearmanr 0.54744\n",
      "epoch 2: \t Start validation...\n"
     ]
    },
    {
     "data": {
      "application/vnd.jupyter.widget-view+json": {
       "model_id": "f99265ab3be847f28d368a3a18fd08ca",
       "version_major": 2,
       "version_minor": 0
      },
      "text/plain": [
       "HBox(children=(IntProgress(value=0, max=304), HTML(value='')))"
      ]
     },
     "metadata": {},
     "output_type": "display_data"
    },
    {
     "name": "stdout",
     "output_type": "stream",
     "text": [
      "\n",
      "epoch 2/5 \t valid : loss 0.4547 - spearmanr 0.39599\n",
      "model not improved for 3 epochs\n",
      "epoch 3: \t Start training...\n"
     ]
    },
    {
     "data": {
      "application/vnd.jupyter.widget-view+json": {
       "model_id": "a965b7bf15ca4ecda81bdecb827b80a1",
       "version_major": 2,
       "version_minor": 0
      },
      "text/plain": [
       "HBox(children=(IntProgress(value=0, max=2736), HTML(value='')))"
      ]
     },
     "metadata": {},
     "output_type": "display_data"
    },
    {
     "name": "stdout",
     "output_type": "stream",
     "text": [
      "\n",
      "epoch 3/5 \t train : loss 0.39575 - spearmanr 0.54897\n",
      "epoch 3: \t Start validation...\n"
     ]
    },
    {
     "data": {
      "application/vnd.jupyter.widget-view+json": {
       "model_id": "7399e0c1864f44ebbe417b34e10104b0",
       "version_major": 2,
       "version_minor": 0
      },
      "text/plain": [
       "HBox(children=(IntProgress(value=0, max=304), HTML(value='')))"
      ]
     },
     "metadata": {},
     "output_type": "display_data"
    },
    {
     "name": "stdout",
     "output_type": "stream",
     "text": [
      "\n",
      "epoch 3/5 \t valid : loss 0.45517 - spearmanr 0.3957\n",
      "model not improved for 4 epochs\n",
      "epoch 4: \t Start training...\n"
     ]
    },
    {
     "data": {
      "application/vnd.jupyter.widget-view+json": {
       "model_id": "3f5154fc8937492ea6fe4d4b522c9df9",
       "version_major": 2,
       "version_minor": 0
      },
      "text/plain": [
       "HBox(children=(IntProgress(value=0, max=2736), HTML(value='')))"
      ]
     },
     "metadata": {},
     "output_type": "display_data"
    },
    {
     "name": "stdout",
     "output_type": "stream",
     "text": [
      "\n",
      "epoch 4/5 \t train : loss 0.39503 - spearmanr 0.5506\n",
      "epoch 4: \t Start validation...\n"
     ]
    },
    {
     "data": {
      "application/vnd.jupyter.widget-view+json": {
       "model_id": "b733a3bee8d64e6bacdf2cf5e9dd9639",
       "version_major": 2,
       "version_minor": 0
      },
      "text/plain": [
       "HBox(children=(IntProgress(value=0, max=304), HTML(value='')))"
      ]
     },
     "metadata": {},
     "output_type": "display_data"
    },
    {
     "name": "stdout",
     "output_type": "stream",
     "text": [
      "\n",
      "epoch 4/5 \t valid : loss 0.45553 - spearmanr 0.39515\n",
      "model not improved for 5 epochs\n",
      "TRAINING END: Best score achieved on epoch -1 - 0.39648\n",
      "Starting inference for model: checkpoints/siamese_albert_1_head_fold_6_best.pth\n"
     ]
    },
    {
     "data": {
      "application/vnd.jupyter.widget-view+json": {
       "model_id": "46f38623bd8e4472974fb8e8de34023d",
       "version_major": 2,
       "version_minor": 0
      },
      "text/plain": [
       "HBox(children=(IntProgress(value=0, max=304), HTML(value='')))"
      ]
     },
     "metadata": {},
     "output_type": "display_data"
    },
    {
     "name": "stderr",
     "output_type": "stream",
     "text": [
      "There is currently an upstream reproducibility issue with ALBERT v2 models. Please see https://github.com/google-research/google-research/issues/119 for more information.\n"
     ]
    },
    {
     "name": "stdout",
     "output_type": "stream",
     "text": [
      "\n",
      "Fold 7 started at Thu Feb  6 21:28:44 2020\n"
     ]
    },
    {
     "name": "stderr",
     "output_type": "stream",
     "text": [
      "There is currently an upstream reproducibility issue with ALBERT v2 models. Please see https://github.com/google-research/google-research/issues/119 for more information.\n"
     ]
    },
    {
     "name": "stdout",
     "output_type": "stream",
     "text": [
      "epoch -1: \t Start validation...\n"
     ]
    },
    {
     "data": {
      "application/vnd.jupyter.widget-view+json": {
       "model_id": "be1e4dede626412d83a02ad703b96a8c",
       "version_major": 2,
       "version_minor": 0
      },
      "text/plain": [
       "HBox(children=(IntProgress(value=0, max=304), HTML(value='')))"
      ]
     },
     "metadata": {},
     "output_type": "display_data"
    },
    {
     "name": "stdout",
     "output_type": "stream",
     "text": [
      "\n",
      "epoch -1/5 \t valid : loss 0.45807 - spearmanr 0.4161\n",
      "best model: epoch -1 - 0.4161\n",
      "epoch 0: \t Start training...\n"
     ]
    },
    {
     "data": {
      "application/vnd.jupyter.widget-view+json": {
       "model_id": "3e125bd43f5847b085d1a23fc54242f9",
       "version_major": 2,
       "version_minor": 0
      },
      "text/plain": [
       "HBox(children=(IntProgress(value=0, max=2736), HTML(value='')))"
      ]
     },
     "metadata": {},
     "output_type": "display_data"
    },
    {
     "name": "stdout",
     "output_type": "stream",
     "text": [
      "\n",
      "epoch 0/5 \t train : loss 0.39701 - spearmanr 0.54347\n",
      "epoch 0: \t Start validation...\n"
     ]
    },
    {
     "data": {
      "application/vnd.jupyter.widget-view+json": {
       "model_id": "fa3d92830d104f0fb2324c11e36016e4",
       "version_major": 2,
       "version_minor": 0
      },
      "text/plain": [
       "HBox(children=(IntProgress(value=0, max=304), HTML(value='')))"
      ]
     },
     "metadata": {},
     "output_type": "display_data"
    },
    {
     "name": "stdout",
     "output_type": "stream",
     "text": [
      "\n",
      "epoch 0/5 \t valid : loss 0.45907 - spearmanr 0.41639\n",
      "best model: epoch 0 - 0.41639\n",
      "epoch 1: \t Start training...\n"
     ]
    },
    {
     "data": {
      "application/vnd.jupyter.widget-view+json": {
       "model_id": "4b11beafbad7454eabffb277d163a432",
       "version_major": 2,
       "version_minor": 0
      },
      "text/plain": [
       "HBox(children=(IntProgress(value=0, max=2736), HTML(value='')))"
      ]
     },
     "metadata": {},
     "output_type": "display_data"
    },
    {
     "name": "stdout",
     "output_type": "stream",
     "text": [
      "\n",
      "epoch 1/5 \t train : loss 0.39589 - spearmanr 0.5457\n",
      "epoch 1: \t Start validation...\n"
     ]
    },
    {
     "data": {
      "application/vnd.jupyter.widget-view+json": {
       "model_id": "4f750b8b64ef4956add6ac74086047ce",
       "version_major": 2,
       "version_minor": 0
      },
      "text/plain": [
       "HBox(children=(IntProgress(value=0, max=304), HTML(value='')))"
      ]
     },
     "metadata": {},
     "output_type": "display_data"
    },
    {
     "name": "stdout",
     "output_type": "stream",
     "text": [
      "\n",
      "epoch 1/5 \t valid : loss 0.45941 - spearmanr 0.4161\n",
      "model not improved for 1 epochs\n",
      "epoch 2: \t Start training...\n"
     ]
    },
    {
     "data": {
      "application/vnd.jupyter.widget-view+json": {
       "model_id": "bb247b04b26540028c9a6f7c8f58b07d",
       "version_major": 2,
       "version_minor": 0
      },
      "text/plain": [
       "HBox(children=(IntProgress(value=0, max=2736), HTML(value='')))"
      ]
     },
     "metadata": {},
     "output_type": "display_data"
    },
    {
     "name": "stdout",
     "output_type": "stream",
     "text": [
      "\n",
      "epoch 2/5 \t train : loss 0.39512 - spearmanr 0.54739\n",
      "epoch 2: \t Start validation...\n"
     ]
    },
    {
     "data": {
      "application/vnd.jupyter.widget-view+json": {
       "model_id": "a506c58771924d98b3fe6430f30e3057",
       "version_major": 2,
       "version_minor": 0
      },
      "text/plain": [
       "HBox(children=(IntProgress(value=0, max=304), HTML(value='')))"
      ]
     },
     "metadata": {},
     "output_type": "display_data"
    },
    {
     "name": "stdout",
     "output_type": "stream",
     "text": [
      "\n",
      "epoch 2/5 \t valid : loss 0.4597 - spearmanr 0.41588\n",
      "model not improved for 2 epochs\n",
      "epoch 3: \t Start training...\n"
     ]
    },
    {
     "data": {
      "application/vnd.jupyter.widget-view+json": {
       "model_id": "da3262a344244d9bb167039785ecacb5",
       "version_major": 2,
       "version_minor": 0
      },
      "text/plain": [
       "HBox(children=(IntProgress(value=0, max=2736), HTML(value='')))"
      ]
     },
     "metadata": {},
     "output_type": "display_data"
    },
    {
     "name": "stdout",
     "output_type": "stream",
     "text": [
      "\n",
      "epoch 3/5 \t train : loss 0.39466 - spearmanr 0.54824\n",
      "epoch 3: \t Start validation...\n"
     ]
    },
    {
     "data": {
      "application/vnd.jupyter.widget-view+json": {
       "model_id": "0e5888e2c03d4febb8bb103df718abd2",
       "version_major": 2,
       "version_minor": 0
      },
      "text/plain": [
       "HBox(children=(IntProgress(value=0, max=304), HTML(value='')))"
      ]
     },
     "metadata": {},
     "output_type": "display_data"
    },
    {
     "name": "stdout",
     "output_type": "stream",
     "text": [
      "\n",
      "epoch 3/5 \t valid : loss 0.46003 - spearmanr 0.41553\n",
      "model not improved for 3 epochs\n",
      "epoch 4: \t Start training...\n"
     ]
    },
    {
     "data": {
      "application/vnd.jupyter.widget-view+json": {
       "model_id": "5f2e6f08f6e64848b9af117e9ff3d984",
       "version_major": 2,
       "version_minor": 0
      },
      "text/plain": [
       "HBox(children=(IntProgress(value=0, max=2736), HTML(value='')))"
      ]
     },
     "metadata": {},
     "output_type": "display_data"
    },
    {
     "name": "stdout",
     "output_type": "stream",
     "text": [
      "\n",
      "epoch 4/5 \t train : loss 0.39392 - spearmanr 0.5496\n",
      "epoch 4: \t Start validation...\n"
     ]
    },
    {
     "data": {
      "application/vnd.jupyter.widget-view+json": {
       "model_id": "fa713154285f4a1ca96b59d658dfcade",
       "version_major": 2,
       "version_minor": 0
      },
      "text/plain": [
       "HBox(children=(IntProgress(value=0, max=304), HTML(value='')))"
      ]
     },
     "metadata": {},
     "output_type": "display_data"
    },
    {
     "name": "stdout",
     "output_type": "stream",
     "text": [
      "\n",
      "epoch 4/5 \t valid : loss 0.46023 - spearmanr 0.41529\n",
      "model not improved for 4 epochs\n",
      "TRAINING END: Best score achieved on epoch 0 - 0.41639\n",
      "Starting inference for model: checkpoints/siamese_albert_1_head_fold_7_best.pth\n"
     ]
    },
    {
     "data": {
      "application/vnd.jupyter.widget-view+json": {
       "model_id": "bbbaca5620a04794a79ef86a841f9113",
       "version_major": 2,
       "version_minor": 0
      },
      "text/plain": [
       "HBox(children=(IntProgress(value=0, max=304), HTML(value='')))"
      ]
     },
     "metadata": {},
     "output_type": "display_data"
    },
    {
     "name": "stderr",
     "output_type": "stream",
     "text": [
      "There is currently an upstream reproducibility issue with ALBERT v2 models. Please see https://github.com/google-research/google-research/issues/119 for more information.\n"
     ]
    },
    {
     "name": "stdout",
     "output_type": "stream",
     "text": [
      "\n",
      "Fold 8 started at Thu Feb  6 21:30:49 2020\n"
     ]
    },
    {
     "name": "stderr",
     "output_type": "stream",
     "text": [
      "There is currently an upstream reproducibility issue with ALBERT v2 models. Please see https://github.com/google-research/google-research/issues/119 for more information.\n"
     ]
    },
    {
     "name": "stdout",
     "output_type": "stream",
     "text": [
      "epoch -1: \t Start validation...\n"
     ]
    },
    {
     "data": {
      "application/vnd.jupyter.widget-view+json": {
       "model_id": "464563863d454c298bfa83dd8a291782",
       "version_major": 2,
       "version_minor": 0
      },
      "text/plain": [
       "HBox(children=(IntProgress(value=0, max=304), HTML(value='')))"
      ]
     },
     "metadata": {},
     "output_type": "display_data"
    },
    {
     "name": "stdout",
     "output_type": "stream",
     "text": [
      "\n",
      "epoch -1/5 \t valid : loss 0.4595 - spearmanr 0.41896\n",
      "best model: epoch -1 - 0.41896\n",
      "epoch 0: \t Start training...\n"
     ]
    },
    {
     "data": {
      "application/vnd.jupyter.widget-view+json": {
       "model_id": "346fc387cca7442086c997b322e4edf8",
       "version_major": 2,
       "version_minor": 0
      },
      "text/plain": [
       "HBox(children=(IntProgress(value=0, max=2736), HTML(value='')))"
      ]
     },
     "metadata": {},
     "output_type": "display_data"
    },
    {
     "name": "stdout",
     "output_type": "stream",
     "text": [
      "\n",
      "epoch 0/5 \t train : loss 0.4086 - spearmanr 0.51744\n",
      "epoch 0: \t Start validation...\n"
     ]
    },
    {
     "data": {
      "application/vnd.jupyter.widget-view+json": {
       "model_id": "5fc4f2dc515e48998c1f1b2f947129c4",
       "version_major": 2,
       "version_minor": 0
      },
      "text/plain": [
       "HBox(children=(IntProgress(value=0, max=304), HTML(value='')))"
      ]
     },
     "metadata": {},
     "output_type": "display_data"
    },
    {
     "name": "stdout",
     "output_type": "stream",
     "text": [
      "\n",
      "epoch 0/5 \t valid : loss 0.46004 - spearmanr 0.42031\n",
      "best model: epoch 0 - 0.42031\n",
      "epoch 1: \t Start training...\n"
     ]
    },
    {
     "data": {
      "application/vnd.jupyter.widget-view+json": {
       "model_id": "564bda1c3b6b4bb397114fbf06135be4",
       "version_major": 2,
       "version_minor": 0
      },
      "text/plain": [
       "HBox(children=(IntProgress(value=0, max=2736), HTML(value='')))"
      ]
     },
     "metadata": {},
     "output_type": "display_data"
    },
    {
     "name": "stdout",
     "output_type": "stream",
     "text": [
      "\n",
      "epoch 1/5 \t train : loss 0.40651 - spearmanr 0.52098\n",
      "epoch 1: \t Start validation...\n"
     ]
    },
    {
     "data": {
      "application/vnd.jupyter.widget-view+json": {
       "model_id": "359f7166de0944039389dd986d48c607",
       "version_major": 2,
       "version_minor": 0
      },
      "text/plain": [
       "HBox(children=(IntProgress(value=0, max=304), HTML(value='')))"
      ]
     },
     "metadata": {},
     "output_type": "display_data"
    },
    {
     "name": "stdout",
     "output_type": "stream",
     "text": [
      "\n",
      "epoch 1/5 \t valid : loss 0.46048 - spearmanr 0.42\n",
      "model not improved for 1 epochs\n",
      "epoch 2: \t Start training...\n"
     ]
    },
    {
     "data": {
      "application/vnd.jupyter.widget-view+json": {
       "model_id": "17ab4d1b608949a4979e94feb5102fcb",
       "version_major": 2,
       "version_minor": 0
      },
      "text/plain": [
       "HBox(children=(IntProgress(value=0, max=2736), HTML(value='')))"
      ]
     },
     "metadata": {},
     "output_type": "display_data"
    },
    {
     "name": "stdout",
     "output_type": "stream",
     "text": [
      "\n",
      "epoch 2/5 \t train : loss 0.40552 - spearmanr 0.52345\n",
      "epoch 2: \t Start validation...\n"
     ]
    },
    {
     "data": {
      "application/vnd.jupyter.widget-view+json": {
       "model_id": "1ada532ce2eb48ed8110b81e9f2a3c14",
       "version_major": 2,
       "version_minor": 0
      },
      "text/plain": [
       "HBox(children=(IntProgress(value=0, max=304), HTML(value='')))"
      ]
     },
     "metadata": {},
     "output_type": "display_data"
    },
    {
     "name": "stdout",
     "output_type": "stream",
     "text": [
      "\n",
      "epoch 2/5 \t valid : loss 0.46099 - spearmanr 0.41962\n",
      "model not improved for 2 epochs\n",
      "epoch 3: \t Start training...\n"
     ]
    },
    {
     "data": {
      "application/vnd.jupyter.widget-view+json": {
       "model_id": "fd36a154211d494ca69d465288e597a7",
       "version_major": 2,
       "version_minor": 0
      },
      "text/plain": [
       "HBox(children=(IntProgress(value=0, max=2736), HTML(value='')))"
      ]
     },
     "metadata": {},
     "output_type": "display_data"
    },
    {
     "name": "stdout",
     "output_type": "stream",
     "text": [
      "\n",
      "epoch 3/5 \t train : loss 0.4046 - spearmanr 0.52561\n",
      "epoch 3: \t Start validation...\n"
     ]
    },
    {
     "data": {
      "application/vnd.jupyter.widget-view+json": {
       "model_id": "bdeb92dbaf8f4bddab1f7df4907aade1",
       "version_major": 2,
       "version_minor": 0
      },
      "text/plain": [
       "HBox(children=(IntProgress(value=0, max=304), HTML(value='')))"
      ]
     },
     "metadata": {},
     "output_type": "display_data"
    },
    {
     "name": "stdout",
     "output_type": "stream",
     "text": [
      "\n",
      "epoch 3/5 \t valid : loss 0.46138 - spearmanr 0.4193\n",
      "model not improved for 3 epochs\n",
      "epoch 4: \t Start training...\n"
     ]
    },
    {
     "data": {
      "application/vnd.jupyter.widget-view+json": {
       "model_id": "5b29edff1dce434aaa144ea8ffbf7673",
       "version_major": 2,
       "version_minor": 0
      },
      "text/plain": [
       "HBox(children=(IntProgress(value=0, max=2736), HTML(value='')))"
      ]
     },
     "metadata": {},
     "output_type": "display_data"
    },
    {
     "name": "stdout",
     "output_type": "stream",
     "text": [
      "\n",
      "epoch 4/5 \t train : loss 0.40395 - spearmanr 0.52697\n",
      "epoch 4: \t Start validation...\n"
     ]
    },
    {
     "data": {
      "application/vnd.jupyter.widget-view+json": {
       "model_id": "ba39d046401c4d95ba063c31d758859d",
       "version_major": 2,
       "version_minor": 0
      },
      "text/plain": [
       "HBox(children=(IntProgress(value=0, max=304), HTML(value='')))"
      ]
     },
     "metadata": {},
     "output_type": "display_data"
    },
    {
     "name": "stdout",
     "output_type": "stream",
     "text": [
      "\n",
      "epoch 4/5 \t valid : loss 0.46176 - spearmanr 0.41899\n",
      "model not improved for 4 epochs\n",
      "TRAINING END: Best score achieved on epoch 0 - 0.42031\n",
      "Starting inference for model: checkpoints/siamese_albert_1_head_fold_8_best.pth\n"
     ]
    },
    {
     "data": {
      "application/vnd.jupyter.widget-view+json": {
       "model_id": "6dc2a7a8780d4109ae8e825e72eca2ca",
       "version_major": 2,
       "version_minor": 0
      },
      "text/plain": [
       "HBox(children=(IntProgress(value=0, max=304), HTML(value='')))"
      ]
     },
     "metadata": {},
     "output_type": "display_data"
    },
    {
     "name": "stderr",
     "output_type": "stream",
     "text": [
      "There is currently an upstream reproducibility issue with ALBERT v2 models. Please see https://github.com/google-research/google-research/issues/119 for more information.\n"
     ]
    },
    {
     "name": "stdout",
     "output_type": "stream",
     "text": [
      "\n",
      "Fold 9 started at Thu Feb  6 21:32:53 2020\n"
     ]
    },
    {
     "name": "stderr",
     "output_type": "stream",
     "text": [
      "There is currently an upstream reproducibility issue with ALBERT v2 models. Please see https://github.com/google-research/google-research/issues/119 for more information.\n"
     ]
    },
    {
     "name": "stdout",
     "output_type": "stream",
     "text": [
      "epoch -1: \t Start validation...\n"
     ]
    },
    {
     "data": {
      "application/vnd.jupyter.widget-view+json": {
       "model_id": "ddbc341ecd5e462fa6e28ca7bc560b6d",
       "version_major": 2,
       "version_minor": 0
      },
      "text/plain": [
       "HBox(children=(IntProgress(value=0, max=304), HTML(value='')))"
      ]
     },
     "metadata": {},
     "output_type": "display_data"
    },
    {
     "name": "stdout",
     "output_type": "stream",
     "text": [
      "\n",
      "epoch -1/5 \t valid : loss 0.45329 - spearmanr 0.41285\n",
      "best model: epoch -1 - 0.41285\n",
      "epoch 0: \t Start training...\n"
     ]
    },
    {
     "data": {
      "application/vnd.jupyter.widget-view+json": {
       "model_id": "5f264607805640539d317a9b0e69c927",
       "version_major": 2,
       "version_minor": 0
      },
      "text/plain": [
       "HBox(children=(IntProgress(value=0, max=2736), HTML(value='')))"
      ]
     },
     "metadata": {},
     "output_type": "display_data"
    },
    {
     "name": "stdout",
     "output_type": "stream",
     "text": [
      "\n",
      "epoch 0/5 \t train : loss 0.39833 - spearmanr 0.54265\n",
      "epoch 0: \t Start validation...\n"
     ]
    },
    {
     "data": {
      "application/vnd.jupyter.widget-view+json": {
       "model_id": "1dbbcbb9546646b7946a83c1a33927f8",
       "version_major": 2,
       "version_minor": 0
      },
      "text/plain": [
       "HBox(children=(IntProgress(value=0, max=304), HTML(value='')))"
      ]
     },
     "metadata": {},
     "output_type": "display_data"
    },
    {
     "name": "stdout",
     "output_type": "stream",
     "text": [
      "\n",
      "epoch 0/5 \t valid : loss 0.4545 - spearmanr 0.4132\n",
      "best model: epoch 0 - 0.4132\n",
      "epoch 1: \t Start training...\n"
     ]
    },
    {
     "data": {
      "application/vnd.jupyter.widget-view+json": {
       "model_id": "c8c697b160544929916d8c7524de4264",
       "version_major": 2,
       "version_minor": 0
      },
      "text/plain": [
       "HBox(children=(IntProgress(value=0, max=2736), HTML(value='')))"
      ]
     },
     "metadata": {},
     "output_type": "display_data"
    },
    {
     "name": "stdout",
     "output_type": "stream",
     "text": [
      "\n",
      "epoch 1/5 \t train : loss 0.39742 - spearmanr 0.54345\n",
      "epoch 1: \t Start validation...\n"
     ]
    },
    {
     "data": {
      "application/vnd.jupyter.widget-view+json": {
       "model_id": "159dc8620ce24b46b1b21edef02d2af8",
       "version_major": 2,
       "version_minor": 0
      },
      "text/plain": [
       "HBox(children=(IntProgress(value=0, max=304), HTML(value='')))"
      ]
     },
     "metadata": {},
     "output_type": "display_data"
    },
    {
     "name": "stdout",
     "output_type": "stream",
     "text": [
      "\n",
      "epoch 1/5 \t valid : loss 0.45505 - spearmanr 0.41292\n",
      "model not improved for 1 epochs\n",
      "epoch 2: \t Start training...\n"
     ]
    },
    {
     "data": {
      "application/vnd.jupyter.widget-view+json": {
       "model_id": "64c4ab3a0751430aa3eef91c5b19188d",
       "version_major": 2,
       "version_minor": 0
      },
      "text/plain": [
       "HBox(children=(IntProgress(value=0, max=2736), HTML(value='')))"
      ]
     },
     "metadata": {},
     "output_type": "display_data"
    },
    {
     "name": "stdout",
     "output_type": "stream",
     "text": [
      "\n",
      "epoch 2/5 \t train : loss 0.39702 - spearmanr 0.54474\n",
      "epoch 2: \t Start validation...\n"
     ]
    },
    {
     "data": {
      "application/vnd.jupyter.widget-view+json": {
       "model_id": "358268ac9c204100a9c1142b8b0684b1",
       "version_major": 2,
       "version_minor": 0
      },
      "text/plain": [
       "HBox(children=(IntProgress(value=0, max=304), HTML(value='')))"
      ]
     },
     "metadata": {},
     "output_type": "display_data"
    },
    {
     "name": "stdout",
     "output_type": "stream",
     "text": [
      "\n",
      "epoch 2/5 \t valid : loss 0.45554 - spearmanr 0.41254\n",
      "model not improved for 2 epochs\n",
      "epoch 3: \t Start training...\n"
     ]
    },
    {
     "data": {
      "application/vnd.jupyter.widget-view+json": {
       "model_id": "0f01990edaf54160aca1fe027357986d",
       "version_major": 2,
       "version_minor": 0
      },
      "text/plain": [
       "HBox(children=(IntProgress(value=0, max=2736), HTML(value='')))"
      ]
     },
     "metadata": {},
     "output_type": "display_data"
    },
    {
     "name": "stdout",
     "output_type": "stream",
     "text": [
      "\n",
      "epoch 3/5 \t train : loss 0.39604 - spearmanr 0.54636\n",
      "epoch 3: \t Start validation...\n"
     ]
    },
    {
     "data": {
      "application/vnd.jupyter.widget-view+json": {
       "model_id": "e8fceafeecf04d878e02b1abab4c071c",
       "version_major": 2,
       "version_minor": 0
      },
      "text/plain": [
       "HBox(children=(IntProgress(value=0, max=304), HTML(value='')))"
      ]
     },
     "metadata": {},
     "output_type": "display_data"
    },
    {
     "name": "stdout",
     "output_type": "stream",
     "text": [
      "\n",
      "epoch 3/5 \t valid : loss 0.4558 - spearmanr 0.41239\n",
      "model not improved for 3 epochs\n",
      "epoch 4: \t Start training...\n"
     ]
    },
    {
     "data": {
      "application/vnd.jupyter.widget-view+json": {
       "model_id": "e24ebf24d1524d4980a3e2597145e35e",
       "version_major": 2,
       "version_minor": 0
      },
      "text/plain": [
       "HBox(children=(IntProgress(value=0, max=2736), HTML(value='')))"
      ]
     },
     "metadata": {},
     "output_type": "display_data"
    },
    {
     "name": "stdout",
     "output_type": "stream",
     "text": [
      "\n",
      "epoch 4/5 \t train : loss 0.39549 - spearmanr 0.54782\n",
      "epoch 4: \t Start validation...\n"
     ]
    },
    {
     "data": {
      "application/vnd.jupyter.widget-view+json": {
       "model_id": "d6168dfd0ed14bf898a5aa0daa8e17c6",
       "version_major": 2,
       "version_minor": 0
      },
      "text/plain": [
       "HBox(children=(IntProgress(value=0, max=304), HTML(value='')))"
      ]
     },
     "metadata": {},
     "output_type": "display_data"
    },
    {
     "name": "stdout",
     "output_type": "stream",
     "text": [
      "\n",
      "epoch 4/5 \t valid : loss 0.45584 - spearmanr 0.4121\n",
      "model not improved for 4 epochs\n",
      "TRAINING END: Best score achieved on epoch 0 - 0.41320\n",
      "Starting inference for model: checkpoints/siamese_albert_1_head_fold_9_best.pth\n"
     ]
    },
    {
     "data": {
      "application/vnd.jupyter.widget-view+json": {
       "model_id": "3de57b9acbe64c76a0b08a9e24a8d53a",
       "version_major": 2,
       "version_minor": 0
      },
      "text/plain": [
       "HBox(children=(IntProgress(value=0, max=304), HTML(value='')))"
      ]
     },
     "metadata": {},
     "output_type": "display_data"
    },
    {
     "name": "stderr",
     "output_type": "stream",
     "text": [
      "There is currently an upstream reproducibility issue with ALBERT v2 models. Please see https://github.com/google-research/google-research/issues/119 for more information.\n"
     ]
    },
    {
     "name": "stdout",
     "output_type": "stream",
     "text": [
      "\n",
      "Fold 10 started at Thu Feb  6 21:34:53 2020\n"
     ]
    },
    {
     "name": "stderr",
     "output_type": "stream",
     "text": [
      "There is currently an upstream reproducibility issue with ALBERT v2 models. Please see https://github.com/google-research/google-research/issues/119 for more information.\n"
     ]
    },
    {
     "name": "stdout",
     "output_type": "stream",
     "text": [
      "epoch -1: \t Start validation...\n"
     ]
    },
    {
     "data": {
      "application/vnd.jupyter.widget-view+json": {
       "model_id": "ba9bef95785342a8946df4bb47923c0f",
       "version_major": 2,
       "version_minor": 0
      },
      "text/plain": [
       "HBox(children=(IntProgress(value=0, max=304), HTML(value='')))"
      ]
     },
     "metadata": {},
     "output_type": "display_data"
    },
    {
     "name": "stdout",
     "output_type": "stream",
     "text": [
      "\n",
      "epoch -1/5 \t valid : loss 0.44588 - spearmanr 0.41929\n",
      "best model: epoch -1 - 0.41929\n",
      "epoch 0: \t Start training...\n"
     ]
    },
    {
     "data": {
      "application/vnd.jupyter.widget-view+json": {
       "model_id": "212f7a4725ca417f987406adca3bbc49",
       "version_major": 2,
       "version_minor": 0
      },
      "text/plain": [
       "HBox(children=(IntProgress(value=0, max=2736), HTML(value='')))"
      ]
     },
     "metadata": {},
     "output_type": "display_data"
    },
    {
     "name": "stdout",
     "output_type": "stream",
     "text": [
      "\n",
      "epoch 0/5 \t train : loss 0.39734 - spearmanr 0.5447\n",
      "epoch 0: \t Start validation...\n"
     ]
    },
    {
     "data": {
      "application/vnd.jupyter.widget-view+json": {
       "model_id": "c74777100b0b4d54bf89b2896e7cf820",
       "version_major": 2,
       "version_minor": 0
      },
      "text/plain": [
       "HBox(children=(IntProgress(value=0, max=304), HTML(value='')))"
      ]
     },
     "metadata": {},
     "output_type": "display_data"
    },
    {
     "name": "stdout",
     "output_type": "stream",
     "text": [
      "\n",
      "epoch 0/5 \t valid : loss 0.4467 - spearmanr 0.41943\n",
      "best model: epoch 0 - 0.41943\n",
      "epoch 1: \t Start training...\n"
     ]
    },
    {
     "data": {
      "application/vnd.jupyter.widget-view+json": {
       "model_id": "a018e500238549fca0f6859d7036822d",
       "version_major": 2,
       "version_minor": 0
      },
      "text/plain": [
       "HBox(children=(IntProgress(value=0, max=2736), HTML(value='')))"
      ]
     },
     "metadata": {},
     "output_type": "display_data"
    },
    {
     "name": "stdout",
     "output_type": "stream",
     "text": [
      "\n",
      "epoch 1/5 \t train : loss 0.39672 - spearmanr 0.54535\n",
      "epoch 1: \t Start validation...\n"
     ]
    },
    {
     "data": {
      "application/vnd.jupyter.widget-view+json": {
       "model_id": "e0f0c21bd7b14e86957ca36fadef8ed6",
       "version_major": 2,
       "version_minor": 0
      },
      "text/plain": [
       "HBox(children=(IntProgress(value=0, max=304), HTML(value='')))"
      ]
     },
     "metadata": {},
     "output_type": "display_data"
    },
    {
     "name": "stdout",
     "output_type": "stream",
     "text": [
      "\n",
      "epoch 1/5 \t valid : loss 0.44723 - spearmanr 0.41888\n",
      "model not improved for 1 epochs\n",
      "epoch 2: \t Start training...\n"
     ]
    },
    {
     "data": {
      "application/vnd.jupyter.widget-view+json": {
       "model_id": "22b8d4079cca45c887c386c3a19a1f66",
       "version_major": 2,
       "version_minor": 0
      },
      "text/plain": [
       "HBox(children=(IntProgress(value=0, max=2736), HTML(value='')))"
      ]
     },
     "metadata": {},
     "output_type": "display_data"
    },
    {
     "name": "stdout",
     "output_type": "stream",
     "text": [
      "\n",
      "epoch 2/5 \t train : loss 0.39571 - spearmanr 0.54735\n",
      "epoch 2: \t Start validation...\n"
     ]
    },
    {
     "data": {
      "application/vnd.jupyter.widget-view+json": {
       "model_id": "bb2d0b6f131c4e7c84a316973d31f559",
       "version_major": 2,
       "version_minor": 0
      },
      "text/plain": [
       "HBox(children=(IntProgress(value=0, max=304), HTML(value='')))"
      ]
     },
     "metadata": {},
     "output_type": "display_data"
    },
    {
     "name": "stdout",
     "output_type": "stream",
     "text": [
      "\n",
      "epoch 2/5 \t valid : loss 0.44778 - spearmanr 0.41835\n",
      "model not improved for 2 epochs\n",
      "epoch 3: \t Start training...\n"
     ]
    },
    {
     "data": {
      "application/vnd.jupyter.widget-view+json": {
       "model_id": "7ea61a3443f7435eae3acc652034367c",
       "version_major": 2,
       "version_minor": 0
      },
      "text/plain": [
       "HBox(children=(IntProgress(value=0, max=2736), HTML(value='')))"
      ]
     },
     "metadata": {},
     "output_type": "display_data"
    },
    {
     "name": "stdout",
     "output_type": "stream",
     "text": [
      "\n",
      "epoch 3/5 \t train : loss 0.39531 - spearmanr 0.54861\n",
      "epoch 3: \t Start validation...\n"
     ]
    },
    {
     "data": {
      "application/vnd.jupyter.widget-view+json": {
       "model_id": "6cc40e1b5e7f431b93ffc0d308ff9c74",
       "version_major": 2,
       "version_minor": 0
      },
      "text/plain": [
       "HBox(children=(IntProgress(value=0, max=304), HTML(value='')))"
      ]
     },
     "metadata": {},
     "output_type": "display_data"
    },
    {
     "name": "stdout",
     "output_type": "stream",
     "text": [
      "\n",
      "epoch 3/5 \t valid : loss 0.44812 - spearmanr 0.41769\n",
      "model not improved for 3 epochs\n",
      "epoch 4: \t Start training...\n"
     ]
    },
    {
     "data": {
      "application/vnd.jupyter.widget-view+json": {
       "model_id": "a712cf8fb52641079189c0d52b099402",
       "version_major": 2,
       "version_minor": 0
      },
      "text/plain": [
       "HBox(children=(IntProgress(value=0, max=2736), HTML(value='')))"
      ]
     },
     "metadata": {},
     "output_type": "display_data"
    },
    {
     "name": "stdout",
     "output_type": "stream",
     "text": [
      "\n",
      "epoch 4/5 \t train : loss 0.39455 - spearmanr 0.55035\n",
      "epoch 4: \t Start validation...\n"
     ]
    },
    {
     "data": {
      "application/vnd.jupyter.widget-view+json": {
       "model_id": "771f4c9b11734a5cbb4c2165e4270aa1",
       "version_major": 2,
       "version_minor": 0
      },
      "text/plain": [
       "HBox(children=(IntProgress(value=0, max=304), HTML(value='')))"
      ]
     },
     "metadata": {},
     "output_type": "display_data"
    },
    {
     "name": "stdout",
     "output_type": "stream",
     "text": [
      "\n",
      "epoch 4/5 \t valid : loss 0.44832 - spearmanr 0.41765\n",
      "model not improved for 4 epochs\n",
      "TRAINING END: Best score achieved on epoch 0 - 0.41943\n",
      "Starting inference for model: checkpoints/siamese_albert_1_head_fold_10_best.pth\n"
     ]
    },
    {
     "data": {
      "application/vnd.jupyter.widget-view+json": {
       "model_id": "d23f8b914271462884e97299f63cffd8",
       "version_major": 2,
       "version_minor": 0
      },
      "text/plain": [
       "HBox(children=(IntProgress(value=0, max=304), HTML(value='')))"
      ]
     },
     "metadata": {},
     "output_type": "display_data"
    },
    {
     "name": "stdout",
     "output_type": "stream",
     "text": [
      "\n",
      "OOF score: 0.4127166249259132\n"
     ]
    }
   ],
   "source": [
    "init_seed()\n",
    "folds = GroupKFold(n_splits=n_folds).split(X=train['question_body'], groups=train['question_body'])\n",
    "oofs = np.zeros((len(train), N_TARGETS))\n",
    "preds = np.zeros((len(test), N_TARGETS))\n",
    "\n",
    "for fold_id, (train_index, valid_index) in enumerate(folds):\n",
    "    print(f'Fold {fold_id + 1} started at {time.ctime()}')\n",
    "    \n",
    "    output_file_path = lambda mode: f'{model_output_dir}{mode}_{pretrained_model}_fold_{fold_id+1}'\n",
    "    train_loader = DataLoader(\n",
    "        BertDataset(cat_features_train, np.load(f\"{output_file_path('train')}_q_outputs.npy\"),\n",
    "                    np.load(f\"{output_file_path('train')}_a_outputs.npy\"), train_index, targets=y), \n",
    "        batch_size=bs, shuffle=True, num_workers=num_workers, drop_last=False\n",
    "    )\n",
    "    valid_loader = DataLoader(\n",
    "        BertDataset(cat_features_train, np.load(f\"{output_file_path('valid')}_q_outputs.npy\"),\n",
    "                    np.load(f\"{output_file_path('valid')}_a_outputs.npy\"), valid_index, targets=y), \n",
    "        batch_size=bs, shuffle=False, num_workers=num_workers, drop_last=False\n",
    "    )\n",
    "    model = get_model(fold_id)\n",
    "    \n",
    "    if fold_id == 0:\n",
    "        # print(model)\n",
    "        model = model.to(device)\n",
    "        optimizer = get_optimizer(model, lr, weight_decay)\n",
    "        lr_finder = LRFinder(n_iter=min(grad_accum*100, len(train_loader)), start_lr=1e-7, \n",
    "                             end_lr=1e-2, device=device, grad_accum=grad_accum, divergence_factor=5)\n",
    "        lr_finder.find_lr(model, optimizer, train_loader, loss_fn)\n",
    "        plt.show()\n",
    "    \n",
    "    optimizer = get_optimizer(model, lr, weight_decay)\n",
    "\n",
    "    learner = Learner(\n",
    "        model, \n",
    "        optimizer, \n",
    "        train_loader, \n",
    "        valid_loader, \n",
    "        loss_fn, \n",
    "        device, \n",
    "        n_epochs, \n",
    "        f'{model_name}_fold_{fold_id + 1}', \n",
    "        checkpoint_dir, \n",
    "        scheduler=optim.lr_scheduler.StepLR(optimizer, n_epochs, 0.5), \n",
    "        metric_fns={'spearmanr': (spearmanr_torch, 'epoch_end')}, \n",
    "        monitor_metric='spearmanr',\n",
    "        minimize_score=False, \n",
    "        logger=None,\n",
    "        grad_accum=grad_accum,\n",
    "        early_stopping=early_stopping, \n",
    "        batch_step_scheduler=False,\n",
    "        eval_at_start=True\n",
    "    )\n",
    "    if (fold_id + 1) > 0: learner.train()\n",
    "    \n",
    "    oofs[valid_index] = infer(learner.model, valid_loader, learner.best_checkpoint_file, device)\n",
    "    \n",
    "    del learner, model, train_loader, valid_loader\n",
    "    gc.collect()\n",
    "    \n",
    "print(f'OOF score: {spearmanr_np(oofs, y)}')"
   ]
  },
  {
   "cell_type": "code",
   "execution_count": 10,
   "metadata": {
    "scrolled": true
   },
   "outputs": [
    {
     "name": "stdout",
     "output_type": "stream",
     "text": [
      "2 8 0.4686243425302676\n",
      "3 16 0.3014014283656734\n",
      "5 4 0.45720759667712696\n",
      "9 64 0.11868612010402654\n",
      "11 8 0.7559907029009693\n",
      "12 4 0.4939926529506924\n",
      "13 32 0.19739526129997104\n",
      "14 8 0.5965415717405579\n",
      "15 4 0.5796349230554733\n",
      "16 16 0.7827106352703415\n",
      "19 32 0.10562435537176539\n"
     ]
    }
   ],
   "source": [
    "opt_ds, opt_indices = optimize_rounding_params(oofs, y)"
   ]
  },
  {
   "cell_type": "code",
   "execution_count": 11,
   "metadata": {},
   "outputs": [
    {
     "data": {
      "text/plain": [
       "(array([ 8, 16,  4, 64,  8,  4, 32,  8,  4, 16, 32]),\n",
       " array([ 2,  3,  5,  9, 11, 12, 13, 14, 15, 16, 19]))"
      ]
     },
     "execution_count": 11,
     "metadata": {},
     "output_type": "execute_result"
    }
   ],
   "source": [
    "np.array(opt_ds), np.array(opt_indices)"
   ]
  },
  {
   "cell_type": "code",
   "execution_count": 12,
   "metadata": {
    "scrolled": false
   },
   "outputs": [],
   "source": [
    "oofs_alt = oofs.copy()\n",
    "train[\"eng\"] = train[\"url\"].apply(lambda x: x.startswith(\"http://english.\") or x.startswith(\"http://ell.\"))\n",
    "oofs_alt[np.where((~train[\"eng\"]).values)[0], 19] = 0"
   ]
  },
  {
   "cell_type": "code",
   "execution_count": 13,
   "metadata": {
    "scrolled": false
   },
   "outputs": [
    {
     "data": {
      "text/html": [
       "<div>\n",
       "<style scoped>\n",
       "    .dataframe tbody tr th:only-of-type {\n",
       "        vertical-align: middle;\n",
       "    }\n",
       "\n",
       "    .dataframe tbody tr th {\n",
       "        vertical-align: top;\n",
       "    }\n",
       "\n",
       "    .dataframe thead th {\n",
       "        text-align: right;\n",
       "    }\n",
       "</style>\n",
       "<table border=\"1\" class=\"dataframe\">\n",
       "  <thead>\n",
       "    <tr style=\"text-align: right;\">\n",
       "      <th></th>\n",
       "      <th>SpearmanR</th>\n",
       "    </tr>\n",
       "  </thead>\n",
       "  <tbody>\n",
       "    <tr>\n",
       "      <th>CV</th>\n",
       "      <td>0.412717</td>\n",
       "    </tr>\n",
       "    <tr>\n",
       "      <th>CV unique rows</th>\n",
       "      <td>0.378635</td>\n",
       "    </tr>\n",
       "    <tr>\n",
       "      <th>CV ignoring hard targets</th>\n",
       "      <td>0.436188</td>\n",
       "    </tr>\n",
       "    <tr>\n",
       "      <th>CV unique rows ignoring hard targets</th>\n",
       "      <td>0.398927</td>\n",
       "    </tr>\n",
       "    <tr>\n",
       "      <th>CV w rounding</th>\n",
       "      <td>0.435784</td>\n",
       "    </tr>\n",
       "    <tr>\n",
       "      <th>CV unique rows w rounding</th>\n",
       "      <td>0.416138</td>\n",
       "    </tr>\n",
       "    <tr>\n",
       "      <th>CV ignoring hard targets w rounding</th>\n",
       "      <td>0.458901</td>\n",
       "    </tr>\n",
       "    <tr>\n",
       "      <th>CV unique rows ignoring hard targets w rounding</th>\n",
       "      <td>0.428681</td>\n",
       "    </tr>\n",
       "  </tbody>\n",
       "</table>\n",
       "</div>"
      ],
      "text/plain": [
       "                                                 SpearmanR\n",
       "CV                                                0.412717\n",
       "CV unique rows                                    0.378635\n",
       "CV ignoring hard targets                          0.436188\n",
       "CV unique rows ignoring hard targets              0.398927\n",
       "CV w rounding                                     0.435784\n",
       "CV unique rows w rounding                         0.416138\n",
       "CV ignoring hard targets w rounding               0.458901\n",
       "CV unique rows ignoring hard targets w rounding   0.428681"
      ]
     },
     "execution_count": 13,
     "metadata": {},
     "output_type": "execute_result"
    }
   ],
   "source": [
    "get_cvs(oofs, y, ix)"
   ]
  },
  {
   "cell_type": "code",
   "execution_count": 14,
   "metadata": {
    "scrolled": false
   },
   "outputs": [
    {
     "data": {
      "text/html": [
       "<div>\n",
       "<style scoped>\n",
       "    .dataframe tbody tr th:only-of-type {\n",
       "        vertical-align: middle;\n",
       "    }\n",
       "\n",
       "    .dataframe tbody tr th {\n",
       "        vertical-align: top;\n",
       "    }\n",
       "\n",
       "    .dataframe thead th {\n",
       "        text-align: right;\n",
       "    }\n",
       "</style>\n",
       "<table border=\"1\" class=\"dataframe\">\n",
       "  <thead>\n",
       "    <tr style=\"text-align: right;\">\n",
       "      <th></th>\n",
       "      <th>SpearmanR</th>\n",
       "    </tr>\n",
       "  </thead>\n",
       "  <tbody>\n",
       "    <tr>\n",
       "      <th>CV</th>\n",
       "      <td>0.416708</td>\n",
       "    </tr>\n",
       "    <tr>\n",
       "      <th>CV unique rows</th>\n",
       "      <td>0.382745</td>\n",
       "    </tr>\n",
       "    <tr>\n",
       "      <th>CV ignoring hard targets</th>\n",
       "      <td>0.436188</td>\n",
       "    </tr>\n",
       "    <tr>\n",
       "      <th>CV unique rows ignoring hard targets</th>\n",
       "      <td>0.398927</td>\n",
       "    </tr>\n",
       "    <tr>\n",
       "      <th>CV w rounding</th>\n",
       "      <td>0.438462</td>\n",
       "    </tr>\n",
       "    <tr>\n",
       "      <th>CV unique rows w rounding</th>\n",
       "      <td>0.416374</td>\n",
       "    </tr>\n",
       "    <tr>\n",
       "      <th>CV ignoring hard targets w rounding</th>\n",
       "      <td>0.458901</td>\n",
       "    </tr>\n",
       "    <tr>\n",
       "      <th>CV unique rows ignoring hard targets w rounding</th>\n",
       "      <td>0.428681</td>\n",
       "    </tr>\n",
       "  </tbody>\n",
       "</table>\n",
       "</div>"
      ],
      "text/plain": [
       "                                                 SpearmanR\n",
       "CV                                                0.416708\n",
       "CV unique rows                                    0.382745\n",
       "CV ignoring hard targets                          0.436188\n",
       "CV unique rows ignoring hard targets              0.398927\n",
       "CV w rounding                                     0.438462\n",
       "CV unique rows w rounding                         0.416374\n",
       "CV ignoring hard targets w rounding               0.458901\n",
       "CV unique rows ignoring hard targets w rounding   0.428681"
      ]
     },
     "execution_count": 14,
     "metadata": {},
     "output_type": "execute_result"
    }
   ],
   "source": [
    "get_cvs(oofs_alt, y, ix)"
   ]
  },
  {
   "cell_type": "code",
   "execution_count": 15,
   "metadata": {},
   "outputs": [],
   "source": [
    "# clipping is necessary or we will get an error\n",
    "sample_submission.loc[:, 'question_asker_intent_understanding':] = np.clip(preds, 0.00001, 0.999999)\n",
    "sample_submission.to_csv('subs/submission.csv', index=False)"
   ]
  },
  {
   "cell_type": "code",
   "execution_count": 16,
   "metadata": {
    "scrolled": false
   },
   "outputs": [
    {
     "data": {
      "text/html": [
       "<div>\n",
       "<style scoped>\n",
       "    .dataframe tbody tr th:only-of-type {\n",
       "        vertical-align: middle;\n",
       "    }\n",
       "\n",
       "    .dataframe tbody tr th {\n",
       "        vertical-align: top;\n",
       "    }\n",
       "\n",
       "    .dataframe thead th {\n",
       "        text-align: right;\n",
       "    }\n",
       "</style>\n",
       "<table border=\"1\" class=\"dataframe\">\n",
       "  <thead>\n",
       "    <tr style=\"text-align: right;\">\n",
       "      <th></th>\n",
       "      <th>qa_id</th>\n",
       "      <th>question_asker_intent_understanding</th>\n",
       "      <th>question_body_critical</th>\n",
       "      <th>question_conversational</th>\n",
       "      <th>question_expect_short_answer</th>\n",
       "      <th>question_fact_seeking</th>\n",
       "      <th>question_has_commonly_accepted_answer</th>\n",
       "      <th>question_interestingness_others</th>\n",
       "      <th>question_interestingness_self</th>\n",
       "      <th>question_multi_intent</th>\n",
       "      <th>question_not_really_a_question</th>\n",
       "      <th>question_opinion_seeking</th>\n",
       "      <th>question_type_choice</th>\n",
       "      <th>question_type_compare</th>\n",
       "      <th>question_type_consequence</th>\n",
       "      <th>question_type_definition</th>\n",
       "      <th>question_type_entity</th>\n",
       "      <th>question_type_instructions</th>\n",
       "      <th>question_type_procedure</th>\n",
       "      <th>question_type_reason_explanation</th>\n",
       "      <th>question_type_spelling</th>\n",
       "      <th>question_well_written</th>\n",
       "      <th>answer_helpful</th>\n",
       "      <th>answer_level_of_information</th>\n",
       "      <th>answer_plausible</th>\n",
       "      <th>answer_relevance</th>\n",
       "      <th>answer_satisfaction</th>\n",
       "      <th>answer_type_instructions</th>\n",
       "      <th>answer_type_procedure</th>\n",
       "      <th>answer_type_reason_explanation</th>\n",
       "      <th>answer_well_written</th>\n",
       "    </tr>\n",
       "  </thead>\n",
       "  <tbody>\n",
       "    <tr>\n",
       "      <th>0</th>\n",
       "      <td>39</td>\n",
       "      <td>0.00001</td>\n",
       "      <td>0.00001</td>\n",
       "      <td>0.00001</td>\n",
       "      <td>0.00001</td>\n",
       "      <td>0.00001</td>\n",
       "      <td>0.00001</td>\n",
       "      <td>0.00001</td>\n",
       "      <td>0.00001</td>\n",
       "      <td>0.00001</td>\n",
       "      <td>0.00001</td>\n",
       "      <td>0.00001</td>\n",
       "      <td>0.00001</td>\n",
       "      <td>0.00001</td>\n",
       "      <td>0.00001</td>\n",
       "      <td>0.00001</td>\n",
       "      <td>0.00001</td>\n",
       "      <td>0.00001</td>\n",
       "      <td>0.00001</td>\n",
       "      <td>0.00001</td>\n",
       "      <td>0.00001</td>\n",
       "      <td>0.00001</td>\n",
       "      <td>0.00001</td>\n",
       "      <td>0.00001</td>\n",
       "      <td>0.00001</td>\n",
       "      <td>0.00001</td>\n",
       "      <td>0.00001</td>\n",
       "      <td>0.00001</td>\n",
       "      <td>0.00001</td>\n",
       "      <td>0.00001</td>\n",
       "      <td>0.00001</td>\n",
       "    </tr>\n",
       "    <tr>\n",
       "      <th>1</th>\n",
       "      <td>46</td>\n",
       "      <td>0.00001</td>\n",
       "      <td>0.00001</td>\n",
       "      <td>0.00001</td>\n",
       "      <td>0.00001</td>\n",
       "      <td>0.00001</td>\n",
       "      <td>0.00001</td>\n",
       "      <td>0.00001</td>\n",
       "      <td>0.00001</td>\n",
       "      <td>0.00001</td>\n",
       "      <td>0.00001</td>\n",
       "      <td>0.00001</td>\n",
       "      <td>0.00001</td>\n",
       "      <td>0.00001</td>\n",
       "      <td>0.00001</td>\n",
       "      <td>0.00001</td>\n",
       "      <td>0.00001</td>\n",
       "      <td>0.00001</td>\n",
       "      <td>0.00001</td>\n",
       "      <td>0.00001</td>\n",
       "      <td>0.00001</td>\n",
       "      <td>0.00001</td>\n",
       "      <td>0.00001</td>\n",
       "      <td>0.00001</td>\n",
       "      <td>0.00001</td>\n",
       "      <td>0.00001</td>\n",
       "      <td>0.00001</td>\n",
       "      <td>0.00001</td>\n",
       "      <td>0.00001</td>\n",
       "      <td>0.00001</td>\n",
       "      <td>0.00001</td>\n",
       "    </tr>\n",
       "    <tr>\n",
       "      <th>2</th>\n",
       "      <td>70</td>\n",
       "      <td>0.00001</td>\n",
       "      <td>0.00001</td>\n",
       "      <td>0.00001</td>\n",
       "      <td>0.00001</td>\n",
       "      <td>0.00001</td>\n",
       "      <td>0.00001</td>\n",
       "      <td>0.00001</td>\n",
       "      <td>0.00001</td>\n",
       "      <td>0.00001</td>\n",
       "      <td>0.00001</td>\n",
       "      <td>0.00001</td>\n",
       "      <td>0.00001</td>\n",
       "      <td>0.00001</td>\n",
       "      <td>0.00001</td>\n",
       "      <td>0.00001</td>\n",
       "      <td>0.00001</td>\n",
       "      <td>0.00001</td>\n",
       "      <td>0.00001</td>\n",
       "      <td>0.00001</td>\n",
       "      <td>0.00001</td>\n",
       "      <td>0.00001</td>\n",
       "      <td>0.00001</td>\n",
       "      <td>0.00001</td>\n",
       "      <td>0.00001</td>\n",
       "      <td>0.00001</td>\n",
       "      <td>0.00001</td>\n",
       "      <td>0.00001</td>\n",
       "      <td>0.00001</td>\n",
       "      <td>0.00001</td>\n",
       "      <td>0.00001</td>\n",
       "    </tr>\n",
       "    <tr>\n",
       "      <th>3</th>\n",
       "      <td>132</td>\n",
       "      <td>0.00001</td>\n",
       "      <td>0.00001</td>\n",
       "      <td>0.00001</td>\n",
       "      <td>0.00001</td>\n",
       "      <td>0.00001</td>\n",
       "      <td>0.00001</td>\n",
       "      <td>0.00001</td>\n",
       "      <td>0.00001</td>\n",
       "      <td>0.00001</td>\n",
       "      <td>0.00001</td>\n",
       "      <td>0.00001</td>\n",
       "      <td>0.00001</td>\n",
       "      <td>0.00001</td>\n",
       "      <td>0.00001</td>\n",
       "      <td>0.00001</td>\n",
       "      <td>0.00001</td>\n",
       "      <td>0.00001</td>\n",
       "      <td>0.00001</td>\n",
       "      <td>0.00001</td>\n",
       "      <td>0.00001</td>\n",
       "      <td>0.00001</td>\n",
       "      <td>0.00001</td>\n",
       "      <td>0.00001</td>\n",
       "      <td>0.00001</td>\n",
       "      <td>0.00001</td>\n",
       "      <td>0.00001</td>\n",
       "      <td>0.00001</td>\n",
       "      <td>0.00001</td>\n",
       "      <td>0.00001</td>\n",
       "      <td>0.00001</td>\n",
       "    </tr>\n",
       "    <tr>\n",
       "      <th>4</th>\n",
       "      <td>200</td>\n",
       "      <td>0.00001</td>\n",
       "      <td>0.00001</td>\n",
       "      <td>0.00001</td>\n",
       "      <td>0.00001</td>\n",
       "      <td>0.00001</td>\n",
       "      <td>0.00001</td>\n",
       "      <td>0.00001</td>\n",
       "      <td>0.00001</td>\n",
       "      <td>0.00001</td>\n",
       "      <td>0.00001</td>\n",
       "      <td>0.00001</td>\n",
       "      <td>0.00001</td>\n",
       "      <td>0.00001</td>\n",
       "      <td>0.00001</td>\n",
       "      <td>0.00001</td>\n",
       "      <td>0.00001</td>\n",
       "      <td>0.00001</td>\n",
       "      <td>0.00001</td>\n",
       "      <td>0.00001</td>\n",
       "      <td>0.00001</td>\n",
       "      <td>0.00001</td>\n",
       "      <td>0.00001</td>\n",
       "      <td>0.00001</td>\n",
       "      <td>0.00001</td>\n",
       "      <td>0.00001</td>\n",
       "      <td>0.00001</td>\n",
       "      <td>0.00001</td>\n",
       "      <td>0.00001</td>\n",
       "      <td>0.00001</td>\n",
       "      <td>0.00001</td>\n",
       "    </tr>\n",
       "  </tbody>\n",
       "</table>\n",
       "</div>"
      ],
      "text/plain": [
       "   qa_id  question_asker_intent_understanding  question_body_critical  \\\n",
       "0     39                              0.00001                 0.00001   \n",
       "1     46                              0.00001                 0.00001   \n",
       "2     70                              0.00001                 0.00001   \n",
       "3    132                              0.00001                 0.00001   \n",
       "4    200                              0.00001                 0.00001   \n",
       "\n",
       "   question_conversational  question_expect_short_answer  \\\n",
       "0                  0.00001                       0.00001   \n",
       "1                  0.00001                       0.00001   \n",
       "2                  0.00001                       0.00001   \n",
       "3                  0.00001                       0.00001   \n",
       "4                  0.00001                       0.00001   \n",
       "\n",
       "   question_fact_seeking  question_has_commonly_accepted_answer  \\\n",
       "0                0.00001                                0.00001   \n",
       "1                0.00001                                0.00001   \n",
       "2                0.00001                                0.00001   \n",
       "3                0.00001                                0.00001   \n",
       "4                0.00001                                0.00001   \n",
       "\n",
       "   question_interestingness_others  question_interestingness_self  \\\n",
       "0                          0.00001                        0.00001   \n",
       "1                          0.00001                        0.00001   \n",
       "2                          0.00001                        0.00001   \n",
       "3                          0.00001                        0.00001   \n",
       "4                          0.00001                        0.00001   \n",
       "\n",
       "   question_multi_intent  question_not_really_a_question  \\\n",
       "0                0.00001                         0.00001   \n",
       "1                0.00001                         0.00001   \n",
       "2                0.00001                         0.00001   \n",
       "3                0.00001                         0.00001   \n",
       "4                0.00001                         0.00001   \n",
       "\n",
       "   question_opinion_seeking  question_type_choice  question_type_compare  \\\n",
       "0                   0.00001               0.00001                0.00001   \n",
       "1                   0.00001               0.00001                0.00001   \n",
       "2                   0.00001               0.00001                0.00001   \n",
       "3                   0.00001               0.00001                0.00001   \n",
       "4                   0.00001               0.00001                0.00001   \n",
       "\n",
       "   question_type_consequence  question_type_definition  question_type_entity  \\\n",
       "0                    0.00001                   0.00001               0.00001   \n",
       "1                    0.00001                   0.00001               0.00001   \n",
       "2                    0.00001                   0.00001               0.00001   \n",
       "3                    0.00001                   0.00001               0.00001   \n",
       "4                    0.00001                   0.00001               0.00001   \n",
       "\n",
       "   question_type_instructions  question_type_procedure  \\\n",
       "0                     0.00001                  0.00001   \n",
       "1                     0.00001                  0.00001   \n",
       "2                     0.00001                  0.00001   \n",
       "3                     0.00001                  0.00001   \n",
       "4                     0.00001                  0.00001   \n",
       "\n",
       "   question_type_reason_explanation  question_type_spelling  \\\n",
       "0                           0.00001                 0.00001   \n",
       "1                           0.00001                 0.00001   \n",
       "2                           0.00001                 0.00001   \n",
       "3                           0.00001                 0.00001   \n",
       "4                           0.00001                 0.00001   \n",
       "\n",
       "   question_well_written  answer_helpful  answer_level_of_information  \\\n",
       "0                0.00001         0.00001                      0.00001   \n",
       "1                0.00001         0.00001                      0.00001   \n",
       "2                0.00001         0.00001                      0.00001   \n",
       "3                0.00001         0.00001                      0.00001   \n",
       "4                0.00001         0.00001                      0.00001   \n",
       "\n",
       "   answer_plausible  answer_relevance  answer_satisfaction  \\\n",
       "0           0.00001           0.00001              0.00001   \n",
       "1           0.00001           0.00001              0.00001   \n",
       "2           0.00001           0.00001              0.00001   \n",
       "3           0.00001           0.00001              0.00001   \n",
       "4           0.00001           0.00001              0.00001   \n",
       "\n",
       "   answer_type_instructions  answer_type_procedure  \\\n",
       "0                   0.00001                0.00001   \n",
       "1                   0.00001                0.00001   \n",
       "2                   0.00001                0.00001   \n",
       "3                   0.00001                0.00001   \n",
       "4                   0.00001                0.00001   \n",
       "\n",
       "   answer_type_reason_explanation  answer_well_written  \n",
       "0                         0.00001              0.00001  \n",
       "1                         0.00001              0.00001  \n",
       "2                         0.00001              0.00001  \n",
       "3                         0.00001              0.00001  \n",
       "4                         0.00001              0.00001  "
      ]
     },
     "execution_count": 16,
     "metadata": {},
     "output_type": "execute_result"
    }
   ],
   "source": [
    "sample_submission.head()"
   ]
  },
  {
   "cell_type": "code",
   "execution_count": 17,
   "metadata": {},
   "outputs": [],
   "source": [
    "pd.DataFrame(oofs, columns=TARGETS).to_csv(f'oofs/{model_name}_oofs.csv')"
   ]
  },
  {
   "cell_type": "code",
   "execution_count": 18,
   "metadata": {},
   "outputs": [
    {
     "data": {
      "text/html": [
       "<div>\n",
       "<style scoped>\n",
       "    .dataframe tbody tr th:only-of-type {\n",
       "        vertical-align: middle;\n",
       "    }\n",
       "\n",
       "    .dataframe tbody tr th {\n",
       "        vertical-align: top;\n",
       "    }\n",
       "\n",
       "    .dataframe thead th {\n",
       "        text-align: right;\n",
       "    }\n",
       "</style>\n",
       "<table border=\"1\" class=\"dataframe\">\n",
       "  <thead>\n",
       "    <tr style=\"text-align: right;\">\n",
       "      <th></th>\n",
       "      <th>question_asker_intent_understanding</th>\n",
       "      <th>question_body_critical</th>\n",
       "      <th>question_conversational</th>\n",
       "      <th>question_expect_short_answer</th>\n",
       "      <th>question_fact_seeking</th>\n",
       "      <th>question_has_commonly_accepted_answer</th>\n",
       "      <th>question_interestingness_others</th>\n",
       "      <th>question_interestingness_self</th>\n",
       "      <th>question_multi_intent</th>\n",
       "      <th>question_not_really_a_question</th>\n",
       "      <th>question_opinion_seeking</th>\n",
       "      <th>question_type_choice</th>\n",
       "      <th>question_type_compare</th>\n",
       "      <th>question_type_consequence</th>\n",
       "      <th>question_type_definition</th>\n",
       "      <th>question_type_entity</th>\n",
       "      <th>question_type_instructions</th>\n",
       "      <th>question_type_procedure</th>\n",
       "      <th>question_type_reason_explanation</th>\n",
       "      <th>question_type_spelling</th>\n",
       "      <th>question_well_written</th>\n",
       "      <th>answer_helpful</th>\n",
       "      <th>answer_level_of_information</th>\n",
       "      <th>answer_plausible</th>\n",
       "      <th>answer_relevance</th>\n",
       "      <th>answer_satisfaction</th>\n",
       "      <th>answer_type_instructions</th>\n",
       "      <th>answer_type_procedure</th>\n",
       "      <th>answer_type_reason_explanation</th>\n",
       "      <th>answer_well_written</th>\n",
       "    </tr>\n",
       "  </thead>\n",
       "  <tbody>\n",
       "    <tr>\n",
       "      <th>0</th>\n",
       "      <td>0.824995</td>\n",
       "      <td>0.839081</td>\n",
       "      <td>0.222960</td>\n",
       "      <td>0.505631</td>\n",
       "      <td>0.549995</td>\n",
       "      <td>0.350547</td>\n",
       "      <td>0.662391</td>\n",
       "      <td>0.585829</td>\n",
       "      <td>0.163218</td>\n",
       "      <td>0.001633</td>\n",
       "      <td>0.678233</td>\n",
       "      <td>0.114722</td>\n",
       "      <td>0.164695</td>\n",
       "      <td>0.054589</td>\n",
       "      <td>0.004002</td>\n",
       "      <td>0.064748</td>\n",
       "      <td>0.139741</td>\n",
       "      <td>0.129808</td>\n",
       "      <td>0.676338</td>\n",
       "      <td>0.000160</td>\n",
       "      <td>0.887810</td>\n",
       "      <td>0.868064</td>\n",
       "      <td>0.559511</td>\n",
       "      <td>0.938501</td>\n",
       "      <td>0.913278</td>\n",
       "      <td>0.669706</td>\n",
       "      <td>0.093739</td>\n",
       "      <td>0.098138</td>\n",
       "      <td>0.850143</td>\n",
       "      <td>0.786066</td>\n",
       "    </tr>\n",
       "    <tr>\n",
       "      <th>1</th>\n",
       "      <td>0.850146</td>\n",
       "      <td>0.736160</td>\n",
       "      <td>0.115323</td>\n",
       "      <td>0.636272</td>\n",
       "      <td>0.922460</td>\n",
       "      <td>0.670185</td>\n",
       "      <td>0.563241</td>\n",
       "      <td>0.681138</td>\n",
       "      <td>0.255924</td>\n",
       "      <td>0.001477</td>\n",
       "      <td>0.289376</td>\n",
       "      <td>0.105119</td>\n",
       "      <td>0.854127</td>\n",
       "      <td>0.006253</td>\n",
       "      <td>0.654609</td>\n",
       "      <td>0.063011</td>\n",
       "      <td>0.010212</td>\n",
       "      <td>0.018467</td>\n",
       "      <td>0.363406</td>\n",
       "      <td>0.010331</td>\n",
       "      <td>0.792338</td>\n",
       "      <td>0.574834</td>\n",
       "      <td>0.315407</td>\n",
       "      <td>0.722818</td>\n",
       "      <td>0.785856</td>\n",
       "      <td>0.341089</td>\n",
       "      <td>0.006675</td>\n",
       "      <td>0.016638</td>\n",
       "      <td>0.517173</td>\n",
       "      <td>0.730166</td>\n",
       "    </tr>\n",
       "    <tr>\n",
       "      <th>2</th>\n",
       "      <td>0.492040</td>\n",
       "      <td>0.158257</td>\n",
       "      <td>0.009776</td>\n",
       "      <td>0.707171</td>\n",
       "      <td>0.745663</td>\n",
       "      <td>0.826945</td>\n",
       "      <td>0.410036</td>\n",
       "      <td>0.241342</td>\n",
       "      <td>0.124268</td>\n",
       "      <td>0.003949</td>\n",
       "      <td>0.387279</td>\n",
       "      <td>0.319009</td>\n",
       "      <td>0.018759</td>\n",
       "      <td>0.007578</td>\n",
       "      <td>0.001543</td>\n",
       "      <td>0.181276</td>\n",
       "      <td>0.671487</td>\n",
       "      <td>0.307350</td>\n",
       "      <td>0.171864</td>\n",
       "      <td>0.000098</td>\n",
       "      <td>0.398562</td>\n",
       "      <td>0.881699</td>\n",
       "      <td>0.605037</td>\n",
       "      <td>0.927645</td>\n",
       "      <td>0.922824</td>\n",
       "      <td>0.709548</td>\n",
       "      <td>0.646001</td>\n",
       "      <td>0.401489</td>\n",
       "      <td>0.502080</td>\n",
       "      <td>0.699352</td>\n",
       "    </tr>\n",
       "    <tr>\n",
       "      <th>3</th>\n",
       "      <td>0.846779</td>\n",
       "      <td>0.770873</td>\n",
       "      <td>0.077598</td>\n",
       "      <td>0.852046</td>\n",
       "      <td>0.751771</td>\n",
       "      <td>0.851513</td>\n",
       "      <td>0.572210</td>\n",
       "      <td>0.647306</td>\n",
       "      <td>0.253346</td>\n",
       "      <td>0.000822</td>\n",
       "      <td>0.310385</td>\n",
       "      <td>0.959705</td>\n",
       "      <td>0.024458</td>\n",
       "      <td>0.027344</td>\n",
       "      <td>0.024472</td>\n",
       "      <td>0.014445</td>\n",
       "      <td>0.049737</td>\n",
       "      <td>0.152382</td>\n",
       "      <td>0.411526</td>\n",
       "      <td>0.003861</td>\n",
       "      <td>0.828489</td>\n",
       "      <td>0.839228</td>\n",
       "      <td>0.749247</td>\n",
       "      <td>0.868535</td>\n",
       "      <td>0.932507</td>\n",
       "      <td>0.787393</td>\n",
       "      <td>0.133111</td>\n",
       "      <td>0.233436</td>\n",
       "      <td>0.728135</td>\n",
       "      <td>0.729860</td>\n",
       "    </tr>\n",
       "    <tr>\n",
       "      <th>4</th>\n",
       "      <td>0.799871</td>\n",
       "      <td>0.781214</td>\n",
       "      <td>0.002448</td>\n",
       "      <td>0.698386</td>\n",
       "      <td>0.818497</td>\n",
       "      <td>0.906740</td>\n",
       "      <td>0.479204</td>\n",
       "      <td>0.452842</td>\n",
       "      <td>0.413144</td>\n",
       "      <td>0.000106</td>\n",
       "      <td>0.329290</td>\n",
       "      <td>0.694369</td>\n",
       "      <td>0.001246</td>\n",
       "      <td>0.000534</td>\n",
       "      <td>0.000586</td>\n",
       "      <td>0.004093</td>\n",
       "      <td>0.892503</td>\n",
       "      <td>0.277676</td>\n",
       "      <td>0.080933</td>\n",
       "      <td>0.000007</td>\n",
       "      <td>0.799487</td>\n",
       "      <td>0.779216</td>\n",
       "      <td>0.416838</td>\n",
       "      <td>0.839157</td>\n",
       "      <td>0.929598</td>\n",
       "      <td>0.644063</td>\n",
       "      <td>0.930900</td>\n",
       "      <td>0.164671</td>\n",
       "      <td>0.014530</td>\n",
       "      <td>0.520445</td>\n",
       "    </tr>\n",
       "    <tr>\n",
       "      <th>...</th>\n",
       "      <td>...</td>\n",
       "      <td>...</td>\n",
       "      <td>...</td>\n",
       "      <td>...</td>\n",
       "      <td>...</td>\n",
       "      <td>...</td>\n",
       "      <td>...</td>\n",
       "      <td>...</td>\n",
       "      <td>...</td>\n",
       "      <td>...</td>\n",
       "      <td>...</td>\n",
       "      <td>...</td>\n",
       "      <td>...</td>\n",
       "      <td>...</td>\n",
       "      <td>...</td>\n",
       "      <td>...</td>\n",
       "      <td>...</td>\n",
       "      <td>...</td>\n",
       "      <td>...</td>\n",
       "      <td>...</td>\n",
       "      <td>...</td>\n",
       "      <td>...</td>\n",
       "      <td>...</td>\n",
       "      <td>...</td>\n",
       "      <td>...</td>\n",
       "      <td>...</td>\n",
       "      <td>...</td>\n",
       "      <td>...</td>\n",
       "      <td>...</td>\n",
       "      <td>...</td>\n",
       "    </tr>\n",
       "    <tr>\n",
       "      <th>6074</th>\n",
       "      <td>0.890434</td>\n",
       "      <td>0.519066</td>\n",
       "      <td>0.194017</td>\n",
       "      <td>0.838707</td>\n",
       "      <td>0.642971</td>\n",
       "      <td>0.650544</td>\n",
       "      <td>0.721485</td>\n",
       "      <td>0.764290</td>\n",
       "      <td>0.408919</td>\n",
       "      <td>0.003322</td>\n",
       "      <td>0.471698</td>\n",
       "      <td>0.917598</td>\n",
       "      <td>0.087033</td>\n",
       "      <td>0.122147</td>\n",
       "      <td>0.016306</td>\n",
       "      <td>0.147373</td>\n",
       "      <td>0.034544</td>\n",
       "      <td>0.089485</td>\n",
       "      <td>0.439211</td>\n",
       "      <td>0.003433</td>\n",
       "      <td>0.709981</td>\n",
       "      <td>0.929897</td>\n",
       "      <td>0.778434</td>\n",
       "      <td>0.959622</td>\n",
       "      <td>0.965449</td>\n",
       "      <td>0.808886</td>\n",
       "      <td>0.066712</td>\n",
       "      <td>0.099371</td>\n",
       "      <td>0.897800</td>\n",
       "      <td>0.772115</td>\n",
       "    </tr>\n",
       "    <tr>\n",
       "      <th>6075</th>\n",
       "      <td>0.823117</td>\n",
       "      <td>0.233350</td>\n",
       "      <td>0.099722</td>\n",
       "      <td>0.519149</td>\n",
       "      <td>0.401122</td>\n",
       "      <td>0.441473</td>\n",
       "      <td>0.668441</td>\n",
       "      <td>0.685775</td>\n",
       "      <td>0.115838</td>\n",
       "      <td>0.006604</td>\n",
       "      <td>0.806521</td>\n",
       "      <td>0.017273</td>\n",
       "      <td>0.018316</td>\n",
       "      <td>0.008205</td>\n",
       "      <td>0.000684</td>\n",
       "      <td>0.019847</td>\n",
       "      <td>0.829442</td>\n",
       "      <td>0.425534</td>\n",
       "      <td>0.174332</td>\n",
       "      <td>0.000106</td>\n",
       "      <td>0.596372</td>\n",
       "      <td>0.867721</td>\n",
       "      <td>0.627735</td>\n",
       "      <td>0.948005</td>\n",
       "      <td>0.943039</td>\n",
       "      <td>0.680951</td>\n",
       "      <td>0.808550</td>\n",
       "      <td>0.392319</td>\n",
       "      <td>0.303323</td>\n",
       "      <td>0.830197</td>\n",
       "    </tr>\n",
       "    <tr>\n",
       "      <th>6076</th>\n",
       "      <td>0.535346</td>\n",
       "      <td>0.362333</td>\n",
       "      <td>0.001643</td>\n",
       "      <td>0.713402</td>\n",
       "      <td>0.666486</td>\n",
       "      <td>0.921263</td>\n",
       "      <td>0.397547</td>\n",
       "      <td>0.246205</td>\n",
       "      <td>0.161844</td>\n",
       "      <td>0.000933</td>\n",
       "      <td>0.491010</td>\n",
       "      <td>0.689478</td>\n",
       "      <td>0.000252</td>\n",
       "      <td>0.000833</td>\n",
       "      <td>0.000187</td>\n",
       "      <td>0.000887</td>\n",
       "      <td>0.903498</td>\n",
       "      <td>0.366816</td>\n",
       "      <td>0.144640</td>\n",
       "      <td>0.000007</td>\n",
       "      <td>0.356025</td>\n",
       "      <td>0.682032</td>\n",
       "      <td>0.410280</td>\n",
       "      <td>0.890419</td>\n",
       "      <td>0.880723</td>\n",
       "      <td>0.494310</td>\n",
       "      <td>0.700847</td>\n",
       "      <td>0.192230</td>\n",
       "      <td>0.703607</td>\n",
       "      <td>0.606872</td>\n",
       "    </tr>\n",
       "    <tr>\n",
       "      <th>6077</th>\n",
       "      <td>0.733128</td>\n",
       "      <td>0.340664</td>\n",
       "      <td>0.730017</td>\n",
       "      <td>0.226476</td>\n",
       "      <td>0.226313</td>\n",
       "      <td>0.100102</td>\n",
       "      <td>0.654028</td>\n",
       "      <td>0.773618</td>\n",
       "      <td>0.895540</td>\n",
       "      <td>0.005587</td>\n",
       "      <td>0.924401</td>\n",
       "      <td>0.634910</td>\n",
       "      <td>0.258844</td>\n",
       "      <td>0.159046</td>\n",
       "      <td>0.063051</td>\n",
       "      <td>0.084121</td>\n",
       "      <td>0.052718</td>\n",
       "      <td>0.333725</td>\n",
       "      <td>0.695917</td>\n",
       "      <td>0.001164</td>\n",
       "      <td>0.684034</td>\n",
       "      <td>0.718131</td>\n",
       "      <td>0.563402</td>\n",
       "      <td>0.820679</td>\n",
       "      <td>0.832294</td>\n",
       "      <td>0.483760</td>\n",
       "      <td>0.025513</td>\n",
       "      <td>0.114151</td>\n",
       "      <td>0.785270</td>\n",
       "      <td>0.760909</td>\n",
       "    </tr>\n",
       "    <tr>\n",
       "      <th>6078</th>\n",
       "      <td>0.749707</td>\n",
       "      <td>0.499614</td>\n",
       "      <td>0.140005</td>\n",
       "      <td>0.350922</td>\n",
       "      <td>0.824843</td>\n",
       "      <td>0.547459</td>\n",
       "      <td>0.563880</td>\n",
       "      <td>0.504641</td>\n",
       "      <td>0.901308</td>\n",
       "      <td>0.000395</td>\n",
       "      <td>0.513228</td>\n",
       "      <td>0.173628</td>\n",
       "      <td>0.603348</td>\n",
       "      <td>0.030301</td>\n",
       "      <td>0.024141</td>\n",
       "      <td>0.123565</td>\n",
       "      <td>0.019790</td>\n",
       "      <td>0.011929</td>\n",
       "      <td>0.961995</td>\n",
       "      <td>0.001452</td>\n",
       "      <td>0.647349</td>\n",
       "      <td>0.632519</td>\n",
       "      <td>0.396937</td>\n",
       "      <td>0.792323</td>\n",
       "      <td>0.725607</td>\n",
       "      <td>0.385481</td>\n",
       "      <td>0.033199</td>\n",
       "      <td>0.017514</td>\n",
       "      <td>0.950315</td>\n",
       "      <td>0.599376</td>\n",
       "    </tr>\n",
       "  </tbody>\n",
       "</table>\n",
       "<p>6079 rows × 30 columns</p>\n",
       "</div>"
      ],
      "text/plain": [
       "      question_asker_intent_understanding  question_body_critical  \\\n",
       "0                                0.824995                0.839081   \n",
       "1                                0.850146                0.736160   \n",
       "2                                0.492040                0.158257   \n",
       "3                                0.846779                0.770873   \n",
       "4                                0.799871                0.781214   \n",
       "...                                   ...                     ...   \n",
       "6074                             0.890434                0.519066   \n",
       "6075                             0.823117                0.233350   \n",
       "6076                             0.535346                0.362333   \n",
       "6077                             0.733128                0.340664   \n",
       "6078                             0.749707                0.499614   \n",
       "\n",
       "      question_conversational  question_expect_short_answer  \\\n",
       "0                    0.222960                      0.505631   \n",
       "1                    0.115323                      0.636272   \n",
       "2                    0.009776                      0.707171   \n",
       "3                    0.077598                      0.852046   \n",
       "4                    0.002448                      0.698386   \n",
       "...                       ...                           ...   \n",
       "6074                 0.194017                      0.838707   \n",
       "6075                 0.099722                      0.519149   \n",
       "6076                 0.001643                      0.713402   \n",
       "6077                 0.730017                      0.226476   \n",
       "6078                 0.140005                      0.350922   \n",
       "\n",
       "      question_fact_seeking  question_has_commonly_accepted_answer  \\\n",
       "0                  0.549995                               0.350547   \n",
       "1                  0.922460                               0.670185   \n",
       "2                  0.745663                               0.826945   \n",
       "3                  0.751771                               0.851513   \n",
       "4                  0.818497                               0.906740   \n",
       "...                     ...                                    ...   \n",
       "6074               0.642971                               0.650544   \n",
       "6075               0.401122                               0.441473   \n",
       "6076               0.666486                               0.921263   \n",
       "6077               0.226313                               0.100102   \n",
       "6078               0.824843                               0.547459   \n",
       "\n",
       "      question_interestingness_others  question_interestingness_self  \\\n",
       "0                            0.662391                       0.585829   \n",
       "1                            0.563241                       0.681138   \n",
       "2                            0.410036                       0.241342   \n",
       "3                            0.572210                       0.647306   \n",
       "4                            0.479204                       0.452842   \n",
       "...                               ...                            ...   \n",
       "6074                         0.721485                       0.764290   \n",
       "6075                         0.668441                       0.685775   \n",
       "6076                         0.397547                       0.246205   \n",
       "6077                         0.654028                       0.773618   \n",
       "6078                         0.563880                       0.504641   \n",
       "\n",
       "      question_multi_intent  question_not_really_a_question  \\\n",
       "0                  0.163218                        0.001633   \n",
       "1                  0.255924                        0.001477   \n",
       "2                  0.124268                        0.003949   \n",
       "3                  0.253346                        0.000822   \n",
       "4                  0.413144                        0.000106   \n",
       "...                     ...                             ...   \n",
       "6074               0.408919                        0.003322   \n",
       "6075               0.115838                        0.006604   \n",
       "6076               0.161844                        0.000933   \n",
       "6077               0.895540                        0.005587   \n",
       "6078               0.901308                        0.000395   \n",
       "\n",
       "      question_opinion_seeking  question_type_choice  question_type_compare  \\\n",
       "0                     0.678233              0.114722               0.164695   \n",
       "1                     0.289376              0.105119               0.854127   \n",
       "2                     0.387279              0.319009               0.018759   \n",
       "3                     0.310385              0.959705               0.024458   \n",
       "4                     0.329290              0.694369               0.001246   \n",
       "...                        ...                   ...                    ...   \n",
       "6074                  0.471698              0.917598               0.087033   \n",
       "6075                  0.806521              0.017273               0.018316   \n",
       "6076                  0.491010              0.689478               0.000252   \n",
       "6077                  0.924401              0.634910               0.258844   \n",
       "6078                  0.513228              0.173628               0.603348   \n",
       "\n",
       "      question_type_consequence  question_type_definition  \\\n",
       "0                      0.054589                  0.004002   \n",
       "1                      0.006253                  0.654609   \n",
       "2                      0.007578                  0.001543   \n",
       "3                      0.027344                  0.024472   \n",
       "4                      0.000534                  0.000586   \n",
       "...                         ...                       ...   \n",
       "6074                   0.122147                  0.016306   \n",
       "6075                   0.008205                  0.000684   \n",
       "6076                   0.000833                  0.000187   \n",
       "6077                   0.159046                  0.063051   \n",
       "6078                   0.030301                  0.024141   \n",
       "\n",
       "      question_type_entity  question_type_instructions  \\\n",
       "0                 0.064748                    0.139741   \n",
       "1                 0.063011                    0.010212   \n",
       "2                 0.181276                    0.671487   \n",
       "3                 0.014445                    0.049737   \n",
       "4                 0.004093                    0.892503   \n",
       "...                    ...                         ...   \n",
       "6074              0.147373                    0.034544   \n",
       "6075              0.019847                    0.829442   \n",
       "6076              0.000887                    0.903498   \n",
       "6077              0.084121                    0.052718   \n",
       "6078              0.123565                    0.019790   \n",
       "\n",
       "      question_type_procedure  question_type_reason_explanation  \\\n",
       "0                    0.129808                          0.676338   \n",
       "1                    0.018467                          0.363406   \n",
       "2                    0.307350                          0.171864   \n",
       "3                    0.152382                          0.411526   \n",
       "4                    0.277676                          0.080933   \n",
       "...                       ...                               ...   \n",
       "6074                 0.089485                          0.439211   \n",
       "6075                 0.425534                          0.174332   \n",
       "6076                 0.366816                          0.144640   \n",
       "6077                 0.333725                          0.695917   \n",
       "6078                 0.011929                          0.961995   \n",
       "\n",
       "      question_type_spelling  question_well_written  answer_helpful  \\\n",
       "0                   0.000160               0.887810        0.868064   \n",
       "1                   0.010331               0.792338        0.574834   \n",
       "2                   0.000098               0.398562        0.881699   \n",
       "3                   0.003861               0.828489        0.839228   \n",
       "4                   0.000007               0.799487        0.779216   \n",
       "...                      ...                    ...             ...   \n",
       "6074                0.003433               0.709981        0.929897   \n",
       "6075                0.000106               0.596372        0.867721   \n",
       "6076                0.000007               0.356025        0.682032   \n",
       "6077                0.001164               0.684034        0.718131   \n",
       "6078                0.001452               0.647349        0.632519   \n",
       "\n",
       "      answer_level_of_information  answer_plausible  answer_relevance  \\\n",
       "0                        0.559511          0.938501          0.913278   \n",
       "1                        0.315407          0.722818          0.785856   \n",
       "2                        0.605037          0.927645          0.922824   \n",
       "3                        0.749247          0.868535          0.932507   \n",
       "4                        0.416838          0.839157          0.929598   \n",
       "...                           ...               ...               ...   \n",
       "6074                     0.778434          0.959622          0.965449   \n",
       "6075                     0.627735          0.948005          0.943039   \n",
       "6076                     0.410280          0.890419          0.880723   \n",
       "6077                     0.563402          0.820679          0.832294   \n",
       "6078                     0.396937          0.792323          0.725607   \n",
       "\n",
       "      answer_satisfaction  answer_type_instructions  answer_type_procedure  \\\n",
       "0                0.669706                  0.093739               0.098138   \n",
       "1                0.341089                  0.006675               0.016638   \n",
       "2                0.709548                  0.646001               0.401489   \n",
       "3                0.787393                  0.133111               0.233436   \n",
       "4                0.644063                  0.930900               0.164671   \n",
       "...                   ...                       ...                    ...   \n",
       "6074             0.808886                  0.066712               0.099371   \n",
       "6075             0.680951                  0.808550               0.392319   \n",
       "6076             0.494310                  0.700847               0.192230   \n",
       "6077             0.483760                  0.025513               0.114151   \n",
       "6078             0.385481                  0.033199               0.017514   \n",
       "\n",
       "      answer_type_reason_explanation  answer_well_written  \n",
       "0                           0.850143             0.786066  \n",
       "1                           0.517173             0.730166  \n",
       "2                           0.502080             0.699352  \n",
       "3                           0.728135             0.729860  \n",
       "4                           0.014530             0.520445  \n",
       "...                              ...                  ...  \n",
       "6074                        0.897800             0.772115  \n",
       "6075                        0.303323             0.830197  \n",
       "6076                        0.703607             0.606872  \n",
       "6077                        0.785270             0.760909  \n",
       "6078                        0.950315             0.599376  \n",
       "\n",
       "[6079 rows x 30 columns]"
      ]
     },
     "execution_count": 18,
     "metadata": {},
     "output_type": "execute_result"
    }
   ],
   "source": [
    "pd.DataFrame(oofs, columns=TARGETS)"
   ]
  },
  {
   "cell_type": "code",
   "execution_count": 19,
   "metadata": {},
   "outputs": [
    {
     "data": {
      "text/plain": [
       "question_asker_intent_understanding      0.384986\n",
       "question_body_critical                   0.658606\n",
       "question_conversational                  0.410556\n",
       "question_expect_short_answer             0.298802\n",
       "question_fact_seeking                    0.353017\n",
       "question_has_commonly_accepted_answer    0.419794\n",
       "question_interestingness_others          0.353835\n",
       "question_interestingness_self            0.501855\n",
       "question_multi_intent                    0.584787\n",
       "question_not_really_a_question           0.102017\n",
       "question_opinion_seeking                 0.468204\n",
       "question_type_choice                     0.741295\n",
       "question_type_compare                    0.360128\n",
       "question_type_consequence                0.171058\n",
       "question_type_definition                 0.363915\n",
       "question_type_entity                     0.451666\n",
       "question_type_instructions               0.780327\n",
       "question_type_procedure                  0.356698\n",
       "question_type_reason_explanation         0.668135\n",
       "question_type_spelling                   0.066226\n",
       "question_well_written                    0.499656\n",
       "answer_helpful                           0.272324\n",
       "answer_level_of_information              0.451146\n",
       "answer_plausible                         0.172004\n",
       "answer_relevance                         0.171604\n",
       "answer_satisfaction                      0.361036\n",
       "answer_type_instructions                 0.759978\n",
       "answer_type_procedure                    0.301835\n",
       "answer_type_reason_explanation           0.682331\n",
       "answer_well_written                      0.213678\n",
       "dtype: float64"
      ]
     },
     "execution_count": 19,
     "metadata": {},
     "output_type": "execute_result"
    }
   ],
   "source": [
    "rs = pd.Series({col: spearmanr(oofs[:,i], y[:,i])[0] for i, col in enumerate(TARGETS)})\n",
    "rs"
   ]
  },
  {
   "cell_type": "code",
   "execution_count": 20,
   "metadata": {},
   "outputs": [
    {
     "data": {
      "text/html": [
       "<div>\n",
       "<style scoped>\n",
       "    .dataframe tbody tr th:only-of-type {\n",
       "        vertical-align: middle;\n",
       "    }\n",
       "\n",
       "    .dataframe tbody tr th {\n",
       "        vertical-align: top;\n",
       "    }\n",
       "\n",
       "    .dataframe thead th {\n",
       "        text-align: right;\n",
       "    }\n",
       "</style>\n",
       "<table border=\"1\" class=\"dataframe\">\n",
       "  <thead>\n",
       "    <tr style=\"text-align: right;\">\n",
       "      <th></th>\n",
       "      <th>SpearmanCorr</th>\n",
       "      <th>NUnique</th>\n",
       "    </tr>\n",
       "  </thead>\n",
       "  <tbody>\n",
       "    <tr>\n",
       "      <th>question_type_spelling</th>\n",
       "      <td>0.066226</td>\n",
       "      <td>3.0</td>\n",
       "    </tr>\n",
       "    <tr>\n",
       "      <th>question_not_really_a_question</th>\n",
       "      <td>0.102017</td>\n",
       "      <td>5.0</td>\n",
       "    </tr>\n",
       "    <tr>\n",
       "      <th>question_type_consequence</th>\n",
       "      <td>0.171058</td>\n",
       "      <td>5.0</td>\n",
       "    </tr>\n",
       "    <tr>\n",
       "      <th>answer_relevance</th>\n",
       "      <td>0.171604</td>\n",
       "      <td>9.0</td>\n",
       "    </tr>\n",
       "    <tr>\n",
       "      <th>answer_plausible</th>\n",
       "      <td>0.172004</td>\n",
       "      <td>9.0</td>\n",
       "    </tr>\n",
       "    <tr>\n",
       "      <th>answer_well_written</th>\n",
       "      <td>0.213678</td>\n",
       "      <td>9.0</td>\n",
       "    </tr>\n",
       "    <tr>\n",
       "      <th>answer_helpful</th>\n",
       "      <td>0.272324</td>\n",
       "      <td>9.0</td>\n",
       "    </tr>\n",
       "    <tr>\n",
       "      <th>question_expect_short_answer</th>\n",
       "      <td>0.298802</td>\n",
       "      <td>5.0</td>\n",
       "    </tr>\n",
       "    <tr>\n",
       "      <th>answer_type_procedure</th>\n",
       "      <td>0.301835</td>\n",
       "      <td>5.0</td>\n",
       "    </tr>\n",
       "    <tr>\n",
       "      <th>question_fact_seeking</th>\n",
       "      <td>0.353017</td>\n",
       "      <td>5.0</td>\n",
       "    </tr>\n",
       "    <tr>\n",
       "      <th>question_interestingness_others</th>\n",
       "      <td>0.353835</td>\n",
       "      <td>9.0</td>\n",
       "    </tr>\n",
       "    <tr>\n",
       "      <th>question_type_procedure</th>\n",
       "      <td>0.356698</td>\n",
       "      <td>5.0</td>\n",
       "    </tr>\n",
       "    <tr>\n",
       "      <th>question_type_compare</th>\n",
       "      <td>0.360128</td>\n",
       "      <td>5.0</td>\n",
       "    </tr>\n",
       "    <tr>\n",
       "      <th>answer_satisfaction</th>\n",
       "      <td>0.361036</td>\n",
       "      <td>17.0</td>\n",
       "    </tr>\n",
       "    <tr>\n",
       "      <th>question_type_definition</th>\n",
       "      <td>0.363915</td>\n",
       "      <td>5.0</td>\n",
       "    </tr>\n",
       "    <tr>\n",
       "      <th>question_asker_intent_understanding</th>\n",
       "      <td>0.384986</td>\n",
       "      <td>9.0</td>\n",
       "    </tr>\n",
       "    <tr>\n",
       "      <th>question_conversational</th>\n",
       "      <td>0.410556</td>\n",
       "      <td>5.0</td>\n",
       "    </tr>\n",
       "    <tr>\n",
       "      <th>question_has_commonly_accepted_answer</th>\n",
       "      <td>0.419794</td>\n",
       "      <td>5.0</td>\n",
       "    </tr>\n",
       "    <tr>\n",
       "      <th>answer_level_of_information</th>\n",
       "      <td>0.451146</td>\n",
       "      <td>9.0</td>\n",
       "    </tr>\n",
       "    <tr>\n",
       "      <th>question_type_entity</th>\n",
       "      <td>0.451666</td>\n",
       "      <td>5.0</td>\n",
       "    </tr>\n",
       "    <tr>\n",
       "      <th>question_opinion_seeking</th>\n",
       "      <td>0.468204</td>\n",
       "      <td>5.0</td>\n",
       "    </tr>\n",
       "    <tr>\n",
       "      <th>question_well_written</th>\n",
       "      <td>0.499656</td>\n",
       "      <td>9.0</td>\n",
       "    </tr>\n",
       "    <tr>\n",
       "      <th>question_interestingness_self</th>\n",
       "      <td>0.501855</td>\n",
       "      <td>9.0</td>\n",
       "    </tr>\n",
       "    <tr>\n",
       "      <th>question_multi_intent</th>\n",
       "      <td>0.584787</td>\n",
       "      <td>5.0</td>\n",
       "    </tr>\n",
       "    <tr>\n",
       "      <th>question_body_critical</th>\n",
       "      <td>0.658606</td>\n",
       "      <td>9.0</td>\n",
       "    </tr>\n",
       "    <tr>\n",
       "      <th>question_type_reason_explanation</th>\n",
       "      <td>0.668135</td>\n",
       "      <td>5.0</td>\n",
       "    </tr>\n",
       "    <tr>\n",
       "      <th>answer_type_reason_explanation</th>\n",
       "      <td>0.682331</td>\n",
       "      <td>5.0</td>\n",
       "    </tr>\n",
       "    <tr>\n",
       "      <th>question_type_choice</th>\n",
       "      <td>0.741295</td>\n",
       "      <td>5.0</td>\n",
       "    </tr>\n",
       "    <tr>\n",
       "      <th>answer_type_instructions</th>\n",
       "      <td>0.759978</td>\n",
       "      <td>5.0</td>\n",
       "    </tr>\n",
       "    <tr>\n",
       "      <th>question_type_instructions</th>\n",
       "      <td>0.780327</td>\n",
       "      <td>5.0</td>\n",
       "    </tr>\n",
       "  </tbody>\n",
       "</table>\n",
       "</div>"
      ],
      "text/plain": [
       "                                       SpearmanCorr  NUnique\n",
       "question_type_spelling                     0.066226      3.0\n",
       "question_not_really_a_question             0.102017      5.0\n",
       "question_type_consequence                  0.171058      5.0\n",
       "answer_relevance                           0.171604      9.0\n",
       "answer_plausible                           0.172004      9.0\n",
       "answer_well_written                        0.213678      9.0\n",
       "answer_helpful                             0.272324      9.0\n",
       "question_expect_short_answer               0.298802      5.0\n",
       "answer_type_procedure                      0.301835      5.0\n",
       "question_fact_seeking                      0.353017      5.0\n",
       "question_interestingness_others            0.353835      9.0\n",
       "question_type_procedure                    0.356698      5.0\n",
       "question_type_compare                      0.360128      5.0\n",
       "answer_satisfaction                        0.361036     17.0\n",
       "question_type_definition                   0.363915      5.0\n",
       "question_asker_intent_understanding        0.384986      9.0\n",
       "question_conversational                    0.410556      5.0\n",
       "question_has_commonly_accepted_answer      0.419794      5.0\n",
       "answer_level_of_information                0.451146      9.0\n",
       "question_type_entity                       0.451666      5.0\n",
       "question_opinion_seeking                   0.468204      5.0\n",
       "question_well_written                      0.499656      9.0\n",
       "question_interestingness_self              0.501855      9.0\n",
       "question_multi_intent                      0.584787      5.0\n",
       "question_body_critical                     0.658606      9.0\n",
       "question_type_reason_explanation           0.668135      5.0\n",
       "answer_type_reason_explanation             0.682331      5.0\n",
       "question_type_choice                       0.741295      5.0\n",
       "answer_type_instructions                   0.759978      5.0\n",
       "question_type_instructions                 0.780327      5.0"
      ]
     },
     "execution_count": 20,
     "metadata": {},
     "output_type": "execute_result"
    }
   ],
   "source": [
    "rs_df = pd.DataFrame(np.vstack([rs.values.flatten(), train[TARGETS].nunique()]).T, \n",
    "                     columns=['SpearmanCorr', 'NUnique'], index=rs.index)\n",
    "rs_df.sort_values('SpearmanCorr', ascending=True)"
   ]
  },
  {
   "cell_type": "code",
   "execution_count": 21,
   "metadata": {},
   "outputs": [
    {
     "data": {
      "text/plain": [
       "Index(['question_type_spelling', 'question_not_really_a_question',\n",
       "       'question_type_consequence', 'answer_relevance', 'answer_plausible'],\n",
       "      dtype='object')"
      ]
     },
     "execution_count": 21,
     "metadata": {},
     "output_type": "execute_result"
    }
   ],
   "source": [
    "sorted_targets = rs_df.sort_values('SpearmanCorr', ascending=True).index\n",
    "worst_five_targets = sorted_targets[:5]\n",
    "worst_five_targets"
   ]
  },
  {
   "cell_type": "code",
   "execution_count": 22,
   "metadata": {
    "scrolled": true
   },
   "outputs": [
    {
     "data": {
      "image/png": "[encoded data removed]",
      "text/plain": [
       "<Figure size 432x288 with 1 Axes>"
      ]
     },
     "metadata": {
      "needs_background": "light"
     },
     "output_type": "display_data"
    },
    {
     "data": {
      "image/png": "[encoded data removed]",
      "text/plain": [
       "<Figure size 432x288 with 1 Axes>"
      ]
     },
     "metadata": {
      "needs_background": "light"
     },
     "output_type": "display_data"
    },
    {
     "data": {
      "image/png": "[encoded data removed]",
      "text/plain": [
       "<Figure size 432x288 with 1 Axes>"
      ]
     },
     "metadata": {
      "needs_background": "light"
     },
     "output_type": "display_data"
    },
    {
     "data": {
      "image/png": "[encoded data removed]",
      "text/plain": [
       "<Figure size 432x288 with 1 Axes>"
      ]
     },
     "metadata": {
      "needs_background": "light"
     },
     "output_type": "display_data"
    },
    {
     "data": {
      "image/png": "[encoded data removed]",
      "text/plain": [
       "<Figure size 432x288 with 1 Axes>"
      ]
     },
     "metadata": {
      "needs_background": "light"
     },
     "output_type": "display_data"
    }
   ],
   "source": [
    "for col in worst_five_targets:\n",
    "    plt.figure()\n",
    "    train[col].hist()\n",
    "    plt.title(f'{col} {np.round(rs[col],3)}')"
   ]
  },
  {
   "cell_type": "code",
   "execution_count": 23,
   "metadata": {},
   "outputs": [
    {
     "name": "stderr",
     "output_type": "stream",
     "text": [
      "/home/robin/anaconda3/envs/GoogleQuest/lib/python3.7/site-packages/ipykernel_launcher.py:2: RuntimeWarning: More than 20 figures have been opened. Figures created through the pyplot interface (`matplotlib.pyplot.figure`) are retained until explicitly closed and may consume too much memory. (To control this warning, see the rcParam `figure.max_open_warning`).\n",
      "  \n"
     ]
    },
    {
     "data": {
      "image/png": "[encoded data removed]",
      "text/plain": [
       "<Figure size 432x288 with 1 Axes>"
      ]
     },
     "metadata": {
      "needs_background": "light"
     },
     "output_type": "display_data"
    },
    {
     "data": {
      "image/png": "[encoded data removed]",
      "text/plain": [
       "<Figure size 432x288 with 1 Axes>"
      ]
     },
     "metadata": {
      "needs_background": "light"
     },
     "output_type": "display_data"
    },
    {
     "data": {
      "image/png": "[encoded data removed]",
      "text/plain": [
       "<Figure size 432x288 with 1 Axes>"
      ]
     },
     "metadata": {
      "needs_background": "light"
     },
     "output_type": "display_data"
    },
    {
     "data": {
      "image/png": "[encoded data removed]",
      "text/plain": [
       "<Figure size 432x288 with 1 Axes>"
      ]
     },
     "metadata": {
      "needs_background": "light"
     },
     "output_type": "display_data"
    },
    {
     "data": {
      "image/png": "[encoded data removed]",
      "text/plain": [
       "<Figure size 432x288 with 1 Axes>"
      ]
     },
     "metadata": {
      "needs_background": "light"
     },
     "output_type": "display_data"
    },
    {
     "data": {
      "image/png": "[encoded data removed]",
      "text/plain": [
       "<Figure size 432x288 with 1 Axes>"
      ]
     },
     "metadata": {
      "needs_background": "light"
     },
     "output_type": "display_data"
    },
    {
     "data": {
      "image/png": "[encoded data removed]",
      "text/plain": [
       "<Figure size 432x288 with 1 Axes>"
      ]
     },
     "metadata": {
      "needs_background": "light"
     },
     "output_type": "display_data"
    },
    {
     "data": {
      "image/png": "[encoded data removed]",
      "text/plain": [
       "<Figure size 432x288 with 1 Axes>"
      ]
     },
     "metadata": {
      "needs_background": "light"
     },
     "output_type": "display_data"
    },
    {
     "data": {
      "image/png": "[encoded data removed]",
      "text/plain": [
       "<Figure size 432x288 with 1 Axes>"
      ]
     },
     "metadata": {
      "needs_background": "light"
     },
     "output_type": "display_data"
    },
    {
     "data": {
      "image/png": "[encoded data removed]",
      "text/plain": [
       "<Figure size 432x288 with 1 Axes>"
      ]
     },
     "metadata": {
      "needs_background": "light"
     },
     "output_type": "display_data"
    },
    {
     "data": {
      "image/png": "[encoded data removed]",
      "text/plain": [
       "<Figure size 432x288 with 1 Axes>"
      ]
     },
     "metadata": {
      "needs_background": "light"
     },
     "output_type": "display_data"
    },
    {
     "data": {
      "image/png": "[encoded data removed]",
      "text/plain": [
       "<Figure size 432x288 with 1 Axes>"
      ]
     },
     "metadata": {
      "needs_background": "light"
     },
     "output_type": "display_data"
    },
    {
     "data": {
      "image/png": "[encoded data removed]",
      "text/plain": [
       "<Figure size 432x288 with 1 Axes>"
      ]
     },
     "metadata": {
      "needs_background": "light"
     },
     "output_type": "display_data"
    },
    {
     "data": {
      "image/png": "[encoded data removed]",
      "text/plain": [
       "<Figure size 432x288 with 1 Axes>"
      ]
     },
     "metadata": {
      "needs_background": "light"
     },
     "output_type": "display_data"
    },
    {
     "data": {
      "image/png": "[encoded data removed]",
      "text/plain": [
       "<Figure size 432x288 with 1 Axes>"
      ]
     },
     "metadata": {
      "needs_background": "light"
     },
     "output_type": "display_data"
    },
    {
     "data": {
      "image/png": "[encoded data removed]",
      "text/plain": [
       "<Figure size 432x288 with 1 Axes>"
      ]
     },
     "metadata": {
      "needs_background": "light"
     },
     "output_type": "display_data"
    },
    {
     "data": {
      "image/png": "[encoded data removed]",
      "text/plain": [
       "<Figure size 432x288 with 1 Axes>"
      ]
     },
     "metadata": {
      "needs_background": "light"
     },
     "output_type": "display_data"
    },
    {
     "data": {
      "image/png": "[encoded data removed]",
      "text/plain": [
       "<Figure size 432x288 with 1 Axes>"
      ]
     },
     "metadata": {
      "needs_background": "light"
     },
     "output_type": "display_data"
    },
    {
     "data": {
      "image/png": "[encoded data removed]",
      "text/plain": [
       "<Figure size 432x288 with 1 Axes>"
      ]
     },
     "metadata": {
      "needs_background": "light"
     },
     "output_type": "display_data"
    },
    {
     "data": {
      "image/png": "[encoded data removed]",
      "text/plain": [
       "<Figure size 432x288 with 1 Axes>"
      ]
     },
     "metadata": {
      "needs_background": "light"
     },
     "output_type": "display_data"
    },
    {
     "data": {
      "image/png": "[encoded data removed]",
      "text/plain": [
       "<Figure size 432x288 with 1 Axes>"
      ]
     },
     "metadata": {
      "needs_background": "light"
     },
     "output_type": "display_data"
    },
    {
     "data": {
      "image/png": "[encoded data removed]",
      "text/plain": [
       "<Figure size 432x288 with 1 Axes>"
      ]
     },
     "metadata": {
      "needs_background": "light"
     },
     "output_type": "display_data"
    },
    {
     "data": {
      "image/png": "[encoded data removed]",
      "text/plain": [
       "<Figure size 432x288 with 1 Axes>"
      ]
     },
     "metadata": {
      "needs_background": "light"
     },
     "output_type": "display_data"
    },
    {
     "data": {
      "image/png": "[encoded data removed]",
      "text/plain": [
       "<Figure size 432x288 with 1 Axes>"
      ]
     },
     "metadata": {
      "needs_background": "light"
     },
     "output_type": "display_data"
    },
    {
     "data": {
      "image/png": "[encoded data removed]",
      "text/plain": [
       "<Figure size 432x288 with 1 Axes>"
      ]
     },
     "metadata": {
      "needs_background": "light"
     },
     "output_type": "display_data"
    }
   ],
   "source": [
    "for col in [target for target in sorted_targets if target not in worst_five_targets]:\n",
    "    plt.figure()\n",
    "    train[col].hist()\n",
    "    plt.title(f'{col} {np.round(rs[col],3)}')"
   ]
  },
  {
   "cell_type": "code",
   "execution_count": null,
   "metadata": {},
   "outputs": [],
   "source": []
  }
 ],
 "metadata": {
  "kernelspec": {
   "display_name": "Python 3",
   "language": "python",
   "name": "python3"
  },
  "language_info": {
   "codemirror_mode": {
    "name": "ipython",
    "version": 3
   },
   "file_extension": ".py",
   "mimetype": "text/x-python",
   "name": "python",
   "nbconvert_exporter": "python",
   "pygments_lexer": "ipython3",
   "version": "3.7.5"
  }
 },
 "nbformat": 4,
 "nbformat_minor": 1
}
