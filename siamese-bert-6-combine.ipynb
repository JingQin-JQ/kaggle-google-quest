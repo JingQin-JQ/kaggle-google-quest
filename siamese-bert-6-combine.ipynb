{
 "cells": [
  {
   "cell_type": "markdown",
   "metadata": {},
   "source": [
    "## Importing libraries"
   ]
  },
  {
   "cell_type": "code",
   "execution_count": 1,
   "metadata": {
    "_kg_hide-input": true
   },
   "outputs": [],
   "source": [
    "import numpy as np\n",
    "import pandas as pd\n",
    "import matplotlib.pyplot as plt\n",
    "import seaborn as sns\n",
    "import time\n",
    "import datetime\n",
    "import re\n",
    "import gc\n",
    "import copy\n",
    "\n",
    "from scipy.stats import spearmanr\n",
    "from sklearn.model_selection import GroupKFold\n",
    "from sklearn.preprocessing import OneHotEncoder, MinMaxScaler\n",
    "\n",
    "import torch\n",
    "import torch.nn as nn\n",
    "import torch.optim as optim\n",
    "import torch.nn.functional as F\n",
    "from torch.utils.data import DataLoader\n",
    "\n",
    "from tqdm import tqdm_notebook as tqdm\n",
    "from transformers import BertTokenizer\n",
    "import transformers\n",
    "\n",
    "from radam import RAdam\n",
    "from text_data import TextDataset5 as TextDataset\n",
    "from bert import CustomBert3\n",
    "from create_features import get_categorical_features\n",
    "from losses_metrics import spearmanr_torch, spearmanr_np, optimize_rounding_params, get_cvs, spearmanr\n",
    "from inference import infer\n",
    "from common import *\n",
    "from utils.helpers import init_logger, init_seed\n",
    "from utils.torch import to_cpu\n",
    "\n",
    "%matplotlib inline\n",
    "pd.set_option('max_colwidth',400)"
   ]
  },
  {
   "cell_type": "markdown",
   "metadata": {},
   "source": [
    "## Loading and preparing data"
   ]
  },
  {
   "cell_type": "code",
   "execution_count": 2,
   "metadata": {
    "_cell_guid": "b1076dfc-b9ad-4769-8c92-a6c4dae69d19",
    "_uuid": "8f2839f25d086af736a60e9eeb907d3b93b6e0e5"
   },
   "outputs": [],
   "source": [
    "pd.set_option('max_rows', 500)\n",
    "pd.set_option('max_columns', 500)\n",
    "path = 'data/'\n",
    "sample_submission = pd.read_csv(f'{path}sample_submission.csv')\n",
    "test = pd.read_csv(f'{path}test.csv').fillna(' ')\n",
    "train = pd.read_csv(f'{path}train.csv').fillna(' ')"
   ]
  },
  {
   "cell_type": "code",
   "execution_count": 3,
   "metadata": {},
   "outputs": [
    {
     "name": "stderr",
     "output_type": "stream",
     "text": [
      "/home/robin/anaconda3/envs/GoogleQuest/lib/python3.7/site-packages/ipykernel_launcher.py:9: TqdmDeprecationWarning: This function will be removed in tqdm==5.0.0\n",
      "Please use `tqdm.notebook.tqdm` instead of `tqdm.tqdm_notebook`\n",
      "  if __name__ == '__main__':\n"
     ]
    },
    {
     "data": {
      "application/vnd.jupyter.widget-view+json": {
       "model_id": "4eea46159de342c6bd35a818fe5cea7c",
       "version_major": 2,
       "version_minor": 0
      },
      "text/plain": [
       "HBox(children=(IntProgress(value=0, max=6079), HTML(value='')))"
      ]
     },
     "metadata": {},
     "output_type": "display_data"
    },
    {
     "name": "stdout",
     "output_type": "stream",
     "text": [
      "\n"
     ]
    },
    {
     "data": {
      "application/vnd.jupyter.widget-view+json": {
       "model_id": "8855ed170fb145e8ae166905db293d4a",
       "version_major": 2,
       "version_minor": 0
      },
      "text/plain": [
       "HBox(children=(IntProgress(value=0, max=6079), HTML(value='')))"
      ]
     },
     "metadata": {},
     "output_type": "display_data"
    },
    {
     "name": "stdout",
     "output_type": "stream",
     "text": [
      "\n"
     ]
    },
    {
     "data": {
      "application/vnd.jupyter.widget-view+json": {
       "model_id": "9af62e542d19496ea2ec47491d683614",
       "version_major": 2,
       "version_minor": 0
      },
      "text/plain": [
       "HBox(children=(IntProgress(value=0, max=476), HTML(value='')))"
      ]
     },
     "metadata": {},
     "output_type": "display_data"
    },
    {
     "name": "stdout",
     "output_type": "stream",
     "text": [
      "\n"
     ]
    },
    {
     "data": {
      "application/vnd.jupyter.widget-view+json": {
       "model_id": "b4676b41dfb04161a86ac924b03efa92",
       "version_major": 2,
       "version_minor": 0
      },
      "text/plain": [
       "HBox(children=(IntProgress(value=0, max=476), HTML(value='')))"
      ]
     },
     "metadata": {},
     "output_type": "display_data"
    },
    {
     "name": "stdout",
     "output_type": "stream",
     "text": [
      "\n",
      "CPU times: user 32.2 s, sys: 244 ms, total: 32.5 s\n",
      "Wall time: 32.6 s\n"
     ]
    }
   ],
   "source": [
    "%%time\n",
    "tokenizer = BertTokenizer.from_pretrained('bert-base-uncased')\n",
    "seg_ids_train, ids_train = {}, {}\n",
    "seg_ids_test, ids_test = {}, {}\n",
    "max_seq_len = 512\n",
    "for mode, df in [('train', train), ('test', test)]:\n",
    "    for text, cols in [('question', ['question_title', 'question_body']), \n",
    "                       ('answer', ['question_title', 'answer'])]:\n",
    "        ids, seg_ids = [], []\n",
    "        for x1, x2 in tqdm(df[cols].values):\n",
    "            encoded_inputs = tokenizer.encode_plus(\n",
    "                x1, x2, add_special_tokens=True, max_length=max_seq_len, pad_to_max_length=True, \n",
    "                return_token_type_ids=True\n",
    "            )\n",
    "            ids.append(encoded_inputs['input_ids'])\n",
    "            seg_ids.append(encoded_inputs['token_type_ids'])\n",
    "        if mode == 'train': \n",
    "            ids_train[text] = np.array(ids)\n",
    "            seg_ids_train[text] = np.array(seg_ids)\n",
    "        else: \n",
    "            ids_test[text] = np.array(ids)\n",
    "            seg_ids_test[text] = np.array(seg_ids)"
   ]
  },
  {
   "cell_type": "code",
   "execution_count": 4,
   "metadata": {
    "code_folding": []
   },
   "outputs": [],
   "source": [
    "train_category, test_category, category_dict, category_dict_reverse = \\\n",
    "    get_categorical_features(train, test, 'category')"
   ]
  },
  {
   "cell_type": "code",
   "execution_count": 5,
   "metadata": {},
   "outputs": [
    {
     "name": "stderr",
     "output_type": "stream",
     "text": [
      "/home/robin/anaconda3/envs/GoogleQuest/lib/python3.7/site-packages/sklearn/preprocessing/_encoders.py:415: FutureWarning: The handling of integer data will change in version 0.22. Currently, the categories are determined based on the range [0, max(values)], while in the future they will be determined based on the unique values.\n",
      "If you want the future behaviour and silence this warning, you can specify \"categories='auto'\".\n",
      "In case you used a LabelEncoder before this OneHotEncoder to convert the categories to integers, then you can now use the OneHotEncoder directly.\n",
      "  warnings.warn(msg, FutureWarning)\n"
     ]
    }
   ],
   "source": [
    "cat_features_train = train_category.reshape(-1, 1)\n",
    "cat_features_test = test_category.reshape(-1, 1)\n",
    "ohe = OneHotEncoder()\n",
    "ohe.fit(cat_features_train)\n",
    "cat_features_train = ohe.transform(cat_features_train).toarray()\n",
    "cat_features_test = ohe.transform(cat_features_test).toarray()"
   ]
  },
  {
   "cell_type": "code",
   "execution_count": 6,
   "metadata": {},
   "outputs": [],
   "source": [
    "for col in TARGETS:\n",
    "    train[col] = train[col].rank(method=\"average\")\n",
    "train[TARGETS] = MinMaxScaler().fit_transform(train[TARGETS])\n",
    "y = train[TARGETS].values.astype(np.float32)\n",
    "ix = np.where(train.groupby(\"question_body\")[\"host\"].transform(\"count\") == 1)[0]"
   ]
  },
  {
   "cell_type": "code",
   "execution_count": 7,
   "metadata": {},
   "outputs": [],
   "source": [
    "num_workers = 10\n",
    "bs = 2"
   ]
  },
  {
   "cell_type": "markdown",
   "metadata": {},
   "source": [
    "## Training model"
   ]
  },
  {
   "cell_type": "code",
   "execution_count": 8,
   "metadata": {},
   "outputs": [],
   "source": [
    "device = 'cuda'\n",
    "pretrained_model = 'siamese_bert_5'\n",
    "model_name = 'siamese_bert_6'\n",
    "checkpoint_dir = 'checkpoints/'\n",
    "early_stopping = None\n",
    "n_folds = 10"
   ]
  },
  {
   "cell_type": "code",
   "execution_count": 9,
   "metadata": {},
   "outputs": [],
   "source": [
    "def load_model(checkpoint_file, model):\n",
    "    checkpoint = torch.load(checkpoint_file)\n",
    "    model.load_state_dict(checkpoint['model_state_dict'])\n",
    "    \n",
    "def get_pretrained_model(fold_id):\n",
    "    checkpoint_file = f'{checkpoint_dir}{pretrained_model}_fold_{fold_id+1}_best.pth'\n",
    "    model = CustomBert3(256, cat_features_train.shape[1])\n",
    "    load_model(checkpoint_file, model)\n",
    "    return model\n",
    "\n",
    "def load_head(model, fold_id):\n",
    "    checkpoint_file = f'{checkpoint_dir}{model_name}_fold_{fold_id+1}_best.pth'\n",
    "    load_model(checkpoint_file, model.head)\n",
    "\n",
    "def save_model(model):\n",
    "    checkpoint_file = f'{checkpoint_dir}{model_name}_comb_fold_{fold_id+1}_best.pth'\n",
    "    torch.save({'model_state_dict': model.state_dict()}, checkpoint_file)\n",
    "    \n",
    "def load_saved_model(model):\n",
    "    checkpoint_file = f'{checkpoint_dir}{model_name}_comb_fold_{fold_id+1}_best.pth'\n",
    "    load_model(checkpoint_file, model)"
   ]
  },
  {
   "cell_type": "code",
   "execution_count": 10,
   "metadata": {
    "scrolled": true
   },
   "outputs": [
    {
     "name": "stdout",
     "output_type": "stream",
     "text": [
      "Fold 1 started at Wed Jan 29 20:13:29 2020\n"
     ]
    },
    {
     "data": {
      "application/vnd.jupyter.widget-view+json": {
       "model_id": "8f80b6ca2ba441468b047d3c41e2e08d",
       "version_major": 2,
       "version_minor": 0
      },
      "text/plain": [
       "HBox(children=(IntProgress(value=0, max=304), HTML(value='')))"
      ]
     },
     "metadata": {},
     "output_type": "display_data"
    },
    {
     "name": "stdout",
     "output_type": "stream",
     "text": [
      "\n",
      "Averaged Val. score: 0.42102484916200233\n",
      "Fold 2 started at Wed Jan 29 20:13:54 2020\n"
     ]
    },
    {
     "name": "stderr",
     "output_type": "stream",
     "text": [
      "/home/robin/anaconda3/envs/GoogleQuest/lib/python3.7/site-packages/numpy/lib/function_base.py:2534: RuntimeWarning: invalid value encountered in true_divide\n",
      "  c /= stddev[:, None]\n",
      "/home/robin/anaconda3/envs/GoogleQuest/lib/python3.7/site-packages/numpy/lib/function_base.py:2535: RuntimeWarning: invalid value encountered in true_divide\n",
      "  c /= stddev[None, :]\n",
      "/home/robin/anaconda3/envs/GoogleQuest/lib/python3.7/site-packages/scipy/stats/_distn_infrastructure.py:901: RuntimeWarning: invalid value encountered in greater\n",
      "  return (a < x) & (x < b)\n",
      "/home/robin/anaconda3/envs/GoogleQuest/lib/python3.7/site-packages/scipy/stats/_distn_infrastructure.py:901: RuntimeWarning: invalid value encountered in less\n",
      "  return (a < x) & (x < b)\n",
      "/home/robin/anaconda3/envs/GoogleQuest/lib/python3.7/site-packages/scipy/stats/_distn_infrastructure.py:1892: RuntimeWarning: invalid value encountered in less_equal\n",
      "  cond2 = cond0 & (x <= _a)\n"
     ]
    },
    {
     "data": {
      "application/vnd.jupyter.widget-view+json": {
       "model_id": "fbfe55fbd0694074a26ca35274048ca0",
       "version_major": 2,
       "version_minor": 0
      },
      "text/plain": [
       "HBox(children=(IntProgress(value=0, max=304), HTML(value='')))"
      ]
     },
     "metadata": {},
     "output_type": "display_data"
    },
    {
     "name": "stdout",
     "output_type": "stream",
     "text": [
      "\n",
      "Averaged Val. score: 0.4229482451426362\n",
      "Fold 3 started at Wed Jan 29 20:14:18 2020\n"
     ]
    },
    {
     "data": {
      "application/vnd.jupyter.widget-view+json": {
       "model_id": "325d8ac39f3c455cbb54b4f0e6cfb288",
       "version_major": 2,
       "version_minor": 0
      },
      "text/plain": [
       "HBox(children=(IntProgress(value=0, max=304), HTML(value='')))"
      ]
     },
     "metadata": {},
     "output_type": "display_data"
    },
    {
     "name": "stdout",
     "output_type": "stream",
     "text": [
      "\n",
      "Averaged Val. score: 0.3979015789472598\n",
      "Fold 4 started at Wed Jan 29 20:14:41 2020\n"
     ]
    },
    {
     "data": {
      "application/vnd.jupyter.widget-view+json": {
       "model_id": "d1b8b0e76ff4401086a345bdeef8d663",
       "version_major": 2,
       "version_minor": 0
      },
      "text/plain": [
       "HBox(children=(IntProgress(value=0, max=304), HTML(value='')))"
      ]
     },
     "metadata": {},
     "output_type": "display_data"
    },
    {
     "name": "stdout",
     "output_type": "stream",
     "text": [
      "\n",
      "Averaged Val. score: 0.3981118204195437\n",
      "Fold 5 started at Wed Jan 29 20:15:05 2020\n"
     ]
    },
    {
     "data": {
      "application/vnd.jupyter.widget-view+json": {
       "model_id": "3d2b3a1fbe38405a87aa2b0567a88227",
       "version_major": 2,
       "version_minor": 0
      },
      "text/plain": [
       "HBox(children=(IntProgress(value=0, max=304), HTML(value='')))"
      ]
     },
     "metadata": {},
     "output_type": "display_data"
    },
    {
     "name": "stdout",
     "output_type": "stream",
     "text": [
      "\n",
      "Averaged Val. score: 0.4050767697630596\n",
      "Fold 6 started at Wed Jan 29 20:15:29 2020\n"
     ]
    },
    {
     "data": {
      "application/vnd.jupyter.widget-view+json": {
       "model_id": "20fb26bbe0b74e589e91b8f7faeaf2f5",
       "version_major": 2,
       "version_minor": 0
      },
      "text/plain": [
       "HBox(children=(IntProgress(value=0, max=304), HTML(value='')))"
      ]
     },
     "metadata": {},
     "output_type": "display_data"
    },
    {
     "name": "stdout",
     "output_type": "stream",
     "text": [
      "\n",
      "Averaged Val. score: 0.39476879457851694\n",
      "Fold 7 started at Wed Jan 29 20:15:54 2020\n"
     ]
    },
    {
     "data": {
      "application/vnd.jupyter.widget-view+json": {
       "model_id": "971d45fe90534894bb8ae5613279ac6e",
       "version_major": 2,
       "version_minor": 0
      },
      "text/plain": [
       "HBox(children=(IntProgress(value=0, max=304), HTML(value='')))"
      ]
     },
     "metadata": {},
     "output_type": "display_data"
    },
    {
     "name": "stdout",
     "output_type": "stream",
     "text": [
      "\n",
      "Averaged Val. score: 0.41471679667783107\n",
      "Fold 8 started at Wed Jan 29 20:16:18 2020\n"
     ]
    },
    {
     "data": {
      "application/vnd.jupyter.widget-view+json": {
       "model_id": "5185e61550c44b2bb8c9fda7a5e3fa8a",
       "version_major": 2,
       "version_minor": 0
      },
      "text/plain": [
       "HBox(children=(IntProgress(value=0, max=304), HTML(value='')))"
      ]
     },
     "metadata": {},
     "output_type": "display_data"
    },
    {
     "name": "stdout",
     "output_type": "stream",
     "text": [
      "\n",
      "Averaged Val. score: 0.4173300395509714\n",
      "Fold 9 started at Wed Jan 29 20:16:44 2020\n"
     ]
    },
    {
     "data": {
      "application/vnd.jupyter.widget-view+json": {
       "model_id": "a009af4e7a5945dbae3de1a9e9f5ac7a",
       "version_major": 2,
       "version_minor": 0
      },
      "text/plain": [
       "HBox(children=(IntProgress(value=0, max=304), HTML(value='')))"
      ]
     },
     "metadata": {},
     "output_type": "display_data"
    },
    {
     "name": "stdout",
     "output_type": "stream",
     "text": [
      "\n",
      "Averaged Val. score: 0.4035814584963382\n",
      "Fold 10 started at Wed Jan 29 20:17:08 2020\n"
     ]
    },
    {
     "data": {
      "application/vnd.jupyter.widget-view+json": {
       "model_id": "2398b89822664005a4f15e8a0ee3a265",
       "version_major": 2,
       "version_minor": 0
      },
      "text/plain": [
       "HBox(children=(IntProgress(value=0, max=304), HTML(value='')))"
      ]
     },
     "metadata": {},
     "output_type": "display_data"
    },
    {
     "name": "stdout",
     "output_type": "stream",
     "text": [
      "\n",
      "Averaged Val. score: 0.41993966648249365\n",
      "OOF score: 0.4103081970740995\n"
     ]
    }
   ],
   "source": [
    "init_seed()\n",
    "folds = GroupKFold(n_splits=n_folds).split(X=train['question_body'], groups=train['question_body'])\n",
    "oofs = np.zeros((len(train), N_TARGETS))\n",
    "\n",
    "for fold_id, (train_index, valid_index) in enumerate(folds):\n",
    "    print(f'Fold {fold_id + 1} started at {time.ctime()}')\n",
    "    train_loader = DataLoader(\n",
    "        TextDataset(cat_features_train, ids_train['question'], ids_train['answer'],\n",
    "                    seg_ids_train['question'], seg_ids_train['answer'], train_index, targets=y), \n",
    "        batch_size=bs, shuffle=True, num_workers=num_workers, drop_last=False\n",
    "    )\n",
    "    valid_loader = DataLoader(\n",
    "        TextDataset(cat_features_train, ids_train['question'], ids_train['answer'],\n",
    "                    seg_ids_train['question'], seg_ids_train['answer'], valid_index, targets=y), \n",
    "        batch_size=bs, shuffle=False, num_workers=num_workers, drop_last=False\n",
    "    )\n",
    "    \n",
    "    model = get_pretrained_model(fold_id)\n",
    "    load_head(model, fold_id)\n",
    "    model.half()\n",
    "    save_model(model)\n",
    "    load_saved_model(model)\n",
    "    model.float()\n",
    "    \n",
    "    oofs[valid_index] = infer(model, valid_loader, None, device)\n",
    "    print(f'Averaged Val. score: {spearmanr_np(oofs[valid_index], y[valid_index])}')\n",
    "    \n",
    "    del model, train_loader, valid_loader\n",
    "    gc.collect()\n",
    "    \n",
    "print(f'OOF score: {spearmanr_np(oofs, y)}')"
   ]
  },
  {
   "cell_type": "code",
   "execution_count": 11,
   "metadata": {
    "scrolled": true
   },
   "outputs": [
    {
     "name": "stdout",
     "output_type": "stream",
     "text": [
      "0 5 0.36190448626242133\n",
      "0 10 0.37914820646773456\n",
      "0 20 0.38142530034246525\n",
      "0 33 0.381429976425864\n",
      "0 100 0.38258949688321475\n",
      "0 200 0.3827096859797003\n",
      "1 5 0.64412835726348\n",
      "1 10 0.659170943615495\n",
      "1 15 0.6606271496224287\n",
      "1 20 0.6631700302208924\n",
      "1 33 0.6638657189422685\n",
      "1 100 0.6643403775627362\n",
      "2 5 0.47587251264865604\n",
      "2 10 0.48082563006108464\n",
      "3 5 0.28167242577947166\n",
      "3 10 0.2984932352761913\n",
      "3 15 0.2986298487835321\n",
      "3 20 0.302169714760532\n",
      "4 5 0.3618885920078353\n",
      "5 5 0.4579385352463229\n",
      "6 5 0.30558322996163395\n",
      "6 10 0.34099018940948433\n",
      "6 15 0.34858547657400074\n",
      "6 20 0.3519233396273299\n",
      "7 5 0.4989513708915308\n",
      "7 10 0.5073938565576411\n",
      "7 15 0.5082434166161479\n",
      "8 5 0.5806065279741521\n",
      "8 10 0.5839301178086679\n",
      "9 5 0.04310947475141954\n",
      "9 10 0.06875176106423303\n",
      "9 15 0.11396552360518175\n",
      "9 20 0.13579717930479937\n",
      "10 5 0.4527823066182365\n",
      "10 10 0.4648257472847197\n",
      "10 15 0.4653020823031659\n",
      "10 20 0.4663721812830919\n",
      "10 33 0.469643130000392\n",
      "11 5 0.747434426056657\n",
      "11 10 0.7493902666987369\n",
      "12 5 0.50132756145013\n",
      "13 5 0.18296510512056455\n",
      "13 10 0.24538716206757447\n",
      "13 15 0.2633506462917695\n",
      "14 5 0.6134706515129407\n",
      "14 10 0.6193541105467278\n",
      "15 5 0.5690526848283133\n",
      "16 5 0.7763814913313623\n",
      "16 10 0.7791278787389597\n",
      "16 15 0.7802045784430764\n",
      "17 5 0.33255279816313854\n",
      "17 10 0.34727835763611625\n",
      "17 15 0.351581791550504\n",
      "17 20 0.35251579674653943\n",
      "17 33 0.3525246346663364\n",
      "17 100 0.3527273493071471\n",
      "17 200 0.3527414877058732\n",
      "17 None 0.3527426592132767\n",
      "18 5 0.6506543984778713\n",
      "18 10 0.6612492122872505\n",
      "18 15 0.6641162316815729\n",
      "18 33 0.6650503504114114\n",
      "19 10 0.4535864521670294\n",
      "19 15 0.5440248323425312\n",
      "20 5 0.5050133305176134\n",
      "20 10 0.5196585942637343\n",
      "20 15 0.5230947601287806\n",
      "20 20 0.524348426935913\n",
      "20 33 0.5247508295687244\n",
      "20 100 0.5257787614105305\n",
      "21 5 0.22195189809872964\n",
      "21 10 0.23535397710734546\n",
      "21 33 0.23695571739480772\n",
      "22 5 0.4286739132611316\n",
      "22 10 0.4404444049052856\n",
      "22 15 0.4425856517830764\n",
      "22 20 0.445150813136867\n",
      "22 33 0.44535930932940204\n",
      "22 100 0.44659959781836184\n",
      "22 200 0.44680931017234304\n",
      "22 None 0.4469550801238251\n",
      "23 5 0.13235381091970336\n",
      "23 15 0.1336570823667907\n",
      "24 5 0.14500543719481174\n",
      "24 10 0.15466198929866828\n",
      "24 15 0.15967676815677673\n",
      "24 20 0.16077249755829198\n",
      "24 33 0.16235465202405672\n",
      "24 100 0.162793266737875\n",
      "25 5 0.31237242254617625\n",
      "25 10 0.3226759801863911\n",
      "25 15 0.3296773690907105\n",
      "25 20 0.33040919935561575\n",
      "25 33 0.33207341424757136\n",
      "25 200 0.3320859021033891\n",
      "25 None 0.3321595897121637\n",
      "26 5 0.7549729096111438\n",
      "26 10 0.7595773315889993\n",
      "26 20 0.7597309036581078\n",
      "26 33 0.7597715428285665\n",
      "27 5 0.2793379664488466\n",
      "27 10 0.2970960816404553\n",
      "27 15 0.30202028274196047\n",
      "27 20 0.3036062135988546\n",
      "27 100 0.30437495295984834\n",
      "27 200 0.30509264606112363\n",
      "28 5 0.6613701729730992\n",
      "28 10 0.6716661872138847\n",
      "28 15 0.6743996443924684\n",
      "28 33 0.6752603287186868\n",
      "28 100 0.6756577205881135\n",
      "29 5 0.21500854211964313\n",
      "29 10 0.22691580690184945\n",
      "29 15 0.2335742520872108\n",
      "29 33 0.23441355143579376\n"
     ]
    }
   ],
   "source": [
    "opt_ds, opt_indices = optimize_rounding_params(oofs, y)"
   ]
  },
  {
   "cell_type": "code",
   "execution_count": 12,
   "metadata": {},
   "outputs": [
    {
     "data": {
      "text/plain": [
       "(array([200, 100,  10,  20,   5,   5,  20,  15,  10,  20,  33,  10,   5,\n",
       "         15,  10,   5,  15,  33,  15, 100,  33,  15, 100,  33, 200, 100,\n",
       "         33]),\n",
       " array([ 0,  1,  2,  3,  4,  5,  6,  7,  8,  9, 10, 11, 12, 13, 14, 15, 16,\n",
       "        18, 19, 20, 21, 23, 24, 26, 27, 28, 29]))"
      ]
     },
     "execution_count": 12,
     "metadata": {},
     "output_type": "execute_result"
    }
   ],
   "source": [
    "np.array(opt_ds), np.array(opt_indices)"
   ]
  },
  {
   "cell_type": "code",
   "execution_count": 13,
   "metadata": {
    "scrolled": false
   },
   "outputs": [],
   "source": [
    "oofs_alt = oofs.copy()\n",
    "train[\"eng\"] = train[\"url\"].apply(lambda x: x.startswith(\"http://english.\") or x.startswith(\"http://ell.\"))\n",
    "oofs_alt[np.where((~train[\"eng\"]).values)[0], 19] = 0"
   ]
  },
  {
   "cell_type": "code",
   "execution_count": 14,
   "metadata": {
    "scrolled": false
   },
   "outputs": [
    {
     "data": {
      "text/html": [
       "<div>\n",
       "<style scoped>\n",
       "    .dataframe tbody tr th:only-of-type {\n",
       "        vertical-align: middle;\n",
       "    }\n",
       "\n",
       "    .dataframe tbody tr th {\n",
       "        vertical-align: top;\n",
       "    }\n",
       "\n",
       "    .dataframe thead th {\n",
       "        text-align: right;\n",
       "    }\n",
       "</style>\n",
       "<table border=\"1\" class=\"dataframe\">\n",
       "  <thead>\n",
       "    <tr style=\"text-align: right;\">\n",
       "      <th></th>\n",
       "      <th>SpearmanR</th>\n",
       "    </tr>\n",
       "  </thead>\n",
       "  <tbody>\n",
       "    <tr>\n",
       "      <th>CV</th>\n",
       "      <td>0.410308</td>\n",
       "    </tr>\n",
       "    <tr>\n",
       "      <th>CV unique rows</th>\n",
       "      <td>0.373700</td>\n",
       "    </tr>\n",
       "    <tr>\n",
       "      <th>CV ignoring hard targets</th>\n",
       "      <td>0.433768</td>\n",
       "    </tr>\n",
       "    <tr>\n",
       "      <th>CV unique rows ignoring hard targets</th>\n",
       "      <td>0.394195</td>\n",
       "    </tr>\n",
       "    <tr>\n",
       "      <th>CV w rounding</th>\n",
       "      <td>0.451905</td>\n",
       "    </tr>\n",
       "    <tr>\n",
       "      <th>CV unique rows w rounding</th>\n",
       "      <td>0.431156</td>\n",
       "    </tr>\n",
       "    <tr>\n",
       "      <th>CV ignoring hard targets w rounding</th>\n",
       "      <td>0.459904</td>\n",
       "    </tr>\n",
       "    <tr>\n",
       "      <th>CV unique rows ignoring hard targets w rounding</th>\n",
       "      <td>0.426784</td>\n",
       "    </tr>\n",
       "  </tbody>\n",
       "</table>\n",
       "</div>"
      ],
      "text/plain": [
       "                                                 SpearmanR\n",
       "CV                                                0.410308\n",
       "CV unique rows                                    0.373700\n",
       "CV ignoring hard targets                          0.433768\n",
       "CV unique rows ignoring hard targets              0.394195\n",
       "CV w rounding                                     0.451905\n",
       "CV unique rows w rounding                         0.431156\n",
       "CV ignoring hard targets w rounding               0.459904\n",
       "CV unique rows ignoring hard targets w rounding   0.426784"
      ]
     },
     "execution_count": 14,
     "metadata": {},
     "output_type": "execute_result"
    }
   ],
   "source": [
    "get_cvs(oofs, y, ix)"
   ]
  },
  {
   "cell_type": "code",
   "execution_count": 15,
   "metadata": {
    "scrolled": false
   },
   "outputs": [
    {
     "data": {
      "text/html": [
       "<div>\n",
       "<style scoped>\n",
       "    .dataframe tbody tr th:only-of-type {\n",
       "        vertical-align: middle;\n",
       "    }\n",
       "\n",
       "    .dataframe tbody tr th {\n",
       "        vertical-align: top;\n",
       "    }\n",
       "\n",
       "    .dataframe thead th {\n",
       "        text-align: right;\n",
       "    }\n",
       "</style>\n",
       "<table border=\"1\" class=\"dataframe\">\n",
       "  <thead>\n",
       "    <tr style=\"text-align: right;\">\n",
       "      <th></th>\n",
       "      <th>SpearmanR</th>\n",
       "    </tr>\n",
       "  </thead>\n",
       "  <tbody>\n",
       "    <tr>\n",
       "      <th>CV</th>\n",
       "      <td>0.414360</td>\n",
       "    </tr>\n",
       "    <tr>\n",
       "      <th>CV unique rows</th>\n",
       "      <td>0.377833</td>\n",
       "    </tr>\n",
       "    <tr>\n",
       "      <th>CV ignoring hard targets</th>\n",
       "      <td>0.433768</td>\n",
       "    </tr>\n",
       "    <tr>\n",
       "      <th>CV unique rows ignoring hard targets</th>\n",
       "      <td>0.394195</td>\n",
       "    </tr>\n",
       "    <tr>\n",
       "      <th>CV w rounding</th>\n",
       "      <td>0.451905</td>\n",
       "    </tr>\n",
       "    <tr>\n",
       "      <th>CV unique rows w rounding</th>\n",
       "      <td>0.431156</td>\n",
       "    </tr>\n",
       "    <tr>\n",
       "      <th>CV ignoring hard targets w rounding</th>\n",
       "      <td>0.459904</td>\n",
       "    </tr>\n",
       "    <tr>\n",
       "      <th>CV unique rows ignoring hard targets w rounding</th>\n",
       "      <td>0.426784</td>\n",
       "    </tr>\n",
       "  </tbody>\n",
       "</table>\n",
       "</div>"
      ],
      "text/plain": [
       "                                                 SpearmanR\n",
       "CV                                                0.414360\n",
       "CV unique rows                                    0.377833\n",
       "CV ignoring hard targets                          0.433768\n",
       "CV unique rows ignoring hard targets              0.394195\n",
       "CV w rounding                                     0.451905\n",
       "CV unique rows w rounding                         0.431156\n",
       "CV ignoring hard targets w rounding               0.459904\n",
       "CV unique rows ignoring hard targets w rounding   0.426784"
      ]
     },
     "execution_count": 15,
     "metadata": {},
     "output_type": "execute_result"
    }
   ],
   "source": [
    "get_cvs(oofs_alt, y, ix)"
   ]
  },
  {
   "cell_type": "code",
   "execution_count": 16,
   "metadata": {},
   "outputs": [],
   "source": [
    "pd.DataFrame(oofs, columns=TARGETS).to_csv(f'oofs/{model_name}_oofs.csv')"
   ]
  },
  {
   "cell_type": "code",
   "execution_count": 17,
   "metadata": {},
   "outputs": [
    {
     "data": {
      "text/html": [
       "<div>\n",
       "<style scoped>\n",
       "    .dataframe tbody tr th:only-of-type {\n",
       "        vertical-align: middle;\n",
       "    }\n",
       "\n",
       "    .dataframe tbody tr th {\n",
       "        vertical-align: top;\n",
       "    }\n",
       "\n",
       "    .dataframe thead th {\n",
       "        text-align: right;\n",
       "    }\n",
       "</style>\n",
       "<table border=\"1\" class=\"dataframe\">\n",
       "  <thead>\n",
       "    <tr style=\"text-align: right;\">\n",
       "      <th></th>\n",
       "      <th>question_asker_intent_understanding</th>\n",
       "      <th>question_body_critical</th>\n",
       "      <th>question_conversational</th>\n",
       "      <th>question_expect_short_answer</th>\n",
       "      <th>question_fact_seeking</th>\n",
       "      <th>question_has_commonly_accepted_answer</th>\n",
       "      <th>question_interestingness_others</th>\n",
       "      <th>question_interestingness_self</th>\n",
       "      <th>question_multi_intent</th>\n",
       "      <th>question_not_really_a_question</th>\n",
       "      <th>question_opinion_seeking</th>\n",
       "      <th>question_type_choice</th>\n",
       "      <th>question_type_compare</th>\n",
       "      <th>question_type_consequence</th>\n",
       "      <th>question_type_definition</th>\n",
       "      <th>question_type_entity</th>\n",
       "      <th>question_type_instructions</th>\n",
       "      <th>question_type_procedure</th>\n",
       "      <th>question_type_reason_explanation</th>\n",
       "      <th>question_type_spelling</th>\n",
       "      <th>question_well_written</th>\n",
       "      <th>answer_helpful</th>\n",
       "      <th>answer_level_of_information</th>\n",
       "      <th>answer_plausible</th>\n",
       "      <th>answer_relevance</th>\n",
       "      <th>answer_satisfaction</th>\n",
       "      <th>answer_type_instructions</th>\n",
       "      <th>answer_type_procedure</th>\n",
       "      <th>answer_type_reason_explanation</th>\n",
       "      <th>answer_well_written</th>\n",
       "    </tr>\n",
       "  </thead>\n",
       "  <tbody>\n",
       "    <tr>\n",
       "      <th>0</th>\n",
       "      <td>0.769430</td>\n",
       "      <td>0.630320</td>\n",
       "      <td>0.253264</td>\n",
       "      <td>0.505990</td>\n",
       "      <td>0.548395</td>\n",
       "      <td>0.393929</td>\n",
       "      <td>0.584657</td>\n",
       "      <td>0.495126</td>\n",
       "      <td>0.494235</td>\n",
       "      <td>0.008822</td>\n",
       "      <td>0.740954</td>\n",
       "      <td>0.366444</td>\n",
       "      <td>0.433643</td>\n",
       "      <td>0.107983</td>\n",
       "      <td>0.023199</td>\n",
       "      <td>0.234270</td>\n",
       "      <td>0.222907</td>\n",
       "      <td>0.128172</td>\n",
       "      <td>0.610518</td>\n",
       "      <td>0.006260</td>\n",
       "      <td>0.762534</td>\n",
       "      <td>0.869347</td>\n",
       "      <td>0.560988</td>\n",
       "      <td>0.933016</td>\n",
       "      <td>0.897846</td>\n",
       "      <td>0.646029</td>\n",
       "      <td>0.099785</td>\n",
       "      <td>0.112461</td>\n",
       "      <td>0.919749</td>\n",
       "      <td>0.692573</td>\n",
       "    </tr>\n",
       "    <tr>\n",
       "      <th>1</th>\n",
       "      <td>0.832214</td>\n",
       "      <td>0.743500</td>\n",
       "      <td>0.035179</td>\n",
       "      <td>0.529389</td>\n",
       "      <td>0.893494</td>\n",
       "      <td>0.707537</td>\n",
       "      <td>0.474991</td>\n",
       "      <td>0.530408</td>\n",
       "      <td>0.314136</td>\n",
       "      <td>0.000984</td>\n",
       "      <td>0.300907</td>\n",
       "      <td>0.075210</td>\n",
       "      <td>0.822658</td>\n",
       "      <td>0.004980</td>\n",
       "      <td>0.502573</td>\n",
       "      <td>0.037238</td>\n",
       "      <td>0.058692</td>\n",
       "      <td>0.055789</td>\n",
       "      <td>0.450338</td>\n",
       "      <td>0.001863</td>\n",
       "      <td>0.759211</td>\n",
       "      <td>0.494612</td>\n",
       "      <td>0.281495</td>\n",
       "      <td>0.706844</td>\n",
       "      <td>0.713284</td>\n",
       "      <td>0.315157</td>\n",
       "      <td>0.029875</td>\n",
       "      <td>0.038480</td>\n",
       "      <td>0.557189</td>\n",
       "      <td>0.749671</td>\n",
       "    </tr>\n",
       "    <tr>\n",
       "      <th>2</th>\n",
       "      <td>0.598315</td>\n",
       "      <td>0.197569</td>\n",
       "      <td>0.005910</td>\n",
       "      <td>0.742580</td>\n",
       "      <td>0.771822</td>\n",
       "      <td>0.865638</td>\n",
       "      <td>0.486866</td>\n",
       "      <td>0.310613</td>\n",
       "      <td>0.213526</td>\n",
       "      <td>0.001237</td>\n",
       "      <td>0.359968</td>\n",
       "      <td>0.300548</td>\n",
       "      <td>0.005783</td>\n",
       "      <td>0.003519</td>\n",
       "      <td>0.000628</td>\n",
       "      <td>0.316318</td>\n",
       "      <td>0.698185</td>\n",
       "      <td>0.242201</td>\n",
       "      <td>0.115033</td>\n",
       "      <td>0.000058</td>\n",
       "      <td>0.495096</td>\n",
       "      <td>0.836340</td>\n",
       "      <td>0.577780</td>\n",
       "      <td>0.882220</td>\n",
       "      <td>0.874495</td>\n",
       "      <td>0.658584</td>\n",
       "      <td>0.627916</td>\n",
       "      <td>0.302123</td>\n",
       "      <td>0.432792</td>\n",
       "      <td>0.719899</td>\n",
       "    </tr>\n",
       "    <tr>\n",
       "      <th>3</th>\n",
       "      <td>0.771622</td>\n",
       "      <td>0.664281</td>\n",
       "      <td>0.404273</td>\n",
       "      <td>0.681201</td>\n",
       "      <td>0.610846</td>\n",
       "      <td>0.703084</td>\n",
       "      <td>0.588372</td>\n",
       "      <td>0.718686</td>\n",
       "      <td>0.197056</td>\n",
       "      <td>0.002132</td>\n",
       "      <td>0.484943</td>\n",
       "      <td>0.927750</td>\n",
       "      <td>0.015534</td>\n",
       "      <td>0.020429</td>\n",
       "      <td>0.016212</td>\n",
       "      <td>0.010247</td>\n",
       "      <td>0.030881</td>\n",
       "      <td>0.172874</td>\n",
       "      <td>0.510900</td>\n",
       "      <td>0.000727</td>\n",
       "      <td>0.822699</td>\n",
       "      <td>0.808290</td>\n",
       "      <td>0.797410</td>\n",
       "      <td>0.818556</td>\n",
       "      <td>0.919759</td>\n",
       "      <td>0.769655</td>\n",
       "      <td>0.078427</td>\n",
       "      <td>0.242776</td>\n",
       "      <td>0.831951</td>\n",
       "      <td>0.789403</td>\n",
       "    </tr>\n",
       "    <tr>\n",
       "      <th>4</th>\n",
       "      <td>0.757833</td>\n",
       "      <td>0.684782</td>\n",
       "      <td>0.003993</td>\n",
       "      <td>0.712469</td>\n",
       "      <td>0.832895</td>\n",
       "      <td>0.921952</td>\n",
       "      <td>0.479544</td>\n",
       "      <td>0.427637</td>\n",
       "      <td>0.181981</td>\n",
       "      <td>0.002871</td>\n",
       "      <td>0.267267</td>\n",
       "      <td>0.538496</td>\n",
       "      <td>0.001793</td>\n",
       "      <td>0.000952</td>\n",
       "      <td>0.001811</td>\n",
       "      <td>0.005908</td>\n",
       "      <td>0.821427</td>\n",
       "      <td>0.289639</td>\n",
       "      <td>0.190004</td>\n",
       "      <td>0.000192</td>\n",
       "      <td>0.759721</td>\n",
       "      <td>0.740275</td>\n",
       "      <td>0.423894</td>\n",
       "      <td>0.798693</td>\n",
       "      <td>0.896764</td>\n",
       "      <td>0.566158</td>\n",
       "      <td>0.935835</td>\n",
       "      <td>0.205579</td>\n",
       "      <td>0.029313</td>\n",
       "      <td>0.530111</td>\n",
       "    </tr>\n",
       "    <tr>\n",
       "      <th>...</th>\n",
       "      <td>...</td>\n",
       "      <td>...</td>\n",
       "      <td>...</td>\n",
       "      <td>...</td>\n",
       "      <td>...</td>\n",
       "      <td>...</td>\n",
       "      <td>...</td>\n",
       "      <td>...</td>\n",
       "      <td>...</td>\n",
       "      <td>...</td>\n",
       "      <td>...</td>\n",
       "      <td>...</td>\n",
       "      <td>...</td>\n",
       "      <td>...</td>\n",
       "      <td>...</td>\n",
       "      <td>...</td>\n",
       "      <td>...</td>\n",
       "      <td>...</td>\n",
       "      <td>...</td>\n",
       "      <td>...</td>\n",
       "      <td>...</td>\n",
       "      <td>...</td>\n",
       "      <td>...</td>\n",
       "      <td>...</td>\n",
       "      <td>...</td>\n",
       "      <td>...</td>\n",
       "      <td>...</td>\n",
       "      <td>...</td>\n",
       "      <td>...</td>\n",
       "      <td>...</td>\n",
       "    </tr>\n",
       "    <tr>\n",
       "      <th>6074</th>\n",
       "      <td>0.832756</td>\n",
       "      <td>0.297409</td>\n",
       "      <td>0.195229</td>\n",
       "      <td>0.803169</td>\n",
       "      <td>0.701334</td>\n",
       "      <td>0.671199</td>\n",
       "      <td>0.734670</td>\n",
       "      <td>0.722870</td>\n",
       "      <td>0.647168</td>\n",
       "      <td>0.001983</td>\n",
       "      <td>0.566897</td>\n",
       "      <td>0.914643</td>\n",
       "      <td>0.183645</td>\n",
       "      <td>0.144633</td>\n",
       "      <td>0.019472</td>\n",
       "      <td>0.134283</td>\n",
       "      <td>0.018541</td>\n",
       "      <td>0.031876</td>\n",
       "      <td>0.510902</td>\n",
       "      <td>0.002323</td>\n",
       "      <td>0.647581</td>\n",
       "      <td>0.858424</td>\n",
       "      <td>0.763505</td>\n",
       "      <td>0.929481</td>\n",
       "      <td>0.894224</td>\n",
       "      <td>0.694258</td>\n",
       "      <td>0.070823</td>\n",
       "      <td>0.078730</td>\n",
       "      <td>0.881910</td>\n",
       "      <td>0.662090</td>\n",
       "    </tr>\n",
       "    <tr>\n",
       "      <th>6075</th>\n",
       "      <td>0.884007</td>\n",
       "      <td>0.408054</td>\n",
       "      <td>0.112815</td>\n",
       "      <td>0.519946</td>\n",
       "      <td>0.417607</td>\n",
       "      <td>0.314707</td>\n",
       "      <td>0.755898</td>\n",
       "      <td>0.777282</td>\n",
       "      <td>0.043668</td>\n",
       "      <td>0.003478</td>\n",
       "      <td>0.827156</td>\n",
       "      <td>0.009875</td>\n",
       "      <td>0.005366</td>\n",
       "      <td>0.008655</td>\n",
       "      <td>0.000254</td>\n",
       "      <td>0.018723</td>\n",
       "      <td>0.837352</td>\n",
       "      <td>0.370381</td>\n",
       "      <td>0.194823</td>\n",
       "      <td>0.000058</td>\n",
       "      <td>0.755254</td>\n",
       "      <td>0.851541</td>\n",
       "      <td>0.603084</td>\n",
       "      <td>0.915214</td>\n",
       "      <td>0.941134</td>\n",
       "      <td>0.620963</td>\n",
       "      <td>0.802967</td>\n",
       "      <td>0.381465</td>\n",
       "      <td>0.376682</td>\n",
       "      <td>0.892396</td>\n",
       "    </tr>\n",
       "    <tr>\n",
       "      <th>6076</th>\n",
       "      <td>0.521837</td>\n",
       "      <td>0.220227</td>\n",
       "      <td>0.002096</td>\n",
       "      <td>0.692448</td>\n",
       "      <td>0.777233</td>\n",
       "      <td>0.907758</td>\n",
       "      <td>0.389980</td>\n",
       "      <td>0.249781</td>\n",
       "      <td>0.115602</td>\n",
       "      <td>0.001546</td>\n",
       "      <td>0.454593</td>\n",
       "      <td>0.381886</td>\n",
       "      <td>0.000647</td>\n",
       "      <td>0.000334</td>\n",
       "      <td>0.000371</td>\n",
       "      <td>0.001743</td>\n",
       "      <td>0.863123</td>\n",
       "      <td>0.409436</td>\n",
       "      <td>0.195855</td>\n",
       "      <td>0.000009</td>\n",
       "      <td>0.326356</td>\n",
       "      <td>0.391128</td>\n",
       "      <td>0.292885</td>\n",
       "      <td>0.651422</td>\n",
       "      <td>0.760464</td>\n",
       "      <td>0.266966</td>\n",
       "      <td>0.530686</td>\n",
       "      <td>0.158055</td>\n",
       "      <td>0.398835</td>\n",
       "      <td>0.168377</td>\n",
       "    </tr>\n",
       "    <tr>\n",
       "      <th>6077</th>\n",
       "      <td>0.827769</td>\n",
       "      <td>0.570298</td>\n",
       "      <td>0.688386</td>\n",
       "      <td>0.234038</td>\n",
       "      <td>0.292316</td>\n",
       "      <td>0.100554</td>\n",
       "      <td>0.578670</td>\n",
       "      <td>0.724366</td>\n",
       "      <td>0.801219</td>\n",
       "      <td>0.001176</td>\n",
       "      <td>0.922197</td>\n",
       "      <td>0.658408</td>\n",
       "      <td>0.261404</td>\n",
       "      <td>0.168003</td>\n",
       "      <td>0.005722</td>\n",
       "      <td>0.028570</td>\n",
       "      <td>0.033541</td>\n",
       "      <td>0.137513</td>\n",
       "      <td>0.795767</td>\n",
       "      <td>0.000154</td>\n",
       "      <td>0.862363</td>\n",
       "      <td>0.682089</td>\n",
       "      <td>0.458803</td>\n",
       "      <td>0.851367</td>\n",
       "      <td>0.835769</td>\n",
       "      <td>0.476599</td>\n",
       "      <td>0.021189</td>\n",
       "      <td>0.049208</td>\n",
       "      <td>0.880098</td>\n",
       "      <td>0.779313</td>\n",
       "    </tr>\n",
       "    <tr>\n",
       "      <th>6078</th>\n",
       "      <td>0.692811</td>\n",
       "      <td>0.718638</td>\n",
       "      <td>0.122089</td>\n",
       "      <td>0.174720</td>\n",
       "      <td>0.899884</td>\n",
       "      <td>0.458739</td>\n",
       "      <td>0.527696</td>\n",
       "      <td>0.412318</td>\n",
       "      <td>0.777003</td>\n",
       "      <td>0.000072</td>\n",
       "      <td>0.346354</td>\n",
       "      <td>0.085134</td>\n",
       "      <td>0.609632</td>\n",
       "      <td>0.007950</td>\n",
       "      <td>0.006347</td>\n",
       "      <td>0.040057</td>\n",
       "      <td>0.006241</td>\n",
       "      <td>0.012365</td>\n",
       "      <td>0.973290</td>\n",
       "      <td>0.000032</td>\n",
       "      <td>0.745054</td>\n",
       "      <td>0.796420</td>\n",
       "      <td>0.537965</td>\n",
       "      <td>0.856855</td>\n",
       "      <td>0.817089</td>\n",
       "      <td>0.563578</td>\n",
       "      <td>0.025866</td>\n",
       "      <td>0.026640</td>\n",
       "      <td>0.972050</td>\n",
       "      <td>0.749227</td>\n",
       "    </tr>\n",
       "  </tbody>\n",
       "</table>\n",
       "<p>6079 rows × 30 columns</p>\n",
       "</div>"
      ],
      "text/plain": [
       "      question_asker_intent_understanding  question_body_critical  \\\n",
       "0                                0.769430                0.630320   \n",
       "1                                0.832214                0.743500   \n",
       "2                                0.598315                0.197569   \n",
       "3                                0.771622                0.664281   \n",
       "4                                0.757833                0.684782   \n",
       "...                                   ...                     ...   \n",
       "6074                             0.832756                0.297409   \n",
       "6075                             0.884007                0.408054   \n",
       "6076                             0.521837                0.220227   \n",
       "6077                             0.827769                0.570298   \n",
       "6078                             0.692811                0.718638   \n",
       "\n",
       "      question_conversational  question_expect_short_answer  \\\n",
       "0                    0.253264                      0.505990   \n",
       "1                    0.035179                      0.529389   \n",
       "2                    0.005910                      0.742580   \n",
       "3                    0.404273                      0.681201   \n",
       "4                    0.003993                      0.712469   \n",
       "...                       ...                           ...   \n",
       "6074                 0.195229                      0.803169   \n",
       "6075                 0.112815                      0.519946   \n",
       "6076                 0.002096                      0.692448   \n",
       "6077                 0.688386                      0.234038   \n",
       "6078                 0.122089                      0.174720   \n",
       "\n",
       "      question_fact_seeking  question_has_commonly_accepted_answer  \\\n",
       "0                  0.548395                               0.393929   \n",
       "1                  0.893494                               0.707537   \n",
       "2                  0.771822                               0.865638   \n",
       "3                  0.610846                               0.703084   \n",
       "4                  0.832895                               0.921952   \n",
       "...                     ...                                    ...   \n",
       "6074               0.701334                               0.671199   \n",
       "6075               0.417607                               0.314707   \n",
       "6076               0.777233                               0.907758   \n",
       "6077               0.292316                               0.100554   \n",
       "6078               0.899884                               0.458739   \n",
       "\n",
       "      question_interestingness_others  question_interestingness_self  \\\n",
       "0                            0.584657                       0.495126   \n",
       "1                            0.474991                       0.530408   \n",
       "2                            0.486866                       0.310613   \n",
       "3                            0.588372                       0.718686   \n",
       "4                            0.479544                       0.427637   \n",
       "...                               ...                            ...   \n",
       "6074                         0.734670                       0.722870   \n",
       "6075                         0.755898                       0.777282   \n",
       "6076                         0.389980                       0.249781   \n",
       "6077                         0.578670                       0.724366   \n",
       "6078                         0.527696                       0.412318   \n",
       "\n",
       "      question_multi_intent  question_not_really_a_question  \\\n",
       "0                  0.494235                        0.008822   \n",
       "1                  0.314136                        0.000984   \n",
       "2                  0.213526                        0.001237   \n",
       "3                  0.197056                        0.002132   \n",
       "4                  0.181981                        0.002871   \n",
       "...                     ...                             ...   \n",
       "6074               0.647168                        0.001983   \n",
       "6075               0.043668                        0.003478   \n",
       "6076               0.115602                        0.001546   \n",
       "6077               0.801219                        0.001176   \n",
       "6078               0.777003                        0.000072   \n",
       "\n",
       "      question_opinion_seeking  question_type_choice  question_type_compare  \\\n",
       "0                     0.740954              0.366444               0.433643   \n",
       "1                     0.300907              0.075210               0.822658   \n",
       "2                     0.359968              0.300548               0.005783   \n",
       "3                     0.484943              0.927750               0.015534   \n",
       "4                     0.267267              0.538496               0.001793   \n",
       "...                        ...                   ...                    ...   \n",
       "6074                  0.566897              0.914643               0.183645   \n",
       "6075                  0.827156              0.009875               0.005366   \n",
       "6076                  0.454593              0.381886               0.000647   \n",
       "6077                  0.922197              0.658408               0.261404   \n",
       "6078                  0.346354              0.085134               0.609632   \n",
       "\n",
       "      question_type_consequence  question_type_definition  \\\n",
       "0                      0.107983                  0.023199   \n",
       "1                      0.004980                  0.502573   \n",
       "2                      0.003519                  0.000628   \n",
       "3                      0.020429                  0.016212   \n",
       "4                      0.000952                  0.001811   \n",
       "...                         ...                       ...   \n",
       "6074                   0.144633                  0.019472   \n",
       "6075                   0.008655                  0.000254   \n",
       "6076                   0.000334                  0.000371   \n",
       "6077                   0.168003                  0.005722   \n",
       "6078                   0.007950                  0.006347   \n",
       "\n",
       "      question_type_entity  question_type_instructions  \\\n",
       "0                 0.234270                    0.222907   \n",
       "1                 0.037238                    0.058692   \n",
       "2                 0.316318                    0.698185   \n",
       "3                 0.010247                    0.030881   \n",
       "4                 0.005908                    0.821427   \n",
       "...                    ...                         ...   \n",
       "6074              0.134283                    0.018541   \n",
       "6075              0.018723                    0.837352   \n",
       "6076              0.001743                    0.863123   \n",
       "6077              0.028570                    0.033541   \n",
       "6078              0.040057                    0.006241   \n",
       "\n",
       "      question_type_procedure  question_type_reason_explanation  \\\n",
       "0                    0.128172                          0.610518   \n",
       "1                    0.055789                          0.450338   \n",
       "2                    0.242201                          0.115033   \n",
       "3                    0.172874                          0.510900   \n",
       "4                    0.289639                          0.190004   \n",
       "...                       ...                               ...   \n",
       "6074                 0.031876                          0.510902   \n",
       "6075                 0.370381                          0.194823   \n",
       "6076                 0.409436                          0.195855   \n",
       "6077                 0.137513                          0.795767   \n",
       "6078                 0.012365                          0.973290   \n",
       "\n",
       "      question_type_spelling  question_well_written  answer_helpful  \\\n",
       "0                   0.006260               0.762534        0.869347   \n",
       "1                   0.001863               0.759211        0.494612   \n",
       "2                   0.000058               0.495096        0.836340   \n",
       "3                   0.000727               0.822699        0.808290   \n",
       "4                   0.000192               0.759721        0.740275   \n",
       "...                      ...                    ...             ...   \n",
       "6074                0.002323               0.647581        0.858424   \n",
       "6075                0.000058               0.755254        0.851541   \n",
       "6076                0.000009               0.326356        0.391128   \n",
       "6077                0.000154               0.862363        0.682089   \n",
       "6078                0.000032               0.745054        0.796420   \n",
       "\n",
       "      answer_level_of_information  answer_plausible  answer_relevance  \\\n",
       "0                        0.560988          0.933016          0.897846   \n",
       "1                        0.281495          0.706844          0.713284   \n",
       "2                        0.577780          0.882220          0.874495   \n",
       "3                        0.797410          0.818556          0.919759   \n",
       "4                        0.423894          0.798693          0.896764   \n",
       "...                           ...               ...               ...   \n",
       "6074                     0.763505          0.929481          0.894224   \n",
       "6075                     0.603084          0.915214          0.941134   \n",
       "6076                     0.292885          0.651422          0.760464   \n",
       "6077                     0.458803          0.851367          0.835769   \n",
       "6078                     0.537965          0.856855          0.817089   \n",
       "\n",
       "      answer_satisfaction  answer_type_instructions  answer_type_procedure  \\\n",
       "0                0.646029                  0.099785               0.112461   \n",
       "1                0.315157                  0.029875               0.038480   \n",
       "2                0.658584                  0.627916               0.302123   \n",
       "3                0.769655                  0.078427               0.242776   \n",
       "4                0.566158                  0.935835               0.205579   \n",
       "...                   ...                       ...                    ...   \n",
       "6074             0.694258                  0.070823               0.078730   \n",
       "6075             0.620963                  0.802967               0.381465   \n",
       "6076             0.266966                  0.530686               0.158055   \n",
       "6077             0.476599                  0.021189               0.049208   \n",
       "6078             0.563578                  0.025866               0.026640   \n",
       "\n",
       "      answer_type_reason_explanation  answer_well_written  \n",
       "0                           0.919749             0.692573  \n",
       "1                           0.557189             0.749671  \n",
       "2                           0.432792             0.719899  \n",
       "3                           0.831951             0.789403  \n",
       "4                           0.029313             0.530111  \n",
       "...                              ...                  ...  \n",
       "6074                        0.881910             0.662090  \n",
       "6075                        0.376682             0.892396  \n",
       "6076                        0.398835             0.168377  \n",
       "6077                        0.880098             0.779313  \n",
       "6078                        0.972050             0.749227  \n",
       "\n",
       "[6079 rows x 30 columns]"
      ]
     },
     "execution_count": 17,
     "metadata": {},
     "output_type": "execute_result"
    }
   ],
   "source": [
    "pd.DataFrame(oofs, columns=TARGETS)"
   ]
  },
  {
   "cell_type": "code",
   "execution_count": 18,
   "metadata": {},
   "outputs": [
    {
     "data": {
      "text/plain": [
       "question_asker_intent_understanding      0.382647\n",
       "question_body_critical                   0.664232\n",
       "question_conversational                  0.414475\n",
       "question_expect_short_answer             0.300372\n",
       "question_fact_seeking                    0.358043\n",
       "question_has_commonly_accepted_answer    0.435739\n",
       "question_interestingness_others          0.351191\n",
       "question_interestingness_self            0.507711\n",
       "question_multi_intent                    0.581136\n",
       "question_not_really_a_question           0.097234\n",
       "question_opinion_seeking                 0.469577\n",
       "question_type_choice                     0.738792\n",
       "question_type_compare                    0.355668\n",
       "question_type_consequence                0.177909\n",
       "question_type_definition                 0.361711\n",
       "question_type_entity                     0.444166\n",
       "question_type_instructions               0.777344\n",
       "question_type_procedure                  0.352743\n",
       "question_type_reason_explanation         0.664930\n",
       "question_type_spelling                   0.066497\n",
       "question_well_written                    0.525555\n",
       "answer_helpful                           0.236442\n",
       "answer_level_of_information              0.446955\n",
       "answer_plausible                         0.130899\n",
       "answer_relevance                         0.162598\n",
       "answer_satisfaction                      0.332160\n",
       "answer_type_instructions                 0.759152\n",
       "answer_type_procedure                    0.304955\n",
       "answer_type_reason_explanation           0.675617\n",
       "answer_well_written                      0.232796\n",
       "dtype: float64"
      ]
     },
     "execution_count": 18,
     "metadata": {},
     "output_type": "execute_result"
    }
   ],
   "source": [
    "rs = pd.Series({col: spearmanr(oofs[:,i], y[:,i])[0] for i, col in enumerate(TARGETS)})\n",
    "rs"
   ]
  },
  {
   "cell_type": "code",
   "execution_count": 19,
   "metadata": {},
   "outputs": [
    {
     "data": {
      "text/html": [
       "<div>\n",
       "<style scoped>\n",
       "    .dataframe tbody tr th:only-of-type {\n",
       "        vertical-align: middle;\n",
       "    }\n",
       "\n",
       "    .dataframe tbody tr th {\n",
       "        vertical-align: top;\n",
       "    }\n",
       "\n",
       "    .dataframe thead th {\n",
       "        text-align: right;\n",
       "    }\n",
       "</style>\n",
       "<table border=\"1\" class=\"dataframe\">\n",
       "  <thead>\n",
       "    <tr style=\"text-align: right;\">\n",
       "      <th></th>\n",
       "      <th>SpearmanCorr</th>\n",
       "      <th>NUnique</th>\n",
       "    </tr>\n",
       "  </thead>\n",
       "  <tbody>\n",
       "    <tr>\n",
       "      <th>question_type_spelling</th>\n",
       "      <td>0.066497</td>\n",
       "      <td>3.0</td>\n",
       "    </tr>\n",
       "    <tr>\n",
       "      <th>question_not_really_a_question</th>\n",
       "      <td>0.097234</td>\n",
       "      <td>5.0</td>\n",
       "    </tr>\n",
       "    <tr>\n",
       "      <th>answer_plausible</th>\n",
       "      <td>0.130899</td>\n",
       "      <td>9.0</td>\n",
       "    </tr>\n",
       "    <tr>\n",
       "      <th>answer_relevance</th>\n",
       "      <td>0.162598</td>\n",
       "      <td>9.0</td>\n",
       "    </tr>\n",
       "    <tr>\n",
       "      <th>question_type_consequence</th>\n",
       "      <td>0.177909</td>\n",
       "      <td>5.0</td>\n",
       "    </tr>\n",
       "    <tr>\n",
       "      <th>answer_well_written</th>\n",
       "      <td>0.232796</td>\n",
       "      <td>9.0</td>\n",
       "    </tr>\n",
       "    <tr>\n",
       "      <th>answer_helpful</th>\n",
       "      <td>0.236442</td>\n",
       "      <td>9.0</td>\n",
       "    </tr>\n",
       "    <tr>\n",
       "      <th>question_expect_short_answer</th>\n",
       "      <td>0.300372</td>\n",
       "      <td>5.0</td>\n",
       "    </tr>\n",
       "    <tr>\n",
       "      <th>answer_type_procedure</th>\n",
       "      <td>0.304955</td>\n",
       "      <td>5.0</td>\n",
       "    </tr>\n",
       "    <tr>\n",
       "      <th>answer_satisfaction</th>\n",
       "      <td>0.332160</td>\n",
       "      <td>17.0</td>\n",
       "    </tr>\n",
       "    <tr>\n",
       "      <th>question_interestingness_others</th>\n",
       "      <td>0.351191</td>\n",
       "      <td>9.0</td>\n",
       "    </tr>\n",
       "    <tr>\n",
       "      <th>question_type_procedure</th>\n",
       "      <td>0.352743</td>\n",
       "      <td>5.0</td>\n",
       "    </tr>\n",
       "    <tr>\n",
       "      <th>question_type_compare</th>\n",
       "      <td>0.355668</td>\n",
       "      <td>5.0</td>\n",
       "    </tr>\n",
       "    <tr>\n",
       "      <th>question_fact_seeking</th>\n",
       "      <td>0.358043</td>\n",
       "      <td>5.0</td>\n",
       "    </tr>\n",
       "    <tr>\n",
       "      <th>question_type_definition</th>\n",
       "      <td>0.361711</td>\n",
       "      <td>5.0</td>\n",
       "    </tr>\n",
       "    <tr>\n",
       "      <th>question_asker_intent_understanding</th>\n",
       "      <td>0.382647</td>\n",
       "      <td>9.0</td>\n",
       "    </tr>\n",
       "    <tr>\n",
       "      <th>question_conversational</th>\n",
       "      <td>0.414475</td>\n",
       "      <td>5.0</td>\n",
       "    </tr>\n",
       "    <tr>\n",
       "      <th>question_has_commonly_accepted_answer</th>\n",
       "      <td>0.435739</td>\n",
       "      <td>5.0</td>\n",
       "    </tr>\n",
       "    <tr>\n",
       "      <th>question_type_entity</th>\n",
       "      <td>0.444166</td>\n",
       "      <td>5.0</td>\n",
       "    </tr>\n",
       "    <tr>\n",
       "      <th>answer_level_of_information</th>\n",
       "      <td>0.446955</td>\n",
       "      <td>9.0</td>\n",
       "    </tr>\n",
       "    <tr>\n",
       "      <th>question_opinion_seeking</th>\n",
       "      <td>0.469577</td>\n",
       "      <td>5.0</td>\n",
       "    </tr>\n",
       "    <tr>\n",
       "      <th>question_interestingness_self</th>\n",
       "      <td>0.507711</td>\n",
       "      <td>9.0</td>\n",
       "    </tr>\n",
       "    <tr>\n",
       "      <th>question_well_written</th>\n",
       "      <td>0.525555</td>\n",
       "      <td>9.0</td>\n",
       "    </tr>\n",
       "    <tr>\n",
       "      <th>question_multi_intent</th>\n",
       "      <td>0.581136</td>\n",
       "      <td>5.0</td>\n",
       "    </tr>\n",
       "    <tr>\n",
       "      <th>question_body_critical</th>\n",
       "      <td>0.664232</td>\n",
       "      <td>9.0</td>\n",
       "    </tr>\n",
       "    <tr>\n",
       "      <th>question_type_reason_explanation</th>\n",
       "      <td>0.664930</td>\n",
       "      <td>5.0</td>\n",
       "    </tr>\n",
       "    <tr>\n",
       "      <th>answer_type_reason_explanation</th>\n",
       "      <td>0.675617</td>\n",
       "      <td>5.0</td>\n",
       "    </tr>\n",
       "    <tr>\n",
       "      <th>question_type_choice</th>\n",
       "      <td>0.738792</td>\n",
       "      <td>5.0</td>\n",
       "    </tr>\n",
       "    <tr>\n",
       "      <th>answer_type_instructions</th>\n",
       "      <td>0.759152</td>\n",
       "      <td>5.0</td>\n",
       "    </tr>\n",
       "    <tr>\n",
       "      <th>question_type_instructions</th>\n",
       "      <td>0.777344</td>\n",
       "      <td>5.0</td>\n",
       "    </tr>\n",
       "  </tbody>\n",
       "</table>\n",
       "</div>"
      ],
      "text/plain": [
       "                                       SpearmanCorr  NUnique\n",
       "question_type_spelling                     0.066497      3.0\n",
       "question_not_really_a_question             0.097234      5.0\n",
       "answer_plausible                           0.130899      9.0\n",
       "answer_relevance                           0.162598      9.0\n",
       "question_type_consequence                  0.177909      5.0\n",
       "answer_well_written                        0.232796      9.0\n",
       "answer_helpful                             0.236442      9.0\n",
       "question_expect_short_answer               0.300372      5.0\n",
       "answer_type_procedure                      0.304955      5.0\n",
       "answer_satisfaction                        0.332160     17.0\n",
       "question_interestingness_others            0.351191      9.0\n",
       "question_type_procedure                    0.352743      5.0\n",
       "question_type_compare                      0.355668      5.0\n",
       "question_fact_seeking                      0.358043      5.0\n",
       "question_type_definition                   0.361711      5.0\n",
       "question_asker_intent_understanding        0.382647      9.0\n",
       "question_conversational                    0.414475      5.0\n",
       "question_has_commonly_accepted_answer      0.435739      5.0\n",
       "question_type_entity                       0.444166      5.0\n",
       "answer_level_of_information                0.446955      9.0\n",
       "question_opinion_seeking                   0.469577      5.0\n",
       "question_interestingness_self              0.507711      9.0\n",
       "question_well_written                      0.525555      9.0\n",
       "question_multi_intent                      0.581136      5.0\n",
       "question_body_critical                     0.664232      9.0\n",
       "question_type_reason_explanation           0.664930      5.0\n",
       "answer_type_reason_explanation             0.675617      5.0\n",
       "question_type_choice                       0.738792      5.0\n",
       "answer_type_instructions                   0.759152      5.0\n",
       "question_type_instructions                 0.777344      5.0"
      ]
     },
     "execution_count": 19,
     "metadata": {},
     "output_type": "execute_result"
    }
   ],
   "source": [
    "rs_df = pd.DataFrame(np.vstack([rs.values.flatten(), train[TARGETS].nunique()]).T, \n",
    "                     columns=['SpearmanCorr', 'NUnique'], index=rs.index)\n",
    "rs_df.sort_values('SpearmanCorr', ascending=True)"
   ]
  },
  {
   "cell_type": "code",
   "execution_count": 20,
   "metadata": {},
   "outputs": [
    {
     "data": {
      "text/plain": [
       "Index(['question_type_spelling', 'question_not_really_a_question',\n",
       "       'answer_plausible', 'answer_relevance', 'question_type_consequence'],\n",
       "      dtype='object')"
      ]
     },
     "execution_count": 20,
     "metadata": {},
     "output_type": "execute_result"
    }
   ],
   "source": [
    "sorted_targets = rs_df.sort_values('SpearmanCorr', ascending=True).index\n",
    "worst_five_targets = sorted_targets[:5]\n",
    "worst_five_targets"
   ]
  },
  {
   "cell_type": "code",
   "execution_count": 21,
   "metadata": {
    "scrolled": true
   },
   "outputs": [
    {
     "data": {
      "image/png": "[encoded data removed]",
      "text/plain": [
       "<Figure size 432x288 with 1 Axes>"
      ]
     },
     "metadata": {
      "needs_background": "light"
     },
     "output_type": "display_data"
    },
    {
     "data": {
      "image/png": "[encoded data removed]",
      "text/plain": [
       "<Figure size 432x288 with 1 Axes>"
      ]
     },
     "metadata": {
      "needs_background": "light"
     },
     "output_type": "display_data"
    },
    {
     "data": {
      "image/png": "[encoded data removed]",
      "text/plain": [
       "<Figure size 432x288 with 1 Axes>"
      ]
     },
     "metadata": {
      "needs_background": "light"
     },
     "output_type": "display_data"
    },
    {
     "data": {
      "image/png": "[encoded data removed]",
      "text/plain": [
       "<Figure size 432x288 with 1 Axes>"
      ]
     },
     "metadata": {
      "needs_background": "light"
     },
     "output_type": "display_data"
    },
    {
     "data": {
      "image/png": "[encoded data removed]",
      "text/plain": [
       "<Figure size 432x288 with 1 Axes>"
      ]
     },
     "metadata": {
      "needs_background": "light"
     },
     "output_type": "display_data"
    }
   ],
   "source": [
    "for col in worst_five_targets:\n",
    "    plt.figure()\n",
    "    train[col].hist()\n",
    "    plt.title(f'{col} {np.round(rs[col],3)}')"
   ]
  },
  {
   "cell_type": "code",
   "execution_count": 22,
   "metadata": {},
   "outputs": [
    {
     "name": "stderr",
     "output_type": "stream",
     "text": [
      "/home/robin/anaconda3/envs/GoogleQuest/lib/python3.7/site-packages/ipykernel_launcher.py:2: RuntimeWarning: More than 20 figures have been opened. Figures created through the pyplot interface (`matplotlib.pyplot.figure`) are retained until explicitly closed and may consume too much memory. (To control this warning, see the rcParam `figure.max_open_warning`).\n",
      "  \n"
     ]
    },
    {
     "data": {
      "image/png": "[encoded data removed]",
      "text/plain": [
       "<Figure size 432x288 with 1 Axes>"
      ]
     },
     "metadata": {
      "needs_background": "light"
     },
     "output_type": "display_data"
    },
    {
     "data": {
      "image/png": "[encoded data removed]",
      "text/plain": [
       "<Figure size 432x288 with 1 Axes>"
      ]
     },
     "metadata": {
      "needs_background": "light"
     },
     "output_type": "display_data"
    },
    {
     "data": {
      "image/png": "[encoded data removed]",
      "text/plain": [
       "<Figure size 432x288 with 1 Axes>"
      ]
     },
     "metadata": {
      "needs_background": "light"
     },
     "output_type": "display_data"
    },
    {
     "data": {
      "image/png": "[encoded data removed]",
      "text/plain": [
       "<Figure size 432x288 with 1 Axes>"
      ]
     },
     "metadata": {
      "needs_background": "light"
     },
     "output_type": "display_data"
    },
    {
     "data": {
      "image/png": "[encoded data removed]",
      "text/plain": [
       "<Figure size 432x288 with 1 Axes>"
      ]
     },
     "metadata": {
      "needs_background": "light"
     },
     "output_type": "display_data"
    },
    {
     "data": {
      "image/png": "[encoded data removed]",
      "text/plain": [
       "<Figure size 432x288 with 1 Axes>"
      ]
     },
     "metadata": {
      "needs_background": "light"
     },
     "output_type": "display_data"
    },
    {
     "data": {
      "image/png": "[encoded data removed]",
      "text/plain": [
       "<Figure size 432x288 with 1 Axes>"
      ]
     },
     "metadata": {
      "needs_background": "light"
     },
     "output_type": "display_data"
    },
    {
     "data": {
      "image/png": "[encoded data removed]",
      "text/plain": [
       "<Figure size 432x288 with 1 Axes>"
      ]
     },
     "metadata": {
      "needs_background": "light"
     },
     "output_type": "display_data"
    },
    {
     "data": {
      "image/png": "[encoded data removed]",
      "text/plain": [
       "<Figure size 432x288 with 1 Axes>"
      ]
     },
     "metadata": {
      "needs_background": "light"
     },
     "output_type": "display_data"
    },
    {
     "data": {
      "image/png": "[encoded data removed]",
      "text/plain": [
       "<Figure size 432x288 with 1 Axes>"
      ]
     },
     "metadata": {
      "needs_background": "light"
     },
     "output_type": "display_data"
    },
    {
     "data": {
      "image/png": "[encoded data removed]",
      "text/plain": [
       "<Figure size 432x288 with 1 Axes>"
      ]
     },
     "metadata": {
      "needs_background": "light"
     },
     "output_type": "display_data"
    },
    {
     "data": {
      "image/png": "[encoded data removed]",
      "text/plain": [
       "<Figure size 432x288 with 1 Axes>"
      ]
     },
     "metadata": {
      "needs_background": "light"
     },
     "output_type": "display_data"
    },
    {
     "data": {
      "image/png": "[encoded data removed]",
      "text/plain": [
       "<Figure size 432x288 with 1 Axes>"
      ]
     },
     "metadata": {
      "needs_background": "light"
     },
     "output_type": "display_data"
    },
    {
     "data": {
      "image/png": "[encoded data removed]",
      "text/plain": [
       "<Figure size 432x288 with 1 Axes>"
      ]
     },
     "metadata": {
      "needs_background": "light"
     },
     "output_type": "display_data"
    },
    {
     "data": {
      "image/png": "[encoded data removed]",
      "text/plain": [
       "<Figure size 432x288 with 1 Axes>"
      ]
     },
     "metadata": {
      "needs_background": "light"
     },
     "output_type": "display_data"
    },
    {
     "data": {
      "image/png": "[encoded data removed]",
      "text/plain": [
       "<Figure size 432x288 with 1 Axes>"
      ]
     },
     "metadata": {
      "needs_background": "light"
     },
     "output_type": "display_data"
    },
    {
     "data": {
      "image/png": "[encoded data removed]",
      "text/plain": [
       "<Figure size 432x288 with 1 Axes>"
      ]
     },
     "metadata": {
      "needs_background": "light"
     },
     "output_type": "display_data"
    },
    {
     "data": {
      "image/png": "[encoded data removed]",
      "text/plain": [
       "<Figure size 432x288 with 1 Axes>"
      ]
     },
     "metadata": {
      "needs_background": "light"
     },
     "output_type": "display_data"
    },
    {
     "data": {
      "image/png": "[encoded data removed]",
      "text/plain": [
       "<Figure size 432x288 with 1 Axes>"
      ]
     },
     "metadata": {
      "needs_background": "light"
     },
     "output_type": "display_data"
    },
    {
     "data": {
      "image/png": "[encoded data removed]",
      "text/plain": [
       "<Figure size 432x288 with 1 Axes>"
      ]
     },
     "metadata": {
      "needs_background": "light"
     },
     "output_type": "display_data"
    },
    {
     "data": {
      "image/png": "[encoded data removed]",
      "text/plain": [
       "<Figure size 432x288 with 1 Axes>"
      ]
     },
     "metadata": {
      "needs_background": "light"
     },
     "output_type": "display_data"
    },
    {
     "data": {
      "image/png": "[encoded data removed]",
      "text/plain": [
       "<Figure size 432x288 with 1 Axes>"
      ]
     },
     "metadata": {
      "needs_background": "light"
     },
     "output_type": "display_data"
    },
    {
     "data": {
      "image/png": "[encoded data removed]",
      "text/plain": [
       "<Figure size 432x288 with 1 Axes>"
      ]
     },
     "metadata": {
      "needs_background": "light"
     },
     "output_type": "display_data"
    },
    {
     "data": {
      "image/png": "[encoded data removed]",
      "text/plain": [
       "<Figure size 432x288 with 1 Axes>"
      ]
     },
     "metadata": {
      "needs_background": "light"
     },
     "output_type": "display_data"
    },
    {
     "data": {
      "image/png": "[encoded data removed]",
      "text/plain": [
       "<Figure size 432x288 with 1 Axes>"
      ]
     },
     "metadata": {
      "needs_background": "light"
     },
     "output_type": "display_data"
    }
   ],
   "source": [
    "for col in [target for target in sorted_targets if target not in worst_five_targets]:\n",
    "    plt.figure()\n",
    "    train[col].hist()\n",
    "    plt.title(f'{col} {np.round(rs[col],3)}')"
   ]
  },
  {
   "cell_type": "code",
   "execution_count": null,
   "metadata": {},
   "outputs": [],
   "source": []
  },
  {
   "cell_type": "code",
   "execution_count": null,
   "metadata": {},
   "outputs": [],
   "source": []
  }
 ],
 "metadata": {
  "kernelspec": {
   "display_name": "Python 3",
   "language": "python",
   "name": "python3"
  },
  "language_info": {
   "codemirror_mode": {
    "name": "ipython",
    "version": 3
   },
   "file_extension": ".py",
   "mimetype": "text/x-python",
   "name": "python",
   "nbconvert_exporter": "python",
   "pygments_lexer": "ipython3",
   "version": "3.7.5"
  }
 },
 "nbformat": 4,
 "nbformat_minor": 1
}
