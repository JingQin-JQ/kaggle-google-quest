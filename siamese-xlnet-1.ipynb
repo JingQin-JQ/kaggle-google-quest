{
 "cells": [
  {
   "cell_type": "markdown",
   "metadata": {},
   "source": [
    "## Importing libraries"
   ]
  },
  {
   "cell_type": "code",
   "execution_count": 1,
   "metadata": {
    "_kg_hide-input": true
   },
   "outputs": [],
   "source": [
    "import numpy as np\n",
    "import pandas as pd\n",
    "import matplotlib.pyplot as plt\n",
    "import time\n",
    "import datetime\n",
    "import re\n",
    "import gc\n",
    "import copy\n",
    "\n",
    "from sklearn.model_selection import GroupKFold\n",
    "from sklearn.preprocessing import OneHotEncoder, MinMaxScaler\n",
    "import nltk.data\n",
    "\n",
    "import torch\n",
    "import torch.nn as nn\n",
    "import torch.optim as optim\n",
    "import torch.nn.functional as F\n",
    "from torch.utils.data import DataLoader\n",
    "\n",
    "from tqdm import tqdm_notebook as tqdm\n",
    "from transformers import XLNetTokenizer\n",
    "import transformers\n",
    "\n",
    "from text_data import TextDataset5 as TextDataset\n",
    "from xlnet import CustomXLNet\n",
    "from learning import Learner\n",
    "from lr_finder import LRFinder\n",
    "from one_cycle import OneCycleLR\n",
    "from create_features import get_categorical_features\n",
    "from losses_metrics import spearmanr_torch, spearmanr_np, optimize_rounding_params, get_cvs, spearmanr\n",
    "from inference import infer\n",
    "from common import *\n",
    "from utils.helpers import init_logger, init_seed\n",
    "\n",
    "%matplotlib inline\n",
    "pd.set_option('max_colwidth',400)"
   ]
  },
  {
   "cell_type": "markdown",
   "metadata": {},
   "source": [
    "## Loading and preparing data"
   ]
  },
  {
   "cell_type": "code",
   "execution_count": 2,
   "metadata": {
    "_cell_guid": "b1076dfc-b9ad-4769-8c92-a6c4dae69d19",
    "_uuid": "8f2839f25d086af736a60e9eeb907d3b93b6e0e5"
   },
   "outputs": [],
   "source": [
    "pd.set_option('max_rows', 500)\n",
    "pd.set_option('max_columns', 500)\n",
    "path = 'data/'\n",
    "sample_submission = pd.read_csv(f'{path}sample_submission.csv')\n",
    "test = pd.read_csv(f'{path}test.csv')\n",
    "train = pd.read_csv(f'{path}train.csv')"
   ]
  },
  {
   "cell_type": "code",
   "execution_count": 3,
   "metadata": {},
   "outputs": [
    {
     "name": "stderr",
     "output_type": "stream",
     "text": [
      "/home/robin/anaconda3/envs/GoogleQuest/lib/python3.7/site-packages/ipykernel_launcher.py:9: TqdmDeprecationWarning: This function will be removed in tqdm==5.0.0\n",
      "Please use `tqdm.notebook.tqdm` instead of `tqdm.tqdm_notebook`\n",
      "  if __name__ == '__main__':\n"
     ]
    },
    {
     "data": {
      "application/vnd.jupyter.widget-view+json": {
       "model_id": "17944b293c70471c80ca3dd21d6127fa",
       "version_major": 2,
       "version_minor": 0
      },
      "text/plain": [
       "HBox(children=(IntProgress(value=0, max=6079), HTML(value='')))"
      ]
     },
     "metadata": {},
     "output_type": "display_data"
    },
    {
     "name": "stdout",
     "output_type": "stream",
     "text": [
      "\n"
     ]
    },
    {
     "data": {
      "application/vnd.jupyter.widget-view+json": {
       "model_id": "aa14b346da914564a5cc12708868bf6c",
       "version_major": 2,
       "version_minor": 0
      },
      "text/plain": [
       "HBox(children=(IntProgress(value=0, max=6079), HTML(value='')))"
      ]
     },
     "metadata": {},
     "output_type": "display_data"
    },
    {
     "name": "stdout",
     "output_type": "stream",
     "text": [
      "\n"
     ]
    },
    {
     "data": {
      "application/vnd.jupyter.widget-view+json": {
       "model_id": "19aeaf1e7aa242f08c3ac79e04284ded",
       "version_major": 2,
       "version_minor": 0
      },
      "text/plain": [
       "HBox(children=(IntProgress(value=0, max=476), HTML(value='')))"
      ]
     },
     "metadata": {},
     "output_type": "display_data"
    },
    {
     "name": "stdout",
     "output_type": "stream",
     "text": [
      "\n"
     ]
    },
    {
     "data": {
      "application/vnd.jupyter.widget-view+json": {
       "model_id": "c42379f7ebb04925bcbb21de7acb6965",
       "version_major": 2,
       "version_minor": 0
      },
      "text/plain": [
       "HBox(children=(IntProgress(value=0, max=476), HTML(value='')))"
      ]
     },
     "metadata": {},
     "output_type": "display_data"
    },
    {
     "name": "stdout",
     "output_type": "stream",
     "text": [
      "\n",
      "CPU times: user 12.3 s, sys: 124 ms, total: 12.4 s\n",
      "Wall time: 12.7 s\n"
     ]
    }
   ],
   "source": [
    "%%time\n",
    "tokenizer = XLNetTokenizer.from_pretrained('xlnet-base-cased')\n",
    "seg_ids_train, ids_train = {}, {}\n",
    "seg_ids_test, ids_test = {}, {}\n",
    "max_seq_len = 512\n",
    "for mode, df in [('train', train), ('test', test)]:\n",
    "    for text, cols in [('question', ['question_title', 'question_body']), \n",
    "                       ('answer', ['question_title', 'answer'])]:\n",
    "        ids, seg_ids, sent_ids = [], [], []\n",
    "        for x1, x2 in tqdm(df[cols].values):\n",
    "            encoded_inputs = tokenizer.encode_plus(\n",
    "                x1, x2, add_special_tokens=True, max_length=max_seq_len, pad_to_max_length=True, \n",
    "                return_token_type_ids=True\n",
    "            )\n",
    "            ids.append(encoded_inputs['input_ids'])\n",
    "            seg_ids.append(encoded_inputs['token_type_ids'])\n",
    "        if mode == 'train': \n",
    "            ids_train[text] = np.array(ids)\n",
    "            seg_ids_train[text] = np.array(seg_ids)\n",
    "        else: \n",
    "            ids_test[text] = np.array(ids)\n",
    "            seg_ids_test[text] = np.array(seg_ids)\n"
   ]
  },
  {
   "cell_type": "code",
   "execution_count": 4,
   "metadata": {
    "code_folding": []
   },
   "outputs": [],
   "source": [
    "train_category, test_category, category_dict, category_dict_reverse = \\\n",
    "    get_categorical_features(train, test, 'category')"
   ]
  },
  {
   "cell_type": "code",
   "execution_count": 5,
   "metadata": {},
   "outputs": [
    {
     "name": "stderr",
     "output_type": "stream",
     "text": [
      "/home/robin/anaconda3/envs/GoogleQuest/lib/python3.7/site-packages/sklearn/preprocessing/_encoders.py:415: FutureWarning: The handling of integer data will change in version 0.22. Currently, the categories are determined based on the range [0, max(values)], while in the future they will be determined based on the unique values.\n",
      "If you want the future behaviour and silence this warning, you can specify \"categories='auto'\".\n",
      "In case you used a LabelEncoder before this OneHotEncoder to convert the categories to integers, then you can now use the OneHotEncoder directly.\n",
      "  warnings.warn(msg, FutureWarning)\n"
     ]
    }
   ],
   "source": [
    "cat_features_train = train_category.reshape(-1, 1)\n",
    "cat_features_test = test_category.reshape(-1, 1)\n",
    "ohe = OneHotEncoder()\n",
    "ohe.fit(cat_features_train)\n",
    "cat_features_train = ohe.transform(cat_features_train).toarray()\n",
    "cat_features_test = ohe.transform(cat_features_test).toarray()"
   ]
  },
  {
   "cell_type": "code",
   "execution_count": 6,
   "metadata": {},
   "outputs": [],
   "source": [
    "for col in TARGETS:\n",
    "    train[col] = train[col].rank(method=\"average\")\n",
    "train[TARGETS] = MinMaxScaler().fit_transform(train[TARGETS])\n",
    "y = train[TARGETS].values.astype(np.float32)\n",
    "ix = np.where(train.groupby(\"question_body\")[\"host\"].transform(\"count\") == 1)[0]"
   ]
  },
  {
   "cell_type": "code",
   "execution_count": 7,
   "metadata": {},
   "outputs": [],
   "source": [
    "num_workers = 10\n",
    "bs = 2"
   ]
  },
  {
   "cell_type": "code",
   "execution_count": 8,
   "metadata": {},
   "outputs": [],
   "source": [
    "bs_test = 2\n",
    "test_loader = DataLoader(\n",
    "    TextDataset(cat_features_test, ids_test['question'], ids_test['answer'], \n",
    "                seg_ids_test['question'], seg_ids_test['answer'], test.index),\n",
    "    batch_size=bs_test, shuffle=False, num_workers=num_workers, drop_last=False\n",
    ")"
   ]
  },
  {
   "cell_type": "markdown",
   "metadata": {},
   "source": [
    "## Training model"
   ]
  },
  {
   "cell_type": "code",
   "execution_count": 9,
   "metadata": {},
   "outputs": [],
   "source": [
    "lr = 0.001\n",
    "loss_fn = nn.BCEWithLogitsLoss()\n",
    "device = 'cuda'\n",
    "n_epochs = 4\n",
    "grad_accum = 4\n",
    "weight_decay = 0.01\n",
    "model_name = 'siamese_xlnet_1'\n",
    "checkpoint_dir = 'checkpoints/'\n",
    "early_stopping = None\n",
    "n_folds = 10"
   ]
  },
  {
   "cell_type": "code",
   "execution_count": 10,
   "metadata": {},
   "outputs": [],
   "source": [
    "def get_optimizer_param_groups(model, lr, weight_decay):\n",
    "    no_decay = ['bias', 'LayerNorm.weight']\n",
    "    optimizer_grouped_parameters = [\n",
    "        {'params': [p for n, p in model.named_parameters() if not any(nd in n for nd in no_decay)], \n",
    "         'weight_decay': weight_decay, 'lr': lr},\n",
    "        {'params': [p for n, p in model.named_parameters() if any(nd in n for nd in no_decay)], \n",
    "         'weight_decay': 0.0, 'lr': lr}\n",
    "    ]\n",
    "    return optimizer_grouped_parameters\n",
    "\n",
    "def get_optimizer(model, lr, weight_decay):\n",
    "    return transformers.AdamW(\n",
    "        get_optimizer_param_groups(model.head, lr, weight_decay)\n",
    "        + get_optimizer_param_groups(model.xlnet, lr / 100, weight_decay)\n",
    "    )"
   ]
  },
  {
   "cell_type": "code",
   "execution_count": 11,
   "metadata": {
    "scrolled": true
   },
   "outputs": [
    {
     "name": "stdout",
     "output_type": "stream",
     "text": [
      "Fold 1 started at Sat Feb  1 18:49:05 2020\n"
     ]
    },
    {
     "data": {
      "application/vnd.jupyter.widget-view+json": {
       "model_id": "b5d8586be3f94d1cab11b782ae2f856e",
       "version_major": 2,
       "version_minor": 0
      },
      "text/plain": [
       "HBox(children=(IntProgress(value=0, max=400), HTML(value='')))"
      ]
     },
     "metadata": {},
     "output_type": "display_data"
    },
    {
     "name": "stderr",
     "output_type": "stream",
     "text": [
      "/home/robin/anaconda3/envs/GoogleQuest/lib/python3.7/site-packages/torch/optim/lr_scheduler.py:100: UserWarning: Detected call of `lr_scheduler.step()` before `optimizer.step()`. In PyTorch 1.1.0 and later, you should call them in the opposite order: `optimizer.step()` before `lr_scheduler.step()`.  Failure to do this will result in PyTorch skipping the first value of the learning rate schedule.See more details at https://pytorch.org/docs/stable/optim.html#how-to-adjust-learning-rate\n",
      "  \"https://pytorch.org/docs/stable/optim.html#how-to-adjust-learning-rate\", UserWarning)\n"
     ]
    },
    {
     "data": {
      "image/png": "[encoded data removed]",
      "text/plain": [
       "<Figure size 432x288 with 1 Axes>"
      ]
     },
     "metadata": {
      "needs_background": "light"
     },
     "output_type": "display_data"
    },
    {
     "name": "stdout",
     "output_type": "stream",
     "text": [
      "epoch 0: \t Start training...\n"
     ]
    },
    {
     "data": {
      "application/vnd.jupyter.widget-view+json": {
       "model_id": "2d2ecdb606f045eb9a167e40064dc58c",
       "version_major": 2,
       "version_minor": 0
      },
      "text/plain": [
       "HBox(children=(IntProgress(value=0, max=2736), HTML(value='')))"
      ]
     },
     "metadata": {},
     "output_type": "display_data"
    },
    {
     "name": "stdout",
     "output_type": "stream",
     "text": [
      "\n",
      "epoch 0/4 \t train : loss 0.51465 - spearmanr 0.21679\n",
      "epoch 0: \t Start validation...\n"
     ]
    },
    {
     "data": {
      "application/vnd.jupyter.widget-view+json": {
       "model_id": "47a2c3546c4d4de0810b86bb9fb38a0e",
       "version_major": 2,
       "version_minor": 0
      },
      "text/plain": [
       "HBox(children=(IntProgress(value=0, max=304), HTML(value='')))"
      ]
     },
     "metadata": {},
     "output_type": "display_data"
    },
    {
     "name": "stdout",
     "output_type": "stream",
     "text": [
      "\n",
      "epoch 0/4 \t valid : loss 0.47322 - spearmanr 0.37695\n"
     ]
    },
    {
     "name": "stderr",
     "output_type": "stream",
     "text": [
      "/home/robin/anaconda3/envs/GoogleQuest/lib/python3.7/site-packages/numpy/lib/function_base.py:2534: RuntimeWarning: invalid value encountered in true_divide\n",
      "  c /= stddev[:, None]\n",
      "/home/robin/anaconda3/envs/GoogleQuest/lib/python3.7/site-packages/numpy/lib/function_base.py:2535: RuntimeWarning: invalid value encountered in true_divide\n",
      "  c /= stddev[None, :]\n",
      "/home/robin/anaconda3/envs/GoogleQuest/lib/python3.7/site-packages/scipy/stats/_distn_infrastructure.py:901: RuntimeWarning: invalid value encountered in greater\n",
      "  return (a < x) & (x < b)\n",
      "/home/robin/anaconda3/envs/GoogleQuest/lib/python3.7/site-packages/scipy/stats/_distn_infrastructure.py:901: RuntimeWarning: invalid value encountered in less\n",
      "  return (a < x) & (x < b)\n",
      "/home/robin/anaconda3/envs/GoogleQuest/lib/python3.7/site-packages/scipy/stats/_distn_infrastructure.py:1892: RuntimeWarning: invalid value encountered in less_equal\n",
      "  cond2 = cond0 & (x <= _a)\n"
     ]
    },
    {
     "name": "stdout",
     "output_type": "stream",
     "text": [
      "best model: epoch 0 - 0.37695\n",
      "epoch 1: \t Start training...\n"
     ]
    },
    {
     "data": {
      "application/vnd.jupyter.widget-view+json": {
       "model_id": "c9756f8fcf3e460daf297b0c5114feb0",
       "version_major": 2,
       "version_minor": 0
      },
      "text/plain": [
       "HBox(children=(IntProgress(value=0, max=2736), HTML(value='')))"
      ]
     },
     "metadata": {},
     "output_type": "display_data"
    },
    {
     "name": "stdout",
     "output_type": "stream",
     "text": [
      "\n",
      "epoch 1/4 \t train : loss 0.46043 - spearmanr 0.38134\n",
      "epoch 1: \t Start validation...\n"
     ]
    },
    {
     "data": {
      "application/vnd.jupyter.widget-view+json": {
       "model_id": "60ec98f42dcb427690dc7db43a77f840",
       "version_major": 2,
       "version_minor": 0
      },
      "text/plain": [
       "HBox(children=(IntProgress(value=0, max=304), HTML(value='')))"
      ]
     },
     "metadata": {},
     "output_type": "display_data"
    },
    {
     "name": "stdout",
     "output_type": "stream",
     "text": [
      "\n",
      "epoch 1/4 \t valid : loss 0.45513 - spearmanr 0.4126\n",
      "best model: epoch 1 - 0.4126\n",
      "epoch 2: \t Start training...\n"
     ]
    },
    {
     "data": {
      "application/vnd.jupyter.widget-view+json": {
       "model_id": "23d36170a1af4fdda0fcb3b67f6422dc",
       "version_major": 2,
       "version_minor": 0
      },
      "text/plain": [
       "HBox(children=(IntProgress(value=0, max=2736), HTML(value='')))"
      ]
     },
     "metadata": {},
     "output_type": "display_data"
    },
    {
     "name": "stdout",
     "output_type": "stream",
     "text": [
      "\n",
      "epoch 2/4 \t train : loss 0.43881 - spearmanr 0.44187\n",
      "epoch 2: \t Start validation...\n"
     ]
    },
    {
     "data": {
      "application/vnd.jupyter.widget-view+json": {
       "model_id": "9a14d28f7bf54cef81251c5b1c3989f7",
       "version_major": 2,
       "version_minor": 0
      },
      "text/plain": [
       "HBox(children=(IntProgress(value=0, max=304), HTML(value='')))"
      ]
     },
     "metadata": {},
     "output_type": "display_data"
    },
    {
     "name": "stdout",
     "output_type": "stream",
     "text": [
      "\n",
      "epoch 2/4 \t valid : loss 0.4493 - spearmanr 0.42126\n",
      "best model: epoch 2 - 0.42126\n",
      "epoch 3: \t Start training...\n"
     ]
    },
    {
     "data": {
      "application/vnd.jupyter.widget-view+json": {
       "model_id": "a1f0a88cf52d4efa92681c8abea2839c",
       "version_major": 2,
       "version_minor": 0
      },
      "text/plain": [
       "HBox(children=(IntProgress(value=0, max=2736), HTML(value='')))"
      ]
     },
     "metadata": {},
     "output_type": "display_data"
    },
    {
     "name": "stdout",
     "output_type": "stream",
     "text": [
      "\n",
      "epoch 3/4 \t train : loss 0.41751 - spearmanr 0.49792\n",
      "epoch 3: \t Start validation...\n"
     ]
    },
    {
     "data": {
      "application/vnd.jupyter.widget-view+json": {
       "model_id": "d2f3e9614bdf47c0a5660ab16422baeb",
       "version_major": 2,
       "version_minor": 0
      },
      "text/plain": [
       "HBox(children=(IntProgress(value=0, max=304), HTML(value='')))"
      ]
     },
     "metadata": {},
     "output_type": "display_data"
    },
    {
     "name": "stdout",
     "output_type": "stream",
     "text": [
      "\n",
      "epoch 3/4 \t valid : loss 0.45512 - spearmanr 0.41796\n",
      "model not improved for 1 epochs\n",
      "TRAINING END: Best score achieved on epoch 2 - 0.42126\n",
      "Starting inference for model: checkpoints/siamese_xlnet_1_fold_1_best.pth\n"
     ]
    },
    {
     "data": {
      "application/vnd.jupyter.widget-view+json": {
       "model_id": "26b211a4905849128829d15e19b9a1a0",
       "version_major": 2,
       "version_minor": 0
      },
      "text/plain": [
       "HBox(children=(IntProgress(value=0, max=304), HTML(value='')))"
      ]
     },
     "metadata": {},
     "output_type": "display_data"
    },
    {
     "name": "stdout",
     "output_type": "stream",
     "text": [
      "\n",
      "Averaged Val. score: 0.4212640836635016\n",
      "Starting inference for model: checkpoints/siamese_xlnet_1_fold_1_best.pth\n"
     ]
    },
    {
     "data": {
      "application/vnd.jupyter.widget-view+json": {
       "model_id": "50fc12cfdef44aa78d9b529611b3eb29",
       "version_major": 2,
       "version_minor": 0
      },
      "text/plain": [
       "HBox(children=(IntProgress(value=0, max=238), HTML(value='')))"
      ]
     },
     "metadata": {},
     "output_type": "display_data"
    },
    {
     "name": "stdout",
     "output_type": "stream",
     "text": [
      "\n",
      "Fold 2 started at Sat Feb  1 20:11:37 2020\n",
      "epoch 0: \t Start training...\n"
     ]
    },
    {
     "data": {
      "application/vnd.jupyter.widget-view+json": {
       "model_id": "1f47f6f0aab04b3298b40276a696a711",
       "version_major": 2,
       "version_minor": 0
      },
      "text/plain": [
       "HBox(children=(IntProgress(value=0, max=2736), HTML(value='')))"
      ]
     },
     "metadata": {},
     "output_type": "display_data"
    },
    {
     "name": "stdout",
     "output_type": "stream",
     "text": [
      "\n",
      "epoch 0/4 \t train : loss 0.51475 - spearmanr 0.21756\n",
      "epoch 0: \t Start validation...\n"
     ]
    },
    {
     "data": {
      "application/vnd.jupyter.widget-view+json": {
       "model_id": "bcf9cfb50f2d4f508386645ada2e977a",
       "version_major": 2,
       "version_minor": 0
      },
      "text/plain": [
       "HBox(children=(IntProgress(value=0, max=304), HTML(value='')))"
      ]
     },
     "metadata": {},
     "output_type": "display_data"
    },
    {
     "name": "stdout",
     "output_type": "stream",
     "text": [
      "\n",
      "epoch 0/4 \t valid : loss 0.49035 - spearmanr 0.37849\n",
      "best model: epoch 0 - 0.37849\n",
      "epoch 1: \t Start training...\n"
     ]
    },
    {
     "data": {
      "application/vnd.jupyter.widget-view+json": {
       "model_id": "2e0ec1d1c0f04bde9b49001fb7524a82",
       "version_major": 2,
       "version_minor": 0
      },
      "text/plain": [
       "HBox(children=(IntProgress(value=0, max=2736), HTML(value='')))"
      ]
     },
     "metadata": {},
     "output_type": "display_data"
    },
    {
     "name": "stdout",
     "output_type": "stream",
     "text": [
      "\n",
      "epoch 1/4 \t train : loss 0.45998 - spearmanr 0.383\n",
      "epoch 1: \t Start validation...\n"
     ]
    },
    {
     "data": {
      "application/vnd.jupyter.widget-view+json": {
       "model_id": "7e75c47251b54c9e8dd0c43f4a696458",
       "version_major": 2,
       "version_minor": 0
      },
      "text/plain": [
       "HBox(children=(IntProgress(value=0, max=304), HTML(value='')))"
      ]
     },
     "metadata": {},
     "output_type": "display_data"
    },
    {
     "name": "stdout",
     "output_type": "stream",
     "text": [
      "\n",
      "epoch 1/4 \t valid : loss 0.46019 - spearmanr 0.41175\n",
      "best model: epoch 1 - 0.41175\n",
      "epoch 2: \t Start training...\n"
     ]
    },
    {
     "data": {
      "application/vnd.jupyter.widget-view+json": {
       "model_id": "52ebe0d32b104af8b68e25e2708267f8",
       "version_major": 2,
       "version_minor": 0
      },
      "text/plain": [
       "HBox(children=(IntProgress(value=0, max=2736), HTML(value='')))"
      ]
     },
     "metadata": {},
     "output_type": "display_data"
    },
    {
     "name": "stdout",
     "output_type": "stream",
     "text": [
      "\n",
      "epoch 2/4 \t train : loss 0.43894 - spearmanr 0.44079\n",
      "epoch 2: \t Start validation...\n"
     ]
    },
    {
     "data": {
      "application/vnd.jupyter.widget-view+json": {
       "model_id": "4d1a44cbd22f49bc8ea1f6ef3e2e79a3",
       "version_major": 2,
       "version_minor": 0
      },
      "text/plain": [
       "HBox(children=(IntProgress(value=0, max=304), HTML(value='')))"
      ]
     },
     "metadata": {},
     "output_type": "display_data"
    },
    {
     "name": "stdout",
     "output_type": "stream",
     "text": [
      "\n",
      "epoch 2/4 \t valid : loss 0.45238 - spearmanr 0.42318\n",
      "best model: epoch 2 - 0.42318\n",
      "epoch 3: \t Start training...\n"
     ]
    },
    {
     "data": {
      "application/vnd.jupyter.widget-view+json": {
       "model_id": "9746ead83eaf4f97ba30db17a4ec5f19",
       "version_major": 2,
       "version_minor": 0
      },
      "text/plain": [
       "HBox(children=(IntProgress(value=0, max=2736), HTML(value='')))"
      ]
     },
     "metadata": {},
     "output_type": "display_data"
    },
    {
     "name": "stdout",
     "output_type": "stream",
     "text": [
      "\n",
      "epoch 3/4 \t train : loss 0.4181 - spearmanr 0.49435\n",
      "epoch 3: \t Start validation...\n"
     ]
    },
    {
     "data": {
      "application/vnd.jupyter.widget-view+json": {
       "model_id": "5e98d6dc45b64a069973f284f67cdf32",
       "version_major": 2,
       "version_minor": 0
      },
      "text/plain": [
       "HBox(children=(IntProgress(value=0, max=304), HTML(value='')))"
      ]
     },
     "metadata": {},
     "output_type": "display_data"
    },
    {
     "name": "stdout",
     "output_type": "stream",
     "text": [
      "\n",
      "epoch 3/4 \t valid : loss 0.4564 - spearmanr 0.42624\n",
      "best model: epoch 3 - 0.42624\n",
      "TRAINING END: Best score achieved on epoch 3 - 0.42624\n",
      "Starting inference for model: checkpoints/siamese_xlnet_1_fold_2_best.pth\n"
     ]
    },
    {
     "data": {
      "application/vnd.jupyter.widget-view+json": {
       "model_id": "c79a27a233274c48a35dd67cb90173cd",
       "version_major": 2,
       "version_minor": 0
      },
      "text/plain": [
       "HBox(children=(IntProgress(value=0, max=304), HTML(value='')))"
      ]
     },
     "metadata": {},
     "output_type": "display_data"
    },
    {
     "name": "stdout",
     "output_type": "stream",
     "text": [
      "\n",
      "Averaged Val. score: 0.4262382636805294\n",
      "Starting inference for model: checkpoints/siamese_xlnet_1_fold_2_best.pth\n"
     ]
    },
    {
     "data": {
      "application/vnd.jupyter.widget-view+json": {
       "model_id": "c5b44fa2c5944d5384265e1bf2f25b34",
       "version_major": 2,
       "version_minor": 0
      },
      "text/plain": [
       "HBox(children=(IntProgress(value=0, max=238), HTML(value='')))"
      ]
     },
     "metadata": {},
     "output_type": "display_data"
    },
    {
     "name": "stdout",
     "output_type": "stream",
     "text": [
      "\n",
      "Fold 3 started at Sat Feb  1 21:31:31 2020\n",
      "epoch 0: \t Start training...\n"
     ]
    },
    {
     "data": {
      "application/vnd.jupyter.widget-view+json": {
       "model_id": "f655855ea38b41df864d91cc11ad32c1",
       "version_major": 2,
       "version_minor": 0
      },
      "text/plain": [
       "HBox(children=(IntProgress(value=0, max=2736), HTML(value='')))"
      ]
     },
     "metadata": {},
     "output_type": "display_data"
    },
    {
     "name": "stdout",
     "output_type": "stream",
     "text": [
      "\n",
      "epoch 0/4 \t train : loss 0.51371 - spearmanr 0.21863\n",
      "epoch 0: \t Start validation...\n"
     ]
    },
    {
     "data": {
      "application/vnd.jupyter.widget-view+json": {
       "model_id": "5a44884dafc749ba9b523e5746967903",
       "version_major": 2,
       "version_minor": 0
      },
      "text/plain": [
       "HBox(children=(IntProgress(value=0, max=304), HTML(value='')))"
      ]
     },
     "metadata": {},
     "output_type": "display_data"
    },
    {
     "name": "stdout",
     "output_type": "stream",
     "text": [
      "\n",
      "epoch 0/4 \t valid : loss 0.47032 - spearmanr 0.37583\n",
      "best model: epoch 0 - 0.37583\n",
      "epoch 1: \t Start training...\n"
     ]
    },
    {
     "data": {
      "application/vnd.jupyter.widget-view+json": {
       "model_id": "9975abe3c5e34676aeb7c65b2421b972",
       "version_major": 2,
       "version_minor": 0
      },
      "text/plain": [
       "HBox(children=(IntProgress(value=0, max=2736), HTML(value='')))"
      ]
     },
     "metadata": {},
     "output_type": "display_data"
    },
    {
     "name": "stdout",
     "output_type": "stream",
     "text": [
      "\n",
      "epoch 1/4 \t train : loss 0.45975 - spearmanr 0.38448\n",
      "epoch 1: \t Start validation...\n"
     ]
    },
    {
     "data": {
      "application/vnd.jupyter.widget-view+json": {
       "model_id": "0643e5c9775a4ced8c86fec99ce4173e",
       "version_major": 2,
       "version_minor": 0
      },
      "text/plain": [
       "HBox(children=(IntProgress(value=0, max=304), HTML(value='')))"
      ]
     },
     "metadata": {},
     "output_type": "display_data"
    },
    {
     "name": "stdout",
     "output_type": "stream",
     "text": [
      "\n",
      "epoch 1/4 \t valid : loss 0.4601 - spearmanr 0.40012\n",
      "best model: epoch 1 - 0.40012\n",
      "epoch 2: \t Start training...\n"
     ]
    },
    {
     "data": {
      "application/vnd.jupyter.widget-view+json": {
       "model_id": "9b86ec94af8d4929b7eb6f54dd291036",
       "version_major": 2,
       "version_minor": 0
      },
      "text/plain": [
       "HBox(children=(IntProgress(value=0, max=2736), HTML(value='')))"
      ]
     },
     "metadata": {},
     "output_type": "display_data"
    },
    {
     "name": "stdout",
     "output_type": "stream",
     "text": [
      "\n",
      "epoch 2/4 \t train : loss 0.43797 - spearmanr 0.44461\n",
      "epoch 2: \t Start validation...\n"
     ]
    },
    {
     "data": {
      "application/vnd.jupyter.widget-view+json": {
       "model_id": "b268a51ca2824da9a255ea1dbf3d0d59",
       "version_major": 2,
       "version_minor": 0
      },
      "text/plain": [
       "HBox(children=(IntProgress(value=0, max=304), HTML(value='')))"
      ]
     },
     "metadata": {},
     "output_type": "display_data"
    },
    {
     "name": "stdout",
     "output_type": "stream",
     "text": [
      "\n",
      "epoch 2/4 \t valid : loss 0.45369 - spearmanr 0.41017\n",
      "best model: epoch 2 - 0.41017\n",
      "epoch 3: \t Start training...\n"
     ]
    },
    {
     "data": {
      "application/vnd.jupyter.widget-view+json": {
       "model_id": "410f4c4213634ee1be8328c023553138",
       "version_major": 2,
       "version_minor": 0
      },
      "text/plain": [
       "HBox(children=(IntProgress(value=0, max=2736), HTML(value='')))"
      ]
     },
     "metadata": {},
     "output_type": "display_data"
    },
    {
     "name": "stdout",
     "output_type": "stream",
     "text": [
      "\n",
      "epoch 3/4 \t train : loss 0.41708 - spearmanr 0.49842\n",
      "epoch 3: \t Start validation...\n"
     ]
    },
    {
     "data": {
      "application/vnd.jupyter.widget-view+json": {
       "model_id": "62bf20eec69d4d24816fe590f58fbf2b",
       "version_major": 2,
       "version_minor": 0
      },
      "text/plain": [
       "HBox(children=(IntProgress(value=0, max=304), HTML(value='')))"
      ]
     },
     "metadata": {},
     "output_type": "display_data"
    },
    {
     "name": "stdout",
     "output_type": "stream",
     "text": [
      "\n",
      "epoch 3/4 \t valid : loss 0.45742 - spearmanr 0.40879\n",
      "model not improved for 1 epochs\n",
      "TRAINING END: Best score achieved on epoch 2 - 0.41017\n",
      "Starting inference for model: checkpoints/siamese_xlnet_1_fold_3_best.pth\n"
     ]
    },
    {
     "data": {
      "application/vnd.jupyter.widget-view+json": {
       "model_id": "64461645cd494eeba21fdeffb7b6997d",
       "version_major": 2,
       "version_minor": 0
      },
      "text/plain": [
       "HBox(children=(IntProgress(value=0, max=304), HTML(value='')))"
      ]
     },
     "metadata": {},
     "output_type": "display_data"
    },
    {
     "name": "stdout",
     "output_type": "stream",
     "text": [
      "\n",
      "Averaged Val. score: 0.4101679165939366\n",
      "Starting inference for model: checkpoints/siamese_xlnet_1_fold_3_best.pth\n"
     ]
    },
    {
     "data": {
      "application/vnd.jupyter.widget-view+json": {
       "model_id": "62f7c4053218468ab6e0d65d03415890",
       "version_major": 2,
       "version_minor": 0
      },
      "text/plain": [
       "HBox(children=(IntProgress(value=0, max=238), HTML(value='')))"
      ]
     },
     "metadata": {},
     "output_type": "display_data"
    },
    {
     "name": "stdout",
     "output_type": "stream",
     "text": [
      "\n",
      "Fold 4 started at Sat Feb  1 22:50:26 2020\n",
      "epoch 0: \t Start training...\n"
     ]
    },
    {
     "data": {
      "application/vnd.jupyter.widget-view+json": {
       "model_id": "b9dc244eec6b44a0b141e2baed8e5bf0",
       "version_major": 2,
       "version_minor": 0
      },
      "text/plain": [
       "HBox(children=(IntProgress(value=0, max=2736), HTML(value='')))"
      ]
     },
     "metadata": {},
     "output_type": "display_data"
    },
    {
     "name": "stdout",
     "output_type": "stream",
     "text": [
      "\n",
      "epoch 0/4 \t train : loss 0.51409 - spearmanr 0.22331\n",
      "epoch 0: \t Start validation...\n"
     ]
    },
    {
     "data": {
      "application/vnd.jupyter.widget-view+json": {
       "model_id": "0bc1e2211b7f429fbfdb6917339fb20a",
       "version_major": 2,
       "version_minor": 0
      },
      "text/plain": [
       "HBox(children=(IntProgress(value=0, max=304), HTML(value='')))"
      ]
     },
     "metadata": {},
     "output_type": "display_data"
    },
    {
     "name": "stdout",
     "output_type": "stream",
     "text": [
      "\n",
      "epoch 0/4 \t valid : loss 0.47068 - spearmanr 0.36282\n",
      "best model: epoch 0 - 0.36282\n",
      "epoch 1: \t Start training...\n"
     ]
    },
    {
     "data": {
      "application/vnd.jupyter.widget-view+json": {
       "model_id": "1d4474f7919b4bedb302b6360a9dc6ca",
       "version_major": 2,
       "version_minor": 0
      },
      "text/plain": [
       "HBox(children=(IntProgress(value=0, max=2736), HTML(value='')))"
      ]
     },
     "metadata": {},
     "output_type": "display_data"
    },
    {
     "name": "stdout",
     "output_type": "stream",
     "text": [
      "\n",
      "epoch 1/4 \t train : loss 0.4593 - spearmanr 0.38551\n",
      "epoch 1: \t Start validation...\n"
     ]
    },
    {
     "data": {
      "application/vnd.jupyter.widget-view+json": {
       "model_id": "bd9ab7911da241f48fa8f2608d38506f",
       "version_major": 2,
       "version_minor": 0
      },
      "text/plain": [
       "HBox(children=(IntProgress(value=0, max=304), HTML(value='')))"
      ]
     },
     "metadata": {},
     "output_type": "display_data"
    },
    {
     "name": "stdout",
     "output_type": "stream",
     "text": [
      "\n",
      "epoch 1/4 \t valid : loss 0.45895 - spearmanr 0.39176\n",
      "best model: epoch 1 - 0.39176\n",
      "epoch 2: \t Start training...\n"
     ]
    },
    {
     "data": {
      "application/vnd.jupyter.widget-view+json": {
       "model_id": "6b063dc1ee4445ad986ce6676f17a1fe",
       "version_major": 2,
       "version_minor": 0
      },
      "text/plain": [
       "HBox(children=(IntProgress(value=0, max=2736), HTML(value='')))"
      ]
     },
     "metadata": {},
     "output_type": "display_data"
    },
    {
     "name": "stdout",
     "output_type": "stream",
     "text": [
      "\n",
      "epoch 2/4 \t train : loss 0.43788 - spearmanr 0.44618\n",
      "epoch 2: \t Start validation...\n"
     ]
    },
    {
     "data": {
      "application/vnd.jupyter.widget-view+json": {
       "model_id": "0140a1e0d03a48f5b0d7d09bc525514b",
       "version_major": 2,
       "version_minor": 0
      },
      "text/plain": [
       "HBox(children=(IntProgress(value=0, max=304), HTML(value='')))"
      ]
     },
     "metadata": {},
     "output_type": "display_data"
    },
    {
     "name": "stdout",
     "output_type": "stream",
     "text": [
      "\n",
      "epoch 2/4 \t valid : loss 0.4576 - spearmanr 0.39981\n",
      "best model: epoch 2 - 0.39981\n",
      "epoch 3: \t Start training...\n"
     ]
    },
    {
     "data": {
      "application/vnd.jupyter.widget-view+json": {
       "model_id": "438ae4dd30a248bd876d0e6ccbb1ffdb",
       "version_major": 2,
       "version_minor": 0
      },
      "text/plain": [
       "HBox(children=(IntProgress(value=0, max=2736), HTML(value='')))"
      ]
     },
     "metadata": {},
     "output_type": "display_data"
    },
    {
     "name": "stdout",
     "output_type": "stream",
     "text": [
      "\n",
      "epoch 3/4 \t train : loss 0.41617 - spearmanr 0.50171\n",
      "epoch 3: \t Start validation...\n"
     ]
    },
    {
     "data": {
      "application/vnd.jupyter.widget-view+json": {
       "model_id": "7b5b4561d6de44b19989642ee919e84c",
       "version_major": 2,
       "version_minor": 0
      },
      "text/plain": [
       "HBox(children=(IntProgress(value=0, max=304), HTML(value='')))"
      ]
     },
     "metadata": {},
     "output_type": "display_data"
    },
    {
     "name": "stdout",
     "output_type": "stream",
     "text": [
      "\n",
      "epoch 3/4 \t valid : loss 0.45776 - spearmanr 0.40059\n",
      "best model: epoch 3 - 0.40059\n",
      "TRAINING END: Best score achieved on epoch 3 - 0.40059\n",
      "Starting inference for model: checkpoints/siamese_xlnet_1_fold_4_best.pth\n"
     ]
    },
    {
     "data": {
      "application/vnd.jupyter.widget-view+json": {
       "model_id": "3aed043e8f2046439efab03287fc2d85",
       "version_major": 2,
       "version_minor": 0
      },
      "text/plain": [
       "HBox(children=(IntProgress(value=0, max=304), HTML(value='')))"
      ]
     },
     "metadata": {},
     "output_type": "display_data"
    },
    {
     "name": "stdout",
     "output_type": "stream",
     "text": [
      "\n",
      "Averaged Val. score: 0.4005906074371912\n",
      "Starting inference for model: checkpoints/siamese_xlnet_1_fold_4_best.pth\n"
     ]
    },
    {
     "data": {
      "application/vnd.jupyter.widget-view+json": {
       "model_id": "f4467eff52264617a3ebc068f2aaca7b",
       "version_major": 2,
       "version_minor": 0
      },
      "text/plain": [
       "HBox(children=(IntProgress(value=0, max=238), HTML(value='')))"
      ]
     },
     "metadata": {},
     "output_type": "display_data"
    },
    {
     "name": "stdout",
     "output_type": "stream",
     "text": [
      "\n",
      "Fold 5 started at Sun Feb  2 00:10:06 2020\n",
      "epoch 0: \t Start training...\n"
     ]
    },
    {
     "data": {
      "application/vnd.jupyter.widget-view+json": {
       "model_id": "cd91d44448c74d3598c58aef00a58988",
       "version_major": 2,
       "version_minor": 0
      },
      "text/plain": [
       "HBox(children=(IntProgress(value=0, max=2736), HTML(value='')))"
      ]
     },
     "metadata": {},
     "output_type": "display_data"
    },
    {
     "name": "stdout",
     "output_type": "stream",
     "text": [
      "\n",
      "epoch 0/4 \t train : loss 0.5167 - spearmanr 0.21137\n",
      "epoch 0: \t Start validation...\n"
     ]
    },
    {
     "data": {
      "application/vnd.jupyter.widget-view+json": {
       "model_id": "80ba61cf415e4ad087ac2b036697c4e2",
       "version_major": 2,
       "version_minor": 0
      },
      "text/plain": [
       "HBox(children=(IntProgress(value=0, max=304), HTML(value='')))"
      ]
     },
     "metadata": {},
     "output_type": "display_data"
    },
    {
     "name": "stdout",
     "output_type": "stream",
     "text": [
      "\n",
      "epoch 0/4 \t valid : loss 0.47015 - spearmanr 0.35869\n",
      "best model: epoch 0 - 0.35869\n",
      "epoch 1: \t Start training...\n"
     ]
    },
    {
     "data": {
      "application/vnd.jupyter.widget-view+json": {
       "model_id": "c4cef62adf734d77a9d9aa9786cc48eb",
       "version_major": 2,
       "version_minor": 0
      },
      "text/plain": [
       "HBox(children=(IntProgress(value=0, max=2736), HTML(value='')))"
      ]
     },
     "metadata": {},
     "output_type": "display_data"
    },
    {
     "name": "stdout",
     "output_type": "stream",
     "text": [
      "\n",
      "epoch 1/4 \t train : loss 0.46055 - spearmanr 0.38273\n",
      "epoch 1: \t Start validation...\n"
     ]
    },
    {
     "data": {
      "application/vnd.jupyter.widget-view+json": {
       "model_id": "21759f8bf8fe46608ef3b562b770c1a0",
       "version_major": 2,
       "version_minor": 0
      },
      "text/plain": [
       "HBox(children=(IntProgress(value=0, max=304), HTML(value='')))"
      ]
     },
     "metadata": {},
     "output_type": "display_data"
    },
    {
     "name": "stdout",
     "output_type": "stream",
     "text": [
      "\n",
      "epoch 1/4 \t valid : loss 0.45547 - spearmanr 0.39212\n",
      "best model: epoch 1 - 0.39212\n",
      "epoch 2: \t Start training...\n"
     ]
    },
    {
     "data": {
      "application/vnd.jupyter.widget-view+json": {
       "model_id": "7c9b9469d4794f39aedf638f8ddaa342",
       "version_major": 2,
       "version_minor": 0
      },
      "text/plain": [
       "HBox(children=(IntProgress(value=0, max=2736), HTML(value='')))"
      ]
     },
     "metadata": {},
     "output_type": "display_data"
    },
    {
     "name": "stdout",
     "output_type": "stream",
     "text": [
      "\n",
      "epoch 2/4 \t train : loss 0.43864 - spearmanr 0.4436\n",
      "epoch 2: \t Start validation...\n"
     ]
    },
    {
     "data": {
      "application/vnd.jupyter.widget-view+json": {
       "model_id": "64f698a9bc174c2e987f9f2aa3170e57",
       "version_major": 2,
       "version_minor": 0
      },
      "text/plain": [
       "HBox(children=(IntProgress(value=0, max=304), HTML(value='')))"
      ]
     },
     "metadata": {},
     "output_type": "display_data"
    },
    {
     "name": "stdout",
     "output_type": "stream",
     "text": [
      "\n",
      "epoch 2/4 \t valid : loss 0.45098 - spearmanr 0.40519\n",
      "best model: epoch 2 - 0.40519\n",
      "epoch 3: \t Start training...\n"
     ]
    },
    {
     "data": {
      "application/vnd.jupyter.widget-view+json": {
       "model_id": "a4d9e945f6a241c386866ee05abed3cc",
       "version_major": 2,
       "version_minor": 0
      },
      "text/plain": [
       "HBox(children=(IntProgress(value=0, max=2736), HTML(value='')))"
      ]
     },
     "metadata": {},
     "output_type": "display_data"
    },
    {
     "name": "stdout",
     "output_type": "stream",
     "text": [
      "\n",
      "epoch 3/4 \t train : loss 0.41679 - spearmanr 0.50008\n",
      "epoch 3: \t Start validation...\n"
     ]
    },
    {
     "data": {
      "application/vnd.jupyter.widget-view+json": {
       "model_id": "6c7e3c0801a244bf844c74619052366e",
       "version_major": 2,
       "version_minor": 0
      },
      "text/plain": [
       "HBox(children=(IntProgress(value=0, max=304), HTML(value='')))"
      ]
     },
     "metadata": {},
     "output_type": "display_data"
    },
    {
     "name": "stdout",
     "output_type": "stream",
     "text": [
      "\n",
      "epoch 3/4 \t valid : loss 0.45465 - spearmanr 0.40274\n",
      "model not improved for 1 epochs\n",
      "TRAINING END: Best score achieved on epoch 2 - 0.40519\n",
      "Starting inference for model: checkpoints/siamese_xlnet_1_fold_5_best.pth\n"
     ]
    },
    {
     "data": {
      "application/vnd.jupyter.widget-view+json": {
       "model_id": "4ae1067a912947599f185bcae8689a36",
       "version_major": 2,
       "version_minor": 0
      },
      "text/plain": [
       "HBox(children=(IntProgress(value=0, max=304), HTML(value='')))"
      ]
     },
     "metadata": {},
     "output_type": "display_data"
    },
    {
     "name": "stdout",
     "output_type": "stream",
     "text": [
      "\n",
      "Averaged Val. score: 0.40518555614573376\n",
      "Starting inference for model: checkpoints/siamese_xlnet_1_fold_5_best.pth\n"
     ]
    },
    {
     "data": {
      "application/vnd.jupyter.widget-view+json": {
       "model_id": "75590d2aa2924f91b552d651f4fb0988",
       "version_major": 2,
       "version_minor": 0
      },
      "text/plain": [
       "HBox(children=(IntProgress(value=0, max=238), HTML(value='')))"
      ]
     },
     "metadata": {},
     "output_type": "display_data"
    },
    {
     "name": "stdout",
     "output_type": "stream",
     "text": [
      "\n",
      "Fold 6 started at Sun Feb  2 01:29:50 2020\n",
      "epoch 0: \t Start training...\n"
     ]
    },
    {
     "data": {
      "application/vnd.jupyter.widget-view+json": {
       "model_id": "565f3a7ddbb74eeca6fc7f16895f59d0",
       "version_major": 2,
       "version_minor": 0
      },
      "text/plain": [
       "HBox(children=(IntProgress(value=0, max=2736), HTML(value='')))"
      ]
     },
     "metadata": {},
     "output_type": "display_data"
    },
    {
     "name": "stdout",
     "output_type": "stream",
     "text": [
      "\n",
      "epoch 0/4 \t train : loss 0.51418 - spearmanr 0.22335\n",
      "epoch 0: \t Start validation...\n"
     ]
    },
    {
     "data": {
      "application/vnd.jupyter.widget-view+json": {
       "model_id": "4a786a2bd09a469eadf4349874b4f974",
       "version_major": 2,
       "version_minor": 0
      },
      "text/plain": [
       "HBox(children=(IntProgress(value=0, max=304), HTML(value='')))"
      ]
     },
     "metadata": {},
     "output_type": "display_data"
    },
    {
     "name": "stdout",
     "output_type": "stream",
     "text": [
      "\n",
      "epoch 0/4 \t valid : loss 0.46547 - spearmanr 0.36404\n",
      "best model: epoch 0 - 0.36404\n",
      "epoch 1: \t Start training...\n"
     ]
    },
    {
     "data": {
      "application/vnd.jupyter.widget-view+json": {
       "model_id": "8dcfeedb4c9b4d5bb9ad5dfd60e7fbd0",
       "version_major": 2,
       "version_minor": 0
      },
      "text/plain": [
       "HBox(children=(IntProgress(value=0, max=2736), HTML(value='')))"
      ]
     },
     "metadata": {},
     "output_type": "display_data"
    },
    {
     "name": "stdout",
     "output_type": "stream",
     "text": [
      "\n",
      "epoch 1/4 \t train : loss 0.46102 - spearmanr 0.38278\n",
      "epoch 1: \t Start validation...\n"
     ]
    },
    {
     "data": {
      "application/vnd.jupyter.widget-view+json": {
       "model_id": "a7ca450f02f644d8adc77c44677b6da8",
       "version_major": 2,
       "version_minor": 0
      },
      "text/plain": [
       "HBox(children=(IntProgress(value=0, max=304), HTML(value='')))"
      ]
     },
     "metadata": {},
     "output_type": "display_data"
    },
    {
     "name": "stdout",
     "output_type": "stream",
     "text": [
      "\n",
      "epoch 1/4 \t valid : loss 0.4499 - spearmanr 0.39476\n",
      "best model: epoch 1 - 0.39476\n",
      "epoch 2: \t Start training...\n"
     ]
    },
    {
     "data": {
      "application/vnd.jupyter.widget-view+json": {
       "model_id": "ca643f74546c4d3a999cc62abc4fe516",
       "version_major": 2,
       "version_minor": 0
      },
      "text/plain": [
       "HBox(children=(IntProgress(value=0, max=2736), HTML(value='')))"
      ]
     },
     "metadata": {},
     "output_type": "display_data"
    },
    {
     "name": "stdout",
     "output_type": "stream",
     "text": [
      "\n",
      "epoch 2/4 \t train : loss 0.43865 - spearmanr 0.44501\n",
      "epoch 2: \t Start validation...\n"
     ]
    },
    {
     "data": {
      "application/vnd.jupyter.widget-view+json": {
       "model_id": "e7bfa02270174bcb8f5dffc662b42f32",
       "version_major": 2,
       "version_minor": 0
      },
      "text/plain": [
       "HBox(children=(IntProgress(value=0, max=304), HTML(value='')))"
      ]
     },
     "metadata": {},
     "output_type": "display_data"
    },
    {
     "name": "stdout",
     "output_type": "stream",
     "text": [
      "\n",
      "epoch 2/4 \t valid : loss 0.45118 - spearmanr 0.39482\n",
      "best model: epoch 2 - 0.39482\n",
      "epoch 3: \t Start training...\n"
     ]
    },
    {
     "data": {
      "application/vnd.jupyter.widget-view+json": {
       "model_id": "608ddce5eed8424d802825b09e9cbe07",
       "version_major": 2,
       "version_minor": 0
      },
      "text/plain": [
       "HBox(children=(IntProgress(value=0, max=2736), HTML(value='')))"
      ]
     },
     "metadata": {},
     "output_type": "display_data"
    },
    {
     "name": "stdout",
     "output_type": "stream",
     "text": [
      "\n",
      "epoch 3/4 \t train : loss 0.41686 - spearmanr 0.50208\n",
      "epoch 3: \t Start validation...\n"
     ]
    },
    {
     "data": {
      "application/vnd.jupyter.widget-view+json": {
       "model_id": "3bcc0c5022ed41a5a083c7c6d3308ed7",
       "version_major": 2,
       "version_minor": 0
      },
      "text/plain": [
       "HBox(children=(IntProgress(value=0, max=304), HTML(value='')))"
      ]
     },
     "metadata": {},
     "output_type": "display_data"
    },
    {
     "name": "stdout",
     "output_type": "stream",
     "text": [
      "\n",
      "epoch 3/4 \t valid : loss 0.45442 - spearmanr 0.38944\n",
      "model not improved for 1 epochs\n",
      "TRAINING END: Best score achieved on epoch 2 - 0.39482\n",
      "Starting inference for model: checkpoints/siamese_xlnet_1_fold_6_best.pth\n"
     ]
    },
    {
     "data": {
      "application/vnd.jupyter.widget-view+json": {
       "model_id": "7329a6f808ff43fcbe09252c45a31e9e",
       "version_major": 2,
       "version_minor": 0
      },
      "text/plain": [
       "HBox(children=(IntProgress(value=0, max=304), HTML(value='')))"
      ]
     },
     "metadata": {},
     "output_type": "display_data"
    },
    {
     "name": "stdout",
     "output_type": "stream",
     "text": [
      "\n",
      "Averaged Val. score: 0.3948185108930725\n",
      "Starting inference for model: checkpoints/siamese_xlnet_1_fold_6_best.pth\n"
     ]
    },
    {
     "data": {
      "application/vnd.jupyter.widget-view+json": {
       "model_id": "215e00c5efd446899cbf1830a2dc8a8b",
       "version_major": 2,
       "version_minor": 0
      },
      "text/plain": [
       "HBox(children=(IntProgress(value=0, max=238), HTML(value='')))"
      ]
     },
     "metadata": {},
     "output_type": "display_data"
    },
    {
     "name": "stdout",
     "output_type": "stream",
     "text": [
      "\n",
      "Fold 7 started at Sun Feb  2 02:49:11 2020\n",
      "epoch 0: \t Start training...\n"
     ]
    },
    {
     "data": {
      "application/vnd.jupyter.widget-view+json": {
       "model_id": "a8c58407f9d54f98bc5817b4a3b18a7d",
       "version_major": 2,
       "version_minor": 0
      },
      "text/plain": [
       "HBox(children=(IntProgress(value=0, max=2736), HTML(value='')))"
      ]
     },
     "metadata": {},
     "output_type": "display_data"
    },
    {
     "name": "stdout",
     "output_type": "stream",
     "text": [
      "\n",
      "epoch 0/4 \t train : loss 0.51311 - spearmanr 0.2209\n",
      "epoch 0: \t Start validation...\n"
     ]
    },
    {
     "data": {
      "application/vnd.jupyter.widget-view+json": {
       "model_id": "7aaa93c4af784754aa81e98beaaec9b5",
       "version_major": 2,
       "version_minor": 0
      },
      "text/plain": [
       "HBox(children=(IntProgress(value=0, max=304), HTML(value='')))"
      ]
     },
     "metadata": {},
     "output_type": "display_data"
    },
    {
     "name": "stdout",
     "output_type": "stream",
     "text": [
      "\n",
      "epoch 0/4 \t valid : loss 0.49145 - spearmanr 0.37138\n",
      "best model: epoch 0 - 0.37138\n",
      "epoch 1: \t Start training...\n"
     ]
    },
    {
     "data": {
      "application/vnd.jupyter.widget-view+json": {
       "model_id": "ffe0ae2bb0c44f2c8d12802677528fc8",
       "version_major": 2,
       "version_minor": 0
      },
      "text/plain": [
       "HBox(children=(IntProgress(value=0, max=2736), HTML(value='')))"
      ]
     },
     "metadata": {},
     "output_type": "display_data"
    },
    {
     "name": "stdout",
     "output_type": "stream",
     "text": [
      "\n",
      "epoch 1/4 \t train : loss 0.45964 - spearmanr 0.38285\n",
      "epoch 1: \t Start validation...\n"
     ]
    },
    {
     "data": {
      "application/vnd.jupyter.widget-view+json": {
       "model_id": "7e12eda45e2549b589acc48c650d459e",
       "version_major": 2,
       "version_minor": 0
      },
      "text/plain": [
       "HBox(children=(IntProgress(value=0, max=304), HTML(value='')))"
      ]
     },
     "metadata": {},
     "output_type": "display_data"
    },
    {
     "name": "stdout",
     "output_type": "stream",
     "text": [
      "\n",
      "epoch 1/4 \t valid : loss 0.46173 - spearmanr 0.40685\n",
      "best model: epoch 1 - 0.40685\n",
      "epoch 2: \t Start training...\n"
     ]
    },
    {
     "data": {
      "application/vnd.jupyter.widget-view+json": {
       "model_id": "7ae9a009b00a4e69b32e0e7c9df8c7fe",
       "version_major": 2,
       "version_minor": 0
      },
      "text/plain": [
       "HBox(children=(IntProgress(value=0, max=2736), HTML(value='')))"
      ]
     },
     "metadata": {},
     "output_type": "display_data"
    },
    {
     "name": "stdout",
     "output_type": "stream",
     "text": [
      "\n",
      "epoch 2/4 \t train : loss 0.43844 - spearmanr 0.44131\n",
      "epoch 2: \t Start validation...\n"
     ]
    },
    {
     "data": {
      "application/vnd.jupyter.widget-view+json": {
       "model_id": "cef32c8825c2442c856927102e5c4e83",
       "version_major": 2,
       "version_minor": 0
      },
      "text/plain": [
       "HBox(children=(IntProgress(value=0, max=304), HTML(value='')))"
      ]
     },
     "metadata": {},
     "output_type": "display_data"
    },
    {
     "name": "stdout",
     "output_type": "stream",
     "text": [
      "\n",
      "epoch 2/4 \t valid : loss 0.4569 - spearmanr 0.41238\n",
      "best model: epoch 2 - 0.41238\n",
      "epoch 3: \t Start training...\n"
     ]
    },
    {
     "data": {
      "application/vnd.jupyter.widget-view+json": {
       "model_id": "29556e7adb944ba29609611a2a668d63",
       "version_major": 2,
       "version_minor": 0
      },
      "text/plain": [
       "HBox(children=(IntProgress(value=0, max=2736), HTML(value='')))"
      ]
     },
     "metadata": {},
     "output_type": "display_data"
    },
    {
     "name": "stdout",
     "output_type": "stream",
     "text": [
      "\n",
      "epoch 3/4 \t train : loss 0.41696 - spearmanr 0.49754\n",
      "epoch 3: \t Start validation...\n"
     ]
    },
    {
     "data": {
      "application/vnd.jupyter.widget-view+json": {
       "model_id": "d1660a897d764f47b24f39fb02ed4dc6",
       "version_major": 2,
       "version_minor": 0
      },
      "text/plain": [
       "HBox(children=(IntProgress(value=0, max=304), HTML(value='')))"
      ]
     },
     "metadata": {},
     "output_type": "display_data"
    },
    {
     "name": "stdout",
     "output_type": "stream",
     "text": [
      "\n",
      "epoch 3/4 \t valid : loss 0.45993 - spearmanr 0.41607\n",
      "best model: epoch 3 - 0.41607\n",
      "TRAINING END: Best score achieved on epoch 3 - 0.41607\n",
      "Starting inference for model: checkpoints/siamese_xlnet_1_fold_7_best.pth\n"
     ]
    },
    {
     "data": {
      "application/vnd.jupyter.widget-view+json": {
       "model_id": "466381ef1fe24b8682f28376dd4927d4",
       "version_major": 2,
       "version_minor": 0
      },
      "text/plain": [
       "HBox(children=(IntProgress(value=0, max=304), HTML(value='')))"
      ]
     },
     "metadata": {},
     "output_type": "display_data"
    },
    {
     "name": "stdout",
     "output_type": "stream",
     "text": [
      "\n",
      "Averaged Val. score: 0.416068102088494\n",
      "Starting inference for model: checkpoints/siamese_xlnet_1_fold_7_best.pth\n"
     ]
    },
    {
     "data": {
      "application/vnd.jupyter.widget-view+json": {
       "model_id": "e18f7a6ac2a247929aa475645c9c6a2c",
       "version_major": 2,
       "version_minor": 0
      },
      "text/plain": [
       "HBox(children=(IntProgress(value=0, max=238), HTML(value='')))"
      ]
     },
     "metadata": {},
     "output_type": "display_data"
    },
    {
     "name": "stdout",
     "output_type": "stream",
     "text": [
      "\n",
      "Fold 8 started at Sun Feb  2 04:08:08 2020\n",
      "epoch 0: \t Start training...\n"
     ]
    },
    {
     "data": {
      "application/vnd.jupyter.widget-view+json": {
       "model_id": "b9c7f6b2938449b8ac876559d677e2ec",
       "version_major": 2,
       "version_minor": 0
      },
      "text/plain": [
       "HBox(children=(IntProgress(value=0, max=2736), HTML(value='')))"
      ]
     },
     "metadata": {},
     "output_type": "display_data"
    },
    {
     "name": "stdout",
     "output_type": "stream",
     "text": [
      "\n",
      "epoch 0/4 \t train : loss 0.51211 - spearmanr 0.22548\n",
      "epoch 0: \t Start validation...\n"
     ]
    },
    {
     "data": {
      "application/vnd.jupyter.widget-view+json": {
       "model_id": "90cda838eb0a4c52a44759fd9523ca74",
       "version_major": 2,
       "version_minor": 0
      },
      "text/plain": [
       "HBox(children=(IntProgress(value=0, max=304), HTML(value='')))"
      ]
     },
     "metadata": {},
     "output_type": "display_data"
    },
    {
     "name": "stdout",
     "output_type": "stream",
     "text": [
      "\n",
      "epoch 0/4 \t valid : loss 0.47848 - spearmanr 0.38118\n",
      "best model: epoch 0 - 0.38118\n",
      "epoch 1: \t Start training...\n"
     ]
    },
    {
     "data": {
      "application/vnd.jupyter.widget-view+json": {
       "model_id": "440f5ce7f81348d0b91ad42bc6be5c36",
       "version_major": 2,
       "version_minor": 0
      },
      "text/plain": [
       "HBox(children=(IntProgress(value=0, max=2736), HTML(value='')))"
      ]
     },
     "metadata": {},
     "output_type": "display_data"
    },
    {
     "name": "stdout",
     "output_type": "stream",
     "text": [
      "\n",
      "epoch 1/4 \t train : loss 0.45878 - spearmanr 0.38335\n",
      "epoch 1: \t Start validation...\n"
     ]
    },
    {
     "data": {
      "application/vnd.jupyter.widget-view+json": {
       "model_id": "b0038c190d2840898bfaa0c611a645ce",
       "version_major": 2,
       "version_minor": 0
      },
      "text/plain": [
       "HBox(children=(IntProgress(value=0, max=304), HTML(value='')))"
      ]
     },
     "metadata": {},
     "output_type": "display_data"
    },
    {
     "name": "stdout",
     "output_type": "stream",
     "text": [
      "\n",
      "epoch 1/4 \t valid : loss 0.46586 - spearmanr 0.4092\n",
      "best model: epoch 1 - 0.4092\n",
      "epoch 2: \t Start training...\n"
     ]
    },
    {
     "data": {
      "application/vnd.jupyter.widget-view+json": {
       "model_id": "1589def031694840a65aaad1c63dd403",
       "version_major": 2,
       "version_minor": 0
      },
      "text/plain": [
       "HBox(children=(IntProgress(value=0, max=2736), HTML(value='')))"
      ]
     },
     "metadata": {},
     "output_type": "display_data"
    },
    {
     "name": "stdout",
     "output_type": "stream",
     "text": [
      "\n",
      "epoch 2/4 \t train : loss 0.4369 - spearmanr 0.44578\n",
      "epoch 2: \t Start validation...\n"
     ]
    },
    {
     "data": {
      "application/vnd.jupyter.widget-view+json": {
       "model_id": "3c76a8a0fffd447bae40468ad83b6efa",
       "version_major": 2,
       "version_minor": 0
      },
      "text/plain": [
       "HBox(children=(IntProgress(value=0, max=304), HTML(value='')))"
      ]
     },
     "metadata": {},
     "output_type": "display_data"
    },
    {
     "name": "stdout",
     "output_type": "stream",
     "text": [
      "\n",
      "epoch 2/4 \t valid : loss 0.46557 - spearmanr 0.41482\n",
      "best model: epoch 2 - 0.41482\n",
      "epoch 3: \t Start training...\n"
     ]
    },
    {
     "data": {
      "application/vnd.jupyter.widget-view+json": {
       "model_id": "7a622e75c111460a82b091bd3f767fe9",
       "version_major": 2,
       "version_minor": 0
      },
      "text/plain": [
       "HBox(children=(IntProgress(value=0, max=2736), HTML(value='')))"
      ]
     },
     "metadata": {},
     "output_type": "display_data"
    },
    {
     "name": "stdout",
     "output_type": "stream",
     "text": [
      "\n",
      "epoch 3/4 \t train : loss 0.41522 - spearmanr 0.5014\n",
      "epoch 3: \t Start validation...\n"
     ]
    },
    {
     "data": {
      "application/vnd.jupyter.widget-view+json": {
       "model_id": "c301ebdd2ce241cd8eaee2471aaf06d4",
       "version_major": 2,
       "version_minor": 0
      },
      "text/plain": [
       "HBox(children=(IntProgress(value=0, max=304), HTML(value='')))"
      ]
     },
     "metadata": {},
     "output_type": "display_data"
    },
    {
     "name": "stdout",
     "output_type": "stream",
     "text": [
      "\n",
      "epoch 3/4 \t valid : loss 0.46653 - spearmanr 0.41523\n",
      "best model: epoch 3 - 0.41523\n",
      "TRAINING END: Best score achieved on epoch 3 - 0.41523\n",
      "Starting inference for model: checkpoints/siamese_xlnet_1_fold_8_best.pth\n"
     ]
    },
    {
     "data": {
      "application/vnd.jupyter.widget-view+json": {
       "model_id": "b2aacab8c9e64fbda6a55e7f113d6eb6",
       "version_major": 2,
       "version_minor": 0
      },
      "text/plain": [
       "HBox(children=(IntProgress(value=0, max=304), HTML(value='')))"
      ]
     },
     "metadata": {},
     "output_type": "display_data"
    },
    {
     "name": "stdout",
     "output_type": "stream",
     "text": [
      "\n",
      "Averaged Val. score: 0.41523448678589264\n",
      "Starting inference for model: checkpoints/siamese_xlnet_1_fold_8_best.pth\n"
     ]
    },
    {
     "data": {
      "application/vnd.jupyter.widget-view+json": {
       "model_id": "edc591df50b74e71b33a49a8ea5eb868",
       "version_major": 2,
       "version_minor": 0
      },
      "text/plain": [
       "HBox(children=(IntProgress(value=0, max=238), HTML(value='')))"
      ]
     },
     "metadata": {},
     "output_type": "display_data"
    },
    {
     "name": "stdout",
     "output_type": "stream",
     "text": [
      "\n",
      "Fold 9 started at Sun Feb  2 05:27:08 2020\n",
      "epoch 0: \t Start training...\n"
     ]
    },
    {
     "data": {
      "application/vnd.jupyter.widget-view+json": {
       "model_id": "e3a91705fcdd4478920c2aac1f659b18",
       "version_major": 2,
       "version_minor": 0
      },
      "text/plain": [
       "HBox(children=(IntProgress(value=0, max=2736), HTML(value='')))"
      ]
     },
     "metadata": {},
     "output_type": "display_data"
    },
    {
     "name": "stdout",
     "output_type": "stream",
     "text": [
      "\n",
      "epoch 0/4 \t train : loss 0.51227 - spearmanr 0.2252\n",
      "epoch 0: \t Start validation...\n"
     ]
    },
    {
     "data": {
      "application/vnd.jupyter.widget-view+json": {
       "model_id": "7c2a0901eacd4921a1c3d5c184b33945",
       "version_major": 2,
       "version_minor": 0
      },
      "text/plain": [
       "HBox(children=(IntProgress(value=0, max=304), HTML(value='')))"
      ]
     },
     "metadata": {},
     "output_type": "display_data"
    },
    {
     "name": "stdout",
     "output_type": "stream",
     "text": [
      "\n",
      "epoch 0/4 \t valid : loss 0.46823 - spearmanr 0.3658\n",
      "best model: epoch 0 - 0.3658\n",
      "epoch 1: \t Start training...\n"
     ]
    },
    {
     "data": {
      "application/vnd.jupyter.widget-view+json": {
       "model_id": "ba250c810d5f423594e1b5e3b7840f9b",
       "version_major": 2,
       "version_minor": 0
      },
      "text/plain": [
       "HBox(children=(IntProgress(value=0, max=2736), HTML(value='')))"
      ]
     },
     "metadata": {},
     "output_type": "display_data"
    },
    {
     "name": "stdout",
     "output_type": "stream",
     "text": [
      "\n",
      "epoch 1/4 \t train : loss 0.45877 - spearmanr 0.38774\n",
      "epoch 1: \t Start validation...\n"
     ]
    },
    {
     "data": {
      "application/vnd.jupyter.widget-view+json": {
       "model_id": "8f31ac1896b6448bac2099333ae2faaa",
       "version_major": 2,
       "version_minor": 0
      },
      "text/plain": [
       "HBox(children=(IntProgress(value=0, max=304), HTML(value='')))"
      ]
     },
     "metadata": {},
     "output_type": "display_data"
    },
    {
     "name": "stdout",
     "output_type": "stream",
     "text": [
      "\n",
      "epoch 1/4 \t valid : loss 0.45859 - spearmanr 0.39474\n",
      "best model: epoch 1 - 0.39474\n",
      "epoch 2: \t Start training...\n"
     ]
    },
    {
     "data": {
      "application/vnd.jupyter.widget-view+json": {
       "model_id": "4e99643133c04efb8918399cba33690c",
       "version_major": 2,
       "version_minor": 0
      },
      "text/plain": [
       "HBox(children=(IntProgress(value=0, max=2736), HTML(value='')))"
      ]
     },
     "metadata": {},
     "output_type": "display_data"
    },
    {
     "name": "stdout",
     "output_type": "stream",
     "text": [
      "\n",
      "epoch 2/4 \t train : loss 0.43797 - spearmanr 0.44445\n",
      "epoch 2: \t Start validation...\n"
     ]
    },
    {
     "data": {
      "application/vnd.jupyter.widget-view+json": {
       "model_id": "adc2dc6fc41843dfaebdf1c16ebbf66c",
       "version_major": 2,
       "version_minor": 0
      },
      "text/plain": [
       "HBox(children=(IntProgress(value=0, max=304), HTML(value='')))"
      ]
     },
     "metadata": {},
     "output_type": "display_data"
    },
    {
     "name": "stdout",
     "output_type": "stream",
     "text": [
      "\n",
      "epoch 2/4 \t valid : loss 0.45145 - spearmanr 0.40562\n",
      "best model: epoch 2 - 0.40562\n",
      "epoch 3: \t Start training...\n"
     ]
    },
    {
     "data": {
      "application/vnd.jupyter.widget-view+json": {
       "model_id": "d0bb7e00ea2f496f8816f79a8cdc7086",
       "version_major": 2,
       "version_minor": 0
      },
      "text/plain": [
       "HBox(children=(IntProgress(value=0, max=2736), HTML(value='')))"
      ]
     },
     "metadata": {},
     "output_type": "display_data"
    },
    {
     "name": "stdout",
     "output_type": "stream",
     "text": [
      "\n",
      "epoch 3/4 \t train : loss 0.41511 - spearmanr 0.50347\n",
      "epoch 3: \t Start validation...\n"
     ]
    },
    {
     "data": {
      "application/vnd.jupyter.widget-view+json": {
       "model_id": "430ac6e5ec4e4f3eabbe0151f9f2f7e6",
       "version_major": 2,
       "version_minor": 0
      },
      "text/plain": [
       "HBox(children=(IntProgress(value=0, max=304), HTML(value='')))"
      ]
     },
     "metadata": {},
     "output_type": "display_data"
    },
    {
     "name": "stdout",
     "output_type": "stream",
     "text": [
      "\n",
      "epoch 3/4 \t valid : loss 0.45705 - spearmanr 0.40263\n",
      "model not improved for 1 epochs\n",
      "TRAINING END: Best score achieved on epoch 2 - 0.40562\n",
      "Starting inference for model: checkpoints/siamese_xlnet_1_fold_9_best.pth\n"
     ]
    },
    {
     "data": {
      "application/vnd.jupyter.widget-view+json": {
       "model_id": "31687530295b422fbb109247c993c0bd",
       "version_major": 2,
       "version_minor": 0
      },
      "text/plain": [
       "HBox(children=(IntProgress(value=0, max=304), HTML(value='')))"
      ]
     },
     "metadata": {},
     "output_type": "display_data"
    },
    {
     "name": "stdout",
     "output_type": "stream",
     "text": [
      "\n",
      "Averaged Val. score: 0.4056160487488693\n",
      "Starting inference for model: checkpoints/siamese_xlnet_1_fold_9_best.pth\n"
     ]
    },
    {
     "data": {
      "application/vnd.jupyter.widget-view+json": {
       "model_id": "5ff9a72872f74cf3a0358b210d717256",
       "version_major": 2,
       "version_minor": 0
      },
      "text/plain": [
       "HBox(children=(IntProgress(value=0, max=238), HTML(value='')))"
      ]
     },
     "metadata": {},
     "output_type": "display_data"
    },
    {
     "name": "stdout",
     "output_type": "stream",
     "text": [
      "\n",
      "Fold 10 started at Sun Feb  2 06:46:07 2020\n",
      "epoch 0: \t Start training...\n"
     ]
    },
    {
     "data": {
      "application/vnd.jupyter.widget-view+json": {
       "model_id": "ee2d0682ce2c4ed4a048737d06c89008",
       "version_major": 2,
       "version_minor": 0
      },
      "text/plain": [
       "HBox(children=(IntProgress(value=0, max=2736), HTML(value='')))"
      ]
     },
     "metadata": {},
     "output_type": "display_data"
    },
    {
     "name": "stdout",
     "output_type": "stream",
     "text": [
      "\n",
      "epoch 0/4 \t train : loss 0.51393 - spearmanr 0.22212\n",
      "epoch 0: \t Start validation...\n"
     ]
    },
    {
     "data": {
      "application/vnd.jupyter.widget-view+json": {
       "model_id": "bc7d8f40ae6840bfb24330565fabd844",
       "version_major": 2,
       "version_minor": 0
      },
      "text/plain": [
       "HBox(children=(IntProgress(value=0, max=304), HTML(value='')))"
      ]
     },
     "metadata": {},
     "output_type": "display_data"
    },
    {
     "name": "stdout",
     "output_type": "stream",
     "text": [
      "\n",
      "epoch 0/4 \t valid : loss 0.46544 - spearmanr 0.38389\n",
      "best model: epoch 0 - 0.38389\n",
      "epoch 1: \t Start training...\n"
     ]
    },
    {
     "data": {
      "application/vnd.jupyter.widget-view+json": {
       "model_id": "1a3d1ac3ffde4ee0b77fc710131a1f76",
       "version_major": 2,
       "version_minor": 0
      },
      "text/plain": [
       "HBox(children=(IntProgress(value=0, max=2736), HTML(value='')))"
      ]
     },
     "metadata": {},
     "output_type": "display_data"
    },
    {
     "name": "stdout",
     "output_type": "stream",
     "text": [
      "\n",
      "epoch 1/4 \t train : loss 0.46047 - spearmanr 0.38278\n",
      "epoch 1: \t Start validation...\n"
     ]
    },
    {
     "data": {
      "application/vnd.jupyter.widget-view+json": {
       "model_id": "7382de79150140dfa15029aa1c588736",
       "version_major": 2,
       "version_minor": 0
      },
      "text/plain": [
       "HBox(children=(IntProgress(value=0, max=304), HTML(value='')))"
      ]
     },
     "metadata": {},
     "output_type": "display_data"
    },
    {
     "name": "stdout",
     "output_type": "stream",
     "text": [
      "\n",
      "epoch 1/4 \t valid : loss 0.44751 - spearmanr 0.41318\n",
      "best model: epoch 1 - 0.41318\n",
      "epoch 2: \t Start training...\n"
     ]
    },
    {
     "data": {
      "application/vnd.jupyter.widget-view+json": {
       "model_id": "4394c66c57e940f895cb3822878ff018",
       "version_major": 2,
       "version_minor": 0
      },
      "text/plain": [
       "HBox(children=(IntProgress(value=0, max=2736), HTML(value='')))"
      ]
     },
     "metadata": {},
     "output_type": "display_data"
    },
    {
     "name": "stdout",
     "output_type": "stream",
     "text": [
      "\n",
      "epoch 2/4 \t train : loss 0.4391 - spearmanr 0.44297\n",
      "epoch 2: \t Start validation...\n"
     ]
    },
    {
     "data": {
      "application/vnd.jupyter.widget-view+json": {
       "model_id": "ddfb2144720c4820b22b26a59e4601ed",
       "version_major": 2,
       "version_minor": 0
      },
      "text/plain": [
       "HBox(children=(IntProgress(value=0, max=304), HTML(value='')))"
      ]
     },
     "metadata": {},
     "output_type": "display_data"
    },
    {
     "name": "stdout",
     "output_type": "stream",
     "text": [
      "\n",
      "epoch 2/4 \t valid : loss 0.44691 - spearmanr 0.41937\n",
      "best model: epoch 2 - 0.41937\n",
      "epoch 3: \t Start training...\n"
     ]
    },
    {
     "data": {
      "application/vnd.jupyter.widget-view+json": {
       "model_id": "f3e8ddfaf4a0474e88a0048bbc49b52d",
       "version_major": 2,
       "version_minor": 0
      },
      "text/plain": [
       "HBox(children=(IntProgress(value=0, max=2736), HTML(value='')))"
      ]
     },
     "metadata": {},
     "output_type": "display_data"
    },
    {
     "name": "stdout",
     "output_type": "stream",
     "text": [
      "\n",
      "epoch 3/4 \t train : loss 0.41757 - spearmanr 0.4985\n",
      "epoch 3: \t Start validation...\n"
     ]
    },
    {
     "data": {
      "application/vnd.jupyter.widget-view+json": {
       "model_id": "161d0711644e490fa05b2d73f4c8ecec",
       "version_major": 2,
       "version_minor": 0
      },
      "text/plain": [
       "HBox(children=(IntProgress(value=0, max=304), HTML(value='')))"
      ]
     },
     "metadata": {},
     "output_type": "display_data"
    },
    {
     "name": "stdout",
     "output_type": "stream",
     "text": [
      "\n",
      "epoch 3/4 \t valid : loss 0.44923 - spearmanr 0.41611\n",
      "model not improved for 1 epochs\n",
      "TRAINING END: Best score achieved on epoch 2 - 0.41937\n",
      "Starting inference for model: checkpoints/siamese_xlnet_1_fold_10_best.pth\n"
     ]
    },
    {
     "data": {
      "application/vnd.jupyter.widget-view+json": {
       "model_id": "b7ac91e67f594c48affb960a2cc64566",
       "version_major": 2,
       "version_minor": 0
      },
      "text/plain": [
       "HBox(children=(IntProgress(value=0, max=304), HTML(value='')))"
      ]
     },
     "metadata": {},
     "output_type": "display_data"
    },
    {
     "name": "stdout",
     "output_type": "stream",
     "text": [
      "\n",
      "Averaged Val. score: 0.41937497404271307\n",
      "Starting inference for model: checkpoints/siamese_xlnet_1_fold_10_best.pth\n"
     ]
    },
    {
     "data": {
      "application/vnd.jupyter.widget-view+json": {
       "model_id": "8bb6c5d499d44b3ea1aaf702d766d861",
       "version_major": 2,
       "version_minor": 0
      },
      "text/plain": [
       "HBox(children=(IntProgress(value=0, max=238), HTML(value='')))"
      ]
     },
     "metadata": {},
     "output_type": "display_data"
    },
    {
     "name": "stdout",
     "output_type": "stream",
     "text": [
      "\n",
      "OOF score: 0.4094500602798917\n"
     ]
    }
   ],
   "source": [
    "init_seed()\n",
    "folds = GroupKFold(n_splits=n_folds).split(X=train['question_body'], groups=train['question_body'])\n",
    "oofs = np.zeros((len(train), N_TARGETS))\n",
    "preds = np.zeros((len(test), N_TARGETS))\n",
    "\n",
    "for fold_id, (train_index, valid_index) in enumerate(folds):\n",
    "    print(f'Fold {fold_id + 1} started at {time.ctime()}')\n",
    "    train_loader = DataLoader(\n",
    "        TextDataset(cat_features_train, ids_train['question'], ids_train['answer'],\n",
    "                    seg_ids_train['question'], seg_ids_train['answer'], train_index, targets=y), \n",
    "        batch_size=bs, shuffle=True, num_workers=num_workers, drop_last=False\n",
    "    )\n",
    "    valid_loader = DataLoader(\n",
    "        TextDataset(cat_features_train, ids_train['question'], ids_train['answer'],\n",
    "                    seg_ids_train['question'], seg_ids_train['answer'], valid_index, targets=y), \n",
    "        batch_size=bs, shuffle=False, num_workers=num_workers, drop_last=False\n",
    "    )\n",
    "    model = CustomXLNet(256, cat_features_train.shape[1])\n",
    "    \n",
    "    if fold_id == 0:\n",
    "#         print(model)\n",
    "        model = model.to(device)\n",
    "        optimizer = get_optimizer(model, lr, weight_decay)\n",
    "        lr_finder = LRFinder(n_iter=min(grad_accum*100, len(train_loader)), start_lr=1e-5, \n",
    "                             end_lr=1, device=device, grad_accum=grad_accum, divergence_factor=5)\n",
    "        lr_finder.find_lr(model, optimizer, train_loader, loss_fn)\n",
    "        plt.show()\n",
    "    \n",
    "    optimizer = get_optimizer(model, lr, weight_decay)\n",
    "    scheduler = OneCycleLR(optimizer, n_epochs=n_epochs, n_batches=len(train_loader))\n",
    "\n",
    "    learner = Learner(\n",
    "        model, \n",
    "        optimizer, \n",
    "        train_loader, \n",
    "        valid_loader, \n",
    "        loss_fn, \n",
    "        device, \n",
    "        n_epochs, \n",
    "        f'{model_name}_fold_{fold_id + 1}', \n",
    "        checkpoint_dir, \n",
    "        scheduler=scheduler, \n",
    "        metric_fns={'spearmanr': (spearmanr_torch, 'epoch_end')}, \n",
    "        monitor_metric='spearmanr',\n",
    "        minimize_score=False, \n",
    "        logger=None,\n",
    "        grad_accum=grad_accum,\n",
    "        early_stopping=early_stopping, \n",
    "        batch_step_scheduler=True\n",
    "    )\n",
    "    if (fold_id + 1) > 0: learner.train()\n",
    "        \n",
    "    oofs[valid_index] = infer(learner.model, valid_loader, learner.best_checkpoint_file, device)\n",
    "    print(f'Averaged Val. score: {spearmanr_np(oofs[valid_index], y[valid_index])}')\n",
    "    \n",
    "    test_preds = infer(learner.model, test_loader, learner.best_checkpoint_file, device)\n",
    "    preds += test_preds / n_folds\n",
    "    \n",
    "    del learner, model, train_loader, valid_loader\n",
    "    gc.collect()\n",
    "    \n",
    "print(f'OOF score: {spearmanr_np(oofs, y)}')"
   ]
  },
  {
   "cell_type": "code",
   "execution_count": 12,
   "metadata": {
    "scrolled": true
   },
   "outputs": [
    {
     "name": "stdout",
     "output_type": "stream",
     "text": [
      "2 4 0.48002335101992805\n",
      "5 4 0.4501399205692322\n",
      "9 64 0.13468600213403914\n",
      "11 8 0.7545417638331631\n",
      "12 4 0.5520294962332788\n",
      "13 4 0.3080292702584956\n",
      "14 4 0.6280878847756315\n",
      "15 4 0.5940361680858763\n",
      "16 16 0.7803027957121355\n",
      "19 64 0.23937988150206677\n",
      "24 16 0.1621640152716024\n"
     ]
    }
   ],
   "source": [
    "opt_ds, opt_indices = optimize_rounding_params(oofs, y)"
   ]
  },
  {
   "cell_type": "code",
   "execution_count": 13,
   "metadata": {},
   "outputs": [
    {
     "data": {
      "text/plain": [
       "(array([ 4,  4, 64,  8,  4,  4,  4,  4, 16, 64, 16]),\n",
       " array([ 2,  5,  9, 11, 12, 13, 14, 15, 16, 19, 24]))"
      ]
     },
     "execution_count": 13,
     "metadata": {},
     "output_type": "execute_result"
    }
   ],
   "source": [
    "np.array(opt_ds), np.array(opt_indices)"
   ]
  },
  {
   "cell_type": "code",
   "execution_count": 14,
   "metadata": {
    "scrolled": false
   },
   "outputs": [],
   "source": [
    "oofs_alt = oofs.copy()\n",
    "train[\"eng\"] = train[\"url\"].apply(lambda x: x.startswith(\"http://english.\") or x.startswith(\"http://ell.\"))\n",
    "oofs_alt[np.where((~train[\"eng\"]).values)[0], 19] = 0"
   ]
  },
  {
   "cell_type": "code",
   "execution_count": 15,
   "metadata": {
    "scrolled": false
   },
   "outputs": [
    {
     "data": {
      "text/html": [
       "<div>\n",
       "<style scoped>\n",
       "    .dataframe tbody tr th:only-of-type {\n",
       "        vertical-align: middle;\n",
       "    }\n",
       "\n",
       "    .dataframe tbody tr th {\n",
       "        vertical-align: top;\n",
       "    }\n",
       "\n",
       "    .dataframe thead th {\n",
       "        text-align: right;\n",
       "    }\n",
       "</style>\n",
       "<table border=\"1\" class=\"dataframe\">\n",
       "  <thead>\n",
       "    <tr style=\"text-align: right;\">\n",
       "      <th></th>\n",
       "      <th>SpearmanR</th>\n",
       "    </tr>\n",
       "  </thead>\n",
       "  <tbody>\n",
       "    <tr>\n",
       "      <th>CV</th>\n",
       "      <td>0.409450</td>\n",
       "    </tr>\n",
       "    <tr>\n",
       "      <th>CV unique rows</th>\n",
       "      <td>0.373113</td>\n",
       "    </tr>\n",
       "    <tr>\n",
       "      <th>CV ignoring hard targets</th>\n",
       "      <td>0.432907</td>\n",
       "    </tr>\n",
       "    <tr>\n",
       "      <th>CV unique rows ignoring hard targets</th>\n",
       "      <td>0.393948</td>\n",
       "    </tr>\n",
       "    <tr>\n",
       "      <th>CV w rounding</th>\n",
       "      <td>0.444010</td>\n",
       "    </tr>\n",
       "    <tr>\n",
       "      <th>CV unique rows w rounding</th>\n",
       "      <td>0.421356</td>\n",
       "    </tr>\n",
       "    <tr>\n",
       "      <th>CV ignoring hard targets w rounding</th>\n",
       "      <td>0.462366</td>\n",
       "    </tr>\n",
       "    <tr>\n",
       "      <th>CV unique rows ignoring hard targets w rounding</th>\n",
       "      <td>0.432612</td>\n",
       "    </tr>\n",
       "  </tbody>\n",
       "</table>\n",
       "</div>"
      ],
      "text/plain": [
       "                                                 SpearmanR\n",
       "CV                                                0.409450\n",
       "CV unique rows                                    0.373113\n",
       "CV ignoring hard targets                          0.432907\n",
       "CV unique rows ignoring hard targets              0.393948\n",
       "CV w rounding                                     0.444010\n",
       "CV unique rows w rounding                         0.421356\n",
       "CV ignoring hard targets w rounding               0.462366\n",
       "CV unique rows ignoring hard targets w rounding   0.432612"
      ]
     },
     "execution_count": 15,
     "metadata": {},
     "output_type": "execute_result"
    }
   ],
   "source": [
    "get_cvs(oofs, y, ix)"
   ]
  },
  {
   "cell_type": "code",
   "execution_count": 16,
   "metadata": {
    "scrolled": false
   },
   "outputs": [
    {
     "data": {
      "text/html": [
       "<div>\n",
       "<style scoped>\n",
       "    .dataframe tbody tr th:only-of-type {\n",
       "        vertical-align: middle;\n",
       "    }\n",
       "\n",
       "    .dataframe tbody tr th {\n",
       "        vertical-align: top;\n",
       "    }\n",
       "\n",
       "    .dataframe thead th {\n",
       "        text-align: right;\n",
       "    }\n",
       "</style>\n",
       "<table border=\"1\" class=\"dataframe\">\n",
       "  <thead>\n",
       "    <tr style=\"text-align: right;\">\n",
       "      <th></th>\n",
       "      <th>SpearmanR</th>\n",
       "    </tr>\n",
       "  </thead>\n",
       "  <tbody>\n",
       "    <tr>\n",
       "      <th>CV</th>\n",
       "      <td>0.413407</td>\n",
       "    </tr>\n",
       "    <tr>\n",
       "      <th>CV unique rows</th>\n",
       "      <td>0.377188</td>\n",
       "    </tr>\n",
       "    <tr>\n",
       "      <th>CV ignoring hard targets</th>\n",
       "      <td>0.432907</td>\n",
       "    </tr>\n",
       "    <tr>\n",
       "      <th>CV unique rows ignoring hard targets</th>\n",
       "      <td>0.393948</td>\n",
       "    </tr>\n",
       "    <tr>\n",
       "      <th>CV w rounding</th>\n",
       "      <td>0.444738</td>\n",
       "    </tr>\n",
       "    <tr>\n",
       "      <th>CV unique rows w rounding</th>\n",
       "      <td>0.421356</td>\n",
       "    </tr>\n",
       "    <tr>\n",
       "      <th>CV ignoring hard targets w rounding</th>\n",
       "      <td>0.462366</td>\n",
       "    </tr>\n",
       "    <tr>\n",
       "      <th>CV unique rows ignoring hard targets w rounding</th>\n",
       "      <td>0.432612</td>\n",
       "    </tr>\n",
       "  </tbody>\n",
       "</table>\n",
       "</div>"
      ],
      "text/plain": [
       "                                                 SpearmanR\n",
       "CV                                                0.413407\n",
       "CV unique rows                                    0.377188\n",
       "CV ignoring hard targets                          0.432907\n",
       "CV unique rows ignoring hard targets              0.393948\n",
       "CV w rounding                                     0.444738\n",
       "CV unique rows w rounding                         0.421356\n",
       "CV ignoring hard targets w rounding               0.462366\n",
       "CV unique rows ignoring hard targets w rounding   0.432612"
      ]
     },
     "execution_count": 16,
     "metadata": {},
     "output_type": "execute_result"
    }
   ],
   "source": [
    "get_cvs(oofs_alt, y, ix)"
   ]
  },
  {
   "cell_type": "code",
   "execution_count": 17,
   "metadata": {},
   "outputs": [],
   "source": [
    "# clipping is necessary or we will get an error\n",
    "sample_submission.loc[:, 'question_asker_intent_understanding':] = np.clip(preds, 0.00001, 0.999999)\n",
    "sample_submission.to_csv('subs/submission.csv', index=False)"
   ]
  },
  {
   "cell_type": "code",
   "execution_count": 18,
   "metadata": {
    "scrolled": false
   },
   "outputs": [
    {
     "data": {
      "text/html": [
       "<div>\n",
       "<style scoped>\n",
       "    .dataframe tbody tr th:only-of-type {\n",
       "        vertical-align: middle;\n",
       "    }\n",
       "\n",
       "    .dataframe tbody tr th {\n",
       "        vertical-align: top;\n",
       "    }\n",
       "\n",
       "    .dataframe thead th {\n",
       "        text-align: right;\n",
       "    }\n",
       "</style>\n",
       "<table border=\"1\" class=\"dataframe\">\n",
       "  <thead>\n",
       "    <tr style=\"text-align: right;\">\n",
       "      <th></th>\n",
       "      <th>qa_id</th>\n",
       "      <th>question_asker_intent_understanding</th>\n",
       "      <th>question_body_critical</th>\n",
       "      <th>question_conversational</th>\n",
       "      <th>question_expect_short_answer</th>\n",
       "      <th>question_fact_seeking</th>\n",
       "      <th>question_has_commonly_accepted_answer</th>\n",
       "      <th>question_interestingness_others</th>\n",
       "      <th>question_interestingness_self</th>\n",
       "      <th>question_multi_intent</th>\n",
       "      <th>question_not_really_a_question</th>\n",
       "      <th>question_opinion_seeking</th>\n",
       "      <th>question_type_choice</th>\n",
       "      <th>question_type_compare</th>\n",
       "      <th>question_type_consequence</th>\n",
       "      <th>question_type_definition</th>\n",
       "      <th>question_type_entity</th>\n",
       "      <th>question_type_instructions</th>\n",
       "      <th>question_type_procedure</th>\n",
       "      <th>question_type_reason_explanation</th>\n",
       "      <th>question_type_spelling</th>\n",
       "      <th>question_well_written</th>\n",
       "      <th>answer_helpful</th>\n",
       "      <th>answer_level_of_information</th>\n",
       "      <th>answer_plausible</th>\n",
       "      <th>answer_relevance</th>\n",
       "      <th>answer_satisfaction</th>\n",
       "      <th>answer_type_instructions</th>\n",
       "      <th>answer_type_procedure</th>\n",
       "      <th>answer_type_reason_explanation</th>\n",
       "      <th>answer_well_written</th>\n",
       "    </tr>\n",
       "  </thead>\n",
       "  <tbody>\n",
       "    <tr>\n",
       "      <th>0</th>\n",
       "      <td>39</td>\n",
       "      <td>0.831723</td>\n",
       "      <td>0.626158</td>\n",
       "      <td>0.354225</td>\n",
       "      <td>0.451987</td>\n",
       "      <td>0.523645</td>\n",
       "      <td>0.427682</td>\n",
       "      <td>0.637058</td>\n",
       "      <td>0.636684</td>\n",
       "      <td>0.695995</td>\n",
       "      <td>0.002567</td>\n",
       "      <td>0.731421</td>\n",
       "      <td>0.779064</td>\n",
       "      <td>0.017167</td>\n",
       "      <td>0.273402</td>\n",
       "      <td>0.002487</td>\n",
       "      <td>0.007552</td>\n",
       "      <td>0.036750</td>\n",
       "      <td>0.068801</td>\n",
       "      <td>0.804813</td>\n",
       "      <td>0.000183</td>\n",
       "      <td>0.851804</td>\n",
       "      <td>0.648584</td>\n",
       "      <td>0.255178</td>\n",
       "      <td>0.775572</td>\n",
       "      <td>0.788936</td>\n",
       "      <td>0.444695</td>\n",
       "      <td>0.006670</td>\n",
       "      <td>0.018857</td>\n",
       "      <td>0.866102</td>\n",
       "      <td>0.756378</td>\n",
       "    </tr>\n",
       "    <tr>\n",
       "      <th>1</th>\n",
       "      <td>46</td>\n",
       "      <td>0.479765</td>\n",
       "      <td>0.347625</td>\n",
       "      <td>0.004193</td>\n",
       "      <td>0.671473</td>\n",
       "      <td>0.713982</td>\n",
       "      <td>0.903572</td>\n",
       "      <td>0.395065</td>\n",
       "      <td>0.279590</td>\n",
       "      <td>0.136556</td>\n",
       "      <td>0.006928</td>\n",
       "      <td>0.444578</td>\n",
       "      <td>0.530941</td>\n",
       "      <td>0.002677</td>\n",
       "      <td>0.000576</td>\n",
       "      <td>0.000922</td>\n",
       "      <td>0.007850</td>\n",
       "      <td>0.882059</td>\n",
       "      <td>0.351924</td>\n",
       "      <td>0.082497</td>\n",
       "      <td>0.000097</td>\n",
       "      <td>0.225269</td>\n",
       "      <td>0.789946</td>\n",
       "      <td>0.508444</td>\n",
       "      <td>0.859575</td>\n",
       "      <td>0.893252</td>\n",
       "      <td>0.557115</td>\n",
       "      <td>0.918106</td>\n",
       "      <td>0.331582</td>\n",
       "      <td>0.091055</td>\n",
       "      <td>0.546446</td>\n",
       "    </tr>\n",
       "    <tr>\n",
       "      <th>2</th>\n",
       "      <td>70</td>\n",
       "      <td>0.771292</td>\n",
       "      <td>0.753187</td>\n",
       "      <td>0.034028</td>\n",
       "      <td>0.755889</td>\n",
       "      <td>0.844230</td>\n",
       "      <td>0.912524</td>\n",
       "      <td>0.548449</td>\n",
       "      <td>0.418560</td>\n",
       "      <td>0.187819</td>\n",
       "      <td>0.005409</td>\n",
       "      <td>0.226466</td>\n",
       "      <td>0.860541</td>\n",
       "      <td>0.010549</td>\n",
       "      <td>0.047221</td>\n",
       "      <td>0.002989</td>\n",
       "      <td>0.005162</td>\n",
       "      <td>0.124617</td>\n",
       "      <td>0.102339</td>\n",
       "      <td>0.569924</td>\n",
       "      <td>0.000514</td>\n",
       "      <td>0.814167</td>\n",
       "      <td>0.681163</td>\n",
       "      <td>0.353719</td>\n",
       "      <td>0.803768</td>\n",
       "      <td>0.823974</td>\n",
       "      <td>0.543007</td>\n",
       "      <td>0.030544</td>\n",
       "      <td>0.050343</td>\n",
       "      <td>0.806479</td>\n",
       "      <td>0.713871</td>\n",
       "    </tr>\n",
       "    <tr>\n",
       "      <th>3</th>\n",
       "      <td>132</td>\n",
       "      <td>0.640130</td>\n",
       "      <td>0.254875</td>\n",
       "      <td>0.004632</td>\n",
       "      <td>0.597895</td>\n",
       "      <td>0.645540</td>\n",
       "      <td>0.850758</td>\n",
       "      <td>0.434205</td>\n",
       "      <td>0.285686</td>\n",
       "      <td>0.255650</td>\n",
       "      <td>0.006725</td>\n",
       "      <td>0.568444</td>\n",
       "      <td>0.093726</td>\n",
       "      <td>0.000864</td>\n",
       "      <td>0.001511</td>\n",
       "      <td>0.000497</td>\n",
       "      <td>0.002621</td>\n",
       "      <td>0.847956</td>\n",
       "      <td>0.285551</td>\n",
       "      <td>0.655624</td>\n",
       "      <td>0.000046</td>\n",
       "      <td>0.435894</td>\n",
       "      <td>0.769981</td>\n",
       "      <td>0.603401</td>\n",
       "      <td>0.852875</td>\n",
       "      <td>0.903238</td>\n",
       "      <td>0.620380</td>\n",
       "      <td>0.862521</td>\n",
       "      <td>0.308910</td>\n",
       "      <td>0.571081</td>\n",
       "      <td>0.545176</td>\n",
       "    </tr>\n",
       "    <tr>\n",
       "      <th>4</th>\n",
       "      <td>200</td>\n",
       "      <td>0.782621</td>\n",
       "      <td>0.308171</td>\n",
       "      <td>0.048223</td>\n",
       "      <td>0.724983</td>\n",
       "      <td>0.766688</td>\n",
       "      <td>0.849433</td>\n",
       "      <td>0.643305</td>\n",
       "      <td>0.660783</td>\n",
       "      <td>0.449629</td>\n",
       "      <td>0.010081</td>\n",
       "      <td>0.391631</td>\n",
       "      <td>0.790370</td>\n",
       "      <td>0.006438</td>\n",
       "      <td>0.011521</td>\n",
       "      <td>0.002936</td>\n",
       "      <td>0.042641</td>\n",
       "      <td>0.208656</td>\n",
       "      <td>0.181796</td>\n",
       "      <td>0.667041</td>\n",
       "      <td>0.001332</td>\n",
       "      <td>0.501433</td>\n",
       "      <td>0.731695</td>\n",
       "      <td>0.494740</td>\n",
       "      <td>0.870324</td>\n",
       "      <td>0.873223</td>\n",
       "      <td>0.568042</td>\n",
       "      <td>0.311642</td>\n",
       "      <td>0.271059</td>\n",
       "      <td>0.615261</td>\n",
       "      <td>0.641708</td>\n",
       "    </tr>\n",
       "  </tbody>\n",
       "</table>\n",
       "</div>"
      ],
      "text/plain": [
       "   qa_id  question_asker_intent_understanding  question_body_critical  \\\n",
       "0     39                             0.831723                0.626158   \n",
       "1     46                             0.479765                0.347625   \n",
       "2     70                             0.771292                0.753187   \n",
       "3    132                             0.640130                0.254875   \n",
       "4    200                             0.782621                0.308171   \n",
       "\n",
       "   question_conversational  question_expect_short_answer  \\\n",
       "0                 0.354225                      0.451987   \n",
       "1                 0.004193                      0.671473   \n",
       "2                 0.034028                      0.755889   \n",
       "3                 0.004632                      0.597895   \n",
       "4                 0.048223                      0.724983   \n",
       "\n",
       "   question_fact_seeking  question_has_commonly_accepted_answer  \\\n",
       "0               0.523645                               0.427682   \n",
       "1               0.713982                               0.903572   \n",
       "2               0.844230                               0.912524   \n",
       "3               0.645540                               0.850758   \n",
       "4               0.766688                               0.849433   \n",
       "\n",
       "   question_interestingness_others  question_interestingness_self  \\\n",
       "0                         0.637058                       0.636684   \n",
       "1                         0.395065                       0.279590   \n",
       "2                         0.548449                       0.418560   \n",
       "3                         0.434205                       0.285686   \n",
       "4                         0.643305                       0.660783   \n",
       "\n",
       "   question_multi_intent  question_not_really_a_question  \\\n",
       "0               0.695995                        0.002567   \n",
       "1               0.136556                        0.006928   \n",
       "2               0.187819                        0.005409   \n",
       "3               0.255650                        0.006725   \n",
       "4               0.449629                        0.010081   \n",
       "\n",
       "   question_opinion_seeking  question_type_choice  question_type_compare  \\\n",
       "0                  0.731421              0.779064               0.017167   \n",
       "1                  0.444578              0.530941               0.002677   \n",
       "2                  0.226466              0.860541               0.010549   \n",
       "3                  0.568444              0.093726               0.000864   \n",
       "4                  0.391631              0.790370               0.006438   \n",
       "\n",
       "   question_type_consequence  question_type_definition  question_type_entity  \\\n",
       "0                   0.273402                  0.002487              0.007552   \n",
       "1                   0.000576                  0.000922              0.007850   \n",
       "2                   0.047221                  0.002989              0.005162   \n",
       "3                   0.001511                  0.000497              0.002621   \n",
       "4                   0.011521                  0.002936              0.042641   \n",
       "\n",
       "   question_type_instructions  question_type_procedure  \\\n",
       "0                    0.036750                 0.068801   \n",
       "1                    0.882059                 0.351924   \n",
       "2                    0.124617                 0.102339   \n",
       "3                    0.847956                 0.285551   \n",
       "4                    0.208656                 0.181796   \n",
       "\n",
       "   question_type_reason_explanation  question_type_spelling  \\\n",
       "0                          0.804813                0.000183   \n",
       "1                          0.082497                0.000097   \n",
       "2                          0.569924                0.000514   \n",
       "3                          0.655624                0.000046   \n",
       "4                          0.667041                0.001332   \n",
       "\n",
       "   question_well_written  answer_helpful  answer_level_of_information  \\\n",
       "0               0.851804        0.648584                     0.255178   \n",
       "1               0.225269        0.789946                     0.508444   \n",
       "2               0.814167        0.681163                     0.353719   \n",
       "3               0.435894        0.769981                     0.603401   \n",
       "4               0.501433        0.731695                     0.494740   \n",
       "\n",
       "   answer_plausible  answer_relevance  answer_satisfaction  \\\n",
       "0          0.775572          0.788936             0.444695   \n",
       "1          0.859575          0.893252             0.557115   \n",
       "2          0.803768          0.823974             0.543007   \n",
       "3          0.852875          0.903238             0.620380   \n",
       "4          0.870324          0.873223             0.568042   \n",
       "\n",
       "   answer_type_instructions  answer_type_procedure  \\\n",
       "0                  0.006670               0.018857   \n",
       "1                  0.918106               0.331582   \n",
       "2                  0.030544               0.050343   \n",
       "3                  0.862521               0.308910   \n",
       "4                  0.311642               0.271059   \n",
       "\n",
       "   answer_type_reason_explanation  answer_well_written  \n",
       "0                        0.866102             0.756378  \n",
       "1                        0.091055             0.546446  \n",
       "2                        0.806479             0.713871  \n",
       "3                        0.571081             0.545176  \n",
       "4                        0.615261             0.641708  "
      ]
     },
     "execution_count": 18,
     "metadata": {},
     "output_type": "execute_result"
    }
   ],
   "source": [
    "sample_submission.head()"
   ]
  },
  {
   "cell_type": "code",
   "execution_count": 19,
   "metadata": {},
   "outputs": [],
   "source": [
    "pd.DataFrame(oofs, columns=TARGETS).to_csv(f'oofs/{model_name}_oofs.csv')"
   ]
  },
  {
   "cell_type": "code",
   "execution_count": 20,
   "metadata": {},
   "outputs": [
    {
     "data": {
      "text/html": [
       "<div>\n",
       "<style scoped>\n",
       "    .dataframe tbody tr th:only-of-type {\n",
       "        vertical-align: middle;\n",
       "    }\n",
       "\n",
       "    .dataframe tbody tr th {\n",
       "        vertical-align: top;\n",
       "    }\n",
       "\n",
       "    .dataframe thead th {\n",
       "        text-align: right;\n",
       "    }\n",
       "</style>\n",
       "<table border=\"1\" class=\"dataframe\">\n",
       "  <thead>\n",
       "    <tr style=\"text-align: right;\">\n",
       "      <th></th>\n",
       "      <th>question_asker_intent_understanding</th>\n",
       "      <th>question_body_critical</th>\n",
       "      <th>question_conversational</th>\n",
       "      <th>question_expect_short_answer</th>\n",
       "      <th>question_fact_seeking</th>\n",
       "      <th>question_has_commonly_accepted_answer</th>\n",
       "      <th>question_interestingness_others</th>\n",
       "      <th>question_interestingness_self</th>\n",
       "      <th>question_multi_intent</th>\n",
       "      <th>question_not_really_a_question</th>\n",
       "      <th>question_opinion_seeking</th>\n",
       "      <th>question_type_choice</th>\n",
       "      <th>question_type_compare</th>\n",
       "      <th>question_type_consequence</th>\n",
       "      <th>question_type_definition</th>\n",
       "      <th>question_type_entity</th>\n",
       "      <th>question_type_instructions</th>\n",
       "      <th>question_type_procedure</th>\n",
       "      <th>question_type_reason_explanation</th>\n",
       "      <th>question_type_spelling</th>\n",
       "      <th>question_well_written</th>\n",
       "      <th>answer_helpful</th>\n",
       "      <th>answer_level_of_information</th>\n",
       "      <th>answer_plausible</th>\n",
       "      <th>answer_relevance</th>\n",
       "      <th>answer_satisfaction</th>\n",
       "      <th>answer_type_instructions</th>\n",
       "      <th>answer_type_procedure</th>\n",
       "      <th>answer_type_reason_explanation</th>\n",
       "      <th>answer_well_written</th>\n",
       "    </tr>\n",
       "  </thead>\n",
       "  <tbody>\n",
       "    <tr>\n",
       "      <th>0</th>\n",
       "      <td>0.864287</td>\n",
       "      <td>0.710182</td>\n",
       "      <td>0.361282</td>\n",
       "      <td>0.650423</td>\n",
       "      <td>0.432488</td>\n",
       "      <td>0.281756</td>\n",
       "      <td>0.687890</td>\n",
       "      <td>0.629932</td>\n",
       "      <td>0.086676</td>\n",
       "      <td>0.005416</td>\n",
       "      <td>0.729980</td>\n",
       "      <td>0.095014</td>\n",
       "      <td>0.229600</td>\n",
       "      <td>0.028594</td>\n",
       "      <td>0.007906</td>\n",
       "      <td>0.293660</td>\n",
       "      <td>0.134079</td>\n",
       "      <td>0.094440</td>\n",
       "      <td>0.466439</td>\n",
       "      <td>0.000840</td>\n",
       "      <td>0.830364</td>\n",
       "      <td>0.924336</td>\n",
       "      <td>0.571583</td>\n",
       "      <td>0.973439</td>\n",
       "      <td>0.966636</td>\n",
       "      <td>0.742189</td>\n",
       "      <td>0.180854</td>\n",
       "      <td>0.097414</td>\n",
       "      <td>0.831799</td>\n",
       "      <td>0.827303</td>\n",
       "    </tr>\n",
       "    <tr>\n",
       "      <th>1</th>\n",
       "      <td>0.843531</td>\n",
       "      <td>0.699741</td>\n",
       "      <td>0.050566</td>\n",
       "      <td>0.692945</td>\n",
       "      <td>0.917390</td>\n",
       "      <td>0.680175</td>\n",
       "      <td>0.631286</td>\n",
       "      <td>0.707080</td>\n",
       "      <td>0.412394</td>\n",
       "      <td>0.001298</td>\n",
       "      <td>0.237586</td>\n",
       "      <td>0.115804</td>\n",
       "      <td>0.823128</td>\n",
       "      <td>0.006053</td>\n",
       "      <td>0.815768</td>\n",
       "      <td>0.092137</td>\n",
       "      <td>0.083116</td>\n",
       "      <td>0.059709</td>\n",
       "      <td>0.335333</td>\n",
       "      <td>0.013199</td>\n",
       "      <td>0.796825</td>\n",
       "      <td>0.457131</td>\n",
       "      <td>0.234507</td>\n",
       "      <td>0.653059</td>\n",
       "      <td>0.761840</td>\n",
       "      <td>0.379349</td>\n",
       "      <td>0.032099</td>\n",
       "      <td>0.026894</td>\n",
       "      <td>0.374413</td>\n",
       "      <td>0.756088</td>\n",
       "    </tr>\n",
       "    <tr>\n",
       "      <th>2</th>\n",
       "      <td>0.622580</td>\n",
       "      <td>0.330239</td>\n",
       "      <td>0.011355</td>\n",
       "      <td>0.613435</td>\n",
       "      <td>0.758561</td>\n",
       "      <td>0.806248</td>\n",
       "      <td>0.447719</td>\n",
       "      <td>0.268231</td>\n",
       "      <td>0.179435</td>\n",
       "      <td>0.003480</td>\n",
       "      <td>0.380585</td>\n",
       "      <td>0.170742</td>\n",
       "      <td>0.008735</td>\n",
       "      <td>0.005461</td>\n",
       "      <td>0.004059</td>\n",
       "      <td>0.264831</td>\n",
       "      <td>0.684507</td>\n",
       "      <td>0.286730</td>\n",
       "      <td>0.211391</td>\n",
       "      <td>0.000280</td>\n",
       "      <td>0.562895</td>\n",
       "      <td>0.865171</td>\n",
       "      <td>0.619769</td>\n",
       "      <td>0.909452</td>\n",
       "      <td>0.900359</td>\n",
       "      <td>0.695342</td>\n",
       "      <td>0.666956</td>\n",
       "      <td>0.336598</td>\n",
       "      <td>0.619099</td>\n",
       "      <td>0.720004</td>\n",
       "    </tr>\n",
       "    <tr>\n",
       "      <th>3</th>\n",
       "      <td>0.839095</td>\n",
       "      <td>0.805598</td>\n",
       "      <td>0.095124</td>\n",
       "      <td>0.871093</td>\n",
       "      <td>0.853306</td>\n",
       "      <td>0.934942</td>\n",
       "      <td>0.582995</td>\n",
       "      <td>0.558899</td>\n",
       "      <td>0.282113</td>\n",
       "      <td>0.001420</td>\n",
       "      <td>0.181979</td>\n",
       "      <td>0.966197</td>\n",
       "      <td>0.028589</td>\n",
       "      <td>0.012237</td>\n",
       "      <td>0.054364</td>\n",
       "      <td>0.032901</td>\n",
       "      <td>0.054407</td>\n",
       "      <td>0.095646</td>\n",
       "      <td>0.384122</td>\n",
       "      <td>0.001833</td>\n",
       "      <td>0.843035</td>\n",
       "      <td>0.897359</td>\n",
       "      <td>0.706846</td>\n",
       "      <td>0.910371</td>\n",
       "      <td>0.925841</td>\n",
       "      <td>0.811596</td>\n",
       "      <td>0.023838</td>\n",
       "      <td>0.090424</td>\n",
       "      <td>0.879995</td>\n",
       "      <td>0.667805</td>\n",
       "    </tr>\n",
       "    <tr>\n",
       "      <th>4</th>\n",
       "      <td>0.835749</td>\n",
       "      <td>0.791431</td>\n",
       "      <td>0.002222</td>\n",
       "      <td>0.586081</td>\n",
       "      <td>0.825616</td>\n",
       "      <td>0.884200</td>\n",
       "      <td>0.444591</td>\n",
       "      <td>0.463331</td>\n",
       "      <td>0.273955</td>\n",
       "      <td>0.000331</td>\n",
       "      <td>0.372505</td>\n",
       "      <td>0.615083</td>\n",
       "      <td>0.001120</td>\n",
       "      <td>0.000379</td>\n",
       "      <td>0.000257</td>\n",
       "      <td>0.002050</td>\n",
       "      <td>0.914558</td>\n",
       "      <td>0.341154</td>\n",
       "      <td>0.075350</td>\n",
       "      <td>0.000011</td>\n",
       "      <td>0.830225</td>\n",
       "      <td>0.831110</td>\n",
       "      <td>0.419495</td>\n",
       "      <td>0.892156</td>\n",
       "      <td>0.877315</td>\n",
       "      <td>0.583862</td>\n",
       "      <td>0.911828</td>\n",
       "      <td>0.259833</td>\n",
       "      <td>0.057302</td>\n",
       "      <td>0.720149</td>\n",
       "    </tr>\n",
       "    <tr>\n",
       "      <th>...</th>\n",
       "      <td>...</td>\n",
       "      <td>...</td>\n",
       "      <td>...</td>\n",
       "      <td>...</td>\n",
       "      <td>...</td>\n",
       "      <td>...</td>\n",
       "      <td>...</td>\n",
       "      <td>...</td>\n",
       "      <td>...</td>\n",
       "      <td>...</td>\n",
       "      <td>...</td>\n",
       "      <td>...</td>\n",
       "      <td>...</td>\n",
       "      <td>...</td>\n",
       "      <td>...</td>\n",
       "      <td>...</td>\n",
       "      <td>...</td>\n",
       "      <td>...</td>\n",
       "      <td>...</td>\n",
       "      <td>...</td>\n",
       "      <td>...</td>\n",
       "      <td>...</td>\n",
       "      <td>...</td>\n",
       "      <td>...</td>\n",
       "      <td>...</td>\n",
       "      <td>...</td>\n",
       "      <td>...</td>\n",
       "      <td>...</td>\n",
       "      <td>...</td>\n",
       "      <td>...</td>\n",
       "    </tr>\n",
       "    <tr>\n",
       "      <th>6074</th>\n",
       "      <td>0.884196</td>\n",
       "      <td>0.567963</td>\n",
       "      <td>0.136433</td>\n",
       "      <td>0.761635</td>\n",
       "      <td>0.642942</td>\n",
       "      <td>0.728047</td>\n",
       "      <td>0.613089</td>\n",
       "      <td>0.666279</td>\n",
       "      <td>0.652625</td>\n",
       "      <td>0.003078</td>\n",
       "      <td>0.585510</td>\n",
       "      <td>0.952238</td>\n",
       "      <td>0.094974</td>\n",
       "      <td>0.447987</td>\n",
       "      <td>0.004487</td>\n",
       "      <td>0.078337</td>\n",
       "      <td>0.009973</td>\n",
       "      <td>0.041986</td>\n",
       "      <td>0.757021</td>\n",
       "      <td>0.004853</td>\n",
       "      <td>0.771660</td>\n",
       "      <td>0.937689</td>\n",
       "      <td>0.764278</td>\n",
       "      <td>0.950227</td>\n",
       "      <td>0.933265</td>\n",
       "      <td>0.783239</td>\n",
       "      <td>0.115635</td>\n",
       "      <td>0.154461</td>\n",
       "      <td>0.926136</td>\n",
       "      <td>0.760197</td>\n",
       "    </tr>\n",
       "    <tr>\n",
       "      <th>6075</th>\n",
       "      <td>0.912332</td>\n",
       "      <td>0.292896</td>\n",
       "      <td>0.083143</td>\n",
       "      <td>0.421703</td>\n",
       "      <td>0.494803</td>\n",
       "      <td>0.218729</td>\n",
       "      <td>0.791760</td>\n",
       "      <td>0.806233</td>\n",
       "      <td>0.046275</td>\n",
       "      <td>0.001478</td>\n",
       "      <td>0.707142</td>\n",
       "      <td>0.005342</td>\n",
       "      <td>0.004662</td>\n",
       "      <td>0.004607</td>\n",
       "      <td>0.000668</td>\n",
       "      <td>0.006494</td>\n",
       "      <td>0.812099</td>\n",
       "      <td>0.384533</td>\n",
       "      <td>0.171427</td>\n",
       "      <td>0.000031</td>\n",
       "      <td>0.791747</td>\n",
       "      <td>0.860928</td>\n",
       "      <td>0.546786</td>\n",
       "      <td>0.925894</td>\n",
       "      <td>0.937100</td>\n",
       "      <td>0.632836</td>\n",
       "      <td>0.876132</td>\n",
       "      <td>0.354624</td>\n",
       "      <td>0.236561</td>\n",
       "      <td>0.889647</td>\n",
       "    </tr>\n",
       "    <tr>\n",
       "      <th>6076</th>\n",
       "      <td>0.652194</td>\n",
       "      <td>0.437296</td>\n",
       "      <td>0.006507</td>\n",
       "      <td>0.698557</td>\n",
       "      <td>0.730282</td>\n",
       "      <td>0.894443</td>\n",
       "      <td>0.449104</td>\n",
       "      <td>0.368147</td>\n",
       "      <td>0.180673</td>\n",
       "      <td>0.002828</td>\n",
       "      <td>0.466369</td>\n",
       "      <td>0.639947</td>\n",
       "      <td>0.001651</td>\n",
       "      <td>0.000520</td>\n",
       "      <td>0.000490</td>\n",
       "      <td>0.005234</td>\n",
       "      <td>0.879905</td>\n",
       "      <td>0.318054</td>\n",
       "      <td>0.142930</td>\n",
       "      <td>0.000076</td>\n",
       "      <td>0.534713</td>\n",
       "      <td>0.627149</td>\n",
       "      <td>0.416767</td>\n",
       "      <td>0.807839</td>\n",
       "      <td>0.768627</td>\n",
       "      <td>0.396119</td>\n",
       "      <td>0.708221</td>\n",
       "      <td>0.210292</td>\n",
       "      <td>0.495967</td>\n",
       "      <td>0.534685</td>\n",
       "    </tr>\n",
       "    <tr>\n",
       "      <th>6077</th>\n",
       "      <td>0.896042</td>\n",
       "      <td>0.760575</td>\n",
       "      <td>0.860784</td>\n",
       "      <td>0.212384</td>\n",
       "      <td>0.158762</td>\n",
       "      <td>0.066359</td>\n",
       "      <td>0.630575</td>\n",
       "      <td>0.759937</td>\n",
       "      <td>0.641135</td>\n",
       "      <td>0.000290</td>\n",
       "      <td>0.958123</td>\n",
       "      <td>0.654418</td>\n",
       "      <td>0.080548</td>\n",
       "      <td>0.040881</td>\n",
       "      <td>0.000775</td>\n",
       "      <td>0.013019</td>\n",
       "      <td>0.010561</td>\n",
       "      <td>0.112003</td>\n",
       "      <td>0.670556</td>\n",
       "      <td>0.000009</td>\n",
       "      <td>0.935100</td>\n",
       "      <td>0.792622</td>\n",
       "      <td>0.642907</td>\n",
       "      <td>0.907224</td>\n",
       "      <td>0.922389</td>\n",
       "      <td>0.697949</td>\n",
       "      <td>0.011606</td>\n",
       "      <td>0.085828</td>\n",
       "      <td>0.850595</td>\n",
       "      <td>0.860455</td>\n",
       "    </tr>\n",
       "    <tr>\n",
       "      <th>6078</th>\n",
       "      <td>0.822057</td>\n",
       "      <td>0.722644</td>\n",
       "      <td>0.095911</td>\n",
       "      <td>0.237662</td>\n",
       "      <td>0.777190</td>\n",
       "      <td>0.417467</td>\n",
       "      <td>0.686380</td>\n",
       "      <td>0.704253</td>\n",
       "      <td>0.938864</td>\n",
       "      <td>0.000093</td>\n",
       "      <td>0.617623</td>\n",
       "      <td>0.084022</td>\n",
       "      <td>0.229309</td>\n",
       "      <td>0.015485</td>\n",
       "      <td>0.025809</td>\n",
       "      <td>0.024054</td>\n",
       "      <td>0.012354</td>\n",
       "      <td>0.015948</td>\n",
       "      <td>0.983688</td>\n",
       "      <td>0.000086</td>\n",
       "      <td>0.850285</td>\n",
       "      <td>0.756544</td>\n",
       "      <td>0.412349</td>\n",
       "      <td>0.835344</td>\n",
       "      <td>0.875036</td>\n",
       "      <td>0.423244</td>\n",
       "      <td>0.034150</td>\n",
       "      <td>0.022907</td>\n",
       "      <td>0.950502</td>\n",
       "      <td>0.766586</td>\n",
       "    </tr>\n",
       "  </tbody>\n",
       "</table>\n",
       "<p>6079 rows × 30 columns</p>\n",
       "</div>"
      ],
      "text/plain": [
       "      question_asker_intent_understanding  question_body_critical  \\\n",
       "0                                0.864287                0.710182   \n",
       "1                                0.843531                0.699741   \n",
       "2                                0.622580                0.330239   \n",
       "3                                0.839095                0.805598   \n",
       "4                                0.835749                0.791431   \n",
       "...                                   ...                     ...   \n",
       "6074                             0.884196                0.567963   \n",
       "6075                             0.912332                0.292896   \n",
       "6076                             0.652194                0.437296   \n",
       "6077                             0.896042                0.760575   \n",
       "6078                             0.822057                0.722644   \n",
       "\n",
       "      question_conversational  question_expect_short_answer  \\\n",
       "0                    0.361282                      0.650423   \n",
       "1                    0.050566                      0.692945   \n",
       "2                    0.011355                      0.613435   \n",
       "3                    0.095124                      0.871093   \n",
       "4                    0.002222                      0.586081   \n",
       "...                       ...                           ...   \n",
       "6074                 0.136433                      0.761635   \n",
       "6075                 0.083143                      0.421703   \n",
       "6076                 0.006507                      0.698557   \n",
       "6077                 0.860784                      0.212384   \n",
       "6078                 0.095911                      0.237662   \n",
       "\n",
       "      question_fact_seeking  question_has_commonly_accepted_answer  \\\n",
       "0                  0.432488                               0.281756   \n",
       "1                  0.917390                               0.680175   \n",
       "2                  0.758561                               0.806248   \n",
       "3                  0.853306                               0.934942   \n",
       "4                  0.825616                               0.884200   \n",
       "...                     ...                                    ...   \n",
       "6074               0.642942                               0.728047   \n",
       "6075               0.494803                               0.218729   \n",
       "6076               0.730282                               0.894443   \n",
       "6077               0.158762                               0.066359   \n",
       "6078               0.777190                               0.417467   \n",
       "\n",
       "      question_interestingness_others  question_interestingness_self  \\\n",
       "0                            0.687890                       0.629932   \n",
       "1                            0.631286                       0.707080   \n",
       "2                            0.447719                       0.268231   \n",
       "3                            0.582995                       0.558899   \n",
       "4                            0.444591                       0.463331   \n",
       "...                               ...                            ...   \n",
       "6074                         0.613089                       0.666279   \n",
       "6075                         0.791760                       0.806233   \n",
       "6076                         0.449104                       0.368147   \n",
       "6077                         0.630575                       0.759937   \n",
       "6078                         0.686380                       0.704253   \n",
       "\n",
       "      question_multi_intent  question_not_really_a_question  \\\n",
       "0                  0.086676                        0.005416   \n",
       "1                  0.412394                        0.001298   \n",
       "2                  0.179435                        0.003480   \n",
       "3                  0.282113                        0.001420   \n",
       "4                  0.273955                        0.000331   \n",
       "...                     ...                             ...   \n",
       "6074               0.652625                        0.003078   \n",
       "6075               0.046275                        0.001478   \n",
       "6076               0.180673                        0.002828   \n",
       "6077               0.641135                        0.000290   \n",
       "6078               0.938864                        0.000093   \n",
       "\n",
       "      question_opinion_seeking  question_type_choice  question_type_compare  \\\n",
       "0                     0.729980              0.095014               0.229600   \n",
       "1                     0.237586              0.115804               0.823128   \n",
       "2                     0.380585              0.170742               0.008735   \n",
       "3                     0.181979              0.966197               0.028589   \n",
       "4                     0.372505              0.615083               0.001120   \n",
       "...                        ...                   ...                    ...   \n",
       "6074                  0.585510              0.952238               0.094974   \n",
       "6075                  0.707142              0.005342               0.004662   \n",
       "6076                  0.466369              0.639947               0.001651   \n",
       "6077                  0.958123              0.654418               0.080548   \n",
       "6078                  0.617623              0.084022               0.229309   \n",
       "\n",
       "      question_type_consequence  question_type_definition  \\\n",
       "0                      0.028594                  0.007906   \n",
       "1                      0.006053                  0.815768   \n",
       "2                      0.005461                  0.004059   \n",
       "3                      0.012237                  0.054364   \n",
       "4                      0.000379                  0.000257   \n",
       "...                         ...                       ...   \n",
       "6074                   0.447987                  0.004487   \n",
       "6075                   0.004607                  0.000668   \n",
       "6076                   0.000520                  0.000490   \n",
       "6077                   0.040881                  0.000775   \n",
       "6078                   0.015485                  0.025809   \n",
       "\n",
       "      question_type_entity  question_type_instructions  \\\n",
       "0                 0.293660                    0.134079   \n",
       "1                 0.092137                    0.083116   \n",
       "2                 0.264831                    0.684507   \n",
       "3                 0.032901                    0.054407   \n",
       "4                 0.002050                    0.914558   \n",
       "...                    ...                         ...   \n",
       "6074              0.078337                    0.009973   \n",
       "6075              0.006494                    0.812099   \n",
       "6076              0.005234                    0.879905   \n",
       "6077              0.013019                    0.010561   \n",
       "6078              0.024054                    0.012354   \n",
       "\n",
       "      question_type_procedure  question_type_reason_explanation  \\\n",
       "0                    0.094440                          0.466439   \n",
       "1                    0.059709                          0.335333   \n",
       "2                    0.286730                          0.211391   \n",
       "3                    0.095646                          0.384122   \n",
       "4                    0.341154                          0.075350   \n",
       "...                       ...                               ...   \n",
       "6074                 0.041986                          0.757021   \n",
       "6075                 0.384533                          0.171427   \n",
       "6076                 0.318054                          0.142930   \n",
       "6077                 0.112003                          0.670556   \n",
       "6078                 0.015948                          0.983688   \n",
       "\n",
       "      question_type_spelling  question_well_written  answer_helpful  \\\n",
       "0                   0.000840               0.830364        0.924336   \n",
       "1                   0.013199               0.796825        0.457131   \n",
       "2                   0.000280               0.562895        0.865171   \n",
       "3                   0.001833               0.843035        0.897359   \n",
       "4                   0.000011               0.830225        0.831110   \n",
       "...                      ...                    ...             ...   \n",
       "6074                0.004853               0.771660        0.937689   \n",
       "6075                0.000031               0.791747        0.860928   \n",
       "6076                0.000076               0.534713        0.627149   \n",
       "6077                0.000009               0.935100        0.792622   \n",
       "6078                0.000086               0.850285        0.756544   \n",
       "\n",
       "      answer_level_of_information  answer_plausible  answer_relevance  \\\n",
       "0                        0.571583          0.973439          0.966636   \n",
       "1                        0.234507          0.653059          0.761840   \n",
       "2                        0.619769          0.909452          0.900359   \n",
       "3                        0.706846          0.910371          0.925841   \n",
       "4                        0.419495          0.892156          0.877315   \n",
       "...                           ...               ...               ...   \n",
       "6074                     0.764278          0.950227          0.933265   \n",
       "6075                     0.546786          0.925894          0.937100   \n",
       "6076                     0.416767          0.807839          0.768627   \n",
       "6077                     0.642907          0.907224          0.922389   \n",
       "6078                     0.412349          0.835344          0.875036   \n",
       "\n",
       "      answer_satisfaction  answer_type_instructions  answer_type_procedure  \\\n",
       "0                0.742189                  0.180854               0.097414   \n",
       "1                0.379349                  0.032099               0.026894   \n",
       "2                0.695342                  0.666956               0.336598   \n",
       "3                0.811596                  0.023838               0.090424   \n",
       "4                0.583862                  0.911828               0.259833   \n",
       "...                   ...                       ...                    ...   \n",
       "6074             0.783239                  0.115635               0.154461   \n",
       "6075             0.632836                  0.876132               0.354624   \n",
       "6076             0.396119                  0.708221               0.210292   \n",
       "6077             0.697949                  0.011606               0.085828   \n",
       "6078             0.423244                  0.034150               0.022907   \n",
       "\n",
       "      answer_type_reason_explanation  answer_well_written  \n",
       "0                           0.831799             0.827303  \n",
       "1                           0.374413             0.756088  \n",
       "2                           0.619099             0.720004  \n",
       "3                           0.879995             0.667805  \n",
       "4                           0.057302             0.720149  \n",
       "...                              ...                  ...  \n",
       "6074                        0.926136             0.760197  \n",
       "6075                        0.236561             0.889647  \n",
       "6076                        0.495967             0.534685  \n",
       "6077                        0.850595             0.860455  \n",
       "6078                        0.950502             0.766586  \n",
       "\n",
       "[6079 rows x 30 columns]"
      ]
     },
     "execution_count": 20,
     "metadata": {},
     "output_type": "execute_result"
    }
   ],
   "source": [
    "pd.DataFrame(oofs, columns=TARGETS)"
   ]
  },
  {
   "cell_type": "code",
   "execution_count": 21,
   "metadata": {},
   "outputs": [
    {
     "data": {
      "text/plain": [
       "question_asker_intent_understanding      0.389474\n",
       "question_body_critical                   0.617992\n",
       "question_conversational                  0.413728\n",
       "question_expect_short_answer             0.293254\n",
       "question_fact_seeking                    0.367900\n",
       "question_has_commonly_accepted_answer    0.422698\n",
       "question_interestingness_others          0.359007\n",
       "question_interestingness_self            0.498347\n",
       "question_multi_intent                    0.580290\n",
       "question_not_really_a_question           0.093443\n",
       "question_opinion_seeking                 0.469081\n",
       "question_type_choice                     0.740426\n",
       "question_type_compare                    0.364830\n",
       "question_type_consequence                0.186667\n",
       "question_type_definition                 0.361445\n",
       "question_type_entity                     0.457117\n",
       "question_type_instructions               0.778173\n",
       "question_type_procedure                  0.369197\n",
       "question_type_reason_explanation         0.669323\n",
       "question_type_spelling                   0.068656\n",
       "question_well_written                    0.513548\n",
       "answer_helpful                           0.227811\n",
       "answer_level_of_information              0.442090\n",
       "answer_plausible                         0.137132\n",
       "answer_relevance                         0.159438\n",
       "answer_satisfaction                      0.350379\n",
       "answer_type_instructions                 0.759967\n",
       "answer_type_procedure                    0.300548\n",
       "answer_type_reason_explanation           0.675582\n",
       "answer_well_written                      0.215955\n",
       "dtype: float64"
      ]
     },
     "execution_count": 21,
     "metadata": {},
     "output_type": "execute_result"
    }
   ],
   "source": [
    "rs = pd.Series({col: spearmanr(oofs[:,i], y[:,i])[0] for i, col in enumerate(TARGETS)})\n",
    "rs"
   ]
  },
  {
   "cell_type": "code",
   "execution_count": 22,
   "metadata": {},
   "outputs": [
    {
     "data": {
      "text/html": [
       "<div>\n",
       "<style scoped>\n",
       "    .dataframe tbody tr th:only-of-type {\n",
       "        vertical-align: middle;\n",
       "    }\n",
       "\n",
       "    .dataframe tbody tr th {\n",
       "        vertical-align: top;\n",
       "    }\n",
       "\n",
       "    .dataframe thead th {\n",
       "        text-align: right;\n",
       "    }\n",
       "</style>\n",
       "<table border=\"1\" class=\"dataframe\">\n",
       "  <thead>\n",
       "    <tr style=\"text-align: right;\">\n",
       "      <th></th>\n",
       "      <th>SpearmanCorr</th>\n",
       "      <th>NUnique</th>\n",
       "    </tr>\n",
       "  </thead>\n",
       "  <tbody>\n",
       "    <tr>\n",
       "      <th>question_type_spelling</th>\n",
       "      <td>0.068656</td>\n",
       "      <td>3.0</td>\n",
       "    </tr>\n",
       "    <tr>\n",
       "      <th>question_not_really_a_question</th>\n",
       "      <td>0.093443</td>\n",
       "      <td>5.0</td>\n",
       "    </tr>\n",
       "    <tr>\n",
       "      <th>answer_plausible</th>\n",
       "      <td>0.137132</td>\n",
       "      <td>9.0</td>\n",
       "    </tr>\n",
       "    <tr>\n",
       "      <th>answer_relevance</th>\n",
       "      <td>0.159438</td>\n",
       "      <td>9.0</td>\n",
       "    </tr>\n",
       "    <tr>\n",
       "      <th>question_type_consequence</th>\n",
       "      <td>0.186667</td>\n",
       "      <td>5.0</td>\n",
       "    </tr>\n",
       "    <tr>\n",
       "      <th>answer_well_written</th>\n",
       "      <td>0.215955</td>\n",
       "      <td>9.0</td>\n",
       "    </tr>\n",
       "    <tr>\n",
       "      <th>answer_helpful</th>\n",
       "      <td>0.227811</td>\n",
       "      <td>9.0</td>\n",
       "    </tr>\n",
       "    <tr>\n",
       "      <th>question_expect_short_answer</th>\n",
       "      <td>0.293254</td>\n",
       "      <td>5.0</td>\n",
       "    </tr>\n",
       "    <tr>\n",
       "      <th>answer_type_procedure</th>\n",
       "      <td>0.300548</td>\n",
       "      <td>5.0</td>\n",
       "    </tr>\n",
       "    <tr>\n",
       "      <th>answer_satisfaction</th>\n",
       "      <td>0.350379</td>\n",
       "      <td>17.0</td>\n",
       "    </tr>\n",
       "    <tr>\n",
       "      <th>question_interestingness_others</th>\n",
       "      <td>0.359007</td>\n",
       "      <td>9.0</td>\n",
       "    </tr>\n",
       "    <tr>\n",
       "      <th>question_type_definition</th>\n",
       "      <td>0.361445</td>\n",
       "      <td>5.0</td>\n",
       "    </tr>\n",
       "    <tr>\n",
       "      <th>question_type_compare</th>\n",
       "      <td>0.364830</td>\n",
       "      <td>5.0</td>\n",
       "    </tr>\n",
       "    <tr>\n",
       "      <th>question_fact_seeking</th>\n",
       "      <td>0.367900</td>\n",
       "      <td>5.0</td>\n",
       "    </tr>\n",
       "    <tr>\n",
       "      <th>question_type_procedure</th>\n",
       "      <td>0.369197</td>\n",
       "      <td>5.0</td>\n",
       "    </tr>\n",
       "    <tr>\n",
       "      <th>question_asker_intent_understanding</th>\n",
       "      <td>0.389474</td>\n",
       "      <td>9.0</td>\n",
       "    </tr>\n",
       "    <tr>\n",
       "      <th>question_conversational</th>\n",
       "      <td>0.413728</td>\n",
       "      <td>5.0</td>\n",
       "    </tr>\n",
       "    <tr>\n",
       "      <th>question_has_commonly_accepted_answer</th>\n",
       "      <td>0.422698</td>\n",
       "      <td>5.0</td>\n",
       "    </tr>\n",
       "    <tr>\n",
       "      <th>answer_level_of_information</th>\n",
       "      <td>0.442090</td>\n",
       "      <td>9.0</td>\n",
       "    </tr>\n",
       "    <tr>\n",
       "      <th>question_type_entity</th>\n",
       "      <td>0.457117</td>\n",
       "      <td>5.0</td>\n",
       "    </tr>\n",
       "    <tr>\n",
       "      <th>question_opinion_seeking</th>\n",
       "      <td>0.469081</td>\n",
       "      <td>5.0</td>\n",
       "    </tr>\n",
       "    <tr>\n",
       "      <th>question_interestingness_self</th>\n",
       "      <td>0.498347</td>\n",
       "      <td>9.0</td>\n",
       "    </tr>\n",
       "    <tr>\n",
       "      <th>question_well_written</th>\n",
       "      <td>0.513548</td>\n",
       "      <td>9.0</td>\n",
       "    </tr>\n",
       "    <tr>\n",
       "      <th>question_multi_intent</th>\n",
       "      <td>0.580290</td>\n",
       "      <td>5.0</td>\n",
       "    </tr>\n",
       "    <tr>\n",
       "      <th>question_body_critical</th>\n",
       "      <td>0.617992</td>\n",
       "      <td>9.0</td>\n",
       "    </tr>\n",
       "    <tr>\n",
       "      <th>question_type_reason_explanation</th>\n",
       "      <td>0.669323</td>\n",
       "      <td>5.0</td>\n",
       "    </tr>\n",
       "    <tr>\n",
       "      <th>answer_type_reason_explanation</th>\n",
       "      <td>0.675582</td>\n",
       "      <td>5.0</td>\n",
       "    </tr>\n",
       "    <tr>\n",
       "      <th>question_type_choice</th>\n",
       "      <td>0.740426</td>\n",
       "      <td>5.0</td>\n",
       "    </tr>\n",
       "    <tr>\n",
       "      <th>answer_type_instructions</th>\n",
       "      <td>0.759967</td>\n",
       "      <td>5.0</td>\n",
       "    </tr>\n",
       "    <tr>\n",
       "      <th>question_type_instructions</th>\n",
       "      <td>0.778173</td>\n",
       "      <td>5.0</td>\n",
       "    </tr>\n",
       "  </tbody>\n",
       "</table>\n",
       "</div>"
      ],
      "text/plain": [
       "                                       SpearmanCorr  NUnique\n",
       "question_type_spelling                     0.068656      3.0\n",
       "question_not_really_a_question             0.093443      5.0\n",
       "answer_plausible                           0.137132      9.0\n",
       "answer_relevance                           0.159438      9.0\n",
       "question_type_consequence                  0.186667      5.0\n",
       "answer_well_written                        0.215955      9.0\n",
       "answer_helpful                             0.227811      9.0\n",
       "question_expect_short_answer               0.293254      5.0\n",
       "answer_type_procedure                      0.300548      5.0\n",
       "answer_satisfaction                        0.350379     17.0\n",
       "question_interestingness_others            0.359007      9.0\n",
       "question_type_definition                   0.361445      5.0\n",
       "question_type_compare                      0.364830      5.0\n",
       "question_fact_seeking                      0.367900      5.0\n",
       "question_type_procedure                    0.369197      5.0\n",
       "question_asker_intent_understanding        0.389474      9.0\n",
       "question_conversational                    0.413728      5.0\n",
       "question_has_commonly_accepted_answer      0.422698      5.0\n",
       "answer_level_of_information                0.442090      9.0\n",
       "question_type_entity                       0.457117      5.0\n",
       "question_opinion_seeking                   0.469081      5.0\n",
       "question_interestingness_self              0.498347      9.0\n",
       "question_well_written                      0.513548      9.0\n",
       "question_multi_intent                      0.580290      5.0\n",
       "question_body_critical                     0.617992      9.0\n",
       "question_type_reason_explanation           0.669323      5.0\n",
       "answer_type_reason_explanation             0.675582      5.0\n",
       "question_type_choice                       0.740426      5.0\n",
       "answer_type_instructions                   0.759967      5.0\n",
       "question_type_instructions                 0.778173      5.0"
      ]
     },
     "execution_count": 22,
     "metadata": {},
     "output_type": "execute_result"
    }
   ],
   "source": [
    "rs_df = pd.DataFrame(np.vstack([rs.values.flatten(), train[TARGETS].nunique()]).T, \n",
    "                     columns=['SpearmanCorr', 'NUnique'], index=rs.index)\n",
    "rs_df.sort_values('SpearmanCorr', ascending=True)"
   ]
  },
  {
   "cell_type": "code",
   "execution_count": 23,
   "metadata": {},
   "outputs": [
    {
     "data": {
      "text/plain": [
       "Index(['question_type_spelling', 'question_not_really_a_question',\n",
       "       'answer_plausible', 'answer_relevance', 'question_type_consequence'],\n",
       "      dtype='object')"
      ]
     },
     "execution_count": 23,
     "metadata": {},
     "output_type": "execute_result"
    }
   ],
   "source": [
    "sorted_targets = rs_df.sort_values('SpearmanCorr', ascending=True).index\n",
    "worst_five_targets = sorted_targets[:5]\n",
    "worst_five_targets"
   ]
  },
  {
   "cell_type": "code",
   "execution_count": 24,
   "metadata": {
    "scrolled": true
   },
   "outputs": [
    {
     "data": {
      "image/png": "[encoded data removed]",
      "text/plain": [
       "<Figure size 432x288 with 1 Axes>"
      ]
     },
     "metadata": {
      "needs_background": "light"
     },
     "output_type": "display_data"
    },
    {
     "data": {
      "image/png": "[encoded data removed]",
      "text/plain": [
       "<Figure size 432x288 with 1 Axes>"
      ]
     },
     "metadata": {
      "needs_background": "light"
     },
     "output_type": "display_data"
    },
    {
     "data": {
      "image/png": "[encoded data removed]",
      "text/plain": [
       "<Figure size 432x288 with 1 Axes>"
      ]
     },
     "metadata": {
      "needs_background": "light"
     },
     "output_type": "display_data"
    },
    {
     "data": {
      "image/png": "[encoded data removed]",
      "text/plain": [
       "<Figure size 432x288 with 1 Axes>"
      ]
     },
     "metadata": {
      "needs_background": "light"
     },
     "output_type": "display_data"
    },
    {
     "data": {
      "image/png": "[encoded data removed]",
      "text/plain": [
       "<Figure size 432x288 with 1 Axes>"
      ]
     },
     "metadata": {
      "needs_background": "light"
     },
     "output_type": "display_data"
    }
   ],
   "source": [
    "for col in worst_five_targets:\n",
    "    plt.figure()\n",
    "    train[col].hist()\n",
    "    plt.title(f'{col} {np.round(rs[col],3)}')"
   ]
  },
  {
   "cell_type": "code",
   "execution_count": 25,
   "metadata": {},
   "outputs": [
    {
     "name": "stderr",
     "output_type": "stream",
     "text": [
      "/home/robin/anaconda3/envs/GoogleQuest/lib/python3.7/site-packages/ipykernel_launcher.py:2: RuntimeWarning: More than 20 figures have been opened. Figures created through the pyplot interface (`matplotlib.pyplot.figure`) are retained until explicitly closed and may consume too much memory. (To control this warning, see the rcParam `figure.max_open_warning`).\n",
      "  \n"
     ]
    },
    {
     "data": {
      "image/png": "[encoded data removed]",
      "text/plain": [
       "<Figure size 432x288 with 1 Axes>"
      ]
     },
     "metadata": {
      "needs_background": "light"
     },
     "output_type": "display_data"
    },
    {
     "data": {
      "image/png": "[encoded data removed]",
      "text/plain": [
       "<Figure size 432x288 with 1 Axes>"
      ]
     },
     "metadata": {
      "needs_background": "light"
     },
     "output_type": "display_data"
    },
    {
     "data": {
      "image/png": "[encoded data removed]",
      "text/plain": [
       "<Figure size 432x288 with 1 Axes>"
      ]
     },
     "metadata": {
      "needs_background": "light"
     },
     "output_type": "display_data"
    },
    {
     "data": {
      "image/png": "[encoded data removed]",
      "text/plain": [
       "<Figure size 432x288 with 1 Axes>"
      ]
     },
     "metadata": {
      "needs_background": "light"
     },
     "output_type": "display_data"
    },
    {
     "data": {
      "image/png": "[encoded data removed]",
      "text/plain": [
       "<Figure size 432x288 with 1 Axes>"
      ]
     },
     "metadata": {
      "needs_background": "light"
     },
     "output_type": "display_data"
    },
    {
     "data": {
      "image/png": "[encoded data removed]",
      "text/plain": [
       "<Figure size 432x288 with 1 Axes>"
      ]
     },
     "metadata": {
      "needs_background": "light"
     },
     "output_type": "display_data"
    },
    {
     "data": {
      "image/png": "[encoded data removed]",
      "text/plain": [
       "<Figure size 432x288 with 1 Axes>"
      ]
     },
     "metadata": {
      "needs_background": "light"
     },
     "output_type": "display_data"
    },
    {
     "data": {
      "image/png": "[encoded data removed]",
      "text/plain": [
       "<Figure size 432x288 with 1 Axes>"
      ]
     },
     "metadata": {
      "needs_background": "light"
     },
     "output_type": "display_data"
    },
    {
     "data": {
      "image/png": "[encoded data removed]",
      "text/plain": [
       "<Figure size 432x288 with 1 Axes>"
      ]
     },
     "metadata": {
      "needs_background": "light"
     },
     "output_type": "display_data"
    },
    {
     "data": {
      "image/png": "[encoded data removed]",
      "text/plain": [
       "<Figure size 432x288 with 1 Axes>"
      ]
     },
     "metadata": {
      "needs_background": "light"
     },
     "output_type": "display_data"
    },
    {
     "data": {
      "image/png": "[encoded data removed]",
      "text/plain": [
       "<Figure size 432x288 with 1 Axes>"
      ]
     },
     "metadata": {
      "needs_background": "light"
     },
     "output_type": "display_data"
    },
    {
     "data": {
      "image/png": "[encoded data removed]",
      "text/plain": [
       "<Figure size 432x288 with 1 Axes>"
      ]
     },
     "metadata": {
      "needs_background": "light"
     },
     "output_type": "display_data"
    },
    {
     "data": {
      "image/png": "[encoded data removed]",
      "text/plain": [
       "<Figure size 432x288 with 1 Axes>"
      ]
     },
     "metadata": {
      "needs_background": "light"
     },
     "output_type": "display_data"
    },
    {
     "data": {
      "image/png": "[encoded data removed]",
      "text/plain": [
       "<Figure size 432x288 with 1 Axes>"
      ]
     },
     "metadata": {
      "needs_background": "light"
     },
     "output_type": "display_data"
    },
    {
     "data": {
      "image/png": "[encoded data removed]",
      "text/plain": [
       "<Figure size 432x288 with 1 Axes>"
      ]
     },
     "metadata": {
      "needs_background": "light"
     },
     "output_type": "display_data"
    },
    {
     "data": {
      "image/png": "[encoded data removed]",
      "text/plain": [
       "<Figure size 432x288 with 1 Axes>"
      ]
     },
     "metadata": {
      "needs_background": "light"
     },
     "output_type": "display_data"
    },
    {
     "data": {
      "image/png": "[encoded data removed]",
      "text/plain": [
       "<Figure size 432x288 with 1 Axes>"
      ]
     },
     "metadata": {
      "needs_background": "light"
     },
     "output_type": "display_data"
    },
    {
     "data": {
      "image/png": "[encoded data removed]",
      "text/plain": [
       "<Figure size 432x288 with 1 Axes>"
      ]
     },
     "metadata": {
      "needs_background": "light"
     },
     "output_type": "display_data"
    },
    {
     "data": {
      "image/png": "[encoded data removed]",
      "text/plain": [
       "<Figure size 432x288 with 1 Axes>"
      ]
     },
     "metadata": {
      "needs_background": "light"
     },
     "output_type": "display_data"
    },
    {
     "data": {
      "image/png": "[encoded data removed]",
      "text/plain": [
       "<Figure size 432x288 with 1 Axes>"
      ]
     },
     "metadata": {
      "needs_background": "light"
     },
     "output_type": "display_data"
    },
    {
     "data": {
      "image/png": "[encoded data removed]",
      "text/plain": [
       "<Figure size 432x288 with 1 Axes>"
      ]
     },
     "metadata": {
      "needs_background": "light"
     },
     "output_type": "display_data"
    },
    {
     "data": {
      "image/png": "[encoded data removed]",
      "text/plain": [
       "<Figure size 432x288 with 1 Axes>"
      ]
     },
     "metadata": {
      "needs_background": "light"
     },
     "output_type": "display_data"
    },
    {
     "data": {
      "image/png": "[encoded data removed]",
      "text/plain": [
       "<Figure size 432x288 with 1 Axes>"
      ]
     },
     "metadata": {
      "needs_background": "light"
     },
     "output_type": "display_data"
    },
    {
     "data": {
      "image/png": "[encoded data removed]",
      "text/plain": [
       "<Figure size 432x288 with 1 Axes>"
      ]
     },
     "metadata": {
      "needs_background": "light"
     },
     "output_type": "display_data"
    },
    {
     "data": {
      "image/png": "[encoded data removed]",
      "text/plain": [
       "<Figure size 432x288 with 1 Axes>"
      ]
     },
     "metadata": {
      "needs_background": "light"
     },
     "output_type": "display_data"
    }
   ],
   "source": [
    "for col in [target for target in sorted_targets if target not in worst_five_targets]:\n",
    "    plt.figure()\n",
    "    train[col].hist()\n",
    "    plt.title(f'{col} {np.round(rs[col],3)}')"
   ]
  },
  {
   "cell_type": "code",
   "execution_count": null,
   "metadata": {},
   "outputs": [],
   "source": []
  }
 ],
 "metadata": {
  "kernelspec": {
   "display_name": "Python 3",
   "language": "python",
   "name": "python3"
  },
  "language_info": {
   "codemirror_mode": {
    "name": "ipython",
    "version": 3
   },
   "file_extension": ".py",
   "mimetype": "text/x-python",
   "name": "python",
   "nbconvert_exporter": "python",
   "pygments_lexer": "ipython3",
   "version": "3.7.5"
  }
 },
 "nbformat": 4,
 "nbformat_minor": 1
}
