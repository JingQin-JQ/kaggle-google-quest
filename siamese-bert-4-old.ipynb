{
 "cells": [
  {
   "cell_type": "markdown",
   "metadata": {},
   "source": [
    "## Importing libraries"
   ]
  },
  {
   "cell_type": "code",
   "execution_count": 1,
   "metadata": {
    "_kg_hide-input": true
   },
   "outputs": [],
   "source": [
    "import numpy as np\n",
    "import pandas as pd\n",
    "import matplotlib.pyplot as plt\n",
    "import seaborn as sns\n",
    "import time\n",
    "import datetime\n",
    "import re\n",
    "import gc\n",
    "import copy\n",
    "\n",
    "from sklearn.model_selection import KFold, GroupKFold\n",
    "from sklearn.preprocessing import OneHotEncoder, MinMaxScaler\n",
    "\n",
    "import torch\n",
    "import torch.nn as nn\n",
    "import torch.optim as optim\n",
    "import torch.nn.functional as F\n",
    "from torch.utils.data import DataLoader\n",
    "\n",
    "from tqdm import tqdm_notebook as tqdm\n",
    "from transformers import DistilBertTokenizer, BertTokenizer\n",
    "import transformers\n",
    "\n",
    "from radam import RAdam\n",
    "from text_data import TextDataset5\n",
    "from bert import CustomBert3\n",
    "from multilabel_cross_fold import MultilabelStratifiedKFold\n",
    "from learning import Learner\n",
    "from lr_finder import LRFinder\n",
    "from one_cycle import OneCycleLR\n",
    "from text_cleaning import clean_data\n",
    "from create_features import get_categorical_features\n",
    "from losses_metrics import spearmanr_torch, spearmanr_np\n",
    "from inference import infer\n",
    "from eda import eda\n",
    "from common import *\n",
    "from utils.helpers import init_logger, init_seed\n",
    "\n",
    "%matplotlib inline\n",
    "pd.set_option('max_colwidth',400)"
   ]
  },
  {
   "cell_type": "markdown",
   "metadata": {},
   "source": [
    "## Loading and preparing data"
   ]
  },
  {
   "cell_type": "code",
   "execution_count": 2,
   "metadata": {
    "_cell_guid": "b1076dfc-b9ad-4769-8c92-a6c4dae69d19",
    "_uuid": "8f2839f25d086af736a60e9eeb907d3b93b6e0e5"
   },
   "outputs": [],
   "source": [
    "pd.set_option('max_rows', 500)\n",
    "pd.set_option('max_columns', 500)\n",
    "path = 'data/'\n",
    "sample_submission = pd.read_csv(f'{path}sample_submission.csv')\n",
    "test = pd.read_csv(f'{path}test.csv').fillna(' ')\n",
    "train = pd.read_csv(f'{path}train.csv').fillna(' ')"
   ]
  },
  {
   "cell_type": "code",
   "execution_count": 3,
   "metadata": {},
   "outputs": [
    {
     "name": "stderr",
     "output_type": "stream",
     "text": [
      "/home/robin/anaconda3/envs/GoogleQuest/lib/python3.7/site-packages/ipykernel_launcher.py:10: TqdmDeprecationWarning: This function will be removed in tqdm==5.0.0\n",
      "Please use `tqdm.notebook.tqdm` instead of `tqdm.tqdm_notebook`\n",
      "  # Remove the CWD from sys.path while we load stuff.\n"
     ]
    },
    {
     "data": {
      "application/vnd.jupyter.widget-view+json": {
       "model_id": "73b28f78ef1246299d3faa20c9969caa",
       "version_major": 2,
       "version_minor": 0
      },
      "text/plain": [
       "HBox(children=(IntProgress(value=0, max=6079), HTML(value='')))"
      ]
     },
     "metadata": {},
     "output_type": "display_data"
    },
    {
     "name": "stdout",
     "output_type": "stream",
     "text": [
      "\n"
     ]
    },
    {
     "data": {
      "application/vnd.jupyter.widget-view+json": {
       "model_id": "fea1921ea1cc4096a7aa12ea1a4ec4a4",
       "version_major": 2,
       "version_minor": 0
      },
      "text/plain": [
       "HBox(children=(IntProgress(value=0, max=6079), HTML(value='')))"
      ]
     },
     "metadata": {},
     "output_type": "display_data"
    },
    {
     "name": "stdout",
     "output_type": "stream",
     "text": [
      "\n"
     ]
    },
    {
     "data": {
      "application/vnd.jupyter.widget-view+json": {
       "model_id": "a15f89ffcced4b4f8e08775213fa5bc7",
       "version_major": 2,
       "version_minor": 0
      },
      "text/plain": [
       "HBox(children=(IntProgress(value=0, max=476), HTML(value='')))"
      ]
     },
     "metadata": {},
     "output_type": "display_data"
    },
    {
     "name": "stdout",
     "output_type": "stream",
     "text": [
      "\n"
     ]
    },
    {
     "data": {
      "application/vnd.jupyter.widget-view+json": {
       "model_id": "06bccc2ece6f4e3ea534e47c7c902c45",
       "version_major": 2,
       "version_minor": 0
      },
      "text/plain": [
       "HBox(children=(IntProgress(value=0, max=476), HTML(value='')))"
      ]
     },
     "metadata": {},
     "output_type": "display_data"
    },
    {
     "name": "stdout",
     "output_type": "stream",
     "text": [
      "\n",
      "CPU times: user 33 s, sys: 271 ms, total: 33.3 s\n",
      "Wall time: 33.4 s\n"
     ]
    }
   ],
   "source": [
    "%%time\n",
    "# tokenizer = DistilBertTokenizer.from_pretrained('distilbert-base-uncased')\n",
    "tokenizer = BertTokenizer.from_pretrained('bert-base-uncased')\n",
    "seg_ids_train, ids_train = {}, {}\n",
    "seg_ids_test, ids_test = {}, {}\n",
    "max_seq_len = 512\n",
    "for mode, df in [('train', train), ('test', test)]:\n",
    "    for text, cols in [('question', ['question_title', 'question_body']), \n",
    "                       ('answer', ['question_title', 'answer'])]:\n",
    "        ids, seg_ids = [], []\n",
    "        for x1, x2 in tqdm(df[cols].values):\n",
    "            encoded_inputs = tokenizer.encode_plus(\n",
    "                x1, x2, add_special_tokens=True, max_length=max_seq_len, pad_to_max_length=True, \n",
    "                return_token_type_ids=True\n",
    "            )\n",
    "            ids.append(encoded_inputs['input_ids'])\n",
    "            seg_ids.append(encoded_inputs['token_type_ids'])\n",
    "        if mode == 'train': \n",
    "            ids_train[text] = np.array(ids)\n",
    "            seg_ids_train[text] = np.array(seg_ids)\n",
    "        else: \n",
    "            ids_test[text] = np.array(ids)\n",
    "            seg_ids_test[text] = 2 * np.array(seg_ids)"
   ]
  },
  {
   "cell_type": "code",
   "execution_count": 4,
   "metadata": {
    "code_folding": []
   },
   "outputs": [],
   "source": [
    "train_host, test_host, host_dict, host_dict_reverse = get_categorical_features(train, test, 'host')\n",
    "train_category, test_category, category_dict, category_dict_reverse = \\\n",
    "    get_categorical_features(train, test, 'category')"
   ]
  },
  {
   "cell_type": "code",
   "execution_count": 5,
   "metadata": {},
   "outputs": [
    {
     "name": "stderr",
     "output_type": "stream",
     "text": [
      "/home/robin/anaconda3/envs/GoogleQuest/lib/python3.7/site-packages/sklearn/preprocessing/_encoders.py:415: FutureWarning: The handling of integer data will change in version 0.22. Currently, the categories are determined based on the range [0, max(values)], while in the future they will be determined based on the unique values.\n",
      "If you want the future behaviour and silence this warning, you can specify \"categories='auto'\".\n",
      "In case you used a LabelEncoder before this OneHotEncoder to convert the categories to integers, then you can now use the OneHotEncoder directly.\n",
      "  warnings.warn(msg, FutureWarning)\n"
     ]
    }
   ],
   "source": [
    "cat_features_train = np.hstack([train_host.reshape(-1, 1), train_category.reshape(-1, 1)])\n",
    "cat_features_test = np.hstack([test_host.reshape(-1, 1), test_category.reshape(-1, 1)])\n",
    "ohe = OneHotEncoder()\n",
    "ohe.fit(cat_features_train)\n",
    "cat_features_train = ohe.transform(cat_features_train).toarray()\n",
    "cat_features_test = ohe.transform(cat_features_test).toarray()"
   ]
  },
  {
   "cell_type": "code",
   "execution_count": 6,
   "metadata": {},
   "outputs": [],
   "source": [
    "for col in TARGETS:\n",
    "    train[col] = train[col].rank(method=\"average\")\n",
    "train[TARGETS] = MinMaxScaler().fit_transform(train[TARGETS])\n",
    "y = train[TARGETS].values.astype(np.float32)"
   ]
  },
  {
   "cell_type": "code",
   "execution_count": 7,
   "metadata": {},
   "outputs": [],
   "source": [
    "num_workers = 10\n",
    "bs = 2\n",
    "TextDataset = TextDataset5"
   ]
  },
  {
   "cell_type": "code",
   "execution_count": 8,
   "metadata": {},
   "outputs": [],
   "source": [
    "bs_test = 2\n",
    "test_loader = DataLoader(\n",
    "    TextDataset(cat_features_test, ids_test['question'], ids_test['answer'], \n",
    "                seg_ids_test['question'], seg_ids_test['answer'], test.index),\n",
    "    batch_size=bs_test, shuffle=False, num_workers=num_workers, drop_last=False\n",
    ")"
   ]
  },
  {
   "cell_type": "markdown",
   "metadata": {},
   "source": [
    "## Training model"
   ]
  },
  {
   "cell_type": "code",
   "execution_count": 9,
   "metadata": {},
   "outputs": [],
   "source": [
    "lr = 0.0005\n",
    "loss_fn = nn.BCEWithLogitsLoss()\n",
    "device = 'cuda'\n",
    "n_epochs = 4\n",
    "grad_accum = 4\n",
    "weight_decay = 0.01\n",
    "model_name = 'siamese_bert_4'\n",
    "checkpoint_dir = 'checkpoints/'\n",
    "early_stopping = None\n",
    "n_folds = 10\n",
    "p_aug = 0.0"
   ]
  },
  {
   "cell_type": "code",
   "execution_count": 10,
   "metadata": {},
   "outputs": [],
   "source": [
    "def get_optimizer_param_groups(model, lr, weight_decay):\n",
    "    no_decay = ['bias', 'LayerNorm.weight']\n",
    "    optimizer_grouped_parameters = [\n",
    "        {'params': [p for n, p in model.named_parameters() if not any(nd in n for nd in no_decay)], \n",
    "         'weight_decay': weight_decay, 'lr': lr},\n",
    "        {'params': [p for n, p in model.named_parameters() if any(nd in n for nd in no_decay)], \n",
    "         'weight_decay': 0.0, 'lr': lr}\n",
    "    ]\n",
    "    return optimizer_grouped_parameters\n",
    "\n",
    "\n",
    "def get_optimizer(model, lr, weight_decay):\n",
    "    return transformers.AdamW(\n",
    "        get_optimizer_param_groups(model.head, lr, weight_decay)\n",
    "        + get_optimizer_param_groups(model.bert, lr / 50, weight_decay)\n",
    "    )"
   ]
  },
  {
   "cell_type": "code",
   "execution_count": 12,
   "metadata": {
    "scrolled": true
   },
   "outputs": [
    {
     "name": "stdout",
     "output_type": "stream",
     "text": [
      "Fold 1 started at Tue Jan 14 18:57:13 2020\n"
     ]
    },
    {
     "data": {
      "application/vnd.jupyter.widget-view+json": {
       "model_id": "40dca3219a5d480a8622c18039f27cb5",
       "version_major": 2,
       "version_minor": 0
      },
      "text/plain": [
       "HBox(children=(IntProgress(value=0, max=400), HTML(value='')))"
      ]
     },
     "metadata": {},
     "output_type": "display_data"
    },
    {
     "name": "stderr",
     "output_type": "stream",
     "text": [
      "/home/robin/anaconda3/envs/GoogleQuest/lib/python3.7/site-packages/torch/optim/lr_scheduler.py:100: UserWarning: Detected call of `lr_scheduler.step()` before `optimizer.step()`. In PyTorch 1.1.0 and later, you should call them in the opposite order: `optimizer.step()` before `lr_scheduler.step()`.  Failure to do this will result in PyTorch skipping the first value of the learning rate schedule.See more details at https://pytorch.org/docs/stable/optim.html#how-to-adjust-learning-rate\n",
      "  \"https://pytorch.org/docs/stable/optim.html#how-to-adjust-learning-rate\", UserWarning)\n"
     ]
    },
    {
     "data": {
      "image/png": "[encoded data removed]",
      "text/plain": [
       "<Figure size 432x288 with 1 Axes>"
      ]
     },
     "metadata": {
      "needs_background": "light"
     },
     "output_type": "display_data"
    },
    {
     "name": "stdout",
     "output_type": "stream",
     "text": [
      "Starting inference for model: checkpoints/siamese_bert_4_fold_1_best.pth\n"
     ]
    },
    {
     "data": {
      "application/vnd.jupyter.widget-view+json": {
       "model_id": "f0e310481b114048809779327a3e5365",
       "version_major": 2,
       "version_minor": 0
      },
      "text/plain": [
       "HBox(children=(IntProgress(value=0, max=304), HTML(value='')))"
      ]
     },
     "metadata": {},
     "output_type": "display_data"
    },
    {
     "name": "stdout",
     "output_type": "stream",
     "text": [
      "\n",
      "Starting inference for model: checkpoints/siamese_bert_4_fold_1_best.pth\n"
     ]
    },
    {
     "data": {
      "application/vnd.jupyter.widget-view+json": {
       "model_id": "8154b5fa082c43099d8239cb5539cd71",
       "version_major": 2,
       "version_minor": 0
      },
      "text/plain": [
       "HBox(children=(IntProgress(value=0, max=238), HTML(value='')))"
      ]
     },
     "metadata": {},
     "output_type": "display_data"
    },
    {
     "name": "stdout",
     "output_type": "stream",
     "text": [
      "\n",
      "Fold 2 started at Tue Jan 14 18:58:55 2020\n",
      "epoch 0: \t Start training...\n"
     ]
    },
    {
     "data": {
      "application/vnd.jupyter.widget-view+json": {
       "model_id": "946deef5adb9418f9a3f69441310c431",
       "version_major": 2,
       "version_minor": 0
      },
      "text/plain": [
       "HBox(children=(IntProgress(value=0, max=2736), HTML(value='')))"
      ]
     },
     "metadata": {},
     "output_type": "display_data"
    },
    {
     "name": "stdout",
     "output_type": "stream",
     "text": [
      "\n",
      "epoch 0/4 \t train : loss 0.51768 - spearmanr 0.22494\n",
      "epoch 0: \t Start validation...\n"
     ]
    },
    {
     "data": {
      "application/vnd.jupyter.widget-view+json": {
       "model_id": "8e8c1b37c5b4488d98e20fd7fb8f75f5",
       "version_major": 2,
       "version_minor": 0
      },
      "text/plain": [
       "HBox(children=(IntProgress(value=0, max=304), HTML(value='')))"
      ]
     },
     "metadata": {},
     "output_type": "display_data"
    },
    {
     "name": "stdout",
     "output_type": "stream",
     "text": [
      "\n",
      "epoch 0/4 \t valid : loss 0.47135 - spearmanr 0.38903\n",
      "best model: epoch 0 - 0.38903\n",
      "epoch 1: \t Start training...\n"
     ]
    },
    {
     "data": {
      "application/vnd.jupyter.widget-view+json": {
       "model_id": "6ac47dab90164981b82b1e8dce0ffe1a",
       "version_major": 2,
       "version_minor": 0
      },
      "text/plain": [
       "HBox(children=(IntProgress(value=0, max=2736), HTML(value='')))"
      ]
     },
     "metadata": {},
     "output_type": "display_data"
    },
    {
     "name": "stdout",
     "output_type": "stream",
     "text": [
      "\n",
      "epoch 1/4 \t train : loss 0.45692 - spearmanr 0.39241\n",
      "epoch 1: \t Start validation...\n"
     ]
    },
    {
     "data": {
      "application/vnd.jupyter.widget-view+json": {
       "model_id": "889e27154e674361b1c9d35616b79043",
       "version_major": 2,
       "version_minor": 0
      },
      "text/plain": [
       "HBox(children=(IntProgress(value=0, max=304), HTML(value='')))"
      ]
     },
     "metadata": {},
     "output_type": "display_data"
    },
    {
     "name": "stdout",
     "output_type": "stream",
     "text": [
      "\n",
      "epoch 1/4 \t valid : loss 0.45814 - spearmanr 0.4152\n",
      "best model: epoch 1 - 0.4152\n",
      "epoch 2: \t Start training...\n"
     ]
    },
    {
     "data": {
      "application/vnd.jupyter.widget-view+json": {
       "model_id": "1754cde7694c45a5b7c59e137017828c",
       "version_major": 2,
       "version_minor": 0
      },
      "text/plain": [
       "HBox(children=(IntProgress(value=0, max=2736), HTML(value='')))"
      ]
     },
     "metadata": {},
     "output_type": "display_data"
    },
    {
     "name": "stdout",
     "output_type": "stream",
     "text": [
      "\n",
      "epoch 2/4 \t train : loss 0.43273 - spearmanr 0.45719\n",
      "epoch 2: \t Start validation...\n"
     ]
    },
    {
     "data": {
      "application/vnd.jupyter.widget-view+json": {
       "model_id": "12a2352c89ea4cf2962b6698f87c4842",
       "version_major": 2,
       "version_minor": 0
      },
      "text/plain": [
       "HBox(children=(IntProgress(value=0, max=304), HTML(value='')))"
      ]
     },
     "metadata": {},
     "output_type": "display_data"
    },
    {
     "name": "stdout",
     "output_type": "stream",
     "text": [
      "\n",
      "epoch 2/4 \t valid : loss 0.45302 - spearmanr 0.42313\n",
      "best model: epoch 2 - 0.42313\n",
      "epoch 3: \t Start training...\n"
     ]
    },
    {
     "data": {
      "application/vnd.jupyter.widget-view+json": {
       "model_id": "85232abcd56848afad802f72bc7e5de6",
       "version_major": 2,
       "version_minor": 0
      },
      "text/plain": [
       "HBox(children=(IntProgress(value=0, max=2736), HTML(value='')))"
      ]
     },
     "metadata": {},
     "output_type": "display_data"
    },
    {
     "name": "stdout",
     "output_type": "stream",
     "text": [
      "\n",
      "epoch 3/4 \t train : loss 0.41397 - spearmanr 0.50463\n",
      "epoch 3: \t Start validation...\n"
     ]
    },
    {
     "data": {
      "application/vnd.jupyter.widget-view+json": {
       "model_id": "4c01f80e4cbb46fd8d3fc292c7b95272",
       "version_major": 2,
       "version_minor": 0
      },
      "text/plain": [
       "HBox(children=(IntProgress(value=0, max=304), HTML(value='')))"
      ]
     },
     "metadata": {},
     "output_type": "display_data"
    },
    {
     "name": "stdout",
     "output_type": "stream",
     "text": [
      "\n",
      "epoch 3/4 \t valid : loss 0.4556 - spearmanr 0.42239\n",
      "model not improved for 1 epochs\n",
      "TRAINING END: Best score achieved on epoch 2 - 0.42313\n",
      "Starting inference for model: checkpoints/siamese_bert_4_fold_2_best.pth\n"
     ]
    },
    {
     "data": {
      "application/vnd.jupyter.widget-view+json": {
       "model_id": "89166a480be6498eb49ad5e4b05e4560",
       "version_major": 2,
       "version_minor": 0
      },
      "text/plain": [
       "HBox(children=(IntProgress(value=0, max=304), HTML(value='')))"
      ]
     },
     "metadata": {},
     "output_type": "display_data"
    },
    {
     "name": "stdout",
     "output_type": "stream",
     "text": [
      "\n",
      "Starting inference for model: checkpoints/siamese_bert_4_fold_2_best.pth\n"
     ]
    },
    {
     "data": {
      "application/vnd.jupyter.widget-view+json": {
       "model_id": "21db1a68d56a4edab7c042dd4dd9ac40",
       "version_major": 2,
       "version_minor": 0
      },
      "text/plain": [
       "HBox(children=(IntProgress(value=0, max=238), HTML(value='')))"
      ]
     },
     "metadata": {},
     "output_type": "display_data"
    },
    {
     "name": "stdout",
     "output_type": "stream",
     "text": [
      "\n",
      "Fold 3 started at Tue Jan 14 19:37:59 2020\n",
      "epoch 0: \t Start training...\n"
     ]
    },
    {
     "data": {
      "application/vnd.jupyter.widget-view+json": {
       "model_id": "721c240bc2b641ba86b9b916f0eefcb6",
       "version_major": 2,
       "version_minor": 0
      },
      "text/plain": [
       "HBox(children=(IntProgress(value=0, max=2736), HTML(value='')))"
      ]
     },
     "metadata": {},
     "output_type": "display_data"
    },
    {
     "name": "stdout",
     "output_type": "stream",
     "text": [
      "\n",
      "epoch 0/4 \t train : loss 0.51896 - spearmanr 0.22491\n",
      "epoch 0: \t Start validation...\n"
     ]
    },
    {
     "data": {
      "application/vnd.jupyter.widget-view+json": {
       "model_id": "84c59eb686644e218c978cb8df275f2c",
       "version_major": 2,
       "version_minor": 0
      },
      "text/plain": [
       "HBox(children=(IntProgress(value=0, max=304), HTML(value='')))"
      ]
     },
     "metadata": {},
     "output_type": "display_data"
    },
    {
     "name": "stdout",
     "output_type": "stream",
     "text": [
      "\n",
      "epoch 0/4 \t valid : loss 0.48189 - spearmanr 0.36321\n"
     ]
    },
    {
     "name": "stderr",
     "output_type": "stream",
     "text": [
      "/home/robin/anaconda3/envs/GoogleQuest/lib/python3.7/site-packages/numpy/lib/function_base.py:2534: RuntimeWarning: invalid value encountered in true_divide\n",
      "  c /= stddev[:, None]\n",
      "/home/robin/anaconda3/envs/GoogleQuest/lib/python3.7/site-packages/numpy/lib/function_base.py:2535: RuntimeWarning: invalid value encountered in true_divide\n",
      "  c /= stddev[None, :]\n",
      "/home/robin/anaconda3/envs/GoogleQuest/lib/python3.7/site-packages/scipy/stats/_distn_infrastructure.py:901: RuntimeWarning: invalid value encountered in greater\n",
      "  return (a < x) & (x < b)\n",
      "/home/robin/anaconda3/envs/GoogleQuest/lib/python3.7/site-packages/scipy/stats/_distn_infrastructure.py:901: RuntimeWarning: invalid value encountered in less\n",
      "  return (a < x) & (x < b)\n",
      "/home/robin/anaconda3/envs/GoogleQuest/lib/python3.7/site-packages/scipy/stats/_distn_infrastructure.py:1892: RuntimeWarning: invalid value encountered in less_equal\n",
      "  cond2 = cond0 & (x <= _a)\n"
     ]
    },
    {
     "name": "stdout",
     "output_type": "stream",
     "text": [
      "best model: epoch 0 - 0.36321\n",
      "epoch 1: \t Start training...\n"
     ]
    },
    {
     "data": {
      "application/vnd.jupyter.widget-view+json": {
       "model_id": "d0d19cf34f08414fbbb26d1357b768fd",
       "version_major": 2,
       "version_minor": 0
      },
      "text/plain": [
       "HBox(children=(IntProgress(value=0, max=2736), HTML(value='')))"
      ]
     },
     "metadata": {},
     "output_type": "display_data"
    },
    {
     "name": "stdout",
     "output_type": "stream",
     "text": [
      "\n",
      "epoch 1/4 \t train : loss 0.4567 - spearmanr 0.39321\n",
      "epoch 1: \t Start validation...\n"
     ]
    },
    {
     "data": {
      "application/vnd.jupyter.widget-view+json": {
       "model_id": "c5bccaaaf9564bd792f003af488231aa",
       "version_major": 2,
       "version_minor": 0
      },
      "text/plain": [
       "HBox(children=(IntProgress(value=0, max=304), HTML(value='')))"
      ]
     },
     "metadata": {},
     "output_type": "display_data"
    },
    {
     "name": "stdout",
     "output_type": "stream",
     "text": [
      "\n",
      "epoch 1/4 \t valid : loss 0.45903 - spearmanr 0.40013\n",
      "best model: epoch 1 - 0.40013\n",
      "epoch 2: \t Start training...\n"
     ]
    },
    {
     "data": {
      "application/vnd.jupyter.widget-view+json": {
       "model_id": "937b7be042f843ec9a852e956a242501",
       "version_major": 2,
       "version_minor": 0
      },
      "text/plain": [
       "HBox(children=(IntProgress(value=0, max=2736), HTML(value='')))"
      ]
     },
     "metadata": {},
     "output_type": "display_data"
    },
    {
     "name": "stdout",
     "output_type": "stream",
     "text": [
      "\n",
      "epoch 2/4 \t train : loss 0.43254 - spearmanr 0.45934\n",
      "epoch 2: \t Start validation...\n"
     ]
    },
    {
     "data": {
      "application/vnd.jupyter.widget-view+json": {
       "model_id": "83c8fa390ba846bebb4314cdc84c28b8",
       "version_major": 2,
       "version_minor": 0
      },
      "text/plain": [
       "HBox(children=(IntProgress(value=0, max=304), HTML(value='')))"
      ]
     },
     "metadata": {},
     "output_type": "display_data"
    },
    {
     "name": "stdout",
     "output_type": "stream",
     "text": [
      "\n",
      "epoch 2/4 \t valid : loss 0.46066 - spearmanr 0.40158\n",
      "best model: epoch 2 - 0.40158\n",
      "epoch 3: \t Start training...\n"
     ]
    },
    {
     "data": {
      "application/vnd.jupyter.widget-view+json": {
       "model_id": "784497bc864c46f081e43ba7d33bdb72",
       "version_major": 2,
       "version_minor": 0
      },
      "text/plain": [
       "HBox(children=(IntProgress(value=0, max=2736), HTML(value='')))"
      ]
     },
     "metadata": {},
     "output_type": "display_data"
    },
    {
     "name": "stdout",
     "output_type": "stream",
     "text": [
      "\n",
      "epoch 3/4 \t train : loss 0.41398 - spearmanr 0.50575\n",
      "epoch 3: \t Start validation...\n"
     ]
    },
    {
     "data": {
      "application/vnd.jupyter.widget-view+json": {
       "model_id": "a5ff508a3fca4daa8ed3ed52beed7262",
       "version_major": 2,
       "version_minor": 0
      },
      "text/plain": [
       "HBox(children=(IntProgress(value=0, max=304), HTML(value='')))"
      ]
     },
     "metadata": {},
     "output_type": "display_data"
    },
    {
     "name": "stdout",
     "output_type": "stream",
     "text": [
      "\n",
      "epoch 3/4 \t valid : loss 0.46148 - spearmanr 0.401\n",
      "model not improved for 1 epochs\n",
      "TRAINING END: Best score achieved on epoch 2 - 0.40158\n",
      "Starting inference for model: checkpoints/siamese_bert_4_fold_3_best.pth\n"
     ]
    },
    {
     "data": {
      "application/vnd.jupyter.widget-view+json": {
       "model_id": "61d439a0fd004eed9782d5f38a8f0d59",
       "version_major": 2,
       "version_minor": 0
      },
      "text/plain": [
       "HBox(children=(IntProgress(value=0, max=304), HTML(value='')))"
      ]
     },
     "metadata": {},
     "output_type": "display_data"
    },
    {
     "name": "stdout",
     "output_type": "stream",
     "text": [
      "\n",
      "Starting inference for model: checkpoints/siamese_bert_4_fold_3_best.pth\n"
     ]
    },
    {
     "data": {
      "application/vnd.jupyter.widget-view+json": {
       "model_id": "52329c5f916748dd8d00a39728aebd73",
       "version_major": 2,
       "version_minor": 0
      },
      "text/plain": [
       "HBox(children=(IntProgress(value=0, max=238), HTML(value='')))"
      ]
     },
     "metadata": {},
     "output_type": "display_data"
    },
    {
     "name": "stdout",
     "output_type": "stream",
     "text": [
      "\n",
      "Fold 4 started at Tue Jan 14 20:17:28 2020\n",
      "epoch 0: \t Start training...\n"
     ]
    },
    {
     "data": {
      "application/vnd.jupyter.widget-view+json": {
       "model_id": "20bfd397e2a442328e03efb2a976103c",
       "version_major": 2,
       "version_minor": 0
      },
      "text/plain": [
       "HBox(children=(IntProgress(value=0, max=2736), HTML(value='')))"
      ]
     },
     "metadata": {},
     "output_type": "display_data"
    },
    {
     "name": "stdout",
     "output_type": "stream",
     "text": [
      "\n",
      "epoch 0/4 \t train : loss 0.51719 - spearmanr 0.22842\n",
      "epoch 0: \t Start validation...\n"
     ]
    },
    {
     "data": {
      "application/vnd.jupyter.widget-view+json": {
       "model_id": "0714317c258e4deba61e271ba359f84a",
       "version_major": 2,
       "version_minor": 0
      },
      "text/plain": [
       "HBox(children=(IntProgress(value=0, max=304), HTML(value='')))"
      ]
     },
     "metadata": {},
     "output_type": "display_data"
    },
    {
     "name": "stdout",
     "output_type": "stream",
     "text": [
      "\n",
      "epoch 0/4 \t valid : loss 0.47181 - spearmanr 0.37063\n",
      "best model: epoch 0 - 0.37063\n",
      "epoch 1: \t Start training...\n"
     ]
    },
    {
     "data": {
      "application/vnd.jupyter.widget-view+json": {
       "model_id": "3aa2e9e4ac9b49cc99e246d9507a98e8",
       "version_major": 2,
       "version_minor": 0
      },
      "text/plain": [
       "HBox(children=(IntProgress(value=0, max=2736), HTML(value='')))"
      ]
     },
     "metadata": {},
     "output_type": "display_data"
    },
    {
     "name": "stdout",
     "output_type": "stream",
     "text": [
      "\n",
      "epoch 1/4 \t train : loss 0.45579 - spearmanr 0.39803\n",
      "epoch 1: \t Start validation...\n"
     ]
    },
    {
     "data": {
      "application/vnd.jupyter.widget-view+json": {
       "model_id": "7477ecfbad3d494c85bdbe14e903e870",
       "version_major": 2,
       "version_minor": 0
      },
      "text/plain": [
       "HBox(children=(IntProgress(value=0, max=304), HTML(value='')))"
      ]
     },
     "metadata": {},
     "output_type": "display_data"
    },
    {
     "name": "stdout",
     "output_type": "stream",
     "text": [
      "\n",
      "epoch 1/4 \t valid : loss 0.45681 - spearmanr 0.39427\n",
      "best model: epoch 1 - 0.39427\n",
      "epoch 2: \t Start training...\n"
     ]
    },
    {
     "data": {
      "application/vnd.jupyter.widget-view+json": {
       "model_id": "363665fc2b7447ec85d3562079859cd2",
       "version_major": 2,
       "version_minor": 0
      },
      "text/plain": [
       "HBox(children=(IntProgress(value=0, max=2736), HTML(value='')))"
      ]
     },
     "metadata": {},
     "output_type": "display_data"
    },
    {
     "name": "stdout",
     "output_type": "stream",
     "text": [
      "\n",
      "epoch 2/4 \t train : loss 0.43207 - spearmanr 0.46066\n",
      "epoch 2: \t Start validation...\n"
     ]
    },
    {
     "data": {
      "application/vnd.jupyter.widget-view+json": {
       "model_id": "2453d47619384714b1abc6afc8425628",
       "version_major": 2,
       "version_minor": 0
      },
      "text/plain": [
       "HBox(children=(IntProgress(value=0, max=304), HTML(value='')))"
      ]
     },
     "metadata": {},
     "output_type": "display_data"
    },
    {
     "name": "stdout",
     "output_type": "stream",
     "text": [
      "\n",
      "epoch 2/4 \t valid : loss 0.45415 - spearmanr 0.39711\n",
      "best model: epoch 2 - 0.39711\n",
      "epoch 3: \t Start training...\n"
     ]
    },
    {
     "data": {
      "application/vnd.jupyter.widget-view+json": {
       "model_id": "e146705797c5490eb2a12ee0157bd476",
       "version_major": 2,
       "version_minor": 0
      },
      "text/plain": [
       "HBox(children=(IntProgress(value=0, max=2736), HTML(value='')))"
      ]
     },
     "metadata": {},
     "output_type": "display_data"
    },
    {
     "name": "stdout",
     "output_type": "stream",
     "text": [
      "\n",
      "epoch 3/4 \t train : loss 0.41322 - spearmanr 0.50925\n",
      "epoch 3: \t Start validation...\n"
     ]
    },
    {
     "data": {
      "application/vnd.jupyter.widget-view+json": {
       "model_id": "e9c795801bac433a810ce6a5f5cb55a5",
       "version_major": 2,
       "version_minor": 0
      },
      "text/plain": [
       "HBox(children=(IntProgress(value=0, max=304), HTML(value='')))"
      ]
     },
     "metadata": {},
     "output_type": "display_data"
    },
    {
     "name": "stdout",
     "output_type": "stream",
     "text": [
      "\n",
      "epoch 3/4 \t valid : loss 0.45681 - spearmanr 0.40049\n",
      "best model: epoch 3 - 0.40049\n",
      "TRAINING END: Best score achieved on epoch 3 - 0.40049\n",
      "Starting inference for model: checkpoints/siamese_bert_4_fold_4_best.pth\n"
     ]
    },
    {
     "data": {
      "application/vnd.jupyter.widget-view+json": {
       "model_id": "4b055553f4ff495e887e81fc8cc7858a",
       "version_major": 2,
       "version_minor": 0
      },
      "text/plain": [
       "HBox(children=(IntProgress(value=0, max=304), HTML(value='')))"
      ]
     },
     "metadata": {},
     "output_type": "display_data"
    },
    {
     "name": "stdout",
     "output_type": "stream",
     "text": [
      "\n",
      "Starting inference for model: checkpoints/siamese_bert_4_fold_4_best.pth\n"
     ]
    },
    {
     "data": {
      "application/vnd.jupyter.widget-view+json": {
       "model_id": "604f5835864847b2b4171662c27e2f3b",
       "version_major": 2,
       "version_minor": 0
      },
      "text/plain": [
       "HBox(children=(IntProgress(value=0, max=238), HTML(value='')))"
      ]
     },
     "metadata": {},
     "output_type": "display_data"
    },
    {
     "name": "stdout",
     "output_type": "stream",
     "text": [
      "\n",
      "Fold 5 started at Tue Jan 14 20:56:47 2020\n",
      "epoch 0: \t Start training...\n"
     ]
    },
    {
     "data": {
      "application/vnd.jupyter.widget-view+json": {
       "model_id": "c75cd334eb5b41809497fbe834adbb73",
       "version_major": 2,
       "version_minor": 0
      },
      "text/plain": [
       "HBox(children=(IntProgress(value=0, max=2736), HTML(value='')))"
      ]
     },
     "metadata": {},
     "output_type": "display_data"
    },
    {
     "name": "stdout",
     "output_type": "stream",
     "text": [
      "\n",
      "epoch 0/4 \t train : loss 0.51933 - spearmanr 0.22323\n",
      "epoch 0: \t Start validation...\n"
     ]
    },
    {
     "data": {
      "application/vnd.jupyter.widget-view+json": {
       "model_id": "aaa6627de94b41e681fe8e4a64afa7bd",
       "version_major": 2,
       "version_minor": 0
      },
      "text/plain": [
       "HBox(children=(IntProgress(value=0, max=304), HTML(value='')))"
      ]
     },
     "metadata": {},
     "output_type": "display_data"
    },
    {
     "name": "stdout",
     "output_type": "stream",
     "text": [
      "\n",
      "epoch 0/4 \t valid : loss 0.46657 - spearmanr 0.36802\n",
      "best model: epoch 0 - 0.36802\n",
      "epoch 1: \t Start training...\n"
     ]
    },
    {
     "data": {
      "application/vnd.jupyter.widget-view+json": {
       "model_id": "be43db45556c4bea807493d51b505f34",
       "version_major": 2,
       "version_minor": 0
      },
      "text/plain": [
       "HBox(children=(IntProgress(value=0, max=2736), HTML(value='')))"
      ]
     },
     "metadata": {},
     "output_type": "display_data"
    },
    {
     "name": "stdout",
     "output_type": "stream",
     "text": [
      "\n",
      "epoch 1/4 \t train : loss 0.45709 - spearmanr 0.39471\n",
      "epoch 1: \t Start validation...\n"
     ]
    },
    {
     "data": {
      "application/vnd.jupyter.widget-view+json": {
       "model_id": "38b44aa9ddc34b5aae741431c3a5d2e3",
       "version_major": 2,
       "version_minor": 0
      },
      "text/plain": [
       "HBox(children=(IntProgress(value=0, max=304), HTML(value='')))"
      ]
     },
     "metadata": {},
     "output_type": "display_data"
    },
    {
     "name": "stdout",
     "output_type": "stream",
     "text": [
      "\n",
      "epoch 1/4 \t valid : loss 0.45511 - spearmanr 0.39866\n",
      "best model: epoch 1 - 0.39866\n",
      "epoch 2: \t Start training...\n"
     ]
    },
    {
     "data": {
      "application/vnd.jupyter.widget-view+json": {
       "model_id": "4157feba6dcd40d6891c8b6dd3d6d45f",
       "version_major": 2,
       "version_minor": 0
      },
      "text/plain": [
       "HBox(children=(IntProgress(value=0, max=2736), HTML(value='')))"
      ]
     },
     "metadata": {},
     "output_type": "display_data"
    },
    {
     "name": "stdout",
     "output_type": "stream",
     "text": [
      "\n",
      "epoch 2/4 \t train : loss 0.433 - spearmanr 0.4606\n",
      "epoch 2: \t Start validation...\n"
     ]
    },
    {
     "data": {
      "application/vnd.jupyter.widget-view+json": {
       "model_id": "7042d9b6978144318e3edbf235bb0c20",
       "version_major": 2,
       "version_minor": 0
      },
      "text/plain": [
       "HBox(children=(IntProgress(value=0, max=304), HTML(value='')))"
      ]
     },
     "metadata": {},
     "output_type": "display_data"
    },
    {
     "name": "stdout",
     "output_type": "stream",
     "text": [
      "\n",
      "epoch 2/4 \t valid : loss 0.4483 - spearmanr 0.40796\n",
      "best model: epoch 2 - 0.40796\n",
      "epoch 3: \t Start training...\n"
     ]
    },
    {
     "data": {
      "application/vnd.jupyter.widget-view+json": {
       "model_id": "67c42a86b5a6468db99b6c3270dfd964",
       "version_major": 2,
       "version_minor": 0
      },
      "text/plain": [
       "HBox(children=(IntProgress(value=0, max=2736), HTML(value='')))"
      ]
     },
     "metadata": {},
     "output_type": "display_data"
    },
    {
     "name": "stdout",
     "output_type": "stream",
     "text": [
      "\n",
      "epoch 3/4 \t train : loss 0.4138 - spearmanr 0.50778\n",
      "epoch 3: \t Start validation...\n"
     ]
    },
    {
     "data": {
      "application/vnd.jupyter.widget-view+json": {
       "model_id": "24dbeb31ccdd4a6bad22239791d04a71",
       "version_major": 2,
       "version_minor": 0
      },
      "text/plain": [
       "HBox(children=(IntProgress(value=0, max=304), HTML(value='')))"
      ]
     },
     "metadata": {},
     "output_type": "display_data"
    },
    {
     "name": "stdout",
     "output_type": "stream",
     "text": [
      "\n",
      "epoch 3/4 \t valid : loss 0.45284 - spearmanr 0.40632\n",
      "model not improved for 1 epochs\n",
      "TRAINING END: Best score achieved on epoch 2 - 0.40796\n",
      "Starting inference for model: checkpoints/siamese_bert_4_fold_5_best.pth\n"
     ]
    },
    {
     "data": {
      "application/vnd.jupyter.widget-view+json": {
       "model_id": "9751139bbca643509f22e1341417ce93",
       "version_major": 2,
       "version_minor": 0
      },
      "text/plain": [
       "HBox(children=(IntProgress(value=0, max=304), HTML(value='')))"
      ]
     },
     "metadata": {},
     "output_type": "display_data"
    },
    {
     "name": "stdout",
     "output_type": "stream",
     "text": [
      "\n",
      "Starting inference for model: checkpoints/siamese_bert_4_fold_5_best.pth\n"
     ]
    },
    {
     "data": {
      "application/vnd.jupyter.widget-view+json": {
       "model_id": "1395dc9ad94944b4ac58626d30ec6812",
       "version_major": 2,
       "version_minor": 0
      },
      "text/plain": [
       "HBox(children=(IntProgress(value=0, max=238), HTML(value='')))"
      ]
     },
     "metadata": {},
     "output_type": "display_data"
    },
    {
     "name": "stdout",
     "output_type": "stream",
     "text": [
      "\n",
      "Fold 6 started at Tue Jan 14 21:36:39 2020\n",
      "epoch 0: \t Start training...\n"
     ]
    },
    {
     "data": {
      "application/vnd.jupyter.widget-view+json": {
       "model_id": "ffaa386437f5489db9828ef7b081d729",
       "version_major": 2,
       "version_minor": 0
      },
      "text/plain": [
       "HBox(children=(IntProgress(value=0, max=2736), HTML(value='')))"
      ]
     },
     "metadata": {},
     "output_type": "display_data"
    },
    {
     "name": "stdout",
     "output_type": "stream",
     "text": [
      "\n",
      "epoch 0/4 \t train : loss 0.51782 - spearmanr 0.22643\n",
      "epoch 0: \t Start validation...\n"
     ]
    },
    {
     "data": {
      "application/vnd.jupyter.widget-view+json": {
       "model_id": "a370d05b510c4f01a1387046a054fe14",
       "version_major": 2,
       "version_minor": 0
      },
      "text/plain": [
       "HBox(children=(IntProgress(value=0, max=304), HTML(value='')))"
      ]
     },
     "metadata": {},
     "output_type": "display_data"
    },
    {
     "name": "stdout",
     "output_type": "stream",
     "text": [
      "\n",
      "epoch 0/4 \t valid : loss 0.46492 - spearmanr 0.36503\n",
      "best model: epoch 0 - 0.36503\n",
      "epoch 1: \t Start training...\n"
     ]
    },
    {
     "data": {
      "application/vnd.jupyter.widget-view+json": {
       "model_id": "53009f7dd9dd4b39a3f240e1bf77bbb9",
       "version_major": 2,
       "version_minor": 0
      },
      "text/plain": [
       "HBox(children=(IntProgress(value=0, max=2736), HTML(value='')))"
      ]
     },
     "metadata": {},
     "output_type": "display_data"
    },
    {
     "name": "stdout",
     "output_type": "stream",
     "text": [
      "\n",
      "epoch 1/4 \t train : loss 0.45642 - spearmanr 0.39821\n",
      "epoch 1: \t Start validation...\n"
     ]
    },
    {
     "data": {
      "application/vnd.jupyter.widget-view+json": {
       "model_id": "f108e56c09834976808600dc0fcf2f98",
       "version_major": 2,
       "version_minor": 0
      },
      "text/plain": [
       "HBox(children=(IntProgress(value=0, max=304), HTML(value='')))"
      ]
     },
     "metadata": {},
     "output_type": "display_data"
    },
    {
     "name": "stdout",
     "output_type": "stream",
     "text": [
      "\n",
      "epoch 1/4 \t valid : loss 0.4517 - spearmanr 0.39354\n",
      "best model: epoch 1 - 0.39354\n",
      "epoch 2: \t Start training...\n"
     ]
    },
    {
     "data": {
      "application/vnd.jupyter.widget-view+json": {
       "model_id": "7d8fe627f35b49e99ff07779ef11fb66",
       "version_major": 2,
       "version_minor": 0
      },
      "text/plain": [
       "HBox(children=(IntProgress(value=0, max=2736), HTML(value='')))"
      ]
     },
     "metadata": {},
     "output_type": "display_data"
    },
    {
     "name": "stdout",
     "output_type": "stream",
     "text": [
      "\n",
      "epoch 2/4 \t train : loss 0.43317 - spearmanr 0.46011\n",
      "epoch 2: \t Start validation...\n"
     ]
    },
    {
     "data": {
      "application/vnd.jupyter.widget-view+json": {
       "model_id": "0863e6bef78e472db0fd93d9babc2191",
       "version_major": 2,
       "version_minor": 0
      },
      "text/plain": [
       "HBox(children=(IntProgress(value=0, max=304), HTML(value='')))"
      ]
     },
     "metadata": {},
     "output_type": "display_data"
    },
    {
     "name": "stdout",
     "output_type": "stream",
     "text": [
      "\n",
      "epoch 2/4 \t valid : loss 0.44879 - spearmanr 0.39847\n",
      "best model: epoch 2 - 0.39847\n",
      "epoch 3: \t Start training...\n"
     ]
    },
    {
     "data": {
      "application/vnd.jupyter.widget-view+json": {
       "model_id": "a0860e6cb8f1429abe784d54a6a1845b",
       "version_major": 2,
       "version_minor": 0
      },
      "text/plain": [
       "HBox(children=(IntProgress(value=0, max=2736), HTML(value='')))"
      ]
     },
     "metadata": {},
     "output_type": "display_data"
    },
    {
     "name": "stdout",
     "output_type": "stream",
     "text": [
      "\n",
      "epoch 3/4 \t train : loss 0.41411 - spearmanr 0.50771\n",
      "epoch 3: \t Start validation...\n"
     ]
    },
    {
     "data": {
      "application/vnd.jupyter.widget-view+json": {
       "model_id": "bc4312944f8447a993baca027d0ae218",
       "version_major": 2,
       "version_minor": 0
      },
      "text/plain": [
       "HBox(children=(IntProgress(value=0, max=304), HTML(value='')))"
      ]
     },
     "metadata": {},
     "output_type": "display_data"
    },
    {
     "name": "stdout",
     "output_type": "stream",
     "text": [
      "\n",
      "epoch 3/4 \t valid : loss 0.45174 - spearmanr 0.39836\n",
      "model not improved for 1 epochs\n",
      "TRAINING END: Best score achieved on epoch 2 - 0.39847\n",
      "Starting inference for model: checkpoints/siamese_bert_4_fold_6_best.pth\n"
     ]
    },
    {
     "data": {
      "application/vnd.jupyter.widget-view+json": {
       "model_id": "ee3b3827f9a449fb8f65e68db45ebd56",
       "version_major": 2,
       "version_minor": 0
      },
      "text/plain": [
       "HBox(children=(IntProgress(value=0, max=304), HTML(value='')))"
      ]
     },
     "metadata": {},
     "output_type": "display_data"
    },
    {
     "name": "stdout",
     "output_type": "stream",
     "text": [
      "\n",
      "Starting inference for model: checkpoints/siamese_bert_4_fold_6_best.pth\n"
     ]
    },
    {
     "data": {
      "application/vnd.jupyter.widget-view+json": {
       "model_id": "bfab1d1873c44262947b6e84298e407b",
       "version_major": 2,
       "version_minor": 0
      },
      "text/plain": [
       "HBox(children=(IntProgress(value=0, max=238), HTML(value='')))"
      ]
     },
     "metadata": {},
     "output_type": "display_data"
    },
    {
     "name": "stdout",
     "output_type": "stream",
     "text": [
      "\n",
      "Fold 7 started at Tue Jan 14 22:16:12 2020\n",
      "epoch 0: \t Start training...\n"
     ]
    },
    {
     "data": {
      "application/vnd.jupyter.widget-view+json": {
       "model_id": "b9df2eb765904b92860152117b5d0e60",
       "version_major": 2,
       "version_minor": 0
      },
      "text/plain": [
       "HBox(children=(IntProgress(value=0, max=2736), HTML(value='')))"
      ]
     },
     "metadata": {},
     "output_type": "display_data"
    },
    {
     "name": "stdout",
     "output_type": "stream",
     "text": [
      "\n",
      "epoch 0/4 \t train : loss 0.51731 - spearmanr 0.22648\n",
      "epoch 0: \t Start validation...\n"
     ]
    },
    {
     "data": {
      "application/vnd.jupyter.widget-view+json": {
       "model_id": "a8df0e939f4547e09700a0a0eed0c4a1",
       "version_major": 2,
       "version_minor": 0
      },
      "text/plain": [
       "HBox(children=(IntProgress(value=0, max=304), HTML(value='')))"
      ]
     },
     "metadata": {},
     "output_type": "display_data"
    },
    {
     "name": "stdout",
     "output_type": "stream",
     "text": [
      "\n",
      "epoch 0/4 \t valid : loss 0.47157 - spearmanr 0.37568\n",
      "best model: epoch 0 - 0.37568\n",
      "epoch 1: \t Start training...\n"
     ]
    },
    {
     "data": {
      "application/vnd.jupyter.widget-view+json": {
       "model_id": "be94fdaeb0a84836b3d36f1f17ba0a9d",
       "version_major": 2,
       "version_minor": 0
      },
      "text/plain": [
       "HBox(children=(IntProgress(value=0, max=2736), HTML(value='')))"
      ]
     },
     "metadata": {},
     "output_type": "display_data"
    },
    {
     "name": "stdout",
     "output_type": "stream",
     "text": [
      "\n",
      "epoch 1/4 \t train : loss 0.45598 - spearmanr 0.39615\n",
      "epoch 1: \t Start validation...\n"
     ]
    },
    {
     "data": {
      "application/vnd.jupyter.widget-view+json": {
       "model_id": "597e88c001f24401bec2bd893a07347d",
       "version_major": 2,
       "version_minor": 0
      },
      "text/plain": [
       "HBox(children=(IntProgress(value=0, max=304), HTML(value='')))"
      ]
     },
     "metadata": {},
     "output_type": "display_data"
    },
    {
     "name": "stdout",
     "output_type": "stream",
     "text": [
      "\n",
      "epoch 1/4 \t valid : loss 0.45934 - spearmanr 0.40884\n",
      "best model: epoch 1 - 0.40884\n",
      "epoch 2: \t Start training...\n"
     ]
    },
    {
     "data": {
      "application/vnd.jupyter.widget-view+json": {
       "model_id": "9dff473c85ec416b84ab19e6c2c5d696",
       "version_major": 2,
       "version_minor": 0
      },
      "text/plain": [
       "HBox(children=(IntProgress(value=0, max=2736), HTML(value='')))"
      ]
     },
     "metadata": {},
     "output_type": "display_data"
    },
    {
     "name": "stdout",
     "output_type": "stream",
     "text": [
      "\n",
      "epoch 2/4 \t train : loss 0.43244 - spearmanr 0.45873\n",
      "epoch 2: \t Start validation...\n"
     ]
    },
    {
     "data": {
      "application/vnd.jupyter.widget-view+json": {
       "model_id": "d68f9e8116a54ec9b7637729d8efeb10",
       "version_major": 2,
       "version_minor": 0
      },
      "text/plain": [
       "HBox(children=(IntProgress(value=0, max=304), HTML(value='')))"
      ]
     },
     "metadata": {},
     "output_type": "display_data"
    },
    {
     "name": "stdout",
     "output_type": "stream",
     "text": [
      "\n",
      "epoch 2/4 \t valid : loss 0.45601 - spearmanr 0.41422\n",
      "best model: epoch 2 - 0.41422\n",
      "epoch 3: \t Start training...\n"
     ]
    },
    {
     "data": {
      "application/vnd.jupyter.widget-view+json": {
       "model_id": "fd930350b00c4e28b3218310b03cb290",
       "version_major": 2,
       "version_minor": 0
      },
      "text/plain": [
       "HBox(children=(IntProgress(value=0, max=2736), HTML(value='')))"
      ]
     },
     "metadata": {},
     "output_type": "display_data"
    },
    {
     "name": "stdout",
     "output_type": "stream",
     "text": [
      "\n",
      "epoch 3/4 \t train : loss 0.41386 - spearmanr 0.50577\n",
      "epoch 3: \t Start validation...\n"
     ]
    },
    {
     "data": {
      "application/vnd.jupyter.widget-view+json": {
       "model_id": "db24fe9617bd46778dfac0df492bbe30",
       "version_major": 2,
       "version_minor": 0
      },
      "text/plain": [
       "HBox(children=(IntProgress(value=0, max=304), HTML(value='')))"
      ]
     },
     "metadata": {},
     "output_type": "display_data"
    },
    {
     "name": "stdout",
     "output_type": "stream",
     "text": [
      "\n",
      "epoch 3/4 \t valid : loss 0.45914 - spearmanr 0.41475\n",
      "best model: epoch 3 - 0.41475\n",
      "TRAINING END: Best score achieved on epoch 3 - 0.41475\n",
      "Starting inference for model: checkpoints/siamese_bert_4_fold_7_best.pth\n"
     ]
    },
    {
     "data": {
      "application/vnd.jupyter.widget-view+json": {
       "model_id": "63ab92a9ce92439b803f6ea45107c77f",
       "version_major": 2,
       "version_minor": 0
      },
      "text/plain": [
       "HBox(children=(IntProgress(value=0, max=304), HTML(value='')))"
      ]
     },
     "metadata": {},
     "output_type": "display_data"
    },
    {
     "name": "stdout",
     "output_type": "stream",
     "text": [
      "\n",
      "Starting inference for model: checkpoints/siamese_bert_4_fold_7_best.pth\n"
     ]
    },
    {
     "data": {
      "application/vnd.jupyter.widget-view+json": {
       "model_id": "a4d8dd4ee2fe45e78bb39cad5a2f5b6d",
       "version_major": 2,
       "version_minor": 0
      },
      "text/plain": [
       "HBox(children=(IntProgress(value=0, max=238), HTML(value='')))"
      ]
     },
     "metadata": {},
     "output_type": "display_data"
    },
    {
     "name": "stdout",
     "output_type": "stream",
     "text": [
      "\n",
      "Fold 8 started at Tue Jan 14 22:55:28 2020\n",
      "epoch 0: \t Start training...\n"
     ]
    },
    {
     "data": {
      "application/vnd.jupyter.widget-view+json": {
       "model_id": "4d02348bc0914f7e89e4f2e38b3151f6",
       "version_major": 2,
       "version_minor": 0
      },
      "text/plain": [
       "HBox(children=(IntProgress(value=0, max=2736), HTML(value='')))"
      ]
     },
     "metadata": {},
     "output_type": "display_data"
    },
    {
     "name": "stdout",
     "output_type": "stream",
     "text": [
      "\n",
      "epoch 0/4 \t train : loss 0.51723 - spearmanr 0.22672\n",
      "epoch 0: \t Start validation...\n"
     ]
    },
    {
     "data": {
      "application/vnd.jupyter.widget-view+json": {
       "model_id": "7c820cd4805f444f8ecd020f4d88e08a",
       "version_major": 2,
       "version_minor": 0
      },
      "text/plain": [
       "HBox(children=(IntProgress(value=0, max=304), HTML(value='')))"
      ]
     },
     "metadata": {},
     "output_type": "display_data"
    },
    {
     "name": "stdout",
     "output_type": "stream",
     "text": [
      "\n",
      "epoch 0/4 \t valid : loss 0.47208 - spearmanr 0.38816\n",
      "best model: epoch 0 - 0.38816\n",
      "epoch 1: \t Start training...\n"
     ]
    },
    {
     "data": {
      "application/vnd.jupyter.widget-view+json": {
       "model_id": "3c1f0c659be440bba606db0cec853c61",
       "version_major": 2,
       "version_minor": 0
      },
      "text/plain": [
       "HBox(children=(IntProgress(value=0, max=2736), HTML(value='')))"
      ]
     },
     "metadata": {},
     "output_type": "display_data"
    },
    {
     "name": "stdout",
     "output_type": "stream",
     "text": [
      "\n",
      "epoch 1/4 \t train : loss 0.45604 - spearmanr 0.39481\n",
      "epoch 1: \t Start validation...\n"
     ]
    },
    {
     "data": {
      "application/vnd.jupyter.widget-view+json": {
       "model_id": "bf1039f92d574b9a87d2e04e88e0e444",
       "version_major": 2,
       "version_minor": 0
      },
      "text/plain": [
       "HBox(children=(IntProgress(value=0, max=304), HTML(value='')))"
      ]
     },
     "metadata": {},
     "output_type": "display_data"
    },
    {
     "name": "stdout",
     "output_type": "stream",
     "text": [
      "\n",
      "epoch 1/4 \t valid : loss 0.4598 - spearmanr 0.40945\n",
      "best model: epoch 1 - 0.40945\n",
      "epoch 2: \t Start training...\n"
     ]
    },
    {
     "data": {
      "application/vnd.jupyter.widget-view+json": {
       "model_id": "b6706fe0b460488ab82fc0bd4bf69907",
       "version_major": 2,
       "version_minor": 0
      },
      "text/plain": [
       "HBox(children=(IntProgress(value=0, max=2736), HTML(value='')))"
      ]
     },
     "metadata": {},
     "output_type": "display_data"
    },
    {
     "name": "stdout",
     "output_type": "stream",
     "text": [
      "\n",
      "epoch 2/4 \t train : loss 0.43214 - spearmanr 0.45889\n",
      "epoch 2: \t Start validation...\n"
     ]
    },
    {
     "data": {
      "application/vnd.jupyter.widget-view+json": {
       "model_id": "e422224c51ad4e38a8fc4a4ed545cdb3",
       "version_major": 2,
       "version_minor": 0
      },
      "text/plain": [
       "HBox(children=(IntProgress(value=0, max=304), HTML(value='')))"
      ]
     },
     "metadata": {},
     "output_type": "display_data"
    },
    {
     "name": "stdout",
     "output_type": "stream",
     "text": [
      "\n",
      "epoch 2/4 \t valid : loss 0.4591 - spearmanr 0.41756\n",
      "best model: epoch 2 - 0.41756\n",
      "epoch 3: \t Start training...\n"
     ]
    },
    {
     "data": {
      "application/vnd.jupyter.widget-view+json": {
       "model_id": "463ae73a258e445da3dd02c3734d11fa",
       "version_major": 2,
       "version_minor": 0
      },
      "text/plain": [
       "HBox(children=(IntProgress(value=0, max=2736), HTML(value='')))"
      ]
     },
     "metadata": {},
     "output_type": "display_data"
    },
    {
     "name": "stdout",
     "output_type": "stream",
     "text": [
      "\n",
      "epoch 3/4 \t train : loss 0.41342 - spearmanr 0.50624\n",
      "epoch 3: \t Start validation...\n"
     ]
    },
    {
     "data": {
      "application/vnd.jupyter.widget-view+json": {
       "model_id": "42ef2378d8764dc3acd8a11858f0f4bd",
       "version_major": 2,
       "version_minor": 0
      },
      "text/plain": [
       "HBox(children=(IntProgress(value=0, max=304), HTML(value='')))"
      ]
     },
     "metadata": {},
     "output_type": "display_data"
    },
    {
     "name": "stdout",
     "output_type": "stream",
     "text": [
      "\n",
      "epoch 3/4 \t valid : loss 0.46303 - spearmanr 0.4179\n",
      "best model: epoch 3 - 0.4179\n",
      "TRAINING END: Best score achieved on epoch 3 - 0.41790\n",
      "Starting inference for model: checkpoints/siamese_bert_4_fold_8_best.pth\n"
     ]
    },
    {
     "data": {
      "application/vnd.jupyter.widget-view+json": {
       "model_id": "c3dbdd10e5af4ef884a1bf4b9597f106",
       "version_major": 2,
       "version_minor": 0
      },
      "text/plain": [
       "HBox(children=(IntProgress(value=0, max=304), HTML(value='')))"
      ]
     },
     "metadata": {},
     "output_type": "display_data"
    },
    {
     "name": "stdout",
     "output_type": "stream",
     "text": [
      "\n",
      "Starting inference for model: checkpoints/siamese_bert_4_fold_8_best.pth\n"
     ]
    },
    {
     "data": {
      "application/vnd.jupyter.widget-view+json": {
       "model_id": "fe393aa2ef674213b146a588b2295787",
       "version_major": 2,
       "version_minor": 0
      },
      "text/plain": [
       "HBox(children=(IntProgress(value=0, max=238), HTML(value='')))"
      ]
     },
     "metadata": {},
     "output_type": "display_data"
    },
    {
     "name": "stdout",
     "output_type": "stream",
     "text": [
      "\n",
      "Fold 9 started at Tue Jan 14 23:35:13 2020\n",
      "epoch 0: \t Start training...\n"
     ]
    },
    {
     "data": {
      "application/vnd.jupyter.widget-view+json": {
       "model_id": "a1c18e1d27a0446dac01075936a19464",
       "version_major": 2,
       "version_minor": 0
      },
      "text/plain": [
       "HBox(children=(IntProgress(value=0, max=2736), HTML(value='')))"
      ]
     },
     "metadata": {},
     "output_type": "display_data"
    },
    {
     "name": "stdout",
     "output_type": "stream",
     "text": [
      "\n",
      "epoch 0/4 \t train : loss 0.52029 - spearmanr 0.22209\n",
      "epoch 0: \t Start validation...\n"
     ]
    },
    {
     "data": {
      "application/vnd.jupyter.widget-view+json": {
       "model_id": "57c34edbe396455991eb1993b6d1791c",
       "version_major": 2,
       "version_minor": 0
      },
      "text/plain": [
       "HBox(children=(IntProgress(value=0, max=304), HTML(value='')))"
      ]
     },
     "metadata": {},
     "output_type": "display_data"
    },
    {
     "name": "stdout",
     "output_type": "stream",
     "text": [
      "\n",
      "epoch 0/4 \t valid : loss 0.47289 - spearmanr 0.36807\n",
      "best model: epoch 0 - 0.36807\n",
      "epoch 1: \t Start training...\n"
     ]
    },
    {
     "data": {
      "application/vnd.jupyter.widget-view+json": {
       "model_id": "b6979f0e50844f2092f179a4487bf415",
       "version_major": 2,
       "version_minor": 0
      },
      "text/plain": [
       "HBox(children=(IntProgress(value=0, max=2736), HTML(value='')))"
      ]
     },
     "metadata": {},
     "output_type": "display_data"
    },
    {
     "name": "stdout",
     "output_type": "stream",
     "text": [
      "\n",
      "epoch 1/4 \t train : loss 0.45668 - spearmanr 0.39547\n",
      "epoch 1: \t Start validation...\n"
     ]
    },
    {
     "data": {
      "application/vnd.jupyter.widget-view+json": {
       "model_id": "ad44f36ca5a847b5b05ce19cd680bafd",
       "version_major": 2,
       "version_minor": 0
      },
      "text/plain": [
       "HBox(children=(IntProgress(value=0, max=304), HTML(value='')))"
      ]
     },
     "metadata": {},
     "output_type": "display_data"
    },
    {
     "name": "stdout",
     "output_type": "stream",
     "text": [
      "\n",
      "epoch 1/4 \t valid : loss 0.4585 - spearmanr 0.39674\n",
      "best model: epoch 1 - 0.39674\n",
      "epoch 2: \t Start training...\n"
     ]
    },
    {
     "data": {
      "application/vnd.jupyter.widget-view+json": {
       "model_id": "74a4533c52ae45a1bb1999ccd4e408b7",
       "version_major": 2,
       "version_minor": 0
      },
      "text/plain": [
       "HBox(children=(IntProgress(value=0, max=2736), HTML(value='')))"
      ]
     },
     "metadata": {},
     "output_type": "display_data"
    },
    {
     "name": "stdout",
     "output_type": "stream",
     "text": [
      "\n",
      "epoch 2/4 \t train : loss 0.43285 - spearmanr 0.45863\n",
      "epoch 2: \t Start validation...\n"
     ]
    },
    {
     "data": {
      "application/vnd.jupyter.widget-view+json": {
       "model_id": "95754bb428a44761bb0e84faffb28cf9",
       "version_major": 2,
       "version_minor": 0
      },
      "text/plain": [
       "HBox(children=(IntProgress(value=0, max=304), HTML(value='')))"
      ]
     },
     "metadata": {},
     "output_type": "display_data"
    },
    {
     "name": "stdout",
     "output_type": "stream",
     "text": [
      "\n",
      "epoch 2/4 \t valid : loss 0.45408 - spearmanr 0.40264\n",
      "best model: epoch 2 - 0.40264\n",
      "epoch 3: \t Start training...\n"
     ]
    },
    {
     "data": {
      "application/vnd.jupyter.widget-view+json": {
       "model_id": "14a20fd6402545d1ac6c13dc69a025cc",
       "version_major": 2,
       "version_minor": 0
      },
      "text/plain": [
       "HBox(children=(IntProgress(value=0, max=2736), HTML(value='')))"
      ]
     },
     "metadata": {},
     "output_type": "display_data"
    },
    {
     "name": "stdout",
     "output_type": "stream",
     "text": [
      "\n",
      "epoch 3/4 \t train : loss 0.41407 - spearmanr 0.50652\n",
      "epoch 3: \t Start validation...\n"
     ]
    },
    {
     "data": {
      "application/vnd.jupyter.widget-view+json": {
       "model_id": "5c9a790413514d8d9d267e101e140634",
       "version_major": 2,
       "version_minor": 0
      },
      "text/plain": [
       "HBox(children=(IntProgress(value=0, max=304), HTML(value='')))"
      ]
     },
     "metadata": {},
     "output_type": "display_data"
    },
    {
     "name": "stdout",
     "output_type": "stream",
     "text": [
      "\n",
      "epoch 3/4 \t valid : loss 0.45653 - spearmanr 0.40444\n",
      "best model: epoch 3 - 0.40444\n",
      "TRAINING END: Best score achieved on epoch 3 - 0.40444\n",
      "Starting inference for model: checkpoints/siamese_bert_4_fold_9_best.pth\n"
     ]
    },
    {
     "data": {
      "application/vnd.jupyter.widget-view+json": {
       "model_id": "59c0d862e91c435bb64ec819b1e803d5",
       "version_major": 2,
       "version_minor": 0
      },
      "text/plain": [
       "HBox(children=(IntProgress(value=0, max=304), HTML(value='')))"
      ]
     },
     "metadata": {},
     "output_type": "display_data"
    },
    {
     "name": "stdout",
     "output_type": "stream",
     "text": [
      "\n",
      "Starting inference for model: checkpoints/siamese_bert_4_fold_9_best.pth\n"
     ]
    },
    {
     "data": {
      "application/vnd.jupyter.widget-view+json": {
       "model_id": "0856276eb0c641b8ad6ce0ac8c92f2dd",
       "version_major": 2,
       "version_minor": 0
      },
      "text/plain": [
       "HBox(children=(IntProgress(value=0, max=238), HTML(value='')))"
      ]
     },
     "metadata": {},
     "output_type": "display_data"
    },
    {
     "name": "stdout",
     "output_type": "stream",
     "text": [
      "\n",
      "Fold 10 started at Wed Jan 15 00:14:15 2020\n",
      "epoch 0: \t Start training...\n"
     ]
    },
    {
     "data": {
      "application/vnd.jupyter.widget-view+json": {
       "model_id": "089a2272a8cd4134939dcd2c16c63ba1",
       "version_major": 2,
       "version_minor": 0
      },
      "text/plain": [
       "HBox(children=(IntProgress(value=0, max=2736), HTML(value='')))"
      ]
     },
     "metadata": {},
     "output_type": "display_data"
    },
    {
     "name": "stdout",
     "output_type": "stream",
     "text": [
      "\n",
      "epoch 0/4 \t train : loss 0.51785 - spearmanr 0.22908\n",
      "epoch 0: \t Start validation...\n"
     ]
    },
    {
     "data": {
      "application/vnd.jupyter.widget-view+json": {
       "model_id": "36bd1d690aba44cab0eb71f4c117be58",
       "version_major": 2,
       "version_minor": 0
      },
      "text/plain": [
       "HBox(children=(IntProgress(value=0, max=304), HTML(value='')))"
      ]
     },
     "metadata": {},
     "output_type": "display_data"
    },
    {
     "name": "stdout",
     "output_type": "stream",
     "text": [
      "\n",
      "epoch 0/4 \t valid : loss 0.46405 - spearmanr 0.38393\n",
      "best model: epoch 0 - 0.38393\n",
      "epoch 1: \t Start training...\n"
     ]
    },
    {
     "data": {
      "application/vnd.jupyter.widget-view+json": {
       "model_id": "55bd3646168f4860aab7d7fccd8cebeb",
       "version_major": 2,
       "version_minor": 0
      },
      "text/plain": [
       "HBox(children=(IntProgress(value=0, max=2736), HTML(value='')))"
      ]
     },
     "metadata": {},
     "output_type": "display_data"
    },
    {
     "name": "stdout",
     "output_type": "stream",
     "text": [
      "\n",
      "epoch 1/4 \t train : loss 0.45695 - spearmanr 0.39431\n",
      "epoch 1: \t Start validation...\n"
     ]
    },
    {
     "data": {
      "application/vnd.jupyter.widget-view+json": {
       "model_id": "4d67039230ff4e949b0c78eb0eeed31a",
       "version_major": 2,
       "version_minor": 0
      },
      "text/plain": [
       "HBox(children=(IntProgress(value=0, max=304), HTML(value='')))"
      ]
     },
     "metadata": {},
     "output_type": "display_data"
    },
    {
     "name": "stdout",
     "output_type": "stream",
     "text": [
      "\n",
      "epoch 1/4 \t valid : loss 0.44652 - spearmanr 0.42483\n",
      "best model: epoch 1 - 0.42483\n",
      "epoch 2: \t Start training...\n"
     ]
    },
    {
     "data": {
      "application/vnd.jupyter.widget-view+json": {
       "model_id": "05d018a759024c66a84a18587bbac976",
       "version_major": 2,
       "version_minor": 0
      },
      "text/plain": [
       "HBox(children=(IntProgress(value=0, max=2736), HTML(value='')))"
      ]
     },
     "metadata": {},
     "output_type": "display_data"
    },
    {
     "name": "stdout",
     "output_type": "stream",
     "text": [
      "\n",
      "epoch 2/4 \t train : loss 0.43359 - spearmanr 0.45882\n",
      "epoch 2: \t Start validation...\n"
     ]
    },
    {
     "data": {
      "application/vnd.jupyter.widget-view+json": {
       "model_id": "09b23df698ff4f9880055ab52dbbf384",
       "version_major": 2,
       "version_minor": 0
      },
      "text/plain": [
       "HBox(children=(IntProgress(value=0, max=304), HTML(value='')))"
      ]
     },
     "metadata": {},
     "output_type": "display_data"
    },
    {
     "name": "stdout",
     "output_type": "stream",
     "text": [
      "\n",
      "epoch 2/4 \t valid : loss 0.44335 - spearmanr 0.42457\n",
      "model not improved for 1 epochs\n",
      "epoch 3: \t Start training...\n"
     ]
    },
    {
     "data": {
      "application/vnd.jupyter.widget-view+json": {
       "model_id": "9aa5148906854a4ba7b17a776933ae03",
       "version_major": 2,
       "version_minor": 0
      },
      "text/plain": [
       "HBox(children=(IntProgress(value=0, max=2736), HTML(value='')))"
      ]
     },
     "metadata": {},
     "output_type": "display_data"
    },
    {
     "name": "stdout",
     "output_type": "stream",
     "text": [
      "\n",
      "epoch 3/4 \t train : loss 0.41487 - spearmanr 0.50486\n",
      "epoch 3: \t Start validation...\n"
     ]
    },
    {
     "data": {
      "application/vnd.jupyter.widget-view+json": {
       "model_id": "1969243461d54d599ae3e15d07796cad",
       "version_major": 2,
       "version_minor": 0
      },
      "text/plain": [
       "HBox(children=(IntProgress(value=0, max=304), HTML(value='')))"
      ]
     },
     "metadata": {},
     "output_type": "display_data"
    },
    {
     "name": "stdout",
     "output_type": "stream",
     "text": [
      "\n",
      "epoch 3/4 \t valid : loss 0.4456 - spearmanr 0.424\n",
      "model not improved for 2 epochs\n",
      "TRAINING END: Best score achieved on epoch 1 - 0.42483\n",
      "Starting inference for model: checkpoints/siamese_bert_4_fold_10_best.pth\n"
     ]
    },
    {
     "data": {
      "application/vnd.jupyter.widget-view+json": {
       "model_id": "b03c97f62d8f44e18adedee7cd810115",
       "version_major": 2,
       "version_minor": 0
      },
      "text/plain": [
       "HBox(children=(IntProgress(value=0, max=304), HTML(value='')))"
      ]
     },
     "metadata": {},
     "output_type": "display_data"
    },
    {
     "name": "stdout",
     "output_type": "stream",
     "text": [
      "\n",
      "Starting inference for model: checkpoints/siamese_bert_4_fold_10_best.pth\n"
     ]
    },
    {
     "data": {
      "application/vnd.jupyter.widget-view+json": {
       "model_id": "e4f413c638b447258a411006853b5843",
       "version_major": 2,
       "version_minor": 0
      },
      "text/plain": [
       "HBox(children=(IntProgress(value=0, max=238), HTML(value='')))"
      ]
     },
     "metadata": {},
     "output_type": "display_data"
    },
    {
     "name": "stdout",
     "output_type": "stream",
     "text": [
      "\n",
      "OOF score: 0.40970285689031116\n"
     ]
    }
   ],
   "source": [
    "init_seed()\n",
    "folds = GroupKFold(n_splits=n_folds).split(X=train['question_body'], groups=train['question_body'])\n",
    "oofs = np.zeros((len(train), N_TARGETS))\n",
    "preds = np.zeros((len(test), N_TARGETS))\n",
    "\n",
    "for fold_id, (train_index, valid_index) in enumerate(folds):\n",
    "    print(f'Fold {fold_id + 1} started at {time.ctime()}')\n",
    "    train_loader = DataLoader(\n",
    "        TextDataset(cat_features_train, ids_train['question'], ids_train['answer'],\n",
    "                    seg_ids_train['question'], seg_ids_train['answer'], train_index, targets=y), \n",
    "        batch_size=bs, shuffle=True, num_workers=num_workers, drop_last=False\n",
    "    )\n",
    "    valid_loader = DataLoader(\n",
    "        TextDataset(cat_features_train, ids_train['question'], ids_train['answer'],\n",
    "                    seg_ids_train['question'], seg_ids_train['answer'], valid_index, targets=y), \n",
    "        batch_size=bs, shuffle=False, num_workers=num_workers, drop_last=False\n",
    "    )\n",
    "    model = CustomBert3(256, cat_features_train.shape[1])\n",
    "    \n",
    "    if fold_id == 0:\n",
    "        # print(model)\n",
    "        model = model.to(device)\n",
    "        optimizer = get_optimizer(model, lr, weight_decay)\n",
    "        lr_finder = LRFinder(n_iter=min(grad_accum*100, len(train_loader)), start_lr=1e-5, \n",
    "                             end_lr=1, device=device, grad_accum=grad_accum, divergence_factor=5)\n",
    "        lr_finder.find_lr(model, optimizer, train_loader, loss_fn)\n",
    "        plt.show()\n",
    "    \n",
    "    optimizer = get_optimizer(model, lr, weight_decay)\n",
    "    scheduler = OneCycleLR(optimizer, n_epochs=n_epochs, n_batches=len(train_loader))\n",
    "\n",
    "    learner = Learner(\n",
    "        model, \n",
    "        optimizer, \n",
    "        train_loader, \n",
    "        valid_loader, \n",
    "        loss_fn, \n",
    "        device, \n",
    "        n_epochs, \n",
    "        f'{model_name}_fold_{fold_id + 1}', \n",
    "        checkpoint_dir, \n",
    "        scheduler=scheduler, \n",
    "        metric_fns={'spearmanr': (spearmanr_torch, 'epoch_end')}, \n",
    "        monitor_metric='spearmanr',\n",
    "        minimize_score=False, \n",
    "        logger=None,\n",
    "        grad_accum=grad_accum,\n",
    "        early_stopping=early_stopping, \n",
    "        batch_step_scheduler=True\n",
    "    )\n",
    "    if (fold_id + 1) > 0: learner.train()\n",
    "    \n",
    "    oofs[valid_index] = infer(learner.model, valid_loader, learner.best_checkpoint_file, device)\n",
    "    \n",
    "    test_preds = infer(learner.model, test_loader, learner.best_checkpoint_file, device)\n",
    "    preds += test_preds / n_folds\n",
    "    \n",
    "    del learner, model, train_loader, valid_loader\n",
    "    gc.collect()\n",
    "    \n",
    "print(f'OOF score: {spearmanr_np(oofs, y)}')\n",
    "#KFold 5: distilbert: 0.4160\n",
    "#GKFold 5: distilbert: ~0.4005, ~0.4130, distilbert eda: ~0.4000, ~0.4200 (unsure), bert siamese: 0.4040, 0.4188\n",
    "    # smoothing y dist -> ~0.005 CV improve\n",
    "#GKFold 10: distilbert: 0.4012, ~0.4195, bert siamese with smoothing (1): 0.4059, 0.4206, 0.4275, 0.4449\n",
    "    #bert siamese with token_type_ids (2): 0.4091. 0.4236. 0.4317, 0.4507\n",
    "    #bert siamese for 3 epochs (3): 0.4121. 0.4273. 0.4347, 0.4497\n",
    "#MLFold 5: bert siamese: 0.4118, 0.4355, 04373"
   ]
  },
  {
   "cell_type": "code",
   "execution_count": 13,
   "metadata": {},
   "outputs": [],
   "source": [
    "def my_round(x, num, dec=2):\n",
    "    return np.round(x / num, dec) * num\n",
    "\n",
    "def round_preds(preds, thres=0.0, low_dec=1, low_num=1, high_dec=2, high_num=3):\n",
    "    low_idx = preds < thres\n",
    "    new_preds = np.zeros_like(preds)\n",
    "    new_preds[low_idx] = my_round(preds[low_idx], low_num, low_dec)\n",
    "    new_preds[~low_idx] = my_round(preds[~low_idx], high_num, high_dec)\n",
    "    return new_preds\n",
    "\n",
    "def scale(x, d):\n",
    "    if d: return (x//(1/d))/d\n",
    "    else: return x\n",
    "\n",
    "def ahmet_round(preds, ds, indices):\n",
    "    new_preds = preds.copy()\n",
    "    for idx, d in zip(indices, ds):\n",
    "        new_preds[:,idx] = scale(preds[:,idx], d)\n",
    "    return new_preds"
   ]
  },
  {
   "cell_type": "code",
   "execution_count": 14,
   "metadata": {
    "scrolled": true
   },
   "outputs": [
    {
     "name": "stdout",
     "output_type": "stream",
     "text": [
      "0 5 0.3472315542183132\n",
      "0 10 0.37454667889902826\n",
      "0 15 0.3769718074710197\n",
      "0 20 0.3788017031582827\n",
      "0 33 0.38051321904938523\n",
      "0 None 0.3808501274181663\n",
      "1 5 0.6468460438126423\n",
      "1 10 0.6570718191809423\n",
      "1 15 0.6575396596693883\n",
      "1 20 0.6590495264086262\n",
      "1 33 0.6593919459100619\n",
      "1 None 0.6599293631911697\n",
      "2 5 0.4820291445304191\n",
      "3 5 0.2876687227522288\n",
      "3 10 0.30522166844432624\n",
      "3 15 0.3068152696691316\n",
      "3 20 0.3077153760341711\n",
      "3 33 0.3107929785524903\n",
      "4 5 0.3460156927742489\n",
      "4 10 0.34903659678491283\n",
      "4 15 0.3499595435281085\n",
      "4 33 0.3506691728427852\n",
      "4 None 0.3509446958625731\n",
      "5 5 0.4502175639724634\n",
      "6 5 0.3307859775816452\n",
      "6 10 0.35244979019305345\n",
      "6 15 0.3591196083458648\n",
      "7 5 0.5019177596534042\n",
      "7 10 0.5105994448648933\n",
      "8 5 0.5751885021588062\n",
      "8 10 0.5763256163926463\n",
      "9 10 0.0669897961844408\n",
      "9 20 0.13039964000791623\n",
      "10 5 0.45237103240382825\n",
      "10 10 0.4615673552149848\n",
      "10 15 0.4617138550248038\n",
      "10 20 0.46357985144096653\n",
      "11 5 0.7512457678740239\n",
      "11 10 0.7526327438335784\n",
      "12 5 0.5116237097960404\n",
      "13 5 0.1420761857240988\n",
      "13 10 0.23595211139080188\n",
      "14 5 0.6008167622597\n",
      "14 10 0.6010971722012607\n",
      "15 5 0.5744816409063128\n",
      "16 5 0.7811211901145204\n",
      "16 10 0.7812327596557482\n",
      "16 15 0.7831816252711882\n",
      "17 5 0.34179681975168813\n",
      "17 10 0.3579265680022674\n",
      "17 20 0.36087082727792275\n",
      "18 5 0.6564140615428857\n",
      "18 10 0.6645512952554348\n",
      "18 15 0.666436104420728\n",
      "18 20 0.66710131106734\n",
      "18 33 0.6675560239497569\n",
      "18 None 0.6679844362742522\n",
      "19 20 0.24930112793268394\n",
      "19 33 0.346163403300619\n",
      "20 5 0.5085834699763288\n",
      "20 10 0.5174468189867916\n",
      "20 15 0.5210748844574986\n",
      "20 20 0.5227549340702318\n",
      "20 None 0.5231831163127549\n",
      "21 5 0.2242790451837147\n",
      "21 10 0.23439416339491756\n",
      "21 15 0.23478816421089488\n",
      "21 20 0.23780436971174523\n",
      "22 5 0.41519333671965897\n",
      "22 10 0.4328743083492356\n",
      "22 15 0.43874693613647203\n",
      "22 33 0.4398907278869751\n",
      "22 None 0.44148386181306704\n",
      "23 5 0.11968248454921135\n",
      "23 10 0.13238574701946285\n",
      "23 15 0.13482884143494478\n",
      "23 20 0.13871273853975075\n",
      "23 None 0.13924164265502897\n",
      "24 5 0.15815149583268887\n",
      "24 10 0.16355318947460834\n",
      "24 15 0.17842398012230026\n",
      "25 5 0.3085535955764324\n",
      "25 10 0.32365594363389316\n",
      "25 15 0.32746866405338954\n",
      "25 33 0.3297832718497159\n",
      "26 5 0.7550649953306459\n",
      "26 10 0.7598874989405157\n",
      "26 15 0.7611272708317429\n",
      "26 20 0.761209725080515\n",
      "27 5 0.2623087549304701\n",
      "27 10 0.29402991585892363\n",
      "27 15 0.2970418754196886\n",
      "27 20 0.2991963694009269\n",
      "27 33 0.2998959429130459\n",
      "27 None 0.3027352436716603\n",
      "28 5 0.6596004588018557\n",
      "28 10 0.6699427850460483\n",
      "28 15 0.6720525235823291\n",
      "28 20 0.6722834111951629\n",
      "28 33 0.6732565934468011\n",
      "28 None 0.673462379102511\n",
      "29 5 0.2026983431942157\n",
      "29 10 0.21298515154131029\n",
      "29 15 0.21443650593735852\n",
      "29 20 0.21903216006953694\n"
     ]
    }
   ],
   "source": [
    "from scipy.stats import spearmanr\n",
    "opt_ds = []\n",
    "opt_indices = []\n",
    "for idx in range(N_TARGETS):\n",
    "    opt_score = 0\n",
    "    opt_d = None\n",
    "    for d in [5, 10, 15, 20, 33, None]:\n",
    "        score = spearmanr(scale(oofs[:,idx], d), y[:,idx])[0]\n",
    "        if score > opt_score:\n",
    "            opt_score = score\n",
    "            opt_d = d\n",
    "            print(idx, d, score)\n",
    "    if opt_d:\n",
    "        opt_ds.append(opt_d)\n",
    "        opt_indices.append(idx)"
   ]
  },
  {
   "cell_type": "code",
   "execution_count": 15,
   "metadata": {},
   "outputs": [
    {
     "data": {
      "text/plain": [
       "([5,\n",
       "  33,\n",
       "  5,\n",
       "  15,\n",
       "  10,\n",
       "  10,\n",
       "  20,\n",
       "  20,\n",
       "  10,\n",
       "  5,\n",
       "  10,\n",
       "  10,\n",
       "  5,\n",
       "  15,\n",
       "  20,\n",
       "  33,\n",
       "  20,\n",
       "  15,\n",
       "  33,\n",
       "  20,\n",
       "  20],\n",
       " [2, 3, 5, 6, 7, 8, 9, 10, 11, 12, 13, 14, 15, 16, 17, 19, 21, 24, 25, 26, 29])"
      ]
     },
     "execution_count": 15,
     "metadata": {},
     "output_type": "execute_result"
    }
   ],
   "source": [
    "opt_ds, opt_indices"
   ]
  },
  {
   "cell_type": "code",
   "execution_count": 16,
   "metadata": {},
   "outputs": [
    {
     "data": {
      "text/plain": [
       "0.44383784850734603"
      ]
     },
     "execution_count": 16,
     "metadata": {},
     "output_type": "execute_result"
    }
   ],
   "source": [
    "spearmanr_np(ahmet_round(oofs, opt_ds, opt_indices), y)"
   ]
  },
  {
   "cell_type": "code",
   "execution_count": 17,
   "metadata": {
    "scrolled": false
   },
   "outputs": [
    {
     "data": {
      "text/plain": [
       "0.44383784850734603"
      ]
     },
     "execution_count": 17,
     "metadata": {},
     "output_type": "execute_result"
    }
   ],
   "source": [
    "oofs_alt = oofs.copy()\n",
    "train[\"eng\"] = train[\"url\"].apply(lambda x: x.startswith(\"http://english.\") or x.startswith(\"http://ell.\"))\n",
    "oofs_alt[np.where((~train[\"eng\"]).values)[0], 19] = 0\n",
    "spearmanr_np(ahmet_round(oofs_alt, opt_ds, opt_indices), y)"
   ]
  },
  {
   "cell_type": "code",
   "execution_count": 18,
   "metadata": {
    "scrolled": false
   },
   "outputs": [
    {
     "data": {
      "text/plain": [
       "0.40970285689031116"
      ]
     },
     "execution_count": 18,
     "metadata": {},
     "output_type": "execute_result"
    }
   ],
   "source": [
    "spearmanr_np(oofs, y)"
   ]
  },
  {
   "cell_type": "code",
   "execution_count": 19,
   "metadata": {
    "scrolled": false
   },
   "outputs": [
    {
     "data": {
      "text/plain": [
       "0.4246026823688233"
      ]
     },
     "execution_count": 19,
     "metadata": {},
     "output_type": "execute_result"
    }
   ],
   "source": [
    "spearmanr_np(round_preds(oofs, high_num=3), y)"
   ]
  },
  {
   "cell_type": "code",
   "execution_count": 20,
   "metadata": {},
   "outputs": [],
   "source": [
    "# clipping is necessary or we will get an error\n",
    "sample_submission.loc[:, 'question_asker_intent_understanding':] = np.clip(preds, 0.00001, 0.999999)\n",
    "sample_submission.to_csv('subs/submission.csv', index=False)"
   ]
  },
  {
   "cell_type": "code",
   "execution_count": 21,
   "metadata": {
    "scrolled": false
   },
   "outputs": [
    {
     "data": {
      "text/html": [
       "<div>\n",
       "<style scoped>\n",
       "    .dataframe tbody tr th:only-of-type {\n",
       "        vertical-align: middle;\n",
       "    }\n",
       "\n",
       "    .dataframe tbody tr th {\n",
       "        vertical-align: top;\n",
       "    }\n",
       "\n",
       "    .dataframe thead th {\n",
       "        text-align: right;\n",
       "    }\n",
       "</style>\n",
       "<table border=\"1\" class=\"dataframe\">\n",
       "  <thead>\n",
       "    <tr style=\"text-align: right;\">\n",
       "      <th></th>\n",
       "      <th>qa_id</th>\n",
       "      <th>question_asker_intent_understanding</th>\n",
       "      <th>question_body_critical</th>\n",
       "      <th>question_conversational</th>\n",
       "      <th>question_expect_short_answer</th>\n",
       "      <th>question_fact_seeking</th>\n",
       "      <th>question_has_commonly_accepted_answer</th>\n",
       "      <th>question_interestingness_others</th>\n",
       "      <th>question_interestingness_self</th>\n",
       "      <th>question_multi_intent</th>\n",
       "      <th>question_not_really_a_question</th>\n",
       "      <th>question_opinion_seeking</th>\n",
       "      <th>question_type_choice</th>\n",
       "      <th>question_type_compare</th>\n",
       "      <th>question_type_consequence</th>\n",
       "      <th>question_type_definition</th>\n",
       "      <th>question_type_entity</th>\n",
       "      <th>question_type_instructions</th>\n",
       "      <th>question_type_procedure</th>\n",
       "      <th>question_type_reason_explanation</th>\n",
       "      <th>question_type_spelling</th>\n",
       "      <th>question_well_written</th>\n",
       "      <th>answer_helpful</th>\n",
       "      <th>answer_level_of_information</th>\n",
       "      <th>answer_plausible</th>\n",
       "      <th>answer_relevance</th>\n",
       "      <th>answer_satisfaction</th>\n",
       "      <th>answer_type_instructions</th>\n",
       "      <th>answer_type_procedure</th>\n",
       "      <th>answer_type_reason_explanation</th>\n",
       "      <th>answer_well_written</th>\n",
       "    </tr>\n",
       "  </thead>\n",
       "  <tbody>\n",
       "    <tr>\n",
       "      <th>0</th>\n",
       "      <td>39</td>\n",
       "      <td>0.841377</td>\n",
       "      <td>0.774595</td>\n",
       "      <td>0.421821</td>\n",
       "      <td>0.551116</td>\n",
       "      <td>0.549339</td>\n",
       "      <td>0.455888</td>\n",
       "      <td>0.684610</td>\n",
       "      <td>0.649643</td>\n",
       "      <td>0.549969</td>\n",
       "      <td>0.004707</td>\n",
       "      <td>0.663295</td>\n",
       "      <td>0.759831</td>\n",
       "      <td>0.019720</td>\n",
       "      <td>0.266340</td>\n",
       "      <td>0.007576</td>\n",
       "      <td>0.016067</td>\n",
       "      <td>0.063063</td>\n",
       "      <td>0.128931</td>\n",
       "      <td>0.775320</td>\n",
       "      <td>0.000943</td>\n",
       "      <td>0.861045</td>\n",
       "      <td>0.492832</td>\n",
       "      <td>0.179563</td>\n",
       "      <td>0.624791</td>\n",
       "      <td>0.621560</td>\n",
       "      <td>0.279879</td>\n",
       "      <td>0.039975</td>\n",
       "      <td>0.051805</td>\n",
       "      <td>0.632225</td>\n",
       "      <td>0.542765</td>\n",
       "    </tr>\n",
       "    <tr>\n",
       "      <th>1</th>\n",
       "      <td>46</td>\n",
       "      <td>0.572401</td>\n",
       "      <td>0.583952</td>\n",
       "      <td>0.023278</td>\n",
       "      <td>0.750275</td>\n",
       "      <td>0.610440</td>\n",
       "      <td>0.851316</td>\n",
       "      <td>0.442173</td>\n",
       "      <td>0.371286</td>\n",
       "      <td>0.028256</td>\n",
       "      <td>0.028275</td>\n",
       "      <td>0.460692</td>\n",
       "      <td>0.130718</td>\n",
       "      <td>0.005650</td>\n",
       "      <td>0.001292</td>\n",
       "      <td>0.001272</td>\n",
       "      <td>0.016927</td>\n",
       "      <td>0.862188</td>\n",
       "      <td>0.284219</td>\n",
       "      <td>0.071599</td>\n",
       "      <td>0.000366</td>\n",
       "      <td>0.319003</td>\n",
       "      <td>0.781829</td>\n",
       "      <td>0.519573</td>\n",
       "      <td>0.871876</td>\n",
       "      <td>0.929328</td>\n",
       "      <td>0.679396</td>\n",
       "      <td>0.938628</td>\n",
       "      <td>0.180299</td>\n",
       "      <td>0.028508</td>\n",
       "      <td>0.564435</td>\n",
       "    </tr>\n",
       "    <tr>\n",
       "      <th>2</th>\n",
       "      <td>70</td>\n",
       "      <td>0.710644</td>\n",
       "      <td>0.633529</td>\n",
       "      <td>0.056078</td>\n",
       "      <td>0.682442</td>\n",
       "      <td>0.764300</td>\n",
       "      <td>0.907898</td>\n",
       "      <td>0.516741</td>\n",
       "      <td>0.383972</td>\n",
       "      <td>0.268676</td>\n",
       "      <td>0.009110</td>\n",
       "      <td>0.347002</td>\n",
       "      <td>0.729696</td>\n",
       "      <td>0.024448</td>\n",
       "      <td>0.049734</td>\n",
       "      <td>0.003647</td>\n",
       "      <td>0.011371</td>\n",
       "      <td>0.261478</td>\n",
       "      <td>0.145619</td>\n",
       "      <td>0.605673</td>\n",
       "      <td>0.001714</td>\n",
       "      <td>0.665872</td>\n",
       "      <td>0.598398</td>\n",
       "      <td>0.282248</td>\n",
       "      <td>0.770726</td>\n",
       "      <td>0.761685</td>\n",
       "      <td>0.434814</td>\n",
       "      <td>0.103060</td>\n",
       "      <td>0.067395</td>\n",
       "      <td>0.659764</td>\n",
       "      <td>0.551531</td>\n",
       "    </tr>\n",
       "    <tr>\n",
       "      <th>3</th>\n",
       "      <td>132</td>\n",
       "      <td>0.598985</td>\n",
       "      <td>0.359490</td>\n",
       "      <td>0.017432</td>\n",
       "      <td>0.638701</td>\n",
       "      <td>0.604152</td>\n",
       "      <td>0.853846</td>\n",
       "      <td>0.388690</td>\n",
       "      <td>0.254752</td>\n",
       "      <td>0.158485</td>\n",
       "      <td>0.018046</td>\n",
       "      <td>0.596075</td>\n",
       "      <td>0.203899</td>\n",
       "      <td>0.007002</td>\n",
       "      <td>0.004939</td>\n",
       "      <td>0.001568</td>\n",
       "      <td>0.006732</td>\n",
       "      <td>0.825454</td>\n",
       "      <td>0.332570</td>\n",
       "      <td>0.407858</td>\n",
       "      <td>0.000485</td>\n",
       "      <td>0.429535</td>\n",
       "      <td>0.780783</td>\n",
       "      <td>0.584229</td>\n",
       "      <td>0.861172</td>\n",
       "      <td>0.899945</td>\n",
       "      <td>0.641682</td>\n",
       "      <td>0.853991</td>\n",
       "      <td>0.329403</td>\n",
       "      <td>0.480208</td>\n",
       "      <td>0.607655</td>\n",
       "    </tr>\n",
       "    <tr>\n",
       "      <th>4</th>\n",
       "      <td>200</td>\n",
       "      <td>0.805064</td>\n",
       "      <td>0.498612</td>\n",
       "      <td>0.085642</td>\n",
       "      <td>0.839243</td>\n",
       "      <td>0.669204</td>\n",
       "      <td>0.835188</td>\n",
       "      <td>0.669601</td>\n",
       "      <td>0.688064</td>\n",
       "      <td>0.112819</td>\n",
       "      <td>0.040299</td>\n",
       "      <td>0.382614</td>\n",
       "      <td>0.449269</td>\n",
       "      <td>0.013794</td>\n",
       "      <td>0.025779</td>\n",
       "      <td>0.014011</td>\n",
       "      <td>0.078133</td>\n",
       "      <td>0.175275</td>\n",
       "      <td>0.171887</td>\n",
       "      <td>0.537200</td>\n",
       "      <td>0.005944</td>\n",
       "      <td>0.455189</td>\n",
       "      <td>0.685777</td>\n",
       "      <td>0.498278</td>\n",
       "      <td>0.823123</td>\n",
       "      <td>0.829403</td>\n",
       "      <td>0.592172</td>\n",
       "      <td>0.206154</td>\n",
       "      <td>0.188033</td>\n",
       "      <td>0.624895</td>\n",
       "      <td>0.546277</td>\n",
       "    </tr>\n",
       "  </tbody>\n",
       "</table>\n",
       "</div>"
      ],
      "text/plain": [
       "   qa_id  question_asker_intent_understanding  question_body_critical  \\\n",
       "0     39                             0.841377                0.774595   \n",
       "1     46                             0.572401                0.583952   \n",
       "2     70                             0.710644                0.633529   \n",
       "3    132                             0.598985                0.359490   \n",
       "4    200                             0.805064                0.498612   \n",
       "\n",
       "   question_conversational  question_expect_short_answer  \\\n",
       "0                 0.421821                      0.551116   \n",
       "1                 0.023278                      0.750275   \n",
       "2                 0.056078                      0.682442   \n",
       "3                 0.017432                      0.638701   \n",
       "4                 0.085642                      0.839243   \n",
       "\n",
       "   question_fact_seeking  question_has_commonly_accepted_answer  \\\n",
       "0               0.549339                               0.455888   \n",
       "1               0.610440                               0.851316   \n",
       "2               0.764300                               0.907898   \n",
       "3               0.604152                               0.853846   \n",
       "4               0.669204                               0.835188   \n",
       "\n",
       "   question_interestingness_others  question_interestingness_self  \\\n",
       "0                         0.684610                       0.649643   \n",
       "1                         0.442173                       0.371286   \n",
       "2                         0.516741                       0.383972   \n",
       "3                         0.388690                       0.254752   \n",
       "4                         0.669601                       0.688064   \n",
       "\n",
       "   question_multi_intent  question_not_really_a_question  \\\n",
       "0               0.549969                        0.004707   \n",
       "1               0.028256                        0.028275   \n",
       "2               0.268676                        0.009110   \n",
       "3               0.158485                        0.018046   \n",
       "4               0.112819                        0.040299   \n",
       "\n",
       "   question_opinion_seeking  question_type_choice  question_type_compare  \\\n",
       "0                  0.663295              0.759831               0.019720   \n",
       "1                  0.460692              0.130718               0.005650   \n",
       "2                  0.347002              0.729696               0.024448   \n",
       "3                  0.596075              0.203899               0.007002   \n",
       "4                  0.382614              0.449269               0.013794   \n",
       "\n",
       "   question_type_consequence  question_type_definition  question_type_entity  \\\n",
       "0                   0.266340                  0.007576              0.016067   \n",
       "1                   0.001292                  0.001272              0.016927   \n",
       "2                   0.049734                  0.003647              0.011371   \n",
       "3                   0.004939                  0.001568              0.006732   \n",
       "4                   0.025779                  0.014011              0.078133   \n",
       "\n",
       "   question_type_instructions  question_type_procedure  \\\n",
       "0                    0.063063                 0.128931   \n",
       "1                    0.862188                 0.284219   \n",
       "2                    0.261478                 0.145619   \n",
       "3                    0.825454                 0.332570   \n",
       "4                    0.175275                 0.171887   \n",
       "\n",
       "   question_type_reason_explanation  question_type_spelling  \\\n",
       "0                          0.775320                0.000943   \n",
       "1                          0.071599                0.000366   \n",
       "2                          0.605673                0.001714   \n",
       "3                          0.407858                0.000485   \n",
       "4                          0.537200                0.005944   \n",
       "\n",
       "   question_well_written  answer_helpful  answer_level_of_information  \\\n",
       "0               0.861045        0.492832                     0.179563   \n",
       "1               0.319003        0.781829                     0.519573   \n",
       "2               0.665872        0.598398                     0.282248   \n",
       "3               0.429535        0.780783                     0.584229   \n",
       "4               0.455189        0.685777                     0.498278   \n",
       "\n",
       "   answer_plausible  answer_relevance  answer_satisfaction  \\\n",
       "0          0.624791          0.621560             0.279879   \n",
       "1          0.871876          0.929328             0.679396   \n",
       "2          0.770726          0.761685             0.434814   \n",
       "3          0.861172          0.899945             0.641682   \n",
       "4          0.823123          0.829403             0.592172   \n",
       "\n",
       "   answer_type_instructions  answer_type_procedure  \\\n",
       "0                  0.039975               0.051805   \n",
       "1                  0.938628               0.180299   \n",
       "2                  0.103060               0.067395   \n",
       "3                  0.853991               0.329403   \n",
       "4                  0.206154               0.188033   \n",
       "\n",
       "   answer_type_reason_explanation  answer_well_written  \n",
       "0                        0.632225             0.542765  \n",
       "1                        0.028508             0.564435  \n",
       "2                        0.659764             0.551531  \n",
       "3                        0.480208             0.607655  \n",
       "4                        0.624895             0.546277  "
      ]
     },
     "execution_count": 21,
     "metadata": {},
     "output_type": "execute_result"
    }
   ],
   "source": [
    "sample_submission.head()"
   ]
  },
  {
   "cell_type": "code",
   "execution_count": 22,
   "metadata": {},
   "outputs": [],
   "source": [
    "pd.DataFrame(oofs, columns=TARGETS).to_csv(f'oofs/{model_name}_oofs.csv')"
   ]
  },
  {
   "cell_type": "code",
   "execution_count": 23,
   "metadata": {},
   "outputs": [
    {
     "data": {
      "text/html": [
       "<div>\n",
       "<style scoped>\n",
       "    .dataframe tbody tr th:only-of-type {\n",
       "        vertical-align: middle;\n",
       "    }\n",
       "\n",
       "    .dataframe tbody tr th {\n",
       "        vertical-align: top;\n",
       "    }\n",
       "\n",
       "    .dataframe thead th {\n",
       "        text-align: right;\n",
       "    }\n",
       "</style>\n",
       "<table border=\"1\" class=\"dataframe\">\n",
       "  <thead>\n",
       "    <tr style=\"text-align: right;\">\n",
       "      <th></th>\n",
       "      <th>question_asker_intent_understanding</th>\n",
       "      <th>question_body_critical</th>\n",
       "      <th>question_conversational</th>\n",
       "      <th>question_expect_short_answer</th>\n",
       "      <th>question_fact_seeking</th>\n",
       "      <th>question_has_commonly_accepted_answer</th>\n",
       "      <th>question_interestingness_others</th>\n",
       "      <th>question_interestingness_self</th>\n",
       "      <th>question_multi_intent</th>\n",
       "      <th>question_not_really_a_question</th>\n",
       "      <th>question_opinion_seeking</th>\n",
       "      <th>question_type_choice</th>\n",
       "      <th>question_type_compare</th>\n",
       "      <th>question_type_consequence</th>\n",
       "      <th>question_type_definition</th>\n",
       "      <th>question_type_entity</th>\n",
       "      <th>question_type_instructions</th>\n",
       "      <th>question_type_procedure</th>\n",
       "      <th>question_type_reason_explanation</th>\n",
       "      <th>question_type_spelling</th>\n",
       "      <th>question_well_written</th>\n",
       "      <th>answer_helpful</th>\n",
       "      <th>answer_level_of_information</th>\n",
       "      <th>answer_plausible</th>\n",
       "      <th>answer_relevance</th>\n",
       "      <th>answer_satisfaction</th>\n",
       "      <th>answer_type_instructions</th>\n",
       "      <th>answer_type_procedure</th>\n",
       "      <th>answer_type_reason_explanation</th>\n",
       "      <th>answer_well_written</th>\n",
       "    </tr>\n",
       "  </thead>\n",
       "  <tbody>\n",
       "    <tr>\n",
       "      <th>0</th>\n",
       "      <td>0.830340</td>\n",
       "      <td>0.658740</td>\n",
       "      <td>0.368422</td>\n",
       "      <td>0.575321</td>\n",
       "      <td>0.434350</td>\n",
       "      <td>0.260140</td>\n",
       "      <td>0.615068</td>\n",
       "      <td>0.547434</td>\n",
       "      <td>0.366757</td>\n",
       "      <td>0.003705</td>\n",
       "      <td>0.797815</td>\n",
       "      <td>0.453269</td>\n",
       "      <td>0.500825</td>\n",
       "      <td>0.056931</td>\n",
       "      <td>0.009860</td>\n",
       "      <td>0.216490</td>\n",
       "      <td>0.105197</td>\n",
       "      <td>0.074750</td>\n",
       "      <td>0.599586</td>\n",
       "      <td>0.001705</td>\n",
       "      <td>0.833737</td>\n",
       "      <td>0.866895</td>\n",
       "      <td>0.608858</td>\n",
       "      <td>0.943352</td>\n",
       "      <td>0.920505</td>\n",
       "      <td>0.671961</td>\n",
       "      <td>0.122252</td>\n",
       "      <td>0.102199</td>\n",
       "      <td>0.917206</td>\n",
       "      <td>0.759656</td>\n",
       "    </tr>\n",
       "    <tr>\n",
       "      <th>1</th>\n",
       "      <td>0.902389</td>\n",
       "      <td>0.793698</td>\n",
       "      <td>0.029060</td>\n",
       "      <td>0.533516</td>\n",
       "      <td>0.954915</td>\n",
       "      <td>0.676849</td>\n",
       "      <td>0.501271</td>\n",
       "      <td>0.615754</td>\n",
       "      <td>0.242963</td>\n",
       "      <td>0.001079</td>\n",
       "      <td>0.267555</td>\n",
       "      <td>0.068239</td>\n",
       "      <td>0.914469</td>\n",
       "      <td>0.003267</td>\n",
       "      <td>0.501643</td>\n",
       "      <td>0.035874</td>\n",
       "      <td>0.033952</td>\n",
       "      <td>0.032706</td>\n",
       "      <td>0.293427</td>\n",
       "      <td>0.002598</td>\n",
       "      <td>0.811319</td>\n",
       "      <td>0.496745</td>\n",
       "      <td>0.244218</td>\n",
       "      <td>0.695356</td>\n",
       "      <td>0.750346</td>\n",
       "      <td>0.279138</td>\n",
       "      <td>0.014152</td>\n",
       "      <td>0.021494</td>\n",
       "      <td>0.534241</td>\n",
       "      <td>0.787617</td>\n",
       "    </tr>\n",
       "    <tr>\n",
       "      <th>2</th>\n",
       "      <td>0.644344</td>\n",
       "      <td>0.170343</td>\n",
       "      <td>0.006063</td>\n",
       "      <td>0.782406</td>\n",
       "      <td>0.756659</td>\n",
       "      <td>0.864816</td>\n",
       "      <td>0.524290</td>\n",
       "      <td>0.318536</td>\n",
       "      <td>0.187563</td>\n",
       "      <td>0.001036</td>\n",
       "      <td>0.406233</td>\n",
       "      <td>0.359669</td>\n",
       "      <td>0.004251</td>\n",
       "      <td>0.002685</td>\n",
       "      <td>0.000307</td>\n",
       "      <td>0.331704</td>\n",
       "      <td>0.665985</td>\n",
       "      <td>0.169158</td>\n",
       "      <td>0.117139</td>\n",
       "      <td>0.000063</td>\n",
       "      <td>0.622214</td>\n",
       "      <td>0.872267</td>\n",
       "      <td>0.563157</td>\n",
       "      <td>0.908992</td>\n",
       "      <td>0.899898</td>\n",
       "      <td>0.703825</td>\n",
       "      <td>0.582093</td>\n",
       "      <td>0.182055</td>\n",
       "      <td>0.374856</td>\n",
       "      <td>0.767189</td>\n",
       "    </tr>\n",
       "    <tr>\n",
       "      <th>3</th>\n",
       "      <td>0.669019</td>\n",
       "      <td>0.594427</td>\n",
       "      <td>0.194568</td>\n",
       "      <td>0.753622</td>\n",
       "      <td>0.753214</td>\n",
       "      <td>0.837820</td>\n",
       "      <td>0.579183</td>\n",
       "      <td>0.566650</td>\n",
       "      <td>0.353845</td>\n",
       "      <td>0.002355</td>\n",
       "      <td>0.316396</td>\n",
       "      <td>0.955088</td>\n",
       "      <td>0.021430</td>\n",
       "      <td>0.041676</td>\n",
       "      <td>0.022181</td>\n",
       "      <td>0.028388</td>\n",
       "      <td>0.060051</td>\n",
       "      <td>0.198579</td>\n",
       "      <td>0.499080</td>\n",
       "      <td>0.001786</td>\n",
       "      <td>0.839226</td>\n",
       "      <td>0.760435</td>\n",
       "      <td>0.690205</td>\n",
       "      <td>0.777083</td>\n",
       "      <td>0.847181</td>\n",
       "      <td>0.715159</td>\n",
       "      <td>0.099488</td>\n",
       "      <td>0.249115</td>\n",
       "      <td>0.839037</td>\n",
       "      <td>0.711774</td>\n",
       "    </tr>\n",
       "    <tr>\n",
       "      <th>4</th>\n",
       "      <td>0.836756</td>\n",
       "      <td>0.770530</td>\n",
       "      <td>0.003433</td>\n",
       "      <td>0.703380</td>\n",
       "      <td>0.806094</td>\n",
       "      <td>0.914055</td>\n",
       "      <td>0.472321</td>\n",
       "      <td>0.447886</td>\n",
       "      <td>0.200273</td>\n",
       "      <td>0.001208</td>\n",
       "      <td>0.295760</td>\n",
       "      <td>0.666050</td>\n",
       "      <td>0.002665</td>\n",
       "      <td>0.000818</td>\n",
       "      <td>0.001786</td>\n",
       "      <td>0.006453</td>\n",
       "      <td>0.861836</td>\n",
       "      <td>0.246053</td>\n",
       "      <td>0.110866</td>\n",
       "      <td>0.000049</td>\n",
       "      <td>0.792061</td>\n",
       "      <td>0.771895</td>\n",
       "      <td>0.427982</td>\n",
       "      <td>0.825077</td>\n",
       "      <td>0.857753</td>\n",
       "      <td>0.587816</td>\n",
       "      <td>0.917645</td>\n",
       "      <td>0.229758</td>\n",
       "      <td>0.036444</td>\n",
       "      <td>0.580388</td>\n",
       "    </tr>\n",
       "    <tr>\n",
       "      <th>...</th>\n",
       "      <td>...</td>\n",
       "      <td>...</td>\n",
       "      <td>...</td>\n",
       "      <td>...</td>\n",
       "      <td>...</td>\n",
       "      <td>...</td>\n",
       "      <td>...</td>\n",
       "      <td>...</td>\n",
       "      <td>...</td>\n",
       "      <td>...</td>\n",
       "      <td>...</td>\n",
       "      <td>...</td>\n",
       "      <td>...</td>\n",
       "      <td>...</td>\n",
       "      <td>...</td>\n",
       "      <td>...</td>\n",
       "      <td>...</td>\n",
       "      <td>...</td>\n",
       "      <td>...</td>\n",
       "      <td>...</td>\n",
       "      <td>...</td>\n",
       "      <td>...</td>\n",
       "      <td>...</td>\n",
       "      <td>...</td>\n",
       "      <td>...</td>\n",
       "      <td>...</td>\n",
       "      <td>...</td>\n",
       "      <td>...</td>\n",
       "      <td>...</td>\n",
       "      <td>...</td>\n",
       "    </tr>\n",
       "    <tr>\n",
       "      <th>6074</th>\n",
       "      <td>0.830224</td>\n",
       "      <td>0.290117</td>\n",
       "      <td>0.239374</td>\n",
       "      <td>0.853649</td>\n",
       "      <td>0.632482</td>\n",
       "      <td>0.656871</td>\n",
       "      <td>0.699226</td>\n",
       "      <td>0.678731</td>\n",
       "      <td>0.470433</td>\n",
       "      <td>0.003893</td>\n",
       "      <td>0.535273</td>\n",
       "      <td>0.915516</td>\n",
       "      <td>0.174379</td>\n",
       "      <td>0.142520</td>\n",
       "      <td>0.009196</td>\n",
       "      <td>0.228566</td>\n",
       "      <td>0.017217</td>\n",
       "      <td>0.036295</td>\n",
       "      <td>0.538032</td>\n",
       "      <td>0.002504</td>\n",
       "      <td>0.690492</td>\n",
       "      <td>0.798935</td>\n",
       "      <td>0.691294</td>\n",
       "      <td>0.894962</td>\n",
       "      <td>0.895545</td>\n",
       "      <td>0.673359</td>\n",
       "      <td>0.076620</td>\n",
       "      <td>0.066643</td>\n",
       "      <td>0.884919</td>\n",
       "      <td>0.733776</td>\n",
       "    </tr>\n",
       "    <tr>\n",
       "      <th>6075</th>\n",
       "      <td>0.927624</td>\n",
       "      <td>0.472153</td>\n",
       "      <td>0.122953</td>\n",
       "      <td>0.609460</td>\n",
       "      <td>0.448168</td>\n",
       "      <td>0.278469</td>\n",
       "      <td>0.819406</td>\n",
       "      <td>0.828325</td>\n",
       "      <td>0.029398</td>\n",
       "      <td>0.005085</td>\n",
       "      <td>0.820067</td>\n",
       "      <td>0.010052</td>\n",
       "      <td>0.005117</td>\n",
       "      <td>0.007923</td>\n",
       "      <td>0.000262</td>\n",
       "      <td>0.009292</td>\n",
       "      <td>0.763513</td>\n",
       "      <td>0.315942</td>\n",
       "      <td>0.164403</td>\n",
       "      <td>0.000079</td>\n",
       "      <td>0.803846</td>\n",
       "      <td>0.820873</td>\n",
       "      <td>0.617345</td>\n",
       "      <td>0.897451</td>\n",
       "      <td>0.943338</td>\n",
       "      <td>0.632853</td>\n",
       "      <td>0.762173</td>\n",
       "      <td>0.310517</td>\n",
       "      <td>0.352863</td>\n",
       "      <td>0.890833</td>\n",
       "    </tr>\n",
       "    <tr>\n",
       "      <th>6076</th>\n",
       "      <td>0.559794</td>\n",
       "      <td>0.334170</td>\n",
       "      <td>0.014447</td>\n",
       "      <td>0.628113</td>\n",
       "      <td>0.669679</td>\n",
       "      <td>0.856098</td>\n",
       "      <td>0.418200</td>\n",
       "      <td>0.326990</td>\n",
       "      <td>0.338180</td>\n",
       "      <td>0.004560</td>\n",
       "      <td>0.578361</td>\n",
       "      <td>0.506254</td>\n",
       "      <td>0.006734</td>\n",
       "      <td>0.007039</td>\n",
       "      <td>0.003205</td>\n",
       "      <td>0.008415</td>\n",
       "      <td>0.839909</td>\n",
       "      <td>0.386464</td>\n",
       "      <td>0.249478</td>\n",
       "      <td>0.000552</td>\n",
       "      <td>0.363778</td>\n",
       "      <td>0.546199</td>\n",
       "      <td>0.274932</td>\n",
       "      <td>0.750018</td>\n",
       "      <td>0.706454</td>\n",
       "      <td>0.304906</td>\n",
       "      <td>0.574034</td>\n",
       "      <td>0.249897</td>\n",
       "      <td>0.410974</td>\n",
       "      <td>0.358246</td>\n",
       "    </tr>\n",
       "    <tr>\n",
       "      <th>6077</th>\n",
       "      <td>0.787469</td>\n",
       "      <td>0.515848</td>\n",
       "      <td>0.674378</td>\n",
       "      <td>0.202374</td>\n",
       "      <td>0.217064</td>\n",
       "      <td>0.088857</td>\n",
       "      <td>0.631332</td>\n",
       "      <td>0.770081</td>\n",
       "      <td>0.910177</td>\n",
       "      <td>0.001406</td>\n",
       "      <td>0.930865</td>\n",
       "      <td>0.707791</td>\n",
       "      <td>0.113529</td>\n",
       "      <td>0.147152</td>\n",
       "      <td>0.008444</td>\n",
       "      <td>0.038513</td>\n",
       "      <td>0.058732</td>\n",
       "      <td>0.331973</td>\n",
       "      <td>0.705252</td>\n",
       "      <td>0.000416</td>\n",
       "      <td>0.891826</td>\n",
       "      <td>0.659388</td>\n",
       "      <td>0.454465</td>\n",
       "      <td>0.814549</td>\n",
       "      <td>0.833530</td>\n",
       "      <td>0.458963</td>\n",
       "      <td>0.022129</td>\n",
       "      <td>0.138518</td>\n",
       "      <td>0.860541</td>\n",
       "      <td>0.832519</td>\n",
       "    </tr>\n",
       "    <tr>\n",
       "      <th>6078</th>\n",
       "      <td>0.821435</td>\n",
       "      <td>0.825319</td>\n",
       "      <td>0.316335</td>\n",
       "      <td>0.262030</td>\n",
       "      <td>0.862400</td>\n",
       "      <td>0.530781</td>\n",
       "      <td>0.766791</td>\n",
       "      <td>0.659990</td>\n",
       "      <td>0.767275</td>\n",
       "      <td>0.000622</td>\n",
       "      <td>0.399161</td>\n",
       "      <td>0.194106</td>\n",
       "      <td>0.456011</td>\n",
       "      <td>0.062877</td>\n",
       "      <td>0.016632</td>\n",
       "      <td>0.040939</td>\n",
       "      <td>0.008363</td>\n",
       "      <td>0.031883</td>\n",
       "      <td>0.942921</td>\n",
       "      <td>0.000608</td>\n",
       "      <td>0.847737</td>\n",
       "      <td>0.746993</td>\n",
       "      <td>0.505025</td>\n",
       "      <td>0.884695</td>\n",
       "      <td>0.872810</td>\n",
       "      <td>0.496700</td>\n",
       "      <td>0.031769</td>\n",
       "      <td>0.035079</td>\n",
       "      <td>0.944018</td>\n",
       "      <td>0.698036</td>\n",
       "    </tr>\n",
       "  </tbody>\n",
       "</table>\n",
       "<p>6079 rows × 30 columns</p>\n",
       "</div>"
      ],
      "text/plain": [
       "      question_asker_intent_understanding  question_body_critical  \\\n",
       "0                                0.830340                0.658740   \n",
       "1                                0.902389                0.793698   \n",
       "2                                0.644344                0.170343   \n",
       "3                                0.669019                0.594427   \n",
       "4                                0.836756                0.770530   \n",
       "...                                   ...                     ...   \n",
       "6074                             0.830224                0.290117   \n",
       "6075                             0.927624                0.472153   \n",
       "6076                             0.559794                0.334170   \n",
       "6077                             0.787469                0.515848   \n",
       "6078                             0.821435                0.825319   \n",
       "\n",
       "      question_conversational  question_expect_short_answer  \\\n",
       "0                    0.368422                      0.575321   \n",
       "1                    0.029060                      0.533516   \n",
       "2                    0.006063                      0.782406   \n",
       "3                    0.194568                      0.753622   \n",
       "4                    0.003433                      0.703380   \n",
       "...                       ...                           ...   \n",
       "6074                 0.239374                      0.853649   \n",
       "6075                 0.122953                      0.609460   \n",
       "6076                 0.014447                      0.628113   \n",
       "6077                 0.674378                      0.202374   \n",
       "6078                 0.316335                      0.262030   \n",
       "\n",
       "      question_fact_seeking  question_has_commonly_accepted_answer  \\\n",
       "0                  0.434350                               0.260140   \n",
       "1                  0.954915                               0.676849   \n",
       "2                  0.756659                               0.864816   \n",
       "3                  0.753214                               0.837820   \n",
       "4                  0.806094                               0.914055   \n",
       "...                     ...                                    ...   \n",
       "6074               0.632482                               0.656871   \n",
       "6075               0.448168                               0.278469   \n",
       "6076               0.669679                               0.856098   \n",
       "6077               0.217064                               0.088857   \n",
       "6078               0.862400                               0.530781   \n",
       "\n",
       "      question_interestingness_others  question_interestingness_self  \\\n",
       "0                            0.615068                       0.547434   \n",
       "1                            0.501271                       0.615754   \n",
       "2                            0.524290                       0.318536   \n",
       "3                            0.579183                       0.566650   \n",
       "4                            0.472321                       0.447886   \n",
       "...                               ...                            ...   \n",
       "6074                         0.699226                       0.678731   \n",
       "6075                         0.819406                       0.828325   \n",
       "6076                         0.418200                       0.326990   \n",
       "6077                         0.631332                       0.770081   \n",
       "6078                         0.766791                       0.659990   \n",
       "\n",
       "      question_multi_intent  question_not_really_a_question  \\\n",
       "0                  0.366757                        0.003705   \n",
       "1                  0.242963                        0.001079   \n",
       "2                  0.187563                        0.001036   \n",
       "3                  0.353845                        0.002355   \n",
       "4                  0.200273                        0.001208   \n",
       "...                     ...                             ...   \n",
       "6074               0.470433                        0.003893   \n",
       "6075               0.029398                        0.005085   \n",
       "6076               0.338180                        0.004560   \n",
       "6077               0.910177                        0.001406   \n",
       "6078               0.767275                        0.000622   \n",
       "\n",
       "      question_opinion_seeking  question_type_choice  question_type_compare  \\\n",
       "0                     0.797815              0.453269               0.500825   \n",
       "1                     0.267555              0.068239               0.914469   \n",
       "2                     0.406233              0.359669               0.004251   \n",
       "3                     0.316396              0.955088               0.021430   \n",
       "4                     0.295760              0.666050               0.002665   \n",
       "...                        ...                   ...                    ...   \n",
       "6074                  0.535273              0.915516               0.174379   \n",
       "6075                  0.820067              0.010052               0.005117   \n",
       "6076                  0.578361              0.506254               0.006734   \n",
       "6077                  0.930865              0.707791               0.113529   \n",
       "6078                  0.399161              0.194106               0.456011   \n",
       "\n",
       "      question_type_consequence  question_type_definition  \\\n",
       "0                      0.056931                  0.009860   \n",
       "1                      0.003267                  0.501643   \n",
       "2                      0.002685                  0.000307   \n",
       "3                      0.041676                  0.022181   \n",
       "4                      0.000818                  0.001786   \n",
       "...                         ...                       ...   \n",
       "6074                   0.142520                  0.009196   \n",
       "6075                   0.007923                  0.000262   \n",
       "6076                   0.007039                  0.003205   \n",
       "6077                   0.147152                  0.008444   \n",
       "6078                   0.062877                  0.016632   \n",
       "\n",
       "      question_type_entity  question_type_instructions  \\\n",
       "0                 0.216490                    0.105197   \n",
       "1                 0.035874                    0.033952   \n",
       "2                 0.331704                    0.665985   \n",
       "3                 0.028388                    0.060051   \n",
       "4                 0.006453                    0.861836   \n",
       "...                    ...                         ...   \n",
       "6074              0.228566                    0.017217   \n",
       "6075              0.009292                    0.763513   \n",
       "6076              0.008415                    0.839909   \n",
       "6077              0.038513                    0.058732   \n",
       "6078              0.040939                    0.008363   \n",
       "\n",
       "      question_type_procedure  question_type_reason_explanation  \\\n",
       "0                    0.074750                          0.599586   \n",
       "1                    0.032706                          0.293427   \n",
       "2                    0.169158                          0.117139   \n",
       "3                    0.198579                          0.499080   \n",
       "4                    0.246053                          0.110866   \n",
       "...                       ...                               ...   \n",
       "6074                 0.036295                          0.538032   \n",
       "6075                 0.315942                          0.164403   \n",
       "6076                 0.386464                          0.249478   \n",
       "6077                 0.331973                          0.705252   \n",
       "6078                 0.031883                          0.942921   \n",
       "\n",
       "      question_type_spelling  question_well_written  answer_helpful  \\\n",
       "0                   0.001705               0.833737        0.866895   \n",
       "1                   0.002598               0.811319        0.496745   \n",
       "2                   0.000063               0.622214        0.872267   \n",
       "3                   0.001786               0.839226        0.760435   \n",
       "4                   0.000049               0.792061        0.771895   \n",
       "...                      ...                    ...             ...   \n",
       "6074                0.002504               0.690492        0.798935   \n",
       "6075                0.000079               0.803846        0.820873   \n",
       "6076                0.000552               0.363778        0.546199   \n",
       "6077                0.000416               0.891826        0.659388   \n",
       "6078                0.000608               0.847737        0.746993   \n",
       "\n",
       "      answer_level_of_information  answer_plausible  answer_relevance  \\\n",
       "0                        0.608858          0.943352          0.920505   \n",
       "1                        0.244218          0.695356          0.750346   \n",
       "2                        0.563157          0.908992          0.899898   \n",
       "3                        0.690205          0.777083          0.847181   \n",
       "4                        0.427982          0.825077          0.857753   \n",
       "...                           ...               ...               ...   \n",
       "6074                     0.691294          0.894962          0.895545   \n",
       "6075                     0.617345          0.897451          0.943338   \n",
       "6076                     0.274932          0.750018          0.706454   \n",
       "6077                     0.454465          0.814549          0.833530   \n",
       "6078                     0.505025          0.884695          0.872810   \n",
       "\n",
       "      answer_satisfaction  answer_type_instructions  answer_type_procedure  \\\n",
       "0                0.671961                  0.122252               0.102199   \n",
       "1                0.279138                  0.014152               0.021494   \n",
       "2                0.703825                  0.582093               0.182055   \n",
       "3                0.715159                  0.099488               0.249115   \n",
       "4                0.587816                  0.917645               0.229758   \n",
       "...                   ...                       ...                    ...   \n",
       "6074             0.673359                  0.076620               0.066643   \n",
       "6075             0.632853                  0.762173               0.310517   \n",
       "6076             0.304906                  0.574034               0.249897   \n",
       "6077             0.458963                  0.022129               0.138518   \n",
       "6078             0.496700                  0.031769               0.035079   \n",
       "\n",
       "      answer_type_reason_explanation  answer_well_written  \n",
       "0                           0.917206             0.759656  \n",
       "1                           0.534241             0.787617  \n",
       "2                           0.374856             0.767189  \n",
       "3                           0.839037             0.711774  \n",
       "4                           0.036444             0.580388  \n",
       "...                              ...                  ...  \n",
       "6074                        0.884919             0.733776  \n",
       "6075                        0.352863             0.890833  \n",
       "6076                        0.410974             0.358246  \n",
       "6077                        0.860541             0.832519  \n",
       "6078                        0.944018             0.698036  \n",
       "\n",
       "[6079 rows x 30 columns]"
      ]
     },
     "execution_count": 23,
     "metadata": {},
     "output_type": "execute_result"
    }
   ],
   "source": [
    "pd.DataFrame(oofs, columns=TARGETS)"
   ]
  },
  {
   "cell_type": "code",
   "execution_count": 24,
   "metadata": {},
   "outputs": [
    {
     "data": {
      "text/plain": [
       "question_asker_intent_understanding      0.380850\n",
       "question_body_critical                   0.659929\n",
       "question_conversational                  0.410601\n",
       "question_expect_short_answer             0.310227\n",
       "question_fact_seeking                    0.350945\n",
       "question_has_commonly_accepted_answer    0.427704\n",
       "question_interestingness_others          0.358812\n",
       "question_interestingness_self            0.510118\n",
       "question_multi_intent                    0.575021\n",
       "question_not_really_a_question           0.090849\n",
       "question_opinion_seeking                 0.463307\n",
       "question_type_choice                     0.738147\n",
       "question_type_compare                    0.359312\n",
       "question_type_consequence                0.182278\n",
       "question_type_definition                 0.358243\n",
       "question_type_entity                     0.447398\n",
       "question_type_instructions               0.780337\n",
       "question_type_procedure                  0.360677\n",
       "question_type_reason_explanation         0.667984\n",
       "question_type_spelling                   0.065094\n",
       "question_well_written                    0.523183\n",
       "answer_helpful                           0.236961\n",
       "answer_level_of_information              0.441484\n",
       "answer_plausible                         0.139242\n",
       "answer_relevance                         0.169652\n",
       "answer_satisfaction                      0.328652\n",
       "answer_type_instructions                 0.760263\n",
       "answer_type_procedure                    0.302735\n",
       "answer_type_reason_explanation           0.673462\n",
       "answer_well_written                      0.217619\n",
       "dtype: float64"
      ]
     },
     "execution_count": 24,
     "metadata": {},
     "output_type": "execute_result"
    }
   ],
   "source": [
    "rs = pd.Series({col: spearmanr(oofs[:,i], y[:,i])[0] for i, col in enumerate(TARGETS)})\n",
    "rs"
   ]
  },
  {
   "cell_type": "code",
   "execution_count": 25,
   "metadata": {},
   "outputs": [
    {
     "data": {
      "text/html": [
       "<div>\n",
       "<style scoped>\n",
       "    .dataframe tbody tr th:only-of-type {\n",
       "        vertical-align: middle;\n",
       "    }\n",
       "\n",
       "    .dataframe tbody tr th {\n",
       "        vertical-align: top;\n",
       "    }\n",
       "\n",
       "    .dataframe thead th {\n",
       "        text-align: right;\n",
       "    }\n",
       "</style>\n",
       "<table border=\"1\" class=\"dataframe\">\n",
       "  <thead>\n",
       "    <tr style=\"text-align: right;\">\n",
       "      <th></th>\n",
       "      <th>SpearmanCorr</th>\n",
       "      <th>NUnique</th>\n",
       "    </tr>\n",
       "  </thead>\n",
       "  <tbody>\n",
       "    <tr>\n",
       "      <th>question_type_spelling</th>\n",
       "      <td>0.065094</td>\n",
       "      <td>3.0</td>\n",
       "    </tr>\n",
       "    <tr>\n",
       "      <th>question_not_really_a_question</th>\n",
       "      <td>0.090849</td>\n",
       "      <td>5.0</td>\n",
       "    </tr>\n",
       "    <tr>\n",
       "      <th>answer_plausible</th>\n",
       "      <td>0.139242</td>\n",
       "      <td>9.0</td>\n",
       "    </tr>\n",
       "    <tr>\n",
       "      <th>answer_relevance</th>\n",
       "      <td>0.169652</td>\n",
       "      <td>9.0</td>\n",
       "    </tr>\n",
       "    <tr>\n",
       "      <th>question_type_consequence</th>\n",
       "      <td>0.182278</td>\n",
       "      <td>5.0</td>\n",
       "    </tr>\n",
       "    <tr>\n",
       "      <th>answer_well_written</th>\n",
       "      <td>0.217619</td>\n",
       "      <td>9.0</td>\n",
       "    </tr>\n",
       "    <tr>\n",
       "      <th>answer_helpful</th>\n",
       "      <td>0.236961</td>\n",
       "      <td>9.0</td>\n",
       "    </tr>\n",
       "    <tr>\n",
       "      <th>answer_type_procedure</th>\n",
       "      <td>0.302735</td>\n",
       "      <td>5.0</td>\n",
       "    </tr>\n",
       "    <tr>\n",
       "      <th>question_expect_short_answer</th>\n",
       "      <td>0.310227</td>\n",
       "      <td>5.0</td>\n",
       "    </tr>\n",
       "    <tr>\n",
       "      <th>answer_satisfaction</th>\n",
       "      <td>0.328652</td>\n",
       "      <td>17.0</td>\n",
       "    </tr>\n",
       "    <tr>\n",
       "      <th>question_fact_seeking</th>\n",
       "      <td>0.350945</td>\n",
       "      <td>5.0</td>\n",
       "    </tr>\n",
       "    <tr>\n",
       "      <th>question_type_definition</th>\n",
       "      <td>0.358243</td>\n",
       "      <td>5.0</td>\n",
       "    </tr>\n",
       "    <tr>\n",
       "      <th>question_interestingness_others</th>\n",
       "      <td>0.358812</td>\n",
       "      <td>9.0</td>\n",
       "    </tr>\n",
       "    <tr>\n",
       "      <th>question_type_compare</th>\n",
       "      <td>0.359312</td>\n",
       "      <td>5.0</td>\n",
       "    </tr>\n",
       "    <tr>\n",
       "      <th>question_type_procedure</th>\n",
       "      <td>0.360677</td>\n",
       "      <td>5.0</td>\n",
       "    </tr>\n",
       "    <tr>\n",
       "      <th>question_asker_intent_understanding</th>\n",
       "      <td>0.380850</td>\n",
       "      <td>9.0</td>\n",
       "    </tr>\n",
       "    <tr>\n",
       "      <th>question_conversational</th>\n",
       "      <td>0.410601</td>\n",
       "      <td>5.0</td>\n",
       "    </tr>\n",
       "    <tr>\n",
       "      <th>question_has_commonly_accepted_answer</th>\n",
       "      <td>0.427704</td>\n",
       "      <td>5.0</td>\n",
       "    </tr>\n",
       "    <tr>\n",
       "      <th>answer_level_of_information</th>\n",
       "      <td>0.441484</td>\n",
       "      <td>9.0</td>\n",
       "    </tr>\n",
       "    <tr>\n",
       "      <th>question_type_entity</th>\n",
       "      <td>0.447398</td>\n",
       "      <td>5.0</td>\n",
       "    </tr>\n",
       "    <tr>\n",
       "      <th>question_opinion_seeking</th>\n",
       "      <td>0.463307</td>\n",
       "      <td>5.0</td>\n",
       "    </tr>\n",
       "    <tr>\n",
       "      <th>question_interestingness_self</th>\n",
       "      <td>0.510118</td>\n",
       "      <td>9.0</td>\n",
       "    </tr>\n",
       "    <tr>\n",
       "      <th>question_well_written</th>\n",
       "      <td>0.523183</td>\n",
       "      <td>9.0</td>\n",
       "    </tr>\n",
       "    <tr>\n",
       "      <th>question_multi_intent</th>\n",
       "      <td>0.575021</td>\n",
       "      <td>5.0</td>\n",
       "    </tr>\n",
       "    <tr>\n",
       "      <th>question_body_critical</th>\n",
       "      <td>0.659929</td>\n",
       "      <td>9.0</td>\n",
       "    </tr>\n",
       "    <tr>\n",
       "      <th>question_type_reason_explanation</th>\n",
       "      <td>0.667984</td>\n",
       "      <td>5.0</td>\n",
       "    </tr>\n",
       "    <tr>\n",
       "      <th>answer_type_reason_explanation</th>\n",
       "      <td>0.673462</td>\n",
       "      <td>5.0</td>\n",
       "    </tr>\n",
       "    <tr>\n",
       "      <th>question_type_choice</th>\n",
       "      <td>0.738147</td>\n",
       "      <td>5.0</td>\n",
       "    </tr>\n",
       "    <tr>\n",
       "      <th>answer_type_instructions</th>\n",
       "      <td>0.760263</td>\n",
       "      <td>5.0</td>\n",
       "    </tr>\n",
       "    <tr>\n",
       "      <th>question_type_instructions</th>\n",
       "      <td>0.780337</td>\n",
       "      <td>5.0</td>\n",
       "    </tr>\n",
       "  </tbody>\n",
       "</table>\n",
       "</div>"
      ],
      "text/plain": [
       "                                       SpearmanCorr  NUnique\n",
       "question_type_spelling                     0.065094      3.0\n",
       "question_not_really_a_question             0.090849      5.0\n",
       "answer_plausible                           0.139242      9.0\n",
       "answer_relevance                           0.169652      9.0\n",
       "question_type_consequence                  0.182278      5.0\n",
       "answer_well_written                        0.217619      9.0\n",
       "answer_helpful                             0.236961      9.0\n",
       "answer_type_procedure                      0.302735      5.0\n",
       "question_expect_short_answer               0.310227      5.0\n",
       "answer_satisfaction                        0.328652     17.0\n",
       "question_fact_seeking                      0.350945      5.0\n",
       "question_type_definition                   0.358243      5.0\n",
       "question_interestingness_others            0.358812      9.0\n",
       "question_type_compare                      0.359312      5.0\n",
       "question_type_procedure                    0.360677      5.0\n",
       "question_asker_intent_understanding        0.380850      9.0\n",
       "question_conversational                    0.410601      5.0\n",
       "question_has_commonly_accepted_answer      0.427704      5.0\n",
       "answer_level_of_information                0.441484      9.0\n",
       "question_type_entity                       0.447398      5.0\n",
       "question_opinion_seeking                   0.463307      5.0\n",
       "question_interestingness_self              0.510118      9.0\n",
       "question_well_written                      0.523183      9.0\n",
       "question_multi_intent                      0.575021      5.0\n",
       "question_body_critical                     0.659929      9.0\n",
       "question_type_reason_explanation           0.667984      5.0\n",
       "answer_type_reason_explanation             0.673462      5.0\n",
       "question_type_choice                       0.738147      5.0\n",
       "answer_type_instructions                   0.760263      5.0\n",
       "question_type_instructions                 0.780337      5.0"
      ]
     },
     "execution_count": 25,
     "metadata": {},
     "output_type": "execute_result"
    }
   ],
   "source": [
    "rs_df = pd.DataFrame(np.vstack([rs.values.flatten(), train[TARGETS].nunique()]).T, \n",
    "                     columns=['SpearmanCorr', 'NUnique'], index=rs.index)\n",
    "rs_df.sort_values('SpearmanCorr', ascending=True)"
   ]
  },
  {
   "cell_type": "code",
   "execution_count": 26,
   "metadata": {},
   "outputs": [
    {
     "data": {
      "text/plain": [
       "Index(['question_type_spelling', 'question_not_really_a_question',\n",
       "       'answer_plausible', 'answer_relevance', 'question_type_consequence'],\n",
       "      dtype='object')"
      ]
     },
     "execution_count": 26,
     "metadata": {},
     "output_type": "execute_result"
    }
   ],
   "source": [
    "sorted_targets = rs_df.sort_values('SpearmanCorr', ascending=True).index\n",
    "worst_five_targets = sorted_targets[:5]\n",
    "worst_five_targets"
   ]
  },
  {
   "cell_type": "code",
   "execution_count": 27,
   "metadata": {
    "scrolled": true
   },
   "outputs": [
    {
     "data": {
      "image/png": "[encoded data removed]",
      "text/plain": [
       "<Figure size 432x288 with 1 Axes>"
      ]
     },
     "metadata": {
      "needs_background": "light"
     },
     "output_type": "display_data"
    },
    {
     "data": {
      "image/png": "[encoded data removed]",
      "text/plain": [
       "<Figure size 432x288 with 1 Axes>"
      ]
     },
     "metadata": {
      "needs_background": "light"
     },
     "output_type": "display_data"
    },
    {
     "data": {
      "image/png": "[encoded data removed]",
      "text/plain": [
       "<Figure size 432x288 with 1 Axes>"
      ]
     },
     "metadata": {
      "needs_background": "light"
     },
     "output_type": "display_data"
    },
    {
     "data": {
      "image/png": "[encoded data removed]",
      "text/plain": [
       "<Figure size 432x288 with 1 Axes>"
      ]
     },
     "metadata": {
      "needs_background": "light"
     },
     "output_type": "display_data"
    },
    {
     "data": {
      "image/png": "[encoded data removed]",
      "text/plain": [
       "<Figure size 432x288 with 1 Axes>"
      ]
     },
     "metadata": {
      "needs_background": "light"
     },
     "output_type": "display_data"
    }
   ],
   "source": [
    "for col in worst_five_targets:\n",
    "    plt.figure()\n",
    "    train[col].hist()\n",
    "    plt.title(f'{col} {np.round(rs[col],3)}')"
   ]
  },
  {
   "cell_type": "code",
   "execution_count": 28,
   "metadata": {},
   "outputs": [
    {
     "name": "stderr",
     "output_type": "stream",
     "text": [
      "/home/robin/anaconda3/envs/GoogleQuest/lib/python3.7/site-packages/ipykernel_launcher.py:2: RuntimeWarning: More than 20 figures have been opened. Figures created through the pyplot interface (`matplotlib.pyplot.figure`) are retained until explicitly closed and may consume too much memory. (To control this warning, see the rcParam `figure.max_open_warning`).\n",
      "  \n"
     ]
    },
    {
     "data": {
      "image/png": "[encoded data removed]",
      "text/plain": [
       "<Figure size 432x288 with 1 Axes>"
      ]
     },
     "metadata": {
      "needs_background": "light"
     },
     "output_type": "display_data"
    },
    {
     "data": {
      "image/png": "[encoded data removed]",
      "text/plain": [
       "<Figure size 432x288 with 1 Axes>"
      ]
     },
     "metadata": {
      "needs_background": "light"
     },
     "output_type": "display_data"
    },
    {
     "data": {
      "image/png": "[encoded data removed]",
      "text/plain": [
       "<Figure size 432x288 with 1 Axes>"
      ]
     },
     "metadata": {
      "needs_background": "light"
     },
     "output_type": "display_data"
    },
    {
     "data": {
      "image/png": "[encoded data removed]",
      "text/plain": [
       "<Figure size 432x288 with 1 Axes>"
      ]
     },
     "metadata": {
      "needs_background": "light"
     },
     "output_type": "display_data"
    },
    {
     "data": {
      "image/png": "[encoded data removed]",
      "text/plain": [
       "<Figure size 432x288 with 1 Axes>"
      ]
     },
     "metadata": {
      "needs_background": "light"
     },
     "output_type": "display_data"
    },
    {
     "data": {
      "image/png": "[encoded data removed]",
      "text/plain": [
       "<Figure size 432x288 with 1 Axes>"
      ]
     },
     "metadata": {
      "needs_background": "light"
     },
     "output_type": "display_data"
    },
    {
     "data": {
      "image/png": "[encoded data removed]",
      "text/plain": [
       "<Figure size 432x288 with 1 Axes>"
      ]
     },
     "metadata": {
      "needs_background": "light"
     },
     "output_type": "display_data"
    },
    {
     "data": {
      "image/png": "[encoded data removed]",
      "text/plain": [
       "<Figure size 432x288 with 1 Axes>"
      ]
     },
     "metadata": {
      "needs_background": "light"
     },
     "output_type": "display_data"
    },
    {
     "data": {
      "image/png": "[encoded data removed]",
      "text/plain": [
       "<Figure size 432x288 with 1 Axes>"
      ]
     },
     "metadata": {
      "needs_background": "light"
     },
     "output_type": "display_data"
    },
    {
     "data": {
      "image/png": "[encoded data removed]",
      "text/plain": [
       "<Figure size 432x288 with 1 Axes>"
      ]
     },
     "metadata": {
      "needs_background": "light"
     },
     "output_type": "display_data"
    },
    {
     "data": {
      "image/png": "[encoded data removed]",
      "text/plain": [
       "<Figure size 432x288 with 1 Axes>"
      ]
     },
     "metadata": {
      "needs_background": "light"
     },
     "output_type": "display_data"
    },
    {
     "data": {
      "image/png": "[encoded data removed]",
      "text/plain": [
       "<Figure size 432x288 with 1 Axes>"
      ]
     },
     "metadata": {
      "needs_background": "light"
     },
     "output_type": "display_data"
    },
    {
     "data": {
      "image/png": "[encoded data removed]",
      "text/plain": [
       "<Figure size 432x288 with 1 Axes>"
      ]
     },
     "metadata": {
      "needs_background": "light"
     },
     "output_type": "display_data"
    },
    {
     "data": {
      "image/png": "[encoded data removed]",
      "text/plain": [
       "<Figure size 432x288 with 1 Axes>"
      ]
     },
     "metadata": {
      "needs_background": "light"
     },
     "output_type": "display_data"
    },
    {
     "data": {
      "image/png": "[encoded data removed]",
      "text/plain": [
       "<Figure size 432x288 with 1 Axes>"
      ]
     },
     "metadata": {
      "needs_background": "light"
     },
     "output_type": "display_data"
    },
    {
     "data": {
      "image/png": "[encoded data removed]",
      "text/plain": [
       "<Figure size 432x288 with 1 Axes>"
      ]
     },
     "metadata": {
      "needs_background": "light"
     },
     "output_type": "display_data"
    },
    {
     "data": {
      "image/png": "[encoded data removed]",
      "text/plain": [
       "<Figure size 432x288 with 1 Axes>"
      ]
     },
     "metadata": {
      "needs_background": "light"
     },
     "output_type": "display_data"
    },
    {
     "data": {
      "image/png": "[encoded data removed]",
      "text/plain": [
       "<Figure size 432x288 with 1 Axes>"
      ]
     },
     "metadata": {
      "needs_background": "light"
     },
     "output_type": "display_data"
    },
    {
     "data": {
      "image/png": "[encoded data removed]",
      "text/plain": [
       "<Figure size 432x288 with 1 Axes>"
      ]
     },
     "metadata": {
      "needs_background": "light"
     },
     "output_type": "display_data"
    },
    {
     "data": {
      "image/png": "[encoded data removed]",
      "text/plain": [
       "<Figure size 432x288 with 1 Axes>"
      ]
     },
     "metadata": {
      "needs_background": "light"
     },
     "output_type": "display_data"
    },
    {
     "data": {
      "image/png": "[encoded data removed]",
      "text/plain": [
       "<Figure size 432x288 with 1 Axes>"
      ]
     },
     "metadata": {
      "needs_background": "light"
     },
     "output_type": "display_data"
    },
    {
     "data": {
      "image/png": "[encoded data removed]",
      "text/plain": [
       "<Figure size 432x288 with 1 Axes>"
      ]
     },
     "metadata": {
      "needs_background": "light"
     },
     "output_type": "display_data"
    },
    {
     "data": {
      "image/png": "[encoded data removed]",
      "text/plain": [
       "<Figure size 432x288 with 1 Axes>"
      ]
     },
     "metadata": {
      "needs_background": "light"
     },
     "output_type": "display_data"
    },
    {
     "data": {
      "image/png": "[encoded data removed]",
      "text/plain": [
       "<Figure size 432x288 with 1 Axes>"
      ]
     },
     "metadata": {
      "needs_background": "light"
     },
     "output_type": "display_data"
    },
    {
     "data": {
      "image/png": "[encoded data removed]",
      "text/plain": [
       "<Figure size 432x288 with 1 Axes>"
      ]
     },
     "metadata": {
      "needs_background": "light"
     },
     "output_type": "display_data"
    }
   ],
   "source": [
    "for col in [target for target in sorted_targets if target not in worst_five_targets]:\n",
    "    plt.figure()\n",
    "    train[col].hist()\n",
    "    plt.title(f'{col} {np.round(rs[col],3)}')"
   ]
  },
  {
   "cell_type": "code",
   "execution_count": null,
   "metadata": {},
   "outputs": [],
   "source": []
  },
  {
   "cell_type": "code",
   "execution_count": null,
   "metadata": {},
   "outputs": [],
   "source": []
  }
 ],
 "metadata": {
  "kernelspec": {
   "display_name": "Python 3",
   "language": "python",
   "name": "python3"
  },
  "language_info": {
   "codemirror_mode": {
    "name": "ipython",
    "version": 3
   },
   "file_extension": ".py",
   "mimetype": "text/x-python",
   "name": "python",
   "nbconvert_exporter": "python",
   "pygments_lexer": "ipython3",
   "version": "3.7.5"
  }
 },
 "nbformat": 4,
 "nbformat_minor": 1
}
