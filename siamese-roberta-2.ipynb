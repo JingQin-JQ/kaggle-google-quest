{
 "cells": [
  {
   "cell_type": "markdown",
   "metadata": {},
   "source": [
    "## Importing libraries"
   ]
  },
  {
   "cell_type": "code",
   "execution_count": 1,
   "metadata": {
    "_kg_hide-input": true
   },
   "outputs": [],
   "source": [
    "import numpy as np\n",
    "import pandas as pd\n",
    "import matplotlib.pyplot as plt\n",
    "import time\n",
    "import datetime\n",
    "import re\n",
    "import gc\n",
    "import copy\n",
    "\n",
    "from sklearn.model_selection import GroupKFold\n",
    "from sklearn.preprocessing import OneHotEncoder, MinMaxScaler\n",
    "import nltk.data\n",
    "\n",
    "import torch\n",
    "import torch.nn as nn\n",
    "import torch.optim as optim\n",
    "import torch.nn.functional as F\n",
    "from torch.utils.data import DataLoader\n",
    "\n",
    "from tqdm import tqdm_notebook as tqdm\n",
    "from transformers import RobertaTokenizer\n",
    "import transformers\n",
    "\n",
    "from text_data import TextDataset4 as TextDataset\n",
    "from roberta import CustomRoberta2 as CustomRoberta\n",
    "from learning import Learner\n",
    "from lr_finder import LRFinder\n",
    "from one_cycle import OneCycleLR\n",
    "from create_features import get_categorical_features\n",
    "from losses_metrics import spearmanr_torch, spearmanr_np, optimize_rounding_params, get_cvs, spearmanr, SCELoss\n",
    "from inference import infer\n",
    "from common import *\n",
    "from utils.helpers import init_logger, init_seed\n",
    "\n",
    "%matplotlib inline\n",
    "pd.set_option('max_colwidth',400)"
   ]
  },
  {
   "cell_type": "markdown",
   "metadata": {},
   "source": [
    "## Loading and preparing data"
   ]
  },
  {
   "cell_type": "code",
   "execution_count": 2,
   "metadata": {
    "_cell_guid": "b1076dfc-b9ad-4769-8c92-a6c4dae69d19",
    "_uuid": "8f2839f25d086af736a60e9eeb907d3b93b6e0e5"
   },
   "outputs": [],
   "source": [
    "pd.set_option('max_rows', 500)\n",
    "pd.set_option('max_columns', 500)\n",
    "path = 'data/'\n",
    "sample_submission = pd.read_csv(f'{path}sample_submission.csv')\n",
    "test = pd.read_csv(f'{path}test.csv')\n",
    "train = pd.read_csv(f'{path}train.csv')"
   ]
  },
  {
   "cell_type": "code",
   "execution_count": 3,
   "metadata": {},
   "outputs": [
    {
     "name": "stderr",
     "output_type": "stream",
     "text": [
      "/home/robin/anaconda3/envs/GoogleQuest/lib/python3.7/site-packages/ipykernel_launcher.py:6: TqdmDeprecationWarning: This function will be removed in tqdm==5.0.0\n",
      "Please use `tqdm.notebook.tqdm` instead of `tqdm.tqdm_notebook`\n",
      "  \n"
     ]
    },
    {
     "data": {
      "application/vnd.jupyter.widget-view+json": {
       "model_id": "9ba9a1a1107c4208aaa76b722958d3cd",
       "version_major": 2,
       "version_minor": 0
      },
      "text/plain": [
       "HBox(children=(IntProgress(value=0, max=6079), HTML(value='')))"
      ]
     },
     "metadata": {},
     "output_type": "display_data"
    },
    {
     "name": "stdout",
     "output_type": "stream",
     "text": [
      "\n"
     ]
    },
    {
     "data": {
      "application/vnd.jupyter.widget-view+json": {
       "model_id": "555fa5de9a424038843e83060a77cc2c",
       "version_major": 2,
       "version_minor": 0
      },
      "text/plain": [
       "HBox(children=(IntProgress(value=0, max=476), HTML(value='')))"
      ]
     },
     "metadata": {},
     "output_type": "display_data"
    },
    {
     "name": "stdout",
     "output_type": "stream",
     "text": [
      "\n",
      "CPU times: user 15.2 s, sys: 79.4 ms, total: 15.3 s\n",
      "Wall time: 16.1 s\n"
     ]
    }
   ],
   "source": [
    "%%time\n",
    "tokenizer = RobertaTokenizer.from_pretrained('roberta-base')\n",
    "sep_token = f' {tokenizer.sep_token} '\n",
    "max_seq_len = 512\n",
    "for mode, df in [('train', train), ('test', test)]:\n",
    "    ids, seg_ids, sent_ids = [], [], []\n",
    "    for x1, x2, x3 in tqdm(df[['question_title', 'question_body', 'answer']].values):\n",
    "        encoded_inputs = tokenizer.encode_plus(\n",
    "            x1 + sep_token + x2, x3, add_special_tokens=True, max_length=max_seq_len, pad_to_max_length=True, \n",
    "            return_token_type_ids=True\n",
    "        )\n",
    "        inp_ids = encoded_inputs['input_ids']\n",
    "        raw_seg_ids = np.array(encoded_inputs['token_type_ids'])\n",
    "        qa_split_idx = np.where(np.array(inp_ids) == tokenizer.sep_token_id)[0][0] + 1\n",
    "        raw_seg_ids[qa_split_idx:] += 1\n",
    "        raw_seg_ids = (raw_seg_ids * (np.array(inp_ids) != tokenizer.pad_token_id).astype(int)).tolist()\n",
    "        \n",
    "        ids.append(inp_ids)\n",
    "        seg_ids.append(raw_seg_ids)\n",
    "    if mode == 'train': \n",
    "        ids_train = np.array(ids)\n",
    "        seg_ids_train = np.array(seg_ids)\n",
    "    else: \n",
    "        ids_test = np.array(ids)\n",
    "        seg_ids_test = np.array(seg_ids)"
   ]
  },
  {
   "cell_type": "code",
   "execution_count": 4,
   "metadata": {
    "code_folding": []
   },
   "outputs": [],
   "source": [
    "train_category, test_category, category_dict, category_dict_reverse = \\\n",
    "    get_categorical_features(train, test, 'category')"
   ]
  },
  {
   "cell_type": "code",
   "execution_count": 5,
   "metadata": {},
   "outputs": [
    {
     "name": "stderr",
     "output_type": "stream",
     "text": [
      "/home/robin/anaconda3/envs/GoogleQuest/lib/python3.7/site-packages/sklearn/preprocessing/_encoders.py:415: FutureWarning: The handling of integer data will change in version 0.22. Currently, the categories are determined based on the range [0, max(values)], while in the future they will be determined based on the unique values.\n",
      "If you want the future behaviour and silence this warning, you can specify \"categories='auto'\".\n",
      "In case you used a LabelEncoder before this OneHotEncoder to convert the categories to integers, then you can now use the OneHotEncoder directly.\n",
      "  warnings.warn(msg, FutureWarning)\n"
     ]
    }
   ],
   "source": [
    "cat_features_train = train_category.reshape(-1, 1)\n",
    "cat_features_test = test_category.reshape(-1, 1)\n",
    "ohe = OneHotEncoder()\n",
    "ohe.fit(cat_features_train)\n",
    "cat_features_train = ohe.transform(cat_features_train).toarray()\n",
    "cat_features_test = ohe.transform(cat_features_test).toarray()"
   ]
  },
  {
   "cell_type": "code",
   "execution_count": 6,
   "metadata": {},
   "outputs": [],
   "source": [
    "for col in TARGETS:\n",
    "    train[col] = train[col].rank(method=\"average\")\n",
    "train[TARGETS] = MinMaxScaler().fit_transform(train[TARGETS])\n",
    "y = train[TARGETS].values.astype(np.float32)\n",
    "ix = np.where(train.groupby(\"question_body\")[\"host\"].transform(\"count\") == 1)[0]"
   ]
  },
  {
   "cell_type": "code",
   "execution_count": 7,
   "metadata": {},
   "outputs": [],
   "source": [
    "num_workers = 10\n",
    "bs = 2"
   ]
  },
  {
   "cell_type": "code",
   "execution_count": 8,
   "metadata": {},
   "outputs": [],
   "source": [
    "bs_test = 2\n",
    "test_loader = DataLoader(\n",
    "    TextDataset(cat_features_test, ids_test, seg_ids_test, test.index),\n",
    "    batch_size=bs_test, shuffle=False, num_workers=num_workers, drop_last=False\n",
    ")"
   ]
  },
  {
   "cell_type": "markdown",
   "metadata": {},
   "source": [
    "## Training model"
   ]
  },
  {
   "cell_type": "code",
   "execution_count": 9,
   "metadata": {},
   "outputs": [],
   "source": [
    "lr = 0.001\n",
    "loss_fn = SCELoss()#nn.BCEWithLogitsLoss()\n",
    "device = 'cuda'\n",
    "n_epochs = 4\n",
    "grad_accum = 4\n",
    "\n",
    "weight_decay = 0.01\n",
    "model_name = 'siamese_roberta_2'\n",
    "checkpoint_dir = 'checkpoints/'\n",
    "early_stopping = None\n",
    "n_folds = 10"
   ]
  },
  {
   "cell_type": "code",
   "execution_count": 10,
   "metadata": {},
   "outputs": [],
   "source": [
    "def get_optimizer_param_groups(model, lr, weight_decay):\n",
    "    no_decay = ['bias', 'LayerNorm.weight']\n",
    "    optimizer_grouped_parameters = [\n",
    "        {'params': [p for n, p in model.named_parameters() if not any(nd in n for nd in no_decay)], \n",
    "         'weight_decay': weight_decay, 'lr': lr},\n",
    "        {'params': [p for n, p in model.named_parameters() if any(nd in n for nd in no_decay)], \n",
    "         'weight_decay': 0.0, 'lr': lr}\n",
    "    ]\n",
    "    return optimizer_grouped_parameters\n",
    "\n",
    "def get_optimizer(model, lr, weight_decay):\n",
    "    return transformers.AdamW(\n",
    "        get_optimizer_param_groups(model.head, lr, weight_decay)\n",
    "        + get_optimizer_param_groups(model.roberta, lr / 100, weight_decay)\n",
    "    )"
   ]
  },
  {
   "cell_type": "code",
   "execution_count": 11,
   "metadata": {
    "scrolled": true
   },
   "outputs": [
    {
     "name": "stdout",
     "output_type": "stream",
     "text": [
      "Fold 1 started at Sat Feb  8 12:04:09 2020\n"
     ]
    },
    {
     "data": {
      "application/vnd.jupyter.widget-view+json": {
       "model_id": "28a929fe62ca40628144cb85f712cc01",
       "version_major": 2,
       "version_minor": 0
      },
      "text/plain": [
       "HBox(children=(IntProgress(value=0, max=400), HTML(value='')))"
      ]
     },
     "metadata": {},
     "output_type": "display_data"
    },
    {
     "name": "stderr",
     "output_type": "stream",
     "text": [
      "/home/robin/anaconda3/envs/GoogleQuest/lib/python3.7/site-packages/torch/optim/lr_scheduler.py:100: UserWarning: Detected call of `lr_scheduler.step()` before `optimizer.step()`. In PyTorch 1.1.0 and later, you should call them in the opposite order: `optimizer.step()` before `lr_scheduler.step()`.  Failure to do this will result in PyTorch skipping the first value of the learning rate schedule.See more details at https://pytorch.org/docs/stable/optim.html#how-to-adjust-learning-rate\n",
      "  \"https://pytorch.org/docs/stable/optim.html#how-to-adjust-learning-rate\", UserWarning)\n"
     ]
    },
    {
     "data": {
      "image/png": "[encoded data removed]",
      "text/plain": [
       "<Figure size 432x288 with 1 Axes>"
      ]
     },
     "metadata": {
      "needs_background": "light"
     },
     "output_type": "display_data"
    },
    {
     "name": "stdout",
     "output_type": "stream",
     "text": [
      "epoch 0: \t Start training...\n"
     ]
    },
    {
     "data": {
      "application/vnd.jupyter.widget-view+json": {
       "model_id": "99f6732c95cf4b7a986d3453318ce11d",
       "version_major": 2,
       "version_minor": 0
      },
      "text/plain": [
       "HBox(children=(IntProgress(value=0, max=2736), HTML(value='')))"
      ]
     },
     "metadata": {},
     "output_type": "display_data"
    },
    {
     "name": "stdout",
     "output_type": "stream",
     "text": [
      "\n",
      "epoch 0/4 \t train : loss 0.74468 - spearmanr 0.15706\n",
      "epoch 0: \t Start validation...\n"
     ]
    },
    {
     "data": {
      "application/vnd.jupyter.widget-view+json": {
       "model_id": "9dd4d5c401f34670bac729c07790b3d4",
       "version_major": 2,
       "version_minor": 0
      },
      "text/plain": [
       "HBox(children=(IntProgress(value=0, max=304), HTML(value='')))"
      ]
     },
     "metadata": {},
     "output_type": "display_data"
    },
    {
     "name": "stdout",
     "output_type": "stream",
     "text": [
      "\n",
      "epoch 0/4 \t valid : loss 0.62448 - spearmanr 0.3278\n"
     ]
    },
    {
     "name": "stderr",
     "output_type": "stream",
     "text": [
      "/home/robin/anaconda3/envs/GoogleQuest/lib/python3.7/site-packages/numpy/lib/function_base.py:2534: RuntimeWarning: invalid value encountered in true_divide\n",
      "  c /= stddev[:, None]\n",
      "/home/robin/anaconda3/envs/GoogleQuest/lib/python3.7/site-packages/numpy/lib/function_base.py:2535: RuntimeWarning: invalid value encountered in true_divide\n",
      "  c /= stddev[None, :]\n",
      "/home/robin/anaconda3/envs/GoogleQuest/lib/python3.7/site-packages/scipy/stats/_distn_infrastructure.py:901: RuntimeWarning: invalid value encountered in greater\n",
      "  return (a < x) & (x < b)\n",
      "/home/robin/anaconda3/envs/GoogleQuest/lib/python3.7/site-packages/scipy/stats/_distn_infrastructure.py:901: RuntimeWarning: invalid value encountered in less\n",
      "  return (a < x) & (x < b)\n",
      "/home/robin/anaconda3/envs/GoogleQuest/lib/python3.7/site-packages/scipy/stats/_distn_infrastructure.py:1892: RuntimeWarning: invalid value encountered in less_equal\n",
      "  cond2 = cond0 & (x <= _a)\n"
     ]
    },
    {
     "name": "stdout",
     "output_type": "stream",
     "text": [
      "best model: epoch 0 - 0.3278\n",
      "epoch 1: \t Start training...\n"
     ]
    },
    {
     "data": {
      "application/vnd.jupyter.widget-view+json": {
       "model_id": "e4f28df7ad9a4fdb88f09edd0e936f8a",
       "version_major": 2,
       "version_minor": 0
      },
      "text/plain": [
       "HBox(children=(IntProgress(value=0, max=2736), HTML(value='')))"
      ]
     },
     "metadata": {},
     "output_type": "display_data"
    },
    {
     "name": "stdout",
     "output_type": "stream",
     "text": [
      "\n",
      "epoch 1/4 \t train : loss 0.59736 - spearmanr 0.34482\n",
      "epoch 1: \t Start validation...\n"
     ]
    },
    {
     "data": {
      "application/vnd.jupyter.widget-view+json": {
       "model_id": "b9e1b8dfbd784ceaa6558a632e511305",
       "version_major": 2,
       "version_minor": 0
      },
      "text/plain": [
       "HBox(children=(IntProgress(value=0, max=304), HTML(value='')))"
      ]
     },
     "metadata": {},
     "output_type": "display_data"
    },
    {
     "name": "stdout",
     "output_type": "stream",
     "text": [
      "\n",
      "epoch 1/4 \t valid : loss 0.59297 - spearmanr 0.38445\n",
      "best model: epoch 1 - 0.38445\n",
      "epoch 2: \t Start training...\n"
     ]
    },
    {
     "data": {
      "application/vnd.jupyter.widget-view+json": {
       "model_id": "33b928378090459890d5a4c6b1793239",
       "version_major": 2,
       "version_minor": 0
      },
      "text/plain": [
       "HBox(children=(IntProgress(value=0, max=2736), HTML(value='')))"
      ]
     },
     "metadata": {},
     "output_type": "display_data"
    },
    {
     "name": "stdout",
     "output_type": "stream",
     "text": [
      "\n",
      "epoch 2/4 \t train : loss 0.56105 - spearmanr 0.41043\n",
      "epoch 2: \t Start validation...\n"
     ]
    },
    {
     "data": {
      "application/vnd.jupyter.widget-view+json": {
       "model_id": "823c62eda9e44e488f0260b84837ff64",
       "version_major": 2,
       "version_minor": 0
      },
      "text/plain": [
       "HBox(children=(IntProgress(value=0, max=304), HTML(value='')))"
      ]
     },
     "metadata": {},
     "output_type": "display_data"
    },
    {
     "name": "stdout",
     "output_type": "stream",
     "text": [
      "\n",
      "epoch 2/4 \t valid : loss 0.57615 - spearmanr 0.39743\n",
      "best model: epoch 2 - 0.39743\n",
      "epoch 3: \t Start training...\n"
     ]
    },
    {
     "data": {
      "application/vnd.jupyter.widget-view+json": {
       "model_id": "6d0d177ce37141f78c6ea9af8575b1c5",
       "version_major": 2,
       "version_minor": 0
      },
      "text/plain": [
       "HBox(children=(IntProgress(value=0, max=2736), HTML(value='')))"
      ]
     },
     "metadata": {},
     "output_type": "display_data"
    },
    {
     "name": "stdout",
     "output_type": "stream",
     "text": [
      "\n",
      "epoch 3/4 \t train : loss 0.53715 - spearmanr 0.45008\n",
      "epoch 3: \t Start validation...\n"
     ]
    },
    {
     "data": {
      "application/vnd.jupyter.widget-view+json": {
       "model_id": "16f4b68ce35d442bbd00800268cdf974",
       "version_major": 2,
       "version_minor": 0
      },
      "text/plain": [
       "HBox(children=(IntProgress(value=0, max=304), HTML(value='')))"
      ]
     },
     "metadata": {},
     "output_type": "display_data"
    },
    {
     "name": "stdout",
     "output_type": "stream",
     "text": [
      "\n",
      "epoch 3/4 \t valid : loss 0.57267 - spearmanr 0.40536\n",
      "best model: epoch 3 - 0.40536\n",
      "TRAINING END: Best score achieved on epoch 3 - 0.40536\n",
      "Starting inference for model: checkpoints/siamese_roberta_2_fold_1_best.pth\n"
     ]
    },
    {
     "data": {
      "application/vnd.jupyter.widget-view+json": {
       "model_id": "aa484968ba9340ffbee252d75859dbff",
       "version_major": 2,
       "version_minor": 0
      },
      "text/plain": [
       "HBox(children=(IntProgress(value=0, max=304), HTML(value='')))"
      ]
     },
     "metadata": {},
     "output_type": "display_data"
    },
    {
     "name": "stdout",
     "output_type": "stream",
     "text": [
      "\n",
      "Averaged Val. score: 0.40535830071101386\n",
      "Starting inference for model: checkpoints/siamese_roberta_2_fold_1_best.pth\n"
     ]
    },
    {
     "data": {
      "application/vnd.jupyter.widget-view+json": {
       "model_id": "c473a1d9ca474285b43ca9d30e909c92",
       "version_major": 2,
       "version_minor": 0
      },
      "text/plain": [
       "HBox(children=(IntProgress(value=0, max=238), HTML(value='')))"
      ]
     },
     "metadata": {},
     "output_type": "display_data"
    },
    {
     "name": "stdout",
     "output_type": "stream",
     "text": [
      "\n",
      "Fold 2 started at Sat Feb  8 12:26:23 2020\n",
      "epoch 0: \t Start training...\n"
     ]
    },
    {
     "data": {
      "application/vnd.jupyter.widget-view+json": {
       "model_id": "824d30476e6b45eeb036a15981c036ca",
       "version_major": 2,
       "version_minor": 0
      },
      "text/plain": [
       "HBox(children=(IntProgress(value=0, max=2736), HTML(value='')))"
      ]
     },
     "metadata": {},
     "output_type": "display_data"
    },
    {
     "name": "stdout",
     "output_type": "stream",
     "text": [
      "\n",
      "epoch 0/4 \t train : loss 0.74151 - spearmanr 0.17017\n",
      "epoch 0: \t Start validation...\n"
     ]
    },
    {
     "data": {
      "application/vnd.jupyter.widget-view+json": {
       "model_id": "751a993edf9643b596cc42b9770f35e1",
       "version_major": 2,
       "version_minor": 0
      },
      "text/plain": [
       "HBox(children=(IntProgress(value=0, max=304), HTML(value='')))"
      ]
     },
     "metadata": {},
     "output_type": "display_data"
    },
    {
     "name": "stdout",
     "output_type": "stream",
     "text": [
      "\n",
      "epoch 0/4 \t valid : loss 0.62474 - spearmanr 0.33938\n",
      "best model: epoch 0 - 0.33938\n",
      "epoch 1: \t Start training...\n"
     ]
    },
    {
     "data": {
      "application/vnd.jupyter.widget-view+json": {
       "model_id": "ce2d94564a7746f8ba1c84997f841023",
       "version_major": 2,
       "version_minor": 0
      },
      "text/plain": [
       "HBox(children=(IntProgress(value=0, max=2736), HTML(value='')))"
      ]
     },
     "metadata": {},
     "output_type": "display_data"
    },
    {
     "name": "stdout",
     "output_type": "stream",
     "text": [
      "\n",
      "epoch 1/4 \t train : loss 0.59276 - spearmanr 0.35202\n",
      "epoch 1: \t Start validation...\n"
     ]
    },
    {
     "data": {
      "application/vnd.jupyter.widget-view+json": {
       "model_id": "b6c8812ba33e467dac92c6e5d8fe5276",
       "version_major": 2,
       "version_minor": 0
      },
      "text/plain": [
       "HBox(children=(IntProgress(value=0, max=304), HTML(value='')))"
      ]
     },
     "metadata": {},
     "output_type": "display_data"
    },
    {
     "name": "stdout",
     "output_type": "stream",
     "text": [
      "\n",
      "epoch 1/4 \t valid : loss 0.59839 - spearmanr 0.38567\n",
      "best model: epoch 1 - 0.38567\n",
      "epoch 2: \t Start training...\n"
     ]
    },
    {
     "data": {
      "application/vnd.jupyter.widget-view+json": {
       "model_id": "e4ab6bd68c94473aa5b2d1e99db54724",
       "version_major": 2,
       "version_minor": 0
      },
      "text/plain": [
       "HBox(children=(IntProgress(value=0, max=2736), HTML(value='')))"
      ]
     },
     "metadata": {},
     "output_type": "display_data"
    },
    {
     "name": "stdout",
     "output_type": "stream",
     "text": [
      "\n",
      "epoch 2/4 \t train : loss 0.55848 - spearmanr 0.41375\n",
      "epoch 2: \t Start validation...\n"
     ]
    },
    {
     "data": {
      "application/vnd.jupyter.widget-view+json": {
       "model_id": "2ad57ce613ee4bbd83ba2bfa62085664",
       "version_major": 2,
       "version_minor": 0
      },
      "text/plain": [
       "HBox(children=(IntProgress(value=0, max=304), HTML(value='')))"
      ]
     },
     "metadata": {},
     "output_type": "display_data"
    },
    {
     "name": "stdout",
     "output_type": "stream",
     "text": [
      "\n",
      "epoch 2/4 \t valid : loss 0.57913 - spearmanr 0.41061\n",
      "best model: epoch 2 - 0.41061\n",
      "epoch 3: \t Start training...\n"
     ]
    },
    {
     "data": {
      "application/vnd.jupyter.widget-view+json": {
       "model_id": "10ad390f76a0445f9616f5c45930eda0",
       "version_major": 2,
       "version_minor": 0
      },
      "text/plain": [
       "HBox(children=(IntProgress(value=0, max=2736), HTML(value='')))"
      ]
     },
     "metadata": {},
     "output_type": "display_data"
    },
    {
     "name": "stdout",
     "output_type": "stream",
     "text": [
      "\n",
      "epoch 3/4 \t train : loss 0.53562 - spearmanr 0.45148\n",
      "epoch 3: \t Start validation...\n"
     ]
    },
    {
     "data": {
      "application/vnd.jupyter.widget-view+json": {
       "model_id": "0d9e769e28de4af59887dc491fb36b9a",
       "version_major": 2,
       "version_minor": 0
      },
      "text/plain": [
       "HBox(children=(IntProgress(value=0, max=304), HTML(value='')))"
      ]
     },
     "metadata": {},
     "output_type": "display_data"
    },
    {
     "name": "stdout",
     "output_type": "stream",
     "text": [
      "\n",
      "epoch 3/4 \t valid : loss 0.5782 - spearmanr 0.41084\n",
      "best model: epoch 3 - 0.41084\n",
      "TRAINING END: Best score achieved on epoch 3 - 0.41084\n",
      "Starting inference for model: checkpoints/siamese_roberta_2_fold_2_best.pth\n"
     ]
    },
    {
     "data": {
      "application/vnd.jupyter.widget-view+json": {
       "model_id": "0160a99d613543c8aced1bcb1650579b",
       "version_major": 2,
       "version_minor": 0
      },
      "text/plain": [
       "HBox(children=(IntProgress(value=0, max=304), HTML(value='')))"
      ]
     },
     "metadata": {},
     "output_type": "display_data"
    },
    {
     "name": "stdout",
     "output_type": "stream",
     "text": [
      "\n",
      "Averaged Val. score: 0.41084366560821356\n",
      "Starting inference for model: checkpoints/siamese_roberta_2_fold_2_best.pth\n"
     ]
    },
    {
     "data": {
      "application/vnd.jupyter.widget-view+json": {
       "model_id": "4528c99af563456886ab1a5070d45ea2",
       "version_major": 2,
       "version_minor": 0
      },
      "text/plain": [
       "HBox(children=(IntProgress(value=0, max=238), HTML(value='')))"
      ]
     },
     "metadata": {},
     "output_type": "display_data"
    },
    {
     "name": "stdout",
     "output_type": "stream",
     "text": [
      "\n",
      "Fold 3 started at Sat Feb  8 12:47:42 2020\n",
      "epoch 0: \t Start training...\n"
     ]
    },
    {
     "data": {
      "application/vnd.jupyter.widget-view+json": {
       "model_id": "bccaaf9ff0804b5ba4638f2669c3a789",
       "version_major": 2,
       "version_minor": 0
      },
      "text/plain": [
       "HBox(children=(IntProgress(value=0, max=2736), HTML(value='')))"
      ]
     },
     "metadata": {},
     "output_type": "display_data"
    },
    {
     "name": "stdout",
     "output_type": "stream",
     "text": [
      "\n",
      "epoch 0/4 \t train : loss 0.7385 - spearmanr 0.16609\n",
      "epoch 0: \t Start validation...\n"
     ]
    },
    {
     "data": {
      "application/vnd.jupyter.widget-view+json": {
       "model_id": "e3f9645168aa404e9e5094bb12568a1c",
       "version_major": 2,
       "version_minor": 0
      },
      "text/plain": [
       "HBox(children=(IntProgress(value=0, max=304), HTML(value='')))"
      ]
     },
     "metadata": {},
     "output_type": "display_data"
    },
    {
     "name": "stdout",
     "output_type": "stream",
     "text": [
      "\n",
      "epoch 0/4 \t valid : loss 0.61721 - spearmanr 0.32941\n",
      "best model: epoch 0 - 0.32941\n",
      "epoch 1: \t Start training...\n"
     ]
    },
    {
     "data": {
      "application/vnd.jupyter.widget-view+json": {
       "model_id": "1e9ed7f84c1548e794b94aef7f9b292d",
       "version_major": 2,
       "version_minor": 0
      },
      "text/plain": [
       "HBox(children=(IntProgress(value=0, max=2736), HTML(value='')))"
      ]
     },
     "metadata": {},
     "output_type": "display_data"
    },
    {
     "name": "stdout",
     "output_type": "stream",
     "text": [
      "\n",
      "epoch 1/4 \t train : loss 0.59379 - spearmanr 0.35473\n",
      "epoch 1: \t Start validation...\n"
     ]
    },
    {
     "data": {
      "application/vnd.jupyter.widget-view+json": {
       "model_id": "45bb902d2f6b4cc99402007dad1d14b5",
       "version_major": 2,
       "version_minor": 0
      },
      "text/plain": [
       "HBox(children=(IntProgress(value=0, max=304), HTML(value='')))"
      ]
     },
     "metadata": {},
     "output_type": "display_data"
    },
    {
     "name": "stdout",
     "output_type": "stream",
     "text": [
      "\n",
      "epoch 1/4 \t valid : loss 0.59522 - spearmanr 0.371\n",
      "best model: epoch 1 - 0.371\n",
      "epoch 2: \t Start training...\n"
     ]
    },
    {
     "data": {
      "application/vnd.jupyter.widget-view+json": {
       "model_id": "35c85e8c12d8478eb1e5a4b0e43d4824",
       "version_major": 2,
       "version_minor": 0
      },
      "text/plain": [
       "HBox(children=(IntProgress(value=0, max=2736), HTML(value='')))"
      ]
     },
     "metadata": {},
     "output_type": "display_data"
    },
    {
     "name": "stdout",
     "output_type": "stream",
     "text": [
      "\n",
      "epoch 2/4 \t train : loss 0.55647 - spearmanr 0.41626\n",
      "epoch 2: \t Start validation...\n"
     ]
    },
    {
     "data": {
      "application/vnd.jupyter.widget-view+json": {
       "model_id": "96b3201b435849f68ede844a24613fce",
       "version_major": 2,
       "version_minor": 0
      },
      "text/plain": [
       "HBox(children=(IntProgress(value=0, max=304), HTML(value='')))"
      ]
     },
     "metadata": {},
     "output_type": "display_data"
    },
    {
     "name": "stdout",
     "output_type": "stream",
     "text": [
      "\n",
      "epoch 2/4 \t valid : loss 0.58785 - spearmanr 0.39219\n",
      "best model: epoch 2 - 0.39219\n",
      "epoch 3: \t Start training...\n"
     ]
    },
    {
     "data": {
      "application/vnd.jupyter.widget-view+json": {
       "model_id": "2061f30299134c278e003388fd6ae4fc",
       "version_major": 2,
       "version_minor": 0
      },
      "text/plain": [
       "HBox(children=(IntProgress(value=0, max=2736), HTML(value='')))"
      ]
     },
     "metadata": {},
     "output_type": "display_data"
    },
    {
     "name": "stdout",
     "output_type": "stream",
     "text": [
      "\n",
      "epoch 3/4 \t train : loss 0.53415 - spearmanr 0.45424\n",
      "epoch 3: \t Start validation...\n"
     ]
    },
    {
     "data": {
      "application/vnd.jupyter.widget-view+json": {
       "model_id": "c19afe0463174ac5993255d572c9e46b",
       "version_major": 2,
       "version_minor": 0
      },
      "text/plain": [
       "HBox(children=(IntProgress(value=0, max=304), HTML(value='')))"
      ]
     },
     "metadata": {},
     "output_type": "display_data"
    },
    {
     "name": "stdout",
     "output_type": "stream",
     "text": [
      "\n",
      "epoch 3/4 \t valid : loss 0.5838 - spearmanr 0.39314\n",
      "best model: epoch 3 - 0.39314\n",
      "TRAINING END: Best score achieved on epoch 3 - 0.39314\n",
      "Starting inference for model: checkpoints/siamese_roberta_2_fold_3_best.pth\n"
     ]
    },
    {
     "data": {
      "application/vnd.jupyter.widget-view+json": {
       "model_id": "59da7a6a23eb449c9072dfc5e8eddde1",
       "version_major": 2,
       "version_minor": 0
      },
      "text/plain": [
       "HBox(children=(IntProgress(value=0, max=304), HTML(value='')))"
      ]
     },
     "metadata": {},
     "output_type": "display_data"
    },
    {
     "name": "stdout",
     "output_type": "stream",
     "text": [
      "\n",
      "Averaged Val. score: 0.39313618282878465\n",
      "Starting inference for model: checkpoints/siamese_roberta_2_fold_3_best.pth\n"
     ]
    },
    {
     "data": {
      "application/vnd.jupyter.widget-view+json": {
       "model_id": "ac8ccee13e8d4e4d895f906614b63d0b",
       "version_major": 2,
       "version_minor": 0
      },
      "text/plain": [
       "HBox(children=(IntProgress(value=0, max=238), HTML(value='')))"
      ]
     },
     "metadata": {},
     "output_type": "display_data"
    },
    {
     "name": "stdout",
     "output_type": "stream",
     "text": [
      "\n",
      "Fold 4 started at Sat Feb  8 13:08:40 2020\n",
      "epoch 0: \t Start training...\n"
     ]
    },
    {
     "data": {
      "application/vnd.jupyter.widget-view+json": {
       "model_id": "7a332603bcfa4525aeaa68876fc947e2",
       "version_major": 2,
       "version_minor": 0
      },
      "text/plain": [
       "HBox(children=(IntProgress(value=0, max=2736), HTML(value='')))"
      ]
     },
     "metadata": {},
     "output_type": "display_data"
    },
    {
     "name": "stdout",
     "output_type": "stream",
     "text": [
      "\n",
      "epoch 0/4 \t train : loss 0.74966 - spearmanr 0.15573\n",
      "epoch 0: \t Start validation...\n"
     ]
    },
    {
     "data": {
      "application/vnd.jupyter.widget-view+json": {
       "model_id": "c85ec118bcc44caea711cb7c6ddc3576",
       "version_major": 2,
       "version_minor": 0
      },
      "text/plain": [
       "HBox(children=(IntProgress(value=0, max=304), HTML(value='')))"
      ]
     },
     "metadata": {},
     "output_type": "display_data"
    },
    {
     "name": "stdout",
     "output_type": "stream",
     "text": [
      "\n",
      "epoch 0/4 \t valid : loss 0.63052 - spearmanr 0.31392\n",
      "best model: epoch 0 - 0.31392\n",
      "epoch 1: \t Start training...\n"
     ]
    },
    {
     "data": {
      "application/vnd.jupyter.widget-view+json": {
       "model_id": "ec7d0f7f965b4146b81fefcb3823c77b",
       "version_major": 2,
       "version_minor": 0
      },
      "text/plain": [
       "HBox(children=(IntProgress(value=0, max=2736), HTML(value='')))"
      ]
     },
     "metadata": {},
     "output_type": "display_data"
    },
    {
     "name": "stdout",
     "output_type": "stream",
     "text": [
      "\n",
      "epoch 1/4 \t train : loss 0.59662 - spearmanr 0.34843\n",
      "epoch 1: \t Start validation...\n"
     ]
    },
    {
     "data": {
      "application/vnd.jupyter.widget-view+json": {
       "model_id": "d2e6315043cd4de4b27ec93160541e16",
       "version_major": 2,
       "version_minor": 0
      },
      "text/plain": [
       "HBox(children=(IntProgress(value=0, max=304), HTML(value='')))"
      ]
     },
     "metadata": {},
     "output_type": "display_data"
    },
    {
     "name": "stdout",
     "output_type": "stream",
     "text": [
      "\n",
      "epoch 1/4 \t valid : loss 0.59408 - spearmanr 0.36355\n",
      "best model: epoch 1 - 0.36355\n",
      "epoch 2: \t Start training...\n"
     ]
    },
    {
     "data": {
      "application/vnd.jupyter.widget-view+json": {
       "model_id": "3e7fb1e35ab6464ea3ddce1b9445bf28",
       "version_major": 2,
       "version_minor": 0
      },
      "text/plain": [
       "HBox(children=(IntProgress(value=0, max=2736), HTML(value='')))"
      ]
     },
     "metadata": {},
     "output_type": "display_data"
    },
    {
     "name": "stdout",
     "output_type": "stream",
     "text": [
      "\n",
      "epoch 2/4 \t train : loss 0.55925 - spearmanr 0.41322\n",
      "epoch 2: \t Start validation...\n"
     ]
    },
    {
     "data": {
      "application/vnd.jupyter.widget-view+json": {
       "model_id": "0b94256991354243929b6fb701890354",
       "version_major": 2,
       "version_minor": 0
      },
      "text/plain": [
       "HBox(children=(IntProgress(value=0, max=304), HTML(value='')))"
      ]
     },
     "metadata": {},
     "output_type": "display_data"
    },
    {
     "name": "stdout",
     "output_type": "stream",
     "text": [
      "\n",
      "epoch 2/4 \t valid : loss 0.58129 - spearmanr 0.3853\n",
      "best model: epoch 2 - 0.3853\n",
      "epoch 3: \t Start training...\n"
     ]
    },
    {
     "data": {
      "application/vnd.jupyter.widget-view+json": {
       "model_id": "4f3bb85d4fb24ce086b8f50aed080704",
       "version_major": 2,
       "version_minor": 0
      },
      "text/plain": [
       "HBox(children=(IntProgress(value=0, max=2736), HTML(value='')))"
      ]
     },
     "metadata": {},
     "output_type": "display_data"
    },
    {
     "name": "stdout",
     "output_type": "stream",
     "text": [
      "\n",
      "epoch 3/4 \t train : loss 0.5363 - spearmanr 0.4517\n",
      "epoch 3: \t Start validation...\n"
     ]
    },
    {
     "data": {
      "application/vnd.jupyter.widget-view+json": {
       "model_id": "728f708aec664fd2a928f6b5344143b1",
       "version_major": 2,
       "version_minor": 0
      },
      "text/plain": [
       "HBox(children=(IntProgress(value=0, max=304), HTML(value='')))"
      ]
     },
     "metadata": {},
     "output_type": "display_data"
    },
    {
     "name": "stdout",
     "output_type": "stream",
     "text": [
      "\n",
      "epoch 3/4 \t valid : loss 0.58259 - spearmanr 0.3832\n",
      "model not improved for 1 epochs\n",
      "TRAINING END: Best score achieved on epoch 2 - 0.38530\n",
      "Starting inference for model: checkpoints/siamese_roberta_2_fold_4_best.pth\n"
     ]
    },
    {
     "data": {
      "application/vnd.jupyter.widget-view+json": {
       "model_id": "27f321a79fb84052b83af6d2d10551e6",
       "version_major": 2,
       "version_minor": 0
      },
      "text/plain": [
       "HBox(children=(IntProgress(value=0, max=304), HTML(value='')))"
      ]
     },
     "metadata": {},
     "output_type": "display_data"
    },
    {
     "name": "stdout",
     "output_type": "stream",
     "text": [
      "\n",
      "Averaged Val. score: 0.3852993942485329\n",
      "Starting inference for model: checkpoints/siamese_roberta_2_fold_4_best.pth\n"
     ]
    },
    {
     "data": {
      "application/vnd.jupyter.widget-view+json": {
       "model_id": "e84baf98ff2d4177b0fc03a520f3b459",
       "version_major": 2,
       "version_minor": 0
      },
      "text/plain": [
       "HBox(children=(IntProgress(value=0, max=238), HTML(value='')))"
      ]
     },
     "metadata": {},
     "output_type": "display_data"
    },
    {
     "name": "stdout",
     "output_type": "stream",
     "text": [
      "\n",
      "Fold 5 started at Sat Feb  8 13:29:36 2020\n",
      "epoch 0: \t Start training...\n"
     ]
    },
    {
     "data": {
      "application/vnd.jupyter.widget-view+json": {
       "model_id": "8ba726e079b0473392b14748d3d7cc84",
       "version_major": 2,
       "version_minor": 0
      },
      "text/plain": [
       "HBox(children=(IntProgress(value=0, max=2736), HTML(value='')))"
      ]
     },
     "metadata": {},
     "output_type": "display_data"
    },
    {
     "name": "stdout",
     "output_type": "stream",
     "text": [
      "\n",
      "epoch 0/4 \t train : loss 0.74584 - spearmanr 0.15202\n",
      "epoch 0: \t Start validation...\n"
     ]
    },
    {
     "data": {
      "application/vnd.jupyter.widget-view+json": {
       "model_id": "4c70407e7098494a9a8c3062e94aeca4",
       "version_major": 2,
       "version_minor": 0
      },
      "text/plain": [
       "HBox(children=(IntProgress(value=0, max=304), HTML(value='')))"
      ]
     },
     "metadata": {},
     "output_type": "display_data"
    },
    {
     "name": "stdout",
     "output_type": "stream",
     "text": [
      "\n",
      "epoch 0/4 \t valid : loss 0.62053 - spearmanr 0.32849\n",
      "best model: epoch 0 - 0.32849\n",
      "epoch 1: \t Start training...\n"
     ]
    },
    {
     "data": {
      "application/vnd.jupyter.widget-view+json": {
       "model_id": "8d84a8d591ab4066bbf62d1a923f6233",
       "version_major": 2,
       "version_minor": 0
      },
      "text/plain": [
       "HBox(children=(IntProgress(value=0, max=2736), HTML(value='')))"
      ]
     },
     "metadata": {},
     "output_type": "display_data"
    },
    {
     "name": "stdout",
     "output_type": "stream",
     "text": [
      "\n",
      "epoch 1/4 \t train : loss 0.59579 - spearmanr 0.35249\n",
      "epoch 1: \t Start validation...\n"
     ]
    },
    {
     "data": {
      "application/vnd.jupyter.widget-view+json": {
       "model_id": "79878bf45b38435cb41580c434dadbf3",
       "version_major": 2,
       "version_minor": 0
      },
      "text/plain": [
       "HBox(children=(IntProgress(value=0, max=304), HTML(value='')))"
      ]
     },
     "metadata": {},
     "output_type": "display_data"
    },
    {
     "name": "stdout",
     "output_type": "stream",
     "text": [
      "\n",
      "epoch 1/4 \t valid : loss 0.58302 - spearmanr 0.37573\n",
      "best model: epoch 1 - 0.37573\n",
      "epoch 2: \t Start training...\n"
     ]
    },
    {
     "data": {
      "application/vnd.jupyter.widget-view+json": {
       "model_id": "c0286f4e16d14d3087d34ad64ac483e1",
       "version_major": 2,
       "version_minor": 0
      },
      "text/plain": [
       "HBox(children=(IntProgress(value=0, max=2736), HTML(value='')))"
      ]
     },
     "metadata": {},
     "output_type": "display_data"
    },
    {
     "name": "stdout",
     "output_type": "stream",
     "text": [
      "\n",
      "epoch 2/4 \t train : loss 0.55906 - spearmanr 0.41509\n",
      "epoch 2: \t Start validation...\n"
     ]
    },
    {
     "data": {
      "application/vnd.jupyter.widget-view+json": {
       "model_id": "7e00742a737044c1a84a367ad0fd98f5",
       "version_major": 2,
       "version_minor": 0
      },
      "text/plain": [
       "HBox(children=(IntProgress(value=0, max=304), HTML(value='')))"
      ]
     },
     "metadata": {},
     "output_type": "display_data"
    },
    {
     "name": "stdout",
     "output_type": "stream",
     "text": [
      "\n",
      "epoch 2/4 \t valid : loss 0.57229 - spearmanr 0.38564\n",
      "best model: epoch 2 - 0.38564\n",
      "epoch 3: \t Start training...\n"
     ]
    },
    {
     "data": {
      "application/vnd.jupyter.widget-view+json": {
       "model_id": "ac1946eda1f74c658e5ae4b158e22f73",
       "version_major": 2,
       "version_minor": 0
      },
      "text/plain": [
       "HBox(children=(IntProgress(value=0, max=2736), HTML(value='')))"
      ]
     },
     "metadata": {},
     "output_type": "display_data"
    },
    {
     "name": "stdout",
     "output_type": "stream",
     "text": [
      "\n",
      "epoch 3/4 \t train : loss 0.53597 - spearmanr 0.45415\n",
      "epoch 3: \t Start validation...\n"
     ]
    },
    {
     "data": {
      "application/vnd.jupyter.widget-view+json": {
       "model_id": "5301a38385d34047be7baa8ec92dcb8e",
       "version_major": 2,
       "version_minor": 0
      },
      "text/plain": [
       "HBox(children=(IntProgress(value=0, max=304), HTML(value='')))"
      ]
     },
     "metadata": {},
     "output_type": "display_data"
    },
    {
     "name": "stdout",
     "output_type": "stream",
     "text": [
      "\n",
      "epoch 3/4 \t valid : loss 0.57177 - spearmanr 0.39102\n",
      "best model: epoch 3 - 0.39102\n",
      "TRAINING END: Best score achieved on epoch 3 - 0.39102\n",
      "Starting inference for model: checkpoints/siamese_roberta_2_fold_5_best.pth\n"
     ]
    },
    {
     "data": {
      "application/vnd.jupyter.widget-view+json": {
       "model_id": "6e7a2ffc73254f1ab543ee62cbea60f8",
       "version_major": 2,
       "version_minor": 0
      },
      "text/plain": [
       "HBox(children=(IntProgress(value=0, max=304), HTML(value='')))"
      ]
     },
     "metadata": {},
     "output_type": "display_data"
    },
    {
     "name": "stdout",
     "output_type": "stream",
     "text": [
      "\n",
      "Averaged Val. score: 0.39102337567964107\n",
      "Starting inference for model: checkpoints/siamese_roberta_2_fold_5_best.pth\n"
     ]
    },
    {
     "data": {
      "application/vnd.jupyter.widget-view+json": {
       "model_id": "a2c545ba6b724c6bac93d832b970e77c",
       "version_major": 2,
       "version_minor": 0
      },
      "text/plain": [
       "HBox(children=(IntProgress(value=0, max=238), HTML(value='')))"
      ]
     },
     "metadata": {},
     "output_type": "display_data"
    },
    {
     "name": "stdout",
     "output_type": "stream",
     "text": [
      "\n",
      "Fold 6 started at Sat Feb  8 13:50:51 2020\n",
      "epoch 0: \t Start training...\n"
     ]
    },
    {
     "data": {
      "application/vnd.jupyter.widget-view+json": {
       "model_id": "d531c79995674862a24c71280b9464e4",
       "version_major": 2,
       "version_minor": 0
      },
      "text/plain": [
       "HBox(children=(IntProgress(value=0, max=2736), HTML(value='')))"
      ]
     },
     "metadata": {},
     "output_type": "display_data"
    },
    {
     "name": "stdout",
     "output_type": "stream",
     "text": [
      "\n",
      "epoch 0/4 \t train : loss 0.74048 - spearmanr 0.16869\n",
      "epoch 0: \t Start validation...\n"
     ]
    },
    {
     "data": {
      "application/vnd.jupyter.widget-view+json": {
       "model_id": "07d10c56b8564f6698910dc2fe8fddae",
       "version_major": 2,
       "version_minor": 0
      },
      "text/plain": [
       "HBox(children=(IntProgress(value=0, max=304), HTML(value='')))"
      ]
     },
     "metadata": {},
     "output_type": "display_data"
    },
    {
     "name": "stdout",
     "output_type": "stream",
     "text": [
      "\n",
      "epoch 0/4 \t valid : loss 0.61032 - spearmanr 0.32578\n",
      "best model: epoch 0 - 0.32578\n",
      "epoch 1: \t Start training...\n"
     ]
    },
    {
     "data": {
      "application/vnd.jupyter.widget-view+json": {
       "model_id": "cf8157e7217a49b297e2494401cd203e",
       "version_major": 2,
       "version_minor": 0
      },
      "text/plain": [
       "HBox(children=(IntProgress(value=0, max=2736), HTML(value='')))"
      ]
     },
     "metadata": {},
     "output_type": "display_data"
    },
    {
     "name": "stdout",
     "output_type": "stream",
     "text": [
      "\n",
      "epoch 1/4 \t train : loss 0.59566 - spearmanr 0.35297\n",
      "epoch 1: \t Start validation...\n"
     ]
    },
    {
     "data": {
      "application/vnd.jupyter.widget-view+json": {
       "model_id": "78ec422dbe3c49668f7f54666daccc60",
       "version_major": 2,
       "version_minor": 0
      },
      "text/plain": [
       "HBox(children=(IntProgress(value=0, max=304), HTML(value='')))"
      ]
     },
     "metadata": {},
     "output_type": "display_data"
    },
    {
     "name": "stdout",
     "output_type": "stream",
     "text": [
      "\n",
      "epoch 1/4 \t valid : loss 0.58257 - spearmanr 0.37191\n",
      "best model: epoch 1 - 0.37191\n",
      "epoch 2: \t Start training...\n"
     ]
    },
    {
     "data": {
      "application/vnd.jupyter.widget-view+json": {
       "model_id": "d251c0c6150449ea861d3d4e800d241b",
       "version_major": 2,
       "version_minor": 0
      },
      "text/plain": [
       "HBox(children=(IntProgress(value=0, max=2736), HTML(value='')))"
      ]
     },
     "metadata": {},
     "output_type": "display_data"
    },
    {
     "name": "stdout",
     "output_type": "stream",
     "text": [
      "\n",
      "epoch 2/4 \t train : loss 0.55978 - spearmanr 0.41428\n",
      "epoch 2: \t Start validation...\n"
     ]
    },
    {
     "data": {
      "application/vnd.jupyter.widget-view+json": {
       "model_id": "4977dcfa4f584b47a4b7ec01631cd506",
       "version_major": 2,
       "version_minor": 0
      },
      "text/plain": [
       "HBox(children=(IntProgress(value=0, max=304), HTML(value='')))"
      ]
     },
     "metadata": {},
     "output_type": "display_data"
    },
    {
     "name": "stdout",
     "output_type": "stream",
     "text": [
      "\n",
      "epoch 2/4 \t valid : loss 0.57329 - spearmanr 0.38292\n",
      "best model: epoch 2 - 0.38292\n",
      "epoch 3: \t Start training...\n"
     ]
    },
    {
     "data": {
      "application/vnd.jupyter.widget-view+json": {
       "model_id": "710d66db934c4d1ead9f2171f7994379",
       "version_major": 2,
       "version_minor": 0
      },
      "text/plain": [
       "HBox(children=(IntProgress(value=0, max=2736), HTML(value='')))"
      ]
     },
     "metadata": {},
     "output_type": "display_data"
    },
    {
     "name": "stdout",
     "output_type": "stream",
     "text": [
      "\n",
      "epoch 3/4 \t train : loss 0.53651 - spearmanr 0.45335\n",
      "epoch 3: \t Start validation...\n"
     ]
    },
    {
     "data": {
      "application/vnd.jupyter.widget-view+json": {
       "model_id": "8b1fb2d631b141f290f53d45f5b7093f",
       "version_major": 2,
       "version_minor": 0
      },
      "text/plain": [
       "HBox(children=(IntProgress(value=0, max=304), HTML(value='')))"
      ]
     },
     "metadata": {},
     "output_type": "display_data"
    },
    {
     "name": "stdout",
     "output_type": "stream",
     "text": [
      "\n",
      "epoch 3/4 \t valid : loss 0.57102 - spearmanr 0.38856\n",
      "best model: epoch 3 - 0.38856\n",
      "TRAINING END: Best score achieved on epoch 3 - 0.38856\n",
      "Starting inference for model: checkpoints/siamese_roberta_2_fold_6_best.pth\n"
     ]
    },
    {
     "data": {
      "application/vnd.jupyter.widget-view+json": {
       "model_id": "0bb48d57d8304f108f71b6fd0e2b96ed",
       "version_major": 2,
       "version_minor": 0
      },
      "text/plain": [
       "HBox(children=(IntProgress(value=0, max=304), HTML(value='')))"
      ]
     },
     "metadata": {},
     "output_type": "display_data"
    },
    {
     "name": "stdout",
     "output_type": "stream",
     "text": [
      "\n",
      "Averaged Val. score: 0.38855511626422556\n",
      "Starting inference for model: checkpoints/siamese_roberta_2_fold_6_best.pth\n"
     ]
    },
    {
     "data": {
      "application/vnd.jupyter.widget-view+json": {
       "model_id": "b36c4fef6c09415380fe25c4baf0cffd",
       "version_major": 2,
       "version_minor": 0
      },
      "text/plain": [
       "HBox(children=(IntProgress(value=0, max=238), HTML(value='')))"
      ]
     },
     "metadata": {},
     "output_type": "display_data"
    },
    {
     "name": "stdout",
     "output_type": "stream",
     "text": [
      "\n",
      "Fold 7 started at Sat Feb  8 14:12:32 2020\n",
      "epoch 0: \t Start training...\n"
     ]
    },
    {
     "data": {
      "application/vnd.jupyter.widget-view+json": {
       "model_id": "6385c23d781b42bfac935f793ad3c603",
       "version_major": 2,
       "version_minor": 0
      },
      "text/plain": [
       "HBox(children=(IntProgress(value=0, max=2736), HTML(value='')))"
      ]
     },
     "metadata": {},
     "output_type": "display_data"
    },
    {
     "name": "stdout",
     "output_type": "stream",
     "text": [
      "\n",
      "epoch 0/4 \t train : loss 0.73956 - spearmanr 0.16518\n",
      "epoch 0: \t Start validation...\n"
     ]
    },
    {
     "data": {
      "application/vnd.jupyter.widget-view+json": {
       "model_id": "fd25f362f7534e07994f5165914cd319",
       "version_major": 2,
       "version_minor": 0
      },
      "text/plain": [
       "HBox(children=(IntProgress(value=0, max=304), HTML(value='')))"
      ]
     },
     "metadata": {},
     "output_type": "display_data"
    },
    {
     "name": "stdout",
     "output_type": "stream",
     "text": [
      "\n",
      "epoch 0/4 \t valid : loss 0.63105 - spearmanr 0.32095\n",
      "best model: epoch 0 - 0.32095\n",
      "epoch 1: \t Start training...\n"
     ]
    },
    {
     "data": {
      "application/vnd.jupyter.widget-view+json": {
       "model_id": "5b813e1160cb4632be39ea9d2c58c590",
       "version_major": 2,
       "version_minor": 0
      },
      "text/plain": [
       "HBox(children=(IntProgress(value=0, max=2736), HTML(value='')))"
      ]
     },
     "metadata": {},
     "output_type": "display_data"
    },
    {
     "name": "stdout",
     "output_type": "stream",
     "text": [
      "\n",
      "epoch 1/4 \t train : loss 0.59557 - spearmanr 0.34883\n",
      "epoch 1: \t Start validation...\n"
     ]
    },
    {
     "data": {
      "application/vnd.jupyter.widget-view+json": {
       "model_id": "110a5ca6b4e4478fab36fa2b8f51a79a",
       "version_major": 2,
       "version_minor": 0
      },
      "text/plain": [
       "HBox(children=(IntProgress(value=0, max=304), HTML(value='')))"
      ]
     },
     "metadata": {},
     "output_type": "display_data"
    },
    {
     "name": "stdout",
     "output_type": "stream",
     "text": [
      "\n",
      "epoch 1/4 \t valid : loss 0.59923 - spearmanr 0.37957\n",
      "best model: epoch 1 - 0.37957\n",
      "epoch 2: \t Start training...\n"
     ]
    },
    {
     "data": {
      "application/vnd.jupyter.widget-view+json": {
       "model_id": "719d1723ab704ac5935337b8f01ef5b1",
       "version_major": 2,
       "version_minor": 0
      },
      "text/plain": [
       "HBox(children=(IntProgress(value=0, max=2736), HTML(value='')))"
      ]
     },
     "metadata": {},
     "output_type": "display_data"
    },
    {
     "name": "stdout",
     "output_type": "stream",
     "text": [
      "\n",
      "epoch 2/4 \t train : loss 0.5598 - spearmanr 0.41028\n",
      "epoch 2: \t Start validation...\n"
     ]
    },
    {
     "data": {
      "application/vnd.jupyter.widget-view+json": {
       "model_id": "c35da2d3da144aee975cd1670d49d525",
       "version_major": 2,
       "version_minor": 0
      },
      "text/plain": [
       "HBox(children=(IntProgress(value=0, max=304), HTML(value='')))"
      ]
     },
     "metadata": {},
     "output_type": "display_data"
    },
    {
     "name": "stdout",
     "output_type": "stream",
     "text": [
      "\n",
      "epoch 2/4 \t valid : loss 0.5914 - spearmanr 0.39316\n",
      "best model: epoch 2 - 0.39316\n",
      "epoch 3: \t Start training...\n"
     ]
    },
    {
     "data": {
      "application/vnd.jupyter.widget-view+json": {
       "model_id": "7673fdcc809c4120b9ac615d5293eb3c",
       "version_major": 2,
       "version_minor": 0
      },
      "text/plain": [
       "HBox(children=(IntProgress(value=0, max=2736), HTML(value='')))"
      ]
     },
     "metadata": {},
     "output_type": "display_data"
    },
    {
     "name": "stdout",
     "output_type": "stream",
     "text": [
      "\n",
      "epoch 3/4 \t train : loss 0.53596 - spearmanr 0.44988\n",
      "epoch 3: \t Start validation...\n"
     ]
    },
    {
     "data": {
      "application/vnd.jupyter.widget-view+json": {
       "model_id": "3a9edb5ac3184cb9b4da9ac1000c234b",
       "version_major": 2,
       "version_minor": 0
      },
      "text/plain": [
       "HBox(children=(IntProgress(value=0, max=304), HTML(value='')))"
      ]
     },
     "metadata": {},
     "output_type": "display_data"
    },
    {
     "name": "stdout",
     "output_type": "stream",
     "text": [
      "\n",
      "epoch 3/4 \t valid : loss 0.58536 - spearmanr 0.4\n",
      "best model: epoch 3 - 0.4\n",
      "TRAINING END: Best score achieved on epoch 3 - 0.40000\n",
      "Starting inference for model: checkpoints/siamese_roberta_2_fold_7_best.pth\n"
     ]
    },
    {
     "data": {
      "application/vnd.jupyter.widget-view+json": {
       "model_id": "251af1213370449482a45566dc5875b5",
       "version_major": 2,
       "version_minor": 0
      },
      "text/plain": [
       "HBox(children=(IntProgress(value=0, max=304), HTML(value='')))"
      ]
     },
     "metadata": {},
     "output_type": "display_data"
    },
    {
     "name": "stdout",
     "output_type": "stream",
     "text": [
      "\n",
      "Averaged Val. score: 0.40000193034500864\n",
      "Starting inference for model: checkpoints/siamese_roberta_2_fold_7_best.pth\n"
     ]
    },
    {
     "data": {
      "application/vnd.jupyter.widget-view+json": {
       "model_id": "bd1331f7d84547be8b88a773236dc973",
       "version_major": 2,
       "version_minor": 0
      },
      "text/plain": [
       "HBox(children=(IntProgress(value=0, max=238), HTML(value='')))"
      ]
     },
     "metadata": {},
     "output_type": "display_data"
    },
    {
     "name": "stdout",
     "output_type": "stream",
     "text": [
      "\n",
      "Fold 8 started at Sat Feb  8 14:33:45 2020\n",
      "epoch 0: \t Start training...\n"
     ]
    },
    {
     "data": {
      "application/vnd.jupyter.widget-view+json": {
       "model_id": "65cac06f812347ccba62b636acbd4413",
       "version_major": 2,
       "version_minor": 0
      },
      "text/plain": [
       "HBox(children=(IntProgress(value=0, max=2736), HTML(value='')))"
      ]
     },
     "metadata": {},
     "output_type": "display_data"
    },
    {
     "name": "stdout",
     "output_type": "stream",
     "text": [
      "\n",
      "epoch 0/4 \t train : loss 0.73684 - spearmanr 0.16875\n",
      "epoch 0: \t Start validation...\n"
     ]
    },
    {
     "data": {
      "application/vnd.jupyter.widget-view+json": {
       "model_id": "068e422c7b3c41acaa147e419d7c2f03",
       "version_major": 2,
       "version_minor": 0
      },
      "text/plain": [
       "HBox(children=(IntProgress(value=0, max=304), HTML(value='')))"
      ]
     },
     "metadata": {},
     "output_type": "display_data"
    },
    {
     "name": "stdout",
     "output_type": "stream",
     "text": [
      "\n",
      "epoch 0/4 \t valid : loss 0.62734 - spearmanr 0.33854\n",
      "best model: epoch 0 - 0.33854\n",
      "epoch 1: \t Start training...\n"
     ]
    },
    {
     "data": {
      "application/vnd.jupyter.widget-view+json": {
       "model_id": "d58790ebd18b4f9584d765239fbe68ac",
       "version_major": 2,
       "version_minor": 0
      },
      "text/plain": [
       "HBox(children=(IntProgress(value=0, max=2736), HTML(value='')))"
      ]
     },
     "metadata": {},
     "output_type": "display_data"
    },
    {
     "name": "stdout",
     "output_type": "stream",
     "text": [
      "\n",
      "epoch 1/4 \t train : loss 0.59634 - spearmanr 0.3461\n",
      "epoch 1: \t Start validation...\n"
     ]
    },
    {
     "data": {
      "application/vnd.jupyter.widget-view+json": {
       "model_id": "b888e6c2506d4211ba8add710b481a84",
       "version_major": 2,
       "version_minor": 0
      },
      "text/plain": [
       "HBox(children=(IntProgress(value=0, max=304), HTML(value='')))"
      ]
     },
     "metadata": {},
     "output_type": "display_data"
    },
    {
     "name": "stdout",
     "output_type": "stream",
     "text": [
      "\n",
      "epoch 1/4 \t valid : loss 0.58492 - spearmanr 0.39048\n",
      "best model: epoch 1 - 0.39048\n",
      "epoch 2: \t Start training...\n"
     ]
    },
    {
     "data": {
      "application/vnd.jupyter.widget-view+json": {
       "model_id": "2baf45e474f744608efe2ca6a0ec3774",
       "version_major": 2,
       "version_minor": 0
      },
      "text/plain": [
       "HBox(children=(IntProgress(value=0, max=2736), HTML(value='')))"
      ]
     },
     "metadata": {},
     "output_type": "display_data"
    },
    {
     "name": "stdout",
     "output_type": "stream",
     "text": [
      "\n",
      "epoch 2/4 \t train : loss 0.55948 - spearmanr 0.40997\n",
      "epoch 2: \t Start validation...\n"
     ]
    },
    {
     "data": {
      "application/vnd.jupyter.widget-view+json": {
       "model_id": "904d0103f9e745fc8ba7697fb1400958",
       "version_major": 2,
       "version_minor": 0
      },
      "text/plain": [
       "HBox(children=(IntProgress(value=0, max=304), HTML(value='')))"
      ]
     },
     "metadata": {},
     "output_type": "display_data"
    },
    {
     "name": "stdout",
     "output_type": "stream",
     "text": [
      "\n",
      "epoch 2/4 \t valid : loss 0.58077 - spearmanr 0.40505\n",
      "best model: epoch 2 - 0.40505\n",
      "epoch 3: \t Start training...\n"
     ]
    },
    {
     "data": {
      "application/vnd.jupyter.widget-view+json": {
       "model_id": "a893622b8dea4a6ca5ca10af2b948031",
       "version_major": 2,
       "version_minor": 0
      },
      "text/plain": [
       "HBox(children=(IntProgress(value=0, max=2736), HTML(value='')))"
      ]
     },
     "metadata": {},
     "output_type": "display_data"
    },
    {
     "name": "stdout",
     "output_type": "stream",
     "text": [
      "\n",
      "epoch 3/4 \t train : loss 0.536 - spearmanr 0.44974\n",
      "epoch 3: \t Start validation...\n"
     ]
    },
    {
     "data": {
      "application/vnd.jupyter.widget-view+json": {
       "model_id": "4333e53c6a0d408890c56e834432231e",
       "version_major": 2,
       "version_minor": 0
      },
      "text/plain": [
       "HBox(children=(IntProgress(value=0, max=304), HTML(value='')))"
      ]
     },
     "metadata": {},
     "output_type": "display_data"
    },
    {
     "name": "stdout",
     "output_type": "stream",
     "text": [
      "\n",
      "epoch 3/4 \t valid : loss 0.57849 - spearmanr 0.40667\n",
      "best model: epoch 3 - 0.40667\n",
      "TRAINING END: Best score achieved on epoch 3 - 0.40667\n",
      "Starting inference for model: checkpoints/siamese_roberta_2_fold_8_best.pth\n"
     ]
    },
    {
     "data": {
      "application/vnd.jupyter.widget-view+json": {
       "model_id": "f1a4a3926c2d494daf6007a14acab37a",
       "version_major": 2,
       "version_minor": 0
      },
      "text/plain": [
       "HBox(children=(IntProgress(value=0, max=304), HTML(value='')))"
      ]
     },
     "metadata": {},
     "output_type": "display_data"
    },
    {
     "name": "stdout",
     "output_type": "stream",
     "text": [
      "\n",
      "Averaged Val. score: 0.40667213448650236\n",
      "Starting inference for model: checkpoints/siamese_roberta_2_fold_8_best.pth\n"
     ]
    },
    {
     "data": {
      "application/vnd.jupyter.widget-view+json": {
       "model_id": "ae4677a7bb50410ea292367d8bffb628",
       "version_major": 2,
       "version_minor": 0
      },
      "text/plain": [
       "HBox(children=(IntProgress(value=0, max=238), HTML(value='')))"
      ]
     },
     "metadata": {},
     "output_type": "display_data"
    },
    {
     "name": "stdout",
     "output_type": "stream",
     "text": [
      "\n",
      "Fold 9 started at Sat Feb  8 14:55:03 2020\n",
      "epoch 0: \t Start training...\n"
     ]
    },
    {
     "data": {
      "application/vnd.jupyter.widget-view+json": {
       "model_id": "4d6f4a8755ca48d8bcaad1af96b4c64a",
       "version_major": 2,
       "version_minor": 0
      },
      "text/plain": [
       "HBox(children=(IntProgress(value=0, max=2736), HTML(value='')))"
      ]
     },
     "metadata": {},
     "output_type": "display_data"
    },
    {
     "name": "stdout",
     "output_type": "stream",
     "text": [
      "\n",
      "epoch 0/4 \t train : loss 0.74413 - spearmanr 0.16617\n",
      "epoch 0: \t Start validation...\n"
     ]
    },
    {
     "data": {
      "application/vnd.jupyter.widget-view+json": {
       "model_id": "9ae4f65daebc47d984fe8ea0cb775d8d",
       "version_major": 2,
       "version_minor": 0
      },
      "text/plain": [
       "HBox(children=(IntProgress(value=0, max=304), HTML(value='')))"
      ]
     },
     "metadata": {},
     "output_type": "display_data"
    },
    {
     "name": "stdout",
     "output_type": "stream",
     "text": [
      "\n",
      "epoch 0/4 \t valid : loss 0.60382 - spearmanr 0.32926\n",
      "best model: epoch 0 - 0.32926\n",
      "epoch 1: \t Start training...\n"
     ]
    },
    {
     "data": {
      "application/vnd.jupyter.widget-view+json": {
       "model_id": "702268706a5544829eb50621afee78c8",
       "version_major": 2,
       "version_minor": 0
      },
      "text/plain": [
       "HBox(children=(IntProgress(value=0, max=2736), HTML(value='')))"
      ]
     },
     "metadata": {},
     "output_type": "display_data"
    },
    {
     "name": "stdout",
     "output_type": "stream",
     "text": [
      "\n",
      "epoch 1/4 \t train : loss 0.59307 - spearmanr 0.35702\n",
      "epoch 1: \t Start validation...\n"
     ]
    },
    {
     "data": {
      "application/vnd.jupyter.widget-view+json": {
       "model_id": "4d81405c61e9405daadc0acf398fed81",
       "version_major": 2,
       "version_minor": 0
      },
      "text/plain": [
       "HBox(children=(IntProgress(value=0, max=304), HTML(value='')))"
      ]
     },
     "metadata": {},
     "output_type": "display_data"
    },
    {
     "name": "stdout",
     "output_type": "stream",
     "text": [
      "\n",
      "epoch 1/4 \t valid : loss 0.58094 - spearmanr 0.37198\n",
      "best model: epoch 1 - 0.37198\n",
      "epoch 2: \t Start training...\n"
     ]
    },
    {
     "data": {
      "application/vnd.jupyter.widget-view+json": {
       "model_id": "bab6a278ca884a5b891ffa806ef79e49",
       "version_major": 2,
       "version_minor": 0
      },
      "text/plain": [
       "HBox(children=(IntProgress(value=0, max=2736), HTML(value='')))"
      ]
     },
     "metadata": {},
     "output_type": "display_data"
    },
    {
     "name": "stdout",
     "output_type": "stream",
     "text": [
      "\n",
      "epoch 2/4 \t train : loss 0.55798 - spearmanr 0.41633\n",
      "epoch 2: \t Start validation...\n"
     ]
    },
    {
     "data": {
      "application/vnd.jupyter.widget-view+json": {
       "model_id": "90f1d94dd05641a1b387461d74abf97d",
       "version_major": 2,
       "version_minor": 0
      },
      "text/plain": [
       "HBox(children=(IntProgress(value=0, max=304), HTML(value='')))"
      ]
     },
     "metadata": {},
     "output_type": "display_data"
    },
    {
     "name": "stdout",
     "output_type": "stream",
     "text": [
      "\n",
      "epoch 2/4 \t valid : loss 0.57206 - spearmanr 0.38167\n",
      "best model: epoch 2 - 0.38167\n",
      "epoch 3: \t Start training...\n"
     ]
    },
    {
     "data": {
      "application/vnd.jupyter.widget-view+json": {
       "model_id": "63b60c0532c4435dbebcf3674809927e",
       "version_major": 2,
       "version_minor": 0
      },
      "text/plain": [
       "HBox(children=(IntProgress(value=0, max=2736), HTML(value='')))"
      ]
     },
     "metadata": {},
     "output_type": "display_data"
    },
    {
     "name": "stdout",
     "output_type": "stream",
     "text": [
      "\n",
      "epoch 3/4 \t train : loss 0.53507 - spearmanr 0.45492\n",
      "epoch 3: \t Start validation...\n"
     ]
    },
    {
     "data": {
      "application/vnd.jupyter.widget-view+json": {
       "model_id": "b83cbab35d994c0cb6c6cb3b768c72e3",
       "version_major": 2,
       "version_minor": 0
      },
      "text/plain": [
       "HBox(children=(IntProgress(value=0, max=304), HTML(value='')))"
      ]
     },
     "metadata": {},
     "output_type": "display_data"
    },
    {
     "name": "stdout",
     "output_type": "stream",
     "text": [
      "\n",
      "epoch 3/4 \t valid : loss 0.57018 - spearmanr 0.38573\n",
      "best model: epoch 3 - 0.38573\n",
      "TRAINING END: Best score achieved on epoch 3 - 0.38573\n",
      "Starting inference for model: checkpoints/siamese_roberta_2_fold_9_best.pth\n"
     ]
    },
    {
     "data": {
      "application/vnd.jupyter.widget-view+json": {
       "model_id": "4c38c6236d5c4f8387dea6042218dff4",
       "version_major": 2,
       "version_minor": 0
      },
      "text/plain": [
       "HBox(children=(IntProgress(value=0, max=304), HTML(value='')))"
      ]
     },
     "metadata": {},
     "output_type": "display_data"
    },
    {
     "name": "stdout",
     "output_type": "stream",
     "text": [
      "\n",
      "Averaged Val. score: 0.385725863070417\n",
      "Starting inference for model: checkpoints/siamese_roberta_2_fold_9_best.pth\n"
     ]
    },
    {
     "data": {
      "application/vnd.jupyter.widget-view+json": {
       "model_id": "1639a45570194cbc956f771f434064aa",
       "version_major": 2,
       "version_minor": 0
      },
      "text/plain": [
       "HBox(children=(IntProgress(value=0, max=238), HTML(value='')))"
      ]
     },
     "metadata": {},
     "output_type": "display_data"
    },
    {
     "name": "stdout",
     "output_type": "stream",
     "text": [
      "\n",
      "Fold 10 started at Sat Feb  8 15:16:21 2020\n",
      "epoch 0: \t Start training...\n"
     ]
    },
    {
     "data": {
      "application/vnd.jupyter.widget-view+json": {
       "model_id": "a6d59a37d36b4d35a3caa7c84ce2a582",
       "version_major": 2,
       "version_minor": 0
      },
      "text/plain": [
       "HBox(children=(IntProgress(value=0, max=2736), HTML(value='')))"
      ]
     },
     "metadata": {},
     "output_type": "display_data"
    },
    {
     "name": "stdout",
     "output_type": "stream",
     "text": [
      "\n",
      "epoch 0/4 \t train : loss 0.74623 - spearmanr 0.15989\n",
      "epoch 0: \t Start validation...\n"
     ]
    },
    {
     "data": {
      "application/vnd.jupyter.widget-view+json": {
       "model_id": "72424931b1324b188152b0793ed86cf9",
       "version_major": 2,
       "version_minor": 0
      },
      "text/plain": [
       "HBox(children=(IntProgress(value=0, max=304), HTML(value='')))"
      ]
     },
     "metadata": {},
     "output_type": "display_data"
    },
    {
     "name": "stdout",
     "output_type": "stream",
     "text": [
      "\n",
      "epoch 0/4 \t valid : loss 0.61239 - spearmanr 0.3387\n",
      "best model: epoch 0 - 0.3387\n",
      "epoch 1: \t Start training...\n"
     ]
    },
    {
     "data": {
      "application/vnd.jupyter.widget-view+json": {
       "model_id": "ae5de772794444f78bb33f3739ffdc2e",
       "version_major": 2,
       "version_minor": 0
      },
      "text/plain": [
       "HBox(children=(IntProgress(value=0, max=2736), HTML(value='')))"
      ]
     },
     "metadata": {},
     "output_type": "display_data"
    },
    {
     "name": "stdout",
     "output_type": "stream",
     "text": [
      "\n",
      "epoch 1/4 \t train : loss 0.59732 - spearmanr 0.34953\n",
      "epoch 1: \t Start validation...\n"
     ]
    },
    {
     "data": {
      "application/vnd.jupyter.widget-view+json": {
       "model_id": "35c88b2d78ae450ca5ea7b0ad0d1d2af",
       "version_major": 2,
       "version_minor": 0
      },
      "text/plain": [
       "HBox(children=(IntProgress(value=0, max=304), HTML(value='')))"
      ]
     },
     "metadata": {},
     "output_type": "display_data"
    },
    {
     "name": "stdout",
     "output_type": "stream",
     "text": [
      "\n",
      "epoch 1/4 \t valid : loss 0.5765 - spearmanr 0.39835\n",
      "best model: epoch 1 - 0.39835\n",
      "epoch 2: \t Start training...\n"
     ]
    },
    {
     "data": {
      "application/vnd.jupyter.widget-view+json": {
       "model_id": "53c11feeee7542418d5032841946110c",
       "version_major": 2,
       "version_minor": 0
      },
      "text/plain": [
       "HBox(children=(IntProgress(value=0, max=2736), HTML(value='')))"
      ]
     },
     "metadata": {},
     "output_type": "display_data"
    },
    {
     "name": "stdout",
     "output_type": "stream",
     "text": [
      "\n",
      "epoch 2/4 \t train : loss 0.56073 - spearmanr 0.41156\n",
      "epoch 2: \t Start validation...\n"
     ]
    },
    {
     "data": {
      "application/vnd.jupyter.widget-view+json": {
       "model_id": "95ca63e11b8e4415af3d91aa54b589d5",
       "version_major": 2,
       "version_minor": 0
      },
      "text/plain": [
       "HBox(children=(IntProgress(value=0, max=304), HTML(value='')))"
      ]
     },
     "metadata": {},
     "output_type": "display_data"
    },
    {
     "name": "stdout",
     "output_type": "stream",
     "text": [
      "\n",
      "epoch 2/4 \t valid : loss 0.56751 - spearmanr 0.40789\n",
      "best model: epoch 2 - 0.40789\n",
      "epoch 3: \t Start training...\n"
     ]
    },
    {
     "data": {
      "application/vnd.jupyter.widget-view+json": {
       "model_id": "89cc6bf4ee2a4ed69c3222dca901a953",
       "version_major": 2,
       "version_minor": 0
      },
      "text/plain": [
       "HBox(children=(IntProgress(value=0, max=2736), HTML(value='')))"
      ]
     },
     "metadata": {},
     "output_type": "display_data"
    },
    {
     "name": "stdout",
     "output_type": "stream",
     "text": [
      "\n",
      "epoch 3/4 \t train : loss 0.53729 - spearmanr 0.45186\n",
      "epoch 3: \t Start validation...\n"
     ]
    },
    {
     "data": {
      "application/vnd.jupyter.widget-view+json": {
       "model_id": "d997b1f74b1547e4b29a1d5c79b64aa5",
       "version_major": 2,
       "version_minor": 0
      },
      "text/plain": [
       "HBox(children=(IntProgress(value=0, max=304), HTML(value='')))"
      ]
     },
     "metadata": {},
     "output_type": "display_data"
    },
    {
     "name": "stdout",
     "output_type": "stream",
     "text": [
      "\n",
      "epoch 3/4 \t valid : loss 0.56328 - spearmanr 0.4092\n",
      "best model: epoch 3 - 0.4092\n",
      "TRAINING END: Best score achieved on epoch 3 - 0.40920\n",
      "Starting inference for model: checkpoints/siamese_roberta_2_fold_10_best.pth\n"
     ]
    },
    {
     "data": {
      "application/vnd.jupyter.widget-view+json": {
       "model_id": "3ba9e4136ef147db83b8fc55990997d1",
       "version_major": 2,
       "version_minor": 0
      },
      "text/plain": [
       "HBox(children=(IntProgress(value=0, max=304), HTML(value='')))"
      ]
     },
     "metadata": {},
     "output_type": "display_data"
    },
    {
     "name": "stdout",
     "output_type": "stream",
     "text": [
      "\n",
      "Averaged Val. score: 0.4092001073910475\n",
      "Starting inference for model: checkpoints/siamese_roberta_2_fold_10_best.pth\n"
     ]
    },
    {
     "data": {
      "application/vnd.jupyter.widget-view+json": {
       "model_id": "1e99422c69814d8386ec7abf4c586b1c",
       "version_major": 2,
       "version_minor": 0
      },
      "text/plain": [
       "HBox(children=(IntProgress(value=0, max=238), HTML(value='')))"
      ]
     },
     "metadata": {},
     "output_type": "display_data"
    },
    {
     "name": "stdout",
     "output_type": "stream",
     "text": [
      "\n",
      "OOF score: 0.39831712163310157\n"
     ]
    }
   ],
   "source": [
    "init_seed()\n",
    "folds = GroupKFold(n_splits=n_folds).split(X=train['question_body'], groups=train['question_body'])\n",
    "oofs = np.zeros((len(train), N_TARGETS))\n",
    "preds = np.zeros((len(test), N_TARGETS))\n",
    "\n",
    "for fold_id, (train_index, valid_index) in enumerate(folds):\n",
    "    print(f'Fold {fold_id + 1} started at {time.ctime()}')\n",
    "    train_loader = DataLoader(\n",
    "        TextDataset(cat_features_train, ids_train, seg_ids_train, train_index, targets=y), \n",
    "        batch_size=bs, shuffle=True, num_workers=num_workers, drop_last=False\n",
    "    )\n",
    "    valid_loader = DataLoader(\n",
    "        TextDataset(cat_features_train, ids_train, seg_ids_train, valid_index, targets=y), \n",
    "        batch_size=bs, shuffle=False, num_workers=num_workers, drop_last=False\n",
    "    )\n",
    "    model = CustomRoberta(cat_features_train.shape[1])\n",
    "    \n",
    "    if fold_id == 0:\n",
    "#         print(model)\n",
    "        model = model.to(device)\n",
    "        optimizer = get_optimizer(model, lr, weight_decay)\n",
    "        lr_finder = LRFinder(n_iter=min(grad_accum*100, len(train_loader)), start_lr=1e-5, \n",
    "                             end_lr=1, device=device, grad_accum=grad_accum, divergence_factor=5)\n",
    "        lr_finder.find_lr(model, optimizer, train_loader, loss_fn)\n",
    "        plt.show()\n",
    "    \n",
    "    optimizer = get_optimizer(model, lr, weight_decay)\n",
    "    scheduler = OneCycleLR(optimizer, n_epochs=n_epochs, n_batches=len(train_loader))\n",
    "\n",
    "    learner = Learner(\n",
    "        model, \n",
    "        optimizer, \n",
    "        train_loader, \n",
    "        valid_loader, \n",
    "        loss_fn, \n",
    "        device, \n",
    "        n_epochs, \n",
    "        f'{model_name}_fold_{fold_id + 1}', \n",
    "        checkpoint_dir, \n",
    "        scheduler=scheduler, \n",
    "        metric_fns={'spearmanr': (spearmanr_torch, 'epoch_end')}, \n",
    "        monitor_metric='spearmanr',\n",
    "        minimize_score=False, \n",
    "        logger=None,\n",
    "        grad_accum=grad_accum,\n",
    "        early_stopping=early_stopping, \n",
    "        batch_step_scheduler=True\n",
    "    )\n",
    "    if (fold_id + 1) > 0: learner.train()\n",
    "        \n",
    "    oofs[valid_index] = infer(learner.model, valid_loader, learner.best_checkpoint_file, device)\n",
    "    print(f'Averaged Val. score: {spearmanr_np(oofs[valid_index], y[valid_index])}')\n",
    "    \n",
    "    test_preds = infer(learner.model, test_loader, learner.best_checkpoint_file, device)\n",
    "    preds += test_preds / n_folds\n",
    "    \n",
    "    del learner, model, train_loader, valid_loader\n",
    "    gc.collect()\n",
    "    \n",
    "print(f'OOF score: {spearmanr_np(oofs, y)}')"
   ]
  },
  {
   "cell_type": "code",
   "execution_count": 12,
   "metadata": {
    "scrolled": true
   },
   "outputs": [
    {
     "name": "stdout",
     "output_type": "stream",
     "text": [
      "2 16 0.4943158675373773\n",
      "5 8 0.4712235055110494\n",
      "7 4 0.5084195946303567\n",
      "11 32 0.731588594756703\n",
      "12 4 0.5474706434510769\n",
      "13 16 0.2570660634047377\n",
      "14 16 0.6429011445667521\n",
      "15 8 0.5964727628002172\n",
      "16 16 0.7855631581649605\n",
      "26 16 0.7478822122284372\n"
     ]
    }
   ],
   "source": [
    "opt_ds, opt_indices = optimize_rounding_params(oofs, y)"
   ]
  },
  {
   "cell_type": "code",
   "execution_count": 13,
   "metadata": {},
   "outputs": [
    {
     "data": {
      "text/plain": [
       "(array([16,  8,  4, 32,  4, 16, 16,  8, 16, 16]),\n",
       " array([ 2,  5,  7, 11, 12, 13, 14, 15, 16, 26]))"
      ]
     },
     "execution_count": 13,
     "metadata": {},
     "output_type": "execute_result"
    }
   ],
   "source": [
    "np.array(opt_ds), np.array(opt_indices)"
   ]
  },
  {
   "cell_type": "code",
   "execution_count": 14,
   "metadata": {
    "scrolled": false
   },
   "outputs": [],
   "source": [
    "oofs_alt = oofs.copy()\n",
    "train[\"eng\"] = train[\"url\"].apply(lambda x: x.startswith(\"http://english.\") or x.startswith(\"http://ell.\"))\n",
    "oofs_alt[np.where((~train[\"eng\"]).values)[0], 19] = 0"
   ]
  },
  {
   "cell_type": "code",
   "execution_count": 15,
   "metadata": {
    "scrolled": false
   },
   "outputs": [
    {
     "data": {
      "text/html": [
       "<div>\n",
       "<style scoped>\n",
       "    .dataframe tbody tr th:only-of-type {\n",
       "        vertical-align: middle;\n",
       "    }\n",
       "\n",
       "    .dataframe tbody tr th {\n",
       "        vertical-align: top;\n",
       "    }\n",
       "\n",
       "    .dataframe thead th {\n",
       "        text-align: right;\n",
       "    }\n",
       "</style>\n",
       "<table border=\"1\" class=\"dataframe\">\n",
       "  <thead>\n",
       "    <tr style=\"text-align: right;\">\n",
       "      <th></th>\n",
       "      <th>SpearmanR</th>\n",
       "    </tr>\n",
       "  </thead>\n",
       "  <tbody>\n",
       "    <tr>\n",
       "      <th>CV</th>\n",
       "      <td>0.398317</td>\n",
       "    </tr>\n",
       "    <tr>\n",
       "      <th>CV unique rows</th>\n",
       "      <td>0.358335</td>\n",
       "    </tr>\n",
       "    <tr>\n",
       "      <th>CV ignoring hard targets</th>\n",
       "      <td>0.421212</td>\n",
       "    </tr>\n",
       "    <tr>\n",
       "      <th>CV unique rows ignoring hard targets</th>\n",
       "      <td>0.378551</td>\n",
       "    </tr>\n",
       "    <tr>\n",
       "      <th>CV w rounding</th>\n",
       "      <td>0.426286</td>\n",
       "    </tr>\n",
       "    <tr>\n",
       "      <th>CV unique rows w rounding</th>\n",
       "      <td>0.398836</td>\n",
       "    </tr>\n",
       "    <tr>\n",
       "      <th>CV ignoring hard targets w rounding</th>\n",
       "      <td>0.451178</td>\n",
       "    </tr>\n",
       "    <tr>\n",
       "      <th>CV unique rows ignoring hard targets w rounding</th>\n",
       "      <td>0.421945</td>\n",
       "    </tr>\n",
       "  </tbody>\n",
       "</table>\n",
       "</div>"
      ],
      "text/plain": [
       "                                                 SpearmanR\n",
       "CV                                                0.398317\n",
       "CV unique rows                                    0.358335\n",
       "CV ignoring hard targets                          0.421212\n",
       "CV unique rows ignoring hard targets              0.378551\n",
       "CV w rounding                                     0.426286\n",
       "CV unique rows w rounding                         0.398836\n",
       "CV ignoring hard targets w rounding               0.451178\n",
       "CV unique rows ignoring hard targets w rounding   0.421945"
      ]
     },
     "execution_count": 15,
     "metadata": {},
     "output_type": "execute_result"
    }
   ],
   "source": [
    "get_cvs(oofs, y, ix)"
   ]
  },
  {
   "cell_type": "code",
   "execution_count": 16,
   "metadata": {
    "scrolled": false
   },
   "outputs": [
    {
     "data": {
      "text/html": [
       "<div>\n",
       "<style scoped>\n",
       "    .dataframe tbody tr th:only-of-type {\n",
       "        vertical-align: middle;\n",
       "    }\n",
       "\n",
       "    .dataframe tbody tr th {\n",
       "        vertical-align: top;\n",
       "    }\n",
       "\n",
       "    .dataframe thead th {\n",
       "        text-align: right;\n",
       "    }\n",
       "</style>\n",
       "<table border=\"1\" class=\"dataframe\">\n",
       "  <thead>\n",
       "    <tr style=\"text-align: right;\">\n",
       "      <th></th>\n",
       "      <th>SpearmanR</th>\n",
       "    </tr>\n",
       "  </thead>\n",
       "  <tbody>\n",
       "    <tr>\n",
       "      <th>CV</th>\n",
       "      <td>0.402243</td>\n",
       "    </tr>\n",
       "    <tr>\n",
       "      <th>CV unique rows</th>\n",
       "      <td>0.362432</td>\n",
       "    </tr>\n",
       "    <tr>\n",
       "      <th>CV ignoring hard targets</th>\n",
       "      <td>0.421212</td>\n",
       "    </tr>\n",
       "    <tr>\n",
       "      <th>CV unique rows ignoring hard targets</th>\n",
       "      <td>0.378551</td>\n",
       "    </tr>\n",
       "    <tr>\n",
       "      <th>CV w rounding</th>\n",
       "      <td>0.430211</td>\n",
       "    </tr>\n",
       "    <tr>\n",
       "      <th>CV unique rows w rounding</th>\n",
       "      <td>0.402933</td>\n",
       "    </tr>\n",
       "    <tr>\n",
       "      <th>CV ignoring hard targets w rounding</th>\n",
       "      <td>0.451178</td>\n",
       "    </tr>\n",
       "    <tr>\n",
       "      <th>CV unique rows ignoring hard targets w rounding</th>\n",
       "      <td>0.421945</td>\n",
       "    </tr>\n",
       "  </tbody>\n",
       "</table>\n",
       "</div>"
      ],
      "text/plain": [
       "                                                 SpearmanR\n",
       "CV                                                0.402243\n",
       "CV unique rows                                    0.362432\n",
       "CV ignoring hard targets                          0.421212\n",
       "CV unique rows ignoring hard targets              0.378551\n",
       "CV w rounding                                     0.430211\n",
       "CV unique rows w rounding                         0.402933\n",
       "CV ignoring hard targets w rounding               0.451178\n",
       "CV unique rows ignoring hard targets w rounding   0.421945"
      ]
     },
     "execution_count": 16,
     "metadata": {},
     "output_type": "execute_result"
    }
   ],
   "source": [
    "get_cvs(oofs_alt, y, ix)"
   ]
  },
  {
   "cell_type": "code",
   "execution_count": 17,
   "metadata": {},
   "outputs": [],
   "source": [
    "# clipping is necessary or we will get an error\n",
    "sample_submission.loc[:, 'question_asker_intent_understanding':] = np.clip(preds, 0.00001, 0.999999)\n",
    "sample_submission.to_csv('subs/submission.csv', index=False)"
   ]
  },
  {
   "cell_type": "code",
   "execution_count": 18,
   "metadata": {
    "scrolled": false
   },
   "outputs": [
    {
     "data": {
      "text/html": [
       "<div>\n",
       "<style scoped>\n",
       "    .dataframe tbody tr th:only-of-type {\n",
       "        vertical-align: middle;\n",
       "    }\n",
       "\n",
       "    .dataframe tbody tr th {\n",
       "        vertical-align: top;\n",
       "    }\n",
       "\n",
       "    .dataframe thead th {\n",
       "        text-align: right;\n",
       "    }\n",
       "</style>\n",
       "<table border=\"1\" class=\"dataframe\">\n",
       "  <thead>\n",
       "    <tr style=\"text-align: right;\">\n",
       "      <th></th>\n",
       "      <th>qa_id</th>\n",
       "      <th>question_asker_intent_understanding</th>\n",
       "      <th>question_body_critical</th>\n",
       "      <th>question_conversational</th>\n",
       "      <th>question_expect_short_answer</th>\n",
       "      <th>question_fact_seeking</th>\n",
       "      <th>question_has_commonly_accepted_answer</th>\n",
       "      <th>question_interestingness_others</th>\n",
       "      <th>question_interestingness_self</th>\n",
       "      <th>question_multi_intent</th>\n",
       "      <th>question_not_really_a_question</th>\n",
       "      <th>question_opinion_seeking</th>\n",
       "      <th>question_type_choice</th>\n",
       "      <th>question_type_compare</th>\n",
       "      <th>question_type_consequence</th>\n",
       "      <th>question_type_definition</th>\n",
       "      <th>question_type_entity</th>\n",
       "      <th>question_type_instructions</th>\n",
       "      <th>question_type_procedure</th>\n",
       "      <th>question_type_reason_explanation</th>\n",
       "      <th>question_type_spelling</th>\n",
       "      <th>question_well_written</th>\n",
       "      <th>answer_helpful</th>\n",
       "      <th>answer_level_of_information</th>\n",
       "      <th>answer_plausible</th>\n",
       "      <th>answer_relevance</th>\n",
       "      <th>answer_satisfaction</th>\n",
       "      <th>answer_type_instructions</th>\n",
       "      <th>answer_type_procedure</th>\n",
       "      <th>answer_type_reason_explanation</th>\n",
       "      <th>answer_well_written</th>\n",
       "    </tr>\n",
       "  </thead>\n",
       "  <tbody>\n",
       "    <tr>\n",
       "      <th>0</th>\n",
       "      <td>39</td>\n",
       "      <td>0.955995</td>\n",
       "      <td>0.530384</td>\n",
       "      <td>0.581000</td>\n",
       "      <td>0.326768</td>\n",
       "      <td>0.234749</td>\n",
       "      <td>0.174680</td>\n",
       "      <td>0.867107</td>\n",
       "      <td>0.902951</td>\n",
       "      <td>0.832414</td>\n",
       "      <td>0.001041</td>\n",
       "      <td>0.964741</td>\n",
       "      <td>0.960653</td>\n",
       "      <td>0.010546</td>\n",
       "      <td>0.381646</td>\n",
       "      <td>0.000925</td>\n",
       "      <td>0.000278</td>\n",
       "      <td>0.015246</td>\n",
       "      <td>0.038495</td>\n",
       "      <td>0.868641</td>\n",
       "      <td>0.000220</td>\n",
       "      <td>0.943187</td>\n",
       "      <td>0.813045</td>\n",
       "      <td>0.208530</td>\n",
       "      <td>0.942392</td>\n",
       "      <td>0.928119</td>\n",
       "      <td>0.369748</td>\n",
       "      <td>0.013493</td>\n",
       "      <td>0.016417</td>\n",
       "      <td>0.917508</td>\n",
       "      <td>0.873524</td>\n",
       "    </tr>\n",
       "    <tr>\n",
       "      <th>1</th>\n",
       "      <td>46</td>\n",
       "      <td>0.691045</td>\n",
       "      <td>0.205910</td>\n",
       "      <td>0.001700</td>\n",
       "      <td>0.824819</td>\n",
       "      <td>0.881636</td>\n",
       "      <td>0.964657</td>\n",
       "      <td>0.293764</td>\n",
       "      <td>0.121318</td>\n",
       "      <td>0.075136</td>\n",
       "      <td>0.001153</td>\n",
       "      <td>0.474254</td>\n",
       "      <td>0.604182</td>\n",
       "      <td>0.001441</td>\n",
       "      <td>0.000131</td>\n",
       "      <td>0.000131</td>\n",
       "      <td>0.002231</td>\n",
       "      <td>0.977101</td>\n",
       "      <td>0.193132</td>\n",
       "      <td>0.017872</td>\n",
       "      <td>0.000058</td>\n",
       "      <td>0.361103</td>\n",
       "      <td>0.899044</td>\n",
       "      <td>0.420049</td>\n",
       "      <td>0.947957</td>\n",
       "      <td>0.955382</td>\n",
       "      <td>0.559748</td>\n",
       "      <td>0.979251</td>\n",
       "      <td>0.119155</td>\n",
       "      <td>0.026819</td>\n",
       "      <td>0.660380</td>\n",
       "    </tr>\n",
       "    <tr>\n",
       "      <th>2</th>\n",
       "      <td>70</td>\n",
       "      <td>0.947522</td>\n",
       "      <td>0.839582</td>\n",
       "      <td>0.013076</td>\n",
       "      <td>0.915412</td>\n",
       "      <td>0.958261</td>\n",
       "      <td>0.975955</td>\n",
       "      <td>0.534570</td>\n",
       "      <td>0.283173</td>\n",
       "      <td>0.207059</td>\n",
       "      <td>0.000514</td>\n",
       "      <td>0.063865</td>\n",
       "      <td>0.916384</td>\n",
       "      <td>0.011770</td>\n",
       "      <td>0.032848</td>\n",
       "      <td>0.000186</td>\n",
       "      <td>0.001666</td>\n",
       "      <td>0.010256</td>\n",
       "      <td>0.028202</td>\n",
       "      <td>0.784592</td>\n",
       "      <td>0.000176</td>\n",
       "      <td>0.932441</td>\n",
       "      <td>0.952821</td>\n",
       "      <td>0.425805</td>\n",
       "      <td>0.968856</td>\n",
       "      <td>0.971510</td>\n",
       "      <td>0.837616</td>\n",
       "      <td>0.032556</td>\n",
       "      <td>0.033053</td>\n",
       "      <td>0.877053</td>\n",
       "      <td>0.786232</td>\n",
       "    </tr>\n",
       "    <tr>\n",
       "      <th>3</th>\n",
       "      <td>132</td>\n",
       "      <td>0.790181</td>\n",
       "      <td>0.102394</td>\n",
       "      <td>0.001737</td>\n",
       "      <td>0.843128</td>\n",
       "      <td>0.822615</td>\n",
       "      <td>0.952384</td>\n",
       "      <td>0.353734</td>\n",
       "      <td>0.137394</td>\n",
       "      <td>0.036961</td>\n",
       "      <td>0.005251</td>\n",
       "      <td>0.563185</td>\n",
       "      <td>0.004911</td>\n",
       "      <td>0.000186</td>\n",
       "      <td>0.000598</td>\n",
       "      <td>0.000129</td>\n",
       "      <td>0.001319</td>\n",
       "      <td>0.937459</td>\n",
       "      <td>0.071239</td>\n",
       "      <td>0.892841</td>\n",
       "      <td>0.000047</td>\n",
       "      <td>0.339675</td>\n",
       "      <td>0.897422</td>\n",
       "      <td>0.487726</td>\n",
       "      <td>0.959758</td>\n",
       "      <td>0.972796</td>\n",
       "      <td>0.675385</td>\n",
       "      <td>0.929971</td>\n",
       "      <td>0.065077</td>\n",
       "      <td>0.714690</td>\n",
       "      <td>0.733227</td>\n",
       "    </tr>\n",
       "    <tr>\n",
       "      <th>4</th>\n",
       "      <td>200</td>\n",
       "      <td>0.947314</td>\n",
       "      <td>0.209347</td>\n",
       "      <td>0.043584</td>\n",
       "      <td>0.808190</td>\n",
       "      <td>0.835698</td>\n",
       "      <td>0.837824</td>\n",
       "      <td>0.859136</td>\n",
       "      <td>0.873285</td>\n",
       "      <td>0.458314</td>\n",
       "      <td>0.002320</td>\n",
       "      <td>0.528925</td>\n",
       "      <td>0.939992</td>\n",
       "      <td>0.004219</td>\n",
       "      <td>0.014983</td>\n",
       "      <td>0.001153</td>\n",
       "      <td>0.010567</td>\n",
       "      <td>0.040100</td>\n",
       "      <td>0.111044</td>\n",
       "      <td>0.548045</td>\n",
       "      <td>0.000768</td>\n",
       "      <td>0.768411</td>\n",
       "      <td>0.801855</td>\n",
       "      <td>0.281812</td>\n",
       "      <td>0.938122</td>\n",
       "      <td>0.912389</td>\n",
       "      <td>0.454732</td>\n",
       "      <td>0.023103</td>\n",
       "      <td>0.049776</td>\n",
       "      <td>0.724887</td>\n",
       "      <td>0.878756</td>\n",
       "    </tr>\n",
       "  </tbody>\n",
       "</table>\n",
       "</div>"
      ],
      "text/plain": [
       "   qa_id  question_asker_intent_understanding  question_body_critical  \\\n",
       "0     39                             0.955995                0.530384   \n",
       "1     46                             0.691045                0.205910   \n",
       "2     70                             0.947522                0.839582   \n",
       "3    132                             0.790181                0.102394   \n",
       "4    200                             0.947314                0.209347   \n",
       "\n",
       "   question_conversational  question_expect_short_answer  \\\n",
       "0                 0.581000                      0.326768   \n",
       "1                 0.001700                      0.824819   \n",
       "2                 0.013076                      0.915412   \n",
       "3                 0.001737                      0.843128   \n",
       "4                 0.043584                      0.808190   \n",
       "\n",
       "   question_fact_seeking  question_has_commonly_accepted_answer  \\\n",
       "0               0.234749                               0.174680   \n",
       "1               0.881636                               0.964657   \n",
       "2               0.958261                               0.975955   \n",
       "3               0.822615                               0.952384   \n",
       "4               0.835698                               0.837824   \n",
       "\n",
       "   question_interestingness_others  question_interestingness_self  \\\n",
       "0                         0.867107                       0.902951   \n",
       "1                         0.293764                       0.121318   \n",
       "2                         0.534570                       0.283173   \n",
       "3                         0.353734                       0.137394   \n",
       "4                         0.859136                       0.873285   \n",
       "\n",
       "   question_multi_intent  question_not_really_a_question  \\\n",
       "0               0.832414                        0.001041   \n",
       "1               0.075136                        0.001153   \n",
       "2               0.207059                        0.000514   \n",
       "3               0.036961                        0.005251   \n",
       "4               0.458314                        0.002320   \n",
       "\n",
       "   question_opinion_seeking  question_type_choice  question_type_compare  \\\n",
       "0                  0.964741              0.960653               0.010546   \n",
       "1                  0.474254              0.604182               0.001441   \n",
       "2                  0.063865              0.916384               0.011770   \n",
       "3                  0.563185              0.004911               0.000186   \n",
       "4                  0.528925              0.939992               0.004219   \n",
       "\n",
       "   question_type_consequence  question_type_definition  question_type_entity  \\\n",
       "0                   0.381646                  0.000925              0.000278   \n",
       "1                   0.000131                  0.000131              0.002231   \n",
       "2                   0.032848                  0.000186              0.001666   \n",
       "3                   0.000598                  0.000129              0.001319   \n",
       "4                   0.014983                  0.001153              0.010567   \n",
       "\n",
       "   question_type_instructions  question_type_procedure  \\\n",
       "0                    0.015246                 0.038495   \n",
       "1                    0.977101                 0.193132   \n",
       "2                    0.010256                 0.028202   \n",
       "3                    0.937459                 0.071239   \n",
       "4                    0.040100                 0.111044   \n",
       "\n",
       "   question_type_reason_explanation  question_type_spelling  \\\n",
       "0                          0.868641                0.000220   \n",
       "1                          0.017872                0.000058   \n",
       "2                          0.784592                0.000176   \n",
       "3                          0.892841                0.000047   \n",
       "4                          0.548045                0.000768   \n",
       "\n",
       "   question_well_written  answer_helpful  answer_level_of_information  \\\n",
       "0               0.943187        0.813045                     0.208530   \n",
       "1               0.361103        0.899044                     0.420049   \n",
       "2               0.932441        0.952821                     0.425805   \n",
       "3               0.339675        0.897422                     0.487726   \n",
       "4               0.768411        0.801855                     0.281812   \n",
       "\n",
       "   answer_plausible  answer_relevance  answer_satisfaction  \\\n",
       "0          0.942392          0.928119             0.369748   \n",
       "1          0.947957          0.955382             0.559748   \n",
       "2          0.968856          0.971510             0.837616   \n",
       "3          0.959758          0.972796             0.675385   \n",
       "4          0.938122          0.912389             0.454732   \n",
       "\n",
       "   answer_type_instructions  answer_type_procedure  \\\n",
       "0                  0.013493               0.016417   \n",
       "1                  0.979251               0.119155   \n",
       "2                  0.032556               0.033053   \n",
       "3                  0.929971               0.065077   \n",
       "4                  0.023103               0.049776   \n",
       "\n",
       "   answer_type_reason_explanation  answer_well_written  \n",
       "0                        0.917508             0.873524  \n",
       "1                        0.026819             0.660380  \n",
       "2                        0.877053             0.786232  \n",
       "3                        0.714690             0.733227  \n",
       "4                        0.724887             0.878756  "
      ]
     },
     "execution_count": 18,
     "metadata": {},
     "output_type": "execute_result"
    }
   ],
   "source": [
    "sample_submission.head()"
   ]
  },
  {
   "cell_type": "code",
   "execution_count": 19,
   "metadata": {},
   "outputs": [],
   "source": [
    "pd.DataFrame(oofs, columns=TARGETS).to_csv(f'oofs/{model_name}_oofs.csv')"
   ]
  },
  {
   "cell_type": "code",
   "execution_count": 20,
   "metadata": {},
   "outputs": [
    {
     "data": {
      "text/html": [
       "<div>\n",
       "<style scoped>\n",
       "    .dataframe tbody tr th:only-of-type {\n",
       "        vertical-align: middle;\n",
       "    }\n",
       "\n",
       "    .dataframe tbody tr th {\n",
       "        vertical-align: top;\n",
       "    }\n",
       "\n",
       "    .dataframe thead th {\n",
       "        text-align: right;\n",
       "    }\n",
       "</style>\n",
       "<table border=\"1\" class=\"dataframe\">\n",
       "  <thead>\n",
       "    <tr style=\"text-align: right;\">\n",
       "      <th></th>\n",
       "      <th>question_asker_intent_understanding</th>\n",
       "      <th>question_body_critical</th>\n",
       "      <th>question_conversational</th>\n",
       "      <th>question_expect_short_answer</th>\n",
       "      <th>question_fact_seeking</th>\n",
       "      <th>question_has_commonly_accepted_answer</th>\n",
       "      <th>question_interestingness_others</th>\n",
       "      <th>question_interestingness_self</th>\n",
       "      <th>question_multi_intent</th>\n",
       "      <th>question_not_really_a_question</th>\n",
       "      <th>question_opinion_seeking</th>\n",
       "      <th>question_type_choice</th>\n",
       "      <th>question_type_compare</th>\n",
       "      <th>question_type_consequence</th>\n",
       "      <th>question_type_definition</th>\n",
       "      <th>question_type_entity</th>\n",
       "      <th>question_type_instructions</th>\n",
       "      <th>question_type_procedure</th>\n",
       "      <th>question_type_reason_explanation</th>\n",
       "      <th>question_type_spelling</th>\n",
       "      <th>question_well_written</th>\n",
       "      <th>answer_helpful</th>\n",
       "      <th>answer_level_of_information</th>\n",
       "      <th>answer_plausible</th>\n",
       "      <th>answer_relevance</th>\n",
       "      <th>answer_satisfaction</th>\n",
       "      <th>answer_type_instructions</th>\n",
       "      <th>answer_type_procedure</th>\n",
       "      <th>answer_type_reason_explanation</th>\n",
       "      <th>answer_well_written</th>\n",
       "    </tr>\n",
       "  </thead>\n",
       "  <tbody>\n",
       "    <tr>\n",
       "      <th>0</th>\n",
       "      <td>0.962551</td>\n",
       "      <td>0.788901</td>\n",
       "      <td>0.078211</td>\n",
       "      <td>0.672826</td>\n",
       "      <td>0.775364</td>\n",
       "      <td>0.300000</td>\n",
       "      <td>0.868357</td>\n",
       "      <td>0.494718</td>\n",
       "      <td>0.502467</td>\n",
       "      <td>0.000138</td>\n",
       "      <td>0.833934</td>\n",
       "      <td>0.012390</td>\n",
       "      <td>0.483811</td>\n",
       "      <td>0.009257</td>\n",
       "      <td>0.001533</td>\n",
       "      <td>0.106404</td>\n",
       "      <td>0.016865</td>\n",
       "      <td>0.012791</td>\n",
       "      <td>0.857119</td>\n",
       "      <td>0.000037</td>\n",
       "      <td>0.971581</td>\n",
       "      <td>0.974732</td>\n",
       "      <td>0.684999</td>\n",
       "      <td>0.989033</td>\n",
       "      <td>0.987826</td>\n",
       "      <td>0.896401</td>\n",
       "      <td>0.018099</td>\n",
       "      <td>0.029776</td>\n",
       "      <td>0.970314</td>\n",
       "      <td>0.963908</td>\n",
       "    </tr>\n",
       "    <tr>\n",
       "      <th>1</th>\n",
       "      <td>0.954509</td>\n",
       "      <td>0.819797</td>\n",
       "      <td>0.008062</td>\n",
       "      <td>0.561970</td>\n",
       "      <td>0.985792</td>\n",
       "      <td>0.712064</td>\n",
       "      <td>0.631012</td>\n",
       "      <td>0.846767</td>\n",
       "      <td>0.424508</td>\n",
       "      <td>0.000846</td>\n",
       "      <td>0.091055</td>\n",
       "      <td>0.006291</td>\n",
       "      <td>0.962487</td>\n",
       "      <td>0.001221</td>\n",
       "      <td>0.988913</td>\n",
       "      <td>0.008161</td>\n",
       "      <td>0.011853</td>\n",
       "      <td>0.027042</td>\n",
       "      <td>0.178486</td>\n",
       "      <td>0.002861</td>\n",
       "      <td>0.883058</td>\n",
       "      <td>0.834439</td>\n",
       "      <td>0.392065</td>\n",
       "      <td>0.927110</td>\n",
       "      <td>0.970268</td>\n",
       "      <td>0.484497</td>\n",
       "      <td>0.004884</td>\n",
       "      <td>0.006577</td>\n",
       "      <td>0.396679</td>\n",
       "      <td>0.907439</td>\n",
       "    </tr>\n",
       "    <tr>\n",
       "      <th>2</th>\n",
       "      <td>0.735936</td>\n",
       "      <td>0.154007</td>\n",
       "      <td>0.004823</td>\n",
       "      <td>0.884788</td>\n",
       "      <td>0.841309</td>\n",
       "      <td>0.943193</td>\n",
       "      <td>0.473751</td>\n",
       "      <td>0.107746</td>\n",
       "      <td>0.033405</td>\n",
       "      <td>0.001114</td>\n",
       "      <td>0.390057</td>\n",
       "      <td>0.307189</td>\n",
       "      <td>0.001613</td>\n",
       "      <td>0.001927</td>\n",
       "      <td>0.000423</td>\n",
       "      <td>0.044828</td>\n",
       "      <td>0.762409</td>\n",
       "      <td>0.070029</td>\n",
       "      <td>0.079893</td>\n",
       "      <td>0.000312</td>\n",
       "      <td>0.591114</td>\n",
       "      <td>0.974464</td>\n",
       "      <td>0.778702</td>\n",
       "      <td>0.972385</td>\n",
       "      <td>0.987261</td>\n",
       "      <td>0.951766</td>\n",
       "      <td>0.750247</td>\n",
       "      <td>0.115707</td>\n",
       "      <td>0.632466</td>\n",
       "      <td>0.923416</td>\n",
       "    </tr>\n",
       "    <tr>\n",
       "      <th>3</th>\n",
       "      <td>0.958054</td>\n",
       "      <td>0.885141</td>\n",
       "      <td>0.026447</td>\n",
       "      <td>0.935640</td>\n",
       "      <td>0.978453</td>\n",
       "      <td>0.978986</td>\n",
       "      <td>0.756154</td>\n",
       "      <td>0.827666</td>\n",
       "      <td>0.748951</td>\n",
       "      <td>0.000808</td>\n",
       "      <td>0.026421</td>\n",
       "      <td>0.991847</td>\n",
       "      <td>0.001822</td>\n",
       "      <td>0.007579</td>\n",
       "      <td>0.023973</td>\n",
       "      <td>0.038017</td>\n",
       "      <td>0.008413</td>\n",
       "      <td>0.122729</td>\n",
       "      <td>0.479956</td>\n",
       "      <td>0.004873</td>\n",
       "      <td>0.961928</td>\n",
       "      <td>0.965555</td>\n",
       "      <td>0.899373</td>\n",
       "      <td>0.979581</td>\n",
       "      <td>0.977592</td>\n",
       "      <td>0.922157</td>\n",
       "      <td>0.028741</td>\n",
       "      <td>0.090532</td>\n",
       "      <td>0.942878</td>\n",
       "      <td>0.917957</td>\n",
       "    </tr>\n",
       "    <tr>\n",
       "      <th>4</th>\n",
       "      <td>0.952846</td>\n",
       "      <td>0.967305</td>\n",
       "      <td>0.000567</td>\n",
       "      <td>0.878818</td>\n",
       "      <td>0.970091</td>\n",
       "      <td>0.987961</td>\n",
       "      <td>0.540935</td>\n",
       "      <td>0.276844</td>\n",
       "      <td>0.048148</td>\n",
       "      <td>0.000179</td>\n",
       "      <td>0.088763</td>\n",
       "      <td>0.592694</td>\n",
       "      <td>0.000203</td>\n",
       "      <td>0.000148</td>\n",
       "      <td>0.000056</td>\n",
       "      <td>0.001718</td>\n",
       "      <td>0.972876</td>\n",
       "      <td>0.133572</td>\n",
       "      <td>0.015587</td>\n",
       "      <td>0.000043</td>\n",
       "      <td>0.970333</td>\n",
       "      <td>0.935713</td>\n",
       "      <td>0.424336</td>\n",
       "      <td>0.958646</td>\n",
       "      <td>0.963837</td>\n",
       "      <td>0.714019</td>\n",
       "      <td>0.952505</td>\n",
       "      <td>0.146390</td>\n",
       "      <td>0.048489</td>\n",
       "      <td>0.836470</td>\n",
       "    </tr>\n",
       "    <tr>\n",
       "      <th>...</th>\n",
       "      <td>...</td>\n",
       "      <td>...</td>\n",
       "      <td>...</td>\n",
       "      <td>...</td>\n",
       "      <td>...</td>\n",
       "      <td>...</td>\n",
       "      <td>...</td>\n",
       "      <td>...</td>\n",
       "      <td>...</td>\n",
       "      <td>...</td>\n",
       "      <td>...</td>\n",
       "      <td>...</td>\n",
       "      <td>...</td>\n",
       "      <td>...</td>\n",
       "      <td>...</td>\n",
       "      <td>...</td>\n",
       "      <td>...</td>\n",
       "      <td>...</td>\n",
       "      <td>...</td>\n",
       "      <td>...</td>\n",
       "      <td>...</td>\n",
       "      <td>...</td>\n",
       "      <td>...</td>\n",
       "      <td>...</td>\n",
       "      <td>...</td>\n",
       "      <td>...</td>\n",
       "      <td>...</td>\n",
       "      <td>...</td>\n",
       "      <td>...</td>\n",
       "      <td>...</td>\n",
       "    </tr>\n",
       "    <tr>\n",
       "      <th>6074</th>\n",
       "      <td>0.972802</td>\n",
       "      <td>0.846152</td>\n",
       "      <td>0.029011</td>\n",
       "      <td>0.927747</td>\n",
       "      <td>0.882551</td>\n",
       "      <td>0.710399</td>\n",
       "      <td>0.813137</td>\n",
       "      <td>0.890381</td>\n",
       "      <td>0.371120</td>\n",
       "      <td>0.000449</td>\n",
       "      <td>0.451561</td>\n",
       "      <td>0.996810</td>\n",
       "      <td>0.007051</td>\n",
       "      <td>0.163421</td>\n",
       "      <td>0.005592</td>\n",
       "      <td>0.006866</td>\n",
       "      <td>0.007755</td>\n",
       "      <td>0.020364</td>\n",
       "      <td>0.364320</td>\n",
       "      <td>0.000391</td>\n",
       "      <td>0.971423</td>\n",
       "      <td>0.973739</td>\n",
       "      <td>0.835568</td>\n",
       "      <td>0.989434</td>\n",
       "      <td>0.982320</td>\n",
       "      <td>0.875960</td>\n",
       "      <td>0.018214</td>\n",
       "      <td>0.016561</td>\n",
       "      <td>0.963984</td>\n",
       "      <td>0.952767</td>\n",
       "    </tr>\n",
       "    <tr>\n",
       "      <th>6075</th>\n",
       "      <td>0.941351</td>\n",
       "      <td>0.257063</td>\n",
       "      <td>0.011022</td>\n",
       "      <td>0.623218</td>\n",
       "      <td>0.685333</td>\n",
       "      <td>0.418312</td>\n",
       "      <td>0.769502</td>\n",
       "      <td>0.541096</td>\n",
       "      <td>0.055768</td>\n",
       "      <td>0.000490</td>\n",
       "      <td>0.886968</td>\n",
       "      <td>0.018245</td>\n",
       "      <td>0.008864</td>\n",
       "      <td>0.000466</td>\n",
       "      <td>0.000102</td>\n",
       "      <td>0.017872</td>\n",
       "      <td>0.946526</td>\n",
       "      <td>0.168261</td>\n",
       "      <td>0.007804</td>\n",
       "      <td>0.000052</td>\n",
       "      <td>0.797312</td>\n",
       "      <td>0.964627</td>\n",
       "      <td>0.689762</td>\n",
       "      <td>0.982198</td>\n",
       "      <td>0.985039</td>\n",
       "      <td>0.747553</td>\n",
       "      <td>0.899588</td>\n",
       "      <td>0.112884</td>\n",
       "      <td>0.201724</td>\n",
       "      <td>0.945906</td>\n",
       "    </tr>\n",
       "    <tr>\n",
       "      <th>6076</th>\n",
       "      <td>0.754937</td>\n",
       "      <td>0.205833</td>\n",
       "      <td>0.001478</td>\n",
       "      <td>0.838034</td>\n",
       "      <td>0.859148</td>\n",
       "      <td>0.973036</td>\n",
       "      <td>0.269472</td>\n",
       "      <td>0.095585</td>\n",
       "      <td>0.201927</td>\n",
       "      <td>0.001654</td>\n",
       "      <td>0.415470</td>\n",
       "      <td>0.487154</td>\n",
       "      <td>0.000998</td>\n",
       "      <td>0.000367</td>\n",
       "      <td>0.000193</td>\n",
       "      <td>0.004635</td>\n",
       "      <td>0.982488</td>\n",
       "      <td>0.210915</td>\n",
       "      <td>0.071289</td>\n",
       "      <td>0.000075</td>\n",
       "      <td>0.309597</td>\n",
       "      <td>0.839271</td>\n",
       "      <td>0.275036</td>\n",
       "      <td>0.924279</td>\n",
       "      <td>0.939200</td>\n",
       "      <td>0.410498</td>\n",
       "      <td>0.969375</td>\n",
       "      <td>0.111121</td>\n",
       "      <td>0.073732</td>\n",
       "      <td>0.663402</td>\n",
       "    </tr>\n",
       "    <tr>\n",
       "      <th>6077</th>\n",
       "      <td>0.964962</td>\n",
       "      <td>0.520373</td>\n",
       "      <td>0.856562</td>\n",
       "      <td>0.197445</td>\n",
       "      <td>0.213477</td>\n",
       "      <td>0.059103</td>\n",
       "      <td>0.830059</td>\n",
       "      <td>0.919717</td>\n",
       "      <td>0.894514</td>\n",
       "      <td>0.001263</td>\n",
       "      <td>0.966135</td>\n",
       "      <td>0.801038</td>\n",
       "      <td>0.026428</td>\n",
       "      <td>0.020827</td>\n",
       "      <td>0.059642</td>\n",
       "      <td>0.002632</td>\n",
       "      <td>0.001412</td>\n",
       "      <td>0.032426</td>\n",
       "      <td>0.961831</td>\n",
       "      <td>0.000980</td>\n",
       "      <td>0.973099</td>\n",
       "      <td>0.857845</td>\n",
       "      <td>0.737764</td>\n",
       "      <td>0.928907</td>\n",
       "      <td>0.955386</td>\n",
       "      <td>0.481999</td>\n",
       "      <td>0.003519</td>\n",
       "      <td>0.018166</td>\n",
       "      <td>0.979391</td>\n",
       "      <td>0.918752</td>\n",
       "    </tr>\n",
       "    <tr>\n",
       "      <th>6078</th>\n",
       "      <td>0.962092</td>\n",
       "      <td>0.657924</td>\n",
       "      <td>0.024769</td>\n",
       "      <td>0.103680</td>\n",
       "      <td>0.983461</td>\n",
       "      <td>0.715876</td>\n",
       "      <td>0.857021</td>\n",
       "      <td>0.771377</td>\n",
       "      <td>0.957168</td>\n",
       "      <td>0.000164</td>\n",
       "      <td>0.380944</td>\n",
       "      <td>0.074756</td>\n",
       "      <td>0.636344</td>\n",
       "      <td>0.004605</td>\n",
       "      <td>0.001765</td>\n",
       "      <td>0.006485</td>\n",
       "      <td>0.007664</td>\n",
       "      <td>0.020262</td>\n",
       "      <td>0.995579</td>\n",
       "      <td>0.000133</td>\n",
       "      <td>0.975361</td>\n",
       "      <td>0.846235</td>\n",
       "      <td>0.315619</td>\n",
       "      <td>0.955395</td>\n",
       "      <td>0.924200</td>\n",
       "      <td>0.373198</td>\n",
       "      <td>0.016282</td>\n",
       "      <td>0.012977</td>\n",
       "      <td>0.983172</td>\n",
       "      <td>0.900532</td>\n",
       "    </tr>\n",
       "  </tbody>\n",
       "</table>\n",
       "<p>6079 rows × 30 columns</p>\n",
       "</div>"
      ],
      "text/plain": [
       "      question_asker_intent_understanding  question_body_critical  \\\n",
       "0                                0.962551                0.788901   \n",
       "1                                0.954509                0.819797   \n",
       "2                                0.735936                0.154007   \n",
       "3                                0.958054                0.885141   \n",
       "4                                0.952846                0.967305   \n",
       "...                                   ...                     ...   \n",
       "6074                             0.972802                0.846152   \n",
       "6075                             0.941351                0.257063   \n",
       "6076                             0.754937                0.205833   \n",
       "6077                             0.964962                0.520373   \n",
       "6078                             0.962092                0.657924   \n",
       "\n",
       "      question_conversational  question_expect_short_answer  \\\n",
       "0                    0.078211                      0.672826   \n",
       "1                    0.008062                      0.561970   \n",
       "2                    0.004823                      0.884788   \n",
       "3                    0.026447                      0.935640   \n",
       "4                    0.000567                      0.878818   \n",
       "...                       ...                           ...   \n",
       "6074                 0.029011                      0.927747   \n",
       "6075                 0.011022                      0.623218   \n",
       "6076                 0.001478                      0.838034   \n",
       "6077                 0.856562                      0.197445   \n",
       "6078                 0.024769                      0.103680   \n",
       "\n",
       "      question_fact_seeking  question_has_commonly_accepted_answer  \\\n",
       "0                  0.775364                               0.300000   \n",
       "1                  0.985792                               0.712064   \n",
       "2                  0.841309                               0.943193   \n",
       "3                  0.978453                               0.978986   \n",
       "4                  0.970091                               0.987961   \n",
       "...                     ...                                    ...   \n",
       "6074               0.882551                               0.710399   \n",
       "6075               0.685333                               0.418312   \n",
       "6076               0.859148                               0.973036   \n",
       "6077               0.213477                               0.059103   \n",
       "6078               0.983461                               0.715876   \n",
       "\n",
       "      question_interestingness_others  question_interestingness_self  \\\n",
       "0                            0.868357                       0.494718   \n",
       "1                            0.631012                       0.846767   \n",
       "2                            0.473751                       0.107746   \n",
       "3                            0.756154                       0.827666   \n",
       "4                            0.540935                       0.276844   \n",
       "...                               ...                            ...   \n",
       "6074                         0.813137                       0.890381   \n",
       "6075                         0.769502                       0.541096   \n",
       "6076                         0.269472                       0.095585   \n",
       "6077                         0.830059                       0.919717   \n",
       "6078                         0.857021                       0.771377   \n",
       "\n",
       "      question_multi_intent  question_not_really_a_question  \\\n",
       "0                  0.502467                        0.000138   \n",
       "1                  0.424508                        0.000846   \n",
       "2                  0.033405                        0.001114   \n",
       "3                  0.748951                        0.000808   \n",
       "4                  0.048148                        0.000179   \n",
       "...                     ...                             ...   \n",
       "6074               0.371120                        0.000449   \n",
       "6075               0.055768                        0.000490   \n",
       "6076               0.201927                        0.001654   \n",
       "6077               0.894514                        0.001263   \n",
       "6078               0.957168                        0.000164   \n",
       "\n",
       "      question_opinion_seeking  question_type_choice  question_type_compare  \\\n",
       "0                     0.833934              0.012390               0.483811   \n",
       "1                     0.091055              0.006291               0.962487   \n",
       "2                     0.390057              0.307189               0.001613   \n",
       "3                     0.026421              0.991847               0.001822   \n",
       "4                     0.088763              0.592694               0.000203   \n",
       "...                        ...                   ...                    ...   \n",
       "6074                  0.451561              0.996810               0.007051   \n",
       "6075                  0.886968              0.018245               0.008864   \n",
       "6076                  0.415470              0.487154               0.000998   \n",
       "6077                  0.966135              0.801038               0.026428   \n",
       "6078                  0.380944              0.074756               0.636344   \n",
       "\n",
       "      question_type_consequence  question_type_definition  \\\n",
       "0                      0.009257                  0.001533   \n",
       "1                      0.001221                  0.988913   \n",
       "2                      0.001927                  0.000423   \n",
       "3                      0.007579                  0.023973   \n",
       "4                      0.000148                  0.000056   \n",
       "...                         ...                       ...   \n",
       "6074                   0.163421                  0.005592   \n",
       "6075                   0.000466                  0.000102   \n",
       "6076                   0.000367                  0.000193   \n",
       "6077                   0.020827                  0.059642   \n",
       "6078                   0.004605                  0.001765   \n",
       "\n",
       "      question_type_entity  question_type_instructions  \\\n",
       "0                 0.106404                    0.016865   \n",
       "1                 0.008161                    0.011853   \n",
       "2                 0.044828                    0.762409   \n",
       "3                 0.038017                    0.008413   \n",
       "4                 0.001718                    0.972876   \n",
       "...                    ...                         ...   \n",
       "6074              0.006866                    0.007755   \n",
       "6075              0.017872                    0.946526   \n",
       "6076              0.004635                    0.982488   \n",
       "6077              0.002632                    0.001412   \n",
       "6078              0.006485                    0.007664   \n",
       "\n",
       "      question_type_procedure  question_type_reason_explanation  \\\n",
       "0                    0.012791                          0.857119   \n",
       "1                    0.027042                          0.178486   \n",
       "2                    0.070029                          0.079893   \n",
       "3                    0.122729                          0.479956   \n",
       "4                    0.133572                          0.015587   \n",
       "...                       ...                               ...   \n",
       "6074                 0.020364                          0.364320   \n",
       "6075                 0.168261                          0.007804   \n",
       "6076                 0.210915                          0.071289   \n",
       "6077                 0.032426                          0.961831   \n",
       "6078                 0.020262                          0.995579   \n",
       "\n",
       "      question_type_spelling  question_well_written  answer_helpful  \\\n",
       "0                   0.000037               0.971581        0.974732   \n",
       "1                   0.002861               0.883058        0.834439   \n",
       "2                   0.000312               0.591114        0.974464   \n",
       "3                   0.004873               0.961928        0.965555   \n",
       "4                   0.000043               0.970333        0.935713   \n",
       "...                      ...                    ...             ...   \n",
       "6074                0.000391               0.971423        0.973739   \n",
       "6075                0.000052               0.797312        0.964627   \n",
       "6076                0.000075               0.309597        0.839271   \n",
       "6077                0.000980               0.973099        0.857845   \n",
       "6078                0.000133               0.975361        0.846235   \n",
       "\n",
       "      answer_level_of_information  answer_plausible  answer_relevance  \\\n",
       "0                        0.684999          0.989033          0.987826   \n",
       "1                        0.392065          0.927110          0.970268   \n",
       "2                        0.778702          0.972385          0.987261   \n",
       "3                        0.899373          0.979581          0.977592   \n",
       "4                        0.424336          0.958646          0.963837   \n",
       "...                           ...               ...               ...   \n",
       "6074                     0.835568          0.989434          0.982320   \n",
       "6075                     0.689762          0.982198          0.985039   \n",
       "6076                     0.275036          0.924279          0.939200   \n",
       "6077                     0.737764          0.928907          0.955386   \n",
       "6078                     0.315619          0.955395          0.924200   \n",
       "\n",
       "      answer_satisfaction  answer_type_instructions  answer_type_procedure  \\\n",
       "0                0.896401                  0.018099               0.029776   \n",
       "1                0.484497                  0.004884               0.006577   \n",
       "2                0.951766                  0.750247               0.115707   \n",
       "3                0.922157                  0.028741               0.090532   \n",
       "4                0.714019                  0.952505               0.146390   \n",
       "...                   ...                       ...                    ...   \n",
       "6074             0.875960                  0.018214               0.016561   \n",
       "6075             0.747553                  0.899588               0.112884   \n",
       "6076             0.410498                  0.969375               0.111121   \n",
       "6077             0.481999                  0.003519               0.018166   \n",
       "6078             0.373198                  0.016282               0.012977   \n",
       "\n",
       "      answer_type_reason_explanation  answer_well_written  \n",
       "0                           0.970314             0.963908  \n",
       "1                           0.396679             0.907439  \n",
       "2                           0.632466             0.923416  \n",
       "3                           0.942878             0.917957  \n",
       "4                           0.048489             0.836470  \n",
       "...                              ...                  ...  \n",
       "6074                        0.963984             0.952767  \n",
       "6075                        0.201724             0.945906  \n",
       "6076                        0.073732             0.663402  \n",
       "6077                        0.979391             0.918752  \n",
       "6078                        0.983172             0.900532  \n",
       "\n",
       "[6079 rows x 30 columns]"
      ]
     },
     "execution_count": 20,
     "metadata": {},
     "output_type": "execute_result"
    }
   ],
   "source": [
    "pd.DataFrame(oofs, columns=TARGETS)"
   ]
  },
  {
   "cell_type": "code",
   "execution_count": 21,
   "metadata": {},
   "outputs": [
    {
     "data": {
      "text/plain": [
       "question_asker_intent_understanding      0.386036\n",
       "question_body_critical                   0.605491\n",
       "question_conversational                  0.409575\n",
       "question_expect_short_answer             0.297275\n",
       "question_fact_seeking                    0.355986\n",
       "question_has_commonly_accepted_answer    0.425836\n",
       "question_interestingness_others          0.368806\n",
       "question_interestingness_self            0.504441\n",
       "question_multi_intent                    0.532168\n",
       "question_not_really_a_question           0.087448\n",
       "question_opinion_seeking                 0.472826\n",
       "question_type_choice                     0.718376\n",
       "question_type_compare                    0.363098\n",
       "question_type_consequence                0.190760\n",
       "question_type_definition                 0.363499\n",
       "question_type_entity                     0.445305\n",
       "question_type_instructions               0.778042\n",
       "question_type_procedure                  0.367331\n",
       "question_type_reason_explanation         0.661085\n",
       "question_type_spelling                   0.068143\n",
       "question_well_written                    0.497897\n",
       "answer_helpful                           0.207678\n",
       "answer_level_of_information              0.403195\n",
       "answer_plausible                         0.127761\n",
       "answer_relevance                         0.152591\n",
       "answer_satisfaction                      0.303568\n",
       "answer_type_instructions                 0.744912\n",
       "answer_type_procedure                    0.299626\n",
       "answer_type_reason_explanation           0.644651\n",
       "answer_well_written                      0.166109\n",
       "dtype: float64"
      ]
     },
     "execution_count": 21,
     "metadata": {},
     "output_type": "execute_result"
    }
   ],
   "source": [
    "rs = pd.Series({col: spearmanr(oofs[:,i], y[:,i])[0] for i, col in enumerate(TARGETS)})\n",
    "rs"
   ]
  },
  {
   "cell_type": "code",
   "execution_count": 22,
   "metadata": {},
   "outputs": [
    {
     "data": {
      "text/html": [
       "<div>\n",
       "<style scoped>\n",
       "    .dataframe tbody tr th:only-of-type {\n",
       "        vertical-align: middle;\n",
       "    }\n",
       "\n",
       "    .dataframe tbody tr th {\n",
       "        vertical-align: top;\n",
       "    }\n",
       "\n",
       "    .dataframe thead th {\n",
       "        text-align: right;\n",
       "    }\n",
       "</style>\n",
       "<table border=\"1\" class=\"dataframe\">\n",
       "  <thead>\n",
       "    <tr style=\"text-align: right;\">\n",
       "      <th></th>\n",
       "      <th>SpearmanCorr</th>\n",
       "      <th>NUnique</th>\n",
       "    </tr>\n",
       "  </thead>\n",
       "  <tbody>\n",
       "    <tr>\n",
       "      <th>question_type_spelling</th>\n",
       "      <td>0.068143</td>\n",
       "      <td>3.0</td>\n",
       "    </tr>\n",
       "    <tr>\n",
       "      <th>question_not_really_a_question</th>\n",
       "      <td>0.087448</td>\n",
       "      <td>5.0</td>\n",
       "    </tr>\n",
       "    <tr>\n",
       "      <th>answer_plausible</th>\n",
       "      <td>0.127761</td>\n",
       "      <td>9.0</td>\n",
       "    </tr>\n",
       "    <tr>\n",
       "      <th>answer_relevance</th>\n",
       "      <td>0.152591</td>\n",
       "      <td>9.0</td>\n",
       "    </tr>\n",
       "    <tr>\n",
       "      <th>answer_well_written</th>\n",
       "      <td>0.166109</td>\n",
       "      <td>9.0</td>\n",
       "    </tr>\n",
       "    <tr>\n",
       "      <th>question_type_consequence</th>\n",
       "      <td>0.190760</td>\n",
       "      <td>5.0</td>\n",
       "    </tr>\n",
       "    <tr>\n",
       "      <th>answer_helpful</th>\n",
       "      <td>0.207678</td>\n",
       "      <td>9.0</td>\n",
       "    </tr>\n",
       "    <tr>\n",
       "      <th>question_expect_short_answer</th>\n",
       "      <td>0.297275</td>\n",
       "      <td>5.0</td>\n",
       "    </tr>\n",
       "    <tr>\n",
       "      <th>answer_type_procedure</th>\n",
       "      <td>0.299626</td>\n",
       "      <td>5.0</td>\n",
       "    </tr>\n",
       "    <tr>\n",
       "      <th>answer_satisfaction</th>\n",
       "      <td>0.303568</td>\n",
       "      <td>17.0</td>\n",
       "    </tr>\n",
       "    <tr>\n",
       "      <th>question_fact_seeking</th>\n",
       "      <td>0.355986</td>\n",
       "      <td>5.0</td>\n",
       "    </tr>\n",
       "    <tr>\n",
       "      <th>question_type_compare</th>\n",
       "      <td>0.363098</td>\n",
       "      <td>5.0</td>\n",
       "    </tr>\n",
       "    <tr>\n",
       "      <th>question_type_definition</th>\n",
       "      <td>0.363499</td>\n",
       "      <td>5.0</td>\n",
       "    </tr>\n",
       "    <tr>\n",
       "      <th>question_type_procedure</th>\n",
       "      <td>0.367331</td>\n",
       "      <td>5.0</td>\n",
       "    </tr>\n",
       "    <tr>\n",
       "      <th>question_interestingness_others</th>\n",
       "      <td>0.368806</td>\n",
       "      <td>9.0</td>\n",
       "    </tr>\n",
       "    <tr>\n",
       "      <th>question_asker_intent_understanding</th>\n",
       "      <td>0.386036</td>\n",
       "      <td>9.0</td>\n",
       "    </tr>\n",
       "    <tr>\n",
       "      <th>answer_level_of_information</th>\n",
       "      <td>0.403195</td>\n",
       "      <td>9.0</td>\n",
       "    </tr>\n",
       "    <tr>\n",
       "      <th>question_conversational</th>\n",
       "      <td>0.409575</td>\n",
       "      <td>5.0</td>\n",
       "    </tr>\n",
       "    <tr>\n",
       "      <th>question_has_commonly_accepted_answer</th>\n",
       "      <td>0.425836</td>\n",
       "      <td>5.0</td>\n",
       "    </tr>\n",
       "    <tr>\n",
       "      <th>question_type_entity</th>\n",
       "      <td>0.445305</td>\n",
       "      <td>5.0</td>\n",
       "    </tr>\n",
       "    <tr>\n",
       "      <th>question_opinion_seeking</th>\n",
       "      <td>0.472826</td>\n",
       "      <td>5.0</td>\n",
       "    </tr>\n",
       "    <tr>\n",
       "      <th>question_well_written</th>\n",
       "      <td>0.497897</td>\n",
       "      <td>9.0</td>\n",
       "    </tr>\n",
       "    <tr>\n",
       "      <th>question_interestingness_self</th>\n",
       "      <td>0.504441</td>\n",
       "      <td>9.0</td>\n",
       "    </tr>\n",
       "    <tr>\n",
       "      <th>question_multi_intent</th>\n",
       "      <td>0.532168</td>\n",
       "      <td>5.0</td>\n",
       "    </tr>\n",
       "    <tr>\n",
       "      <th>question_body_critical</th>\n",
       "      <td>0.605491</td>\n",
       "      <td>9.0</td>\n",
       "    </tr>\n",
       "    <tr>\n",
       "      <th>answer_type_reason_explanation</th>\n",
       "      <td>0.644651</td>\n",
       "      <td>5.0</td>\n",
       "    </tr>\n",
       "    <tr>\n",
       "      <th>question_type_reason_explanation</th>\n",
       "      <td>0.661085</td>\n",
       "      <td>5.0</td>\n",
       "    </tr>\n",
       "    <tr>\n",
       "      <th>question_type_choice</th>\n",
       "      <td>0.718376</td>\n",
       "      <td>5.0</td>\n",
       "    </tr>\n",
       "    <tr>\n",
       "      <th>answer_type_instructions</th>\n",
       "      <td>0.744912</td>\n",
       "      <td>5.0</td>\n",
       "    </tr>\n",
       "    <tr>\n",
       "      <th>question_type_instructions</th>\n",
       "      <td>0.778042</td>\n",
       "      <td>5.0</td>\n",
       "    </tr>\n",
       "  </tbody>\n",
       "</table>\n",
       "</div>"
      ],
      "text/plain": [
       "                                       SpearmanCorr  NUnique\n",
       "question_type_spelling                     0.068143      3.0\n",
       "question_not_really_a_question             0.087448      5.0\n",
       "answer_plausible                           0.127761      9.0\n",
       "answer_relevance                           0.152591      9.0\n",
       "answer_well_written                        0.166109      9.0\n",
       "question_type_consequence                  0.190760      5.0\n",
       "answer_helpful                             0.207678      9.0\n",
       "question_expect_short_answer               0.297275      5.0\n",
       "answer_type_procedure                      0.299626      5.0\n",
       "answer_satisfaction                        0.303568     17.0\n",
       "question_fact_seeking                      0.355986      5.0\n",
       "question_type_compare                      0.363098      5.0\n",
       "question_type_definition                   0.363499      5.0\n",
       "question_type_procedure                    0.367331      5.0\n",
       "question_interestingness_others            0.368806      9.0\n",
       "question_asker_intent_understanding        0.386036      9.0\n",
       "answer_level_of_information                0.403195      9.0\n",
       "question_conversational                    0.409575      5.0\n",
       "question_has_commonly_accepted_answer      0.425836      5.0\n",
       "question_type_entity                       0.445305      5.0\n",
       "question_opinion_seeking                   0.472826      5.0\n",
       "question_well_written                      0.497897      9.0\n",
       "question_interestingness_self              0.504441      9.0\n",
       "question_multi_intent                      0.532168      5.0\n",
       "question_body_critical                     0.605491      9.0\n",
       "answer_type_reason_explanation             0.644651      5.0\n",
       "question_type_reason_explanation           0.661085      5.0\n",
       "question_type_choice                       0.718376      5.0\n",
       "answer_type_instructions                   0.744912      5.0\n",
       "question_type_instructions                 0.778042      5.0"
      ]
     },
     "execution_count": 22,
     "metadata": {},
     "output_type": "execute_result"
    }
   ],
   "source": [
    "rs_df = pd.DataFrame(np.vstack([rs.values.flatten(), train[TARGETS].nunique()]).T, \n",
    "                     columns=['SpearmanCorr', 'NUnique'], index=rs.index)\n",
    "rs_df.sort_values('SpearmanCorr', ascending=True)"
   ]
  },
  {
   "cell_type": "code",
   "execution_count": 23,
   "metadata": {},
   "outputs": [
    {
     "data": {
      "text/plain": [
       "Index(['question_type_spelling', 'question_not_really_a_question',\n",
       "       'answer_plausible', 'answer_relevance', 'answer_well_written'],\n",
       "      dtype='object')"
      ]
     },
     "execution_count": 23,
     "metadata": {},
     "output_type": "execute_result"
    }
   ],
   "source": [
    "sorted_targets = rs_df.sort_values('SpearmanCorr', ascending=True).index\n",
    "worst_five_targets = sorted_targets[:5]\n",
    "worst_five_targets"
   ]
  },
  {
   "cell_type": "code",
   "execution_count": 24,
   "metadata": {
    "scrolled": true
   },
   "outputs": [
    {
     "data": {
      "image/png": "[encoded data removed]",
      "text/plain": [
       "<Figure size 432x288 with 1 Axes>"
      ]
     },
     "metadata": {
      "needs_background": "light"
     },
     "output_type": "display_data"
    },
    {
     "data": {
      "image/png": "[encoded data removed]",
      "text/plain": [
       "<Figure size 432x288 with 1 Axes>"
      ]
     },
     "metadata": {
      "needs_background": "light"
     },
     "output_type": "display_data"
    },
    {
     "data": {
      "image/png": "[encoded data removed]",
      "text/plain": [
       "<Figure size 432x288 with 1 Axes>"
      ]
     },
     "metadata": {
      "needs_background": "light"
     },
     "output_type": "display_data"
    },
    {
     "data": {
      "image/png": "[encoded data removed]",
      "text/plain": [
       "<Figure size 432x288 with 1 Axes>"
      ]
     },
     "metadata": {
      "needs_background": "light"
     },
     "output_type": "display_data"
    },
    {
     "data": {
      "image/png": "[encoded data removed]",
      "text/plain": [
       "<Figure size 432x288 with 1 Axes>"
      ]
     },
     "metadata": {
      "needs_background": "light"
     },
     "output_type": "display_data"
    }
   ],
   "source": [
    "for col in worst_five_targets:\n",
    "    plt.figure()\n",
    "    train[col].hist()\n",
    "    plt.title(f'{col} {np.round(rs[col],3)}')"
   ]
  },
  {
   "cell_type": "code",
   "execution_count": 25,
   "metadata": {},
   "outputs": [
    {
     "name": "stderr",
     "output_type": "stream",
     "text": [
      "/home/robin/anaconda3/envs/GoogleQuest/lib/python3.7/site-packages/ipykernel_launcher.py:2: RuntimeWarning: More than 20 figures have been opened. Figures created through the pyplot interface (`matplotlib.pyplot.figure`) are retained until explicitly closed and may consume too much memory. (To control this warning, see the rcParam `figure.max_open_warning`).\n",
      "  \n"
     ]
    },
    {
     "data": {
      "image/png": "[encoded data removed]",
      "text/plain": [
       "<Figure size 432x288 with 1 Axes>"
      ]
     },
     "metadata": {
      "needs_background": "light"
     },
     "output_type": "display_data"
    },
    {
     "data": {
      "image/png": "[encoded data removed]",
      "text/plain": [
       "<Figure size 432x288 with 1 Axes>"
      ]
     },
     "metadata": {
      "needs_background": "light"
     },
     "output_type": "display_data"
    },
    {
     "data": {
      "image/png": "[encoded data removed]",
      "text/plain": [
       "<Figure size 432x288 with 1 Axes>"
      ]
     },
     "metadata": {
      "needs_background": "light"
     },
     "output_type": "display_data"
    },
    {
     "data": {
      "image/png": "[encoded data removed]",
      "text/plain": [
       "<Figure size 432x288 with 1 Axes>"
      ]
     },
     "metadata": {
      "needs_background": "light"
     },
     "output_type": "display_data"
    },
    {
     "data": {
      "image/png": "[encoded data removed]",
      "text/plain": [
       "<Figure size 432x288 with 1 Axes>"
      ]
     },
     "metadata": {
      "needs_background": "light"
     },
     "output_type": "display_data"
    },
    {
     "data": {
      "image/png": "[encoded data removed]",
      "text/plain": [
       "<Figure size 432x288 with 1 Axes>"
      ]
     },
     "metadata": {
      "needs_background": "light"
     },
     "output_type": "display_data"
    },
    {
     "data": {
      "image/png": "[encoded data removed]",
      "text/plain": [
       "<Figure size 432x288 with 1 Axes>"
      ]
     },
     "metadata": {
      "needs_background": "light"
     },
     "output_type": "display_data"
    },
    {
     "data": {
      "image/png": "[encoded data removed]",
      "text/plain": [
       "<Figure size 432x288 with 1 Axes>"
      ]
     },
     "metadata": {
      "needs_background": "light"
     },
     "output_type": "display_data"
    },
    {
     "data": {
      "image/png": "[encoded data removed]",
      "text/plain": [
       "<Figure size 432x288 with 1 Axes>"
      ]
     },
     "metadata": {
      "needs_background": "light"
     },
     "output_type": "display_data"
    },
    {
     "data": {
      "image/png": "[encoded data removed]",
      "text/plain": [
       "<Figure size 432x288 with 1 Axes>"
      ]
     },
     "metadata": {
      "needs_background": "light"
     },
     "output_type": "display_data"
    },
    {
     "data": {
      "image/png": "[encoded data removed]",
      "text/plain": [
       "<Figure size 432x288 with 1 Axes>"
      ]
     },
     "metadata": {
      "needs_background": "light"
     },
     "output_type": "display_data"
    },
    {
     "data": {
      "image/png": "[encoded data removed]",
      "text/plain": [
       "<Figure size 432x288 with 1 Axes>"
      ]
     },
     "metadata": {
      "needs_background": "light"
     },
     "output_type": "display_data"
    },
    {
     "data": {
      "image/png": "[encoded data removed]",
      "text/plain": [
       "<Figure size 432x288 with 1 Axes>"
      ]
     },
     "metadata": {
      "needs_background": "light"
     },
     "output_type": "display_data"
    },
    {
     "data": {
      "image/png": "[encoded data removed]",
      "text/plain": [
       "<Figure size 432x288 with 1 Axes>"
      ]
     },
     "metadata": {
      "needs_background": "light"
     },
     "output_type": "display_data"
    },
    {
     "data": {
      "image/png": "[encoded data removed]",
      "text/plain": [
       "<Figure size 432x288 with 1 Axes>"
      ]
     },
     "metadata": {
      "needs_background": "light"
     },
     "output_type": "display_data"
    },
    {
     "data": {
      "image/png": "[encoded data removed]",
      "text/plain": [
       "<Figure size 432x288 with 1 Axes>"
      ]
     },
     "metadata": {
      "needs_background": "light"
     },
     "output_type": "display_data"
    },
    {
     "data": {
      "image/png": "[encoded data removed]",
      "text/plain": [
       "<Figure size 432x288 with 1 Axes>"
      ]
     },
     "metadata": {
      "needs_background": "light"
     },
     "output_type": "display_data"
    },
    {
     "data": {
      "image/png": "[encoded data removed]",
      "text/plain": [
       "<Figure size 432x288 with 1 Axes>"
      ]
     },
     "metadata": {
      "needs_background": "light"
     },
     "output_type": "display_data"
    },
    {
     "data": {
      "image/png": "[encoded data removed]",
      "text/plain": [
       "<Figure size 432x288 with 1 Axes>"
      ]
     },
     "metadata": {
      "needs_background": "light"
     },
     "output_type": "display_data"
    },
    {
     "data": {
      "image/png": "[encoded data removed]",
      "text/plain": [
       "<Figure size 432x288 with 1 Axes>"
      ]
     },
     "metadata": {
      "needs_background": "light"
     },
     "output_type": "display_data"
    },
    {
     "data": {
      "image/png": "[encoded data removed]",
      "text/plain": [
       "<Figure size 432x288 with 1 Axes>"
      ]
     },
     "metadata": {
      "needs_background": "light"
     },
     "output_type": "display_data"
    },
    {
     "data": {
      "image/png": "[encoded data removed]",
      "text/plain": [
       "<Figure size 432x288 with 1 Axes>"
      ]
     },
     "metadata": {
      "needs_background": "light"
     },
     "output_type": "display_data"
    },
    {
     "data": {
      "image/png": "[encoded data removed]",
      "text/plain": [
       "<Figure size 432x288 with 1 Axes>"
      ]
     },
     "metadata": {
      "needs_background": "light"
     },
     "output_type": "display_data"
    },
    {
     "data": {
      "image/png": "[encoded data removed]",
      "text/plain": [
       "<Figure size 432x288 with 1 Axes>"
      ]
     },
     "metadata": {
      "needs_background": "light"
     },
     "output_type": "display_data"
    },
    {
     "data": {
      "image/png": "[encoded data removed]",
      "text/plain": [
       "<Figure size 432x288 with 1 Axes>"
      ]
     },
     "metadata": {
      "needs_background": "light"
     },
     "output_type": "display_data"
    }
   ],
   "source": [
    "for col in [target for target in sorted_targets if target not in worst_five_targets]:\n",
    "    plt.figure()\n",
    "    train[col].hist()\n",
    "    plt.title(f'{col} {np.round(rs[col],3)}')"
   ]
  },
  {
   "cell_type": "code",
   "execution_count": 29,
   "metadata": {},
   "outputs": [],
   "source": [
    "def load_model(checkpoint_file, model):\n",
    "    checkpoint = torch.load(checkpoint_file)\n",
    "    model.load_state_dict(checkpoint['model_state_dict'])\n",
    "    \n",
    "def get_model(fold_id):\n",
    "    checkpoint_file = f'{checkpoint_dir}{model_name}_fold_{fold_id+1}_best.pth'\n",
    "    model = CustomRoberta(cat_features_train.shape[1])\n",
    "    load_model(checkpoint_file, model)\n",
    "    return model\n",
    "\n",
    "def save_model(model):\n",
    "    checkpoint_file = f'{checkpoint_dir}{model_name}_half_fold_{fold_id+1}_best.pth'\n",
    "    torch.save({'model_state_dict': model.state_dict()}, checkpoint_file)"
   ]
  },
  {
   "cell_type": "code",
   "execution_count": 30,
   "metadata": {},
   "outputs": [
    {
     "name": "stdout",
     "output_type": "stream",
     "text": [
      "Fold 1 started at Sat Feb  8 20:34:12 2020\n",
      "Fold 2 started at Sat Feb  8 20:34:17 2020\n",
      "Fold 3 started at Sat Feb  8 20:34:21 2020\n",
      "Fold 4 started at Sat Feb  8 20:34:26 2020\n",
      "Fold 5 started at Sat Feb  8 20:34:31 2020\n",
      "Fold 6 started at Sat Feb  8 20:34:35 2020\n",
      "Fold 7 started at Sat Feb  8 20:34:40 2020\n",
      "Fold 8 started at Sat Feb  8 20:34:44 2020\n",
      "Fold 9 started at Sat Feb  8 20:34:48 2020\n",
      "Fold 10 started at Sat Feb  8 20:34:52 2020\n"
     ]
    }
   ],
   "source": [
    "for fold_id in range(n_folds):\n",
    "    print(f'Fold {fold_id + 1} started at {time.ctime()}')\n",
    "    model = get_model(fold_id)\n",
    "    model.half()\n",
    "    save_model(model)"
   ]
  },
  {
   "cell_type": "code",
   "execution_count": null,
   "metadata": {},
   "outputs": [],
   "source": []
  }
 ],
 "metadata": {
  "kernelspec": {
   "display_name": "Python 3",
   "language": "python",
   "name": "python3"
  },
  "language_info": {
   "codemirror_mode": {
    "name": "ipython",
    "version": 3
   },
   "file_extension": ".py",
   "mimetype": "text/x-python",
   "name": "python",
   "nbconvert_exporter": "python",
   "pygments_lexer": "ipython3",
   "version": "3.7.5"
  }
 },
 "nbformat": 4,
 "nbformat_minor": 1
}
