{
 "cells": [
  {
   "cell_type": "markdown",
   "metadata": {},
   "source": [
    "## Importing libraries"
   ]
  },
  {
   "cell_type": "code",
   "execution_count": 1,
   "metadata": {
    "_kg_hide-input": true
   },
   "outputs": [],
   "source": [
    "import numpy as np\n",
    "import pandas as pd\n",
    "import matplotlib.pyplot as plt\n",
    "import time\n",
    "import datetime\n",
    "import re\n",
    "import gc\n",
    "import copy\n",
    "\n",
    "from sklearn.model_selection import GroupKFold\n",
    "from sklearn.preprocessing import OneHotEncoder, MinMaxScaler\n",
    "import nltk.data\n",
    "\n",
    "import torch\n",
    "import torch.nn as nn\n",
    "import torch.optim as optim\n",
    "import torch.nn.functional as F\n",
    "from torch.utils.data import DataLoader\n",
    "\n",
    "from tqdm import tqdm_notebook as tqdm\n",
    "from transformers import BertTokenizer\n",
    "import transformers\n",
    "\n",
    "from text_data import TextDataset5 as TextDataset\n",
    "from text_cleaning import *\n",
    "from bert import CustomBert3\n",
    "from learning import Learner\n",
    "from lr_finder import LRFinder\n",
    "from one_cycle import OneCycleLR\n",
    "from create_features import get_categorical_features\n",
    "from losses_metrics import spearmanr_torch, spearmanr_np, optimize_rounding_params, get_cvs, spearmanr\n",
    "from inference import infer\n",
    "from common import *\n",
    "from utils.helpers import init_logger, init_seed\n",
    "\n",
    "%matplotlib inline\n",
    "pd.set_option('max_colwidth',400)"
   ]
  },
  {
   "cell_type": "markdown",
   "metadata": {},
   "source": [
    "## Loading and preparing data"
   ]
  },
  {
   "cell_type": "code",
   "execution_count": 2,
   "metadata": {
    "_cell_guid": "b1076dfc-b9ad-4769-8c92-a6c4dae69d19",
    "_uuid": "8f2839f25d086af736a60e9eeb907d3b93b6e0e5"
   },
   "outputs": [],
   "source": [
    "pd.set_option('max_rows', 500)\n",
    "pd.set_option('max_columns', 500)\n",
    "path = 'data/'\n",
    "sample_submission = pd.read_csv(f'{path}sample_submission.csv')\n",
    "test = pd.read_csv(f'{path}test.csv')\n",
    "train = pd.read_csv(f'{path}train.csv')"
   ]
  },
  {
   "cell_type": "code",
   "execution_count": 3,
   "metadata": {},
   "outputs": [],
   "source": [
    "def get_site(url):\n",
    "    return url.split('.')[0].split('/')[-1]\n",
    "\n",
    "train['site'] = train['url'].apply(get_site)\n",
    "code_site = train['site'].isin(['stackoverflow', 'codereview', 'superuser', 'programmers'])\n",
    "\n",
    "train.loc[code_site, 'question_body'] = train.loc[code_site, 'question_body'].apply(replace_php_xml_code_to_tag)\n",
    "train.loc[code_site, 'question_body'] = train.loc[code_site, 'question_body'].apply(replace_code_block)\n",
    "train.loc[code_site, 'answer'] = train.loc[code_site, 'answer'].apply(replace_php_xml_code_to_tag)\n",
    "train.loc[code_site, 'answer'] = train.loc[code_site, 'answer'].apply(replace_code_block)\n",
    "\n",
    "test['site'] = test['url'].apply(get_site)\n",
    "code_site = test['site'].isin(['stackoverflow', 'codereview', 'superuser', 'programmers'])\n",
    "\n",
    "test.loc[code_site, 'question_body'] = test.loc[code_site, 'question_body'].apply(replace_php_xml_code_to_tag)\n",
    "test.loc[code_site, 'question_body'] = test.loc[code_site, 'question_body'].apply(replace_code_block)\n",
    "test.loc[code_site, 'answer'] = test.loc[code_site, 'answer'].apply(replace_php_xml_code_to_tag)\n",
    "test.loc[code_site, 'answer'] = test.loc[code_site, 'answer'].apply(replace_code_block)"
   ]
  },
  {
   "cell_type": "code",
   "execution_count": 4,
   "metadata": {},
   "outputs": [
    {
     "name": "stderr",
     "output_type": "stream",
     "text": [
      "/home/robin/anaconda3/envs/GoogleQuest/lib/python3.7/site-packages/ipykernel_launcher.py:11: TqdmDeprecationWarning: This function will be removed in tqdm==5.0.0\n",
      "Please use `tqdm.notebook.tqdm` instead of `tqdm.tqdm_notebook`\n",
      "  # This is added back by InteractiveShellApp.init_path()\n"
     ]
    },
    {
     "data": {
      "application/vnd.jupyter.widget-view+json": {
       "model_id": "29a395646d1d43febe7e28a35d6786b4",
       "version_major": 2,
       "version_minor": 0
      },
      "text/plain": [
       "HBox(children=(IntProgress(value=0, max=6079), HTML(value='')))"
      ]
     },
     "metadata": {},
     "output_type": "display_data"
    },
    {
     "name": "stdout",
     "output_type": "stream",
     "text": [
      "\n"
     ]
    },
    {
     "data": {
      "application/vnd.jupyter.widget-view+json": {
       "model_id": "6046746daafa4b30b927fa23dfb08976",
       "version_major": 2,
       "version_minor": 0
      },
      "text/plain": [
       "HBox(children=(IntProgress(value=0, max=6079), HTML(value='')))"
      ]
     },
     "metadata": {},
     "output_type": "display_data"
    },
    {
     "name": "stdout",
     "output_type": "stream",
     "text": [
      "\n"
     ]
    },
    {
     "data": {
      "application/vnd.jupyter.widget-view+json": {
       "model_id": "877be95b326a47dcbd90d3e749dc07f5",
       "version_major": 2,
       "version_minor": 0
      },
      "text/plain": [
       "HBox(children=(IntProgress(value=0, max=476), HTML(value='')))"
      ]
     },
     "metadata": {},
     "output_type": "display_data"
    },
    {
     "name": "stdout",
     "output_type": "stream",
     "text": [
      "\n"
     ]
    },
    {
     "data": {
      "application/vnd.jupyter.widget-view+json": {
       "model_id": "c6c43a0612884bf4ab47c4433f509f08",
       "version_major": 2,
       "version_minor": 0
      },
      "text/plain": [
       "HBox(children=(IntProgress(value=0, max=476), HTML(value='')))"
      ]
     },
     "metadata": {},
     "output_type": "display_data"
    },
    {
     "name": "stdout",
     "output_type": "stream",
     "text": [
      "\n",
      "CPU times: user 29.6 s, sys: 221 ms, total: 29.8 s\n",
      "Wall time: 30 s\n"
     ]
    }
   ],
   "source": [
    "%%time\n",
    "tokenizer = BertTokenizer.from_pretrained('bert-base-uncased')\n",
    "tokenizer.add_tokens([CODE_TOKEN, PHP_TOKEN])\n",
    "\n",
    "seg_ids_train, ids_train = {}, {}\n",
    "seg_ids_test, ids_test = {}, {}\n",
    "max_seq_len = 512\n",
    "for mode, df in [('train', train), ('test', test)]:\n",
    "    for text, cols in [('question', ['question_title', 'question_body']), \n",
    "                       ('answer', ['question_title', 'answer'])]:\n",
    "        ids, seg_ids, sent_ids = [], [], []\n",
    "        for x1, x2 in tqdm(df[cols].values):\n",
    "            encoded_inputs = tokenizer.encode_plus(\n",
    "                x1, x2, add_special_tokens=True, max_length=max_seq_len, pad_to_max_length=True, \n",
    "                return_token_type_ids=True\n",
    "            )\n",
    "            ids.append(encoded_inputs['input_ids'])\n",
    "            seg_ids.append(encoded_inputs['token_type_ids'])\n",
    "        if mode == 'train': \n",
    "            ids_train[text] = np.array(ids)\n",
    "            seg_ids_train[text] = np.array(seg_ids)\n",
    "        else: \n",
    "            ids_test[text] = np.array(ids)\n",
    "            seg_ids_test[text] = np.array(seg_ids)"
   ]
  },
  {
   "cell_type": "code",
   "execution_count": 5,
   "metadata": {
    "code_folding": []
   },
   "outputs": [],
   "source": [
    "train_category, test_category, category_dict, category_dict_reverse = \\\n",
    "    get_categorical_features(train, test, 'category')"
   ]
  },
  {
   "cell_type": "code",
   "execution_count": 6,
   "metadata": {},
   "outputs": [
    {
     "name": "stderr",
     "output_type": "stream",
     "text": [
      "/home/robin/anaconda3/envs/GoogleQuest/lib/python3.7/site-packages/sklearn/preprocessing/_encoders.py:415: FutureWarning: The handling of integer data will change in version 0.22. Currently, the categories are determined based on the range [0, max(values)], while in the future they will be determined based on the unique values.\n",
      "If you want the future behaviour and silence this warning, you can specify \"categories='auto'\".\n",
      "In case you used a LabelEncoder before this OneHotEncoder to convert the categories to integers, then you can now use the OneHotEncoder directly.\n",
      "  warnings.warn(msg, FutureWarning)\n"
     ]
    }
   ],
   "source": [
    "cat_features_train = train_category.reshape(-1, 1)\n",
    "cat_features_test = test_category.reshape(-1, 1)\n",
    "ohe = OneHotEncoder()\n",
    "ohe.fit(cat_features_train)\n",
    "cat_features_train = ohe.transform(cat_features_train).toarray()\n",
    "cat_features_test = ohe.transform(cat_features_test).toarray()"
   ]
  },
  {
   "cell_type": "code",
   "execution_count": 7,
   "metadata": {},
   "outputs": [],
   "source": [
    "for col in TARGETS:\n",
    "    train[col] = train[col].rank(method=\"average\")\n",
    "train[TARGETS] = MinMaxScaler().fit_transform(train[TARGETS])\n",
    "y = train[TARGETS].values.astype(np.float32)\n",
    "ix = np.where(train.groupby(\"question_body\")[\"host\"].transform(\"count\") == 1)[0]"
   ]
  },
  {
   "cell_type": "code",
   "execution_count": 8,
   "metadata": {},
   "outputs": [],
   "source": [
    "num_workers = 10\n",
    "bs = 2"
   ]
  },
  {
   "cell_type": "code",
   "execution_count": 9,
   "metadata": {},
   "outputs": [],
   "source": [
    "bs_test = 2\n",
    "test_loader = DataLoader(\n",
    "    TextDataset(cat_features_test, ids_test['question'], ids_test['answer'], \n",
    "                seg_ids_test['question'], seg_ids_test['answer'], test.index),\n",
    "    batch_size=bs_test, shuffle=False, num_workers=num_workers, drop_last=False\n",
    ")"
   ]
  },
  {
   "cell_type": "markdown",
   "metadata": {},
   "source": [
    "## Training model"
   ]
  },
  {
   "cell_type": "code",
   "execution_count": 10,
   "metadata": {},
   "outputs": [],
   "source": [
    "lr = 0.001\n",
    "loss_fn = nn.BCEWithLogitsLoss()\n",
    "device = 'cuda'\n",
    "n_epochs = 4\n",
    "grad_accum = 4\n",
    "weight_decay = 0.01\n",
    "model_name = 'siamese_bert_7'\n",
    "checkpoint_dir = 'checkpoints/'\n",
    "early_stopping = None\n",
    "n_folds = 10"
   ]
  },
  {
   "cell_type": "code",
   "execution_count": 11,
   "metadata": {},
   "outputs": [],
   "source": [
    "def get_optimizer_param_groups(model, lr, weight_decay):\n",
    "    no_decay = ['bias', 'LayerNorm.weight']\n",
    "    optimizer_grouped_parameters = [\n",
    "        {'params': [p for n, p in model.named_parameters() if not any(nd in n for nd in no_decay)], \n",
    "         'weight_decay': weight_decay, 'lr': lr},\n",
    "        {'params': [p for n, p in model.named_parameters() if any(nd in n for nd in no_decay)], \n",
    "         'weight_decay': 0.0, 'lr': lr}\n",
    "    ]\n",
    "    return optimizer_grouped_parameters\n",
    "\n",
    "def get_optimizer(model, lr, weight_decay):\n",
    "    return transformers.AdamW(\n",
    "        get_optimizer_param_groups(model.head, lr, weight_decay)\n",
    "        + get_optimizer_param_groups(model.bert, lr / 100, weight_decay)\n",
    "    )"
   ]
  },
  {
   "cell_type": "code",
   "execution_count": 12,
   "metadata": {
    "scrolled": true
   },
   "outputs": [
    {
     "name": "stdout",
     "output_type": "stream",
     "text": [
      "Fold 1 started at Wed Feb  5 19:29:54 2020\n"
     ]
    },
    {
     "data": {
      "application/vnd.jupyter.widget-view+json": {
       "model_id": "1a0172aaeddd4dec902ddaf8b5498727",
       "version_major": 2,
       "version_minor": 0
      },
      "text/plain": [
       "HBox(children=(IntProgress(value=0, max=400), HTML(value='')))"
      ]
     },
     "metadata": {},
     "output_type": "display_data"
    },
    {
     "name": "stderr",
     "output_type": "stream",
     "text": [
      "/home/robin/anaconda3/envs/GoogleQuest/lib/python3.7/site-packages/torch/optim/lr_scheduler.py:100: UserWarning: Detected call of `lr_scheduler.step()` before `optimizer.step()`. In PyTorch 1.1.0 and later, you should call them in the opposite order: `optimizer.step()` before `lr_scheduler.step()`.  Failure to do this will result in PyTorch skipping the first value of the learning rate schedule.See more details at https://pytorch.org/docs/stable/optim.html#how-to-adjust-learning-rate\n",
      "  \"https://pytorch.org/docs/stable/optim.html#how-to-adjust-learning-rate\", UserWarning)\n"
     ]
    },
    {
     "data": {
      "image/png": "[encoded data removed]",
      "text/plain": [
       "<Figure size 432x288 with 1 Axes>"
      ]
     },
     "metadata": {
      "needs_background": "light"
     },
     "output_type": "display_data"
    },
    {
     "name": "stdout",
     "output_type": "stream",
     "text": [
      "epoch 0: \t Start training...\n"
     ]
    },
    {
     "data": {
      "application/vnd.jupyter.widget-view+json": {
       "model_id": "aa57235274074c82a7669be85cceecdf",
       "version_major": 2,
       "version_minor": 0
      },
      "text/plain": [
       "HBox(children=(IntProgress(value=0, max=2736), HTML(value='')))"
      ]
     },
     "metadata": {},
     "output_type": "display_data"
    },
    {
     "name": "stdout",
     "output_type": "stream",
     "text": [
      "\n",
      "epoch 0/4 \t train : loss 0.50987 - spearmanr 0.2434\n",
      "epoch 0: \t Start validation...\n"
     ]
    },
    {
     "data": {
      "application/vnd.jupyter.widget-view+json": {
       "model_id": "dc024ae3bb8142e29a73a7b8f1378b14",
       "version_major": 2,
       "version_minor": 0
      },
      "text/plain": [
       "HBox(children=(IntProgress(value=0, max=304), HTML(value='')))"
      ]
     },
     "metadata": {},
     "output_type": "display_data"
    },
    {
     "name": "stdout",
     "output_type": "stream",
     "text": [
      "\n",
      "epoch 0/4 \t valid : loss 0.47598 - spearmanr 0.37259\n",
      "best model: epoch 0 - 0.37259\n",
      "epoch 1: \t Start training...\n"
     ]
    },
    {
     "data": {
      "application/vnd.jupyter.widget-view+json": {
       "model_id": "d6977aa758e144839b94c546457a0800",
       "version_major": 2,
       "version_minor": 0
      },
      "text/plain": [
       "HBox(children=(IntProgress(value=0, max=2736), HTML(value='')))"
      ]
     },
     "metadata": {},
     "output_type": "display_data"
    },
    {
     "name": "stdout",
     "output_type": "stream",
     "text": [
      "\n",
      "epoch 1/4 \t train : loss 0.45606 - spearmanr 0.3969\n",
      "epoch 1: \t Start validation...\n"
     ]
    },
    {
     "data": {
      "application/vnd.jupyter.widget-view+json": {
       "model_id": "4e475e222a8249698fc1002d3c73ed9d",
       "version_major": 2,
       "version_minor": 0
      },
      "text/plain": [
       "HBox(children=(IntProgress(value=0, max=304), HTML(value='')))"
      ]
     },
     "metadata": {},
     "output_type": "display_data"
    },
    {
     "name": "stdout",
     "output_type": "stream",
     "text": [
      "\n",
      "epoch 1/4 \t valid : loss 0.46274 - spearmanr 0.39659\n",
      "best model: epoch 1 - 0.39659\n",
      "epoch 2: \t Start training...\n"
     ]
    },
    {
     "data": {
      "application/vnd.jupyter.widget-view+json": {
       "model_id": "f09265f639214b2bb2bc5dd4ded698be",
       "version_major": 2,
       "version_minor": 0
      },
      "text/plain": [
       "HBox(children=(IntProgress(value=0, max=2736), HTML(value='')))"
      ]
     },
     "metadata": {},
     "output_type": "display_data"
    },
    {
     "name": "stdout",
     "output_type": "stream",
     "text": [
      "\n",
      "epoch 2/4 \t train : loss 0.43211 - spearmanr 0.46019\n",
      "epoch 2: \t Start validation...\n"
     ]
    },
    {
     "data": {
      "application/vnd.jupyter.widget-view+json": {
       "model_id": "ede8daccc81b4b469914a3cbeb74eb76",
       "version_major": 2,
       "version_minor": 0
      },
      "text/plain": [
       "HBox(children=(IntProgress(value=0, max=304), HTML(value='')))"
      ]
     },
     "metadata": {},
     "output_type": "display_data"
    },
    {
     "name": "stdout",
     "output_type": "stream",
     "text": [
      "\n",
      "epoch 2/4 \t valid : loss 0.4584 - spearmanr 0.40089\n",
      "best model: epoch 2 - 0.40089\n",
      "epoch 3: \t Start training...\n"
     ]
    },
    {
     "data": {
      "application/vnd.jupyter.widget-view+json": {
       "model_id": "801ef8e7a60e4d438189309873c3983c",
       "version_major": 2,
       "version_minor": 0
      },
      "text/plain": [
       "HBox(children=(IntProgress(value=0, max=2736), HTML(value='')))"
      ]
     },
     "metadata": {},
     "output_type": "display_data"
    },
    {
     "name": "stdout",
     "output_type": "stream",
     "text": [
      "\n",
      "epoch 3/4 \t train : loss 0.41032 - spearmanr 0.5144\n",
      "epoch 3: \t Start validation...\n"
     ]
    },
    {
     "data": {
      "application/vnd.jupyter.widget-view+json": {
       "model_id": "8434d7cfe95b48e29f3978866c8d4958",
       "version_major": 2,
       "version_minor": 0
      },
      "text/plain": [
       "HBox(children=(IntProgress(value=0, max=304), HTML(value='')))"
      ]
     },
     "metadata": {},
     "output_type": "display_data"
    },
    {
     "name": "stdout",
     "output_type": "stream",
     "text": [
      "\n",
      "epoch 3/4 \t valid : loss 0.46104 - spearmanr 0.40256\n",
      "best model: epoch 3 - 0.40256\n",
      "TRAINING END: Best score achieved on epoch 3 - 0.40256\n",
      "Starting inference for model: checkpoints/siamese_bert_7_fold_1_best.pth\n"
     ]
    },
    {
     "data": {
      "application/vnd.jupyter.widget-view+json": {
       "model_id": "e03073a573a0473789e573bead0ed775",
       "version_major": 2,
       "version_minor": 0
      },
      "text/plain": [
       "HBox(children=(IntProgress(value=0, max=304), HTML(value='')))"
      ]
     },
     "metadata": {},
     "output_type": "display_data"
    },
    {
     "name": "stdout",
     "output_type": "stream",
     "text": [
      "\n",
      "Averaged Val. score: 0.4025609383037244\n",
      "Starting inference for model: checkpoints/siamese_bert_7_fold_1_best.pth\n"
     ]
    },
    {
     "data": {
      "application/vnd.jupyter.widget-view+json": {
       "model_id": "606aa575a31e4e4994eaf5bb2f5954b8",
       "version_major": 2,
       "version_minor": 0
      },
      "text/plain": [
       "HBox(children=(IntProgress(value=0, max=238), HTML(value='')))"
      ]
     },
     "metadata": {},
     "output_type": "display_data"
    },
    {
     "name": "stdout",
     "output_type": "stream",
     "text": [
      "\n",
      "Fold 2 started at Wed Feb  5 20:10:30 2020\n",
      "epoch 0: \t Start training...\n"
     ]
    },
    {
     "data": {
      "application/vnd.jupyter.widget-view+json": {
       "model_id": "475ba094903648edb0a58caf33c075de",
       "version_major": 2,
       "version_minor": 0
      },
      "text/plain": [
       "HBox(children=(IntProgress(value=0, max=2736), HTML(value='')))"
      ]
     },
     "metadata": {},
     "output_type": "display_data"
    },
    {
     "name": "stdout",
     "output_type": "stream",
     "text": [
      "\n",
      "epoch 0/4 \t train : loss 0.50863 - spearmanr 0.24735\n",
      "epoch 0: \t Start validation...\n"
     ]
    },
    {
     "data": {
      "application/vnd.jupyter.widget-view+json": {
       "model_id": "bdce5386689f47b08646d24ed6e9353b",
       "version_major": 2,
       "version_minor": 0
      },
      "text/plain": [
       "HBox(children=(IntProgress(value=0, max=304), HTML(value='')))"
      ]
     },
     "metadata": {},
     "output_type": "display_data"
    },
    {
     "name": "stdout",
     "output_type": "stream",
     "text": [
      "\n",
      "epoch 0/4 \t valid : loss 0.46897 - spearmanr 0.364\n",
      "best model: epoch 0 - 0.364\n",
      "epoch 1: \t Start training...\n"
     ]
    },
    {
     "data": {
      "application/vnd.jupyter.widget-view+json": {
       "model_id": "195e1ac41b254d91831f9bd663ae6b84",
       "version_major": 2,
       "version_minor": 0
      },
      "text/plain": [
       "HBox(children=(IntProgress(value=0, max=2736), HTML(value='')))"
      ]
     },
     "metadata": {},
     "output_type": "display_data"
    },
    {
     "name": "stdout",
     "output_type": "stream",
     "text": [
      "\n",
      "epoch 1/4 \t train : loss 0.45581 - spearmanr 0.39757\n",
      "epoch 1: \t Start validation...\n"
     ]
    },
    {
     "data": {
      "application/vnd.jupyter.widget-view+json": {
       "model_id": "e50f92b663304fe29dca71471362288e",
       "version_major": 2,
       "version_minor": 0
      },
      "text/plain": [
       "HBox(children=(IntProgress(value=0, max=304), HTML(value='')))"
      ]
     },
     "metadata": {},
     "output_type": "display_data"
    },
    {
     "name": "stdout",
     "output_type": "stream",
     "text": [
      "\n",
      "epoch 1/4 \t valid : loss 0.4563 - spearmanr 0.39143\n",
      "best model: epoch 1 - 0.39143\n",
      "epoch 2: \t Start training...\n"
     ]
    },
    {
     "data": {
      "application/vnd.jupyter.widget-view+json": {
       "model_id": "e164180792224e40bcc2658a596e86c6",
       "version_major": 2,
       "version_minor": 0
      },
      "text/plain": [
       "HBox(children=(IntProgress(value=0, max=2736), HTML(value='')))"
      ]
     },
     "metadata": {},
     "output_type": "display_data"
    },
    {
     "name": "stdout",
     "output_type": "stream",
     "text": [
      "\n",
      "epoch 2/4 \t train : loss 0.43228 - spearmanr 0.46086\n",
      "epoch 2: \t Start validation...\n"
     ]
    },
    {
     "data": {
      "application/vnd.jupyter.widget-view+json": {
       "model_id": "48067f041327445da15493eca2be3786",
       "version_major": 2,
       "version_minor": 0
      },
      "text/plain": [
       "HBox(children=(IntProgress(value=0, max=304), HTML(value='')))"
      ]
     },
     "metadata": {},
     "output_type": "display_data"
    },
    {
     "name": "stdout",
     "output_type": "stream",
     "text": [
      "\n",
      "epoch 2/4 \t valid : loss 0.4602 - spearmanr 0.38747\n",
      "model not improved for 1 epochs\n",
      "epoch 3: \t Start training...\n"
     ]
    },
    {
     "data": {
      "application/vnd.jupyter.widget-view+json": {
       "model_id": "cc2f3733e6484b90ad175e4da65e5311",
       "version_major": 2,
       "version_minor": 0
      },
      "text/plain": [
       "HBox(children=(IntProgress(value=0, max=2736), HTML(value='')))"
      ]
     },
     "metadata": {},
     "output_type": "display_data"
    },
    {
     "name": "stdout",
     "output_type": "stream",
     "text": [
      "\n",
      "epoch 3/4 \t train : loss 0.41043 - spearmanr 0.51585\n",
      "epoch 3: \t Start validation...\n"
     ]
    },
    {
     "data": {
      "application/vnd.jupyter.widget-view+json": {
       "model_id": "aaa9d17890db4e3591794b4e2c2aec14",
       "version_major": 2,
       "version_minor": 0
      },
      "text/plain": [
       "HBox(children=(IntProgress(value=0, max=304), HTML(value='')))"
      ]
     },
     "metadata": {},
     "output_type": "display_data"
    },
    {
     "name": "stdout",
     "output_type": "stream",
     "text": [
      "\n",
      "epoch 3/4 \t valid : loss 0.46031 - spearmanr 0.39129\n",
      "model not improved for 2 epochs\n",
      "TRAINING END: Best score achieved on epoch 1 - 0.39143\n",
      "Starting inference for model: checkpoints/siamese_bert_7_fold_2_best.pth\n"
     ]
    },
    {
     "data": {
      "application/vnd.jupyter.widget-view+json": {
       "model_id": "d065f98df0b144918c9c83eb097c92d9",
       "version_major": 2,
       "version_minor": 0
      },
      "text/plain": [
       "HBox(children=(IntProgress(value=0, max=304), HTML(value='')))"
      ]
     },
     "metadata": {},
     "output_type": "display_data"
    },
    {
     "name": "stdout",
     "output_type": "stream",
     "text": [
      "\n",
      "Averaged Val. score: 0.3914336384109883\n",
      "Starting inference for model: checkpoints/siamese_bert_7_fold_2_best.pth\n"
     ]
    },
    {
     "data": {
      "application/vnd.jupyter.widget-view+json": {
       "model_id": "89277938a6864c8583830fbaf9411f5a",
       "version_major": 2,
       "version_minor": 0
      },
      "text/plain": [
       "HBox(children=(IntProgress(value=0, max=238), HTML(value='')))"
      ]
     },
     "metadata": {},
     "output_type": "display_data"
    },
    {
     "name": "stdout",
     "output_type": "stream",
     "text": [
      "\n",
      "Fold 3 started at Wed Feb  5 20:50:02 2020\n",
      "epoch 0: \t Start training...\n"
     ]
    },
    {
     "data": {
      "application/vnd.jupyter.widget-view+json": {
       "model_id": "414b5a8b91c3497a8b2515a714220273",
       "version_major": 2,
       "version_minor": 0
      },
      "text/plain": [
       "HBox(children=(IntProgress(value=0, max=2736), HTML(value='')))"
      ]
     },
     "metadata": {},
     "output_type": "display_data"
    },
    {
     "name": "stdout",
     "output_type": "stream",
     "text": [
      "\n",
      "epoch 0/4 \t train : loss 0.50924 - spearmanr 0.24732\n",
      "epoch 0: \t Start validation...\n"
     ]
    },
    {
     "data": {
      "application/vnd.jupyter.widget-view+json": {
       "model_id": "7f55bdb9dfd9425ea53a706a4a2f6710",
       "version_major": 2,
       "version_minor": 0
      },
      "text/plain": [
       "HBox(children=(IntProgress(value=0, max=304), HTML(value='')))"
      ]
     },
     "metadata": {},
     "output_type": "display_data"
    },
    {
     "name": "stdout",
     "output_type": "stream",
     "text": [
      "\n",
      "epoch 0/4 \t valid : loss 0.46093 - spearmanr 0.38152\n"
     ]
    },
    {
     "name": "stderr",
     "output_type": "stream",
     "text": [
      "/home/robin/anaconda3/envs/GoogleQuest/lib/python3.7/site-packages/numpy/lib/function_base.py:2534: RuntimeWarning: invalid value encountered in true_divide\n",
      "  c /= stddev[:, None]\n",
      "/home/robin/anaconda3/envs/GoogleQuest/lib/python3.7/site-packages/numpy/lib/function_base.py:2535: RuntimeWarning: invalid value encountered in true_divide\n",
      "  c /= stddev[None, :]\n",
      "/home/robin/anaconda3/envs/GoogleQuest/lib/python3.7/site-packages/scipy/stats/_distn_infrastructure.py:901: RuntimeWarning: invalid value encountered in greater\n",
      "  return (a < x) & (x < b)\n",
      "/home/robin/anaconda3/envs/GoogleQuest/lib/python3.7/site-packages/scipy/stats/_distn_infrastructure.py:901: RuntimeWarning: invalid value encountered in less\n",
      "  return (a < x) & (x < b)\n",
      "/home/robin/anaconda3/envs/GoogleQuest/lib/python3.7/site-packages/scipy/stats/_distn_infrastructure.py:1892: RuntimeWarning: invalid value encountered in less_equal\n",
      "  cond2 = cond0 & (x <= _a)\n"
     ]
    },
    {
     "name": "stdout",
     "output_type": "stream",
     "text": [
      "best model: epoch 0 - 0.38152\n",
      "epoch 1: \t Start training...\n"
     ]
    },
    {
     "data": {
      "application/vnd.jupyter.widget-view+json": {
       "model_id": "c905cd3659b94d62b14bfba0f1040b6d",
       "version_major": 2,
       "version_minor": 0
      },
      "text/plain": [
       "HBox(children=(IntProgress(value=0, max=2736), HTML(value='')))"
      ]
     },
     "metadata": {},
     "output_type": "display_data"
    },
    {
     "name": "stdout",
     "output_type": "stream",
     "text": [
      "\n",
      "epoch 1/4 \t train : loss 0.4569 - spearmanr 0.39563\n",
      "epoch 1: \t Start validation...\n"
     ]
    },
    {
     "data": {
      "application/vnd.jupyter.widget-view+json": {
       "model_id": "a3743d09d8c04ed597bf0079c53f9625",
       "version_major": 2,
       "version_minor": 0
      },
      "text/plain": [
       "HBox(children=(IntProgress(value=0, max=304), HTML(value='')))"
      ]
     },
     "metadata": {},
     "output_type": "display_data"
    },
    {
     "name": "stdout",
     "output_type": "stream",
     "text": [
      "\n",
      "epoch 1/4 \t valid : loss 0.45044 - spearmanr 0.40072\n",
      "best model: epoch 1 - 0.40072\n",
      "epoch 2: \t Start training...\n"
     ]
    },
    {
     "data": {
      "application/vnd.jupyter.widget-view+json": {
       "model_id": "e62cbcdce93d4b5d88ce5b29ec8155a5",
       "version_major": 2,
       "version_minor": 0
      },
      "text/plain": [
       "HBox(children=(IntProgress(value=0, max=2736), HTML(value='')))"
      ]
     },
     "metadata": {},
     "output_type": "display_data"
    },
    {
     "name": "stdout",
     "output_type": "stream",
     "text": [
      "\n",
      "epoch 2/4 \t train : loss 0.43305 - spearmanr 0.45983\n",
      "epoch 2: \t Start validation...\n"
     ]
    },
    {
     "data": {
      "application/vnd.jupyter.widget-view+json": {
       "model_id": "c66112cdb7dd4e9ab51cf2ca053cf8c3",
       "version_major": 2,
       "version_minor": 0
      },
      "text/plain": [
       "HBox(children=(IntProgress(value=0, max=304), HTML(value='')))"
      ]
     },
     "metadata": {},
     "output_type": "display_data"
    },
    {
     "name": "stdout",
     "output_type": "stream",
     "text": [
      "\n",
      "epoch 2/4 \t valid : loss 0.44713 - spearmanr 0.40944\n",
      "best model: epoch 2 - 0.40944\n",
      "epoch 3: \t Start training...\n"
     ]
    },
    {
     "data": {
      "application/vnd.jupyter.widget-view+json": {
       "model_id": "5ca3984aca454cb1ba6c53db6a96ce55",
       "version_major": 2,
       "version_minor": 0
      },
      "text/plain": [
       "HBox(children=(IntProgress(value=0, max=2736), HTML(value='')))"
      ]
     },
     "metadata": {},
     "output_type": "display_data"
    },
    {
     "name": "stdout",
     "output_type": "stream",
     "text": [
      "\n",
      "epoch 3/4 \t train : loss 0.41139 - spearmanr 0.51266\n",
      "epoch 3: \t Start validation...\n"
     ]
    },
    {
     "data": {
      "application/vnd.jupyter.widget-view+json": {
       "model_id": "22489847f01845b98501bfde5c9b68e1",
       "version_major": 2,
       "version_minor": 0
      },
      "text/plain": [
       "HBox(children=(IntProgress(value=0, max=304), HTML(value='')))"
      ]
     },
     "metadata": {},
     "output_type": "display_data"
    },
    {
     "name": "stdout",
     "output_type": "stream",
     "text": [
      "\n",
      "epoch 3/4 \t valid : loss 0.44987 - spearmanr 0.41127\n",
      "best model: epoch 3 - 0.41127\n",
      "TRAINING END: Best score achieved on epoch 3 - 0.41127\n",
      "Starting inference for model: checkpoints/siamese_bert_7_fold_3_best.pth\n"
     ]
    },
    {
     "data": {
      "application/vnd.jupyter.widget-view+json": {
       "model_id": "f10ce215687646f2a7f68b7ffb3d564c",
       "version_major": 2,
       "version_minor": 0
      },
      "text/plain": [
       "HBox(children=(IntProgress(value=0, max=304), HTML(value='')))"
      ]
     },
     "metadata": {},
     "output_type": "display_data"
    },
    {
     "name": "stdout",
     "output_type": "stream",
     "text": [
      "\n",
      "Averaged Val. score: 0.41127222442511346\n",
      "Starting inference for model: checkpoints/siamese_bert_7_fold_3_best.pth\n"
     ]
    },
    {
     "data": {
      "application/vnd.jupyter.widget-view+json": {
       "model_id": "ea06802065d34d76a0a98857909727fe",
       "version_major": 2,
       "version_minor": 0
      },
      "text/plain": [
       "HBox(children=(IntProgress(value=0, max=238), HTML(value='')))"
      ]
     },
     "metadata": {},
     "output_type": "display_data"
    },
    {
     "name": "stdout",
     "output_type": "stream",
     "text": [
      "\n",
      "Fold 4 started at Wed Feb  5 21:29:24 2020\n",
      "epoch 0: \t Start training...\n"
     ]
    },
    {
     "data": {
      "application/vnd.jupyter.widget-view+json": {
       "model_id": "9e9d57cac2df4fe09df9e066a38dd50f",
       "version_major": 2,
       "version_minor": 0
      },
      "text/plain": [
       "HBox(children=(IntProgress(value=0, max=2736), HTML(value='')))"
      ]
     },
     "metadata": {},
     "output_type": "display_data"
    },
    {
     "name": "stdout",
     "output_type": "stream",
     "text": [
      "\n",
      "epoch 0/4 \t train : loss 0.50939 - spearmanr 0.24395\n",
      "epoch 0: \t Start validation...\n"
     ]
    },
    {
     "data": {
      "application/vnd.jupyter.widget-view+json": {
       "model_id": "e6b935dc142a4836b8a6347a01c5fb30",
       "version_major": 2,
       "version_minor": 0
      },
      "text/plain": [
       "HBox(children=(IntProgress(value=0, max=304), HTML(value='')))"
      ]
     },
     "metadata": {},
     "output_type": "display_data"
    },
    {
     "name": "stdout",
     "output_type": "stream",
     "text": [
      "\n",
      "epoch 0/4 \t valid : loss 0.47298 - spearmanr 0.39264\n",
      "best model: epoch 0 - 0.39264\n",
      "epoch 1: \t Start training...\n"
     ]
    },
    {
     "data": {
      "application/vnd.jupyter.widget-view+json": {
       "model_id": "470fe076ca07473aa90779af476bc61c",
       "version_major": 2,
       "version_minor": 0
      },
      "text/plain": [
       "HBox(children=(IntProgress(value=0, max=2736), HTML(value='')))"
      ]
     },
     "metadata": {},
     "output_type": "display_data"
    },
    {
     "name": "stdout",
     "output_type": "stream",
     "text": [
      "\n",
      "epoch 1/4 \t train : loss 0.45567 - spearmanr 0.39367\n",
      "epoch 1: \t Start validation...\n"
     ]
    },
    {
     "data": {
      "application/vnd.jupyter.widget-view+json": {
       "model_id": "cb7da34ca643499b94a79c20cae43b03",
       "version_major": 2,
       "version_minor": 0
      },
      "text/plain": [
       "HBox(children=(IntProgress(value=0, max=304), HTML(value='')))"
      ]
     },
     "metadata": {},
     "output_type": "display_data"
    },
    {
     "name": "stdout",
     "output_type": "stream",
     "text": [
      "\n",
      "epoch 1/4 \t valid : loss 0.45799 - spearmanr 0.42517\n",
      "best model: epoch 1 - 0.42517\n",
      "epoch 2: \t Start training...\n"
     ]
    },
    {
     "data": {
      "application/vnd.jupyter.widget-view+json": {
       "model_id": "83b811f442f24808a014f035c6965d9d",
       "version_major": 2,
       "version_minor": 0
      },
      "text/plain": [
       "HBox(children=(IntProgress(value=0, max=2736), HTML(value='')))"
      ]
     },
     "metadata": {},
     "output_type": "display_data"
    },
    {
     "name": "stdout",
     "output_type": "stream",
     "text": [
      "\n",
      "epoch 2/4 \t train : loss 0.43146 - spearmanr 0.45942\n",
      "epoch 2: \t Start validation...\n"
     ]
    },
    {
     "data": {
      "application/vnd.jupyter.widget-view+json": {
       "model_id": "c6d9329ca96b40f7ac3d210a6aa70d39",
       "version_major": 2,
       "version_minor": 0
      },
      "text/plain": [
       "HBox(children=(IntProgress(value=0, max=304), HTML(value='')))"
      ]
     },
     "metadata": {},
     "output_type": "display_data"
    },
    {
     "name": "stdout",
     "output_type": "stream",
     "text": [
      "\n",
      "epoch 2/4 \t valid : loss 0.45896 - spearmanr 0.42652\n",
      "best model: epoch 2 - 0.42652\n",
      "epoch 3: \t Start training...\n"
     ]
    },
    {
     "data": {
      "application/vnd.jupyter.widget-view+json": {
       "model_id": "352f1bae747841bca5d067a33aea1dae",
       "version_major": 2,
       "version_minor": 0
      },
      "text/plain": [
       "HBox(children=(IntProgress(value=0, max=2736), HTML(value='')))"
      ]
     },
     "metadata": {},
     "output_type": "display_data"
    },
    {
     "name": "stdout",
     "output_type": "stream",
     "text": [
      "\n",
      "epoch 3/4 \t train : loss 0.40995 - spearmanr 0.51229\n",
      "epoch 3: \t Start validation...\n"
     ]
    },
    {
     "data": {
      "application/vnd.jupyter.widget-view+json": {
       "model_id": "36b3b75805144561811846f14321f87b",
       "version_major": 2,
       "version_minor": 0
      },
      "text/plain": [
       "HBox(children=(IntProgress(value=0, max=304), HTML(value='')))"
      ]
     },
     "metadata": {},
     "output_type": "display_data"
    },
    {
     "name": "stdout",
     "output_type": "stream",
     "text": [
      "\n",
      "epoch 3/4 \t valid : loss 0.46243 - spearmanr 0.42562\n",
      "model not improved for 1 epochs\n",
      "TRAINING END: Best score achieved on epoch 2 - 0.42652\n",
      "Starting inference for model: checkpoints/siamese_bert_7_fold_4_best.pth\n"
     ]
    },
    {
     "data": {
      "application/vnd.jupyter.widget-view+json": {
       "model_id": "b4b1939b48534d8aa985c3f3b3c995b5",
       "version_major": 2,
       "version_minor": 0
      },
      "text/plain": [
       "HBox(children=(IntProgress(value=0, max=304), HTML(value='')))"
      ]
     },
     "metadata": {},
     "output_type": "display_data"
    },
    {
     "name": "stdout",
     "output_type": "stream",
     "text": [
      "\n",
      "Averaged Val. score: 0.4265204941204511\n",
      "Starting inference for model: checkpoints/siamese_bert_7_fold_4_best.pth\n"
     ]
    },
    {
     "data": {
      "application/vnd.jupyter.widget-view+json": {
       "model_id": "c7f2fb5170fa47d6b30e7cc55b44d3fb",
       "version_major": 2,
       "version_minor": 0
      },
      "text/plain": [
       "HBox(children=(IntProgress(value=0, max=238), HTML(value='')))"
      ]
     },
     "metadata": {},
     "output_type": "display_data"
    },
    {
     "name": "stdout",
     "output_type": "stream",
     "text": [
      "\n",
      "Fold 5 started at Wed Feb  5 22:08:29 2020\n",
      "epoch 0: \t Start training...\n"
     ]
    },
    {
     "data": {
      "application/vnd.jupyter.widget-view+json": {
       "model_id": "80161047e0cb4586a369afdd5e980be0",
       "version_major": 2,
       "version_minor": 0
      },
      "text/plain": [
       "HBox(children=(IntProgress(value=0, max=2736), HTML(value='')))"
      ]
     },
     "metadata": {},
     "output_type": "display_data"
    },
    {
     "name": "stdout",
     "output_type": "stream",
     "text": [
      "\n",
      "epoch 0/4 \t train : loss 0.50995 - spearmanr 0.24469\n",
      "epoch 0: \t Start validation...\n"
     ]
    },
    {
     "data": {
      "application/vnd.jupyter.widget-view+json": {
       "model_id": "4d4e715ce7b948d4835dae68bc18ad9d",
       "version_major": 2,
       "version_minor": 0
      },
      "text/plain": [
       "HBox(children=(IntProgress(value=0, max=304), HTML(value='')))"
      ]
     },
     "metadata": {},
     "output_type": "display_data"
    },
    {
     "name": "stdout",
     "output_type": "stream",
     "text": [
      "\n",
      "epoch 0/4 \t valid : loss 0.46863 - spearmanr 0.36399\n",
      "best model: epoch 0 - 0.36399\n",
      "epoch 1: \t Start training...\n"
     ]
    },
    {
     "data": {
      "application/vnd.jupyter.widget-view+json": {
       "model_id": "d9842a3b7f2b4c5eb98bed73a8326843",
       "version_major": 2,
       "version_minor": 0
      },
      "text/plain": [
       "HBox(children=(IntProgress(value=0, max=2736), HTML(value='')))"
      ]
     },
     "metadata": {},
     "output_type": "display_data"
    },
    {
     "name": "stdout",
     "output_type": "stream",
     "text": [
      "\n",
      "epoch 1/4 \t train : loss 0.45607 - spearmanr 0.39707\n",
      "epoch 1: \t Start validation...\n"
     ]
    },
    {
     "data": {
      "application/vnd.jupyter.widget-view+json": {
       "model_id": "1fb1e05311d04ef2bc50ca6009cf4e75",
       "version_major": 2,
       "version_minor": 0
      },
      "text/plain": [
       "HBox(children=(IntProgress(value=0, max=304), HTML(value='')))"
      ]
     },
     "metadata": {},
     "output_type": "display_data"
    },
    {
     "name": "stdout",
     "output_type": "stream",
     "text": [
      "\n",
      "epoch 1/4 \t valid : loss 0.46048 - spearmanr 0.38617\n",
      "best model: epoch 1 - 0.38617\n",
      "epoch 2: \t Start training...\n"
     ]
    },
    {
     "data": {
      "application/vnd.jupyter.widget-view+json": {
       "model_id": "93bcb752216945a9b60063a940d0e401",
       "version_major": 2,
       "version_minor": 0
      },
      "text/plain": [
       "HBox(children=(IntProgress(value=0, max=2736), HTML(value='')))"
      ]
     },
     "metadata": {},
     "output_type": "display_data"
    },
    {
     "name": "stdout",
     "output_type": "stream",
     "text": [
      "\n",
      "epoch 2/4 \t train : loss 0.43156 - spearmanr 0.46118\n",
      "epoch 2: \t Start validation...\n"
     ]
    },
    {
     "data": {
      "application/vnd.jupyter.widget-view+json": {
       "model_id": "a67e0ff390ae4127a541f8a3e9f15f0b",
       "version_major": 2,
       "version_minor": 0
      },
      "text/plain": [
       "HBox(children=(IntProgress(value=0, max=304), HTML(value='')))"
      ]
     },
     "metadata": {},
     "output_type": "display_data"
    },
    {
     "name": "stdout",
     "output_type": "stream",
     "text": [
      "\n",
      "epoch 2/4 \t valid : loss 0.45649 - spearmanr 0.39641\n",
      "best model: epoch 2 - 0.39641\n",
      "epoch 3: \t Start training...\n"
     ]
    },
    {
     "data": {
      "application/vnd.jupyter.widget-view+json": {
       "model_id": "b923704aca484214ba02284c579e5c8f",
       "version_major": 2,
       "version_minor": 0
      },
      "text/plain": [
       "HBox(children=(IntProgress(value=0, max=2736), HTML(value='')))"
      ]
     },
     "metadata": {},
     "output_type": "display_data"
    },
    {
     "name": "stdout",
     "output_type": "stream",
     "text": [
      "\n",
      "epoch 3/4 \t train : loss 0.41058 - spearmanr 0.51395\n",
      "epoch 3: \t Start validation...\n"
     ]
    },
    {
     "data": {
      "application/vnd.jupyter.widget-view+json": {
       "model_id": "c00e75c055c04bb3ba76c151b9680ce7",
       "version_major": 2,
       "version_minor": 0
      },
      "text/plain": [
       "HBox(children=(IntProgress(value=0, max=304), HTML(value='')))"
      ]
     },
     "metadata": {},
     "output_type": "display_data"
    },
    {
     "name": "stdout",
     "output_type": "stream",
     "text": [
      "\n",
      "epoch 3/4 \t valid : loss 0.46127 - spearmanr 0.39573\n",
      "model not improved for 1 epochs\n",
      "TRAINING END: Best score achieved on epoch 2 - 0.39641\n",
      "Starting inference for model: checkpoints/siamese_bert_7_fold_5_best.pth\n"
     ]
    },
    {
     "data": {
      "application/vnd.jupyter.widget-view+json": {
       "model_id": "e1d92a434562406790fcb064c7780271",
       "version_major": 2,
       "version_minor": 0
      },
      "text/plain": [
       "HBox(children=(IntProgress(value=0, max=304), HTML(value='')))"
      ]
     },
     "metadata": {},
     "output_type": "display_data"
    },
    {
     "name": "stdout",
     "output_type": "stream",
     "text": [
      "\n",
      "Averaged Val. score: 0.3964090138764097\n",
      "Starting inference for model: checkpoints/siamese_bert_7_fold_5_best.pth\n"
     ]
    },
    {
     "data": {
      "application/vnd.jupyter.widget-view+json": {
       "model_id": "607ffa41f2d94032a185533984248d09",
       "version_major": 2,
       "version_minor": 0
      },
      "text/plain": [
       "HBox(children=(IntProgress(value=0, max=238), HTML(value='')))"
      ]
     },
     "metadata": {},
     "output_type": "display_data"
    },
    {
     "name": "stdout",
     "output_type": "stream",
     "text": [
      "\n",
      "Fold 6 started at Wed Feb  5 22:47:48 2020\n",
      "epoch 0: \t Start training...\n"
     ]
    },
    {
     "data": {
      "application/vnd.jupyter.widget-view+json": {
       "model_id": "270a8909120646a19b39aee4928561da",
       "version_major": 2,
       "version_minor": 0
      },
      "text/plain": [
       "HBox(children=(IntProgress(value=0, max=2736), HTML(value='')))"
      ]
     },
     "metadata": {},
     "output_type": "display_data"
    },
    {
     "name": "stdout",
     "output_type": "stream",
     "text": [
      "\n",
      "epoch 0/4 \t train : loss 0.50753 - spearmanr 0.25237\n",
      "epoch 0: \t Start validation...\n"
     ]
    },
    {
     "data": {
      "application/vnd.jupyter.widget-view+json": {
       "model_id": "ccf435c41745406bb2d3bef431d44369",
       "version_major": 2,
       "version_minor": 0
      },
      "text/plain": [
       "HBox(children=(IntProgress(value=0, max=304), HTML(value='')))"
      ]
     },
     "metadata": {},
     "output_type": "display_data"
    },
    {
     "name": "stdout",
     "output_type": "stream",
     "text": [
      "\n",
      "epoch 0/4 \t valid : loss 0.47468 - spearmanr 0.38304\n",
      "best model: epoch 0 - 0.38304\n",
      "epoch 1: \t Start training...\n"
     ]
    },
    {
     "data": {
      "application/vnd.jupyter.widget-view+json": {
       "model_id": "0aacffb845214f3cadb372f8786ee192",
       "version_major": 2,
       "version_minor": 0
      },
      "text/plain": [
       "HBox(children=(IntProgress(value=0, max=2736), HTML(value='')))"
      ]
     },
     "metadata": {},
     "output_type": "display_data"
    },
    {
     "name": "stdout",
     "output_type": "stream",
     "text": [
      "\n",
      "epoch 1/4 \t train : loss 0.45569 - spearmanr 0.39688\n",
      "epoch 1: \t Start validation...\n"
     ]
    },
    {
     "data": {
      "application/vnd.jupyter.widget-view+json": {
       "model_id": "8dfa5d76bf4f4bddbefae863f6f16ea1",
       "version_major": 2,
       "version_minor": 0
      },
      "text/plain": [
       "HBox(children=(IntProgress(value=0, max=304), HTML(value='')))"
      ]
     },
     "metadata": {},
     "output_type": "display_data"
    },
    {
     "name": "stdout",
     "output_type": "stream",
     "text": [
      "\n",
      "epoch 1/4 \t valid : loss 0.45997 - spearmanr 0.40258\n",
      "best model: epoch 1 - 0.40258\n",
      "epoch 2: \t Start training...\n"
     ]
    },
    {
     "data": {
      "application/vnd.jupyter.widget-view+json": {
       "model_id": "4d8721b5e6d64174879076a55273801d",
       "version_major": 2,
       "version_minor": 0
      },
      "text/plain": [
       "HBox(children=(IntProgress(value=0, max=2736), HTML(value='')))"
      ]
     },
     "metadata": {},
     "output_type": "display_data"
    },
    {
     "name": "stdout",
     "output_type": "stream",
     "text": [
      "\n",
      "epoch 2/4 \t train : loss 0.43197 - spearmanr 0.46061\n",
      "epoch 2: \t Start validation...\n"
     ]
    },
    {
     "data": {
      "application/vnd.jupyter.widget-view+json": {
       "model_id": "d32e25553a7a4f608c5132d097a9fe58",
       "version_major": 2,
       "version_minor": 0
      },
      "text/plain": [
       "HBox(children=(IntProgress(value=0, max=304), HTML(value='')))"
      ]
     },
     "metadata": {},
     "output_type": "display_data"
    },
    {
     "name": "stdout",
     "output_type": "stream",
     "text": [
      "\n",
      "epoch 2/4 \t valid : loss 0.45625 - spearmanr 0.41011\n",
      "best model: epoch 2 - 0.41011\n",
      "epoch 3: \t Start training...\n"
     ]
    },
    {
     "data": {
      "application/vnd.jupyter.widget-view+json": {
       "model_id": "d50d6b45ed7548f5ab8f50a6056a235f",
       "version_major": 2,
       "version_minor": 0
      },
      "text/plain": [
       "HBox(children=(IntProgress(value=0, max=2736), HTML(value='')))"
      ]
     },
     "metadata": {},
     "output_type": "display_data"
    },
    {
     "name": "stdout",
     "output_type": "stream",
     "text": [
      "\n",
      "epoch 3/4 \t train : loss 0.41019 - spearmanr 0.51514\n",
      "epoch 3: \t Start validation...\n"
     ]
    },
    {
     "data": {
      "application/vnd.jupyter.widget-view+json": {
       "model_id": "53cb43b2f03d4437841da71ac0f307c0",
       "version_major": 2,
       "version_minor": 0
      },
      "text/plain": [
       "HBox(children=(IntProgress(value=0, max=304), HTML(value='')))"
      ]
     },
     "metadata": {},
     "output_type": "display_data"
    },
    {
     "name": "stdout",
     "output_type": "stream",
     "text": [
      "\n",
      "epoch 3/4 \t valid : loss 0.45948 - spearmanr 0.40824\n",
      "model not improved for 1 epochs\n",
      "TRAINING END: Best score achieved on epoch 2 - 0.41011\n",
      "Starting inference for model: checkpoints/siamese_bert_7_fold_6_best.pth\n"
     ]
    },
    {
     "data": {
      "application/vnd.jupyter.widget-view+json": {
       "model_id": "0541404245834d31b8aca91e55bf35ac",
       "version_major": 2,
       "version_minor": 0
      },
      "text/plain": [
       "HBox(children=(IntProgress(value=0, max=304), HTML(value='')))"
      ]
     },
     "metadata": {},
     "output_type": "display_data"
    },
    {
     "name": "stdout",
     "output_type": "stream",
     "text": [
      "\n",
      "Averaged Val. score: 0.4101098954822609\n",
      "Starting inference for model: checkpoints/siamese_bert_7_fold_6_best.pth\n"
     ]
    },
    {
     "data": {
      "application/vnd.jupyter.widget-view+json": {
       "model_id": "7d7d1ce2472c4f3ea846df64a3493556",
       "version_major": 2,
       "version_minor": 0
      },
      "text/plain": [
       "HBox(children=(IntProgress(value=0, max=238), HTML(value='')))"
      ]
     },
     "metadata": {},
     "output_type": "display_data"
    },
    {
     "name": "stdout",
     "output_type": "stream",
     "text": [
      "\n",
      "Fold 7 started at Wed Feb  5 23:27:34 2020\n",
      "epoch 0: \t Start training...\n"
     ]
    },
    {
     "data": {
      "application/vnd.jupyter.widget-view+json": {
       "model_id": "85910323b3cf4ff685b70939abe419ca",
       "version_major": 2,
       "version_minor": 0
      },
      "text/plain": [
       "HBox(children=(IntProgress(value=0, max=2736), HTML(value='')))"
      ]
     },
     "metadata": {},
     "output_type": "display_data"
    },
    {
     "name": "stdout",
     "output_type": "stream",
     "text": [
      "\n",
      "epoch 0/4 \t train : loss 0.50993 - spearmanr 0.24265\n",
      "epoch 0: \t Start validation...\n"
     ]
    },
    {
     "data": {
      "application/vnd.jupyter.widget-view+json": {
       "model_id": "479c679e47bf410394d4029b645b7c84",
       "version_major": 2,
       "version_minor": 0
      },
      "text/plain": [
       "HBox(children=(IntProgress(value=0, max=304), HTML(value='')))"
      ]
     },
     "metadata": {},
     "output_type": "display_data"
    },
    {
     "name": "stdout",
     "output_type": "stream",
     "text": [
      "\n",
      "epoch 0/4 \t valid : loss 0.46477 - spearmanr 0.3992\n",
      "best model: epoch 0 - 0.3992\n",
      "epoch 1: \t Start training...\n"
     ]
    },
    {
     "data": {
      "application/vnd.jupyter.widget-view+json": {
       "model_id": "bd63404eaa714e85ab84be70645eb444",
       "version_major": 2,
       "version_minor": 0
      },
      "text/plain": [
       "HBox(children=(IntProgress(value=0, max=2736), HTML(value='')))"
      ]
     },
     "metadata": {},
     "output_type": "display_data"
    },
    {
     "name": "stdout",
     "output_type": "stream",
     "text": [
      "\n",
      "epoch 1/4 \t train : loss 0.45683 - spearmanr 0.39325\n",
      "epoch 1: \t Start validation...\n"
     ]
    },
    {
     "data": {
      "application/vnd.jupyter.widget-view+json": {
       "model_id": "f470cb2d764e4840acab5aad99acbd77",
       "version_major": 2,
       "version_minor": 0
      },
      "text/plain": [
       "HBox(children=(IntProgress(value=0, max=304), HTML(value='')))"
      ]
     },
     "metadata": {},
     "output_type": "display_data"
    },
    {
     "name": "stdout",
     "output_type": "stream",
     "text": [
      "\n",
      "epoch 1/4 \t valid : loss 0.45153 - spearmanr 0.41196\n",
      "best model: epoch 1 - 0.41196\n",
      "epoch 2: \t Start training...\n"
     ]
    },
    {
     "data": {
      "application/vnd.jupyter.widget-view+json": {
       "model_id": "f602237a86c04fdfbc22baadb18d2657",
       "version_major": 2,
       "version_minor": 0
      },
      "text/plain": [
       "HBox(children=(IntProgress(value=0, max=2736), HTML(value='')))"
      ]
     },
     "metadata": {},
     "output_type": "display_data"
    },
    {
     "name": "stdout",
     "output_type": "stream",
     "text": [
      "\n",
      "epoch 2/4 \t train : loss 0.43332 - spearmanr 0.45647\n",
      "epoch 2: \t Start validation...\n"
     ]
    },
    {
     "data": {
      "application/vnd.jupyter.widget-view+json": {
       "model_id": "85e88d01d37645ae884fbd837349785a",
       "version_major": 2,
       "version_minor": 0
      },
      "text/plain": [
       "HBox(children=(IntProgress(value=0, max=304), HTML(value='')))"
      ]
     },
     "metadata": {},
     "output_type": "display_data"
    },
    {
     "name": "stdout",
     "output_type": "stream",
     "text": [
      "\n",
      "epoch 2/4 \t valid : loss 0.44792 - spearmanr 0.42521\n",
      "best model: epoch 2 - 0.42521\n",
      "epoch 3: \t Start training...\n"
     ]
    },
    {
     "data": {
      "application/vnd.jupyter.widget-view+json": {
       "model_id": "8c0d1a540d38440dba2afaf8c5cce906",
       "version_major": 2,
       "version_minor": 0
      },
      "text/plain": [
       "HBox(children=(IntProgress(value=0, max=2736), HTML(value='')))"
      ]
     },
     "metadata": {},
     "output_type": "display_data"
    },
    {
     "name": "stdout",
     "output_type": "stream",
     "text": [
      "\n",
      "epoch 3/4 \t train : loss 0.4118 - spearmanr 0.51045\n",
      "epoch 3: \t Start validation...\n"
     ]
    },
    {
     "data": {
      "application/vnd.jupyter.widget-view+json": {
       "model_id": "c0d900c2d8304c3fad065dc3d46ad215",
       "version_major": 2,
       "version_minor": 0
      },
      "text/plain": [
       "HBox(children=(IntProgress(value=0, max=304), HTML(value='')))"
      ]
     },
     "metadata": {},
     "output_type": "display_data"
    },
    {
     "name": "stdout",
     "output_type": "stream",
     "text": [
      "\n",
      "epoch 3/4 \t valid : loss 0.44973 - spearmanr 0.42408\n",
      "model not improved for 1 epochs\n",
      "TRAINING END: Best score achieved on epoch 2 - 0.42521\n",
      "Starting inference for model: checkpoints/siamese_bert_7_fold_7_best.pth\n"
     ]
    },
    {
     "data": {
      "application/vnd.jupyter.widget-view+json": {
       "model_id": "28500db4ebc748879f22ec4898e5fe4a",
       "version_major": 2,
       "version_minor": 0
      },
      "text/plain": [
       "HBox(children=(IntProgress(value=0, max=304), HTML(value='')))"
      ]
     },
     "metadata": {},
     "output_type": "display_data"
    },
    {
     "name": "stdout",
     "output_type": "stream",
     "text": [
      "\n",
      "Averaged Val. score: 0.42521284019234007\n",
      "Starting inference for model: checkpoints/siamese_bert_7_fold_7_best.pth\n"
     ]
    },
    {
     "data": {
      "application/vnd.jupyter.widget-view+json": {
       "model_id": "37a22ef3fce54f63bd9372f1f0b50a26",
       "version_major": 2,
       "version_minor": 0
      },
      "text/plain": [
       "HBox(children=(IntProgress(value=0, max=238), HTML(value='')))"
      ]
     },
     "metadata": {},
     "output_type": "display_data"
    },
    {
     "name": "stdout",
     "output_type": "stream",
     "text": [
      "\n",
      "Fold 8 started at Thu Feb  6 00:06:46 2020\n",
      "epoch 0: \t Start training...\n"
     ]
    },
    {
     "data": {
      "application/vnd.jupyter.widget-view+json": {
       "model_id": "1cbe7eab215144739daf5a89973be61f",
       "version_major": 2,
       "version_minor": 0
      },
      "text/plain": [
       "HBox(children=(IntProgress(value=0, max=2736), HTML(value='')))"
      ]
     },
     "metadata": {},
     "output_type": "display_data"
    },
    {
     "name": "stdout",
     "output_type": "stream",
     "text": [
      "\n",
      "epoch 0/4 \t train : loss 0.50899 - spearmanr 0.24564\n",
      "epoch 0: \t Start validation...\n"
     ]
    },
    {
     "data": {
      "application/vnd.jupyter.widget-view+json": {
       "model_id": "673a2412331040c9a07451cadf5407ce",
       "version_major": 2,
       "version_minor": 0
      },
      "text/plain": [
       "HBox(children=(IntProgress(value=0, max=304), HTML(value='')))"
      ]
     },
     "metadata": {},
     "output_type": "display_data"
    },
    {
     "name": "stdout",
     "output_type": "stream",
     "text": [
      "\n",
      "epoch 0/4 \t valid : loss 0.4682 - spearmanr 0.3793\n",
      "best model: epoch 0 - 0.3793\n",
      "epoch 1: \t Start training...\n"
     ]
    },
    {
     "data": {
      "application/vnd.jupyter.widget-view+json": {
       "model_id": "d860a274c5fb449da97ecd127ba6d464",
       "version_major": 2,
       "version_minor": 0
      },
      "text/plain": [
       "HBox(children=(IntProgress(value=0, max=2736), HTML(value='')))"
      ]
     },
     "metadata": {},
     "output_type": "display_data"
    },
    {
     "name": "stdout",
     "output_type": "stream",
     "text": [
      "\n",
      "epoch 1/4 \t train : loss 0.45639 - spearmanr 0.39439\n",
      "epoch 1: \t Start validation...\n"
     ]
    },
    {
     "data": {
      "application/vnd.jupyter.widget-view+json": {
       "model_id": "99c3ac26be6b4d599ef745907de96e12",
       "version_major": 2,
       "version_minor": 0
      },
      "text/plain": [
       "HBox(children=(IntProgress(value=0, max=304), HTML(value='')))"
      ]
     },
     "metadata": {},
     "output_type": "display_data"
    },
    {
     "name": "stdout",
     "output_type": "stream",
     "text": [
      "\n",
      "epoch 1/4 \t valid : loss 0.45147 - spearmanr 0.41679\n",
      "best model: epoch 1 - 0.41679\n",
      "epoch 2: \t Start training...\n"
     ]
    },
    {
     "data": {
      "application/vnd.jupyter.widget-view+json": {
       "model_id": "868f739a735d491c88056461e761ee09",
       "version_major": 2,
       "version_minor": 0
      },
      "text/plain": [
       "HBox(children=(IntProgress(value=0, max=2736), HTML(value='')))"
      ]
     },
     "metadata": {},
     "output_type": "display_data"
    },
    {
     "name": "stdout",
     "output_type": "stream",
     "text": [
      "\n",
      "epoch 2/4 \t train : loss 0.43241 - spearmanr 0.45955\n",
      "epoch 2: \t Start validation...\n"
     ]
    },
    {
     "data": {
      "application/vnd.jupyter.widget-view+json": {
       "model_id": "1b4195f53f8140c0ad2b1747d32d36c6",
       "version_major": 2,
       "version_minor": 0
      },
      "text/plain": [
       "HBox(children=(IntProgress(value=0, max=304), HTML(value='')))"
      ]
     },
     "metadata": {},
     "output_type": "display_data"
    },
    {
     "name": "stdout",
     "output_type": "stream",
     "text": [
      "\n",
      "epoch 2/4 \t valid : loss 0.45037 - spearmanr 0.41985\n",
      "best model: epoch 2 - 0.41985\n",
      "epoch 3: \t Start training...\n"
     ]
    },
    {
     "data": {
      "application/vnd.jupyter.widget-view+json": {
       "model_id": "7aab5f8d6f634286b5b65904c3fe9647",
       "version_major": 2,
       "version_minor": 0
      },
      "text/plain": [
       "HBox(children=(IntProgress(value=0, max=2736), HTML(value='')))"
      ]
     },
     "metadata": {},
     "output_type": "display_data"
    },
    {
     "name": "stdout",
     "output_type": "stream",
     "text": [
      "\n",
      "epoch 3/4 \t train : loss 0.41085 - spearmanr 0.51393\n",
      "epoch 3: \t Start validation...\n"
     ]
    },
    {
     "data": {
      "application/vnd.jupyter.widget-view+json": {
       "model_id": "5d4ae0151d7544fe985924c560844b69",
       "version_major": 2,
       "version_minor": 0
      },
      "text/plain": [
       "HBox(children=(IntProgress(value=0, max=304), HTML(value='')))"
      ]
     },
     "metadata": {},
     "output_type": "display_data"
    },
    {
     "name": "stdout",
     "output_type": "stream",
     "text": [
      "\n",
      "epoch 3/4 \t valid : loss 0.45069 - spearmanr 0.42228\n",
      "best model: epoch 3 - 0.42228\n",
      "TRAINING END: Best score achieved on epoch 3 - 0.42228\n",
      "Starting inference for model: checkpoints/siamese_bert_7_fold_8_best.pth\n"
     ]
    },
    {
     "data": {
      "application/vnd.jupyter.widget-view+json": {
       "model_id": "7968a18554d040c080a5fefc2621034b",
       "version_major": 2,
       "version_minor": 0
      },
      "text/plain": [
       "HBox(children=(IntProgress(value=0, max=304), HTML(value='')))"
      ]
     },
     "metadata": {},
     "output_type": "display_data"
    },
    {
     "name": "stdout",
     "output_type": "stream",
     "text": [
      "\n",
      "Averaged Val. score: 0.4222842062168504\n",
      "Starting inference for model: checkpoints/siamese_bert_7_fold_8_best.pth\n"
     ]
    },
    {
     "data": {
      "application/vnd.jupyter.widget-view+json": {
       "model_id": "c3a768a77f8c4093a93ed4e98453db09",
       "version_major": 2,
       "version_minor": 0
      },
      "text/plain": [
       "HBox(children=(IntProgress(value=0, max=238), HTML(value='')))"
      ]
     },
     "metadata": {},
     "output_type": "display_data"
    },
    {
     "name": "stdout",
     "output_type": "stream",
     "text": [
      "\n",
      "Fold 9 started at Thu Feb  6 00:45:29 2020\n",
      "epoch 0: \t Start training...\n"
     ]
    },
    {
     "data": {
      "application/vnd.jupyter.widget-view+json": {
       "model_id": "cb9cf1620ab944c599676c48c5ebaa68",
       "version_major": 2,
       "version_minor": 0
      },
      "text/plain": [
       "HBox(children=(IntProgress(value=0, max=2736), HTML(value='')))"
      ]
     },
     "metadata": {},
     "output_type": "display_data"
    },
    {
     "name": "stdout",
     "output_type": "stream",
     "text": [
      "\n",
      "epoch 0/4 \t train : loss 0.5092 - spearmanr 0.24411\n",
      "epoch 0: \t Start validation...\n"
     ]
    },
    {
     "data": {
      "application/vnd.jupyter.widget-view+json": {
       "model_id": "02a5ee138f6c4098b2f3c4402fc1049d",
       "version_major": 2,
       "version_minor": 0
      },
      "text/plain": [
       "HBox(children=(IntProgress(value=0, max=304), HTML(value='')))"
      ]
     },
     "metadata": {},
     "output_type": "display_data"
    },
    {
     "name": "stdout",
     "output_type": "stream",
     "text": [
      "\n",
      "epoch 0/4 \t valid : loss 0.469 - spearmanr 0.37653\n",
      "best model: epoch 0 - 0.37653\n",
      "epoch 1: \t Start training...\n"
     ]
    },
    {
     "data": {
      "application/vnd.jupyter.widget-view+json": {
       "model_id": "e83a231fd7ec449682664085ef578842",
       "version_major": 2,
       "version_minor": 0
      },
      "text/plain": [
       "HBox(children=(IntProgress(value=0, max=2736), HTML(value='')))"
      ]
     },
     "metadata": {},
     "output_type": "display_data"
    },
    {
     "name": "stdout",
     "output_type": "stream",
     "text": [
      "\n",
      "epoch 1/4 \t train : loss 0.45623 - spearmanr 0.3953\n",
      "epoch 1: \t Start validation...\n"
     ]
    },
    {
     "data": {
      "application/vnd.jupyter.widget-view+json": {
       "model_id": "231bbb0ab5844447af28da43d1c27e7b",
       "version_major": 2,
       "version_minor": 0
      },
      "text/plain": [
       "HBox(children=(IntProgress(value=0, max=304), HTML(value='')))"
      ]
     },
     "metadata": {},
     "output_type": "display_data"
    },
    {
     "name": "stdout",
     "output_type": "stream",
     "text": [
      "\n",
      "epoch 1/4 \t valid : loss 0.45808 - spearmanr 0.40046\n",
      "best model: epoch 1 - 0.40046\n",
      "epoch 2: \t Start training...\n"
     ]
    },
    {
     "data": {
      "application/vnd.jupyter.widget-view+json": {
       "model_id": "7ef5c637d72742d596fb291a6b1b4b3c",
       "version_major": 2,
       "version_minor": 0
      },
      "text/plain": [
       "HBox(children=(IntProgress(value=0, max=2736), HTML(value='')))"
      ]
     },
     "metadata": {},
     "output_type": "display_data"
    },
    {
     "name": "stdout",
     "output_type": "stream",
     "text": [
      "\n",
      "epoch 2/4 \t train : loss 0.43208 - spearmanr 0.46032\n",
      "epoch 2: \t Start validation...\n"
     ]
    },
    {
     "data": {
      "application/vnd.jupyter.widget-view+json": {
       "model_id": "cf521512c2174232ad0974f1c7223db1",
       "version_major": 2,
       "version_minor": 0
      },
      "text/plain": [
       "HBox(children=(IntProgress(value=0, max=304), HTML(value='')))"
      ]
     },
     "metadata": {},
     "output_type": "display_data"
    },
    {
     "name": "stdout",
     "output_type": "stream",
     "text": [
      "\n",
      "epoch 2/4 \t valid : loss 0.45633 - spearmanr 0.40629\n",
      "best model: epoch 2 - 0.40629\n",
      "epoch 3: \t Start training...\n"
     ]
    },
    {
     "data": {
      "application/vnd.jupyter.widget-view+json": {
       "model_id": "9d498c1e8557448b887644c7e2383bfb",
       "version_major": 2,
       "version_minor": 0
      },
      "text/plain": [
       "HBox(children=(IntProgress(value=0, max=2736), HTML(value='')))"
      ]
     },
     "metadata": {},
     "output_type": "display_data"
    },
    {
     "name": "stdout",
     "output_type": "stream",
     "text": [
      "\n",
      "epoch 3/4 \t train : loss 0.4106 - spearmanr 0.51392\n",
      "epoch 3: \t Start validation...\n"
     ]
    },
    {
     "data": {
      "application/vnd.jupyter.widget-view+json": {
       "model_id": "9aed2538da044a0e91f042114c791996",
       "version_major": 2,
       "version_minor": 0
      },
      "text/plain": [
       "HBox(children=(IntProgress(value=0, max=304), HTML(value='')))"
      ]
     },
     "metadata": {},
     "output_type": "display_data"
    },
    {
     "name": "stdout",
     "output_type": "stream",
     "text": [
      "\n",
      "epoch 3/4 \t valid : loss 0.45813 - spearmanr 0.40767\n",
      "best model: epoch 3 - 0.40767\n",
      "TRAINING END: Best score achieved on epoch 3 - 0.40767\n",
      "Starting inference for model: checkpoints/siamese_bert_7_fold_9_best.pth\n"
     ]
    },
    {
     "data": {
      "application/vnd.jupyter.widget-view+json": {
       "model_id": "238cef43947748b8aca42a0ecbce7708",
       "version_major": 2,
       "version_minor": 0
      },
      "text/plain": [
       "HBox(children=(IntProgress(value=0, max=304), HTML(value='')))"
      ]
     },
     "metadata": {},
     "output_type": "display_data"
    },
    {
     "name": "stdout",
     "output_type": "stream",
     "text": [
      "\n",
      "Averaged Val. score: 0.4076716072858887\n",
      "Starting inference for model: checkpoints/siamese_bert_7_fold_9_best.pth\n"
     ]
    },
    {
     "data": {
      "application/vnd.jupyter.widget-view+json": {
       "model_id": "f2dcfdb981f247dfa7caf6707310713a",
       "version_major": 2,
       "version_minor": 0
      },
      "text/plain": [
       "HBox(children=(IntProgress(value=0, max=238), HTML(value='')))"
      ]
     },
     "metadata": {},
     "output_type": "display_data"
    },
    {
     "name": "stdout",
     "output_type": "stream",
     "text": [
      "\n",
      "Fold 10 started at Thu Feb  6 01:24:14 2020\n",
      "epoch 0: \t Start training...\n"
     ]
    },
    {
     "data": {
      "application/vnd.jupyter.widget-view+json": {
       "model_id": "96b1390bebba449c8b9981deace0525e",
       "version_major": 2,
       "version_minor": 0
      },
      "text/plain": [
       "HBox(children=(IntProgress(value=0, max=2736), HTML(value='')))"
      ]
     },
     "metadata": {},
     "output_type": "display_data"
    },
    {
     "name": "stdout",
     "output_type": "stream",
     "text": [
      "\n",
      "epoch 0/4 \t train : loss 0.50886 - spearmanr 0.24708\n",
      "epoch 0: \t Start validation...\n"
     ]
    },
    {
     "data": {
      "application/vnd.jupyter.widget-view+json": {
       "model_id": "85d53caf24bc457399c412f9d5bb1386",
       "version_major": 2,
       "version_minor": 0
      },
      "text/plain": [
       "HBox(children=(IntProgress(value=0, max=304), HTML(value='')))"
      ]
     },
     "metadata": {},
     "output_type": "display_data"
    },
    {
     "name": "stdout",
     "output_type": "stream",
     "text": [
      "\n",
      "epoch 0/4 \t valid : loss 0.46556 - spearmanr 0.37478\n",
      "best model: epoch 0 - 0.37478\n",
      "epoch 1: \t Start training...\n"
     ]
    },
    {
     "data": {
      "application/vnd.jupyter.widget-view+json": {
       "model_id": "fe5eaac578b848d99581730633b02945",
       "version_major": 2,
       "version_minor": 0
      },
      "text/plain": [
       "HBox(children=(IntProgress(value=0, max=2736), HTML(value='')))"
      ]
     },
     "metadata": {},
     "output_type": "display_data"
    },
    {
     "name": "stdout",
     "output_type": "stream",
     "text": [
      "\n",
      "epoch 1/4 \t train : loss 0.45632 - spearmanr 0.39718\n",
      "epoch 1: \t Start validation...\n"
     ]
    },
    {
     "data": {
      "application/vnd.jupyter.widget-view+json": {
       "model_id": "ae99f4063a0144398b476c9262459023",
       "version_major": 2,
       "version_minor": 0
      },
      "text/plain": [
       "HBox(children=(IntProgress(value=0, max=304), HTML(value='')))"
      ]
     },
     "metadata": {},
     "output_type": "display_data"
    },
    {
     "name": "stdout",
     "output_type": "stream",
     "text": [
      "\n",
      "epoch 1/4 \t valid : loss 0.45916 - spearmanr 0.39947\n",
      "best model: epoch 1 - 0.39947\n",
      "epoch 2: \t Start training...\n"
     ]
    },
    {
     "data": {
      "application/vnd.jupyter.widget-view+json": {
       "model_id": "919c9ad0224248de9c35af14aa5aff1f",
       "version_major": 2,
       "version_minor": 0
      },
      "text/plain": [
       "HBox(children=(IntProgress(value=0, max=2736), HTML(value='')))"
      ]
     },
     "metadata": {},
     "output_type": "display_data"
    },
    {
     "name": "stdout",
     "output_type": "stream",
     "text": [
      "\n",
      "epoch 2/4 \t train : loss 0.4321 - spearmanr 0.46129\n",
      "epoch 2: \t Start validation...\n"
     ]
    },
    {
     "data": {
      "application/vnd.jupyter.widget-view+json": {
       "model_id": "999d7c2fa5254d73aaa01cb92c48d6c7",
       "version_major": 2,
       "version_minor": 0
      },
      "text/plain": [
       "HBox(children=(IntProgress(value=0, max=304), HTML(value='')))"
      ]
     },
     "metadata": {},
     "output_type": "display_data"
    },
    {
     "name": "stdout",
     "output_type": "stream",
     "text": [
      "\n",
      "epoch 2/4 \t valid : loss 0.45441 - spearmanr 0.40685\n",
      "best model: epoch 2 - 0.40685\n",
      "epoch 3: \t Start training...\n"
     ]
    },
    {
     "data": {
      "application/vnd.jupyter.widget-view+json": {
       "model_id": "2e2144774798464c8bdf6808a3a294b2",
       "version_major": 2,
       "version_minor": 0
      },
      "text/plain": [
       "HBox(children=(IntProgress(value=0, max=2736), HTML(value='')))"
      ]
     },
     "metadata": {},
     "output_type": "display_data"
    },
    {
     "name": "stdout",
     "output_type": "stream",
     "text": [
      "\n",
      "epoch 3/4 \t train : loss 0.4106 - spearmanr 0.51414\n",
      "epoch 3: \t Start validation...\n"
     ]
    },
    {
     "data": {
      "application/vnd.jupyter.widget-view+json": {
       "model_id": "931b5a85361e4437a50e9f5549101674",
       "version_major": 2,
       "version_minor": 0
      },
      "text/plain": [
       "HBox(children=(IntProgress(value=0, max=304), HTML(value='')))"
      ]
     },
     "metadata": {},
     "output_type": "display_data"
    },
    {
     "name": "stdout",
     "output_type": "stream",
     "text": [
      "\n",
      "epoch 3/4 \t valid : loss 0.45535 - spearmanr 0.40714\n",
      "best model: epoch 3 - 0.40714\n",
      "TRAINING END: Best score achieved on epoch 3 - 0.40714\n",
      "Starting inference for model: checkpoints/siamese_bert_7_fold_10_best.pth\n"
     ]
    },
    {
     "data": {
      "application/vnd.jupyter.widget-view+json": {
       "model_id": "5e30cc1d2fa145e5bd23be608c67a5fe",
       "version_major": 2,
       "version_minor": 0
      },
      "text/plain": [
       "HBox(children=(IntProgress(value=0, max=304), HTML(value='')))"
      ]
     },
     "metadata": {},
     "output_type": "display_data"
    },
    {
     "name": "stdout",
     "output_type": "stream",
     "text": [
      "\n",
      "Averaged Val. score: 0.40714223417981626\n",
      "Starting inference for model: checkpoints/siamese_bert_7_fold_10_best.pth\n"
     ]
    },
    {
     "data": {
      "application/vnd.jupyter.widget-view+json": {
       "model_id": "349af78b1a2b475c9b85ec85a6817529",
       "version_major": 2,
       "version_minor": 0
      },
      "text/plain": [
       "HBox(children=(IntProgress(value=0, max=238), HTML(value='')))"
      ]
     },
     "metadata": {},
     "output_type": "display_data"
    },
    {
     "name": "stdout",
     "output_type": "stream",
     "text": [
      "\n",
      "OOF score: 0.4089546043647215\n"
     ]
    }
   ],
   "source": [
    "init_seed()\n",
    "folds = GroupKFold(n_splits=n_folds).split(X=train['question_body'], groups=train['question_body'])\n",
    "oofs = np.zeros((len(train), N_TARGETS))\n",
    "preds = np.zeros((len(test), N_TARGETS))\n",
    "\n",
    "for fold_id, (train_index, valid_index) in enumerate(folds):\n",
    "    print(f'Fold {fold_id + 1} started at {time.ctime()}')\n",
    "    train_loader = DataLoader(\n",
    "        TextDataset(cat_features_train, ids_train['question'], ids_train['answer'],\n",
    "                    seg_ids_train['question'], seg_ids_train['answer'], train_index, targets=y), \n",
    "        batch_size=bs, shuffle=True, num_workers=num_workers, drop_last=False\n",
    "    )\n",
    "    valid_loader = DataLoader(\n",
    "        TextDataset(cat_features_train, ids_train['question'], ids_train['answer'],\n",
    "                    seg_ids_train['question'], seg_ids_train['answer'], valid_index, targets=y), \n",
    "        batch_size=bs, shuffle=False, num_workers=num_workers, drop_last=False\n",
    "    )\n",
    "    model = CustomBert3(256, cat_features_train.shape[1], head_dropout=0.2)\n",
    "    model.bert.resize_token_embeddings(len(tokenizer))\n",
    "    \n",
    "    if fold_id == 0:\n",
    "#         print(model)\n",
    "        model = model.to(device)\n",
    "        optimizer = get_optimizer(model, lr, weight_decay)\n",
    "        lr_finder = LRFinder(n_iter=min(grad_accum*100, len(train_loader)), start_lr=1e-5, \n",
    "                             end_lr=1, device=device, grad_accum=grad_accum, divergence_factor=5)\n",
    "        lr_finder.find_lr(model, optimizer, train_loader, loss_fn)\n",
    "        plt.show()\n",
    "    \n",
    "    optimizer = get_optimizer(model, lr, weight_decay)\n",
    "    scheduler = OneCycleLR(optimizer, n_epochs=n_epochs, n_batches=len(train_loader))\n",
    "#     scheduler = transformers.get_linear_schedule_with_warmup(\n",
    "#         optimizer, num_warmup_steps=2736, num_training_steps=n_epochs*2736+1)\n",
    "\n",
    "    learner = Learner(\n",
    "        model, \n",
    "        optimizer, \n",
    "        train_loader, \n",
    "        valid_loader, \n",
    "        loss_fn, \n",
    "        device, \n",
    "        n_epochs, \n",
    "        f'{model_name}_fold_{fold_id + 1}', \n",
    "        checkpoint_dir, \n",
    "        scheduler=scheduler, \n",
    "        metric_fns={'spearmanr': (spearmanr_torch, 'epoch_end')}, \n",
    "        monitor_metric='spearmanr',\n",
    "        minimize_score=False, \n",
    "        logger=None,\n",
    "        grad_accum=grad_accum,\n",
    "        early_stopping=early_stopping, \n",
    "        batch_step_scheduler=True\n",
    "    )\n",
    "    if (fold_id + 1) > 0: learner.train()\n",
    "        \n",
    "    oofs[valid_index] = infer(learner.model, valid_loader, learner.best_checkpoint_file, device)\n",
    "    print(f'Averaged Val. score: {spearmanr_np(oofs[valid_index], y[valid_index])}')\n",
    "    \n",
    "    test_preds = infer(learner.model, test_loader, learner.best_checkpoint_file, device)\n",
    "    preds += test_preds / n_folds\n",
    "    \n",
    "    del learner, model, train_loader, valid_loader\n",
    "    gc.collect()\n",
    "    \n",
    "print(f'OOF score: {spearmanr_np(oofs, y)}')"
   ]
  },
  {
   "cell_type": "code",
   "execution_count": 13,
   "metadata": {
    "scrolled": true
   },
   "outputs": [
    {
     "name": "stdout",
     "output_type": "stream",
     "text": [
      "2 4 0.4883568697408671\n",
      "5 4 0.462551591548189\n",
      "9 16 0.1151604452768644\n",
      "11 8 0.7499806143111364\n",
      "12 4 0.5132413137564469\n",
      "13 16 0.22375477730609852\n",
      "14 4 0.6070637212792913\n",
      "15 4 0.5452713020405877\n",
      "16 16 0.7858178917293239\n",
      "19 32 0.11584276822173094\n"
     ]
    }
   ],
   "source": [
    "opt_ds, opt_indices = optimize_rounding_params(oofs, y)"
   ]
  },
  {
   "cell_type": "code",
   "execution_count": 14,
   "metadata": {},
   "outputs": [
    {
     "data": {
      "text/plain": [
       "(array([ 4,  4, 16,  8,  4, 16,  4,  4, 16, 32]),\n",
       " array([ 2,  5,  9, 11, 12, 13, 14, 15, 16, 19]))"
      ]
     },
     "execution_count": 14,
     "metadata": {},
     "output_type": "execute_result"
    }
   ],
   "source": [
    "np.array(opt_ds), np.array(opt_indices)"
   ]
  },
  {
   "cell_type": "code",
   "execution_count": 15,
   "metadata": {
    "scrolled": false
   },
   "outputs": [],
   "source": [
    "oofs_alt = oofs.copy()\n",
    "train[\"eng\"] = train[\"url\"].apply(lambda x: x.startswith(\"http://english.\") or x.startswith(\"http://ell.\"))\n",
    "oofs_alt[np.where((~train[\"eng\"]).values)[0], 19] = 0"
   ]
  },
  {
   "cell_type": "code",
   "execution_count": 16,
   "metadata": {
    "scrolled": false
   },
   "outputs": [
    {
     "data": {
      "text/html": [
       "<div>\n",
       "<style scoped>\n",
       "    .dataframe tbody tr th:only-of-type {\n",
       "        vertical-align: middle;\n",
       "    }\n",
       "\n",
       "    .dataframe tbody tr th {\n",
       "        vertical-align: top;\n",
       "    }\n",
       "\n",
       "    .dataframe thead th {\n",
       "        text-align: right;\n",
       "    }\n",
       "</style>\n",
       "<table border=\"1\" class=\"dataframe\">\n",
       "  <thead>\n",
       "    <tr style=\"text-align: right;\">\n",
       "      <th></th>\n",
       "      <th>SpearmanR</th>\n",
       "    </tr>\n",
       "  </thead>\n",
       "  <tbody>\n",
       "    <tr>\n",
       "      <th>CV</th>\n",
       "      <td>0.408955</td>\n",
       "    </tr>\n",
       "    <tr>\n",
       "      <th>CV unique rows</th>\n",
       "      <td>0.370638</td>\n",
       "    </tr>\n",
       "    <tr>\n",
       "      <th>CV ignoring hard targets</th>\n",
       "      <td>0.432525</td>\n",
       "    </tr>\n",
       "    <tr>\n",
       "      <th>CV unique rows ignoring hard targets</th>\n",
       "      <td>0.391326</td>\n",
       "    </tr>\n",
       "    <tr>\n",
       "      <th>CV w rounding</th>\n",
       "      <td>0.434478</td>\n",
       "    </tr>\n",
       "    <tr>\n",
       "      <th>CV unique rows w rounding</th>\n",
       "      <td>0.412646</td>\n",
       "    </tr>\n",
       "    <tr>\n",
       "      <th>CV ignoring hard targets w rounding</th>\n",
       "      <td>0.457262</td>\n",
       "    </tr>\n",
       "    <tr>\n",
       "      <th>CV unique rows ignoring hard targets w rounding</th>\n",
       "      <td>0.423880</td>\n",
       "    </tr>\n",
       "  </tbody>\n",
       "</table>\n",
       "</div>"
      ],
      "text/plain": [
       "                                                 SpearmanR\n",
       "CV                                                0.408955\n",
       "CV unique rows                                    0.370638\n",
       "CV ignoring hard targets                          0.432525\n",
       "CV unique rows ignoring hard targets              0.391326\n",
       "CV w rounding                                     0.434478\n",
       "CV unique rows w rounding                         0.412646\n",
       "CV ignoring hard targets w rounding               0.457262\n",
       "CV unique rows ignoring hard targets w rounding   0.423880"
      ]
     },
     "execution_count": 16,
     "metadata": {},
     "output_type": "execute_result"
    }
   ],
   "source": [
    "get_cvs(oofs, y, ix)"
   ]
  },
  {
   "cell_type": "code",
   "execution_count": 17,
   "metadata": {
    "scrolled": false
   },
   "outputs": [
    {
     "data": {
      "text/html": [
       "<div>\n",
       "<style scoped>\n",
       "    .dataframe tbody tr th:only-of-type {\n",
       "        vertical-align: middle;\n",
       "    }\n",
       "\n",
       "    .dataframe tbody tr th {\n",
       "        vertical-align: top;\n",
       "    }\n",
       "\n",
       "    .dataframe thead th {\n",
       "        text-align: right;\n",
       "    }\n",
       "</style>\n",
       "<table border=\"1\" class=\"dataframe\">\n",
       "  <thead>\n",
       "    <tr style=\"text-align: right;\">\n",
       "      <th></th>\n",
       "      <th>SpearmanR</th>\n",
       "    </tr>\n",
       "  </thead>\n",
       "  <tbody>\n",
       "    <tr>\n",
       "      <th>CV</th>\n",
       "      <td>0.412999</td>\n",
       "    </tr>\n",
       "    <tr>\n",
       "      <th>CV unique rows</th>\n",
       "      <td>0.374722</td>\n",
       "    </tr>\n",
       "    <tr>\n",
       "      <th>CV ignoring hard targets</th>\n",
       "      <td>0.432525</td>\n",
       "    </tr>\n",
       "    <tr>\n",
       "      <th>CV unique rows ignoring hard targets</th>\n",
       "      <td>0.391326</td>\n",
       "    </tr>\n",
       "    <tr>\n",
       "      <th>CV w rounding</th>\n",
       "      <td>0.436799</td>\n",
       "    </tr>\n",
       "    <tr>\n",
       "      <th>CV unique rows w rounding</th>\n",
       "      <td>0.412646</td>\n",
       "    </tr>\n",
       "    <tr>\n",
       "      <th>CV ignoring hard targets w rounding</th>\n",
       "      <td>0.457262</td>\n",
       "    </tr>\n",
       "    <tr>\n",
       "      <th>CV unique rows ignoring hard targets w rounding</th>\n",
       "      <td>0.423880</td>\n",
       "    </tr>\n",
       "  </tbody>\n",
       "</table>\n",
       "</div>"
      ],
      "text/plain": [
       "                                                 SpearmanR\n",
       "CV                                                0.412999\n",
       "CV unique rows                                    0.374722\n",
       "CV ignoring hard targets                          0.432525\n",
       "CV unique rows ignoring hard targets              0.391326\n",
       "CV w rounding                                     0.436799\n",
       "CV unique rows w rounding                         0.412646\n",
       "CV ignoring hard targets w rounding               0.457262\n",
       "CV unique rows ignoring hard targets w rounding   0.423880"
      ]
     },
     "execution_count": 17,
     "metadata": {},
     "output_type": "execute_result"
    }
   ],
   "source": [
    "get_cvs(oofs_alt, y, ix)"
   ]
  },
  {
   "cell_type": "code",
   "execution_count": 18,
   "metadata": {},
   "outputs": [],
   "source": [
    "# clipping is necessary or we will get an error\n",
    "sample_submission.loc[:, 'question_asker_intent_understanding':] = np.clip(preds, 0.00001, 0.999999)\n",
    "sample_submission.to_csv('subs/submission.csv', index=False)"
   ]
  },
  {
   "cell_type": "code",
   "execution_count": 19,
   "metadata": {
    "scrolled": false
   },
   "outputs": [
    {
     "data": {
      "text/html": [
       "<div>\n",
       "<style scoped>\n",
       "    .dataframe tbody tr th:only-of-type {\n",
       "        vertical-align: middle;\n",
       "    }\n",
       "\n",
       "    .dataframe tbody tr th {\n",
       "        vertical-align: top;\n",
       "    }\n",
       "\n",
       "    .dataframe thead th {\n",
       "        text-align: right;\n",
       "    }\n",
       "</style>\n",
       "<table border=\"1\" class=\"dataframe\">\n",
       "  <thead>\n",
       "    <tr style=\"text-align: right;\">\n",
       "      <th></th>\n",
       "      <th>qa_id</th>\n",
       "      <th>question_asker_intent_understanding</th>\n",
       "      <th>question_body_critical</th>\n",
       "      <th>question_conversational</th>\n",
       "      <th>question_expect_short_answer</th>\n",
       "      <th>question_fact_seeking</th>\n",
       "      <th>question_has_commonly_accepted_answer</th>\n",
       "      <th>question_interestingness_others</th>\n",
       "      <th>question_interestingness_self</th>\n",
       "      <th>question_multi_intent</th>\n",
       "      <th>question_not_really_a_question</th>\n",
       "      <th>question_opinion_seeking</th>\n",
       "      <th>question_type_choice</th>\n",
       "      <th>question_type_compare</th>\n",
       "      <th>question_type_consequence</th>\n",
       "      <th>question_type_definition</th>\n",
       "      <th>question_type_entity</th>\n",
       "      <th>question_type_instructions</th>\n",
       "      <th>question_type_procedure</th>\n",
       "      <th>question_type_reason_explanation</th>\n",
       "      <th>question_type_spelling</th>\n",
       "      <th>question_well_written</th>\n",
       "      <th>answer_helpful</th>\n",
       "      <th>answer_level_of_information</th>\n",
       "      <th>answer_plausible</th>\n",
       "      <th>answer_relevance</th>\n",
       "      <th>answer_satisfaction</th>\n",
       "      <th>answer_type_instructions</th>\n",
       "      <th>answer_type_procedure</th>\n",
       "      <th>answer_type_reason_explanation</th>\n",
       "      <th>answer_well_written</th>\n",
       "    </tr>\n",
       "  </thead>\n",
       "  <tbody>\n",
       "    <tr>\n",
       "      <th>0</th>\n",
       "      <td>39</td>\n",
       "      <td>0.824172</td>\n",
       "      <td>0.598184</td>\n",
       "      <td>0.401538</td>\n",
       "      <td>0.407225</td>\n",
       "      <td>0.520474</td>\n",
       "      <td>0.331666</td>\n",
       "      <td>0.703793</td>\n",
       "      <td>0.718821</td>\n",
       "      <td>0.715629</td>\n",
       "      <td>0.004636</td>\n",
       "      <td>0.708193</td>\n",
       "      <td>0.776433</td>\n",
       "      <td>0.035015</td>\n",
       "      <td>0.452399</td>\n",
       "      <td>0.009394</td>\n",
       "      <td>0.013378</td>\n",
       "      <td>0.079634</td>\n",
       "      <td>0.147920</td>\n",
       "      <td>0.742430</td>\n",
       "      <td>0.001164</td>\n",
       "      <td>0.825359</td>\n",
       "      <td>0.566590</td>\n",
       "      <td>0.185107</td>\n",
       "      <td>0.732682</td>\n",
       "      <td>0.703898</td>\n",
       "      <td>0.305651</td>\n",
       "      <td>0.022018</td>\n",
       "      <td>0.038215</td>\n",
       "      <td>0.769825</td>\n",
       "      <td>0.628926</td>\n",
       "    </tr>\n",
       "    <tr>\n",
       "      <th>1</th>\n",
       "      <td>46</td>\n",
       "      <td>0.464249</td>\n",
       "      <td>0.301089</td>\n",
       "      <td>0.009433</td>\n",
       "      <td>0.697842</td>\n",
       "      <td>0.659486</td>\n",
       "      <td>0.878936</td>\n",
       "      <td>0.420024</td>\n",
       "      <td>0.346157</td>\n",
       "      <td>0.064435</td>\n",
       "      <td>0.013354</td>\n",
       "      <td>0.458164</td>\n",
       "      <td>0.286583</td>\n",
       "      <td>0.005108</td>\n",
       "      <td>0.000657</td>\n",
       "      <td>0.000924</td>\n",
       "      <td>0.011555</td>\n",
       "      <td>0.884732</td>\n",
       "      <td>0.327104</td>\n",
       "      <td>0.073873</td>\n",
       "      <td>0.000150</td>\n",
       "      <td>0.240312</td>\n",
       "      <td>0.788374</td>\n",
       "      <td>0.483641</td>\n",
       "      <td>0.869512</td>\n",
       "      <td>0.926298</td>\n",
       "      <td>0.591838</td>\n",
       "      <td>0.946144</td>\n",
       "      <td>0.215132</td>\n",
       "      <td>0.049168</td>\n",
       "      <td>0.612228</td>\n",
       "    </tr>\n",
       "    <tr>\n",
       "      <th>2</th>\n",
       "      <td>70</td>\n",
       "      <td>0.645448</td>\n",
       "      <td>0.473095</td>\n",
       "      <td>0.042536</td>\n",
       "      <td>0.630193</td>\n",
       "      <td>0.813778</td>\n",
       "      <td>0.896376</td>\n",
       "      <td>0.486971</td>\n",
       "      <td>0.405041</td>\n",
       "      <td>0.369787</td>\n",
       "      <td>0.004929</td>\n",
       "      <td>0.299480</td>\n",
       "      <td>0.746060</td>\n",
       "      <td>0.034920</td>\n",
       "      <td>0.067654</td>\n",
       "      <td>0.002618</td>\n",
       "      <td>0.006480</td>\n",
       "      <td>0.178745</td>\n",
       "      <td>0.175074</td>\n",
       "      <td>0.740079</td>\n",
       "      <td>0.000796</td>\n",
       "      <td>0.612754</td>\n",
       "      <td>0.669823</td>\n",
       "      <td>0.312818</td>\n",
       "      <td>0.822617</td>\n",
       "      <td>0.818086</td>\n",
       "      <td>0.467743</td>\n",
       "      <td>0.056174</td>\n",
       "      <td>0.077471</td>\n",
       "      <td>0.824232</td>\n",
       "      <td>0.560824</td>\n",
       "    </tr>\n",
       "    <tr>\n",
       "      <th>3</th>\n",
       "      <td>132</td>\n",
       "      <td>0.542306</td>\n",
       "      <td>0.177266</td>\n",
       "      <td>0.004970</td>\n",
       "      <td>0.602016</td>\n",
       "      <td>0.654006</td>\n",
       "      <td>0.869717</td>\n",
       "      <td>0.379783</td>\n",
       "      <td>0.239177</td>\n",
       "      <td>0.206835</td>\n",
       "      <td>0.010397</td>\n",
       "      <td>0.574880</td>\n",
       "      <td>0.132872</td>\n",
       "      <td>0.002594</td>\n",
       "      <td>0.003559</td>\n",
       "      <td>0.000565</td>\n",
       "      <td>0.002967</td>\n",
       "      <td>0.813778</td>\n",
       "      <td>0.328829</td>\n",
       "      <td>0.637650</td>\n",
       "      <td>0.000080</td>\n",
       "      <td>0.403572</td>\n",
       "      <td>0.794600</td>\n",
       "      <td>0.600391</td>\n",
       "      <td>0.849552</td>\n",
       "      <td>0.899584</td>\n",
       "      <td>0.635204</td>\n",
       "      <td>0.837142</td>\n",
       "      <td>0.343343</td>\n",
       "      <td>0.641923</td>\n",
       "      <td>0.679581</td>\n",
       "    </tr>\n",
       "    <tr>\n",
       "      <th>4</th>\n",
       "      <td>200</td>\n",
       "      <td>0.780688</td>\n",
       "      <td>0.269349</td>\n",
       "      <td>0.048256</td>\n",
       "      <td>0.808248</td>\n",
       "      <td>0.714831</td>\n",
       "      <td>0.856477</td>\n",
       "      <td>0.678922</td>\n",
       "      <td>0.701297</td>\n",
       "      <td>0.225870</td>\n",
       "      <td>0.027078</td>\n",
       "      <td>0.361390</td>\n",
       "      <td>0.601207</td>\n",
       "      <td>0.011306</td>\n",
       "      <td>0.021910</td>\n",
       "      <td>0.013459</td>\n",
       "      <td>0.070010</td>\n",
       "      <td>0.171551</td>\n",
       "      <td>0.201891</td>\n",
       "      <td>0.549401</td>\n",
       "      <td>0.004342</td>\n",
       "      <td>0.352271</td>\n",
       "      <td>0.736065</td>\n",
       "      <td>0.537613</td>\n",
       "      <td>0.868748</td>\n",
       "      <td>0.866415</td>\n",
       "      <td>0.618695</td>\n",
       "      <td>0.226988</td>\n",
       "      <td>0.238372</td>\n",
       "      <td>0.684867</td>\n",
       "      <td>0.611296</td>\n",
       "    </tr>\n",
       "  </tbody>\n",
       "</table>\n",
       "</div>"
      ],
      "text/plain": [
       "   qa_id  question_asker_intent_understanding  question_body_critical  \\\n",
       "0     39                             0.824172                0.598184   \n",
       "1     46                             0.464249                0.301089   \n",
       "2     70                             0.645448                0.473095   \n",
       "3    132                             0.542306                0.177266   \n",
       "4    200                             0.780688                0.269349   \n",
       "\n",
       "   question_conversational  question_expect_short_answer  \\\n",
       "0                 0.401538                      0.407225   \n",
       "1                 0.009433                      0.697842   \n",
       "2                 0.042536                      0.630193   \n",
       "3                 0.004970                      0.602016   \n",
       "4                 0.048256                      0.808248   \n",
       "\n",
       "   question_fact_seeking  question_has_commonly_accepted_answer  \\\n",
       "0               0.520474                               0.331666   \n",
       "1               0.659486                               0.878936   \n",
       "2               0.813778                               0.896376   \n",
       "3               0.654006                               0.869717   \n",
       "4               0.714831                               0.856477   \n",
       "\n",
       "   question_interestingness_others  question_interestingness_self  \\\n",
       "0                         0.703793                       0.718821   \n",
       "1                         0.420024                       0.346157   \n",
       "2                         0.486971                       0.405041   \n",
       "3                         0.379783                       0.239177   \n",
       "4                         0.678922                       0.701297   \n",
       "\n",
       "   question_multi_intent  question_not_really_a_question  \\\n",
       "0               0.715629                        0.004636   \n",
       "1               0.064435                        0.013354   \n",
       "2               0.369787                        0.004929   \n",
       "3               0.206835                        0.010397   \n",
       "4               0.225870                        0.027078   \n",
       "\n",
       "   question_opinion_seeking  question_type_choice  question_type_compare  \\\n",
       "0                  0.708193              0.776433               0.035015   \n",
       "1                  0.458164              0.286583               0.005108   \n",
       "2                  0.299480              0.746060               0.034920   \n",
       "3                  0.574880              0.132872               0.002594   \n",
       "4                  0.361390              0.601207               0.011306   \n",
       "\n",
       "   question_type_consequence  question_type_definition  question_type_entity  \\\n",
       "0                   0.452399                  0.009394              0.013378   \n",
       "1                   0.000657                  0.000924              0.011555   \n",
       "2                   0.067654                  0.002618              0.006480   \n",
       "3                   0.003559                  0.000565              0.002967   \n",
       "4                   0.021910                  0.013459              0.070010   \n",
       "\n",
       "   question_type_instructions  question_type_procedure  \\\n",
       "0                    0.079634                 0.147920   \n",
       "1                    0.884732                 0.327104   \n",
       "2                    0.178745                 0.175074   \n",
       "3                    0.813778                 0.328829   \n",
       "4                    0.171551                 0.201891   \n",
       "\n",
       "   question_type_reason_explanation  question_type_spelling  \\\n",
       "0                          0.742430                0.001164   \n",
       "1                          0.073873                0.000150   \n",
       "2                          0.740079                0.000796   \n",
       "3                          0.637650                0.000080   \n",
       "4                          0.549401                0.004342   \n",
       "\n",
       "   question_well_written  answer_helpful  answer_level_of_information  \\\n",
       "0               0.825359        0.566590                     0.185107   \n",
       "1               0.240312        0.788374                     0.483641   \n",
       "2               0.612754        0.669823                     0.312818   \n",
       "3               0.403572        0.794600                     0.600391   \n",
       "4               0.352271        0.736065                     0.537613   \n",
       "\n",
       "   answer_plausible  answer_relevance  answer_satisfaction  \\\n",
       "0          0.732682          0.703898             0.305651   \n",
       "1          0.869512          0.926298             0.591838   \n",
       "2          0.822617          0.818086             0.467743   \n",
       "3          0.849552          0.899584             0.635204   \n",
       "4          0.868748          0.866415             0.618695   \n",
       "\n",
       "   answer_type_instructions  answer_type_procedure  \\\n",
       "0                  0.022018               0.038215   \n",
       "1                  0.946144               0.215132   \n",
       "2                  0.056174               0.077471   \n",
       "3                  0.837142               0.343343   \n",
       "4                  0.226988               0.238372   \n",
       "\n",
       "   answer_type_reason_explanation  answer_well_written  \n",
       "0                        0.769825             0.628926  \n",
       "1                        0.049168             0.612228  \n",
       "2                        0.824232             0.560824  \n",
       "3                        0.641923             0.679581  \n",
       "4                        0.684867             0.611296  "
      ]
     },
     "execution_count": 19,
     "metadata": {},
     "output_type": "execute_result"
    }
   ],
   "source": [
    "sample_submission.head()"
   ]
  },
  {
   "cell_type": "code",
   "execution_count": 20,
   "metadata": {},
   "outputs": [],
   "source": [
    "pd.DataFrame(oofs, columns=TARGETS).to_csv(f'oofs/{model_name}_oofs.csv')"
   ]
  },
  {
   "cell_type": "code",
   "execution_count": 21,
   "metadata": {},
   "outputs": [
    {
     "data": {
      "text/html": [
       "<div>\n",
       "<style scoped>\n",
       "    .dataframe tbody tr th:only-of-type {\n",
       "        vertical-align: middle;\n",
       "    }\n",
       "\n",
       "    .dataframe tbody tr th {\n",
       "        vertical-align: top;\n",
       "    }\n",
       "\n",
       "    .dataframe thead th {\n",
       "        text-align: right;\n",
       "    }\n",
       "</style>\n",
       "<table border=\"1\" class=\"dataframe\">\n",
       "  <thead>\n",
       "    <tr style=\"text-align: right;\">\n",
       "      <th></th>\n",
       "      <th>question_asker_intent_understanding</th>\n",
       "      <th>question_body_critical</th>\n",
       "      <th>question_conversational</th>\n",
       "      <th>question_expect_short_answer</th>\n",
       "      <th>question_fact_seeking</th>\n",
       "      <th>question_has_commonly_accepted_answer</th>\n",
       "      <th>question_interestingness_others</th>\n",
       "      <th>question_interestingness_self</th>\n",
       "      <th>question_multi_intent</th>\n",
       "      <th>question_not_really_a_question</th>\n",
       "      <th>question_opinion_seeking</th>\n",
       "      <th>question_type_choice</th>\n",
       "      <th>question_type_compare</th>\n",
       "      <th>question_type_consequence</th>\n",
       "      <th>question_type_definition</th>\n",
       "      <th>question_type_entity</th>\n",
       "      <th>question_type_instructions</th>\n",
       "      <th>question_type_procedure</th>\n",
       "      <th>question_type_reason_explanation</th>\n",
       "      <th>question_type_spelling</th>\n",
       "      <th>question_well_written</th>\n",
       "      <th>answer_helpful</th>\n",
       "      <th>answer_level_of_information</th>\n",
       "      <th>answer_plausible</th>\n",
       "      <th>answer_relevance</th>\n",
       "      <th>answer_satisfaction</th>\n",
       "      <th>answer_type_instructions</th>\n",
       "      <th>answer_type_procedure</th>\n",
       "      <th>answer_type_reason_explanation</th>\n",
       "      <th>answer_well_written</th>\n",
       "    </tr>\n",
       "  </thead>\n",
       "  <tbody>\n",
       "    <tr>\n",
       "      <th>0</th>\n",
       "      <td>0.819275</td>\n",
       "      <td>0.637370</td>\n",
       "      <td>0.200303</td>\n",
       "      <td>0.567963</td>\n",
       "      <td>0.597360</td>\n",
       "      <td>0.434717</td>\n",
       "      <td>0.629057</td>\n",
       "      <td>0.537747</td>\n",
       "      <td>0.514903</td>\n",
       "      <td>0.003215</td>\n",
       "      <td>0.702837</td>\n",
       "      <td>0.549608</td>\n",
       "      <td>0.466940</td>\n",
       "      <td>0.082821</td>\n",
       "      <td>0.018765</td>\n",
       "      <td>0.090343</td>\n",
       "      <td>0.226301</td>\n",
       "      <td>0.167940</td>\n",
       "      <td>0.536051</td>\n",
       "      <td>0.004284</td>\n",
       "      <td>0.730111</td>\n",
       "      <td>0.807799</td>\n",
       "      <td>0.562762</td>\n",
       "      <td>0.925186</td>\n",
       "      <td>0.901953</td>\n",
       "      <td>0.646579</td>\n",
       "      <td>0.190183</td>\n",
       "      <td>0.146259</td>\n",
       "      <td>0.825130</td>\n",
       "      <td>0.711199</td>\n",
       "    </tr>\n",
       "    <tr>\n",
       "      <th>1</th>\n",
       "      <td>0.852632</td>\n",
       "      <td>0.775150</td>\n",
       "      <td>0.066967</td>\n",
       "      <td>0.646966</td>\n",
       "      <td>0.897638</td>\n",
       "      <td>0.675100</td>\n",
       "      <td>0.518005</td>\n",
       "      <td>0.668884</td>\n",
       "      <td>0.462616</td>\n",
       "      <td>0.003130</td>\n",
       "      <td>0.274600</td>\n",
       "      <td>0.168959</td>\n",
       "      <td>0.813121</td>\n",
       "      <td>0.012960</td>\n",
       "      <td>0.774850</td>\n",
       "      <td>0.153992</td>\n",
       "      <td>0.037977</td>\n",
       "      <td>0.063613</td>\n",
       "      <td>0.331402</td>\n",
       "      <td>0.018750</td>\n",
       "      <td>0.657695</td>\n",
       "      <td>0.661193</td>\n",
       "      <td>0.429081</td>\n",
       "      <td>0.816602</td>\n",
       "      <td>0.780476</td>\n",
       "      <td>0.424606</td>\n",
       "      <td>0.027006</td>\n",
       "      <td>0.048904</td>\n",
       "      <td>0.527824</td>\n",
       "      <td>0.726037</td>\n",
       "    </tr>\n",
       "    <tr>\n",
       "      <th>2</th>\n",
       "      <td>0.628548</td>\n",
       "      <td>0.223850</td>\n",
       "      <td>0.010447</td>\n",
       "      <td>0.799741</td>\n",
       "      <td>0.744780</td>\n",
       "      <td>0.870812</td>\n",
       "      <td>0.503726</td>\n",
       "      <td>0.346828</td>\n",
       "      <td>0.156657</td>\n",
       "      <td>0.001968</td>\n",
       "      <td>0.419910</td>\n",
       "      <td>0.518234</td>\n",
       "      <td>0.003925</td>\n",
       "      <td>0.001599</td>\n",
       "      <td>0.000650</td>\n",
       "      <td>0.451343</td>\n",
       "      <td>0.581282</td>\n",
       "      <td>0.214099</td>\n",
       "      <td>0.076651</td>\n",
       "      <td>0.000079</td>\n",
       "      <td>0.555270</td>\n",
       "      <td>0.888498</td>\n",
       "      <td>0.636731</td>\n",
       "      <td>0.929335</td>\n",
       "      <td>0.912231</td>\n",
       "      <td>0.723538</td>\n",
       "      <td>0.595354</td>\n",
       "      <td>0.214119</td>\n",
       "      <td>0.359241</td>\n",
       "      <td>0.774163</td>\n",
       "    </tr>\n",
       "    <tr>\n",
       "      <th>3</th>\n",
       "      <td>0.786205</td>\n",
       "      <td>0.732747</td>\n",
       "      <td>0.389739</td>\n",
       "      <td>0.820917</td>\n",
       "      <td>0.639891</td>\n",
       "      <td>0.747559</td>\n",
       "      <td>0.603709</td>\n",
       "      <td>0.633167</td>\n",
       "      <td>0.111640</td>\n",
       "      <td>0.004817</td>\n",
       "      <td>0.456035</td>\n",
       "      <td>0.964044</td>\n",
       "      <td>0.008151</td>\n",
       "      <td>0.009446</td>\n",
       "      <td>0.008041</td>\n",
       "      <td>0.009283</td>\n",
       "      <td>0.022749</td>\n",
       "      <td>0.124854</td>\n",
       "      <td>0.494044</td>\n",
       "      <td>0.000838</td>\n",
       "      <td>0.872044</td>\n",
       "      <td>0.763157</td>\n",
       "      <td>0.800816</td>\n",
       "      <td>0.713576</td>\n",
       "      <td>0.894453</td>\n",
       "      <td>0.716922</td>\n",
       "      <td>0.015756</td>\n",
       "      <td>0.293442</td>\n",
       "      <td>0.911439</td>\n",
       "      <td>0.736537</td>\n",
       "    </tr>\n",
       "    <tr>\n",
       "      <th>4</th>\n",
       "      <td>0.842580</td>\n",
       "      <td>0.737431</td>\n",
       "      <td>0.001907</td>\n",
       "      <td>0.732820</td>\n",
       "      <td>0.861793</td>\n",
       "      <td>0.932378</td>\n",
       "      <td>0.549795</td>\n",
       "      <td>0.545561</td>\n",
       "      <td>0.304743</td>\n",
       "      <td>0.000208</td>\n",
       "      <td>0.256144</td>\n",
       "      <td>0.656953</td>\n",
       "      <td>0.000760</td>\n",
       "      <td>0.000441</td>\n",
       "      <td>0.000995</td>\n",
       "      <td>0.002938</td>\n",
       "      <td>0.845560</td>\n",
       "      <td>0.283075</td>\n",
       "      <td>0.148216</td>\n",
       "      <td>0.000098</td>\n",
       "      <td>0.855115</td>\n",
       "      <td>0.776372</td>\n",
       "      <td>0.418226</td>\n",
       "      <td>0.864930</td>\n",
       "      <td>0.892166</td>\n",
       "      <td>0.624688</td>\n",
       "      <td>0.913168</td>\n",
       "      <td>0.201519</td>\n",
       "      <td>0.040973</td>\n",
       "      <td>0.606178</td>\n",
       "    </tr>\n",
       "    <tr>\n",
       "      <th>...</th>\n",
       "      <td>...</td>\n",
       "      <td>...</td>\n",
       "      <td>...</td>\n",
       "      <td>...</td>\n",
       "      <td>...</td>\n",
       "      <td>...</td>\n",
       "      <td>...</td>\n",
       "      <td>...</td>\n",
       "      <td>...</td>\n",
       "      <td>...</td>\n",
       "      <td>...</td>\n",
       "      <td>...</td>\n",
       "      <td>...</td>\n",
       "      <td>...</td>\n",
       "      <td>...</td>\n",
       "      <td>...</td>\n",
       "      <td>...</td>\n",
       "      <td>...</td>\n",
       "      <td>...</td>\n",
       "      <td>...</td>\n",
       "      <td>...</td>\n",
       "      <td>...</td>\n",
       "      <td>...</td>\n",
       "      <td>...</td>\n",
       "      <td>...</td>\n",
       "      <td>...</td>\n",
       "      <td>...</td>\n",
       "      <td>...</td>\n",
       "      <td>...</td>\n",
       "      <td>...</td>\n",
       "    </tr>\n",
       "    <tr>\n",
       "      <th>6074</th>\n",
       "      <td>0.820909</td>\n",
       "      <td>0.281765</td>\n",
       "      <td>0.226705</td>\n",
       "      <td>0.873503</td>\n",
       "      <td>0.661733</td>\n",
       "      <td>0.637768</td>\n",
       "      <td>0.655063</td>\n",
       "      <td>0.665440</td>\n",
       "      <td>0.457094</td>\n",
       "      <td>0.002358</td>\n",
       "      <td>0.491959</td>\n",
       "      <td>0.862621</td>\n",
       "      <td>0.193803</td>\n",
       "      <td>0.056176</td>\n",
       "      <td>0.018444</td>\n",
       "      <td>0.217337</td>\n",
       "      <td>0.009444</td>\n",
       "      <td>0.031715</td>\n",
       "      <td>0.552713</td>\n",
       "      <td>0.002754</td>\n",
       "      <td>0.606472</td>\n",
       "      <td>0.790595</td>\n",
       "      <td>0.666347</td>\n",
       "      <td>0.863672</td>\n",
       "      <td>0.851705</td>\n",
       "      <td>0.642188</td>\n",
       "      <td>0.043204</td>\n",
       "      <td>0.093871</td>\n",
       "      <td>0.871197</td>\n",
       "      <td>0.705212</td>\n",
       "    </tr>\n",
       "    <tr>\n",
       "      <th>6075</th>\n",
       "      <td>0.885717</td>\n",
       "      <td>0.467305</td>\n",
       "      <td>0.123438</td>\n",
       "      <td>0.499771</td>\n",
       "      <td>0.480949</td>\n",
       "      <td>0.328121</td>\n",
       "      <td>0.750795</td>\n",
       "      <td>0.784171</td>\n",
       "      <td>0.126119</td>\n",
       "      <td>0.008341</td>\n",
       "      <td>0.791512</td>\n",
       "      <td>0.033497</td>\n",
       "      <td>0.041941</td>\n",
       "      <td>0.012319</td>\n",
       "      <td>0.003264</td>\n",
       "      <td>0.023609</td>\n",
       "      <td>0.745456</td>\n",
       "      <td>0.423027</td>\n",
       "      <td>0.285406</td>\n",
       "      <td>0.000704</td>\n",
       "      <td>0.724393</td>\n",
       "      <td>0.777876</td>\n",
       "      <td>0.592539</td>\n",
       "      <td>0.916727</td>\n",
       "      <td>0.906822</td>\n",
       "      <td>0.624332</td>\n",
       "      <td>0.681219</td>\n",
       "      <td>0.411475</td>\n",
       "      <td>0.518869</td>\n",
       "      <td>0.835164</td>\n",
       "    </tr>\n",
       "    <tr>\n",
       "      <th>6076</th>\n",
       "      <td>0.602056</td>\n",
       "      <td>0.223335</td>\n",
       "      <td>0.001593</td>\n",
       "      <td>0.700558</td>\n",
       "      <td>0.713356</td>\n",
       "      <td>0.921040</td>\n",
       "      <td>0.358521</td>\n",
       "      <td>0.214713</td>\n",
       "      <td>0.118876</td>\n",
       "      <td>0.001164</td>\n",
       "      <td>0.460445</td>\n",
       "      <td>0.403006</td>\n",
       "      <td>0.000744</td>\n",
       "      <td>0.000481</td>\n",
       "      <td>0.000293</td>\n",
       "      <td>0.000566</td>\n",
       "      <td>0.828683</td>\n",
       "      <td>0.362695</td>\n",
       "      <td>0.241086</td>\n",
       "      <td>0.000015</td>\n",
       "      <td>0.345149</td>\n",
       "      <td>0.375561</td>\n",
       "      <td>0.270569</td>\n",
       "      <td>0.555459</td>\n",
       "      <td>0.530378</td>\n",
       "      <td>0.289581</td>\n",
       "      <td>0.646582</td>\n",
       "      <td>0.290754</td>\n",
       "      <td>0.401471</td>\n",
       "      <td>0.085287</td>\n",
       "    </tr>\n",
       "    <tr>\n",
       "      <th>6077</th>\n",
       "      <td>0.829275</td>\n",
       "      <td>0.441667</td>\n",
       "      <td>0.508603</td>\n",
       "      <td>0.165208</td>\n",
       "      <td>0.364031</td>\n",
       "      <td>0.140159</td>\n",
       "      <td>0.653184</td>\n",
       "      <td>0.801472</td>\n",
       "      <td>0.883544</td>\n",
       "      <td>0.001290</td>\n",
       "      <td>0.834387</td>\n",
       "      <td>0.666908</td>\n",
       "      <td>0.202922</td>\n",
       "      <td>0.109513</td>\n",
       "      <td>0.012044</td>\n",
       "      <td>0.031544</td>\n",
       "      <td>0.038492</td>\n",
       "      <td>0.154231</td>\n",
       "      <td>0.733693</td>\n",
       "      <td>0.000130</td>\n",
       "      <td>0.828723</td>\n",
       "      <td>0.699189</td>\n",
       "      <td>0.372228</td>\n",
       "      <td>0.834675</td>\n",
       "      <td>0.853369</td>\n",
       "      <td>0.445628</td>\n",
       "      <td>0.023896</td>\n",
       "      <td>0.090028</td>\n",
       "      <td>0.849038</td>\n",
       "      <td>0.805050</td>\n",
       "    </tr>\n",
       "    <tr>\n",
       "      <th>6078</th>\n",
       "      <td>0.826071</td>\n",
       "      <td>0.702476</td>\n",
       "      <td>0.045812</td>\n",
       "      <td>0.426589</td>\n",
       "      <td>0.928810</td>\n",
       "      <td>0.773786</td>\n",
       "      <td>0.611579</td>\n",
       "      <td>0.488065</td>\n",
       "      <td>0.852104</td>\n",
       "      <td>0.000200</td>\n",
       "      <td>0.141284</td>\n",
       "      <td>0.320962</td>\n",
       "      <td>0.532735</td>\n",
       "      <td>0.033743</td>\n",
       "      <td>0.113062</td>\n",
       "      <td>0.049865</td>\n",
       "      <td>0.005199</td>\n",
       "      <td>0.032587</td>\n",
       "      <td>0.907477</td>\n",
       "      <td>0.000882</td>\n",
       "      <td>0.641841</td>\n",
       "      <td>0.785814</td>\n",
       "      <td>0.572723</td>\n",
       "      <td>0.904783</td>\n",
       "      <td>0.874717</td>\n",
       "      <td>0.627696</td>\n",
       "      <td>0.032151</td>\n",
       "      <td>0.075215</td>\n",
       "      <td>0.937003</td>\n",
       "      <td>0.699321</td>\n",
       "    </tr>\n",
       "  </tbody>\n",
       "</table>\n",
       "<p>6079 rows × 30 columns</p>\n",
       "</div>"
      ],
      "text/plain": [
       "      question_asker_intent_understanding  question_body_critical  \\\n",
       "0                                0.819275                0.637370   \n",
       "1                                0.852632                0.775150   \n",
       "2                                0.628548                0.223850   \n",
       "3                                0.786205                0.732747   \n",
       "4                                0.842580                0.737431   \n",
       "...                                   ...                     ...   \n",
       "6074                             0.820909                0.281765   \n",
       "6075                             0.885717                0.467305   \n",
       "6076                             0.602056                0.223335   \n",
       "6077                             0.829275                0.441667   \n",
       "6078                             0.826071                0.702476   \n",
       "\n",
       "      question_conversational  question_expect_short_answer  \\\n",
       "0                    0.200303                      0.567963   \n",
       "1                    0.066967                      0.646966   \n",
       "2                    0.010447                      0.799741   \n",
       "3                    0.389739                      0.820917   \n",
       "4                    0.001907                      0.732820   \n",
       "...                       ...                           ...   \n",
       "6074                 0.226705                      0.873503   \n",
       "6075                 0.123438                      0.499771   \n",
       "6076                 0.001593                      0.700558   \n",
       "6077                 0.508603                      0.165208   \n",
       "6078                 0.045812                      0.426589   \n",
       "\n",
       "      question_fact_seeking  question_has_commonly_accepted_answer  \\\n",
       "0                  0.597360                               0.434717   \n",
       "1                  0.897638                               0.675100   \n",
       "2                  0.744780                               0.870812   \n",
       "3                  0.639891                               0.747559   \n",
       "4                  0.861793                               0.932378   \n",
       "...                     ...                                    ...   \n",
       "6074               0.661733                               0.637768   \n",
       "6075               0.480949                               0.328121   \n",
       "6076               0.713356                               0.921040   \n",
       "6077               0.364031                               0.140159   \n",
       "6078               0.928810                               0.773786   \n",
       "\n",
       "      question_interestingness_others  question_interestingness_self  \\\n",
       "0                            0.629057                       0.537747   \n",
       "1                            0.518005                       0.668884   \n",
       "2                            0.503726                       0.346828   \n",
       "3                            0.603709                       0.633167   \n",
       "4                            0.549795                       0.545561   \n",
       "...                               ...                            ...   \n",
       "6074                         0.655063                       0.665440   \n",
       "6075                         0.750795                       0.784171   \n",
       "6076                         0.358521                       0.214713   \n",
       "6077                         0.653184                       0.801472   \n",
       "6078                         0.611579                       0.488065   \n",
       "\n",
       "      question_multi_intent  question_not_really_a_question  \\\n",
       "0                  0.514903                        0.003215   \n",
       "1                  0.462616                        0.003130   \n",
       "2                  0.156657                        0.001968   \n",
       "3                  0.111640                        0.004817   \n",
       "4                  0.304743                        0.000208   \n",
       "...                     ...                             ...   \n",
       "6074               0.457094                        0.002358   \n",
       "6075               0.126119                        0.008341   \n",
       "6076               0.118876                        0.001164   \n",
       "6077               0.883544                        0.001290   \n",
       "6078               0.852104                        0.000200   \n",
       "\n",
       "      question_opinion_seeking  question_type_choice  question_type_compare  \\\n",
       "0                     0.702837              0.549608               0.466940   \n",
       "1                     0.274600              0.168959               0.813121   \n",
       "2                     0.419910              0.518234               0.003925   \n",
       "3                     0.456035              0.964044               0.008151   \n",
       "4                     0.256144              0.656953               0.000760   \n",
       "...                        ...                   ...                    ...   \n",
       "6074                  0.491959              0.862621               0.193803   \n",
       "6075                  0.791512              0.033497               0.041941   \n",
       "6076                  0.460445              0.403006               0.000744   \n",
       "6077                  0.834387              0.666908               0.202922   \n",
       "6078                  0.141284              0.320962               0.532735   \n",
       "\n",
       "      question_type_consequence  question_type_definition  \\\n",
       "0                      0.082821                  0.018765   \n",
       "1                      0.012960                  0.774850   \n",
       "2                      0.001599                  0.000650   \n",
       "3                      0.009446                  0.008041   \n",
       "4                      0.000441                  0.000995   \n",
       "...                         ...                       ...   \n",
       "6074                   0.056176                  0.018444   \n",
       "6075                   0.012319                  0.003264   \n",
       "6076                   0.000481                  0.000293   \n",
       "6077                   0.109513                  0.012044   \n",
       "6078                   0.033743                  0.113062   \n",
       "\n",
       "      question_type_entity  question_type_instructions  \\\n",
       "0                 0.090343                    0.226301   \n",
       "1                 0.153992                    0.037977   \n",
       "2                 0.451343                    0.581282   \n",
       "3                 0.009283                    0.022749   \n",
       "4                 0.002938                    0.845560   \n",
       "...                    ...                         ...   \n",
       "6074              0.217337                    0.009444   \n",
       "6075              0.023609                    0.745456   \n",
       "6076              0.000566                    0.828683   \n",
       "6077              0.031544                    0.038492   \n",
       "6078              0.049865                    0.005199   \n",
       "\n",
       "      question_type_procedure  question_type_reason_explanation  \\\n",
       "0                    0.167940                          0.536051   \n",
       "1                    0.063613                          0.331402   \n",
       "2                    0.214099                          0.076651   \n",
       "3                    0.124854                          0.494044   \n",
       "4                    0.283075                          0.148216   \n",
       "...                       ...                               ...   \n",
       "6074                 0.031715                          0.552713   \n",
       "6075                 0.423027                          0.285406   \n",
       "6076                 0.362695                          0.241086   \n",
       "6077                 0.154231                          0.733693   \n",
       "6078                 0.032587                          0.907477   \n",
       "\n",
       "      question_type_spelling  question_well_written  answer_helpful  \\\n",
       "0                   0.004284               0.730111        0.807799   \n",
       "1                   0.018750               0.657695        0.661193   \n",
       "2                   0.000079               0.555270        0.888498   \n",
       "3                   0.000838               0.872044        0.763157   \n",
       "4                   0.000098               0.855115        0.776372   \n",
       "...                      ...                    ...             ...   \n",
       "6074                0.002754               0.606472        0.790595   \n",
       "6075                0.000704               0.724393        0.777876   \n",
       "6076                0.000015               0.345149        0.375561   \n",
       "6077                0.000130               0.828723        0.699189   \n",
       "6078                0.000882               0.641841        0.785814   \n",
       "\n",
       "      answer_level_of_information  answer_plausible  answer_relevance  \\\n",
       "0                        0.562762          0.925186          0.901953   \n",
       "1                        0.429081          0.816602          0.780476   \n",
       "2                        0.636731          0.929335          0.912231   \n",
       "3                        0.800816          0.713576          0.894453   \n",
       "4                        0.418226          0.864930          0.892166   \n",
       "...                           ...               ...               ...   \n",
       "6074                     0.666347          0.863672          0.851705   \n",
       "6075                     0.592539          0.916727          0.906822   \n",
       "6076                     0.270569          0.555459          0.530378   \n",
       "6077                     0.372228          0.834675          0.853369   \n",
       "6078                     0.572723          0.904783          0.874717   \n",
       "\n",
       "      answer_satisfaction  answer_type_instructions  answer_type_procedure  \\\n",
       "0                0.646579                  0.190183               0.146259   \n",
       "1                0.424606                  0.027006               0.048904   \n",
       "2                0.723538                  0.595354               0.214119   \n",
       "3                0.716922                  0.015756               0.293442   \n",
       "4                0.624688                  0.913168               0.201519   \n",
       "...                   ...                       ...                    ...   \n",
       "6074             0.642188                  0.043204               0.093871   \n",
       "6075             0.624332                  0.681219               0.411475   \n",
       "6076             0.289581                  0.646582               0.290754   \n",
       "6077             0.445628                  0.023896               0.090028   \n",
       "6078             0.627696                  0.032151               0.075215   \n",
       "\n",
       "      answer_type_reason_explanation  answer_well_written  \n",
       "0                           0.825130             0.711199  \n",
       "1                           0.527824             0.726037  \n",
       "2                           0.359241             0.774163  \n",
       "3                           0.911439             0.736537  \n",
       "4                           0.040973             0.606178  \n",
       "...                              ...                  ...  \n",
       "6074                        0.871197             0.705212  \n",
       "6075                        0.518869             0.835164  \n",
       "6076                        0.401471             0.085287  \n",
       "6077                        0.849038             0.805050  \n",
       "6078                        0.937003             0.699321  \n",
       "\n",
       "[6079 rows x 30 columns]"
      ]
     },
     "execution_count": 21,
     "metadata": {},
     "output_type": "execute_result"
    }
   ],
   "source": [
    "pd.DataFrame(oofs, columns=TARGETS)"
   ]
  },
  {
   "cell_type": "code",
   "execution_count": 22,
   "metadata": {},
   "outputs": [
    {
     "data": {
      "text/plain": [
       "question_asker_intent_understanding      0.383214\n",
       "question_body_critical                   0.660191\n",
       "question_conversational                  0.413543\n",
       "question_expect_short_answer             0.302009\n",
       "question_fact_seeking                    0.359955\n",
       "question_has_commonly_accepted_answer    0.430946\n",
       "question_interestingness_others          0.349578\n",
       "question_interestingness_self            0.513307\n",
       "question_multi_intent                    0.583086\n",
       "question_not_really_a_question           0.093791\n",
       "question_opinion_seeking                 0.473096\n",
       "question_type_choice                     0.739126\n",
       "question_type_compare                    0.348515\n",
       "question_type_consequence                0.170738\n",
       "question_type_definition                 0.360039\n",
       "question_type_entity                     0.437312\n",
       "question_type_instructions               0.783187\n",
       "question_type_procedure                  0.365696\n",
       "question_type_reason_explanation         0.671293\n",
       "question_type_spelling                   0.064157\n",
       "question_well_written                    0.517409\n",
       "answer_helpful                           0.238993\n",
       "answer_level_of_information              0.434533\n",
       "answer_plausible                         0.137470\n",
       "answer_relevance                         0.152226\n",
       "answer_satisfaction                      0.326116\n",
       "answer_type_instructions                 0.754536\n",
       "answer_type_procedure                    0.309612\n",
       "answer_type_reason_explanation           0.674694\n",
       "answer_well_written                      0.220272\n",
       "dtype: float64"
      ]
     },
     "execution_count": 22,
     "metadata": {},
     "output_type": "execute_result"
    }
   ],
   "source": [
    "rs = pd.Series({col: spearmanr(oofs[:,i], y[:,i])[0] for i, col in enumerate(TARGETS)})\n",
    "rs"
   ]
  },
  {
   "cell_type": "code",
   "execution_count": 23,
   "metadata": {},
   "outputs": [
    {
     "data": {
      "text/html": [
       "<div>\n",
       "<style scoped>\n",
       "    .dataframe tbody tr th:only-of-type {\n",
       "        vertical-align: middle;\n",
       "    }\n",
       "\n",
       "    .dataframe tbody tr th {\n",
       "        vertical-align: top;\n",
       "    }\n",
       "\n",
       "    .dataframe thead th {\n",
       "        text-align: right;\n",
       "    }\n",
       "</style>\n",
       "<table border=\"1\" class=\"dataframe\">\n",
       "  <thead>\n",
       "    <tr style=\"text-align: right;\">\n",
       "      <th></th>\n",
       "      <th>SpearmanCorr</th>\n",
       "      <th>NUnique</th>\n",
       "    </tr>\n",
       "  </thead>\n",
       "  <tbody>\n",
       "    <tr>\n",
       "      <th>question_type_spelling</th>\n",
       "      <td>0.064157</td>\n",
       "      <td>3.0</td>\n",
       "    </tr>\n",
       "    <tr>\n",
       "      <th>question_not_really_a_question</th>\n",
       "      <td>0.093791</td>\n",
       "      <td>5.0</td>\n",
       "    </tr>\n",
       "    <tr>\n",
       "      <th>answer_plausible</th>\n",
       "      <td>0.137470</td>\n",
       "      <td>9.0</td>\n",
       "    </tr>\n",
       "    <tr>\n",
       "      <th>answer_relevance</th>\n",
       "      <td>0.152226</td>\n",
       "      <td>9.0</td>\n",
       "    </tr>\n",
       "    <tr>\n",
       "      <th>question_type_consequence</th>\n",
       "      <td>0.170738</td>\n",
       "      <td>5.0</td>\n",
       "    </tr>\n",
       "    <tr>\n",
       "      <th>answer_well_written</th>\n",
       "      <td>0.220272</td>\n",
       "      <td>9.0</td>\n",
       "    </tr>\n",
       "    <tr>\n",
       "      <th>answer_helpful</th>\n",
       "      <td>0.238993</td>\n",
       "      <td>9.0</td>\n",
       "    </tr>\n",
       "    <tr>\n",
       "      <th>question_expect_short_answer</th>\n",
       "      <td>0.302009</td>\n",
       "      <td>5.0</td>\n",
       "    </tr>\n",
       "    <tr>\n",
       "      <th>answer_type_procedure</th>\n",
       "      <td>0.309612</td>\n",
       "      <td>5.0</td>\n",
       "    </tr>\n",
       "    <tr>\n",
       "      <th>answer_satisfaction</th>\n",
       "      <td>0.326116</td>\n",
       "      <td>17.0</td>\n",
       "    </tr>\n",
       "    <tr>\n",
       "      <th>question_type_compare</th>\n",
       "      <td>0.348515</td>\n",
       "      <td>5.0</td>\n",
       "    </tr>\n",
       "    <tr>\n",
       "      <th>question_interestingness_others</th>\n",
       "      <td>0.349578</td>\n",
       "      <td>9.0</td>\n",
       "    </tr>\n",
       "    <tr>\n",
       "      <th>question_fact_seeking</th>\n",
       "      <td>0.359955</td>\n",
       "      <td>5.0</td>\n",
       "    </tr>\n",
       "    <tr>\n",
       "      <th>question_type_definition</th>\n",
       "      <td>0.360039</td>\n",
       "      <td>5.0</td>\n",
       "    </tr>\n",
       "    <tr>\n",
       "      <th>question_type_procedure</th>\n",
       "      <td>0.365696</td>\n",
       "      <td>5.0</td>\n",
       "    </tr>\n",
       "    <tr>\n",
       "      <th>question_asker_intent_understanding</th>\n",
       "      <td>0.383214</td>\n",
       "      <td>9.0</td>\n",
       "    </tr>\n",
       "    <tr>\n",
       "      <th>question_conversational</th>\n",
       "      <td>0.413543</td>\n",
       "      <td>5.0</td>\n",
       "    </tr>\n",
       "    <tr>\n",
       "      <th>question_has_commonly_accepted_answer</th>\n",
       "      <td>0.430946</td>\n",
       "      <td>5.0</td>\n",
       "    </tr>\n",
       "    <tr>\n",
       "      <th>answer_level_of_information</th>\n",
       "      <td>0.434533</td>\n",
       "      <td>9.0</td>\n",
       "    </tr>\n",
       "    <tr>\n",
       "      <th>question_type_entity</th>\n",
       "      <td>0.437312</td>\n",
       "      <td>5.0</td>\n",
       "    </tr>\n",
       "    <tr>\n",
       "      <th>question_opinion_seeking</th>\n",
       "      <td>0.473096</td>\n",
       "      <td>5.0</td>\n",
       "    </tr>\n",
       "    <tr>\n",
       "      <th>question_interestingness_self</th>\n",
       "      <td>0.513307</td>\n",
       "      <td>9.0</td>\n",
       "    </tr>\n",
       "    <tr>\n",
       "      <th>question_well_written</th>\n",
       "      <td>0.517409</td>\n",
       "      <td>9.0</td>\n",
       "    </tr>\n",
       "    <tr>\n",
       "      <th>question_multi_intent</th>\n",
       "      <td>0.583086</td>\n",
       "      <td>5.0</td>\n",
       "    </tr>\n",
       "    <tr>\n",
       "      <th>question_body_critical</th>\n",
       "      <td>0.660191</td>\n",
       "      <td>9.0</td>\n",
       "    </tr>\n",
       "    <tr>\n",
       "      <th>question_type_reason_explanation</th>\n",
       "      <td>0.671293</td>\n",
       "      <td>5.0</td>\n",
       "    </tr>\n",
       "    <tr>\n",
       "      <th>answer_type_reason_explanation</th>\n",
       "      <td>0.674694</td>\n",
       "      <td>5.0</td>\n",
       "    </tr>\n",
       "    <tr>\n",
       "      <th>question_type_choice</th>\n",
       "      <td>0.739126</td>\n",
       "      <td>5.0</td>\n",
       "    </tr>\n",
       "    <tr>\n",
       "      <th>answer_type_instructions</th>\n",
       "      <td>0.754536</td>\n",
       "      <td>5.0</td>\n",
       "    </tr>\n",
       "    <tr>\n",
       "      <th>question_type_instructions</th>\n",
       "      <td>0.783187</td>\n",
       "      <td>5.0</td>\n",
       "    </tr>\n",
       "  </tbody>\n",
       "</table>\n",
       "</div>"
      ],
      "text/plain": [
       "                                       SpearmanCorr  NUnique\n",
       "question_type_spelling                     0.064157      3.0\n",
       "question_not_really_a_question             0.093791      5.0\n",
       "answer_plausible                           0.137470      9.0\n",
       "answer_relevance                           0.152226      9.0\n",
       "question_type_consequence                  0.170738      5.0\n",
       "answer_well_written                        0.220272      9.0\n",
       "answer_helpful                             0.238993      9.0\n",
       "question_expect_short_answer               0.302009      5.0\n",
       "answer_type_procedure                      0.309612      5.0\n",
       "answer_satisfaction                        0.326116     17.0\n",
       "question_type_compare                      0.348515      5.0\n",
       "question_interestingness_others            0.349578      9.0\n",
       "question_fact_seeking                      0.359955      5.0\n",
       "question_type_definition                   0.360039      5.0\n",
       "question_type_procedure                    0.365696      5.0\n",
       "question_asker_intent_understanding        0.383214      9.0\n",
       "question_conversational                    0.413543      5.0\n",
       "question_has_commonly_accepted_answer      0.430946      5.0\n",
       "answer_level_of_information                0.434533      9.0\n",
       "question_type_entity                       0.437312      5.0\n",
       "question_opinion_seeking                   0.473096      5.0\n",
       "question_interestingness_self              0.513307      9.0\n",
       "question_well_written                      0.517409      9.0\n",
       "question_multi_intent                      0.583086      5.0\n",
       "question_body_critical                     0.660191      9.0\n",
       "question_type_reason_explanation           0.671293      5.0\n",
       "answer_type_reason_explanation             0.674694      5.0\n",
       "question_type_choice                       0.739126      5.0\n",
       "answer_type_instructions                   0.754536      5.0\n",
       "question_type_instructions                 0.783187      5.0"
      ]
     },
     "execution_count": 23,
     "metadata": {},
     "output_type": "execute_result"
    }
   ],
   "source": [
    "rs_df = pd.DataFrame(np.vstack([rs.values.flatten(), train[TARGETS].nunique()]).T, \n",
    "                     columns=['SpearmanCorr', 'NUnique'], index=rs.index)\n",
    "rs_df.sort_values('SpearmanCorr', ascending=True)"
   ]
  },
  {
   "cell_type": "code",
   "execution_count": 24,
   "metadata": {},
   "outputs": [
    {
     "data": {
      "text/plain": [
       "Index(['question_type_spelling', 'question_not_really_a_question',\n",
       "       'answer_plausible', 'answer_relevance', 'question_type_consequence'],\n",
       "      dtype='object')"
      ]
     },
     "execution_count": 24,
     "metadata": {},
     "output_type": "execute_result"
    }
   ],
   "source": [
    "sorted_targets = rs_df.sort_values('SpearmanCorr', ascending=True).index\n",
    "worst_five_targets = sorted_targets[:5]\n",
    "worst_five_targets"
   ]
  },
  {
   "cell_type": "code",
   "execution_count": 25,
   "metadata": {
    "scrolled": true
   },
   "outputs": [
    {
     "data": {
      "image/png": "[encoded data removed]",
      "text/plain": [
       "<Figure size 432x288 with 1 Axes>"
      ]
     },
     "metadata": {
      "needs_background": "light"
     },
     "output_type": "display_data"
    },
    {
     "data": {
      "image/png": "[encoded data removed]",
      "text/plain": [
       "<Figure size 432x288 with 1 Axes>"
      ]
     },
     "metadata": {
      "needs_background": "light"
     },
     "output_type": "display_data"
    },
    {
     "data": {
      "image/png": "[encoded data removed]",
      "text/plain": [
       "<Figure size 432x288 with 1 Axes>"
      ]
     },
     "metadata": {
      "needs_background": "light"
     },
     "output_type": "display_data"
    },
    {
     "data": {
      "image/png": "[encoded data removed]",
      "text/plain": [
       "<Figure size 432x288 with 1 Axes>"
      ]
     },
     "metadata": {
      "needs_background": "light"
     },
     "output_type": "display_data"
    },
    {
     "data": {
      "image/png": "[encoded data removed]",
      "text/plain": [
       "<Figure size 432x288 with 1 Axes>"
      ]
     },
     "metadata": {
      "needs_background": "light"
     },
     "output_type": "display_data"
    }
   ],
   "source": [
    "for col in worst_five_targets:\n",
    "    plt.figure()\n",
    "    train[col].hist()\n",
    "    plt.title(f'{col} {np.round(rs[col],3)}')"
   ]
  },
  {
   "cell_type": "code",
   "execution_count": 26,
   "metadata": {},
   "outputs": [
    {
     "name": "stderr",
     "output_type": "stream",
     "text": [
      "/home/robin/anaconda3/envs/GoogleQuest/lib/python3.7/site-packages/ipykernel_launcher.py:2: RuntimeWarning: More than 20 figures have been opened. Figures created through the pyplot interface (`matplotlib.pyplot.figure`) are retained until explicitly closed and may consume too much memory. (To control this warning, see the rcParam `figure.max_open_warning`).\n",
      "  \n"
     ]
    },
    {
     "data": {
      "image/png": "[encoded data removed]",
      "text/plain": [
       "<Figure size 432x288 with 1 Axes>"
      ]
     },
     "metadata": {
      "needs_background": "light"
     },
     "output_type": "display_data"
    },
    {
     "data": {
      "image/png": "[encoded data removed]",
      "text/plain": [
       "<Figure size 432x288 with 1 Axes>"
      ]
     },
     "metadata": {
      "needs_background": "light"
     },
     "output_type": "display_data"
    },
    {
     "data": {
      "image/png": "[encoded data removed]",
      "text/plain": [
       "<Figure size 432x288 with 1 Axes>"
      ]
     },
     "metadata": {
      "needs_background": "light"
     },
     "output_type": "display_data"
    },
    {
     "data": {
      "image/png": "[encoded data removed]",
      "text/plain": [
       "<Figure size 432x288 with 1 Axes>"
      ]
     },
     "metadata": {
      "needs_background": "light"
     },
     "output_type": "display_data"
    },
    {
     "data": {
      "image/png": "[encoded data removed]",
      "text/plain": [
       "<Figure size 432x288 with 1 Axes>"
      ]
     },
     "metadata": {
      "needs_background": "light"
     },
     "output_type": "display_data"
    },
    {
     "data": {
      "image/png": "[encoded data removed]",
      "text/plain": [
       "<Figure size 432x288 with 1 Axes>"
      ]
     },
     "metadata": {
      "needs_background": "light"
     },
     "output_type": "display_data"
    },
    {
     "data": {
      "image/png": "[encoded data removed]",
      "text/plain": [
       "<Figure size 432x288 with 1 Axes>"
      ]
     },
     "metadata": {
      "needs_background": "light"
     },
     "output_type": "display_data"
    },
    {
     "data": {
      "image/png": "[encoded data removed]",
      "text/plain": [
       "<Figure size 432x288 with 1 Axes>"
      ]
     },
     "metadata": {
      "needs_background": "light"
     },
     "output_type": "display_data"
    },
    {
     "data": {
      "image/png": "[encoded data removed]",
      "text/plain": [
       "<Figure size 432x288 with 1 Axes>"
      ]
     },
     "metadata": {
      "needs_background": "light"
     },
     "output_type": "display_data"
    },
    {
     "data": {
      "image/png": "[encoded data removed]",
      "text/plain": [
       "<Figure size 432x288 with 1 Axes>"
      ]
     },
     "metadata": {
      "needs_background": "light"
     },
     "output_type": "display_data"
    },
    {
     "data": {
      "image/png": "[encoded data removed]",
      "text/plain": [
       "<Figure size 432x288 with 1 Axes>"
      ]
     },
     "metadata": {
      "needs_background": "light"
     },
     "output_type": "display_data"
    },
    {
     "data": {
      "image/png": "[encoded data removed]",
      "text/plain": [
       "<Figure size 432x288 with 1 Axes>"
      ]
     },
     "metadata": {
      "needs_background": "light"
     },
     "output_type": "display_data"
    },
    {
     "data": {
      "image/png": "[encoded data removed]",
      "text/plain": [
       "<Figure size 432x288 with 1 Axes>"
      ]
     },
     "metadata": {
      "needs_background": "light"
     },
     "output_type": "display_data"
    },
    {
     "data": {
      "image/png": "[encoded data removed]",
      "text/plain": [
       "<Figure size 432x288 with 1 Axes>"
      ]
     },
     "metadata": {
      "needs_background": "light"
     },
     "output_type": "display_data"
    },
    {
     "data": {
      "image/png": "[encoded data removed]",
      "text/plain": [
       "<Figure size 432x288 with 1 Axes>"
      ]
     },
     "metadata": {
      "needs_background": "light"
     },
     "output_type": "display_data"
    },
    {
     "data": {
      "image/png": "[encoded data removed]",
      "text/plain": [
       "<Figure size 432x288 with 1 Axes>"
      ]
     },
     "metadata": {
      "needs_background": "light"
     },
     "output_type": "display_data"
    },
    {
     "data": {
      "image/png": "[encoded data removed]",
      "text/plain": [
       "<Figure size 432x288 with 1 Axes>"
      ]
     },
     "metadata": {
      "needs_background": "light"
     },
     "output_type": "display_data"
    },
    {
     "data": {
      "image/png": "[encoded data removed]",
      "text/plain": [
       "<Figure size 432x288 with 1 Axes>"
      ]
     },
     "metadata": {
      "needs_background": "light"
     },
     "output_type": "display_data"
    },
    {
     "data": {
      "image/png": "[encoded data removed]",
      "text/plain": [
       "<Figure size 432x288 with 1 Axes>"
      ]
     },
     "metadata": {
      "needs_background": "light"
     },
     "output_type": "display_data"
    },
    {
     "data": {
      "image/png": "[encoded data removed]",
      "text/plain": [
       "<Figure size 432x288 with 1 Axes>"
      ]
     },
     "metadata": {
      "needs_background": "light"
     },
     "output_type": "display_data"
    },
    {
     "data": {
      "image/png": "[encoded data removed]",
      "text/plain": [
       "<Figure size 432x288 with 1 Axes>"
      ]
     },
     "metadata": {
      "needs_background": "light"
     },
     "output_type": "display_data"
    },
    {
     "data": {
      "image/png": "[encoded data removed]",
      "text/plain": [
       "<Figure size 432x288 with 1 Axes>"
      ]
     },
     "metadata": {
      "needs_background": "light"
     },
     "output_type": "display_data"
    },
    {
     "data": {
      "image/png": "[encoded data removed]",
      "text/plain": [
       "<Figure size 432x288 with 1 Axes>"
      ]
     },
     "metadata": {
      "needs_background": "light"
     },
     "output_type": "display_data"
    },
    {
     "data": {
      "image/png": "[encoded data removed]",
      "text/plain": [
       "<Figure size 432x288 with 1 Axes>"
      ]
     },
     "metadata": {
      "needs_background": "light"
     },
     "output_type": "display_data"
    },
    {
     "data": {
      "image/png": "[encoded data removed]",
      "text/plain": [
       "<Figure size 432x288 with 1 Axes>"
      ]
     },
     "metadata": {
      "needs_background": "light"
     },
     "output_type": "display_data"
    }
   ],
   "source": [
    "for col in [target for target in sorted_targets if target not in worst_five_targets]:\n",
    "    plt.figure()\n",
    "    train[col].hist()\n",
    "    plt.title(f'{col} {np.round(rs[col],3)}')"
   ]
  },
  {
   "cell_type": "code",
   "execution_count": null,
   "metadata": {},
   "outputs": [],
   "source": []
  }
 ],
 "metadata": {
  "kernelspec": {
   "display_name": "Python 3",
   "language": "python",
   "name": "python3"
  },
  "language_info": {
   "codemirror_mode": {
    "name": "ipython",
    "version": 3
   },
   "file_extension": ".py",
   "mimetype": "text/x-python",
   "name": "python",
   "nbconvert_exporter": "python",
   "pygments_lexer": "ipython3",
   "version": "3.7.5"
  }
 },
 "nbformat": 4,
 "nbformat_minor": 1
}
