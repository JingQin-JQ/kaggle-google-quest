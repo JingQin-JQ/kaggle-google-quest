{
 "cells": [
  {
   "cell_type": "markdown",
   "metadata": {},
   "source": [
    "## Importing libraries"
   ]
  },
  {
   "cell_type": "code",
   "execution_count": 1,
   "metadata": {
    "_kg_hide-input": true
   },
   "outputs": [],
   "source": [
    "import numpy as np\n",
    "import pandas as pd\n",
    "import matplotlib.pyplot as plt\n",
    "import seaborn as sns\n",
    "import time\n",
    "import datetime\n",
    "import re\n",
    "import gc\n",
    "import copy\n",
    "\n",
    "from sklearn.model_selection import KFold, GroupKFold\n",
    "from sklearn.preprocessing import OneHotEncoder, MinMaxScaler\n",
    "import nltk.data\n",
    "\n",
    "import torch\n",
    "import torch.nn as nn\n",
    "import torch.optim as optim\n",
    "import torch.nn.functional as F\n",
    "from torch.utils.data import DataLoader\n",
    "\n",
    "from tqdm import tqdm_notebook as tqdm\n",
    "from transformers import DistilBertTokenizer, BertTokenizer\n",
    "import transformers\n",
    "\n",
    "from radam import RAdam\n",
    "from text_data import TextDataset5, AugTextDataset3\n",
    "from bert import CustomBert3\n",
    "from multilabel_cross_fold import MultilabelStratifiedKFold\n",
    "from learning import Learner\n",
    "from lr_finder import LRFinder\n",
    "from one_cycle import OneCycleLR\n",
    "from text_cleaning import clean_data\n",
    "from create_features import get_categorical_features\n",
    "from losses_metrics import spearmanr_torch, spearmanr_np, optimize_rounding_params, get_cvs, spearmanr\n",
    "from inference import infer\n",
    "from eda import eda\n",
    "from common import *\n",
    "from utils.helpers import init_logger, init_seed\n",
    "\n",
    "%matplotlib inline\n",
    "pd.set_option('max_colwidth',400)"
   ]
  },
  {
   "cell_type": "markdown",
   "metadata": {},
   "source": [
    "## Loading and preparing data"
   ]
  },
  {
   "cell_type": "code",
   "execution_count": 2,
   "metadata": {
    "_cell_guid": "b1076dfc-b9ad-4769-8c92-a6c4dae69d19",
    "_uuid": "8f2839f25d086af736a60e9eeb907d3b93b6e0e5"
   },
   "outputs": [],
   "source": [
    "pd.set_option('max_rows', 500)\n",
    "pd.set_option('max_columns', 500)\n",
    "path = 'data/'\n",
    "sample_submission = pd.read_csv(f'{path}sample_submission.csv')\n",
    "test = pd.read_csv(f'{path}test.csv').fillna(' ')\n",
    "train = pd.read_csv(f'{path}train.csv').fillna(' ')\n",
    "train_aug_ru = pd.read_csv(f'{path}train_aug_ru.csv', index_col=0)"
   ]
  },
  {
   "cell_type": "code",
   "execution_count": 3,
   "metadata": {},
   "outputs": [
    {
     "data": {
      "text/plain": [
       "[['What am I losing when using extension tubes instead of macro lens?',\n",
       "  'What am I losing when using extension tubes instead of a macro lens?'],\n",
       " ['What is the distinction between a city a sprawl/metroplex... between downtown a commercial district?',\n",
       "  'What is the distinction between a city and a sprawl/metroplex... between downtown and a commercial district?'],\n",
       " ['Maximum protusion length for through-hole component pins',\n",
       "  'Maximum protusion length for through-hole component pins'],\n",
       " ['Can an affidavit be used in Beit Din?',\n",
       "  'Can an affidavit be used in Beit Din?'],\n",
       " ['How do you make a binary image in Photoshop?',\n",
       "  'How do you make a binary image in Photoshop?'],\n",
       " ['Column Grouping Title DataTables',\n",
       "  'Column Grouping with Title in DataTables'],\n",
       " ['core file size with ulimit', 'core file size with ulimit'],\n",
       " ['How do you get your Steam to run on Ubuntu through Wine or something',\n",
       "  'How do you get your Steam games to run on Ubuntu through Wine or something similar?'],\n",
       " ['High memory Windows 2008r2 on VMware',\n",
       "  'High memory usage Windows Server 2008r2 on VMware'],\n",
       " ['How do grapple Rising 3?', 'How do you grapple in Dead Rising 3?']]"
      ]
     },
     "execution_count": 3,
     "metadata": {},
     "output_type": "execute_result"
    }
   ],
   "source": [
    "[eda(qt, alpha_sr=0.0, alpha_ri=0.0, alpha_rs=0.0, p_rd=0.1, num_aug=1) for qt in train['question_title'].values[:10]]"
   ]
  },
  {
   "cell_type": "code",
   "execution_count": 7,
   "metadata": {},
   "outputs": [
    {
     "data": {
      "text/plain": [
       "0.06316828425727916"
      ]
     },
     "execution_count": 7,
     "metadata": {},
     "output_type": "execute_result"
    }
   ],
   "source": [
    "(train['question_title_ru']==train['question_title']).mean()"
   ]
  },
  {
   "cell_type": "code",
   "execution_count": 5,
   "metadata": {
    "scrolled": false
   },
   "outputs": [
    {
     "data": {
      "text/html": [
       "<div>\n",
       "<style scoped>\n",
       "    .dataframe tbody tr th:only-of-type {\n",
       "        vertical-align: middle;\n",
       "    }\n",
       "\n",
       "    .dataframe tbody tr th {\n",
       "        vertical-align: top;\n",
       "    }\n",
       "\n",
       "    .dataframe thead th {\n",
       "        text-align: right;\n",
       "    }\n",
       "</style>\n",
       "<table border=\"1\" class=\"dataframe\">\n",
       "  <thead>\n",
       "    <tr style=\"text-align: right;\">\n",
       "      <th></th>\n",
       "      <th>question_title</th>\n",
       "      <th>question_title_ru</th>\n",
       "    </tr>\n",
       "  </thead>\n",
       "  <tbody>\n",
       "    <tr>\n",
       "      <th>0</th>\n",
       "      <td>What am I losing when using extension tubes instead of a macro lens?</td>\n",
       "      <td>What do I lose when I use extensions instead of a macro lens?</td>\n",
       "    </tr>\n",
       "    <tr>\n",
       "      <th>1</th>\n",
       "      <td>What is the distinction between a city and a sprawl/metroplex... between downtown and a commercial district?</td>\n",
       "      <td>What is the difference between a city and a metropolis... between a center and a commercial district?</td>\n",
       "    </tr>\n",
       "    <tr>\n",
       "      <th>2</th>\n",
       "      <td>Maximum protusion length for through-hole component pins</td>\n",
       "      <td>Length of tube for through pins</td>\n",
       "    </tr>\n",
       "    <tr>\n",
       "      <th>3</th>\n",
       "      <td>Can an affidavit be used in Beit Din?</td>\n",
       "      <td>Can an affidavit be used in Bindin?</td>\n",
       "    </tr>\n",
       "    <tr>\n",
       "      <th>4</th>\n",
       "      <td>How do you make a binary image in Photoshop?</td>\n",
       "      <td>How do you create a binary lifestyle?</td>\n",
       "    </tr>\n",
       "    <tr>\n",
       "      <th>5</th>\n",
       "      <td>Column Grouping with Title in DataTables</td>\n",
       "      <td>Column with the heading in the tablets</td>\n",
       "    </tr>\n",
       "    <tr>\n",
       "      <th>6</th>\n",
       "      <td>core file size with ulimit</td>\n",
       "      <td>the size of the main file with ulimit</td>\n",
       "    </tr>\n",
       "    <tr>\n",
       "      <th>7</th>\n",
       "      <td>How do you get your Steam games to run on Ubuntu through Wine or something similar?</td>\n",
       "      <td>How do you make your Steam games run on Ubuntu through Wine or something like that?</td>\n",
       "    </tr>\n",
       "    <tr>\n",
       "      <th>8</th>\n",
       "      <td>High memory usage Windows Server 2008r2 on VMware</td>\n",
       "      <td>High Memory Windows 2008r2 on VMware</td>\n",
       "    </tr>\n",
       "    <tr>\n",
       "      <th>9</th>\n",
       "      <td>How do you grapple in Dead Rising 3?</td>\n",
       "      <td>How do you graph in Dead Rising 3?</td>\n",
       "    </tr>\n",
       "    <tr>\n",
       "      <th>10</th>\n",
       "      <td>How to compile and install programs from source</td>\n",
       "      <td>How to compile and install programs from source</td>\n",
       "    </tr>\n",
       "    <tr>\n",
       "      <th>11</th>\n",
       "      <td>sleeping SPID blocking other transactions</td>\n",
       "      <td>SPID blocks other transactions</td>\n",
       "    </tr>\n",
       "    <tr>\n",
       "      <th>12</th>\n",
       "      <td>Verify $_POST script will work correctly</td>\n",
       "      <td>Checking the $_ POST script will work correctly</td>\n",
       "    </tr>\n",
       "    <tr>\n",
       "      <th>13</th>\n",
       "      <td>what's the relation between sensor size and image quality (noise, dynamic range)?</td>\n",
       "      <td>What is the relationship between sensor size and image quality (noise, dynamic range)?</td>\n",
       "    </tr>\n",
       "    <tr>\n",
       "      <th>14</th>\n",
       "      <td>multiple keys via HKDF - whats better, one or two applications of HKDF-extract</td>\n",
       "      <td>A few keys via HKbs is better, one or two HKbs-extra apps</td>\n",
       "    </tr>\n",
       "    <tr>\n",
       "      <th>15</th>\n",
       "      <td>What filter should I use to avoid overly-whitened daylight  images?</td>\n",
       "      <td>What filter should be used to avoid excessively discolored daytime images?</td>\n",
       "    </tr>\n",
       "    <tr>\n",
       "      <th>16</th>\n",
       "      <td>Create heatmap with PSTricks or TikZ</td>\n",
       "      <td>Create a heat map with PSTricks or TTZ</td>\n",
       "    </tr>\n",
       "    <tr>\n",
       "      <th>17</th>\n",
       "      <td>Can you book hotels on a prepaid credit card worldwide?</td>\n",
       "      <td>Can I book hotels with a prepaid credit card around the world?</td>\n",
       "    </tr>\n",
       "    <tr>\n",
       "      <th>18</th>\n",
       "      <td>Fiber Channel SAN hooked up to 2 ESXi Hosts</td>\n",
       "      <td>Fiber Channel SAN joins two ESXi hosts</td>\n",
       "    </tr>\n",
       "    <tr>\n",
       "      <th>19</th>\n",
       "      <td>How do I remove a Facebook app request?</td>\n",
       "      <td>How do I delete a Facebook app request?</td>\n",
       "    </tr>\n",
       "    <tr>\n",
       "      <th>20</th>\n",
       "      <td>How often do I need to change my oil in a VW TDI?</td>\n",
       "      <td>How often do I need to change oil in a VW TDI?</td>\n",
       "    </tr>\n",
       "    <tr>\n",
       "      <th>21</th>\n",
       "      <td>Does this statement make any sense?</td>\n",
       "      <td>Does this statement make sense?</td>\n",
       "    </tr>\n",
       "    <tr>\n",
       "      <th>22</th>\n",
       "      <td>2 servers, high availability and faster response</td>\n",
       "      <td>2 servers, high availability and faster response</td>\n",
       "    </tr>\n",
       "    <tr>\n",
       "      <th>23</th>\n",
       "      <td>Why does string theory have such a huge landscape?</td>\n",
       "      <td>Why does string theory have such a huge landscape?</td>\n",
       "    </tr>\n",
       "    <tr>\n",
       "      <th>24</th>\n",
       "      <td>What are the benefits of owning a physical book?</td>\n",
       "      <td>What are the benefits of owning a physical book?</td>\n",
       "    </tr>\n",
       "    <tr>\n",
       "      <th>25</th>\n",
       "      <td>I teleported too high on my Minecraft server</td>\n",
       "      <td>I called too high on my Minecraft server</td>\n",
       "    </tr>\n",
       "    <tr>\n",
       "      <th>26</th>\n",
       "      <td>How can I write HTML and send as an email?</td>\n",
       "      <td>How can I write HTML and send it by email?</td>\n",
       "    </tr>\n",
       "    <tr>\n",
       "      <th>27</th>\n",
       "      <td>Why is the potential function defined differently in physics and calculus?</td>\n",
       "      <td>Why is a potential function defined differently in physics and calculations?</td>\n",
       "    </tr>\n",
       "    <tr>\n",
       "      <th>28</th>\n",
       "      <td>What is Cold Iron actually?</td>\n",
       "      <td>What is cold iron really?</td>\n",
       "    </tr>\n",
       "    <tr>\n",
       "      <th>29</th>\n",
       "      <td>Relationship between user story, feature, and epic?</td>\n",
       "      <td>The relationship between user history, feature film, and epic?</td>\n",
       "    </tr>\n",
       "    <tr>\n",
       "      <th>30</th>\n",
       "      <td>How do different tissue culture matrices affect background in fluorescent microscopy?</td>\n",
       "      <td>How do different tissue culture matrices affect the background in fluorescent microscopy?</td>\n",
       "    </tr>\n",
       "    <tr>\n",
       "      <th>31</th>\n",
       "      <td>Tips for finding SPAM links injected into the_content</td>\n",
       "      <td>Tips for finding spam links entered into _ content</td>\n",
       "    </tr>\n",
       "    <tr>\n",
       "      <th>32</th>\n",
       "      <td>Photo icons have generic picture only</td>\n",
       "      <td>Photographers Have Only Genes</td>\n",
       "    </tr>\n",
       "    <tr>\n",
       "      <th>33</th>\n",
       "      <td>More than 2 resistors in parallel</td>\n",
       "      <td>More than 2 resistors in parallel</td>\n",
       "    </tr>\n",
       "    <tr>\n",
       "      <th>34</th>\n",
       "      <td>C# Test Assembly</td>\n",
       "      <td>C # Test assembly</td>\n",
       "    </tr>\n",
       "    <tr>\n",
       "      <th>35</th>\n",
       "      <td>Is there a general term for a single note or a chord?</td>\n",
       "      <td>Is there a common term for a single note or chord?</td>\n",
       "    </tr>\n",
       "    <tr>\n",
       "      <th>36</th>\n",
       "      <td>How can I login to a website from terminal?</td>\n",
       "      <td>How do I log in through the terminal?</td>\n",
       "    </tr>\n",
       "    <tr>\n",
       "      <th>37</th>\n",
       "      <td>Export error with addon</td>\n",
       "      <td>The Addon Export Error</td>\n",
       "    </tr>\n",
       "    <tr>\n",
       "      <th>38</th>\n",
       "      <td>Java final variables changes at the execution time</td>\n",
       "      <td>Changing Java endpoint variables during execution</td>\n",
       "    </tr>\n",
       "    <tr>\n",
       "      <th>39</th>\n",
       "      <td>Difference between busses</td>\n",
       "      <td>Contradictions between countries</td>\n",
       "    </tr>\n",
       "    <tr>\n",
       "      <th>40</th>\n",
       "      <td>Flushing coolant after driving only with water in</td>\n",
       "      <td>Cooling liquid after driving only with water</td>\n",
       "    </tr>\n",
       "    <tr>\n",
       "      <th>41</th>\n",
       "      <td>How does critical strike chance stack?</td>\n",
       "      <td>How did the critical impact stack up?</td>\n",
       "    </tr>\n",
       "    <tr>\n",
       "      <th>42</th>\n",
       "      <td>Directory.GetFiles string gives an error</td>\n",
       "      <td>The Directory.GetFiles string yields an error</td>\n",
       "    </tr>\n",
       "    <tr>\n",
       "      <th>43</th>\n",
       "      <td>Discontinuity at the edge of Chebychev window</td>\n",
       "      <td>Continuity on the Edge of Chebychev's Window</td>\n",
       "    </tr>\n",
       "    <tr>\n",
       "      <th>44</th>\n",
       "      <td>Silverlight: Returning value from synchronous method using Rx</td>\n",
       "      <td>Silverlight: Return of Value from Synchronous Method Using Rx</td>\n",
       "    </tr>\n",
       "    <tr>\n",
       "      <th>45</th>\n",
       "      <td>How to grep words in a file?</td>\n",
       "      <td>How do I display words in a file?</td>\n",
       "    </tr>\n",
       "    <tr>\n",
       "      <th>46</th>\n",
       "      <td>Get term weight in node object for ordering with EntityFieldQuery</td>\n",
       "      <td>Obtain weight in the node object to order with EntityFredQuery</td>\n",
       "    </tr>\n",
       "    <tr>\n",
       "      <th>47</th>\n",
       "      <td>Why is my CV 145% complete?</td>\n",
       "      <td>Why is my CV 145% complete?</td>\n",
       "    </tr>\n",
       "    <tr>\n",
       "      <th>48</th>\n",
       "      <td>Symfony 2 and Twig custom error page</td>\n",
       "      <td>Symphony 2 and the User Error Page</td>\n",
       "    </tr>\n",
       "    <tr>\n",
       "      <th>49</th>\n",
       "      <td>Thunderbird 2.0: Inbox size is 4GB on disk: how do I reduce it?</td>\n",
       "      <td>Thunderbird 2.0: Incoming size is 4GB on disk: how do I reduce it?</td>\n",
       "    </tr>\n",
       "    <tr>\n",
       "      <th>50</th>\n",
       "      <td>AES using derived keys / IVs. Does it introduce a weakness?</td>\n",
       "      <td>AES with derivative keys / IVs.</td>\n",
       "    </tr>\n",
       "    <tr>\n",
       "      <th>51</th>\n",
       "      <td>Is potential energy and \"work done\" the same thing?</td>\n",
       "      <td>Is potential energy and \"work done\" the same thing?</td>\n",
       "    </tr>\n",
       "    <tr>\n",
       "      <th>52</th>\n",
       "      <td>In Android, how do I position an image on top of another to look like a badge?</td>\n",
       "      <td>In Android, how do you position an image on top of another to look like an icon?</td>\n",
       "    </tr>\n",
       "    <tr>\n",
       "      <th>53</th>\n",
       "      <td>How to use Java to read/write data to/from the header pins?</td>\n",
       "      <td>How can I use Java to read / write data to / from headers?</td>\n",
       "    </tr>\n",
       "    <tr>\n",
       "      <th>54</th>\n",
       "      <td>Is there added value in having your own presentation layout and using it consistently?</td>\n",
       "      <td>Is there added value in having your own layout of a presentation and using it consistently?</td>\n",
       "    </tr>\n",
       "    <tr>\n",
       "      <th>55</th>\n",
       "      <td>What are the disadvantages of \"puncture proof\" (or puncture resistant) tires?</td>\n",
       "      <td>What are the advantages of puncture-resistant (or puncture-resistant) tyres?</td>\n",
       "    </tr>\n",
       "    <tr>\n",
       "      <th>56</th>\n",
       "      <td>Saving TinyMCE Base64 images with dragonfly</td>\n",
       "      <td>Saving TinyMCE Base64 images with dragonfly</td>\n",
       "    </tr>\n",
       "    <tr>\n",
       "      <th>57</th>\n",
       "      <td>Setting up form table checkboxes</td>\n",
       "      <td>Setting up the form table checkboxes</td>\n",
       "    </tr>\n",
       "    <tr>\n",
       "      <th>58</th>\n",
       "      <td>What is the best way to paste code into a Trello card?</td>\n",
       "      <td>What is the best way to insert the code into the Trello card?</td>\n",
       "    </tr>\n",
       "    <tr>\n",
       "      <th>59</th>\n",
       "      <td>can I use a disk larger than 320 GB with RPi?</td>\n",
       "      <td>Can I use a drive larger than 320 GB with RPi?</td>\n",
       "    </tr>\n",
       "    <tr>\n",
       "      <th>60</th>\n",
       "      <td>What does biting off the Pitum have to do with Pregnancy?</td>\n",
       "      <td>What does biting have to do with pregnancy?</td>\n",
       "    </tr>\n",
       "    <tr>\n",
       "      <th>61</th>\n",
       "      <td>Exchange 2003 internal to external</td>\n",
       "      <td>2003 internal-external exchange</td>\n",
       "    </tr>\n",
       "    <tr>\n",
       "      <th>62</th>\n",
       "      <td>Nexus 7 is stuck in reboot loop after full discharge</td>\n",
       "      <td>Nexus 7 stuck in reboot after full immersion</td>\n",
       "    </tr>\n",
       "    <tr>\n",
       "      <th>63</th>\n",
       "      <td>How to access Event object inside javascript tag of Aspx page header content?</td>\n",
       "      <td>How can I access an object inside the javascript tag in the Aspx header?</td>\n",
       "    </tr>\n",
       "    <tr>\n",
       "      <th>64</th>\n",
       "      <td>Existing proofs of Rokhlin's theorem for PL manifolds</td>\n",
       "      <td>The contradictions of Rochlin's theory for PL teams</td>\n",
       "    </tr>\n",
       "    <tr>\n",
       "      <th>65</th>\n",
       "      <td>Can a card be un-cast, if the player realises it was a bad decision?</td>\n",
       "      <td>Can a card be played if the player realizes that it was the wrong decision?</td>\n",
       "    </tr>\n",
       "    <tr>\n",
       "      <th>66</th>\n",
       "      <td>Interaction of the Cold extraordinary ability and Grapples</td>\n",
       "      <td>The Cold War-Grape Interaction</td>\n",
       "    </tr>\n",
       "    <tr>\n",
       "      <th>67</th>\n",
       "      <td>Modern design - What's that?</td>\n",
       "      <td>Modern design - What is it?</td>\n",
       "    </tr>\n",
       "    <tr>\n",
       "      <th>68</th>\n",
       "      <td>The hobbit, how is it possible that 48 FPS is better than 24 FPS</td>\n",
       "      <td>The hobbit, how is it possible that 48 FPS is better than 24 FPS</td>\n",
       "    </tr>\n",
       "    <tr>\n",
       "      <th>69</th>\n",
       "      <td>Who are the members of an early design of Luffy's crew?</td>\n",
       "      <td>Who is in the early Luffy line-up?</td>\n",
       "    </tr>\n",
       "    <tr>\n",
       "      <th>70</th>\n",
       "      <td>Google chrome and chromium black window</td>\n",
       "      <td>Google's Chrome and Black Chrome Window</td>\n",
       "    </tr>\n",
       "    <tr>\n",
       "      <th>71</th>\n",
       "      <td>Selecting multiple icons in Finder using the keyboard?</td>\n",
       "      <td>Selecting multiple characters in Finder with a keyboard?</td>\n",
       "    </tr>\n",
       "    <tr>\n",
       "      <th>72</th>\n",
       "      <td>Trigger IP ban based on request of given file?</td>\n",
       "      <td>An IP ban trigger based on a file request?</td>\n",
       "    </tr>\n",
       "    <tr>\n",
       "      <th>73</th>\n",
       "      <td>Sorting the output of \"find\"?</td>\n",
       "      <td>The output of the \"find\"?</td>\n",
       "    </tr>\n",
       "    <tr>\n",
       "      <th>74</th>\n",
       "      <td>Diff between backups: see permissions, group and owner and sym link differences</td>\n",
       "      <td>Differences between backups: see permissions, differences between groups and owners, and sim links</td>\n",
       "    </tr>\n",
       "    <tr>\n",
       "      <th>75</th>\n",
       "      <td>Can you send data usefully over one wire, literally one wire?</td>\n",
       "      <td>Can you usefully transmit data on one wire, literally on one wire?</td>\n",
       "    </tr>\n",
       "    <tr>\n",
       "      <th>76</th>\n",
       "      <td>How to plan for the future when installing a new roof?</td>\n",
       "      <td>How to plan for the future when installing a new roof?</td>\n",
       "    </tr>\n",
       "    <tr>\n",
       "      <th>77</th>\n",
       "      <td>Right way to translate view Titles?</td>\n",
       "      <td>The right way to translate views Headlines?</td>\n",
       "    </tr>\n",
       "    <tr>\n",
       "      <th>78</th>\n",
       "      <td>Opamp Voltage Doubler Unstable (After Extended Operation)</td>\n",
       "      <td>Opamp voltage double is unstable (after extended operation)</td>\n",
       "    </tr>\n",
       "    <tr>\n",
       "      <th>79</th>\n",
       "      <td>add custom citation that differs in format than the rest</td>\n",
       "      <td>add a custom citation that differs in format from the rest</td>\n",
       "    </tr>\n",
       "    <tr>\n",
       "      <th>80</th>\n",
       "      <td>JQuery - Select exact class structure</td>\n",
       "      <td>JQuery - Choose the exact class structure</td>\n",
       "    </tr>\n",
       "    <tr>\n",
       "      <th>81</th>\n",
       "      <td>Random Forest to estimate land use in past with Landsat</td>\n",
       "      <td>Random Forest to assess past land use with Landsat</td>\n",
       "    </tr>\n",
       "    <tr>\n",
       "      <th>82</th>\n",
       "      <td>What's a better method, using Large Array vs SQL Joins?</td>\n",
       "      <td>What could be better with Large Array vs SQL Joins?</td>\n",
       "    </tr>\n",
       "    <tr>\n",
       "      <th>83</th>\n",
       "      <td>Tcolorbox: force labelling to take on specific number</td>\n",
       "      <td>Tcolourbox: force labeling to take a specific number</td>\n",
       "    </tr>\n",
       "    <tr>\n",
       "      <th>84</th>\n",
       "      <td>I want to build a portable railgun and I'm a complete rookie</td>\n",
       "      <td>I want to build a portable railgun and I'm complete rookie</td>\n",
       "    </tr>\n",
       "    <tr>\n",
       "      <th>85</th>\n",
       "      <td>Insert a Views Block into a node in Drupal 7</td>\n",
       "      <td>Lock browsing to node in Drupal 7</td>\n",
       "    </tr>\n",
       "    <tr>\n",
       "      <th>86</th>\n",
       "      <td>ArcGIS 10 Field Calculator</td>\n",
       "      <td>ArcGIS 10 Field Calculator</td>\n",
       "    </tr>\n",
       "    <tr>\n",
       "      <th>87</th>\n",
       "      <td>Does every specialization of Craft you take get the class skill bonus, or just the first?</td>\n",
       "      <td>Does every specialty you study get a bonus for excellence, or is it just the first one?</td>\n",
       "    </tr>\n",
       "    <tr>\n",
       "      <th>88</th>\n",
       "      <td>How are switches for two monitors called? Or can I use a monitor split?</td>\n",
       "      <td>What are the names of the switches for two monitors? Or can I use a split monitor?</td>\n",
       "    </tr>\n",
       "    <tr>\n",
       "      <th>89</th>\n",
       "      <td>How to fix a Macbook Pro trackpad where the mouse pointer is randomly moving?</td>\n",
       "      <td>How do I fix the Macbook Pro trackpad where the mouse pointer is inadvertently moving?</td>\n",
       "    </tr>\n",
       "    <tr>\n",
       "      <th>90</th>\n",
       "      <td>Refused visit a friend visa for Belgium</td>\n",
       "      <td>Visit to Belgium on a Friendly Visa</td>\n",
       "    </tr>\n",
       "    <tr>\n",
       "      <th>91</th>\n",
       "      <td>The Probability of Catching Criminals</td>\n",
       "      <td>The probability of catching criminals</td>\n",
       "    </tr>\n",
       "    <tr>\n",
       "      <th>92</th>\n",
       "      <td>Determining sample size for a comparative study involving two unequal groups</td>\n",
       "      <td>Determining the sample size for a comparative study involving two unequal groups</td>\n",
       "    </tr>\n",
       "    <tr>\n",
       "      <th>93</th>\n",
       "      <td>Solving the recurrence relation $T(n)=4T\\left(\\frac{\\sqrt{n}}{3}\\right)+ \\log^2n$</td>\n",
       "      <td>Resolving the relapse ratio $T (n) = 4T\\ left (\\ c {\\ sql {n}} {3}\\ right) +\\ log ^ 2n $</td>\n",
       "    </tr>\n",
       "    <tr>\n",
       "      <th>94</th>\n",
       "      <td>Detect user device and assign different jquery (desktop / mobile(ipad)) in js/ jquery?</td>\n",
       "      <td>User device and assign another jquery (desktop / mobile (ipad)) to js / jquery?</td>\n",
       "    </tr>\n",
       "    <tr>\n",
       "      <th>95</th>\n",
       "      <td>How can I reliably make myself a cup of coffee in my hotel room that doesn't suck?</td>\n",
       "      <td>How can I reliably make myself a cup of coffee in a hotel room that won't suck?</td>\n",
       "    </tr>\n",
       "    <tr>\n",
       "      <th>96</th>\n",
       "      <td>Which color scheme to choose for applications that require long work hours?</td>\n",
       "      <td>What colour scheme should I choose for applications that require a long working day?</td>\n",
       "    </tr>\n",
       "    <tr>\n",
       "      <th>97</th>\n",
       "      <td>What does “bupke” mean?</td>\n",
       "      <td>What does Fabregas mean?</td>\n",
       "    </tr>\n",
       "    <tr>\n",
       "      <th>98</th>\n",
       "      <td>Two Field Problem</td>\n",
       "      <td>Two Fields</td>\n",
       "    </tr>\n",
       "    <tr>\n",
       "      <th>99</th>\n",
       "      <td>Sum of vlookup values on multiple sheets</td>\n",
       "      <td>Sum of search values on several sheets</td>\n",
       "    </tr>\n",
       "  </tbody>\n",
       "</table>\n",
       "</div>"
      ],
      "text/plain": [
       "                                                                                                  question_title  \\\n",
       "0                                           What am I losing when using extension tubes instead of a macro lens?   \n",
       "1   What is the distinction between a city and a sprawl/metroplex... between downtown and a commercial district?   \n",
       "2                                                       Maximum protusion length for through-hole component pins   \n",
       "3                                                                          Can an affidavit be used in Beit Din?   \n",
       "4                                                                   How do you make a binary image in Photoshop?   \n",
       "5                                                                       Column Grouping with Title in DataTables   \n",
       "6                                                                                     core file size with ulimit   \n",
       "7                            How do you get your Steam games to run on Ubuntu through Wine or something similar?   \n",
       "8                                                              High memory usage Windows Server 2008r2 on VMware   \n",
       "9                                                                           How do you grapple in Dead Rising 3?   \n",
       "10                                                               How to compile and install programs from source   \n",
       "11                                                                     sleeping SPID blocking other transactions   \n",
       "12                                                                      Verify $_POST script will work correctly   \n",
       "13                             what's the relation between sensor size and image quality (noise, dynamic range)?   \n",
       "14                                multiple keys via HKDF - whats better, one or two applications of HKDF-extract   \n",
       "15                                           What filter should I use to avoid overly-whitened daylight  images?   \n",
       "16                                                                          Create heatmap with PSTricks or TikZ   \n",
       "17                                                       Can you book hotels on a prepaid credit card worldwide?   \n",
       "18                                                                   Fiber Channel SAN hooked up to 2 ESXi Hosts   \n",
       "19                                                                       How do I remove a Facebook app request?   \n",
       "20                                                             How often do I need to change my oil in a VW TDI?   \n",
       "21                                                                           Does this statement make any sense?   \n",
       "22                                                              2 servers, high availability and faster response   \n",
       "23                                                            Why does string theory have such a huge landscape?   \n",
       "24                                                              What are the benefits of owning a physical book?   \n",
       "25                                                                  I teleported too high on my Minecraft server   \n",
       "26                                                                    How can I write HTML and send as an email?   \n",
       "27                                    Why is the potential function defined differently in physics and calculus?   \n",
       "28                                                                                   What is Cold Iron actually?   \n",
       "29                                                           Relationship between user story, feature, and epic?   \n",
       "30                         How do different tissue culture matrices affect background in fluorescent microscopy?   \n",
       "31                                                         Tips for finding SPAM links injected into the_content   \n",
       "32                                                                         Photo icons have generic picture only   \n",
       "33                                                                             More than 2 resistors in parallel   \n",
       "34                                                                                              C# Test Assembly   \n",
       "35                                                         Is there a general term for a single note or a chord?   \n",
       "36                                                                   How can I login to a website from terminal?   \n",
       "37                                                                                       Export error with addon   \n",
       "38                                                            Java final variables changes at the execution time   \n",
       "39                                                                                     Difference between busses   \n",
       "40                                                             Flushing coolant after driving only with water in   \n",
       "41                                                                        How does critical strike chance stack?   \n",
       "42                                                                      Directory.GetFiles string gives an error   \n",
       "43                                                                 Discontinuity at the edge of Chebychev window   \n",
       "44                                                 Silverlight: Returning value from synchronous method using Rx   \n",
       "45                                                                                  How to grep words in a file?   \n",
       "46                                             Get term weight in node object for ordering with EntityFieldQuery   \n",
       "47                                                                                   Why is my CV 145% complete?   \n",
       "48                                                                          Symfony 2 and Twig custom error page   \n",
       "49                                               Thunderbird 2.0: Inbox size is 4GB on disk: how do I reduce it?   \n",
       "50                                                   AES using derived keys / IVs. Does it introduce a weakness?   \n",
       "51                                                           Is potential energy and \"work done\" the same thing?   \n",
       "52                                In Android, how do I position an image on top of another to look like a badge?   \n",
       "53                                                   How to use Java to read/write data to/from the header pins?   \n",
       "54                        Is there added value in having your own presentation layout and using it consistently?   \n",
       "55                                 What are the disadvantages of \"puncture proof\" (or puncture resistant) tires?   \n",
       "56                                                                   Saving TinyMCE Base64 images with dragonfly   \n",
       "57                                                                              Setting up form table checkboxes   \n",
       "58                                                        What is the best way to paste code into a Trello card?   \n",
       "59                                                                 can I use a disk larger than 320 GB with RPi?   \n",
       "60                                                     What does biting off the Pitum have to do with Pregnancy?   \n",
       "61                                                                            Exchange 2003 internal to external   \n",
       "62                                                          Nexus 7 is stuck in reboot loop after full discharge   \n",
       "63                                 How to access Event object inside javascript tag of Aspx page header content?   \n",
       "64                                                         Existing proofs of Rokhlin's theorem for PL manifolds   \n",
       "65                                          Can a card be un-cast, if the player realises it was a bad decision?   \n",
       "66                                                    Interaction of the Cold extraordinary ability and Grapples   \n",
       "67                                                                                  Modern design - What's that?   \n",
       "68                                              The hobbit, how is it possible that 48 FPS is better than 24 FPS   \n",
       "69                                                       Who are the members of an early design of Luffy's crew?   \n",
       "70                                                                       Google chrome and chromium black window   \n",
       "71                                                        Selecting multiple icons in Finder using the keyboard?   \n",
       "72                                                                Trigger IP ban based on request of given file?   \n",
       "73                                                                                 Sorting the output of \"find\"?   \n",
       "74                               Diff between backups: see permissions, group and owner and sym link differences   \n",
       "75                                                 Can you send data usefully over one wire, literally one wire?   \n",
       "76                                                        How to plan for the future when installing a new roof?   \n",
       "77                                                                           Right way to translate view Titles?   \n",
       "78                                                     Opamp Voltage Doubler Unstable (After Extended Operation)   \n",
       "79                                                      add custom citation that differs in format than the rest   \n",
       "80                                                                         JQuery - Select exact class structure   \n",
       "81                                                       Random Forest to estimate land use in past with Landsat   \n",
       "82                                                       What's a better method, using Large Array vs SQL Joins?   \n",
       "83                                                         Tcolorbox: force labelling to take on specific number   \n",
       "84                                                  I want to build a portable railgun and I'm a complete rookie   \n",
       "85                                                                  Insert a Views Block into a node in Drupal 7   \n",
       "86                                                                                    ArcGIS 10 Field Calculator   \n",
       "87                     Does every specialization of Craft you take get the class skill bonus, or just the first?   \n",
       "88                                       How are switches for two monitors called? Or can I use a monitor split?   \n",
       "89                                 How to fix a Macbook Pro trackpad where the mouse pointer is randomly moving?   \n",
       "90                                                                       Refused visit a friend visa for Belgium   \n",
       "91                                                                         The Probability of Catching Criminals   \n",
       "92                                  Determining sample size for a comparative study involving two unequal groups   \n",
       "93                             Solving the recurrence relation $T(n)=4T\\left(\\frac{\\sqrt{n}}{3}\\right)+ \\log^2n$   \n",
       "94                        Detect user device and assign different jquery (desktop / mobile(ipad)) in js/ jquery?   \n",
       "95                            How can I reliably make myself a cup of coffee in my hotel room that doesn't suck?   \n",
       "96                                   Which color scheme to choose for applications that require long work hours?   \n",
       "97                                                                                       What does “bupke” mean?   \n",
       "98                                                                                             Two Field Problem   \n",
       "99                                                                      Sum of vlookup values on multiple sheets   \n",
       "\n",
       "                                                                                        question_title_ru  \n",
       "0                                           What do I lose when I use extensions instead of a macro lens?  \n",
       "1   What is the difference between a city and a metropolis... between a center and a commercial district?  \n",
       "2                                                                         Length of tube for through pins  \n",
       "3                                                                     Can an affidavit be used in Bindin?  \n",
       "4                                                                   How do you create a binary lifestyle?  \n",
       "5                                                                  Column with the heading in the tablets  \n",
       "6                                                                   the size of the main file with ulimit  \n",
       "7                     How do you make your Steam games run on Ubuntu through Wine or something like that?  \n",
       "8                                                                    High Memory Windows 2008r2 on VMware  \n",
       "9                                                                      How do you graph in Dead Rising 3?  \n",
       "10                                                        How to compile and install programs from source  \n",
       "11                                                                         SPID blocks other transactions  \n",
       "12                                                        Checking the $_ POST script will work correctly  \n",
       "13                 What is the relationship between sensor size and image quality (noise, dynamic range)?  \n",
       "14                                              A few keys via HKbs is better, one or two HKbs-extra apps  \n",
       "15                             What filter should be used to avoid excessively discolored daytime images?  \n",
       "16                                                                 Create a heat map with PSTricks or TTZ  \n",
       "17                                         Can I book hotels with a prepaid credit card around the world?  \n",
       "18                                                                 Fiber Channel SAN joins two ESXi hosts  \n",
       "19                                                                How do I delete a Facebook app request?  \n",
       "20                                                         How often do I need to change oil in a VW TDI?  \n",
       "21                                                                        Does this statement make sense?  \n",
       "22                                                       2 servers, high availability and faster response  \n",
       "23                                                     Why does string theory have such a huge landscape?  \n",
       "24                                                       What are the benefits of owning a physical book?  \n",
       "25                                                               I called too high on my Minecraft server  \n",
       "26                                                             How can I write HTML and send it by email?  \n",
       "27                           Why is a potential function defined differently in physics and calculations?  \n",
       "28                                                                              What is cold iron really?  \n",
       "29                                         The relationship between user history, feature film, and epic?  \n",
       "30              How do different tissue culture matrices affect the background in fluorescent microscopy?  \n",
       "31                                                     Tips for finding spam links entered into _ content  \n",
       "32                                                                          Photographers Have Only Genes  \n",
       "33                                                                      More than 2 resistors in parallel  \n",
       "34                                                                                      C # Test assembly  \n",
       "35                                                     Is there a common term for a single note or chord?  \n",
       "36                                                                  How do I log in through the terminal?  \n",
       "37                                                                                 The Addon Export Error  \n",
       "38                                                      Changing Java endpoint variables during execution  \n",
       "39                                                                       Contradictions between countries  \n",
       "40                                                           Cooling liquid after driving only with water  \n",
       "41                                                                  How did the critical impact stack up?  \n",
       "42                                                          The Directory.GetFiles string yields an error  \n",
       "43                                                           Continuity on the Edge of Chebychev's Window  \n",
       "44                                          Silverlight: Return of Value from Synchronous Method Using Rx  \n",
       "45                                                                      How do I display words in a file?  \n",
       "46                                         Obtain weight in the node object to order with EntityFredQuery  \n",
       "47                                                                            Why is my CV 145% complete?  \n",
       "48                                                                     Symphony 2 and the User Error Page  \n",
       "49                                     Thunderbird 2.0: Incoming size is 4GB on disk: how do I reduce it?  \n",
       "50                                                                        AES with derivative keys / IVs.  \n",
       "51                                                    Is potential energy and \"work done\" the same thing?  \n",
       "52                       In Android, how do you position an image on top of another to look like an icon?  \n",
       "53                                             How can I use Java to read / write data to / from headers?  \n",
       "54            Is there added value in having your own layout of a presentation and using it consistently?  \n",
       "55                           What are the advantages of puncture-resistant (or puncture-resistant) tyres?  \n",
       "56                                                            Saving TinyMCE Base64 images with dragonfly  \n",
       "57                                                                   Setting up the form table checkboxes  \n",
       "58                                          What is the best way to insert the code into the Trello card?  \n",
       "59                                                         Can I use a drive larger than 320 GB with RPi?  \n",
       "60                                                            What does biting have to do with pregnancy?  \n",
       "61                                                                        2003 internal-external exchange  \n",
       "62                                                           Nexus 7 stuck in reboot after full immersion  \n",
       "63                               How can I access an object inside the javascript tag in the Aspx header?  \n",
       "64                                                    The contradictions of Rochlin's theory for PL teams  \n",
       "65                            Can a card be played if the player realizes that it was the wrong decision?  \n",
       "66                                                                         The Cold War-Grape Interaction  \n",
       "67                                                                            Modern design - What is it?  \n",
       "68                                       The hobbit, how is it possible that 48 FPS is better than 24 FPS  \n",
       "69                                                                     Who is in the early Luffy line-up?  \n",
       "70                                                                Google's Chrome and Black Chrome Window  \n",
       "71                                               Selecting multiple characters in Finder with a keyboard?  \n",
       "72                                                             An IP ban trigger based on a file request?  \n",
       "73                                                                              The output of the \"find\"?  \n",
       "74     Differences between backups: see permissions, differences between groups and owners, and sim links  \n",
       "75                                     Can you usefully transmit data on one wire, literally on one wire?  \n",
       "76                                                 How to plan for the future when installing a new roof?  \n",
       "77                                                            The right way to translate views Headlines?  \n",
       "78                                            Opamp voltage double is unstable (after extended operation)  \n",
       "79                                             add a custom citation that differs in format from the rest  \n",
       "80                                                              JQuery - Choose the exact class structure  \n",
       "81                                                     Random Forest to assess past land use with Landsat  \n",
       "82                                                    What could be better with Large Array vs SQL Joins?  \n",
       "83                                                   Tcolourbox: force labeling to take a specific number  \n",
       "84                                             I want to build a portable railgun and I'm complete rookie  \n",
       "85                                                                      Lock browsing to node in Drupal 7  \n",
       "86                                                                             ArcGIS 10 Field Calculator  \n",
       "87                Does every specialty you study get a bonus for excellence, or is it just the first one?  \n",
       "88                     What are the names of the switches for two monitors? Or can I use a split monitor?  \n",
       "89                 How do I fix the Macbook Pro trackpad where the mouse pointer is inadvertently moving?  \n",
       "90                                                                    Visit to Belgium on a Friendly Visa  \n",
       "91                                                                  The probability of catching criminals  \n",
       "92                       Determining the sample size for a comparative study involving two unequal groups  \n",
       "93               Resolving the relapse ratio $T (n) = 4T\\ left (\\ c {\\ sql {n}} {3}\\ right) +\\ log ^ 2n $  \n",
       "94                        User device and assign another jquery (desktop / mobile (ipad)) to js / jquery?  \n",
       "95                        How can I reliably make myself a cup of coffee in a hotel room that won't suck?  \n",
       "96                   What colour scheme should I choose for applications that require a long working day?  \n",
       "97                                                                               What does Fabregas mean?  \n",
       "98                                                                                             Two Fields  \n",
       "99                                                                 Sum of search values on several sheets  "
      ]
     },
     "execution_count": 5,
     "metadata": {},
     "output_type": "execute_result"
    }
   ],
   "source": [
    "train['question_title_ru'] = train_aug_ru.values\n",
    "train[['question_title', 'question_title_ru']][:100]"
   ]
  },
  {
   "cell_type": "code",
   "execution_count": 4,
   "metadata": {},
   "outputs": [],
   "source": [
    "train_aug = train.copy()\n",
    "train_aug['question_title_ru'] = train_aug_ru.values"
   ]
  },
  {
   "cell_type": "code",
   "execution_count": 5,
   "metadata": {},
   "outputs": [
    {
     "name": "stderr",
     "output_type": "stream",
     "text": [
      "/home/robin/anaconda3/envs/GoogleQuest/lib/python3.7/site-packages/ipykernel_launcher.py:11: TqdmDeprecationWarning: This function will be removed in tqdm==5.0.0\n",
      "Please use `tqdm.notebook.tqdm` instead of `tqdm.tqdm_notebook`\n",
      "  # This is added back by InteractiveShellApp.init_path()\n"
     ]
    },
    {
     "data": {
      "application/vnd.jupyter.widget-view+json": {
       "model_id": "67508392e82143078bec61cbbee8517a",
       "version_major": 2,
       "version_minor": 0
      },
      "text/plain": [
       "HBox(children=(IntProgress(value=0, max=6079), HTML(value='')))"
      ]
     },
     "metadata": {},
     "output_type": "display_data"
    },
    {
     "name": "stdout",
     "output_type": "stream",
     "text": [
      "\n"
     ]
    },
    {
     "data": {
      "application/vnd.jupyter.widget-view+json": {
       "model_id": "8d8a3c610fa44678ad6e837104568051",
       "version_major": 2,
       "version_minor": 0
      },
      "text/plain": [
       "HBox(children=(IntProgress(value=0, max=6079), HTML(value='')))"
      ]
     },
     "metadata": {},
     "output_type": "display_data"
    },
    {
     "name": "stdout",
     "output_type": "stream",
     "text": [
      "\n"
     ]
    },
    {
     "data": {
      "application/vnd.jupyter.widget-view+json": {
       "model_id": "0e235e12a396435a9e4582fcbbc78d54",
       "version_major": 2,
       "version_minor": 0
      },
      "text/plain": [
       "HBox(children=(IntProgress(value=0, max=476), HTML(value='')))"
      ]
     },
     "metadata": {},
     "output_type": "display_data"
    },
    {
     "name": "stdout",
     "output_type": "stream",
     "text": [
      "\n"
     ]
    },
    {
     "data": {
      "application/vnd.jupyter.widget-view+json": {
       "model_id": "c46006bea3c4401e96e127cf208e928a",
       "version_major": 2,
       "version_minor": 0
      },
      "text/plain": [
       "HBox(children=(IntProgress(value=0, max=476), HTML(value='')))"
      ]
     },
     "metadata": {},
     "output_type": "display_data"
    },
    {
     "name": "stdout",
     "output_type": "stream",
     "text": [
      "\n"
     ]
    },
    {
     "data": {
      "application/vnd.jupyter.widget-view+json": {
       "model_id": "b2977e72d0dd42dca24f1ca8b7f5d37b",
       "version_major": 2,
       "version_minor": 0
      },
      "text/plain": [
       "HBox(children=(IntProgress(value=0, max=6079), HTML(value='')))"
      ]
     },
     "metadata": {},
     "output_type": "display_data"
    },
    {
     "name": "stdout",
     "output_type": "stream",
     "text": [
      "\n"
     ]
    },
    {
     "data": {
      "application/vnd.jupyter.widget-view+json": {
       "model_id": "255a1e16ddb945b8b66acf6d17e1f2b8",
       "version_major": 2,
       "version_minor": 0
      },
      "text/plain": [
       "HBox(children=(IntProgress(value=0, max=6079), HTML(value='')))"
      ]
     },
     "metadata": {},
     "output_type": "display_data"
    },
    {
     "name": "stdout",
     "output_type": "stream",
     "text": [
      "\n",
      "CPU times: user 1min 2s, sys: 422 ms, total: 1min 2s\n",
      "Wall time: 1min 2s\n"
     ]
    }
   ],
   "source": [
    "%%time\n",
    "tokenizer = BertTokenizer.from_pretrained('bert-base-uncased')\n",
    "# sentence_tokenizer = nltk.data.load('tokenizers/punkt/english.pickle')\n",
    "seg_ids_train, ids_train = {}, {}\n",
    "seg_ids_test, ids_test = {}, {}\n",
    "seg_ids_aug, ids_aug = {}, {}\n",
    "max_seq_len = 512\n",
    "for mode, df in [('train', train), ('test', test), ('aug', train_aug)]:\n",
    "    for text, cols in [('question', ['question_title', 'question_body']), \n",
    "                       ('answer', ['question_title', 'answer'])]:\n",
    "        ids, seg_ids, sent_ids = [], [], []\n",
    "        for x1, x2 in tqdm(df[cols].values):\n",
    "            encoded_inputs = tokenizer.encode_plus(\n",
    "                x1, x2, add_special_tokens=True, max_length=max_seq_len, pad_to_max_length=True, \n",
    "                return_token_type_ids=True\n",
    "            )\n",
    "            ids.append(encoded_inputs['input_ids'])\n",
    "            seg_ids.append(encoded_inputs['token_type_ids'])\n",
    "        if mode == 'train': \n",
    "            ids_train[text] = np.array(ids)\n",
    "            seg_ids_train[text] = np.array(seg_ids)\n",
    "        elif mode == 'aug': \n",
    "            ids_aug[text] = np.array(ids)\n",
    "            seg_ids_aug[text] = np.array(seg_ids)\n",
    "        else: \n",
    "            ids_test[text] = np.array(ids)\n",
    "            seg_ids_test[text] = np.array(seg_ids)\n"
   ]
  },
  {
   "cell_type": "code",
   "execution_count": 6,
   "metadata": {
    "code_folding": []
   },
   "outputs": [],
   "source": [
    "train_host, test_host, host_dict, host_dict_reverse = get_categorical_features(train, test, 'host')\n",
    "train_category, test_category, category_dict, category_dict_reverse = \\\n",
    "    get_categorical_features(train, test, 'category')"
   ]
  },
  {
   "cell_type": "code",
   "execution_count": 7,
   "metadata": {},
   "outputs": [
    {
     "name": "stderr",
     "output_type": "stream",
     "text": [
      "/home/robin/anaconda3/envs/GoogleQuest/lib/python3.7/site-packages/sklearn/preprocessing/_encoders.py:415: FutureWarning: The handling of integer data will change in version 0.22. Currently, the categories are determined based on the range [0, max(values)], while in the future they will be determined based on the unique values.\n",
      "If you want the future behaviour and silence this warning, you can specify \"categories='auto'\".\n",
      "In case you used a LabelEncoder before this OneHotEncoder to convert the categories to integers, then you can now use the OneHotEncoder directly.\n",
      "  warnings.warn(msg, FutureWarning)\n"
     ]
    }
   ],
   "source": [
    "cat_features_train = train_category.reshape(-1, 1)\n",
    "cat_features_test = test_category.reshape(-1, 1)\n",
    "ohe = OneHotEncoder()\n",
    "ohe.fit(cat_features_train)\n",
    "cat_features_train = ohe.transform(cat_features_train).toarray()\n",
    "cat_features_test = ohe.transform(cat_features_test).toarray()"
   ]
  },
  {
   "cell_type": "code",
   "execution_count": 8,
   "metadata": {},
   "outputs": [],
   "source": [
    "for col in TARGETS:\n",
    "    train[col] = train[col].rank(method=\"average\")\n",
    "train[TARGETS] = MinMaxScaler().fit_transform(train[TARGETS])\n",
    "y = train[TARGETS].values.astype(np.float32)\n",
    "ix = np.where(train.groupby(\"question_body\")[\"host\"].transform(\"count\") == 1)[0]"
   ]
  },
  {
   "cell_type": "code",
   "execution_count": 9,
   "metadata": {},
   "outputs": [],
   "source": [
    "num_workers = 10\n",
    "bs = 2\n",
    "TextDataset = AugTextDataset3"
   ]
  },
  {
   "cell_type": "code",
   "execution_count": 10,
   "metadata": {},
   "outputs": [],
   "source": [
    "bs_test = 2\n",
    "test_loader = DataLoader(\n",
    "    TextDataset5(cat_features_test, ids_test['question'], ids_test['answer'], \n",
    "                seg_ids_test['question'], seg_ids_test['answer'], test.index),\n",
    "    batch_size=bs_test, shuffle=False, num_workers=num_workers, drop_last=False\n",
    ")"
   ]
  },
  {
   "cell_type": "markdown",
   "metadata": {},
   "source": [
    "## Training model"
   ]
  },
  {
   "cell_type": "code",
   "execution_count": 11,
   "metadata": {},
   "outputs": [],
   "source": [
    "lr = 0.001\n",
    "loss_fn = nn.BCEWithLogitsLoss()\n",
    "device = 'cuda'\n",
    "n_epochs = 4\n",
    "grad_accum = 4\n",
    "weight_decay = 0.01\n",
    "model_name = 'siamese_bert_4'\n",
    "checkpoint_dir = 'checkpoints/'\n",
    "early_stopping = None\n",
    "n_folds = 10"
   ]
  },
  {
   "cell_type": "code",
   "execution_count": 12,
   "metadata": {},
   "outputs": [],
   "source": [
    "def get_optimizer_param_groups(model, lr, weight_decay):\n",
    "    no_decay = ['bias', 'LayerNorm.weight']\n",
    "    optimizer_grouped_parameters = [\n",
    "        {'params': [p for n, p in model.named_parameters() if not any(nd in n for nd in no_decay)], \n",
    "         'weight_decay': weight_decay, 'lr': lr},\n",
    "        {'params': [p for n, p in model.named_parameters() if any(nd in n for nd in no_decay)], \n",
    "         'weight_decay': 0.0, 'lr': lr}\n",
    "    ]\n",
    "    return optimizer_grouped_parameters\n",
    "\n",
    "\n",
    "def get_optimizer(model, lr, weight_decay):\n",
    "    return transformers.AdamW(\n",
    "        get_optimizer_param_groups(model.head, lr, weight_decay)\n",
    "        + get_optimizer_param_groups(model.bert, lr / 100, weight_decay)\n",
    "    )"
   ]
  },
  {
   "cell_type": "code",
   "execution_count": null,
   "metadata": {
    "scrolled": true
   },
   "outputs": [
    {
     "name": "stdout",
     "output_type": "stream",
     "text": [
      "Fold 1 started at Sat Jan 25 14:09:33 2020\n"
     ]
    },
    {
     "data": {
      "application/vnd.jupyter.widget-view+json": {
       "model_id": "ae05f6bcb81e4651ae04bde792155897",
       "version_major": 2,
       "version_minor": 0
      },
      "text/plain": [
       "HBox(children=(IntProgress(value=0, max=400), HTML(value='')))"
      ]
     },
     "metadata": {},
     "output_type": "display_data"
    },
    {
     "name": "stderr",
     "output_type": "stream",
     "text": [
      "/home/robin/anaconda3/envs/GoogleQuest/lib/python3.7/site-packages/torch/optim/lr_scheduler.py:100: UserWarning: Detected call of `lr_scheduler.step()` before `optimizer.step()`. In PyTorch 1.1.0 and later, you should call them in the opposite order: `optimizer.step()` before `lr_scheduler.step()`.  Failure to do this will result in PyTorch skipping the first value of the learning rate schedule.See more details at https://pytorch.org/docs/stable/optim.html#how-to-adjust-learning-rate\n",
      "  \"https://pytorch.org/docs/stable/optim.html#how-to-adjust-learning-rate\", UserWarning)\n"
     ]
    },
    {
     "data": {
      "image/png": "[encoded data removed]",
      "text/plain": [
       "<Figure size 432x288 with 1 Axes>"
      ]
     },
     "metadata": {
      "needs_background": "light"
     },
     "output_type": "display_data"
    },
    {
     "name": "stdout",
     "output_type": "stream",
     "text": [
      "epoch 0: \t Start training...\n"
     ]
    },
    {
     "data": {
      "application/vnd.jupyter.widget-view+json": {
       "model_id": "042051e93777464185a0cecbce1ce6ee",
       "version_major": 2,
       "version_minor": 0
      },
      "text/plain": [
       "HBox(children=(IntProgress(value=0, max=2736), HTML(value='')))"
      ]
     },
     "metadata": {},
     "output_type": "display_data"
    },
    {
     "name": "stdout",
     "output_type": "stream",
     "text": [
      "\n",
      "epoch 0/4 \t train : loss 0.50898 - spearmanr 0.24703\n",
      "epoch 0: \t Start validation...\n"
     ]
    },
    {
     "data": {
      "application/vnd.jupyter.widget-view+json": {
       "model_id": "c91ace1f404541b9b9c07e72d35594af",
       "version_major": 2,
       "version_minor": 0
      },
      "text/plain": [
       "HBox(children=(IntProgress(value=0, max=304), HTML(value='')))"
      ]
     },
     "metadata": {},
     "output_type": "display_data"
    },
    {
     "name": "stdout",
     "output_type": "stream",
     "text": [
      "\n",
      "epoch 0/4 \t valid : loss 0.47097 - spearmanr 0.38575\n"
     ]
    },
    {
     "name": "stderr",
     "output_type": "stream",
     "text": [
      "/home/robin/anaconda3/envs/GoogleQuest/lib/python3.7/site-packages/numpy/lib/function_base.py:2534: RuntimeWarning: invalid value encountered in true_divide\n",
      "  c /= stddev[:, None]\n",
      "/home/robin/anaconda3/envs/GoogleQuest/lib/python3.7/site-packages/numpy/lib/function_base.py:2535: RuntimeWarning: invalid value encountered in true_divide\n",
      "  c /= stddev[None, :]\n",
      "/home/robin/anaconda3/envs/GoogleQuest/lib/python3.7/site-packages/scipy/stats/_distn_infrastructure.py:901: RuntimeWarning: invalid value encountered in greater\n",
      "  return (a < x) & (x < b)\n",
      "/home/robin/anaconda3/envs/GoogleQuest/lib/python3.7/site-packages/scipy/stats/_distn_infrastructure.py:901: RuntimeWarning: invalid value encountered in less\n",
      "  return (a < x) & (x < b)\n",
      "/home/robin/anaconda3/envs/GoogleQuest/lib/python3.7/site-packages/scipy/stats/_distn_infrastructure.py:1892: RuntimeWarning: invalid value encountered in less_equal\n",
      "  cond2 = cond0 & (x <= _a)\n"
     ]
    },
    {
     "name": "stdout",
     "output_type": "stream",
     "text": [
      "best model: epoch 0 - 0.38575\n",
      "epoch 1: \t Start training...\n"
     ]
    },
    {
     "data": {
      "application/vnd.jupyter.widget-view+json": {
       "model_id": "4a76d30877c441f0824aeaaaa86c3fd4",
       "version_major": 2,
       "version_minor": 0
      },
      "text/plain": [
       "HBox(children=(IntProgress(value=0, max=2736), HTML(value='')))"
      ]
     },
     "metadata": {},
     "output_type": "display_data"
    },
    {
     "name": "stdout",
     "output_type": "stream",
     "text": [
      "\n",
      "epoch 1/4 \t train : loss 0.45616 - spearmanr 0.39788\n",
      "epoch 1: \t Start validation...\n"
     ]
    },
    {
     "data": {
      "application/vnd.jupyter.widget-view+json": {
       "model_id": "32900114999340f8beac84c1352de1b2",
       "version_major": 2,
       "version_minor": 0
      },
      "text/plain": [
       "HBox(children=(IntProgress(value=0, max=304), HTML(value='')))"
      ]
     },
     "metadata": {},
     "output_type": "display_data"
    },
    {
     "name": "stdout",
     "output_type": "stream",
     "text": [
      "\n",
      "epoch 1/4 \t valid : loss 0.45279 - spearmanr 0.41519\n",
      "best model: epoch 1 - 0.41519\n",
      "epoch 2: \t Start training...\n"
     ]
    },
    {
     "data": {
      "application/vnd.jupyter.widget-view+json": {
       "model_id": "113c19aa77e8477f8b32c4785489d93f",
       "version_major": 2,
       "version_minor": 0
      },
      "text/plain": [
       "HBox(children=(IntProgress(value=0, max=2736), HTML(value='')))"
      ]
     },
     "metadata": {},
     "output_type": "display_data"
    },
    {
     "name": "stdout",
     "output_type": "stream",
     "text": [
      "\n",
      "epoch 2/4 \t train : loss 0.43288 - spearmanr 0.4588\n",
      "epoch 2: \t Start validation...\n"
     ]
    },
    {
     "data": {
      "application/vnd.jupyter.widget-view+json": {
       "model_id": "78f6f3829c4c4e63be376c7797c434fa",
       "version_major": 2,
       "version_minor": 0
      },
      "text/plain": [
       "HBox(children=(IntProgress(value=0, max=304), HTML(value='')))"
      ]
     },
     "metadata": {},
     "output_type": "display_data"
    },
    {
     "name": "stdout",
     "output_type": "stream",
     "text": [
      "\n",
      "epoch 2/4 \t valid : loss 0.44961 - spearmanr 0.41814\n",
      "best model: epoch 2 - 0.41814\n",
      "epoch 3: \t Start training...\n"
     ]
    },
    {
     "data": {
      "application/vnd.jupyter.widget-view+json": {
       "model_id": "06ec6e68b1c240b4b9429c61b2e4247d",
       "version_major": 2,
       "version_minor": 0
      },
      "text/plain": [
       "HBox(children=(IntProgress(value=0, max=2736), HTML(value='')))"
      ]
     },
     "metadata": {},
     "output_type": "display_data"
    }
   ],
   "source": [
    "init_seed()\n",
    "folds = GroupKFold(n_splits=n_folds).split(X=train['question_body'], groups=train['question_body'])\n",
    "oofs = np.zeros((len(train), N_TARGETS))\n",
    "preds = np.zeros((len(test), N_TARGETS))\n",
    "\n",
    "for fold_id, (train_index, valid_index) in enumerate(folds):\n",
    "    print(f'Fold {fold_id + 1} started at {time.ctime()}')\n",
    "    train_loader = DataLoader(\n",
    "        TextDataset(cat_features_train, ids_train['question'], ids_train['answer'],\n",
    "                    seg_ids_train['question'], seg_ids_train['answer'], \n",
    "                    ids_aug['question'], ids_aug['answer'],\n",
    "                    seg_ids_aug['question'], seg_ids_aug['answer'], train_index, targets=y), \n",
    "        batch_size=bs, shuffle=True, num_workers=num_workers, drop_last=False\n",
    "    )\n",
    "    valid_loader = DataLoader(\n",
    "        TextDataset5(cat_features_train, ids_train['question'], ids_train['answer'],\n",
    "                    seg_ids_train['question'], seg_ids_train['answer'], valid_index, targets=y), \n",
    "        batch_size=bs, shuffle=False, num_workers=num_workers, drop_last=False\n",
    "    )\n",
    "    model = CustomBert3(256, cat_features_train.shape[1])\n",
    "    \n",
    "    if fold_id == 0:\n",
    "#         print(model)\n",
    "        model = model.to(device)\n",
    "        optimizer = get_optimizer(model, lr, weight_decay)\n",
    "        lr_finder = LRFinder(n_iter=min(grad_accum*100, len(train_loader)), start_lr=1e-5, \n",
    "                             end_lr=1, device=device, grad_accum=grad_accum, divergence_factor=5)\n",
    "        lr_finder.find_lr(model, optimizer, train_loader, loss_fn)\n",
    "        plt.show()\n",
    "    \n",
    "    optimizer = get_optimizer(model, lr, weight_decay)\n",
    "    scheduler = OneCycleLR(optimizer, n_epochs=n_epochs, n_batches=len(train_loader))\n",
    "\n",
    "    learner = Learner(\n",
    "        model, \n",
    "        optimizer, \n",
    "        train_loader, \n",
    "        valid_loader, \n",
    "        loss_fn, \n",
    "        device, \n",
    "        n_epochs, \n",
    "        f'{model_name}_fold_{fold_id + 1}', \n",
    "        checkpoint_dir, \n",
    "        scheduler=scheduler, \n",
    "        metric_fns={'spearmanr': (spearmanr_torch, 'epoch_end')}, \n",
    "        monitor_metric='spearmanr',\n",
    "        minimize_score=False, \n",
    "        logger=None,\n",
    "        grad_accum=grad_accum,\n",
    "        early_stopping=early_stopping, \n",
    "        batch_step_scheduler=True,\n",
    "        n_top_models=5\n",
    "    )\n",
    "    if (fold_id + 1) > 0: learner.train()\n",
    "        \n",
    "    oofs[valid_index] = infer(learner.model, valid_loader, learner.best_checkpoint_file, device)\n",
    "#     oofs[valid_index] += infer(learner.model, valid_loader, learner.checkpoint_file(1), device) / 1\n",
    "#     oofs[valid_index] += infer(learner.model, valid_loader, learner.checkpoint_file(2), device) / 3\n",
    "#     oofs[valid_index] += infer(learner.model, valid_loader, learner.checkpoint_file(3), device) / 3\n",
    "    print(f'Averaged Val. score: {spearmanr_np(oofs[valid_index], y[valid_index])}')\n",
    "    \n",
    "    \n",
    "    test_preds = infer(learner.model, test_loader, learner.best_checkpoint_file, device)\n",
    "    preds += test_preds / n_folds\n",
    "    \n",
    "    del learner, model, train_loader, valid_loader\n",
    "    gc.collect()\n",
    "    \n",
    "print(f'OOF score: {spearmanr_np(oofs, y)}')"
   ]
  },
  {
   "cell_type": "code",
   "execution_count": null,
   "metadata": {},
   "outputs": [],
   "source": [
    "def my_round(x, num, dec=2):\n",
    "    return np.round(x / num, dec) * num\n",
    "\n",
    "def round_preds(preds, thres=0.0, low_dec=1, low_num=1, high_dec=2, high_num=3):\n",
    "    low_idx = preds < thres\n",
    "    new_preds = np.zeros_like(preds)\n",
    "    new_preds[low_idx] = my_round(preds[low_idx], low_num, low_dec)\n",
    "    new_preds[~low_idx] = my_round(preds[~low_idx], high_num, high_dec)\n",
    "    return new_preds\n",
    "\n",
    "def scale(x, d):\n",
    "    if d: return (x//(1/d))/d\n",
    "    else: return x\n",
    "\n",
    "def ahmet_round(preds, ds, indices):\n",
    "    new_preds = preds.copy()\n",
    "    for idx, d in zip(indices, ds):\n",
    "        new_preds[:,idx] = scale(preds[:,idx], d)\n",
    "    return new_preds"
   ]
  },
  {
   "cell_type": "code",
   "execution_count": null,
   "metadata": {
    "scrolled": true
   },
   "outputs": [],
   "source": [
    "opt_ds, opt_indices = optimize_rounding_params(oofs, y)"
   ]
  },
  {
   "cell_type": "code",
   "execution_count": null,
   "metadata": {},
   "outputs": [],
   "source": [
    "np.array(opt_ds), np.array(opt_indices)"
   ]
  },
  {
   "cell_type": "code",
   "execution_count": null,
   "metadata": {
    "scrolled": false
   },
   "outputs": [],
   "source": [
    "oofs_alt = oofs.copy()\n",
    "train[\"eng\"] = train[\"url\"].apply(lambda x: x.startswith(\"http://english.\") or x.startswith(\"http://ell.\"))\n",
    "oofs_alt[np.where((~train[\"eng\"]).values)[0], 19] = 0"
   ]
  },
  {
   "cell_type": "code",
   "execution_count": null,
   "metadata": {
    "scrolled": false
   },
   "outputs": [],
   "source": [
    "get_cvs(oofs, y, ix)"
   ]
  },
  {
   "cell_type": "code",
   "execution_count": null,
   "metadata": {
    "scrolled": false
   },
   "outputs": [],
   "source": [
    "get_cvs(oofs_alt, y, ix)"
   ]
  },
  {
   "cell_type": "code",
   "execution_count": null,
   "metadata": {},
   "outputs": [],
   "source": [
    "# clipping is necessary or we will get an error\n",
    "sample_submission.loc[:, 'question_asker_intent_understanding':] = np.clip(preds, 0.00001, 0.999999)\n",
    "sample_submission.to_csv('subs/submission.csv', index=False)"
   ]
  },
  {
   "cell_type": "code",
   "execution_count": null,
   "metadata": {
    "scrolled": false
   },
   "outputs": [],
   "source": [
    "sample_submission.head()"
   ]
  },
  {
   "cell_type": "code",
   "execution_count": null,
   "metadata": {},
   "outputs": [],
   "source": [
    "pd.DataFrame(oofs, columns=TARGETS).to_csv(f'oofs/{model_name}_oofs.csv')"
   ]
  },
  {
   "cell_type": "code",
   "execution_count": null,
   "metadata": {},
   "outputs": [],
   "source": [
    "pd.DataFrame(oofs, columns=TARGETS)"
   ]
  },
  {
   "cell_type": "code",
   "execution_count": null,
   "metadata": {},
   "outputs": [],
   "source": [
    "rs = pd.Series({col: spearmanr(oofs[:,i], y[:,i])[0] for i, col in enumerate(TARGETS)})\n",
    "rs"
   ]
  },
  {
   "cell_type": "code",
   "execution_count": null,
   "metadata": {},
   "outputs": [],
   "source": [
    "rs_df = pd.DataFrame(np.vstack([rs.values.flatten(), train[TARGETS].nunique()]).T, \n",
    "                     columns=['SpearmanCorr', 'NUnique'], index=rs.index)\n",
    "rs_df.sort_values('SpearmanCorr', ascending=True)"
   ]
  },
  {
   "cell_type": "code",
   "execution_count": null,
   "metadata": {},
   "outputs": [],
   "source": [
    "sorted_targets = rs_df.sort_values('SpearmanCorr', ascending=True).index\n",
    "worst_five_targets = sorted_targets[:5]\n",
    "worst_five_targets"
   ]
  },
  {
   "cell_type": "code",
   "execution_count": null,
   "metadata": {
    "scrolled": true
   },
   "outputs": [],
   "source": [
    "for col in worst_five_targets:\n",
    "    plt.figure()\n",
    "    train[col].hist()\n",
    "    plt.title(f'{col} {np.round(rs[col],3)}')"
   ]
  },
  {
   "cell_type": "code",
   "execution_count": null,
   "metadata": {},
   "outputs": [],
   "source": [
    "for col in [target for target in sorted_targets if target not in worst_five_targets]:\n",
    "    plt.figure()\n",
    "    train[col].hist()\n",
    "    plt.title(f'{col} {np.round(rs[col],3)}')"
   ]
  },
  {
   "cell_type": "code",
   "execution_count": null,
   "metadata": {},
   "outputs": [],
   "source": []
  }
 ],
 "metadata": {
  "kernelspec": {
   "display_name": "Python 3",
   "language": "python",
   "name": "python3"
  },
  "language_info": {
   "codemirror_mode": {
    "name": "ipython",
    "version": 3
   },
   "file_extension": ".py",
   "mimetype": "text/x-python",
   "name": "python",
   "nbconvert_exporter": "python",
   "pygments_lexer": "ipython3",
   "version": "3.7.5"
  }
 },
 "nbformat": 4,
 "nbformat_minor": 1
}
