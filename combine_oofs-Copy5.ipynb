{
 "cells": [
  {
   "cell_type": "code",
   "execution_count": 1,
   "metadata": {},
   "outputs": [],
   "source": [
    "import numpy as np\n",
    "import pandas as pd\n",
    "import warnings\n",
    "import itertools\n",
    "from tqdm import tqdm_notebook\n",
    "from scipy.stats import spearmanr\n",
    "from sklearn.preprocessing import MinMaxScaler\n",
    "warnings.filterwarnings(\"ignore\")"
   ]
  },
  {
   "cell_type": "code",
   "execution_count": 2,
   "metadata": {},
   "outputs": [],
   "source": [
    "train = pd.read_csv(f'data/train.csv')\n",
    "TARGETS = train.columns[11:]\n",
    "\n",
    "for col in TARGETS:\n",
    "    train[col] = train[col].rank(method=\"average\")\n",
    "train[TARGETS] = MinMaxScaler().fit_transform(train[TARGETS])\n",
    "y = train[TARGETS].values\n",
    "ix = np.where(train.groupby(\"question_body\")[\"host\"].transform(\"count\") == 1)[0]\n",
    "\n",
    "y_use = pd.read_csv('oofs/use_oof.csv').values\n",
    "y_albert = pd.read_csv('oofs/siamese_albert_1_comb_oofs.csv', index_col=0).values\n",
    "y_bert = pd.read_csv('oofs/siamese_bert_6_oofs.csv', index_col=0).values\n",
    "y_roberta = pd.read_csv('oofs/siamese_roberta_1_comb_oofs.csv', index_col=0).values\n",
    "y_xlnet = pd.read_csv('oofs/siamese_xlnet_1_comb_oofs.csv', index_col=0).values\n",
    "# y_xlnet = pd.read_csv('oofs/siamese_xlnet_2_comb_oofs.csv', index_col=0).values\n",
    "\n",
    "preds = [y_use, y_roberta, y_bert, y_xlnet, y_albert]\n",
    "n_models = len(preds)"
   ]
  },
  {
   "cell_type": "code",
   "execution_count": 3,
   "metadata": {},
   "outputs": [],
   "source": [
    "def mae(y, y_pred):\n",
    "    return -np.mean(np.abs(y - y_pred))\n",
    "\n",
    "\n",
    "def evaluate(y, y_pred, verbose=False, exclude=[]):\n",
    "    score = 0\n",
    "    for i in range(y.shape[1]):\n",
    "        if i not in exclude:\n",
    "            col_score = spearmanr(y[:, i], y_pred[:, i])[0]\n",
    "            if verbose:\n",
    "                print(TARGETS[i], np.round(col_score, 3))\n",
    "            score += col_score/(y.shape[1]-len(exclude))\n",
    "    return np.round(score, 4)\n",
    "\n",
    "\n",
    "ds = [4, 8, 16, 32, 64, None]\n",
    "ws = [0, 1, 2, 4]\n",
    "\n",
    "\n",
    "def scale(x, d):\n",
    "    if d:\n",
    "        return (x//(1/d))/d\n",
    "    return x\n",
    "\n",
    "dws5 = list(itertools.product(ds, ds, *(n_models*[ws])))\n",
    "\n",
    "\n",
    "def transform(preds, params, c):\n",
    "    (d_global, d_local), ws = params[:2], params[2:]\n",
    "    y_temp = 0\n",
    "    for pred, w in zip(preds, ws):\n",
    "        y_temp += w * scale(pred[:, c], d_local)\n",
    "    y_temp /= sum(ws)\n",
    "    y_temp = scale(y_temp, d_global)\n",
    "    return y_temp\n",
    "\n",
    "\n",
    "mae_weight = 0.5\n",
    "\n",
    "\n",
    "def f(c):\n",
    "    max_score = spearmanr(y[:, c], y_roberta[:, c])[0] \n",
    "    max_score -= mae_weight * mae(y[:, c], y_roberta[:, c])\n",
    "    best_index = -1\n",
    "    for i, params in enumerate(dws5):\n",
    "        if sum(params[2:]) == 0:\n",
    "            continue\n",
    "        y_temp = transform(preds, params, c)\n",
    "        score = spearmanr(y[:, c], y_temp)[0] \n",
    "        score -= mae_weight * mae(y[:, c], y_temp)\n",
    "        if score > max_score:\n",
    "            max_score = score\n",
    "            best_index = i\n",
    "            \n",
    "    return best_index"
   ]
  },
  {
   "cell_type": "code",
   "execution_count": 4,
   "metadata": {},
   "outputs": [],
   "source": [
    "import multiprocessing\n",
    "\n",
    "pool = multiprocessing.Pool(15)\n",
    "out = pool.map(f, range(30))"
   ]
  },
  {
   "cell_type": "code",
   "execution_count": 5,
   "metadata": {},
   "outputs": [
    {
     "name": "stdout",
     "output_type": "stream",
     "text": [
      "0 question_asker_intent_understanding (16, 16, 1, 2, 2, 2, 2)\n",
      "1 question_body_critical (16, 4, 4, 1, 4, 1, 4)\n",
      "2 question_conversational (4, 32, 1, 4, 0, 1, 1)\n",
      "3 question_expect_short_answer (16, 16, 2, 4, 1, 1, 4)\n",
      "4 question_fact_seeking (4, 4, 1, 0, 2, 2, 1)\n",
      "5 question_has_commonly_accepted_answer (4, None, 1, 4, 2, 1, 4)\n",
      "6 question_interestingness_others (16, 4, 1, 1, 2, 1, 2)\n",
      "7 question_interestingness_self (8, 8, 4, 2, 4, 1, 4)\n",
      "8 question_multi_intent (None, None, 4, 2, 2, 2, 1)\n",
      "9 question_not_really_a_question (16, 16, 1, 0, 2, 2, 0)\n",
      "10 question_opinion_seeking (16, 4, 1, 2, 1, 2, 1)\n",
      "11 question_type_choice (16, 4, 1, 1, 0, 1, 2)\n",
      "12 question_type_compare (4, None, 0, 4, 1, 4, 0)\n",
      "13 question_type_consequence (4, 8, 0, 1, 0, 2, 0)\n",
      "14 question_type_definition (8, 8, 0, 4, 1, 0, 0)\n",
      "15 question_type_entity (4, 8, 2, 1, 0, 4, 0)\n",
      "16 question_type_instructions (4, None, 2, 4, 0, 1, 1)\n",
      "17 question_type_procedure (None, None, 1, 2, 0, 2, 1)\n",
      "18 question_type_reason_explanation (16, 4, 2, 4, 2, 1, 4)\n",
      "19 question_type_spelling (16, 64, 2, 1, 4, 0, 0)\n",
      "20 question_well_written (16, 4, 2, 2, 4, 2, 1)\n",
      "21 answer_helpful (32, 8, 0, 4, 1, 1, 4)\n",
      "22 answer_level_of_information (16, 16, 1, 4, 2, 1, 2)\n",
      "23 answer_plausible (8, 16, 4, 0, 1, 0, 4)\n",
      "24 answer_relevance (4, 16, 2, 4, 0, 0, 1)\n",
      "25 answer_satisfaction (32, 16, 1, 2, 0, 2, 2)\n",
      "26 answer_type_instructions (32, 4, 2, 4, 2, 2, 1)\n",
      "27 answer_type_procedure (None, None, 2, 4, 1, 1, 1)\n",
      "28 answer_type_reason_explanation (16, 4, 4, 4, 1, 1, 4)\n",
      "29 answer_well_written (64, None, 0, 1, 2, 2, 1)\n"
     ]
    }
   ],
   "source": [
    "y_combined = np.zeros(y.shape)\n",
    "\n",
    "for c in range(30):\n",
    "    print(c, TARGETS[c], dws5[out[c]])\n",
    "    y_combined[:, c] = transform(preds, dws5[out[c]], c)"
   ]
  },
  {
   "cell_type": "code",
   "execution_count": 6,
   "metadata": {},
   "outputs": [
    {
     "name": "stdout",
     "output_type": "stream",
     "text": [
      "question_asker_intent_understanding 0.406\n",
      "question_body_critical 0.68\n",
      "question_conversational 0.512\n",
      "question_expect_short_answer 0.323\n",
      "question_fact_seeking 0.375\n",
      "question_has_commonly_accepted_answer 0.486\n",
      "question_interestingness_others 0.367\n",
      "question_interestingness_self 0.525\n",
      "question_multi_intent 0.609\n",
      "question_not_really_a_question 0.187\n",
      "question_opinion_seeking 0.492\n",
      "question_type_choice 0.778\n",
      "question_type_compare 0.566\n",
      "question_type_consequence 0.333\n",
      "question_type_definition 0.669\n",
      "question_type_entity 0.623\n",
      "question_type_instructions 0.794\n",
      "question_type_procedure 0.385\n",
      "question_type_reason_explanation 0.683\n",
      "question_type_spelling 0.608\n",
      "question_well_written 0.532\n",
      "answer_helpful 0.287\n",
      "answer_level_of_information 0.477\n",
      "answer_plausible 0.18\n",
      "answer_relevance 0.189\n",
      "answer_satisfaction 0.391\n",
      "answer_type_instructions 0.772\n",
      "answer_type_procedure 0.327\n",
      "answer_type_reason_explanation 0.694\n",
      "answer_well_written 0.252\n"
     ]
    },
    {
     "data": {
      "text/plain": [
       "0.4835"
      ]
     },
     "execution_count": 6,
     "metadata": {},
     "output_type": "execute_result"
    }
   ],
   "source": [
    "evaluate(y, y_combined, True)"
   ]
  },
  {
   "cell_type": "code",
   "execution_count": 9,
   "metadata": {},
   "outputs": [
    {
     "data": {
      "text/plain": [
       "0.4896"
      ]
     },
     "execution_count": 9,
     "metadata": {},
     "output_type": "execute_result"
    }
   ],
   "source": [
    "evaluate(y, y_combined, False, exclude=[9,19])"
   ]
  },
  {
   "cell_type": "code",
   "execution_count": 8,
   "metadata": {
    "scrolled": false
   },
   "outputs": [
    {
     "data": {
      "text/plain": [
       "[(16, 16, 1, 2, 2, 2, 2),\n",
       " (16, 4, 4, 1, 4, 1, 4),\n",
       " (4, 32, 1, 4, 0, 1, 1),\n",
       " (16, 16, 2, 4, 1, 1, 4),\n",
       " (4, 4, 1, 0, 2, 2, 1),\n",
       " (4, None, 1, 4, 2, 1, 4),\n",
       " (16, 4, 1, 1, 2, 1, 2),\n",
       " (8, 8, 4, 2, 4, 1, 4),\n",
       " (None, None, 4, 2, 2, 2, 1),\n",
       " (16, 16, 1, 0, 2, 2, 0),\n",
       " (16, 4, 1, 2, 1, 2, 1),\n",
       " (16, 4, 1, 1, 0, 1, 2),\n",
       " (4, None, 0, 4, 1, 4, 0),\n",
       " (4, 8, 0, 1, 0, 2, 0),\n",
       " (8, 8, 0, 4, 1, 0, 0),\n",
       " (4, 8, 2, 1, 0, 4, 0),\n",
       " (4, None, 2, 4, 0, 1, 1),\n",
       " (None, None, 1, 2, 0, 2, 1),\n",
       " (16, 4, 2, 4, 2, 1, 4),\n",
       " (16, 64, 2, 1, 4, 0, 0),\n",
       " (16, 4, 2, 2, 4, 2, 1),\n",
       " (32, 8, 0, 4, 1, 1, 4),\n",
       " (16, 16, 1, 4, 2, 1, 2),\n",
       " (8, 16, 4, 0, 1, 0, 4),\n",
       " (4, 16, 2, 4, 0, 0, 1),\n",
       " (32, 16, 1, 2, 0, 2, 2),\n",
       " (32, 4, 2, 4, 2, 2, 1),\n",
       " (None, None, 2, 4, 1, 1, 1),\n",
       " (16, 4, 4, 4, 1, 1, 4),\n",
       " (64, None, 0, 1, 2, 2, 1)]"
      ]
     },
     "execution_count": 8,
     "metadata": {},
     "output_type": "execute_result"
    }
   ],
   "source": [
    "[dws5[out[c]] for c in range(30)]"
   ]
  },
  {
   "cell_type": "code",
   "execution_count": null,
   "metadata": {},
   "outputs": [],
   "source": []
  }
 ],
 "metadata": {
  "kernelspec": {
   "display_name": "Python 3",
   "language": "python",
   "name": "python3"
  },
  "language_info": {
   "codemirror_mode": {
    "name": "ipython",
    "version": 3
   },
   "file_extension": ".py",
   "mimetype": "text/x-python",
   "name": "python",
   "nbconvert_exporter": "python",
   "pygments_lexer": "ipython3",
   "version": "3.7.5"
  }
 },
 "nbformat": 4,
 "nbformat_minor": 2
}
