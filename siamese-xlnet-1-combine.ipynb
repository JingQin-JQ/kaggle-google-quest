{
 "cells": [
  {
   "cell_type": "markdown",
   "metadata": {},
   "source": [
    "## Importing libraries"
   ]
  },
  {
   "cell_type": "code",
   "execution_count": 1,
   "metadata": {
    "_kg_hide-input": true
   },
   "outputs": [],
   "source": [
    "import numpy as np\n",
    "import pandas as pd\n",
    "import matplotlib.pyplot as plt\n",
    "import seaborn as sns\n",
    "import time\n",
    "import datetime\n",
    "import re\n",
    "import gc\n",
    "import copy\n",
    "\n",
    "from scipy.stats import spearmanr\n",
    "from sklearn.model_selection import GroupKFold\n",
    "from sklearn.preprocessing import OneHotEncoder, MinMaxScaler\n",
    "\n",
    "import torch\n",
    "import torch.nn as nn\n",
    "import torch.optim as optim\n",
    "import torch.nn.functional as F\n",
    "from torch.utils.data import DataLoader\n",
    "\n",
    "from tqdm import tqdm_notebook as tqdm\n",
    "from transformers import XLNetTokenizer\n",
    "import transformers\n",
    "\n",
    "from radam import RAdam\n",
    "from text_data import TextDataset5 as TextDataset\n",
    "from xlnet import CustomXLNet\n",
    "from create_features import get_categorical_features\n",
    "from losses_metrics import spearmanr_torch, spearmanr_np, optimize_rounding_params, get_cvs, spearmanr\n",
    "from inference import infer\n",
    "from common import *\n",
    "from utils.helpers import init_logger, init_seed\n",
    "from utils.torch import to_cpu\n",
    "\n",
    "%matplotlib inline\n",
    "pd.set_option('max_colwidth',400)"
   ]
  },
  {
   "cell_type": "markdown",
   "metadata": {},
   "source": [
    "## Loading and preparing data"
   ]
  },
  {
   "cell_type": "code",
   "execution_count": 2,
   "metadata": {
    "_cell_guid": "b1076dfc-b9ad-4769-8c92-a6c4dae69d19",
    "_uuid": "8f2839f25d086af736a60e9eeb907d3b93b6e0e5"
   },
   "outputs": [],
   "source": [
    "pd.set_option('max_rows', 500)\n",
    "pd.set_option('max_columns', 500)\n",
    "path = 'data/'\n",
    "sample_submission = pd.read_csv(f'{path}sample_submission.csv')\n",
    "test = pd.read_csv(f'{path}test.csv').fillna(' ')\n",
    "train = pd.read_csv(f'{path}train.csv').fillna(' ')"
   ]
  },
  {
   "cell_type": "code",
   "execution_count": 3,
   "metadata": {},
   "outputs": [
    {
     "name": "stderr",
     "output_type": "stream",
     "text": [
      "/home/robin/anaconda3/envs/GoogleQuest/lib/python3.7/site-packages/ipykernel_launcher.py:9: TqdmDeprecationWarning: This function will be removed in tqdm==5.0.0\n",
      "Please use `tqdm.notebook.tqdm` instead of `tqdm.tqdm_notebook`\n",
      "  if __name__ == '__main__':\n"
     ]
    },
    {
     "data": {
      "application/vnd.jupyter.widget-view+json": {
       "model_id": "e7fa84e7fa51404e86392fccdc0277bc",
       "version_major": 2,
       "version_minor": 0
      },
      "text/plain": [
       "HBox(children=(IntProgress(value=0, max=6079), HTML(value='')))"
      ]
     },
     "metadata": {},
     "output_type": "display_data"
    },
    {
     "name": "stdout",
     "output_type": "stream",
     "text": [
      "\n"
     ]
    },
    {
     "data": {
      "application/vnd.jupyter.widget-view+json": {
       "model_id": "83e58daaa3e34b53a650a46fd6324c44",
       "version_major": 2,
       "version_minor": 0
      },
      "text/plain": [
       "HBox(children=(IntProgress(value=0, max=6079), HTML(value='')))"
      ]
     },
     "metadata": {},
     "output_type": "display_data"
    },
    {
     "name": "stdout",
     "output_type": "stream",
     "text": [
      "\n"
     ]
    },
    {
     "data": {
      "application/vnd.jupyter.widget-view+json": {
       "model_id": "d56c78c4314e40829559a328e0980b7b",
       "version_major": 2,
       "version_minor": 0
      },
      "text/plain": [
       "HBox(children=(IntProgress(value=0, max=476), HTML(value='')))"
      ]
     },
     "metadata": {},
     "output_type": "display_data"
    },
    {
     "name": "stdout",
     "output_type": "stream",
     "text": [
      "\n"
     ]
    },
    {
     "data": {
      "application/vnd.jupyter.widget-view+json": {
       "model_id": "75d0c473161243a9939e498edeef617a",
       "version_major": 2,
       "version_minor": 0
      },
      "text/plain": [
       "HBox(children=(IntProgress(value=0, max=476), HTML(value='')))"
      ]
     },
     "metadata": {},
     "output_type": "display_data"
    },
    {
     "name": "stdout",
     "output_type": "stream",
     "text": [
      "\n",
      "CPU times: user 12.3 s, sys: 129 ms, total: 12.4 s\n",
      "Wall time: 12.7 s\n"
     ]
    }
   ],
   "source": [
    "%%time\n",
    "tokenizer = XLNetTokenizer.from_pretrained('xlnet-base-cased')\n",
    "seg_ids_train, ids_train = {}, {}\n",
    "seg_ids_test, ids_test = {}, {}\n",
    "max_seq_len = 512\n",
    "for mode, df in [('train', train), ('test', test)]:\n",
    "    for text, cols in [('question', ['question_title', 'question_body']), \n",
    "                       ('answer', ['question_title', 'answer'])]:\n",
    "        ids, seg_ids = [], []\n",
    "        for x1, x2 in tqdm(df[cols].values):\n",
    "            encoded_inputs = tokenizer.encode_plus(\n",
    "                x1, x2, add_special_tokens=True, max_length=max_seq_len, pad_to_max_length=True, \n",
    "                return_token_type_ids=True\n",
    "            )\n",
    "            ids.append(encoded_inputs['input_ids'])\n",
    "            seg_ids.append(encoded_inputs['token_type_ids'])\n",
    "        if mode == 'train': \n",
    "            ids_train[text] = np.array(ids)\n",
    "            seg_ids_train[text] = np.array(seg_ids)\n",
    "        else: \n",
    "            ids_test[text] = np.array(ids)\n",
    "            seg_ids_test[text] = np.array(seg_ids)"
   ]
  },
  {
   "cell_type": "code",
   "execution_count": 4,
   "metadata": {
    "code_folding": []
   },
   "outputs": [],
   "source": [
    "train_category, test_category, category_dict, category_dict_reverse = \\\n",
    "    get_categorical_features(train, test, 'category')"
   ]
  },
  {
   "cell_type": "code",
   "execution_count": 5,
   "metadata": {},
   "outputs": [
    {
     "name": "stderr",
     "output_type": "stream",
     "text": [
      "/home/robin/anaconda3/envs/GoogleQuest/lib/python3.7/site-packages/sklearn/preprocessing/_encoders.py:415: FutureWarning: The handling of integer data will change in version 0.22. Currently, the categories are determined based on the range [0, max(values)], while in the future they will be determined based on the unique values.\n",
      "If you want the future behaviour and silence this warning, you can specify \"categories='auto'\".\n",
      "In case you used a LabelEncoder before this OneHotEncoder to convert the categories to integers, then you can now use the OneHotEncoder directly.\n",
      "  warnings.warn(msg, FutureWarning)\n"
     ]
    }
   ],
   "source": [
    "cat_features_train = train_category.reshape(-1, 1)\n",
    "cat_features_test = test_category.reshape(-1, 1)\n",
    "ohe = OneHotEncoder()\n",
    "ohe.fit(cat_features_train)\n",
    "cat_features_train = ohe.transform(cat_features_train).toarray()\n",
    "cat_features_test = ohe.transform(cat_features_test).toarray()"
   ]
  },
  {
   "cell_type": "code",
   "execution_count": 6,
   "metadata": {},
   "outputs": [],
   "source": [
    "for col in TARGETS:\n",
    "    train[col] = train[col].rank(method=\"average\")\n",
    "train[TARGETS] = MinMaxScaler().fit_transform(train[TARGETS])\n",
    "y = train[TARGETS].values.astype(np.float32)\n",
    "ix = np.where(train.groupby(\"question_body\")[\"host\"].transform(\"count\") == 1)[0]"
   ]
  },
  {
   "cell_type": "code",
   "execution_count": 7,
   "metadata": {},
   "outputs": [],
   "source": [
    "num_workers = 10\n",
    "bs = 2"
   ]
  },
  {
   "cell_type": "markdown",
   "metadata": {},
   "source": [
    "## Training model"
   ]
  },
  {
   "cell_type": "code",
   "execution_count": 8,
   "metadata": {},
   "outputs": [],
   "source": [
    "device = 'cuda'\n",
    "pretrained_model = 'siamese_xlnet_1'\n",
    "head_model_name = 'siamese_xlnet_1_head'\n",
    "model_name = 'siamese_xlnet_1_comb'\n",
    "checkpoint_dir = 'checkpoints/'\n",
    "early_stopping = None\n",
    "n_folds = 10"
   ]
  },
  {
   "cell_type": "code",
   "execution_count": 9,
   "metadata": {},
   "outputs": [],
   "source": [
    "def load_model(checkpoint_file, model):\n",
    "    checkpoint = torch.load(checkpoint_file)\n",
    "    model.load_state_dict(checkpoint['model_state_dict'])\n",
    "    \n",
    "def get_pretrained_model(fold_id):\n",
    "    checkpoint_file = f'{checkpoint_dir}{pretrained_model}_fold_{fold_id+1}_best.pth'\n",
    "    model = CustomXLNet(256, cat_features_train.shape[1])\n",
    "    load_model(checkpoint_file, model)\n",
    "    return model\n",
    "\n",
    "def load_head(model, fold_id):\n",
    "    checkpoint_file = f'{checkpoint_dir}{head_model_name}_fold_{fold_id+1}_best.pth'\n",
    "    load_model(checkpoint_file, model.head)\n",
    "\n",
    "def save_model(model):\n",
    "    checkpoint_file = f'{checkpoint_dir}{model_name}_fold_{fold_id+1}_best.pth'\n",
    "    torch.save({'model_state_dict': model.state_dict()}, checkpoint_file)\n",
    "    \n",
    "def load_saved_model(model):\n",
    "    checkpoint_file = f'{checkpoint_dir}{model_name}_fold_{fold_id+1}_best.pth'\n",
    "    load_model(checkpoint_file, model)"
   ]
  },
  {
   "cell_type": "code",
   "execution_count": 10,
   "metadata": {
    "scrolled": true
   },
   "outputs": [
    {
     "name": "stdout",
     "output_type": "stream",
     "text": [
      "Fold 1 started at Sun Feb  2 17:03:29 2020\n"
     ]
    },
    {
     "data": {
      "application/vnd.jupyter.widget-view+json": {
       "model_id": "31877cf1b07c45969f038dbd1e039ca6",
       "version_major": 2,
       "version_minor": 0
      },
      "text/plain": [
       "HBox(children=(IntProgress(value=0, max=304), HTML(value='')))"
      ]
     },
     "metadata": {},
     "output_type": "display_data"
    },
    {
     "name": "stdout",
     "output_type": "stream",
     "text": [
      "\n",
      "Averaged Val. score: 0.42467129193439696\n",
      "Fold 2 started at Sun Feb  2 17:04:30 2020\n"
     ]
    },
    {
     "name": "stderr",
     "output_type": "stream",
     "text": [
      "/home/robin/anaconda3/envs/GoogleQuest/lib/python3.7/site-packages/numpy/lib/function_base.py:2534: RuntimeWarning: invalid value encountered in true_divide\n",
      "  c /= stddev[:, None]\n",
      "/home/robin/anaconda3/envs/GoogleQuest/lib/python3.7/site-packages/numpy/lib/function_base.py:2535: RuntimeWarning: invalid value encountered in true_divide\n",
      "  c /= stddev[None, :]\n",
      "/home/robin/anaconda3/envs/GoogleQuest/lib/python3.7/site-packages/scipy/stats/_distn_infrastructure.py:901: RuntimeWarning: invalid value encountered in greater\n",
      "  return (a < x) & (x < b)\n",
      "/home/robin/anaconda3/envs/GoogleQuest/lib/python3.7/site-packages/scipy/stats/_distn_infrastructure.py:901: RuntimeWarning: invalid value encountered in less\n",
      "  return (a < x) & (x < b)\n",
      "/home/robin/anaconda3/envs/GoogleQuest/lib/python3.7/site-packages/scipy/stats/_distn_infrastructure.py:1892: RuntimeWarning: invalid value encountered in less_equal\n",
      "  cond2 = cond0 & (x <= _a)\n"
     ]
    },
    {
     "data": {
      "application/vnd.jupyter.widget-view+json": {
       "model_id": "a85683f8ecc4411fbbaf3e67e018b543",
       "version_major": 2,
       "version_minor": 0
      },
      "text/plain": [
       "HBox(children=(IntProgress(value=0, max=304), HTML(value='')))"
      ]
     },
     "metadata": {},
     "output_type": "display_data"
    },
    {
     "name": "stdout",
     "output_type": "stream",
     "text": [
      "\n",
      "Averaged Val. score: 0.42613783512083825\n",
      "Fold 3 started at Sun Feb  2 17:05:28 2020\n"
     ]
    },
    {
     "data": {
      "application/vnd.jupyter.widget-view+json": {
       "model_id": "15e586a258064f8cbcda74af1ea90079",
       "version_major": 2,
       "version_minor": 0
      },
      "text/plain": [
       "HBox(children=(IntProgress(value=0, max=304), HTML(value='')))"
      ]
     },
     "metadata": {},
     "output_type": "display_data"
    },
    {
     "name": "stdout",
     "output_type": "stream",
     "text": [
      "\n",
      "Averaged Val. score: 0.41227403733594437\n",
      "Fold 4 started at Sun Feb  2 17:06:26 2020\n"
     ]
    },
    {
     "data": {
      "application/vnd.jupyter.widget-view+json": {
       "model_id": "4fded47b8ce54d98a31ed0f5a4b95f9f",
       "version_major": 2,
       "version_minor": 0
      },
      "text/plain": [
       "HBox(children=(IntProgress(value=0, max=304), HTML(value='')))"
      ]
     },
     "metadata": {},
     "output_type": "display_data"
    },
    {
     "name": "stdout",
     "output_type": "stream",
     "text": [
      "\n",
      "Averaged Val. score: 0.3996893122287206\n",
      "Fold 5 started at Sun Feb  2 17:07:26 2020\n"
     ]
    },
    {
     "data": {
      "application/vnd.jupyter.widget-view+json": {
       "model_id": "a6baf4bccdf347dbae9d9342482e92ae",
       "version_major": 2,
       "version_minor": 0
      },
      "text/plain": [
       "HBox(children=(IntProgress(value=0, max=304), HTML(value='')))"
      ]
     },
     "metadata": {},
     "output_type": "display_data"
    },
    {
     "name": "stdout",
     "output_type": "stream",
     "text": [
      "\n",
      "Averaged Val. score: 0.4078385888453709\n",
      "Fold 6 started at Sun Feb  2 17:08:23 2020\n"
     ]
    },
    {
     "data": {
      "application/vnd.jupyter.widget-view+json": {
       "model_id": "a896d5b712cf4ed28fc0377837818d52",
       "version_major": 2,
       "version_minor": 0
      },
      "text/plain": [
       "HBox(children=(IntProgress(value=0, max=304), HTML(value='')))"
      ]
     },
     "metadata": {},
     "output_type": "display_data"
    },
    {
     "name": "stdout",
     "output_type": "stream",
     "text": [
      "\n",
      "Averaged Val. score: 0.39916587395946473\n",
      "Fold 7 started at Sun Feb  2 17:09:21 2020\n"
     ]
    },
    {
     "data": {
      "application/vnd.jupyter.widget-view+json": {
       "model_id": "f4f94c9f38f94e1b9c022c735c132f41",
       "version_major": 2,
       "version_minor": 0
      },
      "text/plain": [
       "HBox(children=(IntProgress(value=0, max=304), HTML(value='')))"
      ]
     },
     "metadata": {},
     "output_type": "display_data"
    },
    {
     "name": "stdout",
     "output_type": "stream",
     "text": [
      "\n",
      "Averaged Val. score: 0.4157742315971419\n",
      "Fold 8 started at Sun Feb  2 17:10:19 2020\n"
     ]
    },
    {
     "data": {
      "application/vnd.jupyter.widget-view+json": {
       "model_id": "28936e739bd7474b9bbbe35fc5940b11",
       "version_major": 2,
       "version_minor": 0
      },
      "text/plain": [
       "HBox(children=(IntProgress(value=0, max=304), HTML(value='')))"
      ]
     },
     "metadata": {},
     "output_type": "display_data"
    },
    {
     "name": "stdout",
     "output_type": "stream",
     "text": [
      "\n",
      "Averaged Val. score: 0.4143046989983007\n",
      "Fold 9 started at Sun Feb  2 17:11:19 2020\n"
     ]
    },
    {
     "data": {
      "application/vnd.jupyter.widget-view+json": {
       "model_id": "827752d6b45e40ef9d46c8d0c92a627d",
       "version_major": 2,
       "version_minor": 0
      },
      "text/plain": [
       "HBox(children=(IntProgress(value=0, max=304), HTML(value='')))"
      ]
     },
     "metadata": {},
     "output_type": "display_data"
    },
    {
     "name": "stdout",
     "output_type": "stream",
     "text": [
      "\n",
      "Averaged Val. score: 0.41032981447383127\n",
      "Fold 10 started at Sun Feb  2 17:12:17 2020\n"
     ]
    },
    {
     "data": {
      "application/vnd.jupyter.widget-view+json": {
       "model_id": "838c2830b18f48e6a0337905031b0f3a",
       "version_major": 2,
       "version_minor": 0
      },
      "text/plain": [
       "HBox(children=(IntProgress(value=0, max=304), HTML(value='')))"
      ]
     },
     "metadata": {},
     "output_type": "display_data"
    },
    {
     "name": "stdout",
     "output_type": "stream",
     "text": [
      "\n",
      "Averaged Val. score: 0.42401789847203053\n",
      "OOF score: 0.41398949926739625\n"
     ]
    }
   ],
   "source": [
    "init_seed()\n",
    "folds = GroupKFold(n_splits=n_folds).split(X=train['question_body'], groups=train['question_body'])\n",
    "oofs = np.zeros((len(train), N_TARGETS))\n",
    "\n",
    "for fold_id, (train_index, valid_index) in enumerate(folds):\n",
    "    print(f'Fold {fold_id + 1} started at {time.ctime()}')\n",
    "    train_loader = DataLoader(\n",
    "        TextDataset(cat_features_train, ids_train['question'], ids_train['answer'],\n",
    "                    seg_ids_train['question'], seg_ids_train['answer'], train_index, targets=y), \n",
    "        batch_size=bs, shuffle=True, num_workers=num_workers, drop_last=False\n",
    "    )\n",
    "    valid_loader = DataLoader(\n",
    "        TextDataset(cat_features_train, ids_train['question'], ids_train['answer'],\n",
    "                    seg_ids_train['question'], seg_ids_train['answer'], valid_index, targets=y), \n",
    "        batch_size=bs, shuffle=False, num_workers=num_workers, drop_last=False\n",
    "    )\n",
    "    \n",
    "    model = get_pretrained_model(fold_id)\n",
    "    load_head(model, fold_id)\n",
    "    model.half()\n",
    "    save_model(model)\n",
    "    load_saved_model(model)\n",
    "    model.float()\n",
    "    \n",
    "    oofs[valid_index] = infer(model, valid_loader, None, device)\n",
    "    print(f'Averaged Val. score: {spearmanr_np(oofs[valid_index], y[valid_index])}')\n",
    "    \n",
    "    del model, train_loader, valid_loader\n",
    "    gc.collect()\n",
    "    \n",
    "print(f'OOF score: {spearmanr_np(oofs, y)}')"
   ]
  },
  {
   "cell_type": "code",
   "execution_count": 11,
   "metadata": {
    "scrolled": true
   },
   "outputs": [
    {
     "name": "stdout",
     "output_type": "stream",
     "text": [
      "2 4 0.4805757154057279\n",
      "5 4 0.463500051451823\n",
      "7 8 0.5088578718483528\n",
      "9 32 0.13216292111113287\n",
      "11 8 0.7564399697966301\n",
      "12 4 0.5451920474703457\n",
      "13 4 0.30928911304921525\n",
      "14 4 0.6230769918537882\n",
      "15 4 0.5990059708575122\n",
      "19 64 0.22463642966984484\n",
      "21 16 0.24624124261114633\n"
     ]
    }
   ],
   "source": [
    "opt_ds, opt_indices = optimize_rounding_params(oofs, y)"
   ]
  },
  {
   "cell_type": "code",
   "execution_count": 12,
   "metadata": {},
   "outputs": [
    {
     "data": {
      "text/plain": [
       "(array([ 4,  4,  8, 32,  8,  4,  4,  4,  4, 64, 16]),\n",
       " array([ 2,  5,  7,  9, 11, 12, 13, 14, 15, 19, 21]))"
      ]
     },
     "execution_count": 12,
     "metadata": {},
     "output_type": "execute_result"
    }
   ],
   "source": [
    "np.array(opt_ds), np.array(opt_indices)"
   ]
  },
  {
   "cell_type": "code",
   "execution_count": 13,
   "metadata": {
    "scrolled": false
   },
   "outputs": [],
   "source": [
    "oofs_alt = oofs.copy()\n",
    "train[\"eng\"] = train[\"url\"].apply(lambda x: x.startswith(\"http://english.\") or x.startswith(\"http://ell.\"))\n",
    "oofs_alt[np.where((~train[\"eng\"]).values)[0], 19] = 0"
   ]
  },
  {
   "cell_type": "code",
   "execution_count": 14,
   "metadata": {
    "scrolled": false
   },
   "outputs": [
    {
     "data": {
      "text/html": [
       "<div>\n",
       "<style scoped>\n",
       "    .dataframe tbody tr th:only-of-type {\n",
       "        vertical-align: middle;\n",
       "    }\n",
       "\n",
       "    .dataframe tbody tr th {\n",
       "        vertical-align: top;\n",
       "    }\n",
       "\n",
       "    .dataframe thead th {\n",
       "        text-align: right;\n",
       "    }\n",
       "</style>\n",
       "<table border=\"1\" class=\"dataframe\">\n",
       "  <thead>\n",
       "    <tr style=\"text-align: right;\">\n",
       "      <th></th>\n",
       "      <th>SpearmanR</th>\n",
       "    </tr>\n",
       "  </thead>\n",
       "  <tbody>\n",
       "    <tr>\n",
       "      <th>CV</th>\n",
       "      <td>0.413989</td>\n",
       "    </tr>\n",
       "    <tr>\n",
       "      <th>CV unique rows</th>\n",
       "      <td>0.376808</td>\n",
       "    </tr>\n",
       "    <tr>\n",
       "      <th>CV ignoring hard targets</th>\n",
       "      <td>0.437868</td>\n",
       "    </tr>\n",
       "    <tr>\n",
       "      <th>CV unique rows ignoring hard targets</th>\n",
       "      <td>0.398173</td>\n",
       "    </tr>\n",
       "    <tr>\n",
       "      <th>CV w rounding</th>\n",
       "      <td>0.448000</td>\n",
       "    </tr>\n",
       "    <tr>\n",
       "      <th>CV unique rows w rounding</th>\n",
       "      <td>0.421965</td>\n",
       "    </tr>\n",
       "    <tr>\n",
       "      <th>CV ignoring hard targets w rounding</th>\n",
       "      <td>0.467257</td>\n",
       "    </tr>\n",
       "    <tr>\n",
       "      <th>CV unique rows ignoring hard targets w rounding</th>\n",
       "      <td>0.436972</td>\n",
       "    </tr>\n",
       "  </tbody>\n",
       "</table>\n",
       "</div>"
      ],
      "text/plain": [
       "                                                 SpearmanR\n",
       "CV                                                0.413989\n",
       "CV unique rows                                    0.376808\n",
       "CV ignoring hard targets                          0.437868\n",
       "CV unique rows ignoring hard targets              0.398173\n",
       "CV w rounding                                     0.448000\n",
       "CV unique rows w rounding                         0.421965\n",
       "CV ignoring hard targets w rounding               0.467257\n",
       "CV unique rows ignoring hard targets w rounding   0.436972"
      ]
     },
     "execution_count": 14,
     "metadata": {},
     "output_type": "execute_result"
    }
   ],
   "source": [
    "get_cvs(oofs, y, ix)"
   ]
  },
  {
   "cell_type": "code",
   "execution_count": 15,
   "metadata": {
    "scrolled": false
   },
   "outputs": [
    {
     "data": {
      "text/html": [
       "<div>\n",
       "<style scoped>\n",
       "    .dataframe tbody tr th:only-of-type {\n",
       "        vertical-align: middle;\n",
       "    }\n",
       "\n",
       "    .dataframe tbody tr th {\n",
       "        vertical-align: top;\n",
       "    }\n",
       "\n",
       "    .dataframe thead th {\n",
       "        text-align: right;\n",
       "    }\n",
       "</style>\n",
       "<table border=\"1\" class=\"dataframe\">\n",
       "  <thead>\n",
       "    <tr style=\"text-align: right;\">\n",
       "      <th></th>\n",
       "      <th>SpearmanR</th>\n",
       "    </tr>\n",
       "  </thead>\n",
       "  <tbody>\n",
       "    <tr>\n",
       "      <th>CV</th>\n",
       "      <td>0.417944</td>\n",
       "    </tr>\n",
       "    <tr>\n",
       "      <th>CV unique rows</th>\n",
       "      <td>0.380868</td>\n",
       "    </tr>\n",
       "    <tr>\n",
       "      <th>CV ignoring hard targets</th>\n",
       "      <td>0.437868</td>\n",
       "    </tr>\n",
       "    <tr>\n",
       "      <th>CV unique rows ignoring hard targets</th>\n",
       "      <td>0.398173</td>\n",
       "    </tr>\n",
       "    <tr>\n",
       "      <th>CV w rounding</th>\n",
       "      <td>0.448830</td>\n",
       "    </tr>\n",
       "    <tr>\n",
       "      <th>CV unique rows w rounding</th>\n",
       "      <td>0.421965</td>\n",
       "    </tr>\n",
       "    <tr>\n",
       "      <th>CV ignoring hard targets w rounding</th>\n",
       "      <td>0.467257</td>\n",
       "    </tr>\n",
       "    <tr>\n",
       "      <th>CV unique rows ignoring hard targets w rounding</th>\n",
       "      <td>0.436972</td>\n",
       "    </tr>\n",
       "  </tbody>\n",
       "</table>\n",
       "</div>"
      ],
      "text/plain": [
       "                                                 SpearmanR\n",
       "CV                                                0.417944\n",
       "CV unique rows                                    0.380868\n",
       "CV ignoring hard targets                          0.437868\n",
       "CV unique rows ignoring hard targets              0.398173\n",
       "CV w rounding                                     0.448830\n",
       "CV unique rows w rounding                         0.421965\n",
       "CV ignoring hard targets w rounding               0.467257\n",
       "CV unique rows ignoring hard targets w rounding   0.436972"
      ]
     },
     "execution_count": 15,
     "metadata": {},
     "output_type": "execute_result"
    }
   ],
   "source": [
    "get_cvs(oofs_alt, y, ix)"
   ]
  },
  {
   "cell_type": "code",
   "execution_count": 16,
   "metadata": {},
   "outputs": [],
   "source": [
    "pd.DataFrame(oofs, columns=TARGETS).to_csv(f'oofs/{model_name}_oofs.csv')"
   ]
  },
  {
   "cell_type": "code",
   "execution_count": 17,
   "metadata": {},
   "outputs": [
    {
     "data": {
      "text/html": [
       "<div>\n",
       "<style scoped>\n",
       "    .dataframe tbody tr th:only-of-type {\n",
       "        vertical-align: middle;\n",
       "    }\n",
       "\n",
       "    .dataframe tbody tr th {\n",
       "        vertical-align: top;\n",
       "    }\n",
       "\n",
       "    .dataframe thead th {\n",
       "        text-align: right;\n",
       "    }\n",
       "</style>\n",
       "<table border=\"1\" class=\"dataframe\">\n",
       "  <thead>\n",
       "    <tr style=\"text-align: right;\">\n",
       "      <th></th>\n",
       "      <th>question_asker_intent_understanding</th>\n",
       "      <th>question_body_critical</th>\n",
       "      <th>question_conversational</th>\n",
       "      <th>question_expect_short_answer</th>\n",
       "      <th>question_fact_seeking</th>\n",
       "      <th>question_has_commonly_accepted_answer</th>\n",
       "      <th>question_interestingness_others</th>\n",
       "      <th>question_interestingness_self</th>\n",
       "      <th>question_multi_intent</th>\n",
       "      <th>question_not_really_a_question</th>\n",
       "      <th>question_opinion_seeking</th>\n",
       "      <th>question_type_choice</th>\n",
       "      <th>question_type_compare</th>\n",
       "      <th>question_type_consequence</th>\n",
       "      <th>question_type_definition</th>\n",
       "      <th>question_type_entity</th>\n",
       "      <th>question_type_instructions</th>\n",
       "      <th>question_type_procedure</th>\n",
       "      <th>question_type_reason_explanation</th>\n",
       "      <th>question_type_spelling</th>\n",
       "      <th>question_well_written</th>\n",
       "      <th>answer_helpful</th>\n",
       "      <th>answer_level_of_information</th>\n",
       "      <th>answer_plausible</th>\n",
       "      <th>answer_relevance</th>\n",
       "      <th>answer_satisfaction</th>\n",
       "      <th>answer_type_instructions</th>\n",
       "      <th>answer_type_procedure</th>\n",
       "      <th>answer_type_reason_explanation</th>\n",
       "      <th>answer_well_written</th>\n",
       "    </tr>\n",
       "  </thead>\n",
       "  <tbody>\n",
       "    <tr>\n",
       "      <th>0</th>\n",
       "      <td>0.822933</td>\n",
       "      <td>0.635381</td>\n",
       "      <td>0.325053</td>\n",
       "      <td>0.675632</td>\n",
       "      <td>0.466679</td>\n",
       "      <td>0.340159</td>\n",
       "      <td>0.652108</td>\n",
       "      <td>0.557256</td>\n",
       "      <td>0.075991</td>\n",
       "      <td>0.006959</td>\n",
       "      <td>0.680281</td>\n",
       "      <td>0.100777</td>\n",
       "      <td>0.241274</td>\n",
       "      <td>0.030341</td>\n",
       "      <td>0.009841</td>\n",
       "      <td>0.288096</td>\n",
       "      <td>0.145075</td>\n",
       "      <td>0.101709</td>\n",
       "      <td>0.472120</td>\n",
       "      <td>0.000942</td>\n",
       "      <td>0.774302</td>\n",
       "      <td>0.904171</td>\n",
       "      <td>0.562687</td>\n",
       "      <td>0.962505</td>\n",
       "      <td>0.956657</td>\n",
       "      <td>0.723187</td>\n",
       "      <td>0.184730</td>\n",
       "      <td>0.095440</td>\n",
       "      <td>0.797512</td>\n",
       "      <td>0.786723</td>\n",
       "    </tr>\n",
       "    <tr>\n",
       "      <th>1</th>\n",
       "      <td>0.829782</td>\n",
       "      <td>0.607702</td>\n",
       "      <td>0.045492</td>\n",
       "      <td>0.636003</td>\n",
       "      <td>0.920836</td>\n",
       "      <td>0.695209</td>\n",
       "      <td>0.606598</td>\n",
       "      <td>0.667967</td>\n",
       "      <td>0.372692</td>\n",
       "      <td>0.000835</td>\n",
       "      <td>0.262280</td>\n",
       "      <td>0.067185</td>\n",
       "      <td>0.743044</td>\n",
       "      <td>0.004364</td>\n",
       "      <td>0.745573</td>\n",
       "      <td>0.038911</td>\n",
       "      <td>0.085981</td>\n",
       "      <td>0.067641</td>\n",
       "      <td>0.473302</td>\n",
       "      <td>0.006428</td>\n",
       "      <td>0.758551</td>\n",
       "      <td>0.528017</td>\n",
       "      <td>0.280284</td>\n",
       "      <td>0.734528</td>\n",
       "      <td>0.777305</td>\n",
       "      <td>0.349777</td>\n",
       "      <td>0.026871</td>\n",
       "      <td>0.023037</td>\n",
       "      <td>0.455514</td>\n",
       "      <td>0.742892</td>\n",
       "    </tr>\n",
       "    <tr>\n",
       "      <th>2</th>\n",
       "      <td>0.618597</td>\n",
       "      <td>0.313556</td>\n",
       "      <td>0.007230</td>\n",
       "      <td>0.686728</td>\n",
       "      <td>0.736144</td>\n",
       "      <td>0.847997</td>\n",
       "      <td>0.461695</td>\n",
       "      <td>0.246745</td>\n",
       "      <td>0.124316</td>\n",
       "      <td>0.002027</td>\n",
       "      <td>0.419401</td>\n",
       "      <td>0.145505</td>\n",
       "      <td>0.003340</td>\n",
       "      <td>0.003130</td>\n",
       "      <td>0.001644</td>\n",
       "      <td>0.238346</td>\n",
       "      <td>0.728933</td>\n",
       "      <td>0.224330</td>\n",
       "      <td>0.169221</td>\n",
       "      <td>0.000082</td>\n",
       "      <td>0.547219</td>\n",
       "      <td>0.904457</td>\n",
       "      <td>0.648646</td>\n",
       "      <td>0.939859</td>\n",
       "      <td>0.919645</td>\n",
       "      <td>0.757459</td>\n",
       "      <td>0.662222</td>\n",
       "      <td>0.268065</td>\n",
       "      <td>0.569031</td>\n",
       "      <td>0.772413</td>\n",
       "    </tr>\n",
       "    <tr>\n",
       "      <th>3</th>\n",
       "      <td>0.832642</td>\n",
       "      <td>0.720184</td>\n",
       "      <td>0.062536</td>\n",
       "      <td>0.866209</td>\n",
       "      <td>0.892301</td>\n",
       "      <td>0.942631</td>\n",
       "      <td>0.546771</td>\n",
       "      <td>0.584924</td>\n",
       "      <td>0.329871</td>\n",
       "      <td>0.001004</td>\n",
       "      <td>0.130934</td>\n",
       "      <td>0.964111</td>\n",
       "      <td>0.019720</td>\n",
       "      <td>0.007254</td>\n",
       "      <td>0.114983</td>\n",
       "      <td>0.025791</td>\n",
       "      <td>0.032298</td>\n",
       "      <td>0.092152</td>\n",
       "      <td>0.430140</td>\n",
       "      <td>0.001760</td>\n",
       "      <td>0.772592</td>\n",
       "      <td>0.871355</td>\n",
       "      <td>0.706666</td>\n",
       "      <td>0.900012</td>\n",
       "      <td>0.920274</td>\n",
       "      <td>0.751031</td>\n",
       "      <td>0.023305</td>\n",
       "      <td>0.072053</td>\n",
       "      <td>0.841118</td>\n",
       "      <td>0.584669</td>\n",
       "    </tr>\n",
       "    <tr>\n",
       "      <th>4</th>\n",
       "      <td>0.780540</td>\n",
       "      <td>0.747321</td>\n",
       "      <td>0.001930</td>\n",
       "      <td>0.611868</td>\n",
       "      <td>0.820013</td>\n",
       "      <td>0.898422</td>\n",
       "      <td>0.413592</td>\n",
       "      <td>0.399618</td>\n",
       "      <td>0.220903</td>\n",
       "      <td>0.000378</td>\n",
       "      <td>0.336542</td>\n",
       "      <td>0.614871</td>\n",
       "      <td>0.000967</td>\n",
       "      <td>0.000332</td>\n",
       "      <td>0.000292</td>\n",
       "      <td>0.001947</td>\n",
       "      <td>0.910828</td>\n",
       "      <td>0.320043</td>\n",
       "      <td>0.083820</td>\n",
       "      <td>0.000010</td>\n",
       "      <td>0.778064</td>\n",
       "      <td>0.777336</td>\n",
       "      <td>0.403653</td>\n",
       "      <td>0.861954</td>\n",
       "      <td>0.845730</td>\n",
       "      <td>0.531118</td>\n",
       "      <td>0.905601</td>\n",
       "      <td>0.244271</td>\n",
       "      <td>0.046456</td>\n",
       "      <td>0.663537</td>\n",
       "    </tr>\n",
       "    <tr>\n",
       "      <th>...</th>\n",
       "      <td>...</td>\n",
       "      <td>...</td>\n",
       "      <td>...</td>\n",
       "      <td>...</td>\n",
       "      <td>...</td>\n",
       "      <td>...</td>\n",
       "      <td>...</td>\n",
       "      <td>...</td>\n",
       "      <td>...</td>\n",
       "      <td>...</td>\n",
       "      <td>...</td>\n",
       "      <td>...</td>\n",
       "      <td>...</td>\n",
       "      <td>...</td>\n",
       "      <td>...</td>\n",
       "      <td>...</td>\n",
       "      <td>...</td>\n",
       "      <td>...</td>\n",
       "      <td>...</td>\n",
       "      <td>...</td>\n",
       "      <td>...</td>\n",
       "      <td>...</td>\n",
       "      <td>...</td>\n",
       "      <td>...</td>\n",
       "      <td>...</td>\n",
       "      <td>...</td>\n",
       "      <td>...</td>\n",
       "      <td>...</td>\n",
       "      <td>...</td>\n",
       "      <td>...</td>\n",
       "    </tr>\n",
       "    <tr>\n",
       "      <th>6074</th>\n",
       "      <td>0.860152</td>\n",
       "      <td>0.489618</td>\n",
       "      <td>0.121414</td>\n",
       "      <td>0.783932</td>\n",
       "      <td>0.671265</td>\n",
       "      <td>0.776123</td>\n",
       "      <td>0.593214</td>\n",
       "      <td>0.630377</td>\n",
       "      <td>0.582856</td>\n",
       "      <td>0.003473</td>\n",
       "      <td>0.534595</td>\n",
       "      <td>0.950970</td>\n",
       "      <td>0.088136</td>\n",
       "      <td>0.475093</td>\n",
       "      <td>0.005740</td>\n",
       "      <td>0.078428</td>\n",
       "      <td>0.008934</td>\n",
       "      <td>0.036251</td>\n",
       "      <td>0.763994</td>\n",
       "      <td>0.004952</td>\n",
       "      <td>0.688356</td>\n",
       "      <td>0.924071</td>\n",
       "      <td>0.762696</td>\n",
       "      <td>0.937719</td>\n",
       "      <td>0.922783</td>\n",
       "      <td>0.760716</td>\n",
       "      <td>0.095459</td>\n",
       "      <td>0.145475</td>\n",
       "      <td>0.921572</td>\n",
       "      <td>0.718298</td>\n",
       "    </tr>\n",
       "    <tr>\n",
       "      <th>6075</th>\n",
       "      <td>0.881620</td>\n",
       "      <td>0.234716</td>\n",
       "      <td>0.092364</td>\n",
       "      <td>0.445075</td>\n",
       "      <td>0.490142</td>\n",
       "      <td>0.238959</td>\n",
       "      <td>0.773142</td>\n",
       "      <td>0.772624</td>\n",
       "      <td>0.039188</td>\n",
       "      <td>0.002111</td>\n",
       "      <td>0.698175</td>\n",
       "      <td>0.005193</td>\n",
       "      <td>0.005207</td>\n",
       "      <td>0.005547</td>\n",
       "      <td>0.000848</td>\n",
       "      <td>0.007433</td>\n",
       "      <td>0.792726</td>\n",
       "      <td>0.362128</td>\n",
       "      <td>0.180365</td>\n",
       "      <td>0.000036</td>\n",
       "      <td>0.733293</td>\n",
       "      <td>0.835378</td>\n",
       "      <td>0.536209</td>\n",
       "      <td>0.911663</td>\n",
       "      <td>0.926105</td>\n",
       "      <td>0.600150</td>\n",
       "      <td>0.870855</td>\n",
       "      <td>0.340762</td>\n",
       "      <td>0.236390</td>\n",
       "      <td>0.870200</td>\n",
       "    </tr>\n",
       "    <tr>\n",
       "      <th>6076</th>\n",
       "      <td>0.597486</td>\n",
       "      <td>0.393180</td>\n",
       "      <td>0.004287</td>\n",
       "      <td>0.688461</td>\n",
       "      <td>0.721065</td>\n",
       "      <td>0.922097</td>\n",
       "      <td>0.387686</td>\n",
       "      <td>0.262898</td>\n",
       "      <td>0.123063</td>\n",
       "      <td>0.003136</td>\n",
       "      <td>0.453030</td>\n",
       "      <td>0.622678</td>\n",
       "      <td>0.001035</td>\n",
       "      <td>0.000349</td>\n",
       "      <td>0.000401</td>\n",
       "      <td>0.003140</td>\n",
       "      <td>0.844270</td>\n",
       "      <td>0.344163</td>\n",
       "      <td>0.152432</td>\n",
       "      <td>0.000040</td>\n",
       "      <td>0.467676</td>\n",
       "      <td>0.562916</td>\n",
       "      <td>0.364233</td>\n",
       "      <td>0.786277</td>\n",
       "      <td>0.765965</td>\n",
       "      <td>0.342805</td>\n",
       "      <td>0.674273</td>\n",
       "      <td>0.204328</td>\n",
       "      <td>0.476589</td>\n",
       "      <td>0.443577</td>\n",
       "    </tr>\n",
       "    <tr>\n",
       "      <th>6077</th>\n",
       "      <td>0.875817</td>\n",
       "      <td>0.664933</td>\n",
       "      <td>0.845052</td>\n",
       "      <td>0.293157</td>\n",
       "      <td>0.172283</td>\n",
       "      <td>0.084579</td>\n",
       "      <td>0.620094</td>\n",
       "      <td>0.752506</td>\n",
       "      <td>0.576325</td>\n",
       "      <td>0.000347</td>\n",
       "      <td>0.952881</td>\n",
       "      <td>0.672309</td>\n",
       "      <td>0.072526</td>\n",
       "      <td>0.040115</td>\n",
       "      <td>0.000978</td>\n",
       "      <td>0.014278</td>\n",
       "      <td>0.012822</td>\n",
       "      <td>0.100825</td>\n",
       "      <td>0.655761</td>\n",
       "      <td>0.000009</td>\n",
       "      <td>0.899726</td>\n",
       "      <td>0.767283</td>\n",
       "      <td>0.643241</td>\n",
       "      <td>0.897510</td>\n",
       "      <td>0.908963</td>\n",
       "      <td>0.671184</td>\n",
       "      <td>0.015709</td>\n",
       "      <td>0.081304</td>\n",
       "      <td>0.835495</td>\n",
       "      <td>0.828410</td>\n",
       "    </tr>\n",
       "    <tr>\n",
       "      <th>6078</th>\n",
       "      <td>0.773233</td>\n",
       "      <td>0.555601</td>\n",
       "      <td>0.157337</td>\n",
       "      <td>0.292797</td>\n",
       "      <td>0.758113</td>\n",
       "      <td>0.460848</td>\n",
       "      <td>0.571312</td>\n",
       "      <td>0.539127</td>\n",
       "      <td>0.911649</td>\n",
       "      <td>0.000192</td>\n",
       "      <td>0.562800</td>\n",
       "      <td>0.199431</td>\n",
       "      <td>0.306848</td>\n",
       "      <td>0.017174</td>\n",
       "      <td>0.027391</td>\n",
       "      <td>0.064320</td>\n",
       "      <td>0.010435</td>\n",
       "      <td>0.013093</td>\n",
       "      <td>0.978787</td>\n",
       "      <td>0.000144</td>\n",
       "      <td>0.722311</td>\n",
       "      <td>0.805333</td>\n",
       "      <td>0.439820</td>\n",
       "      <td>0.863708</td>\n",
       "      <td>0.885649</td>\n",
       "      <td>0.483371</td>\n",
       "      <td>0.035134</td>\n",
       "      <td>0.023365</td>\n",
       "      <td>0.946762</td>\n",
       "      <td>0.714939</td>\n",
       "    </tr>\n",
       "  </tbody>\n",
       "</table>\n",
       "<p>6079 rows × 30 columns</p>\n",
       "</div>"
      ],
      "text/plain": [
       "      question_asker_intent_understanding  question_body_critical  \\\n",
       "0                                0.822933                0.635381   \n",
       "1                                0.829782                0.607702   \n",
       "2                                0.618597                0.313556   \n",
       "3                                0.832642                0.720184   \n",
       "4                                0.780540                0.747321   \n",
       "...                                   ...                     ...   \n",
       "6074                             0.860152                0.489618   \n",
       "6075                             0.881620                0.234716   \n",
       "6076                             0.597486                0.393180   \n",
       "6077                             0.875817                0.664933   \n",
       "6078                             0.773233                0.555601   \n",
       "\n",
       "      question_conversational  question_expect_short_answer  \\\n",
       "0                    0.325053                      0.675632   \n",
       "1                    0.045492                      0.636003   \n",
       "2                    0.007230                      0.686728   \n",
       "3                    0.062536                      0.866209   \n",
       "4                    0.001930                      0.611868   \n",
       "...                       ...                           ...   \n",
       "6074                 0.121414                      0.783932   \n",
       "6075                 0.092364                      0.445075   \n",
       "6076                 0.004287                      0.688461   \n",
       "6077                 0.845052                      0.293157   \n",
       "6078                 0.157337                      0.292797   \n",
       "\n",
       "      question_fact_seeking  question_has_commonly_accepted_answer  \\\n",
       "0                  0.466679                               0.340159   \n",
       "1                  0.920836                               0.695209   \n",
       "2                  0.736144                               0.847997   \n",
       "3                  0.892301                               0.942631   \n",
       "4                  0.820013                               0.898422   \n",
       "...                     ...                                    ...   \n",
       "6074               0.671265                               0.776123   \n",
       "6075               0.490142                               0.238959   \n",
       "6076               0.721065                               0.922097   \n",
       "6077               0.172283                               0.084579   \n",
       "6078               0.758113                               0.460848   \n",
       "\n",
       "      question_interestingness_others  question_interestingness_self  \\\n",
       "0                            0.652108                       0.557256   \n",
       "1                            0.606598                       0.667967   \n",
       "2                            0.461695                       0.246745   \n",
       "3                            0.546771                       0.584924   \n",
       "4                            0.413592                       0.399618   \n",
       "...                               ...                            ...   \n",
       "6074                         0.593214                       0.630377   \n",
       "6075                         0.773142                       0.772624   \n",
       "6076                         0.387686                       0.262898   \n",
       "6077                         0.620094                       0.752506   \n",
       "6078                         0.571312                       0.539127   \n",
       "\n",
       "      question_multi_intent  question_not_really_a_question  \\\n",
       "0                  0.075991                        0.006959   \n",
       "1                  0.372692                        0.000835   \n",
       "2                  0.124316                        0.002027   \n",
       "3                  0.329871                        0.001004   \n",
       "4                  0.220903                        0.000378   \n",
       "...                     ...                             ...   \n",
       "6074               0.582856                        0.003473   \n",
       "6075               0.039188                        0.002111   \n",
       "6076               0.123063                        0.003136   \n",
       "6077               0.576325                        0.000347   \n",
       "6078               0.911649                        0.000192   \n",
       "\n",
       "      question_opinion_seeking  question_type_choice  question_type_compare  \\\n",
       "0                     0.680281              0.100777               0.241274   \n",
       "1                     0.262280              0.067185               0.743044   \n",
       "2                     0.419401              0.145505               0.003340   \n",
       "3                     0.130934              0.964111               0.019720   \n",
       "4                     0.336542              0.614871               0.000967   \n",
       "...                        ...                   ...                    ...   \n",
       "6074                  0.534595              0.950970               0.088136   \n",
       "6075                  0.698175              0.005193               0.005207   \n",
       "6076                  0.453030              0.622678               0.001035   \n",
       "6077                  0.952881              0.672309               0.072526   \n",
       "6078                  0.562800              0.199431               0.306848   \n",
       "\n",
       "      question_type_consequence  question_type_definition  \\\n",
       "0                      0.030341                  0.009841   \n",
       "1                      0.004364                  0.745573   \n",
       "2                      0.003130                  0.001644   \n",
       "3                      0.007254                  0.114983   \n",
       "4                      0.000332                  0.000292   \n",
       "...                         ...                       ...   \n",
       "6074                   0.475093                  0.005740   \n",
       "6075                   0.005547                  0.000848   \n",
       "6076                   0.000349                  0.000401   \n",
       "6077                   0.040115                  0.000978   \n",
       "6078                   0.017174                  0.027391   \n",
       "\n",
       "      question_type_entity  question_type_instructions  \\\n",
       "0                 0.288096                    0.145075   \n",
       "1                 0.038911                    0.085981   \n",
       "2                 0.238346                    0.728933   \n",
       "3                 0.025791                    0.032298   \n",
       "4                 0.001947                    0.910828   \n",
       "...                    ...                         ...   \n",
       "6074              0.078428                    0.008934   \n",
       "6075              0.007433                    0.792726   \n",
       "6076              0.003140                    0.844270   \n",
       "6077              0.014278                    0.012822   \n",
       "6078              0.064320                    0.010435   \n",
       "\n",
       "      question_type_procedure  question_type_reason_explanation  \\\n",
       "0                    0.101709                          0.472120   \n",
       "1                    0.067641                          0.473302   \n",
       "2                    0.224330                          0.169221   \n",
       "3                    0.092152                          0.430140   \n",
       "4                    0.320043                          0.083820   \n",
       "...                       ...                               ...   \n",
       "6074                 0.036251                          0.763994   \n",
       "6075                 0.362128                          0.180365   \n",
       "6076                 0.344163                          0.152432   \n",
       "6077                 0.100825                          0.655761   \n",
       "6078                 0.013093                          0.978787   \n",
       "\n",
       "      question_type_spelling  question_well_written  answer_helpful  \\\n",
       "0                   0.000942               0.774302        0.904171   \n",
       "1                   0.006428               0.758551        0.528017   \n",
       "2                   0.000082               0.547219        0.904457   \n",
       "3                   0.001760               0.772592        0.871355   \n",
       "4                   0.000010               0.778064        0.777336   \n",
       "...                      ...                    ...             ...   \n",
       "6074                0.004952               0.688356        0.924071   \n",
       "6075                0.000036               0.733293        0.835378   \n",
       "6076                0.000040               0.467676        0.562916   \n",
       "6077                0.000009               0.899726        0.767283   \n",
       "6078                0.000144               0.722311        0.805333   \n",
       "\n",
       "      answer_level_of_information  answer_plausible  answer_relevance  \\\n",
       "0                        0.562687          0.962505          0.956657   \n",
       "1                        0.280284          0.734528          0.777305   \n",
       "2                        0.648646          0.939859          0.919645   \n",
       "3                        0.706666          0.900012          0.920274   \n",
       "4                        0.403653          0.861954          0.845730   \n",
       "...                           ...               ...               ...   \n",
       "6074                     0.762696          0.937719          0.922783   \n",
       "6075                     0.536209          0.911663          0.926105   \n",
       "6076                     0.364233          0.786277          0.765965   \n",
       "6077                     0.643241          0.897510          0.908963   \n",
       "6078                     0.439820          0.863708          0.885649   \n",
       "\n",
       "      answer_satisfaction  answer_type_instructions  answer_type_procedure  \\\n",
       "0                0.723187                  0.184730               0.095440   \n",
       "1                0.349777                  0.026871               0.023037   \n",
       "2                0.757459                  0.662222               0.268065   \n",
       "3                0.751031                  0.023305               0.072053   \n",
       "4                0.531118                  0.905601               0.244271   \n",
       "...                   ...                       ...                    ...   \n",
       "6074             0.760716                  0.095459               0.145475   \n",
       "6075             0.600150                  0.870855               0.340762   \n",
       "6076             0.342805                  0.674273               0.204328   \n",
       "6077             0.671184                  0.015709               0.081304   \n",
       "6078             0.483371                  0.035134               0.023365   \n",
       "\n",
       "      answer_type_reason_explanation  answer_well_written  \n",
       "0                           0.797512             0.786723  \n",
       "1                           0.455514             0.742892  \n",
       "2                           0.569031             0.772413  \n",
       "3                           0.841118             0.584669  \n",
       "4                           0.046456             0.663537  \n",
       "...                              ...                  ...  \n",
       "6074                        0.921572             0.718298  \n",
       "6075                        0.236390             0.870200  \n",
       "6076                        0.476589             0.443577  \n",
       "6077                        0.835495             0.828410  \n",
       "6078                        0.946762             0.714939  \n",
       "\n",
       "[6079 rows x 30 columns]"
      ]
     },
     "execution_count": 17,
     "metadata": {},
     "output_type": "execute_result"
    }
   ],
   "source": [
    "pd.DataFrame(oofs, columns=TARGETS)"
   ]
  },
  {
   "cell_type": "code",
   "execution_count": 18,
   "metadata": {},
   "outputs": [
    {
     "data": {
      "text/plain": [
       "question_asker_intent_understanding      0.391370\n",
       "question_body_critical                   0.621514\n",
       "question_conversational                  0.415317\n",
       "question_expect_short_answer             0.296397\n",
       "question_fact_seeking                    0.368204\n",
       "question_has_commonly_accepted_answer    0.426221\n",
       "question_interestingness_others          0.360524\n",
       "question_interestingness_self            0.505355\n",
       "question_multi_intent                    0.584892\n",
       "question_not_really_a_question           0.090687\n",
       "question_opinion_seeking                 0.479701\n",
       "question_type_choice                     0.743564\n",
       "question_type_compare                    0.366402\n",
       "question_type_consequence                0.188460\n",
       "question_type_definition                 0.362661\n",
       "question_type_entity                     0.457491\n",
       "question_type_instructions               0.781354\n",
       "question_type_procedure                  0.373763\n",
       "question_type_reason_explanation         0.669627\n",
       "question_type_spelling                   0.068704\n",
       "question_well_written                    0.517722\n",
       "answer_helpful                           0.243791\n",
       "answer_level_of_information              0.450012\n",
       "answer_plausible                         0.143726\n",
       "answer_relevance                         0.173922\n",
       "answer_satisfaction                      0.363516\n",
       "answer_type_instructions                 0.761529\n",
       "answer_type_procedure                    0.306917\n",
       "answer_type_reason_explanation           0.680885\n",
       "answer_well_written                      0.225458\n",
       "dtype: float64"
      ]
     },
     "execution_count": 18,
     "metadata": {},
     "output_type": "execute_result"
    }
   ],
   "source": [
    "rs = pd.Series({col: spearmanr(oofs[:,i], y[:,i])[0] for i, col in enumerate(TARGETS)})\n",
    "rs"
   ]
  },
  {
   "cell_type": "code",
   "execution_count": 19,
   "metadata": {},
   "outputs": [
    {
     "data": {
      "text/html": [
       "<div>\n",
       "<style scoped>\n",
       "    .dataframe tbody tr th:only-of-type {\n",
       "        vertical-align: middle;\n",
       "    }\n",
       "\n",
       "    .dataframe tbody tr th {\n",
       "        vertical-align: top;\n",
       "    }\n",
       "\n",
       "    .dataframe thead th {\n",
       "        text-align: right;\n",
       "    }\n",
       "</style>\n",
       "<table border=\"1\" class=\"dataframe\">\n",
       "  <thead>\n",
       "    <tr style=\"text-align: right;\">\n",
       "      <th></th>\n",
       "      <th>SpearmanCorr</th>\n",
       "      <th>NUnique</th>\n",
       "    </tr>\n",
       "  </thead>\n",
       "  <tbody>\n",
       "    <tr>\n",
       "      <th>question_type_spelling</th>\n",
       "      <td>0.068704</td>\n",
       "      <td>3.0</td>\n",
       "    </tr>\n",
       "    <tr>\n",
       "      <th>question_not_really_a_question</th>\n",
       "      <td>0.090687</td>\n",
       "      <td>5.0</td>\n",
       "    </tr>\n",
       "    <tr>\n",
       "      <th>answer_plausible</th>\n",
       "      <td>0.143726</td>\n",
       "      <td>9.0</td>\n",
       "    </tr>\n",
       "    <tr>\n",
       "      <th>answer_relevance</th>\n",
       "      <td>0.173922</td>\n",
       "      <td>9.0</td>\n",
       "    </tr>\n",
       "    <tr>\n",
       "      <th>question_type_consequence</th>\n",
       "      <td>0.188460</td>\n",
       "      <td>5.0</td>\n",
       "    </tr>\n",
       "    <tr>\n",
       "      <th>answer_well_written</th>\n",
       "      <td>0.225458</td>\n",
       "      <td>9.0</td>\n",
       "    </tr>\n",
       "    <tr>\n",
       "      <th>answer_helpful</th>\n",
       "      <td>0.243791</td>\n",
       "      <td>9.0</td>\n",
       "    </tr>\n",
       "    <tr>\n",
       "      <th>question_expect_short_answer</th>\n",
       "      <td>0.296397</td>\n",
       "      <td>5.0</td>\n",
       "    </tr>\n",
       "    <tr>\n",
       "      <th>answer_type_procedure</th>\n",
       "      <td>0.306917</td>\n",
       "      <td>5.0</td>\n",
       "    </tr>\n",
       "    <tr>\n",
       "      <th>question_interestingness_others</th>\n",
       "      <td>0.360524</td>\n",
       "      <td>9.0</td>\n",
       "    </tr>\n",
       "    <tr>\n",
       "      <th>question_type_definition</th>\n",
       "      <td>0.362661</td>\n",
       "      <td>5.0</td>\n",
       "    </tr>\n",
       "    <tr>\n",
       "      <th>answer_satisfaction</th>\n",
       "      <td>0.363516</td>\n",
       "      <td>17.0</td>\n",
       "    </tr>\n",
       "    <tr>\n",
       "      <th>question_type_compare</th>\n",
       "      <td>0.366402</td>\n",
       "      <td>5.0</td>\n",
       "    </tr>\n",
       "    <tr>\n",
       "      <th>question_fact_seeking</th>\n",
       "      <td>0.368204</td>\n",
       "      <td>5.0</td>\n",
       "    </tr>\n",
       "    <tr>\n",
       "      <th>question_type_procedure</th>\n",
       "      <td>0.373763</td>\n",
       "      <td>5.0</td>\n",
       "    </tr>\n",
       "    <tr>\n",
       "      <th>question_asker_intent_understanding</th>\n",
       "      <td>0.391370</td>\n",
       "      <td>9.0</td>\n",
       "    </tr>\n",
       "    <tr>\n",
       "      <th>question_conversational</th>\n",
       "      <td>0.415317</td>\n",
       "      <td>5.0</td>\n",
       "    </tr>\n",
       "    <tr>\n",
       "      <th>question_has_commonly_accepted_answer</th>\n",
       "      <td>0.426221</td>\n",
       "      <td>5.0</td>\n",
       "    </tr>\n",
       "    <tr>\n",
       "      <th>answer_level_of_information</th>\n",
       "      <td>0.450012</td>\n",
       "      <td>9.0</td>\n",
       "    </tr>\n",
       "    <tr>\n",
       "      <th>question_type_entity</th>\n",
       "      <td>0.457491</td>\n",
       "      <td>5.0</td>\n",
       "    </tr>\n",
       "    <tr>\n",
       "      <th>question_opinion_seeking</th>\n",
       "      <td>0.479701</td>\n",
       "      <td>5.0</td>\n",
       "    </tr>\n",
       "    <tr>\n",
       "      <th>question_interestingness_self</th>\n",
       "      <td>0.505355</td>\n",
       "      <td>9.0</td>\n",
       "    </tr>\n",
       "    <tr>\n",
       "      <th>question_well_written</th>\n",
       "      <td>0.517722</td>\n",
       "      <td>9.0</td>\n",
       "    </tr>\n",
       "    <tr>\n",
       "      <th>question_multi_intent</th>\n",
       "      <td>0.584892</td>\n",
       "      <td>5.0</td>\n",
       "    </tr>\n",
       "    <tr>\n",
       "      <th>question_body_critical</th>\n",
       "      <td>0.621514</td>\n",
       "      <td>9.0</td>\n",
       "    </tr>\n",
       "    <tr>\n",
       "      <th>question_type_reason_explanation</th>\n",
       "      <td>0.669627</td>\n",
       "      <td>5.0</td>\n",
       "    </tr>\n",
       "    <tr>\n",
       "      <th>answer_type_reason_explanation</th>\n",
       "      <td>0.680885</td>\n",
       "      <td>5.0</td>\n",
       "    </tr>\n",
       "    <tr>\n",
       "      <th>question_type_choice</th>\n",
       "      <td>0.743564</td>\n",
       "      <td>5.0</td>\n",
       "    </tr>\n",
       "    <tr>\n",
       "      <th>answer_type_instructions</th>\n",
       "      <td>0.761529</td>\n",
       "      <td>5.0</td>\n",
       "    </tr>\n",
       "    <tr>\n",
       "      <th>question_type_instructions</th>\n",
       "      <td>0.781354</td>\n",
       "      <td>5.0</td>\n",
       "    </tr>\n",
       "  </tbody>\n",
       "</table>\n",
       "</div>"
      ],
      "text/plain": [
       "                                       SpearmanCorr  NUnique\n",
       "question_type_spelling                     0.068704      3.0\n",
       "question_not_really_a_question             0.090687      5.0\n",
       "answer_plausible                           0.143726      9.0\n",
       "answer_relevance                           0.173922      9.0\n",
       "question_type_consequence                  0.188460      5.0\n",
       "answer_well_written                        0.225458      9.0\n",
       "answer_helpful                             0.243791      9.0\n",
       "question_expect_short_answer               0.296397      5.0\n",
       "answer_type_procedure                      0.306917      5.0\n",
       "question_interestingness_others            0.360524      9.0\n",
       "question_type_definition                   0.362661      5.0\n",
       "answer_satisfaction                        0.363516     17.0\n",
       "question_type_compare                      0.366402      5.0\n",
       "question_fact_seeking                      0.368204      5.0\n",
       "question_type_procedure                    0.373763      5.0\n",
       "question_asker_intent_understanding        0.391370      9.0\n",
       "question_conversational                    0.415317      5.0\n",
       "question_has_commonly_accepted_answer      0.426221      5.0\n",
       "answer_level_of_information                0.450012      9.0\n",
       "question_type_entity                       0.457491      5.0\n",
       "question_opinion_seeking                   0.479701      5.0\n",
       "question_interestingness_self              0.505355      9.0\n",
       "question_well_written                      0.517722      9.0\n",
       "question_multi_intent                      0.584892      5.0\n",
       "question_body_critical                     0.621514      9.0\n",
       "question_type_reason_explanation           0.669627      5.0\n",
       "answer_type_reason_explanation             0.680885      5.0\n",
       "question_type_choice                       0.743564      5.0\n",
       "answer_type_instructions                   0.761529      5.0\n",
       "question_type_instructions                 0.781354      5.0"
      ]
     },
     "execution_count": 19,
     "metadata": {},
     "output_type": "execute_result"
    }
   ],
   "source": [
    "rs_df = pd.DataFrame(np.vstack([rs.values.flatten(), train[TARGETS].nunique()]).T, \n",
    "                     columns=['SpearmanCorr', 'NUnique'], index=rs.index)\n",
    "rs_df.sort_values('SpearmanCorr', ascending=True)"
   ]
  },
  {
   "cell_type": "code",
   "execution_count": 20,
   "metadata": {},
   "outputs": [
    {
     "data": {
      "text/plain": [
       "Index(['question_type_spelling', 'question_not_really_a_question',\n",
       "       'answer_plausible', 'answer_relevance', 'question_type_consequence'],\n",
       "      dtype='object')"
      ]
     },
     "execution_count": 20,
     "metadata": {},
     "output_type": "execute_result"
    }
   ],
   "source": [
    "sorted_targets = rs_df.sort_values('SpearmanCorr', ascending=True).index\n",
    "worst_five_targets = sorted_targets[:5]\n",
    "worst_five_targets"
   ]
  },
  {
   "cell_type": "code",
   "execution_count": 21,
   "metadata": {
    "scrolled": true
   },
   "outputs": [
    {
     "data": {
      "image/png": "[encoded data removed]",
      "text/plain": [
       "<Figure size 432x288 with 1 Axes>"
      ]
     },
     "metadata": {
      "needs_background": "light"
     },
     "output_type": "display_data"
    },
    {
     "data": {
      "image/png": "[encoded data removed]",
      "text/plain": [
       "<Figure size 432x288 with 1 Axes>"
      ]
     },
     "metadata": {
      "needs_background": "light"
     },
     "output_type": "display_data"
    },
    {
     "data": {
      "image/png": "[encoded data removed]",
      "text/plain": [
       "<Figure size 432x288 with 1 Axes>"
      ]
     },
     "metadata": {
      "needs_background": "light"
     },
     "output_type": "display_data"
    },
    {
     "data": {
      "image/png": "[encoded data removed]",
      "text/plain": [
       "<Figure size 432x288 with 1 Axes>"
      ]
     },
     "metadata": {
      "needs_background": "light"
     },
     "output_type": "display_data"
    },
    {
     "data": {
      "image/png": "[encoded data removed]",
      "text/plain": [
       "<Figure size 432x288 with 1 Axes>"
      ]
     },
     "metadata": {
      "needs_background": "light"
     },
     "output_type": "display_data"
    }
   ],
   "source": [
    "for col in worst_five_targets:\n",
    "    plt.figure()\n",
    "    train[col].hist()\n",
    "    plt.title(f'{col} {np.round(rs[col],3)}')"
   ]
  },
  {
   "cell_type": "code",
   "execution_count": 22,
   "metadata": {},
   "outputs": [
    {
     "name": "stderr",
     "output_type": "stream",
     "text": [
      "/home/robin/anaconda3/envs/GoogleQuest/lib/python3.7/site-packages/ipykernel_launcher.py:2: RuntimeWarning: More than 20 figures have been opened. Figures created through the pyplot interface (`matplotlib.pyplot.figure`) are retained until explicitly closed and may consume too much memory. (To control this warning, see the rcParam `figure.max_open_warning`).\n",
      "  \n"
     ]
    },
    {
     "data": {
      "image/png": "[encoded data removed]",
      "text/plain": [
       "<Figure size 432x288 with 1 Axes>"
      ]
     },
     "metadata": {
      "needs_background": "light"
     },
     "output_type": "display_data"
    },
    {
     "data": {
      "image/png": "[encoded data removed]",
      "text/plain": [
       "<Figure size 432x288 with 1 Axes>"
      ]
     },
     "metadata": {
      "needs_background": "light"
     },
     "output_type": "display_data"
    },
    {
     "data": {
      "image/png": "[encoded data removed]",
      "text/plain": [
       "<Figure size 432x288 with 1 Axes>"
      ]
     },
     "metadata": {
      "needs_background": "light"
     },
     "output_type": "display_data"
    },
    {
     "data": {
      "image/png": "[encoded data removed]",
      "text/plain": [
       "<Figure size 432x288 with 1 Axes>"
      ]
     },
     "metadata": {
      "needs_background": "light"
     },
     "output_type": "display_data"
    },
    {
     "data": {
      "image/png": "[encoded data removed]",
      "text/plain": [
       "<Figure size 432x288 with 1 Axes>"
      ]
     },
     "metadata": {
      "needs_background": "light"
     },
     "output_type": "display_data"
    },
    {
     "data": {
      "image/png": "[encoded data removed]",
      "text/plain": [
       "<Figure size 432x288 with 1 Axes>"
      ]
     },
     "metadata": {
      "needs_background": "light"
     },
     "output_type": "display_data"
    },
    {
     "data": {
      "image/png": "[encoded data removed]",
      "text/plain": [
       "<Figure size 432x288 with 1 Axes>"
      ]
     },
     "metadata": {
      "needs_background": "light"
     },
     "output_type": "display_data"
    },
    {
     "data": {
      "image/png": "[encoded data removed]",
      "text/plain": [
       "<Figure size 432x288 with 1 Axes>"
      ]
     },
     "metadata": {
      "needs_background": "light"
     },
     "output_type": "display_data"
    },
    {
     "data": {
      "image/png": "[encoded data removed]",
      "text/plain": [
       "<Figure size 432x288 with 1 Axes>"
      ]
     },
     "metadata": {
      "needs_background": "light"
     },
     "output_type": "display_data"
    },
    {
     "data": {
      "image/png": "[encoded data removed]",
      "text/plain": [
       "<Figure size 432x288 with 1 Axes>"
      ]
     },
     "metadata": {
      "needs_background": "light"
     },
     "output_type": "display_data"
    },
    {
     "data": {
      "image/png": "[encoded data removed]",
      "text/plain": [
       "<Figure size 432x288 with 1 Axes>"
      ]
     },
     "metadata": {
      "needs_background": "light"
     },
     "output_type": "display_data"
    },
    {
     "data": {
      "image/png": "[encoded data removed]",
      "text/plain": [
       "<Figure size 432x288 with 1 Axes>"
      ]
     },
     "metadata": {
      "needs_background": "light"
     },
     "output_type": "display_data"
    },
    {
     "data": {
      "image/png": "[encoded data removed]",
      "text/plain": [
       "<Figure size 432x288 with 1 Axes>"
      ]
     },
     "metadata": {
      "needs_background": "light"
     },
     "output_type": "display_data"
    },
    {
     "data": {
      "image/png": "[encoded data removed]",
      "text/plain": [
       "<Figure size 432x288 with 1 Axes>"
      ]
     },
     "metadata": {
      "needs_background": "light"
     },
     "output_type": "display_data"
    },
    {
     "data": {
      "image/png": "[encoded data removed]",
      "text/plain": [
       "<Figure size 432x288 with 1 Axes>"
      ]
     },
     "metadata": {
      "needs_background": "light"
     },
     "output_type": "display_data"
    },
    {
     "data": {
      "image/png": "[encoded data removed]",
      "text/plain": [
       "<Figure size 432x288 with 1 Axes>"
      ]
     },
     "metadata": {
      "needs_background": "light"
     },
     "output_type": "display_data"
    },
    {
     "data": {
      "image/png": "[encoded data removed]",
      "text/plain": [
       "<Figure size 432x288 with 1 Axes>"
      ]
     },
     "metadata": {
      "needs_background": "light"
     },
     "output_type": "display_data"
    },
    {
     "data": {
      "image/png": "[encoded data removed]",
      "text/plain": [
       "<Figure size 432x288 with 1 Axes>"
      ]
     },
     "metadata": {
      "needs_background": "light"
     },
     "output_type": "display_data"
    },
    {
     "data": {
      "image/png": "[encoded data removed]",
      "text/plain": [
       "<Figure size 432x288 with 1 Axes>"
      ]
     },
     "metadata": {
      "needs_background": "light"
     },
     "output_type": "display_data"
    },
    {
     "data": {
      "image/png": "[encoded data removed]",
      "text/plain": [
       "<Figure size 432x288 with 1 Axes>"
      ]
     },
     "metadata": {
      "needs_background": "light"
     },
     "output_type": "display_data"
    },
    {
     "data": {
      "image/png": "[encoded data removed]",
      "text/plain": [
       "<Figure size 432x288 with 1 Axes>"
      ]
     },
     "metadata": {
      "needs_background": "light"
     },
     "output_type": "display_data"
    },
    {
     "data": {
      "image/png": "[encoded data removed]",
      "text/plain": [
       "<Figure size 432x288 with 1 Axes>"
      ]
     },
     "metadata": {
      "needs_background": "light"
     },
     "output_type": "display_data"
    },
    {
     "data": {
      "image/png": "[encoded data removed]",
      "text/plain": [
       "<Figure size 432x288 with 1 Axes>"
      ]
     },
     "metadata": {
      "needs_background": "light"
     },
     "output_type": "display_data"
    },
    {
     "data": {
      "image/png": "[encoded data removed]",
      "text/plain": [
       "<Figure size 432x288 with 1 Axes>"
      ]
     },
     "metadata": {
      "needs_background": "light"
     },
     "output_type": "display_data"
    },
    {
     "data": {
      "image/png": "[encoded data removed]",
      "text/plain": [
       "<Figure size 432x288 with 1 Axes>"
      ]
     },
     "metadata": {
      "needs_background": "light"
     },
     "output_type": "display_data"
    }
   ],
   "source": [
    "for col in [target for target in sorted_targets if target not in worst_five_targets]:\n",
    "    plt.figure()\n",
    "    train[col].hist()\n",
    "    plt.title(f'{col} {np.round(rs[col],3)}')"
   ]
  },
  {
   "cell_type": "code",
   "execution_count": null,
   "metadata": {},
   "outputs": [],
   "source": []
  },
  {
   "cell_type": "code",
   "execution_count": null,
   "metadata": {},
   "outputs": [],
   "source": []
  }
 ],
 "metadata": {
  "kernelspec": {
   "display_name": "Python 3",
   "language": "python",
   "name": "python3"
  },
  "language_info": {
   "codemirror_mode": {
    "name": "ipython",
    "version": 3
   },
   "file_extension": ".py",
   "mimetype": "text/x-python",
   "name": "python",
   "nbconvert_exporter": "python",
   "pygments_lexer": "ipython3",
   "version": "3.7.5"
  }
 },
 "nbformat": 4,
 "nbformat_minor": 1
}
