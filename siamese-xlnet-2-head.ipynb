{
 "cells": [
  {
   "cell_type": "markdown",
   "metadata": {},
   "source": [
    "## Importing libraries"
   ]
  },
  {
   "cell_type": "code",
   "execution_count": 1,
   "metadata": {
    "_kg_hide-input": true
   },
   "outputs": [],
   "source": [
    "import numpy as np\n",
    "import pandas as pd\n",
    "import matplotlib.pyplot as plt\n",
    "import seaborn as sns\n",
    "import time\n",
    "import datetime\n",
    "import re\n",
    "import gc\n",
    "import copy\n",
    "\n",
    "from scipy.stats import spearmanr\n",
    "from sklearn.model_selection import KFold, GroupKFold\n",
    "from sklearn.preprocessing import OneHotEncoder, MinMaxScaler\n",
    "\n",
    "import torch\n",
    "import torch.nn as nn\n",
    "import torch.optim as optim\n",
    "import torch.nn.functional as F\n",
    "from torch.utils.data import DataLoader\n",
    "\n",
    "from tqdm import tqdm_notebook as tqdm\n",
    "import transformers\n",
    "\n",
    "from radam import RAdam\n",
    "from text_data import BertDataset\n",
    "from xlnet import CustomXLNet\n",
    "from learning import Learner\n",
    "from lr_finder import LRFinder\n",
    "from create_features import get_categorical_features\n",
    "from losses_metrics import spearmanr_torch, spearmanr_np, optimize_rounding_params, get_cvs, spearmanr\n",
    "from inference import infer\n",
    "from common import *\n",
    "from utils.helpers import init_logger, init_seed\n",
    "from utils.torch import to_cpu\n",
    "\n",
    "%matplotlib inline\n",
    "pd.set_option('max_colwidth',400)"
   ]
  },
  {
   "cell_type": "markdown",
   "metadata": {},
   "source": [
    "## Loading and preparing data"
   ]
  },
  {
   "cell_type": "code",
   "execution_count": 2,
   "metadata": {
    "_cell_guid": "b1076dfc-b9ad-4769-8c92-a6c4dae69d19",
    "_uuid": "8f2839f25d086af736a60e9eeb907d3b93b6e0e5"
   },
   "outputs": [],
   "source": [
    "pd.set_option('max_rows', 500)\n",
    "pd.set_option('max_columns', 500)\n",
    "path = 'data/'\n",
    "sample_submission = pd.read_csv(f'{path}sample_submission.csv')\n",
    "test = pd.read_csv(f'{path}test.csv').fillna(' ')\n",
    "train = pd.read_csv(f'{path}train.csv').fillna(' ')"
   ]
  },
  {
   "cell_type": "code",
   "execution_count": 3,
   "metadata": {
    "code_folding": []
   },
   "outputs": [],
   "source": [
    "train_category, test_category, category_dict, category_dict_reverse = \\\n",
    "    get_categorical_features(train, test, 'category')"
   ]
  },
  {
   "cell_type": "code",
   "execution_count": 4,
   "metadata": {},
   "outputs": [
    {
     "name": "stderr",
     "output_type": "stream",
     "text": [
      "/home/robin/anaconda3/envs/GoogleQuest/lib/python3.7/site-packages/sklearn/preprocessing/_encoders.py:415: FutureWarning: The handling of integer data will change in version 0.22. Currently, the categories are determined based on the range [0, max(values)], while in the future they will be determined based on the unique values.\n",
      "If you want the future behaviour and silence this warning, you can specify \"categories='auto'\".\n",
      "In case you used a LabelEncoder before this OneHotEncoder to convert the categories to integers, then you can now use the OneHotEncoder directly.\n",
      "  warnings.warn(msg, FutureWarning)\n"
     ]
    }
   ],
   "source": [
    "cat_features_train = train_category.reshape(-1, 1)\n",
    "cat_features_test = test_category.reshape(-1, 1)\n",
    "ohe = OneHotEncoder()\n",
    "ohe.fit(cat_features_train)\n",
    "cat_features_train = ohe.transform(cat_features_train).toarray()\n",
    "cat_features_test = ohe.transform(cat_features_test).toarray()"
   ]
  },
  {
   "cell_type": "code",
   "execution_count": 5,
   "metadata": {},
   "outputs": [],
   "source": [
    "for col in TARGETS:\n",
    "    train[col] = train[col].rank(method=\"average\")\n",
    "train[TARGETS] = MinMaxScaler().fit_transform(train[TARGETS])\n",
    "y = train[TARGETS].values.astype(np.float32)\n",
    "ix = np.where(train.groupby(\"question_body\")[\"host\"].transform(\"count\") == 1)[0]"
   ]
  },
  {
   "cell_type": "code",
   "execution_count": 6,
   "metadata": {},
   "outputs": [],
   "source": [
    "num_workers = 10\n",
    "bs = 2"
   ]
  },
  {
   "cell_type": "markdown",
   "metadata": {},
   "source": [
    "## Training model"
   ]
  },
  {
   "cell_type": "code",
   "execution_count": 7,
   "metadata": {},
   "outputs": [],
   "source": [
    "lr = 1e-5\n",
    "device = 'cuda'\n",
    "n_epochs = 5\n",
    "grad_accum = 1\n",
    "weight_decay = 0.1\n",
    "model_output_dir = 'xlnet_2_output/'\n",
    "pretrained_model = 'siamese_xlnet_2'\n",
    "model_name = 'siamese_xlnet_2_head'\n",
    "checkpoint_dir = 'checkpoints/'\n",
    "early_stopping = None\n",
    "n_folds = 10\n",
    "loss_fn = nn.BCEWithLogitsLoss()"
   ]
  },
  {
   "cell_type": "code",
   "execution_count": 8,
   "metadata": {},
   "outputs": [],
   "source": [
    "def get_optimizer_param_groups(model, lr, weight_decay):\n",
    "    no_decay = ['bias', 'LayerNorm.weight']\n",
    "    optimizer_grouped_parameters = [\n",
    "        {'params': [p for n, p in model.named_parameters() if not any(nd in n for nd in no_decay)], \n",
    "         'weight_decay': weight_decay, 'lr': lr},\n",
    "        {'params': [p for n, p in model.named_parameters() if any(nd in n for nd in no_decay)], \n",
    "         'weight_decay': 0.0, 'lr': lr}\n",
    "    ]\n",
    "    return optimizer_grouped_parameters\n",
    "\n",
    "def get_optimizer(model, lr, weight_decay):\n",
    "    return transformers.AdamW(get_optimizer_param_groups(model, lr, weight_decay))\n",
    "\n",
    "def get_model(fold_id):\n",
    "    checkpoint_file = f'{checkpoint_dir}{pretrained_model}_fold_{fold_id+1}_best.pth'\n",
    "    model = CustomXLNet(256, cat_features_train.shape[1], head_dropout=0.5)\n",
    "    checkpoint = torch.load(checkpoint_file)\n",
    "    model.load_state_dict(checkpoint['model_state_dict'])\n",
    "    return model.head"
   ]
  },
  {
   "cell_type": "code",
   "execution_count": 9,
   "metadata": {
    "scrolled": true
   },
   "outputs": [
    {
     "name": "stdout",
     "output_type": "stream",
     "text": [
      "Fold 1 started at Tue Feb  4 22:39:45 2020\n"
     ]
    },
    {
     "data": {
      "application/vnd.jupyter.widget-view+json": {
       "model_id": "eaf4afb201454ecc9ecd5a2849328378",
       "version_major": 2,
       "version_minor": 0
      },
      "text/plain": [
       "HBox(children=(IntProgress(value=0), HTML(value='')))"
      ]
     },
     "metadata": {},
     "output_type": "display_data"
    },
    {
     "name": "stdout",
     "output_type": "stream",
     "text": [
      "\n"
     ]
    },
    {
     "data": {
      "image/png": "[encoded data removed]",
      "text/plain": [
       "<Figure size 432x288 with 1 Axes>"
      ]
     },
     "metadata": {
      "needs_background": "light"
     },
     "output_type": "display_data"
    },
    {
     "name": "stdout",
     "output_type": "stream",
     "text": [
      "epoch -1: \t Start validation...\n"
     ]
    },
    {
     "data": {
      "application/vnd.jupyter.widget-view+json": {
       "model_id": "736f5ffa01864a689c17c63fb0c5c953",
       "version_major": 2,
       "version_minor": 0
      },
      "text/plain": [
       "HBox(children=(IntProgress(value=0, max=304), HTML(value='')))"
      ]
     },
     "metadata": {},
     "output_type": "display_data"
    },
    {
     "name": "stdout",
     "output_type": "stream",
     "text": [
      "\n",
      "epoch -1/5 \t valid : loss 0.45122 - spearmanr 0.4206\n",
      "best model: epoch -1 - 0.4206\n",
      "epoch 0: \t Start training...\n"
     ]
    },
    {
     "name": "stderr",
     "output_type": "stream",
     "text": [
      "/home/robin/anaconda3/envs/GoogleQuest/lib/python3.7/site-packages/numpy/lib/function_base.py:2534: RuntimeWarning: invalid value encountered in true_divide\n",
      "  c /= stddev[:, None]\n",
      "/home/robin/anaconda3/envs/GoogleQuest/lib/python3.7/site-packages/numpy/lib/function_base.py:2535: RuntimeWarning: invalid value encountered in true_divide\n",
      "  c /= stddev[None, :]\n",
      "/home/robin/anaconda3/envs/GoogleQuest/lib/python3.7/site-packages/scipy/stats/_distn_infrastructure.py:901: RuntimeWarning: invalid value encountered in greater\n",
      "  return (a < x) & (x < b)\n",
      "/home/robin/anaconda3/envs/GoogleQuest/lib/python3.7/site-packages/scipy/stats/_distn_infrastructure.py:901: RuntimeWarning: invalid value encountered in less\n",
      "  return (a < x) & (x < b)\n",
      "/home/robin/anaconda3/envs/GoogleQuest/lib/python3.7/site-packages/scipy/stats/_distn_infrastructure.py:1892: RuntimeWarning: invalid value encountered in less_equal\n",
      "  cond2 = cond0 & (x <= _a)\n"
     ]
    },
    {
     "data": {
      "application/vnd.jupyter.widget-view+json": {
       "model_id": "7f432fbfc10b42be8f9ff5e9e1745472",
       "version_major": 2,
       "version_minor": 0
      },
      "text/plain": [
       "HBox(children=(IntProgress(value=0, max=2736), HTML(value='')))"
      ]
     },
     "metadata": {},
     "output_type": "display_data"
    },
    {
     "name": "stdout",
     "output_type": "stream",
     "text": [
      "\n",
      "epoch 0/5 \t train : loss 0.42018 - spearmanr 0.49177\n",
      "epoch 0: \t Start validation...\n"
     ]
    },
    {
     "data": {
      "application/vnd.jupyter.widget-view+json": {
       "model_id": "d5d3dd635d71420a8e0665d5071e93f1",
       "version_major": 2,
       "version_minor": 0
      },
      "text/plain": [
       "HBox(children=(IntProgress(value=0, max=304), HTML(value='')))"
      ]
     },
     "metadata": {},
     "output_type": "display_data"
    },
    {
     "name": "stdout",
     "output_type": "stream",
     "text": [
      "\n",
      "epoch 0/5 \t valid : loss 0.44922 - spearmanr 0.42088\n",
      "best model: epoch 0 - 0.42088\n",
      "epoch 1: \t Start training...\n"
     ]
    },
    {
     "data": {
      "application/vnd.jupyter.widget-view+json": {
       "model_id": "d30e3840dfb8485dbda69ebc9cf0a671",
       "version_major": 2,
       "version_minor": 0
      },
      "text/plain": [
       "HBox(children=(IntProgress(value=0, max=2736), HTML(value='')))"
      ]
     },
     "metadata": {},
     "output_type": "display_data"
    },
    {
     "name": "stdout",
     "output_type": "stream",
     "text": [
      "\n",
      "epoch 1/5 \t train : loss 0.41864 - spearmanr 0.49477\n",
      "epoch 1: \t Start validation...\n"
     ]
    },
    {
     "data": {
      "application/vnd.jupyter.widget-view+json": {
       "model_id": "968ebceeae904b59b18461d05571c99b",
       "version_major": 2,
       "version_minor": 0
      },
      "text/plain": [
       "HBox(children=(IntProgress(value=0, max=304), HTML(value='')))"
      ]
     },
     "metadata": {},
     "output_type": "display_data"
    },
    {
     "name": "stdout",
     "output_type": "stream",
     "text": [
      "\n",
      "epoch 1/5 \t valid : loss 0.44904 - spearmanr 0.42133\n",
      "best model: epoch 1 - 0.42133\n",
      "epoch 2: \t Start training...\n"
     ]
    },
    {
     "data": {
      "application/vnd.jupyter.widget-view+json": {
       "model_id": "b3d6b6f2b7be4e3cb93e5af5aa98b4e6",
       "version_major": 2,
       "version_minor": 0
      },
      "text/plain": [
       "HBox(children=(IntProgress(value=0, max=2736), HTML(value='')))"
      ]
     },
     "metadata": {},
     "output_type": "display_data"
    },
    {
     "name": "stdout",
     "output_type": "stream",
     "text": [
      "\n",
      "epoch 2/5 \t train : loss 0.41809 - spearmanr 0.49577\n",
      "epoch 2: \t Start validation...\n"
     ]
    },
    {
     "data": {
      "application/vnd.jupyter.widget-view+json": {
       "model_id": "977d79bff1cf43fdb42b40f2afe57ae1",
       "version_major": 2,
       "version_minor": 0
      },
      "text/plain": [
       "HBox(children=(IntProgress(value=0, max=304), HTML(value='')))"
      ]
     },
     "metadata": {},
     "output_type": "display_data"
    },
    {
     "name": "stdout",
     "output_type": "stream",
     "text": [
      "\n",
      "epoch 2/5 \t valid : loss 0.44886 - spearmanr 0.42166\n",
      "best model: epoch 2 - 0.42166\n",
      "epoch 3: \t Start training...\n"
     ]
    },
    {
     "data": {
      "application/vnd.jupyter.widget-view+json": {
       "model_id": "a9e2d7413af24f5a9e58e33a1deea573",
       "version_major": 2,
       "version_minor": 0
      },
      "text/plain": [
       "HBox(children=(IntProgress(value=0, max=2736), HTML(value='')))"
      ]
     },
     "metadata": {},
     "output_type": "display_data"
    },
    {
     "name": "stdout",
     "output_type": "stream",
     "text": [
      "\n",
      "epoch 3/5 \t train : loss 0.41718 - spearmanr 0.49846\n",
      "epoch 3: \t Start validation...\n"
     ]
    },
    {
     "data": {
      "application/vnd.jupyter.widget-view+json": {
       "model_id": "67a2acd671754aeeb3162bfc71a3120b",
       "version_major": 2,
       "version_minor": 0
      },
      "text/plain": [
       "HBox(children=(IntProgress(value=0, max=304), HTML(value='')))"
      ]
     },
     "metadata": {},
     "output_type": "display_data"
    },
    {
     "name": "stdout",
     "output_type": "stream",
     "text": [
      "\n",
      "epoch 3/5 \t valid : loss 0.44909 - spearmanr 0.42171\n",
      "best model: epoch 3 - 0.42171\n",
      "epoch 4: \t Start training...\n"
     ]
    },
    {
     "data": {
      "application/vnd.jupyter.widget-view+json": {
       "model_id": "6e54ae6a683f461296e8cfdb8ac57f37",
       "version_major": 2,
       "version_minor": 0
      },
      "text/plain": [
       "HBox(children=(IntProgress(value=0, max=2736), HTML(value='')))"
      ]
     },
     "metadata": {},
     "output_type": "display_data"
    },
    {
     "name": "stdout",
     "output_type": "stream",
     "text": [
      "\n",
      "epoch 4/5 \t train : loss 0.41635 - spearmanr 0.50032\n",
      "epoch 4: \t Start validation...\n"
     ]
    },
    {
     "data": {
      "application/vnd.jupyter.widget-view+json": {
       "model_id": "e5cba9fef9bb471d9be6f7e88df7e613",
       "version_major": 2,
       "version_minor": 0
      },
      "text/plain": [
       "HBox(children=(IntProgress(value=0, max=304), HTML(value='')))"
      ]
     },
     "metadata": {},
     "output_type": "display_data"
    },
    {
     "name": "stdout",
     "output_type": "stream",
     "text": [
      "\n",
      "epoch 4/5 \t valid : loss 0.44903 - spearmanr 0.42191\n",
      "best model: epoch 4 - 0.42191\n",
      "TRAINING END: Best score achieved on epoch 4 - 0.42191\n",
      "Starting inference for model: checkpoints/siamese_xlnet_2_head_fold_1_best.pth\n"
     ]
    },
    {
     "data": {
      "application/vnd.jupyter.widget-view+json": {
       "model_id": "812288f86a734118809fa754de450aeb",
       "version_major": 2,
       "version_minor": 0
      },
      "text/plain": [
       "HBox(children=(IntProgress(value=0, max=304), HTML(value='')))"
      ]
     },
     "metadata": {},
     "output_type": "display_data"
    },
    {
     "name": "stdout",
     "output_type": "stream",
     "text": [
      "\n",
      "Fold 2 started at Tue Feb  4 22:41:51 2020\n",
      "epoch -1: \t Start validation...\n"
     ]
    },
    {
     "data": {
      "application/vnd.jupyter.widget-view+json": {
       "model_id": "2d03a398a4344fd78a59a73587c3cad0",
       "version_major": 2,
       "version_minor": 0
      },
      "text/plain": [
       "HBox(children=(IntProgress(value=0, max=304), HTML(value='')))"
      ]
     },
     "metadata": {},
     "output_type": "display_data"
    },
    {
     "name": "stdout",
     "output_type": "stream",
     "text": [
      "\n",
      "epoch -1/5 \t valid : loss 0.45233 - spearmanr 0.42783\n",
      "best model: epoch -1 - 0.42783\n",
      "epoch 0: \t Start training...\n"
     ]
    },
    {
     "data": {
      "application/vnd.jupyter.widget-view+json": {
       "model_id": "1e58d0861e9a43e58b6309421a3d95c4",
       "version_major": 2,
       "version_minor": 0
      },
      "text/plain": [
       "HBox(children=(IntProgress(value=0, max=2736), HTML(value='')))"
      ]
     },
     "metadata": {},
     "output_type": "display_data"
    },
    {
     "name": "stdout",
     "output_type": "stream",
     "text": [
      "\n",
      "epoch 0/5 \t train : loss 0.41984 - spearmanr 0.49043\n",
      "epoch 0: \t Start validation...\n"
     ]
    },
    {
     "data": {
      "application/vnd.jupyter.widget-view+json": {
       "model_id": "ca3739084edd4036a6a3ffcbe558297e",
       "version_major": 2,
       "version_minor": 0
      },
      "text/plain": [
       "HBox(children=(IntProgress(value=0, max=304), HTML(value='')))"
      ]
     },
     "metadata": {},
     "output_type": "display_data"
    },
    {
     "name": "stdout",
     "output_type": "stream",
     "text": [
      "\n",
      "epoch 0/5 \t valid : loss 0.44971 - spearmanr 0.42851\n",
      "best model: epoch 0 - 0.42851\n",
      "epoch 1: \t Start training...\n"
     ]
    },
    {
     "data": {
      "application/vnd.jupyter.widget-view+json": {
       "model_id": "95106729f4624de08f51d0427d5c563e",
       "version_major": 2,
       "version_minor": 0
      },
      "text/plain": [
       "HBox(children=(IntProgress(value=0, max=2736), HTML(value='')))"
      ]
     },
     "metadata": {},
     "output_type": "display_data"
    },
    {
     "name": "stdout",
     "output_type": "stream",
     "text": [
      "\n",
      "epoch 1/5 \t train : loss 0.41878 - spearmanr 0.4913\n",
      "epoch 1: \t Start validation...\n"
     ]
    },
    {
     "data": {
      "application/vnd.jupyter.widget-view+json": {
       "model_id": "e24230c4c41b44b3b490822574361681",
       "version_major": 2,
       "version_minor": 0
      },
      "text/plain": [
       "HBox(children=(IntProgress(value=0, max=304), HTML(value='')))"
      ]
     },
     "metadata": {},
     "output_type": "display_data"
    },
    {
     "name": "stdout",
     "output_type": "stream",
     "text": [
      "\n",
      "epoch 1/5 \t valid : loss 0.44954 - spearmanr 0.42885\n",
      "best model: epoch 1 - 0.42885\n",
      "epoch 2: \t Start training...\n"
     ]
    },
    {
     "data": {
      "application/vnd.jupyter.widget-view+json": {
       "model_id": "b59d9dae5dd44ad4b20fc720d3f13a38",
       "version_major": 2,
       "version_minor": 0
      },
      "text/plain": [
       "HBox(children=(IntProgress(value=0, max=2736), HTML(value='')))"
      ]
     },
     "metadata": {},
     "output_type": "display_data"
    },
    {
     "name": "stdout",
     "output_type": "stream",
     "text": [
      "\n",
      "epoch 2/5 \t train : loss 0.41723 - spearmanr 0.4956\n",
      "epoch 2: \t Start validation...\n"
     ]
    },
    {
     "data": {
      "application/vnd.jupyter.widget-view+json": {
       "model_id": "5cabc30af7ee4d589f495636aa48d089",
       "version_major": 2,
       "version_minor": 0
      },
      "text/plain": [
       "HBox(children=(IntProgress(value=0, max=304), HTML(value='')))"
      ]
     },
     "metadata": {},
     "output_type": "display_data"
    },
    {
     "name": "stdout",
     "output_type": "stream",
     "text": [
      "\n",
      "epoch 2/5 \t valid : loss 0.44944 - spearmanr 0.42911\n",
      "best model: epoch 2 - 0.42911\n",
      "epoch 3: \t Start training...\n"
     ]
    },
    {
     "data": {
      "application/vnd.jupyter.widget-view+json": {
       "model_id": "dfb48b30758647558044cee633e92f55",
       "version_major": 2,
       "version_minor": 0
      },
      "text/plain": [
       "HBox(children=(IntProgress(value=0, max=2736), HTML(value='')))"
      ]
     },
     "metadata": {},
     "output_type": "display_data"
    },
    {
     "name": "stdout",
     "output_type": "stream",
     "text": [
      "\n",
      "epoch 3/5 \t train : loss 0.41757 - spearmanr 0.49533\n",
      "epoch 3: \t Start validation...\n"
     ]
    },
    {
     "data": {
      "application/vnd.jupyter.widget-view+json": {
       "model_id": "a463eab3d11f470e958bb7df244a8082",
       "version_major": 2,
       "version_minor": 0
      },
      "text/plain": [
       "HBox(children=(IntProgress(value=0, max=304), HTML(value='')))"
      ]
     },
     "metadata": {},
     "output_type": "display_data"
    },
    {
     "name": "stdout",
     "output_type": "stream",
     "text": [
      "\n",
      "epoch 3/5 \t valid : loss 0.44948 - spearmanr 0.42921\n",
      "best model: epoch 3 - 0.42921\n",
      "epoch 4: \t Start training...\n"
     ]
    },
    {
     "data": {
      "application/vnd.jupyter.widget-view+json": {
       "model_id": "7c2251ea622248aa98e187e5d08bca77",
       "version_major": 2,
       "version_minor": 0
      },
      "text/plain": [
       "HBox(children=(IntProgress(value=0, max=2736), HTML(value='')))"
      ]
     },
     "metadata": {},
     "output_type": "display_data"
    },
    {
     "name": "stdout",
     "output_type": "stream",
     "text": [
      "\n",
      "epoch 4/5 \t train : loss 0.41669 - spearmanr 0.49699\n",
      "epoch 4: \t Start validation...\n"
     ]
    },
    {
     "data": {
      "application/vnd.jupyter.widget-view+json": {
       "model_id": "a443fc58a64242219a8841e46fd94714",
       "version_major": 2,
       "version_minor": 0
      },
      "text/plain": [
       "HBox(children=(IntProgress(value=0, max=304), HTML(value='')))"
      ]
     },
     "metadata": {},
     "output_type": "display_data"
    },
    {
     "name": "stdout",
     "output_type": "stream",
     "text": [
      "\n",
      "epoch 4/5 \t valid : loss 0.44956 - spearmanr 0.42933\n",
      "best model: epoch 4 - 0.42933\n",
      "TRAINING END: Best score achieved on epoch 4 - 0.42933\n",
      "Starting inference for model: checkpoints/siamese_xlnet_2_head_fold_2_best.pth\n"
     ]
    },
    {
     "data": {
      "application/vnd.jupyter.widget-view+json": {
       "model_id": "283096c1dfb34253ba8fb1299d5a581d",
       "version_major": 2,
       "version_minor": 0
      },
      "text/plain": [
       "HBox(children=(IntProgress(value=0, max=304), HTML(value='')))"
      ]
     },
     "metadata": {},
     "output_type": "display_data"
    },
    {
     "name": "stdout",
     "output_type": "stream",
     "text": [
      "\n",
      "Fold 3 started at Tue Feb  4 22:43:52 2020\n",
      "epoch -1: \t Start validation...\n"
     ]
    },
    {
     "data": {
      "application/vnd.jupyter.widget-view+json": {
       "model_id": "b4978671a4be49c28750d31a513d0f3a",
       "version_major": 2,
       "version_minor": 0
      },
      "text/plain": [
       "HBox(children=(IntProgress(value=0, max=304), HTML(value='')))"
      ]
     },
     "metadata": {},
     "output_type": "display_data"
    },
    {
     "name": "stdout",
     "output_type": "stream",
     "text": [
      "\n",
      "epoch -1/5 \t valid : loss 0.45495 - spearmanr 0.41419\n",
      "best model: epoch -1 - 0.41419\n",
      "epoch 0: \t Start training...\n"
     ]
    },
    {
     "data": {
      "application/vnd.jupyter.widget-view+json": {
       "model_id": "3cd602d575184df2b1dafabb7cd6898e",
       "version_major": 2,
       "version_minor": 0
      },
      "text/plain": [
       "HBox(children=(IntProgress(value=0, max=2736), HTML(value='')))"
      ]
     },
     "metadata": {},
     "output_type": "display_data"
    },
    {
     "name": "stdout",
     "output_type": "stream",
     "text": [
      "\n",
      "epoch 0/5 \t train : loss 0.41868 - spearmanr 0.49442\n",
      "epoch 0: \t Start validation...\n"
     ]
    },
    {
     "data": {
      "application/vnd.jupyter.widget-view+json": {
       "model_id": "2a84ee84f34d4bdfbaa6106b243c2ef3",
       "version_major": 2,
       "version_minor": 0
      },
      "text/plain": [
       "HBox(children=(IntProgress(value=0, max=304), HTML(value='')))"
      ]
     },
     "metadata": {},
     "output_type": "display_data"
    },
    {
     "name": "stdout",
     "output_type": "stream",
     "text": [
      "\n",
      "epoch 0/5 \t valid : loss 0.45185 - spearmanr 0.41443\n",
      "best model: epoch 0 - 0.41443\n",
      "epoch 1: \t Start training...\n"
     ]
    },
    {
     "data": {
      "application/vnd.jupyter.widget-view+json": {
       "model_id": "16fd04e69f7a45ce86427e88f78f4c3a",
       "version_major": 2,
       "version_minor": 0
      },
      "text/plain": [
       "HBox(children=(IntProgress(value=0, max=2736), HTML(value='')))"
      ]
     },
     "metadata": {},
     "output_type": "display_data"
    },
    {
     "name": "stdout",
     "output_type": "stream",
     "text": [
      "\n",
      "epoch 1/5 \t train : loss 0.41737 - spearmanr 0.49698\n",
      "epoch 1: \t Start validation...\n"
     ]
    },
    {
     "data": {
      "application/vnd.jupyter.widget-view+json": {
       "model_id": "e535b152846f46198d2b9c8ccc451042",
       "version_major": 2,
       "version_minor": 0
      },
      "text/plain": [
       "HBox(children=(IntProgress(value=0, max=304), HTML(value='')))"
      ]
     },
     "metadata": {},
     "output_type": "display_data"
    },
    {
     "name": "stdout",
     "output_type": "stream",
     "text": [
      "\n",
      "epoch 1/5 \t valid : loss 0.45173 - spearmanr 0.41427\n",
      "model not improved for 1 epochs\n",
      "epoch 2: \t Start training...\n"
     ]
    },
    {
     "data": {
      "application/vnd.jupyter.widget-view+json": {
       "model_id": "37a64c9c85604dd0b5110860c2365791",
       "version_major": 2,
       "version_minor": 0
      },
      "text/plain": [
       "HBox(children=(IntProgress(value=0, max=2736), HTML(value='')))"
      ]
     },
     "metadata": {},
     "output_type": "display_data"
    },
    {
     "name": "stdout",
     "output_type": "stream",
     "text": [
      "\n",
      "epoch 2/5 \t train : loss 0.41673 - spearmanr 0.49866\n",
      "epoch 2: \t Start validation...\n"
     ]
    },
    {
     "data": {
      "application/vnd.jupyter.widget-view+json": {
       "model_id": "55420199a129442cb8e60adc82e44383",
       "version_major": 2,
       "version_minor": 0
      },
      "text/plain": [
       "HBox(children=(IntProgress(value=0, max=304), HTML(value='')))"
      ]
     },
     "metadata": {},
     "output_type": "display_data"
    },
    {
     "name": "stdout",
     "output_type": "stream",
     "text": [
      "\n",
      "epoch 2/5 \t valid : loss 0.45185 - spearmanr 0.41407\n",
      "model not improved for 2 epochs\n",
      "epoch 3: \t Start training...\n"
     ]
    },
    {
     "data": {
      "application/vnd.jupyter.widget-view+json": {
       "model_id": "5a3f7abd46874cdf8abb34ec1854bb49",
       "version_major": 2,
       "version_minor": 0
      },
      "text/plain": [
       "HBox(children=(IntProgress(value=0, max=2736), HTML(value='')))"
      ]
     },
     "metadata": {},
     "output_type": "display_data"
    },
    {
     "name": "stdout",
     "output_type": "stream",
     "text": [
      "\n",
      "epoch 3/5 \t train : loss 0.4162 - spearmanr 0.49989\n",
      "epoch 3: \t Start validation...\n"
     ]
    },
    {
     "data": {
      "application/vnd.jupyter.widget-view+json": {
       "model_id": "b4b49701bf94466f95b6a4d40eb26692",
       "version_major": 2,
       "version_minor": 0
      },
      "text/plain": [
       "HBox(children=(IntProgress(value=0, max=304), HTML(value='')))"
      ]
     },
     "metadata": {},
     "output_type": "display_data"
    },
    {
     "name": "stdout",
     "output_type": "stream",
     "text": [
      "\n",
      "epoch 3/5 \t valid : loss 0.45193 - spearmanr 0.41342\n",
      "model not improved for 3 epochs\n",
      "epoch 4: \t Start training...\n"
     ]
    },
    {
     "data": {
      "application/vnd.jupyter.widget-view+json": {
       "model_id": "4215e4138b6b4d9ba3ca03f0c977ecd3",
       "version_major": 2,
       "version_minor": 0
      },
      "text/plain": [
       "HBox(children=(IntProgress(value=0, max=2736), HTML(value='')))"
      ]
     },
     "metadata": {},
     "output_type": "display_data"
    },
    {
     "name": "stdout",
     "output_type": "stream",
     "text": [
      "\n",
      "epoch 4/5 \t train : loss 0.41554 - spearmanr 0.50167\n",
      "epoch 4: \t Start validation...\n"
     ]
    },
    {
     "data": {
      "application/vnd.jupyter.widget-view+json": {
       "model_id": "5905972658b14827a69af341f16285cd",
       "version_major": 2,
       "version_minor": 0
      },
      "text/plain": [
       "HBox(children=(IntProgress(value=0, max=304), HTML(value='')))"
      ]
     },
     "metadata": {},
     "output_type": "display_data"
    },
    {
     "name": "stdout",
     "output_type": "stream",
     "text": [
      "\n",
      "epoch 4/5 \t valid : loss 0.45207 - spearmanr 0.41347\n",
      "model not improved for 4 epochs\n",
      "TRAINING END: Best score achieved on epoch 0 - 0.41443\n",
      "Starting inference for model: checkpoints/siamese_xlnet_2_head_fold_3_best.pth\n"
     ]
    },
    {
     "data": {
      "application/vnd.jupyter.widget-view+json": {
       "model_id": "4e20b77e2d2f477eb6fb50b8e488def7",
       "version_major": 2,
       "version_minor": 0
      },
      "text/plain": [
       "HBox(children=(IntProgress(value=0, max=304), HTML(value='')))"
      ]
     },
     "metadata": {},
     "output_type": "display_data"
    },
    {
     "name": "stdout",
     "output_type": "stream",
     "text": [
      "\n",
      "Fold 4 started at Tue Feb  4 22:45:55 2020\n",
      "epoch -1: \t Start validation...\n"
     ]
    },
    {
     "data": {
      "application/vnd.jupyter.widget-view+json": {
       "model_id": "a76b7b9eef744919bc211e0df9ecba4f",
       "version_major": 2,
       "version_minor": 0
      },
      "text/plain": [
       "HBox(children=(IntProgress(value=0, max=304), HTML(value='')))"
      ]
     },
     "metadata": {},
     "output_type": "display_data"
    },
    {
     "name": "stdout",
     "output_type": "stream",
     "text": [
      "\n",
      "epoch -1/5 \t valid : loss 0.45302 - spearmanr 0.40542\n",
      "best model: epoch -1 - 0.40542\n",
      "epoch 0: \t Start training...\n"
     ]
    },
    {
     "data": {
      "application/vnd.jupyter.widget-view+json": {
       "model_id": "784f8d61f1a64f7aa77a5f3ec17a1271",
       "version_major": 2,
       "version_minor": 0
      },
      "text/plain": [
       "HBox(children=(IntProgress(value=0, max=2736), HTML(value='')))"
      ]
     },
     "metadata": {},
     "output_type": "display_data"
    },
    {
     "name": "stdout",
     "output_type": "stream",
     "text": [
      "\n",
      "epoch 0/5 \t train : loss 0.42119 - spearmanr 0.4882\n",
      "epoch 0: \t Start validation...\n"
     ]
    },
    {
     "data": {
      "application/vnd.jupyter.widget-view+json": {
       "model_id": "43a95f05a22d457fba3a98354324ea01",
       "version_major": 2,
       "version_minor": 0
      },
      "text/plain": [
       "HBox(children=(IntProgress(value=0, max=304), HTML(value='')))"
      ]
     },
     "metadata": {},
     "output_type": "display_data"
    },
    {
     "name": "stdout",
     "output_type": "stream",
     "text": [
      "\n",
      "epoch 0/5 \t valid : loss 0.45106 - spearmanr 0.40604\n",
      "best model: epoch 0 - 0.40604\n",
      "epoch 1: \t Start training...\n"
     ]
    },
    {
     "data": {
      "application/vnd.jupyter.widget-view+json": {
       "model_id": "a0ab407ca2ad48c4af20561c4f3c1e8a",
       "version_major": 2,
       "version_minor": 0
      },
      "text/plain": [
       "HBox(children=(IntProgress(value=0, max=2736), HTML(value='')))"
      ]
     },
     "metadata": {},
     "output_type": "display_data"
    },
    {
     "name": "stdout",
     "output_type": "stream",
     "text": [
      "\n",
      "epoch 1/5 \t train : loss 0.42021 - spearmanr 0.49044\n",
      "epoch 1: \t Start validation...\n"
     ]
    },
    {
     "data": {
      "application/vnd.jupyter.widget-view+json": {
       "model_id": "04dd53bd4af647579d54537fe6afd9d8",
       "version_major": 2,
       "version_minor": 0
      },
      "text/plain": [
       "HBox(children=(IntProgress(value=0, max=304), HTML(value='')))"
      ]
     },
     "metadata": {},
     "output_type": "display_data"
    },
    {
     "name": "stdout",
     "output_type": "stream",
     "text": [
      "\n",
      "epoch 1/5 \t valid : loss 0.45069 - spearmanr 0.40651\n",
      "best model: epoch 1 - 0.40651\n",
      "epoch 2: \t Start training...\n"
     ]
    },
    {
     "data": {
      "application/vnd.jupyter.widget-view+json": {
       "model_id": "c4e63f149fc74359b02676cf1b6f6ee7",
       "version_major": 2,
       "version_minor": 0
      },
      "text/plain": [
       "HBox(children=(IntProgress(value=0, max=2736), HTML(value='')))"
      ]
     },
     "metadata": {},
     "output_type": "display_data"
    },
    {
     "name": "stdout",
     "output_type": "stream",
     "text": [
      "\n",
      "epoch 2/5 \t train : loss 0.4195 - spearmanr 0.49136\n",
      "epoch 2: \t Start validation...\n"
     ]
    },
    {
     "data": {
      "application/vnd.jupyter.widget-view+json": {
       "model_id": "dc7a298c578f4dbe8e35b7856fbc2aa7",
       "version_major": 2,
       "version_minor": 0
      },
      "text/plain": [
       "HBox(children=(IntProgress(value=0, max=304), HTML(value='')))"
      ]
     },
     "metadata": {},
     "output_type": "display_data"
    },
    {
     "name": "stdout",
     "output_type": "stream",
     "text": [
      "\n",
      "epoch 2/5 \t valid : loss 0.45054 - spearmanr 0.4066\n",
      "best model: epoch 2 - 0.4066\n",
      "epoch 3: \t Start training...\n"
     ]
    },
    {
     "data": {
      "application/vnd.jupyter.widget-view+json": {
       "model_id": "76cd467282484d719a3344a4011ab3f1",
       "version_major": 2,
       "version_minor": 0
      },
      "text/plain": [
       "HBox(children=(IntProgress(value=0, max=2736), HTML(value='')))"
      ]
     },
     "metadata": {},
     "output_type": "display_data"
    },
    {
     "name": "stdout",
     "output_type": "stream",
     "text": [
      "\n",
      "epoch 3/5 \t train : loss 0.41816 - spearmanr 0.49583\n",
      "epoch 3: \t Start validation...\n"
     ]
    },
    {
     "data": {
      "application/vnd.jupyter.widget-view+json": {
       "model_id": "bf98cd78d8754171a8816e8d42f56f1b",
       "version_major": 2,
       "version_minor": 0
      },
      "text/plain": [
       "HBox(children=(IntProgress(value=0, max=304), HTML(value='')))"
      ]
     },
     "metadata": {},
     "output_type": "display_data"
    },
    {
     "name": "stdout",
     "output_type": "stream",
     "text": [
      "\n",
      "epoch 3/5 \t valid : loss 0.45063 - spearmanr 0.40636\n",
      "model not improved for 1 epochs\n",
      "epoch 4: \t Start training...\n"
     ]
    },
    {
     "data": {
      "application/vnd.jupyter.widget-view+json": {
       "model_id": "b2f826069baa487d8cd5568ef91be994",
       "version_major": 2,
       "version_minor": 0
      },
      "text/plain": [
       "HBox(children=(IntProgress(value=0, max=2736), HTML(value='')))"
      ]
     },
     "metadata": {},
     "output_type": "display_data"
    },
    {
     "name": "stdout",
     "output_type": "stream",
     "text": [
      "\n",
      "epoch 4/5 \t train : loss 0.41843 - spearmanr 0.49515\n",
      "epoch 4: \t Start validation...\n"
     ]
    },
    {
     "data": {
      "application/vnd.jupyter.widget-view+json": {
       "model_id": "e63716afea794d729d3d2155960375e0",
       "version_major": 2,
       "version_minor": 0
      },
      "text/plain": [
       "HBox(children=(IntProgress(value=0, max=304), HTML(value='')))"
      ]
     },
     "metadata": {},
     "output_type": "display_data"
    },
    {
     "name": "stdout",
     "output_type": "stream",
     "text": [
      "\n",
      "epoch 4/5 \t valid : loss 0.45073 - spearmanr 0.40622\n",
      "model not improved for 2 epochs\n",
      "TRAINING END: Best score achieved on epoch 2 - 0.40660\n",
      "Starting inference for model: checkpoints/siamese_xlnet_2_head_fold_4_best.pth\n"
     ]
    },
    {
     "data": {
      "application/vnd.jupyter.widget-view+json": {
       "model_id": "c26a7a261e0b4a77b99317f30b3bdbd3",
       "version_major": 2,
       "version_minor": 0
      },
      "text/plain": [
       "HBox(children=(IntProgress(value=0, max=304), HTML(value='')))"
      ]
     },
     "metadata": {},
     "output_type": "display_data"
    },
    {
     "name": "stdout",
     "output_type": "stream",
     "text": [
      "\n",
      "Fold 5 started at Tue Feb  4 22:47:59 2020\n",
      "epoch -1: \t Start validation...\n"
     ]
    },
    {
     "data": {
      "application/vnd.jupyter.widget-view+json": {
       "model_id": "a5669abc3b484e5dbb73c3f39d9fbb96",
       "version_major": 2,
       "version_minor": 0
      },
      "text/plain": [
       "HBox(children=(IntProgress(value=0, max=304), HTML(value='')))"
      ]
     },
     "metadata": {},
     "output_type": "display_data"
    },
    {
     "name": "stdout",
     "output_type": "stream",
     "text": [
      "\n",
      "epoch -1/5 \t valid : loss 0.45009 - spearmanr 0.40483\n",
      "best model: epoch -1 - 0.40483\n",
      "epoch 0: \t Start training...\n"
     ]
    },
    {
     "data": {
      "application/vnd.jupyter.widget-view+json": {
       "model_id": "9d8027ae4d61447a9e7a5232d6374200",
       "version_major": 2,
       "version_minor": 0
      },
      "text/plain": [
       "HBox(children=(IntProgress(value=0, max=2736), HTML(value='')))"
      ]
     },
     "metadata": {},
     "output_type": "display_data"
    },
    {
     "name": "stdout",
     "output_type": "stream",
     "text": [
      "\n",
      "epoch 0/5 \t train : loss 0.42523 - spearmanr 0.47954\n",
      "epoch 0: \t Start validation...\n"
     ]
    },
    {
     "data": {
      "application/vnd.jupyter.widget-view+json": {
       "model_id": "4dcda7db60b34a348ce6073e40effa30",
       "version_major": 2,
       "version_minor": 0
      },
      "text/plain": [
       "HBox(children=(IntProgress(value=0, max=304), HTML(value='')))"
      ]
     },
     "metadata": {},
     "output_type": "display_data"
    },
    {
     "name": "stdout",
     "output_type": "stream",
     "text": [
      "\n",
      "epoch 0/5 \t valid : loss 0.4481 - spearmanr 0.40636\n",
      "best model: epoch 0 - 0.40636\n",
      "epoch 1: \t Start training...\n"
     ]
    },
    {
     "data": {
      "application/vnd.jupyter.widget-view+json": {
       "model_id": "99a7fe7b724143fcb3ebc475500487eb",
       "version_major": 2,
       "version_minor": 0
      },
      "text/plain": [
       "HBox(children=(IntProgress(value=0, max=2736), HTML(value='')))"
      ]
     },
     "metadata": {},
     "output_type": "display_data"
    },
    {
     "name": "stdout",
     "output_type": "stream",
     "text": [
      "\n",
      "epoch 1/5 \t train : loss 0.4232 - spearmanr 0.48435\n",
      "epoch 1: \t Start validation...\n"
     ]
    },
    {
     "data": {
      "application/vnd.jupyter.widget-view+json": {
       "model_id": "d6e4b5f1b8bb4cd680b75842b9490203",
       "version_major": 2,
       "version_minor": 0
      },
      "text/plain": [
       "HBox(children=(IntProgress(value=0, max=304), HTML(value='')))"
      ]
     },
     "metadata": {},
     "output_type": "display_data"
    },
    {
     "name": "stdout",
     "output_type": "stream",
     "text": [
      "\n",
      "epoch 1/5 \t valid : loss 0.44818 - spearmanr 0.40665\n",
      "best model: epoch 1 - 0.40665\n",
      "epoch 2: \t Start training...\n"
     ]
    },
    {
     "data": {
      "application/vnd.jupyter.widget-view+json": {
       "model_id": "a4d890fbcdc1431a82e0ac4d40cdc66f",
       "version_major": 2,
       "version_minor": 0
      },
      "text/plain": [
       "HBox(children=(IntProgress(value=0, max=2736), HTML(value='')))"
      ]
     },
     "metadata": {},
     "output_type": "display_data"
    },
    {
     "name": "stdout",
     "output_type": "stream",
     "text": [
      "\n",
      "epoch 2/5 \t train : loss 0.42188 - spearmanr 0.48719\n",
      "epoch 2: \t Start validation...\n"
     ]
    },
    {
     "data": {
      "application/vnd.jupyter.widget-view+json": {
       "model_id": "6693b0aa64eb415ca9b4b34c6b258063",
       "version_major": 2,
       "version_minor": 0
      },
      "text/plain": [
       "HBox(children=(IntProgress(value=0, max=304), HTML(value='')))"
      ]
     },
     "metadata": {},
     "output_type": "display_data"
    },
    {
     "name": "stdout",
     "output_type": "stream",
     "text": [
      "\n",
      "epoch 2/5 \t valid : loss 0.44833 - spearmanr 0.40703\n",
      "best model: epoch 2 - 0.40703\n",
      "epoch 3: \t Start training...\n"
     ]
    },
    {
     "data": {
      "application/vnd.jupyter.widget-view+json": {
       "model_id": "82e69d76cb33440d9a313c4fe64f5756",
       "version_major": 2,
       "version_minor": 0
      },
      "text/plain": [
       "HBox(children=(IntProgress(value=0, max=2736), HTML(value='')))"
      ]
     },
     "metadata": {},
     "output_type": "display_data"
    },
    {
     "name": "stdout",
     "output_type": "stream",
     "text": [
      "\n",
      "epoch 3/5 \t train : loss 0.42123 - spearmanr 0.48838\n",
      "epoch 3: \t Start validation...\n"
     ]
    },
    {
     "data": {
      "application/vnd.jupyter.widget-view+json": {
       "model_id": "5eb496d383c845019837512fe2884f22",
       "version_major": 2,
       "version_minor": 0
      },
      "text/plain": [
       "HBox(children=(IntProgress(value=0, max=304), HTML(value='')))"
      ]
     },
     "metadata": {},
     "output_type": "display_data"
    },
    {
     "name": "stdout",
     "output_type": "stream",
     "text": [
      "\n",
      "epoch 3/5 \t valid : loss 0.44847 - spearmanr 0.40725\n",
      "best model: epoch 3 - 0.40725\n",
      "epoch 4: \t Start training...\n"
     ]
    },
    {
     "data": {
      "application/vnd.jupyter.widget-view+json": {
       "model_id": "0a29dc76f0aa445ea07fdf136069677c",
       "version_major": 2,
       "version_minor": 0
      },
      "text/plain": [
       "HBox(children=(IntProgress(value=0, max=2736), HTML(value='')))"
      ]
     },
     "metadata": {},
     "output_type": "display_data"
    },
    {
     "name": "stdout",
     "output_type": "stream",
     "text": [
      "\n",
      "epoch 4/5 \t train : loss 0.42065 - spearmanr 0.48997\n",
      "epoch 4: \t Start validation...\n"
     ]
    },
    {
     "data": {
      "application/vnd.jupyter.widget-view+json": {
       "model_id": "ec7a8ed918f44df78538ceeb35b551f8",
       "version_major": 2,
       "version_minor": 0
      },
      "text/plain": [
       "HBox(children=(IntProgress(value=0, max=304), HTML(value='')))"
      ]
     },
     "metadata": {},
     "output_type": "display_data"
    },
    {
     "name": "stdout",
     "output_type": "stream",
     "text": [
      "\n",
      "epoch 4/5 \t valid : loss 0.4485 - spearmanr 0.40696\n",
      "model not improved for 1 epochs\n",
      "TRAINING END: Best score achieved on epoch 3 - 0.40725\n",
      "Starting inference for model: checkpoints/siamese_xlnet_2_head_fold_5_best.pth\n"
     ]
    },
    {
     "data": {
      "application/vnd.jupyter.widget-view+json": {
       "model_id": "f25d35b6aaa0428f9548e637c66712eb",
       "version_major": 2,
       "version_minor": 0
      },
      "text/plain": [
       "HBox(children=(IntProgress(value=0, max=304), HTML(value='')))"
      ]
     },
     "metadata": {},
     "output_type": "display_data"
    },
    {
     "name": "stdout",
     "output_type": "stream",
     "text": [
      "\n",
      "Fold 6 started at Tue Feb  4 22:50:02 2020\n",
      "epoch -1: \t Start validation...\n"
     ]
    },
    {
     "data": {
      "application/vnd.jupyter.widget-view+json": {
       "model_id": "52bfaf686ea741efa691ed8171e24ecf",
       "version_major": 2,
       "version_minor": 0
      },
      "text/plain": [
       "HBox(children=(IntProgress(value=0, max=304), HTML(value='')))"
      ]
     },
     "metadata": {},
     "output_type": "display_data"
    },
    {
     "name": "stdout",
     "output_type": "stream",
     "text": [
      "\n",
      "epoch -1/5 \t valid : loss 0.44999 - spearmanr 0.3923\n",
      "best model: epoch -1 - 0.3923\n",
      "epoch 0: \t Start training...\n"
     ]
    },
    {
     "data": {
      "application/vnd.jupyter.widget-view+json": {
       "model_id": "cd98637576124e5490e2ac7ba9629a64",
       "version_major": 2,
       "version_minor": 0
      },
      "text/plain": [
       "HBox(children=(IntProgress(value=0, max=2736), HTML(value='')))"
      ]
     },
     "metadata": {},
     "output_type": "display_data"
    },
    {
     "name": "stdout",
     "output_type": "stream",
     "text": [
      "\n",
      "epoch 0/5 \t train : loss 0.42073 - spearmanr 0.49158\n",
      "epoch 0: \t Start validation...\n"
     ]
    },
    {
     "data": {
      "application/vnd.jupyter.widget-view+json": {
       "model_id": "d3e7f00508db42adb279ee0e31c9a293",
       "version_major": 2,
       "version_minor": 0
      },
      "text/plain": [
       "HBox(children=(IntProgress(value=0, max=304), HTML(value='')))"
      ]
     },
     "metadata": {},
     "output_type": "display_data"
    },
    {
     "name": "stdout",
     "output_type": "stream",
     "text": [
      "\n",
      "epoch 0/5 \t valid : loss 0.44854 - spearmanr 0.39322\n",
      "best model: epoch 0 - 0.39322\n",
      "epoch 1: \t Start training...\n"
     ]
    },
    {
     "data": {
      "application/vnd.jupyter.widget-view+json": {
       "model_id": "b0a58cecd4a147f7b1b0db620e8a38b0",
       "version_major": 2,
       "version_minor": 0
      },
      "text/plain": [
       "HBox(children=(IntProgress(value=0, max=2736), HTML(value='')))"
      ]
     },
     "metadata": {},
     "output_type": "display_data"
    },
    {
     "name": "stdout",
     "output_type": "stream",
     "text": [
      "\n",
      "epoch 1/5 \t train : loss 0.4189 - spearmanr 0.49654\n",
      "epoch 1: \t Start validation...\n"
     ]
    },
    {
     "data": {
      "application/vnd.jupyter.widget-view+json": {
       "model_id": "9c742814ab6c47649cd115ecb2fb7d6d",
       "version_major": 2,
       "version_minor": 0
      },
      "text/plain": [
       "HBox(children=(IntProgress(value=0, max=304), HTML(value='')))"
      ]
     },
     "metadata": {},
     "output_type": "display_data"
    },
    {
     "name": "stdout",
     "output_type": "stream",
     "text": [
      "\n",
      "epoch 1/5 \t valid : loss 0.44871 - spearmanr 0.39365\n",
      "best model: epoch 1 - 0.39365\n",
      "epoch 2: \t Start training...\n"
     ]
    },
    {
     "data": {
      "application/vnd.jupyter.widget-view+json": {
       "model_id": "931cd70d5fd24475887764bf58817e8c",
       "version_major": 2,
       "version_minor": 0
      },
      "text/plain": [
       "HBox(children=(IntProgress(value=0, max=2736), HTML(value='')))"
      ]
     },
     "metadata": {},
     "output_type": "display_data"
    },
    {
     "name": "stdout",
     "output_type": "stream",
     "text": [
      "\n",
      "epoch 2/5 \t train : loss 0.41871 - spearmanr 0.49711\n",
      "epoch 2: \t Start validation...\n"
     ]
    },
    {
     "data": {
      "application/vnd.jupyter.widget-view+json": {
       "model_id": "f6d666434d0941648110c765eb28c9c9",
       "version_major": 2,
       "version_minor": 0
      },
      "text/plain": [
       "HBox(children=(IntProgress(value=0, max=304), HTML(value='')))"
      ]
     },
     "metadata": {},
     "output_type": "display_data"
    },
    {
     "name": "stdout",
     "output_type": "stream",
     "text": [
      "\n",
      "epoch 2/5 \t valid : loss 0.44889 - spearmanr 0.39345\n",
      "model not improved for 1 epochs\n",
      "epoch 3: \t Start training...\n"
     ]
    },
    {
     "data": {
      "application/vnd.jupyter.widget-view+json": {
       "model_id": "d1c34f7065a941e187cf59242bf076c9",
       "version_major": 2,
       "version_minor": 0
      },
      "text/plain": [
       "HBox(children=(IntProgress(value=0, max=2736), HTML(value='')))"
      ]
     },
     "metadata": {},
     "output_type": "display_data"
    },
    {
     "name": "stdout",
     "output_type": "stream",
     "text": [
      "\n",
      "epoch 3/5 \t train : loss 0.41732 - spearmanr 0.5003\n",
      "epoch 3: \t Start validation...\n"
     ]
    },
    {
     "data": {
      "application/vnd.jupyter.widget-view+json": {
       "model_id": "92786548438e4080813144b0680e7ed9",
       "version_major": 2,
       "version_minor": 0
      },
      "text/plain": [
       "HBox(children=(IntProgress(value=0, max=304), HTML(value='')))"
      ]
     },
     "metadata": {},
     "output_type": "display_data"
    },
    {
     "name": "stdout",
     "output_type": "stream",
     "text": [
      "\n",
      "epoch 3/5 \t valid : loss 0.44922 - spearmanr 0.39328\n",
      "model not improved for 2 epochs\n",
      "epoch 4: \t Start training...\n"
     ]
    },
    {
     "data": {
      "application/vnd.jupyter.widget-view+json": {
       "model_id": "07fa806ed8aa44f9acec4f7bd908738c",
       "version_major": 2,
       "version_minor": 0
      },
      "text/plain": [
       "HBox(children=(IntProgress(value=0, max=2736), HTML(value='')))"
      ]
     },
     "metadata": {},
     "output_type": "display_data"
    },
    {
     "name": "stdout",
     "output_type": "stream",
     "text": [
      "\n",
      "epoch 4/5 \t train : loss 0.41666 - spearmanr 0.50104\n",
      "epoch 4: \t Start validation...\n"
     ]
    },
    {
     "data": {
      "application/vnd.jupyter.widget-view+json": {
       "model_id": "32bf40d6eb314e7c83c8724cc96e7dc1",
       "version_major": 2,
       "version_minor": 0
      },
      "text/plain": [
       "HBox(children=(IntProgress(value=0, max=304), HTML(value='')))"
      ]
     },
     "metadata": {},
     "output_type": "display_data"
    },
    {
     "name": "stdout",
     "output_type": "stream",
     "text": [
      "\n",
      "epoch 4/5 \t valid : loss 0.44932 - spearmanr 0.39299\n",
      "model not improved for 3 epochs\n",
      "TRAINING END: Best score achieved on epoch 1 - 0.39365\n",
      "Starting inference for model: checkpoints/siamese_xlnet_2_head_fold_6_best.pth\n"
     ]
    },
    {
     "data": {
      "application/vnd.jupyter.widget-view+json": {
       "model_id": "88980593dea3412d8f172ed4cf0ddee8",
       "version_major": 2,
       "version_minor": 0
      },
      "text/plain": [
       "HBox(children=(IntProgress(value=0, max=304), HTML(value='')))"
      ]
     },
     "metadata": {},
     "output_type": "display_data"
    },
    {
     "name": "stdout",
     "output_type": "stream",
     "text": [
      "\n",
      "Fold 7 started at Tue Feb  4 22:52:05 2020\n",
      "epoch -1: \t Start validation...\n"
     ]
    },
    {
     "data": {
      "application/vnd.jupyter.widget-view+json": {
       "model_id": "78c0b5d25ffc4d19933b5b6d4ed18846",
       "version_major": 2,
       "version_minor": 0
      },
      "text/plain": [
       "HBox(children=(IntProgress(value=0, max=304), HTML(value='')))"
      ]
     },
     "metadata": {},
     "output_type": "display_data"
    },
    {
     "name": "stdout",
     "output_type": "stream",
     "text": [
      "\n",
      "epoch -1/5 \t valid : loss 0.45554 - spearmanr 0.41855\n",
      "best model: epoch -1 - 0.41855\n",
      "epoch 0: \t Start training...\n"
     ]
    },
    {
     "data": {
      "application/vnd.jupyter.widget-view+json": {
       "model_id": "521c20ca21454706b5c2d33eff7e69f0",
       "version_major": 2,
       "version_minor": 0
      },
      "text/plain": [
       "HBox(children=(IntProgress(value=0, max=2736), HTML(value='')))"
      ]
     },
     "metadata": {},
     "output_type": "display_data"
    },
    {
     "name": "stdout",
     "output_type": "stream",
     "text": [
      "\n",
      "epoch 0/5 \t train : loss 0.42099 - spearmanr 0.48897\n",
      "epoch 0: \t Start validation...\n"
     ]
    },
    {
     "data": {
      "application/vnd.jupyter.widget-view+json": {
       "model_id": "1a51370cf5354579893b7ff7e73e3d6c",
       "version_major": 2,
       "version_minor": 0
      },
      "text/plain": [
       "HBox(children=(IntProgress(value=0, max=304), HTML(value='')))"
      ]
     },
     "metadata": {},
     "output_type": "display_data"
    },
    {
     "name": "stdout",
     "output_type": "stream",
     "text": [
      "\n",
      "epoch 0/5 \t valid : loss 0.45267 - spearmanr 0.41932\n",
      "best model: epoch 0 - 0.41932\n",
      "epoch 1: \t Start training...\n"
     ]
    },
    {
     "data": {
      "application/vnd.jupyter.widget-view+json": {
       "model_id": "f6e80ba6ce4241f89943ae15036c012d",
       "version_major": 2,
       "version_minor": 0
      },
      "text/plain": [
       "HBox(children=(IntProgress(value=0, max=2736), HTML(value='')))"
      ]
     },
     "metadata": {},
     "output_type": "display_data"
    },
    {
     "name": "stdout",
     "output_type": "stream",
     "text": [
      "\n",
      "epoch 1/5 \t train : loss 0.4196 - spearmanr 0.49201\n",
      "epoch 1: \t Start validation...\n"
     ]
    },
    {
     "data": {
      "application/vnd.jupyter.widget-view+json": {
       "model_id": "69222c2d9ea045979bbe4537645e7740",
       "version_major": 2,
       "version_minor": 0
      },
      "text/plain": [
       "HBox(children=(IntProgress(value=0, max=304), HTML(value='')))"
      ]
     },
     "metadata": {},
     "output_type": "display_data"
    },
    {
     "name": "stdout",
     "output_type": "stream",
     "text": [
      "\n",
      "epoch 1/5 \t valid : loss 0.45226 - spearmanr 0.41976\n",
      "best model: epoch 1 - 0.41976\n",
      "epoch 2: \t Start training...\n"
     ]
    },
    {
     "data": {
      "application/vnd.jupyter.widget-view+json": {
       "model_id": "80b7a5ac83b649a981aaf378cbecd41f",
       "version_major": 2,
       "version_minor": 0
      },
      "text/plain": [
       "HBox(children=(IntProgress(value=0, max=2736), HTML(value='')))"
      ]
     },
     "metadata": {},
     "output_type": "display_data"
    },
    {
     "name": "stdout",
     "output_type": "stream",
     "text": [
      "\n",
      "epoch 2/5 \t train : loss 0.41864 - spearmanr 0.49427\n",
      "epoch 2: \t Start validation...\n"
     ]
    },
    {
     "data": {
      "application/vnd.jupyter.widget-view+json": {
       "model_id": "3dea2daacd4c49a4898b1fb42c8b0afe",
       "version_major": 2,
       "version_minor": 0
      },
      "text/plain": [
       "HBox(children=(IntProgress(value=0, max=304), HTML(value='')))"
      ]
     },
     "metadata": {},
     "output_type": "display_data"
    },
    {
     "name": "stdout",
     "output_type": "stream",
     "text": [
      "\n",
      "epoch 2/5 \t valid : loss 0.45226 - spearmanr 0.42027\n",
      "best model: epoch 2 - 0.42027\n",
      "epoch 3: \t Start training...\n"
     ]
    },
    {
     "data": {
      "application/vnd.jupyter.widget-view+json": {
       "model_id": "127f133d40c140b59fecc26b39d8a160",
       "version_major": 2,
       "version_minor": 0
      },
      "text/plain": [
       "HBox(children=(IntProgress(value=0, max=2736), HTML(value='')))"
      ]
     },
     "metadata": {},
     "output_type": "display_data"
    },
    {
     "name": "stdout",
     "output_type": "stream",
     "text": [
      "\n",
      "epoch 3/5 \t train : loss 0.4179 - spearmanr 0.49685\n",
      "epoch 3: \t Start validation...\n"
     ]
    },
    {
     "data": {
      "application/vnd.jupyter.widget-view+json": {
       "model_id": "9c05aa81ae384c86a6320d5e21b5a09d",
       "version_major": 2,
       "version_minor": 0
      },
      "text/plain": [
       "HBox(children=(IntProgress(value=0, max=304), HTML(value='')))"
      ]
     },
     "metadata": {},
     "output_type": "display_data"
    },
    {
     "name": "stdout",
     "output_type": "stream",
     "text": [
      "\n",
      "epoch 3/5 \t valid : loss 0.45223 - spearmanr 0.42065\n",
      "best model: epoch 3 - 0.42065\n",
      "epoch 4: \t Start training...\n"
     ]
    },
    {
     "data": {
      "application/vnd.jupyter.widget-view+json": {
       "model_id": "e89d25f04e7846329172a539f6929ff4",
       "version_major": 2,
       "version_minor": 0
      },
      "text/plain": [
       "HBox(children=(IntProgress(value=0, max=2736), HTML(value='')))"
      ]
     },
     "metadata": {},
     "output_type": "display_data"
    },
    {
     "name": "stdout",
     "output_type": "stream",
     "text": [
      "\n",
      "epoch 4/5 \t train : loss 0.41762 - spearmanr 0.49588\n",
      "epoch 4: \t Start validation...\n"
     ]
    },
    {
     "data": {
      "application/vnd.jupyter.widget-view+json": {
       "model_id": "279ce2f101aa4da1a2661c89e7cdfb44",
       "version_major": 2,
       "version_minor": 0
      },
      "text/plain": [
       "HBox(children=(IntProgress(value=0, max=304), HTML(value='')))"
      ]
     },
     "metadata": {},
     "output_type": "display_data"
    },
    {
     "name": "stdout",
     "output_type": "stream",
     "text": [
      "\n",
      "epoch 4/5 \t valid : loss 0.45236 - spearmanr 0.42072\n",
      "best model: epoch 4 - 0.42072\n",
      "TRAINING END: Best score achieved on epoch 4 - 0.42072\n",
      "Starting inference for model: checkpoints/siamese_xlnet_2_head_fold_7_best.pth\n"
     ]
    },
    {
     "data": {
      "application/vnd.jupyter.widget-view+json": {
       "model_id": "c88f0142b40249a1ae13b27c42b195ad",
       "version_major": 2,
       "version_minor": 0
      },
      "text/plain": [
       "HBox(children=(IntProgress(value=0, max=304), HTML(value='')))"
      ]
     },
     "metadata": {},
     "output_type": "display_data"
    },
    {
     "name": "stdout",
     "output_type": "stream",
     "text": [
      "\n",
      "Fold 8 started at Tue Feb  4 22:54:05 2020\n",
      "epoch -1: \t Start validation...\n"
     ]
    },
    {
     "data": {
      "application/vnd.jupyter.widget-view+json": {
       "model_id": "4754692b2e3b4838a97b05dc2fd011d7",
       "version_major": 2,
       "version_minor": 0
      },
      "text/plain": [
       "HBox(children=(IntProgress(value=0, max=304), HTML(value='')))"
      ]
     },
     "metadata": {},
     "output_type": "display_data"
    },
    {
     "name": "stdout",
     "output_type": "stream",
     "text": [
      "\n",
      "epoch -1/5 \t valid : loss 0.46006 - spearmanr 0.41961\n",
      "best model: epoch -1 - 0.41961\n",
      "epoch 0: \t Start training...\n"
     ]
    },
    {
     "data": {
      "application/vnd.jupyter.widget-view+json": {
       "model_id": "c1978a85e60b4bd297577e274721646b",
       "version_major": 2,
       "version_minor": 0
      },
      "text/plain": [
       "HBox(children=(IntProgress(value=0, max=2736), HTML(value='')))"
      ]
     },
     "metadata": {},
     "output_type": "display_data"
    },
    {
     "name": "stdout",
     "output_type": "stream",
     "text": [
      "\n",
      "epoch 0/5 \t train : loss 0.41935 - spearmanr 0.49086\n",
      "epoch 0: \t Start validation...\n"
     ]
    },
    {
     "data": {
      "application/vnd.jupyter.widget-view+json": {
       "model_id": "f39948f081ea44d1917c3d34317e27cb",
       "version_major": 2,
       "version_minor": 0
      },
      "text/plain": [
       "HBox(children=(IntProgress(value=0, max=304), HTML(value='')))"
      ]
     },
     "metadata": {},
     "output_type": "display_data"
    },
    {
     "name": "stdout",
     "output_type": "stream",
     "text": [
      "\n",
      "epoch 0/5 \t valid : loss 0.45718 - spearmanr 0.42061\n",
      "best model: epoch 0 - 0.42061\n",
      "epoch 1: \t Start training...\n"
     ]
    },
    {
     "data": {
      "application/vnd.jupyter.widget-view+json": {
       "model_id": "44cdbfbe27bb4c38b80e308f4ff7300d",
       "version_major": 2,
       "version_minor": 0
      },
      "text/plain": [
       "HBox(children=(IntProgress(value=0, max=2736), HTML(value='')))"
      ]
     },
     "metadata": {},
     "output_type": "display_data"
    },
    {
     "name": "stdout",
     "output_type": "stream",
     "text": [
      "\n",
      "epoch 1/5 \t train : loss 0.41824 - spearmanr 0.49279\n",
      "epoch 1: \t Start validation...\n"
     ]
    },
    {
     "data": {
      "application/vnd.jupyter.widget-view+json": {
       "model_id": "d50903e710d04c6b9f3f215ec43b6b78",
       "version_major": 2,
       "version_minor": 0
      },
      "text/plain": [
       "HBox(children=(IntProgress(value=0, max=304), HTML(value='')))"
      ]
     },
     "metadata": {},
     "output_type": "display_data"
    },
    {
     "name": "stdout",
     "output_type": "stream",
     "text": [
      "\n",
      "epoch 1/5 \t valid : loss 0.45689 - spearmanr 0.42099\n",
      "best model: epoch 1 - 0.42099\n",
      "epoch 2: \t Start training...\n"
     ]
    },
    {
     "data": {
      "application/vnd.jupyter.widget-view+json": {
       "model_id": "bca284584b404eea9567b4ae6f3023f5",
       "version_major": 2,
       "version_minor": 0
      },
      "text/plain": [
       "HBox(children=(IntProgress(value=0, max=2736), HTML(value='')))"
      ]
     },
     "metadata": {},
     "output_type": "display_data"
    },
    {
     "name": "stdout",
     "output_type": "stream",
     "text": [
      "\n",
      "epoch 2/5 \t train : loss 0.41707 - spearmanr 0.49591\n",
      "epoch 2: \t Start validation...\n"
     ]
    },
    {
     "data": {
      "application/vnd.jupyter.widget-view+json": {
       "model_id": "cfcf39c0beb14c9e9d5de799dfba3b5e",
       "version_major": 2,
       "version_minor": 0
      },
      "text/plain": [
       "HBox(children=(IntProgress(value=0, max=304), HTML(value='')))"
      ]
     },
     "metadata": {},
     "output_type": "display_data"
    },
    {
     "name": "stdout",
     "output_type": "stream",
     "text": [
      "\n",
      "epoch 2/5 \t valid : loss 0.45695 - spearmanr 0.42103\n",
      "best model: epoch 2 - 0.42103\n",
      "epoch 3: \t Start training...\n"
     ]
    },
    {
     "data": {
      "application/vnd.jupyter.widget-view+json": {
       "model_id": "3125f4a3aff145589fdd965bbccc57a3",
       "version_major": 2,
       "version_minor": 0
      },
      "text/plain": [
       "HBox(children=(IntProgress(value=0, max=2736), HTML(value='')))"
      ]
     },
     "metadata": {},
     "output_type": "display_data"
    },
    {
     "name": "stdout",
     "output_type": "stream",
     "text": [
      "\n",
      "epoch 3/5 \t train : loss 0.41553 - spearmanr 0.49822\n",
      "epoch 3: \t Start validation...\n"
     ]
    },
    {
     "data": {
      "application/vnd.jupyter.widget-view+json": {
       "model_id": "0d74dae5891d4bd4a3c197181a5f8279",
       "version_major": 2,
       "version_minor": 0
      },
      "text/plain": [
       "HBox(children=(IntProgress(value=0, max=304), HTML(value='')))"
      ]
     },
     "metadata": {},
     "output_type": "display_data"
    },
    {
     "name": "stdout",
     "output_type": "stream",
     "text": [
      "\n",
      "epoch 3/5 \t valid : loss 0.45709 - spearmanr 0.42112\n",
      "best model: epoch 3 - 0.42112\n",
      "epoch 4: \t Start training...\n"
     ]
    },
    {
     "data": {
      "application/vnd.jupyter.widget-view+json": {
       "model_id": "f4a280c099e7410a91334882147d2b85",
       "version_major": 2,
       "version_minor": 0
      },
      "text/plain": [
       "HBox(children=(IntProgress(value=0, max=2736), HTML(value='')))"
      ]
     },
     "metadata": {},
     "output_type": "display_data"
    },
    {
     "name": "stdout",
     "output_type": "stream",
     "text": [
      "\n",
      "epoch 4/5 \t train : loss 0.41532 - spearmanr 0.49908\n",
      "epoch 4: \t Start validation...\n"
     ]
    },
    {
     "data": {
      "application/vnd.jupyter.widget-view+json": {
       "model_id": "d4d8644e9e1b4ae5848da30a2b5200fb",
       "version_major": 2,
       "version_minor": 0
      },
      "text/plain": [
       "HBox(children=(IntProgress(value=0, max=304), HTML(value='')))"
      ]
     },
     "metadata": {},
     "output_type": "display_data"
    },
    {
     "name": "stdout",
     "output_type": "stream",
     "text": [
      "\n",
      "epoch 4/5 \t valid : loss 0.45709 - spearmanr 0.42117\n",
      "best model: epoch 4 - 0.42117\n",
      "TRAINING END: Best score achieved on epoch 4 - 0.42117\n",
      "Starting inference for model: checkpoints/siamese_xlnet_2_head_fold_8_best.pth\n"
     ]
    },
    {
     "data": {
      "application/vnd.jupyter.widget-view+json": {
       "model_id": "5db8431ba9e148f086e09ca94170a529",
       "version_major": 2,
       "version_minor": 0
      },
      "text/plain": [
       "HBox(children=(IntProgress(value=0, max=304), HTML(value='')))"
      ]
     },
     "metadata": {},
     "output_type": "display_data"
    },
    {
     "name": "stdout",
     "output_type": "stream",
     "text": [
      "\n",
      "Fold 9 started at Tue Feb  4 22:56:08 2020\n",
      "epoch -1: \t Start validation...\n"
     ]
    },
    {
     "data": {
      "application/vnd.jupyter.widget-view+json": {
       "model_id": "088c30b56ba54a679cefc8a417f125ac",
       "version_major": 2,
       "version_minor": 0
      },
      "text/plain": [
       "HBox(children=(IntProgress(value=0, max=304), HTML(value='')))"
      ]
     },
     "metadata": {},
     "output_type": "display_data"
    },
    {
     "name": "stdout",
     "output_type": "stream",
     "text": [
      "\n",
      "epoch -1/5 \t valid : loss 0.4508 - spearmanr 0.41213\n",
      "best model: epoch -1 - 0.41213\n",
      "epoch 0: \t Start training...\n"
     ]
    },
    {
     "data": {
      "application/vnd.jupyter.widget-view+json": {
       "model_id": "60a54bf132bf49d3aca511402aafe4be",
       "version_major": 2,
       "version_minor": 0
      },
      "text/plain": [
       "HBox(children=(IntProgress(value=0, max=2736), HTML(value='')))"
      ]
     },
     "metadata": {},
     "output_type": "display_data"
    },
    {
     "name": "stdout",
     "output_type": "stream",
     "text": [
      "\n",
      "epoch 0/5 \t train : loss 0.41915 - spearmanr 0.49348\n",
      "epoch 0: \t Start validation...\n"
     ]
    },
    {
     "data": {
      "application/vnd.jupyter.widget-view+json": {
       "model_id": "9808f5647b104b97be072e5110f9ba0d",
       "version_major": 2,
       "version_minor": 0
      },
      "text/plain": [
       "HBox(children=(IntProgress(value=0, max=304), HTML(value='')))"
      ]
     },
     "metadata": {},
     "output_type": "display_data"
    },
    {
     "name": "stdout",
     "output_type": "stream",
     "text": [
      "\n",
      "epoch 0/5 \t valid : loss 0.44855 - spearmanr 0.41311\n",
      "best model: epoch 0 - 0.41311\n",
      "epoch 1: \t Start training...\n"
     ]
    },
    {
     "data": {
      "application/vnd.jupyter.widget-view+json": {
       "model_id": "dda5e79a2dd545c399a2670ddc7d5690",
       "version_major": 2,
       "version_minor": 0
      },
      "text/plain": [
       "HBox(children=(IntProgress(value=0, max=2736), HTML(value='')))"
      ]
     },
     "metadata": {},
     "output_type": "display_data"
    },
    {
     "name": "stdout",
     "output_type": "stream",
     "text": [
      "\n",
      "epoch 1/5 \t train : loss 0.41778 - spearmanr 0.49661\n",
      "epoch 1: \t Start validation...\n"
     ]
    },
    {
     "data": {
      "application/vnd.jupyter.widget-view+json": {
       "model_id": "e0ed0b7d69b140a6a64246821076d7ed",
       "version_major": 2,
       "version_minor": 0
      },
      "text/plain": [
       "HBox(children=(IntProgress(value=0, max=304), HTML(value='')))"
      ]
     },
     "metadata": {},
     "output_type": "display_data"
    },
    {
     "name": "stdout",
     "output_type": "stream",
     "text": [
      "\n",
      "epoch 1/5 \t valid : loss 0.44852 - spearmanr 0.41326\n",
      "best model: epoch 1 - 0.41326\n",
      "epoch 2: \t Start training...\n"
     ]
    },
    {
     "data": {
      "application/vnd.jupyter.widget-view+json": {
       "model_id": "f8e6a1c589084e9f9bb71c50733b7e95",
       "version_major": 2,
       "version_minor": 0
      },
      "text/plain": [
       "HBox(children=(IntProgress(value=0, max=2736), HTML(value='')))"
      ]
     },
     "metadata": {},
     "output_type": "display_data"
    },
    {
     "name": "stdout",
     "output_type": "stream",
     "text": [
      "\n",
      "epoch 2/5 \t train : loss 0.41707 - spearmanr 0.49834\n",
      "epoch 2: \t Start validation...\n"
     ]
    },
    {
     "data": {
      "application/vnd.jupyter.widget-view+json": {
       "model_id": "18dfaba784d5478fbe393f262dcb5af6",
       "version_major": 2,
       "version_minor": 0
      },
      "text/plain": [
       "HBox(children=(IntProgress(value=0, max=304), HTML(value='')))"
      ]
     },
     "metadata": {},
     "output_type": "display_data"
    },
    {
     "name": "stdout",
     "output_type": "stream",
     "text": [
      "\n",
      "epoch 2/5 \t valid : loss 0.44842 - spearmanr 0.41348\n",
      "best model: epoch 2 - 0.41348\n",
      "epoch 3: \t Start training...\n"
     ]
    },
    {
     "data": {
      "application/vnd.jupyter.widget-view+json": {
       "model_id": "bfb326ecbea749c080bf1e3e2278c254",
       "version_major": 2,
       "version_minor": 0
      },
      "text/plain": [
       "HBox(children=(IntProgress(value=0, max=2736), HTML(value='')))"
      ]
     },
     "metadata": {},
     "output_type": "display_data"
    },
    {
     "name": "stdout",
     "output_type": "stream",
     "text": [
      "\n",
      "epoch 3/5 \t train : loss 0.4169 - spearmanr 0.49904\n",
      "epoch 3: \t Start validation...\n"
     ]
    },
    {
     "data": {
      "application/vnd.jupyter.widget-view+json": {
       "model_id": "f0bc345a27e243728ff2e7cb2f99af9a",
       "version_major": 2,
       "version_minor": 0
      },
      "text/plain": [
       "HBox(children=(IntProgress(value=0, max=304), HTML(value='')))"
      ]
     },
     "metadata": {},
     "output_type": "display_data"
    },
    {
     "name": "stdout",
     "output_type": "stream",
     "text": [
      "\n",
      "epoch 3/5 \t valid : loss 0.44864 - spearmanr 0.41361\n",
      "best model: epoch 3 - 0.41361\n",
      "epoch 4: \t Start training...\n"
     ]
    },
    {
     "data": {
      "application/vnd.jupyter.widget-view+json": {
       "model_id": "989530772ca9411b9f24b827476eed66",
       "version_major": 2,
       "version_minor": 0
      },
      "text/plain": [
       "HBox(children=(IntProgress(value=0, max=2736), HTML(value='')))"
      ]
     },
     "metadata": {},
     "output_type": "display_data"
    },
    {
     "name": "stdout",
     "output_type": "stream",
     "text": [
      "\n",
      "epoch 4/5 \t train : loss 0.41586 - spearmanr 0.50119\n",
      "epoch 4: \t Start validation...\n"
     ]
    },
    {
     "data": {
      "application/vnd.jupyter.widget-view+json": {
       "model_id": "42a500ca0dfe48329e9a58b6c5553160",
       "version_major": 2,
       "version_minor": 0
      },
      "text/plain": [
       "HBox(children=(IntProgress(value=0, max=304), HTML(value='')))"
      ]
     },
     "metadata": {},
     "output_type": "display_data"
    },
    {
     "name": "stdout",
     "output_type": "stream",
     "text": [
      "\n",
      "epoch 4/5 \t valid : loss 0.44866 - spearmanr 0.41371\n",
      "best model: epoch 4 - 0.41371\n",
      "TRAINING END: Best score achieved on epoch 4 - 0.41371\n",
      "Starting inference for model: checkpoints/siamese_xlnet_2_head_fold_9_best.pth\n"
     ]
    },
    {
     "data": {
      "application/vnd.jupyter.widget-view+json": {
       "model_id": "a9811e74e1884f28b1421a7e77807d8d",
       "version_major": 2,
       "version_minor": 0
      },
      "text/plain": [
       "HBox(children=(IntProgress(value=0, max=304), HTML(value='')))"
      ]
     },
     "metadata": {},
     "output_type": "display_data"
    },
    {
     "name": "stdout",
     "output_type": "stream",
     "text": [
      "\n",
      "Fold 10 started at Tue Feb  4 22:58:12 2020\n",
      "epoch -1: \t Start validation...\n"
     ]
    },
    {
     "data": {
      "application/vnd.jupyter.widget-view+json": {
       "model_id": "814a03f9434a49d3846e66ab2051d506",
       "version_major": 2,
       "version_minor": 0
      },
      "text/plain": [
       "HBox(children=(IntProgress(value=0, max=304), HTML(value='')))"
      ]
     },
     "metadata": {},
     "output_type": "display_data"
    },
    {
     "name": "stdout",
     "output_type": "stream",
     "text": [
      "\n",
      "epoch -1/5 \t valid : loss 0.44301 - spearmanr 0.42449\n",
      "best model: epoch -1 - 0.42449\n",
      "epoch 0: \t Start training...\n"
     ]
    },
    {
     "data": {
      "application/vnd.jupyter.widget-view+json": {
       "model_id": "d66fbaa613634b71b0cf218c9fc40087",
       "version_major": 2,
       "version_minor": 0
      },
      "text/plain": [
       "HBox(children=(IntProgress(value=0, max=2736), HTML(value='')))"
      ]
     },
     "metadata": {},
     "output_type": "display_data"
    },
    {
     "name": "stdout",
     "output_type": "stream",
     "text": [
      "\n",
      "epoch 0/5 \t train : loss 0.42047 - spearmanr 0.49165\n",
      "epoch 0: \t Start validation...\n"
     ]
    },
    {
     "data": {
      "application/vnd.jupyter.widget-view+json": {
       "model_id": "fff01afa121f43b7a73f6035a35f34b3",
       "version_major": 2,
       "version_minor": 0
      },
      "text/plain": [
       "HBox(children=(IntProgress(value=0, max=304), HTML(value='')))"
      ]
     },
     "metadata": {},
     "output_type": "display_data"
    },
    {
     "name": "stdout",
     "output_type": "stream",
     "text": [
      "\n",
      "epoch 0/5 \t valid : loss 0.44098 - spearmanr 0.42575\n",
      "best model: epoch 0 - 0.42575\n",
      "epoch 1: \t Start training...\n"
     ]
    },
    {
     "data": {
      "application/vnd.jupyter.widget-view+json": {
       "model_id": "83856a5142fe41d9a6bb9107d2e90dc6",
       "version_major": 2,
       "version_minor": 0
      },
      "text/plain": [
       "HBox(children=(IntProgress(value=0, max=2736), HTML(value='')))"
      ]
     },
     "metadata": {},
     "output_type": "display_data"
    },
    {
     "name": "stdout",
     "output_type": "stream",
     "text": [
      "\n",
      "epoch 1/5 \t train : loss 0.41969 - spearmanr 0.49422\n",
      "epoch 1: \t Start validation...\n"
     ]
    },
    {
     "data": {
      "application/vnd.jupyter.widget-view+json": {
       "model_id": "5d52adac2d1641caa08e60be64b6f128",
       "version_major": 2,
       "version_minor": 0
      },
      "text/plain": [
       "HBox(children=(IntProgress(value=0, max=304), HTML(value='')))"
      ]
     },
     "metadata": {},
     "output_type": "display_data"
    },
    {
     "name": "stdout",
     "output_type": "stream",
     "text": [
      "\n",
      "epoch 1/5 \t valid : loss 0.44069 - spearmanr 0.42655\n",
      "best model: epoch 1 - 0.42655\n",
      "epoch 2: \t Start training...\n"
     ]
    },
    {
     "data": {
      "application/vnd.jupyter.widget-view+json": {
       "model_id": "14e5cf674c154d59ba3169c14a5a4043",
       "version_major": 2,
       "version_minor": 0
      },
      "text/plain": [
       "HBox(children=(IntProgress(value=0, max=2736), HTML(value='')))"
      ]
     },
     "metadata": {},
     "output_type": "display_data"
    },
    {
     "name": "stdout",
     "output_type": "stream",
     "text": [
      "\n",
      "epoch 2/5 \t train : loss 0.41872 - spearmanr 0.49607\n",
      "epoch 2: \t Start validation...\n"
     ]
    },
    {
     "data": {
      "application/vnd.jupyter.widget-view+json": {
       "model_id": "5a3fb6affe5d4ad684de01bb3c8a4f85",
       "version_major": 2,
       "version_minor": 0
      },
      "text/plain": [
       "HBox(children=(IntProgress(value=0, max=304), HTML(value='')))"
      ]
     },
     "metadata": {},
     "output_type": "display_data"
    },
    {
     "name": "stdout",
     "output_type": "stream",
     "text": [
      "\n",
      "epoch 2/5 \t valid : loss 0.44074 - spearmanr 0.42653\n",
      "model not improved for 1 epochs\n",
      "epoch 3: \t Start training...\n"
     ]
    },
    {
     "data": {
      "application/vnd.jupyter.widget-view+json": {
       "model_id": "6217cd3d8b5f432ca26b3a328b18710a",
       "version_major": 2,
       "version_minor": 0
      },
      "text/plain": [
       "HBox(children=(IntProgress(value=0, max=2736), HTML(value='')))"
      ]
     },
     "metadata": {},
     "output_type": "display_data"
    },
    {
     "name": "stdout",
     "output_type": "stream",
     "text": [
      "\n",
      "epoch 3/5 \t train : loss 0.41776 - spearmanr 0.49761\n",
      "epoch 3: \t Start validation...\n"
     ]
    },
    {
     "data": {
      "application/vnd.jupyter.widget-view+json": {
       "model_id": "4ef76ec8b76d4c428a752b17629857fe",
       "version_major": 2,
       "version_minor": 0
      },
      "text/plain": [
       "HBox(children=(IntProgress(value=0, max=304), HTML(value='')))"
      ]
     },
     "metadata": {},
     "output_type": "display_data"
    },
    {
     "name": "stdout",
     "output_type": "stream",
     "text": [
      "\n",
      "epoch 3/5 \t valid : loss 0.44081 - spearmanr 0.42675\n",
      "best model: epoch 3 - 0.42675\n",
      "epoch 4: \t Start training...\n"
     ]
    },
    {
     "data": {
      "application/vnd.jupyter.widget-view+json": {
       "model_id": "347c24abcbe9407bad5c5e19ad4abe83",
       "version_major": 2,
       "version_minor": 0
      },
      "text/plain": [
       "HBox(children=(IntProgress(value=0, max=2736), HTML(value='')))"
      ]
     },
     "metadata": {},
     "output_type": "display_data"
    },
    {
     "name": "stdout",
     "output_type": "stream",
     "text": [
      "\n",
      "epoch 4/5 \t train : loss 0.41691 - spearmanr 0.50025\n",
      "epoch 4: \t Start validation...\n"
     ]
    },
    {
     "data": {
      "application/vnd.jupyter.widget-view+json": {
       "model_id": "d1d7ef4cb122490a9449adc64373256f",
       "version_major": 2,
       "version_minor": 0
      },
      "text/plain": [
       "HBox(children=(IntProgress(value=0, max=304), HTML(value='')))"
      ]
     },
     "metadata": {},
     "output_type": "display_data"
    },
    {
     "name": "stdout",
     "output_type": "stream",
     "text": [
      "\n",
      "epoch 4/5 \t valid : loss 0.44085 - spearmanr 0.42667\n",
      "model not improved for 1 epochs\n",
      "TRAINING END: Best score achieved on epoch 3 - 0.42675\n",
      "Starting inference for model: checkpoints/siamese_xlnet_2_head_fold_10_best.pth\n"
     ]
    },
    {
     "data": {
      "application/vnd.jupyter.widget-view+json": {
       "model_id": "7b562f2e6be94256859b680dcfcfb99f",
       "version_major": 2,
       "version_minor": 0
      },
      "text/plain": [
       "HBox(children=(IntProgress(value=0, max=304), HTML(value='')))"
      ]
     },
     "metadata": {},
     "output_type": "display_data"
    },
    {
     "name": "stdout",
     "output_type": "stream",
     "text": [
      "\n",
      "OOF score: 0.4160958987205498\n"
     ]
    }
   ],
   "source": [
    "init_seed()\n",
    "folds = GroupKFold(n_splits=n_folds).split(X=train['question_body'], groups=train['question_body'])\n",
    "oofs = np.zeros((len(train), N_TARGETS))\n",
    "preds = np.zeros((len(test), N_TARGETS))\n",
    "\n",
    "for fold_id, (train_index, valid_index) in enumerate(folds):\n",
    "    print(f'Fold {fold_id + 1} started at {time.ctime()}')\n",
    "    \n",
    "    output_file_path = lambda mode: f'{model_output_dir}{mode}_{pretrained_model}_fold_{fold_id+1}'\n",
    "    train_loader = DataLoader(\n",
    "        BertDataset(cat_features_train, np.load(f\"{output_file_path('train')}_q_outputs.npy\"),\n",
    "                    np.load(f\"{output_file_path('train')}_a_outputs.npy\"), train_index, targets=y), \n",
    "        batch_size=bs, shuffle=True, num_workers=num_workers, drop_last=False\n",
    "    )\n",
    "    valid_loader = DataLoader(\n",
    "        BertDataset(cat_features_train, np.load(f\"{output_file_path('valid')}_q_outputs.npy\"),\n",
    "                    np.load(f\"{output_file_path('valid')}_a_outputs.npy\"), valid_index, targets=y), \n",
    "        batch_size=bs, shuffle=False, num_workers=num_workers, drop_last=False\n",
    "    )\n",
    "    model = get_model(fold_id)\n",
    "    \n",
    "    if fold_id == 0:\n",
    "        # print(model)\n",
    "        model = model.to(device)\n",
    "        optimizer = get_optimizer(model, lr, weight_decay)\n",
    "        lr_finder = LRFinder(n_iter=min(grad_accum*100, len(train_loader)), start_lr=1e-7, \n",
    "                             end_lr=1e-2, device=device, grad_accum=grad_accum, divergence_factor=5)\n",
    "        lr_finder.find_lr(model, optimizer, train_loader, loss_fn)\n",
    "        plt.show()\n",
    "    \n",
    "    optimizer = get_optimizer(model, lr, weight_decay)\n",
    "\n",
    "    learner = Learner(\n",
    "        model, \n",
    "        optimizer, \n",
    "        train_loader, \n",
    "        valid_loader, \n",
    "        loss_fn, \n",
    "        device, \n",
    "        n_epochs, \n",
    "        f'{model_name}_fold_{fold_id + 1}', \n",
    "        checkpoint_dir, \n",
    "        scheduler=optim.lr_scheduler.StepLR(optimizer, n_epochs, 0.5), \n",
    "        metric_fns={'spearmanr': (spearmanr_torch, 'epoch_end')}, \n",
    "        monitor_metric='spearmanr',\n",
    "        minimize_score=False, \n",
    "        logger=None,\n",
    "        grad_accum=grad_accum,\n",
    "        early_stopping=early_stopping, \n",
    "        batch_step_scheduler=False,\n",
    "        eval_at_start=True\n",
    "    )\n",
    "    if (fold_id + 1) > 0: learner.train()\n",
    "    \n",
    "    oofs[valid_index] = infer(learner.model, valid_loader, learner.best_checkpoint_file, device)\n",
    "    \n",
    "    del learner, model, train_loader, valid_loader\n",
    "    gc.collect()\n",
    "    \n",
    "print(f'OOF score: {spearmanr_np(oofs, y)}')"
   ]
  },
  {
   "cell_type": "code",
   "execution_count": 10,
   "metadata": {
    "scrolled": true
   },
   "outputs": [
    {
     "name": "stdout",
     "output_type": "stream",
     "text": [
      "2 8 0.48759232351656245\n",
      "5 4 0.4648507670444162\n",
      "9 32 0.12845325534535335\n",
      "11 8 0.758910903492332\n",
      "12 4 0.5503693998979307\n",
      "13 4 0.3135152884734173\n",
      "14 4 0.642276855011164\n",
      "15 8 0.590852812493358\n",
      "19 64 0.14044948496057003\n",
      "23 16 0.1489272481791355\n"
     ]
    }
   ],
   "source": [
    "opt_ds, opt_indices = optimize_rounding_params(oofs, y)"
   ]
  },
  {
   "cell_type": "code",
   "execution_count": 11,
   "metadata": {},
   "outputs": [
    {
     "data": {
      "text/plain": [
       "(array([ 8,  4, 32,  8,  4,  4,  4,  8, 64, 16]),\n",
       " array([ 2,  5,  9, 11, 12, 13, 14, 15, 19, 23]))"
      ]
     },
     "execution_count": 11,
     "metadata": {},
     "output_type": "execute_result"
    }
   ],
   "source": [
    "np.array(opt_ds), np.array(opt_indices)"
   ]
  },
  {
   "cell_type": "code",
   "execution_count": 12,
   "metadata": {
    "scrolled": false
   },
   "outputs": [],
   "source": [
    "oofs_alt = oofs.copy()\n",
    "train[\"eng\"] = train[\"url\"].apply(lambda x: x.startswith(\"http://english.\") or x.startswith(\"http://ell.\"))\n",
    "oofs_alt[np.where((~train[\"eng\"]).values)[0], 19] = 0"
   ]
  },
  {
   "cell_type": "code",
   "execution_count": 13,
   "metadata": {
    "scrolled": false
   },
   "outputs": [
    {
     "data": {
      "text/html": [
       "<div>\n",
       "<style scoped>\n",
       "    .dataframe tbody tr th:only-of-type {\n",
       "        vertical-align: middle;\n",
       "    }\n",
       "\n",
       "    .dataframe tbody tr th {\n",
       "        vertical-align: top;\n",
       "    }\n",
       "\n",
       "    .dataframe thead th {\n",
       "        text-align: right;\n",
       "    }\n",
       "</style>\n",
       "<table border=\"1\" class=\"dataframe\">\n",
       "  <thead>\n",
       "    <tr style=\"text-align: right;\">\n",
       "      <th></th>\n",
       "      <th>SpearmanR</th>\n",
       "    </tr>\n",
       "  </thead>\n",
       "  <tbody>\n",
       "    <tr>\n",
       "      <th>CV</th>\n",
       "      <td>0.416096</td>\n",
       "    </tr>\n",
       "    <tr>\n",
       "      <th>CV unique rows</th>\n",
       "      <td>0.380556</td>\n",
       "    </tr>\n",
       "    <tr>\n",
       "      <th>CV ignoring hard targets</th>\n",
       "      <td>0.440298</td>\n",
       "    </tr>\n",
       "    <tr>\n",
       "      <th>CV unique rows ignoring hard targets</th>\n",
       "      <td>0.402393</td>\n",
       "    </tr>\n",
       "    <tr>\n",
       "      <th>CV w rounding</th>\n",
       "      <td>0.447620</td>\n",
       "    </tr>\n",
       "    <tr>\n",
       "      <th>CV unique rows w rounding</th>\n",
       "      <td>0.430326</td>\n",
       "    </tr>\n",
       "    <tr>\n",
       "      <th>CV ignoring hard targets w rounding</th>\n",
       "      <td>0.469989</td>\n",
       "    </tr>\n",
       "    <tr>\n",
       "      <th>CV unique rows ignoring hard targets w rounding</th>\n",
       "      <td>0.443206</td>\n",
       "    </tr>\n",
       "  </tbody>\n",
       "</table>\n",
       "</div>"
      ],
      "text/plain": [
       "                                                 SpearmanR\n",
       "CV                                                0.416096\n",
       "CV unique rows                                    0.380556\n",
       "CV ignoring hard targets                          0.440298\n",
       "CV unique rows ignoring hard targets              0.402393\n",
       "CV w rounding                                     0.447620\n",
       "CV unique rows w rounding                         0.430326\n",
       "CV ignoring hard targets w rounding               0.469989\n",
       "CV unique rows ignoring hard targets w rounding   0.443206"
      ]
     },
     "execution_count": 13,
     "metadata": {},
     "output_type": "execute_result"
    }
   ],
   "source": [
    "get_cvs(oofs, y, ix)"
   ]
  },
  {
   "cell_type": "code",
   "execution_count": 14,
   "metadata": {
    "scrolled": false
   },
   "outputs": [
    {
     "data": {
      "text/html": [
       "<div>\n",
       "<style scoped>\n",
       "    .dataframe tbody tr th:only-of-type {\n",
       "        vertical-align: middle;\n",
       "    }\n",
       "\n",
       "    .dataframe tbody tr th {\n",
       "        vertical-align: top;\n",
       "    }\n",
       "\n",
       "    .dataframe thead th {\n",
       "        text-align: right;\n",
       "    }\n",
       "</style>\n",
       "<table border=\"1\" class=\"dataframe\">\n",
       "  <thead>\n",
       "    <tr style=\"text-align: right;\">\n",
       "      <th></th>\n",
       "      <th>SpearmanR</th>\n",
       "    </tr>\n",
       "  </thead>\n",
       "  <tbody>\n",
       "    <tr>\n",
       "      <th>CV</th>\n",
       "      <td>0.420012</td>\n",
       "    </tr>\n",
       "    <tr>\n",
       "      <th>CV unique rows</th>\n",
       "      <td>0.384685</td>\n",
       "    </tr>\n",
       "    <tr>\n",
       "      <th>CV ignoring hard targets</th>\n",
       "      <td>0.440298</td>\n",
       "    </tr>\n",
       "    <tr>\n",
       "      <th>CV unique rows ignoring hard targets</th>\n",
       "      <td>0.402393</td>\n",
       "    </tr>\n",
       "    <tr>\n",
       "      <th>CV w rounding</th>\n",
       "      <td>0.449150</td>\n",
       "    </tr>\n",
       "    <tr>\n",
       "      <th>CV unique rows w rounding</th>\n",
       "      <td>0.430326</td>\n",
       "    </tr>\n",
       "    <tr>\n",
       "      <th>CV ignoring hard targets w rounding</th>\n",
       "      <td>0.469989</td>\n",
       "    </tr>\n",
       "    <tr>\n",
       "      <th>CV unique rows ignoring hard targets w rounding</th>\n",
       "      <td>0.443206</td>\n",
       "    </tr>\n",
       "  </tbody>\n",
       "</table>\n",
       "</div>"
      ],
      "text/plain": [
       "                                                 SpearmanR\n",
       "CV                                                0.420012\n",
       "CV unique rows                                    0.384685\n",
       "CV ignoring hard targets                          0.440298\n",
       "CV unique rows ignoring hard targets              0.402393\n",
       "CV w rounding                                     0.449150\n",
       "CV unique rows w rounding                         0.430326\n",
       "CV ignoring hard targets w rounding               0.469989\n",
       "CV unique rows ignoring hard targets w rounding   0.443206"
      ]
     },
     "execution_count": 14,
     "metadata": {},
     "output_type": "execute_result"
    }
   ],
   "source": [
    "get_cvs(oofs_alt, y, ix)"
   ]
  },
  {
   "cell_type": "code",
   "execution_count": 15,
   "metadata": {},
   "outputs": [],
   "source": [
    "# clipping is necessary or we will get an error\n",
    "sample_submission.loc[:, 'question_asker_intent_understanding':] = np.clip(preds, 0.00001, 0.999999)\n",
    "sample_submission.to_csv('subs/submission.csv', index=False)"
   ]
  },
  {
   "cell_type": "code",
   "execution_count": 16,
   "metadata": {
    "scrolled": false
   },
   "outputs": [
    {
     "data": {
      "text/html": [
       "<div>\n",
       "<style scoped>\n",
       "    .dataframe tbody tr th:only-of-type {\n",
       "        vertical-align: middle;\n",
       "    }\n",
       "\n",
       "    .dataframe tbody tr th {\n",
       "        vertical-align: top;\n",
       "    }\n",
       "\n",
       "    .dataframe thead th {\n",
       "        text-align: right;\n",
       "    }\n",
       "</style>\n",
       "<table border=\"1\" class=\"dataframe\">\n",
       "  <thead>\n",
       "    <tr style=\"text-align: right;\">\n",
       "      <th></th>\n",
       "      <th>qa_id</th>\n",
       "      <th>question_asker_intent_understanding</th>\n",
       "      <th>question_body_critical</th>\n",
       "      <th>question_conversational</th>\n",
       "      <th>question_expect_short_answer</th>\n",
       "      <th>question_fact_seeking</th>\n",
       "      <th>question_has_commonly_accepted_answer</th>\n",
       "      <th>question_interestingness_others</th>\n",
       "      <th>question_interestingness_self</th>\n",
       "      <th>question_multi_intent</th>\n",
       "      <th>question_not_really_a_question</th>\n",
       "      <th>question_opinion_seeking</th>\n",
       "      <th>question_type_choice</th>\n",
       "      <th>question_type_compare</th>\n",
       "      <th>question_type_consequence</th>\n",
       "      <th>question_type_definition</th>\n",
       "      <th>question_type_entity</th>\n",
       "      <th>question_type_instructions</th>\n",
       "      <th>question_type_procedure</th>\n",
       "      <th>question_type_reason_explanation</th>\n",
       "      <th>question_type_spelling</th>\n",
       "      <th>question_well_written</th>\n",
       "      <th>answer_helpful</th>\n",
       "      <th>answer_level_of_information</th>\n",
       "      <th>answer_plausible</th>\n",
       "      <th>answer_relevance</th>\n",
       "      <th>answer_satisfaction</th>\n",
       "      <th>answer_type_instructions</th>\n",
       "      <th>answer_type_procedure</th>\n",
       "      <th>answer_type_reason_explanation</th>\n",
       "      <th>answer_well_written</th>\n",
       "    </tr>\n",
       "  </thead>\n",
       "  <tbody>\n",
       "    <tr>\n",
       "      <th>0</th>\n",
       "      <td>39</td>\n",
       "      <td>0.00001</td>\n",
       "      <td>0.00001</td>\n",
       "      <td>0.00001</td>\n",
       "      <td>0.00001</td>\n",
       "      <td>0.00001</td>\n",
       "      <td>0.00001</td>\n",
       "      <td>0.00001</td>\n",
       "      <td>0.00001</td>\n",
       "      <td>0.00001</td>\n",
       "      <td>0.00001</td>\n",
       "      <td>0.00001</td>\n",
       "      <td>0.00001</td>\n",
       "      <td>0.00001</td>\n",
       "      <td>0.00001</td>\n",
       "      <td>0.00001</td>\n",
       "      <td>0.00001</td>\n",
       "      <td>0.00001</td>\n",
       "      <td>0.00001</td>\n",
       "      <td>0.00001</td>\n",
       "      <td>0.00001</td>\n",
       "      <td>0.00001</td>\n",
       "      <td>0.00001</td>\n",
       "      <td>0.00001</td>\n",
       "      <td>0.00001</td>\n",
       "      <td>0.00001</td>\n",
       "      <td>0.00001</td>\n",
       "      <td>0.00001</td>\n",
       "      <td>0.00001</td>\n",
       "      <td>0.00001</td>\n",
       "      <td>0.00001</td>\n",
       "    </tr>\n",
       "    <tr>\n",
       "      <th>1</th>\n",
       "      <td>46</td>\n",
       "      <td>0.00001</td>\n",
       "      <td>0.00001</td>\n",
       "      <td>0.00001</td>\n",
       "      <td>0.00001</td>\n",
       "      <td>0.00001</td>\n",
       "      <td>0.00001</td>\n",
       "      <td>0.00001</td>\n",
       "      <td>0.00001</td>\n",
       "      <td>0.00001</td>\n",
       "      <td>0.00001</td>\n",
       "      <td>0.00001</td>\n",
       "      <td>0.00001</td>\n",
       "      <td>0.00001</td>\n",
       "      <td>0.00001</td>\n",
       "      <td>0.00001</td>\n",
       "      <td>0.00001</td>\n",
       "      <td>0.00001</td>\n",
       "      <td>0.00001</td>\n",
       "      <td>0.00001</td>\n",
       "      <td>0.00001</td>\n",
       "      <td>0.00001</td>\n",
       "      <td>0.00001</td>\n",
       "      <td>0.00001</td>\n",
       "      <td>0.00001</td>\n",
       "      <td>0.00001</td>\n",
       "      <td>0.00001</td>\n",
       "      <td>0.00001</td>\n",
       "      <td>0.00001</td>\n",
       "      <td>0.00001</td>\n",
       "      <td>0.00001</td>\n",
       "    </tr>\n",
       "    <tr>\n",
       "      <th>2</th>\n",
       "      <td>70</td>\n",
       "      <td>0.00001</td>\n",
       "      <td>0.00001</td>\n",
       "      <td>0.00001</td>\n",
       "      <td>0.00001</td>\n",
       "      <td>0.00001</td>\n",
       "      <td>0.00001</td>\n",
       "      <td>0.00001</td>\n",
       "      <td>0.00001</td>\n",
       "      <td>0.00001</td>\n",
       "      <td>0.00001</td>\n",
       "      <td>0.00001</td>\n",
       "      <td>0.00001</td>\n",
       "      <td>0.00001</td>\n",
       "      <td>0.00001</td>\n",
       "      <td>0.00001</td>\n",
       "      <td>0.00001</td>\n",
       "      <td>0.00001</td>\n",
       "      <td>0.00001</td>\n",
       "      <td>0.00001</td>\n",
       "      <td>0.00001</td>\n",
       "      <td>0.00001</td>\n",
       "      <td>0.00001</td>\n",
       "      <td>0.00001</td>\n",
       "      <td>0.00001</td>\n",
       "      <td>0.00001</td>\n",
       "      <td>0.00001</td>\n",
       "      <td>0.00001</td>\n",
       "      <td>0.00001</td>\n",
       "      <td>0.00001</td>\n",
       "      <td>0.00001</td>\n",
       "    </tr>\n",
       "    <tr>\n",
       "      <th>3</th>\n",
       "      <td>132</td>\n",
       "      <td>0.00001</td>\n",
       "      <td>0.00001</td>\n",
       "      <td>0.00001</td>\n",
       "      <td>0.00001</td>\n",
       "      <td>0.00001</td>\n",
       "      <td>0.00001</td>\n",
       "      <td>0.00001</td>\n",
       "      <td>0.00001</td>\n",
       "      <td>0.00001</td>\n",
       "      <td>0.00001</td>\n",
       "      <td>0.00001</td>\n",
       "      <td>0.00001</td>\n",
       "      <td>0.00001</td>\n",
       "      <td>0.00001</td>\n",
       "      <td>0.00001</td>\n",
       "      <td>0.00001</td>\n",
       "      <td>0.00001</td>\n",
       "      <td>0.00001</td>\n",
       "      <td>0.00001</td>\n",
       "      <td>0.00001</td>\n",
       "      <td>0.00001</td>\n",
       "      <td>0.00001</td>\n",
       "      <td>0.00001</td>\n",
       "      <td>0.00001</td>\n",
       "      <td>0.00001</td>\n",
       "      <td>0.00001</td>\n",
       "      <td>0.00001</td>\n",
       "      <td>0.00001</td>\n",
       "      <td>0.00001</td>\n",
       "      <td>0.00001</td>\n",
       "    </tr>\n",
       "    <tr>\n",
       "      <th>4</th>\n",
       "      <td>200</td>\n",
       "      <td>0.00001</td>\n",
       "      <td>0.00001</td>\n",
       "      <td>0.00001</td>\n",
       "      <td>0.00001</td>\n",
       "      <td>0.00001</td>\n",
       "      <td>0.00001</td>\n",
       "      <td>0.00001</td>\n",
       "      <td>0.00001</td>\n",
       "      <td>0.00001</td>\n",
       "      <td>0.00001</td>\n",
       "      <td>0.00001</td>\n",
       "      <td>0.00001</td>\n",
       "      <td>0.00001</td>\n",
       "      <td>0.00001</td>\n",
       "      <td>0.00001</td>\n",
       "      <td>0.00001</td>\n",
       "      <td>0.00001</td>\n",
       "      <td>0.00001</td>\n",
       "      <td>0.00001</td>\n",
       "      <td>0.00001</td>\n",
       "      <td>0.00001</td>\n",
       "      <td>0.00001</td>\n",
       "      <td>0.00001</td>\n",
       "      <td>0.00001</td>\n",
       "      <td>0.00001</td>\n",
       "      <td>0.00001</td>\n",
       "      <td>0.00001</td>\n",
       "      <td>0.00001</td>\n",
       "      <td>0.00001</td>\n",
       "      <td>0.00001</td>\n",
       "    </tr>\n",
       "  </tbody>\n",
       "</table>\n",
       "</div>"
      ],
      "text/plain": [
       "   qa_id  question_asker_intent_understanding  question_body_critical  \\\n",
       "0     39                              0.00001                 0.00001   \n",
       "1     46                              0.00001                 0.00001   \n",
       "2     70                              0.00001                 0.00001   \n",
       "3    132                              0.00001                 0.00001   \n",
       "4    200                              0.00001                 0.00001   \n",
       "\n",
       "   question_conversational  question_expect_short_answer  \\\n",
       "0                  0.00001                       0.00001   \n",
       "1                  0.00001                       0.00001   \n",
       "2                  0.00001                       0.00001   \n",
       "3                  0.00001                       0.00001   \n",
       "4                  0.00001                       0.00001   \n",
       "\n",
       "   question_fact_seeking  question_has_commonly_accepted_answer  \\\n",
       "0                0.00001                                0.00001   \n",
       "1                0.00001                                0.00001   \n",
       "2                0.00001                                0.00001   \n",
       "3                0.00001                                0.00001   \n",
       "4                0.00001                                0.00001   \n",
       "\n",
       "   question_interestingness_others  question_interestingness_self  \\\n",
       "0                          0.00001                        0.00001   \n",
       "1                          0.00001                        0.00001   \n",
       "2                          0.00001                        0.00001   \n",
       "3                          0.00001                        0.00001   \n",
       "4                          0.00001                        0.00001   \n",
       "\n",
       "   question_multi_intent  question_not_really_a_question  \\\n",
       "0                0.00001                         0.00001   \n",
       "1                0.00001                         0.00001   \n",
       "2                0.00001                         0.00001   \n",
       "3                0.00001                         0.00001   \n",
       "4                0.00001                         0.00001   \n",
       "\n",
       "   question_opinion_seeking  question_type_choice  question_type_compare  \\\n",
       "0                   0.00001               0.00001                0.00001   \n",
       "1                   0.00001               0.00001                0.00001   \n",
       "2                   0.00001               0.00001                0.00001   \n",
       "3                   0.00001               0.00001                0.00001   \n",
       "4                   0.00001               0.00001                0.00001   \n",
       "\n",
       "   question_type_consequence  question_type_definition  question_type_entity  \\\n",
       "0                    0.00001                   0.00001               0.00001   \n",
       "1                    0.00001                   0.00001               0.00001   \n",
       "2                    0.00001                   0.00001               0.00001   \n",
       "3                    0.00001                   0.00001               0.00001   \n",
       "4                    0.00001                   0.00001               0.00001   \n",
       "\n",
       "   question_type_instructions  question_type_procedure  \\\n",
       "0                     0.00001                  0.00001   \n",
       "1                     0.00001                  0.00001   \n",
       "2                     0.00001                  0.00001   \n",
       "3                     0.00001                  0.00001   \n",
       "4                     0.00001                  0.00001   \n",
       "\n",
       "   question_type_reason_explanation  question_type_spelling  \\\n",
       "0                           0.00001                 0.00001   \n",
       "1                           0.00001                 0.00001   \n",
       "2                           0.00001                 0.00001   \n",
       "3                           0.00001                 0.00001   \n",
       "4                           0.00001                 0.00001   \n",
       "\n",
       "   question_well_written  answer_helpful  answer_level_of_information  \\\n",
       "0                0.00001         0.00001                      0.00001   \n",
       "1                0.00001         0.00001                      0.00001   \n",
       "2                0.00001         0.00001                      0.00001   \n",
       "3                0.00001         0.00001                      0.00001   \n",
       "4                0.00001         0.00001                      0.00001   \n",
       "\n",
       "   answer_plausible  answer_relevance  answer_satisfaction  \\\n",
       "0           0.00001           0.00001              0.00001   \n",
       "1           0.00001           0.00001              0.00001   \n",
       "2           0.00001           0.00001              0.00001   \n",
       "3           0.00001           0.00001              0.00001   \n",
       "4           0.00001           0.00001              0.00001   \n",
       "\n",
       "   answer_type_instructions  answer_type_procedure  \\\n",
       "0                   0.00001                0.00001   \n",
       "1                   0.00001                0.00001   \n",
       "2                   0.00001                0.00001   \n",
       "3                   0.00001                0.00001   \n",
       "4                   0.00001                0.00001   \n",
       "\n",
       "   answer_type_reason_explanation  answer_well_written  \n",
       "0                         0.00001              0.00001  \n",
       "1                         0.00001              0.00001  \n",
       "2                         0.00001              0.00001  \n",
       "3                         0.00001              0.00001  \n",
       "4                         0.00001              0.00001  "
      ]
     },
     "execution_count": 16,
     "metadata": {},
     "output_type": "execute_result"
    }
   ],
   "source": [
    "sample_submission.head()"
   ]
  },
  {
   "cell_type": "code",
   "execution_count": 17,
   "metadata": {},
   "outputs": [],
   "source": [
    "pd.DataFrame(oofs, columns=TARGETS).to_csv(f'oofs/{model_name}_oofs.csv')"
   ]
  },
  {
   "cell_type": "code",
   "execution_count": 18,
   "metadata": {},
   "outputs": [
    {
     "data": {
      "text/html": [
       "<div>\n",
       "<style scoped>\n",
       "    .dataframe tbody tr th:only-of-type {\n",
       "        vertical-align: middle;\n",
       "    }\n",
       "\n",
       "    .dataframe tbody tr th {\n",
       "        vertical-align: top;\n",
       "    }\n",
       "\n",
       "    .dataframe thead th {\n",
       "        text-align: right;\n",
       "    }\n",
       "</style>\n",
       "<table border=\"1\" class=\"dataframe\">\n",
       "  <thead>\n",
       "    <tr style=\"text-align: right;\">\n",
       "      <th></th>\n",
       "      <th>question_asker_intent_understanding</th>\n",
       "      <th>question_body_critical</th>\n",
       "      <th>question_conversational</th>\n",
       "      <th>question_expect_short_answer</th>\n",
       "      <th>question_fact_seeking</th>\n",
       "      <th>question_has_commonly_accepted_answer</th>\n",
       "      <th>question_interestingness_others</th>\n",
       "      <th>question_interestingness_self</th>\n",
       "      <th>question_multi_intent</th>\n",
       "      <th>question_not_really_a_question</th>\n",
       "      <th>question_opinion_seeking</th>\n",
       "      <th>question_type_choice</th>\n",
       "      <th>question_type_compare</th>\n",
       "      <th>question_type_consequence</th>\n",
       "      <th>question_type_definition</th>\n",
       "      <th>question_type_entity</th>\n",
       "      <th>question_type_instructions</th>\n",
       "      <th>question_type_procedure</th>\n",
       "      <th>question_type_reason_explanation</th>\n",
       "      <th>question_type_spelling</th>\n",
       "      <th>question_well_written</th>\n",
       "      <th>answer_helpful</th>\n",
       "      <th>answer_level_of_information</th>\n",
       "      <th>answer_plausible</th>\n",
       "      <th>answer_relevance</th>\n",
       "      <th>answer_satisfaction</th>\n",
       "      <th>answer_type_instructions</th>\n",
       "      <th>answer_type_procedure</th>\n",
       "      <th>answer_type_reason_explanation</th>\n",
       "      <th>answer_well_written</th>\n",
       "    </tr>\n",
       "  </thead>\n",
       "  <tbody>\n",
       "    <tr>\n",
       "      <th>0</th>\n",
       "      <td>0.821893</td>\n",
       "      <td>0.631839</td>\n",
       "      <td>0.235900</td>\n",
       "      <td>0.641818</td>\n",
       "      <td>0.602212</td>\n",
       "      <td>0.416144</td>\n",
       "      <td>0.633482</td>\n",
       "      <td>0.595162</td>\n",
       "      <td>0.113910</td>\n",
       "      <td>0.009498</td>\n",
       "      <td>0.593455</td>\n",
       "      <td>0.127750</td>\n",
       "      <td>0.330722</td>\n",
       "      <td>0.047538</td>\n",
       "      <td>0.030840</td>\n",
       "      <td>0.215652</td>\n",
       "      <td>0.163943</td>\n",
       "      <td>0.127828</td>\n",
       "      <td>0.445187</td>\n",
       "      <td>0.002672</td>\n",
       "      <td>0.746272</td>\n",
       "      <td>0.889019</td>\n",
       "      <td>0.569963</td>\n",
       "      <td>0.951194</td>\n",
       "      <td>0.939363</td>\n",
       "      <td>0.732597</td>\n",
       "      <td>0.110206</td>\n",
       "      <td>0.105199</td>\n",
       "      <td>0.811110</td>\n",
       "      <td>0.701762</td>\n",
       "    </tr>\n",
       "    <tr>\n",
       "      <th>1</th>\n",
       "      <td>0.823346</td>\n",
       "      <td>0.613689</td>\n",
       "      <td>0.023556</td>\n",
       "      <td>0.586123</td>\n",
       "      <td>0.918177</td>\n",
       "      <td>0.713154</td>\n",
       "      <td>0.553694</td>\n",
       "      <td>0.678460</td>\n",
       "      <td>0.495898</td>\n",
       "      <td>0.001004</td>\n",
       "      <td>0.271873</td>\n",
       "      <td>0.114503</td>\n",
       "      <td>0.786473</td>\n",
       "      <td>0.004679</td>\n",
       "      <td>0.707389</td>\n",
       "      <td>0.030484</td>\n",
       "      <td>0.099272</td>\n",
       "      <td>0.088714</td>\n",
       "      <td>0.364932</td>\n",
       "      <td>0.006126</td>\n",
       "      <td>0.715766</td>\n",
       "      <td>0.475653</td>\n",
       "      <td>0.247999</td>\n",
       "      <td>0.735652</td>\n",
       "      <td>0.745255</td>\n",
       "      <td>0.302841</td>\n",
       "      <td>0.020818</td>\n",
       "      <td>0.031772</td>\n",
       "      <td>0.454955</td>\n",
       "      <td>0.758368</td>\n",
       "    </tr>\n",
       "    <tr>\n",
       "      <th>2</th>\n",
       "      <td>0.565489</td>\n",
       "      <td>0.301808</td>\n",
       "      <td>0.005148</td>\n",
       "      <td>0.697030</td>\n",
       "      <td>0.772619</td>\n",
       "      <td>0.872592</td>\n",
       "      <td>0.389313</td>\n",
       "      <td>0.214020</td>\n",
       "      <td>0.096960</td>\n",
       "      <td>0.003323</td>\n",
       "      <td>0.377125</td>\n",
       "      <td>0.151336</td>\n",
       "      <td>0.002040</td>\n",
       "      <td>0.001005</td>\n",
       "      <td>0.000967</td>\n",
       "      <td>0.215936</td>\n",
       "      <td>0.734544</td>\n",
       "      <td>0.233255</td>\n",
       "      <td>0.156845</td>\n",
       "      <td>0.000069</td>\n",
       "      <td>0.504837</td>\n",
       "      <td>0.849880</td>\n",
       "      <td>0.608707</td>\n",
       "      <td>0.905958</td>\n",
       "      <td>0.918765</td>\n",
       "      <td>0.664809</td>\n",
       "      <td>0.714353</td>\n",
       "      <td>0.289525</td>\n",
       "      <td>0.445894</td>\n",
       "      <td>0.767770</td>\n",
       "    </tr>\n",
       "    <tr>\n",
       "      <th>3</th>\n",
       "      <td>0.820851</td>\n",
       "      <td>0.684406</td>\n",
       "      <td>0.044748</td>\n",
       "      <td>0.861295</td>\n",
       "      <td>0.830458</td>\n",
       "      <td>0.914255</td>\n",
       "      <td>0.586692</td>\n",
       "      <td>0.619783</td>\n",
       "      <td>0.292009</td>\n",
       "      <td>0.001147</td>\n",
       "      <td>0.189904</td>\n",
       "      <td>0.964403</td>\n",
       "      <td>0.015604</td>\n",
       "      <td>0.013181</td>\n",
       "      <td>0.062431</td>\n",
       "      <td>0.018629</td>\n",
       "      <td>0.052242</td>\n",
       "      <td>0.087393</td>\n",
       "      <td>0.344722</td>\n",
       "      <td>0.001381</td>\n",
       "      <td>0.722060</td>\n",
       "      <td>0.855698</td>\n",
       "      <td>0.732204</td>\n",
       "      <td>0.903795</td>\n",
       "      <td>0.918394</td>\n",
       "      <td>0.764786</td>\n",
       "      <td>0.038044</td>\n",
       "      <td>0.084739</td>\n",
       "      <td>0.863084</td>\n",
       "      <td>0.640506</td>\n",
       "    </tr>\n",
       "    <tr>\n",
       "      <th>4</th>\n",
       "      <td>0.765967</td>\n",
       "      <td>0.801088</td>\n",
       "      <td>0.004616</td>\n",
       "      <td>0.671230</td>\n",
       "      <td>0.767414</td>\n",
       "      <td>0.884138</td>\n",
       "      <td>0.496483</td>\n",
       "      <td>0.418829</td>\n",
       "      <td>0.197543</td>\n",
       "      <td>0.000705</td>\n",
       "      <td>0.365777</td>\n",
       "      <td>0.441534</td>\n",
       "      <td>0.001749</td>\n",
       "      <td>0.000627</td>\n",
       "      <td>0.000610</td>\n",
       "      <td>0.003937</td>\n",
       "      <td>0.879921</td>\n",
       "      <td>0.306053</td>\n",
       "      <td>0.100760</td>\n",
       "      <td>0.000031</td>\n",
       "      <td>0.792631</td>\n",
       "      <td>0.761462</td>\n",
       "      <td>0.445234</td>\n",
       "      <td>0.852934</td>\n",
       "      <td>0.871553</td>\n",
       "      <td>0.564388</td>\n",
       "      <td>0.893489</td>\n",
       "      <td>0.253540</td>\n",
       "      <td>0.049680</td>\n",
       "      <td>0.610702</td>\n",
       "    </tr>\n",
       "    <tr>\n",
       "      <th>...</th>\n",
       "      <td>...</td>\n",
       "      <td>...</td>\n",
       "      <td>...</td>\n",
       "      <td>...</td>\n",
       "      <td>...</td>\n",
       "      <td>...</td>\n",
       "      <td>...</td>\n",
       "      <td>...</td>\n",
       "      <td>...</td>\n",
       "      <td>...</td>\n",
       "      <td>...</td>\n",
       "      <td>...</td>\n",
       "      <td>...</td>\n",
       "      <td>...</td>\n",
       "      <td>...</td>\n",
       "      <td>...</td>\n",
       "      <td>...</td>\n",
       "      <td>...</td>\n",
       "      <td>...</td>\n",
       "      <td>...</td>\n",
       "      <td>...</td>\n",
       "      <td>...</td>\n",
       "      <td>...</td>\n",
       "      <td>...</td>\n",
       "      <td>...</td>\n",
       "      <td>...</td>\n",
       "      <td>...</td>\n",
       "      <td>...</td>\n",
       "      <td>...</td>\n",
       "      <td>...</td>\n",
       "    </tr>\n",
       "    <tr>\n",
       "      <th>6074</th>\n",
       "      <td>0.848111</td>\n",
       "      <td>0.581138</td>\n",
       "      <td>0.203067</td>\n",
       "      <td>0.752026</td>\n",
       "      <td>0.686352</td>\n",
       "      <td>0.687393</td>\n",
       "      <td>0.661886</td>\n",
       "      <td>0.628899</td>\n",
       "      <td>0.582115</td>\n",
       "      <td>0.002535</td>\n",
       "      <td>0.509439</td>\n",
       "      <td>0.930688</td>\n",
       "      <td>0.138302</td>\n",
       "      <td>0.348233</td>\n",
       "      <td>0.007382</td>\n",
       "      <td>0.099952</td>\n",
       "      <td>0.013362</td>\n",
       "      <td>0.033952</td>\n",
       "      <td>0.729488</td>\n",
       "      <td>0.002119</td>\n",
       "      <td>0.736928</td>\n",
       "      <td>0.893108</td>\n",
       "      <td>0.722298</td>\n",
       "      <td>0.944674</td>\n",
       "      <td>0.919625</td>\n",
       "      <td>0.728559</td>\n",
       "      <td>0.094776</td>\n",
       "      <td>0.087455</td>\n",
       "      <td>0.910592</td>\n",
       "      <td>0.739647</td>\n",
       "    </tr>\n",
       "    <tr>\n",
       "      <th>6075</th>\n",
       "      <td>0.813566</td>\n",
       "      <td>0.333190</td>\n",
       "      <td>0.071515</td>\n",
       "      <td>0.517573</td>\n",
       "      <td>0.542612</td>\n",
       "      <td>0.396373</td>\n",
       "      <td>0.726927</td>\n",
       "      <td>0.714694</td>\n",
       "      <td>0.071882</td>\n",
       "      <td>0.002729</td>\n",
       "      <td>0.727500</td>\n",
       "      <td>0.014036</td>\n",
       "      <td>0.008290</td>\n",
       "      <td>0.004594</td>\n",
       "      <td>0.001461</td>\n",
       "      <td>0.014681</td>\n",
       "      <td>0.804700</td>\n",
       "      <td>0.401893</td>\n",
       "      <td>0.228192</td>\n",
       "      <td>0.000083</td>\n",
       "      <td>0.661143</td>\n",
       "      <td>0.837075</td>\n",
       "      <td>0.588126</td>\n",
       "      <td>0.912285</td>\n",
       "      <td>0.917383</td>\n",
       "      <td>0.625990</td>\n",
       "      <td>0.855865</td>\n",
       "      <td>0.372010</td>\n",
       "      <td>0.225992</td>\n",
       "      <td>0.843084</td>\n",
       "    </tr>\n",
       "    <tr>\n",
       "      <th>6076</th>\n",
       "      <td>0.612201</td>\n",
       "      <td>0.387870</td>\n",
       "      <td>0.008691</td>\n",
       "      <td>0.669278</td>\n",
       "      <td>0.713810</td>\n",
       "      <td>0.875085</td>\n",
       "      <td>0.436252</td>\n",
       "      <td>0.320881</td>\n",
       "      <td>0.181803</td>\n",
       "      <td>0.002715</td>\n",
       "      <td>0.466250</td>\n",
       "      <td>0.708927</td>\n",
       "      <td>0.004875</td>\n",
       "      <td>0.001808</td>\n",
       "      <td>0.000710</td>\n",
       "      <td>0.009979</td>\n",
       "      <td>0.805153</td>\n",
       "      <td>0.346062</td>\n",
       "      <td>0.163383</td>\n",
       "      <td>0.000093</td>\n",
       "      <td>0.525100</td>\n",
       "      <td>0.598352</td>\n",
       "      <td>0.432606</td>\n",
       "      <td>0.809449</td>\n",
       "      <td>0.781612</td>\n",
       "      <td>0.419028</td>\n",
       "      <td>0.657840</td>\n",
       "      <td>0.212188</td>\n",
       "      <td>0.549205</td>\n",
       "      <td>0.488965</td>\n",
       "    </tr>\n",
       "    <tr>\n",
       "      <th>6077</th>\n",
       "      <td>0.822156</td>\n",
       "      <td>0.684396</td>\n",
       "      <td>0.809414</td>\n",
       "      <td>0.233093</td>\n",
       "      <td>0.228940</td>\n",
       "      <td>0.077111</td>\n",
       "      <td>0.612737</td>\n",
       "      <td>0.724480</td>\n",
       "      <td>0.612393</td>\n",
       "      <td>0.002240</td>\n",
       "      <td>0.933838</td>\n",
       "      <td>0.703557</td>\n",
       "      <td>0.128570</td>\n",
       "      <td>0.068383</td>\n",
       "      <td>0.006381</td>\n",
       "      <td>0.021131</td>\n",
       "      <td>0.011263</td>\n",
       "      <td>0.159910</td>\n",
       "      <td>0.695702</td>\n",
       "      <td>0.000253</td>\n",
       "      <td>0.881761</td>\n",
       "      <td>0.733082</td>\n",
       "      <td>0.639248</td>\n",
       "      <td>0.799506</td>\n",
       "      <td>0.856007</td>\n",
       "      <td>0.590866</td>\n",
       "      <td>0.024003</td>\n",
       "      <td>0.151346</td>\n",
       "      <td>0.872319</td>\n",
       "      <td>0.828416</td>\n",
       "    </tr>\n",
       "    <tr>\n",
       "      <th>6078</th>\n",
       "      <td>0.706342</td>\n",
       "      <td>0.499246</td>\n",
       "      <td>0.168471</td>\n",
       "      <td>0.281040</td>\n",
       "      <td>0.801493</td>\n",
       "      <td>0.509497</td>\n",
       "      <td>0.552784</td>\n",
       "      <td>0.561561</td>\n",
       "      <td>0.893259</td>\n",
       "      <td>0.000553</td>\n",
       "      <td>0.476323</td>\n",
       "      <td>0.198726</td>\n",
       "      <td>0.297237</td>\n",
       "      <td>0.024164</td>\n",
       "      <td>0.038222</td>\n",
       "      <td>0.092207</td>\n",
       "      <td>0.014880</td>\n",
       "      <td>0.024360</td>\n",
       "      <td>0.964080</td>\n",
       "      <td>0.000507</td>\n",
       "      <td>0.743257</td>\n",
       "      <td>0.741513</td>\n",
       "      <td>0.513889</td>\n",
       "      <td>0.836198</td>\n",
       "      <td>0.856849</td>\n",
       "      <td>0.520509</td>\n",
       "      <td>0.024853</td>\n",
       "      <td>0.023020</td>\n",
       "      <td>0.947270</td>\n",
       "      <td>0.725035</td>\n",
       "    </tr>\n",
       "  </tbody>\n",
       "</table>\n",
       "<p>6079 rows × 30 columns</p>\n",
       "</div>"
      ],
      "text/plain": [
       "      question_asker_intent_understanding  question_body_critical  \\\n",
       "0                                0.821893                0.631839   \n",
       "1                                0.823346                0.613689   \n",
       "2                                0.565489                0.301808   \n",
       "3                                0.820851                0.684406   \n",
       "4                                0.765967                0.801088   \n",
       "...                                   ...                     ...   \n",
       "6074                             0.848111                0.581138   \n",
       "6075                             0.813566                0.333190   \n",
       "6076                             0.612201                0.387870   \n",
       "6077                             0.822156                0.684396   \n",
       "6078                             0.706342                0.499246   \n",
       "\n",
       "      question_conversational  question_expect_short_answer  \\\n",
       "0                    0.235900                      0.641818   \n",
       "1                    0.023556                      0.586123   \n",
       "2                    0.005148                      0.697030   \n",
       "3                    0.044748                      0.861295   \n",
       "4                    0.004616                      0.671230   \n",
       "...                       ...                           ...   \n",
       "6074                 0.203067                      0.752026   \n",
       "6075                 0.071515                      0.517573   \n",
       "6076                 0.008691                      0.669278   \n",
       "6077                 0.809414                      0.233093   \n",
       "6078                 0.168471                      0.281040   \n",
       "\n",
       "      question_fact_seeking  question_has_commonly_accepted_answer  \\\n",
       "0                  0.602212                               0.416144   \n",
       "1                  0.918177                               0.713154   \n",
       "2                  0.772619                               0.872592   \n",
       "3                  0.830458                               0.914255   \n",
       "4                  0.767414                               0.884138   \n",
       "...                     ...                                    ...   \n",
       "6074               0.686352                               0.687393   \n",
       "6075               0.542612                               0.396373   \n",
       "6076               0.713810                               0.875085   \n",
       "6077               0.228940                               0.077111   \n",
       "6078               0.801493                               0.509497   \n",
       "\n",
       "      question_interestingness_others  question_interestingness_self  \\\n",
       "0                            0.633482                       0.595162   \n",
       "1                            0.553694                       0.678460   \n",
       "2                            0.389313                       0.214020   \n",
       "3                            0.586692                       0.619783   \n",
       "4                            0.496483                       0.418829   \n",
       "...                               ...                            ...   \n",
       "6074                         0.661886                       0.628899   \n",
       "6075                         0.726927                       0.714694   \n",
       "6076                         0.436252                       0.320881   \n",
       "6077                         0.612737                       0.724480   \n",
       "6078                         0.552784                       0.561561   \n",
       "\n",
       "      question_multi_intent  question_not_really_a_question  \\\n",
       "0                  0.113910                        0.009498   \n",
       "1                  0.495898                        0.001004   \n",
       "2                  0.096960                        0.003323   \n",
       "3                  0.292009                        0.001147   \n",
       "4                  0.197543                        0.000705   \n",
       "...                     ...                             ...   \n",
       "6074               0.582115                        0.002535   \n",
       "6075               0.071882                        0.002729   \n",
       "6076               0.181803                        0.002715   \n",
       "6077               0.612393                        0.002240   \n",
       "6078               0.893259                        0.000553   \n",
       "\n",
       "      question_opinion_seeking  question_type_choice  question_type_compare  \\\n",
       "0                     0.593455              0.127750               0.330722   \n",
       "1                     0.271873              0.114503               0.786473   \n",
       "2                     0.377125              0.151336               0.002040   \n",
       "3                     0.189904              0.964403               0.015604   \n",
       "4                     0.365777              0.441534               0.001749   \n",
       "...                        ...                   ...                    ...   \n",
       "6074                  0.509439              0.930688               0.138302   \n",
       "6075                  0.727500              0.014036               0.008290   \n",
       "6076                  0.466250              0.708927               0.004875   \n",
       "6077                  0.933838              0.703557               0.128570   \n",
       "6078                  0.476323              0.198726               0.297237   \n",
       "\n",
       "      question_type_consequence  question_type_definition  \\\n",
       "0                      0.047538                  0.030840   \n",
       "1                      0.004679                  0.707389   \n",
       "2                      0.001005                  0.000967   \n",
       "3                      0.013181                  0.062431   \n",
       "4                      0.000627                  0.000610   \n",
       "...                         ...                       ...   \n",
       "6074                   0.348233                  0.007382   \n",
       "6075                   0.004594                  0.001461   \n",
       "6076                   0.001808                  0.000710   \n",
       "6077                   0.068383                  0.006381   \n",
       "6078                   0.024164                  0.038222   \n",
       "\n",
       "      question_type_entity  question_type_instructions  \\\n",
       "0                 0.215652                    0.163943   \n",
       "1                 0.030484                    0.099272   \n",
       "2                 0.215936                    0.734544   \n",
       "3                 0.018629                    0.052242   \n",
       "4                 0.003937                    0.879921   \n",
       "...                    ...                         ...   \n",
       "6074              0.099952                    0.013362   \n",
       "6075              0.014681                    0.804700   \n",
       "6076              0.009979                    0.805153   \n",
       "6077              0.021131                    0.011263   \n",
       "6078              0.092207                    0.014880   \n",
       "\n",
       "      question_type_procedure  question_type_reason_explanation  \\\n",
       "0                    0.127828                          0.445187   \n",
       "1                    0.088714                          0.364932   \n",
       "2                    0.233255                          0.156845   \n",
       "3                    0.087393                          0.344722   \n",
       "4                    0.306053                          0.100760   \n",
       "...                       ...                               ...   \n",
       "6074                 0.033952                          0.729488   \n",
       "6075                 0.401893                          0.228192   \n",
       "6076                 0.346062                          0.163383   \n",
       "6077                 0.159910                          0.695702   \n",
       "6078                 0.024360                          0.964080   \n",
       "\n",
       "      question_type_spelling  question_well_written  answer_helpful  \\\n",
       "0                   0.002672               0.746272        0.889019   \n",
       "1                   0.006126               0.715766        0.475653   \n",
       "2                   0.000069               0.504837        0.849880   \n",
       "3                   0.001381               0.722060        0.855698   \n",
       "4                   0.000031               0.792631        0.761462   \n",
       "...                      ...                    ...             ...   \n",
       "6074                0.002119               0.736928        0.893108   \n",
       "6075                0.000083               0.661143        0.837075   \n",
       "6076                0.000093               0.525100        0.598352   \n",
       "6077                0.000253               0.881761        0.733082   \n",
       "6078                0.000507               0.743257        0.741513   \n",
       "\n",
       "      answer_level_of_information  answer_plausible  answer_relevance  \\\n",
       "0                        0.569963          0.951194          0.939363   \n",
       "1                        0.247999          0.735652          0.745255   \n",
       "2                        0.608707          0.905958          0.918765   \n",
       "3                        0.732204          0.903795          0.918394   \n",
       "4                        0.445234          0.852934          0.871553   \n",
       "...                           ...               ...               ...   \n",
       "6074                     0.722298          0.944674          0.919625   \n",
       "6075                     0.588126          0.912285          0.917383   \n",
       "6076                     0.432606          0.809449          0.781612   \n",
       "6077                     0.639248          0.799506          0.856007   \n",
       "6078                     0.513889          0.836198          0.856849   \n",
       "\n",
       "      answer_satisfaction  answer_type_instructions  answer_type_procedure  \\\n",
       "0                0.732597                  0.110206               0.105199   \n",
       "1                0.302841                  0.020818               0.031772   \n",
       "2                0.664809                  0.714353               0.289525   \n",
       "3                0.764786                  0.038044               0.084739   \n",
       "4                0.564388                  0.893489               0.253540   \n",
       "...                   ...                       ...                    ...   \n",
       "6074             0.728559                  0.094776               0.087455   \n",
       "6075             0.625990                  0.855865               0.372010   \n",
       "6076             0.419028                  0.657840               0.212188   \n",
       "6077             0.590866                  0.024003               0.151346   \n",
       "6078             0.520509                  0.024853               0.023020   \n",
       "\n",
       "      answer_type_reason_explanation  answer_well_written  \n",
       "0                           0.811110             0.701762  \n",
       "1                           0.454955             0.758368  \n",
       "2                           0.445894             0.767770  \n",
       "3                           0.863084             0.640506  \n",
       "4                           0.049680             0.610702  \n",
       "...                              ...                  ...  \n",
       "6074                        0.910592             0.739647  \n",
       "6075                        0.225992             0.843084  \n",
       "6076                        0.549205             0.488965  \n",
       "6077                        0.872319             0.828416  \n",
       "6078                        0.947270             0.725035  \n",
       "\n",
       "[6079 rows x 30 columns]"
      ]
     },
     "execution_count": 18,
     "metadata": {},
     "output_type": "execute_result"
    }
   ],
   "source": [
    "pd.DataFrame(oofs, columns=TARGETS)"
   ]
  },
  {
   "cell_type": "code",
   "execution_count": 19,
   "metadata": {},
   "outputs": [
    {
     "data": {
      "text/plain": [
       "question_asker_intent_understanding      0.388847\n",
       "question_body_critical                   0.620736\n",
       "question_conversational                  0.421202\n",
       "question_expect_short_answer             0.308676\n",
       "question_fact_seeking                    0.367837\n",
       "question_has_commonly_accepted_answer    0.434918\n",
       "question_interestingness_others          0.364872\n",
       "question_interestingness_self            0.512285\n",
       "question_multi_intent                    0.589107\n",
       "question_not_really_a_question           0.085652\n",
       "question_opinion_seeking                 0.484827\n",
       "question_type_choice                     0.743228\n",
       "question_type_compare                    0.364292\n",
       "question_type_consequence                0.192187\n",
       "question_type_definition                 0.362774\n",
       "question_type_entity                     0.460775\n",
       "question_type_instructions               0.783351\n",
       "question_type_procedure                  0.371225\n",
       "question_type_reason_explanation         0.671745\n",
       "question_type_spelling                   0.068869\n",
       "question_well_written                    0.520728\n",
       "answer_helpful                           0.246367\n",
       "answer_level_of_information              0.452429\n",
       "answer_plausible                         0.146585\n",
       "answer_relevance                         0.174770\n",
       "answer_satisfaction                      0.355057\n",
       "answer_type_instructions                 0.762103\n",
       "answer_type_procedure                    0.311802\n",
       "answer_type_reason_explanation           0.684419\n",
       "answer_well_written                      0.231212\n",
       "dtype: float64"
      ]
     },
     "execution_count": 19,
     "metadata": {},
     "output_type": "execute_result"
    }
   ],
   "source": [
    "rs = pd.Series({col: spearmanr(oofs[:,i], y[:,i])[0] for i, col in enumerate(TARGETS)})\n",
    "rs"
   ]
  },
  {
   "cell_type": "code",
   "execution_count": 20,
   "metadata": {},
   "outputs": [
    {
     "data": {
      "text/html": [
       "<div>\n",
       "<style scoped>\n",
       "    .dataframe tbody tr th:only-of-type {\n",
       "        vertical-align: middle;\n",
       "    }\n",
       "\n",
       "    .dataframe tbody tr th {\n",
       "        vertical-align: top;\n",
       "    }\n",
       "\n",
       "    .dataframe thead th {\n",
       "        text-align: right;\n",
       "    }\n",
       "</style>\n",
       "<table border=\"1\" class=\"dataframe\">\n",
       "  <thead>\n",
       "    <tr style=\"text-align: right;\">\n",
       "      <th></th>\n",
       "      <th>SpearmanCorr</th>\n",
       "      <th>NUnique</th>\n",
       "    </tr>\n",
       "  </thead>\n",
       "  <tbody>\n",
       "    <tr>\n",
       "      <th>question_type_spelling</th>\n",
       "      <td>0.068869</td>\n",
       "      <td>3.0</td>\n",
       "    </tr>\n",
       "    <tr>\n",
       "      <th>question_not_really_a_question</th>\n",
       "      <td>0.085652</td>\n",
       "      <td>5.0</td>\n",
       "    </tr>\n",
       "    <tr>\n",
       "      <th>answer_plausible</th>\n",
       "      <td>0.146585</td>\n",
       "      <td>9.0</td>\n",
       "    </tr>\n",
       "    <tr>\n",
       "      <th>answer_relevance</th>\n",
       "      <td>0.174770</td>\n",
       "      <td>9.0</td>\n",
       "    </tr>\n",
       "    <tr>\n",
       "      <th>question_type_consequence</th>\n",
       "      <td>0.192187</td>\n",
       "      <td>5.0</td>\n",
       "    </tr>\n",
       "    <tr>\n",
       "      <th>answer_well_written</th>\n",
       "      <td>0.231212</td>\n",
       "      <td>9.0</td>\n",
       "    </tr>\n",
       "    <tr>\n",
       "      <th>answer_helpful</th>\n",
       "      <td>0.246367</td>\n",
       "      <td>9.0</td>\n",
       "    </tr>\n",
       "    <tr>\n",
       "      <th>question_expect_short_answer</th>\n",
       "      <td>0.308676</td>\n",
       "      <td>5.0</td>\n",
       "    </tr>\n",
       "    <tr>\n",
       "      <th>answer_type_procedure</th>\n",
       "      <td>0.311802</td>\n",
       "      <td>5.0</td>\n",
       "    </tr>\n",
       "    <tr>\n",
       "      <th>answer_satisfaction</th>\n",
       "      <td>0.355057</td>\n",
       "      <td>17.0</td>\n",
       "    </tr>\n",
       "    <tr>\n",
       "      <th>question_type_definition</th>\n",
       "      <td>0.362774</td>\n",
       "      <td>5.0</td>\n",
       "    </tr>\n",
       "    <tr>\n",
       "      <th>question_type_compare</th>\n",
       "      <td>0.364292</td>\n",
       "      <td>5.0</td>\n",
       "    </tr>\n",
       "    <tr>\n",
       "      <th>question_interestingness_others</th>\n",
       "      <td>0.364872</td>\n",
       "      <td>9.0</td>\n",
       "    </tr>\n",
       "    <tr>\n",
       "      <th>question_fact_seeking</th>\n",
       "      <td>0.367837</td>\n",
       "      <td>5.0</td>\n",
       "    </tr>\n",
       "    <tr>\n",
       "      <th>question_type_procedure</th>\n",
       "      <td>0.371225</td>\n",
       "      <td>5.0</td>\n",
       "    </tr>\n",
       "    <tr>\n",
       "      <th>question_asker_intent_understanding</th>\n",
       "      <td>0.388847</td>\n",
       "      <td>9.0</td>\n",
       "    </tr>\n",
       "    <tr>\n",
       "      <th>question_conversational</th>\n",
       "      <td>0.421202</td>\n",
       "      <td>5.0</td>\n",
       "    </tr>\n",
       "    <tr>\n",
       "      <th>question_has_commonly_accepted_answer</th>\n",
       "      <td>0.434918</td>\n",
       "      <td>5.0</td>\n",
       "    </tr>\n",
       "    <tr>\n",
       "      <th>answer_level_of_information</th>\n",
       "      <td>0.452429</td>\n",
       "      <td>9.0</td>\n",
       "    </tr>\n",
       "    <tr>\n",
       "      <th>question_type_entity</th>\n",
       "      <td>0.460775</td>\n",
       "      <td>5.0</td>\n",
       "    </tr>\n",
       "    <tr>\n",
       "      <th>question_opinion_seeking</th>\n",
       "      <td>0.484827</td>\n",
       "      <td>5.0</td>\n",
       "    </tr>\n",
       "    <tr>\n",
       "      <th>question_interestingness_self</th>\n",
       "      <td>0.512285</td>\n",
       "      <td>9.0</td>\n",
       "    </tr>\n",
       "    <tr>\n",
       "      <th>question_well_written</th>\n",
       "      <td>0.520728</td>\n",
       "      <td>9.0</td>\n",
       "    </tr>\n",
       "    <tr>\n",
       "      <th>question_multi_intent</th>\n",
       "      <td>0.589107</td>\n",
       "      <td>5.0</td>\n",
       "    </tr>\n",
       "    <tr>\n",
       "      <th>question_body_critical</th>\n",
       "      <td>0.620736</td>\n",
       "      <td>9.0</td>\n",
       "    </tr>\n",
       "    <tr>\n",
       "      <th>question_type_reason_explanation</th>\n",
       "      <td>0.671745</td>\n",
       "      <td>5.0</td>\n",
       "    </tr>\n",
       "    <tr>\n",
       "      <th>answer_type_reason_explanation</th>\n",
       "      <td>0.684419</td>\n",
       "      <td>5.0</td>\n",
       "    </tr>\n",
       "    <tr>\n",
       "      <th>question_type_choice</th>\n",
       "      <td>0.743228</td>\n",
       "      <td>5.0</td>\n",
       "    </tr>\n",
       "    <tr>\n",
       "      <th>answer_type_instructions</th>\n",
       "      <td>0.762103</td>\n",
       "      <td>5.0</td>\n",
       "    </tr>\n",
       "    <tr>\n",
       "      <th>question_type_instructions</th>\n",
       "      <td>0.783351</td>\n",
       "      <td>5.0</td>\n",
       "    </tr>\n",
       "  </tbody>\n",
       "</table>\n",
       "</div>"
      ],
      "text/plain": [
       "                                       SpearmanCorr  NUnique\n",
       "question_type_spelling                     0.068869      3.0\n",
       "question_not_really_a_question             0.085652      5.0\n",
       "answer_plausible                           0.146585      9.0\n",
       "answer_relevance                           0.174770      9.0\n",
       "question_type_consequence                  0.192187      5.0\n",
       "answer_well_written                        0.231212      9.0\n",
       "answer_helpful                             0.246367      9.0\n",
       "question_expect_short_answer               0.308676      5.0\n",
       "answer_type_procedure                      0.311802      5.0\n",
       "answer_satisfaction                        0.355057     17.0\n",
       "question_type_definition                   0.362774      5.0\n",
       "question_type_compare                      0.364292      5.0\n",
       "question_interestingness_others            0.364872      9.0\n",
       "question_fact_seeking                      0.367837      5.0\n",
       "question_type_procedure                    0.371225      5.0\n",
       "question_asker_intent_understanding        0.388847      9.0\n",
       "question_conversational                    0.421202      5.0\n",
       "question_has_commonly_accepted_answer      0.434918      5.0\n",
       "answer_level_of_information                0.452429      9.0\n",
       "question_type_entity                       0.460775      5.0\n",
       "question_opinion_seeking                   0.484827      5.0\n",
       "question_interestingness_self              0.512285      9.0\n",
       "question_well_written                      0.520728      9.0\n",
       "question_multi_intent                      0.589107      5.0\n",
       "question_body_critical                     0.620736      9.0\n",
       "question_type_reason_explanation           0.671745      5.0\n",
       "answer_type_reason_explanation             0.684419      5.0\n",
       "question_type_choice                       0.743228      5.0\n",
       "answer_type_instructions                   0.762103      5.0\n",
       "question_type_instructions                 0.783351      5.0"
      ]
     },
     "execution_count": 20,
     "metadata": {},
     "output_type": "execute_result"
    }
   ],
   "source": [
    "rs_df = pd.DataFrame(np.vstack([rs.values.flatten(), train[TARGETS].nunique()]).T, \n",
    "                     columns=['SpearmanCorr', 'NUnique'], index=rs.index)\n",
    "rs_df.sort_values('SpearmanCorr', ascending=True)"
   ]
  },
  {
   "cell_type": "code",
   "execution_count": 21,
   "metadata": {},
   "outputs": [
    {
     "data": {
      "text/plain": [
       "Index(['question_type_spelling', 'question_not_really_a_question',\n",
       "       'answer_plausible', 'answer_relevance', 'question_type_consequence'],\n",
       "      dtype='object')"
      ]
     },
     "execution_count": 21,
     "metadata": {},
     "output_type": "execute_result"
    }
   ],
   "source": [
    "sorted_targets = rs_df.sort_values('SpearmanCorr', ascending=True).index\n",
    "worst_five_targets = sorted_targets[:5]\n",
    "worst_five_targets"
   ]
  },
  {
   "cell_type": "code",
   "execution_count": 22,
   "metadata": {
    "scrolled": true
   },
   "outputs": [
    {
     "data": {
      "image/png": "[encoded data removed]",
      "text/plain": [
       "<Figure size 432x288 with 1 Axes>"
      ]
     },
     "metadata": {
      "needs_background": "light"
     },
     "output_type": "display_data"
    },
    {
     "data": {
      "image/png": "[encoded data removed]",
      "text/plain": [
       "<Figure size 432x288 with 1 Axes>"
      ]
     },
     "metadata": {
      "needs_background": "light"
     },
     "output_type": "display_data"
    },
    {
     "data": {
      "image/png": "[encoded data removed]",
      "text/plain": [
       "<Figure size 432x288 with 1 Axes>"
      ]
     },
     "metadata": {
      "needs_background": "light"
     },
     "output_type": "display_data"
    },
    {
     "data": {
      "image/png": "[encoded data removed]",
      "text/plain": [
       "<Figure size 432x288 with 1 Axes>"
      ]
     },
     "metadata": {
      "needs_background": "light"
     },
     "output_type": "display_data"
    },
    {
     "data": {
      "image/png": "[encoded data removed]",
      "text/plain": [
       "<Figure size 432x288 with 1 Axes>"
      ]
     },
     "metadata": {
      "needs_background": "light"
     },
     "output_type": "display_data"
    }
   ],
   "source": [
    "for col in worst_five_targets:\n",
    "    plt.figure()\n",
    "    train[col].hist()\n",
    "    plt.title(f'{col} {np.round(rs[col],3)}')"
   ]
  },
  {
   "cell_type": "code",
   "execution_count": 23,
   "metadata": {},
   "outputs": [
    {
     "name": "stderr",
     "output_type": "stream",
     "text": [
      "/home/robin/anaconda3/envs/GoogleQuest/lib/python3.7/site-packages/ipykernel_launcher.py:2: RuntimeWarning: More than 20 figures have been opened. Figures created through the pyplot interface (`matplotlib.pyplot.figure`) are retained until explicitly closed and may consume too much memory. (To control this warning, see the rcParam `figure.max_open_warning`).\n",
      "  \n"
     ]
    },
    {
     "data": {
      "image/png": "[encoded data removed]",
      "text/plain": [
       "<Figure size 432x288 with 1 Axes>"
      ]
     },
     "metadata": {
      "needs_background": "light"
     },
     "output_type": "display_data"
    },
    {
     "data": {
      "image/png": "[encoded data removed]",
      "text/plain": [
       "<Figure size 432x288 with 1 Axes>"
      ]
     },
     "metadata": {
      "needs_background": "light"
     },
     "output_type": "display_data"
    },
    {
     "data": {
      "image/png": "[encoded data removed]",
      "text/plain": [
       "<Figure size 432x288 with 1 Axes>"
      ]
     },
     "metadata": {
      "needs_background": "light"
     },
     "output_type": "display_data"
    },
    {
     "data": {
      "image/png": "[encoded data removed]",
      "text/plain": [
       "<Figure size 432x288 with 1 Axes>"
      ]
     },
     "metadata": {
      "needs_background": "light"
     },
     "output_type": "display_data"
    },
    {
     "data": {
      "image/png": "[encoded data removed]",
      "text/plain": [
       "<Figure size 432x288 with 1 Axes>"
      ]
     },
     "metadata": {
      "needs_background": "light"
     },
     "output_type": "display_data"
    },
    {
     "data": {
      "image/png": "[encoded data removed]",
      "text/plain": [
       "<Figure size 432x288 with 1 Axes>"
      ]
     },
     "metadata": {
      "needs_background": "light"
     },
     "output_type": "display_data"
    },
    {
     "data": {
      "image/png": "[encoded data removed]",
      "text/plain": [
       "<Figure size 432x288 with 1 Axes>"
      ]
     },
     "metadata": {
      "needs_background": "light"
     },
     "output_type": "display_data"
    },
    {
     "data": {
      "image/png": "[encoded data removed]",
      "text/plain": [
       "<Figure size 432x288 with 1 Axes>"
      ]
     },
     "metadata": {
      "needs_background": "light"
     },
     "output_type": "display_data"
    },
    {
     "data": {
      "image/png": "[encoded data removed]",
      "text/plain": [
       "<Figure size 432x288 with 1 Axes>"
      ]
     },
     "metadata": {
      "needs_background": "light"
     },
     "output_type": "display_data"
    },
    {
     "data": {
      "image/png": "[encoded data removed]",
      "text/plain": [
       "<Figure size 432x288 with 1 Axes>"
      ]
     },
     "metadata": {
      "needs_background": "light"
     },
     "output_type": "display_data"
    },
    {
     "data": {
      "image/png": "[encoded data removed]",
      "text/plain": [
       "<Figure size 432x288 with 1 Axes>"
      ]
     },
     "metadata": {
      "needs_background": "light"
     },
     "output_type": "display_data"
    },
    {
     "data": {
      "image/png": "[encoded data removed]",
      "text/plain": [
       "<Figure size 432x288 with 1 Axes>"
      ]
     },
     "metadata": {
      "needs_background": "light"
     },
     "output_type": "display_data"
    },
    {
     "data": {
      "image/png": "[encoded data removed]",
      "text/plain": [
       "<Figure size 432x288 with 1 Axes>"
      ]
     },
     "metadata": {
      "needs_background": "light"
     },
     "output_type": "display_data"
    },
    {
     "data": {
      "image/png": "[encoded data removed]",
      "text/plain": [
       "<Figure size 432x288 with 1 Axes>"
      ]
     },
     "metadata": {
      "needs_background": "light"
     },
     "output_type": "display_data"
    },
    {
     "data": {
      "image/png": "[encoded data removed]",
      "text/plain": [
       "<Figure size 432x288 with 1 Axes>"
      ]
     },
     "metadata": {
      "needs_background": "light"
     },
     "output_type": "display_data"
    },
    {
     "data": {
      "image/png": "[encoded data removed]",
      "text/plain": [
       "<Figure size 432x288 with 1 Axes>"
      ]
     },
     "metadata": {
      "needs_background": "light"
     },
     "output_type": "display_data"
    },
    {
     "data": {
      "image/png": "[encoded data removed]",
      "text/plain": [
       "<Figure size 432x288 with 1 Axes>"
      ]
     },
     "metadata": {
      "needs_background": "light"
     },
     "output_type": "display_data"
    },
    {
     "data": {
      "image/png": "[encoded data removed]",
      "text/plain": [
       "<Figure size 432x288 with 1 Axes>"
      ]
     },
     "metadata": {
      "needs_background": "light"
     },
     "output_type": "display_data"
    },
    {
     "data": {
      "image/png": "[encoded data removed]",
      "text/plain": [
       "<Figure size 432x288 with 1 Axes>"
      ]
     },
     "metadata": {
      "needs_background": "light"
     },
     "output_type": "display_data"
    },
    {
     "data": {
      "image/png": "[encoded data removed]",
      "text/plain": [
       "<Figure size 432x288 with 1 Axes>"
      ]
     },
     "metadata": {
      "needs_background": "light"
     },
     "output_type": "display_data"
    },
    {
     "data": {
      "image/png": "[encoded data removed]",
      "text/plain": [
       "<Figure size 432x288 with 1 Axes>"
      ]
     },
     "metadata": {
      "needs_background": "light"
     },
     "output_type": "display_data"
    },
    {
     "data": {
      "image/png": "[encoded data removed]",
      "text/plain": [
       "<Figure size 432x288 with 1 Axes>"
      ]
     },
     "metadata": {
      "needs_background": "light"
     },
     "output_type": "display_data"
    },
    {
     "data": {
      "image/png": "[encoded data removed]",
      "text/plain": [
       "<Figure size 432x288 with 1 Axes>"
      ]
     },
     "metadata": {
      "needs_background": "light"
     },
     "output_type": "display_data"
    },
    {
     "data": {
      "image/png": "[encoded data removed]",
      "text/plain": [
       "<Figure size 432x288 with 1 Axes>"
      ]
     },
     "metadata": {
      "needs_background": "light"
     },
     "output_type": "display_data"
    },
    {
     "data": {
      "image/png": "[encoded data removed]",
      "text/plain": [
       "<Figure size 432x288 with 1 Axes>"
      ]
     },
     "metadata": {
      "needs_background": "light"
     },
     "output_type": "display_data"
    }
   ],
   "source": [
    "for col in [target for target in sorted_targets if target not in worst_five_targets]:\n",
    "    plt.figure()\n",
    "    train[col].hist()\n",
    "    plt.title(f'{col} {np.round(rs[col],3)}')"
   ]
  },
  {
   "cell_type": "code",
   "execution_count": null,
   "metadata": {},
   "outputs": [],
   "source": []
  }
 ],
 "metadata": {
  "kernelspec": {
   "display_name": "Python 3",
   "language": "python",
   "name": "python3"
  },
  "language_info": {
   "codemirror_mode": {
    "name": "ipython",
    "version": 3
   },
   "file_extension": ".py",
   "mimetype": "text/x-python",
   "name": "python",
   "nbconvert_exporter": "python",
   "pygments_lexer": "ipython3",
   "version": "3.7.5"
  }
 },
 "nbformat": 4,
 "nbformat_minor": 1
}
