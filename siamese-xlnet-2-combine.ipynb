{
 "cells": [
  {
   "cell_type": "markdown",
   "metadata": {},
   "source": [
    "## Importing libraries"
   ]
  },
  {
   "cell_type": "code",
   "execution_count": 1,
   "metadata": {
    "_kg_hide-input": true
   },
   "outputs": [],
   "source": [
    "import numpy as np\n",
    "import pandas as pd\n",
    "import matplotlib.pyplot as plt\n",
    "import seaborn as sns\n",
    "import time\n",
    "import datetime\n",
    "import re\n",
    "import gc\n",
    "import copy\n",
    "\n",
    "from scipy.stats import spearmanr\n",
    "from sklearn.model_selection import GroupKFold\n",
    "from sklearn.preprocessing import OneHotEncoder, MinMaxScaler\n",
    "\n",
    "import torch\n",
    "import torch.nn as nn\n",
    "import torch.optim as optim\n",
    "import torch.nn.functional as F\n",
    "from torch.utils.data import DataLoader\n",
    "\n",
    "from tqdm import tqdm_notebook as tqdm\n",
    "from transformers import XLNetTokenizer\n",
    "import transformers\n",
    "\n",
    "from radam import RAdam\n",
    "from text_data import TextDataset5 as TextDataset\n",
    "from xlnet import CustomXLNet\n",
    "from create_features import get_categorical_features\n",
    "from losses_metrics import spearmanr_torch, spearmanr_np, optimize_rounding_params, get_cvs, spearmanr\n",
    "from inference import infer\n",
    "from common import *\n",
    "from utils.helpers import init_logger, init_seed\n",
    "from utils.torch import to_cpu\n",
    "\n",
    "%matplotlib inline\n",
    "pd.set_option('max_colwidth',400)"
   ]
  },
  {
   "cell_type": "markdown",
   "metadata": {},
   "source": [
    "## Loading and preparing data"
   ]
  },
  {
   "cell_type": "code",
   "execution_count": 2,
   "metadata": {
    "_cell_guid": "b1076dfc-b9ad-4769-8c92-a6c4dae69d19",
    "_uuid": "8f2839f25d086af736a60e9eeb907d3b93b6e0e5"
   },
   "outputs": [],
   "source": [
    "pd.set_option('max_rows', 500)\n",
    "pd.set_option('max_columns', 500)\n",
    "path = 'data/'\n",
    "sample_submission = pd.read_csv(f'{path}sample_submission.csv')\n",
    "test = pd.read_csv(f'{path}test.csv').fillna(' ')\n",
    "train = pd.read_csv(f'{path}train.csv').fillna(' ')"
   ]
  },
  {
   "cell_type": "code",
   "execution_count": 3,
   "metadata": {},
   "outputs": [
    {
     "name": "stderr",
     "output_type": "stream",
     "text": [
      "/home/robin/anaconda3/envs/GoogleQuest/lib/python3.7/site-packages/ipykernel_launcher.py:9: TqdmDeprecationWarning: This function will be removed in tqdm==5.0.0\n",
      "Please use `tqdm.notebook.tqdm` instead of `tqdm.tqdm_notebook`\n",
      "  if __name__ == '__main__':\n"
     ]
    },
    {
     "data": {
      "application/vnd.jupyter.widget-view+json": {
       "model_id": "eb4d239921fd46b89c25a0d51f7ace24",
       "version_major": 2,
       "version_minor": 0
      },
      "text/plain": [
       "HBox(children=(IntProgress(value=0, max=6079), HTML(value='')))"
      ]
     },
     "metadata": {},
     "output_type": "display_data"
    },
    {
     "name": "stdout",
     "output_type": "stream",
     "text": [
      "\n"
     ]
    },
    {
     "data": {
      "application/vnd.jupyter.widget-view+json": {
       "model_id": "944d4331ed99473fb5ff9fe4ef765874",
       "version_major": 2,
       "version_minor": 0
      },
      "text/plain": [
       "HBox(children=(IntProgress(value=0, max=6079), HTML(value='')))"
      ]
     },
     "metadata": {},
     "output_type": "display_data"
    },
    {
     "name": "stdout",
     "output_type": "stream",
     "text": [
      "\n"
     ]
    },
    {
     "data": {
      "application/vnd.jupyter.widget-view+json": {
       "model_id": "a57720481bbe480f952a19a3ad23c600",
       "version_major": 2,
       "version_minor": 0
      },
      "text/plain": [
       "HBox(children=(IntProgress(value=0, max=476), HTML(value='')))"
      ]
     },
     "metadata": {},
     "output_type": "display_data"
    },
    {
     "name": "stdout",
     "output_type": "stream",
     "text": [
      "\n"
     ]
    },
    {
     "data": {
      "application/vnd.jupyter.widget-view+json": {
       "model_id": "90ce22bcd5c542e9987a1e8150546762",
       "version_major": 2,
       "version_minor": 0
      },
      "text/plain": [
       "HBox(children=(IntProgress(value=0, max=476), HTML(value='')))"
      ]
     },
     "metadata": {},
     "output_type": "display_data"
    },
    {
     "name": "stdout",
     "output_type": "stream",
     "text": [
      "\n",
      "CPU times: user 12.4 s, sys: 141 ms, total: 12.6 s\n",
      "Wall time: 12.9 s\n"
     ]
    }
   ],
   "source": [
    "%%time\n",
    "tokenizer = XLNetTokenizer.from_pretrained('xlnet-base-cased')\n",
    "seg_ids_train, ids_train = {}, {}\n",
    "seg_ids_test, ids_test = {}, {}\n",
    "max_seq_len = 512\n",
    "for mode, df in [('train', train), ('test', test)]:\n",
    "    for text, cols in [('question', ['question_title', 'question_body']), \n",
    "                       ('answer', ['question_title', 'answer'])]:\n",
    "        ids, seg_ids = [], []\n",
    "        for x1, x2 in tqdm(df[cols].values):\n",
    "            encoded_inputs = tokenizer.encode_plus(\n",
    "                x1, x2, add_special_tokens=True, max_length=max_seq_len, pad_to_max_length=True, \n",
    "                return_token_type_ids=True\n",
    "            )\n",
    "            ids.append(encoded_inputs['input_ids'])\n",
    "            seg_ids.append(encoded_inputs['token_type_ids'])\n",
    "        if mode == 'train': \n",
    "            ids_train[text] = np.array(ids)\n",
    "            seg_ids_train[text] = np.array(seg_ids)\n",
    "        else: \n",
    "            ids_test[text] = np.array(ids)\n",
    "            seg_ids_test[text] = np.array(seg_ids)"
   ]
  },
  {
   "cell_type": "code",
   "execution_count": 4,
   "metadata": {
    "code_folding": []
   },
   "outputs": [],
   "source": [
    "train_category, test_category, category_dict, category_dict_reverse = \\\n",
    "    get_categorical_features(train, test, 'category')"
   ]
  },
  {
   "cell_type": "code",
   "execution_count": 5,
   "metadata": {},
   "outputs": [
    {
     "name": "stderr",
     "output_type": "stream",
     "text": [
      "/home/robin/anaconda3/envs/GoogleQuest/lib/python3.7/site-packages/sklearn/preprocessing/_encoders.py:415: FutureWarning: The handling of integer data will change in version 0.22. Currently, the categories are determined based on the range [0, max(values)], while in the future they will be determined based on the unique values.\n",
      "If you want the future behaviour and silence this warning, you can specify \"categories='auto'\".\n",
      "In case you used a LabelEncoder before this OneHotEncoder to convert the categories to integers, then you can now use the OneHotEncoder directly.\n",
      "  warnings.warn(msg, FutureWarning)\n"
     ]
    }
   ],
   "source": [
    "cat_features_train = train_category.reshape(-1, 1)\n",
    "cat_features_test = test_category.reshape(-1, 1)\n",
    "ohe = OneHotEncoder()\n",
    "ohe.fit(cat_features_train)\n",
    "cat_features_train = ohe.transform(cat_features_train).toarray()\n",
    "cat_features_test = ohe.transform(cat_features_test).toarray()"
   ]
  },
  {
   "cell_type": "code",
   "execution_count": 6,
   "metadata": {},
   "outputs": [],
   "source": [
    "for col in TARGETS:\n",
    "    train[col] = train[col].rank(method=\"average\")\n",
    "train[TARGETS] = MinMaxScaler().fit_transform(train[TARGETS])\n",
    "y = train[TARGETS].values.astype(np.float32)\n",
    "ix = np.where(train.groupby(\"question_body\")[\"host\"].transform(\"count\") == 1)[0]"
   ]
  },
  {
   "cell_type": "code",
   "execution_count": 7,
   "metadata": {},
   "outputs": [],
   "source": [
    "num_workers = 10\n",
    "bs = 2"
   ]
  },
  {
   "cell_type": "markdown",
   "metadata": {},
   "source": [
    "## Training model"
   ]
  },
  {
   "cell_type": "code",
   "execution_count": 8,
   "metadata": {},
   "outputs": [],
   "source": [
    "device = 'cuda'\n",
    "pretrained_model = 'siamese_xlnet_2'\n",
    "head_model_name = 'siamese_xlnet_2_head'\n",
    "model_name = 'siamese_xlnet_2_comb'\n",
    "checkpoint_dir = 'checkpoints/'\n",
    "early_stopping = None\n",
    "n_folds = 10"
   ]
  },
  {
   "cell_type": "code",
   "execution_count": 9,
   "metadata": {},
   "outputs": [],
   "source": [
    "def load_model(checkpoint_file, model):\n",
    "    checkpoint = torch.load(checkpoint_file)\n",
    "    model.load_state_dict(checkpoint['model_state_dict'])\n",
    "    \n",
    "def get_pretrained_model(fold_id):\n",
    "    checkpoint_file = f'{checkpoint_dir}{pretrained_model}_fold_{fold_id+1}_best.pth'\n",
    "    model = CustomXLNet(256, cat_features_train.shape[1], head_dropout=0.5)\n",
    "    load_model(checkpoint_file, model)\n",
    "    return model\n",
    "\n",
    "def load_head(model, fold_id):\n",
    "    checkpoint_file = f'{checkpoint_dir}{head_model_name}_fold_{fold_id+1}_best.pth'\n",
    "    load_model(checkpoint_file, model.head)\n",
    "\n",
    "def save_model(model):\n",
    "    checkpoint_file = f'{checkpoint_dir}{model_name}_fold_{fold_id+1}_best.pth'\n",
    "    torch.save({'model_state_dict': model.state_dict()}, checkpoint_file)\n",
    "    \n",
    "def load_saved_model(model):\n",
    "    checkpoint_file = f'{checkpoint_dir}{model_name}_fold_{fold_id+1}_best.pth'\n",
    "    load_model(checkpoint_file, model)"
   ]
  },
  {
   "cell_type": "code",
   "execution_count": 10,
   "metadata": {
    "scrolled": true
   },
   "outputs": [
    {
     "name": "stdout",
     "output_type": "stream",
     "text": [
      "Fold 1 started at Tue Feb  4 23:01:16 2020\n"
     ]
    },
    {
     "data": {
      "application/vnd.jupyter.widget-view+json": {
       "model_id": "81ea105cc542421b93993aede99ae929",
       "version_major": 2,
       "version_minor": 0
      },
      "text/plain": [
       "HBox(children=(IntProgress(value=0, max=304), HTML(value='')))"
      ]
     },
     "metadata": {},
     "output_type": "display_data"
    },
    {
     "name": "stdout",
     "output_type": "stream",
     "text": [
      "\n",
      "Averaged Val. score: 0.42139518172972334\n",
      "Fold 2 started at Tue Feb  4 23:02:17 2020\n"
     ]
    },
    {
     "name": "stderr",
     "output_type": "stream",
     "text": [
      "/home/robin/anaconda3/envs/GoogleQuest/lib/python3.7/site-packages/numpy/lib/function_base.py:2534: RuntimeWarning: invalid value encountered in true_divide\n",
      "  c /= stddev[:, None]\n",
      "/home/robin/anaconda3/envs/GoogleQuest/lib/python3.7/site-packages/numpy/lib/function_base.py:2535: RuntimeWarning: invalid value encountered in true_divide\n",
      "  c /= stddev[None, :]\n",
      "/home/robin/anaconda3/envs/GoogleQuest/lib/python3.7/site-packages/scipy/stats/_distn_infrastructure.py:901: RuntimeWarning: invalid value encountered in greater\n",
      "  return (a < x) & (x < b)\n",
      "/home/robin/anaconda3/envs/GoogleQuest/lib/python3.7/site-packages/scipy/stats/_distn_infrastructure.py:901: RuntimeWarning: invalid value encountered in less\n",
      "  return (a < x) & (x < b)\n",
      "/home/robin/anaconda3/envs/GoogleQuest/lib/python3.7/site-packages/scipy/stats/_distn_infrastructure.py:1892: RuntimeWarning: invalid value encountered in less_equal\n",
      "  cond2 = cond0 & (x <= _a)\n"
     ]
    },
    {
     "data": {
      "application/vnd.jupyter.widget-view+json": {
       "model_id": "7195a99ea81d4b2c86acdb48fc5b0c25",
       "version_major": 2,
       "version_minor": 0
      },
      "text/plain": [
       "HBox(children=(IntProgress(value=0, max=304), HTML(value='')))"
      ]
     },
     "metadata": {},
     "output_type": "display_data"
    },
    {
     "name": "stdout",
     "output_type": "stream",
     "text": [
      "\n",
      "Averaged Val. score: 0.4294127243692067\n",
      "Fold 3 started at Tue Feb  4 23:03:16 2020\n"
     ]
    },
    {
     "data": {
      "application/vnd.jupyter.widget-view+json": {
       "model_id": "aeaa5fc38fed48aaa33787688b47c3ec",
       "version_major": 2,
       "version_minor": 0
      },
      "text/plain": [
       "HBox(children=(IntProgress(value=0, max=304), HTML(value='')))"
      ]
     },
     "metadata": {},
     "output_type": "display_data"
    },
    {
     "name": "stdout",
     "output_type": "stream",
     "text": [
      "\n",
      "Averaged Val. score: 0.4138726870381882\n",
      "Fold 4 started at Tue Feb  4 23:04:15 2020\n"
     ]
    },
    {
     "data": {
      "application/vnd.jupyter.widget-view+json": {
       "model_id": "57714b7667674d808ebeebf370e5396e",
       "version_major": 2,
       "version_minor": 0
      },
      "text/plain": [
       "HBox(children=(IntProgress(value=0, max=304), HTML(value='')))"
      ]
     },
     "metadata": {},
     "output_type": "display_data"
    },
    {
     "name": "stdout",
     "output_type": "stream",
     "text": [
      "\n",
      "Averaged Val. score: 0.4056661197023021\n",
      "Fold 5 started at Tue Feb  4 23:05:12 2020\n"
     ]
    },
    {
     "data": {
      "application/vnd.jupyter.widget-view+json": {
       "model_id": "152ffd1fd7fa401e97a2a7cc28ef2c9e",
       "version_major": 2,
       "version_minor": 0
      },
      "text/plain": [
       "HBox(children=(IntProgress(value=0, max=304), HTML(value='')))"
      ]
     },
     "metadata": {},
     "output_type": "display_data"
    },
    {
     "name": "stdout",
     "output_type": "stream",
     "text": [
      "\n",
      "Averaged Val. score: 0.40585010532331045\n",
      "Fold 6 started at Tue Feb  4 23:06:11 2020\n"
     ]
    },
    {
     "data": {
      "application/vnd.jupyter.widget-view+json": {
       "model_id": "3f54ec8d908a43a7bfd858da15ccdc98",
       "version_major": 2,
       "version_minor": 0
      },
      "text/plain": [
       "HBox(children=(IntProgress(value=0, max=304), HTML(value='')))"
      ]
     },
     "metadata": {},
     "output_type": "display_data"
    },
    {
     "name": "stdout",
     "output_type": "stream",
     "text": [
      "\n",
      "Averaged Val. score: 0.39311000597495527\n",
      "Fold 7 started at Tue Feb  4 23:07:08 2020\n"
     ]
    },
    {
     "data": {
      "application/vnd.jupyter.widget-view+json": {
       "model_id": "5a75632e16744724b412e21a7f036791",
       "version_major": 2,
       "version_minor": 0
      },
      "text/plain": [
       "HBox(children=(IntProgress(value=0, max=304), HTML(value='')))"
      ]
     },
     "metadata": {},
     "output_type": "display_data"
    },
    {
     "name": "stdout",
     "output_type": "stream",
     "text": [
      "\n",
      "Averaged Val. score: 0.4199223286222403\n",
      "Fold 8 started at Tue Feb  4 23:08:07 2020\n"
     ]
    },
    {
     "data": {
      "application/vnd.jupyter.widget-view+json": {
       "model_id": "aa7540694409484a94dda010767b49c0",
       "version_major": 2,
       "version_minor": 0
      },
      "text/plain": [
       "HBox(children=(IntProgress(value=0, max=304), HTML(value='')))"
      ]
     },
     "metadata": {},
     "output_type": "display_data"
    },
    {
     "name": "stdout",
     "output_type": "stream",
     "text": [
      "\n",
      "Averaged Val. score: 0.42062746379283594\n",
      "Fold 9 started at Tue Feb  4 23:09:05 2020\n"
     ]
    },
    {
     "data": {
      "application/vnd.jupyter.widget-view+json": {
       "model_id": "b93dc10b091b4e7f8ce439f6dfe6a306",
       "version_major": 2,
       "version_minor": 0
      },
      "text/plain": [
       "HBox(children=(IntProgress(value=0, max=304), HTML(value='')))"
      ]
     },
     "metadata": {},
     "output_type": "display_data"
    },
    {
     "name": "stdout",
     "output_type": "stream",
     "text": [
      "\n",
      "Averaged Val. score: 0.41405289972610493\n",
      "Fold 10 started at Tue Feb  4 23:10:03 2020\n"
     ]
    },
    {
     "data": {
      "application/vnd.jupyter.widget-view+json": {
       "model_id": "a228fb1203c846f5ae652981807604ae",
       "version_major": 2,
       "version_minor": 0
      },
      "text/plain": [
       "HBox(children=(IntProgress(value=0, max=304), HTML(value='')))"
      ]
     },
     "metadata": {},
     "output_type": "display_data"
    },
    {
     "name": "stdout",
     "output_type": "stream",
     "text": [
      "\n",
      "Averaged Val. score: 0.4258274090935042\n",
      "OOF score: 0.41556077330165947\n"
     ]
    }
   ],
   "source": [
    "init_seed()\n",
    "folds = GroupKFold(n_splits=n_folds).split(X=train['question_body'], groups=train['question_body'])\n",
    "oofs = np.zeros((len(train), N_TARGETS))\n",
    "\n",
    "for fold_id, (train_index, valid_index) in enumerate(folds):\n",
    "    print(f'Fold {fold_id + 1} started at {time.ctime()}')\n",
    "    train_loader = DataLoader(\n",
    "        TextDataset(cat_features_train, ids_train['question'], ids_train['answer'],\n",
    "                    seg_ids_train['question'], seg_ids_train['answer'], train_index, targets=y), \n",
    "        batch_size=bs, shuffle=True, num_workers=num_workers, drop_last=False\n",
    "    )\n",
    "    valid_loader = DataLoader(\n",
    "        TextDataset(cat_features_train, ids_train['question'], ids_train['answer'],\n",
    "                    seg_ids_train['question'], seg_ids_train['answer'], valid_index, targets=y), \n",
    "        batch_size=bs, shuffle=False, num_workers=num_workers, drop_last=False\n",
    "    )\n",
    "    \n",
    "    model = get_pretrained_model(fold_id)\n",
    "    load_head(model, fold_id)\n",
    "    model.half()\n",
    "    save_model(model)\n",
    "    load_saved_model(model)\n",
    "    model.float()\n",
    "    \n",
    "    oofs[valid_index] = infer(model, valid_loader, None, device)\n",
    "    print(f'Averaged Val. score: {spearmanr_np(oofs[valid_index], y[valid_index])}')\n",
    "    \n",
    "    del model, train_loader, valid_loader\n",
    "    gc.collect()\n",
    "    \n",
    "print(f'OOF score: {spearmanr_np(oofs, y)}')"
   ]
  },
  {
   "cell_type": "code",
   "execution_count": 11,
   "metadata": {
    "scrolled": true
   },
   "outputs": [
    {
     "name": "stdout",
     "output_type": "stream",
     "text": [
      "2 8 0.4835453778740177\n",
      "4 8 0.3718986751286994\n",
      "5 4 0.46504683145888465\n",
      "9 4 0.12206355237523608\n",
      "11 8 0.7587516193526186\n",
      "12 4 0.5492211127444508\n",
      "13 8 0.3111675493537907\n",
      "14 4 0.6402912549475727\n",
      "15 8 0.5884119608545337\n",
      "19 64 0.1415360556089553\n",
      "23 16 0.15096134947265108\n"
     ]
    }
   ],
   "source": [
    "opt_ds, opt_indices = optimize_rounding_params(oofs, y)"
   ]
  },
  {
   "cell_type": "code",
   "execution_count": 12,
   "metadata": {},
   "outputs": [
    {
     "data": {
      "text/plain": [
       "(array([ 8,  8,  4,  4,  8,  4,  8,  4,  8, 64, 16]),\n",
       " array([ 2,  4,  5,  9, 11, 12, 13, 14, 15, 19, 23]))"
      ]
     },
     "execution_count": 12,
     "metadata": {},
     "output_type": "execute_result"
    }
   ],
   "source": [
    "np.array(opt_ds), np.array(opt_indices)"
   ]
  },
  {
   "cell_type": "code",
   "execution_count": 13,
   "metadata": {
    "scrolled": false
   },
   "outputs": [],
   "source": [
    "oofs_alt = oofs.copy()\n",
    "train[\"eng\"] = train[\"url\"].apply(lambda x: x.startswith(\"http://english.\") or x.startswith(\"http://ell.\"))\n",
    "oofs_alt[np.where((~train[\"eng\"]).values)[0], 19] = 0"
   ]
  },
  {
   "cell_type": "code",
   "execution_count": 14,
   "metadata": {
    "scrolled": false
   },
   "outputs": [
    {
     "data": {
      "text/html": [
       "<div>\n",
       "<style scoped>\n",
       "    .dataframe tbody tr th:only-of-type {\n",
       "        vertical-align: middle;\n",
       "    }\n",
       "\n",
       "    .dataframe tbody tr th {\n",
       "        vertical-align: top;\n",
       "    }\n",
       "\n",
       "    .dataframe thead th {\n",
       "        text-align: right;\n",
       "    }\n",
       "</style>\n",
       "<table border=\"1\" class=\"dataframe\">\n",
       "  <thead>\n",
       "    <tr style=\"text-align: right;\">\n",
       "      <th></th>\n",
       "      <th>SpearmanR</th>\n",
       "    </tr>\n",
       "  </thead>\n",
       "  <tbody>\n",
       "    <tr>\n",
       "      <th>CV</th>\n",
       "      <td>0.415561</td>\n",
       "    </tr>\n",
       "    <tr>\n",
       "      <th>CV unique rows</th>\n",
       "      <td>0.380504</td>\n",
       "    </tr>\n",
       "    <tr>\n",
       "      <th>CV ignoring hard targets</th>\n",
       "      <td>0.439752</td>\n",
       "    </tr>\n",
       "    <tr>\n",
       "      <th>CV unique rows ignoring hard targets</th>\n",
       "      <td>0.402323</td>\n",
       "    </tr>\n",
       "    <tr>\n",
       "      <th>CV w rounding</th>\n",
       "      <td>0.446863</td>\n",
       "    </tr>\n",
       "    <tr>\n",
       "      <th>CV unique rows w rounding</th>\n",
       "      <td>0.431666</td>\n",
       "    </tr>\n",
       "    <tr>\n",
       "      <th>CV ignoring hard targets w rounding</th>\n",
       "      <td>0.469367</td>\n",
       "    </tr>\n",
       "    <tr>\n",
       "      <th>CV unique rows ignoring hard targets w rounding</th>\n",
       "      <td>0.443137</td>\n",
       "    </tr>\n",
       "  </tbody>\n",
       "</table>\n",
       "</div>"
      ],
      "text/plain": [
       "                                                 SpearmanR\n",
       "CV                                                0.415561\n",
       "CV unique rows                                    0.380504\n",
       "CV ignoring hard targets                          0.439752\n",
       "CV unique rows ignoring hard targets              0.402323\n",
       "CV w rounding                                     0.446863\n",
       "CV unique rows w rounding                         0.431666\n",
       "CV ignoring hard targets w rounding               0.469367\n",
       "CV unique rows ignoring hard targets w rounding   0.443137"
      ]
     },
     "execution_count": 14,
     "metadata": {},
     "output_type": "execute_result"
    }
   ],
   "source": [
    "get_cvs(oofs, y, ix)"
   ]
  },
  {
   "cell_type": "code",
   "execution_count": 15,
   "metadata": {
    "scrolled": false
   },
   "outputs": [
    {
     "data": {
      "text/html": [
       "<div>\n",
       "<style scoped>\n",
       "    .dataframe tbody tr th:only-of-type {\n",
       "        vertical-align: middle;\n",
       "    }\n",
       "\n",
       "    .dataframe tbody tr th {\n",
       "        vertical-align: top;\n",
       "    }\n",
       "\n",
       "    .dataframe thead th {\n",
       "        text-align: right;\n",
       "    }\n",
       "</style>\n",
       "<table border=\"1\" class=\"dataframe\">\n",
       "  <thead>\n",
       "    <tr style=\"text-align: right;\">\n",
       "      <th></th>\n",
       "      <th>SpearmanR</th>\n",
       "    </tr>\n",
       "  </thead>\n",
       "  <tbody>\n",
       "    <tr>\n",
       "      <th>CV</th>\n",
       "      <td>0.419471</td>\n",
       "    </tr>\n",
       "    <tr>\n",
       "      <th>CV unique rows</th>\n",
       "      <td>0.384624</td>\n",
       "    </tr>\n",
       "    <tr>\n",
       "      <th>CV ignoring hard targets</th>\n",
       "      <td>0.439752</td>\n",
       "    </tr>\n",
       "    <tr>\n",
       "      <th>CV unique rows ignoring hard targets</th>\n",
       "      <td>0.402323</td>\n",
       "    </tr>\n",
       "    <tr>\n",
       "      <th>CV w rounding</th>\n",
       "      <td>0.448357</td>\n",
       "    </tr>\n",
       "    <tr>\n",
       "      <th>CV unique rows w rounding</th>\n",
       "      <td>0.431666</td>\n",
       "    </tr>\n",
       "    <tr>\n",
       "      <th>CV ignoring hard targets w rounding</th>\n",
       "      <td>0.469367</td>\n",
       "    </tr>\n",
       "    <tr>\n",
       "      <th>CV unique rows ignoring hard targets w rounding</th>\n",
       "      <td>0.443137</td>\n",
       "    </tr>\n",
       "  </tbody>\n",
       "</table>\n",
       "</div>"
      ],
      "text/plain": [
       "                                                 SpearmanR\n",
       "CV                                                0.419471\n",
       "CV unique rows                                    0.384624\n",
       "CV ignoring hard targets                          0.439752\n",
       "CV unique rows ignoring hard targets              0.402323\n",
       "CV w rounding                                     0.448357\n",
       "CV unique rows w rounding                         0.431666\n",
       "CV ignoring hard targets w rounding               0.469367\n",
       "CV unique rows ignoring hard targets w rounding   0.443137"
      ]
     },
     "execution_count": 15,
     "metadata": {},
     "output_type": "execute_result"
    }
   ],
   "source": [
    "get_cvs(oofs_alt, y, ix)"
   ]
  },
  {
   "cell_type": "code",
   "execution_count": 16,
   "metadata": {},
   "outputs": [],
   "source": [
    "pd.DataFrame(oofs, columns=TARGETS).to_csv(f'oofs/{model_name}_oofs.csv')"
   ]
  },
  {
   "cell_type": "code",
   "execution_count": 17,
   "metadata": {},
   "outputs": [
    {
     "data": {
      "text/html": [
       "<div>\n",
       "<style scoped>\n",
       "    .dataframe tbody tr th:only-of-type {\n",
       "        vertical-align: middle;\n",
       "    }\n",
       "\n",
       "    .dataframe tbody tr th {\n",
       "        vertical-align: top;\n",
       "    }\n",
       "\n",
       "    .dataframe thead th {\n",
       "        text-align: right;\n",
       "    }\n",
       "</style>\n",
       "<table border=\"1\" class=\"dataframe\">\n",
       "  <thead>\n",
       "    <tr style=\"text-align: right;\">\n",
       "      <th></th>\n",
       "      <th>question_asker_intent_understanding</th>\n",
       "      <th>question_body_critical</th>\n",
       "      <th>question_conversational</th>\n",
       "      <th>question_expect_short_answer</th>\n",
       "      <th>question_fact_seeking</th>\n",
       "      <th>question_has_commonly_accepted_answer</th>\n",
       "      <th>question_interestingness_others</th>\n",
       "      <th>question_interestingness_self</th>\n",
       "      <th>question_multi_intent</th>\n",
       "      <th>question_not_really_a_question</th>\n",
       "      <th>question_opinion_seeking</th>\n",
       "      <th>question_type_choice</th>\n",
       "      <th>question_type_compare</th>\n",
       "      <th>question_type_consequence</th>\n",
       "      <th>question_type_definition</th>\n",
       "      <th>question_type_entity</th>\n",
       "      <th>question_type_instructions</th>\n",
       "      <th>question_type_procedure</th>\n",
       "      <th>question_type_reason_explanation</th>\n",
       "      <th>question_type_spelling</th>\n",
       "      <th>question_well_written</th>\n",
       "      <th>answer_helpful</th>\n",
       "      <th>answer_level_of_information</th>\n",
       "      <th>answer_plausible</th>\n",
       "      <th>answer_relevance</th>\n",
       "      <th>answer_satisfaction</th>\n",
       "      <th>answer_type_instructions</th>\n",
       "      <th>answer_type_procedure</th>\n",
       "      <th>answer_type_reason_explanation</th>\n",
       "      <th>answer_well_written</th>\n",
       "    </tr>\n",
       "  </thead>\n",
       "  <tbody>\n",
       "    <tr>\n",
       "      <th>0</th>\n",
       "      <td>0.816269</td>\n",
       "      <td>0.630749</td>\n",
       "      <td>0.200821</td>\n",
       "      <td>0.640894</td>\n",
       "      <td>0.603558</td>\n",
       "      <td>0.440214</td>\n",
       "      <td>0.618562</td>\n",
       "      <td>0.564076</td>\n",
       "      <td>0.106175</td>\n",
       "      <td>0.008307</td>\n",
       "      <td>0.600069</td>\n",
       "      <td>0.118049</td>\n",
       "      <td>0.309996</td>\n",
       "      <td>0.043249</td>\n",
       "      <td>0.021169</td>\n",
       "      <td>0.186988</td>\n",
       "      <td>0.186076</td>\n",
       "      <td>0.128895</td>\n",
       "      <td>0.426290</td>\n",
       "      <td>0.002057</td>\n",
       "      <td>0.743665</td>\n",
       "      <td>0.890870</td>\n",
       "      <td>0.568274</td>\n",
       "      <td>0.952963</td>\n",
       "      <td>0.942459</td>\n",
       "      <td>0.733286</td>\n",
       "      <td>0.127169</td>\n",
       "      <td>0.105960</td>\n",
       "      <td>0.798071</td>\n",
       "      <td>0.708643</td>\n",
       "    </tr>\n",
       "    <tr>\n",
       "      <th>1</th>\n",
       "      <td>0.823300</td>\n",
       "      <td>0.613452</td>\n",
       "      <td>0.023585</td>\n",
       "      <td>0.586150</td>\n",
       "      <td>0.918113</td>\n",
       "      <td>0.713083</td>\n",
       "      <td>0.553609</td>\n",
       "      <td>0.678306</td>\n",
       "      <td>0.496022</td>\n",
       "      <td>0.001004</td>\n",
       "      <td>0.272039</td>\n",
       "      <td>0.114517</td>\n",
       "      <td>0.786378</td>\n",
       "      <td>0.004681</td>\n",
       "      <td>0.707255</td>\n",
       "      <td>0.030440</td>\n",
       "      <td>0.099333</td>\n",
       "      <td>0.088731</td>\n",
       "      <td>0.365011</td>\n",
       "      <td>0.006128</td>\n",
       "      <td>0.715749</td>\n",
       "      <td>0.475921</td>\n",
       "      <td>0.248210</td>\n",
       "      <td>0.735879</td>\n",
       "      <td>0.745475</td>\n",
       "      <td>0.303035</td>\n",
       "      <td>0.020859</td>\n",
       "      <td>0.031802</td>\n",
       "      <td>0.454914</td>\n",
       "      <td>0.758427</td>\n",
       "    </tr>\n",
       "    <tr>\n",
       "      <th>2</th>\n",
       "      <td>0.558209</td>\n",
       "      <td>0.290196</td>\n",
       "      <td>0.005406</td>\n",
       "      <td>0.692077</td>\n",
       "      <td>0.772641</td>\n",
       "      <td>0.870355</td>\n",
       "      <td>0.390361</td>\n",
       "      <td>0.215886</td>\n",
       "      <td>0.094723</td>\n",
       "      <td>0.003753</td>\n",
       "      <td>0.366667</td>\n",
       "      <td>0.143992</td>\n",
       "      <td>0.002191</td>\n",
       "      <td>0.001148</td>\n",
       "      <td>0.001201</td>\n",
       "      <td>0.244263</td>\n",
       "      <td>0.713564</td>\n",
       "      <td>0.236811</td>\n",
       "      <td>0.166130</td>\n",
       "      <td>0.000083</td>\n",
       "      <td>0.497071</td>\n",
       "      <td>0.849833</td>\n",
       "      <td>0.604399</td>\n",
       "      <td>0.904060</td>\n",
       "      <td>0.920517</td>\n",
       "      <td>0.665249</td>\n",
       "      <td>0.699883</td>\n",
       "      <td>0.296793</td>\n",
       "      <td>0.464113</td>\n",
       "      <td>0.773101</td>\n",
       "    </tr>\n",
       "    <tr>\n",
       "      <th>3</th>\n",
       "      <td>0.820999</td>\n",
       "      <td>0.684598</td>\n",
       "      <td>0.044725</td>\n",
       "      <td>0.861382</td>\n",
       "      <td>0.830494</td>\n",
       "      <td>0.914271</td>\n",
       "      <td>0.586790</td>\n",
       "      <td>0.619888</td>\n",
       "      <td>0.292052</td>\n",
       "      <td>0.001147</td>\n",
       "      <td>0.189845</td>\n",
       "      <td>0.964401</td>\n",
       "      <td>0.015590</td>\n",
       "      <td>0.013184</td>\n",
       "      <td>0.062408</td>\n",
       "      <td>0.018623</td>\n",
       "      <td>0.052285</td>\n",
       "      <td>0.087451</td>\n",
       "      <td>0.344644</td>\n",
       "      <td>0.001382</td>\n",
       "      <td>0.722197</td>\n",
       "      <td>0.855751</td>\n",
       "      <td>0.732237</td>\n",
       "      <td>0.903800</td>\n",
       "      <td>0.918399</td>\n",
       "      <td>0.764872</td>\n",
       "      <td>0.038077</td>\n",
       "      <td>0.084777</td>\n",
       "      <td>0.863074</td>\n",
       "      <td>0.640515</td>\n",
       "    </tr>\n",
       "    <tr>\n",
       "      <th>4</th>\n",
       "      <td>0.759386</td>\n",
       "      <td>0.800632</td>\n",
       "      <td>0.003275</td>\n",
       "      <td>0.674714</td>\n",
       "      <td>0.772267</td>\n",
       "      <td>0.895294</td>\n",
       "      <td>0.484388</td>\n",
       "      <td>0.392827</td>\n",
       "      <td>0.178410</td>\n",
       "      <td>0.000533</td>\n",
       "      <td>0.368778</td>\n",
       "      <td>0.419672</td>\n",
       "      <td>0.001291</td>\n",
       "      <td>0.000449</td>\n",
       "      <td>0.000365</td>\n",
       "      <td>0.002832</td>\n",
       "      <td>0.895602</td>\n",
       "      <td>0.298728</td>\n",
       "      <td>0.088533</td>\n",
       "      <td>0.000017</td>\n",
       "      <td>0.788435</td>\n",
       "      <td>0.769943</td>\n",
       "      <td>0.442564</td>\n",
       "      <td>0.860869</td>\n",
       "      <td>0.884515</td>\n",
       "      <td>0.562490</td>\n",
       "      <td>0.907185</td>\n",
       "      <td>0.240436</td>\n",
       "      <td>0.041331</td>\n",
       "      <td>0.609760</td>\n",
       "    </tr>\n",
       "    <tr>\n",
       "      <th>...</th>\n",
       "      <td>...</td>\n",
       "      <td>...</td>\n",
       "      <td>...</td>\n",
       "      <td>...</td>\n",
       "      <td>...</td>\n",
       "      <td>...</td>\n",
       "      <td>...</td>\n",
       "      <td>...</td>\n",
       "      <td>...</td>\n",
       "      <td>...</td>\n",
       "      <td>...</td>\n",
       "      <td>...</td>\n",
       "      <td>...</td>\n",
       "      <td>...</td>\n",
       "      <td>...</td>\n",
       "      <td>...</td>\n",
       "      <td>...</td>\n",
       "      <td>...</td>\n",
       "      <td>...</td>\n",
       "      <td>...</td>\n",
       "      <td>...</td>\n",
       "      <td>...</td>\n",
       "      <td>...</td>\n",
       "      <td>...</td>\n",
       "      <td>...</td>\n",
       "      <td>...</td>\n",
       "      <td>...</td>\n",
       "      <td>...</td>\n",
       "      <td>...</td>\n",
       "      <td>...</td>\n",
       "    </tr>\n",
       "    <tr>\n",
       "      <th>6074</th>\n",
       "      <td>0.848058</td>\n",
       "      <td>0.580830</td>\n",
       "      <td>0.203059</td>\n",
       "      <td>0.751940</td>\n",
       "      <td>0.686242</td>\n",
       "      <td>0.687290</td>\n",
       "      <td>0.661795</td>\n",
       "      <td>0.628806</td>\n",
       "      <td>0.582234</td>\n",
       "      <td>0.002537</td>\n",
       "      <td>0.509653</td>\n",
       "      <td>0.930677</td>\n",
       "      <td>0.138400</td>\n",
       "      <td>0.348185</td>\n",
       "      <td>0.007381</td>\n",
       "      <td>0.100063</td>\n",
       "      <td>0.013383</td>\n",
       "      <td>0.033986</td>\n",
       "      <td>0.729328</td>\n",
       "      <td>0.002120</td>\n",
       "      <td>0.736797</td>\n",
       "      <td>0.893069</td>\n",
       "      <td>0.722196</td>\n",
       "      <td>0.944652</td>\n",
       "      <td>0.919620</td>\n",
       "      <td>0.728425</td>\n",
       "      <td>0.094819</td>\n",
       "      <td>0.087406</td>\n",
       "      <td>0.910589</td>\n",
       "      <td>0.739599</td>\n",
       "    </tr>\n",
       "    <tr>\n",
       "      <th>6075</th>\n",
       "      <td>0.813498</td>\n",
       "      <td>0.333158</td>\n",
       "      <td>0.071480</td>\n",
       "      <td>0.517572</td>\n",
       "      <td>0.542778</td>\n",
       "      <td>0.396599</td>\n",
       "      <td>0.726927</td>\n",
       "      <td>0.714613</td>\n",
       "      <td>0.071940</td>\n",
       "      <td>0.002735</td>\n",
       "      <td>0.727304</td>\n",
       "      <td>0.014064</td>\n",
       "      <td>0.008286</td>\n",
       "      <td>0.004596</td>\n",
       "      <td>0.001461</td>\n",
       "      <td>0.014695</td>\n",
       "      <td>0.804774</td>\n",
       "      <td>0.401871</td>\n",
       "      <td>0.228305</td>\n",
       "      <td>0.000083</td>\n",
       "      <td>0.661017</td>\n",
       "      <td>0.837095</td>\n",
       "      <td>0.588300</td>\n",
       "      <td>0.912240</td>\n",
       "      <td>0.917393</td>\n",
       "      <td>0.625969</td>\n",
       "      <td>0.855973</td>\n",
       "      <td>0.372070</td>\n",
       "      <td>0.225940</td>\n",
       "      <td>0.843057</td>\n",
       "    </tr>\n",
       "    <tr>\n",
       "      <th>6076</th>\n",
       "      <td>0.615565</td>\n",
       "      <td>0.396583</td>\n",
       "      <td>0.007938</td>\n",
       "      <td>0.671606</td>\n",
       "      <td>0.714669</td>\n",
       "      <td>0.876318</td>\n",
       "      <td>0.429927</td>\n",
       "      <td>0.313636</td>\n",
       "      <td>0.185707</td>\n",
       "      <td>0.002340</td>\n",
       "      <td>0.475940</td>\n",
       "      <td>0.704997</td>\n",
       "      <td>0.004140</td>\n",
       "      <td>0.001514</td>\n",
       "      <td>0.000538</td>\n",
       "      <td>0.007913</td>\n",
       "      <td>0.821098</td>\n",
       "      <td>0.339691</td>\n",
       "      <td>0.153172</td>\n",
       "      <td>0.000064</td>\n",
       "      <td>0.531016</td>\n",
       "      <td>0.598525</td>\n",
       "      <td>0.443682</td>\n",
       "      <td>0.811229</td>\n",
       "      <td>0.778597</td>\n",
       "      <td>0.418191</td>\n",
       "      <td>0.680057</td>\n",
       "      <td>0.203426</td>\n",
       "      <td>0.536749</td>\n",
       "      <td>0.490466</td>\n",
       "    </tr>\n",
       "    <tr>\n",
       "      <th>6077</th>\n",
       "      <td>0.821787</td>\n",
       "      <td>0.676461</td>\n",
       "      <td>0.801918</td>\n",
       "      <td>0.226461</td>\n",
       "      <td>0.240383</td>\n",
       "      <td>0.080333</td>\n",
       "      <td>0.623799</td>\n",
       "      <td>0.737621</td>\n",
       "      <td>0.604348</td>\n",
       "      <td>0.002327</td>\n",
       "      <td>0.926768</td>\n",
       "      <td>0.700437</td>\n",
       "      <td>0.123809</td>\n",
       "      <td>0.068649</td>\n",
       "      <td>0.007691</td>\n",
       "      <td>0.023922</td>\n",
       "      <td>0.010195</td>\n",
       "      <td>0.161675</td>\n",
       "      <td>0.708696</td>\n",
       "      <td>0.000281</td>\n",
       "      <td>0.878379</td>\n",
       "      <td>0.736245</td>\n",
       "      <td>0.628523</td>\n",
       "      <td>0.810589</td>\n",
       "      <td>0.868463</td>\n",
       "      <td>0.596411</td>\n",
       "      <td>0.020243</td>\n",
       "      <td>0.148190</td>\n",
       "      <td>0.885420</td>\n",
       "      <td>0.835618</td>\n",
       "    </tr>\n",
       "    <tr>\n",
       "      <th>6078</th>\n",
       "      <td>0.689130</td>\n",
       "      <td>0.488878</td>\n",
       "      <td>0.153024</td>\n",
       "      <td>0.281379</td>\n",
       "      <td>0.795639</td>\n",
       "      <td>0.516950</td>\n",
       "      <td>0.534715</td>\n",
       "      <td>0.522474</td>\n",
       "      <td>0.893030</td>\n",
       "      <td>0.000561</td>\n",
       "      <td>0.478519</td>\n",
       "      <td>0.202743</td>\n",
       "      <td>0.303295</td>\n",
       "      <td>0.024093</td>\n",
       "      <td>0.031173</td>\n",
       "      <td>0.084473</td>\n",
       "      <td>0.016799</td>\n",
       "      <td>0.025380</td>\n",
       "      <td>0.962791</td>\n",
       "      <td>0.000412</td>\n",
       "      <td>0.739938</td>\n",
       "      <td>0.739909</td>\n",
       "      <td>0.516303</td>\n",
       "      <td>0.835418</td>\n",
       "      <td>0.856856</td>\n",
       "      <td>0.519464</td>\n",
       "      <td>0.029448</td>\n",
       "      <td>0.024447</td>\n",
       "      <td>0.944702</td>\n",
       "      <td>0.728811</td>\n",
       "    </tr>\n",
       "  </tbody>\n",
       "</table>\n",
       "<p>6079 rows × 30 columns</p>\n",
       "</div>"
      ],
      "text/plain": [
       "      question_asker_intent_understanding  question_body_critical  \\\n",
       "0                                0.816269                0.630749   \n",
       "1                                0.823300                0.613452   \n",
       "2                                0.558209                0.290196   \n",
       "3                                0.820999                0.684598   \n",
       "4                                0.759386                0.800632   \n",
       "...                                   ...                     ...   \n",
       "6074                             0.848058                0.580830   \n",
       "6075                             0.813498                0.333158   \n",
       "6076                             0.615565                0.396583   \n",
       "6077                             0.821787                0.676461   \n",
       "6078                             0.689130                0.488878   \n",
       "\n",
       "      question_conversational  question_expect_short_answer  \\\n",
       "0                    0.200821                      0.640894   \n",
       "1                    0.023585                      0.586150   \n",
       "2                    0.005406                      0.692077   \n",
       "3                    0.044725                      0.861382   \n",
       "4                    0.003275                      0.674714   \n",
       "...                       ...                           ...   \n",
       "6074                 0.203059                      0.751940   \n",
       "6075                 0.071480                      0.517572   \n",
       "6076                 0.007938                      0.671606   \n",
       "6077                 0.801918                      0.226461   \n",
       "6078                 0.153024                      0.281379   \n",
       "\n",
       "      question_fact_seeking  question_has_commonly_accepted_answer  \\\n",
       "0                  0.603558                               0.440214   \n",
       "1                  0.918113                               0.713083   \n",
       "2                  0.772641                               0.870355   \n",
       "3                  0.830494                               0.914271   \n",
       "4                  0.772267                               0.895294   \n",
       "...                     ...                                    ...   \n",
       "6074               0.686242                               0.687290   \n",
       "6075               0.542778                               0.396599   \n",
       "6076               0.714669                               0.876318   \n",
       "6077               0.240383                               0.080333   \n",
       "6078               0.795639                               0.516950   \n",
       "\n",
       "      question_interestingness_others  question_interestingness_self  \\\n",
       "0                            0.618562                       0.564076   \n",
       "1                            0.553609                       0.678306   \n",
       "2                            0.390361                       0.215886   \n",
       "3                            0.586790                       0.619888   \n",
       "4                            0.484388                       0.392827   \n",
       "...                               ...                            ...   \n",
       "6074                         0.661795                       0.628806   \n",
       "6075                         0.726927                       0.714613   \n",
       "6076                         0.429927                       0.313636   \n",
       "6077                         0.623799                       0.737621   \n",
       "6078                         0.534715                       0.522474   \n",
       "\n",
       "      question_multi_intent  question_not_really_a_question  \\\n",
       "0                  0.106175                        0.008307   \n",
       "1                  0.496022                        0.001004   \n",
       "2                  0.094723                        0.003753   \n",
       "3                  0.292052                        0.001147   \n",
       "4                  0.178410                        0.000533   \n",
       "...                     ...                             ...   \n",
       "6074               0.582234                        0.002537   \n",
       "6075               0.071940                        0.002735   \n",
       "6076               0.185707                        0.002340   \n",
       "6077               0.604348                        0.002327   \n",
       "6078               0.893030                        0.000561   \n",
       "\n",
       "      question_opinion_seeking  question_type_choice  question_type_compare  \\\n",
       "0                     0.600069              0.118049               0.309996   \n",
       "1                     0.272039              0.114517               0.786378   \n",
       "2                     0.366667              0.143992               0.002191   \n",
       "3                     0.189845              0.964401               0.015590   \n",
       "4                     0.368778              0.419672               0.001291   \n",
       "...                        ...                   ...                    ...   \n",
       "6074                  0.509653              0.930677               0.138400   \n",
       "6075                  0.727304              0.014064               0.008286   \n",
       "6076                  0.475940              0.704997               0.004140   \n",
       "6077                  0.926768              0.700437               0.123809   \n",
       "6078                  0.478519              0.202743               0.303295   \n",
       "\n",
       "      question_type_consequence  question_type_definition  \\\n",
       "0                      0.043249                  0.021169   \n",
       "1                      0.004681                  0.707255   \n",
       "2                      0.001148                  0.001201   \n",
       "3                      0.013184                  0.062408   \n",
       "4                      0.000449                  0.000365   \n",
       "...                         ...                       ...   \n",
       "6074                   0.348185                  0.007381   \n",
       "6075                   0.004596                  0.001461   \n",
       "6076                   0.001514                  0.000538   \n",
       "6077                   0.068649                  0.007691   \n",
       "6078                   0.024093                  0.031173   \n",
       "\n",
       "      question_type_entity  question_type_instructions  \\\n",
       "0                 0.186988                    0.186076   \n",
       "1                 0.030440                    0.099333   \n",
       "2                 0.244263                    0.713564   \n",
       "3                 0.018623                    0.052285   \n",
       "4                 0.002832                    0.895602   \n",
       "...                    ...                         ...   \n",
       "6074              0.100063                    0.013383   \n",
       "6075              0.014695                    0.804774   \n",
       "6076              0.007913                    0.821098   \n",
       "6077              0.023922                    0.010195   \n",
       "6078              0.084473                    0.016799   \n",
       "\n",
       "      question_type_procedure  question_type_reason_explanation  \\\n",
       "0                    0.128895                          0.426290   \n",
       "1                    0.088731                          0.365011   \n",
       "2                    0.236811                          0.166130   \n",
       "3                    0.087451                          0.344644   \n",
       "4                    0.298728                          0.088533   \n",
       "...                       ...                               ...   \n",
       "6074                 0.033986                          0.729328   \n",
       "6075                 0.401871                          0.228305   \n",
       "6076                 0.339691                          0.153172   \n",
       "6077                 0.161675                          0.708696   \n",
       "6078                 0.025380                          0.962791   \n",
       "\n",
       "      question_type_spelling  question_well_written  answer_helpful  \\\n",
       "0                   0.002057               0.743665        0.890870   \n",
       "1                   0.006128               0.715749        0.475921   \n",
       "2                   0.000083               0.497071        0.849833   \n",
       "3                   0.001382               0.722197        0.855751   \n",
       "4                   0.000017               0.788435        0.769943   \n",
       "...                      ...                    ...             ...   \n",
       "6074                0.002120               0.736797        0.893069   \n",
       "6075                0.000083               0.661017        0.837095   \n",
       "6076                0.000064               0.531016        0.598525   \n",
       "6077                0.000281               0.878379        0.736245   \n",
       "6078                0.000412               0.739938        0.739909   \n",
       "\n",
       "      answer_level_of_information  answer_plausible  answer_relevance  \\\n",
       "0                        0.568274          0.952963          0.942459   \n",
       "1                        0.248210          0.735879          0.745475   \n",
       "2                        0.604399          0.904060          0.920517   \n",
       "3                        0.732237          0.903800          0.918399   \n",
       "4                        0.442564          0.860869          0.884515   \n",
       "...                           ...               ...               ...   \n",
       "6074                     0.722196          0.944652          0.919620   \n",
       "6075                     0.588300          0.912240          0.917393   \n",
       "6076                     0.443682          0.811229          0.778597   \n",
       "6077                     0.628523          0.810589          0.868463   \n",
       "6078                     0.516303          0.835418          0.856856   \n",
       "\n",
       "      answer_satisfaction  answer_type_instructions  answer_type_procedure  \\\n",
       "0                0.733286                  0.127169               0.105960   \n",
       "1                0.303035                  0.020859               0.031802   \n",
       "2                0.665249                  0.699883               0.296793   \n",
       "3                0.764872                  0.038077               0.084777   \n",
       "4                0.562490                  0.907185               0.240436   \n",
       "...                   ...                       ...                    ...   \n",
       "6074             0.728425                  0.094819               0.087406   \n",
       "6075             0.625969                  0.855973               0.372070   \n",
       "6076             0.418191                  0.680057               0.203426   \n",
       "6077             0.596411                  0.020243               0.148190   \n",
       "6078             0.519464                  0.029448               0.024447   \n",
       "\n",
       "      answer_type_reason_explanation  answer_well_written  \n",
       "0                           0.798071             0.708643  \n",
       "1                           0.454914             0.758427  \n",
       "2                           0.464113             0.773101  \n",
       "3                           0.863074             0.640515  \n",
       "4                           0.041331             0.609760  \n",
       "...                              ...                  ...  \n",
       "6074                        0.910589             0.739599  \n",
       "6075                        0.225940             0.843057  \n",
       "6076                        0.536749             0.490466  \n",
       "6077                        0.885420             0.835618  \n",
       "6078                        0.944702             0.728811  \n",
       "\n",
       "[6079 rows x 30 columns]"
      ]
     },
     "execution_count": 17,
     "metadata": {},
     "output_type": "execute_result"
    }
   ],
   "source": [
    "pd.DataFrame(oofs, columns=TARGETS)"
   ]
  },
  {
   "cell_type": "code",
   "execution_count": 18,
   "metadata": {},
   "outputs": [
    {
     "data": {
      "text/plain": [
       "question_asker_intent_understanding      0.387392\n",
       "question_body_critical                   0.620944\n",
       "question_conversational                  0.419913\n",
       "question_expect_short_answer             0.308721\n",
       "question_fact_seeking                    0.367682\n",
       "question_has_commonly_accepted_answer    0.433501\n",
       "question_interestingness_others          0.362794\n",
       "question_interestingness_self            0.509815\n",
       "question_multi_intent                    0.587666\n",
       "question_not_really_a_question           0.084703\n",
       "question_opinion_seeking                 0.484677\n",
       "question_type_choice                     0.743139\n",
       "question_type_compare                    0.363629\n",
       "question_type_consequence                0.191561\n",
       "question_type_definition                 0.363147\n",
       "question_type_entity                     0.459954\n",
       "question_type_instructions               0.782667\n",
       "question_type_procedure                  0.370391\n",
       "question_type_reason_explanation         0.671671\n",
       "question_type_spelling                   0.069063\n",
       "question_well_written                    0.520489\n",
       "answer_helpful                           0.246461\n",
       "answer_level_of_information              0.453471\n",
       "answer_plausible                         0.147543\n",
       "answer_relevance                         0.174100\n",
       "answer_satisfaction                      0.354530\n",
       "answer_type_instructions                 0.761108\n",
       "answer_type_procedure                    0.311642\n",
       "answer_type_reason_explanation           0.683465\n",
       "answer_well_written                      0.230984\n",
       "dtype: float64"
      ]
     },
     "execution_count": 18,
     "metadata": {},
     "output_type": "execute_result"
    }
   ],
   "source": [
    "rs = pd.Series({col: spearmanr(oofs[:,i], y[:,i])[0] for i, col in enumerate(TARGETS)})\n",
    "rs"
   ]
  },
  {
   "cell_type": "code",
   "execution_count": 19,
   "metadata": {},
   "outputs": [
    {
     "data": {
      "text/html": [
       "<div>\n",
       "<style scoped>\n",
       "    .dataframe tbody tr th:only-of-type {\n",
       "        vertical-align: middle;\n",
       "    }\n",
       "\n",
       "    .dataframe tbody tr th {\n",
       "        vertical-align: top;\n",
       "    }\n",
       "\n",
       "    .dataframe thead th {\n",
       "        text-align: right;\n",
       "    }\n",
       "</style>\n",
       "<table border=\"1\" class=\"dataframe\">\n",
       "  <thead>\n",
       "    <tr style=\"text-align: right;\">\n",
       "      <th></th>\n",
       "      <th>SpearmanCorr</th>\n",
       "      <th>NUnique</th>\n",
       "    </tr>\n",
       "  </thead>\n",
       "  <tbody>\n",
       "    <tr>\n",
       "      <th>question_type_spelling</th>\n",
       "      <td>0.069063</td>\n",
       "      <td>3.0</td>\n",
       "    </tr>\n",
       "    <tr>\n",
       "      <th>question_not_really_a_question</th>\n",
       "      <td>0.084703</td>\n",
       "      <td>5.0</td>\n",
       "    </tr>\n",
       "    <tr>\n",
       "      <th>answer_plausible</th>\n",
       "      <td>0.147543</td>\n",
       "      <td>9.0</td>\n",
       "    </tr>\n",
       "    <tr>\n",
       "      <th>answer_relevance</th>\n",
       "      <td>0.174100</td>\n",
       "      <td>9.0</td>\n",
       "    </tr>\n",
       "    <tr>\n",
       "      <th>question_type_consequence</th>\n",
       "      <td>0.191561</td>\n",
       "      <td>5.0</td>\n",
       "    </tr>\n",
       "    <tr>\n",
       "      <th>answer_well_written</th>\n",
       "      <td>0.230984</td>\n",
       "      <td>9.0</td>\n",
       "    </tr>\n",
       "    <tr>\n",
       "      <th>answer_helpful</th>\n",
       "      <td>0.246461</td>\n",
       "      <td>9.0</td>\n",
       "    </tr>\n",
       "    <tr>\n",
       "      <th>question_expect_short_answer</th>\n",
       "      <td>0.308721</td>\n",
       "      <td>5.0</td>\n",
       "    </tr>\n",
       "    <tr>\n",
       "      <th>answer_type_procedure</th>\n",
       "      <td>0.311642</td>\n",
       "      <td>5.0</td>\n",
       "    </tr>\n",
       "    <tr>\n",
       "      <th>answer_satisfaction</th>\n",
       "      <td>0.354530</td>\n",
       "      <td>17.0</td>\n",
       "    </tr>\n",
       "    <tr>\n",
       "      <th>question_interestingness_others</th>\n",
       "      <td>0.362794</td>\n",
       "      <td>9.0</td>\n",
       "    </tr>\n",
       "    <tr>\n",
       "      <th>question_type_definition</th>\n",
       "      <td>0.363147</td>\n",
       "      <td>5.0</td>\n",
       "    </tr>\n",
       "    <tr>\n",
       "      <th>question_type_compare</th>\n",
       "      <td>0.363629</td>\n",
       "      <td>5.0</td>\n",
       "    </tr>\n",
       "    <tr>\n",
       "      <th>question_fact_seeking</th>\n",
       "      <td>0.367682</td>\n",
       "      <td>5.0</td>\n",
       "    </tr>\n",
       "    <tr>\n",
       "      <th>question_type_procedure</th>\n",
       "      <td>0.370391</td>\n",
       "      <td>5.0</td>\n",
       "    </tr>\n",
       "    <tr>\n",
       "      <th>question_asker_intent_understanding</th>\n",
       "      <td>0.387392</td>\n",
       "      <td>9.0</td>\n",
       "    </tr>\n",
       "    <tr>\n",
       "      <th>question_conversational</th>\n",
       "      <td>0.419913</td>\n",
       "      <td>5.0</td>\n",
       "    </tr>\n",
       "    <tr>\n",
       "      <th>question_has_commonly_accepted_answer</th>\n",
       "      <td>0.433501</td>\n",
       "      <td>5.0</td>\n",
       "    </tr>\n",
       "    <tr>\n",
       "      <th>answer_level_of_information</th>\n",
       "      <td>0.453471</td>\n",
       "      <td>9.0</td>\n",
       "    </tr>\n",
       "    <tr>\n",
       "      <th>question_type_entity</th>\n",
       "      <td>0.459954</td>\n",
       "      <td>5.0</td>\n",
       "    </tr>\n",
       "    <tr>\n",
       "      <th>question_opinion_seeking</th>\n",
       "      <td>0.484677</td>\n",
       "      <td>5.0</td>\n",
       "    </tr>\n",
       "    <tr>\n",
       "      <th>question_interestingness_self</th>\n",
       "      <td>0.509815</td>\n",
       "      <td>9.0</td>\n",
       "    </tr>\n",
       "    <tr>\n",
       "      <th>question_well_written</th>\n",
       "      <td>0.520489</td>\n",
       "      <td>9.0</td>\n",
       "    </tr>\n",
       "    <tr>\n",
       "      <th>question_multi_intent</th>\n",
       "      <td>0.587666</td>\n",
       "      <td>5.0</td>\n",
       "    </tr>\n",
       "    <tr>\n",
       "      <th>question_body_critical</th>\n",
       "      <td>0.620944</td>\n",
       "      <td>9.0</td>\n",
       "    </tr>\n",
       "    <tr>\n",
       "      <th>question_type_reason_explanation</th>\n",
       "      <td>0.671671</td>\n",
       "      <td>5.0</td>\n",
       "    </tr>\n",
       "    <tr>\n",
       "      <th>answer_type_reason_explanation</th>\n",
       "      <td>0.683465</td>\n",
       "      <td>5.0</td>\n",
       "    </tr>\n",
       "    <tr>\n",
       "      <th>question_type_choice</th>\n",
       "      <td>0.743139</td>\n",
       "      <td>5.0</td>\n",
       "    </tr>\n",
       "    <tr>\n",
       "      <th>answer_type_instructions</th>\n",
       "      <td>0.761108</td>\n",
       "      <td>5.0</td>\n",
       "    </tr>\n",
       "    <tr>\n",
       "      <th>question_type_instructions</th>\n",
       "      <td>0.782667</td>\n",
       "      <td>5.0</td>\n",
       "    </tr>\n",
       "  </tbody>\n",
       "</table>\n",
       "</div>"
      ],
      "text/plain": [
       "                                       SpearmanCorr  NUnique\n",
       "question_type_spelling                     0.069063      3.0\n",
       "question_not_really_a_question             0.084703      5.0\n",
       "answer_plausible                           0.147543      9.0\n",
       "answer_relevance                           0.174100      9.0\n",
       "question_type_consequence                  0.191561      5.0\n",
       "answer_well_written                        0.230984      9.0\n",
       "answer_helpful                             0.246461      9.0\n",
       "question_expect_short_answer               0.308721      5.0\n",
       "answer_type_procedure                      0.311642      5.0\n",
       "answer_satisfaction                        0.354530     17.0\n",
       "question_interestingness_others            0.362794      9.0\n",
       "question_type_definition                   0.363147      5.0\n",
       "question_type_compare                      0.363629      5.0\n",
       "question_fact_seeking                      0.367682      5.0\n",
       "question_type_procedure                    0.370391      5.0\n",
       "question_asker_intent_understanding        0.387392      9.0\n",
       "question_conversational                    0.419913      5.0\n",
       "question_has_commonly_accepted_answer      0.433501      5.0\n",
       "answer_level_of_information                0.453471      9.0\n",
       "question_type_entity                       0.459954      5.0\n",
       "question_opinion_seeking                   0.484677      5.0\n",
       "question_interestingness_self              0.509815      9.0\n",
       "question_well_written                      0.520489      9.0\n",
       "question_multi_intent                      0.587666      5.0\n",
       "question_body_critical                     0.620944      9.0\n",
       "question_type_reason_explanation           0.671671      5.0\n",
       "answer_type_reason_explanation             0.683465      5.0\n",
       "question_type_choice                       0.743139      5.0\n",
       "answer_type_instructions                   0.761108      5.0\n",
       "question_type_instructions                 0.782667      5.0"
      ]
     },
     "execution_count": 19,
     "metadata": {},
     "output_type": "execute_result"
    }
   ],
   "source": [
    "rs_df = pd.DataFrame(np.vstack([rs.values.flatten(), train[TARGETS].nunique()]).T, \n",
    "                     columns=['SpearmanCorr', 'NUnique'], index=rs.index)\n",
    "rs_df.sort_values('SpearmanCorr', ascending=True)"
   ]
  },
  {
   "cell_type": "code",
   "execution_count": 20,
   "metadata": {},
   "outputs": [
    {
     "data": {
      "text/plain": [
       "Index(['question_type_spelling', 'question_not_really_a_question',\n",
       "       'answer_plausible', 'answer_relevance', 'question_type_consequence'],\n",
       "      dtype='object')"
      ]
     },
     "execution_count": 20,
     "metadata": {},
     "output_type": "execute_result"
    }
   ],
   "source": [
    "sorted_targets = rs_df.sort_values('SpearmanCorr', ascending=True).index\n",
    "worst_five_targets = sorted_targets[:5]\n",
    "worst_five_targets"
   ]
  },
  {
   "cell_type": "code",
   "execution_count": 21,
   "metadata": {
    "scrolled": true
   },
   "outputs": [
    {
     "data": {
      "image/png": "[encoded data removed]",
      "text/plain": [
       "<Figure size 432x288 with 1 Axes>"
      ]
     },
     "metadata": {
      "needs_background": "light"
     },
     "output_type": "display_data"
    },
    {
     "data": {
      "image/png": "[encoded data removed]",
      "text/plain": [
       "<Figure size 432x288 with 1 Axes>"
      ]
     },
     "metadata": {
      "needs_background": "light"
     },
     "output_type": "display_data"
    },
    {
     "data": {
      "image/png": "[encoded data removed]",
      "text/plain": [
       "<Figure size 432x288 with 1 Axes>"
      ]
     },
     "metadata": {
      "needs_background": "light"
     },
     "output_type": "display_data"
    },
    {
     "data": {
      "image/png": "[encoded data removed]",
      "text/plain": [
       "<Figure size 432x288 with 1 Axes>"
      ]
     },
     "metadata": {
      "needs_background": "light"
     },
     "output_type": "display_data"
    },
    {
     "data": {
      "image/png": "[encoded data removed]",
      "text/plain": [
       "<Figure size 432x288 with 1 Axes>"
      ]
     },
     "metadata": {
      "needs_background": "light"
     },
     "output_type": "display_data"
    }
   ],
   "source": [
    "for col in worst_five_targets:\n",
    "    plt.figure()\n",
    "    train[col].hist()\n",
    "    plt.title(f'{col} {np.round(rs[col],3)}')"
   ]
  },
  {
   "cell_type": "code",
   "execution_count": 22,
   "metadata": {},
   "outputs": [
    {
     "name": "stderr",
     "output_type": "stream",
     "text": [
      "/home/robin/anaconda3/envs/GoogleQuest/lib/python3.7/site-packages/ipykernel_launcher.py:2: RuntimeWarning: More than 20 figures have been opened. Figures created through the pyplot interface (`matplotlib.pyplot.figure`) are retained until explicitly closed and may consume too much memory. (To control this warning, see the rcParam `figure.max_open_warning`).\n",
      "  \n"
     ]
    },
    {
     "data": {
      "image/png": "[encoded data removed]",
      "text/plain": [
       "<Figure size 432x288 with 1 Axes>"
      ]
     },
     "metadata": {
      "needs_background": "light"
     },
     "output_type": "display_data"
    },
    {
     "data": {
      "image/png": "[encoded data removed]",
      "text/plain": [
       "<Figure size 432x288 with 1 Axes>"
      ]
     },
     "metadata": {
      "needs_background": "light"
     },
     "output_type": "display_data"
    },
    {
     "data": {
      "image/png": "[encoded data removed]",
      "text/plain": [
       "<Figure size 432x288 with 1 Axes>"
      ]
     },
     "metadata": {
      "needs_background": "light"
     },
     "output_type": "display_data"
    },
    {
     "data": {
      "image/png": "[encoded data removed]",
      "text/plain": [
       "<Figure size 432x288 with 1 Axes>"
      ]
     },
     "metadata": {
      "needs_background": "light"
     },
     "output_type": "display_data"
    },
    {
     "data": {
      "image/png": "[encoded data removed]",
      "text/plain": [
       "<Figure size 432x288 with 1 Axes>"
      ]
     },
     "metadata": {
      "needs_background": "light"
     },
     "output_type": "display_data"
    },
    {
     "data": {
      "image/png": "[encoded data removed]",
      "text/plain": [
       "<Figure size 432x288 with 1 Axes>"
      ]
     },
     "metadata": {
      "needs_background": "light"
     },
     "output_type": "display_data"
    },
    {
     "data": {
      "image/png": "[encoded data removed]",
      "text/plain": [
       "<Figure size 432x288 with 1 Axes>"
      ]
     },
     "metadata": {
      "needs_background": "light"
     },
     "output_type": "display_data"
    },
    {
     "data": {
      "image/png": "[encoded data removed]",
      "text/plain": [
       "<Figure size 432x288 with 1 Axes>"
      ]
     },
     "metadata": {
      "needs_background": "light"
     },
     "output_type": "display_data"
    },
    {
     "data": {
      "image/png": "[encoded data removed]",
      "text/plain": [
       "<Figure size 432x288 with 1 Axes>"
      ]
     },
     "metadata": {
      "needs_background": "light"
     },
     "output_type": "display_data"
    },
    {
     "data": {
      "image/png": "[encoded data removed]",
      "text/plain": [
       "<Figure size 432x288 with 1 Axes>"
      ]
     },
     "metadata": {
      "needs_background": "light"
     },
     "output_type": "display_data"
    },
    {
     "data": {
      "image/png": "[encoded data removed]",
      "text/plain": [
       "<Figure size 432x288 with 1 Axes>"
      ]
     },
     "metadata": {
      "needs_background": "light"
     },
     "output_type": "display_data"
    },
    {
     "data": {
      "image/png": "[encoded data removed]",
      "text/plain": [
       "<Figure size 432x288 with 1 Axes>"
      ]
     },
     "metadata": {
      "needs_background": "light"
     },
     "output_type": "display_data"
    },
    {
     "data": {
      "image/png": "[encoded data removed]",
      "text/plain": [
       "<Figure size 432x288 with 1 Axes>"
      ]
     },
     "metadata": {
      "needs_background": "light"
     },
     "output_type": "display_data"
    },
    {
     "data": {
      "image/png": "[encoded data removed]",
      "text/plain": [
       "<Figure size 432x288 with 1 Axes>"
      ]
     },
     "metadata": {
      "needs_background": "light"
     },
     "output_type": "display_data"
    },
    {
     "data": {
      "image/png": "[encoded data removed]",
      "text/plain": [
       "<Figure size 432x288 with 1 Axes>"
      ]
     },
     "metadata": {
      "needs_background": "light"
     },
     "output_type": "display_data"
    },
    {
     "data": {
      "image/png": "[encoded data removed]",
      "text/plain": [
       "<Figure size 432x288 with 1 Axes>"
      ]
     },
     "metadata": {
      "needs_background": "light"
     },
     "output_type": "display_data"
    },
    {
     "data": {
      "image/png": "[encoded data removed]",
      "text/plain": [
       "<Figure size 432x288 with 1 Axes>"
      ]
     },
     "metadata": {
      "needs_background": "light"
     },
     "output_type": "display_data"
    },
    {
     "data": {
      "image/png": "[encoded data removed]",
      "text/plain": [
       "<Figure size 432x288 with 1 Axes>"
      ]
     },
     "metadata": {
      "needs_background": "light"
     },
     "output_type": "display_data"
    },
    {
     "data": {
      "image/png": "[encoded data removed]",
      "text/plain": [
       "<Figure size 432x288 with 1 Axes>"
      ]
     },
     "metadata": {
      "needs_background": "light"
     },
     "output_type": "display_data"
    },
    {
     "data": {
      "image/png": "[encoded data removed]",
      "text/plain": [
       "<Figure size 432x288 with 1 Axes>"
      ]
     },
     "metadata": {
      "needs_background": "light"
     },
     "output_type": "display_data"
    },
    {
     "data": {
      "image/png": "[encoded data removed]",
      "text/plain": [
       "<Figure size 432x288 with 1 Axes>"
      ]
     },
     "metadata": {
      "needs_background": "light"
     },
     "output_type": "display_data"
    },
    {
     "data": {
      "image/png": "[encoded data removed]",
      "text/plain": [
       "<Figure size 432x288 with 1 Axes>"
      ]
     },
     "metadata": {
      "needs_background": "light"
     },
     "output_type": "display_data"
    },
    {
     "data": {
      "image/png": "[encoded data removed]",
      "text/plain": [
       "<Figure size 432x288 with 1 Axes>"
      ]
     },
     "metadata": {
      "needs_background": "light"
     },
     "output_type": "display_data"
    },
    {
     "data": {
      "image/png": "[encoded data removed]",
      "text/plain": [
       "<Figure size 432x288 with 1 Axes>"
      ]
     },
     "metadata": {
      "needs_background": "light"
     },
     "output_type": "display_data"
    },
    {
     "data": {
      "image/png": "[encoded data removed]",
      "text/plain": [
       "<Figure size 432x288 with 1 Axes>"
      ]
     },
     "metadata": {
      "needs_background": "light"
     },
     "output_type": "display_data"
    }
   ],
   "source": [
    "for col in [target for target in sorted_targets if target not in worst_five_targets]:\n",
    "    plt.figure()\n",
    "    train[col].hist()\n",
    "    plt.title(f'{col} {np.round(rs[col],3)}')"
   ]
  },
  {
   "cell_type": "code",
   "execution_count": null,
   "metadata": {},
   "outputs": [],
   "source": []
  },
  {
   "cell_type": "code",
   "execution_count": null,
   "metadata": {},
   "outputs": [],
   "source": []
  }
 ],
 "metadata": {
  "kernelspec": {
   "display_name": "Python 3",
   "language": "python",
   "name": "python3"
  },
  "language_info": {
   "codemirror_mode": {
    "name": "ipython",
    "version": 3
   },
   "file_extension": ".py",
   "mimetype": "text/x-python",
   "name": "python",
   "nbconvert_exporter": "python",
   "pygments_lexer": "ipython3",
   "version": "3.7.5"
  }
 },
 "nbformat": 4,
 "nbformat_minor": 1
}
