{
 "cells": [
  {
   "cell_type": "code",
   "execution_count": 1,
   "metadata": {},
   "outputs": [],
   "source": [
    "import numpy as np\n",
    "import pandas as pd\n",
    "import warnings\n",
    "import itertools\n",
    "from tqdm import tqdm_notebook\n",
    "from scipy.stats import spearmanr\n",
    "from sklearn.preprocessing import MinMaxScaler\n",
    "warnings.filterwarnings(\"ignore\")"
   ]
  },
  {
   "cell_type": "code",
   "execution_count": 2,
   "metadata": {},
   "outputs": [],
   "source": [
    "train = pd.read_csv(f'data/train.csv')\n",
    "TARGETS = train.columns[11:]\n",
    "\n",
    "for col in TARGETS:\n",
    "    train[col] = train[col].rank(method=\"average\")\n",
    "train[TARGETS] = MinMaxScaler().fit_transform(train[TARGETS])\n",
    "y = train[TARGETS].values\n",
    "ix = np.where(train.groupby(\"question_body\")[\"host\"].transform(\"count\") == 1)[0]\n",
    "\n",
    "y_use = pd.read_csv('oofs/use_oof.csv').values\n",
    "y_albert = pd.read_csv('oofs/siamese_albert_1_comb_oofs.csv', index_col=0).values\n",
    "y_bert = pd.read_csv('oofs/siamese_bert_6_oofs.csv', index_col=0).values\n",
    "y_roberta = pd.read_csv('oofs/siamese_roberta_1_comb_oofs.csv', index_col=0).values\n",
    "# y_xlnet = pd.read_csv('oofs/siamese_xlnet_1_comb_oofs.csv', index_col=0).values\n",
    "y_xlnet = pd.read_csv('oofs/siamese_xlnet_2_comb_oofs.csv', index_col=0).values\n",
    "\n",
    "preds = [y_use, y_roberta, y_bert, y_xlnet, y_albert]\n",
    "n_models = len(preds)"
   ]
  },
  {
   "cell_type": "code",
   "execution_count": 3,
   "metadata": {},
   "outputs": [],
   "source": [
    "def bce(y, y_pred):\n",
    "    return -np.mean(y*np.log(y_pred + 1e-5) + (1-y)*np.log(1-y_pred + 1e-5))\n",
    "\n",
    "\n",
    "def evaluate(y, y_pred, verbose=False, exclude=[]):\n",
    "    score = 0\n",
    "    for i in range(y.shape[1]):\n",
    "        if i not in exclude:\n",
    "            col_score = spearmanr(y[:, i], y_pred[:, i])[0]\n",
    "            if verbose:\n",
    "                print(TARGETS[i], np.round(col_score, 3))\n",
    "            score += col_score/(y.shape[1]-len(exclude))\n",
    "    return np.round(score, 4)\n",
    "\n",
    "\n",
    "ds = [4, 8, 16, 32, 64, None]\n",
    "ws = [0, 1, 2, 4]\n",
    "\n",
    "\n",
    "def scale(x, d):\n",
    "    if d:\n",
    "        return (x//(1/d))/d\n",
    "    return x\n",
    "\n",
    "dws5 = list(itertools.product(ds, ds, *(n_models*[ws])))\n",
    "\n",
    "\n",
    "def transform(preds, params, c):\n",
    "    (d_global, d_local), ws = params[:2], params[2:]\n",
    "    y_temp = 0\n",
    "    for pred, w in zip(preds, ws):\n",
    "        y_temp += w * scale(pred[:, c], d_local)\n",
    "    y_temp /= sum(ws)\n",
    "    y_temp = scale(y_temp, d_global)\n",
    "    return y_temp\n",
    "\n",
    "\n",
    "bce_weight = 0.25\n",
    "\n",
    "\n",
    "def f(c):\n",
    "    max_score = spearmanr(y[:, c], y_roberta[:, c])[0] - bce_weight * bce(y[:, c], y_roberta[:, c])\n",
    "    best_index = -1\n",
    "    for i, params in enumerate(dws5):\n",
    "        if sum(params[2:]) == 0:\n",
    "            continue\n",
    "        y_temp = transform(preds, params, c)\n",
    "        score = spearmanr(y[:, c], y_temp)[0] - bce_weight * bce(y[:, c], y_temp)\n",
    "        if score > max_score:\n",
    "            max_score = score\n",
    "            best_index = i\n",
    "            \n",
    "    return best_index"
   ]
  },
  {
   "cell_type": "code",
   "execution_count": 4,
   "metadata": {},
   "outputs": [],
   "source": [
    "import multiprocessing\n",
    "\n",
    "pool = multiprocessing.Pool(15)\n",
    "out = pool.map(f, range(30))"
   ]
  },
  {
   "cell_type": "code",
   "execution_count": 5,
   "metadata": {},
   "outputs": [
    {
     "name": "stdout",
     "output_type": "stream",
     "text": [
      "0 question_asker_intent_understanding (None, None, 2, 2, 1, 2, 2)\n",
      "1 question_body_critical (None, None, 2, 0, 1, 0, 1)\n",
      "2 question_conversational (16, 32, 1, 0, 1, 1, 0)\n",
      "3 question_expect_short_answer (32, 16, 2, 4, 2, 1, 2)\n",
      "4 question_fact_seeking (16, 32, 2, 1, 2, 4, 1)\n",
      "5 question_has_commonly_accepted_answer (4, None, 1, 4, 2, 1, 4)\n",
      "6 question_interestingness_others (32, None, 4, 1, 2, 2, 4)\n",
      "7 question_interestingness_self (16, None, 2, 1, 1, 2, 1)\n",
      "8 question_multi_intent (64, 64, 4, 1, 2, 4, 4)\n",
      "9 question_not_really_a_question (32, 32, 1, 2, 4, 1, 2)\n",
      "10 question_opinion_seeking (64, None, 2, 4, 1, 4, 2)\n",
      "11 question_type_choice (64, None, 1, 2, 1, 1, 2)\n",
      "12 question_type_compare (8, 8, 2, 4, 2, 4, 1)\n",
      "13 question_type_consequence (32, 8, 0, 1, 0, 4, 0)\n",
      "14 question_type_definition (8, 8, 0, 4, 1, 0, 0)\n",
      "15 question_type_entity (8, 32, 2, 2, 0, 4, 1)\n",
      "16 question_type_instructions (None, None, 1, 1, 0, 1, 1)\n",
      "17 question_type_procedure (64, None, 1, 4, 0, 2, 1)\n",
      "18 question_type_reason_explanation (32, None, 2, 2, 1, 2, 1)\n",
      "19 question_type_spelling (16, 64, 2, 1, 4, 0, 0)\n",
      "20 question_well_written (64, None, 2, 1, 4, 2, 0)\n",
      "21 answer_helpful (32, 64, 1, 4, 0, 0, 4)\n",
      "22 answer_level_of_information (64, None, 4, 4, 1, 2, 2)\n",
      "23 answer_plausible (32, None, 1, 2, 0, 0, 2)\n",
      "24 answer_relevance (16, 16, 1, 2, 2, 2, 1)\n",
      "25 answer_satisfaction (64, None, 1, 2, 0, 1, 2)\n",
      "26 answer_type_instructions (None, 64, 2, 4, 1, 2, 2)\n",
      "27 answer_type_procedure (64, None, 2, 4, 2, 1, 1)\n",
      "28 answer_type_reason_explanation (32, None, 4, 4, 1, 2, 4)\n",
      "29 answer_well_written (32, None, 0, 1, 4, 4, 2)\n"
     ]
    }
   ],
   "source": [
    "y_combined = np.zeros(y.shape)\n",
    "\n",
    "for c in range(30):\n",
    "    print(c, TARGETS[c], dws5[out[c]])\n",
    "    y_combined[:, c] = transform(preds, dws5[out[c]], c)"
   ]
  },
  {
   "cell_type": "code",
   "execution_count": 6,
   "metadata": {},
   "outputs": [
    {
     "name": "stdout",
     "output_type": "stream",
     "text": [
      "question_asker_intent_understanding 0.404\n",
      "question_body_critical 0.691\n",
      "question_conversational 0.489\n",
      "question_expect_short_answer 0.326\n",
      "question_fact_seeking 0.382\n",
      "question_has_commonly_accepted_answer 0.486\n",
      "question_interestingness_others 0.374\n",
      "question_interestingness_self 0.527\n",
      "question_multi_intent 0.611\n",
      "question_not_really_a_question 0.171\n",
      "question_opinion_seeking 0.497\n",
      "question_type_choice 0.759\n",
      "question_type_compare 0.568\n",
      "question_type_consequence 0.323\n",
      "question_type_definition 0.669\n",
      "question_type_entity 0.61\n",
      "question_type_instructions 0.791\n",
      "question_type_procedure 0.385\n",
      "question_type_reason_explanation 0.688\n",
      "question_type_spelling 0.608\n",
      "question_well_written 0.542\n",
      "answer_helpful 0.287\n",
      "answer_level_of_information 0.48\n",
      "answer_plausible 0.188\n",
      "answer_relevance 0.199\n",
      "answer_satisfaction 0.389\n",
      "answer_type_instructions 0.773\n",
      "answer_type_procedure 0.329\n",
      "answer_type_reason_explanation 0.703\n",
      "answer_well_written 0.252\n"
     ]
    },
    {
     "data": {
      "text/plain": [
       "0.4833"
      ]
     },
     "execution_count": 6,
     "metadata": {},
     "output_type": "execute_result"
    }
   ],
   "source": [
    "evaluate(y, y_combined, True)"
   ]
  },
  {
   "cell_type": "code",
   "execution_count": 7,
   "metadata": {},
   "outputs": [
    {
     "name": "stdout",
     "output_type": "stream",
     "text": [
      "question_asker_intent_understanding 0.404\n",
      "question_body_critical 0.691\n",
      "question_conversational 0.489\n",
      "question_expect_short_answer 0.326\n",
      "question_fact_seeking 0.382\n",
      "question_has_commonly_accepted_answer 0.486\n",
      "question_interestingness_others 0.374\n",
      "question_interestingness_self 0.527\n",
      "question_multi_intent 0.611\n",
      "question_opinion_seeking 0.497\n",
      "question_type_choice 0.759\n",
      "question_type_compare 0.568\n",
      "question_type_consequence 0.323\n",
      "question_type_definition 0.669\n",
      "question_type_entity 0.61\n",
      "question_type_instructions 0.791\n",
      "question_type_procedure 0.385\n",
      "question_type_reason_explanation 0.688\n",
      "question_well_written 0.542\n",
      "answer_helpful 0.287\n",
      "answer_level_of_information 0.48\n",
      "answer_plausible 0.188\n",
      "answer_relevance 0.199\n",
      "answer_satisfaction 0.389\n",
      "answer_type_instructions 0.773\n",
      "answer_type_procedure 0.329\n",
      "answer_type_reason_explanation 0.703\n",
      "answer_well_written 0.252\n"
     ]
    },
    {
     "data": {
      "text/plain": [
       "0.49"
      ]
     },
     "execution_count": 7,
     "metadata": {},
     "output_type": "execute_result"
    }
   ],
   "source": [
    "evaluate(y, y_combined, True, exclude=[9,19])"
   ]
  },
  {
   "cell_type": "code",
   "execution_count": 8,
   "metadata": {
    "scrolled": false
   },
   "outputs": [
    {
     "data": {
      "text/plain": [
       "[(None, None, 2, 2, 1, 2, 2),\n",
       " (None, None, 2, 0, 1, 0, 1),\n",
       " (16, 32, 1, 0, 1, 1, 0),\n",
       " (32, 16, 2, 4, 2, 1, 2),\n",
       " (16, 32, 2, 1, 2, 4, 1),\n",
       " (4, None, 1, 4, 2, 1, 4),\n",
       " (32, None, 4, 1, 2, 2, 4),\n",
       " (16, None, 2, 1, 1, 2, 1),\n",
       " (64, 64, 4, 1, 2, 4, 4),\n",
       " (32, 32, 1, 2, 4, 1, 2),\n",
       " (64, None, 2, 4, 1, 4, 2),\n",
       " (64, None, 1, 2, 1, 1, 2),\n",
       " (8, 8, 2, 4, 2, 4, 1),\n",
       " (32, 8, 0, 1, 0, 4, 0),\n",
       " (8, 8, 0, 4, 1, 0, 0),\n",
       " (8, 32, 2, 2, 0, 4, 1),\n",
       " (None, None, 1, 1, 0, 1, 1),\n",
       " (64, None, 1, 4, 0, 2, 1),\n",
       " (32, None, 2, 2, 1, 2, 1),\n",
       " (16, 64, 2, 1, 4, 0, 0),\n",
       " (64, None, 2, 1, 4, 2, 0),\n",
       " (32, 64, 1, 4, 0, 0, 4),\n",
       " (64, None, 4, 4, 1, 2, 2),\n",
       " (32, None, 1, 2, 0, 0, 2),\n",
       " (16, 16, 1, 2, 2, 2, 1),\n",
       " (64, None, 1, 2, 0, 1, 2),\n",
       " (None, 64, 2, 4, 1, 2, 2),\n",
       " (64, None, 2, 4, 2, 1, 1),\n",
       " (32, None, 4, 4, 1, 2, 4),\n",
       " (32, None, 0, 1, 4, 4, 2)]"
      ]
     },
     "execution_count": 8,
     "metadata": {},
     "output_type": "execute_result"
    }
   ],
   "source": [
    "[dws5[out[c]] for c in range(30)]"
   ]
  },
  {
   "cell_type": "code",
   "execution_count": null,
   "metadata": {},
   "outputs": [],
   "source": []
  }
 ],
 "metadata": {
  "kernelspec": {
   "display_name": "Python 3",
   "language": "python",
   "name": "python3"
  },
  "language_info": {
   "codemirror_mode": {
    "name": "ipython",
    "version": 3
   },
   "file_extension": ".py",
   "mimetype": "text/x-python",
   "name": "python",
   "nbconvert_exporter": "python",
   "pygments_lexer": "ipython3",
   "version": "3.7.5"
  }
 },
 "nbformat": 4,
 "nbformat_minor": 2
}
