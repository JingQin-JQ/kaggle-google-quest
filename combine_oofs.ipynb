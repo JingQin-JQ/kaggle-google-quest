{
 "cells": [
  {
   "cell_type": "code",
   "execution_count": 1,
   "metadata": {},
   "outputs": [],
   "source": [
    "import numpy as np\n",
    "import pandas as pd\n",
    "import warnings\n",
    "warnings.filterwarnings(\"ignore\")\n",
    "import itertools\n",
    "from tqdm import tqdm_notebook\n",
    "from scipy.stats import spearmanr\n",
    "from common import *"
   ]
  },
  {
   "cell_type": "code",
   "execution_count": 2,
   "metadata": {},
   "outputs": [],
   "source": [
    "train = pd.read_csv(f'data/train.csv')\n",
    "y = train[TARGETS].values\n",
    "ix = np.where(train.groupby(\"question_body\")[\"host\"].transform(\"count\") == 1)[0]\n",
    "\n",
    "y_oof = pd.read_csv('oofs/siamese_albert_1_oofs.csv', index_col=0).values\n",
    "y_bert = pd.read_csv('oofs/siamese_bert_6_oofs.csv', index_col=0).values\n",
    "y_roberta = pd.read_csv('oofs/siamese_roberta_1_comb_oofs.csv', index_col=0).values\n",
    "y_xlnet = pd.read_csv('oofs/siamese_xlnet_1_comb_oofs.csv', index_col=0).values\n",
    "# y_xlnet = pd.read_csv('oofs/siamese_xlnet_2_comb_oofs.csv', index_col=0).values"
   ]
  },
  {
   "cell_type": "code",
   "execution_count": 9,
   "metadata": {},
   "outputs": [],
   "source": [
    "def evaluate(y, y_pred, verbose=False, exclude=[]):\n",
    "    score = 0\n",
    "    for i in range(y.shape[1]):\n",
    "        if i not in exclude:\n",
    "            col_score = spearmanr(y[:, i], y_pred[:, i])[0]\n",
    "            if verbose:\n",
    "                print(TARGETS[i], np.round(col_score, 3))\n",
    "            score += col_score/(y.shape[1]-len(exclude))\n",
    "    return np.round(score, 3)\n",
    "\n",
    "\n",
    "ds = [2, 4, 8, 16, 32, 64, None]\n",
    "ws = [0, 1, 2, 4]\n",
    "\n",
    "\n",
    "def scale(x, d):\n",
    "    if d:\n",
    "        return (x//(1/d))/d\n",
    "    return x\n",
    "\n",
    "dws4 = list(itertools.product(ds, ds, ws, ws, ws, ws))\n",
    "\n",
    "\n",
    "def transform(y_oof, y_roberta, y_bert, y_xlnet, params, c):\n",
    "    d_global, d_local, w_use, w_roberta, w_bert, w_xlnet = params\n",
    "    y_temp = scale(y_oof[:, c], d_local)*w_use +\\\n",
    "                 scale(y_roberta[:, c], d_local)*w_roberta +\\\n",
    "                 scale(y_bert[:, c], d_local)*w_bert +\\\n",
    "                 scale(y_xlnet[:, c], d_local)*w_xlnet\n",
    "    y_temp /= w_use + w_roberta + w_bert + w_xlnet\n",
    "    y_temp = scale(y_temp, d_global)\n",
    "    return y_temp\n",
    "\n",
    "\n",
    "def f(c):\n",
    "    max_score = spearmanr(y[:, c], y_roberta[:, c])[0]\n",
    "    best_index = -1\n",
    "    for i, params in enumerate(dws4):\n",
    "        y_temp = transform(y_oof, y_roberta, y_bert, y_xlnet, params, c)\n",
    "        score = spearmanr(y[:, c], y_temp)[0]\n",
    "        if score > max_score:\n",
    "            max_score = score\n",
    "            best_index = i\n",
    "            \n",
    "    return best_index"
   ]
  },
  {
   "cell_type": "code",
   "execution_count": 4,
   "metadata": {},
   "outputs": [],
   "source": [
    "import multiprocessing\n",
    "\n",
    "pool = multiprocessing.Pool(15)\n",
    "out = pool.map(f, range(30))"
   ]
  },
  {
   "cell_type": "code",
   "execution_count": 6,
   "metadata": {},
   "outputs": [
    {
     "name": "stdout",
     "output_type": "stream",
     "text": [
      "0 question_asker_intent_understanding (64, 32, 1, 1, 1, 2)\n",
      "1 question_body_critical (32, None, 4, 1, 4, 1)\n",
      "2 question_conversational (4, None, 2, 4, 1, 2)\n",
      "3 question_expect_short_answer (32, None, 2, 1, 1, 1)\n",
      "4 question_fact_seeking (8, 32, 1, 1, 2, 4)\n",
      "5 question_has_commonly_accepted_answer (4, None, 4, 2, 1, 4)\n",
      "6 question_interestingness_others (32, None, 2, 0, 1, 2)\n",
      "7 question_interestingness_self (16, 32, 2, 1, 4, 4)\n",
      "8 question_multi_intent (16, 4, 1, 1, 4, 2)\n",
      "9 question_not_really_a_question (16, 8, 2, 0, 1, 1)\n",
      "10 question_opinion_seeking (16, 64, 2, 2, 1, 1)\n",
      "11 question_type_choice (8, 8, 1, 2, 2, 2)\n",
      "12 question_type_compare (4, None, 0, 4, 1, 4)\n",
      "13 question_type_consequence (4, 8, 0, 1, 0, 4)\n",
      "14 question_type_definition (8, 8, 0, 4, 1, 0)\n",
      "15 question_type_entity (4, 64, 0, 4, 1, 2)\n",
      "16 question_type_instructions (8, 16, 1, 2, 1, 2)\n",
      "17 question_type_procedure (64, 64, 1, 2, 0, 2)\n",
      "18 question_type_reason_explanation (32, 64, 1, 4, 2, 4)\n",
      "19 question_type_spelling (16, 64, 0, 0, 4, 1)\n",
      "20 question_well_written (None, None, 1, 2, 4, 2)\n",
      "21 answer_helpful (16, 8, 2, 4, 1, 1)\n",
      "22 answer_level_of_information (16, 32, 0, 2, 1, 1)\n",
      "23 answer_plausible (16, 32, 1, 4, 1, 1)\n",
      "24 answer_relevance (64, 64, 1, 2, 0, 1)\n",
      "25 answer_satisfaction (32, 32, 1, 4, 1, 4)\n",
      "26 answer_type_instructions (16, 32, 1, 2, 1, 1)\n",
      "27 answer_type_procedure (64, 64, 0, 4, 2, 1)\n",
      "28 answer_type_reason_explanation (64, None, 2, 4, 1, 2)\n",
      "29 answer_well_written (32, None, 0, 1, 2, 2)\n"
     ]
    }
   ],
   "source": [
    "y_combined = np.zeros(y.shape)\n",
    "\n",
    "for c in range(30):\n",
    "    print(c, TARGETS[c], dws4[out[c]])\n",
    "    y_combined[:, c] = transform(y_oof, y_roberta, y_bert, y_xlnet, dws4[out[c]], c)"
   ]
  },
  {
   "cell_type": "code",
   "execution_count": 10,
   "metadata": {},
   "outputs": [
    {
     "name": "stdout",
     "output_type": "stream",
     "text": [
      "question_asker_intent_understanding 0.402\n",
      "question_body_critical 0.679\n",
      "question_conversational 0.513\n",
      "question_expect_short_answer 0.323\n",
      "question_fact_seeking 0.381\n",
      "question_has_commonly_accepted_answer 0.479\n",
      "question_interestingness_others 0.373\n",
      "question_interestingness_self 0.52\n",
      "question_multi_intent 0.606\n",
      "question_not_really_a_question 0.201\n",
      "question_opinion_seeking 0.496\n",
      "question_type_choice 0.771\n",
      "question_type_compare 0.566\n",
      "question_type_consequence 0.333\n",
      "question_type_definition 0.669\n",
      "question_type_entity 0.612\n",
      "question_type_instructions 0.791\n",
      "question_type_procedure 0.384\n",
      "question_type_reason_explanation 0.684\n",
      "question_type_spelling 0.563\n",
      "question_well_written 0.539\n",
      "answer_helpful 0.272\n",
      "answer_level_of_information 0.476\n",
      "answer_plausible 0.174\n",
      "answer_relevance 0.191\n",
      "answer_satisfaction 0.38\n",
      "answer_type_instructions 0.774\n",
      "answer_type_procedure 0.327\n",
      "answer_type_reason_explanation 0.697\n",
      "answer_well_written 0.25\n"
     ]
    },
    {
     "data": {
      "text/plain": [
       "0.481"
      ]
     },
     "execution_count": 10,
     "metadata": {},
     "output_type": "execute_result"
    }
   ],
   "source": [
    "evaluate(y, y_combined, True)"
   ]
  },
  {
   "cell_type": "code",
   "execution_count": 11,
   "metadata": {},
   "outputs": [
    {
     "data": {
      "text/plain": [
       "[(64, 32, 1, 1, 1, 2),\n",
       " (32, None, 4, 1, 4, 1),\n",
       " (4, None, 2, 4, 1, 2),\n",
       " (32, None, 2, 1, 1, 1),\n",
       " (8, 32, 1, 1, 2, 4),\n",
       " (4, None, 4, 2, 1, 4),\n",
       " (32, None, 2, 0, 1, 2),\n",
       " (16, 32, 2, 1, 4, 4),\n",
       " (16, 4, 1, 1, 4, 2),\n",
       " (16, 8, 2, 0, 1, 1),\n",
       " (16, 64, 2, 2, 1, 1),\n",
       " (8, 8, 1, 2, 2, 2),\n",
       " (4, None, 0, 4, 1, 4),\n",
       " (4, 8, 0, 1, 0, 4),\n",
       " (8, 8, 0, 4, 1, 0),\n",
       " (4, 64, 0, 4, 1, 2),\n",
       " (8, 16, 1, 2, 1, 2),\n",
       " (64, 64, 1, 2, 0, 2),\n",
       " (32, 64, 1, 4, 2, 4),\n",
       " (16, 64, 0, 0, 4, 1),\n",
       " (None, None, 1, 2, 4, 2),\n",
       " (16, 8, 2, 4, 1, 1),\n",
       " (16, 32, 0, 2, 1, 1),\n",
       " (16, 32, 1, 4, 1, 1),\n",
       " (64, 64, 1, 2, 0, 1),\n",
       " (32, 32, 1, 4, 1, 4),\n",
       " (16, 32, 1, 2, 1, 1),\n",
       " (64, 64, 0, 4, 2, 1),\n",
       " (64, None, 2, 4, 1, 2),\n",
       " (32, None, 0, 1, 2, 2)]"
      ]
     },
     "execution_count": 11,
     "metadata": {},
     "output_type": "execute_result"
    }
   ],
   "source": [
    "[dws4[out[c]] for c in range(30)]"
   ]
  },
  {
   "cell_type": "code",
   "execution_count": null,
   "metadata": {},
   "outputs": [],
   "source": []
  }
 ],
 "metadata": {
  "kernelspec": {
   "display_name": "Python 3",
   "language": "python",
   "name": "python3"
  },
  "language_info": {
   "codemirror_mode": {
    "name": "ipython",
    "version": 3
   },
   "file_extension": ".py",
   "mimetype": "text/x-python",
   "name": "python",
   "nbconvert_exporter": "python",
   "pygments_lexer": "ipython3",
   "version": "3.7.5"
  }
 },
 "nbformat": 4,
 "nbformat_minor": 2
}
