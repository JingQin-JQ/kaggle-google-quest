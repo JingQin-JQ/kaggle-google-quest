{
 "cells": [
  {
   "cell_type": "code",
   "execution_count": 1,
   "metadata": {},
   "outputs": [],
   "source": [
    "import numpy as np\n",
    "import pandas as pd\n",
    "import warnings\n",
    "warnings.filterwarnings(\"ignore\")\n",
    "import itertools\n",
    "from tqdm import tqdm_notebook\n",
    "from scipy.stats import spearmanr\n",
    "from common import *"
   ]
  },
  {
   "cell_type": "code",
   "execution_count": 2,
   "metadata": {},
   "outputs": [],
   "source": [
    "train = pd.read_csv(f'data/train.csv')\n",
    "y = train[TARGETS].values\n",
    "ix = np.where(train.groupby(\"question_body\")[\"host\"].transform(\"count\") == 1)[0]\n",
    "\n",
    "y_albert = pd.read_csv('oofs/siamese_albert_1_comb_oofs.csv', index_col=0).values\n",
    "y_bert = pd.read_csv('oofs/siamese_bert_6_oofs.csv', index_col=0).values\n",
    "y_roberta = pd.read_csv('oofs/siamese_roberta_1_comb_oofs.csv', index_col=0).values\n",
    "# y_xlnet = pd.read_csv('oofs/siamese_xlnet_1_comb_oofs.csv', index_col=0).values\n",
    "y_xlnet = pd.read_csv('oofs/siamese_xlnet_2_comb_oofs.csv', index_col=0).values"
   ]
  },
  {
   "cell_type": "code",
   "execution_count": 3,
   "metadata": {},
   "outputs": [],
   "source": [
    "def evaluate(y, y_pred, verbose=False, exclude=[]):\n",
    "    score = 0\n",
    "    for i in range(y.shape[1]):\n",
    "        if i not in exclude:\n",
    "            col_score = spearmanr(y[:, i], y_pred[:, i])[0]\n",
    "            if verbose:\n",
    "                print(TARGETS[i], np.round(col_score, 3))\n",
    "            score += col_score/(y.shape[1]-len(exclude))\n",
    "    return np.round(score, 4)\n",
    "\n",
    "\n",
    "ds = [2, 4, 8, 16, 32, 64, None]\n",
    "ws = [0, 1, 2, 4]\n",
    "\n",
    "\n",
    "def scale(x, d):\n",
    "    if d:\n",
    "        return (x//(1/d))/d\n",
    "    return x\n",
    "\n",
    "dws4 = list(itertools.product(ds, ds, ws, ws, ws, ws))\n",
    "\n",
    "\n",
    "def transform(y_albert, y_roberta, y_bert, y_xlnet, params, c):\n",
    "    d_global, d_local, w_albert, w_roberta, w_bert, w_xlnet = params\n",
    "    y_temp = scale(y_albert[:, c], d_local)*w_albert +\\\n",
    "                 scale(y_roberta[:, c], d_local)*w_roberta +\\\n",
    "                 scale(y_bert[:, c], d_local)*w_bert +\\\n",
    "                 scale(y_xlnet[:, c], d_local)*w_xlnet\n",
    "    y_temp /= w_albert + w_roberta + w_bert + w_xlnet\n",
    "    y_temp = scale(y_temp, d_global)\n",
    "    return y_temp\n",
    "\n",
    "\n",
    "def f(c):\n",
    "    max_score = spearmanr(y[:, c], y_roberta[:, c])[0]\n",
    "    best_index = -1\n",
    "    for i, params in enumerate(dws4):\n",
    "        y_temp = transform(y_albert, y_roberta, y_bert, y_xlnet, params, c)\n",
    "        score = spearmanr(y[:, c], y_temp)[0]\n",
    "        if score > max_score:\n",
    "            max_score = score\n",
    "            best_index = i\n",
    "            \n",
    "    return best_index"
   ]
  },
  {
   "cell_type": "code",
   "execution_count": 4,
   "metadata": {},
   "outputs": [],
   "source": [
    "import multiprocessing\n",
    "\n",
    "pool = multiprocessing.Pool(15)\n",
    "out = pool.map(f, range(30))"
   ]
  },
  {
   "cell_type": "code",
   "execution_count": 5,
   "metadata": {},
   "outputs": [
    {
     "name": "stdout",
     "output_type": "stream",
     "text": [
      "0 question_asker_intent_understanding (64, 32, 2, 1, 2, 2)\n",
      "1 question_body_critical (None, 64, 4, 1, 4, 1)\n",
      "2 question_conversational (4, None, 2, 2, 1, 2)\n",
      "3 question_expect_short_answer (16, None, 1, 2, 2, 4)\n",
      "4 question_fact_seeking (16, 64, 1, 4, 4, 4)\n",
      "5 question_has_commonly_accepted_answer (4, None, 4, 4, 2, 1)\n",
      "6 question_interestingness_others (32, None, 1, 0, 1, 2)\n",
      "7 question_interestingness_self (16, 64, 2, 1, 4, 4)\n",
      "8 question_multi_intent (8, 32, 2, 1, 2, 2)\n",
      "9 question_not_really_a_question (32, 32, 4, 1, 4, 1)\n",
      "10 question_opinion_seeking (16, None, 1, 4, 1, 4)\n",
      "11 question_type_choice (32, 4, 4, 4, 1, 2)\n",
      "12 question_type_compare (4, None, 0, 2, 0, 1)\n",
      "13 question_type_consequence (32, 8, 0, 1, 0, 4)\n",
      "14 question_type_definition (8, 8, 0, 4, 1, 0)\n",
      "15 question_type_entity (4, 64, 1, 1, 1, 1)\n",
      "16 question_type_instructions (16, None, 2, 2, 1, 4)\n",
      "17 question_type_procedure (32, 16, 1, 4, 0, 4)\n",
      "18 question_type_reason_explanation (16, None, 4, 4, 2, 1)\n",
      "19 question_type_spelling (16, None, 1, 0, 2, 0)\n",
      "20 question_well_written (None, 64, 1, 1, 4, 4)\n",
      "21 answer_helpful (32, 8, 2, 2, 0, 1)\n",
      "22 answer_level_of_information (32, 32, 2, 4, 1, 1)\n",
      "23 answer_plausible (64, 64, 1, 1, 0, 0)\n",
      "24 answer_relevance (8, 64, 2, 1, 2, 4)\n",
      "25 answer_satisfaction (None, None, 2, 2, 0, 1)\n",
      "26 answer_type_instructions (16, 64, 2, 2, 2, 1)\n",
      "27 answer_type_procedure (32, None, 1, 4, 1, 2)\n",
      "28 answer_type_reason_explanation (32, 64, 2, 2, 0, 1)\n",
      "29 answer_well_written (32, None, 2, 1, 4, 4)\n"
     ]
    }
   ],
   "source": [
    "y_combined = np.zeros(y.shape)\n",
    "\n",
    "for c in range(30):\n",
    "    print(c, TARGETS[c], dws4[out[c]])\n",
    "    y_combined[:, c] = transform(y_albert, y_roberta, y_bert, y_xlnet, dws4[out[c]], c)"
   ]
  },
  {
   "cell_type": "code",
   "execution_count": 6,
   "metadata": {},
   "outputs": [
    {
     "name": "stdout",
     "output_type": "stream",
     "text": [
      "question_asker_intent_understanding 0.401\n",
      "question_body_critical 0.681\n",
      "question_conversational 0.511\n",
      "question_expect_short_answer 0.323\n",
      "question_fact_seeking 0.381\n",
      "question_has_commonly_accepted_answer 0.482\n",
      "question_interestingness_others 0.369\n",
      "question_interestingness_self 0.523\n",
      "question_multi_intent 0.61\n",
      "question_not_really_a_question 0.166\n",
      "question_opinion_seeking 0.497\n",
      "question_type_choice 0.773\n",
      "question_type_compare 0.569\n",
      "question_type_consequence 0.323\n",
      "question_type_definition 0.669\n",
      "question_type_entity 0.614\n",
      "question_type_instructions 0.792\n",
      "question_type_procedure 0.384\n",
      "question_type_reason_explanation 0.686\n",
      "question_type_spelling 0.584\n",
      "question_well_written 0.54\n",
      "answer_helpful 0.288\n",
      "answer_level_of_information 0.477\n",
      "answer_plausible 0.185\n",
      "answer_relevance 0.198\n",
      "answer_satisfaction 0.387\n",
      "answer_type_instructions 0.773\n",
      "answer_type_procedure 0.328\n",
      "answer_type_reason_explanation 0.7\n",
      "answer_well_written 0.252\n"
     ]
    },
    {
     "data": {
      "text/plain": [
       "0.4822"
      ]
     },
     "execution_count": 6,
     "metadata": {},
     "output_type": "execute_result"
    }
   ],
   "source": [
    "evaluate(y, y_combined, True)"
   ]
  },
  {
   "cell_type": "code",
   "execution_count": 7,
   "metadata": {},
   "outputs": [
    {
     "name": "stdout",
     "output_type": "stream",
     "text": [
      "question_asker_intent_understanding 0.401\n",
      "question_body_critical 0.681\n",
      "question_conversational 0.511\n",
      "question_expect_short_answer 0.323\n",
      "question_fact_seeking 0.381\n",
      "question_has_commonly_accepted_answer 0.482\n",
      "question_interestingness_others 0.369\n",
      "question_interestingness_self 0.523\n",
      "question_multi_intent 0.61\n",
      "question_opinion_seeking 0.497\n",
      "question_type_choice 0.773\n",
      "question_type_compare 0.569\n",
      "question_type_consequence 0.323\n",
      "question_type_definition 0.669\n",
      "question_type_entity 0.614\n",
      "question_type_instructions 0.792\n",
      "question_type_procedure 0.384\n",
      "question_type_reason_explanation 0.686\n",
      "question_well_written 0.54\n",
      "answer_helpful 0.288\n",
      "answer_level_of_information 0.477\n",
      "answer_plausible 0.185\n",
      "answer_relevance 0.198\n",
      "answer_satisfaction 0.387\n",
      "answer_type_instructions 0.773\n",
      "answer_type_procedure 0.328\n",
      "answer_type_reason_explanation 0.7\n",
      "answer_well_written 0.252\n"
     ]
    },
    {
     "data": {
      "text/plain": [
       "0.4899"
      ]
     },
     "execution_count": 7,
     "metadata": {},
     "output_type": "execute_result"
    }
   ],
   "source": [
    "evaluate(y, y_combined, True, exclude=[9,19])"
   ]
  },
  {
   "cell_type": "code",
   "execution_count": 8,
   "metadata": {},
   "outputs": [
    {
     "data": {
      "text/plain": [
       "[(64, 32, 2, 1, 2, 2),\n",
       " (None, 64, 4, 1, 4, 1),\n",
       " (4, None, 2, 2, 1, 2),\n",
       " (16, None, 1, 2, 2, 4),\n",
       " (16, 64, 1, 4, 4, 4),\n",
       " (4, None, 4, 4, 2, 1),\n",
       " (32, None, 1, 0, 1, 2),\n",
       " (16, 64, 2, 1, 4, 4),\n",
       " (8, 32, 2, 1, 2, 2),\n",
       " (32, 32, 4, 1, 4, 1),\n",
       " (16, None, 1, 4, 1, 4),\n",
       " (32, 4, 4, 4, 1, 2),\n",
       " (4, None, 0, 2, 0, 1),\n",
       " (32, 8, 0, 1, 0, 4),\n",
       " (8, 8, 0, 4, 1, 0),\n",
       " (4, 64, 1, 1, 1, 1),\n",
       " (16, None, 2, 2, 1, 4),\n",
       " (32, 16, 1, 4, 0, 4),\n",
       " (16, None, 4, 4, 2, 1),\n",
       " (16, None, 1, 0, 2, 0),\n",
       " (None, 64, 1, 1, 4, 4),\n",
       " (32, 8, 2, 2, 0, 1),\n",
       " (32, 32, 2, 4, 1, 1),\n",
       " (64, 64, 1, 1, 0, 0),\n",
       " (8, 64, 2, 1, 2, 4),\n",
       " (None, None, 2, 2, 0, 1),\n",
       " (16, 64, 2, 2, 2, 1),\n",
       " (32, None, 1, 4, 1, 2),\n",
       " (32, 64, 2, 2, 0, 1),\n",
       " (32, None, 2, 1, 4, 4)]"
      ]
     },
     "execution_count": 8,
     "metadata": {},
     "output_type": "execute_result"
    }
   ],
   "source": [
    "[dws4[out[c]] for c in range(30)]"
   ]
  },
  {
   "cell_type": "code",
   "execution_count": null,
   "metadata": {},
   "outputs": [],
   "source": []
  }
 ],
 "metadata": {
  "kernelspec": {
   "display_name": "Python 3",
   "language": "python",
   "name": "python3"
  },
  "language_info": {
   "codemirror_mode": {
    "name": "ipython",
    "version": 3
   },
   "file_extension": ".py",
   "mimetype": "text/x-python",
   "name": "python",
   "nbconvert_exporter": "python",
   "pygments_lexer": "ipython3",
   "version": "3.7.5"
  }
 },
 "nbformat": 4,
 "nbformat_minor": 2
}
