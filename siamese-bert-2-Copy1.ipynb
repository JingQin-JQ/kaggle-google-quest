{
 "cells": [
  {
   "cell_type": "markdown",
   "metadata": {},
   "source": [
    "## Importing libraries"
   ]
  },
  {
   "cell_type": "code",
   "execution_count": 1,
   "metadata": {
    "_kg_hide-input": true
   },
   "outputs": [],
   "source": [
    "import numpy as np\n",
    "import pandas as pd\n",
    "import matplotlib.pyplot as plt\n",
    "import seaborn as sns\n",
    "import time\n",
    "import datetime\n",
    "import re\n",
    "import gc\n",
    "import copy\n",
    "\n",
    "from sklearn.model_selection import KFold, GroupKFold\n",
    "from sklearn.preprocessing import OneHotEncoder, MinMaxScaler\n",
    "\n",
    "import torch\n",
    "import torch.nn as nn\n",
    "import torch.optim as optim\n",
    "import torch.nn.functional as F\n",
    "from torch.utils.data import DataLoader\n",
    "\n",
    "from tqdm import tqdm_notebook as tqdm\n",
    "from transformers import DistilBertTokenizer, BertTokenizer\n",
    "import transformers\n",
    "\n",
    "from radam import RAdam\n",
    "from text_data import TextDataset5\n",
    "from bert import CustomBert3\n",
    "from multilabel_cross_fold import MultilabelStratifiedKFold\n",
    "from learning import Learner\n",
    "from lr_finder import LRFinder\n",
    "from one_cycle import OneCycleLR\n",
    "from text_cleaning import clean_data\n",
    "from create_features import get_categorical_features\n",
    "from losses_metrics import spearmanr_torch, spearmanr_np\n",
    "from inference import infer\n",
    "from eda import eda\n",
    "from common import *\n",
    "from utils.helpers import init_logger, init_seed\n",
    "\n",
    "%matplotlib inline\n",
    "pd.set_option('max_colwidth',400)"
   ]
  },
  {
   "cell_type": "markdown",
   "metadata": {},
   "source": [
    "## Loading and preparing data"
   ]
  },
  {
   "cell_type": "code",
   "execution_count": 2,
   "metadata": {
    "_cell_guid": "b1076dfc-b9ad-4769-8c92-a6c4dae69d19",
    "_uuid": "8f2839f25d086af736a60e9eeb907d3b93b6e0e5"
   },
   "outputs": [],
   "source": [
    "pd.set_option('max_rows', 500)\n",
    "pd.set_option('max_columns', 500)\n",
    "path = 'data/'\n",
    "sample_submission = pd.read_csv(f'{path}sample_submission.csv')\n",
    "test = pd.read_csv(f'{path}test.csv').fillna(' ')\n",
    "train = pd.read_csv(f'{path}train.csv').fillna(' ')"
   ]
  },
  {
   "cell_type": "code",
   "execution_count": 3,
   "metadata": {},
   "outputs": [
    {
     "name": "stderr",
     "output_type": "stream",
     "text": [
      "/home/robin/anaconda3/envs/GoogleQuest/lib/python3.7/site-packages/ipykernel_launcher.py:10: TqdmDeprecationWarning: This function will be removed in tqdm==5.0.0\n",
      "Please use `tqdm.notebook.tqdm` instead of `tqdm.tqdm_notebook`\n",
      "  # Remove the CWD from sys.path while we load stuff.\n"
     ]
    },
    {
     "data": {
      "application/vnd.jupyter.widget-view+json": {
       "model_id": "482f995792fd48a79e02ddc91b0885c2",
       "version_major": 2,
       "version_minor": 0
      },
      "text/plain": [
       "HBox(children=(IntProgress(value=0, max=6079), HTML(value='')))"
      ]
     },
     "metadata": {},
     "output_type": "display_data"
    },
    {
     "name": "stdout",
     "output_type": "stream",
     "text": [
      "\n"
     ]
    },
    {
     "data": {
      "application/vnd.jupyter.widget-view+json": {
       "model_id": "fa0d697d17b04c78816bcbcc2c583dd3",
       "version_major": 2,
       "version_minor": 0
      },
      "text/plain": [
       "HBox(children=(IntProgress(value=0, max=6079), HTML(value='')))"
      ]
     },
     "metadata": {},
     "output_type": "display_data"
    },
    {
     "name": "stdout",
     "output_type": "stream",
     "text": [
      "\n"
     ]
    },
    {
     "data": {
      "application/vnd.jupyter.widget-view+json": {
       "model_id": "3846b118a73844eea374e2402dff248c",
       "version_major": 2,
       "version_minor": 0
      },
      "text/plain": [
       "HBox(children=(IntProgress(value=0, max=476), HTML(value='')))"
      ]
     },
     "metadata": {},
     "output_type": "display_data"
    },
    {
     "name": "stdout",
     "output_type": "stream",
     "text": [
      "\n"
     ]
    },
    {
     "data": {
      "application/vnd.jupyter.widget-view+json": {
       "model_id": "97656ee38e484c8793a333d935ada2a1",
       "version_major": 2,
       "version_minor": 0
      },
      "text/plain": [
       "HBox(children=(IntProgress(value=0, max=476), HTML(value='')))"
      ]
     },
     "metadata": {},
     "output_type": "display_data"
    },
    {
     "name": "stdout",
     "output_type": "stream",
     "text": [
      "\n",
      "CPU times: user 31.9 s, sys: 288 ms, total: 32.2 s\n",
      "Wall time: 32.4 s\n"
     ]
    }
   ],
   "source": [
    "%%time\n",
    "# tokenizer = DistilBertTokenizer.from_pretrained('distilbert-base-uncased')\n",
    "tokenizer = BertTokenizer.from_pretrained('bert-base-uncased')\n",
    "seg_ids_train, ids_train = {}, {}\n",
    "seg_ids_test, ids_test = {}, {}\n",
    "max_seq_len = 512\n",
    "for mode, df in [('train', train), ('test', test)]:\n",
    "    for text, cols in [('question', ['question_title', 'question_body']), \n",
    "                       ('answer', ['question_title', 'answer'])]:\n",
    "        ids, seg_ids = [], []\n",
    "        for x1, x2 in tqdm(df[cols].values):\n",
    "            encoded_inputs = tokenizer.encode_plus(\n",
    "                x1, x2, add_special_tokens=True, max_length=max_seq_len, pad_to_max_length=True, \n",
    "                return_token_type_ids=True\n",
    "            )\n",
    "            ids.append(encoded_inputs['input_ids'])\n",
    "            seg_ids.append(encoded_inputs['token_type_ids'])\n",
    "        if mode == 'train': \n",
    "            ids_train[text] = np.array(ids)\n",
    "            seg_ids_train[text] = np.array(seg_ids)\n",
    "        else: \n",
    "            ids_test[text] = np.array(ids)\n",
    "            seg_ids_test[text] = np.array(seg_ids)"
   ]
  },
  {
   "cell_type": "code",
   "execution_count": 4,
   "metadata": {
    "code_folding": []
   },
   "outputs": [],
   "source": [
    "train_host, test_host, host_dict, host_dict_reverse = get_categorical_features(train, test, 'host')\n",
    "train_category, test_category, category_dict, category_dict_reverse = \\\n",
    "    get_categorical_features(train, test, 'category')"
   ]
  },
  {
   "cell_type": "code",
   "execution_count": 5,
   "metadata": {},
   "outputs": [
    {
     "name": "stderr",
     "output_type": "stream",
     "text": [
      "/home/robin/anaconda3/envs/GoogleQuest/lib/python3.7/site-packages/sklearn/preprocessing/_encoders.py:415: FutureWarning: The handling of integer data will change in version 0.22. Currently, the categories are determined based on the range [0, max(values)], while in the future they will be determined based on the unique values.\n",
      "If you want the future behaviour and silence this warning, you can specify \"categories='auto'\".\n",
      "In case you used a LabelEncoder before this OneHotEncoder to convert the categories to integers, then you can now use the OneHotEncoder directly.\n",
      "  warnings.warn(msg, FutureWarning)\n"
     ]
    }
   ],
   "source": [
    "cat_features_train = np.hstack([train_host.reshape(-1, 1), train_category.reshape(-1, 1)])\n",
    "cat_features_test = np.hstack([test_host.reshape(-1, 1), test_category.reshape(-1, 1)])\n",
    "ohe = OneHotEncoder()\n",
    "ohe.fit(cat_features_train)\n",
    "cat_features_train = ohe.transform(cat_features_train).toarray()\n",
    "cat_features_test = ohe.transform(cat_features_test).toarray()"
   ]
  },
  {
   "cell_type": "code",
   "execution_count": 6,
   "metadata": {},
   "outputs": [],
   "source": [
    "for col in TARGETS:\n",
    "    train[col] = train[col].rank(method=\"average\")\n",
    "train[TARGETS] = MinMaxScaler().fit_transform(train[TARGETS])\n",
    "y = train[TARGETS].values.astype(np.float32)"
   ]
  },
  {
   "cell_type": "code",
   "execution_count": 7,
   "metadata": {},
   "outputs": [],
   "source": [
    "num_workers = 10\n",
    "bs = 2\n",
    "TextDataset = TextDataset5"
   ]
  },
  {
   "cell_type": "code",
   "execution_count": 8,
   "metadata": {},
   "outputs": [],
   "source": [
    "bs_test = 2\n",
    "test_loader = DataLoader(\n",
    "    TextDataset(cat_features_test, ids_test['question'], ids_test['answer'], \n",
    "                seg_ids_test['question'], seg_ids_test['answer'], test.index),\n",
    "    batch_size=bs_test, shuffle=False, num_workers=num_workers, drop_last=False\n",
    ")"
   ]
  },
  {
   "cell_type": "markdown",
   "metadata": {},
   "source": [
    "## Training model"
   ]
  },
  {
   "cell_type": "code",
   "execution_count": 9,
   "metadata": {},
   "outputs": [],
   "source": [
    "lr = 0.001\n",
    "loss_fn = nn.BCEWithLogitsLoss()\n",
    "device = 'cuda'\n",
    "n_epochs = 4\n",
    "grad_accum = 4\n",
    "weight_decay = 0.01\n",
    "model_name = 'siamese_bert_2'\n",
    "checkpoint_dir = 'checkpoints/'\n",
    "early_stopping = None\n",
    "n_folds = 10\n",
    "p_aug = 0.0"
   ]
  },
  {
   "cell_type": "code",
   "execution_count": 10,
   "metadata": {},
   "outputs": [],
   "source": [
    "def get_optimizer_param_groups(model, lr, weight_decay):\n",
    "    no_decay = ['bias', 'LayerNorm.weight']\n",
    "    optimizer_grouped_parameters = [\n",
    "        {'params': [p for n, p in model.named_parameters() if not any(nd in n for nd in no_decay)], \n",
    "         'weight_decay': weight_decay, 'lr': lr},\n",
    "        {'params': [p for n, p in model.named_parameters() if any(nd in n for nd in no_decay)], \n",
    "         'weight_decay': 0.0, 'lr': lr}\n",
    "    ]\n",
    "    return optimizer_grouped_parameters\n",
    "\n",
    "\n",
    "def get_optimizer(model, lr, weight_decay):\n",
    "    return transformers.AdamW(\n",
    "        get_optimizer_param_groups(model.head, lr, weight_decay)\n",
    "        + get_optimizer_param_groups(model.bert, lr / 100, weight_decay)\n",
    "    )"
   ]
  },
  {
   "cell_type": "code",
   "execution_count": 11,
   "metadata": {
    "scrolled": true
   },
   "outputs": [
    {
     "name": "stdout",
     "output_type": "stream",
     "text": [
      "Fold 1 started at Sun Jan 12 13:17:44 2020\n"
     ]
    },
    {
     "data": {
      "application/vnd.jupyter.widget-view+json": {
       "model_id": "8ccb6c37420a4a28983c70baa4a32ab9",
       "version_major": 2,
       "version_minor": 0
      },
      "text/plain": [
       "HBox(children=(IntProgress(value=0, max=400), HTML(value='')))"
      ]
     },
     "metadata": {},
     "output_type": "display_data"
    },
    {
     "name": "stderr",
     "output_type": "stream",
     "text": [
      "/home/robin/anaconda3/envs/GoogleQuest/lib/python3.7/site-packages/torch/optim/lr_scheduler.py:100: UserWarning: Detected call of `lr_scheduler.step()` before `optimizer.step()`. In PyTorch 1.1.0 and later, you should call them in the opposite order: `optimizer.step()` before `lr_scheduler.step()`.  Failure to do this will result in PyTorch skipping the first value of the learning rate schedule.See more details at https://pytorch.org/docs/stable/optim.html#how-to-adjust-learning-rate\n",
      "  \"https://pytorch.org/docs/stable/optim.html#how-to-adjust-learning-rate\", UserWarning)\n"
     ]
    },
    {
     "data": {
      "image/png": "[encoded data removed]",
      "text/plain": [
       "<Figure size 432x288 with 1 Axes>"
      ]
     },
     "metadata": {
      "needs_background": "light"
     },
     "output_type": "display_data"
    },
    {
     "name": "stdout",
     "output_type": "stream",
     "text": [
      "Starting inference for model: checkpoints/siamese_bert_2_fold_1_best.pth\n"
     ]
    },
    {
     "data": {
      "application/vnd.jupyter.widget-view+json": {
       "model_id": "445befac7af24c8da047492e0c542121",
       "version_major": 2,
       "version_minor": 0
      },
      "text/plain": [
       "HBox(children=(IntProgress(value=0, max=304), HTML(value='')))"
      ]
     },
     "metadata": {},
     "output_type": "display_data"
    },
    {
     "name": "stdout",
     "output_type": "stream",
     "text": [
      "\n",
      "Starting inference for model: checkpoints/siamese_bert_2_fold_1_best.pth\n"
     ]
    },
    {
     "data": {
      "application/vnd.jupyter.widget-view+json": {
       "model_id": "d83b5980141d4202a24db5cec17b2a93",
       "version_major": 2,
       "version_minor": 0
      },
      "text/plain": [
       "HBox(children=(IntProgress(value=0, max=238), HTML(value='')))"
      ]
     },
     "metadata": {},
     "output_type": "display_data"
    },
    {
     "name": "stdout",
     "output_type": "stream",
     "text": [
      "\n",
      "Fold 2 started at Sun Jan 12 13:19:28 2020\n",
      "Starting inference for model: checkpoints/siamese_bert_2_fold_2_best.pth\n"
     ]
    },
    {
     "data": {
      "application/vnd.jupyter.widget-view+json": {
       "model_id": "689e1fd701e1457c8f585d982a58267a",
       "version_major": 2,
       "version_minor": 0
      },
      "text/plain": [
       "HBox(children=(IntProgress(value=0, max=304), HTML(value='')))"
      ]
     },
     "metadata": {},
     "output_type": "display_data"
    },
    {
     "name": "stdout",
     "output_type": "stream",
     "text": [
      "\n",
      "Starting inference for model: checkpoints/siamese_bert_2_fold_2_best.pth\n"
     ]
    },
    {
     "data": {
      "application/vnd.jupyter.widget-view+json": {
       "model_id": "c609ece43d24424b924f8c11f8e76818",
       "version_major": 2,
       "version_minor": 0
      },
      "text/plain": [
       "HBox(children=(IntProgress(value=0, max=238), HTML(value='')))"
      ]
     },
     "metadata": {},
     "output_type": "display_data"
    },
    {
     "name": "stdout",
     "output_type": "stream",
     "text": [
      "\n",
      "Fold 3 started at Sun Jan 12 13:20:08 2020\n",
      "Starting inference for model: checkpoints/siamese_bert_2_fold_3_best.pth\n"
     ]
    },
    {
     "data": {
      "application/vnd.jupyter.widget-view+json": {
       "model_id": "5c9e56521890447ab212e30e775544de",
       "version_major": 2,
       "version_minor": 0
      },
      "text/plain": [
       "HBox(children=(IntProgress(value=0, max=304), HTML(value='')))"
      ]
     },
     "metadata": {},
     "output_type": "display_data"
    },
    {
     "name": "stdout",
     "output_type": "stream",
     "text": [
      "\n",
      "Starting inference for model: checkpoints/siamese_bert_2_fold_3_best.pth\n"
     ]
    },
    {
     "data": {
      "application/vnd.jupyter.widget-view+json": {
       "model_id": "34988615c9914ab59586a3cb49be32fd",
       "version_major": 2,
       "version_minor": 0
      },
      "text/plain": [
       "HBox(children=(IntProgress(value=0, max=238), HTML(value='')))"
      ]
     },
     "metadata": {},
     "output_type": "display_data"
    },
    {
     "name": "stdout",
     "output_type": "stream",
     "text": [
      "\n",
      "Fold 4 started at Sun Jan 12 13:20:49 2020\n",
      "Starting inference for model: checkpoints/siamese_bert_2_fold_4_best.pth\n"
     ]
    },
    {
     "data": {
      "application/vnd.jupyter.widget-view+json": {
       "model_id": "6cbef8a43e1642dfa2109d8c8cb1e8ac",
       "version_major": 2,
       "version_minor": 0
      },
      "text/plain": [
       "HBox(children=(IntProgress(value=0, max=304), HTML(value='')))"
      ]
     },
     "metadata": {},
     "output_type": "display_data"
    },
    {
     "name": "stdout",
     "output_type": "stream",
     "text": [
      "\n",
      "Starting inference for model: checkpoints/siamese_bert_2_fold_4_best.pth\n"
     ]
    },
    {
     "data": {
      "application/vnd.jupyter.widget-view+json": {
       "model_id": "2e608fa83b5943d6b85352508452ee3a",
       "version_major": 2,
       "version_minor": 0
      },
      "text/plain": [
       "HBox(children=(IntProgress(value=0, max=238), HTML(value='')))"
      ]
     },
     "metadata": {},
     "output_type": "display_data"
    },
    {
     "name": "stdout",
     "output_type": "stream",
     "text": [
      "\n",
      "Fold 5 started at Sun Jan 12 13:21:29 2020\n",
      "Starting inference for model: checkpoints/siamese_bert_2_fold_5_best.pth\n"
     ]
    },
    {
     "data": {
      "application/vnd.jupyter.widget-view+json": {
       "model_id": "a49a515fc3844637b9d540c35350d9f0",
       "version_major": 2,
       "version_minor": 0
      },
      "text/plain": [
       "HBox(children=(IntProgress(value=0, max=304), HTML(value='')))"
      ]
     },
     "metadata": {},
     "output_type": "display_data"
    },
    {
     "name": "stdout",
     "output_type": "stream",
     "text": [
      "\n",
      "Starting inference for model: checkpoints/siamese_bert_2_fold_5_best.pth\n"
     ]
    },
    {
     "data": {
      "application/vnd.jupyter.widget-view+json": {
       "model_id": "ff45b38afa5d44d699fc7f966e0c4fe3",
       "version_major": 2,
       "version_minor": 0
      },
      "text/plain": [
       "HBox(children=(IntProgress(value=0, max=238), HTML(value='')))"
      ]
     },
     "metadata": {},
     "output_type": "display_data"
    },
    {
     "name": "stdout",
     "output_type": "stream",
     "text": [
      "\n",
      "Fold 6 started at Sun Jan 12 13:22:10 2020\n",
      "Starting inference for model: checkpoints/siamese_bert_2_fold_6_best.pth\n"
     ]
    },
    {
     "data": {
      "application/vnd.jupyter.widget-view+json": {
       "model_id": "4a64ab9d44da4d68ae41a7ec52aba294",
       "version_major": 2,
       "version_minor": 0
      },
      "text/plain": [
       "HBox(children=(IntProgress(value=0, max=304), HTML(value='')))"
      ]
     },
     "metadata": {},
     "output_type": "display_data"
    },
    {
     "name": "stdout",
     "output_type": "stream",
     "text": [
      "\n",
      "Starting inference for model: checkpoints/siamese_bert_2_fold_6_best.pth\n"
     ]
    },
    {
     "data": {
      "application/vnd.jupyter.widget-view+json": {
       "model_id": "b9c712b637044e4b975a42d7438074ed",
       "version_major": 2,
       "version_minor": 0
      },
      "text/plain": [
       "HBox(children=(IntProgress(value=0, max=238), HTML(value='')))"
      ]
     },
     "metadata": {},
     "output_type": "display_data"
    },
    {
     "name": "stdout",
     "output_type": "stream",
     "text": [
      "\n",
      "Fold 7 started at Sun Jan 12 13:22:50 2020\n",
      "Starting inference for model: checkpoints/siamese_bert_2_fold_7_best.pth\n"
     ]
    },
    {
     "data": {
      "application/vnd.jupyter.widget-view+json": {
       "model_id": "486a9594a11647429ac14db039ae9b4c",
       "version_major": 2,
       "version_minor": 0
      },
      "text/plain": [
       "HBox(children=(IntProgress(value=0, max=304), HTML(value='')))"
      ]
     },
     "metadata": {},
     "output_type": "display_data"
    },
    {
     "name": "stdout",
     "output_type": "stream",
     "text": [
      "\n",
      "Starting inference for model: checkpoints/siamese_bert_2_fold_7_best.pth\n"
     ]
    },
    {
     "data": {
      "application/vnd.jupyter.widget-view+json": {
       "model_id": "3b1a23fcbd474485a9bd9ec43b1d1117",
       "version_major": 2,
       "version_minor": 0
      },
      "text/plain": [
       "HBox(children=(IntProgress(value=0, max=238), HTML(value='')))"
      ]
     },
     "metadata": {},
     "output_type": "display_data"
    },
    {
     "name": "stdout",
     "output_type": "stream",
     "text": [
      "\n",
      "Fold 8 started at Sun Jan 12 13:23:31 2020\n",
      "Starting inference for model: checkpoints/siamese_bert_2_fold_8_best.pth\n"
     ]
    },
    {
     "data": {
      "application/vnd.jupyter.widget-view+json": {
       "model_id": "d8cf9e8cb61748429d4aa6d6cf8aeef3",
       "version_major": 2,
       "version_minor": 0
      },
      "text/plain": [
       "HBox(children=(IntProgress(value=0, max=304), HTML(value='')))"
      ]
     },
     "metadata": {},
     "output_type": "display_data"
    },
    {
     "name": "stdout",
     "output_type": "stream",
     "text": [
      "\n",
      "Starting inference for model: checkpoints/siamese_bert_2_fold_8_best.pth\n"
     ]
    },
    {
     "data": {
      "application/vnd.jupyter.widget-view+json": {
       "model_id": "0d460fbe97414b619c79cbe0ff6f52bb",
       "version_major": 2,
       "version_minor": 0
      },
      "text/plain": [
       "HBox(children=(IntProgress(value=0, max=238), HTML(value='')))"
      ]
     },
     "metadata": {},
     "output_type": "display_data"
    },
    {
     "name": "stdout",
     "output_type": "stream",
     "text": [
      "\n",
      "Fold 9 started at Sun Jan 12 13:24:12 2020\n",
      "Starting inference for model: checkpoints/siamese_bert_2_fold_9_best.pth\n"
     ]
    },
    {
     "data": {
      "application/vnd.jupyter.widget-view+json": {
       "model_id": "78ce00d5c3534026b465d80e33e82746",
       "version_major": 2,
       "version_minor": 0
      },
      "text/plain": [
       "HBox(children=(IntProgress(value=0, max=304), HTML(value='')))"
      ]
     },
     "metadata": {},
     "output_type": "display_data"
    },
    {
     "name": "stdout",
     "output_type": "stream",
     "text": [
      "\n",
      "Starting inference for model: checkpoints/siamese_bert_2_fold_9_best.pth\n"
     ]
    },
    {
     "data": {
      "application/vnd.jupyter.widget-view+json": {
       "model_id": "97c296c4dc67426d971de06a0d2d4fb5",
       "version_major": 2,
       "version_minor": 0
      },
      "text/plain": [
       "HBox(children=(IntProgress(value=0, max=238), HTML(value='')))"
      ]
     },
     "metadata": {},
     "output_type": "display_data"
    },
    {
     "name": "stdout",
     "output_type": "stream",
     "text": [
      "\n",
      "Fold 10 started at Sun Jan 12 13:24:54 2020\n",
      "Starting inference for model: checkpoints/siamese_bert_2_fold_10_best.pth\n"
     ]
    },
    {
     "data": {
      "application/vnd.jupyter.widget-view+json": {
       "model_id": "7f2243c0125a4ae5b3098faf0e5161bf",
       "version_major": 2,
       "version_minor": 0
      },
      "text/plain": [
       "HBox(children=(IntProgress(value=0, max=304), HTML(value='')))"
      ]
     },
     "metadata": {},
     "output_type": "display_data"
    },
    {
     "name": "stdout",
     "output_type": "stream",
     "text": [
      "\n",
      "Starting inference for model: checkpoints/siamese_bert_2_fold_10_best.pth\n"
     ]
    },
    {
     "data": {
      "application/vnd.jupyter.widget-view+json": {
       "model_id": "94cc6727b0654ac38a6569e6efa66e60",
       "version_major": 2,
       "version_minor": 0
      },
      "text/plain": [
       "HBox(children=(IntProgress(value=0, max=238), HTML(value='')))"
      ]
     },
     "metadata": {},
     "output_type": "display_data"
    },
    {
     "name": "stdout",
     "output_type": "stream",
     "text": [
      "\n",
      "OOF score: 0.4072779272181386\n"
     ]
    }
   ],
   "source": [
    "init_seed()\n",
    "folds = GroupKFold(n_splits=n_folds).split(X=train['question_body'], groups=train['question_body'])\n",
    "oofs = np.zeros((len(train), N_TARGETS))\n",
    "preds = np.zeros((len(test), N_TARGETS))\n",
    "\n",
    "for fold_id, (train_index, valid_index) in enumerate(folds):\n",
    "    print(f'Fold {fold_id + 1} started at {time.ctime()}')\n",
    "    train_loader = DataLoader(\n",
    "        TextDataset(cat_features_train, ids_train['question'], ids_train['answer'],\n",
    "                    seg_ids_train['question'], seg_ids_train['answer'], train_index, targets=y), \n",
    "        batch_size=bs, shuffle=True, num_workers=num_workers, drop_last=False\n",
    "    )\n",
    "    valid_loader = DataLoader(\n",
    "        TextDataset(cat_features_train, ids_train['question'], ids_train['answer'],\n",
    "                    seg_ids_train['question'], seg_ids_train['answer'], valid_index, targets=y), \n",
    "        batch_size=bs, shuffle=False, num_workers=num_workers, drop_last=False\n",
    "    )\n",
    "    model = CustomBert3(256, cat_features_train.shape[1])\n",
    "    \n",
    "    if fold_id == 0:\n",
    "        # print(model)\n",
    "        model = model.to(device)\n",
    "        optimizer = get_optimizer(model, lr, weight_decay)\n",
    "        lr_finder = LRFinder(n_iter=min(grad_accum*100, len(train_loader)), start_lr=1e-5, \n",
    "                             end_lr=1, device=device, grad_accum=grad_accum, divergence_factor=5)\n",
    "        lr_finder.find_lr(model, optimizer, train_loader, loss_fn)\n",
    "        plt.show()\n",
    "    \n",
    "    optimizer = get_optimizer(model, lr, weight_decay)\n",
    "    scheduler = OneCycleLR(optimizer, n_epochs=n_epochs, n_batches=len(train_loader))\n",
    "\n",
    "    learner = Learner(\n",
    "        model, \n",
    "        optimizer, \n",
    "        train_loader, \n",
    "        valid_loader, \n",
    "        loss_fn, \n",
    "        device, \n",
    "        n_epochs, \n",
    "        f'{model_name}_fold_{fold_id + 1}', \n",
    "        checkpoint_dir, \n",
    "        scheduler=scheduler, \n",
    "        metric_fns={'spearmanr': (spearmanr_torch, 'epoch_end')}, \n",
    "        monitor_metric='spearmanr',\n",
    "        minimize_score=False, \n",
    "        logger=None,\n",
    "        grad_accum=grad_accum,\n",
    "        early_stopping=early_stopping, \n",
    "        batch_step_scheduler=True\n",
    "    )\n",
    "    #if (fold_id + 1) > 0: learner.train()\n",
    "    \n",
    "    oofs[valid_index] = infer(learner.model, valid_loader, learner.best_checkpoint_file, device)\n",
    "    \n",
    "    test_preds = infer(learner.model, test_loader, learner.best_checkpoint_file, device)\n",
    "    preds += test_preds / n_folds\n",
    "    \n",
    "    del learner, model, train_loader, valid_loader\n",
    "    gc.collect()\n",
    "    \n",
    "print(f'OOF score: {spearmanr_np(oofs, y)}')\n",
    "#KFold 5: distilbert: 0.4160\n",
    "#GKFold 5: distilbert: ~0.4005, ~0.4130, distilbert eda: ~0.4000, ~0.4200 (unsure), bert siamese: 0.4040, 0.4188\n",
    "    # smoothing y dist -> ~0.005 CV improve\n",
    "#GKFold 10: distilbert: 0.4012, ~0.4195, bert siamese(smoothing): 0.4059, 0.4206, 0.4275, 0.4449\n",
    "    #bert siamese(smoothing) with token_type_ids: 0.4091. 0.4236. 0.4317, 0.4507\n",
    "#MLFold 5: bert siamese: 0.4118, 0.4355, 04373"
   ]
  },
  {
   "cell_type": "code",
   "execution_count": 12,
   "metadata": {},
   "outputs": [
    {
     "name": "stdout",
     "output_type": "stream",
     "text": [
      "['question_conversational' 'question_has_commonly_accepted_answer'\n",
      " 'question_type_compare' 'question_type_consequence'\n",
      " 'question_type_definition' 'question_type_entity']\n"
     ]
    }
   ],
   "source": [
    "def my_round(x, num, dec=2):\n",
    "    return np.round(x / num, dec) * num\n",
    "\n",
    "def round_preds(preds, thres=0.0, low_dec=1, low_num=1, high_dec=2, high_num=3):\n",
    "    low_idx = preds < thres\n",
    "    new_preds = np.zeros_like(preds)\n",
    "    new_preds[low_idx] = my_round(preds[low_idx], low_num, low_dec)\n",
    "    new_preds[~low_idx] = my_round(preds[~low_idx], high_num, high_dec)\n",
    "    return new_preds\n",
    "\n",
    "def scale(x, d):\n",
    "    if d: return (x//(1/d))/d\n",
    "    else: return x\n",
    "\n",
    "indices = [2, 5, 12, 13, 14, 15]\n",
    "ds = [10, 5, 5, 20, 5, 5]\n",
    "discrete_cols = np.array(TARGETS)[indices]\n",
    "print(discrete_cols)\n",
    "\n",
    "def ahmet_round(preds, ds=ds, indices=indices):\n",
    "    new_preds = preds.copy()\n",
    "    for idx, d in zip(indices, ds):\n",
    "        new_preds[:,idx] = scale(preds[:,idx], d)\n",
    "    return new_preds"
   ]
  },
  {
   "cell_type": "code",
   "execution_count": 13,
   "metadata": {
    "scrolled": true
   },
   "outputs": [
    {
     "name": "stdout",
     "output_type": "stream",
     "text": [
      "0 5 0.35748461649154545\n",
      "0 10 0.380668036349349\n",
      "0 15 0.3810901339401092\n",
      "0 33 0.38231519560352667\n",
      "1 5 0.6434340711280797\n",
      "1 10 0.654464315064117\n",
      "1 15 0.6568358143569775\n",
      "1 20 0.6576479586316334\n",
      "1 33 0.6592887913107177\n",
      "1 None 0.6593130237388888\n",
      "2 5 0.48254867977986193\n",
      "3 5 0.27560795385076076\n",
      "3 10 0.2943231217792544\n",
      "3 15 0.29582007736158544\n",
      "3 20 0.3004969114309008\n",
      "4 5 0.35538018010414185\n",
      "5 5 0.4329031007174081\n",
      "6 5 0.3129247495971262\n",
      "6 10 0.34198308395031285\n",
      "6 15 0.34805238794033483\n",
      "6 20 0.34880592830164575\n",
      "6 33 0.34963270240566263\n",
      "6 None 0.35123827921482936\n",
      "7 5 0.5040311301734963\n",
      "7 10 0.5043101540286224\n",
      "7 15 0.5058429654400719\n",
      "8 5 0.5726266087649661\n",
      "8 10 0.5760955518350709\n",
      "8 15 0.5800264897828459\n",
      "9 10 0.08969605281958963\n",
      "9 15 0.10871047037617018\n",
      "9 20 0.12994739942549677\n",
      "10 5 0.4469473307046903\n",
      "10 10 0.4585223315763625\n",
      "10 15 0.4621709515898523\n",
      "10 None 0.46237580873269896\n",
      "11 5 0.747756793443779\n",
      "11 10 0.7513463418364396\n",
      "12 5 0.5113126861379328\n",
      "13 5 0.19857116969599642\n",
      "13 10 0.2708429330185385\n",
      "14 5 0.6137796617447343\n",
      "14 10 0.6168527702172054\n",
      "15 5 0.5582359166585543\n",
      "16 5 0.7714237430610166\n",
      "16 10 0.7785878252841807\n",
      "16 15 0.7785948145677941\n",
      "17 5 0.336139414748002\n",
      "17 10 0.3513524086035765\n",
      "17 15 0.3523915986939824\n",
      "17 20 0.35243318254015027\n",
      "17 33 0.3560723129247127\n",
      "18 5 0.6528556770522334\n",
      "18 10 0.660293290799129\n",
      "18 15 0.6620459216683294\n",
      "18 20 0.6630115375923366\n",
      "18 33 0.6631045542785192\n",
      "18 None 0.6632769071097786\n",
      "19 10 0.4037424276675148\n",
      "19 15 0.45349655146210227\n",
      "19 20 0.5266936914741638\n",
      "20 5 0.5040311490115915\n",
      "20 10 0.5164091677768523\n",
      "20 15 0.5210440061424175\n",
      "20 33 0.5212107567077697\n",
      "20 None 0.521696575506597\n",
      "21 5 0.21373612578855553\n",
      "21 10 0.22121864313645534\n",
      "21 15 0.2256029084917787\n",
      "21 33 0.2291931257913517\n",
      "21 None 0.22989419109076978\n",
      "22 5 0.4105054724839435\n",
      "22 10 0.42680007706395995\n",
      "22 15 0.43333354355720854\n",
      "22 20 0.4358182101432016\n",
      "22 33 0.4382673531420588\n",
      "22 None 0.439034306385461\n",
      "23 5 0.10053058183024817\n",
      "23 10 0.11615787674096942\n",
      "23 15 0.13179994369530246\n",
      "23 33 0.13223965710620936\n",
      "23 None 0.13516267904258097\n",
      "24 5 0.14975542057018315\n",
      "24 10 0.15655140417869826\n",
      "24 15 0.16338165533529933\n",
      "24 33 0.16601948613973602\n",
      "25 5 0.3123037313056908\n",
      "25 10 0.32638032104967746\n",
      "25 15 0.3310247571368909\n",
      "25 33 0.3346613898079792\n",
      "26 5 0.7497148999216858\n",
      "26 10 0.7552581136815216\n",
      "26 15 0.7561299542837501\n",
      "26 20 0.756428458744961\n",
      "27 5 0.28453179781723675\n",
      "27 10 0.299242205886587\n",
      "27 15 0.30206571450867226\n",
      "27 20 0.3072360992158129\n",
      "27 None 0.3076877270867303\n",
      "28 5 0.6569487018045168\n",
      "28 10 0.6667763937561847\n",
      "28 15 0.6698844101321262\n",
      "28 20 0.6700202162141038\n",
      "28 33 0.6707563762737426\n",
      "28 None 0.6714154697460958\n",
      "29 5 0.20092854317237552\n",
      "29 10 0.21783739707624877\n",
      "29 15 0.21908562705361348\n",
      "29 20 0.22406967269353964\n",
      "29 33 0.2246682281341638\n",
      "29 None 0.22504972008861576\n"
     ]
    }
   ],
   "source": [
    "from scipy.stats import spearmanr\n",
    "opt_ds = []\n",
    "opt_indices = []\n",
    "for idx in range(N_TARGETS):\n",
    "    opt_score = 0\n",
    "    opt_d = None\n",
    "    for d in [5, 10, 15, 20, 33, None]:\n",
    "        score = spearmanr(scale(oofs[:,idx], d), y[:,idx])[0]\n",
    "        if score > opt_score:\n",
    "            opt_score = score\n",
    "            opt_d = d\n",
    "            print(idx, d, score)\n",
    "    if opt_d:\n",
    "        opt_ds.append(opt_d)\n",
    "        opt_indices.append(idx)"
   ]
  },
  {
   "cell_type": "code",
   "execution_count": 14,
   "metadata": {},
   "outputs": [
    {
     "data": {
      "text/plain": [
       "([33, 5, 20, 5, 5, 15, 15, 20, 10, 5, 10, 10, 5, 15, 33, 20, 33, 33, 20],\n",
       " [0, 2, 3, 4, 5, 7, 8, 9, 11, 12, 13, 14, 15, 16, 17, 19, 24, 25, 26])"
      ]
     },
     "execution_count": 14,
     "metadata": {},
     "output_type": "execute_result"
    }
   ],
   "source": [
    "opt_ds, opt_indices"
   ]
  },
  {
   "cell_type": "code",
   "execution_count": 15,
   "metadata": {},
   "outputs": [
    {
     "data": {
      "text/plain": [
       "0.44875554705184395"
      ]
     },
     "execution_count": 15,
     "metadata": {},
     "output_type": "execute_result"
    }
   ],
   "source": [
    "spearmanr_np(ahmet_round(oofs, opt_ds, opt_indices), y)"
   ]
  },
  {
   "cell_type": "code",
   "execution_count": 16,
   "metadata": {
    "scrolled": false
   },
   "outputs": [
    {
     "data": {
      "text/plain": [
       "0.44875554705184395"
      ]
     },
     "execution_count": 16,
     "metadata": {},
     "output_type": "execute_result"
    }
   ],
   "source": [
    "oofs_alt = oofs.copy()\n",
    "train[\"eng\"] = train[\"url\"].apply(lambda x: x.startswith(\"http://english.\") or x.startswith(\"http://ell.\"))\n",
    "oofs_alt[np.where((~train[\"eng\"]).values)[0], 19] = 0\n",
    "spearmanr_np(ahmet_round(oofs_alt, opt_ds, opt_indices), y)"
   ]
  },
  {
   "cell_type": "code",
   "execution_count": 17,
   "metadata": {
    "scrolled": false
   },
   "outputs": [
    {
     "data": {
      "text/plain": [
       "0.4072779272181386"
      ]
     },
     "execution_count": 17,
     "metadata": {},
     "output_type": "execute_result"
    }
   ],
   "source": [
    "spearmanr_np(oofs, y)"
   ]
  },
  {
   "cell_type": "code",
   "execution_count": 18,
   "metadata": {
    "scrolled": false
   },
   "outputs": [
    {
     "data": {
      "text/plain": [
       "0.42236241442872585"
      ]
     },
     "execution_count": 18,
     "metadata": {},
     "output_type": "execute_result"
    }
   ],
   "source": [
    "spearmanr_np(round_preds(oofs, high_num=3), y)"
   ]
  },
  {
   "cell_type": "code",
   "execution_count": 19,
   "metadata": {},
   "outputs": [
    {
     "data": {
      "text/plain": [
       "0.4300843543932324"
      ]
     },
     "execution_count": 19,
     "metadata": {},
     "output_type": "execute_result"
    }
   ],
   "source": [
    "spearmanr_np(ahmet_round(oofs), y)"
   ]
  },
  {
   "cell_type": "code",
   "execution_count": 20,
   "metadata": {},
   "outputs": [],
   "source": [
    "# clipping is necessary or we will get an error\n",
    "sample_submission.loc[:, 'question_asker_intent_understanding':] = np.clip(preds, 0.00001, 0.999999)\n",
    "sample_submission.to_csv('subs/submission.csv', index=False)"
   ]
  },
  {
   "cell_type": "code",
   "execution_count": 21,
   "metadata": {
    "scrolled": false
   },
   "outputs": [
    {
     "data": {
      "text/html": [
       "<div>\n",
       "<style scoped>\n",
       "    .dataframe tbody tr th:only-of-type {\n",
       "        vertical-align: middle;\n",
       "    }\n",
       "\n",
       "    .dataframe tbody tr th {\n",
       "        vertical-align: top;\n",
       "    }\n",
       "\n",
       "    .dataframe thead th {\n",
       "        text-align: right;\n",
       "    }\n",
       "</style>\n",
       "<table border=\"1\" class=\"dataframe\">\n",
       "  <thead>\n",
       "    <tr style=\"text-align: right;\">\n",
       "      <th></th>\n",
       "      <th>qa_id</th>\n",
       "      <th>question_asker_intent_understanding</th>\n",
       "      <th>question_body_critical</th>\n",
       "      <th>question_conversational</th>\n",
       "      <th>question_expect_short_answer</th>\n",
       "      <th>question_fact_seeking</th>\n",
       "      <th>question_has_commonly_accepted_answer</th>\n",
       "      <th>question_interestingness_others</th>\n",
       "      <th>question_interestingness_self</th>\n",
       "      <th>question_multi_intent</th>\n",
       "      <th>question_not_really_a_question</th>\n",
       "      <th>question_opinion_seeking</th>\n",
       "      <th>question_type_choice</th>\n",
       "      <th>question_type_compare</th>\n",
       "      <th>question_type_consequence</th>\n",
       "      <th>question_type_definition</th>\n",
       "      <th>question_type_entity</th>\n",
       "      <th>question_type_instructions</th>\n",
       "      <th>question_type_procedure</th>\n",
       "      <th>question_type_reason_explanation</th>\n",
       "      <th>question_type_spelling</th>\n",
       "      <th>question_well_written</th>\n",
       "      <th>answer_helpful</th>\n",
       "      <th>answer_level_of_information</th>\n",
       "      <th>answer_plausible</th>\n",
       "      <th>answer_relevance</th>\n",
       "      <th>answer_satisfaction</th>\n",
       "      <th>answer_type_instructions</th>\n",
       "      <th>answer_type_procedure</th>\n",
       "      <th>answer_type_reason_explanation</th>\n",
       "      <th>answer_well_written</th>\n",
       "    </tr>\n",
       "  </thead>\n",
       "  <tbody>\n",
       "    <tr>\n",
       "      <th>0</th>\n",
       "      <td>39</td>\n",
       "      <td>0.853018</td>\n",
       "      <td>0.617180</td>\n",
       "      <td>0.382198</td>\n",
       "      <td>0.370596</td>\n",
       "      <td>0.518384</td>\n",
       "      <td>0.359814</td>\n",
       "      <td>0.722360</td>\n",
       "      <td>0.746878</td>\n",
       "      <td>0.726018</td>\n",
       "      <td>0.003642</td>\n",
       "      <td>0.735705</td>\n",
       "      <td>0.777806</td>\n",
       "      <td>0.018418</td>\n",
       "      <td>0.490569</td>\n",
       "      <td>0.004061</td>\n",
       "      <td>0.014299</td>\n",
       "      <td>0.074986</td>\n",
       "      <td>0.161376</td>\n",
       "      <td>0.766533</td>\n",
       "      <td>0.000421</td>\n",
       "      <td>0.857084</td>\n",
       "      <td>0.596165</td>\n",
       "      <td>0.206815</td>\n",
       "      <td>0.779299</td>\n",
       "      <td>0.738042</td>\n",
       "      <td>0.323386</td>\n",
       "      <td>0.018850</td>\n",
       "      <td>0.035214</td>\n",
       "      <td>0.815299</td>\n",
       "      <td>0.651187</td>\n",
       "    </tr>\n",
       "    <tr>\n",
       "      <th>1</th>\n",
       "      <td>46</td>\n",
       "      <td>0.463809</td>\n",
       "      <td>0.303101</td>\n",
       "      <td>0.013858</td>\n",
       "      <td>0.677689</td>\n",
       "      <td>0.615474</td>\n",
       "      <td>0.840056</td>\n",
       "      <td>0.428377</td>\n",
       "      <td>0.377351</td>\n",
       "      <td>0.047001</td>\n",
       "      <td>0.019989</td>\n",
       "      <td>0.491317</td>\n",
       "      <td>0.212637</td>\n",
       "      <td>0.005332</td>\n",
       "      <td>0.000667</td>\n",
       "      <td>0.000849</td>\n",
       "      <td>0.016720</td>\n",
       "      <td>0.876086</td>\n",
       "      <td>0.313873</td>\n",
       "      <td>0.080907</td>\n",
       "      <td>0.000187</td>\n",
       "      <td>0.255557</td>\n",
       "      <td>0.750522</td>\n",
       "      <td>0.486603</td>\n",
       "      <td>0.847640</td>\n",
       "      <td>0.917800</td>\n",
       "      <td>0.571543</td>\n",
       "      <td>0.936475</td>\n",
       "      <td>0.196137</td>\n",
       "      <td>0.044569</td>\n",
       "      <td>0.611213</td>\n",
       "    </tr>\n",
       "    <tr>\n",
       "      <th>2</th>\n",
       "      <td>70</td>\n",
       "      <td>0.706061</td>\n",
       "      <td>0.543938</td>\n",
       "      <td>0.036346</td>\n",
       "      <td>0.608770</td>\n",
       "      <td>0.796940</td>\n",
       "      <td>0.900900</td>\n",
       "      <td>0.516476</td>\n",
       "      <td>0.442521</td>\n",
       "      <td>0.316346</td>\n",
       "      <td>0.003214</td>\n",
       "      <td>0.312920</td>\n",
       "      <td>0.700119</td>\n",
       "      <td>0.012928</td>\n",
       "      <td>0.061982</td>\n",
       "      <td>0.000896</td>\n",
       "      <td>0.004554</td>\n",
       "      <td>0.137062</td>\n",
       "      <td>0.127528</td>\n",
       "      <td>0.778509</td>\n",
       "      <td>0.000223</td>\n",
       "      <td>0.667331</td>\n",
       "      <td>0.678771</td>\n",
       "      <td>0.304314</td>\n",
       "      <td>0.859471</td>\n",
       "      <td>0.851207</td>\n",
       "      <td>0.466306</td>\n",
       "      <td>0.046356</td>\n",
       "      <td>0.053576</td>\n",
       "      <td>0.867011</td>\n",
       "      <td>0.590839</td>\n",
       "    </tr>\n",
       "    <tr>\n",
       "      <th>3</th>\n",
       "      <td>132</td>\n",
       "      <td>0.559168</td>\n",
       "      <td>0.167995</td>\n",
       "      <td>0.006551</td>\n",
       "      <td>0.597354</td>\n",
       "      <td>0.632365</td>\n",
       "      <td>0.860149</td>\n",
       "      <td>0.389012</td>\n",
       "      <td>0.245148</td>\n",
       "      <td>0.194528</td>\n",
       "      <td>0.010134</td>\n",
       "      <td>0.593951</td>\n",
       "      <td>0.162895</td>\n",
       "      <td>0.002065</td>\n",
       "      <td>0.004112</td>\n",
       "      <td>0.000390</td>\n",
       "      <td>0.002938</td>\n",
       "      <td>0.801885</td>\n",
       "      <td>0.312630</td>\n",
       "      <td>0.634054</td>\n",
       "      <td>0.000073</td>\n",
       "      <td>0.439252</td>\n",
       "      <td>0.804373</td>\n",
       "      <td>0.596403</td>\n",
       "      <td>0.869517</td>\n",
       "      <td>0.918579</td>\n",
       "      <td>0.649474</td>\n",
       "      <td>0.848649</td>\n",
       "      <td>0.335751</td>\n",
       "      <td>0.638258</td>\n",
       "      <td>0.683632</td>\n",
       "    </tr>\n",
       "    <tr>\n",
       "      <th>4</th>\n",
       "      <td>200</td>\n",
       "      <td>0.789290</td>\n",
       "      <td>0.317324</td>\n",
       "      <td>0.046013</td>\n",
       "      <td>0.799990</td>\n",
       "      <td>0.734556</td>\n",
       "      <td>0.882231</td>\n",
       "      <td>0.688761</td>\n",
       "      <td>0.701370</td>\n",
       "      <td>0.181001</td>\n",
       "      <td>0.028828</td>\n",
       "      <td>0.318962</td>\n",
       "      <td>0.514542</td>\n",
       "      <td>0.006206</td>\n",
       "      <td>0.023455</td>\n",
       "      <td>0.007856</td>\n",
       "      <td>0.067014</td>\n",
       "      <td>0.185505</td>\n",
       "      <td>0.161823</td>\n",
       "      <td>0.557902</td>\n",
       "      <td>0.002686</td>\n",
       "      <td>0.386504</td>\n",
       "      <td>0.749067</td>\n",
       "      <td>0.553056</td>\n",
       "      <td>0.885397</td>\n",
       "      <td>0.882999</td>\n",
       "      <td>0.635982</td>\n",
       "      <td>0.219512</td>\n",
       "      <td>0.194548</td>\n",
       "      <td>0.709846</td>\n",
       "      <td>0.590568</td>\n",
       "    </tr>\n",
       "  </tbody>\n",
       "</table>\n",
       "</div>"
      ],
      "text/plain": [
       "   qa_id  question_asker_intent_understanding  question_body_critical  \\\n",
       "0     39                             0.853018                0.617180   \n",
       "1     46                             0.463809                0.303101   \n",
       "2     70                             0.706061                0.543938   \n",
       "3    132                             0.559168                0.167995   \n",
       "4    200                             0.789290                0.317324   \n",
       "\n",
       "   question_conversational  question_expect_short_answer  \\\n",
       "0                 0.382198                      0.370596   \n",
       "1                 0.013858                      0.677689   \n",
       "2                 0.036346                      0.608770   \n",
       "3                 0.006551                      0.597354   \n",
       "4                 0.046013                      0.799990   \n",
       "\n",
       "   question_fact_seeking  question_has_commonly_accepted_answer  \\\n",
       "0               0.518384                               0.359814   \n",
       "1               0.615474                               0.840056   \n",
       "2               0.796940                               0.900900   \n",
       "3               0.632365                               0.860149   \n",
       "4               0.734556                               0.882231   \n",
       "\n",
       "   question_interestingness_others  question_interestingness_self  \\\n",
       "0                         0.722360                       0.746878   \n",
       "1                         0.428377                       0.377351   \n",
       "2                         0.516476                       0.442521   \n",
       "3                         0.389012                       0.245148   \n",
       "4                         0.688761                       0.701370   \n",
       "\n",
       "   question_multi_intent  question_not_really_a_question  \\\n",
       "0               0.726018                        0.003642   \n",
       "1               0.047001                        0.019989   \n",
       "2               0.316346                        0.003214   \n",
       "3               0.194528                        0.010134   \n",
       "4               0.181001                        0.028828   \n",
       "\n",
       "   question_opinion_seeking  question_type_choice  question_type_compare  \\\n",
       "0                  0.735705              0.777806               0.018418   \n",
       "1                  0.491317              0.212637               0.005332   \n",
       "2                  0.312920              0.700119               0.012928   \n",
       "3                  0.593951              0.162895               0.002065   \n",
       "4                  0.318962              0.514542               0.006206   \n",
       "\n",
       "   question_type_consequence  question_type_definition  question_type_entity  \\\n",
       "0                   0.490569                  0.004061              0.014299   \n",
       "1                   0.000667                  0.000849              0.016720   \n",
       "2                   0.061982                  0.000896              0.004554   \n",
       "3                   0.004112                  0.000390              0.002938   \n",
       "4                   0.023455                  0.007856              0.067014   \n",
       "\n",
       "   question_type_instructions  question_type_procedure  \\\n",
       "0                    0.074986                 0.161376   \n",
       "1                    0.876086                 0.313873   \n",
       "2                    0.137062                 0.127528   \n",
       "3                    0.801885                 0.312630   \n",
       "4                    0.185505                 0.161823   \n",
       "\n",
       "   question_type_reason_explanation  question_type_spelling  \\\n",
       "0                          0.766533                0.000421   \n",
       "1                          0.080907                0.000187   \n",
       "2                          0.778509                0.000223   \n",
       "3                          0.634054                0.000073   \n",
       "4                          0.557902                0.002686   \n",
       "\n",
       "   question_well_written  answer_helpful  answer_level_of_information  \\\n",
       "0               0.857084        0.596165                     0.206815   \n",
       "1               0.255557        0.750522                     0.486603   \n",
       "2               0.667331        0.678771                     0.304314   \n",
       "3               0.439252        0.804373                     0.596403   \n",
       "4               0.386504        0.749067                     0.553056   \n",
       "\n",
       "   answer_plausible  answer_relevance  answer_satisfaction  \\\n",
       "0          0.779299          0.738042             0.323386   \n",
       "1          0.847640          0.917800             0.571543   \n",
       "2          0.859471          0.851207             0.466306   \n",
       "3          0.869517          0.918579             0.649474   \n",
       "4          0.885397          0.882999             0.635982   \n",
       "\n",
       "   answer_type_instructions  answer_type_procedure  \\\n",
       "0                  0.018850               0.035214   \n",
       "1                  0.936475               0.196137   \n",
       "2                  0.046356               0.053576   \n",
       "3                  0.848649               0.335751   \n",
       "4                  0.219512               0.194548   \n",
       "\n",
       "   answer_type_reason_explanation  answer_well_written  \n",
       "0                        0.815299             0.651187  \n",
       "1                        0.044569             0.611213  \n",
       "2                        0.867011             0.590839  \n",
       "3                        0.638258             0.683632  \n",
       "4                        0.709846             0.590568  "
      ]
     },
     "execution_count": 21,
     "metadata": {},
     "output_type": "execute_result"
    }
   ],
   "source": [
    "sample_submission.head()"
   ]
  },
  {
   "cell_type": "code",
   "execution_count": 22,
   "metadata": {},
   "outputs": [],
   "source": [
    "pd.DataFrame(oofs, columns=TARGETS).to_csv(f'oofs/{model_name}_oofs.csv')"
   ]
  },
  {
   "cell_type": "code",
   "execution_count": 24,
   "metadata": {},
   "outputs": [
    {
     "data": {
      "text/html": [
       "<div>\n",
       "<style scoped>\n",
       "    .dataframe tbody tr th:only-of-type {\n",
       "        vertical-align: middle;\n",
       "    }\n",
       "\n",
       "    .dataframe tbody tr th {\n",
       "        vertical-align: top;\n",
       "    }\n",
       "\n",
       "    .dataframe thead th {\n",
       "        text-align: right;\n",
       "    }\n",
       "</style>\n",
       "<table border=\"1\" class=\"dataframe\">\n",
       "  <thead>\n",
       "    <tr style=\"text-align: right;\">\n",
       "      <th></th>\n",
       "      <th>SpearmanCorr</th>\n",
       "      <th>NUnique</th>\n",
       "    </tr>\n",
       "  </thead>\n",
       "  <tbody>\n",
       "    <tr>\n",
       "      <th>question_type_spelling</th>\n",
       "      <td>0.061499</td>\n",
       "      <td>3.0</td>\n",
       "    </tr>\n",
       "    <tr>\n",
       "      <th>question_not_really_a_question</th>\n",
       "      <td>0.087765</td>\n",
       "      <td>5.0</td>\n",
       "    </tr>\n",
       "    <tr>\n",
       "      <th>answer_plausible</th>\n",
       "      <td>0.135163</td>\n",
       "      <td>9.0</td>\n",
       "    </tr>\n",
       "    <tr>\n",
       "      <th>answer_relevance</th>\n",
       "      <td>0.164055</td>\n",
       "      <td>9.0</td>\n",
       "    </tr>\n",
       "    <tr>\n",
       "      <th>question_type_consequence</th>\n",
       "      <td>0.176557</td>\n",
       "      <td>5.0</td>\n",
       "    </tr>\n",
       "    <tr>\n",
       "      <th>answer_well_written</th>\n",
       "      <td>0.225050</td>\n",
       "      <td>9.0</td>\n",
       "    </tr>\n",
       "    <tr>\n",
       "      <th>answer_helpful</th>\n",
       "      <td>0.229894</td>\n",
       "      <td>9.0</td>\n",
       "    </tr>\n",
       "    <tr>\n",
       "      <th>question_expect_short_answer</th>\n",
       "      <td>0.300067</td>\n",
       "      <td>5.0</td>\n",
       "    </tr>\n",
       "    <tr>\n",
       "      <th>answer_type_procedure</th>\n",
       "      <td>0.307688</td>\n",
       "      <td>5.0</td>\n",
       "    </tr>\n",
       "    <tr>\n",
       "      <th>answer_satisfaction</th>\n",
       "      <td>0.333638</td>\n",
       "      <td>17.0</td>\n",
       "    </tr>\n",
       "    <tr>\n",
       "      <th>question_interestingness_others</th>\n",
       "      <td>0.351238</td>\n",
       "      <td>9.0</td>\n",
       "    </tr>\n",
       "    <tr>\n",
       "      <th>question_type_compare</th>\n",
       "      <td>0.351883</td>\n",
       "      <td>5.0</td>\n",
       "    </tr>\n",
       "    <tr>\n",
       "      <th>question_fact_seeking</th>\n",
       "      <td>0.353928</td>\n",
       "      <td>5.0</td>\n",
       "    </tr>\n",
       "    <tr>\n",
       "      <th>question_type_procedure</th>\n",
       "      <td>0.355887</td>\n",
       "      <td>5.0</td>\n",
       "    </tr>\n",
       "    <tr>\n",
       "      <th>question_type_definition</th>\n",
       "      <td>0.358113</td>\n",
       "      <td>5.0</td>\n",
       "    </tr>\n",
       "    <tr>\n",
       "      <th>question_asker_intent_understanding</th>\n",
       "      <td>0.382221</td>\n",
       "      <td>9.0</td>\n",
       "    </tr>\n",
       "    <tr>\n",
       "      <th>question_conversational</th>\n",
       "      <td>0.411600</td>\n",
       "      <td>5.0</td>\n",
       "    </tr>\n",
       "    <tr>\n",
       "      <th>question_has_commonly_accepted_answer</th>\n",
       "      <td>0.421051</td>\n",
       "      <td>5.0</td>\n",
       "    </tr>\n",
       "    <tr>\n",
       "      <th>answer_level_of_information</th>\n",
       "      <td>0.439034</td>\n",
       "      <td>9.0</td>\n",
       "    </tr>\n",
       "    <tr>\n",
       "      <th>question_type_entity</th>\n",
       "      <td>0.439166</td>\n",
       "      <td>5.0</td>\n",
       "    </tr>\n",
       "    <tr>\n",
       "      <th>question_opinion_seeking</th>\n",
       "      <td>0.462376</td>\n",
       "      <td>5.0</td>\n",
       "    </tr>\n",
       "    <tr>\n",
       "      <th>question_interestingness_self</th>\n",
       "      <td>0.505449</td>\n",
       "      <td>9.0</td>\n",
       "    </tr>\n",
       "    <tr>\n",
       "      <th>question_well_written</th>\n",
       "      <td>0.521697</td>\n",
       "      <td>9.0</td>\n",
       "    </tr>\n",
       "    <tr>\n",
       "      <th>question_multi_intent</th>\n",
       "      <td>0.577318</td>\n",
       "      <td>5.0</td>\n",
       "    </tr>\n",
       "    <tr>\n",
       "      <th>question_body_critical</th>\n",
       "      <td>0.659313</td>\n",
       "      <td>9.0</td>\n",
       "    </tr>\n",
       "    <tr>\n",
       "      <th>question_type_reason_explanation</th>\n",
       "      <td>0.663277</td>\n",
       "      <td>5.0</td>\n",
       "    </tr>\n",
       "    <tr>\n",
       "      <th>answer_type_reason_explanation</th>\n",
       "      <td>0.671415</td>\n",
       "      <td>5.0</td>\n",
       "    </tr>\n",
       "    <tr>\n",
       "      <th>question_type_choice</th>\n",
       "      <td>0.738793</td>\n",
       "      <td>5.0</td>\n",
       "    </tr>\n",
       "    <tr>\n",
       "      <th>answer_type_instructions</th>\n",
       "      <td>0.756094</td>\n",
       "      <td>5.0</td>\n",
       "    </tr>\n",
       "    <tr>\n",
       "      <th>question_type_instructions</th>\n",
       "      <td>0.777109</td>\n",
       "      <td>5.0</td>\n",
       "    </tr>\n",
       "  </tbody>\n",
       "</table>\n",
       "</div>"
      ],
      "text/plain": [
       "                                       SpearmanCorr  NUnique\n",
       "question_type_spelling                     0.061499      3.0\n",
       "question_not_really_a_question             0.087765      5.0\n",
       "answer_plausible                           0.135163      9.0\n",
       "answer_relevance                           0.164055      9.0\n",
       "question_type_consequence                  0.176557      5.0\n",
       "answer_well_written                        0.225050      9.0\n",
       "answer_helpful                             0.229894      9.0\n",
       "question_expect_short_answer               0.300067      5.0\n",
       "answer_type_procedure                      0.307688      5.0\n",
       "answer_satisfaction                        0.333638     17.0\n",
       "question_interestingness_others            0.351238      9.0\n",
       "question_type_compare                      0.351883      5.0\n",
       "question_fact_seeking                      0.353928      5.0\n",
       "question_type_procedure                    0.355887      5.0\n",
       "question_type_definition                   0.358113      5.0\n",
       "question_asker_intent_understanding        0.382221      9.0\n",
       "question_conversational                    0.411600      5.0\n",
       "question_has_commonly_accepted_answer      0.421051      5.0\n",
       "answer_level_of_information                0.439034      9.0\n",
       "question_type_entity                       0.439166      5.0\n",
       "question_opinion_seeking                   0.462376      5.0\n",
       "question_interestingness_self              0.505449      9.0\n",
       "question_well_written                      0.521697      9.0\n",
       "question_multi_intent                      0.577318      5.0\n",
       "question_body_critical                     0.659313      9.0\n",
       "question_type_reason_explanation           0.663277      5.0\n",
       "answer_type_reason_explanation             0.671415      5.0\n",
       "question_type_choice                       0.738793      5.0\n",
       "answer_type_instructions                   0.756094      5.0\n",
       "question_type_instructions                 0.777109      5.0"
      ]
     },
     "execution_count": 24,
     "metadata": {},
     "output_type": "execute_result"
    }
   ],
   "source": [
    "rs = pd.Series({col: spearmanr(oofs[:,i], y[:,i])[0] for i, col in enumerate(TARGETS)})\n",
    "rs_df = pd.DataFrame(np.vstack([rs.values.flatten(), train[TARGETS].nunique()]).T, \n",
    "                     columns=['SpearmanCorr', 'NUnique'], index=rs.index)\n",
    "rs_df.sort_values('SpearmanCorr', ascending=True)"
   ]
  },
  {
   "cell_type": "code",
   "execution_count": 25,
   "metadata": {},
   "outputs": [
    {
     "data": {
      "text/plain": [
       "Index(['question_type_spelling', 'question_not_really_a_question',\n",
       "       'answer_plausible', 'answer_relevance', 'question_type_consequence'],\n",
       "      dtype='object')"
      ]
     },
     "execution_count": 25,
     "metadata": {},
     "output_type": "execute_result"
    }
   ],
   "source": [
    "sorted_targets = rs_df.sort_values('SpearmanCorr', ascending=True).index\n",
    "worst_five_targets = sorted_targets[:5]\n",
    "worst_five_targets"
   ]
  },
  {
   "cell_type": "code",
   "execution_count": 26,
   "metadata": {},
   "outputs": [
    {
     "data": {
      "image/png": "[encoded data removed]",
      "text/plain": [
       "<Figure size 432x288 with 1 Axes>"
      ]
     },
     "metadata": {
      "needs_background": "light"
     },
     "output_type": "display_data"
    },
    {
     "data": {
      "image/png": "[encoded data removed]",
      "text/plain": [
       "<Figure size 432x288 with 1 Axes>"
      ]
     },
     "metadata": {
      "needs_background": "light"
     },
     "output_type": "display_data"
    },
    {
     "data": {
      "image/png": "[encoded data removed]",
      "text/plain": [
       "<Figure size 432x288 with 1 Axes>"
      ]
     },
     "metadata": {
      "needs_background": "light"
     },
     "output_type": "display_data"
    },
    {
     "data": {
      "image/png": "[encoded data removed]",
      "text/plain": [
       "<Figure size 432x288 with 1 Axes>"
      ]
     },
     "metadata": {
      "needs_background": "light"
     },
     "output_type": "display_data"
    },
    {
     "data": {
      "image/png": "[encoded data removed]",
      "text/plain": [
       "<Figure size 432x288 with 1 Axes>"
      ]
     },
     "metadata": {
      "needs_background": "light"
     },
     "output_type": "display_data"
    }
   ],
   "source": [
    "for col in worst_five_targets:\n",
    "    plt.figure()\n",
    "    train[col].hist()\n",
    "    plt.title(f'{col} {np.round(rs[col],3)}')"
   ]
  },
  {
   "cell_type": "code",
   "execution_count": 27,
   "metadata": {},
   "outputs": [
    {
     "name": "stderr",
     "output_type": "stream",
     "text": [
      "/home/robin/anaconda3/envs/GoogleQuest/lib/python3.7/site-packages/ipykernel_launcher.py:2: RuntimeWarning: More than 20 figures have been opened. Figures created through the pyplot interface (`matplotlib.pyplot.figure`) are retained until explicitly closed and may consume too much memory. (To control this warning, see the rcParam `figure.max_open_warning`).\n",
      "  \n"
     ]
    },
    {
     "data": {
      "image/png": "[encoded data removed]",
      "text/plain": [
       "<Figure size 432x288 with 1 Axes>"
      ]
     },
     "metadata": {
      "needs_background": "light"
     },
     "output_type": "display_data"
    },
    {
     "data": {
      "image/png": "[encoded data removed]",
      "text/plain": [
       "<Figure size 432x288 with 1 Axes>"
      ]
     },
     "metadata": {
      "needs_background": "light"
     },
     "output_type": "display_data"
    },
    {
     "data": {
      "image/png": "[encoded data removed]",
      "text/plain": [
       "<Figure size 432x288 with 1 Axes>"
      ]
     },
     "metadata": {
      "needs_background": "light"
     },
     "output_type": "display_data"
    },
    {
     "data": {
      "image/png": "[encoded data removed]",
      "text/plain": [
       "<Figure size 432x288 with 1 Axes>"
      ]
     },
     "metadata": {
      "needs_background": "light"
     },
     "output_type": "display_data"
    },
    {
     "data": {
      "image/png": "[encoded data removed]",
      "text/plain": [
       "<Figure size 432x288 with 1 Axes>"
      ]
     },
     "metadata": {
      "needs_background": "light"
     },
     "output_type": "display_data"
    },
    {
     "data": {
      "image/png": "[encoded data removed]",
      "text/plain": [
       "<Figure size 432x288 with 1 Axes>"
      ]
     },
     "metadata": {
      "needs_background": "light"
     },
     "output_type": "display_data"
    },
    {
     "data": {
      "image/png": "[encoded data removed]",
      "text/plain": [
       "<Figure size 432x288 with 1 Axes>"
      ]
     },
     "metadata": {
      "needs_background": "light"
     },
     "output_type": "display_data"
    },
    {
     "data": {
      "image/png": "[encoded data removed]",
      "text/plain": [
       "<Figure size 432x288 with 1 Axes>"
      ]
     },
     "metadata": {
      "needs_background": "light"
     },
     "output_type": "display_data"
    },
    {
     "data": {
      "image/png": "[encoded data removed]",
      "text/plain": [
       "<Figure size 432x288 with 1 Axes>"
      ]
     },
     "metadata": {
      "needs_background": "light"
     },
     "output_type": "display_data"
    },
    {
     "data": {
      "image/png": "[encoded data removed]",
      "text/plain": [
       "<Figure size 432x288 with 1 Axes>"
      ]
     },
     "metadata": {
      "needs_background": "light"
     },
     "output_type": "display_data"
    },
    {
     "data": {
      "image/png": "[encoded data removed]",
      "text/plain": [
       "<Figure size 432x288 with 1 Axes>"
      ]
     },
     "metadata": {
      "needs_background": "light"
     },
     "output_type": "display_data"
    },
    {
     "data": {
      "image/png": "[encoded data removed]",
      "text/plain": [
       "<Figure size 432x288 with 1 Axes>"
      ]
     },
     "metadata": {
      "needs_background": "light"
     },
     "output_type": "display_data"
    },
    {
     "data": {
      "image/png": "[encoded data removed]",
      "text/plain": [
       "<Figure size 432x288 with 1 Axes>"
      ]
     },
     "metadata": {
      "needs_background": "light"
     },
     "output_type": "display_data"
    },
    {
     "data": {
      "image/png": "[encoded data removed]",
      "text/plain": [
       "<Figure size 432x288 with 1 Axes>"
      ]
     },
     "metadata": {
      "needs_background": "light"
     },
     "output_type": "display_data"
    },
    {
     "data": {
      "image/png": "[encoded data removed]",
      "text/plain": [
       "<Figure size 432x288 with 1 Axes>"
      ]
     },
     "metadata": {
      "needs_background": "light"
     },
     "output_type": "display_data"
    },
    {
     "data": {
      "image/png": "[encoded data removed]",
      "text/plain": [
       "<Figure size 432x288 with 1 Axes>"
      ]
     },
     "metadata": {
      "needs_background": "light"
     },
     "output_type": "display_data"
    },
    {
     "data": {
      "image/png": "[encoded data removed]",
      "text/plain": [
       "<Figure size 432x288 with 1 Axes>"
      ]
     },
     "metadata": {
      "needs_background": "light"
     },
     "output_type": "display_data"
    },
    {
     "data": {
      "image/png": "[encoded data removed]",
      "text/plain": [
       "<Figure size 432x288 with 1 Axes>"
      ]
     },
     "metadata": {
      "needs_background": "light"
     },
     "output_type": "display_data"
    },
    {
     "data": {
      "image/png": "[encoded data removed]",
      "text/plain": [
       "<Figure size 432x288 with 1 Axes>"
      ]
     },
     "metadata": {
      "needs_background": "light"
     },
     "output_type": "display_data"
    },
    {
     "data": {
      "image/png": "[encoded data removed]",
      "text/plain": [
       "<Figure size 432x288 with 1 Axes>"
      ]
     },
     "metadata": {
      "needs_background": "light"
     },
     "output_type": "display_data"
    },
    {
     "data": {
      "image/png": "[encoded data removed]",
      "text/plain": [
       "<Figure size 432x288 with 1 Axes>"
      ]
     },
     "metadata": {
      "needs_background": "light"
     },
     "output_type": "display_data"
    },
    {
     "data": {
      "image/png": "[encoded data removed]",
      "text/plain": [
       "<Figure size 432x288 with 1 Axes>"
      ]
     },
     "metadata": {
      "needs_background": "light"
     },
     "output_type": "display_data"
    },
    {
     "data": {
      "image/png": "[encoded data removed]",
      "text/plain": [
       "<Figure size 432x288 with 1 Axes>"
      ]
     },
     "metadata": {
      "needs_background": "light"
     },
     "output_type": "display_data"
    },
    {
     "data": {
      "image/png": "[encoded data removed]",
      "text/plain": [
       "<Figure size 432x288 with 1 Axes>"
      ]
     },
     "metadata": {
      "needs_background": "light"
     },
     "output_type": "display_data"
    },
    {
     "data": {
      "image/png": "[encoded data removed]",
      "text/plain": [
       "<Figure size 432x288 with 1 Axes>"
      ]
     },
     "metadata": {
      "needs_background": "light"
     },
     "output_type": "display_data"
    }
   ],
   "source": [
    "for col in [target for target in sorted_targets if target not in worst_five_targets]:\n",
    "    plt.figure()\n",
    "    train[col].hist()\n",
    "    plt.title(f'{col} {np.round(rs[col],3)}')"
   ]
  },
  {
   "cell_type": "code",
   "execution_count": 43,
   "metadata": {},
   "outputs": [
    {
     "data": {
      "text/plain": [
       "(18, 28)"
      ]
     },
     "execution_count": 43,
     "metadata": {},
     "output_type": "execute_result"
    }
   ],
   "source": [
    "t = 'reason_explanation'\n",
    "q_idx, a_idx = TARGETS.index(f'question_type_{t}'), TARGETS.index(f'answer_type_{t}')\n",
    "q_idx, a_idx"
   ]
  },
  {
   "cell_type": "code",
   "execution_count": 44,
   "metadata": {},
   "outputs": [
    {
     "data": {
      "text/plain": [
       "(0.6632769071097786, 0.6714154697460958)"
      ]
     },
     "execution_count": 44,
     "metadata": {},
     "output_type": "execute_result"
    }
   ],
   "source": [
    "spearmanr(oofs[:,q_idx], y[:,q_idx])[0], spearmanr(oofs[:,a_idx], y[:,a_idx])[0]"
   ]
  },
  {
   "cell_type": "code",
   "execution_count": 49,
   "metadata": {},
   "outputs": [
    {
     "data": {
      "text/plain": [
       "(0.6327367934425631, 0.6451087874747531)"
      ]
     },
     "execution_count": 49,
     "metadata": {},
     "output_type": "execute_result"
    }
   ],
   "source": [
    "spearmanr(oofs[:,q_idx]+oofs[:,a_idx], y[:,q_idx])[0], spearmanr(oofs[:,q_idx]+oofs[:,a_idx], y[:,a_idx])[0]"
   ]
  },
  {
   "cell_type": "code",
   "execution_count": null,
   "metadata": {},
   "outputs": [],
   "source": []
  }
 ],
 "metadata": {
  "kernelspec": {
   "display_name": "Python 3",
   "language": "python",
   "name": "python3"
  },
  "language_info": {
   "codemirror_mode": {
    "name": "ipython",
    "version": 3
   },
   "file_extension": ".py",
   "mimetype": "text/x-python",
   "name": "python",
   "nbconvert_exporter": "python",
   "pygments_lexer": "ipython3",
   "version": "3.7.5"
  }
 },
 "nbformat": 4,
 "nbformat_minor": 1
}
